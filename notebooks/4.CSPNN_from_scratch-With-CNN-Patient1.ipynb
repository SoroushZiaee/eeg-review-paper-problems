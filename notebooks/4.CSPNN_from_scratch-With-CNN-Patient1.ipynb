{
 "cells": [
  {
   "cell_type": "code",
   "execution_count": null,
   "id": "4bf2c92b-4245-4af8-99c4-6aef21d24ddb",
   "metadata": {},
   "outputs": [],
   "source": [
    "!pip install nb-black"
   ]
  },
  {
   "cell_type": "code",
   "execution_count": 1,
   "id": "3be9923b-6606-4653-b1e7-f1541bf289ee",
   "metadata": {},
   "outputs": [],
   "source": [
    "%config Completer.use_jedi = False\n",
    "%load_ext autoreload\n",
    "# %reload_ext autoreload\n",
    "%autoreload 2\n",
    "%load_ext lab_black"
   ]
  },
  {
   "cell_type": "code",
   "execution_count": 2,
   "id": "c30519aa-cc5c-4a2a-9e92-47d774a41d45",
   "metadata": {},
   "outputs": [],
   "source": [
    "import sys\n",
    "\n",
    "sys.path.insert(0, \"../\")"
   ]
  },
  {
   "cell_type": "markdown",
   "id": "2f60011c-a3e7-42c1-b150-559c77e529d4",
   "metadata": {},
   "source": [
    "## Dataset"
   ]
  },
  {
   "cell_type": "code",
   "execution_count": 5,
   "id": "6cccc8b8-caeb-43db-858f-998a2fefc7e9",
   "metadata": {},
   "outputs": [],
   "source": [
    "import os\n",
    "from typing import Dict, List, Tuple, Any, Union, Callable\n",
    "from torch import Tensor\n",
    "import torch\n",
    "import numpy as np\n",
    "import scipy\n",
    "from torch.utils.data import DataLoader\n",
    "from pytorch_lightning.utilities.apply_func import apply_to_collection\n",
    "from cspnn.data.bci.bci_dataset import BCI2aDataset\n",
    "from cspnn.data.utils import eeg_electrode_configs"
   ]
  },
  {
   "cell_type": "code",
   "execution_count": 6,
   "id": "9a716bcf-61fe-41cc-b946-ea462962a0ed",
   "metadata": {
    "tags": []
   },
   "outputs": [],
   "source": [
    "class ToTensor:\n",
    "    def __init__(self, device):\n",
    "        if isinstance(device, str):\n",
    "            device = torch.device(device)\n",
    "        self.device = device\n",
    "\n",
    "    def __call__(self, data, label):\n",
    "        data = apply_to_collection(\n",
    "            data,\n",
    "            dtype=(np.ndarray, int, float, np.int64),\n",
    "            function=lambda a: torch.from_numpy(a),\n",
    "        )\n",
    "        label = apply_to_collection(\n",
    "            label,\n",
    "            dtype=(np.ndarray, int, float, np.int64),\n",
    "            function=lambda a: torch.tensor(a, dtype=torch.float64),\n",
    "        )\n",
    "\n",
    "        return data, label\n",
    "\n",
    "\n",
    "class ToNumpy:\n",
    "    def __call__(self, data, label):\n",
    "        data = apply_to_collection(\n",
    "            data,\n",
    "            dtype=(np.ndarray, int, float, np.int64),\n",
    "            function=lambda a: a.cpu().detach().numpy(),\n",
    "        )\n",
    "        label = apply_to_collection(\n",
    "            label,\n",
    "            dtype=(np.ndarray, int, float, np.int64),\n",
    "            function=lambda a: a.cpu().detach().numpy(),\n",
    "        )\n",
    "\n",
    "        return data, label\n",
    "\n",
    "\n",
    "class DictToTensor:\n",
    "    def __call__(self, data: Dict[str, Tensor], label):\n",
    "        # The output shape [batch, channel, signal]\n",
    "        return (\n",
    "            torch.permute(\n",
    "                torch.vstack(list(map(lambda a: a.unsqueeze(0), data.values()))),\n",
    "                (1, 0, 2),\n",
    "            ),\n",
    "            label,\n",
    "        )\n",
    "\n",
    "\n",
    "class DictToArray:\n",
    "    def __call__(self, data, label):\n",
    "        # The output shape [batch, channel, signal]\n",
    "        return (\n",
    "            np.transpose(\n",
    "                np.vstack(\n",
    "                    list(map(lambda a: np.expand_dims(a, axis=0), data.values()))\n",
    "                ),\n",
    "                (1, 0, 2),\n",
    "            ),\n",
    "            label,\n",
    "        )\n",
    "\n",
    "\n",
    "class Windowing:\n",
    "    def __init__(self, n_segments: int = 5, sample_rate: float = 250.0):\n",
    "        self.n_segments = n_segments\n",
    "        self.sample_rate = sample_rate\n",
    "\n",
    "    # The Output of the signal is [batch, channels, windowed, band_filtered, signal]\n",
    "    def __call__(self, data: Tensor, label):\n",
    "        \"\"\"Takes as input a signal tensor of shape [batch, channels, band_filtered, signal]\n",
    "        and outputs a signal tensor of shape [batch, channels, windowed, band_filtered, signal]\n",
    "        \"\"\"\n",
    "        start, end = 0, data.size()[-1]\n",
    "        step = int((end - start) / self.n_segments)\n",
    "        windows = np.arange(start, end - step, step=step)\n",
    "\n",
    "        if len(windows) == 0:\n",
    "            data = data.unsqueeze(dim=2)\n",
    "            return data, label\n",
    "\n",
    "        windowed_data = torch.permute(\n",
    "            torch.stack(\n",
    "                [data[:, :, :, window : (window + step)] for window in windows], dim=0\n",
    "            ),\n",
    "            (1, 2, 0, 3, 4),\n",
    "        )\n",
    "\n",
    "        return windowed_data, label\n",
    "\n",
    "\n",
    "class Filtering:\n",
    "    def __init__(self, N: int, rs: float, Wns: List[float], bandwidth, fs: float):\n",
    "        self.N = N\n",
    "        self.rs = rs\n",
    "        self.Wns = Wns / (fs / 2)  # Normalize the signals\n",
    "        self.bandwidth = bandwidth / (fs / 2)  # Normalize the signals\n",
    "        self.fs = fs\n",
    "\n",
    "    # The Output of the signal is [batch, channels, band_filtered, signal]\n",
    "    def __call__(self, data, label):\n",
    "        filtered_data = []\n",
    "\n",
    "        for wn in self.Wns:\n",
    "            b, a = scipy.signal.cheby2(\n",
    "                N=self.N,\n",
    "                rs=self.rs,\n",
    "                Wn=[wn, wn + self.bandwidth],\n",
    "                btype=\"bandpass\",\n",
    "                fs=self.fs,\n",
    "            )\n",
    "            filtered_data.append(scipy.signal.filtfilt(b, a, data, axis=-1))\n",
    "\n",
    "        filtered_data = torch.permute(torch.Tensor(filtered_data), (1, 2, 0, 3))\n",
    "\n",
    "        return filtered_data, label\n",
    "\n",
    "\n",
    "class ExpandDim(object):\n",
    "    def __init__(self, dim):\n",
    "        self.dim = dim\n",
    "\n",
    "    def __call__(self, data, label):\n",
    "        return data.unsqueeze_(self.dim), label\n",
    "\n",
    "\n",
    "class LabelToDict:\n",
    "    def __call__(self, data, label):\n",
    "        return data, {\"label\": label}\n",
    "\n",
    "\n",
    "class ToNumpy:\n",
    "    def __call__(self, data, label):\n",
    "        return data.cpu().detach().numpy(), label.cpu().detach().numpy()\n",
    "\n",
    "\n",
    "class Compose:\n",
    "    def __init__(self, transforms: List[Callable]) -> None:\n",
    "        self.transforms = transforms\n",
    "\n",
    "    def __call__(self, data: Any, target: Any):\n",
    "        for t in self.transforms:\n",
    "            data, target = t(data, target)\n",
    "        return data, target\n",
    "\n",
    "    def __repr__(self):\n",
    "        return \"\\n\".join([c.__class__.__name__ for c in self.transforms])\n",
    "\n",
    "\n",
    "# TODO: complete this part\n",
    "from scipy.signal import cheby2, filtfilt\n",
    "\n",
    "\n",
    "def cheby_bandpass_filter(signal, attenuation, lowcut, highcut, fs, order=5):\n",
    "    nyq = 0.5 * fs\n",
    "    low = lowcut / nyq\n",
    "    high = highcut / nyq\n",
    "    b, a = cheby2(order, rs=attenuation, Wn=[low, high], btype=\"band\")\n",
    "    y = filtfilt(b, a, signal, axis=-1)\n",
    "    # print(\"filtered shape \", y.shape)\n",
    "    return y\n",
    "\n",
    "\n",
    "def cheby_bandpass_one_subject(\n",
    "    X, attenuation, lowcut, highcut, fs, interval=None, verbose=True\n",
    "):\n",
    "    temp_epoch_EEG = X.copy()\n",
    "    # print(f\"data shape : {temp_epoch_EEG.shape}\")\n",
    "\n",
    "    if interval is not None:\n",
    "        startband = np.arange(lowcut, highcut, step=interval)\n",
    "\n",
    "        bands = []\n",
    "        for start in startband:\n",
    "            # This will be new key inside the EEG_filtered\n",
    "            band = \"{:02d}_{:02d}\".format(start, start + interval)\n",
    "\n",
    "            if verbose:\n",
    "                print(\"Filtering through {} Hz band\".format(band))\n",
    "            # Bandpass filtering\n",
    "            bands.append(\n",
    "                cheby_bandpass_filter(\n",
    "                    temp_epoch_EEG, attenuation, start, start + interval, fs\n",
    "                )\n",
    "            )\n",
    "\n",
    "        return np.vstack(bands)\n",
    "\n",
    "    else:\n",
    "        # This will be new key inside the EEG_filtered\n",
    "        band = \"{:02d}_{:02d}\".format(lowcut, highcut)\n",
    "\n",
    "        return cheby_bandpass_filter(temp_epoch_EEG, attenuation, lowcut, highcut, fs)\n",
    "\n",
    "\n",
    "from functools import partial\n",
    "\n",
    "\n",
    "class BandPass:\n",
    "    def __init__(self, attenuation, lowcut, highcut, fs, interval=None):\n",
    "        self.attenuation = attenuation\n",
    "        self.lowcut = lowcut\n",
    "        self.highcut = highcut\n",
    "        self.fs = fs\n",
    "        self.interval = interval\n",
    "\n",
    "        self.bandpass_func = partial(\n",
    "            cheby_bandpass_one_subject,\n",
    "            attenuation=self.attenuation,\n",
    "            lowcut=self.lowcut,\n",
    "            highcut=self.highcut,\n",
    "            fs=self.fs,\n",
    "            interval=self.interval,\n",
    "            verbose=False,\n",
    "        )\n",
    "\n",
    "    # The Output of the signal is [batch, channels, band_filtered, signal]\n",
    "    def __call__(self, data, label):\n",
    "        filtered_data = data = apply_to_collection(\n",
    "            data,\n",
    "            dtype=(np.ndarray, int, float, np.int64, Tensor),\n",
    "            function=self.bandpass_func,\n",
    "        )\n",
    "\n",
    "        filtered_data = np.expand_dims(filtered_data.transpose(1, 0, 2), axis=0)\n",
    "\n",
    "        return filtered_data, label"
   ]
  },
  {
   "cell_type": "code",
   "execution_count": 8,
   "id": "97c1ca1c-3ee5-439d-be82-523e85faf35c",
   "metadata": {},
   "outputs": [],
   "source": [
    "directory = \"../test_data\"\n",
    "electrod_positions, shape = eeg_electrode_configs(\n",
    "    \"../configs/eeg_recording_standard/international_10_20_22.py\"\n",
    ")\n",
    "if not os.path.exists(directory):\n",
    "    os.makedirs(directory)\n",
    "\n",
    "\n",
    "fs = 250\n",
    "low_freq = 4\n",
    "high_freq = 38\n",
    "bandwidth = 4\n",
    "overlap = 2\n",
    "\n",
    "freqs = np.arange(low_freq, high_freq - (bandwidth - overlap), overlap)\n",
    "\n",
    "lowcut = 4\n",
    "highcut = 40\n",
    "fs = 250\n",
    "attenuation = 40\n",
    "interval = 4\n",
    "\n",
    "transforms = [\n",
    "    ToTensor(device=\"cuda\"),\n",
    "    DictToTensor(),\n",
    "    # ToNumpy(),\n",
    "    # BandPass(\n",
    "    #     attenuation=attenuation,\n",
    "    #     lowcut=lowcut,\n",
    "    #     highcut=highcut,\n",
    "    #     fs=fs,\n",
    "    #     interval=interval,\n",
    "    # ),\n",
    "    # ToTensor(device=\"cpu\"),\n",
    "    # Filtering(N=4, rs=40, Wns=freqs, bandwidth=bandwidth, fs=fs),\n",
    "    ExpandDim(dim=2),\n",
    "    ExpandDim(dim=2),\n",
    "    # Windowing(n_segments=1),\n",
    "    LabelToDict(),\n",
    "]\n",
    "compose = Compose(transforms=transforms)\n",
    "\n",
    "ds = BCI2aDataset(\n",
    "    eeg_electrode_positions=electrod_positions,\n",
    "    data_path=directory,\n",
    "    transforms=compose,\n",
    "    patients=[1],\n",
    "    in_mem=True,\n",
    ")"
   ]
  },
  {
   "cell_type": "code",
   "execution_count": 9,
   "id": "b8e39c04-9b10-422c-a83b-b680b3bfea28",
   "metadata": {
    "tags": []
   },
   "outputs": [
    {
     "name": "stdout",
     "output_type": "stream",
     "text": [
      "tensor(-22.1658, dtype=torch.float64) tensor(18.0601, dtype=torch.float64)\n",
      "torch.Size([1, 22, 1, 1, 1001])\n"
     ]
    }
   ],
   "source": [
    "for i in range(len(ds)):\n",
    "    wave, label = ds[i]\n",
    "    print(wave.min(), wave.max())\n",
    "    print(wave.shape)\n",
    "    if np.isnan(wave).any() or np.isinf(wave).any():\n",
    "        print(f\"date {i} : has NAN or INF\")\n",
    "    break"
   ]
  },
  {
   "cell_type": "code",
   "execution_count": 10,
   "id": "f4beeb3f-3e2c-4a8d-93f9-f14b2d2bf155",
   "metadata": {},
   "outputs": [],
   "source": [
    "def collate_fn(batch):\n",
    "    imgs = torch.vstack([item[0] for item in batch])\n",
    "\n",
    "    trgts = {}\n",
    "    sample_item_label = batch[0][1]\n",
    "    for label_key in sample_item_label.keys():\n",
    "        if isinstance(sample_item_label[label_key], dict):\n",
    "            trgts[label_key] = {\n",
    "                key: torch.vstack([item[1][label_key][key].squeeze() for item in batch])\n",
    "                for key in sample_item_label[label_key].keys()\n",
    "            }\n",
    "        else:\n",
    "            trgts[label_key] = torch.vstack(\n",
    "                [item[1][label_key] for item in batch]\n",
    "            ).squeeze()\n",
    "\n",
    "    return [imgs, trgts]"
   ]
  },
  {
   "cell_type": "code",
   "execution_count": 11,
   "id": "05fd663e-d920-440d-932d-d2e225744a75",
   "metadata": {},
   "outputs": [],
   "source": [
    "batch_size = 32\n",
    "train_dataset, val_dataset = ds.get_train_test_subsets()\n",
    "\n",
    "train_dataloader = DataLoader(\n",
    "    train_dataset,\n",
    "    batch_size=batch_size,\n",
    "    shuffle=True,\n",
    "    collate_fn=collate_fn,\n",
    "    num_workers=os.cpu_count(),\n",
    ")\n",
    "\n",
    "\n",
    "val_dataloader = DataLoader(\n",
    "    val_dataset,\n",
    "    batch_size=batch_size,\n",
    "    collate_fn=collate_fn,\n",
    "    num_workers=os.cpu_count(),\n",
    ")"
   ]
  },
  {
   "cell_type": "markdown",
   "id": "296ac82d-6f53-45c3-87a3-af820ae9381e",
   "metadata": {},
   "source": [
    "## Model"
   ]
  },
  {
   "cell_type": "code",
   "execution_count": 12,
   "id": "d17aaf20-45a1-4345-97a8-b9c93a8b5fa3",
   "metadata": {},
   "outputs": [],
   "source": [
    "import torch\n",
    "import numpy as np\n",
    "import torch.nn as nn\n",
    "from cspnn.csp_nn import CSP, CSPNN"
   ]
  },
  {
   "cell_type": "code",
   "execution_count": 13,
   "id": "478a2bff-311f-4b26-a27c-b9b646712a4b",
   "metadata": {},
   "outputs": [],
   "source": [
    "import torch.optim as optim"
   ]
  },
  {
   "cell_type": "code",
   "execution_count": 14,
   "id": "1d94a4ce-32c0-4251-81b0-6fa1f1728165",
   "metadata": {},
   "outputs": [],
   "source": [
    "import numpy as np\n",
    "from sklearn.metrics import (\n",
    "    roc_auc_score,\n",
    "    precision_score,\n",
    "    recall_score,\n",
    "    accuracy_score,\n",
    "    cohen_kappa_score,\n",
    ")\n",
    "import torch\n",
    "import torch.nn as nn\n",
    "import torch.optim as optim\n",
    "from torch.autograd import Variable\n",
    "import torch.nn.functional as F\n",
    "import torch.optim as optim\n",
    "\n",
    "from tqdm import tqdm\n",
    "import random"
   ]
  },
  {
   "cell_type": "code",
   "execution_count": 17,
   "id": "4dc6f76e-493d-4193-b330-8ee365d02967",
   "metadata": {},
   "outputs": [],
   "source": [
    "class CSPNNCls(nn.Module):\n",
    "    def __init__(\n",
    "        self,\n",
    "        num_channels: int,\n",
    "        num_features: int = None,\n",
    "        num_bands: int = None,\n",
    "        num_windows: int = 1,\n",
    "        num_labels: int = None,\n",
    "        mode: str = \"constant\",\n",
    "    ):\n",
    "        super(CSPNNCls, self).__init__()\n",
    "        self.num_channels = num_channels\n",
    "        self.num_features = num_channels if num_features is None else num_features\n",
    "        self.num_bands = num_bands\n",
    "        self.num_windows = num_windows\n",
    "        self.num_labels = num_labels\n",
    "        self.mode = mode\n",
    "\n",
    "        self.conv1 = CSPNN(\n",
    "            num_channels=num_channels,\n",
    "            num_features=num_features,\n",
    "            num_bands=num_bands,\n",
    "            num_windows=num_windows,\n",
    "            num_labels=num_labels,\n",
    "            mode=self.mode,\n",
    "        )\n",
    "\n",
    "        conv2d_batch_out_channels_1 = 40\n",
    "\n",
    "        self.conv2d_1 = nn.Conv2d(\n",
    "            in_channels=1,\n",
    "            out_channels=conv2d_batch_out_channels_1,\n",
    "            kernel_size=(1, 1),\n",
    "            padding=\"same\",\n",
    "            stride=1,\n",
    "        )\n",
    "\n",
    "        self.batch_norm_1 = nn.BatchNorm2d(num_features=conv2d_batch_out_channels_1)\n",
    "\n",
    "        self.activation = nn.ReLU()\n",
    "\n",
    "        conv2d_batch_out_channels_2 = 40\n",
    "\n",
    "        self.conv2d_2 = nn.Conv2d(\n",
    "            in_channels=1,\n",
    "            out_channels=conv2d_batch_out_channels_2,\n",
    "            kernel_size=(1, 1),\n",
    "            padding=\"same\",\n",
    "            stride=1,\n",
    "        )\n",
    "\n",
    "        self.batch_norm_2 = nn.BatchNorm2d(num_features=conv2d_batch_out_channels_2)\n",
    "\n",
    "        self.flatten = nn.Flatten()\n",
    "\n",
    "        drop_out_1 = 0.3\n",
    "        self.drop_out_1 = nn.Dropout(p=drop_out_1)\n",
    "\n",
    "        self.fc1 = nn.Linear(3520, 40)\n",
    "\n",
    "        drop_out_2 = 0.2\n",
    "        self.drop_out_2 = nn.Dropout(p=drop_out_2)\n",
    "\n",
    "        self.fc2 = nn.Linear(40, 10)\n",
    "\n",
    "        self.fc = nn.Linear(10, 4)\n",
    "\n",
    "    def forward(self, x):\n",
    "        csp = self.conv1(x)\n",
    "\n",
    "        features = csp.reshape(\n",
    "            (\n",
    "                -1,\n",
    "                self.num_bands * self.num_windows * self.num_labels * self.num_features,\n",
    "            )\n",
    "        )\n",
    "\n",
    "        features = features.unsqueeze_(1)\n",
    "        features = features.unsqueeze_(-1)\n",
    "\n",
    "        x = self.conv2d_1(features)\n",
    "        x = self.batch_norm_1(x)\n",
    "        x = self.activation(x)\n",
    "\n",
    "        x = self.conv2d_2(features)\n",
    "        x = self.batch_norm_2(x)\n",
    "        x = self.activation(x)\n",
    "\n",
    "        x = self.flatten(x)\n",
    "\n",
    "        # print(f\"{x.size() = }\")\n",
    "\n",
    "        x = self.drop_out_1(x)\n",
    "        x = self.fc1(x)\n",
    "        x = self.activation(x)\n",
    "\n",
    "        x = self.drop_out_2(x)\n",
    "        x = self.fc2(x)\n",
    "        x = self.activation(x)\n",
    "\n",
    "        x = F.softmax(self.fc(x), dim=1)\n",
    "        if self.training:\n",
    "            return x, csp\n",
    "        return x\n",
    "\n",
    "\n",
    "net = CSPNNCls(\n",
    "    num_channels=22,\n",
    "    num_features=22,\n",
    "    num_bands=1,\n",
    "    num_windows=1,\n",
    "    num_labels=4,\n",
    "    mode=\"csp\",\n",
    ")\n",
    "# .cuda(0)\n",
    "cls_criterion = nn.CrossEntropyLoss()  # nn.BCELoss()\n",
    "# reg_criterion = nn.MSELoss()\n",
    "# optimizer = optim.Adam(net.parameters(), lr=0.001, weight_decay=0.00)\n",
    "optimizer = optim.SGD(\n",
    "    net.parameters(), lr=0.001, momentum=0.9, nesterov=True, weight_decay=0\n",
    ")\n",
    "\n",
    "# optimizer = optim.SGD(\n",
    "#     [\n",
    "#         {\"params\": net.conv1.parameters()},\n",
    "#         {\"params\": net.fc1.parameters(), \"weight_decay\": 5e-3},\n",
    "#         {\"params\": net.fc.parameters()},\n",
    "#     ],\n",
    "#     lr=0.001,\n",
    "#     momentum=0.9,\n",
    "#     nesterov=True,\n",
    "#     weight_decay=0,\n",
    "# )\n",
    "\n",
    "# lr_scheduler = torch.optim.lr_scheduler.OneCycleLR(\n",
    "#     optimizer, max_lr=0.1, steps_per_epoch=1, epochs=200\n",
    "# )\n",
    "lr_scheduler = torch.optim.lr_scheduler.StepLR(optimizer, step_size=200, gamma=0.1)"
   ]
  },
  {
   "cell_type": "code",
   "execution_count": 19,
   "id": "529a07ba-ee42-401a-b26c-53efb42fb326",
   "metadata": {},
   "outputs": [
    {
     "data": {
      "text/plain": [
       "(torch.Size([10, 4]), torch.Size([10, 4, 22]))"
      ]
     },
     "execution_count": 19,
     "metadata": {},
     "output_type": "execute_result"
    }
   ],
   "source": [
    "signals = torch.empty((10, 22, 1, 16, 769), dtype=torch.float32).random_(1, 50)\n",
    "# signals = signals.to(\"cuda\")\n",
    "a, b = net(signals)\n",
    "a.size(), b.size()"
   ]
  },
  {
   "cell_type": "markdown",
   "id": "88352a5d-2595-4daa-a411-4516c590949d",
   "metadata": {},
   "source": [
    "## Train Loop"
   ]
  },
  {
   "cell_type": "code",
   "execution_count": 24,
   "id": "76a8edb8-9677-47f7-8603-367429f03339",
   "metadata": {},
   "outputs": [],
   "source": [
    "net = net.cuda()\n",
    "# net = net.to(\"cuda\")\n",
    "# net"
   ]
  },
  {
   "cell_type": "code",
   "execution_count": 22,
   "id": "7cc495e2-621e-4554-8e93-099c2ac997ed",
   "metadata": {
    "tags": []
   },
   "outputs": [],
   "source": [
    "def evaluate(model, dl, params=[\"acc\"]):\n",
    "    model.eval()\n",
    "    results = []\n",
    "    predicted = []\n",
    "    Y = []\n",
    "\n",
    "    for batch in dl:\n",
    "        inputs, labels = batch\n",
    "        # inputs = torch.permute(\n",
    "        #     torch.vstack(list(map(lambda a: a.unsqueeze(0), inputs.values()))),\n",
    "        #     (1, 2, 3, 0),\n",
    "        # )\n",
    "        # wrap them in Variable\n",
    "        # inputs, labels = inputs.cuda(0), labels.type(torch.LongTensor).cuda(0)\n",
    "\n",
    "        pred = model(inputs.float().cuda(0))\n",
    "\n",
    "        predicted.append(pred.cpu().detach())\n",
    "        Y.append(labels[\"label\"].type(torch.LongTensor).cpu())\n",
    "\n",
    "    predicted = torch.cat(predicted, 0)\n",
    "    Y = torch.cat(Y, 0)\n",
    "\n",
    "    loss = cls_criterion(predicted, Y)\n",
    "\n",
    "    predicted = predicted.numpy()\n",
    "    Y = Y.numpy()\n",
    "\n",
    "    for param in params:\n",
    "        if param == \"acc\":\n",
    "            results.append(accuracy_score(Y, np.argmax(predicted, axis=1)))\n",
    "        if param == \"auc\":\n",
    "            results.append(roc_auc_score(Y, predicted, multi_class=\"ovr\"))\n",
    "        if param == \"kappa\":\n",
    "            results.append(cohen_kappa_score(Y, np.argmax(predicted, axis=1)))\n",
    "        if param == \"recall\":\n",
    "            results.append(\n",
    "                recall_score(Y, np.argmax(predicted, axis=1), average=\"micro\")\n",
    "            )\n",
    "        if param == \"precision\":\n",
    "            results.append(\n",
    "                precision_score(Y, np.argmax(predicted, axis=1), average=\"micro\")\n",
    "            )\n",
    "        if param == \"fmeasure\":\n",
    "            precision = precision_score(\n",
    "                Y, np.argmax(predicted, axis=1), average=\"micro\"\n",
    "            )\n",
    "            recall = recall_score(Y, np.argmax(predicted, axis=1), average=\"micro\")\n",
    "            results.append(2 * precision * recall / (precision + recall))\n",
    "\n",
    "    results.append(loss)\n",
    "    return results"
   ]
  },
  {
   "cell_type": "code",
   "execution_count": 25,
   "id": "ba450cc6-3030-44da-866a-2e2851688ffc",
   "metadata": {
    "scrolled": true,
    "tags": []
   },
   "outputs": [
    {
     "name": "stdout",
     "output_type": "stream",
     "text": [
      "\n",
      "Epoch  0\n"
     ]
    },
    {
     "name": "stderr",
     "output_type": "stream",
     "text": [
      "9it [00:00, 13.18it/s]"
     ]
    },
    {
     "name": "stdout",
     "output_type": "stream",
     "text": [
      "['acc', 'kappa', 'fmeasure', 'loss']\n",
      "Training Loss  1.3889193534851074\n"
     ]
    },
    {
     "name": "stderr",
     "output_type": "stream",
     "text": [
      "\n"
     ]
    },
    {
     "name": "stdout",
     "output_type": "stream",
     "text": [
      "Train -  [0.24305555555555555, -0.0092592592592593, 0.24305555555555555, tensor(1.3881)]\n",
      "Validation -  [0.2361111111111111, -0.0185185185185186, 0.2361111111111111, tensor(1.3883)]\n",
      "\n",
      "Epoch  1\n"
     ]
    },
    {
     "name": "stderr",
     "output_type": "stream",
     "text": [
      "9it [00:00, 18.07it/s]"
     ]
    },
    {
     "name": "stdout",
     "output_type": "stream",
     "text": [
      "['acc', 'kappa', 'fmeasure', 'loss']\n",
      "Training Loss  1.3879499700334337\n"
     ]
    },
    {
     "name": "stderr",
     "output_type": "stream",
     "text": [
      "\n"
     ]
    },
    {
     "name": "stdout",
     "output_type": "stream",
     "text": [
      "Train -  [0.21875, -0.04166666666666674, 0.21875, tensor(1.3882)]\n",
      "Validation -  [0.2152777777777778, -0.04629629629629628, 0.2152777777777778, tensor(1.3884)]\n",
      "\n",
      "Epoch  2\n"
     ]
    },
    {
     "name": "stderr",
     "output_type": "stream",
     "text": [
      "9it [00:00, 16.56it/s]"
     ]
    },
    {
     "name": "stdout",
     "output_type": "stream",
     "text": [
      "['acc', 'kappa', 'fmeasure', 'loss']\n",
      "Training Loss  1.3888564109802246\n"
     ]
    },
    {
     "name": "stderr",
     "output_type": "stream",
     "text": [
      "\n"
     ]
    },
    {
     "name": "stdout",
     "output_type": "stream",
     "text": [
      "Train -  [0.25, 0.0, 0.25, tensor(1.3881)]\n",
      "Validation -  [0.25, 0.0, 0.25, tensor(1.3883)]\n",
      "\n",
      "Epoch  3\n"
     ]
    },
    {
     "name": "stderr",
     "output_type": "stream",
     "text": [
      "9it [00:00, 15.70it/s]"
     ]
    },
    {
     "name": "stdout",
     "output_type": "stream",
     "text": [
      "['acc', 'kappa', 'fmeasure', 'loss']\n",
      "Training Loss  1.3891959057913885\n"
     ]
    },
    {
     "name": "stderr",
     "output_type": "stream",
     "text": [
      "\n"
     ]
    },
    {
     "name": "stdout",
     "output_type": "stream",
     "text": [
      "Train -  [0.25, 0.0, 0.25, tensor(1.3880)]\n",
      "Validation -  [0.2465277777777778, -0.004629629629629539, 0.2465277777777778, tensor(1.3883)]\n",
      "\n",
      "Epoch  4\n"
     ]
    },
    {
     "name": "stderr",
     "output_type": "stream",
     "text": [
      "9it [00:00, 15.52it/s]"
     ]
    },
    {
     "name": "stdout",
     "output_type": "stream",
     "text": [
      "['acc', 'kappa', 'fmeasure', 'loss']\n",
      "Training Loss  1.3879732025994196\n"
     ]
    },
    {
     "name": "stderr",
     "output_type": "stream",
     "text": [
      "\n"
     ]
    },
    {
     "name": "stdout",
     "output_type": "stream",
     "text": [
      "Train -  [0.25, 0.0, 0.25, tensor(1.3880)]\n",
      "Validation -  [0.2465277777777778, -0.004629629629629539, 0.2465277777777778, tensor(1.3882)]\n",
      "\n",
      "Epoch  5\n"
     ]
    },
    {
     "name": "stderr",
     "output_type": "stream",
     "text": [
      "9it [00:00, 16.96it/s]"
     ]
    },
    {
     "name": "stdout",
     "output_type": "stream",
     "text": [
      "['acc', 'kappa', 'fmeasure', 'loss']\n",
      "Training Loss  1.3882777955796983\n"
     ]
    },
    {
     "name": "stderr",
     "output_type": "stream",
     "text": [
      "\n"
     ]
    },
    {
     "name": "stdout",
     "output_type": "stream",
     "text": [
      "Train -  [0.3020833333333333, 0.06944444444444442, 0.3020833333333333, tensor(1.3881)]\n",
      "Validation -  [0.28125, 0.04166666666666663, 0.28125, tensor(1.3882)]\n",
      "\n",
      "Epoch  6\n"
     ]
    },
    {
     "name": "stderr",
     "output_type": "stream",
     "text": [
      "9it [00:00, 17.35it/s]"
     ]
    },
    {
     "name": "stdout",
     "output_type": "stream",
     "text": [
      "['acc', 'kappa', 'fmeasure', 'loss']\n",
      "Training Loss  1.3881196578343709\n"
     ]
    },
    {
     "name": "stderr",
     "output_type": "stream",
     "text": [
      "\n"
     ]
    },
    {
     "name": "stdout",
     "output_type": "stream",
     "text": [
      "Train -  [0.3090277777777778, 0.07870370370370372, 0.3090277777777778, tensor(1.3881)]\n",
      "Validation -  [0.3159722222222222, 0.08796296296296291, 0.3159722222222222, tensor(1.3882)]\n",
      "\n",
      "Epoch  7\n"
     ]
    },
    {
     "name": "stderr",
     "output_type": "stream",
     "text": [
      "9it [00:00, 17.03it/s]"
     ]
    },
    {
     "name": "stdout",
     "output_type": "stream",
     "text": [
      "['acc', 'kappa', 'fmeasure', 'loss']\n",
      "Training Loss  1.3882954120635986\n"
     ]
    },
    {
     "name": "stderr",
     "output_type": "stream",
     "text": [
      "\n"
     ]
    },
    {
     "name": "stdout",
     "output_type": "stream",
     "text": [
      "Train -  [0.2604166666666667, 0.01388888888888884, 0.2604166666666667, tensor(1.3880)]\n",
      "Validation -  [0.2534722222222222, 0.00462962962962965, 0.2534722222222222, tensor(1.3882)]\n",
      "\n",
      "Epoch  8\n"
     ]
    },
    {
     "name": "stderr",
     "output_type": "stream",
     "text": [
      "9it [00:00, 16.70it/s]"
     ]
    },
    {
     "name": "stdout",
     "output_type": "stream",
     "text": [
      "['acc', 'kappa', 'fmeasure', 'loss']\n",
      "Training Loss  1.3887366188897028\n"
     ]
    },
    {
     "name": "stderr",
     "output_type": "stream",
     "text": [
      "\n"
     ]
    },
    {
     "name": "stdout",
     "output_type": "stream",
     "text": [
      "Train -  [0.2604166666666667, 0.01388888888888884, 0.2604166666666667, tensor(1.3880)]\n",
      "Validation -  [0.2569444444444444, 0.0092592592592593, 0.2569444444444444, tensor(1.3881)]\n",
      "\n",
      "Epoch  9\n"
     ]
    },
    {
     "name": "stderr",
     "output_type": "stream",
     "text": [
      "9it [00:00, 15.34it/s]"
     ]
    },
    {
     "name": "stdout",
     "output_type": "stream",
     "text": [
      "['acc', 'kappa', 'fmeasure', 'loss']\n",
      "Training Loss  1.387839674949646\n"
     ]
    },
    {
     "name": "stderr",
     "output_type": "stream",
     "text": [
      "\n"
     ]
    },
    {
     "name": "stdout",
     "output_type": "stream",
     "text": [
      "Train -  [0.3298611111111111, 0.10648148148148151, 0.3298611111111111, tensor(1.3877)]\n",
      "Validation -  [0.3020833333333333, 0.06944444444444442, 0.3020833333333333, tensor(1.3880)]\n",
      "\n",
      "Epoch  10\n"
     ]
    },
    {
     "name": "stderr",
     "output_type": "stream",
     "text": [
      "9it [00:00, 15.45it/s]"
     ]
    },
    {
     "name": "stdout",
     "output_type": "stream",
     "text": [
      "['acc', 'kappa', 'fmeasure', 'loss']\n",
      "Training Loss  1.3877630101309881\n"
     ]
    },
    {
     "name": "stderr",
     "output_type": "stream",
     "text": [
      "\n"
     ]
    },
    {
     "name": "stdout",
     "output_type": "stream",
     "text": [
      "Train -  [0.3819444444444444, 0.17592592592592593, 0.3819444444444445, tensor(1.3875)]\n",
      "Validation -  [0.2916666666666667, 0.05555555555555558, 0.2916666666666667, tensor(1.3878)]\n",
      "\n",
      "Epoch  11\n"
     ]
    },
    {
     "name": "stderr",
     "output_type": "stream",
     "text": [
      "9it [00:00, 13.45it/s]"
     ]
    },
    {
     "name": "stdout",
     "output_type": "stream",
     "text": [
      "['acc', 'kappa', 'fmeasure', 'loss']\n",
      "Training Loss  1.3883302741580539\n"
     ]
    },
    {
     "name": "stderr",
     "output_type": "stream",
     "text": [
      "\n"
     ]
    },
    {
     "name": "stdout",
     "output_type": "stream",
     "text": [
      "Train -  [0.3263888888888889, 0.10185185185185186, 0.3263888888888889, tensor(1.3873)]\n",
      "Validation -  [0.3090277777777778, 0.07870370370370372, 0.3090277777777778, tensor(1.3876)]\n",
      "\n",
      "Epoch  12\n"
     ]
    },
    {
     "name": "stderr",
     "output_type": "stream",
     "text": [
      "9it [00:00, 15.86it/s]"
     ]
    },
    {
     "name": "stdout",
     "output_type": "stream",
     "text": [
      "['acc', 'kappa', 'fmeasure', 'loss']\n",
      "Training Loss  1.3871108161078558\n"
     ]
    },
    {
     "name": "stderr",
     "output_type": "stream",
     "text": [
      "\n"
     ]
    },
    {
     "name": "stdout",
     "output_type": "stream",
     "text": [
      "Train -  [0.3680555555555556, 0.15740740740740744, 0.36805555555555564, tensor(1.3872)]\n",
      "Validation -  [0.3229166666666667, 0.09722222222222221, 0.3229166666666667, tensor(1.3875)]\n",
      "\n",
      "Epoch  13\n"
     ]
    },
    {
     "name": "stderr",
     "output_type": "stream",
     "text": [
      "9it [00:00, 17.79it/s]"
     ]
    },
    {
     "name": "stdout",
     "output_type": "stream",
     "text": [
      "['acc', 'kappa', 'fmeasure', 'loss']\n",
      "Training Loss  1.3873825073242188\n"
     ]
    },
    {
     "name": "stderr",
     "output_type": "stream",
     "text": [
      "\n"
     ]
    },
    {
     "name": "stdout",
     "output_type": "stream",
     "text": [
      "Train -  [0.3402777777777778, 0.12037037037037035, 0.3402777777777778, tensor(1.3872)]\n",
      "Validation -  [0.3402777777777778, 0.12037037037037035, 0.3402777777777778, tensor(1.3874)]\n",
      "\n",
      "Epoch  14\n"
     ]
    },
    {
     "name": "stderr",
     "output_type": "stream",
     "text": [
      "9it [00:00, 16.57it/s]"
     ]
    },
    {
     "name": "stdout",
     "output_type": "stream",
     "text": [
      "['acc', 'kappa', 'fmeasure', 'loss']\n",
      "Training Loss  1.386968904071384\n"
     ]
    },
    {
     "name": "stderr",
     "output_type": "stream",
     "text": [
      "\n"
     ]
    },
    {
     "name": "stdout",
     "output_type": "stream",
     "text": [
      "Train -  [0.2569444444444444, 0.0092592592592593, 0.2569444444444444, tensor(1.3871)]\n",
      "Validation -  [0.2777777777777778, 0.03703703703703709, 0.2777777777777778, tensor(1.3874)]\n",
      "\n",
      "Epoch  15\n"
     ]
    },
    {
     "name": "stderr",
     "output_type": "stream",
     "text": [
      "9it [00:00, 12.88it/s]"
     ]
    },
    {
     "name": "stdout",
     "output_type": "stream",
     "text": [
      "['acc', 'kappa', 'fmeasure', 'loss']\n",
      "Training Loss  1.387112922138638\n"
     ]
    },
    {
     "name": "stderr",
     "output_type": "stream",
     "text": [
      "\n"
     ]
    },
    {
     "name": "stdout",
     "output_type": "stream",
     "text": [
      "Train -  [0.2534722222222222, 0.00462962962962965, 0.2534722222222222, tensor(1.3871)]\n",
      "Validation -  [0.2569444444444444, 0.0092592592592593, 0.2569444444444444, tensor(1.3874)]\n",
      "\n",
      "Epoch  16\n"
     ]
    },
    {
     "name": "stderr",
     "output_type": "stream",
     "text": [
      "9it [00:00, 18.77it/s]"
     ]
    },
    {
     "name": "stdout",
     "output_type": "stream",
     "text": [
      "['acc', 'kappa', 'fmeasure', 'loss']\n",
      "Training Loss  1.3876779874165852\n"
     ]
    },
    {
     "name": "stderr",
     "output_type": "stream",
     "text": [
      "\n"
     ]
    },
    {
     "name": "stdout",
     "output_type": "stream",
     "text": [
      "Train -  [0.25, 0.0, 0.25, tensor(1.3870)]\n",
      "Validation -  [0.2465277777777778, -0.004629629629629539, 0.2465277777777778, tensor(1.3873)]\n",
      "\n",
      "Epoch  17\n"
     ]
    },
    {
     "name": "stderr",
     "output_type": "stream",
     "text": [
      "9it [00:00, 17.17it/s]"
     ]
    },
    {
     "name": "stdout",
     "output_type": "stream",
     "text": [
      "['acc', 'kappa', 'fmeasure', 'loss']\n",
      "Training Loss  1.3864828613069322\n"
     ]
    },
    {
     "name": "stderr",
     "output_type": "stream",
     "text": [
      "\n"
     ]
    },
    {
     "name": "stdout",
     "output_type": "stream",
     "text": [
      "Train -  [0.25, 0.0, 0.25, tensor(1.3868)]\n",
      "Validation -  [0.2465277777777778, -0.004629629629629539, 0.2465277777777778, tensor(1.3872)]\n",
      "\n",
      "Epoch  18\n"
     ]
    },
    {
     "name": "stderr",
     "output_type": "stream",
     "text": [
      "9it [00:00, 15.38it/s]"
     ]
    },
    {
     "name": "stdout",
     "output_type": "stream",
     "text": [
      "['acc', 'kappa', 'fmeasure', 'loss']\n",
      "Training Loss  1.385845250553555\n"
     ]
    },
    {
     "name": "stderr",
     "output_type": "stream",
     "text": [
      "\n"
     ]
    },
    {
     "name": "stdout",
     "output_type": "stream",
     "text": [
      "Train -  [0.25, 0.0, 0.25, tensor(1.3865)]\n",
      "Validation -  [0.2465277777777778, -0.004629629629629539, 0.2465277777777778, tensor(1.3870)]\n",
      "\n",
      "Epoch  19\n"
     ]
    },
    {
     "name": "stderr",
     "output_type": "stream",
     "text": [
      "9it [00:00, 14.87it/s]"
     ]
    },
    {
     "name": "stdout",
     "output_type": "stream",
     "text": [
      "['acc', 'kappa', 'fmeasure', 'loss']\n",
      "Training Loss  1.3874999814563327\n"
     ]
    },
    {
     "name": "stderr",
     "output_type": "stream",
     "text": [
      "\n"
     ]
    },
    {
     "name": "stdout",
     "output_type": "stream",
     "text": [
      "Train -  [0.25, 0.0, 0.25, tensor(1.3863)]\n",
      "Validation -  [0.2465277777777778, -0.004629629629629539, 0.2465277777777778, tensor(1.3867)]\n",
      "\n",
      "Epoch  20\n"
     ]
    },
    {
     "name": "stderr",
     "output_type": "stream",
     "text": [
      "9it [00:00, 17.06it/s]"
     ]
    },
    {
     "name": "stdout",
     "output_type": "stream",
     "text": [
      "['acc', 'kappa', 'fmeasure', 'loss']\n",
      "Training Loss  1.386360724767049\n"
     ]
    },
    {
     "name": "stderr",
     "output_type": "stream",
     "text": [
      "\n"
     ]
    },
    {
     "name": "stdout",
     "output_type": "stream",
     "text": [
      "Train -  [0.25, 0.0, 0.25, tensor(1.3862)]\n",
      "Validation -  [0.2465277777777778, -0.004629629629629539, 0.2465277777777778, tensor(1.3866)]\n",
      "\n",
      "Epoch  21\n"
     ]
    },
    {
     "name": "stderr",
     "output_type": "stream",
     "text": [
      "9it [00:00, 18.76it/s]"
     ]
    },
    {
     "name": "stdout",
     "output_type": "stream",
     "text": [
      "['acc', 'kappa', 'fmeasure', 'loss']\n",
      "Training Loss  1.3858823378880818\n"
     ]
    },
    {
     "name": "stderr",
     "output_type": "stream",
     "text": [
      "\n"
     ]
    },
    {
     "name": "stdout",
     "output_type": "stream",
     "text": [
      "Train -  [0.25, 0.0, 0.25, tensor(1.3860)]\n",
      "Validation -  [0.2534722222222222, 0.00462962962962965, 0.2534722222222222, tensor(1.3864)]\n",
      "\n",
      "Epoch  22\n"
     ]
    },
    {
     "name": "stderr",
     "output_type": "stream",
     "text": [
      "9it [00:00, 16.40it/s]"
     ]
    },
    {
     "name": "stdout",
     "output_type": "stream",
     "text": [
      "['acc', 'kappa', 'fmeasure', 'loss']\n",
      "Training Loss  1.3854936096403334\n"
     ]
    },
    {
     "name": "stderr",
     "output_type": "stream",
     "text": [
      "\n"
     ]
    },
    {
     "name": "stdout",
     "output_type": "stream",
     "text": [
      "Train -  [0.2569444444444444, 0.0092592592592593, 0.2569444444444444, tensor(1.3858)]\n",
      "Validation -  [0.2638888888888889, 0.01851851851851849, 0.2638888888888889, tensor(1.3862)]\n",
      "\n",
      "Epoch  23\n"
     ]
    },
    {
     "name": "stderr",
     "output_type": "stream",
     "text": [
      "9it [00:00, 16.62it/s]"
     ]
    },
    {
     "name": "stdout",
     "output_type": "stream",
     "text": [
      "['acc', 'kappa', 'fmeasure', 'loss']\n",
      "Training Loss  1.3881215916739569\n"
     ]
    },
    {
     "name": "stderr",
     "output_type": "stream",
     "text": [
      "\n"
     ]
    },
    {
     "name": "stdout",
     "output_type": "stream",
     "text": [
      "Train -  [0.2569444444444444, 0.0092592592592593, 0.2569444444444444, tensor(1.3856)]\n",
      "Validation -  [0.2534722222222222, 0.00462962962962965, 0.2534722222222222, tensor(1.3860)]\n",
      "\n",
      "Epoch  24\n"
     ]
    },
    {
     "name": "stderr",
     "output_type": "stream",
     "text": [
      "9it [00:00, 16.15it/s]"
     ]
    },
    {
     "name": "stdout",
     "output_type": "stream",
     "text": [
      "['acc', 'kappa', 'fmeasure', 'loss']\n",
      "Training Loss  1.3853955003950331\n"
     ]
    },
    {
     "name": "stderr",
     "output_type": "stream",
     "text": [
      "\n"
     ]
    },
    {
     "name": "stdout",
     "output_type": "stream",
     "text": [
      "Train -  [0.25, 0.0, 0.25, tensor(1.3853)]\n",
      "Validation -  [0.25, 0.0, 0.25, tensor(1.3858)]\n",
      "\n",
      "Epoch  25\n"
     ]
    },
    {
     "name": "stderr",
     "output_type": "stream",
     "text": [
      "9it [00:00, 16.07it/s]"
     ]
    },
    {
     "name": "stdout",
     "output_type": "stream",
     "text": [
      "['acc', 'kappa', 'fmeasure', 'loss']\n",
      "Training Loss  1.3863825135760837\n"
     ]
    },
    {
     "name": "stderr",
     "output_type": "stream",
     "text": [
      "\n"
     ]
    },
    {
     "name": "stdout",
     "output_type": "stream",
     "text": [
      "Train -  [0.25, 0.0, 0.25, tensor(1.3851)]\n",
      "Validation -  [0.2534722222222222, 0.00462962962962965, 0.2534722222222222, tensor(1.3855)]\n",
      "\n",
      "Epoch  26\n"
     ]
    },
    {
     "name": "stderr",
     "output_type": "stream",
     "text": [
      "9it [00:00, 15.81it/s]"
     ]
    },
    {
     "name": "stdout",
     "output_type": "stream",
     "text": [
      "['acc', 'kappa', 'fmeasure', 'loss']\n",
      "Training Loss  1.387139704492357\n"
     ]
    },
    {
     "name": "stderr",
     "output_type": "stream",
     "text": [
      "\n"
     ]
    },
    {
     "name": "stdout",
     "output_type": "stream",
     "text": [
      "Train -  [0.25, 0.0, 0.25, tensor(1.3850)]\n",
      "Validation -  [0.2465277777777778, -0.004629629629629539, 0.2465277777777778, tensor(1.3854)]\n",
      "\n",
      "Epoch  27\n"
     ]
    },
    {
     "name": "stderr",
     "output_type": "stream",
     "text": [
      "9it [00:00, 14.26it/s]"
     ]
    },
    {
     "name": "stdout",
     "output_type": "stream",
     "text": [
      "['acc', 'kappa', 'fmeasure', 'loss']\n",
      "Training Loss  1.3845916324191623\n"
     ]
    },
    {
     "name": "stderr",
     "output_type": "stream",
     "text": [
      "\n"
     ]
    },
    {
     "name": "stdout",
     "output_type": "stream",
     "text": [
      "Train -  [0.25, 0.0, 0.25, tensor(1.3849)]\n",
      "Validation -  [0.25, 0.0, 0.25, tensor(1.3853)]\n",
      "\n",
      "Epoch  28\n"
     ]
    },
    {
     "name": "stderr",
     "output_type": "stream",
     "text": [
      "9it [00:00, 18.63it/s]"
     ]
    },
    {
     "name": "stdout",
     "output_type": "stream",
     "text": [
      "['acc', 'kappa', 'fmeasure', 'loss']\n",
      "Training Loss  1.3856980270809598\n"
     ]
    },
    {
     "name": "stderr",
     "output_type": "stream",
     "text": [
      "\n"
     ]
    },
    {
     "name": "stdout",
     "output_type": "stream",
     "text": [
      "Train -  [0.25, 0.0, 0.25, tensor(1.3847)]\n",
      "Validation -  [0.2465277777777778, -0.004629629629629539, 0.2465277777777778, tensor(1.3850)]\n",
      "\n",
      "Epoch  29\n"
     ]
    },
    {
     "name": "stderr",
     "output_type": "stream",
     "text": [
      "9it [00:00, 16.05it/s]"
     ]
    },
    {
     "name": "stdout",
     "output_type": "stream",
     "text": [
      "['acc', 'kappa', 'fmeasure', 'loss']\n",
      "Training Loss  1.3863285647498236\n"
     ]
    },
    {
     "name": "stderr",
     "output_type": "stream",
     "text": [
      "\n"
     ]
    },
    {
     "name": "stdout",
     "output_type": "stream",
     "text": [
      "Train -  [0.25, 0.0, 0.25, tensor(1.3845)]\n",
      "Validation -  [0.2465277777777778, -0.004629629629629539, 0.2465277777777778, tensor(1.3849)]\n",
      "\n",
      "Epoch  30\n"
     ]
    },
    {
     "name": "stderr",
     "output_type": "stream",
     "text": [
      "9it [00:00, 15.25it/s]"
     ]
    },
    {
     "name": "stdout",
     "output_type": "stream",
     "text": [
      "['acc', 'kappa', 'fmeasure', 'loss']\n",
      "Training Loss  1.3857831690046523\n"
     ]
    },
    {
     "name": "stderr",
     "output_type": "stream",
     "text": [
      "\n"
     ]
    },
    {
     "name": "stdout",
     "output_type": "stream",
     "text": [
      "Train -  [0.25, 0.0, 0.25, tensor(1.3843)]\n",
      "Validation -  [0.2465277777777778, -0.004629629629629539, 0.2465277777777778, tensor(1.3846)]\n",
      "\n",
      "Epoch  31\n"
     ]
    },
    {
     "name": "stderr",
     "output_type": "stream",
     "text": [
      "9it [00:00, 18.60it/s]"
     ]
    },
    {
     "name": "stdout",
     "output_type": "stream",
     "text": [
      "['acc', 'kappa', 'fmeasure', 'loss']\n",
      "Training Loss  1.384881059328715\n"
     ]
    },
    {
     "name": "stderr",
     "output_type": "stream",
     "text": [
      "\n"
     ]
    },
    {
     "name": "stdout",
     "output_type": "stream",
     "text": [
      "Train -  [0.2534722222222222, 0.00462962962962965, 0.2534722222222222, tensor(1.3841)]\n",
      "Validation -  [0.25, 0.0, 0.25, tensor(1.3844)]\n",
      "\n",
      "Epoch  32\n"
     ]
    },
    {
     "name": "stderr",
     "output_type": "stream",
     "text": [
      "9it [00:00, 15.29it/s]"
     ]
    },
    {
     "name": "stdout",
     "output_type": "stream",
     "text": [
      "['acc', 'kappa', 'fmeasure', 'loss']\n",
      "Training Loss  1.3851990169949002\n"
     ]
    },
    {
     "name": "stderr",
     "output_type": "stream",
     "text": [
      "\n"
     ]
    },
    {
     "name": "stdout",
     "output_type": "stream",
     "text": [
      "Train -  [0.25, 0.0, 0.25, tensor(1.3839)]\n",
      "Validation -  [0.25, 0.0, 0.25, tensor(1.3842)]\n",
      "\n",
      "Epoch  33\n"
     ]
    },
    {
     "name": "stderr",
     "output_type": "stream",
     "text": [
      "9it [00:00, 15.58it/s]"
     ]
    },
    {
     "name": "stdout",
     "output_type": "stream",
     "text": [
      "['acc', 'kappa', 'fmeasure', 'loss']\n",
      "Training Loss  1.3845604128307767\n"
     ]
    },
    {
     "name": "stderr",
     "output_type": "stream",
     "text": [
      "\n"
     ]
    },
    {
     "name": "stdout",
     "output_type": "stream",
     "text": [
      "Train -  [0.25, 0.0, 0.25, tensor(1.3838)]\n",
      "Validation -  [0.25, 0.0, 0.25, tensor(1.3840)]\n",
      "\n",
      "Epoch  34\n"
     ]
    },
    {
     "name": "stderr",
     "output_type": "stream",
     "text": [
      "9it [00:00, 14.21it/s]"
     ]
    },
    {
     "name": "stdout",
     "output_type": "stream",
     "text": [
      "['acc', 'kappa', 'fmeasure', 'loss']\n",
      "Training Loss  1.3858706288867526\n"
     ]
    },
    {
     "name": "stderr",
     "output_type": "stream",
     "text": [
      "\n"
     ]
    },
    {
     "name": "stdout",
     "output_type": "stream",
     "text": [
      "Train -  [0.25, 0.0, 0.25, tensor(1.3835)]\n",
      "Validation -  [0.25, 0.0, 0.25, tensor(1.3837)]\n",
      "\n",
      "Epoch  35\n"
     ]
    },
    {
     "name": "stderr",
     "output_type": "stream",
     "text": [
      "9it [00:00, 14.77it/s]"
     ]
    },
    {
     "name": "stdout",
     "output_type": "stream",
     "text": [
      "['acc', 'kappa', 'fmeasure', 'loss']\n",
      "Training Loss  1.3852001428604126\n"
     ]
    },
    {
     "name": "stderr",
     "output_type": "stream",
     "text": [
      "\n"
     ]
    },
    {
     "name": "stdout",
     "output_type": "stream",
     "text": [
      "Train -  [0.25, 0.0, 0.25, tensor(1.3833)]\n",
      "Validation -  [0.25, 0.0, 0.25, tensor(1.3835)]\n",
      "\n",
      "Epoch  36\n"
     ]
    },
    {
     "name": "stderr",
     "output_type": "stream",
     "text": [
      "9it [00:00, 16.80it/s]"
     ]
    },
    {
     "name": "stdout",
     "output_type": "stream",
     "text": [
      "['acc', 'kappa', 'fmeasure', 'loss']\n",
      "Training Loss  1.3849424653583102\n"
     ]
    },
    {
     "name": "stderr",
     "output_type": "stream",
     "text": [
      "\n"
     ]
    },
    {
     "name": "stdout",
     "output_type": "stream",
     "text": [
      "Train -  [0.25, 0.0, 0.25, tensor(1.3831)]\n",
      "Validation -  [0.25, 0.0, 0.25, tensor(1.3833)]\n",
      "\n",
      "Epoch  37\n"
     ]
    },
    {
     "name": "stderr",
     "output_type": "stream",
     "text": [
      "9it [00:00, 18.93it/s]"
     ]
    },
    {
     "name": "stdout",
     "output_type": "stream",
     "text": [
      "['acc', 'kappa', 'fmeasure', 'loss']\n",
      "Training Loss  1.3859392669465807\n"
     ]
    },
    {
     "name": "stderr",
     "output_type": "stream",
     "text": [
      "\n"
     ]
    },
    {
     "name": "stdout",
     "output_type": "stream",
     "text": [
      "Train -  [0.25, 0.0, 0.25, tensor(1.3827)]\n",
      "Validation -  [0.25, 0.0, 0.25, tensor(1.3828)]\n",
      "\n",
      "Epoch  38\n"
     ]
    },
    {
     "name": "stderr",
     "output_type": "stream",
     "text": [
      "9it [00:00, 16.22it/s]"
     ]
    },
    {
     "name": "stdout",
     "output_type": "stream",
     "text": [
      "['acc', 'kappa', 'fmeasure', 'loss']\n",
      "Training Loss  1.3839231861962213\n"
     ]
    },
    {
     "name": "stderr",
     "output_type": "stream",
     "text": [
      "\n"
     ]
    },
    {
     "name": "stdout",
     "output_type": "stream",
     "text": [
      "Train -  [0.2534722222222222, 0.00462962962962965, 0.2534722222222222, tensor(1.3825)]\n",
      "Validation -  [0.2534722222222222, 0.00462962962962965, 0.2534722222222222, tensor(1.3826)]\n",
      "\n",
      "Epoch  39\n"
     ]
    },
    {
     "name": "stderr",
     "output_type": "stream",
     "text": [
      "9it [00:00, 14.21it/s]"
     ]
    },
    {
     "name": "stdout",
     "output_type": "stream",
     "text": [
      "['acc', 'kappa', 'fmeasure', 'loss']\n",
      "Training Loss  1.3847313589519925\n"
     ]
    },
    {
     "name": "stderr",
     "output_type": "stream",
     "text": [
      "\n"
     ]
    },
    {
     "name": "stdout",
     "output_type": "stream",
     "text": [
      "Train -  [0.2534722222222222, 0.00462962962962965, 0.2534722222222222, tensor(1.3822)]\n",
      "Validation -  [0.2569444444444444, 0.0092592592592593, 0.2569444444444444, tensor(1.3823)]\n",
      "\n",
      "Epoch  40\n"
     ]
    },
    {
     "name": "stderr",
     "output_type": "stream",
     "text": [
      "9it [00:00, 15.28it/s]"
     ]
    },
    {
     "name": "stdout",
     "output_type": "stream",
     "text": [
      "['acc', 'kappa', 'fmeasure', 'loss']\n",
      "Training Loss  1.3823003504011366\n"
     ]
    },
    {
     "name": "stderr",
     "output_type": "stream",
     "text": [
      "\n"
     ]
    },
    {
     "name": "stdout",
     "output_type": "stream",
     "text": [
      "Train -  [0.25, 0.0, 0.25, tensor(1.3820)]\n",
      "Validation -  [0.2534722222222222, 0.00462962962962965, 0.2534722222222222, tensor(1.3820)]\n",
      "\n",
      "Epoch  41\n"
     ]
    },
    {
     "name": "stderr",
     "output_type": "stream",
     "text": [
      "9it [00:00, 16.05it/s]"
     ]
    },
    {
     "name": "stdout",
     "output_type": "stream",
     "text": [
      "['acc', 'kappa', 'fmeasure', 'loss']\n",
      "Training Loss  1.3826247056325276\n"
     ]
    },
    {
     "name": "stderr",
     "output_type": "stream",
     "text": [
      "\n"
     ]
    },
    {
     "name": "stdout",
     "output_type": "stream",
     "text": [
      "Train -  [0.2534722222222222, 0.00462962962962965, 0.2534722222222222, tensor(1.3817)]\n",
      "Validation -  [0.2534722222222222, 0.00462962962962965, 0.2534722222222222, tensor(1.3817)]\n",
      "\n",
      "Epoch  42\n"
     ]
    },
    {
     "name": "stderr",
     "output_type": "stream",
     "text": [
      "9it [00:00, 16.63it/s]"
     ]
    },
    {
     "name": "stdout",
     "output_type": "stream",
     "text": [
      "['acc', 'kappa', 'fmeasure', 'loss']\n",
      "Training Loss  1.3829561604393854\n"
     ]
    },
    {
     "name": "stderr",
     "output_type": "stream",
     "text": [
      "\n"
     ]
    },
    {
     "name": "stdout",
     "output_type": "stream",
     "text": [
      "Train -  [0.2534722222222222, 0.00462962962962965, 0.2534722222222222, tensor(1.3814)]\n",
      "Validation -  [0.2569444444444444, 0.0092592592592593, 0.2569444444444444, tensor(1.3813)]\n",
      "\n",
      "Epoch  43\n"
     ]
    },
    {
     "name": "stderr",
     "output_type": "stream",
     "text": [
      "9it [00:00, 18.01it/s]"
     ]
    },
    {
     "name": "stdout",
     "output_type": "stream",
     "text": [
      "['acc', 'kappa', 'fmeasure', 'loss']\n",
      "Training Loss  1.382426420847575\n"
     ]
    },
    {
     "name": "stderr",
     "output_type": "stream",
     "text": [
      "\n"
     ]
    },
    {
     "name": "stdout",
     "output_type": "stream",
     "text": [
      "Train -  [0.25, 0.0, 0.25, tensor(1.3813)]\n",
      "Validation -  [0.2534722222222222, 0.00462962962962965, 0.2534722222222222, tensor(1.3812)]\n",
      "\n",
      "Epoch  44\n"
     ]
    },
    {
     "name": "stderr",
     "output_type": "stream",
     "text": [
      "9it [00:00, 14.94it/s]"
     ]
    },
    {
     "name": "stdout",
     "output_type": "stream",
     "text": [
      "['acc', 'kappa', 'fmeasure', 'loss']\n",
      "Training Loss  1.3823663261201646\n"
     ]
    },
    {
     "name": "stderr",
     "output_type": "stream",
     "text": [
      "\n"
     ]
    },
    {
     "name": "stdout",
     "output_type": "stream",
     "text": [
      "Train -  [0.25, 0.0, 0.25, tensor(1.3810)]\n",
      "Validation -  [0.2534722222222222, 0.00462962962962965, 0.2534722222222222, tensor(1.3809)]\n",
      "\n",
      "Epoch  45\n"
     ]
    },
    {
     "name": "stderr",
     "output_type": "stream",
     "text": [
      "9it [00:00, 15.79it/s]"
     ]
    },
    {
     "name": "stdout",
     "output_type": "stream",
     "text": [
      "['acc', 'kappa', 'fmeasure', 'loss']\n",
      "Training Loss  1.3820752302805583\n"
     ]
    },
    {
     "name": "stderr",
     "output_type": "stream",
     "text": [
      "\n"
     ]
    },
    {
     "name": "stdout",
     "output_type": "stream",
     "text": [
      "Train -  [0.2534722222222222, 0.00462962962962965, 0.2534722222222222, tensor(1.3806)]\n",
      "Validation -  [0.2534722222222222, 0.00462962962962965, 0.2534722222222222, tensor(1.3804)]\n",
      "\n",
      "Epoch  46\n"
     ]
    },
    {
     "name": "stderr",
     "output_type": "stream",
     "text": [
      "9it [00:00, 16.92it/s]"
     ]
    },
    {
     "name": "stdout",
     "output_type": "stream",
     "text": [
      "['acc', 'kappa', 'fmeasure', 'loss']\n",
      "Training Loss  1.3817100259992812\n"
     ]
    },
    {
     "name": "stderr",
     "output_type": "stream",
     "text": [
      "\n"
     ]
    },
    {
     "name": "stdout",
     "output_type": "stream",
     "text": [
      "Train -  [0.2534722222222222, 0.00462962962962965, 0.2534722222222222, tensor(1.3802)]\n",
      "Validation -  [0.2604166666666667, 0.01388888888888884, 0.2604166666666667, tensor(1.3799)]\n",
      "\n",
      "Epoch  47\n"
     ]
    },
    {
     "name": "stderr",
     "output_type": "stream",
     "text": [
      "9it [00:00, 15.09it/s]"
     ]
    },
    {
     "name": "stdout",
     "output_type": "stream",
     "text": [
      "['acc', 'kappa', 'fmeasure', 'loss']\n",
      "Training Loss  1.3810985088348389\n"
     ]
    },
    {
     "name": "stderr",
     "output_type": "stream",
     "text": [
      "\n"
     ]
    },
    {
     "name": "stdout",
     "output_type": "stream",
     "text": [
      "Train -  [0.25, 0.0, 0.25, tensor(1.3801)]\n",
      "Validation -  [0.2534722222222222, 0.00462962962962965, 0.2534722222222222, tensor(1.3798)]\n",
      "\n",
      "Epoch  48\n"
     ]
    },
    {
     "name": "stderr",
     "output_type": "stream",
     "text": [
      "9it [00:00, 15.27it/s]"
     ]
    },
    {
     "name": "stdout",
     "output_type": "stream",
     "text": [
      "['acc', 'kappa', 'fmeasure', 'loss']\n",
      "Training Loss  1.380538238419427\n"
     ]
    },
    {
     "name": "stderr",
     "output_type": "stream",
     "text": [
      "\n"
     ]
    },
    {
     "name": "stdout",
     "output_type": "stream",
     "text": [
      "Train -  [0.2534722222222222, 0.00462962962962965, 0.2534722222222222, tensor(1.3797)]\n",
      "Validation -  [0.2534722222222222, 0.00462962962962965, 0.2534722222222222, tensor(1.3794)]\n",
      "\n",
      "Epoch  49\n"
     ]
    },
    {
     "name": "stderr",
     "output_type": "stream",
     "text": [
      "9it [00:00, 19.97it/s]"
     ]
    },
    {
     "name": "stdout",
     "output_type": "stream",
     "text": [
      "['acc', 'kappa', 'fmeasure', 'loss']\n",
      "Training Loss  1.380142953660753\n"
     ]
    },
    {
     "name": "stderr",
     "output_type": "stream",
     "text": [
      "\n"
     ]
    },
    {
     "name": "stdout",
     "output_type": "stream",
     "text": [
      "Train -  [0.2534722222222222, 0.00462962962962965, 0.2534722222222222, tensor(1.3792)]\n",
      "Validation -  [0.2534722222222222, 0.00462962962962965, 0.2534722222222222, tensor(1.3789)]\n",
      "\n",
      "Epoch  50\n"
     ]
    },
    {
     "name": "stderr",
     "output_type": "stream",
     "text": [
      "9it [00:00, 17.41it/s]"
     ]
    },
    {
     "name": "stdout",
     "output_type": "stream",
     "text": [
      "['acc', 'kappa', 'fmeasure', 'loss']\n",
      "Training Loss  1.3800363805558946\n"
     ]
    },
    {
     "name": "stderr",
     "output_type": "stream",
     "text": [
      "\n"
     ]
    },
    {
     "name": "stdout",
     "output_type": "stream",
     "text": [
      "Train -  [0.25, 0.0, 0.25, tensor(1.3789)]\n",
      "Validation -  [0.2534722222222222, 0.00462962962962965, 0.2534722222222222, tensor(1.3786)]\n",
      "\n",
      "Epoch  51\n"
     ]
    },
    {
     "name": "stderr",
     "output_type": "stream",
     "text": [
      "9it [00:00, 14.90it/s]"
     ]
    },
    {
     "name": "stdout",
     "output_type": "stream",
     "text": [
      "['acc', 'kappa', 'fmeasure', 'loss']\n",
      "Training Loss  1.3814338313208685\n"
     ]
    },
    {
     "name": "stderr",
     "output_type": "stream",
     "text": [
      "\n"
     ]
    },
    {
     "name": "stdout",
     "output_type": "stream",
     "text": [
      "Train -  [0.2534722222222222, 0.00462962962962965, 0.2534722222222222, tensor(1.3784)]\n",
      "Validation -  [0.2569444444444444, 0.0092592592592593, 0.2569444444444444, tensor(1.3780)]\n",
      "\n",
      "Epoch  52\n"
     ]
    },
    {
     "name": "stderr",
     "output_type": "stream",
     "text": [
      "9it [00:00, 19.18it/s]"
     ]
    },
    {
     "name": "stdout",
     "output_type": "stream",
     "text": [
      "['acc', 'kappa', 'fmeasure', 'loss']\n",
      "Training Loss  1.3804790178934734\n"
     ]
    },
    {
     "name": "stderr",
     "output_type": "stream",
     "text": [
      "\n"
     ]
    },
    {
     "name": "stdout",
     "output_type": "stream",
     "text": [
      "Train -  [0.2534722222222222, 0.00462962962962965, 0.2534722222222222, tensor(1.3781)]\n",
      "Validation -  [0.2569444444444444, 0.0092592592592593, 0.2569444444444444, tensor(1.3776)]\n",
      "\n",
      "Epoch  53\n"
     ]
    },
    {
     "name": "stderr",
     "output_type": "stream",
     "text": [
      "9it [00:00, 16.45it/s]"
     ]
    },
    {
     "name": "stdout",
     "output_type": "stream",
     "text": [
      "['acc', 'kappa', 'fmeasure', 'loss']\n",
      "Training Loss  1.3805810610453289\n"
     ]
    },
    {
     "name": "stderr",
     "output_type": "stream",
     "text": [
      "\n"
     ]
    },
    {
     "name": "stdout",
     "output_type": "stream",
     "text": [
      "Train -  [0.2534722222222222, 0.00462962962962965, 0.2534722222222222, tensor(1.3777)]\n",
      "Validation -  [0.2604166666666667, 0.01388888888888884, 0.2604166666666667, tensor(1.3771)]\n",
      "\n",
      "Epoch  54\n"
     ]
    },
    {
     "name": "stderr",
     "output_type": "stream",
     "text": [
      "9it [00:00, 13.51it/s]"
     ]
    },
    {
     "name": "stdout",
     "output_type": "stream",
     "text": [
      "['acc', 'kappa', 'fmeasure', 'loss']\n",
      "Training Loss  1.3773037592569988\n"
     ]
    },
    {
     "name": "stderr",
     "output_type": "stream",
     "text": [
      "\n"
     ]
    },
    {
     "name": "stdout",
     "output_type": "stream",
     "text": [
      "Train -  [0.2534722222222222, 0.00462962962962965, 0.2534722222222222, tensor(1.3773)]\n",
      "Validation -  [0.2534722222222222, 0.00462962962962965, 0.2534722222222222, tensor(1.3768)]\n",
      "\n",
      "Epoch  55\n"
     ]
    },
    {
     "name": "stderr",
     "output_type": "stream",
     "text": [
      "9it [00:00, 15.50it/s]"
     ]
    },
    {
     "name": "stdout",
     "output_type": "stream",
     "text": [
      "['acc', 'kappa', 'fmeasure', 'loss']\n",
      "Training Loss  1.3786832226647272\n"
     ]
    },
    {
     "name": "stderr",
     "output_type": "stream",
     "text": [
      "\n"
     ]
    },
    {
     "name": "stdout",
     "output_type": "stream",
     "text": [
      "Train -  [0.2534722222222222, 0.00462962962962965, 0.2534722222222222, tensor(1.3768)]\n",
      "Validation -  [0.2604166666666667, 0.01388888888888884, 0.2604166666666667, tensor(1.3762)]\n",
      "\n",
      "Epoch  56\n"
     ]
    },
    {
     "name": "stderr",
     "output_type": "stream",
     "text": [
      "9it [00:00, 14.67it/s]"
     ]
    },
    {
     "name": "stdout",
     "output_type": "stream",
     "text": [
      "['acc', 'kappa', 'fmeasure', 'loss']\n",
      "Training Loss  1.3789305422041152\n"
     ]
    },
    {
     "name": "stderr",
     "output_type": "stream",
     "text": [
      "\n"
     ]
    },
    {
     "name": "stdout",
     "output_type": "stream",
     "text": [
      "Train -  [0.2534722222222222, 0.00462962962962965, 0.2534722222222222, tensor(1.3764)]\n",
      "Validation -  [0.2604166666666667, 0.01388888888888884, 0.2604166666666667, tensor(1.3757)]\n",
      "\n",
      "Epoch  57\n"
     ]
    },
    {
     "name": "stderr",
     "output_type": "stream",
     "text": [
      "9it [00:00, 15.25it/s]"
     ]
    },
    {
     "name": "stdout",
     "output_type": "stream",
     "text": [
      "['acc', 'kappa', 'fmeasure', 'loss']\n",
      "Training Loss  1.3776488569047716\n"
     ]
    },
    {
     "name": "stderr",
     "output_type": "stream",
     "text": [
      "\n"
     ]
    },
    {
     "name": "stdout",
     "output_type": "stream",
     "text": [
      "Train -  [0.2534722222222222, 0.00462962962962965, 0.2534722222222222, tensor(1.3761)]\n",
      "Validation -  [0.2569444444444444, 0.0092592592592593, 0.2569444444444444, tensor(1.3753)]\n",
      "\n",
      "Epoch  58\n"
     ]
    },
    {
     "name": "stderr",
     "output_type": "stream",
     "text": [
      "9it [00:00, 17.56it/s]"
     ]
    },
    {
     "name": "stdout",
     "output_type": "stream",
     "text": [
      "['acc', 'kappa', 'fmeasure', 'loss']\n",
      "Training Loss  1.3786701228883531\n"
     ]
    },
    {
     "name": "stderr",
     "output_type": "stream",
     "text": [
      "\n"
     ]
    },
    {
     "name": "stdout",
     "output_type": "stream",
     "text": [
      "Train -  [0.2534722222222222, 0.00462962962962965, 0.2534722222222222, tensor(1.3757)]\n",
      "Validation -  [0.2534722222222222, 0.00462962962962965, 0.2534722222222222, tensor(1.3749)]\n",
      "\n",
      "Epoch  59\n"
     ]
    },
    {
     "name": "stderr",
     "output_type": "stream",
     "text": [
      "9it [00:00, 15.54it/s]"
     ]
    },
    {
     "name": "stdout",
     "output_type": "stream",
     "text": [
      "['acc', 'kappa', 'fmeasure', 'loss']\n",
      "Training Loss  1.3778273397021823\n"
     ]
    },
    {
     "name": "stderr",
     "output_type": "stream",
     "text": [
      "\n"
     ]
    },
    {
     "name": "stdout",
     "output_type": "stream",
     "text": [
      "Train -  [0.2534722222222222, 0.00462962962962965, 0.2534722222222222, tensor(1.3750)]\n",
      "Validation -  [0.2604166666666667, 0.01388888888888884, 0.2604166666666667, tensor(1.3742)]\n",
      "\n",
      "Epoch  60\n"
     ]
    },
    {
     "name": "stderr",
     "output_type": "stream",
     "text": [
      "9it [00:00, 18.13it/s]"
     ]
    },
    {
     "name": "stdout",
     "output_type": "stream",
     "text": [
      "['acc', 'kappa', 'fmeasure', 'loss']\n",
      "Training Loss  1.3771441645092435\n"
     ]
    },
    {
     "name": "stderr",
     "output_type": "stream",
     "text": [
      "\n"
     ]
    },
    {
     "name": "stdout",
     "output_type": "stream",
     "text": [
      "Train -  [0.2534722222222222, 0.00462962962962965, 0.2534722222222222, tensor(1.3746)]\n",
      "Validation -  [0.2569444444444444, 0.0092592592592593, 0.2569444444444444, tensor(1.3737)]\n",
      "\n",
      "Epoch  61\n"
     ]
    },
    {
     "name": "stderr",
     "output_type": "stream",
     "text": [
      "9it [00:00, 14.37it/s]"
     ]
    },
    {
     "name": "stdout",
     "output_type": "stream",
     "text": [
      "['acc', 'kappa', 'fmeasure', 'loss']\n",
      "Training Loss  1.3748498095406427\n"
     ]
    },
    {
     "name": "stderr",
     "output_type": "stream",
     "text": [
      "\n"
     ]
    },
    {
     "name": "stdout",
     "output_type": "stream",
     "text": [
      "Train -  [0.2569444444444444, 0.0092592592592593, 0.2569444444444444, tensor(1.3739)]\n",
      "Validation -  [0.2673611111111111, 0.02314814814814814, 0.2673611111111111, tensor(1.3730)]\n",
      "\n",
      "Epoch  62\n"
     ]
    },
    {
     "name": "stderr",
     "output_type": "stream",
     "text": [
      "9it [00:00, 15.68it/s]"
     ]
    },
    {
     "name": "stdout",
     "output_type": "stream",
     "text": [
      "['acc', 'kappa', 'fmeasure', 'loss']\n",
      "Training Loss  1.3746114042070177\n"
     ]
    },
    {
     "name": "stderr",
     "output_type": "stream",
     "text": [
      "\n"
     ]
    },
    {
     "name": "stdout",
     "output_type": "stream",
     "text": [
      "Train -  [0.2569444444444444, 0.0092592592592593, 0.2569444444444444, tensor(1.3734)]\n",
      "Validation -  [0.2604166666666667, 0.01388888888888884, 0.2604166666666667, tensor(1.3724)]\n",
      "\n",
      "Epoch  63\n"
     ]
    },
    {
     "name": "stderr",
     "output_type": "stream",
     "text": [
      "9it [00:00, 15.50it/s]\n"
     ]
    },
    {
     "name": "stdout",
     "output_type": "stream",
     "text": [
      "['acc', 'kappa', 'fmeasure', 'loss']\n",
      "Training Loss  1.3766286770502727\n",
      "Train -  [0.2534722222222222, 0.00462962962962965, 0.2534722222222222, tensor(1.3729)]\n",
      "Validation -  [0.2604166666666667, 0.01388888888888884, 0.2604166666666667, tensor(1.3719)]\n",
      "\n",
      "Epoch  64\n"
     ]
    },
    {
     "name": "stderr",
     "output_type": "stream",
     "text": [
      "9it [00:00, 17.85it/s]"
     ]
    },
    {
     "name": "stdout",
     "output_type": "stream",
     "text": [
      "['acc', 'kappa', 'fmeasure', 'loss']\n",
      "Training Loss  1.376697646247016\n"
     ]
    },
    {
     "name": "stderr",
     "output_type": "stream",
     "text": [
      "\n"
     ]
    },
    {
     "name": "stdout",
     "output_type": "stream",
     "text": [
      "Train -  [0.2569444444444444, 0.0092592592592593, 0.2569444444444444, tensor(1.3724)]\n",
      "Validation -  [0.2604166666666667, 0.01388888888888884, 0.2604166666666667, tensor(1.3713)]\n",
      "\n",
      "Epoch  65\n"
     ]
    },
    {
     "name": "stderr",
     "output_type": "stream",
     "text": [
      "9it [00:00, 17.26it/s]"
     ]
    },
    {
     "name": "stdout",
     "output_type": "stream",
     "text": [
      "['acc', 'kappa', 'fmeasure', 'loss']\n",
      "Training Loss  1.3743127054638333\n"
     ]
    },
    {
     "name": "stderr",
     "output_type": "stream",
     "text": [
      "\n"
     ]
    },
    {
     "name": "stdout",
     "output_type": "stream",
     "text": [
      "Train -  [0.2534722222222222, 0.00462962962962965, 0.2534722222222222, tensor(1.3720)]\n",
      "Validation -  [0.2604166666666667, 0.01388888888888884, 0.2604166666666667, tensor(1.3709)]\n",
      "\n",
      "Epoch  66\n"
     ]
    },
    {
     "name": "stderr",
     "output_type": "stream",
     "text": [
      "9it [00:00, 16.30it/s]"
     ]
    },
    {
     "name": "stdout",
     "output_type": "stream",
     "text": [
      "['acc', 'kappa', 'fmeasure', 'loss']\n",
      "Training Loss  1.373336010509067\n"
     ]
    },
    {
     "name": "stderr",
     "output_type": "stream",
     "text": [
      "\n"
     ]
    },
    {
     "name": "stdout",
     "output_type": "stream",
     "text": [
      "Train -  [0.2534722222222222, 0.00462962962962965, 0.2534722222222222, tensor(1.3714)]\n",
      "Validation -  [0.2604166666666667, 0.01388888888888884, 0.2604166666666667, tensor(1.3702)]\n",
      "\n",
      "Epoch  67\n"
     ]
    },
    {
     "name": "stderr",
     "output_type": "stream",
     "text": [
      "9it [00:00, 17.43it/s]"
     ]
    },
    {
     "name": "stdout",
     "output_type": "stream",
     "text": [
      "['acc', 'kappa', 'fmeasure', 'loss']\n",
      "Training Loss  1.3716116746266682\n"
     ]
    },
    {
     "name": "stderr",
     "output_type": "stream",
     "text": [
      "\n"
     ]
    },
    {
     "name": "stdout",
     "output_type": "stream",
     "text": [
      "Train -  [0.2534722222222222, 0.00462962962962965, 0.2534722222222222, tensor(1.3709)]\n",
      "Validation -  [0.2604166666666667, 0.01388888888888884, 0.2604166666666667, tensor(1.3697)]\n",
      "\n",
      "Epoch  68\n"
     ]
    },
    {
     "name": "stderr",
     "output_type": "stream",
     "text": [
      "9it [00:00, 15.98it/s]"
     ]
    },
    {
     "name": "stdout",
     "output_type": "stream",
     "text": [
      "['acc', 'kappa', 'fmeasure', 'loss']\n",
      "Training Loss  1.372117492887709\n"
     ]
    },
    {
     "name": "stderr",
     "output_type": "stream",
     "text": [
      "\n"
     ]
    },
    {
     "name": "stdout",
     "output_type": "stream",
     "text": [
      "Train -  [0.2534722222222222, 0.00462962962962965, 0.2534722222222222, tensor(1.3702)]\n",
      "Validation -  [0.2604166666666667, 0.01388888888888884, 0.2604166666666667, tensor(1.3690)]\n",
      "\n",
      "Epoch  69\n"
     ]
    },
    {
     "name": "stderr",
     "output_type": "stream",
     "text": [
      "9it [00:00, 14.85it/s]"
     ]
    },
    {
     "name": "stdout",
     "output_type": "stream",
     "text": [
      "['acc', 'kappa', 'fmeasure', 'loss']\n",
      "Training Loss  1.3688643508487277\n"
     ]
    },
    {
     "name": "stderr",
     "output_type": "stream",
     "text": [
      "\n"
     ]
    },
    {
     "name": "stdout",
     "output_type": "stream",
     "text": [
      "Train -  [0.2534722222222222, 0.00462962962962965, 0.2534722222222222, tensor(1.3695)]\n",
      "Validation -  [0.2604166666666667, 0.01388888888888884, 0.2604166666666667, tensor(1.3683)]\n",
      "\n",
      "Epoch  70\n"
     ]
    },
    {
     "name": "stderr",
     "output_type": "stream",
     "text": [
      "9it [00:00, 15.67it/s]"
     ]
    },
    {
     "name": "stdout",
     "output_type": "stream",
     "text": [
      "['acc', 'kappa', 'fmeasure', 'loss']\n",
      "Training Loss  1.3700283898247614\n"
     ]
    },
    {
     "name": "stderr",
     "output_type": "stream",
     "text": [
      "\n"
     ]
    },
    {
     "name": "stdout",
     "output_type": "stream",
     "text": [
      "Train -  [0.2534722222222222, 0.00462962962962965, 0.2534722222222222, tensor(1.3688)]\n",
      "Validation -  [0.2604166666666667, 0.01388888888888884, 0.2604166666666667, tensor(1.3676)]\n",
      "\n",
      "Epoch  71\n"
     ]
    },
    {
     "name": "stderr",
     "output_type": "stream",
     "text": [
      "9it [00:00, 19.15it/s]"
     ]
    },
    {
     "name": "stdout",
     "output_type": "stream",
     "text": [
      "['acc', 'kappa', 'fmeasure', 'loss']\n",
      "Training Loss  1.3689334127638075\n"
     ]
    },
    {
     "name": "stderr",
     "output_type": "stream",
     "text": [
      "\n"
     ]
    },
    {
     "name": "stdout",
     "output_type": "stream",
     "text": [
      "Train -  [0.2569444444444444, 0.0092592592592593, 0.2569444444444444, tensor(1.3681)]\n",
      "Validation -  [0.2604166666666667, 0.01388888888888884, 0.2604166666666667, tensor(1.3668)]\n",
      "\n",
      "Epoch  72\n"
     ]
    },
    {
     "name": "stderr",
     "output_type": "stream",
     "text": [
      "9it [00:00, 15.85it/s]"
     ]
    },
    {
     "name": "stdout",
     "output_type": "stream",
     "text": [
      "['acc', 'kappa', 'fmeasure', 'loss']\n",
      "Training Loss  1.3688356479008992\n"
     ]
    },
    {
     "name": "stderr",
     "output_type": "stream",
     "text": [
      "\n"
     ]
    },
    {
     "name": "stdout",
     "output_type": "stream",
     "text": [
      "Train -  [0.2534722222222222, 0.00462962962962965, 0.2534722222222222, tensor(1.3676)]\n",
      "Validation -  [0.2604166666666667, 0.01388888888888884, 0.2604166666666667, tensor(1.3662)]\n",
      "\n",
      "Epoch  73\n"
     ]
    },
    {
     "name": "stderr",
     "output_type": "stream",
     "text": [
      "9it [00:00, 14.82it/s]"
     ]
    },
    {
     "name": "stdout",
     "output_type": "stream",
     "text": [
      "['acc', 'kappa', 'fmeasure', 'loss']\n",
      "Training Loss  1.3677356905407376\n"
     ]
    },
    {
     "name": "stderr",
     "output_type": "stream",
     "text": [
      "\n"
     ]
    },
    {
     "name": "stdout",
     "output_type": "stream",
     "text": [
      "Train -  [0.2534722222222222, 0.00462962962962965, 0.2534722222222222, tensor(1.3667)]\n",
      "Validation -  [0.2604166666666667, 0.01388888888888884, 0.2604166666666667, tensor(1.3654)]\n",
      "\n",
      "Epoch  74\n"
     ]
    },
    {
     "name": "stderr",
     "output_type": "stream",
     "text": [
      "9it [00:00, 15.39it/s]"
     ]
    },
    {
     "name": "stdout",
     "output_type": "stream",
     "text": [
      "['acc', 'kappa', 'fmeasure', 'loss']\n",
      "Training Loss  1.3674307134416368\n"
     ]
    },
    {
     "name": "stderr",
     "output_type": "stream",
     "text": [
      "\n"
     ]
    },
    {
     "name": "stdout",
     "output_type": "stream",
     "text": [
      "Train -  [0.2534722222222222, 0.00462962962962965, 0.2534722222222222, tensor(1.3662)]\n",
      "Validation -  [0.2604166666666667, 0.01388888888888884, 0.2604166666666667, tensor(1.3647)]\n",
      "\n",
      "Epoch  75\n"
     ]
    },
    {
     "name": "stderr",
     "output_type": "stream",
     "text": [
      "9it [00:00, 15.68it/s]"
     ]
    },
    {
     "name": "stdout",
     "output_type": "stream",
     "text": [
      "['acc', 'kappa', 'fmeasure', 'loss']\n",
      "Training Loss  1.3673985534244113\n"
     ]
    },
    {
     "name": "stderr",
     "output_type": "stream",
     "text": [
      "\n"
     ]
    },
    {
     "name": "stdout",
     "output_type": "stream",
     "text": [
      "Train -  [0.2534722222222222, 0.00462962962962965, 0.2534722222222222, tensor(1.3651)]\n",
      "Validation -  [0.2604166666666667, 0.01388888888888884, 0.2604166666666667, tensor(1.3637)]\n",
      "\n",
      "Epoch  76\n"
     ]
    },
    {
     "name": "stderr",
     "output_type": "stream",
     "text": [
      "9it [00:00, 16.47it/s]"
     ]
    },
    {
     "name": "stdout",
     "output_type": "stream",
     "text": [
      "['acc', 'kappa', 'fmeasure', 'loss']\n",
      "Training Loss  1.367660469479031\n"
     ]
    },
    {
     "name": "stderr",
     "output_type": "stream",
     "text": [
      "\n"
     ]
    },
    {
     "name": "stdout",
     "output_type": "stream",
     "text": [
      "Train -  [0.2569444444444444, 0.0092592592592593, 0.2569444444444444, tensor(1.3640)]\n",
      "Validation -  [0.2638888888888889, 0.01851851851851849, 0.2638888888888889, tensor(1.3626)]\n",
      "\n",
      "Epoch  77\n"
     ]
    },
    {
     "name": "stderr",
     "output_type": "stream",
     "text": [
      "9it [00:00, 18.60it/s]"
     ]
    },
    {
     "name": "stdout",
     "output_type": "stream",
     "text": [
      "['acc', 'kappa', 'fmeasure', 'loss']\n",
      "Training Loss  1.3631420930226643\n"
     ]
    },
    {
     "name": "stderr",
     "output_type": "stream",
     "text": [
      "\n"
     ]
    },
    {
     "name": "stdout",
     "output_type": "stream",
     "text": [
      "Train -  [0.2638888888888889, 0.01851851851851849, 0.2638888888888889, tensor(1.3633)]\n",
      "Validation -  [0.2881944444444444, 0.05092592592592593, 0.2881944444444444, tensor(1.3619)]\n",
      "\n",
      "Epoch  78\n"
     ]
    },
    {
     "name": "stderr",
     "output_type": "stream",
     "text": [
      "9it [00:00, 18.58it/s]"
     ]
    },
    {
     "name": "stdout",
     "output_type": "stream",
     "text": [
      "['acc', 'kappa', 'fmeasure', 'loss']\n",
      "Training Loss  1.363088051478068\n"
     ]
    },
    {
     "name": "stderr",
     "output_type": "stream",
     "text": [
      "\n"
     ]
    },
    {
     "name": "stdout",
     "output_type": "stream",
     "text": [
      "Train -  [0.2638888888888889, 0.01851851851851849, 0.2638888888888889, tensor(1.3624)]\n",
      "Validation -  [0.2743055555555556, 0.03240740740740744, 0.2743055555555556, tensor(1.3608)]\n",
      "\n",
      "Epoch  79\n"
     ]
    },
    {
     "name": "stderr",
     "output_type": "stream",
     "text": [
      "9it [00:00, 14.48it/s]"
     ]
    },
    {
     "name": "stdout",
     "output_type": "stream",
     "text": [
      "['acc', 'kappa', 'fmeasure', 'loss']\n",
      "Training Loss  1.3621558878156874\n"
     ]
    },
    {
     "name": "stderr",
     "output_type": "stream",
     "text": [
      "\n"
     ]
    },
    {
     "name": "stdout",
     "output_type": "stream",
     "text": [
      "Train -  [0.2569444444444444, 0.0092592592592593, 0.2569444444444444, tensor(1.3620)]\n",
      "Validation -  [0.2638888888888889, 0.01851851851851849, 0.2638888888888889, tensor(1.3603)]\n",
      "\n",
      "Epoch  80\n"
     ]
    },
    {
     "name": "stderr",
     "output_type": "stream",
     "text": [
      "9it [00:00, 14.25it/s]"
     ]
    },
    {
     "name": "stdout",
     "output_type": "stream",
     "text": [
      "['acc', 'kappa', 'fmeasure', 'loss']\n",
      "Training Loss  1.3689820633994207\n"
     ]
    },
    {
     "name": "stderr",
     "output_type": "stream",
     "text": [
      "\n"
     ]
    },
    {
     "name": "stdout",
     "output_type": "stream",
     "text": [
      "Train -  [0.2569444444444444, 0.0092592592592593, 0.2569444444444444, tensor(1.3607)]\n",
      "Validation -  [0.2743055555555556, 0.03240740740740744, 0.2743055555555556, tensor(1.3590)]\n",
      "\n",
      "Epoch  81\n"
     ]
    },
    {
     "name": "stderr",
     "output_type": "stream",
     "text": [
      "9it [00:00, 17.66it/s]"
     ]
    },
    {
     "name": "stdout",
     "output_type": "stream",
     "text": [
      "['acc', 'kappa', 'fmeasure', 'loss']\n",
      "Training Loss  1.3628098434872098\n"
     ]
    },
    {
     "name": "stderr",
     "output_type": "stream",
     "text": [
      "\n"
     ]
    },
    {
     "name": "stdout",
     "output_type": "stream",
     "text": [
      "Train -  [0.2638888888888889, 0.01851851851851849, 0.2638888888888889, tensor(1.3596)]\n",
      "Validation -  [0.2881944444444444, 0.05092592592592593, 0.2881944444444444, tensor(1.3579)]\n",
      "\n",
      "Epoch  82\n"
     ]
    },
    {
     "name": "stderr",
     "output_type": "stream",
     "text": [
      "9it [00:00, 16.43it/s]"
     ]
    },
    {
     "name": "stdout",
     "output_type": "stream",
     "text": [
      "['acc', 'kappa', 'fmeasure', 'loss']\n",
      "Training Loss  1.3624961773554485\n"
     ]
    },
    {
     "name": "stderr",
     "output_type": "stream",
     "text": [
      "\n"
     ]
    },
    {
     "name": "stdout",
     "output_type": "stream",
     "text": [
      "Train -  [0.2638888888888889, 0.01851851851851849, 0.2638888888888889, tensor(1.3586)]\n",
      "Validation -  [0.2881944444444444, 0.05092592592592593, 0.2881944444444444, tensor(1.3569)]\n",
      "\n",
      "Epoch  83\n"
     ]
    },
    {
     "name": "stderr",
     "output_type": "stream",
     "text": [
      "9it [00:00, 14.14it/s]"
     ]
    },
    {
     "name": "stdout",
     "output_type": "stream",
     "text": [
      "['acc', 'kappa', 'fmeasure', 'loss']\n",
      "Training Loss  1.3641315301259358\n"
     ]
    },
    {
     "name": "stderr",
     "output_type": "stream",
     "text": [
      "\n"
     ]
    },
    {
     "name": "stdout",
     "output_type": "stream",
     "text": [
      "Train -  [0.2638888888888889, 0.01851851851851849, 0.2638888888888889, tensor(1.3576)]\n",
      "Validation -  [0.2847222222222222, 0.04629629629629628, 0.2847222222222222, tensor(1.3559)]\n",
      "\n",
      "Epoch  84\n"
     ]
    },
    {
     "name": "stderr",
     "output_type": "stream",
     "text": [
      "9it [00:00, 15.05it/s]"
     ]
    },
    {
     "name": "stdout",
     "output_type": "stream",
     "text": [
      "['acc', 'kappa', 'fmeasure', 'loss']\n",
      "Training Loss  1.3585802846484714\n"
     ]
    },
    {
     "name": "stderr",
     "output_type": "stream",
     "text": [
      "\n"
     ]
    },
    {
     "name": "stdout",
     "output_type": "stream",
     "text": [
      "Train -  [0.2569444444444444, 0.0092592592592593, 0.2569444444444444, tensor(1.3567)]\n",
      "Validation -  [0.2604166666666667, 0.01388888888888884, 0.2604166666666667, tensor(1.3551)]\n",
      "\n",
      "Epoch  85\n"
     ]
    },
    {
     "name": "stderr",
     "output_type": "stream",
     "text": [
      "9it [00:00, 16.58it/s]"
     ]
    },
    {
     "name": "stdout",
     "output_type": "stream",
     "text": [
      "['acc', 'kappa', 'fmeasure', 'loss']\n",
      "Training Loss  1.3661677440007527\n"
     ]
    },
    {
     "name": "stderr",
     "output_type": "stream",
     "text": [
      "\n"
     ]
    },
    {
     "name": "stdout",
     "output_type": "stream",
     "text": [
      "Train -  [0.2638888888888889, 0.01851851851851849, 0.2638888888888889, tensor(1.3556)]\n",
      "Validation -  [0.2847222222222222, 0.04629629629629628, 0.2847222222222222, tensor(1.3540)]\n",
      "\n",
      "Epoch  86\n"
     ]
    },
    {
     "name": "stderr",
     "output_type": "stream",
     "text": [
      "9it [00:00, 17.87it/s]"
     ]
    },
    {
     "name": "stdout",
     "output_type": "stream",
     "text": [
      "['acc', 'kappa', 'fmeasure', 'loss']\n",
      "Training Loss  1.3563672966427274\n"
     ]
    },
    {
     "name": "stderr",
     "output_type": "stream",
     "text": [
      "\n"
     ]
    },
    {
     "name": "stdout",
     "output_type": "stream",
     "text": [
      "Train -  [0.2638888888888889, 0.01851851851851849, 0.2638888888888889, tensor(1.3546)]\n",
      "Validation -  [0.2777777777777778, 0.03703703703703709, 0.2777777777777778, tensor(1.3529)]\n",
      "\n",
      "Epoch  87\n"
     ]
    },
    {
     "name": "stderr",
     "output_type": "stream",
     "text": [
      "9it [00:00, 15.27it/s]"
     ]
    },
    {
     "name": "stdout",
     "output_type": "stream",
     "text": [
      "['acc', 'kappa', 'fmeasure', 'loss']\n",
      "Training Loss  1.3600029548009236\n"
     ]
    },
    {
     "name": "stderr",
     "output_type": "stream",
     "text": [
      "\n"
     ]
    },
    {
     "name": "stdout",
     "output_type": "stream",
     "text": [
      "Train -  [0.2673611111111111, 0.02314814814814814, 0.2673611111111111, tensor(1.3533)]\n",
      "Validation -  [0.2916666666666667, 0.05555555555555558, 0.2916666666666667, tensor(1.3516)]\n",
      "\n",
      "Epoch  88\n"
     ]
    },
    {
     "name": "stderr",
     "output_type": "stream",
     "text": [
      "9it [00:00, 16.65it/s]"
     ]
    },
    {
     "name": "stdout",
     "output_type": "stream",
     "text": [
      "['acc', 'kappa', 'fmeasure', 'loss']\n",
      "Training Loss  1.3570418225394354\n"
     ]
    },
    {
     "name": "stderr",
     "output_type": "stream",
     "text": [
      "\n"
     ]
    },
    {
     "name": "stdout",
     "output_type": "stream",
     "text": [
      "Train -  [0.2638888888888889, 0.01851851851851849, 0.2638888888888889, tensor(1.3521)]\n",
      "Validation -  [0.2881944444444444, 0.05092592592592593, 0.2881944444444444, tensor(1.3503)]\n",
      "\n",
      "Epoch  89\n"
     ]
    },
    {
     "name": "stderr",
     "output_type": "stream",
     "text": [
      "9it [00:00, 17.34it/s]"
     ]
    },
    {
     "name": "stdout",
     "output_type": "stream",
     "text": [
      "['acc', 'kappa', 'fmeasure', 'loss']\n",
      "Training Loss  1.350876013437907\n"
     ]
    },
    {
     "name": "stderr",
     "output_type": "stream",
     "text": [
      "\n"
     ]
    },
    {
     "name": "stdout",
     "output_type": "stream",
     "text": [
      "Train -  [0.2638888888888889, 0.01851851851851849, 0.2638888888888889, tensor(1.3506)]\n",
      "Validation -  [0.2951388888888889, 0.06018518518518523, 0.2951388888888889, tensor(1.3488)]\n",
      "\n",
      "Epoch  90\n"
     ]
    },
    {
     "name": "stderr",
     "output_type": "stream",
     "text": [
      "9it [00:00, 15.94it/s]"
     ]
    },
    {
     "name": "stdout",
     "output_type": "stream",
     "text": [
      "['acc', 'kappa', 'fmeasure', 'loss']\n",
      "Training Loss  1.3531341287824843\n"
     ]
    },
    {
     "name": "stderr",
     "output_type": "stream",
     "text": [
      "\n"
     ]
    },
    {
     "name": "stdout",
     "output_type": "stream",
     "text": [
      "Train -  [0.2881944444444444, 0.05092592592592593, 0.2881944444444444, tensor(1.3491)]\n",
      "Validation -  [0.3055555555555556, 0.07407407407407407, 0.3055555555555556, tensor(1.3472)]\n",
      "\n",
      "Epoch  91\n"
     ]
    },
    {
     "name": "stderr",
     "output_type": "stream",
     "text": [
      "9it [00:00, 16.46it/s]"
     ]
    },
    {
     "name": "stdout",
     "output_type": "stream",
     "text": [
      "['acc', 'kappa', 'fmeasure', 'loss']\n",
      "Training Loss  1.3522650400797527\n"
     ]
    },
    {
     "name": "stderr",
     "output_type": "stream",
     "text": [
      "\n"
     ]
    },
    {
     "name": "stdout",
     "output_type": "stream",
     "text": [
      "Train -  [0.3229166666666667, 0.09722222222222221, 0.3229166666666667, tensor(1.3471)]\n",
      "Validation -  [0.3541666666666667, 0.13888888888888884, 0.3541666666666667, tensor(1.3453)]\n",
      "\n",
      "Epoch  92\n"
     ]
    },
    {
     "name": "stderr",
     "output_type": "stream",
     "text": [
      "9it [00:00, 17.17it/s]"
     ]
    },
    {
     "name": "stdout",
     "output_type": "stream",
     "text": [
      "['acc', 'kappa', 'fmeasure', 'loss']\n",
      "Training Loss  1.3558525111940172\n"
     ]
    },
    {
     "name": "stderr",
     "output_type": "stream",
     "text": [
      "\n"
     ]
    },
    {
     "name": "stdout",
     "output_type": "stream",
     "text": [
      "Train -  [0.34375, 0.125, 0.34375, tensor(1.3457)]\n",
      "Validation -  [0.3680555555555556, 0.15740740740740744, 0.36805555555555564, tensor(1.3438)]\n",
      "\n",
      "Epoch  93\n"
     ]
    },
    {
     "name": "stderr",
     "output_type": "stream",
     "text": [
      "9it [00:00, 15.58it/s]"
     ]
    },
    {
     "name": "stdout",
     "output_type": "stream",
     "text": [
      "['acc', 'kappa', 'fmeasure', 'loss']\n",
      "Training Loss  1.348756194114685\n"
     ]
    },
    {
     "name": "stderr",
     "output_type": "stream",
     "text": [
      "\n"
     ]
    },
    {
     "name": "stdout",
     "output_type": "stream",
     "text": [
      "Train -  [0.3506944444444444, 0.1342592592592593, 0.3506944444444444, tensor(1.3443)]\n",
      "Validation -  [0.3784722222222222, 0.17129629629629628, 0.3784722222222222, tensor(1.3423)]\n",
      "\n",
      "Epoch  94\n"
     ]
    },
    {
     "name": "stderr",
     "output_type": "stream",
     "text": [
      "9it [00:00, 17.37it/s]"
     ]
    },
    {
     "name": "stdout",
     "output_type": "stream",
     "text": [
      "['acc', 'kappa', 'fmeasure', 'loss']\n",
      "Training Loss  1.3492129113939073\n"
     ]
    },
    {
     "name": "stderr",
     "output_type": "stream",
     "text": [
      "\n"
     ]
    },
    {
     "name": "stdout",
     "output_type": "stream",
     "text": [
      "Train -  [0.3263888888888889, 0.10185185185185186, 0.3263888888888889, tensor(1.3426)]\n",
      "Validation -  [0.3645833333333333, 0.1527777777777778, 0.36458333333333326, tensor(1.3405)]\n",
      "\n",
      "Epoch  95\n"
     ]
    },
    {
     "name": "stderr",
     "output_type": "stream",
     "text": [
      "9it [00:00, 14.62it/s]"
     ]
    },
    {
     "name": "stdout",
     "output_type": "stream",
     "text": [
      "['acc', 'kappa', 'fmeasure', 'loss']\n",
      "Training Loss  1.3506651322046916\n"
     ]
    },
    {
     "name": "stderr",
     "output_type": "stream",
     "text": [
      "\n"
     ]
    },
    {
     "name": "stdout",
     "output_type": "stream",
     "text": [
      "Train -  [0.3611111111111111, 0.14814814814814814, 0.3611111111111111, tensor(1.3409)]\n",
      "Validation -  [0.3784722222222222, 0.17129629629629628, 0.3784722222222222, tensor(1.3388)]\n",
      "\n",
      "Epoch  96\n"
     ]
    },
    {
     "name": "stderr",
     "output_type": "stream",
     "text": [
      "9it [00:00, 15.70it/s]"
     ]
    },
    {
     "name": "stdout",
     "output_type": "stream",
     "text": [
      "['acc', 'kappa', 'fmeasure', 'loss']\n",
      "Training Loss  1.3489906787872314\n"
     ]
    },
    {
     "name": "stderr",
     "output_type": "stream",
     "text": [
      "\n"
     ]
    },
    {
     "name": "stdout",
     "output_type": "stream",
     "text": [
      "Train -  [0.3680555555555556, 0.15740740740740744, 0.36805555555555564, tensor(1.3399)]\n",
      "Validation -  [0.3958333333333333, 0.19444444444444442, 0.3958333333333333, tensor(1.3378)]\n",
      "\n",
      "Epoch  97\n"
     ]
    },
    {
     "name": "stderr",
     "output_type": "stream",
     "text": [
      "9it [00:00, 20.15it/s]"
     ]
    },
    {
     "name": "stdout",
     "output_type": "stream",
     "text": [
      "['acc', 'kappa', 'fmeasure', 'loss']\n",
      "Training Loss  1.3459126949310303\n"
     ]
    },
    {
     "name": "stderr",
     "output_type": "stream",
     "text": [
      "\n"
     ]
    },
    {
     "name": "stdout",
     "output_type": "stream",
     "text": [
      "Train -  [0.3784722222222222, 0.17129629629629628, 0.3784722222222222, tensor(1.3376)]\n",
      "Validation -  [0.4097222222222222, 0.2129629629629629, 0.4097222222222222, tensor(1.3355)]\n",
      "\n",
      "Epoch  98\n"
     ]
    },
    {
     "name": "stderr",
     "output_type": "stream",
     "text": [
      "9it [00:00, 13.73it/s]"
     ]
    },
    {
     "name": "stdout",
     "output_type": "stream",
     "text": [
      "['acc', 'kappa', 'fmeasure', 'loss']\n",
      "Training Loss  1.3413602511088054\n"
     ]
    },
    {
     "name": "stderr",
     "output_type": "stream",
     "text": [
      "\n"
     ]
    },
    {
     "name": "stdout",
     "output_type": "stream",
     "text": [
      "Train -  [0.3923611111111111, 0.18981481481481477, 0.3923611111111111, tensor(1.3359)]\n",
      "Validation -  [0.4201388888888889, 0.22685185185185186, 0.4201388888888889, tensor(1.3337)]\n",
      "\n",
      "Epoch  99\n"
     ]
    },
    {
     "name": "stderr",
     "output_type": "stream",
     "text": [
      "9it [00:00, 17.45it/s]"
     ]
    },
    {
     "name": "stdout",
     "output_type": "stream",
     "text": [
      "['acc', 'kappa', 'fmeasure', 'loss']\n",
      "Training Loss  1.3429771661758423\n"
     ]
    },
    {
     "name": "stderr",
     "output_type": "stream",
     "text": [
      "\n"
     ]
    },
    {
     "name": "stdout",
     "output_type": "stream",
     "text": [
      "Train -  [0.3888888888888889, 0.18518518518518523, 0.3888888888888889, tensor(1.3340)]\n",
      "Validation -  [0.4166666666666667, 0.2222222222222222, 0.4166666666666667, tensor(1.3319)]\n",
      "\n",
      "Epoch  100\n"
     ]
    },
    {
     "name": "stderr",
     "output_type": "stream",
     "text": [
      "9it [00:00, 15.26it/s]"
     ]
    },
    {
     "name": "stdout",
     "output_type": "stream",
     "text": [
      "['acc', 'kappa', 'fmeasure', 'loss']\n",
      "Training Loss  1.3380656639734905\n"
     ]
    },
    {
     "name": "stderr",
     "output_type": "stream",
     "text": [
      "\n"
     ]
    },
    {
     "name": "stdout",
     "output_type": "stream",
     "text": [
      "Train -  [0.4097222222222222, 0.2129629629629629, 0.4097222222222222, tensor(1.3322)]\n",
      "Validation -  [0.4201388888888889, 0.22685185185185186, 0.4201388888888889, tensor(1.3300)]\n",
      "\n",
      "Epoch  101\n"
     ]
    },
    {
     "name": "stderr",
     "output_type": "stream",
     "text": [
      "9it [00:00, 17.96it/s]"
     ]
    },
    {
     "name": "stdout",
     "output_type": "stream",
     "text": [
      "['acc', 'kappa', 'fmeasure', 'loss']\n",
      "Training Loss  1.343638022740682\n"
     ]
    },
    {
     "name": "stderr",
     "output_type": "stream",
     "text": [
      "\n"
     ]
    },
    {
     "name": "stdout",
     "output_type": "stream",
     "text": [
      "Train -  [0.4131944444444444, 0.21759259259259256, 0.4131944444444444, tensor(1.3304)]\n",
      "Validation -  [0.4236111111111111, 0.2314814814814815, 0.4236111111111111, tensor(1.3281)]\n",
      "\n",
      "Epoch  102\n"
     ]
    },
    {
     "name": "stderr",
     "output_type": "stream",
     "text": [
      "9it [00:00, 17.05it/s]"
     ]
    },
    {
     "name": "stdout",
     "output_type": "stream",
     "text": [
      "['acc', 'kappa', 'fmeasure', 'loss']\n",
      "Training Loss  1.3390864663653903\n"
     ]
    },
    {
     "name": "stderr",
     "output_type": "stream",
     "text": [
      "\n"
     ]
    },
    {
     "name": "stdout",
     "output_type": "stream",
     "text": [
      "Train -  [0.4236111111111111, 0.2314814814814815, 0.4236111111111111, tensor(1.3287)]\n",
      "Validation -  [0.4236111111111111, 0.2314814814814815, 0.4236111111111111, tensor(1.3264)]\n",
      "\n",
      "Epoch  103\n"
     ]
    },
    {
     "name": "stderr",
     "output_type": "stream",
     "text": [
      "9it [00:00, 15.68it/s]"
     ]
    },
    {
     "name": "stdout",
     "output_type": "stream",
     "text": [
      "['acc', 'kappa', 'fmeasure', 'loss']\n",
      "Training Loss  1.3356514241960313\n"
     ]
    },
    {
     "name": "stderr",
     "output_type": "stream",
     "text": [
      "\n"
     ]
    },
    {
     "name": "stdout",
     "output_type": "stream",
     "text": [
      "Train -  [0.4097222222222222, 0.2129629629629629, 0.4097222222222222, tensor(1.3268)]\n",
      "Validation -  [0.4166666666666667, 0.2222222222222222, 0.4166666666666667, tensor(1.3245)]\n",
      "\n",
      "Epoch  104\n"
     ]
    },
    {
     "name": "stderr",
     "output_type": "stream",
     "text": [
      "9it [00:00, 15.24it/s]"
     ]
    },
    {
     "name": "stdout",
     "output_type": "stream",
     "text": [
      "['acc', 'kappa', 'fmeasure', 'loss']\n",
      "Training Loss  1.334119478861491\n"
     ]
    },
    {
     "name": "stderr",
     "output_type": "stream",
     "text": [
      "\n"
     ]
    },
    {
     "name": "stdout",
     "output_type": "stream",
     "text": [
      "Train -  [0.4131944444444444, 0.21759259259259256, 0.4131944444444444, tensor(1.3248)]\n",
      "Validation -  [0.4166666666666667, 0.2222222222222222, 0.4166666666666667, tensor(1.3225)]\n",
      "\n",
      "Epoch  105\n"
     ]
    },
    {
     "name": "stderr",
     "output_type": "stream",
     "text": [
      "9it [00:00, 14.69it/s]"
     ]
    },
    {
     "name": "stdout",
     "output_type": "stream",
     "text": [
      "['acc', 'kappa', 'fmeasure', 'loss']\n",
      "Training Loss  1.3276649316151936\n"
     ]
    },
    {
     "name": "stderr",
     "output_type": "stream",
     "text": [
      "\n"
     ]
    },
    {
     "name": "stdout",
     "output_type": "stream",
     "text": [
      "Train -  [0.4166666666666667, 0.2222222222222222, 0.4166666666666667, tensor(1.3225)]\n",
      "Validation -  [0.4236111111111111, 0.2314814814814815, 0.4236111111111111, tensor(1.3202)]\n",
      "\n",
      "Epoch  106\n"
     ]
    },
    {
     "name": "stderr",
     "output_type": "stream",
     "text": [
      "9it [00:00, 15.12it/s]"
     ]
    },
    {
     "name": "stdout",
     "output_type": "stream",
     "text": [
      "['acc', 'kappa', 'fmeasure', 'loss']\n",
      "Training Loss  1.3223773108588324\n"
     ]
    },
    {
     "name": "stderr",
     "output_type": "stream",
     "text": [
      "\n"
     ]
    },
    {
     "name": "stdout",
     "output_type": "stream",
     "text": [
      "Train -  [0.4270833333333333, 0.23611111111111116, 0.4270833333333333, tensor(1.3204)]\n",
      "Validation -  [0.4305555555555556, 0.2407407407407407, 0.4305555555555556, tensor(1.3180)]\n",
      "\n",
      "Epoch  107\n"
     ]
    },
    {
     "name": "stderr",
     "output_type": "stream",
     "text": [
      "9it [00:00, 17.01it/s]"
     ]
    },
    {
     "name": "stdout",
     "output_type": "stream",
     "text": [
      "['acc', 'kappa', 'fmeasure', 'loss']\n",
      "Training Loss  1.3207023806042142\n"
     ]
    },
    {
     "name": "stderr",
     "output_type": "stream",
     "text": [
      "\n"
     ]
    },
    {
     "name": "stdout",
     "output_type": "stream",
     "text": [
      "Train -  [0.4270833333333333, 0.23611111111111116, 0.4270833333333333, tensor(1.3181)]\n",
      "Validation -  [0.4305555555555556, 0.2407407407407407, 0.4305555555555556, tensor(1.3159)]\n",
      "\n",
      "Epoch  108\n"
     ]
    },
    {
     "name": "stderr",
     "output_type": "stream",
     "text": [
      "9it [00:00, 14.46it/s]"
     ]
    },
    {
     "name": "stdout",
     "output_type": "stream",
     "text": [
      "['acc', 'kappa', 'fmeasure', 'loss']\n",
      "Training Loss  1.3193391693962946\n"
     ]
    },
    {
     "name": "stderr",
     "output_type": "stream",
     "text": [
      "\n"
     ]
    },
    {
     "name": "stdout",
     "output_type": "stream",
     "text": [
      "Train -  [0.4479166666666667, 0.26388888888888884, 0.4479166666666667, tensor(1.3158)]\n",
      "Validation -  [0.4548611111111111, 0.27314814814814814, 0.4548611111111111, tensor(1.3132)]\n",
      "\n",
      "Epoch  109\n"
     ]
    },
    {
     "name": "stderr",
     "output_type": "stream",
     "text": [
      "9it [00:00, 15.23it/s]"
     ]
    },
    {
     "name": "stdout",
     "output_type": "stream",
     "text": [
      "['acc', 'kappa', 'fmeasure', 'loss']\n",
      "Training Loss  1.3186698489718967\n"
     ]
    },
    {
     "name": "stderr",
     "output_type": "stream",
     "text": [
      "\n"
     ]
    },
    {
     "name": "stdout",
     "output_type": "stream",
     "text": [
      "Train -  [0.4409722222222222, 0.25462962962962965, 0.4409722222222222, tensor(1.3132)]\n",
      "Validation -  [0.4513888888888889, 0.2685185185185185, 0.4513888888888889, tensor(1.3108)]\n",
      "\n",
      "Epoch  110\n"
     ]
    },
    {
     "name": "stderr",
     "output_type": "stream",
     "text": [
      "9it [00:00, 16.72it/s]"
     ]
    },
    {
     "name": "stdout",
     "output_type": "stream",
     "text": [
      "['acc', 'kappa', 'fmeasure', 'loss']\n",
      "Training Loss  1.315003792444865\n"
     ]
    },
    {
     "name": "stderr",
     "output_type": "stream",
     "text": [
      "\n"
     ]
    },
    {
     "name": "stdout",
     "output_type": "stream",
     "text": [
      "Train -  [0.4479166666666667, 0.26388888888888884, 0.4479166666666667, tensor(1.3109)]\n",
      "Validation -  [0.4548611111111111, 0.27314814814814814, 0.4548611111111111, tensor(1.3085)]\n",
      "\n",
      "Epoch  111\n"
     ]
    },
    {
     "name": "stderr",
     "output_type": "stream",
     "text": [
      "9it [00:00, 15.95it/s]"
     ]
    },
    {
     "name": "stdout",
     "output_type": "stream",
     "text": [
      "['acc', 'kappa', 'fmeasure', 'loss']\n",
      "Training Loss  1.3162773185306125\n"
     ]
    },
    {
     "name": "stderr",
     "output_type": "stream",
     "text": [
      "\n"
     ]
    },
    {
     "name": "stdout",
     "output_type": "stream",
     "text": [
      "Train -  [0.4548611111111111, 0.27314814814814814, 0.4548611111111111, tensor(1.3087)]\n",
      "Validation -  [0.4652777777777778, 0.2870370370370371, 0.4652777777777778, tensor(1.3063)]\n",
      "\n",
      "Epoch  112\n"
     ]
    },
    {
     "name": "stderr",
     "output_type": "stream",
     "text": [
      "9it [00:00, 16.53it/s]"
     ]
    },
    {
     "name": "stdout",
     "output_type": "stream",
     "text": [
      "['acc', 'kappa', 'fmeasure', 'loss']\n",
      "Training Loss  1.319945560561286\n"
     ]
    },
    {
     "name": "stderr",
     "output_type": "stream",
     "text": [
      "\n"
     ]
    },
    {
     "name": "stdout",
     "output_type": "stream",
     "text": [
      "Train -  [0.4548611111111111, 0.27314814814814814, 0.4548611111111111, tensor(1.3064)]\n",
      "Validation -  [0.4652777777777778, 0.2870370370370371, 0.4652777777777778, tensor(1.3042)]\n",
      "\n",
      "Epoch  113\n"
     ]
    },
    {
     "name": "stderr",
     "output_type": "stream",
     "text": [
      "9it [00:00, 16.08it/s]"
     ]
    },
    {
     "name": "stdout",
     "output_type": "stream",
     "text": [
      "['acc', 'kappa', 'fmeasure', 'loss']\n",
      "Training Loss  1.3179568317201402\n"
     ]
    },
    {
     "name": "stderr",
     "output_type": "stream",
     "text": [
      "\n"
     ]
    },
    {
     "name": "stdout",
     "output_type": "stream",
     "text": [
      "Train -  [0.4375, 0.25, 0.4375, tensor(1.3047)]\n",
      "Validation -  [0.4444444444444444, 0.2592592592592593, 0.4444444444444444, tensor(1.3029)]\n",
      "\n",
      "Epoch  114\n"
     ]
    },
    {
     "name": "stderr",
     "output_type": "stream",
     "text": [
      "9it [00:00, 16.57it/s]"
     ]
    },
    {
     "name": "stdout",
     "output_type": "stream",
     "text": [
      "['acc', 'kappa', 'fmeasure', 'loss']\n",
      "Training Loss  1.3202295700709026\n"
     ]
    },
    {
     "name": "stderr",
     "output_type": "stream",
     "text": [
      "\n"
     ]
    },
    {
     "name": "stdout",
     "output_type": "stream",
     "text": [
      "Train -  [0.4652777777777778, 0.2870370370370371, 0.4652777777777778, tensor(1.3021)]\n",
      "Validation -  [0.4652777777777778, 0.2870370370370371, 0.4652777777777778, tensor(1.3004)]\n",
      "\n",
      "Epoch  115\n"
     ]
    },
    {
     "name": "stderr",
     "output_type": "stream",
     "text": [
      "9it [00:00, 15.45it/s]"
     ]
    },
    {
     "name": "stdout",
     "output_type": "stream",
     "text": [
      "['acc', 'kappa', 'fmeasure', 'loss']\n",
      "Training Loss  1.3008354372448392\n"
     ]
    },
    {
     "name": "stderr",
     "output_type": "stream",
     "text": [
      "\n"
     ]
    },
    {
     "name": "stdout",
     "output_type": "stream",
     "text": [
      "Train -  [0.4652777777777778, 0.2870370370370371, 0.4652777777777778, tensor(1.2998)]\n",
      "Validation -  [0.4722222222222222, 0.2962962962962963, 0.4722222222222222, tensor(1.2983)]\n",
      "\n",
      "Epoch  116\n"
     ]
    },
    {
     "name": "stderr",
     "output_type": "stream",
     "text": [
      "9it [00:00, 19.86it/s]"
     ]
    },
    {
     "name": "stdout",
     "output_type": "stream",
     "text": [
      "['acc', 'kappa', 'fmeasure', 'loss']\n",
      "Training Loss  1.3067059251997206\n"
     ]
    },
    {
     "name": "stderr",
     "output_type": "stream",
     "text": [
      "\n"
     ]
    },
    {
     "name": "stdout",
     "output_type": "stream",
     "text": [
      "Train -  [0.4583333333333333, 0.2777777777777778, 0.4583333333333333, tensor(1.2976)]\n",
      "Validation -  [0.46875, 0.29166666666666663, 0.46875, tensor(1.2958)]\n",
      "\n",
      "Epoch  117\n"
     ]
    },
    {
     "name": "stderr",
     "output_type": "stream",
     "text": [
      "9it [00:00, 17.91it/s]"
     ]
    },
    {
     "name": "stdout",
     "output_type": "stream",
     "text": [
      "['acc', 'kappa', 'fmeasure', 'loss']\n",
      "Training Loss  1.3023411565356784\n"
     ]
    },
    {
     "name": "stderr",
     "output_type": "stream",
     "text": [
      "\n"
     ]
    },
    {
     "name": "stdout",
     "output_type": "stream",
     "text": [
      "Train -  [0.4583333333333333, 0.2777777777777778, 0.4583333333333333, tensor(1.2948)]\n",
      "Validation -  [0.4652777777777778, 0.2870370370370371, 0.4652777777777778, tensor(1.2936)]\n",
      "\n",
      "Epoch  118\n"
     ]
    },
    {
     "name": "stderr",
     "output_type": "stream",
     "text": [
      "9it [00:00, 16.48it/s]"
     ]
    },
    {
     "name": "stdout",
     "output_type": "stream",
     "text": [
      "['acc', 'kappa', 'fmeasure', 'loss']\n",
      "Training Loss  1.31122624874115\n"
     ]
    },
    {
     "name": "stderr",
     "output_type": "stream",
     "text": [
      "\n"
     ]
    },
    {
     "name": "stdout",
     "output_type": "stream",
     "text": [
      "Train -  [0.4583333333333333, 0.2777777777777778, 0.4583333333333333, tensor(1.2925)]\n",
      "Validation -  [0.4722222222222222, 0.2962962962962963, 0.4722222222222222, tensor(1.2913)]\n",
      "\n",
      "Epoch  119\n"
     ]
    },
    {
     "name": "stderr",
     "output_type": "stream",
     "text": [
      "9it [00:00, 13.97it/s]"
     ]
    },
    {
     "name": "stdout",
     "output_type": "stream",
     "text": [
      "['acc', 'kappa', 'fmeasure', 'loss']\n",
      "Training Loss  1.300729513168335\n"
     ]
    },
    {
     "name": "stderr",
     "output_type": "stream",
     "text": [
      "\n"
     ]
    },
    {
     "name": "stdout",
     "output_type": "stream",
     "text": [
      "Train -  [0.4583333333333333, 0.2777777777777778, 0.4583333333333333, tensor(1.2903)]\n",
      "Validation -  [0.46875, 0.29166666666666663, 0.46875, tensor(1.2894)]\n",
      "\n",
      "Epoch  120\n"
     ]
    },
    {
     "name": "stderr",
     "output_type": "stream",
     "text": [
      "9it [00:00, 15.86it/s]"
     ]
    },
    {
     "name": "stdout",
     "output_type": "stream",
     "text": [
      "['acc', 'kappa', 'fmeasure', 'loss']\n",
      "Training Loss  1.302035477426317\n"
     ]
    },
    {
     "name": "stderr",
     "output_type": "stream",
     "text": [
      "\n"
     ]
    },
    {
     "name": "stdout",
     "output_type": "stream",
     "text": [
      "Train -  [0.4618055555555556, 0.28240740740740744, 0.4618055555555556, tensor(1.2878)]\n",
      "Validation -  [0.4652777777777778, 0.2870370370370371, 0.4652777777777778, tensor(1.2872)]\n",
      "\n",
      "Epoch  121\n"
     ]
    },
    {
     "name": "stderr",
     "output_type": "stream",
     "text": [
      "9it [00:00, 14.82it/s]"
     ]
    },
    {
     "name": "stdout",
     "output_type": "stream",
     "text": [
      "['acc', 'kappa', 'fmeasure', 'loss']\n",
      "Training Loss  1.2859431902567546\n"
     ]
    },
    {
     "name": "stderr",
     "output_type": "stream",
     "text": [
      "\n"
     ]
    },
    {
     "name": "stdout",
     "output_type": "stream",
     "text": [
      "Train -  [0.46875, 0.29166666666666663, 0.46875, tensor(1.2856)]\n",
      "Validation -  [0.4722222222222222, 0.2962962962962963, 0.4722222222222222, tensor(1.2854)]\n",
      "\n",
      "Epoch  122\n"
     ]
    },
    {
     "name": "stderr",
     "output_type": "stream",
     "text": [
      "9it [00:00, 15.09it/s]"
     ]
    },
    {
     "name": "stdout",
     "output_type": "stream",
     "text": [
      "['acc', 'kappa', 'fmeasure', 'loss']\n",
      "Training Loss  1.3042173782984416\n"
     ]
    },
    {
     "name": "stderr",
     "output_type": "stream",
     "text": [
      "\n"
     ]
    },
    {
     "name": "stdout",
     "output_type": "stream",
     "text": [
      "Train -  [0.4652777777777778, 0.2870370370370371, 0.4652777777777778, tensor(1.2839)]\n",
      "Validation -  [0.4722222222222222, 0.2962962962962963, 0.4722222222222222, tensor(1.2841)]\n",
      "\n",
      "Epoch  123\n"
     ]
    },
    {
     "name": "stderr",
     "output_type": "stream",
     "text": [
      "9it [00:00, 18.84it/s]"
     ]
    },
    {
     "name": "stdout",
     "output_type": "stream",
     "text": [
      "['acc', 'kappa', 'fmeasure', 'loss']\n",
      "Training Loss  1.291232215033637\n"
     ]
    },
    {
     "name": "stderr",
     "output_type": "stream",
     "text": [
      "\n"
     ]
    },
    {
     "name": "stdout",
     "output_type": "stream",
     "text": [
      "Train -  [0.4652777777777778, 0.2870370370370371, 0.4652777777777778, tensor(1.2819)]\n",
      "Validation -  [0.46875, 0.29166666666666663, 0.46875, tensor(1.2823)]\n",
      "\n",
      "Epoch  124\n"
     ]
    },
    {
     "name": "stderr",
     "output_type": "stream",
     "text": [
      "9it [00:00, 15.08it/s]"
     ]
    },
    {
     "name": "stdout",
     "output_type": "stream",
     "text": [
      "['acc', 'kappa', 'fmeasure', 'loss']\n",
      "Training Loss  1.2960344817903307\n"
     ]
    },
    {
     "name": "stderr",
     "output_type": "stream",
     "text": [
      "\n"
     ]
    },
    {
     "name": "stdout",
     "output_type": "stream",
     "text": [
      "Train -  [0.46875, 0.29166666666666663, 0.46875, tensor(1.2791)]\n",
      "Validation -  [0.4722222222222222, 0.2962962962962963, 0.4722222222222222, tensor(1.2796)]\n",
      "\n",
      "Epoch  125\n"
     ]
    },
    {
     "name": "stderr",
     "output_type": "stream",
     "text": [
      "9it [00:00, 17.64it/s]"
     ]
    },
    {
     "name": "stdout",
     "output_type": "stream",
     "text": [
      "['acc', 'kappa', 'fmeasure', 'loss']\n",
      "Training Loss  1.2880620426601834\n"
     ]
    },
    {
     "name": "stderr",
     "output_type": "stream",
     "text": [
      "\n"
     ]
    },
    {
     "name": "stdout",
     "output_type": "stream",
     "text": [
      "Train -  [0.4652777777777778, 0.2870370370370371, 0.4652777777777778, tensor(1.2772)]\n",
      "Validation -  [0.4756944444444444, 0.30092592592592593, 0.4756944444444444, tensor(1.2777)]\n",
      "\n",
      "Epoch  126\n"
     ]
    },
    {
     "name": "stderr",
     "output_type": "stream",
     "text": [
      "9it [00:00, 13.05it/s]"
     ]
    },
    {
     "name": "stdout",
     "output_type": "stream",
     "text": [
      "['acc', 'kappa', 'fmeasure', 'loss']\n",
      "Training Loss  1.2874816126293607\n"
     ]
    },
    {
     "name": "stderr",
     "output_type": "stream",
     "text": [
      "\n"
     ]
    },
    {
     "name": "stdout",
     "output_type": "stream",
     "text": [
      "Train -  [0.4652777777777778, 0.2870370370370371, 0.4652777777777778, tensor(1.2752)]\n",
      "Validation -  [0.46875, 0.29166666666666663, 0.46875, tensor(1.2758)]\n",
      "\n",
      "Epoch  127\n"
     ]
    },
    {
     "name": "stderr",
     "output_type": "stream",
     "text": [
      "9it [00:00, 17.30it/s]"
     ]
    },
    {
     "name": "stdout",
     "output_type": "stream",
     "text": [
      "['acc', 'kappa', 'fmeasure', 'loss']\n",
      "Training Loss  1.3008689747916327\n"
     ]
    },
    {
     "name": "stderr",
     "output_type": "stream",
     "text": [
      "\n"
     ]
    },
    {
     "name": "stdout",
     "output_type": "stream",
     "text": [
      "Train -  [0.4652777777777778, 0.2870370370370371, 0.4652777777777778, tensor(1.2734)]\n",
      "Validation -  [0.4722222222222222, 0.2962962962962963, 0.4722222222222222, tensor(1.2742)]\n",
      "\n",
      "Epoch  128\n"
     ]
    },
    {
     "name": "stderr",
     "output_type": "stream",
     "text": [
      "9it [00:00, 18.57it/s]"
     ]
    },
    {
     "name": "stdout",
     "output_type": "stream",
     "text": [
      "['acc', 'kappa', 'fmeasure', 'loss']\n",
      "Training Loss  1.28934027089013\n"
     ]
    },
    {
     "name": "stderr",
     "output_type": "stream",
     "text": [
      "\n"
     ]
    },
    {
     "name": "stdout",
     "output_type": "stream",
     "text": [
      "Train -  [0.46875, 0.29166666666666663, 0.46875, tensor(1.2718)]\n",
      "Validation -  [0.4791666666666667, 0.3055555555555556, 0.4791666666666667, tensor(1.2734)]\n",
      "\n",
      "Epoch  129\n"
     ]
    },
    {
     "name": "stderr",
     "output_type": "stream",
     "text": [
      "9it [00:00, 17.55it/s]"
     ]
    },
    {
     "name": "stdout",
     "output_type": "stream",
     "text": [
      "['acc', 'kappa', 'fmeasure', 'loss']\n",
      "Training Loss  1.2899099191029866\n"
     ]
    },
    {
     "name": "stderr",
     "output_type": "stream",
     "text": [
      "\n"
     ]
    },
    {
     "name": "stdout",
     "output_type": "stream",
     "text": [
      "Train -  [0.4756944444444444, 0.30092592592592593, 0.4756944444444444, tensor(1.2703)]\n",
      "Validation -  [0.4791666666666667, 0.3055555555555556, 0.4791666666666667, tensor(1.2723)]\n",
      "\n",
      "Epoch  130\n"
     ]
    },
    {
     "name": "stderr",
     "output_type": "stream",
     "text": [
      "9it [00:00, 17.90it/s]"
     ]
    },
    {
     "name": "stdout",
     "output_type": "stream",
     "text": [
      "['acc', 'kappa', 'fmeasure', 'loss']\n",
      "Training Loss  1.280867616335551\n"
     ]
    },
    {
     "name": "stderr",
     "output_type": "stream",
     "text": [
      "\n"
     ]
    },
    {
     "name": "stdout",
     "output_type": "stream",
     "text": [
      "Train -  [0.4895833333333333, 0.3194444444444444, 0.4895833333333333, tensor(1.2679)]\n",
      "Validation -  [0.4791666666666667, 0.3055555555555556, 0.4791666666666667, tensor(1.2704)]\n",
      "\n",
      "Epoch  131\n"
     ]
    },
    {
     "name": "stderr",
     "output_type": "stream",
     "text": [
      "9it [00:00, 14.39it/s]"
     ]
    },
    {
     "name": "stdout",
     "output_type": "stream",
     "text": [
      "['acc', 'kappa', 'fmeasure', 'loss']\n",
      "Training Loss  1.279179917441474\n"
     ]
    },
    {
     "name": "stderr",
     "output_type": "stream",
     "text": [
      "\n"
     ]
    },
    {
     "name": "stdout",
     "output_type": "stream",
     "text": [
      "Train -  [0.4861111111111111, 0.31481481481481477, 0.4861111111111111, tensor(1.2653)]\n",
      "Validation -  [0.4861111111111111, 0.31481481481481477, 0.4861111111111111, tensor(1.2678)]\n",
      "\n",
      "Epoch  132\n"
     ]
    },
    {
     "name": "stderr",
     "output_type": "stream",
     "text": [
      "9it [00:00, 15.25it/s]"
     ]
    },
    {
     "name": "stdout",
     "output_type": "stream",
     "text": [
      "['acc', 'kappa', 'fmeasure', 'loss']\n",
      "Training Loss  1.2720271481408014\n"
     ]
    },
    {
     "name": "stderr",
     "output_type": "stream",
     "text": [
      "\n"
     ]
    },
    {
     "name": "stdout",
     "output_type": "stream",
     "text": [
      "Train -  [0.4895833333333333, 0.3194444444444444, 0.4895833333333333, tensor(1.2634)]\n",
      "Validation -  [0.4756944444444444, 0.30092592592592593, 0.4756944444444444, tensor(1.2668)]\n",
      "\n",
      "Epoch  133\n"
     ]
    },
    {
     "name": "stderr",
     "output_type": "stream",
     "text": [
      "9it [00:00, 16.60it/s]"
     ]
    },
    {
     "name": "stdout",
     "output_type": "stream",
     "text": [
      "['acc', 'kappa', 'fmeasure', 'loss']\n",
      "Training Loss  1.2696317301856146\n"
     ]
    },
    {
     "name": "stderr",
     "output_type": "stream",
     "text": [
      "\n"
     ]
    },
    {
     "name": "stdout",
     "output_type": "stream",
     "text": [
      "Train -  [0.4930555555555556, 0.32407407407407407, 0.4930555555555556, tensor(1.2606)]\n",
      "Validation -  [0.4965277777777778, 0.3287037037037037, 0.4965277777777778, tensor(1.2643)]\n",
      "\n",
      "Epoch  134\n"
     ]
    },
    {
     "name": "stderr",
     "output_type": "stream",
     "text": [
      "9it [00:00, 14.52it/s]"
     ]
    },
    {
     "name": "stdout",
     "output_type": "stream",
     "text": [
      "['acc', 'kappa', 'fmeasure', 'loss']\n",
      "Training Loss  1.2684689097934299\n"
     ]
    },
    {
     "name": "stderr",
     "output_type": "stream",
     "text": [
      "\n"
     ]
    },
    {
     "name": "stdout",
     "output_type": "stream",
     "text": [
      "Train -  [0.4895833333333333, 0.3194444444444444, 0.4895833333333333, tensor(1.2583)]\n",
      "Validation -  [0.4965277777777778, 0.3287037037037037, 0.4965277777777778, tensor(1.2622)]\n",
      "\n",
      "Epoch  135\n"
     ]
    },
    {
     "name": "stderr",
     "output_type": "stream",
     "text": [
      "9it [00:00, 16.20it/s]"
     ]
    },
    {
     "name": "stdout",
     "output_type": "stream",
     "text": [
      "['acc', 'kappa', 'fmeasure', 'loss']\n",
      "Training Loss  1.275486124886407\n"
     ]
    },
    {
     "name": "stderr",
     "output_type": "stream",
     "text": [
      "\n"
     ]
    },
    {
     "name": "stdout",
     "output_type": "stream",
     "text": [
      "Train -  [0.4826388888888889, 0.31018518518518523, 0.4826388888888889, tensor(1.2561)]\n",
      "Validation -  [0.4965277777777778, 0.3287037037037037, 0.4965277777777778, tensor(1.2604)]\n",
      "\n",
      "Epoch  136\n"
     ]
    },
    {
     "name": "stderr",
     "output_type": "stream",
     "text": [
      "9it [00:00, 18.02it/s]"
     ]
    },
    {
     "name": "stdout",
     "output_type": "stream",
     "text": [
      "['acc', 'kappa', 'fmeasure', 'loss']\n",
      "Training Loss  1.2730251285764906\n"
     ]
    },
    {
     "name": "stderr",
     "output_type": "stream",
     "text": [
      "\n"
     ]
    },
    {
     "name": "stdout",
     "output_type": "stream",
     "text": [
      "Train -  [0.4895833333333333, 0.3194444444444444, 0.4895833333333333, tensor(1.2542)]\n",
      "Validation -  [0.4930555555555556, 0.32407407407407407, 0.4930555555555556, tensor(1.2587)]\n",
      "\n",
      "Epoch  137\n"
     ]
    },
    {
     "name": "stderr",
     "output_type": "stream",
     "text": [
      "9it [00:00, 15.48it/s]"
     ]
    },
    {
     "name": "stdout",
     "output_type": "stream",
     "text": [
      "['acc', 'kappa', 'fmeasure', 'loss']\n",
      "Training Loss  1.272824552324083\n"
     ]
    },
    {
     "name": "stderr",
     "output_type": "stream",
     "text": [
      "\n"
     ]
    },
    {
     "name": "stdout",
     "output_type": "stream",
     "text": [
      "Train -  [0.4965277777777778, 0.3287037037037037, 0.4965277777777778, tensor(1.2526)]\n",
      "Validation -  [0.4930555555555556, 0.32407407407407407, 0.4930555555555556, tensor(1.2576)]\n",
      "\n",
      "Epoch  138\n"
     ]
    },
    {
     "name": "stderr",
     "output_type": "stream",
     "text": [
      "9it [00:00, 14.70it/s]"
     ]
    },
    {
     "name": "stdout",
     "output_type": "stream",
     "text": [
      "['acc', 'kappa', 'fmeasure', 'loss']\n",
      "Training Loss  1.2678509553273518\n"
     ]
    },
    {
     "name": "stderr",
     "output_type": "stream",
     "text": [
      "\n"
     ]
    },
    {
     "name": "stdout",
     "output_type": "stream",
     "text": [
      "Train -  [0.4895833333333333, 0.3194444444444444, 0.4895833333333333, tensor(1.2506)]\n",
      "Validation -  [0.4965277777777778, 0.3287037037037037, 0.4965277777777778, tensor(1.2558)]\n",
      "\n",
      "Epoch  139\n"
     ]
    },
    {
     "name": "stderr",
     "output_type": "stream",
     "text": [
      "9it [00:00, 15.36it/s]"
     ]
    },
    {
     "name": "stdout",
     "output_type": "stream",
     "text": [
      "['acc', 'kappa', 'fmeasure', 'loss']\n",
      "Training Loss  1.2585359944237604\n"
     ]
    },
    {
     "name": "stderr",
     "output_type": "stream",
     "text": [
      "\n"
     ]
    },
    {
     "name": "stdout",
     "output_type": "stream",
     "text": [
      "Train -  [0.5, 0.33333333333333337, 0.5, tensor(1.2485)]\n",
      "Validation -  [0.4895833333333333, 0.3194444444444444, 0.4895833333333333, tensor(1.2539)]\n",
      "\n",
      "Epoch  140\n"
     ]
    },
    {
     "name": "stderr",
     "output_type": "stream",
     "text": [
      "9it [00:00, 15.74it/s]"
     ]
    },
    {
     "name": "stdout",
     "output_type": "stream",
     "text": [
      "['acc', 'kappa', 'fmeasure', 'loss']\n",
      "Training Loss  1.2727242178387113\n"
     ]
    },
    {
     "name": "stderr",
     "output_type": "stream",
     "text": [
      "\n"
     ]
    },
    {
     "name": "stdout",
     "output_type": "stream",
     "text": [
      "Train -  [0.5243055555555556, 0.3657407407407407, 0.5243055555555556, tensor(1.2469)]\n",
      "Validation -  [0.4826388888888889, 0.31018518518518523, 0.4826388888888889, tensor(1.2532)]\n",
      "\n",
      "Epoch  141\n"
     ]
    },
    {
     "name": "stderr",
     "output_type": "stream",
     "text": [
      "9it [00:00, 15.60it/s]"
     ]
    },
    {
     "name": "stdout",
     "output_type": "stream",
     "text": [
      "['acc', 'kappa', 'fmeasure', 'loss']\n",
      "Training Loss  1.2699153688218858\n"
     ]
    },
    {
     "name": "stderr",
     "output_type": "stream",
     "text": [
      "\n"
     ]
    },
    {
     "name": "stdout",
     "output_type": "stream",
     "text": [
      "Train -  [0.5173611111111112, 0.3564814814814815, 0.5173611111111112, tensor(1.2449)]\n",
      "Validation -  [0.4722222222222222, 0.2962962962962963, 0.4722222222222222, tensor(1.2520)]\n",
      "\n",
      "Epoch  142\n"
     ]
    },
    {
     "name": "stderr",
     "output_type": "stream",
     "text": [
      "9it [00:00, 15.05it/s]"
     ]
    },
    {
     "name": "stdout",
     "output_type": "stream",
     "text": [
      "['acc', 'kappa', 'fmeasure', 'loss']\n",
      "Training Loss  1.2663036717308893\n"
     ]
    },
    {
     "name": "stderr",
     "output_type": "stream",
     "text": [
      "\n"
     ]
    },
    {
     "name": "stdout",
     "output_type": "stream",
     "text": [
      "Train -  [0.5243055555555556, 0.3657407407407407, 0.5243055555555556, tensor(1.2433)]\n",
      "Validation -  [0.4930555555555556, 0.32407407407407407, 0.4930555555555556, tensor(1.2496)]\n",
      "\n",
      "Epoch  143\n"
     ]
    },
    {
     "name": "stderr",
     "output_type": "stream",
     "text": [
      "9it [00:00, 19.17it/s]"
     ]
    },
    {
     "name": "stdout",
     "output_type": "stream",
     "text": [
      "['acc', 'kappa', 'fmeasure', 'loss']\n",
      "Training Loss  1.2554559972551134\n"
     ]
    },
    {
     "name": "stderr",
     "output_type": "stream",
     "text": [
      "\n"
     ]
    },
    {
     "name": "stdout",
     "output_type": "stream",
     "text": [
      "Train -  [0.5069444444444444, 0.34259259259259256, 0.5069444444444444, tensor(1.2423)]\n",
      "Validation -  [0.4826388888888889, 0.31018518518518523, 0.4826388888888889, tensor(1.2498)]\n",
      "\n",
      "Epoch  144\n"
     ]
    },
    {
     "name": "stderr",
     "output_type": "stream",
     "text": [
      "9it [00:00, 15.26it/s]\n"
     ]
    },
    {
     "name": "stdout",
     "output_type": "stream",
     "text": [
      "['acc', 'kappa', 'fmeasure', 'loss']\n",
      "Training Loss  1.2504129144880507\n",
      "Train -  [0.5277777777777778, 0.37037037037037035, 0.5277777777777778, tensor(1.2376)]\n",
      "Validation -  [0.4930555555555556, 0.32407407407407407, 0.4930555555555556, tensor(1.2459)]\n",
      "\n",
      "Epoch  145\n"
     ]
    },
    {
     "name": "stderr",
     "output_type": "stream",
     "text": [
      "9it [00:00, 17.76it/s]"
     ]
    },
    {
     "name": "stdout",
     "output_type": "stream",
     "text": [
      "['acc', 'kappa', 'fmeasure', 'loss']\n",
      "Training Loss  1.2490532530678644\n"
     ]
    },
    {
     "name": "stderr",
     "output_type": "stream",
     "text": [
      "\n"
     ]
    },
    {
     "name": "stdout",
     "output_type": "stream",
     "text": [
      "Train -  [0.5277777777777778, 0.37037037037037035, 0.5277777777777778, tensor(1.2357)]\n",
      "Validation -  [0.4930555555555556, 0.32407407407407407, 0.4930555555555556, tensor(1.2446)]\n",
      "\n",
      "Epoch  146\n"
     ]
    },
    {
     "name": "stderr",
     "output_type": "stream",
     "text": [
      "9it [00:00, 15.24it/s]"
     ]
    },
    {
     "name": "stdout",
     "output_type": "stream",
     "text": [
      "['acc', 'kappa', 'fmeasure', 'loss']\n",
      "Training Loss  1.25062010023329\n"
     ]
    },
    {
     "name": "stderr",
     "output_type": "stream",
     "text": [
      "\n"
     ]
    },
    {
     "name": "stdout",
     "output_type": "stream",
     "text": [
      "Train -  [0.5243055555555556, 0.3657407407407407, 0.5243055555555556, tensor(1.2337)]\n",
      "Validation -  [0.4861111111111111, 0.31481481481481477, 0.4861111111111111, tensor(1.2429)]\n",
      "\n",
      "Epoch  147\n"
     ]
    },
    {
     "name": "stderr",
     "output_type": "stream",
     "text": [
      "9it [00:00, 15.33it/s]"
     ]
    },
    {
     "name": "stdout",
     "output_type": "stream",
     "text": [
      "['acc', 'kappa', 'fmeasure', 'loss']\n",
      "Training Loss  1.2435920635859172\n"
     ]
    },
    {
     "name": "stderr",
     "output_type": "stream",
     "text": [
      "\n"
     ]
    },
    {
     "name": "stdout",
     "output_type": "stream",
     "text": [
      "Train -  [0.53125, 0.375, 0.53125, tensor(1.2307)]\n",
      "Validation -  [0.5034722222222222, 0.3379629629629629, 0.5034722222222222, tensor(1.2402)]\n",
      "\n",
      "Epoch  148\n"
     ]
    },
    {
     "name": "stderr",
     "output_type": "stream",
     "text": [
      "9it [00:00, 16.91it/s]"
     ]
    },
    {
     "name": "stdout",
     "output_type": "stream",
     "text": [
      "['acc', 'kappa', 'fmeasure', 'loss']\n",
      "Training Loss  1.245132115152147\n"
     ]
    },
    {
     "name": "stderr",
     "output_type": "stream",
     "text": [
      "\n"
     ]
    },
    {
     "name": "stdout",
     "output_type": "stream",
     "text": [
      "Train -  [0.5451388888888888, 0.3935185185185185, 0.5451388888888888, tensor(1.2289)]\n",
      "Validation -  [0.4965277777777778, 0.3287037037037037, 0.4965277777777778, tensor(1.2388)]\n",
      "\n",
      "Epoch  149\n"
     ]
    },
    {
     "name": "stderr",
     "output_type": "stream",
     "text": [
      "9it [00:00, 16.10it/s]"
     ]
    },
    {
     "name": "stdout",
     "output_type": "stream",
     "text": [
      "['acc', 'kappa', 'fmeasure', 'loss']\n",
      "Training Loss  1.2512869437535603\n"
     ]
    },
    {
     "name": "stderr",
     "output_type": "stream",
     "text": [
      "\n"
     ]
    },
    {
     "name": "stdout",
     "output_type": "stream",
     "text": [
      "Train -  [0.5486111111111112, 0.39814814814814814, 0.5486111111111112, tensor(1.2260)]\n",
      "Validation -  [0.5034722222222222, 0.3379629629629629, 0.5034722222222222, tensor(1.2363)]\n",
      "\n",
      "Epoch  150\n"
     ]
    },
    {
     "name": "stderr",
     "output_type": "stream",
     "text": [
      "9it [00:00, 12.71it/s]"
     ]
    },
    {
     "name": "stdout",
     "output_type": "stream",
     "text": [
      "['acc', 'kappa', 'fmeasure', 'loss']\n",
      "Training Loss  1.2565820349587336\n"
     ]
    },
    {
     "name": "stderr",
     "output_type": "stream",
     "text": [
      "\n"
     ]
    },
    {
     "name": "stdout",
     "output_type": "stream",
     "text": [
      "Train -  [0.5416666666666666, 0.38888888888888884, 0.5416666666666666, tensor(1.2237)]\n",
      "Validation -  [0.5173611111111112, 0.3564814814814815, 0.5173611111111112, tensor(1.2341)]\n",
      "\n",
      "Epoch  151\n"
     ]
    },
    {
     "name": "stderr",
     "output_type": "stream",
     "text": [
      "9it [00:00, 17.94it/s]"
     ]
    },
    {
     "name": "stdout",
     "output_type": "stream",
     "text": [
      "['acc', 'kappa', 'fmeasure', 'loss']\n",
      "Training Loss  1.2435279554790921\n"
     ]
    },
    {
     "name": "stderr",
     "output_type": "stream",
     "text": [
      "\n"
     ]
    },
    {
     "name": "stdout",
     "output_type": "stream",
     "text": [
      "Train -  [0.5381944444444444, 0.3842592592592593, 0.5381944444444444, tensor(1.2217)]\n",
      "Validation -  [0.5138888888888888, 0.35185185185185186, 0.5138888888888888, tensor(1.2325)]\n",
      "\n",
      "Epoch  152\n"
     ]
    },
    {
     "name": "stderr",
     "output_type": "stream",
     "text": [
      "9it [00:00, 16.36it/s]"
     ]
    },
    {
     "name": "stdout",
     "output_type": "stream",
     "text": [
      "['acc', 'kappa', 'fmeasure', 'loss']\n",
      "Training Loss  1.234685354762607\n"
     ]
    },
    {
     "name": "stderr",
     "output_type": "stream",
     "text": [
      "\n"
     ]
    },
    {
     "name": "stdout",
     "output_type": "stream",
     "text": [
      "Train -  [0.5486111111111112, 0.39814814814814814, 0.5486111111111112, tensor(1.2192)]\n",
      "Validation -  [0.5208333333333334, 0.36111111111111116, 0.5208333333333334, tensor(1.2307)]\n",
      "\n",
      "Epoch  153\n"
     ]
    },
    {
     "name": "stderr",
     "output_type": "stream",
     "text": [
      "9it [00:00, 17.62it/s]"
     ]
    },
    {
     "name": "stdout",
     "output_type": "stream",
     "text": [
      "['acc', 'kappa', 'fmeasure', 'loss']\n",
      "Training Loss  1.2494495709737141\n"
     ]
    },
    {
     "name": "stderr",
     "output_type": "stream",
     "text": [
      "\n"
     ]
    },
    {
     "name": "stdout",
     "output_type": "stream",
     "text": [
      "Train -  [0.53125, 0.375, 0.53125, tensor(1.2178)]\n",
      "Validation -  [0.5138888888888888, 0.35185185185185186, 0.5138888888888888, tensor(1.2296)]\n",
      "\n",
      "Epoch  154\n"
     ]
    },
    {
     "name": "stderr",
     "output_type": "stream",
     "text": [
      "9it [00:00, 14.47it/s]"
     ]
    },
    {
     "name": "stdout",
     "output_type": "stream",
     "text": [
      "['acc', 'kappa', 'fmeasure', 'loss']\n",
      "Training Loss  1.2318980561362372\n"
     ]
    },
    {
     "name": "stderr",
     "output_type": "stream",
     "text": [
      "\n"
     ]
    },
    {
     "name": "stdout",
     "output_type": "stream",
     "text": [
      "Train -  [0.5381944444444444, 0.3842592592592593, 0.5381944444444444, tensor(1.2162)]\n",
      "Validation -  [0.4965277777777778, 0.3287037037037037, 0.4965277777777778, tensor(1.2282)]\n",
      "\n",
      "Epoch  155\n"
     ]
    },
    {
     "name": "stderr",
     "output_type": "stream",
     "text": [
      "9it [00:00, 15.86it/s]"
     ]
    },
    {
     "name": "stdout",
     "output_type": "stream",
     "text": [
      "['acc', 'kappa', 'fmeasure', 'loss']\n",
      "Training Loss  1.226566235224406\n"
     ]
    },
    {
     "name": "stderr",
     "output_type": "stream",
     "text": [
      "\n"
     ]
    },
    {
     "name": "stdout",
     "output_type": "stream",
     "text": [
      "Train -  [0.5520833333333334, 0.4027777777777778, 0.5520833333333334, tensor(1.2126)]\n",
      "Validation -  [0.5173611111111112, 0.3564814814814815, 0.5173611111111112, tensor(1.2254)]\n",
      "\n",
      "Epoch  156\n"
     ]
    },
    {
     "name": "stderr",
     "output_type": "stream",
     "text": [
      "9it [00:00, 15.22it/s]"
     ]
    },
    {
     "name": "stdout",
     "output_type": "stream",
     "text": [
      "['acc', 'kappa', 'fmeasure', 'loss']\n",
      "Training Loss  1.2262365818023682\n"
     ]
    },
    {
     "name": "stderr",
     "output_type": "stream",
     "text": [
      "\n"
     ]
    },
    {
     "name": "stdout",
     "output_type": "stream",
     "text": [
      "Train -  [0.5625, 0.41666666666666663, 0.5625, tensor(1.2093)]\n",
      "Validation -  [0.5104166666666666, 0.3472222222222222, 0.5104166666666666, tensor(1.2229)]\n",
      "\n",
      "Epoch  157\n"
     ]
    },
    {
     "name": "stderr",
     "output_type": "stream",
     "text": [
      "9it [00:00, 15.88it/s]"
     ]
    },
    {
     "name": "stdout",
     "output_type": "stream",
     "text": [
      "['acc', 'kappa', 'fmeasure', 'loss']\n",
      "Training Loss  1.226825475692749\n"
     ]
    },
    {
     "name": "stderr",
     "output_type": "stream",
     "text": [
      "\n"
     ]
    },
    {
     "name": "stdout",
     "output_type": "stream",
     "text": [
      "Train -  [0.5694444444444444, 0.42592592592592593, 0.5694444444444444, tensor(1.2077)]\n",
      "Validation -  [0.53125, 0.375, 0.53125, tensor(1.2215)]\n",
      "\n",
      "Epoch  158\n"
     ]
    },
    {
     "name": "stderr",
     "output_type": "stream",
     "text": [
      "9it [00:00, 15.22it/s]"
     ]
    },
    {
     "name": "stdout",
     "output_type": "stream",
     "text": [
      "['acc', 'kappa', 'fmeasure', 'loss']\n",
      "Training Loss  1.2226060231526692\n"
     ]
    },
    {
     "name": "stderr",
     "output_type": "stream",
     "text": [
      "\n"
     ]
    },
    {
     "name": "stdout",
     "output_type": "stream",
     "text": [
      "Train -  [0.5555555555555556, 0.40740740740740744, 0.5555555555555556, tensor(1.2051)]\n",
      "Validation -  [0.5, 0.33333333333333337, 0.5, tensor(1.2187)]\n",
      "\n",
      "Epoch  159\n"
     ]
    },
    {
     "name": "stderr",
     "output_type": "stream",
     "text": [
      "9it [00:00, 13.62it/s]"
     ]
    },
    {
     "name": "stdout",
     "output_type": "stream",
     "text": [
      "['acc', 'kappa', 'fmeasure', 'loss']\n",
      "Training Loss  1.2318331400553386\n"
     ]
    },
    {
     "name": "stderr",
     "output_type": "stream",
     "text": [
      "\n"
     ]
    },
    {
     "name": "stdout",
     "output_type": "stream",
     "text": [
      "Train -  [0.5590277777777778, 0.4120370370370371, 0.5590277777777778, tensor(1.2013)]\n",
      "Validation -  [0.5208333333333334, 0.36111111111111116, 0.5208333333333334, tensor(1.2163)]\n",
      "\n",
      "Epoch  160\n"
     ]
    },
    {
     "name": "stderr",
     "output_type": "stream",
     "text": [
      "9it [00:00, 14.64it/s]"
     ]
    },
    {
     "name": "stdout",
     "output_type": "stream",
     "text": [
      "['acc', 'kappa', 'fmeasure', 'loss']\n",
      "Training Loss  1.206341094440884\n"
     ]
    },
    {
     "name": "stderr",
     "output_type": "stream",
     "text": [
      "\n"
     ]
    },
    {
     "name": "stdout",
     "output_type": "stream",
     "text": [
      "Train -  [0.5555555555555556, 0.40740740740740744, 0.5555555555555556, tensor(1.1997)]\n",
      "Validation -  [0.5069444444444444, 0.34259259259259256, 0.5069444444444444, tensor(1.2146)]\n",
      "\n",
      "Epoch  161\n"
     ]
    },
    {
     "name": "stderr",
     "output_type": "stream",
     "text": [
      "9it [00:00, 15.87it/s]"
     ]
    },
    {
     "name": "stdout",
     "output_type": "stream",
     "text": [
      "['acc', 'kappa', 'fmeasure', 'loss']\n",
      "Training Loss  1.2240980201297336\n"
     ]
    },
    {
     "name": "stderr",
     "output_type": "stream",
     "text": [
      "\n"
     ]
    },
    {
     "name": "stdout",
     "output_type": "stream",
     "text": [
      "Train -  [0.5590277777777778, 0.4120370370370371, 0.5590277777777778, tensor(1.1970)]\n",
      "Validation -  [0.5138888888888888, 0.35185185185185186, 0.5138888888888888, tensor(1.2121)]\n",
      "\n",
      "Epoch  162\n"
     ]
    },
    {
     "name": "stderr",
     "output_type": "stream",
     "text": [
      "9it [00:00, 15.85it/s]"
     ]
    },
    {
     "name": "stdout",
     "output_type": "stream",
     "text": [
      "['acc', 'kappa', 'fmeasure', 'loss']\n",
      "Training Loss  1.2145655155181885\n"
     ]
    },
    {
     "name": "stderr",
     "output_type": "stream",
     "text": [
      "\n"
     ]
    },
    {
     "name": "stdout",
     "output_type": "stream",
     "text": [
      "Train -  [0.5555555555555556, 0.40740740740740744, 0.5555555555555556, tensor(1.1939)]\n",
      "Validation -  [0.5381944444444444, 0.3842592592592593, 0.5381944444444444, tensor(1.2098)]\n",
      "\n",
      "Epoch  163\n"
     ]
    },
    {
     "name": "stderr",
     "output_type": "stream",
     "text": [
      "9it [00:00, 15.38it/s]"
     ]
    },
    {
     "name": "stdout",
     "output_type": "stream",
     "text": [
      "['acc', 'kappa', 'fmeasure', 'loss']\n",
      "Training Loss  1.229017734527588\n"
     ]
    },
    {
     "name": "stderr",
     "output_type": "stream",
     "text": [
      "\n"
     ]
    },
    {
     "name": "stdout",
     "output_type": "stream",
     "text": [
      "Train -  [0.5763888888888888, 0.43518518518518523, 0.5763888888888888, tensor(1.1933)]\n",
      "Validation -  [0.53125, 0.375, 0.53125, tensor(1.2093)]\n",
      "\n",
      "Epoch  164\n"
     ]
    },
    {
     "name": "stderr",
     "output_type": "stream",
     "text": [
      "9it [00:00, 17.45it/s]"
     ]
    },
    {
     "name": "stdout",
     "output_type": "stream",
     "text": [
      "['acc', 'kappa', 'fmeasure', 'loss']\n",
      "Training Loss  1.2192520433002048\n"
     ]
    },
    {
     "name": "stderr",
     "output_type": "stream",
     "text": [
      "\n"
     ]
    },
    {
     "name": "stdout",
     "output_type": "stream",
     "text": [
      "Train -  [0.5763888888888888, 0.43518518518518523, 0.5763888888888888, tensor(1.1894)]\n",
      "Validation -  [0.5347222222222222, 0.37962962962962965, 0.5347222222222222, tensor(1.2061)]\n",
      "\n",
      "Epoch  165\n"
     ]
    },
    {
     "name": "stderr",
     "output_type": "stream",
     "text": [
      "9it [00:00, 15.65it/s]"
     ]
    },
    {
     "name": "stdout",
     "output_type": "stream",
     "text": [
      "['acc', 'kappa', 'fmeasure', 'loss']\n",
      "Training Loss  1.2082743909623888\n"
     ]
    },
    {
     "name": "stderr",
     "output_type": "stream",
     "text": [
      "\n"
     ]
    },
    {
     "name": "stdout",
     "output_type": "stream",
     "text": [
      "Train -  [0.5798611111111112, 0.43981481481481477, 0.5798611111111112, tensor(1.1855)]\n",
      "Validation -  [0.5555555555555556, 0.40740740740740744, 0.5555555555555556, tensor(1.2031)]\n",
      "\n",
      "Epoch  166\n"
     ]
    },
    {
     "name": "stderr",
     "output_type": "stream",
     "text": [
      "9it [00:00, 18.80it/s]"
     ]
    },
    {
     "name": "stdout",
     "output_type": "stream",
     "text": [
      "['acc', 'kappa', 'fmeasure', 'loss']\n",
      "Training Loss  1.1981148454878066\n"
     ]
    },
    {
     "name": "stderr",
     "output_type": "stream",
     "text": [
      "\n"
     ]
    },
    {
     "name": "stdout",
     "output_type": "stream",
     "text": [
      "Train -  [0.5694444444444444, 0.42592592592592593, 0.5694444444444444, tensor(1.1822)]\n",
      "Validation -  [0.5416666666666666, 0.38888888888888884, 0.5416666666666666, tensor(1.2002)]\n",
      "\n",
      "Epoch  167\n"
     ]
    },
    {
     "name": "stderr",
     "output_type": "stream",
     "text": [
      "9it [00:00, 19.13it/s]"
     ]
    },
    {
     "name": "stdout",
     "output_type": "stream",
     "text": [
      "['acc', 'kappa', 'fmeasure', 'loss']\n",
      "Training Loss  1.1995497941970825\n"
     ]
    },
    {
     "name": "stderr",
     "output_type": "stream",
     "text": [
      "\n"
     ]
    },
    {
     "name": "stdout",
     "output_type": "stream",
     "text": [
      "Train -  [0.5694444444444444, 0.42592592592592593, 0.5694444444444444, tensor(1.1793)]\n",
      "Validation -  [0.5486111111111112, 0.39814814814814814, 0.5486111111111112, tensor(1.1976)]\n",
      "\n",
      "Epoch  168\n"
     ]
    },
    {
     "name": "stderr",
     "output_type": "stream",
     "text": [
      "9it [00:00, 16.30it/s]"
     ]
    },
    {
     "name": "stdout",
     "output_type": "stream",
     "text": [
      "['acc', 'kappa', 'fmeasure', 'loss']\n",
      "Training Loss  1.198514461517334\n"
     ]
    },
    {
     "name": "stderr",
     "output_type": "stream",
     "text": [
      "\n"
     ]
    },
    {
     "name": "stdout",
     "output_type": "stream",
     "text": [
      "Train -  [0.5798611111111112, 0.43981481481481477, 0.5798611111111112, tensor(1.1761)]\n",
      "Validation -  [0.5555555555555556, 0.40740740740740744, 0.5555555555555556, tensor(1.1946)]\n",
      "\n",
      "Epoch  169\n"
     ]
    },
    {
     "name": "stderr",
     "output_type": "stream",
     "text": [
      "9it [00:00, 14.84it/s]"
     ]
    },
    {
     "name": "stdout",
     "output_type": "stream",
     "text": [
      "['acc', 'kappa', 'fmeasure', 'loss']\n",
      "Training Loss  1.1891438166300456\n"
     ]
    },
    {
     "name": "stderr",
     "output_type": "stream",
     "text": [
      "\n"
     ]
    },
    {
     "name": "stdout",
     "output_type": "stream",
     "text": [
      "Train -  [0.5868055555555556, 0.44907407407407407, 0.5868055555555556, tensor(1.1749)]\n",
      "Validation -  [0.5416666666666666, 0.38888888888888884, 0.5416666666666666, tensor(1.1937)]\n",
      "\n",
      "Epoch  170\n"
     ]
    },
    {
     "name": "stderr",
     "output_type": "stream",
     "text": [
      "9it [00:00, 16.33it/s]"
     ]
    },
    {
     "name": "stdout",
     "output_type": "stream",
     "text": [
      "['acc', 'kappa', 'fmeasure', 'loss']\n",
      "Training Loss  1.2020741701126099\n"
     ]
    },
    {
     "name": "stderr",
     "output_type": "stream",
     "text": [
      "\n"
     ]
    },
    {
     "name": "stdout",
     "output_type": "stream",
     "text": [
      "Train -  [0.5798611111111112, 0.43981481481481477, 0.5798611111111112, tensor(1.1710)]\n",
      "Validation -  [0.5555555555555556, 0.40740740740740744, 0.5555555555555556, tensor(1.1898)]\n",
      "\n",
      "Epoch  171\n"
     ]
    },
    {
     "name": "stderr",
     "output_type": "stream",
     "text": [
      "9it [00:00, 20.40it/s]"
     ]
    },
    {
     "name": "stdout",
     "output_type": "stream",
     "text": [
      "['acc', 'kappa', 'fmeasure', 'loss']\n",
      "Training Loss  1.1861881812413533\n"
     ]
    },
    {
     "name": "stderr",
     "output_type": "stream",
     "text": [
      "\n"
     ]
    },
    {
     "name": "stdout",
     "output_type": "stream",
     "text": [
      "Train -  [0.5729166666666666, 0.4305555555555556, 0.5729166666666666, tensor(1.1699)]\n",
      "Validation -  [0.5416666666666666, 0.38888888888888884, 0.5416666666666666, tensor(1.1886)]\n",
      "\n",
      "Epoch  172\n"
     ]
    },
    {
     "name": "stderr",
     "output_type": "stream",
     "text": [
      "9it [00:00, 16.06it/s]"
     ]
    },
    {
     "name": "stdout",
     "output_type": "stream",
     "text": [
      "['acc', 'kappa', 'fmeasure', 'loss']\n",
      "Training Loss  1.181492567062378\n"
     ]
    },
    {
     "name": "stderr",
     "output_type": "stream",
     "text": [
      "\n"
     ]
    },
    {
     "name": "stdout",
     "output_type": "stream",
     "text": [
      "Train -  [0.5729166666666666, 0.4305555555555556, 0.5729166666666666, tensor(1.1643)]\n",
      "Validation -  [0.5520833333333334, 0.4027777777777778, 0.5520833333333334, tensor(1.1848)]\n",
      "\n",
      "Epoch  173\n"
     ]
    },
    {
     "name": "stderr",
     "output_type": "stream",
     "text": [
      "9it [00:00, 17.68it/s]"
     ]
    },
    {
     "name": "stdout",
     "output_type": "stream",
     "text": [
      "['acc', 'kappa', 'fmeasure', 'loss']\n",
      "Training Loss  1.1854755216174655\n"
     ]
    },
    {
     "name": "stderr",
     "output_type": "stream",
     "text": [
      "\n"
     ]
    },
    {
     "name": "stdout",
     "output_type": "stream",
     "text": [
      "Train -  [0.59375, 0.45833333333333337, 0.59375, tensor(1.1613)]\n",
      "Validation -  [0.5520833333333334, 0.4027777777777778, 0.5520833333333334, tensor(1.1833)]\n",
      "\n",
      "Epoch  174\n"
     ]
    },
    {
     "name": "stderr",
     "output_type": "stream",
     "text": [
      "9it [00:00, 15.70it/s]"
     ]
    },
    {
     "name": "stdout",
     "output_type": "stream",
     "text": [
      "['acc', 'kappa', 'fmeasure', 'loss']\n",
      "Training Loss  1.1896314356062148\n"
     ]
    },
    {
     "name": "stderr",
     "output_type": "stream",
     "text": [
      "\n"
     ]
    },
    {
     "name": "stdout",
     "output_type": "stream",
     "text": [
      "Train -  [0.5833333333333334, 0.4444444444444444, 0.5833333333333334, tensor(1.1594)]\n",
      "Validation -  [0.5416666666666666, 0.38888888888888884, 0.5416666666666666, tensor(1.1822)]\n",
      "\n",
      "Epoch  175\n"
     ]
    },
    {
     "name": "stderr",
     "output_type": "stream",
     "text": [
      "9it [00:00, 14.99it/s]"
     ]
    },
    {
     "name": "stdout",
     "output_type": "stream",
     "text": [
      "['acc', 'kappa', 'fmeasure', 'loss']\n",
      "Training Loss  1.1802360746595595\n"
     ]
    },
    {
     "name": "stderr",
     "output_type": "stream",
     "text": [
      "\n"
     ]
    },
    {
     "name": "stdout",
     "output_type": "stream",
     "text": [
      "Train -  [0.5833333333333334, 0.4444444444444444, 0.5833333333333334, tensor(1.1557)]\n",
      "Validation -  [0.5451388888888888, 0.3935185185185185, 0.5451388888888888, tensor(1.1790)]\n",
      "\n",
      "Epoch  176\n"
     ]
    },
    {
     "name": "stderr",
     "output_type": "stream",
     "text": [
      "9it [00:00, 16.24it/s]"
     ]
    },
    {
     "name": "stdout",
     "output_type": "stream",
     "text": [
      "['acc', 'kappa', 'fmeasure', 'loss']\n",
      "Training Loss  1.1796430216895208\n"
     ]
    },
    {
     "name": "stderr",
     "output_type": "stream",
     "text": [
      "\n"
     ]
    },
    {
     "name": "stdout",
     "output_type": "stream",
     "text": [
      "Train -  [0.5868055555555556, 0.44907407407407407, 0.5868055555555556, tensor(1.1537)]\n",
      "Validation -  [0.5590277777777778, 0.4120370370370371, 0.5590277777777778, tensor(1.1777)]\n",
      "\n",
      "Epoch  177\n"
     ]
    },
    {
     "name": "stderr",
     "output_type": "stream",
     "text": [
      "9it [00:00, 14.68it/s]"
     ]
    },
    {
     "name": "stdout",
     "output_type": "stream",
     "text": [
      "['acc', 'kappa', 'fmeasure', 'loss']\n",
      "Training Loss  1.1701143582661946\n"
     ]
    },
    {
     "name": "stderr",
     "output_type": "stream",
     "text": [
      "\n"
     ]
    },
    {
     "name": "stdout",
     "output_type": "stream",
     "text": [
      "Train -  [0.5868055555555556, 0.44907407407407407, 0.5868055555555556, tensor(1.1502)]\n",
      "Validation -  [0.5625, 0.41666666666666663, 0.5625, tensor(1.1746)]\n",
      "\n",
      "Epoch  178\n"
     ]
    },
    {
     "name": "stderr",
     "output_type": "stream",
     "text": [
      "9it [00:00, 16.44it/s]"
     ]
    },
    {
     "name": "stdout",
     "output_type": "stream",
     "text": [
      "['acc', 'kappa', 'fmeasure', 'loss']\n",
      "Training Loss  1.180805418226454\n"
     ]
    },
    {
     "name": "stderr",
     "output_type": "stream",
     "text": [
      "\n"
     ]
    },
    {
     "name": "stdout",
     "output_type": "stream",
     "text": [
      "Train -  [0.59375, 0.45833333333333337, 0.59375, tensor(1.1475)]\n",
      "Validation -  [0.5659722222222222, 0.4212962962962963, 0.5659722222222222, tensor(1.1727)]\n",
      "\n",
      "Epoch  179\n"
     ]
    },
    {
     "name": "stderr",
     "output_type": "stream",
     "text": [
      "9it [00:00, 17.13it/s]"
     ]
    },
    {
     "name": "stdout",
     "output_type": "stream",
     "text": [
      "['acc', 'kappa', 'fmeasure', 'loss']\n",
      "Training Loss  1.1633887953228421\n"
     ]
    },
    {
     "name": "stderr",
     "output_type": "stream",
     "text": [
      "\n"
     ]
    },
    {
     "name": "stdout",
     "output_type": "stream",
     "text": [
      "Train -  [0.59375, 0.45833333333333337, 0.59375, tensor(1.1455)]\n",
      "Validation -  [0.5659722222222222, 0.4212962962962963, 0.5659722222222222, tensor(1.1709)]\n",
      "\n",
      "Epoch  180\n"
     ]
    },
    {
     "name": "stderr",
     "output_type": "stream",
     "text": [
      "9it [00:00, 21.00it/s]"
     ]
    },
    {
     "name": "stdout",
     "output_type": "stream",
     "text": [
      "['acc', 'kappa', 'fmeasure', 'loss']\n",
      "Training Loss  1.162597868177626\n"
     ]
    },
    {
     "name": "stderr",
     "output_type": "stream",
     "text": [
      "\n"
     ]
    },
    {
     "name": "stdout",
     "output_type": "stream",
     "text": [
      "Train -  [0.5902777777777778, 0.4537037037037037, 0.5902777777777778, tensor(1.1421)]\n",
      "Validation -  [0.5555555555555556, 0.40740740740740744, 0.5555555555555556, tensor(1.1677)]\n",
      "\n",
      "Epoch  181\n"
     ]
    },
    {
     "name": "stderr",
     "output_type": "stream",
     "text": [
      "9it [00:00, 15.70it/s]"
     ]
    },
    {
     "name": "stdout",
     "output_type": "stream",
     "text": [
      "['acc', 'kappa', 'fmeasure', 'loss']\n",
      "Training Loss  1.1674039363861084\n"
     ]
    },
    {
     "name": "stderr",
     "output_type": "stream",
     "text": [
      "\n"
     ]
    },
    {
     "name": "stdout",
     "output_type": "stream",
     "text": [
      "Train -  [0.59375, 0.45833333333333337, 0.59375, tensor(1.1397)]\n",
      "Validation -  [0.5659722222222222, 0.4212962962962963, 0.5659722222222222, tensor(1.1665)]\n",
      "\n",
      "Epoch  182\n"
     ]
    },
    {
     "name": "stderr",
     "output_type": "stream",
     "text": [
      "9it [00:00, 18.52it/s]"
     ]
    },
    {
     "name": "stdout",
     "output_type": "stream",
     "text": [
      "['acc', 'kappa', 'fmeasure', 'loss']\n",
      "Training Loss  1.1589283413357205\n"
     ]
    },
    {
     "name": "stderr",
     "output_type": "stream",
     "text": [
      "\n"
     ]
    },
    {
     "name": "stdout",
     "output_type": "stream",
     "text": [
      "Train -  [0.5798611111111112, 0.43981481481481477, 0.5798611111111112, tensor(1.1402)]\n",
      "Validation -  [0.5486111111111112, 0.39814814814814814, 0.5486111111111112, tensor(1.1679)]\n",
      "\n",
      "Epoch  183\n"
     ]
    },
    {
     "name": "stderr",
     "output_type": "stream",
     "text": [
      "9it [00:00, 18.15it/s]"
     ]
    },
    {
     "name": "stdout",
     "output_type": "stream",
     "text": [
      "['acc', 'kappa', 'fmeasure', 'loss']\n",
      "Training Loss  1.1538337336646185\n"
     ]
    },
    {
     "name": "stderr",
     "output_type": "stream",
     "text": [
      "\n"
     ]
    },
    {
     "name": "stdout",
     "output_type": "stream",
     "text": [
      "Train -  [0.6111111111111112, 0.4814814814814815, 0.6111111111111112, tensor(1.1344)]\n",
      "Validation -  [0.5555555555555556, 0.40740740740740744, 0.5555555555555556, tensor(1.1625)]\n",
      "\n",
      "Epoch  184\n"
     ]
    },
    {
     "name": "stderr",
     "output_type": "stream",
     "text": [
      "9it [00:00, 16.20it/s]"
     ]
    },
    {
     "name": "stdout",
     "output_type": "stream",
     "text": [
      "['acc', 'kappa', 'fmeasure', 'loss']\n",
      "Training Loss  1.1522496673795912\n"
     ]
    },
    {
     "name": "stderr",
     "output_type": "stream",
     "text": [
      "\n"
     ]
    },
    {
     "name": "stdout",
     "output_type": "stream",
     "text": [
      "Train -  [0.6076388888888888, 0.47685185185185186, 0.6076388888888888, tensor(1.1351)]\n",
      "Validation -  [0.5381944444444444, 0.3842592592592593, 0.5381944444444444, tensor(1.1621)]\n",
      "\n",
      "Epoch  185\n"
     ]
    },
    {
     "name": "stderr",
     "output_type": "stream",
     "text": [
      "9it [00:00, 15.30it/s]"
     ]
    },
    {
     "name": "stdout",
     "output_type": "stream",
     "text": [
      "['acc', 'kappa', 'fmeasure', 'loss']\n",
      "Training Loss  1.170997420946757\n"
     ]
    },
    {
     "name": "stderr",
     "output_type": "stream",
     "text": [
      "\n"
     ]
    },
    {
     "name": "stdout",
     "output_type": "stream",
     "text": [
      "Train -  [0.6111111111111112, 0.4814814814814815, 0.6111111111111112, tensor(1.1309)]\n",
      "Validation -  [0.5763888888888888, 0.43518518518518523, 0.5763888888888888, tensor(1.1601)]\n",
      "\n",
      "Epoch  186\n"
     ]
    },
    {
     "name": "stderr",
     "output_type": "stream",
     "text": [
      "9it [00:00, 18.39it/s]"
     ]
    },
    {
     "name": "stdout",
     "output_type": "stream",
     "text": [
      "['acc', 'kappa', 'fmeasure', 'loss']\n",
      "Training Loss  1.1425478325949774\n"
     ]
    },
    {
     "name": "stderr",
     "output_type": "stream",
     "text": [
      "\n"
     ]
    },
    {
     "name": "stdout",
     "output_type": "stream",
     "text": [
      "Train -  [0.6631944444444444, 0.5509259259259259, 0.6631944444444444, tensor(1.1280)]\n",
      "Validation -  [0.5798611111111112, 0.43981481481481477, 0.5798611111111112, tensor(1.1584)]\n",
      "\n",
      "Epoch  187\n"
     ]
    },
    {
     "name": "stderr",
     "output_type": "stream",
     "text": [
      "9it [00:00, 16.30it/s]"
     ]
    },
    {
     "name": "stdout",
     "output_type": "stream",
     "text": [
      "['acc', 'kappa', 'fmeasure', 'loss']\n",
      "Training Loss  1.1411524083879259\n"
     ]
    },
    {
     "name": "stderr",
     "output_type": "stream",
     "text": [
      "\n"
     ]
    },
    {
     "name": "stdout",
     "output_type": "stream",
     "text": [
      "Train -  [0.6354166666666666, 0.5138888888888888, 0.6354166666666666, tensor(1.1260)]\n",
      "Validation -  [0.6041666666666666, 0.4722222222222222, 0.6041666666666666, tensor(1.1560)]\n",
      "\n",
      "Epoch  188\n"
     ]
    },
    {
     "name": "stderr",
     "output_type": "stream",
     "text": [
      "9it [00:00, 16.11it/s]"
     ]
    },
    {
     "name": "stdout",
     "output_type": "stream",
     "text": [
      "['acc', 'kappa', 'fmeasure', 'loss']\n",
      "Training Loss  1.1455197466744318\n"
     ]
    },
    {
     "name": "stderr",
     "output_type": "stream",
     "text": [
      "\n"
     ]
    },
    {
     "name": "stdout",
     "output_type": "stream",
     "text": [
      "Train -  [0.6597222222222222, 0.5462962962962963, 0.6597222222222222, tensor(1.1245)]\n",
      "Validation -  [0.5902777777777778, 0.4537037037037037, 0.5902777777777778, tensor(1.1541)]\n",
      "\n",
      "Epoch  189\n"
     ]
    },
    {
     "name": "stderr",
     "output_type": "stream",
     "text": [
      "9it [00:00, 16.13it/s]"
     ]
    },
    {
     "name": "stdout",
     "output_type": "stream",
     "text": [
      "['acc', 'kappa', 'fmeasure', 'loss']\n",
      "Training Loss  1.1499593125449286\n"
     ]
    },
    {
     "name": "stderr",
     "output_type": "stream",
     "text": [
      "\n"
     ]
    },
    {
     "name": "stdout",
     "output_type": "stream",
     "text": [
      "Train -  [0.6388888888888888, 0.5185185185185186, 0.6388888888888888, tensor(1.1232)]\n",
      "Validation -  [0.5902777777777778, 0.4537037037037037, 0.5902777777777778, tensor(1.1557)]\n",
      "\n",
      "Epoch  190\n"
     ]
    },
    {
     "name": "stderr",
     "output_type": "stream",
     "text": [
      "9it [00:00, 15.94it/s]"
     ]
    },
    {
     "name": "stdout",
     "output_type": "stream",
     "text": [
      "['acc', 'kappa', 'fmeasure', 'loss']\n",
      "Training Loss  1.1403002076678805\n"
     ]
    },
    {
     "name": "stderr",
     "output_type": "stream",
     "text": [
      "\n"
     ]
    },
    {
     "name": "stdout",
     "output_type": "stream",
     "text": [
      "Train -  [0.6354166666666666, 0.5138888888888888, 0.6354166666666666, tensor(1.1226)]\n",
      "Validation -  [0.5902777777777778, 0.4537037037037037, 0.5902777777777778, tensor(1.1546)]\n",
      "\n",
      "Epoch  191\n"
     ]
    },
    {
     "name": "stderr",
     "output_type": "stream",
     "text": [
      "9it [00:00, 17.01it/s]"
     ]
    },
    {
     "name": "stdout",
     "output_type": "stream",
     "text": [
      "['acc', 'kappa', 'fmeasure', 'loss']\n",
      "Training Loss  1.1461473438474867\n"
     ]
    },
    {
     "name": "stderr",
     "output_type": "stream",
     "text": [
      "\n"
     ]
    },
    {
     "name": "stdout",
     "output_type": "stream",
     "text": [
      "Train -  [0.6319444444444444, 0.5092592592592593, 0.6319444444444444, tensor(1.1209)]\n",
      "Validation -  [0.5972222222222222, 0.4629629629629629, 0.5972222222222222, tensor(1.1540)]\n",
      "\n",
      "Epoch  192\n"
     ]
    },
    {
     "name": "stderr",
     "output_type": "stream",
     "text": [
      "9it [00:00, 17.21it/s]"
     ]
    },
    {
     "name": "stdout",
     "output_type": "stream",
     "text": [
      "['acc', 'kappa', 'fmeasure', 'loss']\n",
      "Training Loss  1.1486691501405504\n"
     ]
    },
    {
     "name": "stderr",
     "output_type": "stream",
     "text": [
      "\n"
     ]
    },
    {
     "name": "stdout",
     "output_type": "stream",
     "text": [
      "Train -  [0.6354166666666666, 0.5138888888888888, 0.6354166666666666, tensor(1.1180)]\n",
      "Validation -  [0.5833333333333334, 0.4444444444444444, 0.5833333333333334, tensor(1.1511)]\n",
      "\n",
      "Epoch  193\n"
     ]
    },
    {
     "name": "stderr",
     "output_type": "stream",
     "text": [
      "9it [00:00, 16.31it/s]"
     ]
    },
    {
     "name": "stdout",
     "output_type": "stream",
     "text": [
      "['acc', 'kappa', 'fmeasure', 'loss']\n",
      "Training Loss  1.1432262659072876\n"
     ]
    },
    {
     "name": "stderr",
     "output_type": "stream",
     "text": [
      "\n"
     ]
    },
    {
     "name": "stdout",
     "output_type": "stream",
     "text": [
      "Train -  [0.6388888888888888, 0.5185185185185186, 0.6388888888888888, tensor(1.1157)]\n",
      "Validation -  [0.5833333333333334, 0.4444444444444444, 0.5833333333333334, tensor(1.1495)]\n",
      "\n",
      "Epoch  194\n"
     ]
    },
    {
     "name": "stderr",
     "output_type": "stream",
     "text": [
      "9it [00:00, 16.44it/s]"
     ]
    },
    {
     "name": "stdout",
     "output_type": "stream",
     "text": [
      "['acc', 'kappa', 'fmeasure', 'loss']\n",
      "Training Loss  1.1313174565633137\n"
     ]
    },
    {
     "name": "stderr",
     "output_type": "stream",
     "text": [
      "\n"
     ]
    },
    {
     "name": "stdout",
     "output_type": "stream",
     "text": [
      "Train -  [0.6458333333333334, 0.5277777777777778, 0.6458333333333334, tensor(1.1171)]\n",
      "Validation -  [0.5972222222222222, 0.4629629629629629, 0.5972222222222222, tensor(1.1479)]\n",
      "\n",
      "Epoch  195\n"
     ]
    },
    {
     "name": "stderr",
     "output_type": "stream",
     "text": [
      "9it [00:00, 15.86it/s]"
     ]
    },
    {
     "name": "stdout",
     "output_type": "stream",
     "text": [
      "['acc', 'kappa', 'fmeasure', 'loss']\n",
      "Training Loss  1.1351429886288114\n"
     ]
    },
    {
     "name": "stderr",
     "output_type": "stream",
     "text": [
      "\n"
     ]
    },
    {
     "name": "stdout",
     "output_type": "stream",
     "text": [
      "Train -  [0.6388888888888888, 0.5185185185185186, 0.6388888888888888, tensor(1.1149)]\n",
      "Validation -  [0.59375, 0.45833333333333337, 0.59375, tensor(1.1508)]\n",
      "\n",
      "Epoch  196\n"
     ]
    },
    {
     "name": "stderr",
     "output_type": "stream",
     "text": [
      "9it [00:00, 15.84it/s]"
     ]
    },
    {
     "name": "stdout",
     "output_type": "stream",
     "text": [
      "['acc', 'kappa', 'fmeasure', 'loss']\n",
      "Training Loss  1.1420254574881659\n"
     ]
    },
    {
     "name": "stderr",
     "output_type": "stream",
     "text": [
      "\n"
     ]
    },
    {
     "name": "stdout",
     "output_type": "stream",
     "text": [
      "Train -  [0.6493055555555556, 0.5324074074074074, 0.6493055555555556, tensor(1.1111)]\n",
      "Validation -  [0.5972222222222222, 0.4629629629629629, 0.5972222222222222, tensor(1.1461)]\n",
      "\n",
      "Epoch  197\n"
     ]
    },
    {
     "name": "stderr",
     "output_type": "stream",
     "text": [
      "9it [00:00, 15.66it/s]"
     ]
    },
    {
     "name": "stdout",
     "output_type": "stream",
     "text": [
      "['acc', 'kappa', 'fmeasure', 'loss']\n",
      "Training Loss  1.1236071983973186\n"
     ]
    },
    {
     "name": "stderr",
     "output_type": "stream",
     "text": [
      "\n"
     ]
    },
    {
     "name": "stdout",
     "output_type": "stream",
     "text": [
      "Train -  [0.6458333333333334, 0.5277777777777778, 0.6458333333333334, tensor(1.1096)]\n",
      "Validation -  [0.59375, 0.45833333333333337, 0.59375, tensor(1.1441)]\n",
      "\n",
      "Epoch  198\n"
     ]
    },
    {
     "name": "stderr",
     "output_type": "stream",
     "text": [
      "9it [00:00, 16.64it/s]"
     ]
    },
    {
     "name": "stdout",
     "output_type": "stream",
     "text": [
      "['acc', 'kappa', 'fmeasure', 'loss']\n",
      "Training Loss  1.1308609379662409\n"
     ]
    },
    {
     "name": "stderr",
     "output_type": "stream",
     "text": [
      "\n"
     ]
    },
    {
     "name": "stdout",
     "output_type": "stream",
     "text": [
      "Train -  [0.6493055555555556, 0.5324074074074074, 0.6493055555555556, tensor(1.1098)]\n",
      "Validation -  [0.59375, 0.45833333333333337, 0.59375, tensor(1.1422)]\n",
      "\n",
      "Epoch  199\n"
     ]
    },
    {
     "name": "stderr",
     "output_type": "stream",
     "text": [
      "9it [00:00, 16.16it/s]"
     ]
    },
    {
     "name": "stdout",
     "output_type": "stream",
     "text": [
      "['acc', 'kappa', 'fmeasure', 'loss']\n",
      "Training Loss  1.125765495830112\n"
     ]
    },
    {
     "name": "stderr",
     "output_type": "stream",
     "text": [
      "\n"
     ]
    },
    {
     "name": "stdout",
     "output_type": "stream",
     "text": [
      "Train -  [0.625, 0.5, 0.625, tensor(1.1100)]\n",
      "Validation -  [0.5902777777777778, 0.4537037037037037, 0.5902777777777778, tensor(1.1442)]\n",
      "\n",
      "Epoch  200\n"
     ]
    },
    {
     "name": "stderr",
     "output_type": "stream",
     "text": [
      "9it [00:00, 14.29it/s]"
     ]
    },
    {
     "name": "stdout",
     "output_type": "stream",
     "text": [
      "['acc', 'kappa', 'fmeasure', 'loss']\n",
      "Training Loss  1.13558206293318\n"
     ]
    },
    {
     "name": "stderr",
     "output_type": "stream",
     "text": [
      "\n"
     ]
    },
    {
     "name": "stdout",
     "output_type": "stream",
     "text": [
      "Train -  [0.6458333333333334, 0.5277777777777778, 0.6458333333333334, tensor(1.1077)]\n",
      "Validation -  [0.6041666666666666, 0.4722222222222222, 0.6041666666666666, tensor(1.1422)]\n",
      "\n",
      "Epoch  201\n"
     ]
    },
    {
     "name": "stderr",
     "output_type": "stream",
     "text": [
      "9it [00:00, 16.40it/s]"
     ]
    },
    {
     "name": "stdout",
     "output_type": "stream",
     "text": [
      "['acc', 'kappa', 'fmeasure', 'loss']\n",
      "Training Loss  1.1275204022725422\n"
     ]
    },
    {
     "name": "stderr",
     "output_type": "stream",
     "text": [
      "\n"
     ]
    },
    {
     "name": "stdout",
     "output_type": "stream",
     "text": [
      "Train -  [0.6493055555555556, 0.5324074074074074, 0.6493055555555556, tensor(1.1073)]\n",
      "Validation -  [0.6006944444444444, 0.46759259259259256, 0.6006944444444444, tensor(1.1414)]\n",
      "\n",
      "Epoch  202\n"
     ]
    },
    {
     "name": "stderr",
     "output_type": "stream",
     "text": [
      "9it [00:00, 14.35it/s]"
     ]
    },
    {
     "name": "stdout",
     "output_type": "stream",
     "text": [
      "['acc', 'kappa', 'fmeasure', 'loss']\n",
      "Training Loss  1.1238818301094904\n"
     ]
    },
    {
     "name": "stderr",
     "output_type": "stream",
     "text": [
      "\n"
     ]
    },
    {
     "name": "stdout",
     "output_type": "stream",
     "text": [
      "Train -  [0.6458333333333334, 0.5277777777777778, 0.6458333333333334, tensor(1.1064)]\n",
      "Validation -  [0.5972222222222222, 0.4629629629629629, 0.5972222222222222, tensor(1.1410)]\n",
      "\n",
      "Epoch  203\n"
     ]
    },
    {
     "name": "stderr",
     "output_type": "stream",
     "text": [
      "9it [00:00, 17.96it/s]"
     ]
    },
    {
     "name": "stdout",
     "output_type": "stream",
     "text": [
      "['acc', 'kappa', 'fmeasure', 'loss']\n",
      "Training Loss  1.1253225935830011\n"
     ]
    },
    {
     "name": "stderr",
     "output_type": "stream",
     "text": [
      "\n"
     ]
    },
    {
     "name": "stdout",
     "output_type": "stream",
     "text": [
      "Train -  [0.6458333333333334, 0.5277777777777778, 0.6458333333333334, tensor(1.1063)]\n",
      "Validation -  [0.5972222222222222, 0.4629629629629629, 0.5972222222222222, tensor(1.1406)]\n",
      "\n",
      "Epoch  204\n"
     ]
    },
    {
     "name": "stderr",
     "output_type": "stream",
     "text": [
      "9it [00:00, 17.26it/s]"
     ]
    },
    {
     "name": "stdout",
     "output_type": "stream",
     "text": [
      "['acc', 'kappa', 'fmeasure', 'loss']\n",
      "Training Loss  1.1419159438874986\n"
     ]
    },
    {
     "name": "stderr",
     "output_type": "stream",
     "text": [
      "\n"
     ]
    },
    {
     "name": "stdout",
     "output_type": "stream",
     "text": [
      "Train -  [0.6493055555555556, 0.5324074074074074, 0.6493055555555556, tensor(1.1060)]\n",
      "Validation -  [0.5972222222222222, 0.4629629629629629, 0.5972222222222222, tensor(1.1407)]\n",
      "\n",
      "Epoch  205\n"
     ]
    },
    {
     "name": "stderr",
     "output_type": "stream",
     "text": [
      "9it [00:00, 14.95it/s]"
     ]
    },
    {
     "name": "stdout",
     "output_type": "stream",
     "text": [
      "['acc', 'kappa', 'fmeasure', 'loss']\n",
      "Training Loss  1.1310593154695299\n"
     ]
    },
    {
     "name": "stderr",
     "output_type": "stream",
     "text": [
      "\n"
     ]
    },
    {
     "name": "stdout",
     "output_type": "stream",
     "text": [
      "Train -  [0.6458333333333334, 0.5277777777777778, 0.6458333333333334, tensor(1.1056)]\n",
      "Validation -  [0.5972222222222222, 0.4629629629629629, 0.5972222222222222, tensor(1.1405)]\n",
      "\n",
      "Epoch  206\n"
     ]
    },
    {
     "name": "stderr",
     "output_type": "stream",
     "text": [
      "9it [00:00, 16.69it/s]"
     ]
    },
    {
     "name": "stdout",
     "output_type": "stream",
     "text": [
      "['acc', 'kappa', 'fmeasure', 'loss']\n",
      "Training Loss  1.1332430839538574\n"
     ]
    },
    {
     "name": "stderr",
     "output_type": "stream",
     "text": [
      "\n"
     ]
    },
    {
     "name": "stdout",
     "output_type": "stream",
     "text": [
      "Train -  [0.6458333333333334, 0.5277777777777778, 0.6458333333333334, tensor(1.1053)]\n",
      "Validation -  [0.5972222222222222, 0.4629629629629629, 0.5972222222222222, tensor(1.1408)]\n",
      "\n",
      "Epoch  207\n"
     ]
    },
    {
     "name": "stderr",
     "output_type": "stream",
     "text": [
      "9it [00:00, 14.12it/s]"
     ]
    },
    {
     "name": "stdout",
     "output_type": "stream",
     "text": [
      "['acc', 'kappa', 'fmeasure', 'loss']\n",
      "Training Loss  1.1170991129345365\n"
     ]
    },
    {
     "name": "stderr",
     "output_type": "stream",
     "text": [
      "\n"
     ]
    },
    {
     "name": "stdout",
     "output_type": "stream",
     "text": [
      "Train -  [0.6493055555555556, 0.5324074074074074, 0.6493055555555556, tensor(1.1050)]\n",
      "Validation -  [0.6006944444444444, 0.46759259259259256, 0.6006944444444444, tensor(1.1406)]\n",
      "\n",
      "Epoch  208\n"
     ]
    },
    {
     "name": "stderr",
     "output_type": "stream",
     "text": [
      "9it [00:00, 14.58it/s]"
     ]
    },
    {
     "name": "stdout",
     "output_type": "stream",
     "text": [
      "['acc', 'kappa', 'fmeasure', 'loss']\n",
      "Training Loss  1.1243180301454332\n"
     ]
    },
    {
     "name": "stderr",
     "output_type": "stream",
     "text": [
      "\n"
     ]
    },
    {
     "name": "stdout",
     "output_type": "stream",
     "text": [
      "Train -  [0.6458333333333334, 0.5277777777777778, 0.6458333333333334, tensor(1.1049)]\n",
      "Validation -  [0.6006944444444444, 0.46759259259259256, 0.6006944444444444, tensor(1.1405)]\n",
      "\n",
      "Epoch  209\n"
     ]
    },
    {
     "name": "stderr",
     "output_type": "stream",
     "text": [
      "9it [00:00, 16.39it/s]"
     ]
    },
    {
     "name": "stdout",
     "output_type": "stream",
     "text": [
      "['acc', 'kappa', 'fmeasure', 'loss']\n",
      "Training Loss  1.1257878144582112\n"
     ]
    },
    {
     "name": "stderr",
     "output_type": "stream",
     "text": [
      "\n"
     ]
    },
    {
     "name": "stdout",
     "output_type": "stream",
     "text": [
      "Train -  [0.6458333333333334, 0.5277777777777778, 0.6458333333333334, tensor(1.1045)]\n",
      "Validation -  [0.6006944444444444, 0.46759259259259256, 0.6006944444444444, tensor(1.1405)]\n",
      "\n",
      "Epoch  210\n"
     ]
    },
    {
     "name": "stderr",
     "output_type": "stream",
     "text": [
      "9it [00:00, 18.82it/s]"
     ]
    },
    {
     "name": "stdout",
     "output_type": "stream",
     "text": [
      "['acc', 'kappa', 'fmeasure', 'loss']\n",
      "Training Loss  1.1150083012051053\n"
     ]
    },
    {
     "name": "stderr",
     "output_type": "stream",
     "text": [
      "\n"
     ]
    },
    {
     "name": "stdout",
     "output_type": "stream",
     "text": [
      "Train -  [0.6458333333333334, 0.5277777777777778, 0.6458333333333334, tensor(1.1049)]\n",
      "Validation -  [0.5972222222222222, 0.4629629629629629, 0.5972222222222222, tensor(1.1406)]\n",
      "\n",
      "Epoch  211\n"
     ]
    },
    {
     "name": "stderr",
     "output_type": "stream",
     "text": [
      "9it [00:00, 18.62it/s]"
     ]
    },
    {
     "name": "stdout",
     "output_type": "stream",
     "text": [
      "['acc', 'kappa', 'fmeasure', 'loss']\n",
      "Training Loss  1.14176426993476\n"
     ]
    },
    {
     "name": "stderr",
     "output_type": "stream",
     "text": [
      "\n"
     ]
    },
    {
     "name": "stdout",
     "output_type": "stream",
     "text": [
      "Train -  [0.6493055555555556, 0.5324074074074074, 0.6493055555555556, tensor(1.1047)]\n",
      "Validation -  [0.5972222222222222, 0.4629629629629629, 0.5972222222222222, tensor(1.1409)]\n",
      "\n",
      "Epoch  212\n"
     ]
    },
    {
     "name": "stderr",
     "output_type": "stream",
     "text": [
      "9it [00:00, 15.24it/s]"
     ]
    },
    {
     "name": "stdout",
     "output_type": "stream",
     "text": [
      "['acc', 'kappa', 'fmeasure', 'loss']\n",
      "Training Loss  1.1138007905748155\n"
     ]
    },
    {
     "name": "stderr",
     "output_type": "stream",
     "text": [
      "\n"
     ]
    },
    {
     "name": "stdout",
     "output_type": "stream",
     "text": [
      "Train -  [0.6527777777777778, 0.537037037037037, 0.6527777777777778, tensor(1.1044)]\n",
      "Validation -  [0.5902777777777778, 0.4537037037037037, 0.5902777777777778, tensor(1.1411)]\n",
      "\n",
      "Epoch  213\n"
     ]
    },
    {
     "name": "stderr",
     "output_type": "stream",
     "text": [
      "9it [00:00, 17.52it/s]"
     ]
    },
    {
     "name": "stdout",
     "output_type": "stream",
     "text": [
      "['acc', 'kappa', 'fmeasure', 'loss']\n",
      "Training Loss  1.1295423242780898\n"
     ]
    },
    {
     "name": "stderr",
     "output_type": "stream",
     "text": [
      "\n"
     ]
    },
    {
     "name": "stdout",
     "output_type": "stream",
     "text": [
      "Train -  [0.6493055555555556, 0.5324074074074074, 0.6493055555555556, tensor(1.1040)]\n",
      "Validation -  [0.5972222222222222, 0.4629629629629629, 0.5972222222222222, tensor(1.1407)]\n",
      "\n",
      "Epoch  214\n"
     ]
    },
    {
     "name": "stderr",
     "output_type": "stream",
     "text": [
      "9it [00:00, 13.39it/s]"
     ]
    },
    {
     "name": "stdout",
     "output_type": "stream",
     "text": [
      "['acc', 'kappa', 'fmeasure', 'loss']\n",
      "Training Loss  1.1293883721033733\n"
     ]
    },
    {
     "name": "stderr",
     "output_type": "stream",
     "text": [
      "\n"
     ]
    },
    {
     "name": "stdout",
     "output_type": "stream",
     "text": [
      "Train -  [0.6493055555555556, 0.5324074074074074, 0.6493055555555556, tensor(1.1039)]\n",
      "Validation -  [0.6006944444444444, 0.46759259259259256, 0.6006944444444444, tensor(1.1404)]\n",
      "\n",
      "Epoch  215\n"
     ]
    },
    {
     "name": "stderr",
     "output_type": "stream",
     "text": [
      "9it [00:00, 16.62it/s]"
     ]
    },
    {
     "name": "stdout",
     "output_type": "stream",
     "text": [
      "['acc', 'kappa', 'fmeasure', 'loss']\n",
      "Training Loss  1.1155427826775446\n"
     ]
    },
    {
     "name": "stderr",
     "output_type": "stream",
     "text": [
      "\n"
     ]
    },
    {
     "name": "stdout",
     "output_type": "stream",
     "text": [
      "Train -  [0.6458333333333334, 0.5277777777777778, 0.6458333333333334, tensor(1.1039)]\n",
      "Validation -  [0.6006944444444444, 0.46759259259259256, 0.6006944444444444, tensor(1.1403)]\n",
      "\n",
      "Epoch  216\n"
     ]
    },
    {
     "name": "stderr",
     "output_type": "stream",
     "text": [
      "9it [00:00, 15.92it/s]"
     ]
    },
    {
     "name": "stdout",
     "output_type": "stream",
     "text": [
      "['acc', 'kappa', 'fmeasure', 'loss']\n",
      "Training Loss  1.1352511379453871\n"
     ]
    },
    {
     "name": "stderr",
     "output_type": "stream",
     "text": [
      "\n"
     ]
    },
    {
     "name": "stdout",
     "output_type": "stream",
     "text": [
      "Train -  [0.6458333333333334, 0.5277777777777778, 0.6458333333333334, tensor(1.1048)]\n",
      "Validation -  [0.6041666666666666, 0.4722222222222222, 0.6041666666666666, tensor(1.1404)]\n",
      "\n",
      "Epoch  217\n"
     ]
    },
    {
     "name": "stderr",
     "output_type": "stream",
     "text": [
      "9it [00:00, 15.15it/s]"
     ]
    },
    {
     "name": "stdout",
     "output_type": "stream",
     "text": [
      "['acc', 'kappa', 'fmeasure', 'loss']\n",
      "Training Loss  1.1212085088094075\n"
     ]
    },
    {
     "name": "stderr",
     "output_type": "stream",
     "text": [
      "\n"
     ]
    },
    {
     "name": "stdout",
     "output_type": "stream",
     "text": [
      "Train -  [0.6458333333333334, 0.5277777777777778, 0.6458333333333334, tensor(1.1043)]\n",
      "Validation -  [0.5972222222222222, 0.4629629629629629, 0.5972222222222222, tensor(1.1403)]\n",
      "\n",
      "Epoch  218\n"
     ]
    },
    {
     "name": "stderr",
     "output_type": "stream",
     "text": [
      "9it [00:00, 15.65it/s]"
     ]
    },
    {
     "name": "stdout",
     "output_type": "stream",
     "text": [
      "['acc', 'kappa', 'fmeasure', 'loss']\n",
      "Training Loss  1.1299737559424505\n"
     ]
    },
    {
     "name": "stderr",
     "output_type": "stream",
     "text": [
      "\n"
     ]
    },
    {
     "name": "stdout",
     "output_type": "stream",
     "text": [
      "Train -  [0.6458333333333334, 0.5277777777777778, 0.6458333333333334, tensor(1.1036)]\n",
      "Validation -  [0.6006944444444444, 0.46759259259259256, 0.6006944444444444, tensor(1.1401)]\n",
      "\n",
      "Epoch  219\n"
     ]
    },
    {
     "name": "stderr",
     "output_type": "stream",
     "text": [
      "9it [00:00, 16.64it/s]"
     ]
    },
    {
     "name": "stdout",
     "output_type": "stream",
     "text": [
      "['acc', 'kappa', 'fmeasure', 'loss']\n",
      "Training Loss  1.1256091727150812\n"
     ]
    },
    {
     "name": "stderr",
     "output_type": "stream",
     "text": [
      "\n"
     ]
    },
    {
     "name": "stdout",
     "output_type": "stream",
     "text": [
      "Train -  [0.6493055555555556, 0.5324074074074074, 0.6493055555555556, tensor(1.1030)]\n",
      "Validation -  [0.5972222222222222, 0.4629629629629629, 0.5972222222222222, tensor(1.1401)]\n",
      "\n",
      "Epoch  220\n"
     ]
    },
    {
     "name": "stderr",
     "output_type": "stream",
     "text": [
      "9it [00:00, 18.74it/s]"
     ]
    },
    {
     "name": "stdout",
     "output_type": "stream",
     "text": [
      "['acc', 'kappa', 'fmeasure', 'loss']\n",
      "Training Loss  1.129747165573968\n"
     ]
    },
    {
     "name": "stderr",
     "output_type": "stream",
     "text": [
      "\n"
     ]
    },
    {
     "name": "stdout",
     "output_type": "stream",
     "text": [
      "Train -  [0.6527777777777778, 0.537037037037037, 0.6527777777777778, tensor(1.1029)]\n",
      "Validation -  [0.59375, 0.45833333333333337, 0.59375, tensor(1.1405)]\n",
      "\n",
      "Epoch  221\n"
     ]
    },
    {
     "name": "stderr",
     "output_type": "stream",
     "text": [
      "9it [00:00, 15.64it/s]"
     ]
    },
    {
     "name": "stdout",
     "output_type": "stream",
     "text": [
      "['acc', 'kappa', 'fmeasure', 'loss']\n",
      "Training Loss  1.1306931840048895\n"
     ]
    },
    {
     "name": "stderr",
     "output_type": "stream",
     "text": [
      "\n"
     ]
    },
    {
     "name": "stdout",
     "output_type": "stream",
     "text": [
      "Train -  [0.6458333333333334, 0.5277777777777778, 0.6458333333333334, tensor(1.1029)]\n",
      "Validation -  [0.59375, 0.45833333333333337, 0.59375, tensor(1.1409)]\n",
      "\n",
      "Epoch  222\n"
     ]
    },
    {
     "name": "stderr",
     "output_type": "stream",
     "text": [
      "9it [00:00, 14.08it/s]"
     ]
    },
    {
     "name": "stdout",
     "output_type": "stream",
     "text": [
      "['acc', 'kappa', 'fmeasure', 'loss']\n",
      "Training Loss  1.1106401416990492\n"
     ]
    },
    {
     "name": "stderr",
     "output_type": "stream",
     "text": [
      "\n"
     ]
    },
    {
     "name": "stdout",
     "output_type": "stream",
     "text": [
      "Train -  [0.65625, 0.5416666666666667, 0.65625, tensor(1.1028)]\n",
      "Validation -  [0.5902777777777778, 0.4537037037037037, 0.5902777777777778, tensor(1.1410)]\n",
      "\n",
      "Epoch  223\n"
     ]
    },
    {
     "name": "stderr",
     "output_type": "stream",
     "text": [
      "9it [00:00, 14.66it/s]"
     ]
    },
    {
     "name": "stdout",
     "output_type": "stream",
     "text": [
      "['acc', 'kappa', 'fmeasure', 'loss']\n",
      "Training Loss  1.1208699544270833\n"
     ]
    },
    {
     "name": "stderr",
     "output_type": "stream",
     "text": [
      "\n"
     ]
    },
    {
     "name": "stdout",
     "output_type": "stream",
     "text": [
      "Train -  [0.6527777777777778, 0.537037037037037, 0.6527777777777778, tensor(1.1028)]\n",
      "Validation -  [0.5902777777777778, 0.4537037037037037, 0.5902777777777778, tensor(1.1412)]\n",
      "\n",
      "Epoch  224\n"
     ]
    },
    {
     "name": "stderr",
     "output_type": "stream",
     "text": [
      "9it [00:00, 16.06it/s]"
     ]
    },
    {
     "name": "stdout",
     "output_type": "stream",
     "text": [
      "['acc', 'kappa', 'fmeasure', 'loss']\n",
      "Training Loss  1.1107365157869127\n"
     ]
    },
    {
     "name": "stderr",
     "output_type": "stream",
     "text": [
      "\n"
     ]
    },
    {
     "name": "stdout",
     "output_type": "stream",
     "text": [
      "Train -  [0.6493055555555556, 0.5324074074074074, 0.6493055555555556, tensor(1.1027)]\n",
      "Validation -  [0.5972222222222222, 0.4629629629629629, 0.5972222222222222, tensor(1.1407)]\n",
      "\n",
      "Epoch  225\n"
     ]
    },
    {
     "name": "stderr",
     "output_type": "stream",
     "text": [
      "9it [00:00, 15.24it/s]"
     ]
    },
    {
     "name": "stdout",
     "output_type": "stream",
     "text": [
      "['acc', 'kappa', 'fmeasure', 'loss']\n",
      "Training Loss  1.123541858461168\n"
     ]
    },
    {
     "name": "stderr",
     "output_type": "stream",
     "text": [
      "\n"
     ]
    },
    {
     "name": "stdout",
     "output_type": "stream",
     "text": [
      "Train -  [0.6493055555555556, 0.5324074074074074, 0.6493055555555556, tensor(1.1025)]\n",
      "Validation -  [0.59375, 0.45833333333333337, 0.59375, tensor(1.1404)]\n",
      "\n",
      "Epoch  226\n"
     ]
    },
    {
     "name": "stderr",
     "output_type": "stream",
     "text": [
      "9it [00:00, 14.60it/s]"
     ]
    },
    {
     "name": "stdout",
     "output_type": "stream",
     "text": [
      "['acc', 'kappa', 'fmeasure', 'loss']\n",
      "Training Loss  1.137323538462321\n"
     ]
    },
    {
     "name": "stderr",
     "output_type": "stream",
     "text": [
      "\n"
     ]
    },
    {
     "name": "stdout",
     "output_type": "stream",
     "text": [
      "Train -  [0.6493055555555556, 0.5324074074074074, 0.6493055555555556, tensor(1.1026)]\n",
      "Validation -  [0.6041666666666666, 0.4722222222222222, 0.6041666666666666, tensor(1.1400)]\n",
      "\n",
      "Epoch  227\n"
     ]
    },
    {
     "name": "stderr",
     "output_type": "stream",
     "text": [
      "9it [00:00, 17.37it/s]"
     ]
    },
    {
     "name": "stdout",
     "output_type": "stream",
     "text": [
      "['acc', 'kappa', 'fmeasure', 'loss']\n",
      "Training Loss  1.1261719862620037\n"
     ]
    },
    {
     "name": "stderr",
     "output_type": "stream",
     "text": [
      "\n"
     ]
    },
    {
     "name": "stdout",
     "output_type": "stream",
     "text": [
      "Train -  [0.6458333333333334, 0.5277777777777778, 0.6458333333333334, tensor(1.1027)]\n",
      "Validation -  [0.6006944444444444, 0.46759259259259256, 0.6006944444444444, tensor(1.1396)]\n",
      "\n",
      "Epoch  228\n"
     ]
    },
    {
     "name": "stderr",
     "output_type": "stream",
     "text": [
      "9it [00:00, 16.61it/s]"
     ]
    },
    {
     "name": "stdout",
     "output_type": "stream",
     "text": [
      "['acc', 'kappa', 'fmeasure', 'loss']\n",
      "Training Loss  1.1223060290018718\n"
     ]
    },
    {
     "name": "stderr",
     "output_type": "stream",
     "text": [
      "\n"
     ]
    },
    {
     "name": "stdout",
     "output_type": "stream",
     "text": [
      "Train -  [0.6493055555555556, 0.5324074074074074, 0.6493055555555556, tensor(1.1023)]\n",
      "Validation -  [0.5972222222222222, 0.4629629629629629, 0.5972222222222222, tensor(1.1400)]\n",
      "\n",
      "Epoch  229\n"
     ]
    },
    {
     "name": "stderr",
     "output_type": "stream",
     "text": [
      "9it [00:00, 16.01it/s]"
     ]
    },
    {
     "name": "stdout",
     "output_type": "stream",
     "text": [
      "['acc', 'kappa', 'fmeasure', 'loss']\n",
      "Training Loss  1.1189372142155964\n"
     ]
    },
    {
     "name": "stderr",
     "output_type": "stream",
     "text": [
      "\n"
     ]
    },
    {
     "name": "stdout",
     "output_type": "stream",
     "text": [
      "Train -  [0.65625, 0.5416666666666667, 0.65625, tensor(1.1019)]\n",
      "Validation -  [0.5972222222222222, 0.4629629629629629, 0.5972222222222222, tensor(1.1404)]\n",
      "\n",
      "Epoch  230\n"
     ]
    },
    {
     "name": "stderr",
     "output_type": "stream",
     "text": [
      "9it [00:00, 19.43it/s]"
     ]
    },
    {
     "name": "stdout",
     "output_type": "stream",
     "text": [
      "['acc', 'kappa', 'fmeasure', 'loss']\n",
      "Training Loss  1.1186328596538968\n"
     ]
    },
    {
     "name": "stderr",
     "output_type": "stream",
     "text": [
      "\n"
     ]
    },
    {
     "name": "stdout",
     "output_type": "stream",
     "text": [
      "Train -  [0.6527777777777778, 0.537037037037037, 0.6527777777777778, tensor(1.1015)]\n",
      "Validation -  [0.5902777777777778, 0.4537037037037037, 0.5902777777777778, tensor(1.1405)]\n",
      "\n",
      "Epoch  231\n"
     ]
    },
    {
     "name": "stderr",
     "output_type": "stream",
     "text": [
      "9it [00:00, 16.07it/s]"
     ]
    },
    {
     "name": "stdout",
     "output_type": "stream",
     "text": [
      "['acc', 'kappa', 'fmeasure', 'loss']\n",
      "Training Loss  1.1204801665412054\n"
     ]
    },
    {
     "name": "stderr",
     "output_type": "stream",
     "text": [
      "\n"
     ]
    },
    {
     "name": "stdout",
     "output_type": "stream",
     "text": [
      "Train -  [0.6493055555555556, 0.5324074074074074, 0.6493055555555556, tensor(1.1016)]\n",
      "Validation -  [0.5902777777777778, 0.4537037037037037, 0.5902777777777778, tensor(1.1406)]\n",
      "\n",
      "Epoch  232\n"
     ]
    },
    {
     "name": "stderr",
     "output_type": "stream",
     "text": [
      "9it [00:00, 16.94it/s]"
     ]
    },
    {
     "name": "stdout",
     "output_type": "stream",
     "text": [
      "['acc', 'kappa', 'fmeasure', 'loss']\n",
      "Training Loss  1.1203089422649808\n"
     ]
    },
    {
     "name": "stderr",
     "output_type": "stream",
     "text": [
      "\n"
     ]
    },
    {
     "name": "stdout",
     "output_type": "stream",
     "text": [
      "Train -  [0.6527777777777778, 0.537037037037037, 0.6527777777777778, tensor(1.1014)]\n",
      "Validation -  [0.5868055555555556, 0.44907407407407407, 0.5868055555555556, tensor(1.1405)]\n",
      "\n",
      "Epoch  233\n"
     ]
    },
    {
     "name": "stderr",
     "output_type": "stream",
     "text": [
      "9it [00:00, 15.87it/s]"
     ]
    },
    {
     "name": "stdout",
     "output_type": "stream",
     "text": [
      "['acc', 'kappa', 'fmeasure', 'loss']\n",
      "Training Loss  1.1176162163416545\n"
     ]
    },
    {
     "name": "stderr",
     "output_type": "stream",
     "text": [
      "\n"
     ]
    },
    {
     "name": "stdout",
     "output_type": "stream",
     "text": [
      "Train -  [0.65625, 0.5416666666666667, 0.65625, tensor(1.1014)]\n",
      "Validation -  [0.59375, 0.45833333333333337, 0.59375, tensor(1.1403)]\n",
      "\n",
      "Epoch  234\n"
     ]
    },
    {
     "name": "stderr",
     "output_type": "stream",
     "text": [
      "9it [00:00, 17.65it/s]"
     ]
    },
    {
     "name": "stdout",
     "output_type": "stream",
     "text": [
      "['acc', 'kappa', 'fmeasure', 'loss']\n",
      "Training Loss  1.1245145003000896\n"
     ]
    },
    {
     "name": "stderr",
     "output_type": "stream",
     "text": [
      "\n"
     ]
    },
    {
     "name": "stdout",
     "output_type": "stream",
     "text": [
      "Train -  [0.6493055555555556, 0.5324074074074074, 0.6493055555555556, tensor(1.1013)]\n",
      "Validation -  [0.59375, 0.45833333333333337, 0.59375, tensor(1.1394)]\n",
      "\n",
      "Epoch  235\n"
     ]
    },
    {
     "name": "stderr",
     "output_type": "stream",
     "text": [
      "9it [00:00, 13.76it/s]"
     ]
    },
    {
     "name": "stdout",
     "output_type": "stream",
     "text": [
      "['acc', 'kappa', 'fmeasure', 'loss']\n",
      "Training Loss  1.1299885114034016\n"
     ]
    },
    {
     "name": "stderr",
     "output_type": "stream",
     "text": [
      "\n"
     ]
    },
    {
     "name": "stdout",
     "output_type": "stream",
     "text": [
      "Train -  [0.65625, 0.5416666666666667, 0.65625, tensor(1.1010)]\n",
      "Validation -  [0.5972222222222222, 0.4629629629629629, 0.5972222222222222, tensor(1.1399)]\n",
      "\n",
      "Epoch  236\n"
     ]
    },
    {
     "name": "stderr",
     "output_type": "stream",
     "text": [
      "9it [00:00, 18.16it/s]"
     ]
    },
    {
     "name": "stdout",
     "output_type": "stream",
     "text": [
      "['acc', 'kappa', 'fmeasure', 'loss']\n",
      "Training Loss  1.121666603618198\n"
     ]
    },
    {
     "name": "stderr",
     "output_type": "stream",
     "text": [
      "\n"
     ]
    },
    {
     "name": "stdout",
     "output_type": "stream",
     "text": [
      "Train -  [0.6493055555555556, 0.5324074074074074, 0.6493055555555556, tensor(1.1007)]\n",
      "Validation -  [0.5902777777777778, 0.4537037037037037, 0.5902777777777778, tensor(1.1402)]\n",
      "\n",
      "Epoch  237\n"
     ]
    },
    {
     "name": "stderr",
     "output_type": "stream",
     "text": [
      "9it [00:00, 21.13it/s]"
     ]
    },
    {
     "name": "stdout",
     "output_type": "stream",
     "text": [
      "['acc', 'kappa', 'fmeasure', 'loss']\n",
      "Training Loss  1.1130293607711792\n"
     ]
    },
    {
     "name": "stderr",
     "output_type": "stream",
     "text": [
      "\n"
     ]
    },
    {
     "name": "stdout",
     "output_type": "stream",
     "text": [
      "Train -  [0.65625, 0.5416666666666667, 0.65625, tensor(1.1007)]\n",
      "Validation -  [0.6006944444444444, 0.46759259259259256, 0.6006944444444444, tensor(1.1396)]\n",
      "\n",
      "Epoch  238\n"
     ]
    },
    {
     "name": "stderr",
     "output_type": "stream",
     "text": [
      "9it [00:00, 14.58it/s]"
     ]
    },
    {
     "name": "stdout",
     "output_type": "stream",
     "text": [
      "['acc', 'kappa', 'fmeasure', 'loss']\n",
      "Training Loss  1.122087836265564\n"
     ]
    },
    {
     "name": "stderr",
     "output_type": "stream",
     "text": [
      "\n"
     ]
    },
    {
     "name": "stdout",
     "output_type": "stream",
     "text": [
      "Train -  [0.6493055555555556, 0.5324074074074074, 0.6493055555555556, tensor(1.1005)]\n",
      "Validation -  [0.5902777777777778, 0.4537037037037037, 0.5902777777777778, tensor(1.1395)]\n",
      "\n",
      "Epoch  239\n"
     ]
    },
    {
     "name": "stderr",
     "output_type": "stream",
     "text": [
      "9it [00:00, 15.01it/s]"
     ]
    },
    {
     "name": "stdout",
     "output_type": "stream",
     "text": [
      "['acc', 'kappa', 'fmeasure', 'loss']\n",
      "Training Loss  1.1109542051951091\n"
     ]
    },
    {
     "name": "stderr",
     "output_type": "stream",
     "text": [
      "\n"
     ]
    },
    {
     "name": "stdout",
     "output_type": "stream",
     "text": [
      "Train -  [0.6493055555555556, 0.5324074074074074, 0.6493055555555556, tensor(1.1004)]\n",
      "Validation -  [0.59375, 0.45833333333333337, 0.59375, tensor(1.1392)]\n",
      "\n",
      "Epoch  240\n"
     ]
    },
    {
     "name": "stderr",
     "output_type": "stream",
     "text": [
      "9it [00:00, 16.10it/s]"
     ]
    },
    {
     "name": "stdout",
     "output_type": "stream",
     "text": [
      "['acc', 'kappa', 'fmeasure', 'loss']\n",
      "Training Loss  1.133046441608005\n"
     ]
    },
    {
     "name": "stderr",
     "output_type": "stream",
     "text": [
      "\n"
     ]
    },
    {
     "name": "stdout",
     "output_type": "stream",
     "text": [
      "Train -  [0.6493055555555556, 0.5324074074074074, 0.6493055555555556, tensor(1.1004)]\n",
      "Validation -  [0.59375, 0.45833333333333337, 0.59375, tensor(1.1388)]\n",
      "\n",
      "Epoch  241\n"
     ]
    },
    {
     "name": "stderr",
     "output_type": "stream",
     "text": [
      "9it [00:00, 17.50it/s]"
     ]
    },
    {
     "name": "stdout",
     "output_type": "stream",
     "text": [
      "['acc', 'kappa', 'fmeasure', 'loss']\n",
      "Training Loss  1.1027100880940754\n"
     ]
    },
    {
     "name": "stderr",
     "output_type": "stream",
     "text": [
      "\n"
     ]
    },
    {
     "name": "stdout",
     "output_type": "stream",
     "text": [
      "Train -  [0.6493055555555556, 0.5324074074074074, 0.6493055555555556, tensor(1.1001)]\n",
      "Validation -  [0.5972222222222222, 0.4629629629629629, 0.5972222222222222, tensor(1.1385)]\n",
      "\n",
      "Epoch  242\n"
     ]
    },
    {
     "name": "stderr",
     "output_type": "stream",
     "text": [
      "9it [00:00, 13.22it/s]"
     ]
    },
    {
     "name": "stdout",
     "output_type": "stream",
     "text": [
      "['acc', 'kappa', 'fmeasure', 'loss']\n",
      "Training Loss  1.1195407973395453\n"
     ]
    },
    {
     "name": "stderr",
     "output_type": "stream",
     "text": [
      "\n"
     ]
    },
    {
     "name": "stdout",
     "output_type": "stream",
     "text": [
      "Train -  [0.6493055555555556, 0.5324074074074074, 0.6493055555555556, tensor(1.0998)]\n",
      "Validation -  [0.59375, 0.45833333333333337, 0.59375, tensor(1.1386)]\n",
      "\n",
      "Epoch  243\n"
     ]
    },
    {
     "name": "stderr",
     "output_type": "stream",
     "text": [
      "9it [00:00, 15.48it/s]"
     ]
    },
    {
     "name": "stdout",
     "output_type": "stream",
     "text": [
      "['acc', 'kappa', 'fmeasure', 'loss']\n",
      "Training Loss  1.1182669136259291\n"
     ]
    },
    {
     "name": "stderr",
     "output_type": "stream",
     "text": [
      "\n"
     ]
    },
    {
     "name": "stdout",
     "output_type": "stream",
     "text": [
      "Train -  [0.6493055555555556, 0.5324074074074074, 0.6493055555555556, tensor(1.0996)]\n",
      "Validation -  [0.59375, 0.45833333333333337, 0.59375, tensor(1.1386)]\n",
      "\n",
      "Epoch  244\n"
     ]
    },
    {
     "name": "stderr",
     "output_type": "stream",
     "text": [
      "9it [00:00, 16.45it/s]"
     ]
    },
    {
     "name": "stdout",
     "output_type": "stream",
     "text": [
      "['acc', 'kappa', 'fmeasure', 'loss']\n",
      "Training Loss  1.1334733300738864\n"
     ]
    },
    {
     "name": "stderr",
     "output_type": "stream",
     "text": [
      "\n"
     ]
    },
    {
     "name": "stdout",
     "output_type": "stream",
     "text": [
      "Train -  [0.6458333333333334, 0.5277777777777778, 0.6458333333333334, tensor(1.0997)]\n",
      "Validation -  [0.5902777777777778, 0.4537037037037037, 0.5902777777777778, tensor(1.1391)]\n",
      "\n",
      "Epoch  245\n"
     ]
    },
    {
     "name": "stderr",
     "output_type": "stream",
     "text": [
      "9it [00:00, 14.89it/s]"
     ]
    },
    {
     "name": "stdout",
     "output_type": "stream",
     "text": [
      "['acc', 'kappa', 'fmeasure', 'loss']\n",
      "Training Loss  1.11561738120185\n"
     ]
    },
    {
     "name": "stderr",
     "output_type": "stream",
     "text": [
      "\n"
     ]
    },
    {
     "name": "stdout",
     "output_type": "stream",
     "text": [
      "Train -  [0.6493055555555556, 0.5324074074074074, 0.6493055555555556, tensor(1.0995)]\n",
      "Validation -  [0.59375, 0.45833333333333337, 0.59375, tensor(1.1391)]\n",
      "\n",
      "Epoch  246\n"
     ]
    },
    {
     "name": "stderr",
     "output_type": "stream",
     "text": [
      "9it [00:00, 20.15it/s]"
     ]
    },
    {
     "name": "stdout",
     "output_type": "stream",
     "text": [
      "['acc', 'kappa', 'fmeasure', 'loss']\n",
      "Training Loss  1.1127732462353177\n"
     ]
    },
    {
     "name": "stderr",
     "output_type": "stream",
     "text": [
      "\n"
     ]
    },
    {
     "name": "stdout",
     "output_type": "stream",
     "text": [
      "Train -  [0.6597222222222222, 0.5462962962962963, 0.6597222222222222, tensor(1.0996)]\n",
      "Validation -  [0.59375, 0.45833333333333337, 0.59375, tensor(1.1384)]\n",
      "\n",
      "Epoch  247\n"
     ]
    },
    {
     "name": "stderr",
     "output_type": "stream",
     "text": [
      "9it [00:00, 14.76it/s]"
     ]
    },
    {
     "name": "stdout",
     "output_type": "stream",
     "text": [
      "['acc', 'kappa', 'fmeasure', 'loss']\n",
      "Training Loss  1.1146598259607952\n"
     ]
    },
    {
     "name": "stderr",
     "output_type": "stream",
     "text": [
      "\n"
     ]
    },
    {
     "name": "stdout",
     "output_type": "stream",
     "text": [
      "Train -  [0.65625, 0.5416666666666667, 0.65625, tensor(1.0992)]\n",
      "Validation -  [0.5972222222222222, 0.4629629629629629, 0.5972222222222222, tensor(1.1379)]\n",
      "\n",
      "Epoch  248\n"
     ]
    },
    {
     "name": "stderr",
     "output_type": "stream",
     "text": [
      "9it [00:00, 18.19it/s]\n"
     ]
    },
    {
     "name": "stdout",
     "output_type": "stream",
     "text": [
      "['acc', 'kappa', 'fmeasure', 'loss']\n",
      "Training Loss  1.1189524994956122\n",
      "Train -  [0.6597222222222222, 0.5462962962962963, 0.6597222222222222, tensor(1.0990)]\n",
      "Validation -  [0.6006944444444444, 0.46759259259259256, 0.6006944444444444, tensor(1.1373)]\n",
      "\n",
      "Epoch  249\n"
     ]
    },
    {
     "name": "stderr",
     "output_type": "stream",
     "text": [
      "9it [00:00, 13.83it/s]"
     ]
    },
    {
     "name": "stdout",
     "output_type": "stream",
     "text": [
      "['acc', 'kappa', 'fmeasure', 'loss']\n",
      "Training Loss  1.1135882669024997\n"
     ]
    },
    {
     "name": "stderr",
     "output_type": "stream",
     "text": [
      "\n"
     ]
    },
    {
     "name": "stdout",
     "output_type": "stream",
     "text": [
      "Train -  [0.6493055555555556, 0.5324074074074074, 0.6493055555555556, tensor(1.0989)]\n",
      "Validation -  [0.6006944444444444, 0.46759259259259256, 0.6006944444444444, tensor(1.1371)]\n",
      "\n",
      "Epoch  250\n"
     ]
    },
    {
     "name": "stderr",
     "output_type": "stream",
     "text": [
      "9it [00:00, 17.17it/s]"
     ]
    },
    {
     "name": "stdout",
     "output_type": "stream",
     "text": [
      "['acc', 'kappa', 'fmeasure', 'loss']\n",
      "Training Loss  1.1245256662368774\n"
     ]
    },
    {
     "name": "stderr",
     "output_type": "stream",
     "text": [
      "\n"
     ]
    },
    {
     "name": "stdout",
     "output_type": "stream",
     "text": [
      "Train -  [0.65625, 0.5416666666666667, 0.65625, tensor(1.0987)]\n",
      "Validation -  [0.6006944444444444, 0.46759259259259256, 0.6006944444444444, tensor(1.1372)]\n",
      "\n",
      "Epoch  251\n"
     ]
    },
    {
     "name": "stderr",
     "output_type": "stream",
     "text": [
      "9it [00:00, 15.60it/s]"
     ]
    },
    {
     "name": "stdout",
     "output_type": "stream",
     "text": [
      "['acc', 'kappa', 'fmeasure', 'loss']\n",
      "Training Loss  1.1293117602666218\n"
     ]
    },
    {
     "name": "stderr",
     "output_type": "stream",
     "text": [
      "\n"
     ]
    },
    {
     "name": "stdout",
     "output_type": "stream",
     "text": [
      "Train -  [0.6493055555555556, 0.5324074074074074, 0.6493055555555556, tensor(1.0988)]\n",
      "Validation -  [0.6006944444444444, 0.46759259259259256, 0.6006944444444444, tensor(1.1369)]\n",
      "\n",
      "Epoch  252\n"
     ]
    },
    {
     "name": "stderr",
     "output_type": "stream",
     "text": [
      "9it [00:00, 14.84it/s]"
     ]
    },
    {
     "name": "stdout",
     "output_type": "stream",
     "text": [
      "['acc', 'kappa', 'fmeasure', 'loss']\n",
      "Training Loss  1.1145292652977838\n"
     ]
    },
    {
     "name": "stderr",
     "output_type": "stream",
     "text": [
      "\n"
     ]
    },
    {
     "name": "stdout",
     "output_type": "stream",
     "text": [
      "Train -  [0.6458333333333334, 0.5277777777777778, 0.6458333333333334, tensor(1.0984)]\n",
      "Validation -  [0.59375, 0.45833333333333337, 0.59375, tensor(1.1372)]\n",
      "\n",
      "Epoch  253\n"
     ]
    },
    {
     "name": "stderr",
     "output_type": "stream",
     "text": [
      "9it [00:00, 14.82it/s]"
     ]
    },
    {
     "name": "stdout",
     "output_type": "stream",
     "text": [
      "['acc', 'kappa', 'fmeasure', 'loss']\n",
      "Training Loss  1.1092824273639255\n"
     ]
    },
    {
     "name": "stderr",
     "output_type": "stream",
     "text": [
      "\n"
     ]
    },
    {
     "name": "stdout",
     "output_type": "stream",
     "text": [
      "Train -  [0.6458333333333334, 0.5277777777777778, 0.6458333333333334, tensor(1.0987)]\n",
      "Validation -  [0.59375, 0.45833333333333337, 0.59375, tensor(1.1367)]\n",
      "\n",
      "Epoch  254\n"
     ]
    },
    {
     "name": "stderr",
     "output_type": "stream",
     "text": [
      "9it [00:00, 19.33it/s]"
     ]
    },
    {
     "name": "stdout",
     "output_type": "stream",
     "text": [
      "['acc', 'kappa', 'fmeasure', 'loss']\n",
      "Training Loss  1.118455621931288\n"
     ]
    },
    {
     "name": "stderr",
     "output_type": "stream",
     "text": [
      "\n"
     ]
    },
    {
     "name": "stdout",
     "output_type": "stream",
     "text": [
      "Train -  [0.65625, 0.5416666666666667, 0.65625, tensor(1.0984)]\n",
      "Validation -  [0.6006944444444444, 0.46759259259259256, 0.6006944444444444, tensor(1.1367)]\n",
      "\n",
      "Epoch  255\n"
     ]
    },
    {
     "name": "stderr",
     "output_type": "stream",
     "text": [
      "9it [00:00, 17.80it/s]"
     ]
    },
    {
     "name": "stdout",
     "output_type": "stream",
     "text": [
      "['acc', 'kappa', 'fmeasure', 'loss']\n",
      "Training Loss  1.1184202565087213\n"
     ]
    },
    {
     "name": "stderr",
     "output_type": "stream",
     "text": [
      "\n"
     ]
    },
    {
     "name": "stdout",
     "output_type": "stream",
     "text": [
      "Train -  [0.65625, 0.5416666666666667, 0.65625, tensor(1.0984)]\n",
      "Validation -  [0.59375, 0.45833333333333337, 0.59375, tensor(1.1371)]\n",
      "\n",
      "Epoch  256\n"
     ]
    },
    {
     "name": "stderr",
     "output_type": "stream",
     "text": [
      "9it [00:00, 14.67it/s]"
     ]
    },
    {
     "name": "stdout",
     "output_type": "stream",
     "text": [
      "['acc', 'kappa', 'fmeasure', 'loss']\n",
      "Training Loss  1.1177080207400851\n"
     ]
    },
    {
     "name": "stderr",
     "output_type": "stream",
     "text": [
      "\n"
     ]
    },
    {
     "name": "stdout",
     "output_type": "stream",
     "text": [
      "Train -  [0.6597222222222222, 0.5462962962962963, 0.6597222222222222, tensor(1.0987)]\n",
      "Validation -  [0.6006944444444444, 0.46759259259259256, 0.6006944444444444, tensor(1.1374)]\n",
      "\n",
      "Epoch  257\n"
     ]
    },
    {
     "name": "stderr",
     "output_type": "stream",
     "text": [
      "9it [00:00, 16.70it/s]"
     ]
    },
    {
     "name": "stdout",
     "output_type": "stream",
     "text": [
      "['acc', 'kappa', 'fmeasure', 'loss']\n",
      "Training Loss  1.127508733007643\n"
     ]
    },
    {
     "name": "stderr",
     "output_type": "stream",
     "text": [
      "\n"
     ]
    },
    {
     "name": "stdout",
     "output_type": "stream",
     "text": [
      "Train -  [0.6597222222222222, 0.5462962962962963, 0.6597222222222222, tensor(1.0980)]\n",
      "Validation -  [0.6006944444444444, 0.46759259259259256, 0.6006944444444444, tensor(1.1368)]\n",
      "\n",
      "Epoch  258\n"
     ]
    },
    {
     "name": "stderr",
     "output_type": "stream",
     "text": [
      "9it [00:00, 14.96it/s]"
     ]
    },
    {
     "name": "stdout",
     "output_type": "stream",
     "text": [
      "['acc', 'kappa', 'fmeasure', 'loss']\n",
      "Training Loss  1.1222573518753052\n"
     ]
    },
    {
     "name": "stderr",
     "output_type": "stream",
     "text": [
      "\n"
     ]
    },
    {
     "name": "stdout",
     "output_type": "stream",
     "text": [
      "Train -  [0.6527777777777778, 0.537037037037037, 0.6527777777777778, tensor(1.0978)]\n",
      "Validation -  [0.59375, 0.45833333333333337, 0.59375, tensor(1.1375)]\n",
      "\n",
      "Epoch  259\n"
     ]
    },
    {
     "name": "stderr",
     "output_type": "stream",
     "text": [
      "9it [00:00, 16.85it/s]"
     ]
    },
    {
     "name": "stdout",
     "output_type": "stream",
     "text": [
      "['acc', 'kappa', 'fmeasure', 'loss']\n",
      "Training Loss  1.1182705693774753\n"
     ]
    },
    {
     "name": "stderr",
     "output_type": "stream",
     "text": [
      "\n"
     ]
    },
    {
     "name": "stdout",
     "output_type": "stream",
     "text": [
      "Train -  [0.65625, 0.5416666666666667, 0.65625, tensor(1.0977)]\n",
      "Validation -  [0.5833333333333334, 0.4444444444444444, 0.5833333333333334, tensor(1.1377)]\n",
      "\n",
      "Epoch  260\n"
     ]
    },
    {
     "name": "stderr",
     "output_type": "stream",
     "text": [
      "9it [00:00, 17.41it/s]"
     ]
    },
    {
     "name": "stdout",
     "output_type": "stream",
     "text": [
      "['acc', 'kappa', 'fmeasure', 'loss']\n",
      "Training Loss  1.1173757712046306\n"
     ]
    },
    {
     "name": "stderr",
     "output_type": "stream",
     "text": [
      "\n"
     ]
    },
    {
     "name": "stdout",
     "output_type": "stream",
     "text": [
      "Train -  [0.6597222222222222, 0.5462962962962963, 0.6597222222222222, tensor(1.0976)]\n",
      "Validation -  [0.59375, 0.45833333333333337, 0.59375, tensor(1.1366)]\n",
      "\n",
      "Epoch  261\n"
     ]
    },
    {
     "name": "stderr",
     "output_type": "stream",
     "text": [
      "9it [00:00, 15.13it/s]"
     ]
    },
    {
     "name": "stdout",
     "output_type": "stream",
     "text": [
      "['acc', 'kappa', 'fmeasure', 'loss']\n",
      "Training Loss  1.1219034724765353\n"
     ]
    },
    {
     "name": "stderr",
     "output_type": "stream",
     "text": [
      "\n"
     ]
    },
    {
     "name": "stdout",
     "output_type": "stream",
     "text": [
      "Train -  [0.6631944444444444, 0.5509259259259259, 0.6631944444444444, tensor(1.0978)]\n",
      "Validation -  [0.59375, 0.45833333333333337, 0.59375, tensor(1.1363)]\n",
      "\n",
      "Epoch  262\n"
     ]
    },
    {
     "name": "stderr",
     "output_type": "stream",
     "text": [
      "9it [00:00, 18.45it/s]"
     ]
    },
    {
     "name": "stdout",
     "output_type": "stream",
     "text": [
      "['acc', 'kappa', 'fmeasure', 'loss']\n",
      "Training Loss  1.1145500077141657\n"
     ]
    },
    {
     "name": "stderr",
     "output_type": "stream",
     "text": [
      "\n"
     ]
    },
    {
     "name": "stdout",
     "output_type": "stream",
     "text": [
      "Train -  [0.6597222222222222, 0.5462962962962963, 0.6597222222222222, tensor(1.0972)]\n",
      "Validation -  [0.5972222222222222, 0.4629629629629629, 0.5972222222222222, tensor(1.1362)]\n",
      "\n",
      "Epoch  263\n"
     ]
    },
    {
     "name": "stderr",
     "output_type": "stream",
     "text": [
      "9it [00:00, 16.87it/s]"
     ]
    },
    {
     "name": "stdout",
     "output_type": "stream",
     "text": [
      "['acc', 'kappa', 'fmeasure', 'loss']\n",
      "Training Loss  1.1197692023383246\n"
     ]
    },
    {
     "name": "stderr",
     "output_type": "stream",
     "text": [
      "\n"
     ]
    },
    {
     "name": "stdout",
     "output_type": "stream",
     "text": [
      "Train -  [0.6597222222222222, 0.5462962962962963, 0.6597222222222222, tensor(1.0971)]\n",
      "Validation -  [0.5972222222222222, 0.4629629629629629, 0.5972222222222222, tensor(1.1361)]\n",
      "\n",
      "Epoch  264\n"
     ]
    },
    {
     "name": "stderr",
     "output_type": "stream",
     "text": [
      "9it [00:00, 14.77it/s]"
     ]
    },
    {
     "name": "stdout",
     "output_type": "stream",
     "text": [
      "['acc', 'kappa', 'fmeasure', 'loss']\n",
      "Training Loss  1.1118113729688857\n"
     ]
    },
    {
     "name": "stderr",
     "output_type": "stream",
     "text": [
      "\n"
     ]
    },
    {
     "name": "stdout",
     "output_type": "stream",
     "text": [
      "Train -  [0.65625, 0.5416666666666667, 0.65625, tensor(1.0967)]\n",
      "Validation -  [0.5972222222222222, 0.4629629629629629, 0.5972222222222222, tensor(1.1356)]\n",
      "\n",
      "Epoch  265\n"
     ]
    },
    {
     "name": "stderr",
     "output_type": "stream",
     "text": [
      "9it [00:00, 17.61it/s]"
     ]
    },
    {
     "name": "stdout",
     "output_type": "stream",
     "text": [
      "['acc', 'kappa', 'fmeasure', 'loss']\n",
      "Training Loss  1.1182874573601618\n"
     ]
    },
    {
     "name": "stderr",
     "output_type": "stream",
     "text": [
      "\n"
     ]
    },
    {
     "name": "stdout",
     "output_type": "stream",
     "text": [
      "Train -  [0.6597222222222222, 0.5462962962962963, 0.6597222222222222, tensor(1.0965)]\n",
      "Validation -  [0.5902777777777778, 0.4537037037037037, 0.5902777777777778, tensor(1.1360)]\n",
      "\n",
      "Epoch  266\n"
     ]
    },
    {
     "name": "stderr",
     "output_type": "stream",
     "text": [
      "9it [00:00, 18.38it/s]"
     ]
    },
    {
     "name": "stdout",
     "output_type": "stream",
     "text": [
      "['acc', 'kappa', 'fmeasure', 'loss']\n",
      "Training Loss  1.1329743729697332\n"
     ]
    },
    {
     "name": "stderr",
     "output_type": "stream",
     "text": [
      "\n"
     ]
    },
    {
     "name": "stdout",
     "output_type": "stream",
     "text": [
      "Train -  [0.6666666666666666, 0.5555555555555556, 0.6666666666666666, tensor(1.0966)]\n",
      "Validation -  [0.5972222222222222, 0.4629629629629629, 0.5972222222222222, tensor(1.1361)]\n",
      "\n",
      "Epoch  267\n"
     ]
    },
    {
     "name": "stderr",
     "output_type": "stream",
     "text": [
      "9it [00:00, 16.29it/s]"
     ]
    },
    {
     "name": "stdout",
     "output_type": "stream",
     "text": [
      "['acc', 'kappa', 'fmeasure', 'loss']\n",
      "Training Loss  1.1152719921535916\n"
     ]
    },
    {
     "name": "stderr",
     "output_type": "stream",
     "text": [
      "\n"
     ]
    },
    {
     "name": "stdout",
     "output_type": "stream",
     "text": [
      "Train -  [0.6666666666666666, 0.5555555555555556, 0.6666666666666666, tensor(1.0965)]\n",
      "Validation -  [0.5902777777777778, 0.4537037037037037, 0.5902777777777778, tensor(1.1361)]\n",
      "\n",
      "Epoch  268\n"
     ]
    },
    {
     "name": "stderr",
     "output_type": "stream",
     "text": [
      "9it [00:00, 16.08it/s]"
     ]
    },
    {
     "name": "stdout",
     "output_type": "stream",
     "text": [
      "['acc', 'kappa', 'fmeasure', 'loss']\n",
      "Training Loss  1.1017968654632568\n"
     ]
    },
    {
     "name": "stderr",
     "output_type": "stream",
     "text": [
      "\n"
     ]
    },
    {
     "name": "stdout",
     "output_type": "stream",
     "text": [
      "Train -  [0.6631944444444444, 0.5509259259259259, 0.6631944444444444, tensor(1.0963)]\n",
      "Validation -  [0.6006944444444444, 0.46759259259259256, 0.6006944444444444, tensor(1.1360)]\n",
      "\n",
      "Epoch  269\n"
     ]
    },
    {
     "name": "stderr",
     "output_type": "stream",
     "text": [
      "9it [00:00, 18.35it/s]"
     ]
    },
    {
     "name": "stdout",
     "output_type": "stream",
     "text": [
      "['acc', 'kappa', 'fmeasure', 'loss']\n",
      "Training Loss  1.1164299779468112\n"
     ]
    },
    {
     "name": "stderr",
     "output_type": "stream",
     "text": [
      "\n"
     ]
    },
    {
     "name": "stdout",
     "output_type": "stream",
     "text": [
      "Train -  [0.6666666666666666, 0.5555555555555556, 0.6666666666666666, tensor(1.0964)]\n",
      "Validation -  [0.6006944444444444, 0.46759259259259256, 0.6006944444444444, tensor(1.1354)]\n",
      "\n",
      "Epoch  270\n"
     ]
    },
    {
     "name": "stderr",
     "output_type": "stream",
     "text": [
      "9it [00:00, 17.14it/s]"
     ]
    },
    {
     "name": "stdout",
     "output_type": "stream",
     "text": [
      "['acc', 'kappa', 'fmeasure', 'loss']\n",
      "Training Loss  1.1038505766126845\n"
     ]
    },
    {
     "name": "stderr",
     "output_type": "stream",
     "text": [
      "\n"
     ]
    },
    {
     "name": "stdout",
     "output_type": "stream",
     "text": [
      "Train -  [0.6666666666666666, 0.5555555555555556, 0.6666666666666666, tensor(1.0960)]\n",
      "Validation -  [0.6041666666666666, 0.4722222222222222, 0.6041666666666666, tensor(1.1353)]\n",
      "\n",
      "Epoch  271\n"
     ]
    },
    {
     "name": "stderr",
     "output_type": "stream",
     "text": [
      "9it [00:00, 19.65it/s]"
     ]
    },
    {
     "name": "stdout",
     "output_type": "stream",
     "text": [
      "['acc', 'kappa', 'fmeasure', 'loss']\n",
      "Training Loss  1.1189939445919461\n"
     ]
    },
    {
     "name": "stderr",
     "output_type": "stream",
     "text": [
      "\n"
     ]
    },
    {
     "name": "stdout",
     "output_type": "stream",
     "text": [
      "Train -  [0.6597222222222222, 0.5462962962962963, 0.6597222222222222, tensor(1.0959)]\n",
      "Validation -  [0.59375, 0.45833333333333337, 0.59375, tensor(1.1355)]\n",
      "\n",
      "Epoch  272\n"
     ]
    },
    {
     "name": "stderr",
     "output_type": "stream",
     "text": [
      "9it [00:00, 13.75it/s]"
     ]
    },
    {
     "name": "stdout",
     "output_type": "stream",
     "text": [
      "['acc', 'kappa', 'fmeasure', 'loss']\n",
      "Training Loss  1.115093880229526\n"
     ]
    },
    {
     "name": "stderr",
     "output_type": "stream",
     "text": [
      "\n"
     ]
    },
    {
     "name": "stdout",
     "output_type": "stream",
     "text": [
      "Train -  [0.65625, 0.5416666666666667, 0.65625, tensor(1.0957)]\n",
      "Validation -  [0.5902777777777778, 0.4537037037037037, 0.5902777777777778, tensor(1.1353)]\n",
      "\n",
      "Epoch  273\n"
     ]
    },
    {
     "name": "stderr",
     "output_type": "stream",
     "text": [
      "9it [00:00, 18.55it/s]"
     ]
    },
    {
     "name": "stdout",
     "output_type": "stream",
     "text": [
      "['acc', 'kappa', 'fmeasure', 'loss']\n",
      "Training Loss  1.1173469490475125\n"
     ]
    },
    {
     "name": "stderr",
     "output_type": "stream",
     "text": [
      "\n"
     ]
    },
    {
     "name": "stdout",
     "output_type": "stream",
     "text": [
      "Train -  [0.6493055555555556, 0.5324074074074074, 0.6493055555555556, tensor(1.0961)]\n",
      "Validation -  [0.5902777777777778, 0.4537037037037037, 0.5902777777777778, tensor(1.1361)]\n",
      "\n",
      "Epoch  274\n"
     ]
    },
    {
     "name": "stderr",
     "output_type": "stream",
     "text": [
      "9it [00:00, 16.74it/s]"
     ]
    },
    {
     "name": "stdout",
     "output_type": "stream",
     "text": [
      "['acc', 'kappa', 'fmeasure', 'loss']\n",
      "Training Loss  1.111850420633952\n"
     ]
    },
    {
     "name": "stderr",
     "output_type": "stream",
     "text": [
      "\n"
     ]
    },
    {
     "name": "stdout",
     "output_type": "stream",
     "text": [
      "Train -  [0.65625, 0.5416666666666667, 0.65625, tensor(1.0957)]\n",
      "Validation -  [0.59375, 0.45833333333333337, 0.59375, tensor(1.1353)]\n",
      "\n",
      "Epoch  275\n"
     ]
    },
    {
     "name": "stderr",
     "output_type": "stream",
     "text": [
      "9it [00:00, 16.07it/s]"
     ]
    },
    {
     "name": "stdout",
     "output_type": "stream",
     "text": [
      "['acc', 'kappa', 'fmeasure', 'loss']\n",
      "Training Loss  1.1045916742748685\n"
     ]
    },
    {
     "name": "stderr",
     "output_type": "stream",
     "text": [
      "\n"
     ]
    },
    {
     "name": "stdout",
     "output_type": "stream",
     "text": [
      "Train -  [0.65625, 0.5416666666666667, 0.65625, tensor(1.0958)]\n",
      "Validation -  [0.5902777777777778, 0.4537037037037037, 0.5902777777777778, tensor(1.1358)]\n",
      "\n",
      "Epoch  276\n"
     ]
    },
    {
     "name": "stderr",
     "output_type": "stream",
     "text": [
      "9it [00:00, 16.43it/s]"
     ]
    },
    {
     "name": "stdout",
     "output_type": "stream",
     "text": [
      "['acc', 'kappa', 'fmeasure', 'loss']\n",
      "Training Loss  1.1200257274839613\n"
     ]
    },
    {
     "name": "stderr",
     "output_type": "stream",
     "text": [
      "\n"
     ]
    },
    {
     "name": "stdout",
     "output_type": "stream",
     "text": [
      "Train -  [0.6597222222222222, 0.5462962962962963, 0.6597222222222222, tensor(1.0957)]\n",
      "Validation -  [0.5902777777777778, 0.4537037037037037, 0.5902777777777778, tensor(1.1361)]\n",
      "\n",
      "Epoch  277\n"
     ]
    },
    {
     "name": "stderr",
     "output_type": "stream",
     "text": [
      "9it [00:00, 15.35it/s]"
     ]
    },
    {
     "name": "stdout",
     "output_type": "stream",
     "text": [
      "['acc', 'kappa', 'fmeasure', 'loss']\n",
      "Training Loss  1.108115275700887\n"
     ]
    },
    {
     "name": "stderr",
     "output_type": "stream",
     "text": [
      "\n"
     ]
    },
    {
     "name": "stdout",
     "output_type": "stream",
     "text": [
      "Train -  [0.65625, 0.5416666666666667, 0.65625, tensor(1.0954)]\n",
      "Validation -  [0.5868055555555556, 0.44907407407407407, 0.5868055555555556, tensor(1.1355)]\n",
      "\n",
      "Epoch  278\n"
     ]
    },
    {
     "name": "stderr",
     "output_type": "stream",
     "text": [
      "9it [00:00, 15.86it/s]\n"
     ]
    },
    {
     "name": "stdout",
     "output_type": "stream",
     "text": [
      "['acc', 'kappa', 'fmeasure', 'loss']\n",
      "Training Loss  1.1306431161032782\n",
      "Train -  [0.65625, 0.5416666666666667, 0.65625, tensor(1.0953)]\n",
      "Validation -  [0.5902777777777778, 0.4537037037037037, 0.5902777777777778, tensor(1.1352)]\n",
      "\n",
      "Epoch  279\n"
     ]
    },
    {
     "name": "stderr",
     "output_type": "stream",
     "text": [
      "9it [00:00, 12.88it/s]"
     ]
    },
    {
     "name": "stdout",
     "output_type": "stream",
     "text": [
      "['acc', 'kappa', 'fmeasure', 'loss']\n",
      "Training Loss  1.1134971578915913\n"
     ]
    },
    {
     "name": "stderr",
     "output_type": "stream",
     "text": [
      "\n"
     ]
    },
    {
     "name": "stdout",
     "output_type": "stream",
     "text": [
      "Train -  [0.6493055555555556, 0.5324074074074074, 0.6493055555555556, tensor(1.0952)]\n",
      "Validation -  [0.5972222222222222, 0.4629629629629629, 0.5972222222222222, tensor(1.1344)]\n",
      "\n",
      "Epoch  280\n"
     ]
    },
    {
     "name": "stderr",
     "output_type": "stream",
     "text": [
      "9it [00:00, 16.05it/s]"
     ]
    },
    {
     "name": "stdout",
     "output_type": "stream",
     "text": [
      "['acc', 'kappa', 'fmeasure', 'loss']\n",
      "Training Loss  1.1119649410247803\n"
     ]
    },
    {
     "name": "stderr",
     "output_type": "stream",
     "text": [
      "\n"
     ]
    },
    {
     "name": "stdout",
     "output_type": "stream",
     "text": [
      "Train -  [0.6597222222222222, 0.5462962962962963, 0.6597222222222222, tensor(1.0949)]\n",
      "Validation -  [0.6041666666666666, 0.4722222222222222, 0.6041666666666666, tensor(1.1344)]\n",
      "\n",
      "Epoch  281\n"
     ]
    },
    {
     "name": "stderr",
     "output_type": "stream",
     "text": [
      "9it [00:00, 16.63it/s]"
     ]
    },
    {
     "name": "stdout",
     "output_type": "stream",
     "text": [
      "['acc', 'kappa', 'fmeasure', 'loss']\n",
      "Training Loss  1.1176012489530776\n"
     ]
    },
    {
     "name": "stderr",
     "output_type": "stream",
     "text": [
      "\n"
     ]
    },
    {
     "name": "stdout",
     "output_type": "stream",
     "text": [
      "Train -  [0.6631944444444444, 0.5509259259259259, 0.6631944444444444, tensor(1.0947)]\n",
      "Validation -  [0.6006944444444444, 0.46759259259259256, 0.6006944444444444, tensor(1.1349)]\n",
      "\n",
      "Epoch  282\n"
     ]
    },
    {
     "name": "stderr",
     "output_type": "stream",
     "text": [
      "9it [00:00, 14.05it/s]"
     ]
    },
    {
     "name": "stdout",
     "output_type": "stream",
     "text": [
      "['acc', 'kappa', 'fmeasure', 'loss']\n",
      "Training Loss  1.108251518673367\n"
     ]
    },
    {
     "name": "stderr",
     "output_type": "stream",
     "text": [
      "\n"
     ]
    },
    {
     "name": "stdout",
     "output_type": "stream",
     "text": [
      "Train -  [0.6597222222222222, 0.5462962962962963, 0.6597222222222222, tensor(1.0946)]\n",
      "Validation -  [0.5972222222222222, 0.4629629629629629, 0.5972222222222222, tensor(1.1354)]\n",
      "\n",
      "Epoch  283\n"
     ]
    },
    {
     "name": "stderr",
     "output_type": "stream",
     "text": [
      "9it [00:00, 17.87it/s]"
     ]
    },
    {
     "name": "stdout",
     "output_type": "stream",
     "text": [
      "['acc', 'kappa', 'fmeasure', 'loss']\n",
      "Training Loss  1.1093104018105402\n"
     ]
    },
    {
     "name": "stderr",
     "output_type": "stream",
     "text": [
      "\n"
     ]
    },
    {
     "name": "stdout",
     "output_type": "stream",
     "text": [
      "Train -  [0.6631944444444444, 0.5509259259259259, 0.6631944444444444, tensor(1.0945)]\n",
      "Validation -  [0.5972222222222222, 0.4629629629629629, 0.5972222222222222, tensor(1.1355)]\n",
      "\n",
      "Epoch  284\n"
     ]
    },
    {
     "name": "stderr",
     "output_type": "stream",
     "text": [
      "9it [00:00, 17.71it/s]"
     ]
    },
    {
     "name": "stdout",
     "output_type": "stream",
     "text": [
      "['acc', 'kappa', 'fmeasure', 'loss']\n",
      "Training Loss  1.1229255729251437\n"
     ]
    },
    {
     "name": "stderr",
     "output_type": "stream",
     "text": [
      "\n"
     ]
    },
    {
     "name": "stdout",
     "output_type": "stream",
     "text": [
      "Train -  [0.6597222222222222, 0.5462962962962963, 0.6597222222222222, tensor(1.0945)]\n",
      "Validation -  [0.6006944444444444, 0.46759259259259256, 0.6006944444444444, tensor(1.1353)]\n",
      "\n",
      "Epoch  285\n"
     ]
    },
    {
     "name": "stderr",
     "output_type": "stream",
     "text": [
      "9it [00:00, 14.52it/s]"
     ]
    },
    {
     "name": "stdout",
     "output_type": "stream",
     "text": [
      "['acc', 'kappa', 'fmeasure', 'loss']\n",
      "Training Loss  1.1131032043033176\n"
     ]
    },
    {
     "name": "stderr",
     "output_type": "stream",
     "text": [
      "\n"
     ]
    },
    {
     "name": "stdout",
     "output_type": "stream",
     "text": [
      "Train -  [0.65625, 0.5416666666666667, 0.65625, tensor(1.0941)]\n",
      "Validation -  [0.5972222222222222, 0.4629629629629629, 0.5972222222222222, tensor(1.1357)]\n",
      "\n",
      "Epoch  286\n"
     ]
    },
    {
     "name": "stderr",
     "output_type": "stream",
     "text": [
      "9it [00:00, 19.43it/s]"
     ]
    },
    {
     "name": "stdout",
     "output_type": "stream",
     "text": [
      "['acc', 'kappa', 'fmeasure', 'loss']\n",
      "Training Loss  1.118082947201199\n"
     ]
    },
    {
     "name": "stderr",
     "output_type": "stream",
     "text": [
      "\n"
     ]
    },
    {
     "name": "stdout",
     "output_type": "stream",
     "text": [
      "Train -  [0.6527777777777778, 0.537037037037037, 0.6527777777777778, tensor(1.0940)]\n",
      "Validation -  [0.59375, 0.45833333333333337, 0.59375, tensor(1.1348)]\n",
      "\n",
      "Epoch  287\n"
     ]
    },
    {
     "name": "stderr",
     "output_type": "stream",
     "text": [
      "9it [00:00, 15.61it/s]"
     ]
    },
    {
     "name": "stdout",
     "output_type": "stream",
     "text": [
      "['acc', 'kappa', 'fmeasure', 'loss']\n",
      "Training Loss  1.1054042047924466\n"
     ]
    },
    {
     "name": "stderr",
     "output_type": "stream",
     "text": [
      "\n"
     ]
    },
    {
     "name": "stdout",
     "output_type": "stream",
     "text": [
      "Train -  [0.65625, 0.5416666666666667, 0.65625, tensor(1.0939)]\n",
      "Validation -  [0.59375, 0.45833333333333337, 0.59375, tensor(1.1349)]\n",
      "\n",
      "Epoch  288\n"
     ]
    },
    {
     "name": "stderr",
     "output_type": "stream",
     "text": [
      "9it [00:00, 16.72it/s]"
     ]
    },
    {
     "name": "stdout",
     "output_type": "stream",
     "text": [
      "['acc', 'kappa', 'fmeasure', 'loss']\n",
      "Training Loss  1.1096030606163874\n"
     ]
    },
    {
     "name": "stderr",
     "output_type": "stream",
     "text": [
      "\n"
     ]
    },
    {
     "name": "stdout",
     "output_type": "stream",
     "text": [
      "Train -  [0.65625, 0.5416666666666667, 0.65625, tensor(1.0939)]\n",
      "Validation -  [0.59375, 0.45833333333333337, 0.59375, tensor(1.1351)]\n",
      "\n",
      "Epoch  289\n"
     ]
    },
    {
     "name": "stderr",
     "output_type": "stream",
     "text": [
      "9it [00:00, 16.75it/s]"
     ]
    },
    {
     "name": "stdout",
     "output_type": "stream",
     "text": [
      "['acc', 'kappa', 'fmeasure', 'loss']\n",
      "Training Loss  1.110114958551195\n"
     ]
    },
    {
     "name": "stderr",
     "output_type": "stream",
     "text": [
      "\n"
     ]
    },
    {
     "name": "stdout",
     "output_type": "stream",
     "text": [
      "Train -  [0.6527777777777778, 0.537037037037037, 0.6527777777777778, tensor(1.0938)]\n",
      "Validation -  [0.5902777777777778, 0.4537037037037037, 0.5902777777777778, tensor(1.1350)]\n",
      "\n",
      "Epoch  290\n"
     ]
    },
    {
     "name": "stderr",
     "output_type": "stream",
     "text": [
      "9it [00:00, 17.01it/s]"
     ]
    },
    {
     "name": "stdout",
     "output_type": "stream",
     "text": [
      "['acc', 'kappa', 'fmeasure', 'loss']\n",
      "Training Loss  1.1262372732162476\n"
     ]
    },
    {
     "name": "stderr",
     "output_type": "stream",
     "text": [
      "\n"
     ]
    },
    {
     "name": "stdout",
     "output_type": "stream",
     "text": [
      "Train -  [0.6597222222222222, 0.5462962962962963, 0.6597222222222222, tensor(1.0937)]\n",
      "Validation -  [0.5972222222222222, 0.4629629629629629, 0.5972222222222222, tensor(1.1348)]\n",
      "\n",
      "Epoch  291\n"
     ]
    },
    {
     "name": "stderr",
     "output_type": "stream",
     "text": [
      "9it [00:00, 15.28it/s]"
     ]
    },
    {
     "name": "stdout",
     "output_type": "stream",
     "text": [
      "['acc', 'kappa', 'fmeasure', 'loss']\n",
      "Training Loss  1.1168769598007202\n"
     ]
    },
    {
     "name": "stderr",
     "output_type": "stream",
     "text": [
      "\n"
     ]
    },
    {
     "name": "stdout",
     "output_type": "stream",
     "text": [
      "Train -  [0.6631944444444444, 0.5509259259259259, 0.6631944444444444, tensor(1.0938)]\n",
      "Validation -  [0.5972222222222222, 0.4629629629629629, 0.5972222222222222, tensor(1.1339)]\n",
      "\n",
      "Epoch  292\n"
     ]
    },
    {
     "name": "stderr",
     "output_type": "stream",
     "text": [
      "9it [00:00, 16.85it/s]"
     ]
    },
    {
     "name": "stdout",
     "output_type": "stream",
     "text": [
      "['acc', 'kappa', 'fmeasure', 'loss']\n",
      "Training Loss  1.110792703098721\n"
     ]
    },
    {
     "name": "stderr",
     "output_type": "stream",
     "text": [
      "\n"
     ]
    },
    {
     "name": "stdout",
     "output_type": "stream",
     "text": [
      "Train -  [0.6493055555555556, 0.5324074074074074, 0.6493055555555556, tensor(1.0936)]\n",
      "Validation -  [0.5902777777777778, 0.4537037037037037, 0.5902777777777778, tensor(1.1339)]\n",
      "\n",
      "Epoch  293\n"
     ]
    },
    {
     "name": "stderr",
     "output_type": "stream",
     "text": [
      "9it [00:00, 19.08it/s]"
     ]
    },
    {
     "name": "stdout",
     "output_type": "stream",
     "text": [
      "['acc', 'kappa', 'fmeasure', 'loss']\n",
      "Training Loss  1.1208728154500325\n"
     ]
    },
    {
     "name": "stderr",
     "output_type": "stream",
     "text": [
      "\n"
     ]
    },
    {
     "name": "stdout",
     "output_type": "stream",
     "text": [
      "Train -  [0.6527777777777778, 0.537037037037037, 0.6527777777777778, tensor(1.0934)]\n",
      "Validation -  [0.5972222222222222, 0.4629629629629629, 0.5972222222222222, tensor(1.1341)]\n",
      "\n",
      "Epoch  294\n"
     ]
    },
    {
     "name": "stderr",
     "output_type": "stream",
     "text": [
      "9it [00:00, 17.29it/s]"
     ]
    },
    {
     "name": "stdout",
     "output_type": "stream",
     "text": [
      "['acc', 'kappa', 'fmeasure', 'loss']\n",
      "Training Loss  1.1230493386586506\n"
     ]
    },
    {
     "name": "stderr",
     "output_type": "stream",
     "text": [
      "\n"
     ]
    },
    {
     "name": "stdout",
     "output_type": "stream",
     "text": [
      "Train -  [0.6527777777777778, 0.537037037037037, 0.6527777777777778, tensor(1.0933)]\n",
      "Validation -  [0.59375, 0.45833333333333337, 0.59375, tensor(1.1335)]\n",
      "\n",
      "Epoch  295\n"
     ]
    },
    {
     "name": "stderr",
     "output_type": "stream",
     "text": [
      "9it [00:00, 17.34it/s]"
     ]
    },
    {
     "name": "stdout",
     "output_type": "stream",
     "text": [
      "['acc', 'kappa', 'fmeasure', 'loss']\n",
      "Training Loss  1.1085920333862305\n"
     ]
    },
    {
     "name": "stderr",
     "output_type": "stream",
     "text": [
      "\n"
     ]
    },
    {
     "name": "stdout",
     "output_type": "stream",
     "text": [
      "Train -  [0.6631944444444444, 0.5509259259259259, 0.6631944444444444, tensor(1.0931)]\n",
      "Validation -  [0.59375, 0.45833333333333337, 0.59375, tensor(1.1338)]\n",
      "\n",
      "Epoch  296\n"
     ]
    },
    {
     "name": "stderr",
     "output_type": "stream",
     "text": [
      "9it [00:00, 15.95it/s]"
     ]
    },
    {
     "name": "stdout",
     "output_type": "stream",
     "text": [
      "['acc', 'kappa', 'fmeasure', 'loss']\n",
      "Training Loss  1.1213950051201715\n"
     ]
    },
    {
     "name": "stderr",
     "output_type": "stream",
     "text": [
      "\n"
     ]
    },
    {
     "name": "stdout",
     "output_type": "stream",
     "text": [
      "Train -  [0.6701388888888888, 0.5601851851851851, 0.6701388888888888, tensor(1.0930)]\n",
      "Validation -  [0.5972222222222222, 0.4629629629629629, 0.5972222222222222, tensor(1.1346)]\n",
      "\n",
      "Epoch  297\n"
     ]
    },
    {
     "name": "stderr",
     "output_type": "stream",
     "text": [
      "9it [00:00, 15.06it/s]\n"
     ]
    },
    {
     "name": "stdout",
     "output_type": "stream",
     "text": [
      "['acc', 'kappa', 'fmeasure', 'loss']\n",
      "Training Loss  1.112548139360216\n",
      "Train -  [0.6701388888888888, 0.5601851851851851, 0.6701388888888888, tensor(1.0928)]\n",
      "Validation -  [0.6041666666666666, 0.4722222222222222, 0.6041666666666666, tensor(1.1347)]\n",
      "\n",
      "Epoch  298\n"
     ]
    },
    {
     "name": "stderr",
     "output_type": "stream",
     "text": [
      "9it [00:00, 17.09it/s]"
     ]
    },
    {
     "name": "stdout",
     "output_type": "stream",
     "text": [
      "['acc', 'kappa', 'fmeasure', 'loss']\n",
      "Training Loss  1.10271864467197\n"
     ]
    },
    {
     "name": "stderr",
     "output_type": "stream",
     "text": [
      "\n"
     ]
    },
    {
     "name": "stdout",
     "output_type": "stream",
     "text": [
      "Train -  [0.6631944444444444, 0.5509259259259259, 0.6631944444444444, tensor(1.0927)]\n",
      "Validation -  [0.59375, 0.45833333333333337, 0.59375, tensor(1.1344)]\n",
      "\n",
      "Epoch  299\n"
     ]
    },
    {
     "name": "stderr",
     "output_type": "stream",
     "text": [
      "9it [00:00, 15.17it/s]"
     ]
    },
    {
     "name": "stdout",
     "output_type": "stream",
     "text": [
      "['acc', 'kappa', 'fmeasure', 'loss']\n",
      "Training Loss  1.1078231467141046\n"
     ]
    },
    {
     "name": "stderr",
     "output_type": "stream",
     "text": [
      "\n"
     ]
    },
    {
     "name": "stdout",
     "output_type": "stream",
     "text": [
      "Train -  [0.6666666666666666, 0.5555555555555556, 0.6666666666666666, tensor(1.0925)]\n",
      "Validation -  [0.5972222222222222, 0.4629629629629629, 0.5972222222222222, tensor(1.1342)]\n",
      "\n",
      "Epoch  300\n"
     ]
    },
    {
     "name": "stderr",
     "output_type": "stream",
     "text": [
      "9it [00:00, 15.32it/s]"
     ]
    },
    {
     "name": "stdout",
     "output_type": "stream",
     "text": [
      "['acc', 'kappa', 'fmeasure', 'loss']\n",
      "Training Loss  1.1106707387500339\n"
     ]
    },
    {
     "name": "stderr",
     "output_type": "stream",
     "text": [
      "\n"
     ]
    },
    {
     "name": "stdout",
     "output_type": "stream",
     "text": [
      "Train -  [0.6597222222222222, 0.5462962962962963, 0.6597222222222222, tensor(1.0926)]\n",
      "Validation -  [0.5972222222222222, 0.4629629629629629, 0.5972222222222222, tensor(1.1342)]\n",
      "\n",
      "Epoch  301\n"
     ]
    },
    {
     "name": "stderr",
     "output_type": "stream",
     "text": [
      "9it [00:00, 15.12it/s]"
     ]
    },
    {
     "name": "stdout",
     "output_type": "stream",
     "text": [
      "['acc', 'kappa', 'fmeasure', 'loss']\n",
      "Training Loss  1.1087477207183838\n"
     ]
    },
    {
     "name": "stderr",
     "output_type": "stream",
     "text": [
      "\n"
     ]
    },
    {
     "name": "stdout",
     "output_type": "stream",
     "text": [
      "Train -  [0.6597222222222222, 0.5462962962962963, 0.6597222222222222, tensor(1.0925)]\n",
      "Validation -  [0.59375, 0.45833333333333337, 0.59375, tensor(1.1341)]\n",
      "\n",
      "Epoch  302\n"
     ]
    },
    {
     "name": "stderr",
     "output_type": "stream",
     "text": [
      "9it [00:00, 15.65it/s]"
     ]
    },
    {
     "name": "stdout",
     "output_type": "stream",
     "text": [
      "['acc', 'kappa', 'fmeasure', 'loss']\n",
      "Training Loss  1.114014466603597\n"
     ]
    },
    {
     "name": "stderr",
     "output_type": "stream",
     "text": [
      "\n"
     ]
    },
    {
     "name": "stdout",
     "output_type": "stream",
     "text": [
      "Train -  [0.6597222222222222, 0.5462962962962963, 0.6597222222222222, tensor(1.0925)]\n",
      "Validation -  [0.6006944444444444, 0.46759259259259256, 0.6006944444444444, tensor(1.1339)]\n",
      "\n",
      "Epoch  303\n"
     ]
    },
    {
     "name": "stderr",
     "output_type": "stream",
     "text": [
      "9it [00:00, 16.60it/s]"
     ]
    },
    {
     "name": "stdout",
     "output_type": "stream",
     "text": [
      "['acc', 'kappa', 'fmeasure', 'loss']\n",
      "Training Loss  1.132658150460985\n"
     ]
    },
    {
     "name": "stderr",
     "output_type": "stream",
     "text": [
      "\n"
     ]
    },
    {
     "name": "stdout",
     "output_type": "stream",
     "text": [
      "Train -  [0.6631944444444444, 0.5509259259259259, 0.6631944444444444, tensor(1.0921)]\n",
      "Validation -  [0.59375, 0.45833333333333337, 0.59375, tensor(1.1340)]\n",
      "\n",
      "Epoch  304\n"
     ]
    },
    {
     "name": "stderr",
     "output_type": "stream",
     "text": [
      "9it [00:00, 15.95it/s]"
     ]
    },
    {
     "name": "stdout",
     "output_type": "stream",
     "text": [
      "['acc', 'kappa', 'fmeasure', 'loss']\n",
      "Training Loss  1.1142532560560439\n"
     ]
    },
    {
     "name": "stderr",
     "output_type": "stream",
     "text": [
      "\n"
     ]
    },
    {
     "name": "stdout",
     "output_type": "stream",
     "text": [
      "Train -  [0.65625, 0.5416666666666667, 0.65625, tensor(1.0919)]\n",
      "Validation -  [0.5902777777777778, 0.4537037037037037, 0.5902777777777778, tensor(1.1340)]\n",
      "\n",
      "Epoch  305\n"
     ]
    },
    {
     "name": "stderr",
     "output_type": "stream",
     "text": [
      "9it [00:00, 15.49it/s]"
     ]
    },
    {
     "name": "stdout",
     "output_type": "stream",
     "text": [
      "['acc', 'kappa', 'fmeasure', 'loss']\n",
      "Training Loss  1.108391629325019\n"
     ]
    },
    {
     "name": "stderr",
     "output_type": "stream",
     "text": [
      "\n"
     ]
    },
    {
     "name": "stdout",
     "output_type": "stream",
     "text": [
      "Train -  [0.65625, 0.5416666666666667, 0.65625, tensor(1.0920)]\n",
      "Validation -  [0.59375, 0.45833333333333337, 0.59375, tensor(1.1347)]\n",
      "\n",
      "Epoch  306\n"
     ]
    },
    {
     "name": "stderr",
     "output_type": "stream",
     "text": [
      "9it [00:00, 17.36it/s]"
     ]
    },
    {
     "name": "stdout",
     "output_type": "stream",
     "text": [
      "['acc', 'kappa', 'fmeasure', 'loss']\n",
      "Training Loss  1.1264987124337091\n"
     ]
    },
    {
     "name": "stderr",
     "output_type": "stream",
     "text": [
      "\n"
     ]
    },
    {
     "name": "stdout",
     "output_type": "stream",
     "text": [
      "Train -  [0.6597222222222222, 0.5462962962962963, 0.6597222222222222, tensor(1.0917)]\n",
      "Validation -  [0.5868055555555556, 0.44907407407407407, 0.5868055555555556, tensor(1.1339)]\n",
      "\n",
      "Epoch  307\n"
     ]
    },
    {
     "name": "stderr",
     "output_type": "stream",
     "text": [
      "9it [00:00, 17.60it/s]"
     ]
    },
    {
     "name": "stdout",
     "output_type": "stream",
     "text": [
      "['acc', 'kappa', 'fmeasure', 'loss']\n",
      "Training Loss  1.1091325018141005\n"
     ]
    },
    {
     "name": "stderr",
     "output_type": "stream",
     "text": [
      "\n"
     ]
    },
    {
     "name": "stdout",
     "output_type": "stream",
     "text": [
      "Train -  [0.6597222222222222, 0.5462962962962963, 0.6597222222222222, tensor(1.0915)]\n",
      "Validation -  [0.59375, 0.45833333333333337, 0.59375, tensor(1.1333)]\n",
      "\n",
      "Epoch  308\n"
     ]
    },
    {
     "name": "stderr",
     "output_type": "stream",
     "text": [
      "9it [00:00, 18.28it/s]"
     ]
    },
    {
     "name": "stdout",
     "output_type": "stream",
     "text": [
      "['acc', 'kappa', 'fmeasure', 'loss']\n",
      "Training Loss  1.1129938893847995\n"
     ]
    },
    {
     "name": "stderr",
     "output_type": "stream",
     "text": [
      "\n"
     ]
    },
    {
     "name": "stdout",
     "output_type": "stream",
     "text": [
      "Train -  [0.6666666666666666, 0.5555555555555556, 0.6666666666666666, tensor(1.0913)]\n",
      "Validation -  [0.5972222222222222, 0.4629629629629629, 0.5972222222222222, tensor(1.1335)]\n",
      "\n",
      "Epoch  309\n"
     ]
    },
    {
     "name": "stderr",
     "output_type": "stream",
     "text": [
      "9it [00:00, 15.54it/s]"
     ]
    },
    {
     "name": "stdout",
     "output_type": "stream",
     "text": [
      "['acc', 'kappa', 'fmeasure', 'loss']\n",
      "Training Loss  1.1095933119455974\n"
     ]
    },
    {
     "name": "stderr",
     "output_type": "stream",
     "text": [
      "\n"
     ]
    },
    {
     "name": "stdout",
     "output_type": "stream",
     "text": [
      "Train -  [0.6597222222222222, 0.5462962962962963, 0.6597222222222222, tensor(1.0915)]\n",
      "Validation -  [0.59375, 0.45833333333333337, 0.59375, tensor(1.1330)]\n",
      "\n",
      "Epoch  310\n"
     ]
    },
    {
     "name": "stderr",
     "output_type": "stream",
     "text": [
      "9it [00:00, 16.35it/s]"
     ]
    },
    {
     "name": "stdout",
     "output_type": "stream",
     "text": [
      "['acc', 'kappa', 'fmeasure', 'loss']\n",
      "Training Loss  1.1078396903143988\n"
     ]
    },
    {
     "name": "stderr",
     "output_type": "stream",
     "text": [
      "\n"
     ]
    },
    {
     "name": "stdout",
     "output_type": "stream",
     "text": [
      "Train -  [0.6527777777777778, 0.537037037037037, 0.6527777777777778, tensor(1.0915)]\n",
      "Validation -  [0.5902777777777778, 0.4537037037037037, 0.5902777777777778, tensor(1.1323)]\n",
      "\n",
      "Epoch  311\n"
     ]
    },
    {
     "name": "stderr",
     "output_type": "stream",
     "text": [
      "9it [00:00, 13.62it/s]"
     ]
    },
    {
     "name": "stdout",
     "output_type": "stream",
     "text": [
      "['acc', 'kappa', 'fmeasure', 'loss']\n",
      "Training Loss  1.1109980477227106\n"
     ]
    },
    {
     "name": "stderr",
     "output_type": "stream",
     "text": [
      "\n"
     ]
    },
    {
     "name": "stdout",
     "output_type": "stream",
     "text": [
      "Train -  [0.6597222222222222, 0.5462962962962963, 0.6597222222222222, tensor(1.0910)]\n",
      "Validation -  [0.6006944444444444, 0.46759259259259256, 0.6006944444444444, tensor(1.1326)]\n",
      "\n",
      "Epoch  312\n"
     ]
    },
    {
     "name": "stderr",
     "output_type": "stream",
     "text": [
      "9it [00:00, 17.90it/s]"
     ]
    },
    {
     "name": "stdout",
     "output_type": "stream",
     "text": [
      "['acc', 'kappa', 'fmeasure', 'loss']\n",
      "Training Loss  1.1132876873016357\n"
     ]
    },
    {
     "name": "stderr",
     "output_type": "stream",
     "text": [
      "\n"
     ]
    },
    {
     "name": "stdout",
     "output_type": "stream",
     "text": [
      "Train -  [0.6631944444444444, 0.5509259259259259, 0.6631944444444444, tensor(1.0911)]\n",
      "Validation -  [0.6041666666666666, 0.4722222222222222, 0.6041666666666666, tensor(1.1322)]\n",
      "\n",
      "Epoch  313\n"
     ]
    },
    {
     "name": "stderr",
     "output_type": "stream",
     "text": [
      "9it [00:00, 15.25it/s]"
     ]
    },
    {
     "name": "stdout",
     "output_type": "stream",
     "text": [
      "['acc', 'kappa', 'fmeasure', 'loss']\n",
      "Training Loss  1.1146263413959079\n"
     ]
    },
    {
     "name": "stderr",
     "output_type": "stream",
     "text": [
      "\n"
     ]
    },
    {
     "name": "stdout",
     "output_type": "stream",
     "text": [
      "Train -  [0.6666666666666666, 0.5555555555555556, 0.6666666666666666, tensor(1.0911)]\n",
      "Validation -  [0.6006944444444444, 0.46759259259259256, 0.6006944444444444, tensor(1.1318)]\n",
      "\n",
      "Epoch  314\n"
     ]
    },
    {
     "name": "stderr",
     "output_type": "stream",
     "text": [
      "9it [00:00, 17.16it/s]"
     ]
    },
    {
     "name": "stdout",
     "output_type": "stream",
     "text": [
      "['acc', 'kappa', 'fmeasure', 'loss']\n",
      "Training Loss  1.1156617800394695\n"
     ]
    },
    {
     "name": "stderr",
     "output_type": "stream",
     "text": [
      "\n"
     ]
    },
    {
     "name": "stdout",
     "output_type": "stream",
     "text": [
      "Train -  [0.6666666666666666, 0.5555555555555556, 0.6666666666666666, tensor(1.0906)]\n",
      "Validation -  [0.6006944444444444, 0.46759259259259256, 0.6006944444444444, tensor(1.1335)]\n",
      "\n",
      "Epoch  315\n"
     ]
    },
    {
     "name": "stderr",
     "output_type": "stream",
     "text": [
      "9it [00:00, 16.53it/s]"
     ]
    },
    {
     "name": "stdout",
     "output_type": "stream",
     "text": [
      "['acc', 'kappa', 'fmeasure', 'loss']\n",
      "Training Loss  1.120059781604343\n"
     ]
    },
    {
     "name": "stderr",
     "output_type": "stream",
     "text": [
      "\n"
     ]
    },
    {
     "name": "stdout",
     "output_type": "stream",
     "text": [
      "Train -  [0.65625, 0.5416666666666667, 0.65625, tensor(1.0909)]\n",
      "Validation -  [0.6006944444444444, 0.46759259259259256, 0.6006944444444444, tensor(1.1351)]\n",
      "\n",
      "Epoch  316\n"
     ]
    },
    {
     "name": "stderr",
     "output_type": "stream",
     "text": [
      "9it [00:00, 16.94it/s]"
     ]
    },
    {
     "name": "stdout",
     "output_type": "stream",
     "text": [
      "['acc', 'kappa', 'fmeasure', 'loss']\n",
      "Training Loss  1.1149823003345065\n"
     ]
    },
    {
     "name": "stderr",
     "output_type": "stream",
     "text": [
      "\n"
     ]
    },
    {
     "name": "stdout",
     "output_type": "stream",
     "text": [
      "Train -  [0.6597222222222222, 0.5462962962962963, 0.6597222222222222, tensor(1.0907)]\n",
      "Validation -  [0.6006944444444444, 0.46759259259259256, 0.6006944444444444, tensor(1.1340)]\n",
      "\n",
      "Epoch  317\n"
     ]
    },
    {
     "name": "stderr",
     "output_type": "stream",
     "text": [
      "9it [00:00, 19.82it/s]"
     ]
    },
    {
     "name": "stdout",
     "output_type": "stream",
     "text": [
      "['acc', 'kappa', 'fmeasure', 'loss']\n",
      "Training Loss  1.1098934412002563\n"
     ]
    },
    {
     "name": "stderr",
     "output_type": "stream",
     "text": [
      "\n"
     ]
    },
    {
     "name": "stdout",
     "output_type": "stream",
     "text": [
      "Train -  [0.6666666666666666, 0.5555555555555556, 0.6666666666666666, tensor(1.0902)]\n",
      "Validation -  [0.6041666666666666, 0.4722222222222222, 0.6041666666666666, tensor(1.1332)]\n",
      "\n",
      "Epoch  318\n"
     ]
    },
    {
     "name": "stderr",
     "output_type": "stream",
     "text": [
      "9it [00:00, 17.50it/s]"
     ]
    },
    {
     "name": "stdout",
     "output_type": "stream",
     "text": [
      "['acc', 'kappa', 'fmeasure', 'loss']\n",
      "Training Loss  1.1060592068566217\n"
     ]
    },
    {
     "name": "stderr",
     "output_type": "stream",
     "text": [
      "\n"
     ]
    },
    {
     "name": "stdout",
     "output_type": "stream",
     "text": [
      "Train -  [0.6631944444444444, 0.5509259259259259, 0.6631944444444444, tensor(1.0901)]\n",
      "Validation -  [0.6041666666666666, 0.4722222222222222, 0.6041666666666666, tensor(1.1329)]\n",
      "\n",
      "Epoch  319\n"
     ]
    },
    {
     "name": "stderr",
     "output_type": "stream",
     "text": [
      "9it [00:00, 15.52it/s]"
     ]
    },
    {
     "name": "stdout",
     "output_type": "stream",
     "text": [
      "['acc', 'kappa', 'fmeasure', 'loss']\n",
      "Training Loss  1.1127205159929063\n"
     ]
    },
    {
     "name": "stderr",
     "output_type": "stream",
     "text": [
      "\n"
     ]
    },
    {
     "name": "stdout",
     "output_type": "stream",
     "text": [
      "Train -  [0.6597222222222222, 0.5462962962962963, 0.6597222222222222, tensor(1.0899)]\n",
      "Validation -  [0.6006944444444444, 0.46759259259259256, 0.6006944444444444, tensor(1.1331)]\n",
      "\n",
      "Epoch  320\n"
     ]
    },
    {
     "name": "stderr",
     "output_type": "stream",
     "text": [
      "9it [00:00, 14.43it/s]"
     ]
    },
    {
     "name": "stdout",
     "output_type": "stream",
     "text": [
      "['acc', 'kappa', 'fmeasure', 'loss']\n",
      "Training Loss  1.0966716210047405\n"
     ]
    },
    {
     "name": "stderr",
     "output_type": "stream",
     "text": [
      "\n"
     ]
    },
    {
     "name": "stdout",
     "output_type": "stream",
     "text": [
      "Train -  [0.6631944444444444, 0.5509259259259259, 0.6631944444444444, tensor(1.0899)]\n",
      "Validation -  [0.6041666666666666, 0.4722222222222222, 0.6041666666666666, tensor(1.1331)]\n",
      "\n",
      "Epoch  321\n"
     ]
    },
    {
     "name": "stderr",
     "output_type": "stream",
     "text": [
      "9it [00:00, 18.04it/s]"
     ]
    },
    {
     "name": "stdout",
     "output_type": "stream",
     "text": [
      "['acc', 'kappa', 'fmeasure', 'loss']\n",
      "Training Loss  1.1061166392432318\n"
     ]
    },
    {
     "name": "stderr",
     "output_type": "stream",
     "text": [
      "\n"
     ]
    },
    {
     "name": "stdout",
     "output_type": "stream",
     "text": [
      "Train -  [0.6631944444444444, 0.5509259259259259, 0.6631944444444444, tensor(1.0898)]\n",
      "Validation -  [0.6006944444444444, 0.46759259259259256, 0.6006944444444444, tensor(1.1328)]\n",
      "\n",
      "Epoch  322\n"
     ]
    },
    {
     "name": "stderr",
     "output_type": "stream",
     "text": [
      "9it [00:00, 15.00it/s]"
     ]
    },
    {
     "name": "stdout",
     "output_type": "stream",
     "text": [
      "['acc', 'kappa', 'fmeasure', 'loss']\n",
      "Training Loss  1.1005796591440837\n"
     ]
    },
    {
     "name": "stderr",
     "output_type": "stream",
     "text": [
      "\n"
     ]
    },
    {
     "name": "stdout",
     "output_type": "stream",
     "text": [
      "Train -  [0.6597222222222222, 0.5462962962962963, 0.6597222222222222, tensor(1.0899)]\n",
      "Validation -  [0.6006944444444444, 0.46759259259259256, 0.6006944444444444, tensor(1.1320)]\n",
      "\n",
      "Epoch  323\n"
     ]
    },
    {
     "name": "stderr",
     "output_type": "stream",
     "text": [
      "9it [00:00, 14.31it/s]"
     ]
    },
    {
     "name": "stdout",
     "output_type": "stream",
     "text": [
      "['acc', 'kappa', 'fmeasure', 'loss']\n",
      "Training Loss  1.1098735729853313\n"
     ]
    },
    {
     "name": "stderr",
     "output_type": "stream",
     "text": [
      "\n"
     ]
    },
    {
     "name": "stdout",
     "output_type": "stream",
     "text": [
      "Train -  [0.6527777777777778, 0.537037037037037, 0.6527777777777778, tensor(1.0899)]\n",
      "Validation -  [0.59375, 0.45833333333333337, 0.59375, tensor(1.1316)]\n",
      "\n",
      "Epoch  324\n"
     ]
    },
    {
     "name": "stderr",
     "output_type": "stream",
     "text": [
      "9it [00:00, 15.97it/s]"
     ]
    },
    {
     "name": "stdout",
     "output_type": "stream",
     "text": [
      "['acc', 'kappa', 'fmeasure', 'loss']\n",
      "Training Loss  1.0935011704762776\n"
     ]
    },
    {
     "name": "stderr",
     "output_type": "stream",
     "text": [
      "\n"
     ]
    },
    {
     "name": "stdout",
     "output_type": "stream",
     "text": [
      "Train -  [0.65625, 0.5416666666666667, 0.65625, tensor(1.0893)]\n",
      "Validation -  [0.6006944444444444, 0.46759259259259256, 0.6006944444444444, tensor(1.1321)]\n",
      "\n",
      "Epoch  325\n"
     ]
    },
    {
     "name": "stderr",
     "output_type": "stream",
     "text": [
      "9it [00:00, 14.81it/s]"
     ]
    },
    {
     "name": "stdout",
     "output_type": "stream",
     "text": [
      "['acc', 'kappa', 'fmeasure', 'loss']\n",
      "Training Loss  1.0915868679682414\n"
     ]
    },
    {
     "name": "stderr",
     "output_type": "stream",
     "text": [
      "\n"
     ]
    },
    {
     "name": "stdout",
     "output_type": "stream",
     "text": [
      "Train -  [0.6597222222222222, 0.5462962962962963, 0.6597222222222222, tensor(1.0892)]\n",
      "Validation -  [0.5972222222222222, 0.4629629629629629, 0.5972222222222222, tensor(1.1328)]\n",
      "\n",
      "Epoch  326\n"
     ]
    },
    {
     "name": "stderr",
     "output_type": "stream",
     "text": [
      "9it [00:00, 14.74it/s]"
     ]
    },
    {
     "name": "stdout",
     "output_type": "stream",
     "text": [
      "['acc', 'kappa', 'fmeasure', 'loss']\n",
      "Training Loss  1.1122082736757066\n"
     ]
    },
    {
     "name": "stderr",
     "output_type": "stream",
     "text": [
      "\n"
     ]
    },
    {
     "name": "stdout",
     "output_type": "stream",
     "text": [
      "Train -  [0.6631944444444444, 0.5509259259259259, 0.6631944444444444, tensor(1.0889)]\n",
      "Validation -  [0.6041666666666666, 0.4722222222222222, 0.6041666666666666, tensor(1.1324)]\n",
      "\n",
      "Epoch  327\n"
     ]
    },
    {
     "name": "stderr",
     "output_type": "stream",
     "text": [
      "9it [00:00, 14.96it/s]"
     ]
    },
    {
     "name": "stdout",
     "output_type": "stream",
     "text": [
      "['acc', 'kappa', 'fmeasure', 'loss']\n",
      "Training Loss  1.1098617845111423\n"
     ]
    },
    {
     "name": "stderr",
     "output_type": "stream",
     "text": [
      "\n"
     ]
    },
    {
     "name": "stdout",
     "output_type": "stream",
     "text": [
      "Train -  [0.6597222222222222, 0.5462962962962963, 0.6597222222222222, tensor(1.0890)]\n",
      "Validation -  [0.5902777777777778, 0.4537037037037037, 0.5902777777777778, tensor(1.1330)]\n",
      "\n",
      "Epoch  328\n"
     ]
    },
    {
     "name": "stderr",
     "output_type": "stream",
     "text": [
      "9it [00:00, 18.62it/s]"
     ]
    },
    {
     "name": "stdout",
     "output_type": "stream",
     "text": [
      "['acc', 'kappa', 'fmeasure', 'loss']\n",
      "Training Loss  1.1041605869928997\n"
     ]
    },
    {
     "name": "stderr",
     "output_type": "stream",
     "text": [
      "\n"
     ]
    },
    {
     "name": "stdout",
     "output_type": "stream",
     "text": [
      "Train -  [0.65625, 0.5416666666666667, 0.65625, tensor(1.0887)]\n",
      "Validation -  [0.5972222222222222, 0.4629629629629629, 0.5972222222222222, tensor(1.1322)]\n",
      "\n",
      "Epoch  329\n"
     ]
    },
    {
     "name": "stderr",
     "output_type": "stream",
     "text": [
      "9it [00:00, 17.79it/s]"
     ]
    },
    {
     "name": "stdout",
     "output_type": "stream",
     "text": [
      "['acc', 'kappa', 'fmeasure', 'loss']\n",
      "Training Loss  1.1050134367412991\n"
     ]
    },
    {
     "name": "stderr",
     "output_type": "stream",
     "text": [
      "\n"
     ]
    },
    {
     "name": "stdout",
     "output_type": "stream",
     "text": [
      "Train -  [0.65625, 0.5416666666666667, 0.65625, tensor(1.0889)]\n",
      "Validation -  [0.59375, 0.45833333333333337, 0.59375, tensor(1.1321)]\n",
      "\n",
      "Epoch  330\n"
     ]
    },
    {
     "name": "stderr",
     "output_type": "stream",
     "text": [
      "9it [00:00, 16.52it/s]"
     ]
    },
    {
     "name": "stdout",
     "output_type": "stream",
     "text": [
      "['acc', 'kappa', 'fmeasure', 'loss']\n",
      "Training Loss  1.1169449223412409\n"
     ]
    },
    {
     "name": "stderr",
     "output_type": "stream",
     "text": [
      "\n"
     ]
    },
    {
     "name": "stdout",
     "output_type": "stream",
     "text": [
      "Train -  [0.65625, 0.5416666666666667, 0.65625, tensor(1.0886)]\n",
      "Validation -  [0.59375, 0.45833333333333337, 0.59375, tensor(1.1327)]\n",
      "\n",
      "Epoch  331\n"
     ]
    },
    {
     "name": "stderr",
     "output_type": "stream",
     "text": [
      "9it [00:00, 14.74it/s]"
     ]
    },
    {
     "name": "stdout",
     "output_type": "stream",
     "text": [
      "['acc', 'kappa', 'fmeasure', 'loss']\n",
      "Training Loss  1.1112171941333346\n"
     ]
    },
    {
     "name": "stderr",
     "output_type": "stream",
     "text": [
      "\n"
     ]
    },
    {
     "name": "stdout",
     "output_type": "stream",
     "text": [
      "Train -  [0.6631944444444444, 0.5509259259259259, 0.6631944444444444, tensor(1.0884)]\n",
      "Validation -  [0.6006944444444444, 0.46759259259259256, 0.6006944444444444, tensor(1.1328)]\n",
      "\n",
      "Epoch  332\n"
     ]
    },
    {
     "name": "stderr",
     "output_type": "stream",
     "text": [
      "9it [00:00, 14.30it/s]"
     ]
    },
    {
     "name": "stdout",
     "output_type": "stream",
     "text": [
      "['acc', 'kappa', 'fmeasure', 'loss']\n",
      "Training Loss  1.1210551526811388\n"
     ]
    },
    {
     "name": "stderr",
     "output_type": "stream",
     "text": [
      "\n"
     ]
    },
    {
     "name": "stdout",
     "output_type": "stream",
     "text": [
      "Train -  [0.6631944444444444, 0.5509259259259259, 0.6631944444444444, tensor(1.0881)]\n",
      "Validation -  [0.6041666666666666, 0.4722222222222222, 0.6041666666666666, tensor(1.1322)]\n",
      "\n",
      "Epoch  333\n"
     ]
    },
    {
     "name": "stderr",
     "output_type": "stream",
     "text": [
      "9it [00:00, 17.61it/s]"
     ]
    },
    {
     "name": "stdout",
     "output_type": "stream",
     "text": [
      "['acc', 'kappa', 'fmeasure', 'loss']\n",
      "Training Loss  1.1049699385960896\n"
     ]
    },
    {
     "name": "stderr",
     "output_type": "stream",
     "text": [
      "\n"
     ]
    },
    {
     "name": "stdout",
     "output_type": "stream",
     "text": [
      "Train -  [0.6666666666666666, 0.5555555555555556, 0.6666666666666666, tensor(1.0879)]\n",
      "Validation -  [0.6006944444444444, 0.46759259259259256, 0.6006944444444444, tensor(1.1320)]\n",
      "\n",
      "Epoch  334\n"
     ]
    },
    {
     "name": "stderr",
     "output_type": "stream",
     "text": [
      "9it [00:00, 16.57it/s]"
     ]
    },
    {
     "name": "stdout",
     "output_type": "stream",
     "text": [
      "['acc', 'kappa', 'fmeasure', 'loss']\n",
      "Training Loss  1.116615851720174\n"
     ]
    },
    {
     "name": "stderr",
     "output_type": "stream",
     "text": [
      "\n"
     ]
    },
    {
     "name": "stdout",
     "output_type": "stream",
     "text": [
      "Train -  [0.65625, 0.5416666666666667, 0.65625, tensor(1.0881)]\n",
      "Validation -  [0.5972222222222222, 0.4629629629629629, 0.5972222222222222, tensor(1.1320)]\n",
      "\n",
      "Epoch  335\n"
     ]
    },
    {
     "name": "stderr",
     "output_type": "stream",
     "text": [
      "9it [00:00, 16.67it/s]"
     ]
    },
    {
     "name": "stdout",
     "output_type": "stream",
     "text": [
      "['acc', 'kappa', 'fmeasure', 'loss']\n",
      "Training Loss  1.1069693830278184\n"
     ]
    },
    {
     "name": "stderr",
     "output_type": "stream",
     "text": [
      "\n"
     ]
    },
    {
     "name": "stdout",
     "output_type": "stream",
     "text": [
      "Train -  [0.6597222222222222, 0.5462962962962963, 0.6597222222222222, tensor(1.0878)]\n",
      "Validation -  [0.5972222222222222, 0.4629629629629629, 0.5972222222222222, tensor(1.1316)]\n",
      "\n",
      "Epoch  336\n"
     ]
    },
    {
     "name": "stderr",
     "output_type": "stream",
     "text": [
      "9it [00:00, 17.18it/s]"
     ]
    },
    {
     "name": "stdout",
     "output_type": "stream",
     "text": [
      "['acc', 'kappa', 'fmeasure', 'loss']\n",
      "Training Loss  1.110898839102851\n"
     ]
    },
    {
     "name": "stderr",
     "output_type": "stream",
     "text": [
      "\n"
     ]
    },
    {
     "name": "stdout",
     "output_type": "stream",
     "text": [
      "Train -  [0.6666666666666666, 0.5555555555555556, 0.6666666666666666, tensor(1.0876)]\n",
      "Validation -  [0.6041666666666666, 0.4722222222222222, 0.6041666666666666, tensor(1.1319)]\n",
      "\n",
      "Epoch  337\n"
     ]
    },
    {
     "name": "stderr",
     "output_type": "stream",
     "text": [
      "9it [00:00, 15.42it/s]"
     ]
    },
    {
     "name": "stdout",
     "output_type": "stream",
     "text": [
      "['acc', 'kappa', 'fmeasure', 'loss']\n",
      "Training Loss  1.1120211018456354\n"
     ]
    },
    {
     "name": "stderr",
     "output_type": "stream",
     "text": [
      "\n"
     ]
    },
    {
     "name": "stdout",
     "output_type": "stream",
     "text": [
      "Train -  [0.6666666666666666, 0.5555555555555556, 0.6666666666666666, tensor(1.0877)]\n",
      "Validation -  [0.6076388888888888, 0.47685185185185186, 0.6076388888888888, tensor(1.1318)]\n",
      "\n",
      "Epoch  338\n"
     ]
    },
    {
     "name": "stderr",
     "output_type": "stream",
     "text": [
      "9it [00:00, 17.10it/s]"
     ]
    },
    {
     "name": "stdout",
     "output_type": "stream",
     "text": [
      "['acc', 'kappa', 'fmeasure', 'loss']\n",
      "Training Loss  1.1032332248157926\n"
     ]
    },
    {
     "name": "stderr",
     "output_type": "stream",
     "text": [
      "\n"
     ]
    },
    {
     "name": "stdout",
     "output_type": "stream",
     "text": [
      "Train -  [0.6631944444444444, 0.5509259259259259, 0.6631944444444444, tensor(1.0874)]\n",
      "Validation -  [0.6041666666666666, 0.4722222222222222, 0.6041666666666666, tensor(1.1315)]\n",
      "\n",
      "Epoch  339\n"
     ]
    },
    {
     "name": "stderr",
     "output_type": "stream",
     "text": [
      "9it [00:00, 17.02it/s]"
     ]
    },
    {
     "name": "stdout",
     "output_type": "stream",
     "text": [
      "['acc', 'kappa', 'fmeasure', 'loss']\n",
      "Training Loss  1.122510724597507\n"
     ]
    },
    {
     "name": "stderr",
     "output_type": "stream",
     "text": [
      "\n"
     ]
    },
    {
     "name": "stdout",
     "output_type": "stream",
     "text": [
      "Train -  [0.6631944444444444, 0.5509259259259259, 0.6631944444444444, tensor(1.0874)]\n",
      "Validation -  [0.6006944444444444, 0.46759259259259256, 0.6006944444444444, tensor(1.1315)]\n",
      "\n",
      "Epoch  340\n"
     ]
    },
    {
     "name": "stderr",
     "output_type": "stream",
     "text": [
      "9it [00:00, 15.54it/s]"
     ]
    },
    {
     "name": "stdout",
     "output_type": "stream",
     "text": [
      "['acc', 'kappa', 'fmeasure', 'loss']\n",
      "Training Loss  1.1144723627302382\n"
     ]
    },
    {
     "name": "stderr",
     "output_type": "stream",
     "text": [
      "\n"
     ]
    },
    {
     "name": "stdout",
     "output_type": "stream",
     "text": [
      "Train -  [0.6597222222222222, 0.5462962962962963, 0.6597222222222222, tensor(1.0874)]\n",
      "Validation -  [0.6111111111111112, 0.4814814814814815, 0.6111111111111112, tensor(1.1318)]\n",
      "\n",
      "Epoch  341\n"
     ]
    },
    {
     "name": "stderr",
     "output_type": "stream",
     "text": [
      "9it [00:00, 16.25it/s]"
     ]
    },
    {
     "name": "stdout",
     "output_type": "stream",
     "text": [
      "['acc', 'kappa', 'fmeasure', 'loss']\n",
      "Training Loss  1.1024805439843073\n"
     ]
    },
    {
     "name": "stderr",
     "output_type": "stream",
     "text": [
      "\n"
     ]
    },
    {
     "name": "stdout",
     "output_type": "stream",
     "text": [
      "Train -  [0.6701388888888888, 0.5601851851851851, 0.6701388888888888, tensor(1.0873)]\n",
      "Validation -  [0.6041666666666666, 0.4722222222222222, 0.6041666666666666, tensor(1.1331)]\n",
      "\n",
      "Epoch  342\n"
     ]
    },
    {
     "name": "stderr",
     "output_type": "stream",
     "text": [
      "9it [00:00, 15.18it/s]"
     ]
    },
    {
     "name": "stdout",
     "output_type": "stream",
     "text": [
      "['acc', 'kappa', 'fmeasure', 'loss']\n",
      "Training Loss  1.1039570040173001\n"
     ]
    },
    {
     "name": "stderr",
     "output_type": "stream",
     "text": [
      "\n"
     ]
    },
    {
     "name": "stdout",
     "output_type": "stream",
     "text": [
      "Train -  [0.6666666666666666, 0.5555555555555556, 0.6666666666666666, tensor(1.0871)]\n",
      "Validation -  [0.59375, 0.45833333333333337, 0.59375, tensor(1.1323)]\n",
      "\n",
      "Epoch  343\n"
     ]
    },
    {
     "name": "stderr",
     "output_type": "stream",
     "text": [
      "9it [00:00, 15.19it/s]"
     ]
    },
    {
     "name": "stdout",
     "output_type": "stream",
     "text": [
      "['acc', 'kappa', 'fmeasure', 'loss']\n",
      "Training Loss  1.1107738018035889\n"
     ]
    },
    {
     "name": "stderr",
     "output_type": "stream",
     "text": [
      "\n"
     ]
    },
    {
     "name": "stdout",
     "output_type": "stream",
     "text": [
      "Train -  [0.6631944444444444, 0.5509259259259259, 0.6631944444444444, tensor(1.0870)]\n",
      "Validation -  [0.6111111111111112, 0.4814814814814815, 0.6111111111111112, tensor(1.1314)]\n",
      "\n",
      "Epoch  344\n"
     ]
    },
    {
     "name": "stderr",
     "output_type": "stream",
     "text": [
      "9it [00:00, 13.72it/s]"
     ]
    },
    {
     "name": "stdout",
     "output_type": "stream",
     "text": [
      "['acc', 'kappa', 'fmeasure', 'loss']\n",
      "Training Loss  1.100121259689331\n"
     ]
    },
    {
     "name": "stderr",
     "output_type": "stream",
     "text": [
      "\n"
     ]
    },
    {
     "name": "stdout",
     "output_type": "stream",
     "text": [
      "Train -  [0.6666666666666666, 0.5555555555555556, 0.6666666666666666, tensor(1.0869)]\n",
      "Validation -  [0.6111111111111112, 0.4814814814814815, 0.6111111111111112, tensor(1.1317)]\n",
      "\n",
      "Epoch  345\n"
     ]
    },
    {
     "name": "stderr",
     "output_type": "stream",
     "text": [
      "9it [00:00, 26.51it/s]"
     ]
    },
    {
     "name": "stdout",
     "output_type": "stream",
     "text": [
      "['acc', 'kappa', 'fmeasure', 'loss']\n",
      "Training Loss  1.1153002447552152\n"
     ]
    },
    {
     "name": "stderr",
     "output_type": "stream",
     "text": [
      "\n"
     ]
    },
    {
     "name": "stdout",
     "output_type": "stream",
     "text": [
      "Train -  [0.6666666666666666, 0.5555555555555556, 0.6666666666666666, tensor(1.0868)]\n",
      "Validation -  [0.6041666666666666, 0.4722222222222222, 0.6041666666666666, tensor(1.1320)]\n",
      "\n",
      "Epoch  346\n"
     ]
    },
    {
     "name": "stderr",
     "output_type": "stream",
     "text": [
      "9it [00:00, 30.55it/s]"
     ]
    },
    {
     "name": "stdout",
     "output_type": "stream",
     "text": [
      "['acc', 'kappa', 'fmeasure', 'loss']\n",
      "Training Loss  1.1086245973904927\n"
     ]
    },
    {
     "name": "stderr",
     "output_type": "stream",
     "text": [
      "\n"
     ]
    },
    {
     "name": "stdout",
     "output_type": "stream",
     "text": [
      "Train -  [0.65625, 0.5416666666666667, 0.65625, tensor(1.0867)]\n",
      "Validation -  [0.6076388888888888, 0.47685185185185186, 0.6076388888888888, tensor(1.1317)]\n",
      "\n",
      "Epoch  347\n"
     ]
    },
    {
     "name": "stderr",
     "output_type": "stream",
     "text": [
      "9it [00:00, 26.48it/s]"
     ]
    },
    {
     "name": "stdout",
     "output_type": "stream",
     "text": [
      "['acc', 'kappa', 'fmeasure', 'loss']\n",
      "Training Loss  1.1012383699417114\n"
     ]
    },
    {
     "name": "stderr",
     "output_type": "stream",
     "text": [
      "\n"
     ]
    },
    {
     "name": "stdout",
     "output_type": "stream",
     "text": [
      "Train -  [0.6666666666666666, 0.5555555555555556, 0.6666666666666666, tensor(1.0865)]\n",
      "Validation -  [0.6076388888888888, 0.47685185185185186, 0.6076388888888888, tensor(1.1308)]\n",
      "\n",
      "Epoch  348\n"
     ]
    },
    {
     "name": "stderr",
     "output_type": "stream",
     "text": [
      "9it [00:00, 33.45it/s]"
     ]
    },
    {
     "name": "stdout",
     "output_type": "stream",
     "text": [
      "['acc', 'kappa', 'fmeasure', 'loss']\n",
      "Training Loss  1.1170058647791545\n"
     ]
    },
    {
     "name": "stderr",
     "output_type": "stream",
     "text": [
      "\n"
     ]
    },
    {
     "name": "stdout",
     "output_type": "stream",
     "text": [
      "Train -  [0.6666666666666666, 0.5555555555555556, 0.6666666666666666, tensor(1.0866)]\n",
      "Validation -  [0.6076388888888888, 0.47685185185185186, 0.6076388888888888, tensor(1.1305)]\n",
      "\n",
      "Epoch  349\n"
     ]
    },
    {
     "name": "stderr",
     "output_type": "stream",
     "text": [
      "9it [00:00, 32.41it/s]"
     ]
    },
    {
     "name": "stdout",
     "output_type": "stream",
     "text": [
      "['acc', 'kappa', 'fmeasure', 'loss']\n",
      "Training Loss  1.1112868785858154\n"
     ]
    },
    {
     "name": "stderr",
     "output_type": "stream",
     "text": [
      "\n"
     ]
    },
    {
     "name": "stdout",
     "output_type": "stream",
     "text": [
      "Train -  [0.6631944444444444, 0.5509259259259259, 0.6631944444444444, tensor(1.0866)]\n",
      "Validation -  [0.6076388888888888, 0.47685185185185186, 0.6076388888888888, tensor(1.1307)]\n",
      "\n",
      "Epoch  350\n"
     ]
    },
    {
     "name": "stderr",
     "output_type": "stream",
     "text": [
      "9it [00:00, 31.64it/s]"
     ]
    },
    {
     "name": "stdout",
     "output_type": "stream",
     "text": [
      "['acc', 'kappa', 'fmeasure', 'loss']\n",
      "Training Loss  1.1055039034949408\n"
     ]
    },
    {
     "name": "stderr",
     "output_type": "stream",
     "text": [
      "\n"
     ]
    },
    {
     "name": "stdout",
     "output_type": "stream",
     "text": [
      "Train -  [0.6666666666666666, 0.5555555555555556, 0.6666666666666666, tensor(1.0863)]\n",
      "Validation -  [0.6076388888888888, 0.47685185185185186, 0.6076388888888888, tensor(1.1309)]\n",
      "\n",
      "Epoch  351\n"
     ]
    },
    {
     "name": "stderr",
     "output_type": "stream",
     "text": [
      "9it [00:00, 29.76it/s]"
     ]
    },
    {
     "name": "stdout",
     "output_type": "stream",
     "text": [
      "['acc', 'kappa', 'fmeasure', 'loss']\n",
      "Training Loss  1.1158336533440485\n"
     ]
    },
    {
     "name": "stderr",
     "output_type": "stream",
     "text": [
      "\n"
     ]
    },
    {
     "name": "stdout",
     "output_type": "stream",
     "text": [
      "Train -  [0.6666666666666666, 0.5555555555555556, 0.6666666666666666, tensor(1.0863)]\n",
      "Validation -  [0.6041666666666666, 0.4722222222222222, 0.6041666666666666, tensor(1.1309)]\n",
      "\n",
      "Epoch  352\n"
     ]
    },
    {
     "name": "stderr",
     "output_type": "stream",
     "text": [
      "9it [00:00, 27.75it/s]"
     ]
    },
    {
     "name": "stdout",
     "output_type": "stream",
     "text": [
      "['acc', 'kappa', 'fmeasure', 'loss']\n",
      "Training Loss  1.1037908063994513\n"
     ]
    },
    {
     "name": "stderr",
     "output_type": "stream",
     "text": [
      "\n"
     ]
    },
    {
     "name": "stdout",
     "output_type": "stream",
     "text": [
      "Train -  [0.6666666666666666, 0.5555555555555556, 0.6666666666666666, tensor(1.0861)]\n",
      "Validation -  [0.6076388888888888, 0.47685185185185186, 0.6076388888888888, tensor(1.1314)]\n",
      "\n",
      "Epoch  353\n"
     ]
    },
    {
     "name": "stderr",
     "output_type": "stream",
     "text": [
      "9it [00:00, 27.52it/s]"
     ]
    },
    {
     "name": "stdout",
     "output_type": "stream",
     "text": [
      "['acc', 'kappa', 'fmeasure', 'loss']\n",
      "Training Loss  1.1068610085381403\n"
     ]
    },
    {
     "name": "stderr",
     "output_type": "stream",
     "text": [
      "\n"
     ]
    },
    {
     "name": "stdout",
     "output_type": "stream",
     "text": [
      "Train -  [0.6666666666666666, 0.5555555555555556, 0.6666666666666666, tensor(1.0858)]\n",
      "Validation -  [0.6111111111111112, 0.4814814814814815, 0.6111111111111112, tensor(1.1314)]\n",
      "\n",
      "Epoch  354\n"
     ]
    },
    {
     "name": "stderr",
     "output_type": "stream",
     "text": [
      "9it [00:00, 26.91it/s]"
     ]
    },
    {
     "name": "stdout",
     "output_type": "stream",
     "text": [
      "['acc', 'kappa', 'fmeasure', 'loss']\n",
      "Training Loss  1.1122977998521593\n"
     ]
    },
    {
     "name": "stderr",
     "output_type": "stream",
     "text": [
      "\n"
     ]
    },
    {
     "name": "stdout",
     "output_type": "stream",
     "text": [
      "Train -  [0.6631944444444444, 0.5509259259259259, 0.6631944444444444, tensor(1.0858)]\n",
      "Validation -  [0.6145833333333334, 0.48611111111111116, 0.6145833333333334, tensor(1.1314)]\n",
      "\n",
      "Epoch  355\n"
     ]
    },
    {
     "name": "stderr",
     "output_type": "stream",
     "text": [
      "9it [00:00, 30.83it/s]"
     ]
    },
    {
     "name": "stdout",
     "output_type": "stream",
     "text": [
      "['acc', 'kappa', 'fmeasure', 'loss']\n",
      "Training Loss  1.1098958518770006\n"
     ]
    },
    {
     "name": "stderr",
     "output_type": "stream",
     "text": [
      "\n"
     ]
    },
    {
     "name": "stdout",
     "output_type": "stream",
     "text": [
      "Train -  [0.6631944444444444, 0.5509259259259259, 0.6631944444444444, tensor(1.0859)]\n",
      "Validation -  [0.6076388888888888, 0.47685185185185186, 0.6076388888888888, tensor(1.1305)]\n",
      "\n",
      "Epoch  356\n"
     ]
    },
    {
     "name": "stderr",
     "output_type": "stream",
     "text": [
      "9it [00:00, 33.75it/s]"
     ]
    },
    {
     "name": "stdout",
     "output_type": "stream",
     "text": [
      "['acc', 'kappa', 'fmeasure', 'loss']\n",
      "Training Loss  1.0983850691053603\n"
     ]
    },
    {
     "name": "stderr",
     "output_type": "stream",
     "text": [
      "\n"
     ]
    },
    {
     "name": "stdout",
     "output_type": "stream",
     "text": [
      "Train -  [0.6666666666666666, 0.5555555555555556, 0.6666666666666666, tensor(1.0862)]\n",
      "Validation -  [0.6145833333333334, 0.48611111111111116, 0.6145833333333334, tensor(1.1313)]\n",
      "\n",
      "Epoch  357\n"
     ]
    },
    {
     "name": "stderr",
     "output_type": "stream",
     "text": [
      "9it [00:00, 26.93it/s]"
     ]
    },
    {
     "name": "stdout",
     "output_type": "stream",
     "text": [
      "['acc', 'kappa', 'fmeasure', 'loss']\n",
      "Training Loss  1.1111912065082126\n"
     ]
    },
    {
     "name": "stderr",
     "output_type": "stream",
     "text": [
      "\n"
     ]
    },
    {
     "name": "stdout",
     "output_type": "stream",
     "text": [
      "Train -  [0.6631944444444444, 0.5509259259259259, 0.6631944444444444, tensor(1.0859)]\n",
      "Validation -  [0.6145833333333334, 0.48611111111111116, 0.6145833333333334, tensor(1.1316)]\n",
      "\n",
      "Epoch  358\n"
     ]
    },
    {
     "name": "stderr",
     "output_type": "stream",
     "text": [
      "9it [00:00, 28.25it/s]"
     ]
    },
    {
     "name": "stdout",
     "output_type": "stream",
     "text": [
      "['acc', 'kappa', 'fmeasure', 'loss']\n",
      "Training Loss  1.1098249687088861\n"
     ]
    },
    {
     "name": "stderr",
     "output_type": "stream",
     "text": [
      "\n"
     ]
    },
    {
     "name": "stdout",
     "output_type": "stream",
     "text": [
      "Train -  [0.6631944444444444, 0.5509259259259259, 0.6631944444444444, tensor(1.0854)]\n",
      "Validation -  [0.6111111111111112, 0.4814814814814815, 0.6111111111111112, tensor(1.1314)]\n",
      "\n",
      "Epoch  359\n"
     ]
    },
    {
     "name": "stderr",
     "output_type": "stream",
     "text": [
      "9it [00:00, 25.14it/s]"
     ]
    },
    {
     "name": "stdout",
     "output_type": "stream",
     "text": [
      "['acc', 'kappa', 'fmeasure', 'loss']\n",
      "Training Loss  1.11424896452162\n"
     ]
    },
    {
     "name": "stderr",
     "output_type": "stream",
     "text": [
      "\n"
     ]
    },
    {
     "name": "stdout",
     "output_type": "stream",
     "text": [
      "Train -  [0.6631944444444444, 0.5509259259259259, 0.6631944444444444, tensor(1.0855)]\n",
      "Validation -  [0.6111111111111112, 0.4814814814814815, 0.6111111111111112, tensor(1.1307)]\n",
      "\n",
      "Epoch  360\n"
     ]
    },
    {
     "name": "stderr",
     "output_type": "stream",
     "text": [
      "9it [00:00, 30.74it/s]"
     ]
    },
    {
     "name": "stdout",
     "output_type": "stream",
     "text": [
      "['acc', 'kappa', 'fmeasure', 'loss']\n",
      "Training Loss  1.1115217871136136\n"
     ]
    },
    {
     "name": "stderr",
     "output_type": "stream",
     "text": [
      "\n"
     ]
    },
    {
     "name": "stdout",
     "output_type": "stream",
     "text": [
      "Train -  [0.6631944444444444, 0.5509259259259259, 0.6631944444444444, tensor(1.0854)]\n",
      "Validation -  [0.6145833333333334, 0.48611111111111116, 0.6145833333333334, tensor(1.1310)]\n",
      "\n",
      "Epoch  361\n"
     ]
    },
    {
     "name": "stderr",
     "output_type": "stream",
     "text": [
      "9it [00:00, 28.90it/s]"
     ]
    },
    {
     "name": "stdout",
     "output_type": "stream",
     "text": [
      "['acc', 'kappa', 'fmeasure', 'loss']\n",
      "Training Loss  1.1071589257982042\n"
     ]
    },
    {
     "name": "stderr",
     "output_type": "stream",
     "text": [
      "\n"
     ]
    },
    {
     "name": "stdout",
     "output_type": "stream",
     "text": [
      "Train -  [0.6666666666666666, 0.5555555555555556, 0.6666666666666666, tensor(1.0850)]\n",
      "Validation -  [0.6076388888888888, 0.47685185185185186, 0.6076388888888888, tensor(1.1312)]\n",
      "\n",
      "Epoch  362\n"
     ]
    },
    {
     "name": "stderr",
     "output_type": "stream",
     "text": [
      "9it [00:00, 27.66it/s]"
     ]
    },
    {
     "name": "stdout",
     "output_type": "stream",
     "text": [
      "['acc', 'kappa', 'fmeasure', 'loss']\n",
      "Training Loss  1.1075628466076322\n"
     ]
    },
    {
     "name": "stderr",
     "output_type": "stream",
     "text": [
      "\n"
     ]
    },
    {
     "name": "stdout",
     "output_type": "stream",
     "text": [
      "Train -  [0.6631944444444444, 0.5509259259259259, 0.6631944444444444, tensor(1.0848)]\n",
      "Validation -  [0.6006944444444444, 0.46759259259259256, 0.6006944444444444, tensor(1.1317)]\n",
      "\n",
      "Epoch  363\n"
     ]
    },
    {
     "name": "stderr",
     "output_type": "stream",
     "text": [
      "9it [00:00, 28.13it/s]"
     ]
    },
    {
     "name": "stdout",
     "output_type": "stream",
     "text": [
      "['acc', 'kappa', 'fmeasure', 'loss']\n",
      "Training Loss  1.096718019909329\n"
     ]
    },
    {
     "name": "stderr",
     "output_type": "stream",
     "text": [
      "\n"
     ]
    },
    {
     "name": "stdout",
     "output_type": "stream",
     "text": [
      "Train -  [0.6666666666666666, 0.5555555555555556, 0.6666666666666666, tensor(1.0849)]\n",
      "Validation -  [0.6041666666666666, 0.4722222222222222, 0.6041666666666666, tensor(1.1321)]\n",
      "\n",
      "Epoch  364\n"
     ]
    },
    {
     "name": "stderr",
     "output_type": "stream",
     "text": [
      "9it [00:00, 28.12it/s]"
     ]
    },
    {
     "name": "stdout",
     "output_type": "stream",
     "text": [
      "['acc', 'kappa', 'fmeasure', 'loss']\n",
      "Training Loss  1.1153343783484564\n"
     ]
    },
    {
     "name": "stderr",
     "output_type": "stream",
     "text": [
      "\n"
     ]
    },
    {
     "name": "stdout",
     "output_type": "stream",
     "text": [
      "Train -  [0.6701388888888888, 0.5601851851851851, 0.6701388888888888, tensor(1.0847)]\n",
      "Validation -  [0.6076388888888888, 0.47685185185185186, 0.6076388888888888, tensor(1.1319)]\n",
      "\n",
      "Epoch  365\n"
     ]
    },
    {
     "name": "stderr",
     "output_type": "stream",
     "text": [
      "9it [00:00, 27.78it/s]"
     ]
    },
    {
     "name": "stdout",
     "output_type": "stream",
     "text": [
      "['acc', 'kappa', 'fmeasure', 'loss']\n",
      "Training Loss  1.100457337167528\n"
     ]
    },
    {
     "name": "stderr",
     "output_type": "stream",
     "text": [
      "\n"
     ]
    },
    {
     "name": "stdout",
     "output_type": "stream",
     "text": [
      "Train -  [0.6666666666666666, 0.5555555555555556, 0.6666666666666666, tensor(1.0849)]\n",
      "Validation -  [0.59375, 0.45833333333333337, 0.59375, tensor(1.1320)]\n",
      "\n",
      "Epoch  366\n"
     ]
    },
    {
     "name": "stderr",
     "output_type": "stream",
     "text": [
      "9it [00:00, 29.48it/s]"
     ]
    },
    {
     "name": "stdout",
     "output_type": "stream",
     "text": [
      "['acc', 'kappa', 'fmeasure', 'loss']\n",
      "Training Loss  1.113909469710456\n"
     ]
    },
    {
     "name": "stderr",
     "output_type": "stream",
     "text": [
      "\n"
     ]
    },
    {
     "name": "stdout",
     "output_type": "stream",
     "text": [
      "Train -  [0.6631944444444444, 0.5509259259259259, 0.6631944444444444, tensor(1.0845)]\n",
      "Validation -  [0.6041666666666666, 0.4722222222222222, 0.6041666666666666, tensor(1.1307)]\n",
      "\n",
      "Epoch  367\n"
     ]
    },
    {
     "name": "stderr",
     "output_type": "stream",
     "text": [
      "9it [00:00, 30.46it/s]"
     ]
    },
    {
     "name": "stdout",
     "output_type": "stream",
     "text": [
      "['acc', 'kappa', 'fmeasure', 'loss']\n",
      "Training Loss  1.0907863908343844\n"
     ]
    },
    {
     "name": "stderr",
     "output_type": "stream",
     "text": [
      "\n"
     ]
    },
    {
     "name": "stdout",
     "output_type": "stream",
     "text": [
      "Train -  [0.6631944444444444, 0.5509259259259259, 0.6631944444444444, tensor(1.0846)]\n",
      "Validation -  [0.5902777777777778, 0.4537037037037037, 0.5902777777777778, tensor(1.1316)]\n",
      "\n",
      "Epoch  368\n"
     ]
    },
    {
     "name": "stderr",
     "output_type": "stream",
     "text": [
      "9it [00:00, 30.62it/s]"
     ]
    },
    {
     "name": "stdout",
     "output_type": "stream",
     "text": [
      "['acc', 'kappa', 'fmeasure', 'loss']\n",
      "Training Loss  1.1003877189424303\n"
     ]
    },
    {
     "name": "stderr",
     "output_type": "stream",
     "text": [
      "\n"
     ]
    },
    {
     "name": "stdout",
     "output_type": "stream",
     "text": [
      "Train -  [0.6631944444444444, 0.5509259259259259, 0.6631944444444444, tensor(1.0852)]\n",
      "Validation -  [0.5902777777777778, 0.4537037037037037, 0.5902777777777778, tensor(1.1324)]\n",
      "\n",
      "Epoch  369\n"
     ]
    },
    {
     "name": "stderr",
     "output_type": "stream",
     "text": [
      "9it [00:00, 28.26it/s]"
     ]
    },
    {
     "name": "stdout",
     "output_type": "stream",
     "text": [
      "['acc', 'kappa', 'fmeasure', 'loss']\n",
      "Training Loss  1.0982567336824205\n"
     ]
    },
    {
     "name": "stderr",
     "output_type": "stream",
     "text": [
      "\n"
     ]
    },
    {
     "name": "stdout",
     "output_type": "stream",
     "text": [
      "Train -  [0.6597222222222222, 0.5462962962962963, 0.6597222222222222, tensor(1.0844)]\n",
      "Validation -  [0.5868055555555556, 0.44907407407407407, 0.5868055555555556, tensor(1.1312)]\n",
      "\n",
      "Epoch  370\n"
     ]
    },
    {
     "name": "stderr",
     "output_type": "stream",
     "text": [
      "9it [00:00, 31.20it/s]"
     ]
    },
    {
     "name": "stdout",
     "output_type": "stream",
     "text": [
      "['acc', 'kappa', 'fmeasure', 'loss']\n",
      "Training Loss  1.0996509525511\n"
     ]
    },
    {
     "name": "stderr",
     "output_type": "stream",
     "text": [
      "\n"
     ]
    },
    {
     "name": "stdout",
     "output_type": "stream",
     "text": [
      "Train -  [0.6736111111111112, 0.5648148148148149, 0.6736111111111112, tensor(1.0837)]\n",
      "Validation -  [0.6076388888888888, 0.47685185185185186, 0.6076388888888888, tensor(1.1309)]\n",
      "\n",
      "Epoch  371\n"
     ]
    },
    {
     "name": "stderr",
     "output_type": "stream",
     "text": [
      "9it [00:00, 26.39it/s]"
     ]
    },
    {
     "name": "stdout",
     "output_type": "stream",
     "text": [
      "['acc', 'kappa', 'fmeasure', 'loss']\n",
      "Training Loss  1.0965812736087375\n"
     ]
    },
    {
     "name": "stderr",
     "output_type": "stream",
     "text": [
      "\n"
     ]
    },
    {
     "name": "stdout",
     "output_type": "stream",
     "text": [
      "Train -  [0.6631944444444444, 0.5509259259259259, 0.6631944444444444, tensor(1.0839)]\n",
      "Validation -  [0.59375, 0.45833333333333337, 0.59375, tensor(1.1316)]\n",
      "\n",
      "Epoch  372\n"
     ]
    },
    {
     "name": "stderr",
     "output_type": "stream",
     "text": [
      "9it [00:00, 30.78it/s]"
     ]
    },
    {
     "name": "stdout",
     "output_type": "stream",
     "text": [
      "['acc', 'kappa', 'fmeasure', 'loss']\n",
      "Training Loss  1.107964449458652\n"
     ]
    },
    {
     "name": "stderr",
     "output_type": "stream",
     "text": [
      "\n"
     ]
    },
    {
     "name": "stdout",
     "output_type": "stream",
     "text": [
      "Train -  [0.6666666666666666, 0.5555555555555556, 0.6666666666666666, tensor(1.0839)]\n",
      "Validation -  [0.6111111111111112, 0.4814814814814815, 0.6111111111111112, tensor(1.1320)]\n",
      "\n",
      "Epoch  373\n"
     ]
    },
    {
     "name": "stderr",
     "output_type": "stream",
     "text": [
      "9it [00:00, 28.36it/s]"
     ]
    },
    {
     "name": "stdout",
     "output_type": "stream",
     "text": [
      "['acc', 'kappa', 'fmeasure', 'loss']\n",
      "Training Loss  1.099808030658298\n"
     ]
    },
    {
     "name": "stderr",
     "output_type": "stream",
     "text": [
      "\n"
     ]
    },
    {
     "name": "stdout",
     "output_type": "stream",
     "text": [
      "Train -  [0.6701388888888888, 0.5601851851851851, 0.6701388888888888, tensor(1.0835)]\n",
      "Validation -  [0.6145833333333334, 0.48611111111111116, 0.6145833333333334, tensor(1.1313)]\n",
      "\n",
      "Epoch  374\n"
     ]
    },
    {
     "name": "stderr",
     "output_type": "stream",
     "text": [
      "9it [00:00, 26.27it/s]"
     ]
    },
    {
     "name": "stdout",
     "output_type": "stream",
     "text": [
      "['acc', 'kappa', 'fmeasure', 'loss']\n",
      "Training Loss  1.1081523100535076\n"
     ]
    },
    {
     "name": "stderr",
     "output_type": "stream",
     "text": [
      "\n"
     ]
    },
    {
     "name": "stdout",
     "output_type": "stream",
     "text": [
      "Train -  [0.6631944444444444, 0.5509259259259259, 0.6631944444444444, tensor(1.0835)]\n",
      "Validation -  [0.6145833333333334, 0.48611111111111116, 0.6145833333333334, tensor(1.1303)]\n",
      "\n",
      "Epoch  375\n"
     ]
    },
    {
     "name": "stderr",
     "output_type": "stream",
     "text": [
      "9it [00:00, 29.49it/s]"
     ]
    },
    {
     "name": "stdout",
     "output_type": "stream",
     "text": [
      "['acc', 'kappa', 'fmeasure', 'loss']\n",
      "Training Loss  1.1030276748869154\n"
     ]
    },
    {
     "name": "stderr",
     "output_type": "stream",
     "text": [
      "\n"
     ]
    },
    {
     "name": "stdout",
     "output_type": "stream",
     "text": [
      "Train -  [0.6666666666666666, 0.5555555555555556, 0.6666666666666666, tensor(1.0836)]\n",
      "Validation -  [0.6145833333333334, 0.48611111111111116, 0.6145833333333334, tensor(1.1294)]\n",
      "\n",
      "Epoch  376\n"
     ]
    },
    {
     "name": "stderr",
     "output_type": "stream",
     "text": [
      "9it [00:00, 26.58it/s]"
     ]
    },
    {
     "name": "stdout",
     "output_type": "stream",
     "text": [
      "['acc', 'kappa', 'fmeasure', 'loss']\n",
      "Training Loss  1.1049683888753254\n"
     ]
    },
    {
     "name": "stderr",
     "output_type": "stream",
     "text": [
      "\n"
     ]
    },
    {
     "name": "stdout",
     "output_type": "stream",
     "text": [
      "Train -  [0.6666666666666666, 0.5555555555555556, 0.6666666666666666, tensor(1.0834)]\n",
      "Validation -  [0.6145833333333334, 0.48611111111111116, 0.6145833333333334, tensor(1.1292)]\n",
      "\n",
      "Epoch  377\n"
     ]
    },
    {
     "name": "stderr",
     "output_type": "stream",
     "text": [
      "9it [00:00, 25.56it/s]"
     ]
    },
    {
     "name": "stdout",
     "output_type": "stream",
     "text": [
      "['acc', 'kappa', 'fmeasure', 'loss']\n",
      "Training Loss  1.1066913207372029\n"
     ]
    },
    {
     "name": "stderr",
     "output_type": "stream",
     "text": [
      "\n"
     ]
    },
    {
     "name": "stdout",
     "output_type": "stream",
     "text": [
      "Train -  [0.6666666666666666, 0.5555555555555556, 0.6666666666666666, tensor(1.0830)]\n",
      "Validation -  [0.6145833333333334, 0.48611111111111116, 0.6145833333333334, tensor(1.1292)]\n",
      "\n",
      "Epoch  378\n"
     ]
    },
    {
     "name": "stderr",
     "output_type": "stream",
     "text": [
      "9it [00:00, 29.27it/s]"
     ]
    },
    {
     "name": "stdout",
     "output_type": "stream",
     "text": [
      "['acc', 'kappa', 'fmeasure', 'loss']\n",
      "Training Loss  1.1020031770070393\n"
     ]
    },
    {
     "name": "stderr",
     "output_type": "stream",
     "text": [
      "\n"
     ]
    },
    {
     "name": "stdout",
     "output_type": "stream",
     "text": [
      "Train -  [0.6666666666666666, 0.5555555555555556, 0.6666666666666666, tensor(1.0829)]\n",
      "Validation -  [0.6111111111111112, 0.4814814814814815, 0.6111111111111112, tensor(1.1299)]\n",
      "\n",
      "Epoch  379\n"
     ]
    },
    {
     "name": "stderr",
     "output_type": "stream",
     "text": [
      "9it [00:00, 32.41it/s]"
     ]
    },
    {
     "name": "stdout",
     "output_type": "stream",
     "text": [
      "['acc', 'kappa', 'fmeasure', 'loss']\n",
      "Training Loss  1.1227395666970148\n"
     ]
    },
    {
     "name": "stderr",
     "output_type": "stream",
     "text": [
      "\n"
     ]
    },
    {
     "name": "stdout",
     "output_type": "stream",
     "text": [
      "Train -  [0.6597222222222222, 0.5462962962962963, 0.6597222222222222, tensor(1.0831)]\n",
      "Validation -  [0.5972222222222222, 0.4629629629629629, 0.5972222222222222, tensor(1.1310)]\n",
      "\n",
      "Epoch  380\n"
     ]
    },
    {
     "name": "stderr",
     "output_type": "stream",
     "text": [
      "9it [00:00, 28.90it/s]\n"
     ]
    },
    {
     "name": "stdout",
     "output_type": "stream",
     "text": [
      "['acc', 'kappa', 'fmeasure', 'loss']\n",
      "Training Loss  1.098189393679301\n",
      "Train -  [0.6631944444444444, 0.5509259259259259, 0.6631944444444444, tensor(1.0835)]\n",
      "Validation -  [0.5972222222222222, 0.4629629629629629, 0.5972222222222222, tensor(1.1317)]\n",
      "\n",
      "Epoch  381\n"
     ]
    },
    {
     "name": "stderr",
     "output_type": "stream",
     "text": [
      "9it [00:00, 27.27it/s]"
     ]
    },
    {
     "name": "stdout",
     "output_type": "stream",
     "text": [
      "['acc', 'kappa', 'fmeasure', 'loss']\n",
      "Training Loss  1.1035413874520197\n"
     ]
    },
    {
     "name": "stderr",
     "output_type": "stream",
     "text": [
      "\n"
     ]
    },
    {
     "name": "stdout",
     "output_type": "stream",
     "text": [
      "Train -  [0.6631944444444444, 0.5509259259259259, 0.6631944444444444, tensor(1.0829)]\n",
      "Validation -  [0.6076388888888888, 0.47685185185185186, 0.6076388888888888, tensor(1.1309)]\n",
      "\n",
      "Epoch  382\n"
     ]
    },
    {
     "name": "stderr",
     "output_type": "stream",
     "text": [
      "9it [00:00, 33.49it/s]"
     ]
    },
    {
     "name": "stdout",
     "output_type": "stream",
     "text": [
      "['acc', 'kappa', 'fmeasure', 'loss']\n",
      "Training Loss  1.094997525215149\n"
     ]
    },
    {
     "name": "stderr",
     "output_type": "stream",
     "text": [
      "\n"
     ]
    },
    {
     "name": "stdout",
     "output_type": "stream",
     "text": [
      "Train -  [0.6666666666666666, 0.5555555555555556, 0.6666666666666666, tensor(1.0825)]\n",
      "Validation -  [0.6076388888888888, 0.47685185185185186, 0.6076388888888888, tensor(1.1300)]\n",
      "\n",
      "Epoch  383\n"
     ]
    },
    {
     "name": "stderr",
     "output_type": "stream",
     "text": [
      "9it [00:00, 28.56it/s]"
     ]
    },
    {
     "name": "stdout",
     "output_type": "stream",
     "text": [
      "['acc', 'kappa', 'fmeasure', 'loss']\n",
      "Training Loss  1.1071882910198636\n"
     ]
    },
    {
     "name": "stderr",
     "output_type": "stream",
     "text": [
      "\n"
     ]
    },
    {
     "name": "stdout",
     "output_type": "stream",
     "text": [
      "Train -  [0.6666666666666666, 0.5555555555555556, 0.6666666666666666, tensor(1.0826)]\n",
      "Validation -  [0.6111111111111112, 0.4814814814814815, 0.6111111111111112, tensor(1.1307)]\n",
      "\n",
      "Epoch  384\n"
     ]
    },
    {
     "name": "stderr",
     "output_type": "stream",
     "text": [
      "9it [00:00, 26.63it/s]"
     ]
    },
    {
     "name": "stdout",
     "output_type": "stream",
     "text": [
      "['acc', 'kappa', 'fmeasure', 'loss']\n",
      "Training Loss  1.1068712340460882\n"
     ]
    },
    {
     "name": "stderr",
     "output_type": "stream",
     "text": [
      "\n"
     ]
    },
    {
     "name": "stdout",
     "output_type": "stream",
     "text": [
      "Train -  [0.6631944444444444, 0.5509259259259259, 0.6631944444444444, tensor(1.0827)]\n",
      "Validation -  [0.5972222222222222, 0.4629629629629629, 0.5972222222222222, tensor(1.1306)]\n",
      "\n",
      "Epoch  385\n"
     ]
    },
    {
     "name": "stderr",
     "output_type": "stream",
     "text": [
      "9it [00:00, 29.37it/s]"
     ]
    },
    {
     "name": "stdout",
     "output_type": "stream",
     "text": [
      "['acc', 'kappa', 'fmeasure', 'loss']\n",
      "Training Loss  1.1006260448031955\n"
     ]
    },
    {
     "name": "stderr",
     "output_type": "stream",
     "text": [
      "\n"
     ]
    },
    {
     "name": "stdout",
     "output_type": "stream",
     "text": [
      "Train -  [0.6631944444444444, 0.5509259259259259, 0.6631944444444444, tensor(1.0824)]\n",
      "Validation -  [0.6145833333333334, 0.48611111111111116, 0.6145833333333334, tensor(1.1289)]\n",
      "\n",
      "Epoch  386\n"
     ]
    },
    {
     "name": "stderr",
     "output_type": "stream",
     "text": [
      "9it [00:00, 30.41it/s]"
     ]
    },
    {
     "name": "stdout",
     "output_type": "stream",
     "text": [
      "['acc', 'kappa', 'fmeasure', 'loss']\n",
      "Training Loss  1.1036320394939847\n"
     ]
    },
    {
     "name": "stderr",
     "output_type": "stream",
     "text": [
      "\n"
     ]
    },
    {
     "name": "stdout",
     "output_type": "stream",
     "text": [
      "Train -  [0.6631944444444444, 0.5509259259259259, 0.6631944444444444, tensor(1.0824)]\n",
      "Validation -  [0.6145833333333334, 0.48611111111111116, 0.6145833333333334, tensor(1.1281)]\n",
      "\n",
      "Epoch  387\n"
     ]
    },
    {
     "name": "stderr",
     "output_type": "stream",
     "text": [
      "9it [00:00, 31.28it/s]"
     ]
    },
    {
     "name": "stdout",
     "output_type": "stream",
     "text": [
      "['acc', 'kappa', 'fmeasure', 'loss']\n",
      "Training Loss  1.095319774415758\n"
     ]
    },
    {
     "name": "stderr",
     "output_type": "stream",
     "text": [
      "\n"
     ]
    },
    {
     "name": "stdout",
     "output_type": "stream",
     "text": [
      "Train -  [0.6701388888888888, 0.5601851851851851, 0.6701388888888888, tensor(1.0818)]\n",
      "Validation -  [0.6111111111111112, 0.4814814814814815, 0.6111111111111112, tensor(1.1288)]\n",
      "\n",
      "Epoch  388\n"
     ]
    },
    {
     "name": "stderr",
     "output_type": "stream",
     "text": [
      "9it [00:00, 30.23it/s]"
     ]
    },
    {
     "name": "stdout",
     "output_type": "stream",
     "text": [
      "['acc', 'kappa', 'fmeasure', 'loss']\n",
      "Training Loss  1.088414364390903\n"
     ]
    },
    {
     "name": "stderr",
     "output_type": "stream",
     "text": [
      "\n"
     ]
    },
    {
     "name": "stdout",
     "output_type": "stream",
     "text": [
      "Train -  [0.6736111111111112, 0.5648148148148149, 0.6736111111111112, tensor(1.0818)]\n",
      "Validation -  [0.6041666666666666, 0.4722222222222222, 0.6041666666666666, tensor(1.1293)]\n",
      "\n",
      "Epoch  389\n"
     ]
    },
    {
     "name": "stderr",
     "output_type": "stream",
     "text": [
      "9it [00:00, 28.29it/s]"
     ]
    },
    {
     "name": "stdout",
     "output_type": "stream",
     "text": [
      "['acc', 'kappa', 'fmeasure', 'loss']\n",
      "Training Loss  1.1066983143488567\n"
     ]
    },
    {
     "name": "stderr",
     "output_type": "stream",
     "text": [
      "\n"
     ]
    },
    {
     "name": "stdout",
     "output_type": "stream",
     "text": [
      "Train -  [0.6736111111111112, 0.5648148148148149, 0.6736111111111112, tensor(1.0818)]\n",
      "Validation -  [0.6041666666666666, 0.4722222222222222, 0.6041666666666666, tensor(1.1293)]\n",
      "\n",
      "Epoch  390\n"
     ]
    },
    {
     "name": "stderr",
     "output_type": "stream",
     "text": [
      "9it [00:00, 27.16it/s]"
     ]
    },
    {
     "name": "stdout",
     "output_type": "stream",
     "text": [
      "['acc', 'kappa', 'fmeasure', 'loss']\n",
      "Training Loss  1.1049227052264743\n"
     ]
    },
    {
     "name": "stderr",
     "output_type": "stream",
     "text": [
      "\n"
     ]
    },
    {
     "name": "stdout",
     "output_type": "stream",
     "text": [
      "Train -  [0.6736111111111112, 0.5648148148148149, 0.6736111111111112, tensor(1.0817)]\n",
      "Validation -  [0.6076388888888888, 0.47685185185185186, 0.6076388888888888, tensor(1.1293)]\n",
      "\n",
      "Epoch  391\n"
     ]
    },
    {
     "name": "stderr",
     "output_type": "stream",
     "text": [
      "9it [00:00, 30.30it/s]"
     ]
    },
    {
     "name": "stdout",
     "output_type": "stream",
     "text": [
      "['acc', 'kappa', 'fmeasure', 'loss']\n",
      "Training Loss  1.1057362821367052\n"
     ]
    },
    {
     "name": "stderr",
     "output_type": "stream",
     "text": [
      "\n"
     ]
    },
    {
     "name": "stdout",
     "output_type": "stream",
     "text": [
      "Train -  [0.6736111111111112, 0.5648148148148149, 0.6736111111111112, tensor(1.0815)]\n",
      "Validation -  [0.6111111111111112, 0.4814814814814815, 0.6111111111111112, tensor(1.1282)]\n",
      "\n",
      "Epoch  392\n"
     ]
    },
    {
     "name": "stderr",
     "output_type": "stream",
     "text": [
      "9it [00:00, 28.93it/s]"
     ]
    },
    {
     "name": "stdout",
     "output_type": "stream",
     "text": [
      "['acc', 'kappa', 'fmeasure', 'loss']\n",
      "Training Loss  1.095400094985962\n"
     ]
    },
    {
     "name": "stderr",
     "output_type": "stream",
     "text": [
      "\n"
     ]
    },
    {
     "name": "stdout",
     "output_type": "stream",
     "text": [
      "Train -  [0.6736111111111112, 0.5648148148148149, 0.6736111111111112, tensor(1.0816)]\n",
      "Validation -  [0.6145833333333334, 0.48611111111111116, 0.6145833333333334, tensor(1.1282)]\n",
      "\n",
      "Epoch  393\n"
     ]
    },
    {
     "name": "stderr",
     "output_type": "stream",
     "text": [
      "9it [00:00, 29.73it/s]"
     ]
    },
    {
     "name": "stdout",
     "output_type": "stream",
     "text": [
      "['acc', 'kappa', 'fmeasure', 'loss']\n",
      "Training Loss  1.1030401123894586\n"
     ]
    },
    {
     "name": "stderr",
     "output_type": "stream",
     "text": [
      "\n"
     ]
    },
    {
     "name": "stdout",
     "output_type": "stream",
     "text": [
      "Train -  [0.6736111111111112, 0.5648148148148149, 0.6736111111111112, tensor(1.0816)]\n",
      "Validation -  [0.6145833333333334, 0.48611111111111116, 0.6145833333333334, tensor(1.1283)]\n",
      "\n",
      "Epoch  394\n"
     ]
    },
    {
     "name": "stderr",
     "output_type": "stream",
     "text": [
      "9it [00:00, 26.86it/s]"
     ]
    },
    {
     "name": "stdout",
     "output_type": "stream",
     "text": [
      "['acc', 'kappa', 'fmeasure', 'loss']\n",
      "Training Loss  1.0942214594946966\n"
     ]
    },
    {
     "name": "stderr",
     "output_type": "stream",
     "text": [
      "\n"
     ]
    },
    {
     "name": "stdout",
     "output_type": "stream",
     "text": [
      "Train -  [0.6770833333333334, 0.5694444444444444, 0.6770833333333334, tensor(1.0812)]\n",
      "Validation -  [0.6111111111111112, 0.4814814814814815, 0.6111111111111112, tensor(1.1294)]\n",
      "\n",
      "Epoch  395\n"
     ]
    },
    {
     "name": "stderr",
     "output_type": "stream",
     "text": [
      "9it [00:00, 29.04it/s]"
     ]
    },
    {
     "name": "stdout",
     "output_type": "stream",
     "text": [
      "['acc', 'kappa', 'fmeasure', 'loss']\n",
      "Training Loss  1.1105453968048096\n"
     ]
    },
    {
     "name": "stderr",
     "output_type": "stream",
     "text": [
      "\n"
     ]
    },
    {
     "name": "stdout",
     "output_type": "stream",
     "text": [
      "Train -  [0.6736111111111112, 0.5648148148148149, 0.6736111111111112, tensor(1.0810)]\n",
      "Validation -  [0.6006944444444444, 0.46759259259259256, 0.6006944444444444, tensor(1.1289)]\n",
      "\n",
      "Epoch  396\n"
     ]
    },
    {
     "name": "stderr",
     "output_type": "stream",
     "text": [
      "9it [00:00, 30.41it/s]"
     ]
    },
    {
     "name": "stdout",
     "output_type": "stream",
     "text": [
      "['acc', 'kappa', 'fmeasure', 'loss']\n",
      "Training Loss  1.105400350358751\n"
     ]
    },
    {
     "name": "stderr",
     "output_type": "stream",
     "text": [
      "\n"
     ]
    },
    {
     "name": "stdout",
     "output_type": "stream",
     "text": [
      "Train -  [0.6736111111111112, 0.5648148148148149, 0.6736111111111112, tensor(1.0810)]\n",
      "Validation -  [0.5972222222222222, 0.4629629629629629, 0.5972222222222222, tensor(1.1294)]\n",
      "\n",
      "Epoch  397\n"
     ]
    },
    {
     "name": "stderr",
     "output_type": "stream",
     "text": [
      "9it [00:00, 27.33it/s]"
     ]
    },
    {
     "name": "stdout",
     "output_type": "stream",
     "text": [
      "['acc', 'kappa', 'fmeasure', 'loss']\n",
      "Training Loss  1.1097015539805095\n"
     ]
    },
    {
     "name": "stderr",
     "output_type": "stream",
     "text": [
      "\n"
     ]
    },
    {
     "name": "stdout",
     "output_type": "stream",
     "text": [
      "Train -  [0.6701388888888888, 0.5601851851851851, 0.6701388888888888, tensor(1.0809)]\n",
      "Validation -  [0.6145833333333334, 0.48611111111111116, 0.6145833333333334, tensor(1.1279)]\n",
      "\n",
      "Epoch  398\n"
     ]
    },
    {
     "name": "stderr",
     "output_type": "stream",
     "text": [
      "9it [00:00, 29.49it/s]"
     ]
    },
    {
     "name": "stdout",
     "output_type": "stream",
     "text": [
      "['acc', 'kappa', 'fmeasure', 'loss']\n",
      "Training Loss  1.1110900772942438\n"
     ]
    },
    {
     "name": "stderr",
     "output_type": "stream",
     "text": [
      "\n"
     ]
    },
    {
     "name": "stdout",
     "output_type": "stream",
     "text": [
      "Train -  [0.6701388888888888, 0.5601851851851851, 0.6701388888888888, tensor(1.0809)]\n",
      "Validation -  [0.6111111111111112, 0.4814814814814815, 0.6111111111111112, tensor(1.1277)]\n",
      "\n",
      "Epoch  399\n"
     ]
    },
    {
     "name": "stderr",
     "output_type": "stream",
     "text": [
      "9it [00:00, 27.54it/s]"
     ]
    },
    {
     "name": "stdout",
     "output_type": "stream",
     "text": [
      "['acc', 'kappa', 'fmeasure', 'loss']\n",
      "Training Loss  1.0983533196979098\n"
     ]
    },
    {
     "name": "stderr",
     "output_type": "stream",
     "text": [
      "\n"
     ]
    },
    {
     "name": "stdout",
     "output_type": "stream",
     "text": [
      "Train -  [0.6736111111111112, 0.5648148148148149, 0.6736111111111112, tensor(1.0810)]\n",
      "Validation -  [0.6111111111111112, 0.4814814814814815, 0.6111111111111112, tensor(1.1275)]\n",
      "\n",
      "Epoch  400\n"
     ]
    },
    {
     "name": "stderr",
     "output_type": "stream",
     "text": [
      "9it [00:00, 29.57it/s]"
     ]
    },
    {
     "name": "stdout",
     "output_type": "stream",
     "text": [
      "['acc', 'kappa', 'fmeasure', 'loss']\n",
      "Training Loss  1.0917158656650119\n"
     ]
    },
    {
     "name": "stderr",
     "output_type": "stream",
     "text": [
      "\n"
     ]
    },
    {
     "name": "stdout",
     "output_type": "stream",
     "text": [
      "Train -  [0.6736111111111112, 0.5648148148148149, 0.6736111111111112, tensor(1.0806)]\n",
      "Validation -  [0.6111111111111112, 0.4814814814814815, 0.6111111111111112, tensor(1.1273)]\n",
      "\n",
      "Epoch  401\n"
     ]
    },
    {
     "name": "stderr",
     "output_type": "stream",
     "text": [
      "9it [00:00, 31.37it/s]"
     ]
    },
    {
     "name": "stdout",
     "output_type": "stream",
     "text": [
      "['acc', 'kappa', 'fmeasure', 'loss']\n",
      "Training Loss  1.1049041085773044\n"
     ]
    },
    {
     "name": "stderr",
     "output_type": "stream",
     "text": [
      "\n"
     ]
    },
    {
     "name": "stdout",
     "output_type": "stream",
     "text": [
      "Train -  [0.6736111111111112, 0.5648148148148149, 0.6736111111111112, tensor(1.0808)]\n",
      "Validation -  [0.6111111111111112, 0.4814814814814815, 0.6111111111111112, tensor(1.1274)]\n",
      "\n",
      "Epoch  402\n"
     ]
    },
    {
     "name": "stderr",
     "output_type": "stream",
     "text": [
      "9it [00:00, 28.26it/s]"
     ]
    },
    {
     "name": "stdout",
     "output_type": "stream",
     "text": [
      "['acc', 'kappa', 'fmeasure', 'loss']\n",
      "Training Loss  1.0927615298165216\n"
     ]
    },
    {
     "name": "stderr",
     "output_type": "stream",
     "text": [
      "\n"
     ]
    },
    {
     "name": "stdout",
     "output_type": "stream",
     "text": [
      "Train -  [0.6736111111111112, 0.5648148148148149, 0.6736111111111112, tensor(1.0806)]\n",
      "Validation -  [0.6111111111111112, 0.4814814814814815, 0.6111111111111112, tensor(1.1275)]\n",
      "\n",
      "Epoch  403\n"
     ]
    },
    {
     "name": "stderr",
     "output_type": "stream",
     "text": [
      "9it [00:00, 32.17it/s]"
     ]
    },
    {
     "name": "stdout",
     "output_type": "stream",
     "text": [
      "['acc', 'kappa', 'fmeasure', 'loss']\n",
      "Training Loss  1.111791729927063\n"
     ]
    },
    {
     "name": "stderr",
     "output_type": "stream",
     "text": [
      "\n"
     ]
    },
    {
     "name": "stdout",
     "output_type": "stream",
     "text": [
      "Train -  [0.6736111111111112, 0.5648148148148149, 0.6736111111111112, tensor(1.0805)]\n",
      "Validation -  [0.6111111111111112, 0.4814814814814815, 0.6111111111111112, tensor(1.1276)]\n",
      "\n",
      "Epoch  404\n"
     ]
    },
    {
     "name": "stderr",
     "output_type": "stream",
     "text": [
      "9it [00:00, 28.17it/s]"
     ]
    },
    {
     "name": "stdout",
     "output_type": "stream",
     "text": [
      "['acc', 'kappa', 'fmeasure', 'loss']\n",
      "Training Loss  1.1047494014104207\n"
     ]
    },
    {
     "name": "stderr",
     "output_type": "stream",
     "text": [
      "\n"
     ]
    },
    {
     "name": "stdout",
     "output_type": "stream",
     "text": [
      "Train -  [0.6736111111111112, 0.5648148148148149, 0.6736111111111112, tensor(1.0804)]\n",
      "Validation -  [0.6111111111111112, 0.4814814814814815, 0.6111111111111112, tensor(1.1276)]\n",
      "\n",
      "Epoch  405\n"
     ]
    },
    {
     "name": "stderr",
     "output_type": "stream",
     "text": [
      "9it [00:00, 27.00it/s]"
     ]
    },
    {
     "name": "stdout",
     "output_type": "stream",
     "text": [
      "['acc', 'kappa', 'fmeasure', 'loss']\n",
      "Training Loss  1.1028893523746066\n"
     ]
    },
    {
     "name": "stderr",
     "output_type": "stream",
     "text": [
      "\n"
     ]
    },
    {
     "name": "stdout",
     "output_type": "stream",
     "text": [
      "Train -  [0.6770833333333334, 0.5694444444444444, 0.6770833333333334, tensor(1.0804)]\n",
      "Validation -  [0.6076388888888888, 0.47685185185185186, 0.6076388888888888, tensor(1.1277)]\n",
      "\n",
      "Epoch  406\n"
     ]
    },
    {
     "name": "stderr",
     "output_type": "stream",
     "text": [
      "9it [00:00, 32.80it/s]"
     ]
    },
    {
     "name": "stdout",
     "output_type": "stream",
     "text": [
      "['acc', 'kappa', 'fmeasure', 'loss']\n",
      "Training Loss  1.1161556773715549\n"
     ]
    },
    {
     "name": "stderr",
     "output_type": "stream",
     "text": [
      "\n"
     ]
    },
    {
     "name": "stdout",
     "output_type": "stream",
     "text": [
      "Train -  [0.6770833333333334, 0.5694444444444444, 0.6770833333333334, tensor(1.0804)]\n",
      "Validation -  [0.6041666666666666, 0.4722222222222222, 0.6041666666666666, tensor(1.1279)]\n",
      "\n",
      "Epoch  407\n"
     ]
    },
    {
     "name": "stderr",
     "output_type": "stream",
     "text": [
      "9it [00:00, 27.97it/s]"
     ]
    },
    {
     "name": "stdout",
     "output_type": "stream",
     "text": [
      "['acc', 'kappa', 'fmeasure', 'loss']\n",
      "Training Loss  1.109024445215861\n"
     ]
    },
    {
     "name": "stderr",
     "output_type": "stream",
     "text": [
      "\n"
     ]
    },
    {
     "name": "stdout",
     "output_type": "stream",
     "text": [
      "Train -  [0.6770833333333334, 0.5694444444444444, 0.6770833333333334, tensor(1.0806)]\n",
      "Validation -  [0.6111111111111112, 0.4814814814814815, 0.6111111111111112, tensor(1.1281)]\n",
      "\n",
      "Epoch  408\n"
     ]
    },
    {
     "name": "stderr",
     "output_type": "stream",
     "text": [
      "9it [00:00, 29.93it/s]"
     ]
    },
    {
     "name": "stdout",
     "output_type": "stream",
     "text": [
      "['acc', 'kappa', 'fmeasure', 'loss']\n",
      "Training Loss  1.1129883925120037\n"
     ]
    },
    {
     "name": "stderr",
     "output_type": "stream",
     "text": [
      "\n"
     ]
    },
    {
     "name": "stdout",
     "output_type": "stream",
     "text": [
      "Train -  [0.6770833333333334, 0.5694444444444444, 0.6770833333333334, tensor(1.0805)]\n",
      "Validation -  [0.6111111111111112, 0.4814814814814815, 0.6111111111111112, tensor(1.1283)]\n",
      "\n",
      "Epoch  409\n"
     ]
    },
    {
     "name": "stderr",
     "output_type": "stream",
     "text": [
      "9it [00:00, 29.55it/s]\n"
     ]
    },
    {
     "name": "stdout",
     "output_type": "stream",
     "text": [
      "['acc', 'kappa', 'fmeasure', 'loss']\n",
      "Training Loss  1.1076240407096014\n",
      "Train -  [0.6770833333333334, 0.5694444444444444, 0.6770833333333334, tensor(1.0804)]\n",
      "Validation -  [0.6076388888888888, 0.47685185185185186, 0.6076388888888888, tensor(1.1283)]\n",
      "\n",
      "Epoch  410\n"
     ]
    },
    {
     "name": "stderr",
     "output_type": "stream",
     "text": [
      "9it [00:00, 27.49it/s]"
     ]
    },
    {
     "name": "stdout",
     "output_type": "stream",
     "text": [
      "['acc', 'kappa', 'fmeasure', 'loss']\n",
      "Training Loss  1.09276196691725\n"
     ]
    },
    {
     "name": "stderr",
     "output_type": "stream",
     "text": [
      "\n"
     ]
    },
    {
     "name": "stdout",
     "output_type": "stream",
     "text": [
      "Train -  [0.6770833333333334, 0.5694444444444444, 0.6770833333333334, tensor(1.0804)]\n",
      "Validation -  [0.6076388888888888, 0.47685185185185186, 0.6076388888888888, tensor(1.1284)]\n",
      "\n",
      "Epoch  411\n"
     ]
    },
    {
     "name": "stderr",
     "output_type": "stream",
     "text": [
      "9it [00:00, 29.23it/s]\n"
     ]
    },
    {
     "name": "stdout",
     "output_type": "stream",
     "text": [
      "['acc', 'kappa', 'fmeasure', 'loss']\n",
      "Training Loss  1.1079783704545763\n",
      "Train -  [0.6770833333333334, 0.5694444444444444, 0.6770833333333334, tensor(1.0802)]\n",
      "Validation -  [0.6111111111111112, 0.4814814814814815, 0.6111111111111112, tensor(1.1282)]\n",
      "\n",
      "Epoch  412\n"
     ]
    },
    {
     "name": "stderr",
     "output_type": "stream",
     "text": [
      "9it [00:00, 30.94it/s]"
     ]
    },
    {
     "name": "stdout",
     "output_type": "stream",
     "text": [
      "['acc', 'kappa', 'fmeasure', 'loss']\n",
      "Training Loss  1.0916445917553372\n"
     ]
    },
    {
     "name": "stderr",
     "output_type": "stream",
     "text": [
      "\n"
     ]
    },
    {
     "name": "stdout",
     "output_type": "stream",
     "text": [
      "Train -  [0.6770833333333334, 0.5694444444444444, 0.6770833333333334, tensor(1.0803)]\n",
      "Validation -  [0.6111111111111112, 0.4814814814814815, 0.6111111111111112, tensor(1.1280)]\n",
      "\n",
      "Epoch  413\n"
     ]
    },
    {
     "name": "stderr",
     "output_type": "stream",
     "text": [
      "9it [00:00, 27.25it/s]"
     ]
    },
    {
     "name": "stdout",
     "output_type": "stream",
     "text": [
      "['acc', 'kappa', 'fmeasure', 'loss']\n",
      "Training Loss  1.1098451084560819\n"
     ]
    },
    {
     "name": "stderr",
     "output_type": "stream",
     "text": [
      "\n"
     ]
    },
    {
     "name": "stdout",
     "output_type": "stream",
     "text": [
      "Train -  [0.6736111111111112, 0.5648148148148149, 0.6736111111111112, tensor(1.0802)]\n",
      "Validation -  [0.6145833333333334, 0.48611111111111116, 0.6145833333333334, tensor(1.1280)]\n",
      "\n",
      "Epoch  414\n"
     ]
    },
    {
     "name": "stderr",
     "output_type": "stream",
     "text": [
      "9it [00:00, 27.47it/s]"
     ]
    },
    {
     "name": "stdout",
     "output_type": "stream",
     "text": [
      "['acc', 'kappa', 'fmeasure', 'loss']\n",
      "Training Loss  1.095903370115492\n"
     ]
    },
    {
     "name": "stderr",
     "output_type": "stream",
     "text": [
      "\n"
     ]
    },
    {
     "name": "stdout",
     "output_type": "stream",
     "text": [
      "Train -  [0.6736111111111112, 0.5648148148148149, 0.6736111111111112, tensor(1.0802)]\n",
      "Validation -  [0.6145833333333334, 0.48611111111111116, 0.6145833333333334, tensor(1.1281)]\n",
      "\n",
      "Epoch  415\n"
     ]
    },
    {
     "name": "stderr",
     "output_type": "stream",
     "text": [
      "9it [00:00, 28.89it/s]"
     ]
    },
    {
     "name": "stdout",
     "output_type": "stream",
     "text": [
      "['acc', 'kappa', 'fmeasure', 'loss']\n",
      "Training Loss  1.1008968485726252\n"
     ]
    },
    {
     "name": "stderr",
     "output_type": "stream",
     "text": [
      "\n"
     ]
    },
    {
     "name": "stdout",
     "output_type": "stream",
     "text": [
      "Train -  [0.6736111111111112, 0.5648148148148149, 0.6736111111111112, tensor(1.0803)]\n",
      "Validation -  [0.6145833333333334, 0.48611111111111116, 0.6145833333333334, tensor(1.1282)]\n",
      "\n",
      "Epoch  416\n"
     ]
    },
    {
     "name": "stderr",
     "output_type": "stream",
     "text": [
      "9it [00:00, 30.08it/s]"
     ]
    },
    {
     "name": "stdout",
     "output_type": "stream",
     "text": [
      "['acc', 'kappa', 'fmeasure', 'loss']\n",
      "Training Loss  1.0960056119494967\n"
     ]
    },
    {
     "name": "stderr",
     "output_type": "stream",
     "text": [
      "\n"
     ]
    },
    {
     "name": "stdout",
     "output_type": "stream",
     "text": [
      "Train -  [0.6701388888888888, 0.5601851851851851, 0.6701388888888888, tensor(1.0804)]\n",
      "Validation -  [0.6111111111111112, 0.4814814814814815, 0.6111111111111112, tensor(1.1284)]\n",
      "\n",
      "Epoch  417\n"
     ]
    },
    {
     "name": "stderr",
     "output_type": "stream",
     "text": [
      "9it [00:00, 25.76it/s]"
     ]
    },
    {
     "name": "stdout",
     "output_type": "stream",
     "text": [
      "['acc', 'kappa', 'fmeasure', 'loss']\n",
      "Training Loss  1.1062468687693279\n"
     ]
    },
    {
     "name": "stderr",
     "output_type": "stream",
     "text": [
      "\n"
     ]
    },
    {
     "name": "stdout",
     "output_type": "stream",
     "text": [
      "Train -  [0.6701388888888888, 0.5601851851851851, 0.6701388888888888, tensor(1.0805)]\n",
      "Validation -  [0.6111111111111112, 0.4814814814814815, 0.6111111111111112, tensor(1.1284)]\n",
      "\n",
      "Epoch  418\n"
     ]
    },
    {
     "name": "stderr",
     "output_type": "stream",
     "text": [
      "9it [00:00, 33.52it/s]"
     ]
    },
    {
     "name": "stdout",
     "output_type": "stream",
     "text": [
      "['acc', 'kappa', 'fmeasure', 'loss']\n",
      "Training Loss  1.0913589662975736\n"
     ]
    },
    {
     "name": "stderr",
     "output_type": "stream",
     "text": [
      "\n"
     ]
    },
    {
     "name": "stdout",
     "output_type": "stream",
     "text": [
      "Train -  [0.6701388888888888, 0.5601851851851851, 0.6701388888888888, tensor(1.0805)]\n",
      "Validation -  [0.6076388888888888, 0.47685185185185186, 0.6076388888888888, tensor(1.1285)]\n",
      "\n",
      "Epoch  419\n"
     ]
    },
    {
     "name": "stderr",
     "output_type": "stream",
     "text": [
      "9it [00:00, 29.10it/s]"
     ]
    },
    {
     "name": "stdout",
     "output_type": "stream",
     "text": [
      "['acc', 'kappa', 'fmeasure', 'loss']\n",
      "Training Loss  1.1063456402884588\n"
     ]
    },
    {
     "name": "stderr",
     "output_type": "stream",
     "text": [
      "\n"
     ]
    },
    {
     "name": "stdout",
     "output_type": "stream",
     "text": [
      "Train -  [0.6701388888888888, 0.5601851851851851, 0.6701388888888888, tensor(1.0804)]\n",
      "Validation -  [0.6076388888888888, 0.47685185185185186, 0.6076388888888888, tensor(1.1283)]\n",
      "\n",
      "Epoch  420\n"
     ]
    },
    {
     "name": "stderr",
     "output_type": "stream",
     "text": [
      "9it [00:00, 29.25it/s]"
     ]
    },
    {
     "name": "stdout",
     "output_type": "stream",
     "text": [
      "['acc', 'kappa', 'fmeasure', 'loss']\n",
      "Training Loss  1.10784027311537\n"
     ]
    },
    {
     "name": "stderr",
     "output_type": "stream",
     "text": [
      "\n"
     ]
    },
    {
     "name": "stdout",
     "output_type": "stream",
     "text": [
      "Train -  [0.6736111111111112, 0.5648148148148149, 0.6736111111111112, tensor(1.0803)]\n",
      "Validation -  [0.6076388888888888, 0.47685185185185186, 0.6076388888888888, tensor(1.1281)]\n",
      "\n",
      "Epoch  421\n"
     ]
    },
    {
     "name": "stderr",
     "output_type": "stream",
     "text": [
      "9it [00:00, 28.08it/s]"
     ]
    },
    {
     "name": "stdout",
     "output_type": "stream",
     "text": [
      "['acc', 'kappa', 'fmeasure', 'loss']\n",
      "Training Loss  1.106279518869188\n"
     ]
    },
    {
     "name": "stderr",
     "output_type": "stream",
     "text": [
      "\n"
     ]
    },
    {
     "name": "stdout",
     "output_type": "stream",
     "text": [
      "Train -  [0.6736111111111112, 0.5648148148148149, 0.6736111111111112, tensor(1.0804)]\n",
      "Validation -  [0.6111111111111112, 0.4814814814814815, 0.6111111111111112, tensor(1.1281)]\n",
      "\n",
      "Epoch  422\n"
     ]
    },
    {
     "name": "stderr",
     "output_type": "stream",
     "text": [
      "9it [00:00, 30.81it/s]"
     ]
    },
    {
     "name": "stdout",
     "output_type": "stream",
     "text": [
      "['acc', 'kappa', 'fmeasure', 'loss']\n",
      "Training Loss  1.0963092645009358\n"
     ]
    },
    {
     "name": "stderr",
     "output_type": "stream",
     "text": [
      "\n"
     ]
    },
    {
     "name": "stdout",
     "output_type": "stream",
     "text": [
      "Train -  [0.6736111111111112, 0.5648148148148149, 0.6736111111111112, tensor(1.0802)]\n",
      "Validation -  [0.6111111111111112, 0.4814814814814815, 0.6111111111111112, tensor(1.1280)]\n",
      "\n",
      "Epoch  423\n"
     ]
    },
    {
     "name": "stderr",
     "output_type": "stream",
     "text": [
      "9it [00:00, 28.70it/s]"
     ]
    },
    {
     "name": "stdout",
     "output_type": "stream",
     "text": [
      "['acc', 'kappa', 'fmeasure', 'loss']\n",
      "Training Loss  1.0997571812735663\n"
     ]
    },
    {
     "name": "stderr",
     "output_type": "stream",
     "text": [
      "\n"
     ]
    },
    {
     "name": "stdout",
     "output_type": "stream",
     "text": [
      "Train -  [0.6736111111111112, 0.5648148148148149, 0.6736111111111112, tensor(1.0802)]\n",
      "Validation -  [0.6145833333333334, 0.48611111111111116, 0.6145833333333334, tensor(1.1280)]\n",
      "\n",
      "Epoch  424\n"
     ]
    },
    {
     "name": "stderr",
     "output_type": "stream",
     "text": [
      "9it [00:00, 27.26it/s]"
     ]
    },
    {
     "name": "stdout",
     "output_type": "stream",
     "text": [
      "['acc', 'kappa', 'fmeasure', 'loss']\n",
      "Training Loss  1.1007687118318346\n"
     ]
    },
    {
     "name": "stderr",
     "output_type": "stream",
     "text": [
      "\n"
     ]
    },
    {
     "name": "stdout",
     "output_type": "stream",
     "text": [
      "Train -  [0.6736111111111112, 0.5648148148148149, 0.6736111111111112, tensor(1.0802)]\n",
      "Validation -  [0.6111111111111112, 0.4814814814814815, 0.6111111111111112, tensor(1.1281)]\n",
      "\n",
      "Epoch  425\n"
     ]
    },
    {
     "name": "stderr",
     "output_type": "stream",
     "text": [
      "9it [00:00, 25.63it/s]"
     ]
    },
    {
     "name": "stdout",
     "output_type": "stream",
     "text": [
      "['acc', 'kappa', 'fmeasure', 'loss']\n",
      "Training Loss  1.105295843548245\n"
     ]
    },
    {
     "name": "stderr",
     "output_type": "stream",
     "text": [
      "\n"
     ]
    },
    {
     "name": "stdout",
     "output_type": "stream",
     "text": [
      "Train -  [0.6736111111111112, 0.5648148148148149, 0.6736111111111112, tensor(1.0804)]\n",
      "Validation -  [0.6145833333333334, 0.48611111111111116, 0.6145833333333334, tensor(1.1281)]\n",
      "\n",
      "Epoch  426\n"
     ]
    },
    {
     "name": "stderr",
     "output_type": "stream",
     "text": [
      "9it [00:00, 26.81it/s]"
     ]
    },
    {
     "name": "stdout",
     "output_type": "stream",
     "text": [
      "['acc', 'kappa', 'fmeasure', 'loss']\n",
      "Training Loss  1.1027505132887099\n"
     ]
    },
    {
     "name": "stderr",
     "output_type": "stream",
     "text": [
      "\n"
     ]
    },
    {
     "name": "stdout",
     "output_type": "stream",
     "text": [
      "Train -  [0.6736111111111112, 0.5648148148148149, 0.6736111111111112, tensor(1.0801)]\n",
      "Validation -  [0.6145833333333334, 0.48611111111111116, 0.6145833333333334, tensor(1.1278)]\n",
      "\n",
      "Epoch  427\n"
     ]
    },
    {
     "name": "stderr",
     "output_type": "stream",
     "text": [
      "9it [00:00, 33.07it/s]"
     ]
    },
    {
     "name": "stdout",
     "output_type": "stream",
     "text": [
      "['acc', 'kappa', 'fmeasure', 'loss']\n",
      "Training Loss  1.0995144976509943\n"
     ]
    },
    {
     "name": "stderr",
     "output_type": "stream",
     "text": [
      "\n"
     ]
    },
    {
     "name": "stdout",
     "output_type": "stream",
     "text": [
      "Train -  [0.6736111111111112, 0.5648148148148149, 0.6736111111111112, tensor(1.0803)]\n",
      "Validation -  [0.6145833333333334, 0.48611111111111116, 0.6145833333333334, tensor(1.1281)]\n",
      "\n",
      "Epoch  428\n"
     ]
    },
    {
     "name": "stderr",
     "output_type": "stream",
     "text": [
      "9it [00:00, 26.66it/s]"
     ]
    },
    {
     "name": "stdout",
     "output_type": "stream",
     "text": [
      "['acc', 'kappa', 'fmeasure', 'loss']\n",
      "Training Loss  1.1032806899812486\n"
     ]
    },
    {
     "name": "stderr",
     "output_type": "stream",
     "text": [
      "\n"
     ]
    },
    {
     "name": "stdout",
     "output_type": "stream",
     "text": [
      "Train -  [0.6736111111111112, 0.5648148148148149, 0.6736111111111112, tensor(1.0802)]\n",
      "Validation -  [0.6145833333333334, 0.48611111111111116, 0.6145833333333334, tensor(1.1281)]\n",
      "\n",
      "Epoch  429\n"
     ]
    },
    {
     "name": "stderr",
     "output_type": "stream",
     "text": [
      "9it [00:00, 26.69it/s]"
     ]
    },
    {
     "name": "stdout",
     "output_type": "stream",
     "text": [
      "['acc', 'kappa', 'fmeasure', 'loss']\n",
      "Training Loss  1.1016563839382596\n"
     ]
    },
    {
     "name": "stderr",
     "output_type": "stream",
     "text": [
      "\n"
     ]
    },
    {
     "name": "stdout",
     "output_type": "stream",
     "text": [
      "Train -  [0.6736111111111112, 0.5648148148148149, 0.6736111111111112, tensor(1.0802)]\n",
      "Validation -  [0.6111111111111112, 0.4814814814814815, 0.6111111111111112, tensor(1.1282)]\n",
      "\n",
      "Epoch  430\n"
     ]
    },
    {
     "name": "stderr",
     "output_type": "stream",
     "text": [
      "9it [00:00, 28.44it/s]"
     ]
    },
    {
     "name": "stdout",
     "output_type": "stream",
     "text": [
      "['acc', 'kappa', 'fmeasure', 'loss']\n",
      "Training Loss  1.1015364991294012\n"
     ]
    },
    {
     "name": "stderr",
     "output_type": "stream",
     "text": [
      "\n"
     ]
    },
    {
     "name": "stdout",
     "output_type": "stream",
     "text": [
      "Train -  [0.6736111111111112, 0.5648148148148149, 0.6736111111111112, tensor(1.0802)]\n",
      "Validation -  [0.6111111111111112, 0.4814814814814815, 0.6111111111111112, tensor(1.1282)]\n",
      "\n",
      "Epoch  431\n"
     ]
    },
    {
     "name": "stderr",
     "output_type": "stream",
     "text": [
      "9it [00:00, 25.00it/s]"
     ]
    },
    {
     "name": "stdout",
     "output_type": "stream",
     "text": [
      "['acc', 'kappa', 'fmeasure', 'loss']\n",
      "Training Loss  1.1016532447603014\n"
     ]
    },
    {
     "name": "stderr",
     "output_type": "stream",
     "text": [
      "\n"
     ]
    },
    {
     "name": "stdout",
     "output_type": "stream",
     "text": [
      "Train -  [0.6736111111111112, 0.5648148148148149, 0.6736111111111112, tensor(1.0801)]\n",
      "Validation -  [0.6111111111111112, 0.4814814814814815, 0.6111111111111112, tensor(1.1280)]\n",
      "\n",
      "Epoch  432\n"
     ]
    },
    {
     "name": "stderr",
     "output_type": "stream",
     "text": [
      "9it [00:00, 30.07it/s]\n"
     ]
    },
    {
     "name": "stdout",
     "output_type": "stream",
     "text": [
      "['acc', 'kappa', 'fmeasure', 'loss']\n",
      "Training Loss  1.103245562977261\n",
      "Train -  [0.6736111111111112, 0.5648148148148149, 0.6736111111111112, tensor(1.0801)]\n",
      "Validation -  [0.6145833333333334, 0.48611111111111116, 0.6145833333333334, tensor(1.1279)]\n",
      "\n",
      "Epoch  433\n"
     ]
    },
    {
     "name": "stderr",
     "output_type": "stream",
     "text": [
      "9it [00:00, 31.46it/s]"
     ]
    },
    {
     "name": "stdout",
     "output_type": "stream",
     "text": [
      "['acc', 'kappa', 'fmeasure', 'loss']\n",
      "Training Loss  1.0896532005733914\n"
     ]
    },
    {
     "name": "stderr",
     "output_type": "stream",
     "text": [
      "\n"
     ]
    },
    {
     "name": "stdout",
     "output_type": "stream",
     "text": [
      "Train -  [0.6736111111111112, 0.5648148148148149, 0.6736111111111112, tensor(1.0803)]\n",
      "Validation -  [0.6076388888888888, 0.47685185185185186, 0.6076388888888888, tensor(1.1281)]\n",
      "\n",
      "Epoch  434\n"
     ]
    },
    {
     "name": "stderr",
     "output_type": "stream",
     "text": [
      "9it [00:00, 30.77it/s]"
     ]
    },
    {
     "name": "stdout",
     "output_type": "stream",
     "text": [
      "['acc', 'kappa', 'fmeasure', 'loss']\n",
      "Training Loss  1.1047256655163236\n"
     ]
    },
    {
     "name": "stderr",
     "output_type": "stream",
     "text": [
      "\n"
     ]
    },
    {
     "name": "stdout",
     "output_type": "stream",
     "text": [
      "Train -  [0.6736111111111112, 0.5648148148148149, 0.6736111111111112, tensor(1.0802)]\n",
      "Validation -  [0.6145833333333334, 0.48611111111111116, 0.6145833333333334, tensor(1.1279)]\n",
      "\n",
      "Epoch  435\n"
     ]
    },
    {
     "name": "stderr",
     "output_type": "stream",
     "text": [
      "9it [00:00, 25.72it/s]"
     ]
    },
    {
     "name": "stdout",
     "output_type": "stream",
     "text": [
      "['acc', 'kappa', 'fmeasure', 'loss']\n",
      "Training Loss  1.105534381336636\n"
     ]
    },
    {
     "name": "stderr",
     "output_type": "stream",
     "text": [
      "\n"
     ]
    },
    {
     "name": "stdout",
     "output_type": "stream",
     "text": [
      "Train -  [0.6736111111111112, 0.5648148148148149, 0.6736111111111112, tensor(1.0802)]\n",
      "Validation -  [0.6145833333333334, 0.48611111111111116, 0.6145833333333334, tensor(1.1279)]\n",
      "\n",
      "Epoch  436\n"
     ]
    },
    {
     "name": "stderr",
     "output_type": "stream",
     "text": [
      "9it [00:00, 30.86it/s]"
     ]
    },
    {
     "name": "stdout",
     "output_type": "stream",
     "text": [
      "['acc', 'kappa', 'fmeasure', 'loss']\n",
      "Training Loss  1.0966753164927165\n"
     ]
    },
    {
     "name": "stderr",
     "output_type": "stream",
     "text": [
      "\n"
     ]
    },
    {
     "name": "stdout",
     "output_type": "stream",
     "text": [
      "Train -  [0.6736111111111112, 0.5648148148148149, 0.6736111111111112, tensor(1.0801)]\n",
      "Validation -  [0.6145833333333334, 0.48611111111111116, 0.6145833333333334, tensor(1.1278)]\n",
      "\n",
      "Epoch  437\n"
     ]
    },
    {
     "name": "stderr",
     "output_type": "stream",
     "text": [
      "9it [00:00, 35.51it/s]"
     ]
    },
    {
     "name": "stdout",
     "output_type": "stream",
     "text": [
      "['acc', 'kappa', 'fmeasure', 'loss']\n",
      "Training Loss  1.0903282430436876\n"
     ]
    },
    {
     "name": "stderr",
     "output_type": "stream",
     "text": [
      "\n"
     ]
    },
    {
     "name": "stdout",
     "output_type": "stream",
     "text": [
      "Train -  [0.6736111111111112, 0.5648148148148149, 0.6736111111111112, tensor(1.0799)]\n",
      "Validation -  [0.6145833333333334, 0.48611111111111116, 0.6145833333333334, tensor(1.1276)]\n",
      "\n",
      "Epoch  438\n"
     ]
    },
    {
     "name": "stderr",
     "output_type": "stream",
     "text": [
      "9it [00:00, 27.09it/s]"
     ]
    },
    {
     "name": "stdout",
     "output_type": "stream",
     "text": [
      "['acc', 'kappa', 'fmeasure', 'loss']\n",
      "Training Loss  1.1000912189483643\n"
     ]
    },
    {
     "name": "stderr",
     "output_type": "stream",
     "text": [
      "\n"
     ]
    },
    {
     "name": "stdout",
     "output_type": "stream",
     "text": [
      "Train -  [0.6736111111111112, 0.5648148148148149, 0.6736111111111112, tensor(1.0800)]\n",
      "Validation -  [0.6145833333333334, 0.48611111111111116, 0.6145833333333334, tensor(1.1277)]\n",
      "\n",
      "Epoch  439\n"
     ]
    },
    {
     "name": "stderr",
     "output_type": "stream",
     "text": [
      "9it [00:00, 27.15it/s]"
     ]
    },
    {
     "name": "stdout",
     "output_type": "stream",
     "text": [
      "['acc', 'kappa', 'fmeasure', 'loss']\n",
      "Training Loss  1.1031340095731947\n"
     ]
    },
    {
     "name": "stderr",
     "output_type": "stream",
     "text": [
      "\n"
     ]
    },
    {
     "name": "stdout",
     "output_type": "stream",
     "text": [
      "Train -  [0.6736111111111112, 0.5648148148148149, 0.6736111111111112, tensor(1.0799)]\n",
      "Validation -  [0.6145833333333334, 0.48611111111111116, 0.6145833333333334, tensor(1.1278)]\n",
      "\n",
      "Epoch  440\n"
     ]
    },
    {
     "name": "stderr",
     "output_type": "stream",
     "text": [
      "9it [00:00, 31.39it/s]"
     ]
    },
    {
     "name": "stdout",
     "output_type": "stream",
     "text": [
      "['acc', 'kappa', 'fmeasure', 'loss']\n",
      "Training Loss  1.1033759382035997\n"
     ]
    },
    {
     "name": "stderr",
     "output_type": "stream",
     "text": [
      "\n"
     ]
    },
    {
     "name": "stdout",
     "output_type": "stream",
     "text": [
      "Train -  [0.6770833333333334, 0.5694444444444444, 0.6770833333333334, tensor(1.0799)]\n",
      "Validation -  [0.6145833333333334, 0.48611111111111116, 0.6145833333333334, tensor(1.1278)]\n",
      "\n",
      "Epoch  441\n"
     ]
    },
    {
     "name": "stderr",
     "output_type": "stream",
     "text": [
      "9it [00:00, 27.99it/s]"
     ]
    },
    {
     "name": "stdout",
     "output_type": "stream",
     "text": [
      "['acc', 'kappa', 'fmeasure', 'loss']\n",
      "Training Loss  1.0998316076066759\n"
     ]
    },
    {
     "name": "stderr",
     "output_type": "stream",
     "text": [
      "\n"
     ]
    },
    {
     "name": "stdout",
     "output_type": "stream",
     "text": [
      "Train -  [0.6770833333333334, 0.5694444444444444, 0.6770833333333334, tensor(1.0800)]\n",
      "Validation -  [0.6180555555555556, 0.4907407407407407, 0.6180555555555556, tensor(1.1278)]\n",
      "\n",
      "Epoch  442\n"
     ]
    },
    {
     "name": "stderr",
     "output_type": "stream",
     "text": [
      "9it [00:00, 33.08it/s]"
     ]
    },
    {
     "name": "stdout",
     "output_type": "stream",
     "text": [
      "['acc', 'kappa', 'fmeasure', 'loss']\n",
      "Training Loss  1.0949882003996108\n"
     ]
    },
    {
     "name": "stderr",
     "output_type": "stream",
     "text": [
      "\n"
     ]
    },
    {
     "name": "stdout",
     "output_type": "stream",
     "text": [
      "Train -  [0.6770833333333334, 0.5694444444444444, 0.6770833333333334, tensor(1.0799)]\n",
      "Validation -  [0.6145833333333334, 0.48611111111111116, 0.6145833333333334, tensor(1.1279)]\n",
      "\n",
      "Epoch  443\n"
     ]
    },
    {
     "name": "stderr",
     "output_type": "stream",
     "text": [
      "9it [00:00, 25.71it/s]"
     ]
    },
    {
     "name": "stdout",
     "output_type": "stream",
     "text": [
      "['acc', 'kappa', 'fmeasure', 'loss']\n",
      "Training Loss  1.0942757527033489\n"
     ]
    },
    {
     "name": "stderr",
     "output_type": "stream",
     "text": [
      "\n"
     ]
    },
    {
     "name": "stdout",
     "output_type": "stream",
     "text": [
      "Train -  [0.6770833333333334, 0.5694444444444444, 0.6770833333333334, tensor(1.0800)]\n",
      "Validation -  [0.6180555555555556, 0.4907407407407407, 0.6180555555555556, tensor(1.1279)]\n",
      "\n",
      "Epoch  444\n"
     ]
    },
    {
     "name": "stderr",
     "output_type": "stream",
     "text": [
      "9it [00:00, 34.05it/s]"
     ]
    },
    {
     "name": "stdout",
     "output_type": "stream",
     "text": [
      "['acc', 'kappa', 'fmeasure', 'loss']\n",
      "Training Loss  1.0969965325461493\n"
     ]
    },
    {
     "name": "stderr",
     "output_type": "stream",
     "text": [
      "\n"
     ]
    },
    {
     "name": "stdout",
     "output_type": "stream",
     "text": [
      "Train -  [0.6770833333333334, 0.5694444444444444, 0.6770833333333334, tensor(1.0799)]\n",
      "Validation -  [0.6111111111111112, 0.4814814814814815, 0.6111111111111112, tensor(1.1276)]\n",
      "\n",
      "Epoch  445\n"
     ]
    },
    {
     "name": "stderr",
     "output_type": "stream",
     "text": [
      "9it [00:00, 31.14it/s]"
     ]
    },
    {
     "name": "stdout",
     "output_type": "stream",
     "text": [
      "['acc', 'kappa', 'fmeasure', 'loss']\n",
      "Training Loss  1.0824638340208266\n"
     ]
    },
    {
     "name": "stderr",
     "output_type": "stream",
     "text": [
      "\n"
     ]
    },
    {
     "name": "stdout",
     "output_type": "stream",
     "text": [
      "Train -  [0.6770833333333334, 0.5694444444444444, 0.6770833333333334, tensor(1.0798)]\n",
      "Validation -  [0.6076388888888888, 0.47685185185185186, 0.6076388888888888, tensor(1.1275)]\n",
      "\n",
      "Epoch  446\n"
     ]
    },
    {
     "name": "stderr",
     "output_type": "stream",
     "text": [
      "9it [00:00, 29.24it/s]"
     ]
    },
    {
     "name": "stdout",
     "output_type": "stream",
     "text": [
      "['acc', 'kappa', 'fmeasure', 'loss']\n",
      "Training Loss  1.0955702066421509\n"
     ]
    },
    {
     "name": "stderr",
     "output_type": "stream",
     "text": [
      "\n"
     ]
    },
    {
     "name": "stdout",
     "output_type": "stream",
     "text": [
      "Train -  [0.6770833333333334, 0.5694444444444444, 0.6770833333333334, tensor(1.0798)]\n",
      "Validation -  [0.6076388888888888, 0.47685185185185186, 0.6076388888888888, tensor(1.1275)]\n",
      "\n",
      "Epoch  447\n"
     ]
    },
    {
     "name": "stderr",
     "output_type": "stream",
     "text": [
      "9it [00:00, 29.06it/s]"
     ]
    },
    {
     "name": "stdout",
     "output_type": "stream",
     "text": [
      "['acc', 'kappa', 'fmeasure', 'loss']\n",
      "Training Loss  1.0971567630767822\n"
     ]
    },
    {
     "name": "stderr",
     "output_type": "stream",
     "text": [
      "\n"
     ]
    },
    {
     "name": "stdout",
     "output_type": "stream",
     "text": [
      "Train -  [0.6770833333333334, 0.5694444444444444, 0.6770833333333334, tensor(1.0799)]\n",
      "Validation -  [0.6111111111111112, 0.4814814814814815, 0.6111111111111112, tensor(1.1274)]\n",
      "\n",
      "Epoch  448\n"
     ]
    },
    {
     "name": "stderr",
     "output_type": "stream",
     "text": [
      "9it [00:00, 32.72it/s]"
     ]
    },
    {
     "name": "stdout",
     "output_type": "stream",
     "text": [
      "['acc', 'kappa', 'fmeasure', 'loss']\n",
      "Training Loss  1.103581150372823\n"
     ]
    },
    {
     "name": "stderr",
     "output_type": "stream",
     "text": [
      "\n"
     ]
    },
    {
     "name": "stdout",
     "output_type": "stream",
     "text": [
      "Train -  [0.6770833333333334, 0.5694444444444444, 0.6770833333333334, tensor(1.0801)]\n",
      "Validation -  [0.6145833333333334, 0.48611111111111116, 0.6145833333333334, tensor(1.1275)]\n",
      "\n",
      "Epoch  449\n"
     ]
    },
    {
     "name": "stderr",
     "output_type": "stream",
     "text": [
      "9it [00:00, 34.24it/s]"
     ]
    },
    {
     "name": "stdout",
     "output_type": "stream",
     "text": [
      "['acc', 'kappa', 'fmeasure', 'loss']\n",
      "Training Loss  1.0942304929097493\n"
     ]
    },
    {
     "name": "stderr",
     "output_type": "stream",
     "text": [
      "\n"
     ]
    },
    {
     "name": "stdout",
     "output_type": "stream",
     "text": [
      "Train -  [0.6770833333333334, 0.5694444444444444, 0.6770833333333334, tensor(1.0800)]\n",
      "Validation -  [0.6145833333333334, 0.48611111111111116, 0.6145833333333334, tensor(1.1275)]\n",
      "\n",
      "Epoch  450\n"
     ]
    },
    {
     "name": "stderr",
     "output_type": "stream",
     "text": [
      "9it [00:00, 29.25it/s]"
     ]
    },
    {
     "name": "stdout",
     "output_type": "stream",
     "text": [
      "['acc', 'kappa', 'fmeasure', 'loss']\n",
      "Training Loss  1.108246021800571\n"
     ]
    },
    {
     "name": "stderr",
     "output_type": "stream",
     "text": [
      "\n"
     ]
    },
    {
     "name": "stdout",
     "output_type": "stream",
     "text": [
      "Train -  [0.6770833333333334, 0.5694444444444444, 0.6770833333333334, tensor(1.0800)]\n",
      "Validation -  [0.6180555555555556, 0.4907407407407407, 0.6180555555555556, tensor(1.1276)]\n",
      "\n",
      "Epoch  451\n"
     ]
    },
    {
     "name": "stderr",
     "output_type": "stream",
     "text": [
      "9it [00:00, 32.71it/s]"
     ]
    },
    {
     "name": "stdout",
     "output_type": "stream",
     "text": [
      "['acc', 'kappa', 'fmeasure', 'loss']\n",
      "Training Loss  1.1057229571872287\n"
     ]
    },
    {
     "name": "stderr",
     "output_type": "stream",
     "text": [
      "\n"
     ]
    },
    {
     "name": "stdout",
     "output_type": "stream",
     "text": [
      "Train -  [0.6770833333333334, 0.5694444444444444, 0.6770833333333334, tensor(1.0797)]\n",
      "Validation -  [0.6145833333333334, 0.48611111111111116, 0.6145833333333334, tensor(1.1275)]\n",
      "\n",
      "Epoch  452\n"
     ]
    },
    {
     "name": "stderr",
     "output_type": "stream",
     "text": [
      "9it [00:00, 32.15it/s]"
     ]
    },
    {
     "name": "stdout",
     "output_type": "stream",
     "text": [
      "['acc', 'kappa', 'fmeasure', 'loss']\n",
      "Training Loss  1.1189255714416504\n"
     ]
    },
    {
     "name": "stderr",
     "output_type": "stream",
     "text": [
      "\n"
     ]
    },
    {
     "name": "stdout",
     "output_type": "stream",
     "text": [
      "Train -  [0.6770833333333334, 0.5694444444444444, 0.6770833333333334, tensor(1.0798)]\n",
      "Validation -  [0.6111111111111112, 0.4814814814814815, 0.6111111111111112, tensor(1.1277)]\n",
      "\n",
      "Epoch  453\n"
     ]
    },
    {
     "name": "stderr",
     "output_type": "stream",
     "text": [
      "9it [00:00, 28.33it/s]"
     ]
    },
    {
     "name": "stdout",
     "output_type": "stream",
     "text": [
      "['acc', 'kappa', 'fmeasure', 'loss']\n",
      "Training Loss  1.1104303863313463\n"
     ]
    },
    {
     "name": "stderr",
     "output_type": "stream",
     "text": [
      "\n"
     ]
    },
    {
     "name": "stdout",
     "output_type": "stream",
     "text": [
      "Train -  [0.6770833333333334, 0.5694444444444444, 0.6770833333333334, tensor(1.0797)]\n",
      "Validation -  [0.6041666666666666, 0.4722222222222222, 0.6041666666666666, tensor(1.1280)]\n",
      "\n",
      "Epoch  454\n"
     ]
    },
    {
     "name": "stderr",
     "output_type": "stream",
     "text": [
      "9it [00:00, 28.64it/s]"
     ]
    },
    {
     "name": "stdout",
     "output_type": "stream",
     "text": [
      "['acc', 'kappa', 'fmeasure', 'loss']\n",
      "Training Loss  1.1030978361765544\n"
     ]
    },
    {
     "name": "stderr",
     "output_type": "stream",
     "text": [
      "\n"
     ]
    },
    {
     "name": "stdout",
     "output_type": "stream",
     "text": [
      "Train -  [0.6770833333333334, 0.5694444444444444, 0.6770833333333334, tensor(1.0797)]\n",
      "Validation -  [0.6076388888888888, 0.47685185185185186, 0.6076388888888888, tensor(1.1282)]\n",
      "\n",
      "Epoch  455\n"
     ]
    },
    {
     "name": "stderr",
     "output_type": "stream",
     "text": [
      "9it [00:00, 26.87it/s]"
     ]
    },
    {
     "name": "stdout",
     "output_type": "stream",
     "text": [
      "['acc', 'kappa', 'fmeasure', 'loss']\n",
      "Training Loss  1.1005107561747234\n"
     ]
    },
    {
     "name": "stderr",
     "output_type": "stream",
     "text": [
      "\n"
     ]
    },
    {
     "name": "stdout",
     "output_type": "stream",
     "text": [
      "Train -  [0.6770833333333334, 0.5694444444444444, 0.6770833333333334, tensor(1.0796)]\n",
      "Validation -  [0.6041666666666666, 0.4722222222222222, 0.6041666666666666, tensor(1.1282)]\n",
      "\n",
      "Epoch  456\n"
     ]
    },
    {
     "name": "stderr",
     "output_type": "stream",
     "text": [
      "9it [00:00, 28.19it/s]"
     ]
    },
    {
     "name": "stdout",
     "output_type": "stream",
     "text": [
      "['acc', 'kappa', 'fmeasure', 'loss']\n",
      "Training Loss  1.0907223622004192\n"
     ]
    },
    {
     "name": "stderr",
     "output_type": "stream",
     "text": [
      "\n"
     ]
    },
    {
     "name": "stdout",
     "output_type": "stream",
     "text": [
      "Train -  [0.6770833333333334, 0.5694444444444444, 0.6770833333333334, tensor(1.0796)]\n",
      "Validation -  [0.6076388888888888, 0.47685185185185186, 0.6076388888888888, tensor(1.1281)]\n",
      "\n",
      "Epoch  457\n"
     ]
    },
    {
     "name": "stderr",
     "output_type": "stream",
     "text": [
      "9it [00:00, 25.84it/s]"
     ]
    },
    {
     "name": "stdout",
     "output_type": "stream",
     "text": [
      "['acc', 'kappa', 'fmeasure', 'loss']\n",
      "Training Loss  1.097480747434828\n"
     ]
    },
    {
     "name": "stderr",
     "output_type": "stream",
     "text": [
      "\n"
     ]
    },
    {
     "name": "stdout",
     "output_type": "stream",
     "text": [
      "Train -  [0.6770833333333334, 0.5694444444444444, 0.6770833333333334, tensor(1.0796)]\n",
      "Validation -  [0.6076388888888888, 0.47685185185185186, 0.6076388888888888, tensor(1.1282)]\n",
      "\n",
      "Epoch  458\n"
     ]
    },
    {
     "name": "stderr",
     "output_type": "stream",
     "text": [
      "9it [00:00, 28.22it/s]"
     ]
    },
    {
     "name": "stdout",
     "output_type": "stream",
     "text": [
      "['acc', 'kappa', 'fmeasure', 'loss']\n",
      "Training Loss  1.103807979159885\n"
     ]
    },
    {
     "name": "stderr",
     "output_type": "stream",
     "text": [
      "\n"
     ]
    },
    {
     "name": "stdout",
     "output_type": "stream",
     "text": [
      "Train -  [0.6770833333333334, 0.5694444444444444, 0.6770833333333334, tensor(1.0797)]\n",
      "Validation -  [0.6076388888888888, 0.47685185185185186, 0.6076388888888888, tensor(1.1282)]\n",
      "\n",
      "Epoch  459\n"
     ]
    },
    {
     "name": "stderr",
     "output_type": "stream",
     "text": [
      "9it [00:00, 28.89it/s]"
     ]
    },
    {
     "name": "stdout",
     "output_type": "stream",
     "text": [
      "['acc', 'kappa', 'fmeasure', 'loss']\n",
      "Training Loss  1.1090438233481512\n"
     ]
    },
    {
     "name": "stderr",
     "output_type": "stream",
     "text": [
      "\n"
     ]
    },
    {
     "name": "stdout",
     "output_type": "stream",
     "text": [
      "Train -  [0.6770833333333334, 0.5694444444444444, 0.6770833333333334, tensor(1.0797)]\n",
      "Validation -  [0.6076388888888888, 0.47685185185185186, 0.6076388888888888, tensor(1.1280)]\n",
      "\n",
      "Epoch  460\n"
     ]
    },
    {
     "name": "stderr",
     "output_type": "stream",
     "text": [
      "9it [00:00, 26.31it/s]"
     ]
    },
    {
     "name": "stdout",
     "output_type": "stream",
     "text": [
      "['acc', 'kappa', 'fmeasure', 'loss']\n",
      "Training Loss  1.098458833164639\n"
     ]
    },
    {
     "name": "stderr",
     "output_type": "stream",
     "text": [
      "\n"
     ]
    },
    {
     "name": "stdout",
     "output_type": "stream",
     "text": [
      "Train -  [0.6770833333333334, 0.5694444444444444, 0.6770833333333334, tensor(1.0797)]\n",
      "Validation -  [0.6041666666666666, 0.4722222222222222, 0.6041666666666666, tensor(1.1279)]\n",
      "\n",
      "Epoch  461\n"
     ]
    },
    {
     "name": "stderr",
     "output_type": "stream",
     "text": [
      "9it [00:00, 26.99it/s]"
     ]
    },
    {
     "name": "stdout",
     "output_type": "stream",
     "text": [
      "['acc', 'kappa', 'fmeasure', 'loss']\n",
      "Training Loss  1.1083022356033325\n"
     ]
    },
    {
     "name": "stderr",
     "output_type": "stream",
     "text": [
      "\n"
     ]
    },
    {
     "name": "stdout",
     "output_type": "stream",
     "text": [
      "Train -  [0.6770833333333334, 0.5694444444444444, 0.6770833333333334, tensor(1.0797)]\n",
      "Validation -  [0.6041666666666666, 0.4722222222222222, 0.6041666666666666, tensor(1.1279)]\n",
      "\n",
      "Epoch  462\n"
     ]
    },
    {
     "name": "stderr",
     "output_type": "stream",
     "text": [
      "9it [00:00, 29.19it/s]\n"
     ]
    },
    {
     "name": "stdout",
     "output_type": "stream",
     "text": [
      "['acc', 'kappa', 'fmeasure', 'loss']\n",
      "Training Loss  1.0925233231650457\n",
      "Train -  [0.6770833333333334, 0.5694444444444444, 0.6770833333333334, tensor(1.0796)]\n",
      "Validation -  [0.6041666666666666, 0.4722222222222222, 0.6041666666666666, tensor(1.1278)]\n",
      "\n",
      "Epoch  463\n"
     ]
    },
    {
     "name": "stderr",
     "output_type": "stream",
     "text": [
      "9it [00:00, 25.91it/s]"
     ]
    },
    {
     "name": "stdout",
     "output_type": "stream",
     "text": [
      "['acc', 'kappa', 'fmeasure', 'loss']\n",
      "Training Loss  1.1090792417526245\n"
     ]
    },
    {
     "name": "stderr",
     "output_type": "stream",
     "text": [
      "\n"
     ]
    },
    {
     "name": "stdout",
     "output_type": "stream",
     "text": [
      "Train -  [0.6770833333333334, 0.5694444444444444, 0.6770833333333334, tensor(1.0797)]\n",
      "Validation -  [0.6076388888888888, 0.47685185185185186, 0.6076388888888888, tensor(1.1278)]\n",
      "\n",
      "Epoch  464\n"
     ]
    },
    {
     "name": "stderr",
     "output_type": "stream",
     "text": [
      "9it [00:00, 31.12it/s]"
     ]
    },
    {
     "name": "stdout",
     "output_type": "stream",
     "text": [
      "['acc', 'kappa', 'fmeasure', 'loss']\n",
      "Training Loss  1.083599845568339\n"
     ]
    },
    {
     "name": "stderr",
     "output_type": "stream",
     "text": [
      "\n"
     ]
    },
    {
     "name": "stdout",
     "output_type": "stream",
     "text": [
      "Train -  [0.6770833333333334, 0.5694444444444444, 0.6770833333333334, tensor(1.0797)]\n",
      "Validation -  [0.6076388888888888, 0.47685185185185186, 0.6076388888888888, tensor(1.1279)]\n",
      "\n",
      "Epoch  465\n"
     ]
    },
    {
     "name": "stderr",
     "output_type": "stream",
     "text": [
      "9it [00:00, 30.32it/s]"
     ]
    },
    {
     "name": "stdout",
     "output_type": "stream",
     "text": [
      "['acc', 'kappa', 'fmeasure', 'loss']\n",
      "Training Loss  1.0975182851155598\n"
     ]
    },
    {
     "name": "stderr",
     "output_type": "stream",
     "text": [
      "\n"
     ]
    },
    {
     "name": "stdout",
     "output_type": "stream",
     "text": [
      "Train -  [0.6770833333333334, 0.5694444444444444, 0.6770833333333334, tensor(1.0796)]\n",
      "Validation -  [0.6076388888888888, 0.47685185185185186, 0.6076388888888888, tensor(1.1278)]\n",
      "\n",
      "Epoch  466\n"
     ]
    },
    {
     "name": "stderr",
     "output_type": "stream",
     "text": [
      "9it [00:00, 26.82it/s]"
     ]
    },
    {
     "name": "stdout",
     "output_type": "stream",
     "text": [
      "['acc', 'kappa', 'fmeasure', 'loss']\n",
      "Training Loss  1.103897664282057\n"
     ]
    },
    {
     "name": "stderr",
     "output_type": "stream",
     "text": [
      "\n"
     ]
    },
    {
     "name": "stdout",
     "output_type": "stream",
     "text": [
      "Train -  [0.6770833333333334, 0.5694444444444444, 0.6770833333333334, tensor(1.0796)]\n",
      "Validation -  [0.6111111111111112, 0.4814814814814815, 0.6111111111111112, tensor(1.1278)]\n",
      "\n",
      "Epoch  467\n"
     ]
    },
    {
     "name": "stderr",
     "output_type": "stream",
     "text": [
      "9it [00:00, 26.93it/s]"
     ]
    },
    {
     "name": "stdout",
     "output_type": "stream",
     "text": [
      "['acc', 'kappa', 'fmeasure', 'loss']\n",
      "Training Loss  1.100030157301161\n"
     ]
    },
    {
     "name": "stderr",
     "output_type": "stream",
     "text": [
      "\n"
     ]
    },
    {
     "name": "stdout",
     "output_type": "stream",
     "text": [
      "Train -  [0.6770833333333334, 0.5694444444444444, 0.6770833333333334, tensor(1.0796)]\n",
      "Validation -  [0.6180555555555556, 0.4907407407407407, 0.6180555555555556, tensor(1.1276)]\n",
      "\n",
      "Epoch  468\n"
     ]
    },
    {
     "name": "stderr",
     "output_type": "stream",
     "text": [
      "9it [00:00, 30.63it/s]"
     ]
    },
    {
     "name": "stdout",
     "output_type": "stream",
     "text": [
      "['acc', 'kappa', 'fmeasure', 'loss']\n",
      "Training Loss  1.0952195326487224\n"
     ]
    },
    {
     "name": "stderr",
     "output_type": "stream",
     "text": [
      "\n"
     ]
    },
    {
     "name": "stdout",
     "output_type": "stream",
     "text": [
      "Train -  [0.6770833333333334, 0.5694444444444444, 0.6770833333333334, tensor(1.0796)]\n",
      "Validation -  [0.6180555555555556, 0.4907407407407407, 0.6180555555555556, tensor(1.1275)]\n",
      "\n",
      "Epoch  469\n"
     ]
    },
    {
     "name": "stderr",
     "output_type": "stream",
     "text": [
      "9it [00:00, 28.33it/s]"
     ]
    },
    {
     "name": "stdout",
     "output_type": "stream",
     "text": [
      "['acc', 'kappa', 'fmeasure', 'loss']\n",
      "Training Loss  1.0975706974665325\n"
     ]
    },
    {
     "name": "stderr",
     "output_type": "stream",
     "text": [
      "\n"
     ]
    },
    {
     "name": "stdout",
     "output_type": "stream",
     "text": [
      "Train -  [0.6770833333333334, 0.5694444444444444, 0.6770833333333334, tensor(1.0797)]\n",
      "Validation -  [0.6180555555555556, 0.4907407407407407, 0.6180555555555556, tensor(1.1276)]\n",
      "\n",
      "Epoch  470\n"
     ]
    },
    {
     "name": "stderr",
     "output_type": "stream",
     "text": [
      "9it [00:00, 30.34it/s]"
     ]
    },
    {
     "name": "stdout",
     "output_type": "stream",
     "text": [
      "['acc', 'kappa', 'fmeasure', 'loss']\n",
      "Training Loss  1.087084862920973\n"
     ]
    },
    {
     "name": "stderr",
     "output_type": "stream",
     "text": [
      "\n"
     ]
    },
    {
     "name": "stdout",
     "output_type": "stream",
     "text": [
      "Train -  [0.6736111111111112, 0.5648148148148149, 0.6736111111111112, tensor(1.0797)]\n",
      "Validation -  [0.6145833333333334, 0.48611111111111116, 0.6145833333333334, tensor(1.1276)]\n",
      "\n",
      "Epoch  471\n"
     ]
    },
    {
     "name": "stderr",
     "output_type": "stream",
     "text": [
      "9it [00:00, 28.67it/s]"
     ]
    },
    {
     "name": "stdout",
     "output_type": "stream",
     "text": [
      "['acc', 'kappa', 'fmeasure', 'loss']\n",
      "Training Loss  1.1143198410669963\n"
     ]
    },
    {
     "name": "stderr",
     "output_type": "stream",
     "text": [
      "\n"
     ]
    },
    {
     "name": "stdout",
     "output_type": "stream",
     "text": [
      "Train -  [0.6736111111111112, 0.5648148148148149, 0.6736111111111112, tensor(1.0797)]\n",
      "Validation -  [0.6145833333333334, 0.48611111111111116, 0.6145833333333334, tensor(1.1275)]\n",
      "\n",
      "Epoch  472\n"
     ]
    },
    {
     "name": "stderr",
     "output_type": "stream",
     "text": [
      "9it [00:00, 25.79it/s]"
     ]
    },
    {
     "name": "stdout",
     "output_type": "stream",
     "text": [
      "['acc', 'kappa', 'fmeasure', 'loss']\n",
      "Training Loss  1.1060319079293146\n"
     ]
    },
    {
     "name": "stderr",
     "output_type": "stream",
     "text": [
      "\n"
     ]
    },
    {
     "name": "stdout",
     "output_type": "stream",
     "text": [
      "Train -  [0.6770833333333334, 0.5694444444444444, 0.6770833333333334, tensor(1.0797)]\n",
      "Validation -  [0.6180555555555556, 0.4907407407407407, 0.6180555555555556, tensor(1.1273)]\n",
      "\n",
      "Epoch  473\n"
     ]
    },
    {
     "name": "stderr",
     "output_type": "stream",
     "text": [
      "9it [00:00, 27.16it/s]"
     ]
    },
    {
     "name": "stdout",
     "output_type": "stream",
     "text": [
      "['acc', 'kappa', 'fmeasure', 'loss']\n",
      "Training Loss  1.1075550185309515\n"
     ]
    },
    {
     "name": "stderr",
     "output_type": "stream",
     "text": [
      "\n"
     ]
    },
    {
     "name": "stdout",
     "output_type": "stream",
     "text": [
      "Train -  [0.6770833333333334, 0.5694444444444444, 0.6770833333333334, tensor(1.0796)]\n",
      "Validation -  [0.6145833333333334, 0.48611111111111116, 0.6145833333333334, tensor(1.1272)]\n",
      "\n",
      "Epoch  474\n"
     ]
    },
    {
     "name": "stderr",
     "output_type": "stream",
     "text": [
      "9it [00:00, 28.11it/s]"
     ]
    },
    {
     "name": "stdout",
     "output_type": "stream",
     "text": [
      "['acc', 'kappa', 'fmeasure', 'loss']\n",
      "Training Loss  1.1023162206013997\n"
     ]
    },
    {
     "name": "stderr",
     "output_type": "stream",
     "text": [
      "\n"
     ]
    },
    {
     "name": "stdout",
     "output_type": "stream",
     "text": [
      "Train -  [0.6770833333333334, 0.5694444444444444, 0.6770833333333334, tensor(1.0796)]\n",
      "Validation -  [0.6111111111111112, 0.4814814814814815, 0.6111111111111112, tensor(1.1271)]\n",
      "\n",
      "Epoch  475\n"
     ]
    },
    {
     "name": "stderr",
     "output_type": "stream",
     "text": [
      "9it [00:00, 29.93it/s]"
     ]
    },
    {
     "name": "stdout",
     "output_type": "stream",
     "text": [
      "['acc', 'kappa', 'fmeasure', 'loss']\n",
      "Training Loss  1.1050644583172269\n"
     ]
    },
    {
     "name": "stderr",
     "output_type": "stream",
     "text": [
      "\n"
     ]
    },
    {
     "name": "stdout",
     "output_type": "stream",
     "text": [
      "Train -  [0.6770833333333334, 0.5694444444444444, 0.6770833333333334, tensor(1.0797)]\n",
      "Validation -  [0.6111111111111112, 0.4814814814814815, 0.6111111111111112, tensor(1.1271)]\n",
      "\n",
      "Epoch  476\n"
     ]
    },
    {
     "name": "stderr",
     "output_type": "stream",
     "text": [
      "9it [00:00, 33.32it/s]"
     ]
    },
    {
     "name": "stdout",
     "output_type": "stream",
     "text": [
      "['acc', 'kappa', 'fmeasure', 'loss']\n",
      "Training Loss  1.1006244288550482\n"
     ]
    },
    {
     "name": "stderr",
     "output_type": "stream",
     "text": [
      "\n"
     ]
    },
    {
     "name": "stdout",
     "output_type": "stream",
     "text": [
      "Train -  [0.6770833333333334, 0.5694444444444444, 0.6770833333333334, tensor(1.0798)]\n",
      "Validation -  [0.6111111111111112, 0.4814814814814815, 0.6111111111111112, tensor(1.1271)]\n",
      "\n",
      "Epoch  477\n"
     ]
    },
    {
     "name": "stderr",
     "output_type": "stream",
     "text": [
      "9it [00:00, 24.50it/s]"
     ]
    },
    {
     "name": "stdout",
     "output_type": "stream",
     "text": [
      "['acc', 'kappa', 'fmeasure', 'loss']\n",
      "Training Loss  1.0974693695704143\n"
     ]
    },
    {
     "name": "stderr",
     "output_type": "stream",
     "text": [
      "\n"
     ]
    },
    {
     "name": "stdout",
     "output_type": "stream",
     "text": [
      "Train -  [0.6770833333333334, 0.5694444444444444, 0.6770833333333334, tensor(1.0797)]\n",
      "Validation -  [0.6111111111111112, 0.4814814814814815, 0.6111111111111112, tensor(1.1270)]\n",
      "\n",
      "Epoch  478\n"
     ]
    },
    {
     "name": "stderr",
     "output_type": "stream",
     "text": [
      "9it [00:00, 26.19it/s]"
     ]
    },
    {
     "name": "stdout",
     "output_type": "stream",
     "text": [
      "['acc', 'kappa', 'fmeasure', 'loss']\n",
      "Training Loss  1.0994185209274292\n"
     ]
    },
    {
     "name": "stderr",
     "output_type": "stream",
     "text": [
      "\n"
     ]
    },
    {
     "name": "stdout",
     "output_type": "stream",
     "text": [
      "Train -  [0.6770833333333334, 0.5694444444444444, 0.6770833333333334, tensor(1.0796)]\n",
      "Validation -  [0.6076388888888888, 0.47685185185185186, 0.6076388888888888, tensor(1.1270)]\n",
      "\n",
      "Epoch  479\n"
     ]
    },
    {
     "name": "stderr",
     "output_type": "stream",
     "text": [
      "9it [00:00, 31.83it/s]"
     ]
    },
    {
     "name": "stdout",
     "output_type": "stream",
     "text": [
      "['acc', 'kappa', 'fmeasure', 'loss']\n",
      "Training Loss  1.0968022346496582\n"
     ]
    },
    {
     "name": "stderr",
     "output_type": "stream",
     "text": [
      "\n"
     ]
    },
    {
     "name": "stdout",
     "output_type": "stream",
     "text": [
      "Train -  [0.6770833333333334, 0.5694444444444444, 0.6770833333333334, tensor(1.0796)]\n",
      "Validation -  [0.6076388888888888, 0.47685185185185186, 0.6076388888888888, tensor(1.1271)]\n",
      "\n",
      "Epoch  480\n"
     ]
    },
    {
     "name": "stderr",
     "output_type": "stream",
     "text": [
      "9it [00:00, 29.76it/s]"
     ]
    },
    {
     "name": "stdout",
     "output_type": "stream",
     "text": [
      "['acc', 'kappa', 'fmeasure', 'loss']\n",
      "Training Loss  1.1113359265857272\n"
     ]
    },
    {
     "name": "stderr",
     "output_type": "stream",
     "text": [
      "\n"
     ]
    },
    {
     "name": "stdout",
     "output_type": "stream",
     "text": [
      "Train -  [0.6770833333333334, 0.5694444444444444, 0.6770833333333334, tensor(1.0797)]\n",
      "Validation -  [0.6111111111111112, 0.4814814814814815, 0.6111111111111112, tensor(1.1273)]\n",
      "\n",
      "Epoch  481\n"
     ]
    },
    {
     "name": "stderr",
     "output_type": "stream",
     "text": [
      "9it [00:00, 28.66it/s]\n"
     ]
    },
    {
     "name": "stdout",
     "output_type": "stream",
     "text": [
      "['acc', 'kappa', 'fmeasure', 'loss']\n",
      "Training Loss  1.104982892672221\n",
      "Train -  [0.6770833333333334, 0.5694444444444444, 0.6770833333333334, tensor(1.0796)]\n",
      "Validation -  [0.6006944444444444, 0.46759259259259256, 0.6006944444444444, tensor(1.1274)]\n",
      "\n",
      "Epoch  482\n"
     ]
    },
    {
     "name": "stderr",
     "output_type": "stream",
     "text": [
      "9it [00:00, 26.03it/s]"
     ]
    },
    {
     "name": "stdout",
     "output_type": "stream",
     "text": [
      "['acc', 'kappa', 'fmeasure', 'loss']\n",
      "Training Loss  1.1058220201068454\n"
     ]
    },
    {
     "name": "stderr",
     "output_type": "stream",
     "text": [
      "\n"
     ]
    },
    {
     "name": "stdout",
     "output_type": "stream",
     "text": [
      "Train -  [0.6770833333333334, 0.5694444444444444, 0.6770833333333334, tensor(1.0795)]\n",
      "Validation -  [0.6076388888888888, 0.47685185185185186, 0.6076388888888888, tensor(1.1274)]\n",
      "\n",
      "Epoch  483\n"
     ]
    },
    {
     "name": "stderr",
     "output_type": "stream",
     "text": [
      "9it [00:00, 28.18it/s]"
     ]
    },
    {
     "name": "stdout",
     "output_type": "stream",
     "text": [
      "['acc', 'kappa', 'fmeasure', 'loss']\n",
      "Training Loss  1.099043885866801\n"
     ]
    },
    {
     "name": "stderr",
     "output_type": "stream",
     "text": [
      "\n"
     ]
    },
    {
     "name": "stdout",
     "output_type": "stream",
     "text": [
      "Train -  [0.6770833333333334, 0.5694444444444444, 0.6770833333333334, tensor(1.0795)]\n",
      "Validation -  [0.6076388888888888, 0.47685185185185186, 0.6076388888888888, tensor(1.1275)]\n",
      "\n",
      "Epoch  484\n"
     ]
    },
    {
     "name": "stderr",
     "output_type": "stream",
     "text": [
      "9it [00:00, 30.04it/s]"
     ]
    },
    {
     "name": "stdout",
     "output_type": "stream",
     "text": [
      "['acc', 'kappa', 'fmeasure', 'loss']\n",
      "Training Loss  1.0919248660405476\n"
     ]
    },
    {
     "name": "stderr",
     "output_type": "stream",
     "text": [
      "\n"
     ]
    },
    {
     "name": "stdout",
     "output_type": "stream",
     "text": [
      "Train -  [0.6770833333333334, 0.5694444444444444, 0.6770833333333334, tensor(1.0795)]\n",
      "Validation -  [0.6076388888888888, 0.47685185185185186, 0.6076388888888888, tensor(1.1275)]\n",
      "\n",
      "Epoch  485\n"
     ]
    },
    {
     "name": "stderr",
     "output_type": "stream",
     "text": [
      "9it [00:00, 29.09it/s]"
     ]
    },
    {
     "name": "stdout",
     "output_type": "stream",
     "text": [
      "['acc', 'kappa', 'fmeasure', 'loss']\n",
      "Training Loss  1.1016156938340929\n"
     ]
    },
    {
     "name": "stderr",
     "output_type": "stream",
     "text": [
      "\n"
     ]
    },
    {
     "name": "stdout",
     "output_type": "stream",
     "text": [
      "Train -  [0.6770833333333334, 0.5694444444444444, 0.6770833333333334, tensor(1.0795)]\n",
      "Validation -  [0.6041666666666666, 0.4722222222222222, 0.6041666666666666, tensor(1.1275)]\n",
      "\n",
      "Epoch  486\n"
     ]
    },
    {
     "name": "stderr",
     "output_type": "stream",
     "text": [
      "9it [00:00, 29.35it/s]"
     ]
    },
    {
     "name": "stdout",
     "output_type": "stream",
     "text": [
      "['acc', 'kappa', 'fmeasure', 'loss']\n",
      "Training Loss  1.089545382393731\n"
     ]
    },
    {
     "name": "stderr",
     "output_type": "stream",
     "text": [
      "\n"
     ]
    },
    {
     "name": "stdout",
     "output_type": "stream",
     "text": [
      "Train -  [0.6770833333333334, 0.5694444444444444, 0.6770833333333334, tensor(1.0794)]\n",
      "Validation -  [0.6041666666666666, 0.4722222222222222, 0.6041666666666666, tensor(1.1275)]\n",
      "\n",
      "Epoch  487\n"
     ]
    },
    {
     "name": "stderr",
     "output_type": "stream",
     "text": [
      "9it [00:00, 26.42it/s]"
     ]
    },
    {
     "name": "stdout",
     "output_type": "stream",
     "text": [
      "['acc', 'kappa', 'fmeasure', 'loss']\n",
      "Training Loss  1.0904819832907782\n"
     ]
    },
    {
     "name": "stderr",
     "output_type": "stream",
     "text": [
      "\n"
     ]
    },
    {
     "name": "stdout",
     "output_type": "stream",
     "text": [
      "Train -  [0.6770833333333334, 0.5694444444444444, 0.6770833333333334, tensor(1.0793)]\n",
      "Validation -  [0.6041666666666666, 0.4722222222222222, 0.6041666666666666, tensor(1.1274)]\n",
      "\n",
      "Epoch  488\n"
     ]
    },
    {
     "name": "stderr",
     "output_type": "stream",
     "text": [
      "9it [00:00, 30.27it/s]"
     ]
    },
    {
     "name": "stdout",
     "output_type": "stream",
     "text": [
      "['acc', 'kappa', 'fmeasure', 'loss']\n",
      "Training Loss  1.1095712184906006\n"
     ]
    },
    {
     "name": "stderr",
     "output_type": "stream",
     "text": [
      "\n"
     ]
    },
    {
     "name": "stdout",
     "output_type": "stream",
     "text": [
      "Train -  [0.6770833333333334, 0.5694444444444444, 0.6770833333333334, tensor(1.0792)]\n",
      "Validation -  [0.6041666666666666, 0.4722222222222222, 0.6041666666666666, tensor(1.1274)]\n",
      "\n",
      "Epoch  489\n"
     ]
    },
    {
     "name": "stderr",
     "output_type": "stream",
     "text": [
      "9it [00:00, 27.68it/s]"
     ]
    },
    {
     "name": "stdout",
     "output_type": "stream",
     "text": [
      "['acc', 'kappa', 'fmeasure', 'loss']\n",
      "Training Loss  1.1026376485824585\n"
     ]
    },
    {
     "name": "stderr",
     "output_type": "stream",
     "text": [
      "\n"
     ]
    },
    {
     "name": "stdout",
     "output_type": "stream",
     "text": [
      "Train -  [0.6770833333333334, 0.5694444444444444, 0.6770833333333334, tensor(1.0794)]\n",
      "Validation -  [0.6076388888888888, 0.47685185185185186, 0.6076388888888888, tensor(1.1276)]\n",
      "\n",
      "Epoch  490\n"
     ]
    },
    {
     "name": "stderr",
     "output_type": "stream",
     "text": [
      "9it [00:00, 29.31it/s]"
     ]
    },
    {
     "name": "stdout",
     "output_type": "stream",
     "text": [
      "['acc', 'kappa', 'fmeasure', 'loss']\n",
      "Training Loss  1.0965120792388916\n"
     ]
    },
    {
     "name": "stderr",
     "output_type": "stream",
     "text": [
      "\n"
     ]
    },
    {
     "name": "stdout",
     "output_type": "stream",
     "text": [
      "Train -  [0.6770833333333334, 0.5694444444444444, 0.6770833333333334, tensor(1.0794)]\n",
      "Validation -  [0.6076388888888888, 0.47685185185185186, 0.6076388888888888, tensor(1.1278)]\n",
      "\n",
      "Epoch  491\n"
     ]
    },
    {
     "name": "stderr",
     "output_type": "stream",
     "text": [
      "9it [00:00, 30.18it/s]"
     ]
    },
    {
     "name": "stdout",
     "output_type": "stream",
     "text": [
      "['acc', 'kappa', 'fmeasure', 'loss']\n",
      "Training Loss  1.1072791152530246\n"
     ]
    },
    {
     "name": "stderr",
     "output_type": "stream",
     "text": [
      "\n"
     ]
    },
    {
     "name": "stdout",
     "output_type": "stream",
     "text": [
      "Train -  [0.6770833333333334, 0.5694444444444444, 0.6770833333333334, tensor(1.0794)]\n",
      "Validation -  [0.6076388888888888, 0.47685185185185186, 0.6076388888888888, tensor(1.1278)]\n",
      "\n",
      "Epoch  492\n"
     ]
    },
    {
     "name": "stderr",
     "output_type": "stream",
     "text": [
      "9it [00:00, 26.90it/s]"
     ]
    },
    {
     "name": "stdout",
     "output_type": "stream",
     "text": [
      "['acc', 'kappa', 'fmeasure', 'loss']\n",
      "Training Loss  1.0987521409988403\n"
     ]
    },
    {
     "name": "stderr",
     "output_type": "stream",
     "text": [
      "\n"
     ]
    },
    {
     "name": "stdout",
     "output_type": "stream",
     "text": [
      "Train -  [0.6770833333333334, 0.5694444444444444, 0.6770833333333334, tensor(1.0794)]\n",
      "Validation -  [0.6041666666666666, 0.4722222222222222, 0.6041666666666666, tensor(1.1277)]\n",
      "\n",
      "Epoch  493\n"
     ]
    },
    {
     "name": "stderr",
     "output_type": "stream",
     "text": [
      "9it [00:00, 34.12it/s]"
     ]
    },
    {
     "name": "stdout",
     "output_type": "stream",
     "text": [
      "['acc', 'kappa', 'fmeasure', 'loss']\n",
      "Training Loss  1.1035724348492093\n"
     ]
    },
    {
     "name": "stderr",
     "output_type": "stream",
     "text": [
      "\n"
     ]
    },
    {
     "name": "stdout",
     "output_type": "stream",
     "text": [
      "Train -  [0.6770833333333334, 0.5694444444444444, 0.6770833333333334, tensor(1.0795)]\n",
      "Validation -  [0.6041666666666666, 0.4722222222222222, 0.6041666666666666, tensor(1.1276)]\n",
      "\n",
      "Epoch  494\n"
     ]
    },
    {
     "name": "stderr",
     "output_type": "stream",
     "text": [
      "9it [00:00, 27.78it/s]"
     ]
    },
    {
     "name": "stdout",
     "output_type": "stream",
     "text": [
      "['acc', 'kappa', 'fmeasure', 'loss']\n",
      "Training Loss  1.0924794409010146\n"
     ]
    },
    {
     "name": "stderr",
     "output_type": "stream",
     "text": [
      "\n"
     ]
    },
    {
     "name": "stdout",
     "output_type": "stream",
     "text": [
      "Train -  [0.6770833333333334, 0.5694444444444444, 0.6770833333333334, tensor(1.0794)]\n",
      "Validation -  [0.6041666666666666, 0.4722222222222222, 0.6041666666666666, tensor(1.1276)]\n",
      "\n",
      "Epoch  495\n"
     ]
    },
    {
     "name": "stderr",
     "output_type": "stream",
     "text": [
      "9it [00:00, 25.05it/s]"
     ]
    },
    {
     "name": "stdout",
     "output_type": "stream",
     "text": [
      "['acc', 'kappa', 'fmeasure', 'loss']\n",
      "Training Loss  1.1005500819947984\n"
     ]
    },
    {
     "name": "stderr",
     "output_type": "stream",
     "text": [
      "\n"
     ]
    },
    {
     "name": "stdout",
     "output_type": "stream",
     "text": [
      "Train -  [0.6770833333333334, 0.5694444444444444, 0.6770833333333334, tensor(1.0792)]\n",
      "Validation -  [0.6076388888888888, 0.47685185185185186, 0.6076388888888888, tensor(1.1275)]\n",
      "\n",
      "Epoch  496\n"
     ]
    },
    {
     "name": "stderr",
     "output_type": "stream",
     "text": [
      "9it [00:00, 30.23it/s]"
     ]
    },
    {
     "name": "stdout",
     "output_type": "stream",
     "text": [
      "['acc', 'kappa', 'fmeasure', 'loss']\n",
      "Training Loss  1.0944506989585028\n"
     ]
    },
    {
     "name": "stderr",
     "output_type": "stream",
     "text": [
      "\n"
     ]
    },
    {
     "name": "stdout",
     "output_type": "stream",
     "text": [
      "Train -  [0.6770833333333334, 0.5694444444444444, 0.6770833333333334, tensor(1.0792)]\n",
      "Validation -  [0.6041666666666666, 0.4722222222222222, 0.6041666666666666, tensor(1.1275)]\n",
      "\n",
      "Epoch  497\n"
     ]
    },
    {
     "name": "stderr",
     "output_type": "stream",
     "text": [
      "9it [00:00, 27.12it/s]"
     ]
    },
    {
     "name": "stdout",
     "output_type": "stream",
     "text": [
      "['acc', 'kappa', 'fmeasure', 'loss']\n",
      "Training Loss  1.1096643341912165\n"
     ]
    },
    {
     "name": "stderr",
     "output_type": "stream",
     "text": [
      "\n"
     ]
    },
    {
     "name": "stdout",
     "output_type": "stream",
     "text": [
      "Train -  [0.6770833333333334, 0.5694444444444444, 0.6770833333333334, tensor(1.0793)]\n",
      "Validation -  [0.6041666666666666, 0.4722222222222222, 0.6041666666666666, tensor(1.1276)]\n",
      "\n",
      "Epoch  498\n"
     ]
    },
    {
     "name": "stderr",
     "output_type": "stream",
     "text": [
      "9it [00:00, 26.66it/s]"
     ]
    },
    {
     "name": "stdout",
     "output_type": "stream",
     "text": [
      "['acc', 'kappa', 'fmeasure', 'loss']\n",
      "Training Loss  1.0966333813137479\n"
     ]
    },
    {
     "name": "stderr",
     "output_type": "stream",
     "text": [
      "\n"
     ]
    },
    {
     "name": "stdout",
     "output_type": "stream",
     "text": [
      "Train -  [0.6770833333333334, 0.5694444444444444, 0.6770833333333334, tensor(1.0793)]\n",
      "Validation -  [0.6041666666666666, 0.4722222222222222, 0.6041666666666666, tensor(1.1276)]\n",
      "\n",
      "Epoch  499\n"
     ]
    },
    {
     "name": "stderr",
     "output_type": "stream",
     "text": [
      "9it [00:00, 26.98it/s]"
     ]
    },
    {
     "name": "stdout",
     "output_type": "stream",
     "text": [
      "['acc', 'kappa', 'fmeasure', 'loss']\n",
      "Training Loss  1.099767181608412\n"
     ]
    },
    {
     "name": "stderr",
     "output_type": "stream",
     "text": [
      "\n"
     ]
    },
    {
     "name": "stdout",
     "output_type": "stream",
     "text": [
      "Train -  [0.6770833333333334, 0.5694444444444444, 0.6770833333333334, tensor(1.0793)]\n",
      "Validation -  [0.6041666666666666, 0.4722222222222222, 0.6041666666666666, tensor(1.1274)]\n",
      "\n",
      "Epoch  500\n"
     ]
    },
    {
     "name": "stderr",
     "output_type": "stream",
     "text": [
      "9it [00:00, 26.30it/s]"
     ]
    },
    {
     "name": "stdout",
     "output_type": "stream",
     "text": [
      "['acc', 'kappa', 'fmeasure', 'loss']\n",
      "Training Loss  1.0934722026189168\n"
     ]
    },
    {
     "name": "stderr",
     "output_type": "stream",
     "text": [
      "\n"
     ]
    },
    {
     "name": "stdout",
     "output_type": "stream",
     "text": [
      "Train -  [0.6770833333333334, 0.5694444444444444, 0.6770833333333334, tensor(1.0793)]\n",
      "Validation -  [0.6041666666666666, 0.4722222222222222, 0.6041666666666666, tensor(1.1273)]\n",
      "\n",
      "Epoch  501\n"
     ]
    },
    {
     "name": "stderr",
     "output_type": "stream",
     "text": [
      "9it [00:00, 25.62it/s]"
     ]
    },
    {
     "name": "stdout",
     "output_type": "stream",
     "text": [
      "['acc', 'kappa', 'fmeasure', 'loss']\n",
      "Training Loss  1.0989341934521992\n"
     ]
    },
    {
     "name": "stderr",
     "output_type": "stream",
     "text": [
      "\n"
     ]
    },
    {
     "name": "stdout",
     "output_type": "stream",
     "text": [
      "Train -  [0.6770833333333334, 0.5694444444444444, 0.6770833333333334, tensor(1.0793)]\n",
      "Validation -  [0.6111111111111112, 0.4814814814814815, 0.6111111111111112, tensor(1.1274)]\n",
      "\n",
      "Epoch  502\n"
     ]
    },
    {
     "name": "stderr",
     "output_type": "stream",
     "text": [
      "9it [00:00, 26.65it/s]"
     ]
    },
    {
     "name": "stdout",
     "output_type": "stream",
     "text": [
      "['acc', 'kappa', 'fmeasure', 'loss']\n",
      "Training Loss  1.1077229181925456\n"
     ]
    },
    {
     "name": "stderr",
     "output_type": "stream",
     "text": [
      "\n"
     ]
    },
    {
     "name": "stdout",
     "output_type": "stream",
     "text": [
      "Train -  [0.6770833333333334, 0.5694444444444444, 0.6770833333333334, tensor(1.0793)]\n",
      "Validation -  [0.6111111111111112, 0.4814814814814815, 0.6111111111111112, tensor(1.1275)]\n",
      "\n",
      "Epoch  503\n"
     ]
    },
    {
     "name": "stderr",
     "output_type": "stream",
     "text": [
      "9it [00:00, 29.63it/s]"
     ]
    },
    {
     "name": "stdout",
     "output_type": "stream",
     "text": [
      "['acc', 'kappa', 'fmeasure', 'loss']\n",
      "Training Loss  1.101462894015842\n"
     ]
    },
    {
     "name": "stderr",
     "output_type": "stream",
     "text": [
      "\n"
     ]
    },
    {
     "name": "stdout",
     "output_type": "stream",
     "text": [
      "Train -  [0.6770833333333334, 0.5694444444444444, 0.6770833333333334, tensor(1.0791)]\n",
      "Validation -  [0.6041666666666666, 0.4722222222222222, 0.6041666666666666, tensor(1.1275)]\n",
      "\n",
      "Epoch  504\n"
     ]
    },
    {
     "name": "stderr",
     "output_type": "stream",
     "text": [
      "9it [00:00, 26.65it/s]"
     ]
    },
    {
     "name": "stdout",
     "output_type": "stream",
     "text": [
      "['acc', 'kappa', 'fmeasure', 'loss']\n",
      "Training Loss  1.0977606905831232\n"
     ]
    },
    {
     "name": "stderr",
     "output_type": "stream",
     "text": [
      "\n"
     ]
    },
    {
     "name": "stdout",
     "output_type": "stream",
     "text": [
      "Train -  [0.6770833333333334, 0.5694444444444444, 0.6770833333333334, tensor(1.0792)]\n",
      "Validation -  [0.6006944444444444, 0.46759259259259256, 0.6006944444444444, tensor(1.1278)]\n",
      "\n",
      "Epoch  505\n"
     ]
    },
    {
     "name": "stderr",
     "output_type": "stream",
     "text": [
      "9it [00:00, 28.49it/s]"
     ]
    },
    {
     "name": "stdout",
     "output_type": "stream",
     "text": [
      "['acc', 'kappa', 'fmeasure', 'loss']\n",
      "Training Loss  1.1064638627900019\n"
     ]
    },
    {
     "name": "stderr",
     "output_type": "stream",
     "text": [
      "\n"
     ]
    },
    {
     "name": "stdout",
     "output_type": "stream",
     "text": [
      "Train -  [0.6770833333333334, 0.5694444444444444, 0.6770833333333334, tensor(1.0792)]\n",
      "Validation -  [0.6006944444444444, 0.46759259259259256, 0.6006944444444444, tensor(1.1279)]\n",
      "\n",
      "Epoch  506\n"
     ]
    },
    {
     "name": "stderr",
     "output_type": "stream",
     "text": [
      "9it [00:00, 27.43it/s]"
     ]
    },
    {
     "name": "stdout",
     "output_type": "stream",
     "text": [
      "['acc', 'kappa', 'fmeasure', 'loss']\n",
      "Training Loss  1.1011537843280368\n"
     ]
    },
    {
     "name": "stderr",
     "output_type": "stream",
     "text": [
      "\n"
     ]
    },
    {
     "name": "stdout",
     "output_type": "stream",
     "text": [
      "Train -  [0.6770833333333334, 0.5694444444444444, 0.6770833333333334, tensor(1.0791)]\n",
      "Validation -  [0.5972222222222222, 0.4629629629629629, 0.5972222222222222, tensor(1.1279)]\n",
      "\n",
      "Epoch  507\n"
     ]
    },
    {
     "name": "stderr",
     "output_type": "stream",
     "text": [
      "9it [00:00, 25.64it/s]"
     ]
    },
    {
     "name": "stdout",
     "output_type": "stream",
     "text": [
      "['acc', 'kappa', 'fmeasure', 'loss']\n",
      "Training Loss  1.093344357278612\n"
     ]
    },
    {
     "name": "stderr",
     "output_type": "stream",
     "text": [
      "\n"
     ]
    },
    {
     "name": "stdout",
     "output_type": "stream",
     "text": [
      "Train -  [0.6770833333333334, 0.5694444444444444, 0.6770833333333334, tensor(1.0791)]\n",
      "Validation -  [0.5972222222222222, 0.4629629629629629, 0.5972222222222222, tensor(1.1279)]\n",
      "\n",
      "Epoch  508\n"
     ]
    },
    {
     "name": "stderr",
     "output_type": "stream",
     "text": [
      "9it [00:00, 31.42it/s]"
     ]
    },
    {
     "name": "stdout",
     "output_type": "stream",
     "text": [
      "['acc', 'kappa', 'fmeasure', 'loss']\n",
      "Training Loss  1.100055866771274\n"
     ]
    },
    {
     "name": "stderr",
     "output_type": "stream",
     "text": [
      "\n"
     ]
    },
    {
     "name": "stdout",
     "output_type": "stream",
     "text": [
      "Train -  [0.6770833333333334, 0.5694444444444444, 0.6770833333333334, tensor(1.0791)]\n",
      "Validation -  [0.6006944444444444, 0.46759259259259256, 0.6006944444444444, tensor(1.1278)]\n",
      "\n",
      "Epoch  509\n"
     ]
    },
    {
     "name": "stderr",
     "output_type": "stream",
     "text": [
      "9it [00:00, 27.88it/s]"
     ]
    },
    {
     "name": "stdout",
     "output_type": "stream",
     "text": [
      "['acc', 'kappa', 'fmeasure', 'loss']\n",
      "Training Loss  1.1039329369862874\n"
     ]
    },
    {
     "name": "stderr",
     "output_type": "stream",
     "text": [
      "\n"
     ]
    },
    {
     "name": "stdout",
     "output_type": "stream",
     "text": [
      "Train -  [0.6770833333333334, 0.5694444444444444, 0.6770833333333334, tensor(1.0792)]\n",
      "Validation -  [0.6076388888888888, 0.47685185185185186, 0.6076388888888888, tensor(1.1278)]\n",
      "\n",
      "Epoch  510\n"
     ]
    },
    {
     "name": "stderr",
     "output_type": "stream",
     "text": [
      "9it [00:00, 28.89it/s]"
     ]
    },
    {
     "name": "stdout",
     "output_type": "stream",
     "text": [
      "['acc', 'kappa', 'fmeasure', 'loss']\n",
      "Training Loss  1.0971679952409532\n"
     ]
    },
    {
     "name": "stderr",
     "output_type": "stream",
     "text": [
      "\n"
     ]
    },
    {
     "name": "stdout",
     "output_type": "stream",
     "text": [
      "Train -  [0.6770833333333334, 0.5694444444444444, 0.6770833333333334, tensor(1.0791)]\n",
      "Validation -  [0.6076388888888888, 0.47685185185185186, 0.6076388888888888, tensor(1.1276)]\n",
      "\n",
      "Epoch  511\n"
     ]
    },
    {
     "name": "stderr",
     "output_type": "stream",
     "text": [
      "9it [00:00, 26.60it/s]"
     ]
    },
    {
     "name": "stdout",
     "output_type": "stream",
     "text": [
      "['acc', 'kappa', 'fmeasure', 'loss']\n",
      "Training Loss  1.0950821770562067\n"
     ]
    },
    {
     "name": "stderr",
     "output_type": "stream",
     "text": [
      "\n"
     ]
    },
    {
     "name": "stdout",
     "output_type": "stream",
     "text": [
      "Train -  [0.6770833333333334, 0.5694444444444444, 0.6770833333333334, tensor(1.0791)]\n",
      "Validation -  [0.6006944444444444, 0.46759259259259256, 0.6006944444444444, tensor(1.1276)]\n",
      "\n",
      "Epoch  512\n"
     ]
    },
    {
     "name": "stderr",
     "output_type": "stream",
     "text": [
      "9it [00:00, 29.89it/s]"
     ]
    },
    {
     "name": "stdout",
     "output_type": "stream",
     "text": [
      "['acc', 'kappa', 'fmeasure', 'loss']\n",
      "Training Loss  1.1129793723424275\n"
     ]
    },
    {
     "name": "stderr",
     "output_type": "stream",
     "text": [
      "\n"
     ]
    },
    {
     "name": "stdout",
     "output_type": "stream",
     "text": [
      "Train -  [0.6770833333333334, 0.5694444444444444, 0.6770833333333334, tensor(1.0790)]\n",
      "Validation -  [0.6006944444444444, 0.46759259259259256, 0.6006944444444444, tensor(1.1276)]\n",
      "\n",
      "Epoch  513\n"
     ]
    },
    {
     "name": "stderr",
     "output_type": "stream",
     "text": [
      "9it [00:00, 27.16it/s]"
     ]
    },
    {
     "name": "stdout",
     "output_type": "stream",
     "text": [
      "['acc', 'kappa', 'fmeasure', 'loss']\n",
      "Training Loss  1.1161483393775091\n"
     ]
    },
    {
     "name": "stderr",
     "output_type": "stream",
     "text": [
      "\n"
     ]
    },
    {
     "name": "stdout",
     "output_type": "stream",
     "text": [
      "Train -  [0.6770833333333334, 0.5694444444444444, 0.6770833333333334, tensor(1.0791)]\n",
      "Validation -  [0.6006944444444444, 0.46759259259259256, 0.6006944444444444, tensor(1.1277)]\n",
      "\n",
      "Epoch  514\n"
     ]
    },
    {
     "name": "stderr",
     "output_type": "stream",
     "text": [
      "9it [00:00, 27.88it/s]"
     ]
    },
    {
     "name": "stdout",
     "output_type": "stream",
     "text": [
      "['acc', 'kappa', 'fmeasure', 'loss']\n",
      "Training Loss  1.1049198971854315\n"
     ]
    },
    {
     "name": "stderr",
     "output_type": "stream",
     "text": [
      "\n"
     ]
    },
    {
     "name": "stdout",
     "output_type": "stream",
     "text": [
      "Train -  [0.6770833333333334, 0.5694444444444444, 0.6770833333333334, tensor(1.0792)]\n",
      "Validation -  [0.6076388888888888, 0.47685185185185186, 0.6076388888888888, tensor(1.1277)]\n",
      "\n",
      "Epoch  515\n"
     ]
    },
    {
     "name": "stderr",
     "output_type": "stream",
     "text": [
      "9it [00:00, 30.69it/s]"
     ]
    },
    {
     "name": "stdout",
     "output_type": "stream",
     "text": [
      "['acc', 'kappa', 'fmeasure', 'loss']\n",
      "Training Loss  1.1092664003372192\n"
     ]
    },
    {
     "name": "stderr",
     "output_type": "stream",
     "text": [
      "\n"
     ]
    },
    {
     "name": "stdout",
     "output_type": "stream",
     "text": [
      "Train -  [0.6770833333333334, 0.5694444444444444, 0.6770833333333334, tensor(1.0791)]\n",
      "Validation -  [0.6076388888888888, 0.47685185185185186, 0.6076388888888888, tensor(1.1275)]\n",
      "\n",
      "Epoch  516\n"
     ]
    },
    {
     "name": "stderr",
     "output_type": "stream",
     "text": [
      "9it [00:00, 27.56it/s]"
     ]
    },
    {
     "name": "stdout",
     "output_type": "stream",
     "text": [
      "['acc', 'kappa', 'fmeasure', 'loss']\n",
      "Training Loss  1.0928839180204604\n"
     ]
    },
    {
     "name": "stderr",
     "output_type": "stream",
     "text": [
      "\n"
     ]
    },
    {
     "name": "stdout",
     "output_type": "stream",
     "text": [
      "Train -  [0.6736111111111112, 0.5648148148148149, 0.6736111111111112, tensor(1.0790)]\n",
      "Validation -  [0.6145833333333334, 0.48611111111111116, 0.6145833333333334, tensor(1.1273)]\n",
      "\n",
      "Epoch  517\n"
     ]
    },
    {
     "name": "stderr",
     "output_type": "stream",
     "text": [
      "9it [00:00, 31.13it/s]"
     ]
    },
    {
     "name": "stdout",
     "output_type": "stream",
     "text": [
      "['acc', 'kappa', 'fmeasure', 'loss']\n",
      "Training Loss  1.0986328787273831\n"
     ]
    },
    {
     "name": "stderr",
     "output_type": "stream",
     "text": [
      "\n"
     ]
    },
    {
     "name": "stdout",
     "output_type": "stream",
     "text": [
      "Train -  [0.6736111111111112, 0.5648148148148149, 0.6736111111111112, tensor(1.0793)]\n",
      "Validation -  [0.6076388888888888, 0.47685185185185186, 0.6076388888888888, tensor(1.1275)]\n",
      "\n",
      "Epoch  518\n"
     ]
    },
    {
     "name": "stderr",
     "output_type": "stream",
     "text": [
      "9it [00:00, 29.30it/s]"
     ]
    },
    {
     "name": "stdout",
     "output_type": "stream",
     "text": [
      "['acc', 'kappa', 'fmeasure', 'loss']\n",
      "Training Loss  1.1030594772762723\n"
     ]
    },
    {
     "name": "stderr",
     "output_type": "stream",
     "text": [
      "\n"
     ]
    },
    {
     "name": "stdout",
     "output_type": "stream",
     "text": [
      "Train -  [0.6736111111111112, 0.5648148148148149, 0.6736111111111112, tensor(1.0792)]\n",
      "Validation -  [0.6076388888888888, 0.47685185185185186, 0.6076388888888888, tensor(1.1275)]\n",
      "\n",
      "Epoch  519\n"
     ]
    },
    {
     "name": "stderr",
     "output_type": "stream",
     "text": [
      "9it [00:00, 28.51it/s]"
     ]
    },
    {
     "name": "stdout",
     "output_type": "stream",
     "text": [
      "['acc', 'kappa', 'fmeasure', 'loss']\n",
      "Training Loss  1.099041740099589\n"
     ]
    },
    {
     "name": "stderr",
     "output_type": "stream",
     "text": [
      "\n"
     ]
    },
    {
     "name": "stdout",
     "output_type": "stream",
     "text": [
      "Train -  [0.6770833333333334, 0.5694444444444444, 0.6770833333333334, tensor(1.0789)]\n",
      "Validation -  [0.6076388888888888, 0.47685185185185186, 0.6076388888888888, tensor(1.1273)]\n",
      "\n",
      "Epoch  520\n"
     ]
    },
    {
     "name": "stderr",
     "output_type": "stream",
     "text": [
      "9it [00:00, 31.91it/s]"
     ]
    },
    {
     "name": "stdout",
     "output_type": "stream",
     "text": [
      "['acc', 'kappa', 'fmeasure', 'loss']\n",
      "Training Loss  1.1138078901502821\n"
     ]
    },
    {
     "name": "stderr",
     "output_type": "stream",
     "text": [
      "\n"
     ]
    },
    {
     "name": "stdout",
     "output_type": "stream",
     "text": [
      "Train -  [0.6736111111111112, 0.5648148148148149, 0.6736111111111112, tensor(1.0791)]\n",
      "Validation -  [0.6111111111111112, 0.4814814814814815, 0.6111111111111112, tensor(1.1273)]\n",
      "\n",
      "Epoch  521\n"
     ]
    },
    {
     "name": "stderr",
     "output_type": "stream",
     "text": [
      "9it [00:00, 26.27it/s]"
     ]
    },
    {
     "name": "stdout",
     "output_type": "stream",
     "text": [
      "['acc', 'kappa', 'fmeasure', 'loss']\n",
      "Training Loss  1.1000704500410292\n"
     ]
    },
    {
     "name": "stderr",
     "output_type": "stream",
     "text": [
      "\n"
     ]
    },
    {
     "name": "stdout",
     "output_type": "stream",
     "text": [
      "Train -  [0.6736111111111112, 0.5648148148148149, 0.6736111111111112, tensor(1.0793)]\n",
      "Validation -  [0.6076388888888888, 0.47685185185185186, 0.6076388888888888, tensor(1.1275)]\n",
      "\n",
      "Epoch  522\n"
     ]
    },
    {
     "name": "stderr",
     "output_type": "stream",
     "text": [
      "9it [00:00, 30.85it/s]"
     ]
    },
    {
     "name": "stdout",
     "output_type": "stream",
     "text": [
      "['acc', 'kappa', 'fmeasure', 'loss']\n",
      "Training Loss  1.0984731515248616\n"
     ]
    },
    {
     "name": "stderr",
     "output_type": "stream",
     "text": [
      "\n"
     ]
    },
    {
     "name": "stdout",
     "output_type": "stream",
     "text": [
      "Train -  [0.6736111111111112, 0.5648148148148149, 0.6736111111111112, tensor(1.0792)]\n",
      "Validation -  [0.6111111111111112, 0.4814814814814815, 0.6111111111111112, tensor(1.1274)]\n",
      "\n",
      "Epoch  523\n"
     ]
    },
    {
     "name": "stderr",
     "output_type": "stream",
     "text": [
      "9it [00:00, 28.32it/s]"
     ]
    },
    {
     "name": "stdout",
     "output_type": "stream",
     "text": [
      "['acc', 'kappa', 'fmeasure', 'loss']\n",
      "Training Loss  1.1070172389348347\n"
     ]
    },
    {
     "name": "stderr",
     "output_type": "stream",
     "text": [
      "\n"
     ]
    },
    {
     "name": "stdout",
     "output_type": "stream",
     "text": [
      "Train -  [0.6736111111111112, 0.5648148148148149, 0.6736111111111112, tensor(1.0791)]\n",
      "Validation -  [0.6180555555555556, 0.4907407407407407, 0.6180555555555556, tensor(1.1273)]\n",
      "\n",
      "Epoch  524\n"
     ]
    },
    {
     "name": "stderr",
     "output_type": "stream",
     "text": [
      "9it [00:00, 24.51it/s]"
     ]
    },
    {
     "name": "stdout",
     "output_type": "stream",
     "text": [
      "['acc', 'kappa', 'fmeasure', 'loss']\n",
      "Training Loss  1.1073844167921278\n"
     ]
    },
    {
     "name": "stderr",
     "output_type": "stream",
     "text": [
      "\n"
     ]
    },
    {
     "name": "stdout",
     "output_type": "stream",
     "text": [
      "Train -  [0.6736111111111112, 0.5648148148148149, 0.6736111111111112, tensor(1.0791)]\n",
      "Validation -  [0.6180555555555556, 0.4907407407407407, 0.6180555555555556, tensor(1.1271)]\n",
      "\n",
      "Epoch  525\n"
     ]
    },
    {
     "name": "stderr",
     "output_type": "stream",
     "text": [
      "9it [00:00, 29.44it/s]"
     ]
    },
    {
     "name": "stdout",
     "output_type": "stream",
     "text": [
      "['acc', 'kappa', 'fmeasure', 'loss']\n",
      "Training Loss  1.1008364227082994\n"
     ]
    },
    {
     "name": "stderr",
     "output_type": "stream",
     "text": [
      "\n"
     ]
    },
    {
     "name": "stdout",
     "output_type": "stream",
     "text": [
      "Train -  [0.6736111111111112, 0.5648148148148149, 0.6736111111111112, tensor(1.0791)]\n",
      "Validation -  [0.6145833333333334, 0.48611111111111116, 0.6145833333333334, tensor(1.1270)]\n",
      "\n",
      "Epoch  526\n"
     ]
    },
    {
     "name": "stderr",
     "output_type": "stream",
     "text": [
      "9it [00:00, 24.99it/s]"
     ]
    },
    {
     "name": "stdout",
     "output_type": "stream",
     "text": [
      "['acc', 'kappa', 'fmeasure', 'loss']\n",
      "Training Loss  1.0972233480877347\n"
     ]
    },
    {
     "name": "stderr",
     "output_type": "stream",
     "text": [
      "\n"
     ]
    },
    {
     "name": "stdout",
     "output_type": "stream",
     "text": [
      "Train -  [0.6736111111111112, 0.5648148148148149, 0.6736111111111112, tensor(1.0791)]\n",
      "Validation -  [0.6145833333333334, 0.48611111111111116, 0.6145833333333334, tensor(1.1270)]\n",
      "\n",
      "Epoch  527\n"
     ]
    },
    {
     "name": "stderr",
     "output_type": "stream",
     "text": [
      "9it [00:00, 29.84it/s]"
     ]
    },
    {
     "name": "stdout",
     "output_type": "stream",
     "text": [
      "['acc', 'kappa', 'fmeasure', 'loss']\n",
      "Training Loss  1.1001052459081013\n"
     ]
    },
    {
     "name": "stderr",
     "output_type": "stream",
     "text": [
      "\n"
     ]
    },
    {
     "name": "stdout",
     "output_type": "stream",
     "text": [
      "Train -  [0.6736111111111112, 0.5648148148148149, 0.6736111111111112, tensor(1.0790)]\n",
      "Validation -  [0.6111111111111112, 0.4814814814814815, 0.6111111111111112, tensor(1.1269)]\n",
      "\n",
      "Epoch  528\n"
     ]
    },
    {
     "name": "stderr",
     "output_type": "stream",
     "text": [
      "9it [00:00, 31.12it/s]"
     ]
    },
    {
     "name": "stdout",
     "output_type": "stream",
     "text": [
      "['acc', 'kappa', 'fmeasure', 'loss']\n",
      "Training Loss  1.0963938766055636\n"
     ]
    },
    {
     "name": "stderr",
     "output_type": "stream",
     "text": [
      "\n"
     ]
    },
    {
     "name": "stdout",
     "output_type": "stream",
     "text": [
      "Train -  [0.6736111111111112, 0.5648148148148149, 0.6736111111111112, tensor(1.0790)]\n",
      "Validation -  [0.6111111111111112, 0.4814814814814815, 0.6111111111111112, tensor(1.1270)]\n",
      "\n",
      "Epoch  529\n"
     ]
    },
    {
     "name": "stderr",
     "output_type": "stream",
     "text": [
      "9it [00:00, 28.96it/s]"
     ]
    },
    {
     "name": "stdout",
     "output_type": "stream",
     "text": [
      "['acc', 'kappa', 'fmeasure', 'loss']\n",
      "Training Loss  1.1006590525309246\n"
     ]
    },
    {
     "name": "stderr",
     "output_type": "stream",
     "text": [
      "\n"
     ]
    },
    {
     "name": "stdout",
     "output_type": "stream",
     "text": [
      "Train -  [0.6736111111111112, 0.5648148148148149, 0.6736111111111112, tensor(1.0793)]\n",
      "Validation -  [0.6111111111111112, 0.4814814814814815, 0.6111111111111112, tensor(1.1270)]\n",
      "\n",
      "Epoch  530\n"
     ]
    },
    {
     "name": "stderr",
     "output_type": "stream",
     "text": [
      "9it [00:00, 30.26it/s]"
     ]
    },
    {
     "name": "stdout",
     "output_type": "stream",
     "text": [
      "['acc', 'kappa', 'fmeasure', 'loss']\n",
      "Training Loss  1.0960999064975314\n"
     ]
    },
    {
     "name": "stderr",
     "output_type": "stream",
     "text": [
      "\n"
     ]
    },
    {
     "name": "stdout",
     "output_type": "stream",
     "text": [
      "Train -  [0.6736111111111112, 0.5648148148148149, 0.6736111111111112, tensor(1.0791)]\n",
      "Validation -  [0.6076388888888888, 0.47685185185185186, 0.6076388888888888, tensor(1.1269)]\n",
      "\n",
      "Epoch  531\n"
     ]
    },
    {
     "name": "stderr",
     "output_type": "stream",
     "text": [
      "9it [00:00, 27.17it/s]"
     ]
    },
    {
     "name": "stdout",
     "output_type": "stream",
     "text": [
      "['acc', 'kappa', 'fmeasure', 'loss']\n",
      "Training Loss  1.101546843846639\n"
     ]
    },
    {
     "name": "stderr",
     "output_type": "stream",
     "text": [
      "\n"
     ]
    },
    {
     "name": "stdout",
     "output_type": "stream",
     "text": [
      "Train -  [0.6736111111111112, 0.5648148148148149, 0.6736111111111112, tensor(1.0791)]\n",
      "Validation -  [0.6076388888888888, 0.47685185185185186, 0.6076388888888888, tensor(1.1270)]\n",
      "\n",
      "Epoch  532\n"
     ]
    },
    {
     "name": "stderr",
     "output_type": "stream",
     "text": [
      "9it [00:00, 28.94it/s]"
     ]
    },
    {
     "name": "stdout",
     "output_type": "stream",
     "text": [
      "['acc', 'kappa', 'fmeasure', 'loss']\n",
      "Training Loss  1.1036457882987127\n"
     ]
    },
    {
     "name": "stderr",
     "output_type": "stream",
     "text": [
      "\n"
     ]
    },
    {
     "name": "stdout",
     "output_type": "stream",
     "text": [
      "Train -  [0.6736111111111112, 0.5648148148148149, 0.6736111111111112, tensor(1.0790)]\n",
      "Validation -  [0.6111111111111112, 0.4814814814814815, 0.6111111111111112, tensor(1.1269)]\n",
      "\n",
      "Epoch  533\n"
     ]
    },
    {
     "name": "stderr",
     "output_type": "stream",
     "text": [
      "9it [00:00, 27.46it/s]"
     ]
    },
    {
     "name": "stdout",
     "output_type": "stream",
     "text": [
      "['acc', 'kappa', 'fmeasure', 'loss']\n",
      "Training Loss  1.1066471205817328\n"
     ]
    },
    {
     "name": "stderr",
     "output_type": "stream",
     "text": [
      "\n"
     ]
    },
    {
     "name": "stdout",
     "output_type": "stream",
     "text": [
      "Train -  [0.6736111111111112, 0.5648148148148149, 0.6736111111111112, tensor(1.0791)]\n",
      "Validation -  [0.6076388888888888, 0.47685185185185186, 0.6076388888888888, tensor(1.1270)]\n",
      "\n",
      "Epoch  534\n"
     ]
    },
    {
     "name": "stderr",
     "output_type": "stream",
     "text": [
      "9it [00:00, 30.24it/s]"
     ]
    },
    {
     "name": "stdout",
     "output_type": "stream",
     "text": [
      "['acc', 'kappa', 'fmeasure', 'loss']\n",
      "Training Loss  1.1132412883970473\n"
     ]
    },
    {
     "name": "stderr",
     "output_type": "stream",
     "text": [
      "\n"
     ]
    },
    {
     "name": "stdout",
     "output_type": "stream",
     "text": [
      "Train -  [0.6736111111111112, 0.5648148148148149, 0.6736111111111112, tensor(1.0790)]\n",
      "Validation -  [0.6076388888888888, 0.47685185185185186, 0.6076388888888888, tensor(1.1271)]\n",
      "\n",
      "Epoch  535\n"
     ]
    },
    {
     "name": "stderr",
     "output_type": "stream",
     "text": [
      "9it [00:00, 30.58it/s]"
     ]
    },
    {
     "name": "stdout",
     "output_type": "stream",
     "text": [
      "['acc', 'kappa', 'fmeasure', 'loss']\n",
      "Training Loss  1.0968126191033258\n"
     ]
    },
    {
     "name": "stderr",
     "output_type": "stream",
     "text": [
      "\n"
     ]
    },
    {
     "name": "stdout",
     "output_type": "stream",
     "text": [
      "Train -  [0.6736111111111112, 0.5648148148148149, 0.6736111111111112, tensor(1.0790)]\n",
      "Validation -  [0.6041666666666666, 0.4722222222222222, 0.6041666666666666, tensor(1.1271)]\n",
      "\n",
      "Epoch  536\n"
     ]
    },
    {
     "name": "stderr",
     "output_type": "stream",
     "text": [
      "9it [00:00, 31.36it/s]"
     ]
    },
    {
     "name": "stdout",
     "output_type": "stream",
     "text": [
      "['acc', 'kappa', 'fmeasure', 'loss']\n",
      "Training Loss  1.0869378248850505\n"
     ]
    },
    {
     "name": "stderr",
     "output_type": "stream",
     "text": [
      "\n"
     ]
    },
    {
     "name": "stdout",
     "output_type": "stream",
     "text": [
      "Train -  [0.6736111111111112, 0.5648148148148149, 0.6736111111111112, tensor(1.0790)]\n",
      "Validation -  [0.6041666666666666, 0.4722222222222222, 0.6041666666666666, tensor(1.1271)]\n",
      "\n",
      "Epoch  537\n"
     ]
    },
    {
     "name": "stderr",
     "output_type": "stream",
     "text": [
      "9it [00:00, 28.26it/s]"
     ]
    },
    {
     "name": "stdout",
     "output_type": "stream",
     "text": [
      "['acc', 'kappa', 'fmeasure', 'loss']\n",
      "Training Loss  1.0908578501807318\n"
     ]
    },
    {
     "name": "stderr",
     "output_type": "stream",
     "text": [
      "\n"
     ]
    },
    {
     "name": "stdout",
     "output_type": "stream",
     "text": [
      "Train -  [0.6736111111111112, 0.5648148148148149, 0.6736111111111112, tensor(1.0791)]\n",
      "Validation -  [0.6076388888888888, 0.47685185185185186, 0.6076388888888888, tensor(1.1272)]\n",
      "\n",
      "Epoch  538\n"
     ]
    },
    {
     "name": "stderr",
     "output_type": "stream",
     "text": [
      "9it [00:00, 27.74it/s]"
     ]
    },
    {
     "name": "stdout",
     "output_type": "stream",
     "text": [
      "['acc', 'kappa', 'fmeasure', 'loss']\n",
      "Training Loss  1.0926444000667996\n"
     ]
    },
    {
     "name": "stderr",
     "output_type": "stream",
     "text": [
      "\n"
     ]
    },
    {
     "name": "stdout",
     "output_type": "stream",
     "text": [
      "Train -  [0.6736111111111112, 0.5648148148148149, 0.6736111111111112, tensor(1.0792)]\n",
      "Validation -  [0.6111111111111112, 0.4814814814814815, 0.6111111111111112, tensor(1.1272)]\n",
      "\n",
      "Epoch  539\n"
     ]
    },
    {
     "name": "stderr",
     "output_type": "stream",
     "text": [
      "9it [00:00, 30.92it/s]"
     ]
    },
    {
     "name": "stdout",
     "output_type": "stream",
     "text": [
      "['acc', 'kappa', 'fmeasure', 'loss']\n",
      "Training Loss  1.0990124808417425\n"
     ]
    },
    {
     "name": "stderr",
     "output_type": "stream",
     "text": [
      "\n"
     ]
    },
    {
     "name": "stdout",
     "output_type": "stream",
     "text": [
      "Train -  [0.6736111111111112, 0.5648148148148149, 0.6736111111111112, tensor(1.0790)]\n",
      "Validation -  [0.6111111111111112, 0.4814814814814815, 0.6111111111111112, tensor(1.1271)]\n",
      "\n",
      "Epoch  540\n"
     ]
    },
    {
     "name": "stderr",
     "output_type": "stream",
     "text": [
      "9it [00:00, 25.51it/s]"
     ]
    },
    {
     "name": "stdout",
     "output_type": "stream",
     "text": [
      "['acc', 'kappa', 'fmeasure', 'loss']\n",
      "Training Loss  1.1033286253611247\n"
     ]
    },
    {
     "name": "stderr",
     "output_type": "stream",
     "text": [
      "\n"
     ]
    },
    {
     "name": "stdout",
     "output_type": "stream",
     "text": [
      "Train -  [0.6736111111111112, 0.5648148148148149, 0.6736111111111112, tensor(1.0791)]\n",
      "Validation -  [0.6111111111111112, 0.4814814814814815, 0.6111111111111112, tensor(1.1271)]\n",
      "\n",
      "Epoch  541\n"
     ]
    },
    {
     "name": "stderr",
     "output_type": "stream",
     "text": [
      "9it [00:00, 29.32it/s]"
     ]
    },
    {
     "name": "stdout",
     "output_type": "stream",
     "text": [
      "['acc', 'kappa', 'fmeasure', 'loss']\n",
      "Training Loss  1.1088809304767184\n"
     ]
    },
    {
     "name": "stderr",
     "output_type": "stream",
     "text": [
      "\n"
     ]
    },
    {
     "name": "stdout",
     "output_type": "stream",
     "text": [
      "Train -  [0.6736111111111112, 0.5648148148148149, 0.6736111111111112, tensor(1.0790)]\n",
      "Validation -  [0.6111111111111112, 0.4814814814814815, 0.6111111111111112, tensor(1.1271)]\n",
      "\n",
      "Epoch  542\n"
     ]
    },
    {
     "name": "stderr",
     "output_type": "stream",
     "text": [
      "9it [00:00, 31.83it/s]"
     ]
    },
    {
     "name": "stdout",
     "output_type": "stream",
     "text": [
      "['acc', 'kappa', 'fmeasure', 'loss']\n",
      "Training Loss  1.0885053740607367\n"
     ]
    },
    {
     "name": "stderr",
     "output_type": "stream",
     "text": [
      "\n"
     ]
    },
    {
     "name": "stdout",
     "output_type": "stream",
     "text": [
      "Train -  [0.6736111111111112, 0.5648148148148149, 0.6736111111111112, tensor(1.0789)]\n",
      "Validation -  [0.6111111111111112, 0.4814814814814815, 0.6111111111111112, tensor(1.1271)]\n",
      "\n",
      "Epoch  543\n"
     ]
    },
    {
     "name": "stderr",
     "output_type": "stream",
     "text": [
      "9it [00:00, 27.11it/s]"
     ]
    },
    {
     "name": "stdout",
     "output_type": "stream",
     "text": [
      "['acc', 'kappa', 'fmeasure', 'loss']\n",
      "Training Loss  1.1001611948013306\n"
     ]
    },
    {
     "name": "stderr",
     "output_type": "stream",
     "text": [
      "\n"
     ]
    },
    {
     "name": "stdout",
     "output_type": "stream",
     "text": [
      "Train -  [0.6736111111111112, 0.5648148148148149, 0.6736111111111112, tensor(1.0790)]\n",
      "Validation -  [0.6076388888888888, 0.47685185185185186, 0.6076388888888888, tensor(1.1273)]\n",
      "\n",
      "Epoch  544\n"
     ]
    },
    {
     "name": "stderr",
     "output_type": "stream",
     "text": [
      "9it [00:00, 28.68it/s]"
     ]
    },
    {
     "name": "stdout",
     "output_type": "stream",
     "text": [
      "['acc', 'kappa', 'fmeasure', 'loss']\n",
      "Training Loss  1.0915932257970173\n"
     ]
    },
    {
     "name": "stderr",
     "output_type": "stream",
     "text": [
      "\n"
     ]
    },
    {
     "name": "stdout",
     "output_type": "stream",
     "text": [
      "Train -  [0.6736111111111112, 0.5648148148148149, 0.6736111111111112, tensor(1.0789)]\n",
      "Validation -  [0.6041666666666666, 0.4722222222222222, 0.6041666666666666, tensor(1.1272)]\n",
      "\n",
      "Epoch  545\n"
     ]
    },
    {
     "name": "stderr",
     "output_type": "stream",
     "text": [
      "9it [00:00, 27.10it/s]"
     ]
    },
    {
     "name": "stdout",
     "output_type": "stream",
     "text": [
      "['acc', 'kappa', 'fmeasure', 'loss']\n",
      "Training Loss  1.1008860535091824\n"
     ]
    },
    {
     "name": "stderr",
     "output_type": "stream",
     "text": [
      "\n"
     ]
    },
    {
     "name": "stdout",
     "output_type": "stream",
     "text": [
      "Train -  [0.6736111111111112, 0.5648148148148149, 0.6736111111111112, tensor(1.0788)]\n",
      "Validation -  [0.6111111111111112, 0.4814814814814815, 0.6111111111111112, tensor(1.1271)]\n",
      "\n",
      "Epoch  546\n"
     ]
    },
    {
     "name": "stderr",
     "output_type": "stream",
     "text": [
      "9it [00:00, 30.15it/s]"
     ]
    },
    {
     "name": "stdout",
     "output_type": "stream",
     "text": [
      "['acc', 'kappa', 'fmeasure', 'loss']\n",
      "Training Loss  1.0940112935172186\n"
     ]
    },
    {
     "name": "stderr",
     "output_type": "stream",
     "text": [
      "\n"
     ]
    },
    {
     "name": "stdout",
     "output_type": "stream",
     "text": [
      "Train -  [0.6736111111111112, 0.5648148148148149, 0.6736111111111112, tensor(1.0789)]\n",
      "Validation -  [0.6041666666666666, 0.4722222222222222, 0.6041666666666666, tensor(1.1273)]\n",
      "\n",
      "Epoch  547\n"
     ]
    },
    {
     "name": "stderr",
     "output_type": "stream",
     "text": [
      "9it [00:00, 29.66it/s]"
     ]
    },
    {
     "name": "stdout",
     "output_type": "stream",
     "text": [
      "['acc', 'kappa', 'fmeasure', 'loss']\n",
      "Training Loss  1.1009605063332453\n"
     ]
    },
    {
     "name": "stderr",
     "output_type": "stream",
     "text": [
      "\n"
     ]
    },
    {
     "name": "stdout",
     "output_type": "stream",
     "text": [
      "Train -  [0.6736111111111112, 0.5648148148148149, 0.6736111111111112, tensor(1.0789)]\n",
      "Validation -  [0.6041666666666666, 0.4722222222222222, 0.6041666666666666, tensor(1.1272)]\n",
      "\n",
      "Epoch  548\n"
     ]
    },
    {
     "name": "stderr",
     "output_type": "stream",
     "text": [
      "9it [00:00, 30.15it/s]"
     ]
    },
    {
     "name": "stdout",
     "output_type": "stream",
     "text": [
      "['acc', 'kappa', 'fmeasure', 'loss']\n",
      "Training Loss  1.1094776656892564\n"
     ]
    },
    {
     "name": "stderr",
     "output_type": "stream",
     "text": [
      "\n"
     ]
    },
    {
     "name": "stdout",
     "output_type": "stream",
     "text": [
      "Train -  [0.6736111111111112, 0.5648148148148149, 0.6736111111111112, tensor(1.0791)]\n",
      "Validation -  [0.6006944444444444, 0.46759259259259256, 0.6006944444444444, tensor(1.1271)]\n",
      "\n",
      "Epoch  549\n"
     ]
    },
    {
     "name": "stderr",
     "output_type": "stream",
     "text": [
      "9it [00:00, 31.30it/s]"
     ]
    },
    {
     "name": "stdout",
     "output_type": "stream",
     "text": [
      "['acc', 'kappa', 'fmeasure', 'loss']\n",
      "Training Loss  1.100936598247952\n"
     ]
    },
    {
     "name": "stderr",
     "output_type": "stream",
     "text": [
      "\n"
     ]
    },
    {
     "name": "stdout",
     "output_type": "stream",
     "text": [
      "Train -  [0.6736111111111112, 0.5648148148148149, 0.6736111111111112, tensor(1.0791)]\n",
      "Validation -  [0.6041666666666666, 0.4722222222222222, 0.6041666666666666, tensor(1.1270)]\n",
      "\n",
      "Epoch  550\n"
     ]
    },
    {
     "name": "stderr",
     "output_type": "stream",
     "text": [
      "9it [00:00, 31.26it/s]"
     ]
    },
    {
     "name": "stdout",
     "output_type": "stream",
     "text": [
      "['acc', 'kappa', 'fmeasure', 'loss']\n",
      "Training Loss  1.0995163917541504\n"
     ]
    },
    {
     "name": "stderr",
     "output_type": "stream",
     "text": [
      "\n"
     ]
    },
    {
     "name": "stdout",
     "output_type": "stream",
     "text": [
      "Train -  [0.6736111111111112, 0.5648148148148149, 0.6736111111111112, tensor(1.0789)]\n",
      "Validation -  [0.6041666666666666, 0.4722222222222222, 0.6041666666666666, tensor(1.1268)]\n",
      "\n",
      "Epoch  551\n"
     ]
    },
    {
     "name": "stderr",
     "output_type": "stream",
     "text": [
      "9it [00:00, 30.65it/s]"
     ]
    },
    {
     "name": "stdout",
     "output_type": "stream",
     "text": [
      "['acc', 'kappa', 'fmeasure', 'loss']\n",
      "Training Loss  1.0976492166519165\n"
     ]
    },
    {
     "name": "stderr",
     "output_type": "stream",
     "text": [
      "\n"
     ]
    },
    {
     "name": "stdout",
     "output_type": "stream",
     "text": [
      "Train -  [0.6736111111111112, 0.5648148148148149, 0.6736111111111112, tensor(1.0790)]\n",
      "Validation -  [0.6041666666666666, 0.4722222222222222, 0.6041666666666666, tensor(1.1269)]\n",
      "\n",
      "Epoch  552\n"
     ]
    },
    {
     "name": "stderr",
     "output_type": "stream",
     "text": [
      "9it [00:00, 27.52it/s]"
     ]
    },
    {
     "name": "stdout",
     "output_type": "stream",
     "text": [
      "['acc', 'kappa', 'fmeasure', 'loss']\n",
      "Training Loss  1.0990328126483493\n"
     ]
    },
    {
     "name": "stderr",
     "output_type": "stream",
     "text": [
      "\n"
     ]
    },
    {
     "name": "stdout",
     "output_type": "stream",
     "text": [
      "Train -  [0.6736111111111112, 0.5648148148148149, 0.6736111111111112, tensor(1.0789)]\n",
      "Validation -  [0.6041666666666666, 0.4722222222222222, 0.6041666666666666, tensor(1.1269)]\n",
      "\n",
      "Epoch  553\n"
     ]
    },
    {
     "name": "stderr",
     "output_type": "stream",
     "text": [
      "9it [00:00, 28.75it/s]"
     ]
    },
    {
     "name": "stdout",
     "output_type": "stream",
     "text": [
      "['acc', 'kappa', 'fmeasure', 'loss']\n",
      "Training Loss  1.0989407698313396\n"
     ]
    },
    {
     "name": "stderr",
     "output_type": "stream",
     "text": [
      "\n"
     ]
    },
    {
     "name": "stdout",
     "output_type": "stream",
     "text": [
      "Train -  [0.6736111111111112, 0.5648148148148149, 0.6736111111111112, tensor(1.0790)]\n",
      "Validation -  [0.6041666666666666, 0.4722222222222222, 0.6041666666666666, tensor(1.1271)]\n",
      "\n",
      "Epoch  554\n"
     ]
    },
    {
     "name": "stderr",
     "output_type": "stream",
     "text": [
      "9it [00:00, 30.81it/s]"
     ]
    },
    {
     "name": "stdout",
     "output_type": "stream",
     "text": [
      "['acc', 'kappa', 'fmeasure', 'loss']\n",
      "Training Loss  1.0998962587780423\n"
     ]
    },
    {
     "name": "stderr",
     "output_type": "stream",
     "text": [
      "\n"
     ]
    },
    {
     "name": "stdout",
     "output_type": "stream",
     "text": [
      "Train -  [0.6736111111111112, 0.5648148148148149, 0.6736111111111112, tensor(1.0789)]\n",
      "Validation -  [0.6006944444444444, 0.46759259259259256, 0.6006944444444444, tensor(1.1271)]\n",
      "\n",
      "Epoch  555\n"
     ]
    },
    {
     "name": "stderr",
     "output_type": "stream",
     "text": [
      "9it [00:00, 27.01it/s]"
     ]
    },
    {
     "name": "stdout",
     "output_type": "stream",
     "text": [
      "['acc', 'kappa', 'fmeasure', 'loss']\n",
      "Training Loss  1.0832915306091309\n"
     ]
    },
    {
     "name": "stderr",
     "output_type": "stream",
     "text": [
      "\n"
     ]
    },
    {
     "name": "stdout",
     "output_type": "stream",
     "text": [
      "Train -  [0.6736111111111112, 0.5648148148148149, 0.6736111111111112, tensor(1.0790)]\n",
      "Validation -  [0.6006944444444444, 0.46759259259259256, 0.6006944444444444, tensor(1.1273)]\n",
      "\n",
      "Epoch  556\n"
     ]
    },
    {
     "name": "stderr",
     "output_type": "stream",
     "text": [
      "9it [00:00, 28.57it/s]"
     ]
    },
    {
     "name": "stdout",
     "output_type": "stream",
     "text": [
      "['acc', 'kappa', 'fmeasure', 'loss']\n",
      "Training Loss  1.1088122659259372\n"
     ]
    },
    {
     "name": "stderr",
     "output_type": "stream",
     "text": [
      "\n"
     ]
    },
    {
     "name": "stdout",
     "output_type": "stream",
     "text": [
      "Train -  [0.6805555555555556, 0.5740740740740741, 0.6805555555555556, tensor(1.0790)]\n",
      "Validation -  [0.5972222222222222, 0.4629629629629629, 0.5972222222222222, tensor(1.1275)]\n",
      "\n",
      "Epoch  557\n"
     ]
    },
    {
     "name": "stderr",
     "output_type": "stream",
     "text": [
      "9it [00:00, 27.35it/s]"
     ]
    },
    {
     "name": "stdout",
     "output_type": "stream",
     "text": [
      "['acc', 'kappa', 'fmeasure', 'loss']\n",
      "Training Loss  1.097005354033576\n"
     ]
    },
    {
     "name": "stderr",
     "output_type": "stream",
     "text": [
      "\n"
     ]
    },
    {
     "name": "stdout",
     "output_type": "stream",
     "text": [
      "Train -  [0.6805555555555556, 0.5740740740740741, 0.6805555555555556, tensor(1.0789)]\n",
      "Validation -  [0.5972222222222222, 0.4629629629629629, 0.5972222222222222, tensor(1.1275)]\n",
      "\n",
      "Epoch  558\n"
     ]
    },
    {
     "name": "stderr",
     "output_type": "stream",
     "text": [
      "9it [00:00, 31.31it/s]"
     ]
    },
    {
     "name": "stdout",
     "output_type": "stream",
     "text": [
      "['acc', 'kappa', 'fmeasure', 'loss']\n",
      "Training Loss  1.0900546179877386\n"
     ]
    },
    {
     "name": "stderr",
     "output_type": "stream",
     "text": [
      "\n"
     ]
    },
    {
     "name": "stdout",
     "output_type": "stream",
     "text": [
      "Train -  [0.6805555555555556, 0.5740740740740741, 0.6805555555555556, tensor(1.0789)]\n",
      "Validation -  [0.6006944444444444, 0.46759259259259256, 0.6006944444444444, tensor(1.1277)]\n",
      "\n",
      "Epoch  559\n"
     ]
    },
    {
     "name": "stderr",
     "output_type": "stream",
     "text": [
      "9it [00:00, 30.46it/s]"
     ]
    },
    {
     "name": "stdout",
     "output_type": "stream",
     "text": [
      "['acc', 'kappa', 'fmeasure', 'loss']\n",
      "Training Loss  1.0961214436425104\n"
     ]
    },
    {
     "name": "stderr",
     "output_type": "stream",
     "text": [
      "\n"
     ]
    },
    {
     "name": "stdout",
     "output_type": "stream",
     "text": [
      "Train -  [0.6805555555555556, 0.5740740740740741, 0.6805555555555556, tensor(1.0789)]\n",
      "Validation -  [0.6006944444444444, 0.46759259259259256, 0.6006944444444444, tensor(1.1279)]\n",
      "\n",
      "Epoch  560\n"
     ]
    },
    {
     "name": "stderr",
     "output_type": "stream",
     "text": [
      "9it [00:00, 28.10it/s]"
     ]
    },
    {
     "name": "stdout",
     "output_type": "stream",
     "text": [
      "['acc', 'kappa', 'fmeasure', 'loss']\n",
      "Training Loss  1.0926050477557712\n"
     ]
    },
    {
     "name": "stderr",
     "output_type": "stream",
     "text": [
      "\n"
     ]
    },
    {
     "name": "stdout",
     "output_type": "stream",
     "text": [
      "Train -  [0.6805555555555556, 0.5740740740740741, 0.6805555555555556, tensor(1.0788)]\n",
      "Validation -  [0.6006944444444444, 0.46759259259259256, 0.6006944444444444, tensor(1.1278)]\n",
      "\n",
      "Epoch  561\n"
     ]
    },
    {
     "name": "stderr",
     "output_type": "stream",
     "text": [
      "9it [00:00, 26.36it/s]"
     ]
    },
    {
     "name": "stdout",
     "output_type": "stream",
     "text": [
      "['acc', 'kappa', 'fmeasure', 'loss']\n",
      "Training Loss  1.1012351777818468\n"
     ]
    },
    {
     "name": "stderr",
     "output_type": "stream",
     "text": [
      "\n"
     ]
    },
    {
     "name": "stdout",
     "output_type": "stream",
     "text": [
      "Train -  [0.6805555555555556, 0.5740740740740741, 0.6805555555555556, tensor(1.0789)]\n",
      "Validation -  [0.6006944444444444, 0.46759259259259256, 0.6006944444444444, tensor(1.1279)]\n",
      "\n",
      "Epoch  562\n"
     ]
    },
    {
     "name": "stderr",
     "output_type": "stream",
     "text": [
      "9it [00:00, 26.43it/s]"
     ]
    },
    {
     "name": "stdout",
     "output_type": "stream",
     "text": [
      "['acc', 'kappa', 'fmeasure', 'loss']\n",
      "Training Loss  1.1027456919352214\n"
     ]
    },
    {
     "name": "stderr",
     "output_type": "stream",
     "text": [
      "\n"
     ]
    },
    {
     "name": "stdout",
     "output_type": "stream",
     "text": [
      "Train -  [0.6805555555555556, 0.5740740740740741, 0.6805555555555556, tensor(1.0787)]\n",
      "Validation -  [0.6006944444444444, 0.46759259259259256, 0.6006944444444444, tensor(1.1277)]\n",
      "\n",
      "Epoch  563\n"
     ]
    },
    {
     "name": "stderr",
     "output_type": "stream",
     "text": [
      "9it [00:00, 29.61it/s]"
     ]
    },
    {
     "name": "stdout",
     "output_type": "stream",
     "text": [
      "['acc', 'kappa', 'fmeasure', 'loss']\n",
      "Training Loss  1.1016489267349243\n"
     ]
    },
    {
     "name": "stderr",
     "output_type": "stream",
     "text": [
      "\n"
     ]
    },
    {
     "name": "stdout",
     "output_type": "stream",
     "text": [
      "Train -  [0.6805555555555556, 0.5740740740740741, 0.6805555555555556, tensor(1.0787)]\n",
      "Validation -  [0.6006944444444444, 0.46759259259259256, 0.6006944444444444, tensor(1.1277)]\n",
      "\n",
      "Epoch  564\n"
     ]
    },
    {
     "name": "stderr",
     "output_type": "stream",
     "text": [
      "9it [00:00, 30.32it/s]"
     ]
    },
    {
     "name": "stdout",
     "output_type": "stream",
     "text": [
      "['acc', 'kappa', 'fmeasure', 'loss']\n",
      "Training Loss  1.084980183177524\n"
     ]
    },
    {
     "name": "stderr",
     "output_type": "stream",
     "text": [
      "\n"
     ]
    },
    {
     "name": "stdout",
     "output_type": "stream",
     "text": [
      "Train -  [0.6805555555555556, 0.5740740740740741, 0.6805555555555556, tensor(1.0788)]\n",
      "Validation -  [0.6041666666666666, 0.4722222222222222, 0.6041666666666666, tensor(1.1277)]\n",
      "\n",
      "Epoch  565\n"
     ]
    },
    {
     "name": "stderr",
     "output_type": "stream",
     "text": [
      "9it [00:00, 29.21it/s]"
     ]
    },
    {
     "name": "stdout",
     "output_type": "stream",
     "text": [
      "['acc', 'kappa', 'fmeasure', 'loss']\n",
      "Training Loss  1.0960197978549533\n"
     ]
    },
    {
     "name": "stderr",
     "output_type": "stream",
     "text": [
      "\n"
     ]
    },
    {
     "name": "stdout",
     "output_type": "stream",
     "text": [
      "Train -  [0.6805555555555556, 0.5740740740740741, 0.6805555555555556, tensor(1.0788)]\n",
      "Validation -  [0.6041666666666666, 0.4722222222222222, 0.6041666666666666, tensor(1.1277)]\n",
      "\n",
      "Epoch  566\n"
     ]
    },
    {
     "name": "stderr",
     "output_type": "stream",
     "text": [
      "9it [00:00, 29.02it/s]"
     ]
    },
    {
     "name": "stdout",
     "output_type": "stream",
     "text": [
      "['acc', 'kappa', 'fmeasure', 'loss']\n",
      "Training Loss  1.0936742358737521\n"
     ]
    },
    {
     "name": "stderr",
     "output_type": "stream",
     "text": [
      "\n"
     ]
    },
    {
     "name": "stdout",
     "output_type": "stream",
     "text": [
      "Train -  [0.6805555555555556, 0.5740740740740741, 0.6805555555555556, tensor(1.0788)]\n",
      "Validation -  [0.6041666666666666, 0.4722222222222222, 0.6041666666666666, tensor(1.1278)]\n",
      "\n",
      "Epoch  567\n"
     ]
    },
    {
     "name": "stderr",
     "output_type": "stream",
     "text": [
      "9it [00:00, 26.73it/s]"
     ]
    },
    {
     "name": "stdout",
     "output_type": "stream",
     "text": [
      "['acc', 'kappa', 'fmeasure', 'loss']\n",
      "Training Loss  1.0901789400312636\n"
     ]
    },
    {
     "name": "stderr",
     "output_type": "stream",
     "text": [
      "\n"
     ]
    },
    {
     "name": "stdout",
     "output_type": "stream",
     "text": [
      "Train -  [0.6805555555555556, 0.5740740740740741, 0.6805555555555556, tensor(1.0788)]\n",
      "Validation -  [0.6006944444444444, 0.46759259259259256, 0.6006944444444444, tensor(1.1278)]\n",
      "\n",
      "Epoch  568\n"
     ]
    },
    {
     "name": "stderr",
     "output_type": "stream",
     "text": [
      "9it [00:00, 31.05it/s]"
     ]
    },
    {
     "name": "stdout",
     "output_type": "stream",
     "text": [
      "['acc', 'kappa', 'fmeasure', 'loss']\n",
      "Training Loss  1.1052676571740045\n"
     ]
    },
    {
     "name": "stderr",
     "output_type": "stream",
     "text": [
      "\n"
     ]
    },
    {
     "name": "stdout",
     "output_type": "stream",
     "text": [
      "Train -  [0.6805555555555556, 0.5740740740740741, 0.6805555555555556, tensor(1.0786)]\n",
      "Validation -  [0.6041666666666666, 0.4722222222222222, 0.6041666666666666, tensor(1.1276)]\n",
      "\n",
      "Epoch  569\n"
     ]
    },
    {
     "name": "stderr",
     "output_type": "stream",
     "text": [
      "9it [00:00, 28.75it/s]"
     ]
    },
    {
     "name": "stdout",
     "output_type": "stream",
     "text": [
      "['acc', 'kappa', 'fmeasure', 'loss']\n",
      "Training Loss  1.0926140480571322\n"
     ]
    },
    {
     "name": "stderr",
     "output_type": "stream",
     "text": [
      "\n"
     ]
    },
    {
     "name": "stdout",
     "output_type": "stream",
     "text": [
      "Train -  [0.6805555555555556, 0.5740740740740741, 0.6805555555555556, tensor(1.0788)]\n",
      "Validation -  [0.6076388888888888, 0.47685185185185186, 0.6076388888888888, tensor(1.1276)]\n",
      "\n",
      "Epoch  570\n"
     ]
    },
    {
     "name": "stderr",
     "output_type": "stream",
     "text": [
      "9it [00:00, 28.30it/s]"
     ]
    },
    {
     "name": "stdout",
     "output_type": "stream",
     "text": [
      "['acc', 'kappa', 'fmeasure', 'loss']\n",
      "Training Loss  1.1074150138431125\n"
     ]
    },
    {
     "name": "stderr",
     "output_type": "stream",
     "text": [
      "\n"
     ]
    },
    {
     "name": "stdout",
     "output_type": "stream",
     "text": [
      "Train -  [0.6805555555555556, 0.5740740740740741, 0.6805555555555556, tensor(1.0787)]\n",
      "Validation -  [0.6076388888888888, 0.47685185185185186, 0.6076388888888888, tensor(1.1275)]\n",
      "\n",
      "Epoch  571\n"
     ]
    },
    {
     "name": "stderr",
     "output_type": "stream",
     "text": [
      "9it [00:00, 31.34it/s]"
     ]
    },
    {
     "name": "stdout",
     "output_type": "stream",
     "text": [
      "['acc', 'kappa', 'fmeasure', 'loss']\n",
      "Training Loss  1.1019072002834744\n"
     ]
    },
    {
     "name": "stderr",
     "output_type": "stream",
     "text": [
      "\n"
     ]
    },
    {
     "name": "stdout",
     "output_type": "stream",
     "text": [
      "Train -  [0.6805555555555556, 0.5740740740740741, 0.6805555555555556, tensor(1.0787)]\n",
      "Validation -  [0.6076388888888888, 0.47685185185185186, 0.6076388888888888, tensor(1.1275)]\n",
      "\n",
      "Epoch  572\n"
     ]
    },
    {
     "name": "stderr",
     "output_type": "stream",
     "text": [
      "9it [00:00, 30.16it/s]"
     ]
    },
    {
     "name": "stdout",
     "output_type": "stream",
     "text": [
      "['acc', 'kappa', 'fmeasure', 'loss']\n",
      "Training Loss  1.0871571169959173\n"
     ]
    },
    {
     "name": "stderr",
     "output_type": "stream",
     "text": [
      "\n"
     ]
    },
    {
     "name": "stdout",
     "output_type": "stream",
     "text": [
      "Train -  [0.6805555555555556, 0.5740740740740741, 0.6805555555555556, tensor(1.0787)]\n",
      "Validation -  [0.6076388888888888, 0.47685185185185186, 0.6076388888888888, tensor(1.1275)]\n",
      "\n",
      "Epoch  573\n"
     ]
    },
    {
     "name": "stderr",
     "output_type": "stream",
     "text": [
      "9it [00:00, 33.99it/s]"
     ]
    },
    {
     "name": "stdout",
     "output_type": "stream",
     "text": [
      "['acc', 'kappa', 'fmeasure', 'loss']\n",
      "Training Loss  1.112121754222446\n"
     ]
    },
    {
     "name": "stderr",
     "output_type": "stream",
     "text": [
      "\n"
     ]
    },
    {
     "name": "stdout",
     "output_type": "stream",
     "text": [
      "Train -  [0.6770833333333334, 0.5694444444444444, 0.6770833333333334, tensor(1.0784)]\n",
      "Validation -  [0.6041666666666666, 0.4722222222222222, 0.6041666666666666, tensor(1.1272)]\n",
      "\n",
      "Epoch  574\n"
     ]
    },
    {
     "name": "stderr",
     "output_type": "stream",
     "text": [
      "9it [00:00, 27.10it/s]"
     ]
    },
    {
     "name": "stdout",
     "output_type": "stream",
     "text": [
      "['acc', 'kappa', 'fmeasure', 'loss']\n",
      "Training Loss  1.10683360364702\n"
     ]
    },
    {
     "name": "stderr",
     "output_type": "stream",
     "text": [
      "\n"
     ]
    },
    {
     "name": "stdout",
     "output_type": "stream",
     "text": [
      "Train -  [0.6770833333333334, 0.5694444444444444, 0.6770833333333334, tensor(1.0786)]\n",
      "Validation -  [0.6041666666666666, 0.4722222222222222, 0.6041666666666666, tensor(1.1273)]\n",
      "\n",
      "Epoch  575\n"
     ]
    },
    {
     "name": "stderr",
     "output_type": "stream",
     "text": [
      "9it [00:00, 28.21it/s]"
     ]
    },
    {
     "name": "stdout",
     "output_type": "stream",
     "text": [
      "['acc', 'kappa', 'fmeasure', 'loss']\n",
      "Training Loss  1.0981929699579875\n"
     ]
    },
    {
     "name": "stderr",
     "output_type": "stream",
     "text": [
      "\n"
     ]
    },
    {
     "name": "stdout",
     "output_type": "stream",
     "text": [
      "Train -  [0.6770833333333334, 0.5694444444444444, 0.6770833333333334, tensor(1.0785)]\n",
      "Validation -  [0.6041666666666666, 0.4722222222222222, 0.6041666666666666, tensor(1.1272)]\n",
      "\n",
      "Epoch  576\n"
     ]
    },
    {
     "name": "stderr",
     "output_type": "stream",
     "text": [
      "9it [00:00, 30.05it/s]"
     ]
    },
    {
     "name": "stdout",
     "output_type": "stream",
     "text": [
      "['acc', 'kappa', 'fmeasure', 'loss']\n",
      "Training Loss  1.1102121273676555\n"
     ]
    },
    {
     "name": "stderr",
     "output_type": "stream",
     "text": [
      "\n"
     ]
    },
    {
     "name": "stdout",
     "output_type": "stream",
     "text": [
      "Train -  [0.6770833333333334, 0.5694444444444444, 0.6770833333333334, tensor(1.0787)]\n",
      "Validation -  [0.6041666666666666, 0.4722222222222222, 0.6041666666666666, tensor(1.1272)]\n",
      "\n",
      "Epoch  577\n"
     ]
    },
    {
     "name": "stderr",
     "output_type": "stream",
     "text": [
      "9it [00:00, 29.10it/s]"
     ]
    },
    {
     "name": "stdout",
     "output_type": "stream",
     "text": [
      "['acc', 'kappa', 'fmeasure', 'loss']\n",
      "Training Loss  1.0921418931749132\n"
     ]
    },
    {
     "name": "stderr",
     "output_type": "stream",
     "text": [
      "\n"
     ]
    },
    {
     "name": "stdout",
     "output_type": "stream",
     "text": [
      "Train -  [0.6736111111111112, 0.5648148148148149, 0.6736111111111112, tensor(1.0786)]\n",
      "Validation -  [0.6006944444444444, 0.46759259259259256, 0.6006944444444444, tensor(1.1270)]\n",
      "\n",
      "Epoch  578\n"
     ]
    },
    {
     "name": "stderr",
     "output_type": "stream",
     "text": [
      "9it [00:00, 30.96it/s]"
     ]
    },
    {
     "name": "stdout",
     "output_type": "stream",
     "text": [
      "['acc', 'kappa', 'fmeasure', 'loss']\n",
      "Training Loss  1.1011595063739352\n"
     ]
    },
    {
     "name": "stderr",
     "output_type": "stream",
     "text": [
      "\n"
     ]
    },
    {
     "name": "stdout",
     "output_type": "stream",
     "text": [
      "Train -  [0.6736111111111112, 0.5648148148148149, 0.6736111111111112, tensor(1.0786)]\n",
      "Validation -  [0.6041666666666666, 0.4722222222222222, 0.6041666666666666, tensor(1.1269)]\n",
      "\n",
      "Epoch  579\n"
     ]
    },
    {
     "name": "stderr",
     "output_type": "stream",
     "text": [
      "9it [00:00, 28.75it/s]"
     ]
    },
    {
     "name": "stdout",
     "output_type": "stream",
     "text": [
      "['acc', 'kappa', 'fmeasure', 'loss']\n",
      "Training Loss  1.1079933510886297\n"
     ]
    },
    {
     "name": "stderr",
     "output_type": "stream",
     "text": [
      "\n"
     ]
    },
    {
     "name": "stdout",
     "output_type": "stream",
     "text": [
      "Train -  [0.6736111111111112, 0.5648148148148149, 0.6736111111111112, tensor(1.0786)]\n",
      "Validation -  [0.6041666666666666, 0.4722222222222222, 0.6041666666666666, tensor(1.1269)]\n",
      "\n",
      "Epoch  580\n"
     ]
    },
    {
     "name": "stderr",
     "output_type": "stream",
     "text": [
      "9it [00:00, 27.38it/s]"
     ]
    },
    {
     "name": "stdout",
     "output_type": "stream",
     "text": [
      "['acc', 'kappa', 'fmeasure', 'loss']\n",
      "Training Loss  1.083464629120297\n"
     ]
    },
    {
     "name": "stderr",
     "output_type": "stream",
     "text": [
      "\n"
     ]
    },
    {
     "name": "stdout",
     "output_type": "stream",
     "text": [
      "Train -  [0.6736111111111112, 0.5648148148148149, 0.6736111111111112, tensor(1.0785)]\n",
      "Validation -  [0.6041666666666666, 0.4722222222222222, 0.6041666666666666, tensor(1.1269)]\n",
      "\n",
      "Epoch  581\n"
     ]
    },
    {
     "name": "stderr",
     "output_type": "stream",
     "text": [
      "9it [00:00, 25.43it/s]"
     ]
    },
    {
     "name": "stdout",
     "output_type": "stream",
     "text": [
      "['acc', 'kappa', 'fmeasure', 'loss']\n",
      "Training Loss  1.0863635142644246\n"
     ]
    },
    {
     "name": "stderr",
     "output_type": "stream",
     "text": [
      "\n"
     ]
    },
    {
     "name": "stdout",
     "output_type": "stream",
     "text": [
      "Train -  [0.6736111111111112, 0.5648148148148149, 0.6736111111111112, tensor(1.0783)]\n",
      "Validation -  [0.6006944444444444, 0.46759259259259256, 0.6006944444444444, tensor(1.1267)]\n",
      "\n",
      "Epoch  582\n"
     ]
    },
    {
     "name": "stderr",
     "output_type": "stream",
     "text": [
      "9it [00:00, 30.72it/s]"
     ]
    },
    {
     "name": "stdout",
     "output_type": "stream",
     "text": [
      "['acc', 'kappa', 'fmeasure', 'loss']\n",
      "Training Loss  1.0963167084587946\n"
     ]
    },
    {
     "name": "stderr",
     "output_type": "stream",
     "text": [
      "\n"
     ]
    },
    {
     "name": "stdout",
     "output_type": "stream",
     "text": [
      "Train -  [0.6736111111111112, 0.5648148148148149, 0.6736111111111112, tensor(1.0783)]\n",
      "Validation -  [0.6041666666666666, 0.4722222222222222, 0.6041666666666666, tensor(1.1266)]\n",
      "\n",
      "Epoch  583\n"
     ]
    },
    {
     "name": "stderr",
     "output_type": "stream",
     "text": [
      "9it [00:00, 27.57it/s]"
     ]
    },
    {
     "name": "stdout",
     "output_type": "stream",
     "text": [
      "['acc', 'kappa', 'fmeasure', 'loss']\n",
      "Training Loss  1.1001223988003201\n"
     ]
    },
    {
     "name": "stderr",
     "output_type": "stream",
     "text": [
      "\n"
     ]
    },
    {
     "name": "stdout",
     "output_type": "stream",
     "text": [
      "Train -  [0.6736111111111112, 0.5648148148148149, 0.6736111111111112, tensor(1.0784)]\n",
      "Validation -  [0.6041666666666666, 0.4722222222222222, 0.6041666666666666, tensor(1.1266)]\n",
      "\n",
      "Epoch  584\n"
     ]
    },
    {
     "name": "stderr",
     "output_type": "stream",
     "text": [
      "9it [00:00, 27.88it/s]"
     ]
    },
    {
     "name": "stdout",
     "output_type": "stream",
     "text": [
      "['acc', 'kappa', 'fmeasure', 'loss']\n",
      "Training Loss  1.0915843645731609\n"
     ]
    },
    {
     "name": "stderr",
     "output_type": "stream",
     "text": [
      "\n"
     ]
    },
    {
     "name": "stdout",
     "output_type": "stream",
     "text": [
      "Train -  [0.6736111111111112, 0.5648148148148149, 0.6736111111111112, tensor(1.0786)]\n",
      "Validation -  [0.6076388888888888, 0.47685185185185186, 0.6076388888888888, tensor(1.1268)]\n",
      "\n",
      "Epoch  585\n"
     ]
    },
    {
     "name": "stderr",
     "output_type": "stream",
     "text": [
      "9it [00:00, 27.57it/s]"
     ]
    },
    {
     "name": "stdout",
     "output_type": "stream",
     "text": [
      "['acc', 'kappa', 'fmeasure', 'loss']\n",
      "Training Loss  1.099455091688368\n"
     ]
    },
    {
     "name": "stderr",
     "output_type": "stream",
     "text": [
      "\n"
     ]
    },
    {
     "name": "stdout",
     "output_type": "stream",
     "text": [
      "Train -  [0.6736111111111112, 0.5648148148148149, 0.6736111111111112, tensor(1.0786)]\n",
      "Validation -  [0.6076388888888888, 0.47685185185185186, 0.6076388888888888, tensor(1.1267)]\n",
      "\n",
      "Epoch  586\n"
     ]
    },
    {
     "name": "stderr",
     "output_type": "stream",
     "text": [
      "9it [00:00, 29.13it/s]"
     ]
    },
    {
     "name": "stdout",
     "output_type": "stream",
     "text": [
      "['acc', 'kappa', 'fmeasure', 'loss']\n",
      "Training Loss  1.0936170286602445\n"
     ]
    },
    {
     "name": "stderr",
     "output_type": "stream",
     "text": [
      "\n"
     ]
    },
    {
     "name": "stdout",
     "output_type": "stream",
     "text": [
      "Train -  [0.6736111111111112, 0.5648148148148149, 0.6736111111111112, tensor(1.0785)]\n",
      "Validation -  [0.6076388888888888, 0.47685185185185186, 0.6076388888888888, tensor(1.1266)]\n",
      "\n",
      "Epoch  587\n"
     ]
    },
    {
     "name": "stderr",
     "output_type": "stream",
     "text": [
      "9it [00:00, 28.09it/s]"
     ]
    },
    {
     "name": "stdout",
     "output_type": "stream",
     "text": [
      "['acc', 'kappa', 'fmeasure', 'loss']\n",
      "Training Loss  1.0914675262239244\n"
     ]
    },
    {
     "name": "stderr",
     "output_type": "stream",
     "text": [
      "\n"
     ]
    },
    {
     "name": "stdout",
     "output_type": "stream",
     "text": [
      "Train -  [0.6736111111111112, 0.5648148148148149, 0.6736111111111112, tensor(1.0785)]\n",
      "Validation -  [0.6076388888888888, 0.47685185185185186, 0.6076388888888888, tensor(1.1266)]\n",
      "\n",
      "Epoch  588\n"
     ]
    },
    {
     "name": "stderr",
     "output_type": "stream",
     "text": [
      "9it [00:00, 31.58it/s]"
     ]
    },
    {
     "name": "stdout",
     "output_type": "stream",
     "text": [
      "['acc', 'kappa', 'fmeasure', 'loss']\n",
      "Training Loss  1.0968088308970134\n"
     ]
    },
    {
     "name": "stderr",
     "output_type": "stream",
     "text": [
      "\n"
     ]
    },
    {
     "name": "stdout",
     "output_type": "stream",
     "text": [
      "Train -  [0.6736111111111112, 0.5648148148148149, 0.6736111111111112, tensor(1.0786)]\n",
      "Validation -  [0.6041666666666666, 0.4722222222222222, 0.6041666666666666, tensor(1.1267)]\n",
      "\n",
      "Epoch  589\n"
     ]
    },
    {
     "name": "stderr",
     "output_type": "stream",
     "text": [
      "9it [00:00, 28.93it/s]"
     ]
    },
    {
     "name": "stdout",
     "output_type": "stream",
     "text": [
      "['acc', 'kappa', 'fmeasure', 'loss']\n",
      "Training Loss  1.0958091153038874\n"
     ]
    },
    {
     "name": "stderr",
     "output_type": "stream",
     "text": [
      "\n"
     ]
    },
    {
     "name": "stdout",
     "output_type": "stream",
     "text": [
      "Train -  [0.6770833333333334, 0.5694444444444444, 0.6770833333333334, tensor(1.0784)]\n",
      "Validation -  [0.6111111111111112, 0.4814814814814815, 0.6111111111111112, tensor(1.1265)]\n",
      "\n",
      "Epoch  590\n"
     ]
    },
    {
     "name": "stderr",
     "output_type": "stream",
     "text": [
      "9it [00:00, 29.04it/s]\n"
     ]
    },
    {
     "name": "stdout",
     "output_type": "stream",
     "text": [
      "['acc', 'kappa', 'fmeasure', 'loss']\n",
      "Training Loss  1.100924054781596\n",
      "Train -  [0.6770833333333334, 0.5694444444444444, 0.6770833333333334, tensor(1.0781)]\n",
      "Validation -  [0.6111111111111112, 0.4814814814814815, 0.6111111111111112, tensor(1.1262)]\n",
      "\n",
      "Epoch  591\n"
     ]
    },
    {
     "name": "stderr",
     "output_type": "stream",
     "text": [
      "9it [00:00, 30.71it/s]"
     ]
    },
    {
     "name": "stdout",
     "output_type": "stream",
     "text": [
      "['acc', 'kappa', 'fmeasure', 'loss']\n",
      "Training Loss  1.1118641561932034\n"
     ]
    },
    {
     "name": "stderr",
     "output_type": "stream",
     "text": [
      "\n"
     ]
    },
    {
     "name": "stdout",
     "output_type": "stream",
     "text": [
      "Train -  [0.6770833333333334, 0.5694444444444444, 0.6770833333333334, tensor(1.0782)]\n",
      "Validation -  [0.6111111111111112, 0.4814814814814815, 0.6111111111111112, tensor(1.1263)]\n",
      "\n",
      "Epoch  592\n"
     ]
    },
    {
     "name": "stderr",
     "output_type": "stream",
     "text": [
      "9it [00:00, 25.39it/s]"
     ]
    },
    {
     "name": "stdout",
     "output_type": "stream",
     "text": [
      "['acc', 'kappa', 'fmeasure', 'loss']\n",
      "Training Loss  1.0997427304585774\n"
     ]
    },
    {
     "name": "stderr",
     "output_type": "stream",
     "text": [
      "\n"
     ]
    },
    {
     "name": "stdout",
     "output_type": "stream",
     "text": [
      "Train -  [0.6770833333333334, 0.5694444444444444, 0.6770833333333334, tensor(1.0784)]\n",
      "Validation -  [0.6076388888888888, 0.47685185185185186, 0.6076388888888888, tensor(1.1264)]\n",
      "\n",
      "Epoch  593\n"
     ]
    },
    {
     "name": "stderr",
     "output_type": "stream",
     "text": [
      "9it [00:00, 28.37it/s]\n"
     ]
    },
    {
     "name": "stdout",
     "output_type": "stream",
     "text": [
      "['acc', 'kappa', 'fmeasure', 'loss']\n",
      "Training Loss  1.0903907749387953\n",
      "Train -  [0.6770833333333334, 0.5694444444444444, 0.6770833333333334, tensor(1.0784)]\n",
      "Validation -  [0.6111111111111112, 0.4814814814814815, 0.6111111111111112, tensor(1.1265)]\n",
      "\n",
      "Epoch  594\n"
     ]
    },
    {
     "name": "stderr",
     "output_type": "stream",
     "text": [
      "9it [00:00, 27.91it/s]"
     ]
    },
    {
     "name": "stdout",
     "output_type": "stream",
     "text": [
      "['acc', 'kappa', 'fmeasure', 'loss']\n",
      "Training Loss  1.1030324300130208\n"
     ]
    },
    {
     "name": "stderr",
     "output_type": "stream",
     "text": [
      "\n"
     ]
    },
    {
     "name": "stdout",
     "output_type": "stream",
     "text": [
      "Train -  [0.6770833333333334, 0.5694444444444444, 0.6770833333333334, tensor(1.0783)]\n",
      "Validation -  [0.6041666666666666, 0.4722222222222222, 0.6041666666666666, tensor(1.1266)]\n",
      "\n",
      "Epoch  595\n"
     ]
    },
    {
     "name": "stderr",
     "output_type": "stream",
     "text": [
      "9it [00:00, 31.91it/s]"
     ]
    },
    {
     "name": "stdout",
     "output_type": "stream",
     "text": [
      "['acc', 'kappa', 'fmeasure', 'loss']\n",
      "Training Loss  1.0900063117345173\n"
     ]
    },
    {
     "name": "stderr",
     "output_type": "stream",
     "text": [
      "\n"
     ]
    },
    {
     "name": "stdout",
     "output_type": "stream",
     "text": [
      "Train -  [0.6770833333333334, 0.5694444444444444, 0.6770833333333334, tensor(1.0784)]\n",
      "Validation -  [0.6076388888888888, 0.47685185185185186, 0.6076388888888888, tensor(1.1266)]\n",
      "\n",
      "Epoch  596\n"
     ]
    },
    {
     "name": "stderr",
     "output_type": "stream",
     "text": [
      "9it [00:00, 28.98it/s]"
     ]
    },
    {
     "name": "stdout",
     "output_type": "stream",
     "text": [
      "['acc', 'kappa', 'fmeasure', 'loss']\n",
      "Training Loss  1.0949816836251154\n"
     ]
    },
    {
     "name": "stderr",
     "output_type": "stream",
     "text": [
      "\n"
     ]
    },
    {
     "name": "stdout",
     "output_type": "stream",
     "text": [
      "Train -  [0.6770833333333334, 0.5694444444444444, 0.6770833333333334, tensor(1.0783)]\n",
      "Validation -  [0.6041666666666666, 0.4722222222222222, 0.6041666666666666, tensor(1.1265)]\n",
      "\n",
      "Epoch  597\n"
     ]
    },
    {
     "name": "stderr",
     "output_type": "stream",
     "text": [
      "9it [00:00, 27.40it/s]"
     ]
    },
    {
     "name": "stdout",
     "output_type": "stream",
     "text": [
      "['acc', 'kappa', 'fmeasure', 'loss']\n",
      "Training Loss  1.0899798207812839\n"
     ]
    },
    {
     "name": "stderr",
     "output_type": "stream",
     "text": [
      "\n"
     ]
    },
    {
     "name": "stdout",
     "output_type": "stream",
     "text": [
      "Train -  [0.6770833333333334, 0.5694444444444444, 0.6770833333333334, tensor(1.0783)]\n",
      "Validation -  [0.6076388888888888, 0.47685185185185186, 0.6076388888888888, tensor(1.1266)]\n",
      "\n",
      "Epoch  598\n"
     ]
    },
    {
     "name": "stderr",
     "output_type": "stream",
     "text": [
      "9it [00:00, 26.53it/s]"
     ]
    },
    {
     "name": "stdout",
     "output_type": "stream",
     "text": [
      "['acc', 'kappa', 'fmeasure', 'loss']\n",
      "Training Loss  1.1106272406048245\n"
     ]
    },
    {
     "name": "stderr",
     "output_type": "stream",
     "text": [
      "\n"
     ]
    },
    {
     "name": "stdout",
     "output_type": "stream",
     "text": [
      "Train -  [0.6770833333333334, 0.5694444444444444, 0.6770833333333334, tensor(1.0783)]\n",
      "Validation -  [0.6041666666666666, 0.4722222222222222, 0.6041666666666666, tensor(1.1265)]\n",
      "\n",
      "Epoch  599\n"
     ]
    },
    {
     "name": "stderr",
     "output_type": "stream",
     "text": [
      "9it [00:00, 26.81it/s]"
     ]
    },
    {
     "name": "stdout",
     "output_type": "stream",
     "text": [
      "['acc', 'kappa', 'fmeasure', 'loss']\n",
      "Training Loss  1.1009640163845487\n"
     ]
    },
    {
     "name": "stderr",
     "output_type": "stream",
     "text": [
      "\n"
     ]
    },
    {
     "name": "stdout",
     "output_type": "stream",
     "text": [
      "Train -  [0.6770833333333334, 0.5694444444444444, 0.6770833333333334, tensor(1.0781)]\n",
      "Validation -  [0.6076388888888888, 0.47685185185185186, 0.6076388888888888, tensor(1.1264)]\n",
      "\n",
      "Epoch  600\n"
     ]
    },
    {
     "name": "stderr",
     "output_type": "stream",
     "text": [
      "9it [00:00, 28.59it/s]"
     ]
    },
    {
     "name": "stdout",
     "output_type": "stream",
     "text": [
      "['acc', 'kappa', 'fmeasure', 'loss']\n",
      "Training Loss  1.1058080328835382\n"
     ]
    },
    {
     "name": "stderr",
     "output_type": "stream",
     "text": [
      "\n"
     ]
    },
    {
     "name": "stdout",
     "output_type": "stream",
     "text": [
      "Train -  [0.6770833333333334, 0.5694444444444444, 0.6770833333333334, tensor(1.0780)]\n",
      "Validation -  [0.6076388888888888, 0.47685185185185186, 0.6076388888888888, tensor(1.1263)]\n",
      "\n",
      "Epoch  601\n"
     ]
    },
    {
     "name": "stderr",
     "output_type": "stream",
     "text": [
      "9it [00:00, 28.83it/s]"
     ]
    },
    {
     "name": "stdout",
     "output_type": "stream",
     "text": [
      "['acc', 'kappa', 'fmeasure', 'loss']\n",
      "Training Loss  1.0977674590216742\n"
     ]
    },
    {
     "name": "stderr",
     "output_type": "stream",
     "text": [
      "\n"
     ]
    },
    {
     "name": "stdout",
     "output_type": "stream",
     "text": [
      "Train -  [0.6770833333333334, 0.5694444444444444, 0.6770833333333334, tensor(1.0782)]\n",
      "Validation -  [0.6076388888888888, 0.47685185185185186, 0.6076388888888888, tensor(1.1264)]\n",
      "\n",
      "Epoch  602\n"
     ]
    },
    {
     "name": "stderr",
     "output_type": "stream",
     "text": [
      "9it [00:00, 27.90it/s]"
     ]
    },
    {
     "name": "stdout",
     "output_type": "stream",
     "text": [
      "['acc', 'kappa', 'fmeasure', 'loss']\n",
      "Training Loss  1.0947936640845404\n"
     ]
    },
    {
     "name": "stderr",
     "output_type": "stream",
     "text": [
      "\n"
     ]
    },
    {
     "name": "stdout",
     "output_type": "stream",
     "text": [
      "Train -  [0.6770833333333334, 0.5694444444444444, 0.6770833333333334, tensor(1.0781)]\n",
      "Validation -  [0.6076388888888888, 0.47685185185185186, 0.6076388888888888, tensor(1.1264)]\n",
      "\n",
      "Epoch  603\n"
     ]
    },
    {
     "name": "stderr",
     "output_type": "stream",
     "text": [
      "9it [00:00, 28.51it/s]"
     ]
    },
    {
     "name": "stdout",
     "output_type": "stream",
     "text": [
      "['acc', 'kappa', 'fmeasure', 'loss']\n",
      "Training Loss  1.0883888403574626\n"
     ]
    },
    {
     "name": "stderr",
     "output_type": "stream",
     "text": [
      "\n"
     ]
    },
    {
     "name": "stdout",
     "output_type": "stream",
     "text": [
      "Train -  [0.6770833333333334, 0.5694444444444444, 0.6770833333333334, tensor(1.0781)]\n",
      "Validation -  [0.6076388888888888, 0.47685185185185186, 0.6076388888888888, tensor(1.1264)]\n",
      "\n",
      "Epoch  604\n"
     ]
    },
    {
     "name": "stderr",
     "output_type": "stream",
     "text": [
      "9it [00:00, 28.14it/s]"
     ]
    },
    {
     "name": "stdout",
     "output_type": "stream",
     "text": [
      "['acc', 'kappa', 'fmeasure', 'loss']\n",
      "Training Loss  1.0939670006434123\n"
     ]
    },
    {
     "name": "stderr",
     "output_type": "stream",
     "text": [
      "\n"
     ]
    },
    {
     "name": "stdout",
     "output_type": "stream",
     "text": [
      "Train -  [0.6770833333333334, 0.5694444444444444, 0.6770833333333334, tensor(1.0782)]\n",
      "Validation -  [0.6076388888888888, 0.47685185185185186, 0.6076388888888888, tensor(1.1265)]\n",
      "\n",
      "Epoch  605\n"
     ]
    },
    {
     "name": "stderr",
     "output_type": "stream",
     "text": [
      "9it [00:00, 32.78it/s]"
     ]
    },
    {
     "name": "stdout",
     "output_type": "stream",
     "text": [
      "['acc', 'kappa', 'fmeasure', 'loss']\n",
      "Training Loss  1.0821182860268488\n"
     ]
    },
    {
     "name": "stderr",
     "output_type": "stream",
     "text": [
      "\n"
     ]
    },
    {
     "name": "stdout",
     "output_type": "stream",
     "text": [
      "Train -  [0.6770833333333334, 0.5694444444444444, 0.6770833333333334, tensor(1.0781)]\n",
      "Validation -  [0.6076388888888888, 0.47685185185185186, 0.6076388888888888, tensor(1.1264)]\n",
      "\n",
      "Epoch  606\n"
     ]
    },
    {
     "name": "stderr",
     "output_type": "stream",
     "text": [
      "9it [00:00, 24.92it/s]"
     ]
    },
    {
     "name": "stdout",
     "output_type": "stream",
     "text": [
      "['acc', 'kappa', 'fmeasure', 'loss']\n",
      "Training Loss  1.0930952098634508\n"
     ]
    },
    {
     "name": "stderr",
     "output_type": "stream",
     "text": [
      "\n"
     ]
    },
    {
     "name": "stdout",
     "output_type": "stream",
     "text": [
      "Train -  [0.6770833333333334, 0.5694444444444444, 0.6770833333333334, tensor(1.0780)]\n",
      "Validation -  [0.6076388888888888, 0.47685185185185186, 0.6076388888888888, tensor(1.1263)]\n",
      "\n",
      "Epoch  607\n"
     ]
    },
    {
     "name": "stderr",
     "output_type": "stream",
     "text": [
      "9it [00:00, 32.09it/s]"
     ]
    },
    {
     "name": "stdout",
     "output_type": "stream",
     "text": [
      "['acc', 'kappa', 'fmeasure', 'loss']\n",
      "Training Loss  1.1070969502131145\n"
     ]
    },
    {
     "name": "stderr",
     "output_type": "stream",
     "text": [
      "\n"
     ]
    },
    {
     "name": "stdout",
     "output_type": "stream",
     "text": [
      "Train -  [0.6770833333333334, 0.5694444444444444, 0.6770833333333334, tensor(1.0781)]\n",
      "Validation -  [0.6076388888888888, 0.47685185185185186, 0.6076388888888888, tensor(1.1264)]\n",
      "\n",
      "Epoch  608\n"
     ]
    },
    {
     "name": "stderr",
     "output_type": "stream",
     "text": [
      "9it [00:00, 28.37it/s]"
     ]
    },
    {
     "name": "stdout",
     "output_type": "stream",
     "text": [
      "['acc', 'kappa', 'fmeasure', 'loss']\n",
      "Training Loss  1.1081375413470798\n"
     ]
    },
    {
     "name": "stderr",
     "output_type": "stream",
     "text": [
      "\n"
     ]
    },
    {
     "name": "stdout",
     "output_type": "stream",
     "text": [
      "Train -  [0.6770833333333334, 0.5694444444444444, 0.6770833333333334, tensor(1.0782)]\n",
      "Validation -  [0.6076388888888888, 0.47685185185185186, 0.6076388888888888, tensor(1.1264)]\n",
      "\n",
      "Epoch  609\n"
     ]
    },
    {
     "name": "stderr",
     "output_type": "stream",
     "text": [
      "9it [00:00, 29.83it/s]"
     ]
    },
    {
     "name": "stdout",
     "output_type": "stream",
     "text": [
      "['acc', 'kappa', 'fmeasure', 'loss']\n",
      "Training Loss  1.1043908993403118\n"
     ]
    },
    {
     "name": "stderr",
     "output_type": "stream",
     "text": [
      "\n"
     ]
    },
    {
     "name": "stdout",
     "output_type": "stream",
     "text": [
      "Train -  [0.6770833333333334, 0.5694444444444444, 0.6770833333333334, tensor(1.0782)]\n",
      "Validation -  [0.6076388888888888, 0.47685185185185186, 0.6076388888888888, tensor(1.1265)]\n",
      "\n",
      "Epoch  610\n"
     ]
    },
    {
     "name": "stderr",
     "output_type": "stream",
     "text": [
      "9it [00:00, 31.77it/s]"
     ]
    },
    {
     "name": "stdout",
     "output_type": "stream",
     "text": [
      "['acc', 'kappa', 'fmeasure', 'loss']\n",
      "Training Loss  1.1037453479237027\n"
     ]
    },
    {
     "name": "stderr",
     "output_type": "stream",
     "text": [
      "\n"
     ]
    },
    {
     "name": "stdout",
     "output_type": "stream",
     "text": [
      "Train -  [0.6770833333333334, 0.5694444444444444, 0.6770833333333334, tensor(1.0781)]\n",
      "Validation -  [0.6076388888888888, 0.47685185185185186, 0.6076388888888888, tensor(1.1264)]\n",
      "\n",
      "Epoch  611\n"
     ]
    },
    {
     "name": "stderr",
     "output_type": "stream",
     "text": [
      "9it [00:00, 25.62it/s]"
     ]
    },
    {
     "name": "stdout",
     "output_type": "stream",
     "text": [
      "['acc', 'kappa', 'fmeasure', 'loss']\n",
      "Training Loss  1.1115133232540555\n"
     ]
    },
    {
     "name": "stderr",
     "output_type": "stream",
     "text": [
      "\n"
     ]
    },
    {
     "name": "stdout",
     "output_type": "stream",
     "text": [
      "Train -  [0.6770833333333334, 0.5694444444444444, 0.6770833333333334, tensor(1.0780)]\n",
      "Validation -  [0.6076388888888888, 0.47685185185185186, 0.6076388888888888, tensor(1.1263)]\n",
      "\n",
      "Epoch  612\n"
     ]
    },
    {
     "name": "stderr",
     "output_type": "stream",
     "text": [
      "9it [00:00, 27.02it/s]"
     ]
    },
    {
     "name": "stdout",
     "output_type": "stream",
     "text": [
      "['acc', 'kappa', 'fmeasure', 'loss']\n",
      "Training Loss  1.0981292459699843\n"
     ]
    },
    {
     "name": "stderr",
     "output_type": "stream",
     "text": [
      "\n"
     ]
    },
    {
     "name": "stdout",
     "output_type": "stream",
     "text": [
      "Train -  [0.6770833333333334, 0.5694444444444444, 0.6770833333333334, tensor(1.0781)]\n",
      "Validation -  [0.6076388888888888, 0.47685185185185186, 0.6076388888888888, tensor(1.1264)]\n",
      "\n",
      "Epoch  613\n"
     ]
    },
    {
     "name": "stderr",
     "output_type": "stream",
     "text": [
      "9it [00:00, 28.33it/s]"
     ]
    },
    {
     "name": "stdout",
     "output_type": "stream",
     "text": [
      "['acc', 'kappa', 'fmeasure', 'loss']\n",
      "Training Loss  1.090166641606225\n"
     ]
    },
    {
     "name": "stderr",
     "output_type": "stream",
     "text": [
      "\n"
     ]
    },
    {
     "name": "stdout",
     "output_type": "stream",
     "text": [
      "Train -  [0.6770833333333334, 0.5694444444444444, 0.6770833333333334, tensor(1.0783)]\n",
      "Validation -  [0.6076388888888888, 0.47685185185185186, 0.6076388888888888, tensor(1.1266)]\n",
      "\n",
      "Epoch  614\n"
     ]
    },
    {
     "name": "stderr",
     "output_type": "stream",
     "text": [
      "9it [00:00, 26.40it/s]"
     ]
    },
    {
     "name": "stdout",
     "output_type": "stream",
     "text": [
      "['acc', 'kappa', 'fmeasure', 'loss']\n",
      "Training Loss  1.0896755192014906\n"
     ]
    },
    {
     "name": "stderr",
     "output_type": "stream",
     "text": [
      "\n"
     ]
    },
    {
     "name": "stdout",
     "output_type": "stream",
     "text": [
      "Train -  [0.6770833333333334, 0.5694444444444444, 0.6770833333333334, tensor(1.0781)]\n",
      "Validation -  [0.6076388888888888, 0.47685185185185186, 0.6076388888888888, tensor(1.1264)]\n",
      "\n",
      "Epoch  615\n"
     ]
    },
    {
     "name": "stderr",
     "output_type": "stream",
     "text": [
      "9it [00:00, 28.25it/s]"
     ]
    },
    {
     "name": "stdout",
     "output_type": "stream",
     "text": [
      "['acc', 'kappa', 'fmeasure', 'loss']\n",
      "Training Loss  1.1120512088139851\n"
     ]
    },
    {
     "name": "stderr",
     "output_type": "stream",
     "text": [
      "\n"
     ]
    },
    {
     "name": "stdout",
     "output_type": "stream",
     "text": [
      "Train -  [0.6770833333333334, 0.5694444444444444, 0.6770833333333334, tensor(1.0782)]\n",
      "Validation -  [0.6076388888888888, 0.47685185185185186, 0.6076388888888888, tensor(1.1264)]\n",
      "\n",
      "Epoch  616\n"
     ]
    },
    {
     "name": "stderr",
     "output_type": "stream",
     "text": [
      "9it [00:00, 28.97it/s]"
     ]
    },
    {
     "name": "stdout",
     "output_type": "stream",
     "text": [
      "['acc', 'kappa', 'fmeasure', 'loss']\n",
      "Training Loss  1.0915436744689941\n"
     ]
    },
    {
     "name": "stderr",
     "output_type": "stream",
     "text": [
      "\n"
     ]
    },
    {
     "name": "stdout",
     "output_type": "stream",
     "text": [
      "Train -  [0.6770833333333334, 0.5694444444444444, 0.6770833333333334, tensor(1.0781)]\n",
      "Validation -  [0.6076388888888888, 0.47685185185185186, 0.6076388888888888, tensor(1.1264)]\n",
      "\n",
      "Epoch  617\n"
     ]
    },
    {
     "name": "stderr",
     "output_type": "stream",
     "text": [
      "9it [00:00, 23.93it/s]"
     ]
    },
    {
     "name": "stdout",
     "output_type": "stream",
     "text": [
      "['acc', 'kappa', 'fmeasure', 'loss']\n",
      "Training Loss  1.104156129890018\n"
     ]
    },
    {
     "name": "stderr",
     "output_type": "stream",
     "text": [
      "\n"
     ]
    },
    {
     "name": "stdout",
     "output_type": "stream",
     "text": [
      "Train -  [0.6770833333333334, 0.5694444444444444, 0.6770833333333334, tensor(1.0784)]\n",
      "Validation -  [0.6076388888888888, 0.47685185185185186, 0.6076388888888888, tensor(1.1267)]\n",
      "\n",
      "Epoch  618\n"
     ]
    },
    {
     "name": "stderr",
     "output_type": "stream",
     "text": [
      "9it [00:00, 29.80it/s]"
     ]
    },
    {
     "name": "stdout",
     "output_type": "stream",
     "text": [
      "['acc', 'kappa', 'fmeasure', 'loss']\n",
      "Training Loss  1.098033951388465\n"
     ]
    },
    {
     "name": "stderr",
     "output_type": "stream",
     "text": [
      "\n"
     ]
    },
    {
     "name": "stdout",
     "output_type": "stream",
     "text": [
      "Train -  [0.6770833333333334, 0.5694444444444444, 0.6770833333333334, tensor(1.0783)]\n",
      "Validation -  [0.6076388888888888, 0.47685185185185186, 0.6076388888888888, tensor(1.1266)]\n",
      "\n",
      "Epoch  619\n"
     ]
    },
    {
     "name": "stderr",
     "output_type": "stream",
     "text": [
      "9it [00:00, 29.48it/s]"
     ]
    },
    {
     "name": "stdout",
     "output_type": "stream",
     "text": [
      "['acc', 'kappa', 'fmeasure', 'loss']\n",
      "Training Loss  1.104890889591641\n"
     ]
    },
    {
     "name": "stderr",
     "output_type": "stream",
     "text": [
      "\n"
     ]
    },
    {
     "name": "stdout",
     "output_type": "stream",
     "text": [
      "Train -  [0.6770833333333334, 0.5694444444444444, 0.6770833333333334, tensor(1.0782)]\n",
      "Validation -  [0.6076388888888888, 0.47685185185185186, 0.6076388888888888, tensor(1.1264)]\n",
      "\n",
      "Epoch  620\n"
     ]
    },
    {
     "name": "stderr",
     "output_type": "stream",
     "text": [
      "9it [00:00, 34.14it/s]"
     ]
    },
    {
     "name": "stdout",
     "output_type": "stream",
     "text": [
      "['acc', 'kappa', 'fmeasure', 'loss']\n",
      "Training Loss  1.0941532717810736\n"
     ]
    },
    {
     "name": "stderr",
     "output_type": "stream",
     "text": [
      "\n"
     ]
    },
    {
     "name": "stdout",
     "output_type": "stream",
     "text": [
      "Train -  [0.6770833333333334, 0.5694444444444444, 0.6770833333333334, tensor(1.0780)]\n",
      "Validation -  [0.6076388888888888, 0.47685185185185186, 0.6076388888888888, tensor(1.1264)]\n",
      "\n",
      "Epoch  621\n"
     ]
    },
    {
     "name": "stderr",
     "output_type": "stream",
     "text": [
      "9it [00:00, 28.47it/s]"
     ]
    },
    {
     "name": "stdout",
     "output_type": "stream",
     "text": [
      "['acc', 'kappa', 'fmeasure', 'loss']\n",
      "Training Loss  1.0947637557983398\n"
     ]
    },
    {
     "name": "stderr",
     "output_type": "stream",
     "text": [
      "\n"
     ]
    },
    {
     "name": "stdout",
     "output_type": "stream",
     "text": [
      "Train -  [0.6770833333333334, 0.5694444444444444, 0.6770833333333334, tensor(1.0779)]\n",
      "Validation -  [0.6076388888888888, 0.47685185185185186, 0.6076388888888888, tensor(1.1262)]\n",
      "\n",
      "Epoch  622\n"
     ]
    },
    {
     "name": "stderr",
     "output_type": "stream",
     "text": [
      "9it [00:00, 30.86it/s]"
     ]
    },
    {
     "name": "stdout",
     "output_type": "stream",
     "text": [
      "['acc', 'kappa', 'fmeasure', 'loss']\n",
      "Training Loss  1.1124729845258925\n"
     ]
    },
    {
     "name": "stderr",
     "output_type": "stream",
     "text": [
      "\n"
     ]
    },
    {
     "name": "stdout",
     "output_type": "stream",
     "text": [
      "Train -  [0.6770833333333334, 0.5694444444444444, 0.6770833333333334, tensor(1.0781)]\n",
      "Validation -  [0.6076388888888888, 0.47685185185185186, 0.6076388888888888, tensor(1.1264)]\n",
      "\n",
      "Epoch  623\n"
     ]
    },
    {
     "name": "stderr",
     "output_type": "stream",
     "text": [
      "9it [00:00, 33.82it/s]"
     ]
    },
    {
     "name": "stdout",
     "output_type": "stream",
     "text": [
      "['acc', 'kappa', 'fmeasure', 'loss']\n",
      "Training Loss  1.1147603856192694\n"
     ]
    },
    {
     "name": "stderr",
     "output_type": "stream",
     "text": [
      "\n"
     ]
    },
    {
     "name": "stdout",
     "output_type": "stream",
     "text": [
      "Train -  [0.6770833333333334, 0.5694444444444444, 0.6770833333333334, tensor(1.0782)]\n",
      "Validation -  [0.6076388888888888, 0.47685185185185186, 0.6076388888888888, tensor(1.1265)]\n",
      "\n",
      "Epoch  624\n"
     ]
    },
    {
     "name": "stderr",
     "output_type": "stream",
     "text": [
      "9it [00:00, 27.26it/s]"
     ]
    },
    {
     "name": "stdout",
     "output_type": "stream",
     "text": [
      "['acc', 'kappa', 'fmeasure', 'loss']\n",
      "Training Loss  1.106939262813992\n"
     ]
    },
    {
     "name": "stderr",
     "output_type": "stream",
     "text": [
      "\n"
     ]
    },
    {
     "name": "stdout",
     "output_type": "stream",
     "text": [
      "Train -  [0.6770833333333334, 0.5694444444444444, 0.6770833333333334, tensor(1.0782)]\n",
      "Validation -  [0.6076388888888888, 0.47685185185185186, 0.6076388888888888, tensor(1.1265)]\n",
      "\n",
      "Epoch  625\n"
     ]
    },
    {
     "name": "stderr",
     "output_type": "stream",
     "text": [
      "9it [00:00, 28.27it/s]"
     ]
    },
    {
     "name": "stdout",
     "output_type": "stream",
     "text": [
      "['acc', 'kappa', 'fmeasure', 'loss']\n",
      "Training Loss  1.100667224989997\n"
     ]
    },
    {
     "name": "stderr",
     "output_type": "stream",
     "text": [
      "\n"
     ]
    },
    {
     "name": "stdout",
     "output_type": "stream",
     "text": [
      "Train -  [0.6770833333333334, 0.5694444444444444, 0.6770833333333334, tensor(1.0782)]\n",
      "Validation -  [0.6041666666666666, 0.4722222222222222, 0.6041666666666666, tensor(1.1264)]\n",
      "\n",
      "Epoch  626\n"
     ]
    },
    {
     "name": "stderr",
     "output_type": "stream",
     "text": [
      "9it [00:00, 28.93it/s]\n"
     ]
    },
    {
     "name": "stdout",
     "output_type": "stream",
     "text": [
      "['acc', 'kappa', 'fmeasure', 'loss']\n",
      "Training Loss  1.0998586416244507\n",
      "Train -  [0.6770833333333334, 0.5694444444444444, 0.6770833333333334, tensor(1.0782)]\n",
      "Validation -  [0.6041666666666666, 0.4722222222222222, 0.6041666666666666, tensor(1.1264)]\n",
      "\n",
      "Epoch  627\n"
     ]
    },
    {
     "name": "stderr",
     "output_type": "stream",
     "text": [
      "9it [00:00, 31.93it/s]"
     ]
    },
    {
     "name": "stdout",
     "output_type": "stream",
     "text": [
      "['acc', 'kappa', 'fmeasure', 'loss']\n",
      "Training Loss  1.1055557197994657\n"
     ]
    },
    {
     "name": "stderr",
     "output_type": "stream",
     "text": [
      "\n"
     ]
    },
    {
     "name": "stdout",
     "output_type": "stream",
     "text": [
      "Train -  [0.6770833333333334, 0.5694444444444444, 0.6770833333333334, tensor(1.0782)]\n",
      "Validation -  [0.6041666666666666, 0.4722222222222222, 0.6041666666666666, tensor(1.1264)]\n",
      "\n",
      "Epoch  628\n"
     ]
    },
    {
     "name": "stderr",
     "output_type": "stream",
     "text": [
      "9it [00:00, 31.48it/s]"
     ]
    },
    {
     "name": "stdout",
     "output_type": "stream",
     "text": [
      "['acc', 'kappa', 'fmeasure', 'loss']\n",
      "Training Loss  1.0985306368933783\n"
     ]
    },
    {
     "name": "stderr",
     "output_type": "stream",
     "text": [
      "\n"
     ]
    },
    {
     "name": "stdout",
     "output_type": "stream",
     "text": [
      "Train -  [0.6770833333333334, 0.5694444444444444, 0.6770833333333334, tensor(1.0781)]\n",
      "Validation -  [0.6076388888888888, 0.47685185185185186, 0.6076388888888888, tensor(1.1263)]\n",
      "\n",
      "Epoch  629\n"
     ]
    },
    {
     "name": "stderr",
     "output_type": "stream",
     "text": [
      "9it [00:00, 25.02it/s]"
     ]
    },
    {
     "name": "stdout",
     "output_type": "stream",
     "text": [
      "['acc', 'kappa', 'fmeasure', 'loss']\n",
      "Training Loss  1.094386272960239\n"
     ]
    },
    {
     "name": "stderr",
     "output_type": "stream",
     "text": [
      "\n"
     ]
    },
    {
     "name": "stdout",
     "output_type": "stream",
     "text": [
      "Train -  [0.6770833333333334, 0.5694444444444444, 0.6770833333333334, tensor(1.0782)]\n",
      "Validation -  [0.6041666666666666, 0.4722222222222222, 0.6041666666666666, tensor(1.1264)]\n",
      "\n",
      "Epoch  630\n"
     ]
    },
    {
     "name": "stderr",
     "output_type": "stream",
     "text": [
      "9it [00:00, 29.98it/s]"
     ]
    },
    {
     "name": "stdout",
     "output_type": "stream",
     "text": [
      "['acc', 'kappa', 'fmeasure', 'loss']\n",
      "Training Loss  1.0853309101528592\n"
     ]
    },
    {
     "name": "stderr",
     "output_type": "stream",
     "text": [
      "\n"
     ]
    },
    {
     "name": "stdout",
     "output_type": "stream",
     "text": [
      "Train -  [0.6770833333333334, 0.5694444444444444, 0.6770833333333334, tensor(1.0782)]\n",
      "Validation -  [0.6041666666666666, 0.4722222222222222, 0.6041666666666666, tensor(1.1264)]\n",
      "\n",
      "Epoch  631\n"
     ]
    },
    {
     "name": "stderr",
     "output_type": "stream",
     "text": [
      "9it [00:00, 27.05it/s]"
     ]
    },
    {
     "name": "stdout",
     "output_type": "stream",
     "text": [
      "['acc', 'kappa', 'fmeasure', 'loss']\n",
      "Training Loss  1.1006231837802463\n"
     ]
    },
    {
     "name": "stderr",
     "output_type": "stream",
     "text": [
      "\n"
     ]
    },
    {
     "name": "stdout",
     "output_type": "stream",
     "text": [
      "Train -  [0.6770833333333334, 0.5694444444444444, 0.6770833333333334, tensor(1.0782)]\n",
      "Validation -  [0.6076388888888888, 0.47685185185185186, 0.6076388888888888, tensor(1.1264)]\n",
      "\n",
      "Epoch  632\n"
     ]
    },
    {
     "name": "stderr",
     "output_type": "stream",
     "text": [
      "9it [00:00, 26.01it/s]"
     ]
    },
    {
     "name": "stdout",
     "output_type": "stream",
     "text": [
      "['acc', 'kappa', 'fmeasure', 'loss']\n",
      "Training Loss  1.0999775462680392\n"
     ]
    },
    {
     "name": "stderr",
     "output_type": "stream",
     "text": [
      "\n"
     ]
    },
    {
     "name": "stdout",
     "output_type": "stream",
     "text": [
      "Train -  [0.6770833333333334, 0.5694444444444444, 0.6770833333333334, tensor(1.0782)]\n",
      "Validation -  [0.6076388888888888, 0.47685185185185186, 0.6076388888888888, tensor(1.1264)]\n",
      "\n",
      "Epoch  633\n"
     ]
    },
    {
     "name": "stderr",
     "output_type": "stream",
     "text": [
      "9it [00:00, 26.80it/s]"
     ]
    },
    {
     "name": "stdout",
     "output_type": "stream",
     "text": [
      "['acc', 'kappa', 'fmeasure', 'loss']\n",
      "Training Loss  1.0762226581573486\n"
     ]
    },
    {
     "name": "stderr",
     "output_type": "stream",
     "text": [
      "\n"
     ]
    },
    {
     "name": "stdout",
     "output_type": "stream",
     "text": [
      "Train -  [0.6770833333333334, 0.5694444444444444, 0.6770833333333334, tensor(1.0783)]\n",
      "Validation -  [0.6041666666666666, 0.4722222222222222, 0.6041666666666666, tensor(1.1265)]\n",
      "\n",
      "Epoch  634\n"
     ]
    },
    {
     "name": "stderr",
     "output_type": "stream",
     "text": [
      "9it [00:00, 26.01it/s]"
     ]
    },
    {
     "name": "stdout",
     "output_type": "stream",
     "text": [
      "['acc', 'kappa', 'fmeasure', 'loss']\n",
      "Training Loss  1.0976061423619587\n"
     ]
    },
    {
     "name": "stderr",
     "output_type": "stream",
     "text": [
      "\n"
     ]
    },
    {
     "name": "stdout",
     "output_type": "stream",
     "text": [
      "Train -  [0.6770833333333334, 0.5694444444444444, 0.6770833333333334, tensor(1.0782)]\n",
      "Validation -  [0.6041666666666666, 0.4722222222222222, 0.6041666666666666, tensor(1.1264)]\n",
      "\n",
      "Epoch  635\n"
     ]
    },
    {
     "name": "stderr",
     "output_type": "stream",
     "text": [
      "9it [00:00, 26.61it/s]"
     ]
    },
    {
     "name": "stdout",
     "output_type": "stream",
     "text": [
      "['acc', 'kappa', 'fmeasure', 'loss']\n",
      "Training Loss  1.0993012454774644\n"
     ]
    },
    {
     "name": "stderr",
     "output_type": "stream",
     "text": [
      "\n"
     ]
    },
    {
     "name": "stdout",
     "output_type": "stream",
     "text": [
      "Train -  [0.6770833333333334, 0.5694444444444444, 0.6770833333333334, tensor(1.0782)]\n",
      "Validation -  [0.6076388888888888, 0.47685185185185186, 0.6076388888888888, tensor(1.1265)]\n",
      "\n",
      "Epoch  636\n"
     ]
    },
    {
     "name": "stderr",
     "output_type": "stream",
     "text": [
      "9it [00:00, 27.89it/s]"
     ]
    },
    {
     "name": "stdout",
     "output_type": "stream",
     "text": [
      "['acc', 'kappa', 'fmeasure', 'loss']\n",
      "Training Loss  1.1064842806922064\n"
     ]
    },
    {
     "name": "stderr",
     "output_type": "stream",
     "text": [
      "\n"
     ]
    },
    {
     "name": "stdout",
     "output_type": "stream",
     "text": [
      "Train -  [0.6770833333333334, 0.5694444444444444, 0.6770833333333334, tensor(1.0782)]\n",
      "Validation -  [0.6076388888888888, 0.47685185185185186, 0.6076388888888888, tensor(1.1265)]\n",
      "\n",
      "Epoch  637\n"
     ]
    },
    {
     "name": "stderr",
     "output_type": "stream",
     "text": [
      "9it [00:00, 27.34it/s]"
     ]
    },
    {
     "name": "stdout",
     "output_type": "stream",
     "text": [
      "['acc', 'kappa', 'fmeasure', 'loss']\n",
      "Training Loss  1.091216696633233\n"
     ]
    },
    {
     "name": "stderr",
     "output_type": "stream",
     "text": [
      "\n"
     ]
    },
    {
     "name": "stdout",
     "output_type": "stream",
     "text": [
      "Train -  [0.6770833333333334, 0.5694444444444444, 0.6770833333333334, tensor(1.0783)]\n",
      "Validation -  [0.6076388888888888, 0.47685185185185186, 0.6076388888888888, tensor(1.1265)]\n",
      "\n",
      "Epoch  638\n"
     ]
    },
    {
     "name": "stderr",
     "output_type": "stream",
     "text": [
      "9it [00:00, 26.24it/s]"
     ]
    },
    {
     "name": "stdout",
     "output_type": "stream",
     "text": [
      "['acc', 'kappa', 'fmeasure', 'loss']\n",
      "Training Loss  1.094104488690694\n"
     ]
    },
    {
     "name": "stderr",
     "output_type": "stream",
     "text": [
      "\n"
     ]
    },
    {
     "name": "stdout",
     "output_type": "stream",
     "text": [
      "Train -  [0.6770833333333334, 0.5694444444444444, 0.6770833333333334, tensor(1.0781)]\n",
      "Validation -  [0.6041666666666666, 0.4722222222222222, 0.6041666666666666, tensor(1.1264)]\n",
      "\n",
      "Epoch  639\n"
     ]
    },
    {
     "name": "stderr",
     "output_type": "stream",
     "text": [
      "9it [00:00, 32.71it/s]"
     ]
    },
    {
     "name": "stdout",
     "output_type": "stream",
     "text": [
      "['acc', 'kappa', 'fmeasure', 'loss']\n",
      "Training Loss  1.1001373529434204\n"
     ]
    },
    {
     "name": "stderr",
     "output_type": "stream",
     "text": [
      "\n"
     ]
    },
    {
     "name": "stdout",
     "output_type": "stream",
     "text": [
      "Train -  [0.6770833333333334, 0.5694444444444444, 0.6770833333333334, tensor(1.0782)]\n",
      "Validation -  [0.6076388888888888, 0.47685185185185186, 0.6076388888888888, tensor(1.1264)]\n",
      "\n",
      "Epoch  640\n"
     ]
    },
    {
     "name": "stderr",
     "output_type": "stream",
     "text": [
      "9it [00:00, 31.30it/s]"
     ]
    },
    {
     "name": "stdout",
     "output_type": "stream",
     "text": [
      "['acc', 'kappa', 'fmeasure', 'loss']\n",
      "Training Loss  1.0951319800482855\n"
     ]
    },
    {
     "name": "stderr",
     "output_type": "stream",
     "text": [
      "\n"
     ]
    },
    {
     "name": "stdout",
     "output_type": "stream",
     "text": [
      "Train -  [0.6770833333333334, 0.5694444444444444, 0.6770833333333334, tensor(1.0783)]\n",
      "Validation -  [0.6076388888888888, 0.47685185185185186, 0.6076388888888888, tensor(1.1266)]\n",
      "\n",
      "Epoch  641\n"
     ]
    },
    {
     "name": "stderr",
     "output_type": "stream",
     "text": [
      "9it [00:00, 29.78it/s]"
     ]
    },
    {
     "name": "stdout",
     "output_type": "stream",
     "text": [
      "['acc', 'kappa', 'fmeasure', 'loss']\n",
      "Training Loss  1.0972061422136095\n"
     ]
    },
    {
     "name": "stderr",
     "output_type": "stream",
     "text": [
      "\n"
     ]
    },
    {
     "name": "stdout",
     "output_type": "stream",
     "text": [
      "Train -  [0.6770833333333334, 0.5694444444444444, 0.6770833333333334, tensor(1.0781)]\n",
      "Validation -  [0.6041666666666666, 0.4722222222222222, 0.6041666666666666, tensor(1.1264)]\n",
      "\n",
      "Epoch  642\n"
     ]
    },
    {
     "name": "stderr",
     "output_type": "stream",
     "text": [
      "9it [00:00, 26.94it/s]"
     ]
    },
    {
     "name": "stdout",
     "output_type": "stream",
     "text": [
      "['acc', 'kappa', 'fmeasure', 'loss']\n",
      "Training Loss  1.0986709992090862\n"
     ]
    },
    {
     "name": "stderr",
     "output_type": "stream",
     "text": [
      "\n"
     ]
    },
    {
     "name": "stdout",
     "output_type": "stream",
     "text": [
      "Train -  [0.6770833333333334, 0.5694444444444444, 0.6770833333333334, tensor(1.0780)]\n",
      "Validation -  [0.6041666666666666, 0.4722222222222222, 0.6041666666666666, tensor(1.1263)]\n",
      "\n",
      "Epoch  643\n"
     ]
    },
    {
     "name": "stderr",
     "output_type": "stream",
     "text": [
      "9it [00:00, 29.49it/s]\n"
     ]
    },
    {
     "name": "stdout",
     "output_type": "stream",
     "text": [
      "['acc', 'kappa', 'fmeasure', 'loss']\n",
      "Training Loss  1.1096592611736722\n",
      "Train -  [0.6770833333333334, 0.5694444444444444, 0.6770833333333334, tensor(1.0779)]\n",
      "Validation -  [0.6041666666666666, 0.4722222222222222, 0.6041666666666666, tensor(1.1262)]\n",
      "\n",
      "Epoch  644\n"
     ]
    },
    {
     "name": "stderr",
     "output_type": "stream",
     "text": [
      "9it [00:00, 26.92it/s]"
     ]
    },
    {
     "name": "stdout",
     "output_type": "stream",
     "text": [
      "['acc', 'kappa', 'fmeasure', 'loss']\n",
      "Training Loss  1.102657159169515\n"
     ]
    },
    {
     "name": "stderr",
     "output_type": "stream",
     "text": [
      "\n"
     ]
    },
    {
     "name": "stdout",
     "output_type": "stream",
     "text": [
      "Train -  [0.6770833333333334, 0.5694444444444444, 0.6770833333333334, tensor(1.0781)]\n",
      "Validation -  [0.6041666666666666, 0.4722222222222222, 0.6041666666666666, tensor(1.1264)]\n",
      "\n",
      "Epoch  645\n"
     ]
    },
    {
     "name": "stderr",
     "output_type": "stream",
     "text": [
      "9it [00:00, 30.69it/s]"
     ]
    },
    {
     "name": "stdout",
     "output_type": "stream",
     "text": [
      "['acc', 'kappa', 'fmeasure', 'loss']\n",
      "Training Loss  1.1121775839063857\n"
     ]
    },
    {
     "name": "stderr",
     "output_type": "stream",
     "text": [
      "\n"
     ]
    },
    {
     "name": "stdout",
     "output_type": "stream",
     "text": [
      "Train -  [0.6770833333333334, 0.5694444444444444, 0.6770833333333334, tensor(1.0781)]\n",
      "Validation -  [0.6041666666666666, 0.4722222222222222, 0.6041666666666666, tensor(1.1263)]\n",
      "\n",
      "Epoch  646\n"
     ]
    },
    {
     "name": "stderr",
     "output_type": "stream",
     "text": [
      "9it [00:00, 28.84it/s]\n"
     ]
    },
    {
     "name": "stdout",
     "output_type": "stream",
     "text": [
      "['acc', 'kappa', 'fmeasure', 'loss']\n",
      "Training Loss  1.0901517073313396\n",
      "Train -  [0.6770833333333334, 0.5694444444444444, 0.6770833333333334, tensor(1.0779)]\n",
      "Validation -  [0.6041666666666666, 0.4722222222222222, 0.6041666666666666, tensor(1.1262)]\n",
      "\n",
      "Epoch  647\n"
     ]
    },
    {
     "name": "stderr",
     "output_type": "stream",
     "text": [
      "9it [00:00, 28.55it/s]"
     ]
    },
    {
     "name": "stdout",
     "output_type": "stream",
     "text": [
      "['acc', 'kappa', 'fmeasure', 'loss']\n",
      "Training Loss  1.0915203756756253\n"
     ]
    },
    {
     "name": "stderr",
     "output_type": "stream",
     "text": [
      "\n"
     ]
    },
    {
     "name": "stdout",
     "output_type": "stream",
     "text": [
      "Train -  [0.6770833333333334, 0.5694444444444444, 0.6770833333333334, tensor(1.0780)]\n",
      "Validation -  [0.6041666666666666, 0.4722222222222222, 0.6041666666666666, tensor(1.1263)]\n",
      "\n",
      "Epoch  648\n"
     ]
    },
    {
     "name": "stderr",
     "output_type": "stream",
     "text": [
      "9it [00:00, 30.21it/s]"
     ]
    },
    {
     "name": "stdout",
     "output_type": "stream",
     "text": [
      "['acc', 'kappa', 'fmeasure', 'loss']\n",
      "Training Loss  1.0933419201109145\n"
     ]
    },
    {
     "name": "stderr",
     "output_type": "stream",
     "text": [
      "\n"
     ]
    },
    {
     "name": "stdout",
     "output_type": "stream",
     "text": [
      "Train -  [0.6770833333333334, 0.5694444444444444, 0.6770833333333334, tensor(1.0780)]\n",
      "Validation -  [0.6076388888888888, 0.47685185185185186, 0.6076388888888888, tensor(1.1263)]\n",
      "\n",
      "Epoch  649\n"
     ]
    },
    {
     "name": "stderr",
     "output_type": "stream",
     "text": [
      "9it [00:00, 26.83it/s]"
     ]
    },
    {
     "name": "stdout",
     "output_type": "stream",
     "text": [
      "['acc', 'kappa', 'fmeasure', 'loss']\n",
      "Training Loss  1.0990654627482097\n"
     ]
    },
    {
     "name": "stderr",
     "output_type": "stream",
     "text": [
      "\n"
     ]
    },
    {
     "name": "stdout",
     "output_type": "stream",
     "text": [
      "Train -  [0.6770833333333334, 0.5694444444444444, 0.6770833333333334, tensor(1.0781)]\n",
      "Validation -  [0.6041666666666666, 0.4722222222222222, 0.6041666666666666, tensor(1.1264)]\n",
      "\n",
      "Epoch  650\n"
     ]
    },
    {
     "name": "stderr",
     "output_type": "stream",
     "text": [
      "9it [00:00, 28.56it/s]"
     ]
    },
    {
     "name": "stdout",
     "output_type": "stream",
     "text": [
      "['acc', 'kappa', 'fmeasure', 'loss']\n",
      "Training Loss  1.1024018790986803\n"
     ]
    },
    {
     "name": "stderr",
     "output_type": "stream",
     "text": [
      "\n"
     ]
    },
    {
     "name": "stdout",
     "output_type": "stream",
     "text": [
      "Train -  [0.6770833333333334, 0.5694444444444444, 0.6770833333333334, tensor(1.0780)]\n",
      "Validation -  [0.6041666666666666, 0.4722222222222222, 0.6041666666666666, tensor(1.1263)]\n",
      "\n",
      "Epoch  651\n"
     ]
    },
    {
     "name": "stderr",
     "output_type": "stream",
     "text": [
      "9it [00:00, 27.13it/s]"
     ]
    },
    {
     "name": "stdout",
     "output_type": "stream",
     "text": [
      "['acc', 'kappa', 'fmeasure', 'loss']\n",
      "Training Loss  1.0924217965867784\n"
     ]
    },
    {
     "name": "stderr",
     "output_type": "stream",
     "text": [
      "\n"
     ]
    },
    {
     "name": "stdout",
     "output_type": "stream",
     "text": [
      "Train -  [0.6770833333333334, 0.5694444444444444, 0.6770833333333334, tensor(1.0782)]\n",
      "Validation -  [0.6041666666666666, 0.4722222222222222, 0.6041666666666666, tensor(1.1264)]\n",
      "\n",
      "Epoch  652\n"
     ]
    },
    {
     "name": "stderr",
     "output_type": "stream",
     "text": [
      "9it [00:00, 25.91it/s]"
     ]
    },
    {
     "name": "stdout",
     "output_type": "stream",
     "text": [
      "['acc', 'kappa', 'fmeasure', 'loss']\n",
      "Training Loss  1.1086617045932345\n"
     ]
    },
    {
     "name": "stderr",
     "output_type": "stream",
     "text": [
      "\n"
     ]
    },
    {
     "name": "stdout",
     "output_type": "stream",
     "text": [
      "Train -  [0.6770833333333334, 0.5694444444444444, 0.6770833333333334, tensor(1.0783)]\n",
      "Validation -  [0.6041666666666666, 0.4722222222222222, 0.6041666666666666, tensor(1.1265)]\n",
      "\n",
      "Epoch  653\n"
     ]
    },
    {
     "name": "stderr",
     "output_type": "stream",
     "text": [
      "9it [00:00, 26.79it/s]"
     ]
    },
    {
     "name": "stdout",
     "output_type": "stream",
     "text": [
      "['acc', 'kappa', 'fmeasure', 'loss']\n",
      "Training Loss  1.106287055545383\n"
     ]
    },
    {
     "name": "stderr",
     "output_type": "stream",
     "text": [
      "\n"
     ]
    },
    {
     "name": "stdout",
     "output_type": "stream",
     "text": [
      "Train -  [0.6770833333333334, 0.5694444444444444, 0.6770833333333334, tensor(1.0780)]\n",
      "Validation -  [0.6041666666666666, 0.4722222222222222, 0.6041666666666666, tensor(1.1263)]\n",
      "\n",
      "Epoch  654\n"
     ]
    },
    {
     "name": "stderr",
     "output_type": "stream",
     "text": [
      "9it [00:00, 27.21it/s]"
     ]
    },
    {
     "name": "stdout",
     "output_type": "stream",
     "text": [
      "['acc', 'kappa', 'fmeasure', 'loss']\n",
      "Training Loss  1.0976868470509846\n"
     ]
    },
    {
     "name": "stderr",
     "output_type": "stream",
     "text": [
      "\n"
     ]
    },
    {
     "name": "stdout",
     "output_type": "stream",
     "text": [
      "Train -  [0.6770833333333334, 0.5694444444444444, 0.6770833333333334, tensor(1.0781)]\n",
      "Validation -  [0.6076388888888888, 0.47685185185185186, 0.6076388888888888, tensor(1.1263)]\n",
      "\n",
      "Epoch  655\n"
     ]
    },
    {
     "name": "stderr",
     "output_type": "stream",
     "text": [
      "9it [00:00, 27.23it/s]"
     ]
    },
    {
     "name": "stdout",
     "output_type": "stream",
     "text": [
      "['acc', 'kappa', 'fmeasure', 'loss']\n",
      "Training Loss  1.0956130027770996\n"
     ]
    },
    {
     "name": "stderr",
     "output_type": "stream",
     "text": [
      "\n"
     ]
    },
    {
     "name": "stdout",
     "output_type": "stream",
     "text": [
      "Train -  [0.6770833333333334, 0.5694444444444444, 0.6770833333333334, tensor(1.0780)]\n",
      "Validation -  [0.6076388888888888, 0.47685185185185186, 0.6076388888888888, tensor(1.1263)]\n",
      "\n",
      "Epoch  656\n"
     ]
    },
    {
     "name": "stderr",
     "output_type": "stream",
     "text": [
      "9it [00:00, 28.33it/s]"
     ]
    },
    {
     "name": "stdout",
     "output_type": "stream",
     "text": [
      "['acc', 'kappa', 'fmeasure', 'loss']\n",
      "Training Loss  1.093135913213094\n"
     ]
    },
    {
     "name": "stderr",
     "output_type": "stream",
     "text": [
      "\n"
     ]
    },
    {
     "name": "stdout",
     "output_type": "stream",
     "text": [
      "Train -  [0.6770833333333334, 0.5694444444444444, 0.6770833333333334, tensor(1.0781)]\n",
      "Validation -  [0.6076388888888888, 0.47685185185185186, 0.6076388888888888, tensor(1.1264)]\n",
      "\n",
      "Epoch  657\n"
     ]
    },
    {
     "name": "stderr",
     "output_type": "stream",
     "text": [
      "9it [00:00, 28.54it/s]"
     ]
    },
    {
     "name": "stdout",
     "output_type": "stream",
     "text": [
      "['acc', 'kappa', 'fmeasure', 'loss']\n",
      "Training Loss  1.1020603842205472\n"
     ]
    },
    {
     "name": "stderr",
     "output_type": "stream",
     "text": [
      "\n"
     ]
    },
    {
     "name": "stdout",
     "output_type": "stream",
     "text": [
      "Train -  [0.6770833333333334, 0.5694444444444444, 0.6770833333333334, tensor(1.0783)]\n",
      "Validation -  [0.6041666666666666, 0.4722222222222222, 0.6041666666666666, tensor(1.1265)]\n",
      "\n",
      "Epoch  658\n"
     ]
    },
    {
     "name": "stderr",
     "output_type": "stream",
     "text": [
      "9it [00:00, 33.16it/s]"
     ]
    },
    {
     "name": "stdout",
     "output_type": "stream",
     "text": [
      "['acc', 'kappa', 'fmeasure', 'loss']\n",
      "Training Loss  1.0947451988855998\n"
     ]
    },
    {
     "name": "stderr",
     "output_type": "stream",
     "text": [
      "\n"
     ]
    },
    {
     "name": "stdout",
     "output_type": "stream",
     "text": [
      "Train -  [0.6770833333333334, 0.5694444444444444, 0.6770833333333334, tensor(1.0781)]\n",
      "Validation -  [0.6041666666666666, 0.4722222222222222, 0.6041666666666666, tensor(1.1264)]\n",
      "\n",
      "Epoch  659\n"
     ]
    },
    {
     "name": "stderr",
     "output_type": "stream",
     "text": [
      "9it [00:00, 31.11it/s]"
     ]
    },
    {
     "name": "stdout",
     "output_type": "stream",
     "text": [
      "['acc', 'kappa', 'fmeasure', 'loss']\n",
      "Training Loss  1.1101271708806355\n"
     ]
    },
    {
     "name": "stderr",
     "output_type": "stream",
     "text": [
      "\n"
     ]
    },
    {
     "name": "stdout",
     "output_type": "stream",
     "text": [
      "Train -  [0.6770833333333334, 0.5694444444444444, 0.6770833333333334, tensor(1.0779)]\n",
      "Validation -  [0.6111111111111112, 0.4814814814814815, 0.6111111111111112, tensor(1.1262)]\n",
      "\n",
      "Epoch  660\n"
     ]
    },
    {
     "name": "stderr",
     "output_type": "stream",
     "text": [
      "9it [00:00, 30.03it/s]"
     ]
    },
    {
     "name": "stdout",
     "output_type": "stream",
     "text": [
      "['acc', 'kappa', 'fmeasure', 'loss']\n",
      "Training Loss  1.1017407178878784\n"
     ]
    },
    {
     "name": "stderr",
     "output_type": "stream",
     "text": [
      "\n"
     ]
    },
    {
     "name": "stdout",
     "output_type": "stream",
     "text": [
      "Train -  [0.6770833333333334, 0.5694444444444444, 0.6770833333333334, tensor(1.0780)]\n",
      "Validation -  [0.6111111111111112, 0.4814814814814815, 0.6111111111111112, tensor(1.1262)]\n",
      "\n",
      "Epoch  661\n"
     ]
    },
    {
     "name": "stderr",
     "output_type": "stream",
     "text": [
      "9it [00:00, 30.66it/s]"
     ]
    },
    {
     "name": "stdout",
     "output_type": "stream",
     "text": [
      "['acc', 'kappa', 'fmeasure', 'loss']\n",
      "Training Loss  1.0989082389407687\n"
     ]
    },
    {
     "name": "stderr",
     "output_type": "stream",
     "text": [
      "\n"
     ]
    },
    {
     "name": "stdout",
     "output_type": "stream",
     "text": [
      "Train -  [0.6770833333333334, 0.5694444444444444, 0.6770833333333334, tensor(1.0782)]\n",
      "Validation -  [0.6111111111111112, 0.4814814814814815, 0.6111111111111112, tensor(1.1264)]\n",
      "\n",
      "Epoch  662\n"
     ]
    },
    {
     "name": "stderr",
     "output_type": "stream",
     "text": [
      "9it [00:00, 29.36it/s]"
     ]
    },
    {
     "name": "stdout",
     "output_type": "stream",
     "text": [
      "['acc', 'kappa', 'fmeasure', 'loss']\n",
      "Training Loss  1.1045995420879788\n"
     ]
    },
    {
     "name": "stderr",
     "output_type": "stream",
     "text": [
      "\n"
     ]
    },
    {
     "name": "stdout",
     "output_type": "stream",
     "text": [
      "Train -  [0.6770833333333334, 0.5694444444444444, 0.6770833333333334, tensor(1.0780)]\n",
      "Validation -  [0.6111111111111112, 0.4814814814814815, 0.6111111111111112, tensor(1.1262)]\n",
      "\n",
      "Epoch  663\n"
     ]
    },
    {
     "name": "stderr",
     "output_type": "stream",
     "text": [
      "9it [00:00, 34.67it/s]"
     ]
    },
    {
     "name": "stdout",
     "output_type": "stream",
     "text": [
      "['acc', 'kappa', 'fmeasure', 'loss']\n",
      "Training Loss  1.1004450586107042\n"
     ]
    },
    {
     "name": "stderr",
     "output_type": "stream",
     "text": [
      "\n"
     ]
    },
    {
     "name": "stdout",
     "output_type": "stream",
     "text": [
      "Train -  [0.6770833333333334, 0.5694444444444444, 0.6770833333333334, tensor(1.0780)]\n",
      "Validation -  [0.6111111111111112, 0.4814814814814815, 0.6111111111111112, tensor(1.1262)]\n",
      "\n",
      "Epoch  664\n"
     ]
    },
    {
     "name": "stderr",
     "output_type": "stream",
     "text": [
      "9it [00:00, 26.02it/s]"
     ]
    },
    {
     "name": "stdout",
     "output_type": "stream",
     "text": [
      "['acc', 'kappa', 'fmeasure', 'loss']\n",
      "Training Loss  1.0971772008472018\n"
     ]
    },
    {
     "name": "stderr",
     "output_type": "stream",
     "text": [
      "\n"
     ]
    },
    {
     "name": "stdout",
     "output_type": "stream",
     "text": [
      "Train -  [0.6770833333333334, 0.5694444444444444, 0.6770833333333334, tensor(1.0782)]\n",
      "Validation -  [0.6111111111111112, 0.4814814814814815, 0.6111111111111112, tensor(1.1264)]\n",
      "\n",
      "Epoch  665\n"
     ]
    },
    {
     "name": "stderr",
     "output_type": "stream",
     "text": [
      "9it [00:00, 32.03it/s]"
     ]
    },
    {
     "name": "stdout",
     "output_type": "stream",
     "text": [
      "['acc', 'kappa', 'fmeasure', 'loss']\n",
      "Training Loss  1.095956391758389\n"
     ]
    },
    {
     "name": "stderr",
     "output_type": "stream",
     "text": [
      "\n"
     ]
    },
    {
     "name": "stdout",
     "output_type": "stream",
     "text": [
      "Train -  [0.6770833333333334, 0.5694444444444444, 0.6770833333333334, tensor(1.0782)]\n",
      "Validation -  [0.6111111111111112, 0.4814814814814815, 0.6111111111111112, tensor(1.1263)]\n",
      "\n",
      "Epoch  666\n"
     ]
    },
    {
     "name": "stderr",
     "output_type": "stream",
     "text": [
      "9it [00:00, 30.82it/s]"
     ]
    },
    {
     "name": "stdout",
     "output_type": "stream",
     "text": [
      "['acc', 'kappa', 'fmeasure', 'loss']\n",
      "Training Loss  1.1036399205525715\n"
     ]
    },
    {
     "name": "stderr",
     "output_type": "stream",
     "text": [
      "\n"
     ]
    },
    {
     "name": "stdout",
     "output_type": "stream",
     "text": [
      "Train -  [0.6770833333333334, 0.5694444444444444, 0.6770833333333334, tensor(1.0781)]\n",
      "Validation -  [0.6111111111111112, 0.4814814814814815, 0.6111111111111112, tensor(1.1263)]\n",
      "\n",
      "Epoch  667\n"
     ]
    },
    {
     "name": "stderr",
     "output_type": "stream",
     "text": [
      "9it [00:00, 26.87it/s]"
     ]
    },
    {
     "name": "stdout",
     "output_type": "stream",
     "text": [
      "['acc', 'kappa', 'fmeasure', 'loss']\n",
      "Training Loss  1.1011066569222345\n"
     ]
    },
    {
     "name": "stderr",
     "output_type": "stream",
     "text": [
      "\n"
     ]
    },
    {
     "name": "stdout",
     "output_type": "stream",
     "text": [
      "Train -  [0.6770833333333334, 0.5694444444444444, 0.6770833333333334, tensor(1.0783)]\n",
      "Validation -  [0.6111111111111112, 0.4814814814814815, 0.6111111111111112, tensor(1.1264)]\n",
      "\n",
      "Epoch  668\n"
     ]
    },
    {
     "name": "stderr",
     "output_type": "stream",
     "text": [
      "9it [00:00, 28.43it/s]"
     ]
    },
    {
     "name": "stdout",
     "output_type": "stream",
     "text": [
      "['acc', 'kappa', 'fmeasure', 'loss']\n",
      "Training Loss  1.0985496441523235\n"
     ]
    },
    {
     "name": "stderr",
     "output_type": "stream",
     "text": [
      "\n"
     ]
    },
    {
     "name": "stdout",
     "output_type": "stream",
     "text": [
      "Train -  [0.6770833333333334, 0.5694444444444444, 0.6770833333333334, tensor(1.0782)]\n",
      "Validation -  [0.6111111111111112, 0.4814814814814815, 0.6111111111111112, tensor(1.1263)]\n",
      "\n",
      "Epoch  669\n"
     ]
    },
    {
     "name": "stderr",
     "output_type": "stream",
     "text": [
      "9it [00:00, 31.52it/s]"
     ]
    },
    {
     "name": "stdout",
     "output_type": "stream",
     "text": [
      "['acc', 'kappa', 'fmeasure', 'loss']\n",
      "Training Loss  1.0933911800384521\n"
     ]
    },
    {
     "name": "stderr",
     "output_type": "stream",
     "text": [
      "\n"
     ]
    },
    {
     "name": "stdout",
     "output_type": "stream",
     "text": [
      "Train -  [0.6770833333333334, 0.5694444444444444, 0.6770833333333334, tensor(1.0782)]\n",
      "Validation -  [0.6111111111111112, 0.4814814814814815, 0.6111111111111112, tensor(1.1264)]\n",
      "\n",
      "Epoch  670\n"
     ]
    },
    {
     "name": "stderr",
     "output_type": "stream",
     "text": [
      "9it [00:00, 26.55it/s]"
     ]
    },
    {
     "name": "stdout",
     "output_type": "stream",
     "text": [
      "['acc', 'kappa', 'fmeasure', 'loss']\n",
      "Training Loss  1.099584354294671\n"
     ]
    },
    {
     "name": "stderr",
     "output_type": "stream",
     "text": [
      "\n"
     ]
    },
    {
     "name": "stdout",
     "output_type": "stream",
     "text": [
      "Train -  [0.6770833333333334, 0.5694444444444444, 0.6770833333333334, tensor(1.0781)]\n",
      "Validation -  [0.6111111111111112, 0.4814814814814815, 0.6111111111111112, tensor(1.1263)]\n",
      "\n",
      "Epoch  671\n"
     ]
    },
    {
     "name": "stderr",
     "output_type": "stream",
     "text": [
      "9it [00:00, 28.20it/s]"
     ]
    },
    {
     "name": "stdout",
     "output_type": "stream",
     "text": [
      "['acc', 'kappa', 'fmeasure', 'loss']\n",
      "Training Loss  1.0971048540539212\n"
     ]
    },
    {
     "name": "stderr",
     "output_type": "stream",
     "text": [
      "\n"
     ]
    },
    {
     "name": "stdout",
     "output_type": "stream",
     "text": [
      "Train -  [0.6770833333333334, 0.5694444444444444, 0.6770833333333334, tensor(1.0781)]\n",
      "Validation -  [0.6111111111111112, 0.4814814814814815, 0.6111111111111112, tensor(1.1263)]\n",
      "\n",
      "Epoch  672\n"
     ]
    },
    {
     "name": "stderr",
     "output_type": "stream",
     "text": [
      "9it [00:00, 28.88it/s]"
     ]
    },
    {
     "name": "stdout",
     "output_type": "stream",
     "text": [
      "['acc', 'kappa', 'fmeasure', 'loss']\n",
      "Training Loss  1.0990546809302435\n"
     ]
    },
    {
     "name": "stderr",
     "output_type": "stream",
     "text": [
      "\n"
     ]
    },
    {
     "name": "stdout",
     "output_type": "stream",
     "text": [
      "Train -  [0.6770833333333334, 0.5694444444444444, 0.6770833333333334, tensor(1.0781)]\n",
      "Validation -  [0.6111111111111112, 0.4814814814814815, 0.6111111111111112, tensor(1.1263)]\n",
      "\n",
      "Epoch  673\n"
     ]
    },
    {
     "name": "stderr",
     "output_type": "stream",
     "text": [
      "9it [00:00, 29.40it/s]"
     ]
    },
    {
     "name": "stdout",
     "output_type": "stream",
     "text": [
      "['acc', 'kappa', 'fmeasure', 'loss']\n",
      "Training Loss  1.1002601914935641\n"
     ]
    },
    {
     "name": "stderr",
     "output_type": "stream",
     "text": [
      "\n"
     ]
    },
    {
     "name": "stdout",
     "output_type": "stream",
     "text": [
      "Train -  [0.6770833333333334, 0.5694444444444444, 0.6770833333333334, tensor(1.0781)]\n",
      "Validation -  [0.6111111111111112, 0.4814814814814815, 0.6111111111111112, tensor(1.1263)]\n",
      "\n",
      "Epoch  674\n"
     ]
    },
    {
     "name": "stderr",
     "output_type": "stream",
     "text": [
      "9it [00:00, 28.47it/s]\n"
     ]
    },
    {
     "name": "stdout",
     "output_type": "stream",
     "text": [
      "['acc', 'kappa', 'fmeasure', 'loss']\n",
      "Training Loss  1.1014546023474798\n",
      "Train -  [0.6770833333333334, 0.5694444444444444, 0.6770833333333334, tensor(1.0781)]\n",
      "Validation -  [0.6111111111111112, 0.4814814814814815, 0.6111111111111112, tensor(1.1262)]\n",
      "\n",
      "Epoch  675\n"
     ]
    },
    {
     "name": "stderr",
     "output_type": "stream",
     "text": [
      "9it [00:00, 29.86it/s]"
     ]
    },
    {
     "name": "stdout",
     "output_type": "stream",
     "text": [
      "['acc', 'kappa', 'fmeasure', 'loss']\n",
      "Training Loss  1.1020773384306166\n"
     ]
    },
    {
     "name": "stderr",
     "output_type": "stream",
     "text": [
      "\n"
     ]
    },
    {
     "name": "stdout",
     "output_type": "stream",
     "text": [
      "Train -  [0.6770833333333334, 0.5694444444444444, 0.6770833333333334, tensor(1.0781)]\n",
      "Validation -  [0.6111111111111112, 0.4814814814814815, 0.6111111111111112, tensor(1.1262)]\n",
      "\n",
      "Epoch  676\n"
     ]
    },
    {
     "name": "stderr",
     "output_type": "stream",
     "text": [
      "9it [00:00, 31.40it/s]"
     ]
    },
    {
     "name": "stdout",
     "output_type": "stream",
     "text": [
      "['acc', 'kappa', 'fmeasure', 'loss']\n",
      "Training Loss  1.0964479711320665\n"
     ]
    },
    {
     "name": "stderr",
     "output_type": "stream",
     "text": [
      "\n"
     ]
    },
    {
     "name": "stdout",
     "output_type": "stream",
     "text": [
      "Train -  [0.6770833333333334, 0.5694444444444444, 0.6770833333333334, tensor(1.0782)]\n",
      "Validation -  [0.6111111111111112, 0.4814814814814815, 0.6111111111111112, tensor(1.1263)]\n",
      "\n",
      "Epoch  677\n"
     ]
    },
    {
     "name": "stderr",
     "output_type": "stream",
     "text": [
      "9it [00:00, 23.78it/s]"
     ]
    },
    {
     "name": "stdout",
     "output_type": "stream",
     "text": [
      "['acc', 'kappa', 'fmeasure', 'loss']\n",
      "Training Loss  1.1051597462760077\n"
     ]
    },
    {
     "name": "stderr",
     "output_type": "stream",
     "text": [
      "\n"
     ]
    },
    {
     "name": "stdout",
     "output_type": "stream",
     "text": [
      "Train -  [0.6770833333333334, 0.5694444444444444, 0.6770833333333334, tensor(1.0781)]\n",
      "Validation -  [0.6111111111111112, 0.4814814814814815, 0.6111111111111112, tensor(1.1263)]\n",
      "\n",
      "Epoch  678\n"
     ]
    },
    {
     "name": "stderr",
     "output_type": "stream",
     "text": [
      "9it [00:00, 31.57it/s]"
     ]
    },
    {
     "name": "stdout",
     "output_type": "stream",
     "text": [
      "['acc', 'kappa', 'fmeasure', 'loss']\n",
      "Training Loss  1.0867148107952542\n"
     ]
    },
    {
     "name": "stderr",
     "output_type": "stream",
     "text": [
      "\n"
     ]
    },
    {
     "name": "stdout",
     "output_type": "stream",
     "text": [
      "Train -  [0.6770833333333334, 0.5694444444444444, 0.6770833333333334, tensor(1.0780)]\n",
      "Validation -  [0.6111111111111112, 0.4814814814814815, 0.6111111111111112, tensor(1.1262)]\n",
      "\n",
      "Epoch  679\n"
     ]
    },
    {
     "name": "stderr",
     "output_type": "stream",
     "text": [
      "9it [00:00, 27.52it/s]"
     ]
    },
    {
     "name": "stdout",
     "output_type": "stream",
     "text": [
      "['acc', 'kappa', 'fmeasure', 'loss']\n",
      "Training Loss  1.10861247115665\n"
     ]
    },
    {
     "name": "stderr",
     "output_type": "stream",
     "text": [
      "\n"
     ]
    },
    {
     "name": "stdout",
     "output_type": "stream",
     "text": [
      "Train -  [0.6770833333333334, 0.5694444444444444, 0.6770833333333334, tensor(1.0781)]\n",
      "Validation -  [0.6111111111111112, 0.4814814814814815, 0.6111111111111112, tensor(1.1263)]\n",
      "\n",
      "Epoch  680\n"
     ]
    },
    {
     "name": "stderr",
     "output_type": "stream",
     "text": [
      "9it [00:00, 25.01it/s]"
     ]
    },
    {
     "name": "stdout",
     "output_type": "stream",
     "text": [
      "['acc', 'kappa', 'fmeasure', 'loss']\n",
      "Training Loss  1.1019532548056707\n"
     ]
    },
    {
     "name": "stderr",
     "output_type": "stream",
     "text": [
      "\n"
     ]
    },
    {
     "name": "stdout",
     "output_type": "stream",
     "text": [
      "Train -  [0.6770833333333334, 0.5694444444444444, 0.6770833333333334, tensor(1.0782)]\n",
      "Validation -  [0.6111111111111112, 0.4814814814814815, 0.6111111111111112, tensor(1.1263)]\n",
      "\n",
      "Epoch  681\n"
     ]
    },
    {
     "name": "stderr",
     "output_type": "stream",
     "text": [
      "9it [00:00, 26.18it/s]"
     ]
    },
    {
     "name": "stdout",
     "output_type": "stream",
     "text": [
      "['acc', 'kappa', 'fmeasure', 'loss']\n",
      "Training Loss  1.084895173708598\n"
     ]
    },
    {
     "name": "stderr",
     "output_type": "stream",
     "text": [
      "\n"
     ]
    },
    {
     "name": "stdout",
     "output_type": "stream",
     "text": [
      "Train -  [0.6770833333333334, 0.5694444444444444, 0.6770833333333334, tensor(1.0782)]\n",
      "Validation -  [0.6111111111111112, 0.4814814814814815, 0.6111111111111112, tensor(1.1264)]\n",
      "\n",
      "Epoch  682\n"
     ]
    },
    {
     "name": "stderr",
     "output_type": "stream",
     "text": [
      "9it [00:00, 25.56it/s]"
     ]
    },
    {
     "name": "stdout",
     "output_type": "stream",
     "text": [
      "['acc', 'kappa', 'fmeasure', 'loss']\n",
      "Training Loss  1.097408824496799\n"
     ]
    },
    {
     "name": "stderr",
     "output_type": "stream",
     "text": [
      "\n"
     ]
    },
    {
     "name": "stdout",
     "output_type": "stream",
     "text": [
      "Train -  [0.6770833333333334, 0.5694444444444444, 0.6770833333333334, tensor(1.0781)]\n",
      "Validation -  [0.6111111111111112, 0.4814814814814815, 0.6111111111111112, tensor(1.1263)]\n",
      "\n",
      "Epoch  683\n"
     ]
    },
    {
     "name": "stderr",
     "output_type": "stream",
     "text": [
      "9it [00:00, 26.18it/s]"
     ]
    },
    {
     "name": "stdout",
     "output_type": "stream",
     "text": [
      "['acc', 'kappa', 'fmeasure', 'loss']\n",
      "Training Loss  1.0978070629967585\n"
     ]
    },
    {
     "name": "stderr",
     "output_type": "stream",
     "text": [
      "\n"
     ]
    },
    {
     "name": "stdout",
     "output_type": "stream",
     "text": [
      "Train -  [0.6770833333333334, 0.5694444444444444, 0.6770833333333334, tensor(1.0782)]\n",
      "Validation -  [0.6111111111111112, 0.4814814814814815, 0.6111111111111112, tensor(1.1264)]\n",
      "\n",
      "Epoch  684\n"
     ]
    },
    {
     "name": "stderr",
     "output_type": "stream",
     "text": [
      "9it [00:00, 26.42it/s]"
     ]
    },
    {
     "name": "stdout",
     "output_type": "stream",
     "text": [
      "['acc', 'kappa', 'fmeasure', 'loss']\n",
      "Training Loss  1.1134547392527263\n"
     ]
    },
    {
     "name": "stderr",
     "output_type": "stream",
     "text": [
      "\n"
     ]
    },
    {
     "name": "stdout",
     "output_type": "stream",
     "text": [
      "Train -  [0.6770833333333334, 0.5694444444444444, 0.6770833333333334, tensor(1.0781)]\n",
      "Validation -  [0.6111111111111112, 0.4814814814814815, 0.6111111111111112, tensor(1.1263)]\n",
      "\n",
      "Epoch  685\n"
     ]
    },
    {
     "name": "stderr",
     "output_type": "stream",
     "text": [
      "9it [00:00, 26.67it/s]"
     ]
    },
    {
     "name": "stdout",
     "output_type": "stream",
     "text": [
      "['acc', 'kappa', 'fmeasure', 'loss']\n",
      "Training Loss  1.0932059552934434\n"
     ]
    },
    {
     "name": "stderr",
     "output_type": "stream",
     "text": [
      "\n"
     ]
    },
    {
     "name": "stdout",
     "output_type": "stream",
     "text": [
      "Train -  [0.6770833333333334, 0.5694444444444444, 0.6770833333333334, tensor(1.0781)]\n",
      "Validation -  [0.6111111111111112, 0.4814814814814815, 0.6111111111111112, tensor(1.1263)]\n",
      "\n",
      "Epoch  686\n"
     ]
    },
    {
     "name": "stderr",
     "output_type": "stream",
     "text": [
      "9it [00:00, 29.11it/s]"
     ]
    },
    {
     "name": "stdout",
     "output_type": "stream",
     "text": [
      "['acc', 'kappa', 'fmeasure', 'loss']\n",
      "Training Loss  1.0963347487979465\n"
     ]
    },
    {
     "name": "stderr",
     "output_type": "stream",
     "text": [
      "\n"
     ]
    },
    {
     "name": "stdout",
     "output_type": "stream",
     "text": [
      "Train -  [0.6770833333333334, 0.5694444444444444, 0.6770833333333334, tensor(1.0781)]\n",
      "Validation -  [0.6111111111111112, 0.4814814814814815, 0.6111111111111112, tensor(1.1263)]\n",
      "\n",
      "Epoch  687\n"
     ]
    },
    {
     "name": "stderr",
     "output_type": "stream",
     "text": [
      "9it [00:00, 26.42it/s]"
     ]
    },
    {
     "name": "stdout",
     "output_type": "stream",
     "text": [
      "['acc', 'kappa', 'fmeasure', 'loss']\n",
      "Training Loss  1.0914269818200006\n"
     ]
    },
    {
     "name": "stderr",
     "output_type": "stream",
     "text": [
      "\n"
     ]
    },
    {
     "name": "stdout",
     "output_type": "stream",
     "text": [
      "Train -  [0.6770833333333334, 0.5694444444444444, 0.6770833333333334, tensor(1.0781)]\n",
      "Validation -  [0.6111111111111112, 0.4814814814814815, 0.6111111111111112, tensor(1.1263)]\n",
      "\n",
      "Epoch  688\n"
     ]
    },
    {
     "name": "stderr",
     "output_type": "stream",
     "text": [
      "9it [00:00, 26.58it/s]"
     ]
    },
    {
     "name": "stdout",
     "output_type": "stream",
     "text": [
      "['acc', 'kappa', 'fmeasure', 'loss']\n",
      "Training Loss  1.1075876156489055\n"
     ]
    },
    {
     "name": "stderr",
     "output_type": "stream",
     "text": [
      "\n"
     ]
    },
    {
     "name": "stdout",
     "output_type": "stream",
     "text": [
      "Train -  [0.6770833333333334, 0.5694444444444444, 0.6770833333333334, tensor(1.0781)]\n",
      "Validation -  [0.6111111111111112, 0.4814814814814815, 0.6111111111111112, tensor(1.1262)]\n",
      "\n",
      "Epoch  689\n"
     ]
    },
    {
     "name": "stderr",
     "output_type": "stream",
     "text": [
      "9it [00:00, 33.84it/s]"
     ]
    },
    {
     "name": "stdout",
     "output_type": "stream",
     "text": [
      "['acc', 'kappa', 'fmeasure', 'loss']\n",
      "Training Loss  1.1045535273022122\n"
     ]
    },
    {
     "name": "stderr",
     "output_type": "stream",
     "text": [
      "\n"
     ]
    },
    {
     "name": "stdout",
     "output_type": "stream",
     "text": [
      "Train -  [0.6770833333333334, 0.5694444444444444, 0.6770833333333334, tensor(1.0781)]\n",
      "Validation -  [0.6111111111111112, 0.4814814814814815, 0.6111111111111112, tensor(1.1263)]\n",
      "\n",
      "Epoch  690\n"
     ]
    },
    {
     "name": "stderr",
     "output_type": "stream",
     "text": [
      "9it [00:00, 30.17it/s]"
     ]
    },
    {
     "name": "stdout",
     "output_type": "stream",
     "text": [
      "['acc', 'kappa', 'fmeasure', 'loss']\n",
      "Training Loss  1.1112205982208252\n"
     ]
    },
    {
     "name": "stderr",
     "output_type": "stream",
     "text": [
      "\n"
     ]
    },
    {
     "name": "stdout",
     "output_type": "stream",
     "text": [
      "Train -  [0.6770833333333334, 0.5694444444444444, 0.6770833333333334, tensor(1.0778)]\n",
      "Validation -  [0.6111111111111112, 0.4814814814814815, 0.6111111111111112, tensor(1.1260)]\n",
      "\n",
      "Epoch  691\n"
     ]
    },
    {
     "name": "stderr",
     "output_type": "stream",
     "text": [
      "9it [00:00, 30.22it/s]"
     ]
    },
    {
     "name": "stdout",
     "output_type": "stream",
     "text": [
      "['acc', 'kappa', 'fmeasure', 'loss']\n",
      "Training Loss  1.1096124913957384\n"
     ]
    },
    {
     "name": "stderr",
     "output_type": "stream",
     "text": [
      "\n"
     ]
    },
    {
     "name": "stdout",
     "output_type": "stream",
     "text": [
      "Train -  [0.6770833333333334, 0.5694444444444444, 0.6770833333333334, tensor(1.0779)]\n",
      "Validation -  [0.6076388888888888, 0.47685185185185186, 0.6076388888888888, tensor(1.1261)]\n",
      "\n",
      "Epoch  692\n"
     ]
    },
    {
     "name": "stderr",
     "output_type": "stream",
     "text": [
      "9it [00:00, 24.86it/s]"
     ]
    },
    {
     "name": "stdout",
     "output_type": "stream",
     "text": [
      "['acc', 'kappa', 'fmeasure', 'loss']\n",
      "Training Loss  1.111248321003384\n"
     ]
    },
    {
     "name": "stderr",
     "output_type": "stream",
     "text": [
      "\n"
     ]
    },
    {
     "name": "stdout",
     "output_type": "stream",
     "text": [
      "Train -  [0.6770833333333334, 0.5694444444444444, 0.6770833333333334, tensor(1.0780)]\n",
      "Validation -  [0.6076388888888888, 0.47685185185185186, 0.6076388888888888, tensor(1.1262)]\n",
      "\n",
      "Epoch  693\n"
     ]
    },
    {
     "name": "stderr",
     "output_type": "stream",
     "text": [
      "9it [00:00, 28.95it/s]\n"
     ]
    },
    {
     "name": "stdout",
     "output_type": "stream",
     "text": [
      "['acc', 'kappa', 'fmeasure', 'loss']\n",
      "Training Loss  1.0969264374838934\n",
      "Train -  [0.6770833333333334, 0.5694444444444444, 0.6770833333333334, tensor(1.0779)]\n",
      "Validation -  [0.6041666666666666, 0.4722222222222222, 0.6041666666666666, tensor(1.1261)]\n",
      "\n",
      "Epoch  694\n"
     ]
    },
    {
     "name": "stderr",
     "output_type": "stream",
     "text": [
      "9it [00:00, 26.69it/s]"
     ]
    },
    {
     "name": "stdout",
     "output_type": "stream",
     "text": [
      "['acc', 'kappa', 'fmeasure', 'loss']\n",
      "Training Loss  1.1040933397081163\n"
     ]
    },
    {
     "name": "stderr",
     "output_type": "stream",
     "text": [
      "\n"
     ]
    },
    {
     "name": "stdout",
     "output_type": "stream",
     "text": [
      "Train -  [0.6770833333333334, 0.5694444444444444, 0.6770833333333334, tensor(1.0779)]\n",
      "Validation -  [0.6041666666666666, 0.4722222222222222, 0.6041666666666666, tensor(1.1261)]\n",
      "\n",
      "Epoch  695\n"
     ]
    },
    {
     "name": "stderr",
     "output_type": "stream",
     "text": [
      "9it [00:00, 28.94it/s]"
     ]
    },
    {
     "name": "stdout",
     "output_type": "stream",
     "text": [
      "['acc', 'kappa', 'fmeasure', 'loss']\n",
      "Training Loss  1.0973226891623602\n"
     ]
    },
    {
     "name": "stderr",
     "output_type": "stream",
     "text": [
      "\n"
     ]
    },
    {
     "name": "stdout",
     "output_type": "stream",
     "text": [
      "Train -  [0.6770833333333334, 0.5694444444444444, 0.6770833333333334, tensor(1.0780)]\n",
      "Validation -  [0.6076388888888888, 0.47685185185185186, 0.6076388888888888, tensor(1.1262)]\n",
      "\n",
      "Epoch  696\n"
     ]
    },
    {
     "name": "stderr",
     "output_type": "stream",
     "text": [
      "9it [00:00, 26.24it/s]"
     ]
    },
    {
     "name": "stdout",
     "output_type": "stream",
     "text": [
      "['acc', 'kappa', 'fmeasure', 'loss']\n",
      "Training Loss  1.0907077391942341\n"
     ]
    },
    {
     "name": "stderr",
     "output_type": "stream",
     "text": [
      "\n"
     ]
    },
    {
     "name": "stdout",
     "output_type": "stream",
     "text": [
      "Train -  [0.6770833333333334, 0.5694444444444444, 0.6770833333333334, tensor(1.0780)]\n",
      "Validation -  [0.6076388888888888, 0.47685185185185186, 0.6076388888888888, tensor(1.1262)]\n",
      "\n",
      "Epoch  697\n"
     ]
    },
    {
     "name": "stderr",
     "output_type": "stream",
     "text": [
      "9it [00:00, 26.19it/s]"
     ]
    },
    {
     "name": "stdout",
     "output_type": "stream",
     "text": [
      "['acc', 'kappa', 'fmeasure', 'loss']\n",
      "Training Loss  1.080413606431749\n"
     ]
    },
    {
     "name": "stderr",
     "output_type": "stream",
     "text": [
      "\n"
     ]
    },
    {
     "name": "stdout",
     "output_type": "stream",
     "text": [
      "Train -  [0.6770833333333334, 0.5694444444444444, 0.6770833333333334, tensor(1.0781)]\n",
      "Validation -  [0.6076388888888888, 0.47685185185185186, 0.6076388888888888, tensor(1.1262)]\n",
      "\n",
      "Epoch  698\n"
     ]
    },
    {
     "name": "stderr",
     "output_type": "stream",
     "text": [
      "9it [00:00, 27.80it/s]\n"
     ]
    },
    {
     "name": "stdout",
     "output_type": "stream",
     "text": [
      "['acc', 'kappa', 'fmeasure', 'loss']\n",
      "Training Loss  1.0979336235258315\n",
      "Train -  [0.6770833333333334, 0.5694444444444444, 0.6770833333333334, tensor(1.0780)]\n",
      "Validation -  [0.6041666666666666, 0.4722222222222222, 0.6041666666666666, tensor(1.1261)]\n",
      "\n",
      "Epoch  699\n"
     ]
    },
    {
     "name": "stderr",
     "output_type": "stream",
     "text": [
      "9it [00:00, 29.83it/s]"
     ]
    },
    {
     "name": "stdout",
     "output_type": "stream",
     "text": [
      "['acc', 'kappa', 'fmeasure', 'loss']\n",
      "Training Loss  1.0939308140012953\n"
     ]
    },
    {
     "name": "stderr",
     "output_type": "stream",
     "text": [
      "\n"
     ]
    },
    {
     "name": "stdout",
     "output_type": "stream",
     "text": [
      "Train -  [0.6770833333333334, 0.5694444444444444, 0.6770833333333334, tensor(1.0779)]\n",
      "Validation -  [0.6041666666666666, 0.4722222222222222, 0.6041666666666666, tensor(1.1261)]\n",
      "\n",
      "Epoch  700\n"
     ]
    },
    {
     "name": "stderr",
     "output_type": "stream",
     "text": [
      "9it [00:00, 31.41it/s]"
     ]
    },
    {
     "name": "stdout",
     "output_type": "stream",
     "text": [
      "['acc', 'kappa', 'fmeasure', 'loss']\n",
      "Training Loss  1.0832024415334065\n"
     ]
    },
    {
     "name": "stderr",
     "output_type": "stream",
     "text": [
      "\n"
     ]
    },
    {
     "name": "stdout",
     "output_type": "stream",
     "text": [
      "Train -  [0.6770833333333334, 0.5694444444444444, 0.6770833333333334, tensor(1.0780)]\n",
      "Validation -  [0.6111111111111112, 0.4814814814814815, 0.6111111111111112, tensor(1.1262)]\n",
      "\n",
      "Epoch  701\n"
     ]
    },
    {
     "name": "stderr",
     "output_type": "stream",
     "text": [
      "9it [00:00, 28.45it/s]"
     ]
    },
    {
     "name": "stdout",
     "output_type": "stream",
     "text": [
      "['acc', 'kappa', 'fmeasure', 'loss']\n",
      "Training Loss  1.101165731747945\n"
     ]
    },
    {
     "name": "stderr",
     "output_type": "stream",
     "text": [
      "\n"
     ]
    },
    {
     "name": "stdout",
     "output_type": "stream",
     "text": [
      "Train -  [0.6770833333333334, 0.5694444444444444, 0.6770833333333334, tensor(1.0780)]\n",
      "Validation -  [0.6111111111111112, 0.4814814814814815, 0.6111111111111112, tensor(1.1261)]\n",
      "\n",
      "Epoch  702\n"
     ]
    },
    {
     "name": "stderr",
     "output_type": "stream",
     "text": [
      "9it [00:00, 27.51it/s]"
     ]
    },
    {
     "name": "stdout",
     "output_type": "stream",
     "text": [
      "['acc', 'kappa', 'fmeasure', 'loss']\n",
      "Training Loss  1.0867742697397869\n"
     ]
    },
    {
     "name": "stderr",
     "output_type": "stream",
     "text": [
      "\n"
     ]
    },
    {
     "name": "stdout",
     "output_type": "stream",
     "text": [
      "Train -  [0.6770833333333334, 0.5694444444444444, 0.6770833333333334, tensor(1.0781)]\n",
      "Validation -  [0.6111111111111112, 0.4814814814814815, 0.6111111111111112, tensor(1.1263)]\n",
      "\n",
      "Epoch  703\n"
     ]
    },
    {
     "name": "stderr",
     "output_type": "stream",
     "text": [
      "9it [00:00, 27.45it/s]"
     ]
    },
    {
     "name": "stdout",
     "output_type": "stream",
     "text": [
      "['acc', 'kappa', 'fmeasure', 'loss']\n",
      "Training Loss  1.0846857627232869\n"
     ]
    },
    {
     "name": "stderr",
     "output_type": "stream",
     "text": [
      "\n"
     ]
    },
    {
     "name": "stdout",
     "output_type": "stream",
     "text": [
      "Train -  [0.6770833333333334, 0.5694444444444444, 0.6770833333333334, tensor(1.0781)]\n",
      "Validation -  [0.6111111111111112, 0.4814814814814815, 0.6111111111111112, tensor(1.1262)]\n",
      "\n",
      "Epoch  704\n"
     ]
    },
    {
     "name": "stderr",
     "output_type": "stream",
     "text": [
      "9it [00:00, 30.49it/s]"
     ]
    },
    {
     "name": "stdout",
     "output_type": "stream",
     "text": [
      "['acc', 'kappa', 'fmeasure', 'loss']\n",
      "Training Loss  1.0971804724799261\n"
     ]
    },
    {
     "name": "stderr",
     "output_type": "stream",
     "text": [
      "\n"
     ]
    },
    {
     "name": "stdout",
     "output_type": "stream",
     "text": [
      "Train -  [0.6770833333333334, 0.5694444444444444, 0.6770833333333334, tensor(1.0781)]\n",
      "Validation -  [0.6111111111111112, 0.4814814814814815, 0.6111111111111112, tensor(1.1263)]\n",
      "\n",
      "Epoch  705\n"
     ]
    },
    {
     "name": "stderr",
     "output_type": "stream",
     "text": [
      "9it [00:00, 29.16it/s]"
     ]
    },
    {
     "name": "stdout",
     "output_type": "stream",
     "text": [
      "['acc', 'kappa', 'fmeasure', 'loss']\n",
      "Training Loss  1.0975715451770358\n"
     ]
    },
    {
     "name": "stderr",
     "output_type": "stream",
     "text": [
      "\n"
     ]
    },
    {
     "name": "stdout",
     "output_type": "stream",
     "text": [
      "Train -  [0.6770833333333334, 0.5694444444444444, 0.6770833333333334, tensor(1.0780)]\n",
      "Validation -  [0.6111111111111112, 0.4814814814814815, 0.6111111111111112, tensor(1.1262)]\n",
      "\n",
      "Epoch  706\n"
     ]
    },
    {
     "name": "stderr",
     "output_type": "stream",
     "text": [
      "9it [00:00, 25.90it/s]"
     ]
    },
    {
     "name": "stdout",
     "output_type": "stream",
     "text": [
      "['acc', 'kappa', 'fmeasure', 'loss']\n",
      "Training Loss  1.0956750710805256\n"
     ]
    },
    {
     "name": "stderr",
     "output_type": "stream",
     "text": [
      "\n"
     ]
    },
    {
     "name": "stdout",
     "output_type": "stream",
     "text": [
      "Train -  [0.6770833333333334, 0.5694444444444444, 0.6770833333333334, tensor(1.0782)]\n",
      "Validation -  [0.6111111111111112, 0.4814814814814815, 0.6111111111111112, tensor(1.1264)]\n",
      "\n",
      "Epoch  707\n"
     ]
    },
    {
     "name": "stderr",
     "output_type": "stream",
     "text": [
      "9it [00:00, 26.71it/s]"
     ]
    },
    {
     "name": "stdout",
     "output_type": "stream",
     "text": [
      "['acc', 'kappa', 'fmeasure', 'loss']\n",
      "Training Loss  1.0935462647014194\n"
     ]
    },
    {
     "name": "stderr",
     "output_type": "stream",
     "text": [
      "\n"
     ]
    },
    {
     "name": "stdout",
     "output_type": "stream",
     "text": [
      "Train -  [0.6770833333333334, 0.5694444444444444, 0.6770833333333334, tensor(1.0782)]\n",
      "Validation -  [0.6041666666666666, 0.4722222222222222, 0.6041666666666666, tensor(1.1264)]\n",
      "\n",
      "Epoch  708\n"
     ]
    },
    {
     "name": "stderr",
     "output_type": "stream",
     "text": [
      "9it [00:00, 29.78it/s]"
     ]
    },
    {
     "name": "stdout",
     "output_type": "stream",
     "text": [
      "['acc', 'kappa', 'fmeasure', 'loss']\n",
      "Training Loss  1.105250530772739\n"
     ]
    },
    {
     "name": "stderr",
     "output_type": "stream",
     "text": [
      "\n"
     ]
    },
    {
     "name": "stdout",
     "output_type": "stream",
     "text": [
      "Train -  [0.6770833333333334, 0.5694444444444444, 0.6770833333333334, tensor(1.0781)]\n",
      "Validation -  [0.6041666666666666, 0.4722222222222222, 0.6041666666666666, tensor(1.1263)]\n",
      "\n",
      "Epoch  709\n"
     ]
    },
    {
     "name": "stderr",
     "output_type": "stream",
     "text": [
      "9it [00:00, 27.32it/s]"
     ]
    },
    {
     "name": "stdout",
     "output_type": "stream",
     "text": [
      "['acc', 'kappa', 'fmeasure', 'loss']\n",
      "Training Loss  1.0990692112180922\n"
     ]
    },
    {
     "name": "stderr",
     "output_type": "stream",
     "text": [
      "\n"
     ]
    },
    {
     "name": "stdout",
     "output_type": "stream",
     "text": [
      "Train -  [0.6770833333333334, 0.5694444444444444, 0.6770833333333334, tensor(1.0781)]\n",
      "Validation -  [0.6041666666666666, 0.4722222222222222, 0.6041666666666666, tensor(1.1263)]\n",
      "\n",
      "Epoch  710\n"
     ]
    },
    {
     "name": "stderr",
     "output_type": "stream",
     "text": [
      "9it [00:00, 28.54it/s]"
     ]
    },
    {
     "name": "stdout",
     "output_type": "stream",
     "text": [
      "['acc', 'kappa', 'fmeasure', 'loss']\n",
      "Training Loss  1.1059076653586493\n"
     ]
    },
    {
     "name": "stderr",
     "output_type": "stream",
     "text": [
      "\n"
     ]
    },
    {
     "name": "stdout",
     "output_type": "stream",
     "text": [
      "Train -  [0.6770833333333334, 0.5694444444444444, 0.6770833333333334, tensor(1.0782)]\n",
      "Validation -  [0.6041666666666666, 0.4722222222222222, 0.6041666666666666, tensor(1.1264)]\n",
      "\n",
      "Epoch  711\n"
     ]
    },
    {
     "name": "stderr",
     "output_type": "stream",
     "text": [
      "9it [00:00, 25.74it/s]"
     ]
    },
    {
     "name": "stdout",
     "output_type": "stream",
     "text": [
      "['acc', 'kappa', 'fmeasure', 'loss']\n",
      "Training Loss  1.0980953971544902\n"
     ]
    },
    {
     "name": "stderr",
     "output_type": "stream",
     "text": [
      "\n"
     ]
    },
    {
     "name": "stdout",
     "output_type": "stream",
     "text": [
      "Train -  [0.6770833333333334, 0.5694444444444444, 0.6770833333333334, tensor(1.0781)]\n",
      "Validation -  [0.6076388888888888, 0.47685185185185186, 0.6076388888888888, tensor(1.1263)]\n",
      "\n",
      "Epoch  712\n"
     ]
    },
    {
     "name": "stderr",
     "output_type": "stream",
     "text": [
      "9it [00:00, 30.76it/s]"
     ]
    },
    {
     "name": "stdout",
     "output_type": "stream",
     "text": [
      "['acc', 'kappa', 'fmeasure', 'loss']\n",
      "Training Loss  1.0952143271764119\n"
     ]
    },
    {
     "name": "stderr",
     "output_type": "stream",
     "text": [
      "\n"
     ]
    },
    {
     "name": "stdout",
     "output_type": "stream",
     "text": [
      "Train -  [0.6770833333333334, 0.5694444444444444, 0.6770833333333334, tensor(1.0779)]\n",
      "Validation -  [0.6076388888888888, 0.47685185185185186, 0.6076388888888888, tensor(1.1262)]\n",
      "\n",
      "Epoch  713\n"
     ]
    },
    {
     "name": "stderr",
     "output_type": "stream",
     "text": [
      "9it [00:00, 26.68it/s]"
     ]
    },
    {
     "name": "stdout",
     "output_type": "stream",
     "text": [
      "['acc', 'kappa', 'fmeasure', 'loss']\n",
      "Training Loss  1.0996890465418498\n"
     ]
    },
    {
     "name": "stderr",
     "output_type": "stream",
     "text": [
      "\n"
     ]
    },
    {
     "name": "stdout",
     "output_type": "stream",
     "text": [
      "Train -  [0.6770833333333334, 0.5694444444444444, 0.6770833333333334, tensor(1.0781)]\n",
      "Validation -  [0.6041666666666666, 0.4722222222222222, 0.6041666666666666, tensor(1.1263)]\n",
      "\n",
      "Epoch  714\n"
     ]
    },
    {
     "name": "stderr",
     "output_type": "stream",
     "text": [
      "9it [00:00, 27.62it/s]"
     ]
    },
    {
     "name": "stdout",
     "output_type": "stream",
     "text": [
      "['acc', 'kappa', 'fmeasure', 'loss']\n",
      "Training Loss  1.096297820409139\n"
     ]
    },
    {
     "name": "stderr",
     "output_type": "stream",
     "text": [
      "\n"
     ]
    },
    {
     "name": "stdout",
     "output_type": "stream",
     "text": [
      "Train -  [0.6770833333333334, 0.5694444444444444, 0.6770833333333334, tensor(1.0780)]\n",
      "Validation -  [0.6041666666666666, 0.4722222222222222, 0.6041666666666666, tensor(1.1263)]\n",
      "\n",
      "Epoch  715\n"
     ]
    },
    {
     "name": "stderr",
     "output_type": "stream",
     "text": [
      "9it [00:00, 33.34it/s]"
     ]
    },
    {
     "name": "stdout",
     "output_type": "stream",
     "text": [
      "['acc', 'kappa', 'fmeasure', 'loss']\n",
      "Training Loss  1.1176552375157673\n"
     ]
    },
    {
     "name": "stderr",
     "output_type": "stream",
     "text": [
      "\n"
     ]
    },
    {
     "name": "stdout",
     "output_type": "stream",
     "text": [
      "Train -  [0.6770833333333334, 0.5694444444444444, 0.6770833333333334, tensor(1.0781)]\n",
      "Validation -  [0.6041666666666666, 0.4722222222222222, 0.6041666666666666, tensor(1.1264)]\n",
      "\n",
      "Epoch  716\n"
     ]
    },
    {
     "name": "stderr",
     "output_type": "stream",
     "text": [
      "9it [00:00, 26.31it/s]"
     ]
    },
    {
     "name": "stdout",
     "output_type": "stream",
     "text": [
      "['acc', 'kappa', 'fmeasure', 'loss']\n",
      "Training Loss  1.095923728413052\n"
     ]
    },
    {
     "name": "stderr",
     "output_type": "stream",
     "text": [
      "\n"
     ]
    },
    {
     "name": "stdout",
     "output_type": "stream",
     "text": [
      "Train -  [0.6770833333333334, 0.5694444444444444, 0.6770833333333334, tensor(1.0781)]\n",
      "Validation -  [0.6041666666666666, 0.4722222222222222, 0.6041666666666666, tensor(1.1264)]\n",
      "\n",
      "Epoch  717\n"
     ]
    },
    {
     "name": "stderr",
     "output_type": "stream",
     "text": [
      "9it [00:00, 27.02it/s]"
     ]
    },
    {
     "name": "stdout",
     "output_type": "stream",
     "text": [
      "['acc', 'kappa', 'fmeasure', 'loss']\n",
      "Training Loss  1.0912905799018011\n"
     ]
    },
    {
     "name": "stderr",
     "output_type": "stream",
     "text": [
      "\n"
     ]
    },
    {
     "name": "stdout",
     "output_type": "stream",
     "text": [
      "Train -  [0.6770833333333334, 0.5694444444444444, 0.6770833333333334, tensor(1.0781)]\n",
      "Validation -  [0.6041666666666666, 0.4722222222222222, 0.6041666666666666, tensor(1.1264)]\n",
      "\n",
      "Epoch  718\n"
     ]
    },
    {
     "name": "stderr",
     "output_type": "stream",
     "text": [
      "9it [00:00, 25.16it/s]"
     ]
    },
    {
     "name": "stdout",
     "output_type": "stream",
     "text": [
      "['acc', 'kappa', 'fmeasure', 'loss']\n",
      "Training Loss  1.1015791760550604\n"
     ]
    },
    {
     "name": "stderr",
     "output_type": "stream",
     "text": [
      "\n"
     ]
    },
    {
     "name": "stdout",
     "output_type": "stream",
     "text": [
      "Train -  [0.6770833333333334, 0.5694444444444444, 0.6770833333333334, tensor(1.0782)]\n",
      "Validation -  [0.6041666666666666, 0.4722222222222222, 0.6041666666666666, tensor(1.1265)]\n",
      "\n",
      "Epoch  719\n"
     ]
    },
    {
     "name": "stderr",
     "output_type": "stream",
     "text": [
      "9it [00:00, 24.81it/s]"
     ]
    },
    {
     "name": "stdout",
     "output_type": "stream",
     "text": [
      "['acc', 'kappa', 'fmeasure', 'loss']\n",
      "Training Loss  1.0929363171259563\n"
     ]
    },
    {
     "name": "stderr",
     "output_type": "stream",
     "text": [
      "\n"
     ]
    },
    {
     "name": "stdout",
     "output_type": "stream",
     "text": [
      "Train -  [0.6770833333333334, 0.5694444444444444, 0.6770833333333334, tensor(1.0782)]\n",
      "Validation -  [0.6041666666666666, 0.4722222222222222, 0.6041666666666666, tensor(1.1264)]\n",
      "\n",
      "Epoch  720\n"
     ]
    },
    {
     "name": "stderr",
     "output_type": "stream",
     "text": [
      "9it [00:00, 29.09it/s]"
     ]
    },
    {
     "name": "stdout",
     "output_type": "stream",
     "text": [
      "['acc', 'kappa', 'fmeasure', 'loss']\n",
      "Training Loss  1.0921942392985027\n"
     ]
    },
    {
     "name": "stderr",
     "output_type": "stream",
     "text": [
      "\n"
     ]
    },
    {
     "name": "stdout",
     "output_type": "stream",
     "text": [
      "Train -  [0.6770833333333334, 0.5694444444444444, 0.6770833333333334, tensor(1.0781)]\n",
      "Validation -  [0.6041666666666666, 0.4722222222222222, 0.6041666666666666, tensor(1.1264)]\n",
      "\n",
      "Epoch  721\n"
     ]
    },
    {
     "name": "stderr",
     "output_type": "stream",
     "text": [
      "9it [00:00, 28.63it/s]"
     ]
    },
    {
     "name": "stdout",
     "output_type": "stream",
     "text": [
      "['acc', 'kappa', 'fmeasure', 'loss']\n",
      "Training Loss  1.1024148066838582\n"
     ]
    },
    {
     "name": "stderr",
     "output_type": "stream",
     "text": [
      "\n"
     ]
    },
    {
     "name": "stdout",
     "output_type": "stream",
     "text": [
      "Train -  [0.6770833333333334, 0.5694444444444444, 0.6770833333333334, tensor(1.0781)]\n",
      "Validation -  [0.6041666666666666, 0.4722222222222222, 0.6041666666666666, tensor(1.1264)]\n",
      "\n",
      "Epoch  722\n"
     ]
    },
    {
     "name": "stderr",
     "output_type": "stream",
     "text": [
      "9it [00:00, 30.02it/s]\n"
     ]
    },
    {
     "name": "stdout",
     "output_type": "stream",
     "text": [
      "['acc', 'kappa', 'fmeasure', 'loss']\n",
      "Training Loss  1.0953996578852336\n",
      "Train -  [0.6770833333333334, 0.5694444444444444, 0.6770833333333334, tensor(1.0780)]\n",
      "Validation -  [0.6041666666666666, 0.4722222222222222, 0.6041666666666666, tensor(1.1263)]\n",
      "\n",
      "Epoch  723\n"
     ]
    },
    {
     "name": "stderr",
     "output_type": "stream",
     "text": [
      "9it [00:00, 27.80it/s]"
     ]
    },
    {
     "name": "stdout",
     "output_type": "stream",
     "text": [
      "['acc', 'kappa', 'fmeasure', 'loss']\n",
      "Training Loss  1.0896752410464816\n"
     ]
    },
    {
     "name": "stderr",
     "output_type": "stream",
     "text": [
      "\n"
     ]
    },
    {
     "name": "stdout",
     "output_type": "stream",
     "text": [
      "Train -  [0.6770833333333334, 0.5694444444444444, 0.6770833333333334, tensor(1.0779)]\n",
      "Validation -  [0.6041666666666666, 0.4722222222222222, 0.6041666666666666, tensor(1.1263)]\n",
      "\n",
      "Epoch  724\n"
     ]
    },
    {
     "name": "stderr",
     "output_type": "stream",
     "text": [
      "9it [00:00, 27.58it/s]"
     ]
    },
    {
     "name": "stdout",
     "output_type": "stream",
     "text": [
      "['acc', 'kappa', 'fmeasure', 'loss']\n",
      "Training Loss  1.1068426105711195\n"
     ]
    },
    {
     "name": "stderr",
     "output_type": "stream",
     "text": [
      "\n"
     ]
    },
    {
     "name": "stdout",
     "output_type": "stream",
     "text": [
      "Train -  [0.6770833333333334, 0.5694444444444444, 0.6770833333333334, tensor(1.0780)]\n",
      "Validation -  [0.6041666666666666, 0.4722222222222222, 0.6041666666666666, tensor(1.1263)]\n",
      "\n",
      "Epoch  725\n"
     ]
    },
    {
     "name": "stderr",
     "output_type": "stream",
     "text": [
      "9it [00:00, 29.87it/s]\n"
     ]
    },
    {
     "name": "stdout",
     "output_type": "stream",
     "text": [
      "['acc', 'kappa', 'fmeasure', 'loss']\n",
      "Training Loss  1.0969279474682279\n",
      "Train -  [0.6770833333333334, 0.5694444444444444, 0.6770833333333334, tensor(1.0781)]\n",
      "Validation -  [0.6041666666666666, 0.4722222222222222, 0.6041666666666666, tensor(1.1264)]\n",
      "\n",
      "Epoch  726\n"
     ]
    },
    {
     "name": "stderr",
     "output_type": "stream",
     "text": [
      "9it [00:00, 34.43it/s]"
     ]
    },
    {
     "name": "stdout",
     "output_type": "stream",
     "text": [
      "['acc', 'kappa', 'fmeasure', 'loss']\n",
      "Training Loss  1.0934474335776434\n"
     ]
    },
    {
     "name": "stderr",
     "output_type": "stream",
     "text": [
      "\n"
     ]
    },
    {
     "name": "stdout",
     "output_type": "stream",
     "text": [
      "Train -  [0.6770833333333334, 0.5694444444444444, 0.6770833333333334, tensor(1.0781)]\n",
      "Validation -  [0.6041666666666666, 0.4722222222222222, 0.6041666666666666, tensor(1.1264)]\n",
      "\n",
      "Epoch  727\n"
     ]
    },
    {
     "name": "stderr",
     "output_type": "stream",
     "text": [
      "9it [00:00, 28.19it/s]"
     ]
    },
    {
     "name": "stdout",
     "output_type": "stream",
     "text": [
      "['acc', 'kappa', 'fmeasure', 'loss']\n",
      "Training Loss  1.0998050504260592\n"
     ]
    },
    {
     "name": "stderr",
     "output_type": "stream",
     "text": [
      "\n"
     ]
    },
    {
     "name": "stdout",
     "output_type": "stream",
     "text": [
      "Train -  [0.6770833333333334, 0.5694444444444444, 0.6770833333333334, tensor(1.0782)]\n",
      "Validation -  [0.6041666666666666, 0.4722222222222222, 0.6041666666666666, tensor(1.1265)]\n",
      "\n",
      "Epoch  728\n"
     ]
    },
    {
     "name": "stderr",
     "output_type": "stream",
     "text": [
      "9it [00:00, 26.40it/s]"
     ]
    },
    {
     "name": "stdout",
     "output_type": "stream",
     "text": [
      "['acc', 'kappa', 'fmeasure', 'loss']\n",
      "Training Loss  1.0977843602498372\n"
     ]
    },
    {
     "name": "stderr",
     "output_type": "stream",
     "text": [
      "\n"
     ]
    },
    {
     "name": "stdout",
     "output_type": "stream",
     "text": [
      "Train -  [0.6770833333333334, 0.5694444444444444, 0.6770833333333334, tensor(1.0780)]\n",
      "Validation -  [0.6041666666666666, 0.4722222222222222, 0.6041666666666666, tensor(1.1263)]\n",
      "\n",
      "Epoch  729\n"
     ]
    },
    {
     "name": "stderr",
     "output_type": "stream",
     "text": [
      "9it [00:00, 27.51it/s]"
     ]
    },
    {
     "name": "stdout",
     "output_type": "stream",
     "text": [
      "['acc', 'kappa', 'fmeasure', 'loss']\n",
      "Training Loss  1.1043706867429945\n"
     ]
    },
    {
     "name": "stderr",
     "output_type": "stream",
     "text": [
      "\n"
     ]
    },
    {
     "name": "stdout",
     "output_type": "stream",
     "text": [
      "Train -  [0.6770833333333334, 0.5694444444444444, 0.6770833333333334, tensor(1.0781)]\n",
      "Validation -  [0.6041666666666666, 0.4722222222222222, 0.6041666666666666, tensor(1.1264)]\n",
      "\n",
      "Epoch  730\n"
     ]
    },
    {
     "name": "stderr",
     "output_type": "stream",
     "text": [
      "9it [00:00, 31.91it/s]"
     ]
    },
    {
     "name": "stdout",
     "output_type": "stream",
     "text": [
      "['acc', 'kappa', 'fmeasure', 'loss']\n",
      "Training Loss  1.0983660618464153\n"
     ]
    },
    {
     "name": "stderr",
     "output_type": "stream",
     "text": [
      "\n"
     ]
    },
    {
     "name": "stdout",
     "output_type": "stream",
     "text": [
      "Train -  [0.6770833333333334, 0.5694444444444444, 0.6770833333333334, tensor(1.0782)]\n",
      "Validation -  [0.6041666666666666, 0.4722222222222222, 0.6041666666666666, tensor(1.1265)]\n",
      "\n",
      "Epoch  731\n"
     ]
    },
    {
     "name": "stderr",
     "output_type": "stream",
     "text": [
      "9it [00:00, 27.10it/s]"
     ]
    },
    {
     "name": "stdout",
     "output_type": "stream",
     "text": [
      "['acc', 'kappa', 'fmeasure', 'loss']\n",
      "Training Loss  1.0747937493854098\n"
     ]
    },
    {
     "name": "stderr",
     "output_type": "stream",
     "text": [
      "\n"
     ]
    },
    {
     "name": "stdout",
     "output_type": "stream",
     "text": [
      "Train -  [0.6770833333333334, 0.5694444444444444, 0.6770833333333334, tensor(1.0782)]\n",
      "Validation -  [0.6041666666666666, 0.4722222222222222, 0.6041666666666666, tensor(1.1264)]\n",
      "\n",
      "Epoch  732\n"
     ]
    },
    {
     "name": "stderr",
     "output_type": "stream",
     "text": [
      "9it [00:00, 29.17it/s]"
     ]
    },
    {
     "name": "stdout",
     "output_type": "stream",
     "text": [
      "['acc', 'kappa', 'fmeasure', 'loss']\n",
      "Training Loss  1.098507112926907\n"
     ]
    },
    {
     "name": "stderr",
     "output_type": "stream",
     "text": [
      "\n"
     ]
    },
    {
     "name": "stdout",
     "output_type": "stream",
     "text": [
      "Train -  [0.6770833333333334, 0.5694444444444444, 0.6770833333333334, tensor(1.0781)]\n",
      "Validation -  [0.6041666666666666, 0.4722222222222222, 0.6041666666666666, tensor(1.1263)]\n",
      "\n",
      "Epoch  733\n"
     ]
    },
    {
     "name": "stderr",
     "output_type": "stream",
     "text": [
      "9it [00:00, 26.96it/s]"
     ]
    },
    {
     "name": "stdout",
     "output_type": "stream",
     "text": [
      "['acc', 'kappa', 'fmeasure', 'loss']\n",
      "Training Loss  1.0997895664638944\n"
     ]
    },
    {
     "name": "stderr",
     "output_type": "stream",
     "text": [
      "\n"
     ]
    },
    {
     "name": "stdout",
     "output_type": "stream",
     "text": [
      "Train -  [0.6770833333333334, 0.5694444444444444, 0.6770833333333334, tensor(1.0779)]\n",
      "Validation -  [0.6041666666666666, 0.4722222222222222, 0.6041666666666666, tensor(1.1262)]\n",
      "\n",
      "Epoch  734\n"
     ]
    },
    {
     "name": "stderr",
     "output_type": "stream",
     "text": [
      "9it [00:00, 26.96it/s]"
     ]
    },
    {
     "name": "stdout",
     "output_type": "stream",
     "text": [
      "['acc', 'kappa', 'fmeasure', 'loss']\n",
      "Training Loss  1.0940007699860468\n"
     ]
    },
    {
     "name": "stderr",
     "output_type": "stream",
     "text": [
      "\n"
     ]
    },
    {
     "name": "stdout",
     "output_type": "stream",
     "text": [
      "Train -  [0.6770833333333334, 0.5694444444444444, 0.6770833333333334, tensor(1.0780)]\n",
      "Validation -  [0.6041666666666666, 0.4722222222222222, 0.6041666666666666, tensor(1.1262)]\n",
      "\n",
      "Epoch  735\n"
     ]
    },
    {
     "name": "stderr",
     "output_type": "stream",
     "text": [
      "9it [00:00, 29.91it/s]"
     ]
    },
    {
     "name": "stdout",
     "output_type": "stream",
     "text": [
      "['acc', 'kappa', 'fmeasure', 'loss']\n",
      "Training Loss  1.1165471739239163\n"
     ]
    },
    {
     "name": "stderr",
     "output_type": "stream",
     "text": [
      "\n"
     ]
    },
    {
     "name": "stdout",
     "output_type": "stream",
     "text": [
      "Train -  [0.6770833333333334, 0.5694444444444444, 0.6770833333333334, tensor(1.0779)]\n",
      "Validation -  [0.6041666666666666, 0.4722222222222222, 0.6041666666666666, tensor(1.1262)]\n",
      "\n",
      "Epoch  736\n"
     ]
    },
    {
     "name": "stderr",
     "output_type": "stream",
     "text": [
      "9it [00:00, 29.99it/s]"
     ]
    },
    {
     "name": "stdout",
     "output_type": "stream",
     "text": [
      "['acc', 'kappa', 'fmeasure', 'loss']\n",
      "Training Loss  1.1097798612382677\n"
     ]
    },
    {
     "name": "stderr",
     "output_type": "stream",
     "text": [
      "\n"
     ]
    },
    {
     "name": "stdout",
     "output_type": "stream",
     "text": [
      "Train -  [0.6770833333333334, 0.5694444444444444, 0.6770833333333334, tensor(1.0780)]\n",
      "Validation -  [0.6041666666666666, 0.4722222222222222, 0.6041666666666666, tensor(1.1263)]\n",
      "\n",
      "Epoch  737\n"
     ]
    },
    {
     "name": "stderr",
     "output_type": "stream",
     "text": [
      "9it [00:00, 31.94it/s]"
     ]
    },
    {
     "name": "stdout",
     "output_type": "stream",
     "text": [
      "['acc', 'kappa', 'fmeasure', 'loss']\n",
      "Training Loss  1.1051133738623724\n"
     ]
    },
    {
     "name": "stderr",
     "output_type": "stream",
     "text": [
      "\n"
     ]
    },
    {
     "name": "stdout",
     "output_type": "stream",
     "text": [
      "Train -  [0.6770833333333334, 0.5694444444444444, 0.6770833333333334, tensor(1.0781)]\n",
      "Validation -  [0.6041666666666666, 0.4722222222222222, 0.6041666666666666, tensor(1.1263)]\n",
      "\n",
      "Epoch  738\n"
     ]
    },
    {
     "name": "stderr",
     "output_type": "stream",
     "text": [
      "9it [00:00, 29.77it/s]"
     ]
    },
    {
     "name": "stdout",
     "output_type": "stream",
     "text": [
      "['acc', 'kappa', 'fmeasure', 'loss']\n",
      "Training Loss  1.098727332221137\n"
     ]
    },
    {
     "name": "stderr",
     "output_type": "stream",
     "text": [
      "\n"
     ]
    },
    {
     "name": "stdout",
     "output_type": "stream",
     "text": [
      "Train -  [0.6770833333333334, 0.5694444444444444, 0.6770833333333334, tensor(1.0780)]\n",
      "Validation -  [0.6041666666666666, 0.4722222222222222, 0.6041666666666666, tensor(1.1263)]\n",
      "\n",
      "Epoch  739\n"
     ]
    },
    {
     "name": "stderr",
     "output_type": "stream",
     "text": [
      "9it [00:00, 31.12it/s]"
     ]
    },
    {
     "name": "stdout",
     "output_type": "stream",
     "text": [
      "['acc', 'kappa', 'fmeasure', 'loss']\n",
      "Training Loss  1.0943522453308105\n"
     ]
    },
    {
     "name": "stderr",
     "output_type": "stream",
     "text": [
      "\n"
     ]
    },
    {
     "name": "stdout",
     "output_type": "stream",
     "text": [
      "Train -  [0.6770833333333334, 0.5694444444444444, 0.6770833333333334, tensor(1.0780)]\n",
      "Validation -  [0.6041666666666666, 0.4722222222222222, 0.6041666666666666, tensor(1.1263)]\n",
      "\n",
      "Epoch  740\n"
     ]
    },
    {
     "name": "stderr",
     "output_type": "stream",
     "text": [
      "9it [00:00, 30.23it/s]"
     ]
    },
    {
     "name": "stdout",
     "output_type": "stream",
     "text": [
      "['acc', 'kappa', 'fmeasure', 'loss']\n",
      "Training Loss  1.1004573239220514\n"
     ]
    },
    {
     "name": "stderr",
     "output_type": "stream",
     "text": [
      "\n"
     ]
    },
    {
     "name": "stdout",
     "output_type": "stream",
     "text": [
      "Train -  [0.6770833333333334, 0.5694444444444444, 0.6770833333333334, tensor(1.0780)]\n",
      "Validation -  [0.6041666666666666, 0.4722222222222222, 0.6041666666666666, tensor(1.1263)]\n",
      "\n",
      "Epoch  741\n"
     ]
    },
    {
     "name": "stderr",
     "output_type": "stream",
     "text": [
      "9it [00:00, 24.91it/s]"
     ]
    },
    {
     "name": "stdout",
     "output_type": "stream",
     "text": [
      "['acc', 'kappa', 'fmeasure', 'loss']\n",
      "Training Loss  1.090938687324524\n"
     ]
    },
    {
     "name": "stderr",
     "output_type": "stream",
     "text": [
      "\n"
     ]
    },
    {
     "name": "stdout",
     "output_type": "stream",
     "text": [
      "Train -  [0.6770833333333334, 0.5694444444444444, 0.6770833333333334, tensor(1.0781)]\n",
      "Validation -  [0.6041666666666666, 0.4722222222222222, 0.6041666666666666, tensor(1.1263)]\n",
      "\n",
      "Epoch  742\n"
     ]
    },
    {
     "name": "stderr",
     "output_type": "stream",
     "text": [
      "9it [00:00, 30.20it/s]"
     ]
    },
    {
     "name": "stdout",
     "output_type": "stream",
     "text": [
      "['acc', 'kappa', 'fmeasure', 'loss']\n",
      "Training Loss  1.100190732214186\n"
     ]
    },
    {
     "name": "stderr",
     "output_type": "stream",
     "text": [
      "\n"
     ]
    },
    {
     "name": "stdout",
     "output_type": "stream",
     "text": [
      "Train -  [0.6770833333333334, 0.5694444444444444, 0.6770833333333334, tensor(1.0781)]\n",
      "Validation -  [0.6041666666666666, 0.4722222222222222, 0.6041666666666666, tensor(1.1263)]\n",
      "\n",
      "Epoch  743\n"
     ]
    },
    {
     "name": "stderr",
     "output_type": "stream",
     "text": [
      "9it [00:00, 27.67it/s]"
     ]
    },
    {
     "name": "stdout",
     "output_type": "stream",
     "text": [
      "['acc', 'kappa', 'fmeasure', 'loss']\n",
      "Training Loss  1.0985274844699435\n"
     ]
    },
    {
     "name": "stderr",
     "output_type": "stream",
     "text": [
      "\n"
     ]
    },
    {
     "name": "stdout",
     "output_type": "stream",
     "text": [
      "Train -  [0.6770833333333334, 0.5694444444444444, 0.6770833333333334, tensor(1.0781)]\n",
      "Validation -  [0.6041666666666666, 0.4722222222222222, 0.6041666666666666, tensor(1.1263)]\n",
      "\n",
      "Epoch  744\n"
     ]
    },
    {
     "name": "stderr",
     "output_type": "stream",
     "text": [
      "9it [00:00, 26.18it/s]"
     ]
    },
    {
     "name": "stdout",
     "output_type": "stream",
     "text": [
      "['acc', 'kappa', 'fmeasure', 'loss']\n",
      "Training Loss  1.1131674581103854\n"
     ]
    },
    {
     "name": "stderr",
     "output_type": "stream",
     "text": [
      "\n"
     ]
    },
    {
     "name": "stdout",
     "output_type": "stream",
     "text": [
      "Train -  [0.6770833333333334, 0.5694444444444444, 0.6770833333333334, tensor(1.0779)]\n",
      "Validation -  [0.6076388888888888, 0.47685185185185186, 0.6076388888888888, tensor(1.1262)]\n",
      "\n",
      "Epoch  745\n"
     ]
    },
    {
     "name": "stderr",
     "output_type": "stream",
     "text": [
      "9it [00:00, 30.56it/s]"
     ]
    },
    {
     "name": "stdout",
     "output_type": "stream",
     "text": [
      "['acc', 'kappa', 'fmeasure', 'loss']\n",
      "Training Loss  1.1021991438335843\n"
     ]
    },
    {
     "name": "stderr",
     "output_type": "stream",
     "text": [
      "\n"
     ]
    },
    {
     "name": "stdout",
     "output_type": "stream",
     "text": [
      "Train -  [0.6770833333333334, 0.5694444444444444, 0.6770833333333334, tensor(1.0781)]\n",
      "Validation -  [0.6076388888888888, 0.47685185185185186, 0.6076388888888888, tensor(1.1263)]\n",
      "\n",
      "Epoch  746\n"
     ]
    },
    {
     "name": "stderr",
     "output_type": "stream",
     "text": [
      "9it [00:00, 32.27it/s]"
     ]
    },
    {
     "name": "stdout",
     "output_type": "stream",
     "text": [
      "['acc', 'kappa', 'fmeasure', 'loss']\n",
      "Training Loss  1.1056019465128581\n"
     ]
    },
    {
     "name": "stderr",
     "output_type": "stream",
     "text": [
      "\n"
     ]
    },
    {
     "name": "stdout",
     "output_type": "stream",
     "text": [
      "Train -  [0.6770833333333334, 0.5694444444444444, 0.6770833333333334, tensor(1.0780)]\n",
      "Validation -  [0.6076388888888888, 0.47685185185185186, 0.6076388888888888, tensor(1.1262)]\n",
      "\n",
      "Epoch  747\n"
     ]
    },
    {
     "name": "stderr",
     "output_type": "stream",
     "text": [
      "9it [00:00, 24.40it/s]"
     ]
    },
    {
     "name": "stdout",
     "output_type": "stream",
     "text": [
      "['acc', 'kappa', 'fmeasure', 'loss']\n",
      "Training Loss  1.1022309727138944\n"
     ]
    },
    {
     "name": "stderr",
     "output_type": "stream",
     "text": [
      "\n"
     ]
    },
    {
     "name": "stdout",
     "output_type": "stream",
     "text": [
      "Train -  [0.6770833333333334, 0.5694444444444444, 0.6770833333333334, tensor(1.0780)]\n",
      "Validation -  [0.6076388888888888, 0.47685185185185186, 0.6076388888888888, tensor(1.1263)]\n",
      "\n",
      "Epoch  748\n"
     ]
    },
    {
     "name": "stderr",
     "output_type": "stream",
     "text": [
      "9it [00:00, 26.40it/s]"
     ]
    },
    {
     "name": "stdout",
     "output_type": "stream",
     "text": [
      "['acc', 'kappa', 'fmeasure', 'loss']\n",
      "Training Loss  1.086132354206509\n"
     ]
    },
    {
     "name": "stderr",
     "output_type": "stream",
     "text": [
      "\n"
     ]
    },
    {
     "name": "stdout",
     "output_type": "stream",
     "text": [
      "Train -  [0.6770833333333334, 0.5694444444444444, 0.6770833333333334, tensor(1.0781)]\n",
      "Validation -  [0.6076388888888888, 0.47685185185185186, 0.6076388888888888, tensor(1.1262)]\n",
      "\n",
      "Epoch  749\n"
     ]
    },
    {
     "name": "stderr",
     "output_type": "stream",
     "text": [
      "9it [00:00, 27.81it/s]"
     ]
    },
    {
     "name": "stdout",
     "output_type": "stream",
     "text": [
      "['acc', 'kappa', 'fmeasure', 'loss']\n",
      "Training Loss  1.0906221469243367\n"
     ]
    },
    {
     "name": "stderr",
     "output_type": "stream",
     "text": [
      "\n"
     ]
    },
    {
     "name": "stdout",
     "output_type": "stream",
     "text": [
      "Train -  [0.6770833333333334, 0.5694444444444444, 0.6770833333333334, tensor(1.0780)]\n",
      "Validation -  [0.6076388888888888, 0.47685185185185186, 0.6076388888888888, tensor(1.1262)]\n",
      "\n",
      "Epoch  750\n"
     ]
    },
    {
     "name": "stderr",
     "output_type": "stream",
     "text": [
      "9it [00:00, 33.23it/s]"
     ]
    },
    {
     "name": "stdout",
     "output_type": "stream",
     "text": [
      "['acc', 'kappa', 'fmeasure', 'loss']\n",
      "Training Loss  1.0935810539457533\n"
     ]
    },
    {
     "name": "stderr",
     "output_type": "stream",
     "text": [
      "\n"
     ]
    },
    {
     "name": "stdout",
     "output_type": "stream",
     "text": [
      "Train -  [0.6770833333333334, 0.5694444444444444, 0.6770833333333334, tensor(1.0782)]\n",
      "Validation -  [0.6076388888888888, 0.47685185185185186, 0.6076388888888888, tensor(1.1264)]\n",
      "\n",
      "Epoch  751\n"
     ]
    },
    {
     "name": "stderr",
     "output_type": "stream",
     "text": [
      "9it [00:00, 29.66it/s]"
     ]
    },
    {
     "name": "stdout",
     "output_type": "stream",
     "text": [
      "['acc', 'kappa', 'fmeasure', 'loss']\n",
      "Training Loss  1.093414929178026\n"
     ]
    },
    {
     "name": "stderr",
     "output_type": "stream",
     "text": [
      "\n"
     ]
    },
    {
     "name": "stdout",
     "output_type": "stream",
     "text": [
      "Train -  [0.6770833333333334, 0.5694444444444444, 0.6770833333333334, tensor(1.0781)]\n",
      "Validation -  [0.6076388888888888, 0.47685185185185186, 0.6076388888888888, tensor(1.1263)]\n",
      "\n",
      "Epoch  752\n"
     ]
    },
    {
     "name": "stderr",
     "output_type": "stream",
     "text": [
      "9it [00:00, 28.70it/s]"
     ]
    },
    {
     "name": "stdout",
     "output_type": "stream",
     "text": [
      "['acc', 'kappa', 'fmeasure', 'loss']\n",
      "Training Loss  1.103430774476793\n"
     ]
    },
    {
     "name": "stderr",
     "output_type": "stream",
     "text": [
      "\n"
     ]
    },
    {
     "name": "stdout",
     "output_type": "stream",
     "text": [
      "Train -  [0.6770833333333334, 0.5694444444444444, 0.6770833333333334, tensor(1.0781)]\n",
      "Validation -  [0.6076388888888888, 0.47685185185185186, 0.6076388888888888, tensor(1.1262)]\n",
      "\n",
      "Epoch  753\n"
     ]
    },
    {
     "name": "stderr",
     "output_type": "stream",
     "text": [
      "9it [00:00, 28.90it/s]"
     ]
    },
    {
     "name": "stdout",
     "output_type": "stream",
     "text": [
      "['acc', 'kappa', 'fmeasure', 'loss']\n",
      "Training Loss  1.0959506167305841\n"
     ]
    },
    {
     "name": "stderr",
     "output_type": "stream",
     "text": [
      "\n"
     ]
    },
    {
     "name": "stdout",
     "output_type": "stream",
     "text": [
      "Train -  [0.6770833333333334, 0.5694444444444444, 0.6770833333333334, tensor(1.0780)]\n",
      "Validation -  [0.6076388888888888, 0.47685185185185186, 0.6076388888888888, tensor(1.1262)]\n",
      "\n",
      "Epoch  754\n"
     ]
    },
    {
     "name": "stderr",
     "output_type": "stream",
     "text": [
      "9it [00:00, 27.92it/s]"
     ]
    },
    {
     "name": "stdout",
     "output_type": "stream",
     "text": [
      "['acc', 'kappa', 'fmeasure', 'loss']\n",
      "Training Loss  1.0902070601781209\n"
     ]
    },
    {
     "name": "stderr",
     "output_type": "stream",
     "text": [
      "\n"
     ]
    },
    {
     "name": "stdout",
     "output_type": "stream",
     "text": [
      "Train -  [0.6770833333333334, 0.5694444444444444, 0.6770833333333334, tensor(1.0780)]\n",
      "Validation -  [0.6076388888888888, 0.47685185185185186, 0.6076388888888888, tensor(1.1262)]\n",
      "\n",
      "Epoch  755\n"
     ]
    },
    {
     "name": "stderr",
     "output_type": "stream",
     "text": [
      "9it [00:00, 29.66it/s]"
     ]
    },
    {
     "name": "stdout",
     "output_type": "stream",
     "text": [
      "['acc', 'kappa', 'fmeasure', 'loss']\n",
      "Training Loss  1.088924421204461\n"
     ]
    },
    {
     "name": "stderr",
     "output_type": "stream",
     "text": [
      "\n"
     ]
    },
    {
     "name": "stdout",
     "output_type": "stream",
     "text": [
      "Train -  [0.6770833333333334, 0.5694444444444444, 0.6770833333333334, tensor(1.0780)]\n",
      "Validation -  [0.6076388888888888, 0.47685185185185186, 0.6076388888888888, tensor(1.1262)]\n",
      "\n",
      "Epoch  756\n"
     ]
    },
    {
     "name": "stderr",
     "output_type": "stream",
     "text": [
      "9it [00:00, 30.57it/s]"
     ]
    },
    {
     "name": "stdout",
     "output_type": "stream",
     "text": [
      "['acc', 'kappa', 'fmeasure', 'loss']\n",
      "Training Loss  1.097904986805386\n"
     ]
    },
    {
     "name": "stderr",
     "output_type": "stream",
     "text": [
      "\n"
     ]
    },
    {
     "name": "stdout",
     "output_type": "stream",
     "text": [
      "Train -  [0.6770833333333334, 0.5694444444444444, 0.6770833333333334, tensor(1.0780)]\n",
      "Validation -  [0.6076388888888888, 0.47685185185185186, 0.6076388888888888, tensor(1.1262)]\n",
      "\n",
      "Epoch  757\n"
     ]
    },
    {
     "name": "stderr",
     "output_type": "stream",
     "text": [
      "9it [00:00, 29.75it/s]"
     ]
    },
    {
     "name": "stdout",
     "output_type": "stream",
     "text": [
      "['acc', 'kappa', 'fmeasure', 'loss']\n",
      "Training Loss  1.0963768164316814\n"
     ]
    },
    {
     "name": "stderr",
     "output_type": "stream",
     "text": [
      "\n"
     ]
    },
    {
     "name": "stdout",
     "output_type": "stream",
     "text": [
      "Train -  [0.6770833333333334, 0.5694444444444444, 0.6770833333333334, tensor(1.0781)]\n",
      "Validation -  [0.6076388888888888, 0.47685185185185186, 0.6076388888888888, tensor(1.1262)]\n",
      "\n",
      "Epoch  758\n"
     ]
    },
    {
     "name": "stderr",
     "output_type": "stream",
     "text": [
      "9it [00:00, 27.10it/s]"
     ]
    },
    {
     "name": "stdout",
     "output_type": "stream",
     "text": [
      "['acc', 'kappa', 'fmeasure', 'loss']\n",
      "Training Loss  1.1044207678900824\n"
     ]
    },
    {
     "name": "stderr",
     "output_type": "stream",
     "text": [
      "\n"
     ]
    },
    {
     "name": "stdout",
     "output_type": "stream",
     "text": [
      "Train -  [0.6770833333333334, 0.5694444444444444, 0.6770833333333334, tensor(1.0780)]\n",
      "Validation -  [0.6076388888888888, 0.47685185185185186, 0.6076388888888888, tensor(1.1262)]\n",
      "\n",
      "Epoch  759\n"
     ]
    },
    {
     "name": "stderr",
     "output_type": "stream",
     "text": [
      "9it [00:00, 28.53it/s]"
     ]
    },
    {
     "name": "stdout",
     "output_type": "stream",
     "text": [
      "['acc', 'kappa', 'fmeasure', 'loss']\n",
      "Training Loss  1.1040587160322402\n"
     ]
    },
    {
     "name": "stderr",
     "output_type": "stream",
     "text": [
      "\n"
     ]
    },
    {
     "name": "stdout",
     "output_type": "stream",
     "text": [
      "Train -  [0.6770833333333334, 0.5694444444444444, 0.6770833333333334, tensor(1.0779)]\n",
      "Validation -  [0.6076388888888888, 0.47685185185185186, 0.6076388888888888, tensor(1.1261)]\n",
      "\n",
      "Epoch  760\n"
     ]
    },
    {
     "name": "stderr",
     "output_type": "stream",
     "text": [
      "9it [00:00, 25.49it/s]"
     ]
    },
    {
     "name": "stdout",
     "output_type": "stream",
     "text": [
      "['acc', 'kappa', 'fmeasure', 'loss']\n",
      "Training Loss  1.101199256049262\n"
     ]
    },
    {
     "name": "stderr",
     "output_type": "stream",
     "text": [
      "\n"
     ]
    },
    {
     "name": "stdout",
     "output_type": "stream",
     "text": [
      "Train -  [0.6770833333333334, 0.5694444444444444, 0.6770833333333334, tensor(1.0780)]\n",
      "Validation -  [0.6076388888888888, 0.47685185185185186, 0.6076388888888888, tensor(1.1262)]\n",
      "\n",
      "Epoch  761\n"
     ]
    },
    {
     "name": "stderr",
     "output_type": "stream",
     "text": [
      "9it [00:00, 28.52it/s]"
     ]
    },
    {
     "name": "stdout",
     "output_type": "stream",
     "text": [
      "['acc', 'kappa', 'fmeasure', 'loss']\n",
      "Training Loss  1.1057904428905911\n"
     ]
    },
    {
     "name": "stderr",
     "output_type": "stream",
     "text": [
      "\n"
     ]
    },
    {
     "name": "stdout",
     "output_type": "stream",
     "text": [
      "Train -  [0.6770833333333334, 0.5694444444444444, 0.6770833333333334, tensor(1.0780)]\n",
      "Validation -  [0.6076388888888888, 0.47685185185185186, 0.6076388888888888, tensor(1.1262)]\n",
      "\n",
      "Epoch  762\n"
     ]
    },
    {
     "name": "stderr",
     "output_type": "stream",
     "text": [
      "9it [00:00, 31.13it/s]"
     ]
    },
    {
     "name": "stdout",
     "output_type": "stream",
     "text": [
      "['acc', 'kappa', 'fmeasure', 'loss']\n",
      "Training Loss  1.1086911691559687\n"
     ]
    },
    {
     "name": "stderr",
     "output_type": "stream",
     "text": [
      "\n"
     ]
    },
    {
     "name": "stdout",
     "output_type": "stream",
     "text": [
      "Train -  [0.6770833333333334, 0.5694444444444444, 0.6770833333333334, tensor(1.0780)]\n",
      "Validation -  [0.6076388888888888, 0.47685185185185186, 0.6076388888888888, tensor(1.1262)]\n",
      "\n",
      "Epoch  763\n"
     ]
    },
    {
     "name": "stderr",
     "output_type": "stream",
     "text": [
      "9it [00:00, 29.29it/s]"
     ]
    },
    {
     "name": "stdout",
     "output_type": "stream",
     "text": [
      "['acc', 'kappa', 'fmeasure', 'loss']\n",
      "Training Loss  1.099346915880839\n"
     ]
    },
    {
     "name": "stderr",
     "output_type": "stream",
     "text": [
      "\n"
     ]
    },
    {
     "name": "stdout",
     "output_type": "stream",
     "text": [
      "Train -  [0.6770833333333334, 0.5694444444444444, 0.6770833333333334, tensor(1.0781)]\n",
      "Validation -  [0.6076388888888888, 0.47685185185185186, 0.6076388888888888, tensor(1.1263)]\n",
      "\n",
      "Epoch  764\n"
     ]
    },
    {
     "name": "stderr",
     "output_type": "stream",
     "text": [
      "9it [00:00, 34.57it/s]"
     ]
    },
    {
     "name": "stdout",
     "output_type": "stream",
     "text": [
      "['acc', 'kappa', 'fmeasure', 'loss']\n",
      "Training Loss  1.095949199464586\n"
     ]
    },
    {
     "name": "stderr",
     "output_type": "stream",
     "text": [
      "\n"
     ]
    },
    {
     "name": "stdout",
     "output_type": "stream",
     "text": [
      "Train -  [0.6770833333333334, 0.5694444444444444, 0.6770833333333334, tensor(1.0780)]\n",
      "Validation -  [0.6076388888888888, 0.47685185185185186, 0.6076388888888888, tensor(1.1262)]\n",
      "\n",
      "Epoch  765\n"
     ]
    },
    {
     "name": "stderr",
     "output_type": "stream",
     "text": [
      "9it [00:00, 28.71it/s]"
     ]
    },
    {
     "name": "stdout",
     "output_type": "stream",
     "text": [
      "['acc', 'kappa', 'fmeasure', 'loss']\n",
      "Training Loss  1.099583539697859\n"
     ]
    },
    {
     "name": "stderr",
     "output_type": "stream",
     "text": [
      "\n"
     ]
    },
    {
     "name": "stdout",
     "output_type": "stream",
     "text": [
      "Train -  [0.6770833333333334, 0.5694444444444444, 0.6770833333333334, tensor(1.0781)]\n",
      "Validation -  [0.6076388888888888, 0.47685185185185186, 0.6076388888888888, tensor(1.1263)]\n",
      "\n",
      "Epoch  766\n"
     ]
    },
    {
     "name": "stderr",
     "output_type": "stream",
     "text": [
      "9it [00:00, 30.68it/s]"
     ]
    },
    {
     "name": "stdout",
     "output_type": "stream",
     "text": [
      "['acc', 'kappa', 'fmeasure', 'loss']\n",
      "Training Loss  1.0958263741599188\n"
     ]
    },
    {
     "name": "stderr",
     "output_type": "stream",
     "text": [
      "\n"
     ]
    },
    {
     "name": "stdout",
     "output_type": "stream",
     "text": [
      "Train -  [0.6770833333333334, 0.5694444444444444, 0.6770833333333334, tensor(1.0781)]\n",
      "Validation -  [0.6076388888888888, 0.47685185185185186, 0.6076388888888888, tensor(1.1263)]\n",
      "\n",
      "Epoch  767\n"
     ]
    },
    {
     "name": "stderr",
     "output_type": "stream",
     "text": [
      "9it [00:00, 25.71it/s]"
     ]
    },
    {
     "name": "stdout",
     "output_type": "stream",
     "text": [
      "['acc', 'kappa', 'fmeasure', 'loss']\n",
      "Training Loss  1.1018467744191487\n"
     ]
    },
    {
     "name": "stderr",
     "output_type": "stream",
     "text": [
      "\n"
     ]
    },
    {
     "name": "stdout",
     "output_type": "stream",
     "text": [
      "Train -  [0.6770833333333334, 0.5694444444444444, 0.6770833333333334, tensor(1.0782)]\n",
      "Validation -  [0.6076388888888888, 0.47685185185185186, 0.6076388888888888, tensor(1.1263)]\n",
      "\n",
      "Epoch  768\n"
     ]
    },
    {
     "name": "stderr",
     "output_type": "stream",
     "text": [
      "9it [00:00, 25.86it/s]"
     ]
    },
    {
     "name": "stdout",
     "output_type": "stream",
     "text": [
      "['acc', 'kappa', 'fmeasure', 'loss']\n",
      "Training Loss  1.0998511049482558\n"
     ]
    },
    {
     "name": "stderr",
     "output_type": "stream",
     "text": [
      "\n"
     ]
    },
    {
     "name": "stdout",
     "output_type": "stream",
     "text": [
      "Train -  [0.6770833333333334, 0.5694444444444444, 0.6770833333333334, tensor(1.0780)]\n",
      "Validation -  [0.6076388888888888, 0.47685185185185186, 0.6076388888888888, tensor(1.1262)]\n",
      "\n",
      "Epoch  769\n"
     ]
    },
    {
     "name": "stderr",
     "output_type": "stream",
     "text": [
      "9it [00:00, 26.47it/s]"
     ]
    },
    {
     "name": "stdout",
     "output_type": "stream",
     "text": [
      "['acc', 'kappa', 'fmeasure', 'loss']\n",
      "Training Loss  1.0900594658321805\n"
     ]
    },
    {
     "name": "stderr",
     "output_type": "stream",
     "text": [
      "\n"
     ]
    },
    {
     "name": "stdout",
     "output_type": "stream",
     "text": [
      "Train -  [0.6770833333333334, 0.5694444444444444, 0.6770833333333334, tensor(1.0781)]\n",
      "Validation -  [0.6076388888888888, 0.47685185185185186, 0.6076388888888888, tensor(1.1263)]\n",
      "\n",
      "Epoch  770\n"
     ]
    },
    {
     "name": "stderr",
     "output_type": "stream",
     "text": [
      "9it [00:00, 29.94it/s]"
     ]
    },
    {
     "name": "stdout",
     "output_type": "stream",
     "text": [
      "['acc', 'kappa', 'fmeasure', 'loss']\n",
      "Training Loss  1.1034954521391127\n"
     ]
    },
    {
     "name": "stderr",
     "output_type": "stream",
     "text": [
      "\n"
     ]
    },
    {
     "name": "stdout",
     "output_type": "stream",
     "text": [
      "Train -  [0.6770833333333334, 0.5694444444444444, 0.6770833333333334, tensor(1.0782)]\n",
      "Validation -  [0.6076388888888888, 0.47685185185185186, 0.6076388888888888, tensor(1.1264)]\n",
      "\n",
      "Epoch  771\n"
     ]
    },
    {
     "name": "stderr",
     "output_type": "stream",
     "text": [
      "9it [00:00, 29.75it/s]\n"
     ]
    },
    {
     "name": "stdout",
     "output_type": "stream",
     "text": [
      "['acc', 'kappa', 'fmeasure', 'loss']\n",
      "Training Loss  1.1019699970881145\n",
      "Train -  [0.6770833333333334, 0.5694444444444444, 0.6770833333333334, tensor(1.0782)]\n",
      "Validation -  [0.6041666666666666, 0.4722222222222222, 0.6041666666666666, tensor(1.1264)]\n",
      "\n",
      "Epoch  772\n"
     ]
    },
    {
     "name": "stderr",
     "output_type": "stream",
     "text": [
      "9it [00:00, 27.41it/s]"
     ]
    },
    {
     "name": "stdout",
     "output_type": "stream",
     "text": [
      "['acc', 'kappa', 'fmeasure', 'loss']\n",
      "Training Loss  1.0976039237446256\n"
     ]
    },
    {
     "name": "stderr",
     "output_type": "stream",
     "text": [
      "\n"
     ]
    },
    {
     "name": "stdout",
     "output_type": "stream",
     "text": [
      "Train -  [0.6770833333333334, 0.5694444444444444, 0.6770833333333334, tensor(1.0783)]\n",
      "Validation -  [0.6041666666666666, 0.4722222222222222, 0.6041666666666666, tensor(1.1265)]\n",
      "\n",
      "Epoch  773\n"
     ]
    },
    {
     "name": "stderr",
     "output_type": "stream",
     "text": [
      "9it [00:00, 25.77it/s]"
     ]
    },
    {
     "name": "stdout",
     "output_type": "stream",
     "text": [
      "['acc', 'kappa', 'fmeasure', 'loss']\n",
      "Training Loss  1.10198970635732\n"
     ]
    },
    {
     "name": "stderr",
     "output_type": "stream",
     "text": [
      "\n"
     ]
    },
    {
     "name": "stdout",
     "output_type": "stream",
     "text": [
      "Train -  [0.6770833333333334, 0.5694444444444444, 0.6770833333333334, tensor(1.0781)]\n",
      "Validation -  [0.6041666666666666, 0.4722222222222222, 0.6041666666666666, tensor(1.1263)]\n",
      "\n",
      "Epoch  774\n"
     ]
    },
    {
     "name": "stderr",
     "output_type": "stream",
     "text": [
      "9it [00:00, 21.93it/s]"
     ]
    },
    {
     "name": "stdout",
     "output_type": "stream",
     "text": [
      "['acc', 'kappa', 'fmeasure', 'loss']\n",
      "Training Loss  1.0860248141818576\n"
     ]
    },
    {
     "name": "stderr",
     "output_type": "stream",
     "text": [
      "\n"
     ]
    },
    {
     "name": "stdout",
     "output_type": "stream",
     "text": [
      "Train -  [0.6770833333333334, 0.5694444444444444, 0.6770833333333334, tensor(1.0779)]\n",
      "Validation -  [0.6041666666666666, 0.4722222222222222, 0.6041666666666666, tensor(1.1262)]\n",
      "\n",
      "Epoch  775\n"
     ]
    },
    {
     "name": "stderr",
     "output_type": "stream",
     "text": [
      "9it [00:00, 28.85it/s]"
     ]
    },
    {
     "name": "stdout",
     "output_type": "stream",
     "text": [
      "['acc', 'kappa', 'fmeasure', 'loss']\n",
      "Training Loss  1.1008517742156982\n"
     ]
    },
    {
     "name": "stderr",
     "output_type": "stream",
     "text": [
      "\n"
     ]
    },
    {
     "name": "stdout",
     "output_type": "stream",
     "text": [
      "Train -  [0.6770833333333334, 0.5694444444444444, 0.6770833333333334, tensor(1.0780)]\n",
      "Validation -  [0.6041666666666666, 0.4722222222222222, 0.6041666666666666, tensor(1.1263)]\n",
      "\n",
      "Epoch  776\n"
     ]
    },
    {
     "name": "stderr",
     "output_type": "stream",
     "text": [
      "9it [00:00, 25.99it/s]"
     ]
    },
    {
     "name": "stdout",
     "output_type": "stream",
     "text": [
      "['acc', 'kappa', 'fmeasure', 'loss']\n",
      "Training Loss  1.1074454254574246\n"
     ]
    },
    {
     "name": "stderr",
     "output_type": "stream",
     "text": [
      "\n"
     ]
    },
    {
     "name": "stdout",
     "output_type": "stream",
     "text": [
      "Train -  [0.6770833333333334, 0.5694444444444444, 0.6770833333333334, tensor(1.0780)]\n",
      "Validation -  [0.6041666666666666, 0.4722222222222222, 0.6041666666666666, tensor(1.1262)]\n",
      "\n",
      "Epoch  777\n"
     ]
    },
    {
     "name": "stderr",
     "output_type": "stream",
     "text": [
      "9it [00:00, 30.38it/s]"
     ]
    },
    {
     "name": "stdout",
     "output_type": "stream",
     "text": [
      "['acc', 'kappa', 'fmeasure', 'loss']\n",
      "Training Loss  1.0997034178839789\n"
     ]
    },
    {
     "name": "stderr",
     "output_type": "stream",
     "text": [
      "\n"
     ]
    },
    {
     "name": "stdout",
     "output_type": "stream",
     "text": [
      "Train -  [0.6770833333333334, 0.5694444444444444, 0.6770833333333334, tensor(1.0780)]\n",
      "Validation -  [0.6076388888888888, 0.47685185185185186, 0.6076388888888888, tensor(1.1262)]\n",
      "\n",
      "Epoch  778\n"
     ]
    },
    {
     "name": "stderr",
     "output_type": "stream",
     "text": [
      "9it [00:00, 27.99it/s]"
     ]
    },
    {
     "name": "stdout",
     "output_type": "stream",
     "text": [
      "['acc', 'kappa', 'fmeasure', 'loss']\n",
      "Training Loss  1.1053251690334744\n"
     ]
    },
    {
     "name": "stderr",
     "output_type": "stream",
     "text": [
      "\n"
     ]
    },
    {
     "name": "stdout",
     "output_type": "stream",
     "text": [
      "Train -  [0.6770833333333334, 0.5694444444444444, 0.6770833333333334, tensor(1.0781)]\n",
      "Validation -  [0.6076388888888888, 0.47685185185185186, 0.6076388888888888, tensor(1.1263)]\n",
      "\n",
      "Epoch  779\n"
     ]
    },
    {
     "name": "stderr",
     "output_type": "stream",
     "text": [
      "9it [00:00, 29.29it/s]"
     ]
    },
    {
     "name": "stdout",
     "output_type": "stream",
     "text": [
      "['acc', 'kappa', 'fmeasure', 'loss']\n",
      "Training Loss  1.1003323131137424\n"
     ]
    },
    {
     "name": "stderr",
     "output_type": "stream",
     "text": [
      "\n"
     ]
    },
    {
     "name": "stdout",
     "output_type": "stream",
     "text": [
      "Train -  [0.6770833333333334, 0.5694444444444444, 0.6770833333333334, tensor(1.0780)]\n",
      "Validation -  [0.6076388888888888, 0.47685185185185186, 0.6076388888888888, tensor(1.1262)]\n",
      "\n",
      "Epoch  780\n"
     ]
    },
    {
     "name": "stderr",
     "output_type": "stream",
     "text": [
      "9it [00:00, 25.84it/s]"
     ]
    },
    {
     "name": "stdout",
     "output_type": "stream",
     "text": [
      "['acc', 'kappa', 'fmeasure', 'loss']\n",
      "Training Loss  1.0916495654318068\n"
     ]
    },
    {
     "name": "stderr",
     "output_type": "stream",
     "text": [
      "\n"
     ]
    },
    {
     "name": "stdout",
     "output_type": "stream",
     "text": [
      "Train -  [0.6770833333333334, 0.5694444444444444, 0.6770833333333334, tensor(1.0781)]\n",
      "Validation -  [0.6076388888888888, 0.47685185185185186, 0.6076388888888888, tensor(1.1263)]\n",
      "\n",
      "Epoch  781\n"
     ]
    },
    {
     "name": "stderr",
     "output_type": "stream",
     "text": [
      "9it [00:00, 25.01it/s]"
     ]
    },
    {
     "name": "stdout",
     "output_type": "stream",
     "text": [
      "['acc', 'kappa', 'fmeasure', 'loss']\n",
      "Training Loss  1.1018972529305353\n"
     ]
    },
    {
     "name": "stderr",
     "output_type": "stream",
     "text": [
      "\n"
     ]
    },
    {
     "name": "stdout",
     "output_type": "stream",
     "text": [
      "Train -  [0.6770833333333334, 0.5694444444444444, 0.6770833333333334, tensor(1.0780)]\n",
      "Validation -  [0.6076388888888888, 0.47685185185185186, 0.6076388888888888, tensor(1.1262)]\n",
      "\n",
      "Epoch  782\n"
     ]
    },
    {
     "name": "stderr",
     "output_type": "stream",
     "text": [
      "9it [00:00, 31.67it/s]"
     ]
    },
    {
     "name": "stdout",
     "output_type": "stream",
     "text": [
      "['acc', 'kappa', 'fmeasure', 'loss']\n",
      "Training Loss  1.1011248694525824\n"
     ]
    },
    {
     "name": "stderr",
     "output_type": "stream",
     "text": [
      "\n"
     ]
    },
    {
     "name": "stdout",
     "output_type": "stream",
     "text": [
      "Train -  [0.6770833333333334, 0.5694444444444444, 0.6770833333333334, tensor(1.0780)]\n",
      "Validation -  [0.6076388888888888, 0.47685185185185186, 0.6076388888888888, tensor(1.1262)]\n",
      "\n",
      "Epoch  783\n"
     ]
    },
    {
     "name": "stderr",
     "output_type": "stream",
     "text": [
      "9it [00:00, 27.79it/s]"
     ]
    },
    {
     "name": "stdout",
     "output_type": "stream",
     "text": [
      "['acc', 'kappa', 'fmeasure', 'loss']\n",
      "Training Loss  1.102046979798211\n"
     ]
    },
    {
     "name": "stderr",
     "output_type": "stream",
     "text": [
      "\n"
     ]
    },
    {
     "name": "stdout",
     "output_type": "stream",
     "text": [
      "Train -  [0.6770833333333334, 0.5694444444444444, 0.6770833333333334, tensor(1.0779)]\n",
      "Validation -  [0.6076388888888888, 0.47685185185185186, 0.6076388888888888, tensor(1.1261)]\n",
      "\n",
      "Epoch  784\n"
     ]
    },
    {
     "name": "stderr",
     "output_type": "stream",
     "text": [
      "9it [00:00, 26.93it/s]"
     ]
    },
    {
     "name": "stdout",
     "output_type": "stream",
     "text": [
      "['acc', 'kappa', 'fmeasure', 'loss']\n",
      "Training Loss  1.104334831237793\n"
     ]
    },
    {
     "name": "stderr",
     "output_type": "stream",
     "text": [
      "\n"
     ]
    },
    {
     "name": "stdout",
     "output_type": "stream",
     "text": [
      "Train -  [0.6770833333333334, 0.5694444444444444, 0.6770833333333334, tensor(1.0780)]\n",
      "Validation -  [0.6076388888888888, 0.47685185185185186, 0.6076388888888888, tensor(1.1262)]\n",
      "\n",
      "Epoch  785\n"
     ]
    },
    {
     "name": "stderr",
     "output_type": "stream",
     "text": [
      "9it [00:00, 32.11it/s]"
     ]
    },
    {
     "name": "stdout",
     "output_type": "stream",
     "text": [
      "['acc', 'kappa', 'fmeasure', 'loss']\n",
      "Training Loss  1.0844815969467163\n"
     ]
    },
    {
     "name": "stderr",
     "output_type": "stream",
     "text": [
      "\n"
     ]
    },
    {
     "name": "stdout",
     "output_type": "stream",
     "text": [
      "Train -  [0.6770833333333334, 0.5694444444444444, 0.6770833333333334, tensor(1.0781)]\n",
      "Validation -  [0.6076388888888888, 0.47685185185185186, 0.6076388888888888, tensor(1.1263)]\n",
      "\n",
      "Epoch  786\n"
     ]
    },
    {
     "name": "stderr",
     "output_type": "stream",
     "text": [
      "9it [00:00, 28.41it/s]"
     ]
    },
    {
     "name": "stdout",
     "output_type": "stream",
     "text": [
      "['acc', 'kappa', 'fmeasure', 'loss']\n",
      "Training Loss  1.0995228754149542\n"
     ]
    },
    {
     "name": "stderr",
     "output_type": "stream",
     "text": [
      "\n"
     ]
    },
    {
     "name": "stdout",
     "output_type": "stream",
     "text": [
      "Train -  [0.6770833333333334, 0.5694444444444444, 0.6770833333333334, tensor(1.0781)]\n",
      "Validation -  [0.6076388888888888, 0.47685185185185186, 0.6076388888888888, tensor(1.1263)]\n",
      "\n",
      "Epoch  787\n"
     ]
    },
    {
     "name": "stderr",
     "output_type": "stream",
     "text": [
      "9it [00:00, 28.54it/s]"
     ]
    },
    {
     "name": "stdout",
     "output_type": "stream",
     "text": [
      "['acc', 'kappa', 'fmeasure', 'loss']\n",
      "Training Loss  1.0908569362428453\n"
     ]
    },
    {
     "name": "stderr",
     "output_type": "stream",
     "text": [
      "\n"
     ]
    },
    {
     "name": "stdout",
     "output_type": "stream",
     "text": [
      "Train -  [0.6770833333333334, 0.5694444444444444, 0.6770833333333334, tensor(1.0780)]\n",
      "Validation -  [0.6076388888888888, 0.47685185185185186, 0.6076388888888888, tensor(1.1262)]\n",
      "\n",
      "Epoch  788\n"
     ]
    },
    {
     "name": "stderr",
     "output_type": "stream",
     "text": [
      "9it [00:00, 26.89it/s]"
     ]
    },
    {
     "name": "stdout",
     "output_type": "stream",
     "text": [
      "['acc', 'kappa', 'fmeasure', 'loss']\n",
      "Training Loss  1.09704147444831\n"
     ]
    },
    {
     "name": "stderr",
     "output_type": "stream",
     "text": [
      "\n"
     ]
    },
    {
     "name": "stdout",
     "output_type": "stream",
     "text": [
      "Train -  [0.6770833333333334, 0.5694444444444444, 0.6770833333333334, tensor(1.0781)]\n",
      "Validation -  [0.6076388888888888, 0.47685185185185186, 0.6076388888888888, tensor(1.1263)]\n",
      "\n",
      "Epoch  789\n"
     ]
    },
    {
     "name": "stderr",
     "output_type": "stream",
     "text": [
      "9it [00:00, 28.58it/s]\n"
     ]
    },
    {
     "name": "stdout",
     "output_type": "stream",
     "text": [
      "['acc', 'kappa', 'fmeasure', 'loss']\n",
      "Training Loss  1.1045042541291978\n",
      "Train -  [0.6770833333333334, 0.5694444444444444, 0.6770833333333334, tensor(1.0781)]\n",
      "Validation -  [0.6076388888888888, 0.47685185185185186, 0.6076388888888888, tensor(1.1263)]\n",
      "\n",
      "Epoch  790\n"
     ]
    },
    {
     "name": "stderr",
     "output_type": "stream",
     "text": [
      "9it [00:00, 29.70it/s]"
     ]
    },
    {
     "name": "stdout",
     "output_type": "stream",
     "text": [
      "['acc', 'kappa', 'fmeasure', 'loss']\n",
      "Training Loss  1.0959079662958782\n"
     ]
    },
    {
     "name": "stderr",
     "output_type": "stream",
     "text": [
      "\n"
     ]
    },
    {
     "name": "stdout",
     "output_type": "stream",
     "text": [
      "Train -  [0.6770833333333334, 0.5694444444444444, 0.6770833333333334, tensor(1.0779)]\n",
      "Validation -  [0.6076388888888888, 0.47685185185185186, 0.6076388888888888, tensor(1.1261)]\n",
      "\n",
      "Epoch  791\n"
     ]
    },
    {
     "name": "stderr",
     "output_type": "stream",
     "text": [
      "9it [00:00, 32.09it/s]"
     ]
    },
    {
     "name": "stdout",
     "output_type": "stream",
     "text": [
      "['acc', 'kappa', 'fmeasure', 'loss']\n",
      "Training Loss  1.095791671011183\n"
     ]
    },
    {
     "name": "stderr",
     "output_type": "stream",
     "text": [
      "\n"
     ]
    },
    {
     "name": "stdout",
     "output_type": "stream",
     "text": [
      "Train -  [0.6770833333333334, 0.5694444444444444, 0.6770833333333334, tensor(1.0779)]\n",
      "Validation -  [0.6076388888888888, 0.47685185185185186, 0.6076388888888888, tensor(1.1262)]\n",
      "\n",
      "Epoch  792\n"
     ]
    },
    {
     "name": "stderr",
     "output_type": "stream",
     "text": [
      "9it [00:00, 32.83it/s]"
     ]
    },
    {
     "name": "stdout",
     "output_type": "stream",
     "text": [
      "['acc', 'kappa', 'fmeasure', 'loss']\n",
      "Training Loss  1.0958406792746649\n"
     ]
    },
    {
     "name": "stderr",
     "output_type": "stream",
     "text": [
      "\n"
     ]
    },
    {
     "name": "stdout",
     "output_type": "stream",
     "text": [
      "Train -  [0.6770833333333334, 0.5694444444444444, 0.6770833333333334, tensor(1.0779)]\n",
      "Validation -  [0.6076388888888888, 0.47685185185185186, 0.6076388888888888, tensor(1.1262)]\n",
      "\n",
      "Epoch  793\n"
     ]
    },
    {
     "name": "stderr",
     "output_type": "stream",
     "text": [
      "9it [00:00, 31.79it/s]"
     ]
    },
    {
     "name": "stdout",
     "output_type": "stream",
     "text": [
      "['acc', 'kappa', 'fmeasure', 'loss']\n",
      "Training Loss  1.0887726346651714\n"
     ]
    },
    {
     "name": "stderr",
     "output_type": "stream",
     "text": [
      "\n"
     ]
    },
    {
     "name": "stdout",
     "output_type": "stream",
     "text": [
      "Train -  [0.6770833333333334, 0.5694444444444444, 0.6770833333333334, tensor(1.0779)]\n",
      "Validation -  [0.6076388888888888, 0.47685185185185186, 0.6076388888888888, tensor(1.1262)]\n",
      "\n",
      "Epoch  794\n"
     ]
    },
    {
     "name": "stderr",
     "output_type": "stream",
     "text": [
      "9it [00:00, 27.85it/s]"
     ]
    },
    {
     "name": "stdout",
     "output_type": "stream",
     "text": [
      "['acc', 'kappa', 'fmeasure', 'loss']\n",
      "Training Loss  1.1031494008170233\n"
     ]
    },
    {
     "name": "stderr",
     "output_type": "stream",
     "text": [
      "\n"
     ]
    },
    {
     "name": "stdout",
     "output_type": "stream",
     "text": [
      "Train -  [0.6770833333333334, 0.5694444444444444, 0.6770833333333334, tensor(1.0781)]\n",
      "Validation -  [0.6076388888888888, 0.47685185185185186, 0.6076388888888888, tensor(1.1263)]\n",
      "\n",
      "Epoch  795\n"
     ]
    },
    {
     "name": "stderr",
     "output_type": "stream",
     "text": [
      "9it [00:00, 28.78it/s]"
     ]
    },
    {
     "name": "stdout",
     "output_type": "stream",
     "text": [
      "['acc', 'kappa', 'fmeasure', 'loss']\n",
      "Training Loss  1.1110500362184312\n"
     ]
    },
    {
     "name": "stderr",
     "output_type": "stream",
     "text": [
      "\n"
     ]
    },
    {
     "name": "stdout",
     "output_type": "stream",
     "text": [
      "Train -  [0.6770833333333334, 0.5694444444444444, 0.6770833333333334, tensor(1.0781)]\n",
      "Validation -  [0.6076388888888888, 0.47685185185185186, 0.6076388888888888, tensor(1.1263)]\n",
      "\n",
      "Epoch  796\n"
     ]
    },
    {
     "name": "stderr",
     "output_type": "stream",
     "text": [
      "9it [00:00, 25.64it/s]"
     ]
    },
    {
     "name": "stdout",
     "output_type": "stream",
     "text": [
      "['acc', 'kappa', 'fmeasure', 'loss']\n",
      "Training Loss  1.1050411992602878\n"
     ]
    },
    {
     "name": "stderr",
     "output_type": "stream",
     "text": [
      "\n"
     ]
    },
    {
     "name": "stdout",
     "output_type": "stream",
     "text": [
      "Train -  [0.6770833333333334, 0.5694444444444444, 0.6770833333333334, tensor(1.0781)]\n",
      "Validation -  [0.6076388888888888, 0.47685185185185186, 0.6076388888888888, tensor(1.1263)]\n",
      "\n",
      "Epoch  797\n"
     ]
    },
    {
     "name": "stderr",
     "output_type": "stream",
     "text": [
      "9it [00:00, 26.90it/s]"
     ]
    },
    {
     "name": "stdout",
     "output_type": "stream",
     "text": [
      "['acc', 'kappa', 'fmeasure', 'loss']\n",
      "Training Loss  1.1006975968678792\n"
     ]
    },
    {
     "name": "stderr",
     "output_type": "stream",
     "text": [
      "\n"
     ]
    },
    {
     "name": "stdout",
     "output_type": "stream",
     "text": [
      "Train -  [0.6770833333333334, 0.5694444444444444, 0.6770833333333334, tensor(1.0781)]\n",
      "Validation -  [0.6076388888888888, 0.47685185185185186, 0.6076388888888888, tensor(1.1263)]\n",
      "\n",
      "Epoch  798\n"
     ]
    },
    {
     "name": "stderr",
     "output_type": "stream",
     "text": [
      "9it [00:00, 32.64it/s]"
     ]
    },
    {
     "name": "stdout",
     "output_type": "stream",
     "text": [
      "['acc', 'kappa', 'fmeasure', 'loss']\n",
      "Training Loss  1.0977940029568143\n"
     ]
    },
    {
     "name": "stderr",
     "output_type": "stream",
     "text": [
      "\n"
     ]
    },
    {
     "name": "stdout",
     "output_type": "stream",
     "text": [
      "Train -  [0.6770833333333334, 0.5694444444444444, 0.6770833333333334, tensor(1.0780)]\n",
      "Validation -  [0.6076388888888888, 0.47685185185185186, 0.6076388888888888, tensor(1.1262)]\n",
      "\n",
      "Epoch  799\n"
     ]
    },
    {
     "name": "stderr",
     "output_type": "stream",
     "text": [
      "9it [00:00, 29.70it/s]"
     ]
    },
    {
     "name": "stdout",
     "output_type": "stream",
     "text": [
      "['acc', 'kappa', 'fmeasure', 'loss']\n",
      "Training Loss  1.1091681321461995\n"
     ]
    },
    {
     "name": "stderr",
     "output_type": "stream",
     "text": [
      "\n"
     ]
    },
    {
     "name": "stdout",
     "output_type": "stream",
     "text": [
      "Train -  [0.6770833333333334, 0.5694444444444444, 0.6770833333333334, tensor(1.0781)]\n",
      "Validation -  [0.6076388888888888, 0.47685185185185186, 0.6076388888888888, tensor(1.1263)]\n",
      "\n",
      "Epoch  800\n"
     ]
    },
    {
     "name": "stderr",
     "output_type": "stream",
     "text": [
      "9it [00:00, 26.89it/s]"
     ]
    },
    {
     "name": "stdout",
     "output_type": "stream",
     "text": [
      "['acc', 'kappa', 'fmeasure', 'loss']\n",
      "Training Loss  1.098807606432173\n"
     ]
    },
    {
     "name": "stderr",
     "output_type": "stream",
     "text": [
      "\n"
     ]
    },
    {
     "name": "stdout",
     "output_type": "stream",
     "text": [
      "Train -  [0.6770833333333334, 0.5694444444444444, 0.6770833333333334, tensor(1.0779)]\n",
      "Validation -  [0.6076388888888888, 0.47685185185185186, 0.6076388888888888, tensor(1.1262)]\n",
      "\n",
      "Epoch  801\n"
     ]
    },
    {
     "name": "stderr",
     "output_type": "stream",
     "text": [
      "9it [00:00, 28.36it/s]"
     ]
    },
    {
     "name": "stdout",
     "output_type": "stream",
     "text": [
      "['acc', 'kappa', 'fmeasure', 'loss']\n",
      "Training Loss  1.102811786863539\n"
     ]
    },
    {
     "name": "stderr",
     "output_type": "stream",
     "text": [
      "\n"
     ]
    },
    {
     "name": "stdout",
     "output_type": "stream",
     "text": [
      "Train -  [0.6770833333333334, 0.5694444444444444, 0.6770833333333334, tensor(1.0779)]\n",
      "Validation -  [0.6076388888888888, 0.47685185185185186, 0.6076388888888888, tensor(1.1262)]\n",
      "\n",
      "Epoch  802\n"
     ]
    },
    {
     "name": "stderr",
     "output_type": "stream",
     "text": [
      "9it [00:00, 31.15it/s]"
     ]
    },
    {
     "name": "stdout",
     "output_type": "stream",
     "text": [
      "['acc', 'kappa', 'fmeasure', 'loss']\n",
      "Training Loss  1.0886959764692519\n"
     ]
    },
    {
     "name": "stderr",
     "output_type": "stream",
     "text": [
      "\n"
     ]
    },
    {
     "name": "stdout",
     "output_type": "stream",
     "text": [
      "Train -  [0.6770833333333334, 0.5694444444444444, 0.6770833333333334, tensor(1.0780)]\n",
      "Validation -  [0.6076388888888888, 0.47685185185185186, 0.6076388888888888, tensor(1.1262)]\n",
      "\n",
      "Epoch  803\n"
     ]
    },
    {
     "name": "stderr",
     "output_type": "stream",
     "text": [
      "9it [00:00, 28.57it/s]"
     ]
    },
    {
     "name": "stdout",
     "output_type": "stream",
     "text": [
      "['acc', 'kappa', 'fmeasure', 'loss']\n",
      "Training Loss  1.0887164539761014\n"
     ]
    },
    {
     "name": "stderr",
     "output_type": "stream",
     "text": [
      "\n"
     ]
    },
    {
     "name": "stdout",
     "output_type": "stream",
     "text": [
      "Train -  [0.6770833333333334, 0.5694444444444444, 0.6770833333333334, tensor(1.0780)]\n",
      "Validation -  [0.6076388888888888, 0.47685185185185186, 0.6076388888888888, tensor(1.1262)]\n",
      "\n",
      "Epoch  804\n"
     ]
    },
    {
     "name": "stderr",
     "output_type": "stream",
     "text": [
      "9it [00:00, 27.97it/s]"
     ]
    },
    {
     "name": "stdout",
     "output_type": "stream",
     "text": [
      "['acc', 'kappa', 'fmeasure', 'loss']\n",
      "Training Loss  1.1000678075684442\n"
     ]
    },
    {
     "name": "stderr",
     "output_type": "stream",
     "text": [
      "\n"
     ]
    },
    {
     "name": "stdout",
     "output_type": "stream",
     "text": [
      "Train -  [0.6770833333333334, 0.5694444444444444, 0.6770833333333334, tensor(1.0779)]\n",
      "Validation -  [0.6076388888888888, 0.47685185185185186, 0.6076388888888888, tensor(1.1262)]\n",
      "\n",
      "Epoch  805\n"
     ]
    },
    {
     "name": "stderr",
     "output_type": "stream",
     "text": [
      "9it [00:00, 27.63it/s]"
     ]
    },
    {
     "name": "stdout",
     "output_type": "stream",
     "text": [
      "['acc', 'kappa', 'fmeasure', 'loss']\n",
      "Training Loss  1.0915780464808147\n"
     ]
    },
    {
     "name": "stderr",
     "output_type": "stream",
     "text": [
      "\n"
     ]
    },
    {
     "name": "stdout",
     "output_type": "stream",
     "text": [
      "Train -  [0.6770833333333334, 0.5694444444444444, 0.6770833333333334, tensor(1.0779)]\n",
      "Validation -  [0.6076388888888888, 0.47685185185185186, 0.6076388888888888, tensor(1.1262)]\n",
      "\n",
      "Epoch  806\n"
     ]
    },
    {
     "name": "stderr",
     "output_type": "stream",
     "text": [
      "9it [00:00, 31.36it/s]"
     ]
    },
    {
     "name": "stdout",
     "output_type": "stream",
     "text": [
      "['acc', 'kappa', 'fmeasure', 'loss']\n",
      "Training Loss  1.1030874517228868\n"
     ]
    },
    {
     "name": "stderr",
     "output_type": "stream",
     "text": [
      "\n"
     ]
    },
    {
     "name": "stdout",
     "output_type": "stream",
     "text": [
      "Train -  [0.6770833333333334, 0.5694444444444444, 0.6770833333333334, tensor(1.0780)]\n",
      "Validation -  [0.6076388888888888, 0.47685185185185186, 0.6076388888888888, tensor(1.1262)]\n",
      "\n",
      "Epoch  807\n"
     ]
    },
    {
     "name": "stderr",
     "output_type": "stream",
     "text": [
      "9it [00:00, 27.99it/s]\n"
     ]
    },
    {
     "name": "stdout",
     "output_type": "stream",
     "text": [
      "['acc', 'kappa', 'fmeasure', 'loss']\n",
      "Training Loss  1.0988963577482436\n",
      "Train -  [0.6770833333333334, 0.5694444444444444, 0.6770833333333334, tensor(1.0779)]\n",
      "Validation -  [0.6076388888888888, 0.47685185185185186, 0.6076388888888888, tensor(1.1262)]\n",
      "\n",
      "Epoch  808\n"
     ]
    },
    {
     "name": "stderr",
     "output_type": "stream",
     "text": [
      "9it [00:00, 29.22it/s]"
     ]
    },
    {
     "name": "stdout",
     "output_type": "stream",
     "text": [
      "['acc', 'kappa', 'fmeasure', 'loss']\n",
      "Training Loss  1.0942503346337213\n"
     ]
    },
    {
     "name": "stderr",
     "output_type": "stream",
     "text": [
      "\n"
     ]
    },
    {
     "name": "stdout",
     "output_type": "stream",
     "text": [
      "Train -  [0.6770833333333334, 0.5694444444444444, 0.6770833333333334, tensor(1.0780)]\n",
      "Validation -  [0.6076388888888888, 0.47685185185185186, 0.6076388888888888, tensor(1.1262)]\n",
      "\n",
      "Epoch  809\n"
     ]
    },
    {
     "name": "stderr",
     "output_type": "stream",
     "text": [
      "9it [00:00, 28.40it/s]"
     ]
    },
    {
     "name": "stdout",
     "output_type": "stream",
     "text": [
      "['acc', 'kappa', 'fmeasure', 'loss']\n",
      "Training Loss  1.1068365838792589\n"
     ]
    },
    {
     "name": "stderr",
     "output_type": "stream",
     "text": [
      "\n"
     ]
    },
    {
     "name": "stdout",
     "output_type": "stream",
     "text": [
      "Train -  [0.6770833333333334, 0.5694444444444444, 0.6770833333333334, tensor(1.0780)]\n",
      "Validation -  [0.6076388888888888, 0.47685185185185186, 0.6076388888888888, tensor(1.1262)]\n",
      "\n",
      "Epoch  810\n"
     ]
    },
    {
     "name": "stderr",
     "output_type": "stream",
     "text": [
      "9it [00:00, 28.31it/s]"
     ]
    },
    {
     "name": "stdout",
     "output_type": "stream",
     "text": [
      "['acc', 'kappa', 'fmeasure', 'loss']\n",
      "Training Loss  1.1028097338146634\n"
     ]
    },
    {
     "name": "stderr",
     "output_type": "stream",
     "text": [
      "\n"
     ]
    },
    {
     "name": "stdout",
     "output_type": "stream",
     "text": [
      "Train -  [0.6770833333333334, 0.5694444444444444, 0.6770833333333334, tensor(1.0780)]\n",
      "Validation -  [0.6076388888888888, 0.47685185185185186, 0.6076388888888888, tensor(1.1262)]\n",
      "\n",
      "Epoch  811\n"
     ]
    },
    {
     "name": "stderr",
     "output_type": "stream",
     "text": [
      "9it [00:00, 29.00it/s]"
     ]
    },
    {
     "name": "stdout",
     "output_type": "stream",
     "text": [
      "['acc', 'kappa', 'fmeasure', 'loss']\n",
      "Training Loss  1.1063896616299946\n"
     ]
    },
    {
     "name": "stderr",
     "output_type": "stream",
     "text": [
      "\n"
     ]
    },
    {
     "name": "stdout",
     "output_type": "stream",
     "text": [
      "Train -  [0.6770833333333334, 0.5694444444444444, 0.6770833333333334, tensor(1.0779)]\n",
      "Validation -  [0.6076388888888888, 0.47685185185185186, 0.6076388888888888, tensor(1.1262)]\n",
      "\n",
      "Epoch  812\n"
     ]
    },
    {
     "name": "stderr",
     "output_type": "stream",
     "text": [
      "9it [00:00, 28.96it/s]"
     ]
    },
    {
     "name": "stdout",
     "output_type": "stream",
     "text": [
      "['acc', 'kappa', 'fmeasure', 'loss']\n",
      "Training Loss  1.1008746756447687\n"
     ]
    },
    {
     "name": "stderr",
     "output_type": "stream",
     "text": [
      "\n"
     ]
    },
    {
     "name": "stdout",
     "output_type": "stream",
     "text": [
      "Train -  [0.6770833333333334, 0.5694444444444444, 0.6770833333333334, tensor(1.0780)]\n",
      "Validation -  [0.6076388888888888, 0.47685185185185186, 0.6076388888888888, tensor(1.1262)]\n",
      "\n",
      "Epoch  813\n"
     ]
    },
    {
     "name": "stderr",
     "output_type": "stream",
     "text": [
      "9it [00:00, 28.74it/s]"
     ]
    },
    {
     "name": "stdout",
     "output_type": "stream",
     "text": [
      "['acc', 'kappa', 'fmeasure', 'loss']\n",
      "Training Loss  1.1116238832473755\n"
     ]
    },
    {
     "name": "stderr",
     "output_type": "stream",
     "text": [
      "\n"
     ]
    },
    {
     "name": "stdout",
     "output_type": "stream",
     "text": [
      "Train -  [0.6770833333333334, 0.5694444444444444, 0.6770833333333334, tensor(1.0779)]\n",
      "Validation -  [0.6076388888888888, 0.47685185185185186, 0.6076388888888888, tensor(1.1262)]\n",
      "\n",
      "Epoch  814\n"
     ]
    },
    {
     "name": "stderr",
     "output_type": "stream",
     "text": [
      "9it [00:00, 28.44it/s]"
     ]
    },
    {
     "name": "stdout",
     "output_type": "stream",
     "text": [
      "['acc', 'kappa', 'fmeasure', 'loss']\n",
      "Training Loss  1.0930906136830647\n"
     ]
    },
    {
     "name": "stderr",
     "output_type": "stream",
     "text": [
      "\n"
     ]
    },
    {
     "name": "stdout",
     "output_type": "stream",
     "text": [
      "Train -  [0.6770833333333334, 0.5694444444444444, 0.6770833333333334, tensor(1.0778)]\n",
      "Validation -  [0.6076388888888888, 0.47685185185185186, 0.6076388888888888, tensor(1.1261)]\n",
      "\n",
      "Epoch  815\n"
     ]
    },
    {
     "name": "stderr",
     "output_type": "stream",
     "text": [
      "9it [00:00, 28.11it/s]"
     ]
    },
    {
     "name": "stdout",
     "output_type": "stream",
     "text": [
      "['acc', 'kappa', 'fmeasure', 'loss']\n",
      "Training Loss  1.1007732417848375\n"
     ]
    },
    {
     "name": "stderr",
     "output_type": "stream",
     "text": [
      "\n"
     ]
    },
    {
     "name": "stdout",
     "output_type": "stream",
     "text": [
      "Train -  [0.6770833333333334, 0.5694444444444444, 0.6770833333333334, tensor(1.0777)]\n",
      "Validation -  [0.6076388888888888, 0.47685185185185186, 0.6076388888888888, tensor(1.1260)]\n",
      "\n",
      "Epoch  816\n"
     ]
    },
    {
     "name": "stderr",
     "output_type": "stream",
     "text": [
      "9it [00:00, 34.13it/s]"
     ]
    },
    {
     "name": "stdout",
     "output_type": "stream",
     "text": [
      "['acc', 'kappa', 'fmeasure', 'loss']\n",
      "Training Loss  1.0949400663375854\n"
     ]
    },
    {
     "name": "stderr",
     "output_type": "stream",
     "text": [
      "\n"
     ]
    },
    {
     "name": "stdout",
     "output_type": "stream",
     "text": [
      "Train -  [0.6770833333333334, 0.5694444444444444, 0.6770833333333334, tensor(1.0778)]\n",
      "Validation -  [0.6076388888888888, 0.47685185185185186, 0.6076388888888888, tensor(1.1261)]\n",
      "\n",
      "Epoch  817\n"
     ]
    },
    {
     "name": "stderr",
     "output_type": "stream",
     "text": [
      "9it [00:00, 27.58it/s]"
     ]
    },
    {
     "name": "stdout",
     "output_type": "stream",
     "text": [
      "['acc', 'kappa', 'fmeasure', 'loss']\n",
      "Training Loss  1.1041411956151326\n"
     ]
    },
    {
     "name": "stderr",
     "output_type": "stream",
     "text": [
      "\n"
     ]
    },
    {
     "name": "stdout",
     "output_type": "stream",
     "text": [
      "Train -  [0.6770833333333334, 0.5694444444444444, 0.6770833333333334, tensor(1.0780)]\n",
      "Validation -  [0.6076388888888888, 0.47685185185185186, 0.6076388888888888, tensor(1.1262)]\n",
      "\n",
      "Epoch  818\n"
     ]
    },
    {
     "name": "stderr",
     "output_type": "stream",
     "text": [
      "9it [00:00, 28.98it/s]"
     ]
    },
    {
     "name": "stdout",
     "output_type": "stream",
     "text": [
      "['acc', 'kappa', 'fmeasure', 'loss']\n",
      "Training Loss  1.094826062520345\n"
     ]
    },
    {
     "name": "stderr",
     "output_type": "stream",
     "text": [
      "\n"
     ]
    },
    {
     "name": "stdout",
     "output_type": "stream",
     "text": [
      "Train -  [0.6770833333333334, 0.5694444444444444, 0.6770833333333334, tensor(1.0779)]\n",
      "Validation -  [0.6076388888888888, 0.47685185185185186, 0.6076388888888888, tensor(1.1262)]\n",
      "\n",
      "Epoch  819\n"
     ]
    },
    {
     "name": "stderr",
     "output_type": "stream",
     "text": [
      "9it [00:00, 29.66it/s]"
     ]
    },
    {
     "name": "stdout",
     "output_type": "stream",
     "text": [
      "['acc', 'kappa', 'fmeasure', 'loss']\n",
      "Training Loss  1.0977529287338257\n"
     ]
    },
    {
     "name": "stderr",
     "output_type": "stream",
     "text": [
      "\n"
     ]
    },
    {
     "name": "stdout",
     "output_type": "stream",
     "text": [
      "Train -  [0.6770833333333334, 0.5694444444444444, 0.6770833333333334, tensor(1.0780)]\n",
      "Validation -  [0.6076388888888888, 0.47685185185185186, 0.6076388888888888, tensor(1.1262)]\n",
      "\n",
      "Epoch  820\n"
     ]
    },
    {
     "name": "stderr",
     "output_type": "stream",
     "text": [
      "9it [00:00, 31.14it/s]"
     ]
    },
    {
     "name": "stdout",
     "output_type": "stream",
     "text": [
      "['acc', 'kappa', 'fmeasure', 'loss']\n",
      "Training Loss  1.0961840285195246\n"
     ]
    },
    {
     "name": "stderr",
     "output_type": "stream",
     "text": [
      "\n"
     ]
    },
    {
     "name": "stdout",
     "output_type": "stream",
     "text": [
      "Train -  [0.6770833333333334, 0.5694444444444444, 0.6770833333333334, tensor(1.0781)]\n",
      "Validation -  [0.6076388888888888, 0.47685185185185186, 0.6076388888888888, tensor(1.1263)]\n",
      "\n",
      "Epoch  821\n"
     ]
    },
    {
     "name": "stderr",
     "output_type": "stream",
     "text": [
      "9it [00:00, 28.43it/s]"
     ]
    },
    {
     "name": "stdout",
     "output_type": "stream",
     "text": [
      "['acc', 'kappa', 'fmeasure', 'loss']\n",
      "Training Loss  1.1010202566782634\n"
     ]
    },
    {
     "name": "stderr",
     "output_type": "stream",
     "text": [
      "\n"
     ]
    },
    {
     "name": "stdout",
     "output_type": "stream",
     "text": [
      "Train -  [0.6770833333333334, 0.5694444444444444, 0.6770833333333334, tensor(1.0780)]\n",
      "Validation -  [0.6076388888888888, 0.47685185185185186, 0.6076388888888888, tensor(1.1263)]\n",
      "\n",
      "Epoch  822\n"
     ]
    },
    {
     "name": "stderr",
     "output_type": "stream",
     "text": [
      "9it [00:00, 24.80it/s]"
     ]
    },
    {
     "name": "stdout",
     "output_type": "stream",
     "text": [
      "['acc', 'kappa', 'fmeasure', 'loss']\n",
      "Training Loss  1.1127994722790189\n"
     ]
    },
    {
     "name": "stderr",
     "output_type": "stream",
     "text": [
      "\n"
     ]
    },
    {
     "name": "stdout",
     "output_type": "stream",
     "text": [
      "Train -  [0.6770833333333334, 0.5694444444444444, 0.6770833333333334, tensor(1.0779)]\n",
      "Validation -  [0.6076388888888888, 0.47685185185185186, 0.6076388888888888, tensor(1.1262)]\n",
      "\n",
      "Epoch  823\n"
     ]
    },
    {
     "name": "stderr",
     "output_type": "stream",
     "text": [
      "9it [00:00, 30.22it/s]"
     ]
    },
    {
     "name": "stdout",
     "output_type": "stream",
     "text": [
      "['acc', 'kappa', 'fmeasure', 'loss']\n",
      "Training Loss  1.0997473398844402\n"
     ]
    },
    {
     "name": "stderr",
     "output_type": "stream",
     "text": [
      "\n"
     ]
    },
    {
     "name": "stdout",
     "output_type": "stream",
     "text": [
      "Train -  [0.6770833333333334, 0.5694444444444444, 0.6770833333333334, tensor(1.0781)]\n",
      "Validation -  [0.6076388888888888, 0.47685185185185186, 0.6076388888888888, tensor(1.1263)]\n",
      "\n",
      "Epoch  824\n"
     ]
    },
    {
     "name": "stderr",
     "output_type": "stream",
     "text": [
      "9it [00:00, 27.55it/s]"
     ]
    },
    {
     "name": "stdout",
     "output_type": "stream",
     "text": [
      "['acc', 'kappa', 'fmeasure', 'loss']\n",
      "Training Loss  1.103507889641656\n"
     ]
    },
    {
     "name": "stderr",
     "output_type": "stream",
     "text": [
      "\n"
     ]
    },
    {
     "name": "stdout",
     "output_type": "stream",
     "text": [
      "Train -  [0.6770833333333334, 0.5694444444444444, 0.6770833333333334, tensor(1.0779)]\n",
      "Validation -  [0.6076388888888888, 0.47685185185185186, 0.6076388888888888, tensor(1.1262)]\n",
      "\n",
      "Epoch  825\n"
     ]
    },
    {
     "name": "stderr",
     "output_type": "stream",
     "text": [
      "9it [00:00, 27.42it/s]"
     ]
    },
    {
     "name": "stdout",
     "output_type": "stream",
     "text": [
      "['acc', 'kappa', 'fmeasure', 'loss']\n",
      "Training Loss  1.1043726205825806\n"
     ]
    },
    {
     "name": "stderr",
     "output_type": "stream",
     "text": [
      "\n"
     ]
    },
    {
     "name": "stdout",
     "output_type": "stream",
     "text": [
      "Train -  [0.6770833333333334, 0.5694444444444444, 0.6770833333333334, tensor(1.0781)]\n",
      "Validation -  [0.6076388888888888, 0.47685185185185186, 0.6076388888888888, tensor(1.1263)]\n",
      "\n",
      "Epoch  826\n"
     ]
    },
    {
     "name": "stderr",
     "output_type": "stream",
     "text": [
      "9it [00:00, 29.59it/s]"
     ]
    },
    {
     "name": "stdout",
     "output_type": "stream",
     "text": [
      "['acc', 'kappa', 'fmeasure', 'loss']\n",
      "Training Loss  1.0910012457105849\n"
     ]
    },
    {
     "name": "stderr",
     "output_type": "stream",
     "text": [
      "\n"
     ]
    },
    {
     "name": "stdout",
     "output_type": "stream",
     "text": [
      "Train -  [0.6770833333333334, 0.5694444444444444, 0.6770833333333334, tensor(1.0781)]\n",
      "Validation -  [0.6076388888888888, 0.47685185185185186, 0.6076388888888888, tensor(1.1263)]\n",
      "\n",
      "Epoch  827\n"
     ]
    },
    {
     "name": "stderr",
     "output_type": "stream",
     "text": [
      "9it [00:00, 29.12it/s]"
     ]
    },
    {
     "name": "stdout",
     "output_type": "stream",
     "text": [
      "['acc', 'kappa', 'fmeasure', 'loss']\n",
      "Training Loss  1.099196990331014\n"
     ]
    },
    {
     "name": "stderr",
     "output_type": "stream",
     "text": [
      "\n"
     ]
    },
    {
     "name": "stdout",
     "output_type": "stream",
     "text": [
      "Train -  [0.6770833333333334, 0.5694444444444444, 0.6770833333333334, tensor(1.0781)]\n",
      "Validation -  [0.6076388888888888, 0.47685185185185186, 0.6076388888888888, tensor(1.1263)]\n",
      "\n",
      "Epoch  828\n"
     ]
    },
    {
     "name": "stderr",
     "output_type": "stream",
     "text": [
      "9it [00:00, 34.09it/s]"
     ]
    },
    {
     "name": "stdout",
     "output_type": "stream",
     "text": [
      "['acc', 'kappa', 'fmeasure', 'loss']\n",
      "Training Loss  1.0984004868401422\n"
     ]
    },
    {
     "name": "stderr",
     "output_type": "stream",
     "text": [
      "\n"
     ]
    },
    {
     "name": "stdout",
     "output_type": "stream",
     "text": [
      "Train -  [0.6770833333333334, 0.5694444444444444, 0.6770833333333334, tensor(1.0781)]\n",
      "Validation -  [0.6076388888888888, 0.47685185185185186, 0.6076388888888888, tensor(1.1263)]\n",
      "\n",
      "Epoch  829\n"
     ]
    },
    {
     "name": "stderr",
     "output_type": "stream",
     "text": [
      "9it [00:00, 27.51it/s]"
     ]
    },
    {
     "name": "stdout",
     "output_type": "stream",
     "text": [
      "['acc', 'kappa', 'fmeasure', 'loss']\n",
      "Training Loss  1.1135222911834717\n"
     ]
    },
    {
     "name": "stderr",
     "output_type": "stream",
     "text": [
      "\n"
     ]
    },
    {
     "name": "stdout",
     "output_type": "stream",
     "text": [
      "Train -  [0.6770833333333334, 0.5694444444444444, 0.6770833333333334, tensor(1.0782)]\n",
      "Validation -  [0.6076388888888888, 0.47685185185185186, 0.6076388888888888, tensor(1.1264)]\n",
      "\n",
      "Epoch  830\n"
     ]
    },
    {
     "name": "stderr",
     "output_type": "stream",
     "text": [
      "9it [00:00, 29.59it/s]"
     ]
    },
    {
     "name": "stdout",
     "output_type": "stream",
     "text": [
      "['acc', 'kappa', 'fmeasure', 'loss']\n",
      "Training Loss  1.100822024875217\n"
     ]
    },
    {
     "name": "stderr",
     "output_type": "stream",
     "text": [
      "\n"
     ]
    },
    {
     "name": "stdout",
     "output_type": "stream",
     "text": [
      "Train -  [0.6770833333333334, 0.5694444444444444, 0.6770833333333334, tensor(1.0779)]\n",
      "Validation -  [0.6076388888888888, 0.47685185185185186, 0.6076388888888888, tensor(1.1262)]\n",
      "\n",
      "Epoch  831\n"
     ]
    },
    {
     "name": "stderr",
     "output_type": "stream",
     "text": [
      "9it [00:00, 26.15it/s]"
     ]
    },
    {
     "name": "stdout",
     "output_type": "stream",
     "text": [
      "['acc', 'kappa', 'fmeasure', 'loss']\n",
      "Training Loss  1.0939202772246466\n"
     ]
    },
    {
     "name": "stderr",
     "output_type": "stream",
     "text": [
      "\n"
     ]
    },
    {
     "name": "stdout",
     "output_type": "stream",
     "text": [
      "Train -  [0.6770833333333334, 0.5694444444444444, 0.6770833333333334, tensor(1.0780)]\n",
      "Validation -  [0.6076388888888888, 0.47685185185185186, 0.6076388888888888, tensor(1.1262)]\n",
      "\n",
      "Epoch  832\n"
     ]
    },
    {
     "name": "stderr",
     "output_type": "stream",
     "text": [
      "9it [00:00, 29.87it/s]"
     ]
    },
    {
     "name": "stdout",
     "output_type": "stream",
     "text": [
      "['acc', 'kappa', 'fmeasure', 'loss']\n",
      "Training Loss  1.0920380221472845\n"
     ]
    },
    {
     "name": "stderr",
     "output_type": "stream",
     "text": [
      "\n"
     ]
    },
    {
     "name": "stdout",
     "output_type": "stream",
     "text": [
      "Train -  [0.6770833333333334, 0.5694444444444444, 0.6770833333333334, tensor(1.0780)]\n",
      "Validation -  [0.6076388888888888, 0.47685185185185186, 0.6076388888888888, tensor(1.1262)]\n",
      "\n",
      "Epoch  833\n"
     ]
    },
    {
     "name": "stderr",
     "output_type": "stream",
     "text": [
      "9it [00:00, 27.76it/s]"
     ]
    },
    {
     "name": "stdout",
     "output_type": "stream",
     "text": [
      "['acc', 'kappa', 'fmeasure', 'loss']\n",
      "Training Loss  1.1007362736596003\n"
     ]
    },
    {
     "name": "stderr",
     "output_type": "stream",
     "text": [
      "\n"
     ]
    },
    {
     "name": "stdout",
     "output_type": "stream",
     "text": [
      "Train -  [0.6770833333333334, 0.5694444444444444, 0.6770833333333334, tensor(1.0781)]\n",
      "Validation -  [0.6076388888888888, 0.47685185185185186, 0.6076388888888888, tensor(1.1263)]\n",
      "\n",
      "Epoch  834\n"
     ]
    },
    {
     "name": "stderr",
     "output_type": "stream",
     "text": [
      "9it [00:00, 24.64it/s]"
     ]
    },
    {
     "name": "stdout",
     "output_type": "stream",
     "text": [
      "['acc', 'kappa', 'fmeasure', 'loss']\n",
      "Training Loss  1.101313551266988\n"
     ]
    },
    {
     "name": "stderr",
     "output_type": "stream",
     "text": [
      "\n"
     ]
    },
    {
     "name": "stdout",
     "output_type": "stream",
     "text": [
      "Train -  [0.6770833333333334, 0.5694444444444444, 0.6770833333333334, tensor(1.0780)]\n",
      "Validation -  [0.6076388888888888, 0.47685185185185186, 0.6076388888888888, tensor(1.1262)]\n",
      "\n",
      "Epoch  835\n"
     ]
    },
    {
     "name": "stderr",
     "output_type": "stream",
     "text": [
      "9it [00:00, 28.11it/s]"
     ]
    },
    {
     "name": "stdout",
     "output_type": "stream",
     "text": [
      "['acc', 'kappa', 'fmeasure', 'loss']\n",
      "Training Loss  1.1004769404729207\n"
     ]
    },
    {
     "name": "stderr",
     "output_type": "stream",
     "text": [
      "\n"
     ]
    },
    {
     "name": "stdout",
     "output_type": "stream",
     "text": [
      "Train -  [0.6770833333333334, 0.5694444444444444, 0.6770833333333334, tensor(1.0780)]\n",
      "Validation -  [0.6076388888888888, 0.47685185185185186, 0.6076388888888888, tensor(1.1262)]\n",
      "\n",
      "Epoch  836\n"
     ]
    },
    {
     "name": "stderr",
     "output_type": "stream",
     "text": [
      "9it [00:00, 31.82it/s]"
     ]
    },
    {
     "name": "stdout",
     "output_type": "stream",
     "text": [
      "['acc', 'kappa', 'fmeasure', 'loss']\n",
      "Training Loss  1.0930622153811984\n"
     ]
    },
    {
     "name": "stderr",
     "output_type": "stream",
     "text": [
      "\n"
     ]
    },
    {
     "name": "stdout",
     "output_type": "stream",
     "text": [
      "Train -  [0.6770833333333334, 0.5694444444444444, 0.6770833333333334, tensor(1.0781)]\n",
      "Validation -  [0.6076388888888888, 0.47685185185185186, 0.6076388888888888, tensor(1.1263)]\n",
      "\n",
      "Epoch  837\n"
     ]
    },
    {
     "name": "stderr",
     "output_type": "stream",
     "text": [
      "9it [00:00, 30.00it/s]"
     ]
    },
    {
     "name": "stdout",
     "output_type": "stream",
     "text": [
      "['acc', 'kappa', 'fmeasure', 'loss']\n",
      "Training Loss  1.1076007551617093\n"
     ]
    },
    {
     "name": "stderr",
     "output_type": "stream",
     "text": [
      "\n"
     ]
    },
    {
     "name": "stdout",
     "output_type": "stream",
     "text": [
      "Train -  [0.6770833333333334, 0.5694444444444444, 0.6770833333333334, tensor(1.0781)]\n",
      "Validation -  [0.6076388888888888, 0.47685185185185186, 0.6076388888888888, tensor(1.1263)]\n",
      "\n",
      "Epoch  838\n"
     ]
    },
    {
     "name": "stderr",
     "output_type": "stream",
     "text": [
      "9it [00:00, 33.52it/s]"
     ]
    },
    {
     "name": "stdout",
     "output_type": "stream",
     "text": [
      "['acc', 'kappa', 'fmeasure', 'loss']\n",
      "Training Loss  1.098602056503296\n"
     ]
    },
    {
     "name": "stderr",
     "output_type": "stream",
     "text": [
      "\n"
     ]
    },
    {
     "name": "stdout",
     "output_type": "stream",
     "text": [
      "Train -  [0.6770833333333334, 0.5694444444444444, 0.6770833333333334, tensor(1.0780)]\n",
      "Validation -  [0.6076388888888888, 0.47685185185185186, 0.6076388888888888, tensor(1.1262)]\n",
      "\n",
      "Epoch  839\n"
     ]
    },
    {
     "name": "stderr",
     "output_type": "stream",
     "text": [
      "9it [00:00, 27.49it/s]"
     ]
    },
    {
     "name": "stdout",
     "output_type": "stream",
     "text": [
      "['acc', 'kappa', 'fmeasure', 'loss']\n",
      "Training Loss  1.1090316242641873\n"
     ]
    },
    {
     "name": "stderr",
     "output_type": "stream",
     "text": [
      "\n"
     ]
    },
    {
     "name": "stdout",
     "output_type": "stream",
     "text": [
      "Train -  [0.6770833333333334, 0.5694444444444444, 0.6770833333333334, tensor(1.0781)]\n",
      "Validation -  [0.6076388888888888, 0.47685185185185186, 0.6076388888888888, tensor(1.1263)]\n",
      "\n",
      "Epoch  840\n"
     ]
    },
    {
     "name": "stderr",
     "output_type": "stream",
     "text": [
      "9it [00:00, 32.15it/s]"
     ]
    },
    {
     "name": "stdout",
     "output_type": "stream",
     "text": [
      "['acc', 'kappa', 'fmeasure', 'loss']\n",
      "Training Loss  1.0934117237726848\n"
     ]
    },
    {
     "name": "stderr",
     "output_type": "stream",
     "text": [
      "\n"
     ]
    },
    {
     "name": "stdout",
     "output_type": "stream",
     "text": [
      "Train -  [0.6770833333333334, 0.5694444444444444, 0.6770833333333334, tensor(1.0779)]\n",
      "Validation -  [0.6076388888888888, 0.47685185185185186, 0.6076388888888888, tensor(1.1262)]\n",
      "\n",
      "Epoch  841\n"
     ]
    },
    {
     "name": "stderr",
     "output_type": "stream",
     "text": [
      "9it [00:00, 31.81it/s]"
     ]
    },
    {
     "name": "stdout",
     "output_type": "stream",
     "text": [
      "['acc', 'kappa', 'fmeasure', 'loss']\n",
      "Training Loss  1.0976895888646443\n"
     ]
    },
    {
     "name": "stderr",
     "output_type": "stream",
     "text": [
      "\n"
     ]
    },
    {
     "name": "stdout",
     "output_type": "stream",
     "text": [
      "Train -  [0.6770833333333334, 0.5694444444444444, 0.6770833333333334, tensor(1.0780)]\n",
      "Validation -  [0.6076388888888888, 0.47685185185185186, 0.6076388888888888, tensor(1.1263)]\n",
      "\n",
      "Epoch  842\n"
     ]
    },
    {
     "name": "stderr",
     "output_type": "stream",
     "text": [
      "9it [00:00, 31.92it/s]"
     ]
    },
    {
     "name": "stdout",
     "output_type": "stream",
     "text": [
      "['acc', 'kappa', 'fmeasure', 'loss']\n",
      "Training Loss  1.1170594957139757\n"
     ]
    },
    {
     "name": "stderr",
     "output_type": "stream",
     "text": [
      "\n"
     ]
    },
    {
     "name": "stdout",
     "output_type": "stream",
     "text": [
      "Train -  [0.6770833333333334, 0.5694444444444444, 0.6770833333333334, tensor(1.0780)]\n",
      "Validation -  [0.6076388888888888, 0.47685185185185186, 0.6076388888888888, tensor(1.1262)]\n",
      "\n",
      "Epoch  843\n"
     ]
    },
    {
     "name": "stderr",
     "output_type": "stream",
     "text": [
      "9it [00:00, 27.23it/s]"
     ]
    },
    {
     "name": "stdout",
     "output_type": "stream",
     "text": [
      "['acc', 'kappa', 'fmeasure', 'loss']\n",
      "Training Loss  1.0991819302241008\n"
     ]
    },
    {
     "name": "stderr",
     "output_type": "stream",
     "text": [
      "\n"
     ]
    },
    {
     "name": "stdout",
     "output_type": "stream",
     "text": [
      "Train -  [0.6770833333333334, 0.5694444444444444, 0.6770833333333334, tensor(1.0780)]\n",
      "Validation -  [0.6076388888888888, 0.47685185185185186, 0.6076388888888888, tensor(1.1262)]\n",
      "\n",
      "Epoch  844\n"
     ]
    },
    {
     "name": "stderr",
     "output_type": "stream",
     "text": [
      "9it [00:00, 26.51it/s]"
     ]
    },
    {
     "name": "stdout",
     "output_type": "stream",
     "text": [
      "['acc', 'kappa', 'fmeasure', 'loss']\n",
      "Training Loss  1.084037356906467\n"
     ]
    },
    {
     "name": "stderr",
     "output_type": "stream",
     "text": [
      "\n"
     ]
    },
    {
     "name": "stdout",
     "output_type": "stream",
     "text": [
      "Train -  [0.6770833333333334, 0.5694444444444444, 0.6770833333333334, tensor(1.0781)]\n",
      "Validation -  [0.6076388888888888, 0.47685185185185186, 0.6076388888888888, tensor(1.1263)]\n",
      "\n",
      "Epoch  845\n"
     ]
    },
    {
     "name": "stderr",
     "output_type": "stream",
     "text": [
      "9it [00:00, 30.77it/s]"
     ]
    },
    {
     "name": "stdout",
     "output_type": "stream",
     "text": [
      "['acc', 'kappa', 'fmeasure', 'loss']\n",
      "Training Loss  1.0972114271587796\n"
     ]
    },
    {
     "name": "stderr",
     "output_type": "stream",
     "text": [
      "\n"
     ]
    },
    {
     "name": "stdout",
     "output_type": "stream",
     "text": [
      "Train -  [0.6770833333333334, 0.5694444444444444, 0.6770833333333334, tensor(1.0782)]\n",
      "Validation -  [0.6076388888888888, 0.47685185185185186, 0.6076388888888888, tensor(1.1264)]\n",
      "\n",
      "Epoch  846\n"
     ]
    },
    {
     "name": "stderr",
     "output_type": "stream",
     "text": [
      "9it [00:00, 28.52it/s]"
     ]
    },
    {
     "name": "stdout",
     "output_type": "stream",
     "text": [
      "['acc', 'kappa', 'fmeasure', 'loss']\n",
      "Training Loss  1.0919740862316556\n"
     ]
    },
    {
     "name": "stderr",
     "output_type": "stream",
     "text": [
      "\n"
     ]
    },
    {
     "name": "stdout",
     "output_type": "stream",
     "text": [
      "Train -  [0.6770833333333334, 0.5694444444444444, 0.6770833333333334, tensor(1.0779)]\n",
      "Validation -  [0.6076388888888888, 0.47685185185185186, 0.6076388888888888, tensor(1.1261)]\n",
      "\n",
      "Epoch  847\n"
     ]
    },
    {
     "name": "stderr",
     "output_type": "stream",
     "text": [
      "9it [00:00, 28.27it/s]"
     ]
    },
    {
     "name": "stdout",
     "output_type": "stream",
     "text": [
      "['acc', 'kappa', 'fmeasure', 'loss']\n",
      "Training Loss  1.1021972762213812\n"
     ]
    },
    {
     "name": "stderr",
     "output_type": "stream",
     "text": [
      "\n"
     ]
    },
    {
     "name": "stdout",
     "output_type": "stream",
     "text": [
      "Train -  [0.6770833333333334, 0.5694444444444444, 0.6770833333333334, tensor(1.0781)]\n",
      "Validation -  [0.6076388888888888, 0.47685185185185186, 0.6076388888888888, tensor(1.1263)]\n",
      "\n",
      "Epoch  848\n"
     ]
    },
    {
     "name": "stderr",
     "output_type": "stream",
     "text": [
      "9it [00:00, 28.66it/s]"
     ]
    },
    {
     "name": "stdout",
     "output_type": "stream",
     "text": [
      "['acc', 'kappa', 'fmeasure', 'loss']\n",
      "Training Loss  1.1035472287072077\n"
     ]
    },
    {
     "name": "stderr",
     "output_type": "stream",
     "text": [
      "\n"
     ]
    },
    {
     "name": "stdout",
     "output_type": "stream",
     "text": [
      "Train -  [0.6770833333333334, 0.5694444444444444, 0.6770833333333334, tensor(1.0779)]\n",
      "Validation -  [0.6076388888888888, 0.47685185185185186, 0.6076388888888888, tensor(1.1262)]\n",
      "\n",
      "Epoch  849\n"
     ]
    },
    {
     "name": "stderr",
     "output_type": "stream",
     "text": [
      "9it [00:00, 25.52it/s]"
     ]
    },
    {
     "name": "stdout",
     "output_type": "stream",
     "text": [
      "['acc', 'kappa', 'fmeasure', 'loss']\n",
      "Training Loss  1.112653308444553\n"
     ]
    },
    {
     "name": "stderr",
     "output_type": "stream",
     "text": [
      "\n"
     ]
    },
    {
     "name": "stdout",
     "output_type": "stream",
     "text": [
      "Train -  [0.6770833333333334, 0.5694444444444444, 0.6770833333333334, tensor(1.0781)]\n",
      "Validation -  [0.6076388888888888, 0.47685185185185186, 0.6076388888888888, tensor(1.1263)]\n",
      "\n",
      "Epoch  850\n"
     ]
    },
    {
     "name": "stderr",
     "output_type": "stream",
     "text": [
      "9it [00:00, 26.00it/s]"
     ]
    },
    {
     "name": "stdout",
     "output_type": "stream",
     "text": [
      "['acc', 'kappa', 'fmeasure', 'loss']\n",
      "Training Loss  1.0912639035118952\n"
     ]
    },
    {
     "name": "stderr",
     "output_type": "stream",
     "text": [
      "\n"
     ]
    },
    {
     "name": "stdout",
     "output_type": "stream",
     "text": [
      "Train -  [0.6770833333333334, 0.5694444444444444, 0.6770833333333334, tensor(1.0780)]\n",
      "Validation -  [0.6076388888888888, 0.47685185185185186, 0.6076388888888888, tensor(1.1263)]\n",
      "\n",
      "Epoch  851\n"
     ]
    },
    {
     "name": "stderr",
     "output_type": "stream",
     "text": [
      "9it [00:00, 29.14it/s]"
     ]
    },
    {
     "name": "stdout",
     "output_type": "stream",
     "text": [
      "['acc', 'kappa', 'fmeasure', 'loss']\n",
      "Training Loss  1.0926288498772516\n"
     ]
    },
    {
     "name": "stderr",
     "output_type": "stream",
     "text": [
      "\n"
     ]
    },
    {
     "name": "stdout",
     "output_type": "stream",
     "text": [
      "Train -  [0.6770833333333334, 0.5694444444444444, 0.6770833333333334, tensor(1.0780)]\n",
      "Validation -  [0.6076388888888888, 0.47685185185185186, 0.6076388888888888, tensor(1.1262)]\n",
      "\n",
      "Epoch  852\n"
     ]
    },
    {
     "name": "stderr",
     "output_type": "stream",
     "text": [
      "9it [00:00, 28.79it/s]"
     ]
    },
    {
     "name": "stdout",
     "output_type": "stream",
     "text": [
      "['acc', 'kappa', 'fmeasure', 'loss']\n",
      "Training Loss  1.1013917922973633\n"
     ]
    },
    {
     "name": "stderr",
     "output_type": "stream",
     "text": [
      "\n"
     ]
    },
    {
     "name": "stdout",
     "output_type": "stream",
     "text": [
      "Train -  [0.6770833333333334, 0.5694444444444444, 0.6770833333333334, tensor(1.0780)]\n",
      "Validation -  [0.6076388888888888, 0.47685185185185186, 0.6076388888888888, tensor(1.1263)]\n",
      "\n",
      "Epoch  853\n"
     ]
    },
    {
     "name": "stderr",
     "output_type": "stream",
     "text": [
      "9it [00:00, 29.19it/s]\n"
     ]
    },
    {
     "name": "stdout",
     "output_type": "stream",
     "text": [
      "['acc', 'kappa', 'fmeasure', 'loss']\n",
      "Training Loss  1.1052073107825384\n",
      "Train -  [0.6770833333333334, 0.5694444444444444, 0.6770833333333334, tensor(1.0780)]\n",
      "Validation -  [0.6076388888888888, 0.47685185185185186, 0.6076388888888888, tensor(1.1263)]\n",
      "\n",
      "Epoch  854\n"
     ]
    },
    {
     "name": "stderr",
     "output_type": "stream",
     "text": [
      "9it [00:00, 26.87it/s]"
     ]
    },
    {
     "name": "stdout",
     "output_type": "stream",
     "text": [
      "['acc', 'kappa', 'fmeasure', 'loss']\n",
      "Training Loss  1.0886848237779405\n"
     ]
    },
    {
     "name": "stderr",
     "output_type": "stream",
     "text": [
      "\n"
     ]
    },
    {
     "name": "stdout",
     "output_type": "stream",
     "text": [
      "Train -  [0.6770833333333334, 0.5694444444444444, 0.6770833333333334, tensor(1.0780)]\n",
      "Validation -  [0.6076388888888888, 0.47685185185185186, 0.6076388888888888, tensor(1.1262)]\n",
      "\n",
      "Epoch  855\n"
     ]
    },
    {
     "name": "stderr",
     "output_type": "stream",
     "text": [
      "9it [00:00, 28.89it/s]"
     ]
    },
    {
     "name": "stdout",
     "output_type": "stream",
     "text": [
      "['acc', 'kappa', 'fmeasure', 'loss']\n",
      "Training Loss  1.0841623412238226\n"
     ]
    },
    {
     "name": "stderr",
     "output_type": "stream",
     "text": [
      "\n"
     ]
    },
    {
     "name": "stdout",
     "output_type": "stream",
     "text": [
      "Train -  [0.6770833333333334, 0.5694444444444444, 0.6770833333333334, tensor(1.0778)]\n",
      "Validation -  [0.6076388888888888, 0.47685185185185186, 0.6076388888888888, tensor(1.1261)]\n",
      "\n",
      "Epoch  856\n"
     ]
    },
    {
     "name": "stderr",
     "output_type": "stream",
     "text": [
      "9it [00:00, 27.04it/s]"
     ]
    },
    {
     "name": "stdout",
     "output_type": "stream",
     "text": [
      "['acc', 'kappa', 'fmeasure', 'loss']\n",
      "Training Loss  1.0884783930248685\n"
     ]
    },
    {
     "name": "stderr",
     "output_type": "stream",
     "text": [
      "\n"
     ]
    },
    {
     "name": "stdout",
     "output_type": "stream",
     "text": [
      "Train -  [0.6770833333333334, 0.5694444444444444, 0.6770833333333334, tensor(1.0779)]\n",
      "Validation -  [0.6076388888888888, 0.47685185185185186, 0.6076388888888888, tensor(1.1262)]\n",
      "\n",
      "Epoch  857\n"
     ]
    },
    {
     "name": "stderr",
     "output_type": "stream",
     "text": [
      "9it [00:00, 33.97it/s]"
     ]
    },
    {
     "name": "stdout",
     "output_type": "stream",
     "text": [
      "['acc', 'kappa', 'fmeasure', 'loss']\n",
      "Training Loss  1.107083386845059\n"
     ]
    },
    {
     "name": "stderr",
     "output_type": "stream",
     "text": [
      "\n"
     ]
    },
    {
     "name": "stdout",
     "output_type": "stream",
     "text": [
      "Train -  [0.6770833333333334, 0.5694444444444444, 0.6770833333333334, tensor(1.0780)]\n",
      "Validation -  [0.6076388888888888, 0.47685185185185186, 0.6076388888888888, tensor(1.1263)]\n",
      "\n",
      "Epoch  858\n"
     ]
    },
    {
     "name": "stderr",
     "output_type": "stream",
     "text": [
      "9it [00:00, 31.23it/s]"
     ]
    },
    {
     "name": "stdout",
     "output_type": "stream",
     "text": [
      "['acc', 'kappa', 'fmeasure', 'loss']\n",
      "Training Loss  1.0863775809605916\n"
     ]
    },
    {
     "name": "stderr",
     "output_type": "stream",
     "text": [
      "\n"
     ]
    },
    {
     "name": "stdout",
     "output_type": "stream",
     "text": [
      "Train -  [0.6770833333333334, 0.5694444444444444, 0.6770833333333334, tensor(1.0779)]\n",
      "Validation -  [0.6076388888888888, 0.47685185185185186, 0.6076388888888888, tensor(1.1262)]\n",
      "\n",
      "Epoch  859\n"
     ]
    },
    {
     "name": "stderr",
     "output_type": "stream",
     "text": [
      "9it [00:00, 32.57it/s]"
     ]
    },
    {
     "name": "stdout",
     "output_type": "stream",
     "text": [
      "['acc', 'kappa', 'fmeasure', 'loss']\n",
      "Training Loss  1.108648459116618\n"
     ]
    },
    {
     "name": "stderr",
     "output_type": "stream",
     "text": [
      "\n"
     ]
    },
    {
     "name": "stdout",
     "output_type": "stream",
     "text": [
      "Train -  [0.6770833333333334, 0.5694444444444444, 0.6770833333333334, tensor(1.0779)]\n",
      "Validation -  [0.6076388888888888, 0.47685185185185186, 0.6076388888888888, tensor(1.1262)]\n",
      "\n",
      "Epoch  860\n"
     ]
    },
    {
     "name": "stderr",
     "output_type": "stream",
     "text": [
      "9it [00:00, 28.31it/s]"
     ]
    },
    {
     "name": "stdout",
     "output_type": "stream",
     "text": [
      "['acc', 'kappa', 'fmeasure', 'loss']\n",
      "Training Loss  1.0988444222344294\n"
     ]
    },
    {
     "name": "stderr",
     "output_type": "stream",
     "text": [
      "\n"
     ]
    },
    {
     "name": "stdout",
     "output_type": "stream",
     "text": [
      "Train -  [0.6770833333333334, 0.5694444444444444, 0.6770833333333334, tensor(1.0779)]\n",
      "Validation -  [0.6076388888888888, 0.47685185185185186, 0.6076388888888888, tensor(1.1262)]\n",
      "\n",
      "Epoch  861\n"
     ]
    },
    {
     "name": "stderr",
     "output_type": "stream",
     "text": [
      "9it [00:00, 23.48it/s]"
     ]
    },
    {
     "name": "stdout",
     "output_type": "stream",
     "text": [
      "['acc', 'kappa', 'fmeasure', 'loss']\n",
      "Training Loss  1.1091550191243489\n"
     ]
    },
    {
     "name": "stderr",
     "output_type": "stream",
     "text": [
      "\n"
     ]
    },
    {
     "name": "stdout",
     "output_type": "stream",
     "text": [
      "Train -  [0.6770833333333334, 0.5694444444444444, 0.6770833333333334, tensor(1.0780)]\n",
      "Validation -  [0.6041666666666666, 0.4722222222222222, 0.6041666666666666, tensor(1.1262)]\n",
      "\n",
      "Epoch  862\n"
     ]
    },
    {
     "name": "stderr",
     "output_type": "stream",
     "text": [
      "9it [00:00, 27.09it/s]"
     ]
    },
    {
     "name": "stdout",
     "output_type": "stream",
     "text": [
      "['acc', 'kappa', 'fmeasure', 'loss']\n",
      "Training Loss  1.1009181208080716\n"
     ]
    },
    {
     "name": "stderr",
     "output_type": "stream",
     "text": [
      "\n"
     ]
    },
    {
     "name": "stdout",
     "output_type": "stream",
     "text": [
      "Train -  [0.6770833333333334, 0.5694444444444444, 0.6770833333333334, tensor(1.0779)]\n",
      "Validation -  [0.6041666666666666, 0.4722222222222222, 0.6041666666666666, tensor(1.1262)]\n",
      "\n",
      "Epoch  863\n"
     ]
    },
    {
     "name": "stderr",
     "output_type": "stream",
     "text": [
      "9it [00:00, 28.17it/s]"
     ]
    },
    {
     "name": "stdout",
     "output_type": "stream",
     "text": [
      "['acc', 'kappa', 'fmeasure', 'loss']\n",
      "Training Loss  1.0975747373369005\n"
     ]
    },
    {
     "name": "stderr",
     "output_type": "stream",
     "text": [
      "\n"
     ]
    },
    {
     "name": "stdout",
     "output_type": "stream",
     "text": [
      "Train -  [0.6770833333333334, 0.5694444444444444, 0.6770833333333334, tensor(1.0778)]\n",
      "Validation -  [0.6076388888888888, 0.47685185185185186, 0.6076388888888888, tensor(1.1261)]\n",
      "\n",
      "Epoch  864\n"
     ]
    },
    {
     "name": "stderr",
     "output_type": "stream",
     "text": [
      "9it [00:00, 26.72it/s]"
     ]
    },
    {
     "name": "stdout",
     "output_type": "stream",
     "text": [
      "['acc', 'kappa', 'fmeasure', 'loss']\n",
      "Training Loss  1.083729128042857\n"
     ]
    },
    {
     "name": "stderr",
     "output_type": "stream",
     "text": [
      "\n"
     ]
    },
    {
     "name": "stdout",
     "output_type": "stream",
     "text": [
      "Train -  [0.6770833333333334, 0.5694444444444444, 0.6770833333333334, tensor(1.0779)]\n",
      "Validation -  [0.6076388888888888, 0.47685185185185186, 0.6076388888888888, tensor(1.1262)]\n",
      "\n",
      "Epoch  865\n"
     ]
    },
    {
     "name": "stderr",
     "output_type": "stream",
     "text": [
      "9it [00:00, 29.49it/s]\n"
     ]
    },
    {
     "name": "stdout",
     "output_type": "stream",
     "text": [
      "['acc', 'kappa', 'fmeasure', 'loss']\n",
      "Training Loss  1.1128649314244587\n",
      "Train -  [0.6770833333333334, 0.5694444444444444, 0.6770833333333334, tensor(1.0782)]\n",
      "Validation -  [0.6076388888888888, 0.47685185185185186, 0.6076388888888888, tensor(1.1264)]\n",
      "\n",
      "Epoch  866\n"
     ]
    },
    {
     "name": "stderr",
     "output_type": "stream",
     "text": [
      "9it [00:00, 29.02it/s]"
     ]
    },
    {
     "name": "stdout",
     "output_type": "stream",
     "text": [
      "['acc', 'kappa', 'fmeasure', 'loss']\n",
      "Training Loss  1.1119727028740778\n"
     ]
    },
    {
     "name": "stderr",
     "output_type": "stream",
     "text": [
      "\n"
     ]
    },
    {
     "name": "stdout",
     "output_type": "stream",
     "text": [
      "Train -  [0.6770833333333334, 0.5694444444444444, 0.6770833333333334, tensor(1.0782)]\n",
      "Validation -  [0.6076388888888888, 0.47685185185185186, 0.6076388888888888, tensor(1.1264)]\n",
      "\n",
      "Epoch  867\n"
     ]
    },
    {
     "name": "stderr",
     "output_type": "stream",
     "text": [
      "9it [00:00, 29.95it/s]"
     ]
    },
    {
     "name": "stdout",
     "output_type": "stream",
     "text": [
      "['acc', 'kappa', 'fmeasure', 'loss']\n",
      "Training Loss  1.0911415682898626\n"
     ]
    },
    {
     "name": "stderr",
     "output_type": "stream",
     "text": [
      "\n"
     ]
    },
    {
     "name": "stdout",
     "output_type": "stream",
     "text": [
      "Train -  [0.6770833333333334, 0.5694444444444444, 0.6770833333333334, tensor(1.0779)]\n",
      "Validation -  [0.6076388888888888, 0.47685185185185186, 0.6076388888888888, tensor(1.1262)]\n",
      "\n",
      "Epoch  868\n"
     ]
    },
    {
     "name": "stderr",
     "output_type": "stream",
     "text": [
      "9it [00:00, 25.78it/s]"
     ]
    },
    {
     "name": "stdout",
     "output_type": "stream",
     "text": [
      "['acc', 'kappa', 'fmeasure', 'loss']\n",
      "Training Loss  1.1037631697124906\n"
     ]
    },
    {
     "name": "stderr",
     "output_type": "stream",
     "text": [
      "\n"
     ]
    },
    {
     "name": "stdout",
     "output_type": "stream",
     "text": [
      "Train -  [0.6770833333333334, 0.5694444444444444, 0.6770833333333334, tensor(1.0779)]\n",
      "Validation -  [0.6076388888888888, 0.47685185185185186, 0.6076388888888888, tensor(1.1262)]\n",
      "\n",
      "Epoch  869\n"
     ]
    },
    {
     "name": "stderr",
     "output_type": "stream",
     "text": [
      "9it [00:00, 29.75it/s]"
     ]
    },
    {
     "name": "stdout",
     "output_type": "stream",
     "text": [
      "['acc', 'kappa', 'fmeasure', 'loss']\n",
      "Training Loss  1.088498380449083\n"
     ]
    },
    {
     "name": "stderr",
     "output_type": "stream",
     "text": [
      "\n"
     ]
    },
    {
     "name": "stdout",
     "output_type": "stream",
     "text": [
      "Train -  [0.6770833333333334, 0.5694444444444444, 0.6770833333333334, tensor(1.0780)]\n",
      "Validation -  [0.6076388888888888, 0.47685185185185186, 0.6076388888888888, tensor(1.1262)]\n",
      "\n",
      "Epoch  870\n"
     ]
    },
    {
     "name": "stderr",
     "output_type": "stream",
     "text": [
      "9it [00:00, 29.02it/s]"
     ]
    },
    {
     "name": "stdout",
     "output_type": "stream",
     "text": [
      "['acc', 'kappa', 'fmeasure', 'loss']\n",
      "Training Loss  1.1112566921446059\n"
     ]
    },
    {
     "name": "stderr",
     "output_type": "stream",
     "text": [
      "\n"
     ]
    },
    {
     "name": "stdout",
     "output_type": "stream",
     "text": [
      "Train -  [0.6770833333333334, 0.5694444444444444, 0.6770833333333334, tensor(1.0780)]\n",
      "Validation -  [0.6076388888888888, 0.47685185185185186, 0.6076388888888888, tensor(1.1262)]\n",
      "\n",
      "Epoch  871\n"
     ]
    },
    {
     "name": "stderr",
     "output_type": "stream",
     "text": [
      "9it [00:00, 27.93it/s]"
     ]
    },
    {
     "name": "stdout",
     "output_type": "stream",
     "text": [
      "['acc', 'kappa', 'fmeasure', 'loss']\n",
      "Training Loss  1.0917212168375652\n"
     ]
    },
    {
     "name": "stderr",
     "output_type": "stream",
     "text": [
      "\n"
     ]
    },
    {
     "name": "stdout",
     "output_type": "stream",
     "text": [
      "Train -  [0.6770833333333334, 0.5694444444444444, 0.6770833333333334, tensor(1.0780)]\n",
      "Validation -  [0.6076388888888888, 0.47685185185185186, 0.6076388888888888, tensor(1.1262)]\n",
      "\n",
      "Epoch  872\n"
     ]
    },
    {
     "name": "stderr",
     "output_type": "stream",
     "text": [
      "9it [00:00, 29.81it/s]"
     ]
    },
    {
     "name": "stdout",
     "output_type": "stream",
     "text": [
      "['acc', 'kappa', 'fmeasure', 'loss']\n",
      "Training Loss  1.0953903728061252\n"
     ]
    },
    {
     "name": "stderr",
     "output_type": "stream",
     "text": [
      "\n"
     ]
    },
    {
     "name": "stdout",
     "output_type": "stream",
     "text": [
      "Train -  [0.6770833333333334, 0.5694444444444444, 0.6770833333333334, tensor(1.0780)]\n",
      "Validation -  [0.6076388888888888, 0.47685185185185186, 0.6076388888888888, tensor(1.1262)]\n",
      "\n",
      "Epoch  873\n"
     ]
    },
    {
     "name": "stderr",
     "output_type": "stream",
     "text": [
      "9it [00:00, 26.66it/s]"
     ]
    },
    {
     "name": "stdout",
     "output_type": "stream",
     "text": [
      "['acc', 'kappa', 'fmeasure', 'loss']\n",
      "Training Loss  1.0922715266545613\n"
     ]
    },
    {
     "name": "stderr",
     "output_type": "stream",
     "text": [
      "\n"
     ]
    },
    {
     "name": "stdout",
     "output_type": "stream",
     "text": [
      "Train -  [0.6770833333333334, 0.5694444444444444, 0.6770833333333334, tensor(1.0780)]\n",
      "Validation -  [0.6076388888888888, 0.47685185185185186, 0.6076388888888888, tensor(1.1262)]\n",
      "\n",
      "Epoch  874\n"
     ]
    },
    {
     "name": "stderr",
     "output_type": "stream",
     "text": [
      "9it [00:00, 30.13it/s]"
     ]
    },
    {
     "name": "stdout",
     "output_type": "stream",
     "text": [
      "['acc', 'kappa', 'fmeasure', 'loss']\n",
      "Training Loss  1.0979921950234308\n"
     ]
    },
    {
     "name": "stderr",
     "output_type": "stream",
     "text": [
      "\n"
     ]
    },
    {
     "name": "stdout",
     "output_type": "stream",
     "text": [
      "Train -  [0.6770833333333334, 0.5694444444444444, 0.6770833333333334, tensor(1.0781)]\n",
      "Validation -  [0.6076388888888888, 0.47685185185185186, 0.6076388888888888, tensor(1.1263)]\n",
      "\n",
      "Epoch  875\n"
     ]
    },
    {
     "name": "stderr",
     "output_type": "stream",
     "text": [
      "9it [00:00, 27.40it/s]"
     ]
    },
    {
     "name": "stdout",
     "output_type": "stream",
     "text": [
      "['acc', 'kappa', 'fmeasure', 'loss']\n",
      "Training Loss  1.1007768975363836\n"
     ]
    },
    {
     "name": "stderr",
     "output_type": "stream",
     "text": [
      "\n"
     ]
    },
    {
     "name": "stdout",
     "output_type": "stream",
     "text": [
      "Train -  [0.6770833333333334, 0.5694444444444444, 0.6770833333333334, tensor(1.0781)]\n",
      "Validation -  [0.6076388888888888, 0.47685185185185186, 0.6076388888888888, tensor(1.1263)]\n",
      "\n",
      "Epoch  876\n"
     ]
    },
    {
     "name": "stderr",
     "output_type": "stream",
     "text": [
      "9it [00:00, 26.15it/s]"
     ]
    },
    {
     "name": "stdout",
     "output_type": "stream",
     "text": [
      "['acc', 'kappa', 'fmeasure', 'loss']\n",
      "Training Loss  1.0980101029078166\n"
     ]
    },
    {
     "name": "stderr",
     "output_type": "stream",
     "text": [
      "\n"
     ]
    },
    {
     "name": "stdout",
     "output_type": "stream",
     "text": [
      "Train -  [0.6770833333333334, 0.5694444444444444, 0.6770833333333334, tensor(1.0782)]\n",
      "Validation -  [0.6076388888888888, 0.47685185185185186, 0.6076388888888888, tensor(1.1264)]\n",
      "\n",
      "Epoch  877\n"
     ]
    },
    {
     "name": "stderr",
     "output_type": "stream",
     "text": [
      "9it [00:00, 27.74it/s]"
     ]
    },
    {
     "name": "stdout",
     "output_type": "stream",
     "text": [
      "['acc', 'kappa', 'fmeasure', 'loss']\n",
      "Training Loss  1.1031024588478937\n"
     ]
    },
    {
     "name": "stderr",
     "output_type": "stream",
     "text": [
      "\n"
     ]
    },
    {
     "name": "stdout",
     "output_type": "stream",
     "text": [
      "Train -  [0.6770833333333334, 0.5694444444444444, 0.6770833333333334, tensor(1.0780)]\n",
      "Validation -  [0.6076388888888888, 0.47685185185185186, 0.6076388888888888, tensor(1.1262)]\n",
      "\n",
      "Epoch  878\n"
     ]
    },
    {
     "name": "stderr",
     "output_type": "stream",
     "text": [
      "9it [00:00, 31.80it/s]"
     ]
    },
    {
     "name": "stdout",
     "output_type": "stream",
     "text": [
      "['acc', 'kappa', 'fmeasure', 'loss']\n",
      "Training Loss  1.090488354365031\n"
     ]
    },
    {
     "name": "stderr",
     "output_type": "stream",
     "text": [
      "\n"
     ]
    },
    {
     "name": "stdout",
     "output_type": "stream",
     "text": [
      "Train -  [0.6770833333333334, 0.5694444444444444, 0.6770833333333334, tensor(1.0779)]\n",
      "Validation -  [0.6076388888888888, 0.47685185185185186, 0.6076388888888888, tensor(1.1262)]\n",
      "\n",
      "Epoch  879\n"
     ]
    },
    {
     "name": "stderr",
     "output_type": "stream",
     "text": [
      "9it [00:00, 26.35it/s]"
     ]
    },
    {
     "name": "stdout",
     "output_type": "stream",
     "text": [
      "['acc', 'kappa', 'fmeasure', 'loss']\n",
      "Training Loss  1.110832201109992\n"
     ]
    },
    {
     "name": "stderr",
     "output_type": "stream",
     "text": [
      "\n"
     ]
    },
    {
     "name": "stdout",
     "output_type": "stream",
     "text": [
      "Train -  [0.6770833333333334, 0.5694444444444444, 0.6770833333333334, tensor(1.0779)]\n",
      "Validation -  [0.6076388888888888, 0.47685185185185186, 0.6076388888888888, tensor(1.1262)]\n",
      "\n",
      "Epoch  880\n"
     ]
    },
    {
     "name": "stderr",
     "output_type": "stream",
     "text": [
      "9it [00:00, 30.38it/s]"
     ]
    },
    {
     "name": "stdout",
     "output_type": "stream",
     "text": [
      "['acc', 'kappa', 'fmeasure', 'loss']\n",
      "Training Loss  1.1008344623777602\n"
     ]
    },
    {
     "name": "stderr",
     "output_type": "stream",
     "text": [
      "\n"
     ]
    },
    {
     "name": "stdout",
     "output_type": "stream",
     "text": [
      "Train -  [0.6770833333333334, 0.5694444444444444, 0.6770833333333334, tensor(1.0780)]\n",
      "Validation -  [0.6076388888888888, 0.47685185185185186, 0.6076388888888888, tensor(1.1263)]\n",
      "\n",
      "Epoch  881\n"
     ]
    },
    {
     "name": "stderr",
     "output_type": "stream",
     "text": [
      "9it [00:00, 25.11it/s]"
     ]
    },
    {
     "name": "stdout",
     "output_type": "stream",
     "text": [
      "['acc', 'kappa', 'fmeasure', 'loss']\n",
      "Training Loss  1.0823651154836018\n"
     ]
    },
    {
     "name": "stderr",
     "output_type": "stream",
     "text": [
      "\n"
     ]
    },
    {
     "name": "stdout",
     "output_type": "stream",
     "text": [
      "Train -  [0.6770833333333334, 0.5694444444444444, 0.6770833333333334, tensor(1.0778)]\n",
      "Validation -  [0.6076388888888888, 0.47685185185185186, 0.6076388888888888, tensor(1.1261)]\n",
      "\n",
      "Epoch  882\n"
     ]
    },
    {
     "name": "stderr",
     "output_type": "stream",
     "text": [
      "9it [00:00, 27.95it/s]"
     ]
    },
    {
     "name": "stdout",
     "output_type": "stream",
     "text": [
      "['acc', 'kappa', 'fmeasure', 'loss']\n",
      "Training Loss  1.1017685665024652\n"
     ]
    },
    {
     "name": "stderr",
     "output_type": "stream",
     "text": [
      "\n"
     ]
    },
    {
     "name": "stdout",
     "output_type": "stream",
     "text": [
      "Train -  [0.6770833333333334, 0.5694444444444444, 0.6770833333333334, tensor(1.0780)]\n",
      "Validation -  [0.6076388888888888, 0.47685185185185186, 0.6076388888888888, tensor(1.1262)]\n",
      "\n",
      "Epoch  883\n"
     ]
    },
    {
     "name": "stderr",
     "output_type": "stream",
     "text": [
      "9it [00:00, 29.59it/s]"
     ]
    },
    {
     "name": "stdout",
     "output_type": "stream",
     "text": [
      "['acc', 'kappa', 'fmeasure', 'loss']\n",
      "Training Loss  1.1040353377660115\n"
     ]
    },
    {
     "name": "stderr",
     "output_type": "stream",
     "text": [
      "\n"
     ]
    },
    {
     "name": "stdout",
     "output_type": "stream",
     "text": [
      "Train -  [0.6770833333333334, 0.5694444444444444, 0.6770833333333334, tensor(1.0781)]\n",
      "Validation -  [0.6041666666666666, 0.4722222222222222, 0.6041666666666666, tensor(1.1263)]\n",
      "\n",
      "Epoch  884\n"
     ]
    },
    {
     "name": "stderr",
     "output_type": "stream",
     "text": [
      "9it [00:00, 30.42it/s]"
     ]
    },
    {
     "name": "stdout",
     "output_type": "stream",
     "text": [
      "['acc', 'kappa', 'fmeasure', 'loss']\n",
      "Training Loss  1.0968631903330486\n"
     ]
    },
    {
     "name": "stderr",
     "output_type": "stream",
     "text": [
      "\n"
     ]
    },
    {
     "name": "stdout",
     "output_type": "stream",
     "text": [
      "Train -  [0.6770833333333334, 0.5694444444444444, 0.6770833333333334, tensor(1.0781)]\n",
      "Validation -  [0.6076388888888888, 0.47685185185185186, 0.6076388888888888, tensor(1.1263)]\n",
      "\n",
      "Epoch  885\n"
     ]
    },
    {
     "name": "stderr",
     "output_type": "stream",
     "text": [
      "9it [00:00, 30.05it/s]"
     ]
    },
    {
     "name": "stdout",
     "output_type": "stream",
     "text": [
      "['acc', 'kappa', 'fmeasure', 'loss']\n",
      "Training Loss  1.0968493620554607\n"
     ]
    },
    {
     "name": "stderr",
     "output_type": "stream",
     "text": [
      "\n"
     ]
    },
    {
     "name": "stdout",
     "output_type": "stream",
     "text": [
      "Train -  [0.6770833333333334, 0.5694444444444444, 0.6770833333333334, tensor(1.0780)]\n",
      "Validation -  [0.6076388888888888, 0.47685185185185186, 0.6076388888888888, tensor(1.1263)]\n",
      "\n",
      "Epoch  886\n"
     ]
    },
    {
     "name": "stderr",
     "output_type": "stream",
     "text": [
      "9it [00:00, 24.74it/s]"
     ]
    },
    {
     "name": "stdout",
     "output_type": "stream",
     "text": [
      "['acc', 'kappa', 'fmeasure', 'loss']\n",
      "Training Loss  1.1034745110405817\n"
     ]
    },
    {
     "name": "stderr",
     "output_type": "stream",
     "text": [
      "\n"
     ]
    },
    {
     "name": "stdout",
     "output_type": "stream",
     "text": [
      "Train -  [0.6770833333333334, 0.5694444444444444, 0.6770833333333334, tensor(1.0778)]\n",
      "Validation -  [0.6076388888888888, 0.47685185185185186, 0.6076388888888888, tensor(1.1261)]\n",
      "\n",
      "Epoch  887\n"
     ]
    },
    {
     "name": "stderr",
     "output_type": "stream",
     "text": [
      "9it [00:00, 26.11it/s]"
     ]
    },
    {
     "name": "stdout",
     "output_type": "stream",
     "text": [
      "['acc', 'kappa', 'fmeasure', 'loss']\n",
      "Training Loss  1.0946362018585205\n"
     ]
    },
    {
     "name": "stderr",
     "output_type": "stream",
     "text": [
      "\n"
     ]
    },
    {
     "name": "stdout",
     "output_type": "stream",
     "text": [
      "Train -  [0.6770833333333334, 0.5694444444444444, 0.6770833333333334, tensor(1.0780)]\n",
      "Validation -  [0.6076388888888888, 0.47685185185185186, 0.6076388888888888, tensor(1.1263)]\n",
      "\n",
      "Epoch  888\n"
     ]
    },
    {
     "name": "stderr",
     "output_type": "stream",
     "text": [
      "9it [00:00, 29.65it/s]"
     ]
    },
    {
     "name": "stdout",
     "output_type": "stream",
     "text": [
      "['acc', 'kappa', 'fmeasure', 'loss']\n",
      "Training Loss  1.0998576349682279\n"
     ]
    },
    {
     "name": "stderr",
     "output_type": "stream",
     "text": [
      "\n"
     ]
    },
    {
     "name": "stdout",
     "output_type": "stream",
     "text": [
      "Train -  [0.6770833333333334, 0.5694444444444444, 0.6770833333333334, tensor(1.0781)]\n",
      "Validation -  [0.6076388888888888, 0.47685185185185186, 0.6076388888888888, tensor(1.1263)]\n",
      "\n",
      "Epoch  889\n"
     ]
    },
    {
     "name": "stderr",
     "output_type": "stream",
     "text": [
      "9it [00:00, 24.27it/s]"
     ]
    },
    {
     "name": "stdout",
     "output_type": "stream",
     "text": [
      "['acc', 'kappa', 'fmeasure', 'loss']\n",
      "Training Loss  1.0975277423858643\n"
     ]
    },
    {
     "name": "stderr",
     "output_type": "stream",
     "text": [
      "\n"
     ]
    },
    {
     "name": "stdout",
     "output_type": "stream",
     "text": [
      "Train -  [0.6770833333333334, 0.5694444444444444, 0.6770833333333334, tensor(1.0780)]\n",
      "Validation -  [0.6076388888888888, 0.47685185185185186, 0.6076388888888888, tensor(1.1262)]\n",
      "\n",
      "Epoch  890\n"
     ]
    },
    {
     "name": "stderr",
     "output_type": "stream",
     "text": [
      "9it [00:00, 31.57it/s]"
     ]
    },
    {
     "name": "stdout",
     "output_type": "stream",
     "text": [
      "['acc', 'kappa', 'fmeasure', 'loss']\n",
      "Training Loss  1.0960866212844849\n"
     ]
    },
    {
     "name": "stderr",
     "output_type": "stream",
     "text": [
      "\n"
     ]
    },
    {
     "name": "stdout",
     "output_type": "stream",
     "text": [
      "Train -  [0.6770833333333334, 0.5694444444444444, 0.6770833333333334, tensor(1.0779)]\n",
      "Validation -  [0.6076388888888888, 0.47685185185185186, 0.6076388888888888, tensor(1.1262)]\n",
      "\n",
      "Epoch  891\n"
     ]
    },
    {
     "name": "stderr",
     "output_type": "stream",
     "text": [
      "9it [00:00, 29.72it/s]"
     ]
    },
    {
     "name": "stdout",
     "output_type": "stream",
     "text": [
      "['acc', 'kappa', 'fmeasure', 'loss']\n",
      "Training Loss  1.0880882740020752\n"
     ]
    },
    {
     "name": "stderr",
     "output_type": "stream",
     "text": [
      "\n"
     ]
    },
    {
     "name": "stdout",
     "output_type": "stream",
     "text": [
      "Train -  [0.6770833333333334, 0.5694444444444444, 0.6770833333333334, tensor(1.0780)]\n",
      "Validation -  [0.6076388888888888, 0.47685185185185186, 0.6076388888888888, tensor(1.1262)]\n",
      "\n",
      "Epoch  892\n"
     ]
    },
    {
     "name": "stderr",
     "output_type": "stream",
     "text": [
      "9it [00:00, 27.66it/s]"
     ]
    },
    {
     "name": "stdout",
     "output_type": "stream",
     "text": [
      "['acc', 'kappa', 'fmeasure', 'loss']\n",
      "Training Loss  1.0937886238098145\n"
     ]
    },
    {
     "name": "stderr",
     "output_type": "stream",
     "text": [
      "\n"
     ]
    },
    {
     "name": "stdout",
     "output_type": "stream",
     "text": [
      "Train -  [0.6770833333333334, 0.5694444444444444, 0.6770833333333334, tensor(1.0778)]\n",
      "Validation -  [0.6076388888888888, 0.47685185185185186, 0.6076388888888888, tensor(1.1261)]\n",
      "\n",
      "Epoch  893\n"
     ]
    },
    {
     "name": "stderr",
     "output_type": "stream",
     "text": [
      "9it [00:00, 29.14it/s]"
     ]
    },
    {
     "name": "stdout",
     "output_type": "stream",
     "text": [
      "['acc', 'kappa', 'fmeasure', 'loss']\n",
      "Training Loss  1.0980534156163533\n"
     ]
    },
    {
     "name": "stderr",
     "output_type": "stream",
     "text": [
      "\n"
     ]
    },
    {
     "name": "stdout",
     "output_type": "stream",
     "text": [
      "Train -  [0.6770833333333334, 0.5694444444444444, 0.6770833333333334, tensor(1.0779)]\n",
      "Validation -  [0.6076388888888888, 0.47685185185185186, 0.6076388888888888, tensor(1.1262)]\n",
      "\n",
      "Epoch  894\n"
     ]
    },
    {
     "name": "stderr",
     "output_type": "stream",
     "text": [
      "9it [00:00, 27.19it/s]"
     ]
    },
    {
     "name": "stdout",
     "output_type": "stream",
     "text": [
      "['acc', 'kappa', 'fmeasure', 'loss']\n",
      "Training Loss  1.0918950504726834\n"
     ]
    },
    {
     "name": "stderr",
     "output_type": "stream",
     "text": [
      "\n"
     ]
    },
    {
     "name": "stdout",
     "output_type": "stream",
     "text": [
      "Train -  [0.6770833333333334, 0.5694444444444444, 0.6770833333333334, tensor(1.0779)]\n",
      "Validation -  [0.6076388888888888, 0.47685185185185186, 0.6076388888888888, tensor(1.1262)]\n",
      "\n",
      "Epoch  895\n"
     ]
    },
    {
     "name": "stderr",
     "output_type": "stream",
     "text": [
      "9it [00:00, 26.94it/s]"
     ]
    },
    {
     "name": "stdout",
     "output_type": "stream",
     "text": [
      "['acc', 'kappa', 'fmeasure', 'loss']\n",
      "Training Loss  1.0986725224388971\n"
     ]
    },
    {
     "name": "stderr",
     "output_type": "stream",
     "text": [
      "\n"
     ]
    },
    {
     "name": "stdout",
     "output_type": "stream",
     "text": [
      "Train -  [0.6770833333333334, 0.5694444444444444, 0.6770833333333334, tensor(1.0779)]\n",
      "Validation -  [0.6076388888888888, 0.47685185185185186, 0.6076388888888888, tensor(1.1262)]\n",
      "\n",
      "Epoch  896\n"
     ]
    },
    {
     "name": "stderr",
     "output_type": "stream",
     "text": [
      "9it [00:00, 26.59it/s]"
     ]
    },
    {
     "name": "stdout",
     "output_type": "stream",
     "text": [
      "['acc', 'kappa', 'fmeasure', 'loss']\n",
      "Training Loss  1.1051169104046292\n"
     ]
    },
    {
     "name": "stderr",
     "output_type": "stream",
     "text": [
      "\n"
     ]
    },
    {
     "name": "stdout",
     "output_type": "stream",
     "text": [
      "Train -  [0.6770833333333334, 0.5694444444444444, 0.6770833333333334, tensor(1.0781)]\n",
      "Validation -  [0.6076388888888888, 0.47685185185185186, 0.6076388888888888, tensor(1.1263)]\n",
      "\n",
      "Epoch  897\n"
     ]
    },
    {
     "name": "stderr",
     "output_type": "stream",
     "text": [
      "9it [00:00, 30.56it/s]"
     ]
    },
    {
     "name": "stdout",
     "output_type": "stream",
     "text": [
      "['acc', 'kappa', 'fmeasure', 'loss']\n",
      "Training Loss  1.0958789454566107\n"
     ]
    },
    {
     "name": "stderr",
     "output_type": "stream",
     "text": [
      "\n"
     ]
    },
    {
     "name": "stdout",
     "output_type": "stream",
     "text": [
      "Train -  [0.6770833333333334, 0.5694444444444444, 0.6770833333333334, tensor(1.0782)]\n",
      "Validation -  [0.6041666666666666, 0.4722222222222222, 0.6041666666666666, tensor(1.1264)]\n",
      "\n",
      "Epoch  898\n"
     ]
    },
    {
     "name": "stderr",
     "output_type": "stream",
     "text": [
      "9it [00:00, 28.47it/s]"
     ]
    },
    {
     "name": "stdout",
     "output_type": "stream",
     "text": [
      "['acc', 'kappa', 'fmeasure', 'loss']\n",
      "Training Loss  1.0986168781916301\n"
     ]
    },
    {
     "name": "stderr",
     "output_type": "stream",
     "text": [
      "\n"
     ]
    },
    {
     "name": "stdout",
     "output_type": "stream",
     "text": [
      "Train -  [0.6770833333333334, 0.5694444444444444, 0.6770833333333334, tensor(1.0782)]\n",
      "Validation -  [0.6041666666666666, 0.4722222222222222, 0.6041666666666666, tensor(1.1264)]\n",
      "\n",
      "Epoch  899\n"
     ]
    },
    {
     "name": "stderr",
     "output_type": "stream",
     "text": [
      "9it [00:00, 28.40it/s]"
     ]
    },
    {
     "name": "stdout",
     "output_type": "stream",
     "text": [
      "['acc', 'kappa', 'fmeasure', 'loss']\n",
      "Training Loss  1.1011206573910184\n"
     ]
    },
    {
     "name": "stderr",
     "output_type": "stream",
     "text": [
      "\n"
     ]
    },
    {
     "name": "stdout",
     "output_type": "stream",
     "text": [
      "Train -  [0.6770833333333334, 0.5694444444444444, 0.6770833333333334, tensor(1.0781)]\n",
      "Validation -  [0.6041666666666666, 0.4722222222222222, 0.6041666666666666, tensor(1.1263)]\n",
      "\n",
      "Epoch  900\n"
     ]
    },
    {
     "name": "stderr",
     "output_type": "stream",
     "text": [
      "9it [00:00, 27.51it/s]"
     ]
    },
    {
     "name": "stdout",
     "output_type": "stream",
     "text": [
      "['acc', 'kappa', 'fmeasure', 'loss']\n",
      "Training Loss  1.0990824169582791\n"
     ]
    },
    {
     "name": "stderr",
     "output_type": "stream",
     "text": [
      "\n"
     ]
    },
    {
     "name": "stdout",
     "output_type": "stream",
     "text": [
      "Train -  [0.6770833333333334, 0.5694444444444444, 0.6770833333333334, tensor(1.0781)]\n",
      "Validation -  [0.6041666666666666, 0.4722222222222222, 0.6041666666666666, tensor(1.1263)]\n",
      "\n",
      "Epoch  901\n"
     ]
    },
    {
     "name": "stderr",
     "output_type": "stream",
     "text": [
      "9it [00:00, 28.38it/s]"
     ]
    },
    {
     "name": "stdout",
     "output_type": "stream",
     "text": [
      "['acc', 'kappa', 'fmeasure', 'loss']\n",
      "Training Loss  1.097292184829712\n"
     ]
    },
    {
     "name": "stderr",
     "output_type": "stream",
     "text": [
      "\n"
     ]
    },
    {
     "name": "stdout",
     "output_type": "stream",
     "text": [
      "Train -  [0.6770833333333334, 0.5694444444444444, 0.6770833333333334, tensor(1.0781)]\n",
      "Validation -  [0.6041666666666666, 0.4722222222222222, 0.6041666666666666, tensor(1.1263)]\n",
      "\n",
      "Epoch  902\n"
     ]
    },
    {
     "name": "stderr",
     "output_type": "stream",
     "text": [
      "9it [00:00, 32.85it/s]"
     ]
    },
    {
     "name": "stdout",
     "output_type": "stream",
     "text": [
      "['acc', 'kappa', 'fmeasure', 'loss']\n",
      "Training Loss  1.096501694785224\n"
     ]
    },
    {
     "name": "stderr",
     "output_type": "stream",
     "text": [
      "\n"
     ]
    },
    {
     "name": "stdout",
     "output_type": "stream",
     "text": [
      "Train -  [0.6770833333333334, 0.5694444444444444, 0.6770833333333334, tensor(1.0780)]\n",
      "Validation -  [0.6041666666666666, 0.4722222222222222, 0.6041666666666666, tensor(1.1263)]\n",
      "\n",
      "Epoch  903\n"
     ]
    },
    {
     "name": "stderr",
     "output_type": "stream",
     "text": [
      "9it [00:00, 31.68it/s]"
     ]
    },
    {
     "name": "stdout",
     "output_type": "stream",
     "text": [
      "['acc', 'kappa', 'fmeasure', 'loss']\n",
      "Training Loss  1.1043173207177057\n"
     ]
    },
    {
     "name": "stderr",
     "output_type": "stream",
     "text": [
      "\n"
     ]
    },
    {
     "name": "stdout",
     "output_type": "stream",
     "text": [
      "Train -  [0.6770833333333334, 0.5694444444444444, 0.6770833333333334, tensor(1.0780)]\n",
      "Validation -  [0.6041666666666666, 0.4722222222222222, 0.6041666666666666, tensor(1.1263)]\n",
      "\n",
      "Epoch  904\n"
     ]
    },
    {
     "name": "stderr",
     "output_type": "stream",
     "text": [
      "9it [00:00, 28.31it/s]"
     ]
    },
    {
     "name": "stdout",
     "output_type": "stream",
     "text": [
      "['acc', 'kappa', 'fmeasure', 'loss']\n",
      "Training Loss  1.1102057298024495\n"
     ]
    },
    {
     "name": "stderr",
     "output_type": "stream",
     "text": [
      "\n"
     ]
    },
    {
     "name": "stdout",
     "output_type": "stream",
     "text": [
      "Train -  [0.6770833333333334, 0.5694444444444444, 0.6770833333333334, tensor(1.0780)]\n",
      "Validation -  [0.6041666666666666, 0.4722222222222222, 0.6041666666666666, tensor(1.1263)]\n",
      "\n",
      "Epoch  905\n"
     ]
    },
    {
     "name": "stderr",
     "output_type": "stream",
     "text": [
      "9it [00:00, 27.18it/s]"
     ]
    },
    {
     "name": "stdout",
     "output_type": "stream",
     "text": [
      "['acc', 'kappa', 'fmeasure', 'loss']\n",
      "Training Loss  1.1115878025690715\n"
     ]
    },
    {
     "name": "stderr",
     "output_type": "stream",
     "text": [
      "\n"
     ]
    },
    {
     "name": "stdout",
     "output_type": "stream",
     "text": [
      "Train -  [0.6770833333333334, 0.5694444444444444, 0.6770833333333334, tensor(1.0782)]\n",
      "Validation -  [0.6041666666666666, 0.4722222222222222, 0.6041666666666666, tensor(1.1264)]\n",
      "\n",
      "Epoch  906\n"
     ]
    },
    {
     "name": "stderr",
     "output_type": "stream",
     "text": [
      "9it [00:00, 31.36it/s]"
     ]
    },
    {
     "name": "stdout",
     "output_type": "stream",
     "text": [
      "['acc', 'kappa', 'fmeasure', 'loss']\n",
      "Training Loss  1.0939565102259319\n"
     ]
    },
    {
     "name": "stderr",
     "output_type": "stream",
     "text": [
      "\n"
     ]
    },
    {
     "name": "stdout",
     "output_type": "stream",
     "text": [
      "Train -  [0.6770833333333334, 0.5694444444444444, 0.6770833333333334, tensor(1.0779)]\n",
      "Validation -  [0.6041666666666666, 0.4722222222222222, 0.6041666666666666, tensor(1.1262)]\n",
      "\n",
      "Epoch  907\n"
     ]
    },
    {
     "name": "stderr",
     "output_type": "stream",
     "text": [
      "9it [00:00, 29.23it/s]"
     ]
    },
    {
     "name": "stdout",
     "output_type": "stream",
     "text": [
      "['acc', 'kappa', 'fmeasure', 'loss']\n",
      "Training Loss  1.0857772429784138\n"
     ]
    },
    {
     "name": "stderr",
     "output_type": "stream",
     "text": [
      "\n"
     ]
    },
    {
     "name": "stdout",
     "output_type": "stream",
     "text": [
      "Train -  [0.6770833333333334, 0.5694444444444444, 0.6770833333333334, tensor(1.0780)]\n",
      "Validation -  [0.6041666666666666, 0.4722222222222222, 0.6041666666666666, tensor(1.1263)]\n",
      "\n",
      "Epoch  908\n"
     ]
    },
    {
     "name": "stderr",
     "output_type": "stream",
     "text": [
      "9it [00:00, 28.05it/s]"
     ]
    },
    {
     "name": "stdout",
     "output_type": "stream",
     "text": [
      "['acc', 'kappa', 'fmeasure', 'loss']\n",
      "Training Loss  1.1024084091186523\n"
     ]
    },
    {
     "name": "stderr",
     "output_type": "stream",
     "text": [
      "\n"
     ]
    },
    {
     "name": "stdout",
     "output_type": "stream",
     "text": [
      "Train -  [0.6770833333333334, 0.5694444444444444, 0.6770833333333334, tensor(1.0780)]\n",
      "Validation -  [0.6041666666666666, 0.4722222222222222, 0.6041666666666666, tensor(1.1263)]\n",
      "\n",
      "Epoch  909\n"
     ]
    },
    {
     "name": "stderr",
     "output_type": "stream",
     "text": [
      "9it [00:00, 25.08it/s]"
     ]
    },
    {
     "name": "stdout",
     "output_type": "stream",
     "text": [
      "['acc', 'kappa', 'fmeasure', 'loss']\n",
      "Training Loss  1.1020112302568223\n"
     ]
    },
    {
     "name": "stderr",
     "output_type": "stream",
     "text": [
      "\n"
     ]
    },
    {
     "name": "stdout",
     "output_type": "stream",
     "text": [
      "Train -  [0.6770833333333334, 0.5694444444444444, 0.6770833333333334, tensor(1.0781)]\n",
      "Validation -  [0.6041666666666666, 0.4722222222222222, 0.6041666666666666, tensor(1.1263)]\n",
      "\n",
      "Epoch  910\n"
     ]
    },
    {
     "name": "stderr",
     "output_type": "stream",
     "text": [
      "9it [00:00, 27.74it/s]"
     ]
    },
    {
     "name": "stdout",
     "output_type": "stream",
     "text": [
      "['acc', 'kappa', 'fmeasure', 'loss']\n",
      "Training Loss  1.1025924417707655\n"
     ]
    },
    {
     "name": "stderr",
     "output_type": "stream",
     "text": [
      "\n"
     ]
    },
    {
     "name": "stdout",
     "output_type": "stream",
     "text": [
      "Train -  [0.6770833333333334, 0.5694444444444444, 0.6770833333333334, tensor(1.0780)]\n",
      "Validation -  [0.6076388888888888, 0.47685185185185186, 0.6076388888888888, tensor(1.1263)]\n",
      "\n",
      "Epoch  911\n"
     ]
    },
    {
     "name": "stderr",
     "output_type": "stream",
     "text": [
      "9it [00:00, 32.32it/s]"
     ]
    },
    {
     "name": "stdout",
     "output_type": "stream",
     "text": [
      "['acc', 'kappa', 'fmeasure', 'loss']\n",
      "Training Loss  1.1021106110678778\n"
     ]
    },
    {
     "name": "stderr",
     "output_type": "stream",
     "text": [
      "\n"
     ]
    },
    {
     "name": "stdout",
     "output_type": "stream",
     "text": [
      "Train -  [0.6770833333333334, 0.5694444444444444, 0.6770833333333334, tensor(1.0779)]\n",
      "Validation -  [0.6076388888888888, 0.47685185185185186, 0.6076388888888888, tensor(1.1262)]\n",
      "\n",
      "Epoch  912\n"
     ]
    },
    {
     "name": "stderr",
     "output_type": "stream",
     "text": [
      "9it [00:00, 31.64it/s]"
     ]
    },
    {
     "name": "stdout",
     "output_type": "stream",
     "text": [
      "['acc', 'kappa', 'fmeasure', 'loss']\n",
      "Training Loss  1.1086985800001357\n"
     ]
    },
    {
     "name": "stderr",
     "output_type": "stream",
     "text": [
      "\n"
     ]
    },
    {
     "name": "stdout",
     "output_type": "stream",
     "text": [
      "Train -  [0.6770833333333334, 0.5694444444444444, 0.6770833333333334, tensor(1.0780)]\n",
      "Validation -  [0.6076388888888888, 0.47685185185185186, 0.6076388888888888, tensor(1.1262)]\n",
      "\n",
      "Epoch  913\n"
     ]
    },
    {
     "name": "stderr",
     "output_type": "stream",
     "text": [
      "9it [00:00, 26.56it/s]"
     ]
    },
    {
     "name": "stdout",
     "output_type": "stream",
     "text": [
      "['acc', 'kappa', 'fmeasure', 'loss']\n",
      "Training Loss  1.0921248992284138\n"
     ]
    },
    {
     "name": "stderr",
     "output_type": "stream",
     "text": [
      "\n"
     ]
    },
    {
     "name": "stdout",
     "output_type": "stream",
     "text": [
      "Train -  [0.6770833333333334, 0.5694444444444444, 0.6770833333333334, tensor(1.0780)]\n",
      "Validation -  [0.6076388888888888, 0.47685185185185186, 0.6076388888888888, tensor(1.1262)]\n",
      "\n",
      "Epoch  914\n"
     ]
    },
    {
     "name": "stderr",
     "output_type": "stream",
     "text": [
      "9it [00:00, 26.22it/s]"
     ]
    },
    {
     "name": "stdout",
     "output_type": "stream",
     "text": [
      "['acc', 'kappa', 'fmeasure', 'loss']\n",
      "Training Loss  1.0971037281884088\n"
     ]
    },
    {
     "name": "stderr",
     "output_type": "stream",
     "text": [
      "\n"
     ]
    },
    {
     "name": "stdout",
     "output_type": "stream",
     "text": [
      "Train -  [0.6770833333333334, 0.5694444444444444, 0.6770833333333334, tensor(1.0779)]\n",
      "Validation -  [0.6076388888888888, 0.47685185185185186, 0.6076388888888888, tensor(1.1262)]\n",
      "\n",
      "Epoch  915\n"
     ]
    },
    {
     "name": "stderr",
     "output_type": "stream",
     "text": [
      "9it [00:00, 26.86it/s]"
     ]
    },
    {
     "name": "stdout",
     "output_type": "stream",
     "text": [
      "['acc', 'kappa', 'fmeasure', 'loss']\n",
      "Training Loss  1.095242394341363\n"
     ]
    },
    {
     "name": "stderr",
     "output_type": "stream",
     "text": [
      "\n"
     ]
    },
    {
     "name": "stdout",
     "output_type": "stream",
     "text": [
      "Train -  [0.6770833333333334, 0.5694444444444444, 0.6770833333333334, tensor(1.0780)]\n",
      "Validation -  [0.6076388888888888, 0.47685185185185186, 0.6076388888888888, tensor(1.1262)]\n",
      "\n",
      "Epoch  916\n"
     ]
    },
    {
     "name": "stderr",
     "output_type": "stream",
     "text": [
      "9it [00:00, 28.60it/s]"
     ]
    },
    {
     "name": "stdout",
     "output_type": "stream",
     "text": [
      "['acc', 'kappa', 'fmeasure', 'loss']\n",
      "Training Loss  1.098457349671258\n"
     ]
    },
    {
     "name": "stderr",
     "output_type": "stream",
     "text": [
      "\n"
     ]
    },
    {
     "name": "stdout",
     "output_type": "stream",
     "text": [
      "Train -  [0.6770833333333334, 0.5694444444444444, 0.6770833333333334, tensor(1.0780)]\n",
      "Validation -  [0.6076388888888888, 0.47685185185185186, 0.6076388888888888, tensor(1.1262)]\n",
      "\n",
      "Epoch  917\n"
     ]
    },
    {
     "name": "stderr",
     "output_type": "stream",
     "text": [
      "9it [00:00, 32.06it/s]"
     ]
    },
    {
     "name": "stdout",
     "output_type": "stream",
     "text": [
      "['acc', 'kappa', 'fmeasure', 'loss']\n",
      "Training Loss  1.099872522883945\n"
     ]
    },
    {
     "name": "stderr",
     "output_type": "stream",
     "text": [
      "\n"
     ]
    },
    {
     "name": "stdout",
     "output_type": "stream",
     "text": [
      "Train -  [0.6770833333333334, 0.5694444444444444, 0.6770833333333334, tensor(1.0780)]\n",
      "Validation -  [0.6076388888888888, 0.47685185185185186, 0.6076388888888888, tensor(1.1262)]\n",
      "\n",
      "Epoch  918\n"
     ]
    },
    {
     "name": "stderr",
     "output_type": "stream",
     "text": [
      "9it [00:00, 28.39it/s]"
     ]
    },
    {
     "name": "stdout",
     "output_type": "stream",
     "text": [
      "['acc', 'kappa', 'fmeasure', 'loss']\n",
      "Training Loss  1.0816733572218153\n"
     ]
    },
    {
     "name": "stderr",
     "output_type": "stream",
     "text": [
      "\n"
     ]
    },
    {
     "name": "stdout",
     "output_type": "stream",
     "text": [
      "Train -  [0.6770833333333334, 0.5694444444444444, 0.6770833333333334, tensor(1.0782)]\n",
      "Validation -  [0.6076388888888888, 0.47685185185185186, 0.6076388888888888, tensor(1.1264)]\n",
      "\n",
      "Epoch  919\n"
     ]
    },
    {
     "name": "stderr",
     "output_type": "stream",
     "text": [
      "9it [00:00, 28.16it/s]"
     ]
    },
    {
     "name": "stdout",
     "output_type": "stream",
     "text": [
      "['acc', 'kappa', 'fmeasure', 'loss']\n",
      "Training Loss  1.0901776287290785\n"
     ]
    },
    {
     "name": "stderr",
     "output_type": "stream",
     "text": [
      "\n"
     ]
    },
    {
     "name": "stdout",
     "output_type": "stream",
     "text": [
      "Train -  [0.6770833333333334, 0.5694444444444444, 0.6770833333333334, tensor(1.0780)]\n",
      "Validation -  [0.6076388888888888, 0.47685185185185186, 0.6076388888888888, tensor(1.1263)]\n",
      "\n",
      "Epoch  920\n"
     ]
    },
    {
     "name": "stderr",
     "output_type": "stream",
     "text": [
      "9it [00:00, 28.58it/s]\n"
     ]
    },
    {
     "name": "stdout",
     "output_type": "stream",
     "text": [
      "['acc', 'kappa', 'fmeasure', 'loss']\n",
      "Training Loss  1.0902715126673381\n",
      "Train -  [0.6770833333333334, 0.5694444444444444, 0.6770833333333334, tensor(1.0779)]\n",
      "Validation -  [0.6076388888888888, 0.47685185185185186, 0.6076388888888888, tensor(1.1261)]\n",
      "\n",
      "Epoch  921\n"
     ]
    },
    {
     "name": "stderr",
     "output_type": "stream",
     "text": [
      "9it [00:00, 29.78it/s]"
     ]
    },
    {
     "name": "stdout",
     "output_type": "stream",
     "text": [
      "['acc', 'kappa', 'fmeasure', 'loss']\n",
      "Training Loss  1.10580046971639\n"
     ]
    },
    {
     "name": "stderr",
     "output_type": "stream",
     "text": [
      "\n"
     ]
    },
    {
     "name": "stdout",
     "output_type": "stream",
     "text": [
      "Train -  [0.6770833333333334, 0.5694444444444444, 0.6770833333333334, tensor(1.0779)]\n",
      "Validation -  [0.6076388888888888, 0.47685185185185186, 0.6076388888888888, tensor(1.1262)]\n",
      "\n",
      "Epoch  922\n"
     ]
    },
    {
     "name": "stderr",
     "output_type": "stream",
     "text": [
      "9it [00:00, 31.85it/s]"
     ]
    },
    {
     "name": "stdout",
     "output_type": "stream",
     "text": [
      "['acc', 'kappa', 'fmeasure', 'loss']\n",
      "Training Loss  1.1044343577490912\n"
     ]
    },
    {
     "name": "stderr",
     "output_type": "stream",
     "text": [
      "\n"
     ]
    },
    {
     "name": "stdout",
     "output_type": "stream",
     "text": [
      "Train -  [0.6770833333333334, 0.5694444444444444, 0.6770833333333334, tensor(1.0779)]\n",
      "Validation -  [0.6076388888888888, 0.47685185185185186, 0.6076388888888888, tensor(1.1261)]\n",
      "\n",
      "Epoch  923\n"
     ]
    },
    {
     "name": "stderr",
     "output_type": "stream",
     "text": [
      "9it [00:00, 24.12it/s]"
     ]
    },
    {
     "name": "stdout",
     "output_type": "stream",
     "text": [
      "['acc', 'kappa', 'fmeasure', 'loss']\n",
      "Training Loss  1.0916002988815308\n"
     ]
    },
    {
     "name": "stderr",
     "output_type": "stream",
     "text": [
      "\n"
     ]
    },
    {
     "name": "stdout",
     "output_type": "stream",
     "text": [
      "Train -  [0.6770833333333334, 0.5694444444444444, 0.6770833333333334, tensor(1.0780)]\n",
      "Validation -  [0.6076388888888888, 0.47685185185185186, 0.6076388888888888, tensor(1.1262)]\n",
      "\n",
      "Epoch  924\n"
     ]
    },
    {
     "name": "stderr",
     "output_type": "stream",
     "text": [
      "9it [00:00, 30.60it/s]"
     ]
    },
    {
     "name": "stdout",
     "output_type": "stream",
     "text": [
      "['acc', 'kappa', 'fmeasure', 'loss']\n",
      "Training Loss  1.0898830956882901\n"
     ]
    },
    {
     "name": "stderr",
     "output_type": "stream",
     "text": [
      "\n"
     ]
    },
    {
     "name": "stdout",
     "output_type": "stream",
     "text": [
      "Train -  [0.6770833333333334, 0.5694444444444444, 0.6770833333333334, tensor(1.0781)]\n",
      "Validation -  [0.6076388888888888, 0.47685185185185186, 0.6076388888888888, tensor(1.1263)]\n",
      "\n",
      "Epoch  925\n"
     ]
    },
    {
     "name": "stderr",
     "output_type": "stream",
     "text": [
      "9it [00:00, 28.23it/s]"
     ]
    },
    {
     "name": "stdout",
     "output_type": "stream",
     "text": [
      "['acc', 'kappa', 'fmeasure', 'loss']\n",
      "Training Loss  1.0988486740324233\n"
     ]
    },
    {
     "name": "stderr",
     "output_type": "stream",
     "text": [
      "\n"
     ]
    },
    {
     "name": "stdout",
     "output_type": "stream",
     "text": [
      "Train -  [0.6770833333333334, 0.5694444444444444, 0.6770833333333334, tensor(1.0781)]\n",
      "Validation -  [0.6076388888888888, 0.47685185185185186, 0.6076388888888888, tensor(1.1263)]\n",
      "\n",
      "Epoch  926\n"
     ]
    },
    {
     "name": "stderr",
     "output_type": "stream",
     "text": [
      "9it [00:00, 31.50it/s]"
     ]
    },
    {
     "name": "stdout",
     "output_type": "stream",
     "text": [
      "['acc', 'kappa', 'fmeasure', 'loss']\n",
      "Training Loss  1.1006426281399198\n"
     ]
    },
    {
     "name": "stderr",
     "output_type": "stream",
     "text": [
      "\n"
     ]
    },
    {
     "name": "stdout",
     "output_type": "stream",
     "text": [
      "Train -  [0.6770833333333334, 0.5694444444444444, 0.6770833333333334, tensor(1.0780)]\n",
      "Validation -  [0.6076388888888888, 0.47685185185185186, 0.6076388888888888, tensor(1.1262)]\n",
      "\n",
      "Epoch  927\n"
     ]
    },
    {
     "name": "stderr",
     "output_type": "stream",
     "text": [
      "9it [00:00, 26.34it/s]"
     ]
    },
    {
     "name": "stdout",
     "output_type": "stream",
     "text": [
      "['acc', 'kappa', 'fmeasure', 'loss']\n",
      "Training Loss  1.085538347562154\n"
     ]
    },
    {
     "name": "stderr",
     "output_type": "stream",
     "text": [
      "\n"
     ]
    },
    {
     "name": "stdout",
     "output_type": "stream",
     "text": [
      "Train -  [0.6770833333333334, 0.5694444444444444, 0.6770833333333334, tensor(1.0779)]\n",
      "Validation -  [0.6076388888888888, 0.47685185185185186, 0.6076388888888888, tensor(1.1261)]\n",
      "\n",
      "Epoch  928\n"
     ]
    },
    {
     "name": "stderr",
     "output_type": "stream",
     "text": [
      "9it [00:00, 28.14it/s]"
     ]
    },
    {
     "name": "stdout",
     "output_type": "stream",
     "text": [
      "['acc', 'kappa', 'fmeasure', 'loss']\n",
      "Training Loss  1.1064222521252103\n"
     ]
    },
    {
     "name": "stderr",
     "output_type": "stream",
     "text": [
      "\n"
     ]
    },
    {
     "name": "stdout",
     "output_type": "stream",
     "text": [
      "Train -  [0.6770833333333334, 0.5694444444444444, 0.6770833333333334, tensor(1.0778)]\n",
      "Validation -  [0.6076388888888888, 0.47685185185185186, 0.6076388888888888, tensor(1.1261)]\n",
      "\n",
      "Epoch  929\n"
     ]
    },
    {
     "name": "stderr",
     "output_type": "stream",
     "text": [
      "9it [00:00, 29.97it/s]"
     ]
    },
    {
     "name": "stdout",
     "output_type": "stream",
     "text": [
      "['acc', 'kappa', 'fmeasure', 'loss']\n",
      "Training Loss  1.0930409299002752\n"
     ]
    },
    {
     "name": "stderr",
     "output_type": "stream",
     "text": [
      "\n"
     ]
    },
    {
     "name": "stdout",
     "output_type": "stream",
     "text": [
      "Train -  [0.6770833333333334, 0.5694444444444444, 0.6770833333333334, tensor(1.0780)]\n",
      "Validation -  [0.6076388888888888, 0.47685185185185186, 0.6076388888888888, tensor(1.1262)]\n",
      "\n",
      "Epoch  930\n"
     ]
    },
    {
     "name": "stderr",
     "output_type": "stream",
     "text": [
      "9it [00:00, 30.53it/s]"
     ]
    },
    {
     "name": "stdout",
     "output_type": "stream",
     "text": [
      "['acc', 'kappa', 'fmeasure', 'loss']\n",
      "Training Loss  1.100982877943251\n"
     ]
    },
    {
     "name": "stderr",
     "output_type": "stream",
     "text": [
      "\n"
     ]
    },
    {
     "name": "stdout",
     "output_type": "stream",
     "text": [
      "Train -  [0.6770833333333334, 0.5694444444444444, 0.6770833333333334, tensor(1.0779)]\n",
      "Validation -  [0.6076388888888888, 0.47685185185185186, 0.6076388888888888, tensor(1.1261)]\n",
      "\n",
      "Epoch  931\n"
     ]
    },
    {
     "name": "stderr",
     "output_type": "stream",
     "text": [
      "9it [00:00, 30.81it/s]"
     ]
    },
    {
     "name": "stdout",
     "output_type": "stream",
     "text": [
      "['acc', 'kappa', 'fmeasure', 'loss']\n",
      "Training Loss  1.089465061823527\n"
     ]
    },
    {
     "name": "stderr",
     "output_type": "stream",
     "text": [
      "\n"
     ]
    },
    {
     "name": "stdout",
     "output_type": "stream",
     "text": [
      "Train -  [0.6770833333333334, 0.5694444444444444, 0.6770833333333334, tensor(1.0779)]\n",
      "Validation -  [0.6076388888888888, 0.47685185185185186, 0.6076388888888888, tensor(1.1262)]\n",
      "\n",
      "Epoch  932\n"
     ]
    },
    {
     "name": "stderr",
     "output_type": "stream",
     "text": [
      "9it [00:00, 27.05it/s]"
     ]
    },
    {
     "name": "stdout",
     "output_type": "stream",
     "text": [
      "['acc', 'kappa', 'fmeasure', 'loss']\n",
      "Training Loss  1.1026735968059964\n"
     ]
    },
    {
     "name": "stderr",
     "output_type": "stream",
     "text": [
      "\n"
     ]
    },
    {
     "name": "stdout",
     "output_type": "stream",
     "text": [
      "Train -  [0.6770833333333334, 0.5694444444444444, 0.6770833333333334, tensor(1.0780)]\n",
      "Validation -  [0.6076388888888888, 0.47685185185185186, 0.6076388888888888, tensor(1.1262)]\n",
      "\n",
      "Epoch  933\n"
     ]
    },
    {
     "name": "stderr",
     "output_type": "stream",
     "text": [
      "9it [00:00, 24.78it/s]"
     ]
    },
    {
     "name": "stdout",
     "output_type": "stream",
     "text": [
      "['acc', 'kappa', 'fmeasure', 'loss']\n",
      "Training Loss  1.0909350978003607\n"
     ]
    },
    {
     "name": "stderr",
     "output_type": "stream",
     "text": [
      "\n"
     ]
    },
    {
     "name": "stdout",
     "output_type": "stream",
     "text": [
      "Train -  [0.6770833333333334, 0.5694444444444444, 0.6770833333333334, tensor(1.0781)]\n",
      "Validation -  [0.6076388888888888, 0.47685185185185186, 0.6076388888888888, tensor(1.1263)]\n",
      "\n",
      "Epoch  934\n"
     ]
    },
    {
     "name": "stderr",
     "output_type": "stream",
     "text": [
      "9it [00:00, 29.69it/s]"
     ]
    },
    {
     "name": "stdout",
     "output_type": "stream",
     "text": [
      "['acc', 'kappa', 'fmeasure', 'loss']\n",
      "Training Loss  1.0977223714192708\n"
     ]
    },
    {
     "name": "stderr",
     "output_type": "stream",
     "text": [
      "\n"
     ]
    },
    {
     "name": "stdout",
     "output_type": "stream",
     "text": [
      "Train -  [0.6770833333333334, 0.5694444444444444, 0.6770833333333334, tensor(1.0783)]\n",
      "Validation -  [0.6076388888888888, 0.47685185185185186, 0.6076388888888888, tensor(1.1265)]\n",
      "\n",
      "Epoch  935\n"
     ]
    },
    {
     "name": "stderr",
     "output_type": "stream",
     "text": [
      "9it [00:00, 24.44it/s]"
     ]
    },
    {
     "name": "stdout",
     "output_type": "stream",
     "text": [
      "['acc', 'kappa', 'fmeasure', 'loss']\n",
      "Training Loss  1.0947165224287245\n"
     ]
    },
    {
     "name": "stderr",
     "output_type": "stream",
     "text": [
      "\n"
     ]
    },
    {
     "name": "stdout",
     "output_type": "stream",
     "text": [
      "Train -  [0.6770833333333334, 0.5694444444444444, 0.6770833333333334, tensor(1.0780)]\n",
      "Validation -  [0.6076388888888888, 0.47685185185185186, 0.6076388888888888, tensor(1.1262)]\n",
      "\n",
      "Epoch  936\n"
     ]
    },
    {
     "name": "stderr",
     "output_type": "stream",
     "text": [
      "9it [00:00, 30.88it/s]"
     ]
    },
    {
     "name": "stdout",
     "output_type": "stream",
     "text": [
      "['acc', 'kappa', 'fmeasure', 'loss']\n",
      "Training Loss  1.0918479495578342\n"
     ]
    },
    {
     "name": "stderr",
     "output_type": "stream",
     "text": [
      "\n"
     ]
    },
    {
     "name": "stdout",
     "output_type": "stream",
     "text": [
      "Train -  [0.6770833333333334, 0.5694444444444444, 0.6770833333333334, tensor(1.0780)]\n",
      "Validation -  [0.6076388888888888, 0.47685185185185186, 0.6076388888888888, tensor(1.1262)]\n",
      "\n",
      "Epoch  937\n"
     ]
    },
    {
     "name": "stderr",
     "output_type": "stream",
     "text": [
      "9it [00:00, 27.07it/s]"
     ]
    },
    {
     "name": "stdout",
     "output_type": "stream",
     "text": [
      "['acc', 'kappa', 'fmeasure', 'loss']\n",
      "Training Loss  1.0789842539363437\n"
     ]
    },
    {
     "name": "stderr",
     "output_type": "stream",
     "text": [
      "\n"
     ]
    },
    {
     "name": "stdout",
     "output_type": "stream",
     "text": [
      "Train -  [0.6770833333333334, 0.5694444444444444, 0.6770833333333334, tensor(1.0779)]\n",
      "Validation -  [0.6076388888888888, 0.47685185185185186, 0.6076388888888888, tensor(1.1261)]\n",
      "\n",
      "Epoch  938\n"
     ]
    },
    {
     "name": "stderr",
     "output_type": "stream",
     "text": [
      "9it [00:00, 32.09it/s]"
     ]
    },
    {
     "name": "stdout",
     "output_type": "stream",
     "text": [
      "['acc', 'kappa', 'fmeasure', 'loss']\n",
      "Training Loss  1.1218444108963013\n"
     ]
    },
    {
     "name": "stderr",
     "output_type": "stream",
     "text": [
      "\n"
     ]
    },
    {
     "name": "stdout",
     "output_type": "stream",
     "text": [
      "Train -  [0.6770833333333334, 0.5694444444444444, 0.6770833333333334, tensor(1.0779)]\n",
      "Validation -  [0.6076388888888888, 0.47685185185185186, 0.6076388888888888, tensor(1.1262)]\n",
      "\n",
      "Epoch  939\n"
     ]
    },
    {
     "name": "stderr",
     "output_type": "stream",
     "text": [
      "9it [00:00, 34.77it/s]"
     ]
    },
    {
     "name": "stdout",
     "output_type": "stream",
     "text": [
      "['acc', 'kappa', 'fmeasure', 'loss']\n",
      "Training Loss  1.097167730331421\n"
     ]
    },
    {
     "name": "stderr",
     "output_type": "stream",
     "text": [
      "\n"
     ]
    },
    {
     "name": "stdout",
     "output_type": "stream",
     "text": [
      "Train -  [0.6770833333333334, 0.5694444444444444, 0.6770833333333334, tensor(1.0780)]\n",
      "Validation -  [0.6076388888888888, 0.47685185185185186, 0.6076388888888888, tensor(1.1262)]\n",
      "\n",
      "Epoch  940\n"
     ]
    },
    {
     "name": "stderr",
     "output_type": "stream",
     "text": [
      "9it [00:00, 25.56it/s]"
     ]
    },
    {
     "name": "stdout",
     "output_type": "stream",
     "text": [
      "['acc', 'kappa', 'fmeasure', 'loss']\n",
      "Training Loss  1.0944151083628337\n"
     ]
    },
    {
     "name": "stderr",
     "output_type": "stream",
     "text": [
      "\n"
     ]
    },
    {
     "name": "stdout",
     "output_type": "stream",
     "text": [
      "Train -  [0.6770833333333334, 0.5694444444444444, 0.6770833333333334, tensor(1.0780)]\n",
      "Validation -  [0.6076388888888888, 0.47685185185185186, 0.6076388888888888, tensor(1.1263)]\n",
      "\n",
      "Epoch  941\n"
     ]
    },
    {
     "name": "stderr",
     "output_type": "stream",
     "text": [
      "9it [00:00, 25.60it/s]"
     ]
    },
    {
     "name": "stdout",
     "output_type": "stream",
     "text": [
      "['acc', 'kappa', 'fmeasure', 'loss']\n",
      "Training Loss  1.0933914184570312\n"
     ]
    },
    {
     "name": "stderr",
     "output_type": "stream",
     "text": [
      "\n"
     ]
    },
    {
     "name": "stdout",
     "output_type": "stream",
     "text": [
      "Train -  [0.6770833333333334, 0.5694444444444444, 0.6770833333333334, tensor(1.0780)]\n",
      "Validation -  [0.6076388888888888, 0.47685185185185186, 0.6076388888888888, tensor(1.1262)]\n",
      "\n",
      "Epoch  942\n"
     ]
    },
    {
     "name": "stderr",
     "output_type": "stream",
     "text": [
      "9it [00:00, 32.19it/s]"
     ]
    },
    {
     "name": "stdout",
     "output_type": "stream",
     "text": [
      "['acc', 'kappa', 'fmeasure', 'loss']\n",
      "Training Loss  1.099891808297899\n"
     ]
    },
    {
     "name": "stderr",
     "output_type": "stream",
     "text": [
      "\n"
     ]
    },
    {
     "name": "stdout",
     "output_type": "stream",
     "text": [
      "Train -  [0.6770833333333334, 0.5694444444444444, 0.6770833333333334, tensor(1.0781)]\n",
      "Validation -  [0.6076388888888888, 0.47685185185185186, 0.6076388888888888, tensor(1.1263)]\n",
      "\n",
      "Epoch  943\n"
     ]
    },
    {
     "name": "stderr",
     "output_type": "stream",
     "text": [
      "9it [00:00, 29.71it/s]"
     ]
    },
    {
     "name": "stdout",
     "output_type": "stream",
     "text": [
      "['acc', 'kappa', 'fmeasure', 'loss']\n",
      "Training Loss  1.0923210117552016\n"
     ]
    },
    {
     "name": "stderr",
     "output_type": "stream",
     "text": [
      "\n"
     ]
    },
    {
     "name": "stdout",
     "output_type": "stream",
     "text": [
      "Train -  [0.6770833333333334, 0.5694444444444444, 0.6770833333333334, tensor(1.0780)]\n",
      "Validation -  [0.6076388888888888, 0.47685185185185186, 0.6076388888888888, tensor(1.1262)]\n",
      "\n",
      "Epoch  944\n"
     ]
    },
    {
     "name": "stderr",
     "output_type": "stream",
     "text": [
      "9it [00:00, 26.79it/s]"
     ]
    },
    {
     "name": "stdout",
     "output_type": "stream",
     "text": [
      "['acc', 'kappa', 'fmeasure', 'loss']\n",
      "Training Loss  1.0882218148973253\n"
     ]
    },
    {
     "name": "stderr",
     "output_type": "stream",
     "text": [
      "\n"
     ]
    },
    {
     "name": "stdout",
     "output_type": "stream",
     "text": [
      "Train -  [0.6770833333333334, 0.5694444444444444, 0.6770833333333334, tensor(1.0780)]\n",
      "Validation -  [0.6076388888888888, 0.47685185185185186, 0.6076388888888888, tensor(1.1262)]\n",
      "\n",
      "Epoch  945\n"
     ]
    },
    {
     "name": "stderr",
     "output_type": "stream",
     "text": [
      "9it [00:00, 29.05it/s]"
     ]
    },
    {
     "name": "stdout",
     "output_type": "stream",
     "text": [
      "['acc', 'kappa', 'fmeasure', 'loss']\n",
      "Training Loss  1.0883187188042536\n"
     ]
    },
    {
     "name": "stderr",
     "output_type": "stream",
     "text": [
      "\n"
     ]
    },
    {
     "name": "stdout",
     "output_type": "stream",
     "text": [
      "Train -  [0.6770833333333334, 0.5694444444444444, 0.6770833333333334, tensor(1.0778)]\n",
      "Validation -  [0.6076388888888888, 0.47685185185185186, 0.6076388888888888, tensor(1.1261)]\n",
      "\n",
      "Epoch  946\n"
     ]
    },
    {
     "name": "stderr",
     "output_type": "stream",
     "text": [
      "9it [00:00, 29.79it/s]"
     ]
    },
    {
     "name": "stdout",
     "output_type": "stream",
     "text": [
      "['acc', 'kappa', 'fmeasure', 'loss']\n",
      "Training Loss  1.1043324602974787\n"
     ]
    },
    {
     "name": "stderr",
     "output_type": "stream",
     "text": [
      "\n"
     ]
    },
    {
     "name": "stdout",
     "output_type": "stream",
     "text": [
      "Train -  [0.6770833333333334, 0.5694444444444444, 0.6770833333333334, tensor(1.0779)]\n",
      "Validation -  [0.6076388888888888, 0.47685185185185186, 0.6076388888888888, tensor(1.1262)]\n",
      "\n",
      "Epoch  947\n"
     ]
    },
    {
     "name": "stderr",
     "output_type": "stream",
     "text": [
      "9it [00:00, 30.99it/s]"
     ]
    },
    {
     "name": "stdout",
     "output_type": "stream",
     "text": [
      "['acc', 'kappa', 'fmeasure', 'loss']\n",
      "Training Loss  1.1026948822869196\n"
     ]
    },
    {
     "name": "stderr",
     "output_type": "stream",
     "text": [
      "\n"
     ]
    },
    {
     "name": "stdout",
     "output_type": "stream",
     "text": [
      "Train -  [0.6770833333333334, 0.5694444444444444, 0.6770833333333334, tensor(1.0780)]\n",
      "Validation -  [0.6076388888888888, 0.47685185185185186, 0.6076388888888888, tensor(1.1262)]\n",
      "\n",
      "Epoch  948\n"
     ]
    },
    {
     "name": "stderr",
     "output_type": "stream",
     "text": [
      "9it [00:00, 32.30it/s]"
     ]
    },
    {
     "name": "stdout",
     "output_type": "stream",
     "text": [
      "['acc', 'kappa', 'fmeasure', 'loss']\n",
      "Training Loss  1.0947764847013686\n"
     ]
    },
    {
     "name": "stderr",
     "output_type": "stream",
     "text": [
      "\n"
     ]
    },
    {
     "name": "stdout",
     "output_type": "stream",
     "text": [
      "Train -  [0.6770833333333334, 0.5694444444444444, 0.6770833333333334, tensor(1.0780)]\n",
      "Validation -  [0.6076388888888888, 0.47685185185185186, 0.6076388888888888, tensor(1.1262)]\n",
      "\n",
      "Epoch  949\n"
     ]
    },
    {
     "name": "stderr",
     "output_type": "stream",
     "text": [
      "9it [00:00, 30.21it/s]"
     ]
    },
    {
     "name": "stdout",
     "output_type": "stream",
     "text": [
      "['acc', 'kappa', 'fmeasure', 'loss']\n",
      "Training Loss  1.1070288949542575\n"
     ]
    },
    {
     "name": "stderr",
     "output_type": "stream",
     "text": [
      "\n"
     ]
    },
    {
     "name": "stdout",
     "output_type": "stream",
     "text": [
      "Train -  [0.6770833333333334, 0.5694444444444444, 0.6770833333333334, tensor(1.0780)]\n",
      "Validation -  [0.6076388888888888, 0.47685185185185186, 0.6076388888888888, tensor(1.1262)]\n",
      "\n",
      "Epoch  950\n"
     ]
    },
    {
     "name": "stderr",
     "output_type": "stream",
     "text": [
      "9it [00:00, 29.99it/s]"
     ]
    },
    {
     "name": "stdout",
     "output_type": "stream",
     "text": [
      "['acc', 'kappa', 'fmeasure', 'loss']\n",
      "Training Loss  1.101930406358507\n"
     ]
    },
    {
     "name": "stderr",
     "output_type": "stream",
     "text": [
      "\n"
     ]
    },
    {
     "name": "stdout",
     "output_type": "stream",
     "text": [
      "Train -  [0.6770833333333334, 0.5694444444444444, 0.6770833333333334, tensor(1.0780)]\n",
      "Validation -  [0.6076388888888888, 0.47685185185185186, 0.6076388888888888, tensor(1.1262)]\n",
      "\n",
      "Epoch  951\n"
     ]
    },
    {
     "name": "stderr",
     "output_type": "stream",
     "text": [
      "9it [00:00, 26.13it/s]"
     ]
    },
    {
     "name": "stdout",
     "output_type": "stream",
     "text": [
      "['acc', 'kappa', 'fmeasure', 'loss']\n",
      "Training Loss  1.103937480184767\n"
     ]
    },
    {
     "name": "stderr",
     "output_type": "stream",
     "text": [
      "\n"
     ]
    },
    {
     "name": "stdout",
     "output_type": "stream",
     "text": [
      "Train -  [0.6770833333333334, 0.5694444444444444, 0.6770833333333334, tensor(1.0779)]\n",
      "Validation -  [0.6076388888888888, 0.47685185185185186, 0.6076388888888888, tensor(1.1262)]\n",
      "\n",
      "Epoch  952\n"
     ]
    },
    {
     "name": "stderr",
     "output_type": "stream",
     "text": [
      "9it [00:00, 28.98it/s]"
     ]
    },
    {
     "name": "stdout",
     "output_type": "stream",
     "text": [
      "['acc', 'kappa', 'fmeasure', 'loss']\n",
      "Training Loss  1.1024824248419867\n"
     ]
    },
    {
     "name": "stderr",
     "output_type": "stream",
     "text": [
      "\n"
     ]
    },
    {
     "name": "stdout",
     "output_type": "stream",
     "text": [
      "Train -  [0.6770833333333334, 0.5694444444444444, 0.6770833333333334, tensor(1.0780)]\n",
      "Validation -  [0.6076388888888888, 0.47685185185185186, 0.6076388888888888, tensor(1.1263)]\n",
      "\n",
      "Epoch  953\n"
     ]
    },
    {
     "name": "stderr",
     "output_type": "stream",
     "text": [
      "9it [00:00, 25.40it/s]"
     ]
    },
    {
     "name": "stdout",
     "output_type": "stream",
     "text": [
      "['acc', 'kappa', 'fmeasure', 'loss']\n",
      "Training Loss  1.1094392538070679\n"
     ]
    },
    {
     "name": "stderr",
     "output_type": "stream",
     "text": [
      "\n"
     ]
    },
    {
     "name": "stdout",
     "output_type": "stream",
     "text": [
      "Train -  [0.6770833333333334, 0.5694444444444444, 0.6770833333333334, tensor(1.0781)]\n",
      "Validation -  [0.6076388888888888, 0.47685185185185186, 0.6076388888888888, tensor(1.1263)]\n",
      "\n",
      "Epoch  954\n"
     ]
    },
    {
     "name": "stderr",
     "output_type": "stream",
     "text": [
      "9it [00:00, 29.12it/s]"
     ]
    },
    {
     "name": "stdout",
     "output_type": "stream",
     "text": [
      "['acc', 'kappa', 'fmeasure', 'loss']\n",
      "Training Loss  1.0935656229654949\n"
     ]
    },
    {
     "name": "stderr",
     "output_type": "stream",
     "text": [
      "\n"
     ]
    },
    {
     "name": "stdout",
     "output_type": "stream",
     "text": [
      "Train -  [0.6770833333333334, 0.5694444444444444, 0.6770833333333334, tensor(1.0780)]\n",
      "Validation -  [0.6076388888888888, 0.47685185185185186, 0.6076388888888888, tensor(1.1262)]\n",
      "\n",
      "Epoch  955\n"
     ]
    },
    {
     "name": "stderr",
     "output_type": "stream",
     "text": [
      "9it [00:00, 29.54it/s]"
     ]
    },
    {
     "name": "stdout",
     "output_type": "stream",
     "text": [
      "['acc', 'kappa', 'fmeasure', 'loss']\n",
      "Training Loss  1.0914947324328952\n"
     ]
    },
    {
     "name": "stderr",
     "output_type": "stream",
     "text": [
      "\n"
     ]
    },
    {
     "name": "stdout",
     "output_type": "stream",
     "text": [
      "Train -  [0.6770833333333334, 0.5694444444444444, 0.6770833333333334, tensor(1.0781)]\n",
      "Validation -  [0.6076388888888888, 0.47685185185185186, 0.6076388888888888, tensor(1.1263)]\n",
      "\n",
      "Epoch  956\n"
     ]
    },
    {
     "name": "stderr",
     "output_type": "stream",
     "text": [
      "9it [00:00, 30.86it/s]"
     ]
    },
    {
     "name": "stdout",
     "output_type": "stream",
     "text": [
      "['acc', 'kappa', 'fmeasure', 'loss']\n",
      "Training Loss  1.0882079071468778\n"
     ]
    },
    {
     "name": "stderr",
     "output_type": "stream",
     "text": [
      "\n"
     ]
    },
    {
     "name": "stdout",
     "output_type": "stream",
     "text": [
      "Train -  [0.6770833333333334, 0.5694444444444444, 0.6770833333333334, tensor(1.0781)]\n",
      "Validation -  [0.6076388888888888, 0.47685185185185186, 0.6076388888888888, tensor(1.1263)]\n",
      "\n",
      "Epoch  957\n"
     ]
    },
    {
     "name": "stderr",
     "output_type": "stream",
     "text": [
      "9it [00:00, 28.39it/s]"
     ]
    },
    {
     "name": "stdout",
     "output_type": "stream",
     "text": [
      "['acc', 'kappa', 'fmeasure', 'loss']\n",
      "Training Loss  1.1015283001793756\n"
     ]
    },
    {
     "name": "stderr",
     "output_type": "stream",
     "text": [
      "\n"
     ]
    },
    {
     "name": "stdout",
     "output_type": "stream",
     "text": [
      "Train -  [0.6770833333333334, 0.5694444444444444, 0.6770833333333334, tensor(1.0781)]\n",
      "Validation -  [0.6076388888888888, 0.47685185185185186, 0.6076388888888888, tensor(1.1263)]\n",
      "\n",
      "Epoch  958\n"
     ]
    },
    {
     "name": "stderr",
     "output_type": "stream",
     "text": [
      "9it [00:00, 26.46it/s]"
     ]
    },
    {
     "name": "stdout",
     "output_type": "stream",
     "text": [
      "['acc', 'kappa', 'fmeasure', 'loss']\n",
      "Training Loss  1.1023539702097576\n"
     ]
    },
    {
     "name": "stderr",
     "output_type": "stream",
     "text": [
      "\n"
     ]
    },
    {
     "name": "stdout",
     "output_type": "stream",
     "text": [
      "Train -  [0.6770833333333334, 0.5694444444444444, 0.6770833333333334, tensor(1.0779)]\n",
      "Validation -  [0.6076388888888888, 0.47685185185185186, 0.6076388888888888, tensor(1.1262)]\n",
      "\n",
      "Epoch  959\n"
     ]
    },
    {
     "name": "stderr",
     "output_type": "stream",
     "text": [
      "9it [00:00, 30.86it/s]"
     ]
    },
    {
     "name": "stdout",
     "output_type": "stream",
     "text": [
      "['acc', 'kappa', 'fmeasure', 'loss']\n",
      "Training Loss  1.1043042474322848\n"
     ]
    },
    {
     "name": "stderr",
     "output_type": "stream",
     "text": [
      "\n"
     ]
    },
    {
     "name": "stdout",
     "output_type": "stream",
     "text": [
      "Train -  [0.6770833333333334, 0.5694444444444444, 0.6770833333333334, tensor(1.0779)]\n",
      "Validation -  [0.6076388888888888, 0.47685185185185186, 0.6076388888888888, tensor(1.1262)]\n",
      "\n",
      "Epoch  960\n"
     ]
    },
    {
     "name": "stderr",
     "output_type": "stream",
     "text": [
      "9it [00:00, 31.22it/s]"
     ]
    },
    {
     "name": "stdout",
     "output_type": "stream",
     "text": [
      "['acc', 'kappa', 'fmeasure', 'loss']\n",
      "Training Loss  1.089955382876926\n"
     ]
    },
    {
     "name": "stderr",
     "output_type": "stream",
     "text": [
      "\n"
     ]
    },
    {
     "name": "stdout",
     "output_type": "stream",
     "text": [
      "Train -  [0.6770833333333334, 0.5694444444444444, 0.6770833333333334, tensor(1.0779)]\n",
      "Validation -  [0.6076388888888888, 0.47685185185185186, 0.6076388888888888, tensor(1.1262)]\n",
      "\n",
      "Epoch  961\n"
     ]
    },
    {
     "name": "stderr",
     "output_type": "stream",
     "text": [
      "9it [00:00, 29.86it/s]"
     ]
    },
    {
     "name": "stdout",
     "output_type": "stream",
     "text": [
      "['acc', 'kappa', 'fmeasure', 'loss']\n",
      "Training Loss  1.1003364721934001\n"
     ]
    },
    {
     "name": "stderr",
     "output_type": "stream",
     "text": [
      "\n"
     ]
    },
    {
     "name": "stdout",
     "output_type": "stream",
     "text": [
      "Train -  [0.6770833333333334, 0.5694444444444444, 0.6770833333333334, tensor(1.0778)]\n",
      "Validation -  [0.6076388888888888, 0.47685185185185186, 0.6076388888888888, tensor(1.1260)]\n",
      "\n",
      "Epoch  962\n"
     ]
    },
    {
     "name": "stderr",
     "output_type": "stream",
     "text": [
      "9it [00:00, 24.41it/s]"
     ]
    },
    {
     "name": "stdout",
     "output_type": "stream",
     "text": [
      "['acc', 'kappa', 'fmeasure', 'loss']\n",
      "Training Loss  1.106847471661038\n"
     ]
    },
    {
     "name": "stderr",
     "output_type": "stream",
     "text": [
      "\n"
     ]
    },
    {
     "name": "stdout",
     "output_type": "stream",
     "text": [
      "Train -  [0.6770833333333334, 0.5694444444444444, 0.6770833333333334, tensor(1.0779)]\n",
      "Validation -  [0.6076388888888888, 0.47685185185185186, 0.6076388888888888, tensor(1.1261)]\n",
      "\n",
      "Epoch  963\n"
     ]
    },
    {
     "name": "stderr",
     "output_type": "stream",
     "text": [
      "9it [00:00, 29.28it/s]"
     ]
    },
    {
     "name": "stdout",
     "output_type": "stream",
     "text": [
      "['acc', 'kappa', 'fmeasure', 'loss']\n",
      "Training Loss  1.1003643605444167\n"
     ]
    },
    {
     "name": "stderr",
     "output_type": "stream",
     "text": [
      "\n"
     ]
    },
    {
     "name": "stdout",
     "output_type": "stream",
     "text": [
      "Train -  [0.6770833333333334, 0.5694444444444444, 0.6770833333333334, tensor(1.0778)]\n",
      "Validation -  [0.6076388888888888, 0.47685185185185186, 0.6076388888888888, tensor(1.1261)]\n",
      "\n",
      "Epoch  964\n"
     ]
    },
    {
     "name": "stderr",
     "output_type": "stream",
     "text": [
      "9it [00:00, 29.94it/s]"
     ]
    },
    {
     "name": "stdout",
     "output_type": "stream",
     "text": [
      "['acc', 'kappa', 'fmeasure', 'loss']\n",
      "Training Loss  1.0845526324378119\n"
     ]
    },
    {
     "name": "stderr",
     "output_type": "stream",
     "text": [
      "\n"
     ]
    },
    {
     "name": "stdout",
     "output_type": "stream",
     "text": [
      "Train -  [0.6770833333333334, 0.5694444444444444, 0.6770833333333334, tensor(1.0779)]\n",
      "Validation -  [0.6076388888888888, 0.47685185185185186, 0.6076388888888888, tensor(1.1261)]\n",
      "\n",
      "Epoch  965\n"
     ]
    },
    {
     "name": "stderr",
     "output_type": "stream",
     "text": [
      "9it [00:00, 31.39it/s]"
     ]
    },
    {
     "name": "stdout",
     "output_type": "stream",
     "text": [
      "['acc', 'kappa', 'fmeasure', 'loss']\n",
      "Training Loss  1.0905640522638957\n"
     ]
    },
    {
     "name": "stderr",
     "output_type": "stream",
     "text": [
      "\n"
     ]
    },
    {
     "name": "stdout",
     "output_type": "stream",
     "text": [
      "Train -  [0.6770833333333334, 0.5694444444444444, 0.6770833333333334, tensor(1.0778)]\n",
      "Validation -  [0.6076388888888888, 0.47685185185185186, 0.6076388888888888, tensor(1.1261)]\n",
      "\n",
      "Epoch  966\n"
     ]
    },
    {
     "name": "stderr",
     "output_type": "stream",
     "text": [
      "9it [00:00, 27.46it/s]"
     ]
    },
    {
     "name": "stdout",
     "output_type": "stream",
     "text": [
      "['acc', 'kappa', 'fmeasure', 'loss']\n",
      "Training Loss  1.0843370887968276\n"
     ]
    },
    {
     "name": "stderr",
     "output_type": "stream",
     "text": [
      "\n"
     ]
    },
    {
     "name": "stdout",
     "output_type": "stream",
     "text": [
      "Train -  [0.6770833333333334, 0.5694444444444444, 0.6770833333333334, tensor(1.0778)]\n",
      "Validation -  [0.6076388888888888, 0.47685185185185186, 0.6076388888888888, tensor(1.1260)]\n",
      "\n",
      "Epoch  967\n"
     ]
    },
    {
     "name": "stderr",
     "output_type": "stream",
     "text": [
      "9it [00:00, 26.12it/s]"
     ]
    },
    {
     "name": "stdout",
     "output_type": "stream",
     "text": [
      "['acc', 'kappa', 'fmeasure', 'loss']\n",
      "Training Loss  1.0980699989530776\n"
     ]
    },
    {
     "name": "stderr",
     "output_type": "stream",
     "text": [
      "\n"
     ]
    },
    {
     "name": "stdout",
     "output_type": "stream",
     "text": [
      "Train -  [0.6770833333333334, 0.5694444444444444, 0.6770833333333334, tensor(1.0780)]\n",
      "Validation -  [0.6076388888888888, 0.47685185185185186, 0.6076388888888888, tensor(1.1262)]\n",
      "\n",
      "Epoch  968\n"
     ]
    },
    {
     "name": "stderr",
     "output_type": "stream",
     "text": [
      "9it [00:00, 28.66it/s]"
     ]
    },
    {
     "name": "stdout",
     "output_type": "stream",
     "text": [
      "['acc', 'kappa', 'fmeasure', 'loss']\n",
      "Training Loss  1.1007766591178045\n"
     ]
    },
    {
     "name": "stderr",
     "output_type": "stream",
     "text": [
      "\n"
     ]
    },
    {
     "name": "stdout",
     "output_type": "stream",
     "text": [
      "Train -  [0.6770833333333334, 0.5694444444444444, 0.6770833333333334, tensor(1.0779)]\n",
      "Validation -  [0.6076388888888888, 0.47685185185185186, 0.6076388888888888, tensor(1.1261)]\n",
      "\n",
      "Epoch  969\n"
     ]
    },
    {
     "name": "stderr",
     "output_type": "stream",
     "text": [
      "9it [00:00, 28.55it/s]"
     ]
    },
    {
     "name": "stdout",
     "output_type": "stream",
     "text": [
      "['acc', 'kappa', 'fmeasure', 'loss']\n",
      "Training Loss  1.0980906089146931\n"
     ]
    },
    {
     "name": "stderr",
     "output_type": "stream",
     "text": [
      "\n"
     ]
    },
    {
     "name": "stdout",
     "output_type": "stream",
     "text": [
      "Train -  [0.6770833333333334, 0.5694444444444444, 0.6770833333333334, tensor(1.0780)]\n",
      "Validation -  [0.6076388888888888, 0.47685185185185186, 0.6076388888888888, tensor(1.1262)]\n",
      "\n",
      "Epoch  970\n"
     ]
    },
    {
     "name": "stderr",
     "output_type": "stream",
     "text": [
      "9it [00:00, 29.46it/s]"
     ]
    },
    {
     "name": "stdout",
     "output_type": "stream",
     "text": [
      "['acc', 'kappa', 'fmeasure', 'loss']\n",
      "Training Loss  1.1075850990083482\n"
     ]
    },
    {
     "name": "stderr",
     "output_type": "stream",
     "text": [
      "\n"
     ]
    },
    {
     "name": "stdout",
     "output_type": "stream",
     "text": [
      "Train -  [0.6770833333333334, 0.5694444444444444, 0.6770833333333334, tensor(1.0779)]\n",
      "Validation -  [0.6076388888888888, 0.47685185185185186, 0.6076388888888888, tensor(1.1261)]\n",
      "\n",
      "Epoch  971\n"
     ]
    },
    {
     "name": "stderr",
     "output_type": "stream",
     "text": [
      "9it [00:00, 29.82it/s]\n"
     ]
    },
    {
     "name": "stdout",
     "output_type": "stream",
     "text": [
      "['acc', 'kappa', 'fmeasure', 'loss']\n",
      "Training Loss  1.0923977825376723\n",
      "Train -  [0.6770833333333334, 0.5694444444444444, 0.6770833333333334, tensor(1.0780)]\n",
      "Validation -  [0.6076388888888888, 0.47685185185185186, 0.6076388888888888, tensor(1.1262)]\n",
      "\n",
      "Epoch  972\n"
     ]
    },
    {
     "name": "stderr",
     "output_type": "stream",
     "text": [
      "9it [00:00, 28.26it/s]"
     ]
    },
    {
     "name": "stdout",
     "output_type": "stream",
     "text": [
      "['acc', 'kappa', 'fmeasure', 'loss']\n",
      "Training Loss  1.0986293421851263\n"
     ]
    },
    {
     "name": "stderr",
     "output_type": "stream",
     "text": [
      "\n"
     ]
    },
    {
     "name": "stdout",
     "output_type": "stream",
     "text": [
      "Train -  [0.6770833333333334, 0.5694444444444444, 0.6770833333333334, tensor(1.0780)]\n",
      "Validation -  [0.6076388888888888, 0.47685185185185186, 0.6076388888888888, tensor(1.1262)]\n",
      "\n",
      "Epoch  973\n"
     ]
    },
    {
     "name": "stderr",
     "output_type": "stream",
     "text": [
      "9it [00:00, 26.42it/s]"
     ]
    },
    {
     "name": "stdout",
     "output_type": "stream",
     "text": [
      "['acc', 'kappa', 'fmeasure', 'loss']\n",
      "Training Loss  1.1021319230397542\n"
     ]
    },
    {
     "name": "stderr",
     "output_type": "stream",
     "text": [
      "\n"
     ]
    },
    {
     "name": "stdout",
     "output_type": "stream",
     "text": [
      "Train -  [0.6770833333333334, 0.5694444444444444, 0.6770833333333334, tensor(1.0780)]\n",
      "Validation -  [0.6076388888888888, 0.47685185185185186, 0.6076388888888888, tensor(1.1263)]\n",
      "\n",
      "Epoch  974\n"
     ]
    },
    {
     "name": "stderr",
     "output_type": "stream",
     "text": [
      "9it [00:00, 29.90it/s]"
     ]
    },
    {
     "name": "stdout",
     "output_type": "stream",
     "text": [
      "['acc', 'kappa', 'fmeasure', 'loss']\n",
      "Training Loss  1.1046263376871746\n"
     ]
    },
    {
     "name": "stderr",
     "output_type": "stream",
     "text": [
      "\n"
     ]
    },
    {
     "name": "stdout",
     "output_type": "stream",
     "text": [
      "Train -  [0.6770833333333334, 0.5694444444444444, 0.6770833333333334, tensor(1.0780)]\n",
      "Validation -  [0.6076388888888888, 0.47685185185185186, 0.6076388888888888, tensor(1.1262)]\n",
      "\n",
      "Epoch  975\n"
     ]
    },
    {
     "name": "stderr",
     "output_type": "stream",
     "text": [
      "9it [00:00, 29.76it/s]"
     ]
    },
    {
     "name": "stdout",
     "output_type": "stream",
     "text": [
      "['acc', 'kappa', 'fmeasure', 'loss']\n",
      "Training Loss  1.0916588968700833\n"
     ]
    },
    {
     "name": "stderr",
     "output_type": "stream",
     "text": [
      "\n"
     ]
    },
    {
     "name": "stdout",
     "output_type": "stream",
     "text": [
      "Train -  [0.6770833333333334, 0.5694444444444444, 0.6770833333333334, tensor(1.0780)]\n",
      "Validation -  [0.6076388888888888, 0.47685185185185186, 0.6076388888888888, tensor(1.1262)]\n",
      "\n",
      "Epoch  976\n"
     ]
    },
    {
     "name": "stderr",
     "output_type": "stream",
     "text": [
      "9it [00:00, 33.10it/s]"
     ]
    },
    {
     "name": "stdout",
     "output_type": "stream",
     "text": [
      "['acc', 'kappa', 'fmeasure', 'loss']\n",
      "Training Loss  1.0928662882910833\n"
     ]
    },
    {
     "name": "stderr",
     "output_type": "stream",
     "text": [
      "\n"
     ]
    },
    {
     "name": "stdout",
     "output_type": "stream",
     "text": [
      "Train -  [0.6770833333333334, 0.5694444444444444, 0.6770833333333334, tensor(1.0781)]\n",
      "Validation -  [0.6076388888888888, 0.47685185185185186, 0.6076388888888888, tensor(1.1263)]\n",
      "\n",
      "Epoch  977\n"
     ]
    },
    {
     "name": "stderr",
     "output_type": "stream",
     "text": [
      "9it [00:00, 26.07it/s]"
     ]
    },
    {
     "name": "stdout",
     "output_type": "stream",
     "text": [
      "['acc', 'kappa', 'fmeasure', 'loss']\n",
      "Training Loss  1.104394449128045\n"
     ]
    },
    {
     "name": "stderr",
     "output_type": "stream",
     "text": [
      "\n"
     ]
    },
    {
     "name": "stdout",
     "output_type": "stream",
     "text": [
      "Train -  [0.6770833333333334, 0.5694444444444444, 0.6770833333333334, tensor(1.0782)]\n",
      "Validation -  [0.6076388888888888, 0.47685185185185186, 0.6076388888888888, tensor(1.1264)]\n",
      "\n",
      "Epoch  978\n"
     ]
    },
    {
     "name": "stderr",
     "output_type": "stream",
     "text": [
      "9it [00:00, 32.96it/s]"
     ]
    },
    {
     "name": "stdout",
     "output_type": "stream",
     "text": [
      "['acc', 'kappa', 'fmeasure', 'loss']\n",
      "Training Loss  1.0877169768015544\n"
     ]
    },
    {
     "name": "stderr",
     "output_type": "stream",
     "text": [
      "\n"
     ]
    },
    {
     "name": "stdout",
     "output_type": "stream",
     "text": [
      "Train -  [0.6770833333333334, 0.5694444444444444, 0.6770833333333334, tensor(1.0780)]\n",
      "Validation -  [0.6076388888888888, 0.47685185185185186, 0.6076388888888888, tensor(1.1262)]\n",
      "\n",
      "Epoch  979\n"
     ]
    },
    {
     "name": "stderr",
     "output_type": "stream",
     "text": [
      "9it [00:00, 30.05it/s]"
     ]
    },
    {
     "name": "stdout",
     "output_type": "stream",
     "text": [
      "['acc', 'kappa', 'fmeasure', 'loss']\n",
      "Training Loss  1.0909480916129217\n"
     ]
    },
    {
     "name": "stderr",
     "output_type": "stream",
     "text": [
      "\n"
     ]
    },
    {
     "name": "stdout",
     "output_type": "stream",
     "text": [
      "Train -  [0.6770833333333334, 0.5694444444444444, 0.6770833333333334, tensor(1.0779)]\n",
      "Validation -  [0.6076388888888888, 0.47685185185185186, 0.6076388888888888, tensor(1.1262)]\n",
      "\n",
      "Epoch  980\n"
     ]
    },
    {
     "name": "stderr",
     "output_type": "stream",
     "text": [
      "9it [00:00, 27.69it/s]"
     ]
    },
    {
     "name": "stdout",
     "output_type": "stream",
     "text": [
      "['acc', 'kappa', 'fmeasure', 'loss']\n",
      "Training Loss  1.0856999556223552\n"
     ]
    },
    {
     "name": "stderr",
     "output_type": "stream",
     "text": [
      "\n"
     ]
    },
    {
     "name": "stdout",
     "output_type": "stream",
     "text": [
      "Train -  [0.6770833333333334, 0.5694444444444444, 0.6770833333333334, tensor(1.0779)]\n",
      "Validation -  [0.6076388888888888, 0.47685185185185186, 0.6076388888888888, tensor(1.1261)]\n",
      "\n",
      "Epoch  981\n"
     ]
    },
    {
     "name": "stderr",
     "output_type": "stream",
     "text": [
      "9it [00:00, 30.74it/s]"
     ]
    },
    {
     "name": "stdout",
     "output_type": "stream",
     "text": [
      "['acc', 'kappa', 'fmeasure', 'loss']\n",
      "Training Loss  1.0928824477725558\n"
     ]
    },
    {
     "name": "stderr",
     "output_type": "stream",
     "text": [
      "\n"
     ]
    },
    {
     "name": "stdout",
     "output_type": "stream",
     "text": [
      "Train -  [0.6770833333333334, 0.5694444444444444, 0.6770833333333334, tensor(1.0779)]\n",
      "Validation -  [0.6076388888888888, 0.47685185185185186, 0.6076388888888888, tensor(1.1262)]\n",
      "\n",
      "Epoch  982\n"
     ]
    },
    {
     "name": "stderr",
     "output_type": "stream",
     "text": [
      "9it [00:00, 27.01it/s]"
     ]
    },
    {
     "name": "stdout",
     "output_type": "stream",
     "text": [
      "['acc', 'kappa', 'fmeasure', 'loss']\n",
      "Training Loss  1.0907215807172987\n"
     ]
    },
    {
     "name": "stderr",
     "output_type": "stream",
     "text": [
      "\n"
     ]
    },
    {
     "name": "stdout",
     "output_type": "stream",
     "text": [
      "Train -  [0.6770833333333334, 0.5694444444444444, 0.6770833333333334, tensor(1.0780)]\n",
      "Validation -  [0.6076388888888888, 0.47685185185185186, 0.6076388888888888, tensor(1.1262)]\n",
      "\n",
      "Epoch  983\n"
     ]
    },
    {
     "name": "stderr",
     "output_type": "stream",
     "text": [
      "9it [00:00, 26.99it/s]"
     ]
    },
    {
     "name": "stdout",
     "output_type": "stream",
     "text": [
      "['acc', 'kappa', 'fmeasure', 'loss']\n",
      "Training Loss  1.1063401301701863\n"
     ]
    },
    {
     "name": "stderr",
     "output_type": "stream",
     "text": [
      "\n"
     ]
    },
    {
     "name": "stdout",
     "output_type": "stream",
     "text": [
      "Train -  [0.6770833333333334, 0.5694444444444444, 0.6770833333333334, tensor(1.0780)]\n",
      "Validation -  [0.6076388888888888, 0.47685185185185186, 0.6076388888888888, tensor(1.1262)]\n",
      "\n",
      "Epoch  984\n"
     ]
    },
    {
     "name": "stderr",
     "output_type": "stream",
     "text": [
      "9it [00:00, 26.72it/s]"
     ]
    },
    {
     "name": "stdout",
     "output_type": "stream",
     "text": [
      "['acc', 'kappa', 'fmeasure', 'loss']\n",
      "Training Loss  1.0930481486850314\n"
     ]
    },
    {
     "name": "stderr",
     "output_type": "stream",
     "text": [
      "\n"
     ]
    },
    {
     "name": "stdout",
     "output_type": "stream",
     "text": [
      "Train -  [0.6770833333333334, 0.5694444444444444, 0.6770833333333334, tensor(1.0779)]\n",
      "Validation -  [0.6076388888888888, 0.47685185185185186, 0.6076388888888888, tensor(1.1261)]\n",
      "\n",
      "Epoch  985\n"
     ]
    },
    {
     "name": "stderr",
     "output_type": "stream",
     "text": [
      "9it [00:00, 28.64it/s]\n"
     ]
    },
    {
     "name": "stdout",
     "output_type": "stream",
     "text": [
      "['acc', 'kappa', 'fmeasure', 'loss']\n",
      "Training Loss  1.0860212114122179\n",
      "Train -  [0.6770833333333334, 0.5694444444444444, 0.6770833333333334, tensor(1.0779)]\n",
      "Validation -  [0.6076388888888888, 0.47685185185185186, 0.6076388888888888, tensor(1.1262)]\n",
      "\n",
      "Epoch  986\n"
     ]
    },
    {
     "name": "stderr",
     "output_type": "stream",
     "text": [
      "9it [00:00, 31.09it/s]"
     ]
    },
    {
     "name": "stdout",
     "output_type": "stream",
     "text": [
      "['acc', 'kappa', 'fmeasure', 'loss']\n",
      "Training Loss  1.1094658772150676\n"
     ]
    },
    {
     "name": "stderr",
     "output_type": "stream",
     "text": [
      "\n"
     ]
    },
    {
     "name": "stdout",
     "output_type": "stream",
     "text": [
      "Train -  [0.6770833333333334, 0.5694444444444444, 0.6770833333333334, tensor(1.0780)]\n",
      "Validation -  [0.6076388888888888, 0.47685185185185186, 0.6076388888888888, tensor(1.1262)]\n",
      "\n",
      "Epoch  987\n"
     ]
    },
    {
     "name": "stderr",
     "output_type": "stream",
     "text": [
      "9it [00:00, 28.23it/s]"
     ]
    },
    {
     "name": "stdout",
     "output_type": "stream",
     "text": [
      "['acc', 'kappa', 'fmeasure', 'loss']\n",
      "Training Loss  1.0994813177320693\n"
     ]
    },
    {
     "name": "stderr",
     "output_type": "stream",
     "text": [
      "\n"
     ]
    },
    {
     "name": "stdout",
     "output_type": "stream",
     "text": [
      "Train -  [0.6770833333333334, 0.5694444444444444, 0.6770833333333334, tensor(1.0779)]\n",
      "Validation -  [0.6076388888888888, 0.47685185185185186, 0.6076388888888888, tensor(1.1261)]\n",
      "\n",
      "Epoch  988\n"
     ]
    },
    {
     "name": "stderr",
     "output_type": "stream",
     "text": [
      "9it [00:00, 30.25it/s]"
     ]
    },
    {
     "name": "stdout",
     "output_type": "stream",
     "text": [
      "['acc', 'kappa', 'fmeasure', 'loss']\n",
      "Training Loss  1.1079433891508315\n"
     ]
    },
    {
     "name": "stderr",
     "output_type": "stream",
     "text": [
      "\n"
     ]
    },
    {
     "name": "stdout",
     "output_type": "stream",
     "text": [
      "Train -  [0.6770833333333334, 0.5694444444444444, 0.6770833333333334, tensor(1.0779)]\n",
      "Validation -  [0.6076388888888888, 0.47685185185185186, 0.6076388888888888, tensor(1.1261)]\n",
      "\n",
      "Epoch  989\n"
     ]
    },
    {
     "name": "stderr",
     "output_type": "stream",
     "text": [
      "9it [00:00, 30.19it/s]"
     ]
    },
    {
     "name": "stdout",
     "output_type": "stream",
     "text": [
      "['acc', 'kappa', 'fmeasure', 'loss']\n",
      "Training Loss  1.1053104533089533\n"
     ]
    },
    {
     "name": "stderr",
     "output_type": "stream",
     "text": [
      "\n"
     ]
    },
    {
     "name": "stdout",
     "output_type": "stream",
     "text": [
      "Train -  [0.6770833333333334, 0.5694444444444444, 0.6770833333333334, tensor(1.0779)]\n",
      "Validation -  [0.6076388888888888, 0.47685185185185186, 0.6076388888888888, tensor(1.1261)]\n",
      "\n",
      "Epoch  990\n"
     ]
    },
    {
     "name": "stderr",
     "output_type": "stream",
     "text": [
      "9it [00:00, 26.11it/s]"
     ]
    },
    {
     "name": "stdout",
     "output_type": "stream",
     "text": [
      "['acc', 'kappa', 'fmeasure', 'loss']\n",
      "Training Loss  1.0972547663582697\n"
     ]
    },
    {
     "name": "stderr",
     "output_type": "stream",
     "text": [
      "\n"
     ]
    },
    {
     "name": "stdout",
     "output_type": "stream",
     "text": [
      "Train -  [0.6770833333333334, 0.5694444444444444, 0.6770833333333334, tensor(1.0779)]\n",
      "Validation -  [0.6076388888888888, 0.47685185185185186, 0.6076388888888888, tensor(1.1261)]\n",
      "\n",
      "Epoch  991\n"
     ]
    },
    {
     "name": "stderr",
     "output_type": "stream",
     "text": [
      "9it [00:00, 27.30it/s]"
     ]
    },
    {
     "name": "stdout",
     "output_type": "stream",
     "text": [
      "['acc', 'kappa', 'fmeasure', 'loss']\n",
      "Training Loss  1.0926975011825562\n"
     ]
    },
    {
     "name": "stderr",
     "output_type": "stream",
     "text": [
      "\n"
     ]
    },
    {
     "name": "stdout",
     "output_type": "stream",
     "text": [
      "Train -  [0.6770833333333334, 0.5694444444444444, 0.6770833333333334, tensor(1.0779)]\n",
      "Validation -  [0.6076388888888888, 0.47685185185185186, 0.6076388888888888, tensor(1.1261)]\n",
      "\n",
      "Epoch  992\n"
     ]
    },
    {
     "name": "stderr",
     "output_type": "stream",
     "text": [
      "9it [00:00, 26.09it/s]"
     ]
    },
    {
     "name": "stdout",
     "output_type": "stream",
     "text": [
      "['acc', 'kappa', 'fmeasure', 'loss']\n",
      "Training Loss  1.0973361333211262\n"
     ]
    },
    {
     "name": "stderr",
     "output_type": "stream",
     "text": [
      "\n"
     ]
    },
    {
     "name": "stdout",
     "output_type": "stream",
     "text": [
      "Train -  [0.6770833333333334, 0.5694444444444444, 0.6770833333333334, tensor(1.0780)]\n",
      "Validation -  [0.6076388888888888, 0.47685185185185186, 0.6076388888888888, tensor(1.1262)]\n",
      "\n",
      "Epoch  993\n"
     ]
    },
    {
     "name": "stderr",
     "output_type": "stream",
     "text": [
      "9it [00:00, 27.15it/s]"
     ]
    },
    {
     "name": "stdout",
     "output_type": "stream",
     "text": [
      "['acc', 'kappa', 'fmeasure', 'loss']\n",
      "Training Loss  1.098420328564114\n"
     ]
    },
    {
     "name": "stderr",
     "output_type": "stream",
     "text": [
      "\n"
     ]
    },
    {
     "name": "stdout",
     "output_type": "stream",
     "text": [
      "Train -  [0.6770833333333334, 0.5694444444444444, 0.6770833333333334, tensor(1.0781)]\n",
      "Validation -  [0.6076388888888888, 0.47685185185185186, 0.6076388888888888, tensor(1.1263)]\n",
      "\n",
      "Epoch  994\n"
     ]
    },
    {
     "name": "stderr",
     "output_type": "stream",
     "text": [
      "9it [00:00, 31.16it/s]"
     ]
    },
    {
     "name": "stdout",
     "output_type": "stream",
     "text": [
      "['acc', 'kappa', 'fmeasure', 'loss']\n",
      "Training Loss  1.0982494089338515\n"
     ]
    },
    {
     "name": "stderr",
     "output_type": "stream",
     "text": [
      "\n"
     ]
    },
    {
     "name": "stdout",
     "output_type": "stream",
     "text": [
      "Train -  [0.6770833333333334, 0.5694444444444444, 0.6770833333333334, tensor(1.0780)]\n",
      "Validation -  [0.6076388888888888, 0.47685185185185186, 0.6076388888888888, tensor(1.1263)]\n",
      "\n",
      "Epoch  995\n"
     ]
    },
    {
     "name": "stderr",
     "output_type": "stream",
     "text": [
      "9it [00:00, 30.61it/s]"
     ]
    },
    {
     "name": "stdout",
     "output_type": "stream",
     "text": [
      "['acc', 'kappa', 'fmeasure', 'loss']\n",
      "Training Loss  1.1104681491851807\n"
     ]
    },
    {
     "name": "stderr",
     "output_type": "stream",
     "text": [
      "\n"
     ]
    },
    {
     "name": "stdout",
     "output_type": "stream",
     "text": [
      "Train -  [0.6770833333333334, 0.5694444444444444, 0.6770833333333334, tensor(1.0778)]\n",
      "Validation -  [0.6076388888888888, 0.47685185185185186, 0.6076388888888888, tensor(1.1260)]\n",
      "\n",
      "Epoch  996\n"
     ]
    },
    {
     "name": "stderr",
     "output_type": "stream",
     "text": [
      "9it [00:00, 33.92it/s]"
     ]
    },
    {
     "name": "stdout",
     "output_type": "stream",
     "text": [
      "['acc', 'kappa', 'fmeasure', 'loss']\n",
      "Training Loss  1.0812353822920058\n"
     ]
    },
    {
     "name": "stderr",
     "output_type": "stream",
     "text": [
      "\n"
     ]
    },
    {
     "name": "stdout",
     "output_type": "stream",
     "text": [
      "Train -  [0.6770833333333334, 0.5694444444444444, 0.6770833333333334, tensor(1.0780)]\n",
      "Validation -  [0.6076388888888888, 0.47685185185185186, 0.6076388888888888, tensor(1.1262)]\n",
      "\n",
      "Epoch  997\n"
     ]
    },
    {
     "name": "stderr",
     "output_type": "stream",
     "text": [
      "9it [00:00, 29.49it/s]"
     ]
    },
    {
     "name": "stdout",
     "output_type": "stream",
     "text": [
      "['acc', 'kappa', 'fmeasure', 'loss']\n",
      "Training Loss  1.1025597254435222\n"
     ]
    },
    {
     "name": "stderr",
     "output_type": "stream",
     "text": [
      "\n"
     ]
    },
    {
     "name": "stdout",
     "output_type": "stream",
     "text": [
      "Train -  [0.6770833333333334, 0.5694444444444444, 0.6770833333333334, tensor(1.0780)]\n",
      "Validation -  [0.6076388888888888, 0.47685185185185186, 0.6076388888888888, tensor(1.1262)]\n",
      "\n",
      "Epoch  998\n"
     ]
    },
    {
     "name": "stderr",
     "output_type": "stream",
     "text": [
      "9it [00:00, 30.55it/s]"
     ]
    },
    {
     "name": "stdout",
     "output_type": "stream",
     "text": [
      "['acc', 'kappa', 'fmeasure', 'loss']\n",
      "Training Loss  1.0859681765238445\n"
     ]
    },
    {
     "name": "stderr",
     "output_type": "stream",
     "text": [
      "\n"
     ]
    },
    {
     "name": "stdout",
     "output_type": "stream",
     "text": [
      "Train -  [0.6770833333333334, 0.5694444444444444, 0.6770833333333334, tensor(1.0780)]\n",
      "Validation -  [0.6076388888888888, 0.47685185185185186, 0.6076388888888888, tensor(1.1262)]\n",
      "\n",
      "Epoch  999\n"
     ]
    },
    {
     "name": "stderr",
     "output_type": "stream",
     "text": [
      "9it [00:00, 29.29it/s]"
     ]
    },
    {
     "name": "stdout",
     "output_type": "stream",
     "text": [
      "['acc', 'kappa', 'fmeasure', 'loss']\n",
      "Training Loss  1.087614549530877\n"
     ]
    },
    {
     "name": "stderr",
     "output_type": "stream",
     "text": [
      "\n"
     ]
    },
    {
     "name": "stdout",
     "output_type": "stream",
     "text": [
      "Train -  [0.6770833333333334, 0.5694444444444444, 0.6770833333333334, tensor(1.0779)]\n",
      "Validation -  [0.6076388888888888, 0.47685185185185186, 0.6076388888888888, tensor(1.1261)]\n"
     ]
    }
   ],
   "source": [
    "history = {\n",
    "    \"train_loss\": [],\n",
    "    \"test_loss\": [],\n",
    "    \"train_acc\": [],\n",
    "    \"test_acc\": [],\n",
    "    \"train_kappa\": [],\n",
    "    \"test_kappa\": [],\n",
    "    \"train_fmeasure\": [],\n",
    "    \"test_fmeasure\": [],\n",
    "    \"lr\": [],\n",
    "}\n",
    "batch_size = 32\n",
    "alpha = 0.5\n",
    "\n",
    "for epoch in range(1000):  # loop over the dataset multiple times\n",
    "    print(\"\\nEpoch \", epoch)\n",
    "\n",
    "    net.train()\n",
    "    running_loss = 0.0\n",
    "    for i, batch in tqdm(enumerate(train_dataloader)):\n",
    "        # print(i)\n",
    "        inputs, labels = batch\n",
    "        # inputs = torch.permute(\n",
    "        #     torch.vstack(list(map(lambda a: a.unsqueeze(0), inputs.values()))),\n",
    "        #     (1, 2, 3, 0),\n",
    "        # )\n",
    "\n",
    "        # wrap them in Variable\n",
    "        # inputs, labels = inputs.cuda(0), labels.type(torch.LongTensor).cuda(0)\n",
    "\n",
    "        # zero the parameter gradients\n",
    "        optimizer.zero_grad()\n",
    "\n",
    "        # forward + backward + optimize\n",
    "        outputs, csp_out = net(inputs.float().cuda(0))\n",
    "        cls_loss = cls_criterion(\n",
    "            outputs, labels[\"label\"].type(torch.LongTensor).cuda(0)\n",
    "        )\n",
    "        # reg_loss = reg_criterion(csp, labels[\"csp\"].cuda(0))\n",
    "        # loss = cls_loss + (alpha * reg_loss)\n",
    "        loss = cls_loss\n",
    "        loss.backward()\n",
    "\n",
    "        optimizer.step()\n",
    "\n",
    "        running_loss += loss.item()\n",
    "\n",
    "    history[\"lr\"].append(optimizer.param_groups[0][\"lr\"])\n",
    "    # print(optimizer.param_groups[0][\"lr\"])\n",
    "    lr_scheduler.step()\n",
    "\n",
    "    # Validation accuracy\n",
    "    # params = [\"acc\", \"kappa\", \"auc\", \"fmeasure\", \"loss\"]\n",
    "    params = [\"acc\", \"kappa\", \"fmeasure\", \"loss\"]\n",
    "    print(params)\n",
    "    print(\"Training Loss \", running_loss / len(train_dataloader))\n",
    "    tr = evaluate(net, train_dataloader, params)\n",
    "    print(\"Train - \", tr)\n",
    "    ev = evaluate(net, val_dataloader, params)\n",
    "    print(\"Validation - \", ev)\n",
    "    history[\"train_loss\"].append(tr[-1])\n",
    "    history[\"train_acc\"].append(tr[0])\n",
    "    history[\"train_kappa\"].append(tr[1])\n",
    "    history[\"train_fmeasure\"].append(tr[2])\n",
    "\n",
    "    history[\"test_loss\"].append(ev[-1])\n",
    "    history[\"test_acc\"].append(ev[0])\n",
    "    history[\"test_kappa\"].append(ev[1])\n",
    "    history[\"test_fmeasure\"].append(ev[2])"
   ]
  },
  {
   "cell_type": "code",
   "execution_count": 2,
   "id": "9f8190fb-6f62-4f3f-8377-acedc4cc27b4",
   "metadata": {},
   "outputs": [
    {
     "ename": "NameError",
     "evalue": "name 'history' is not defined",
     "output_type": "error",
     "traceback": [
      "\u001b[0;31m---------------------------------------------------------------------------\u001b[0m",
      "\u001b[0;31mNameError\u001b[0m                                 Traceback (most recent call last)",
      "Input \u001b[0;32mIn [2]\u001b[0m, in \u001b[0;36m<cell line: 1>\u001b[0;34m()\u001b[0m\n\u001b[0;32m----> 1\u001b[0m {k: history[k][\u001b[38;5;241m-\u001b[39m\u001b[38;5;241m1\u001b[39m] \u001b[38;5;28;01mfor\u001b[39;00m k \u001b[38;5;129;01min\u001b[39;00m \u001b[43mhistory\u001b[49m\u001b[38;5;241m.\u001b[39mkeys()}\n",
      "\u001b[0;31mNameError\u001b[0m: name 'history' is not defined"
     ]
    }
   ],
   "source": [
    "{k: history[k][-1] for k in history.keys()}"
   ]
  },
  {
   "cell_type": "code",
   "execution_count": 27,
   "id": "60afab5c-d96b-4f28-9bbe-43a24069b130",
   "metadata": {},
   "outputs": [
    {
     "data": {
      "text/plain": [
       "{'train_loss': tensor(1.0800),\n",
       " 'test_loss': tensor(1.1278),\n",
       " 'train_acc': 0.6770833333333334,\n",
       " 'test_acc': 0.6180555555555556,\n",
       " 'train_kappa': 0.5694444444444444,\n",
       " 'test_kappa': 0.4907407407407407,\n",
       " 'train_fmeasure': 0.6770833333333334,\n",
       " 'test_fmeasure': 0.6180555555555556,\n",
       " 'lr': 1e-05}"
      ]
     },
     "execution_count": 27,
     "metadata": {},
     "output_type": "execute_result"
    }
   ],
   "source": [
    "idx = np.argmax(history[\"test_acc\"])\n",
    "{k: history[k][idx] for k in history.keys()}"
   ]
  },
  {
   "cell_type": "code",
   "execution_count": 28,
   "id": "504a9078-81aa-4aba-a8bf-627b4dc4b37c",
   "metadata": {},
   "outputs": [],
   "source": [
    "import matplotlib.pyplot as plt"
   ]
  },
  {
   "cell_type": "code",
   "execution_count": 29,
   "id": "53e086b3-85de-49fc-a064-8f9e275b52d5",
   "metadata": {},
   "outputs": [
    {
     "data": {
      "text/plain": [
       "[<matplotlib.lines.Line2D at 0x7fe7f6cfeca0>]"
      ]
     },
     "execution_count": 29,
     "metadata": {},
     "output_type": "execute_result"
    },
    {
     "data": {
      "image/png": "[encoded data removed]",
      "text/plain": [
       "<Figure size 640x480 with 1 Axes>"
      ]
     },
     "metadata": {},
     "output_type": "display_data"
    }
   ],
   "source": [
    "plt.plot([i for i in range(len(history[\"lr\"]))], history[\"lr\"])"
   ]
  },
  {
   "cell_type": "code",
   "execution_count": 30,
   "id": "64c99087-08b0-4edb-b68f-2bd2da7106b1",
   "metadata": {},
   "outputs": [
    {
     "data": {
      "image/png": "[encoded data removed]",
      "text/plain": [
       "<Figure size 1200x600 with 6 Axes>"
      ]
     },
     "metadata": {},
     "output_type": "display_data"
    }
   ],
   "source": [
    "fig, axs = plt.subplots(2, 3, figsize=(12, 6))\n",
    "\n",
    "for i, title in enumerate(\n",
    "    [\n",
    "        \"train_loss\",\n",
    "        \"train_acc\",\n",
    "        \"train_kappa\",\n",
    "        \"test_loss\",\n",
    "        \"test_acc\",\n",
    "        \"test_kappa\",\n",
    "    ]\n",
    "):\n",
    "    axs[i // 3, i % 3].plot([i for i in range(len(history[title]))], history[title])\n",
    "    axs[i // 3, i % 3].set_title(title)\n",
    "\n",
    "for ax in axs.flat:\n",
    "    ax.set(xlabel=\"epochs\", ylabel=\"\")\n",
    "\n",
    "# Hide x labels and tick labels for top plots and y ticks for right plots.\n",
    "for ax in axs.flat:\n",
    "    ax.label_outer()"
   ]
  },
  {
   "cell_type": "code",
   "execution_count": 36,
   "id": "c1535a09-d7fd-42f1-b98c-61e05cab8770",
   "metadata": {},
   "outputs": [
    {
     "name": "stdout",
     "output_type": "stream",
     "text": [
      "0.35\n"
     ]
    }
   ],
   "source": [
    "a = 0.3549382716049383\n",
    "print(f\"{a:.2}\")"
   ]
  },
  {
   "cell_type": "code",
   "execution_count": null,
   "id": "0f3907a8-e81b-4ae0-b7b6-62a7b4971f14",
   "metadata": {},
   "outputs": [],
   "source": []
  }
 ],
 "metadata": {
  "kernelspec": {
   "display_name": "Python 3 (ipykernel)",
   "language": "python",
   "name": "python3"
  },
  "language_info": {
   "codemirror_mode": {
    "name": "ipython",
    "version": 3
   },
   "file_extension": ".py",
   "mimetype": "text/x-python",
   "name": "python",
   "nbconvert_exporter": "python",
   "pygments_lexer": "ipython3",
   "version": "3.8.10"
  }
 },
 "nbformat": 4,
 "nbformat_minor": 5
}
