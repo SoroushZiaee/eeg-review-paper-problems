{
 "cells": [
  {
   "cell_type": "code",
   "execution_count": 1,
   "id": "4bf2c92b-4245-4af8-99c4-6aef21d24ddb",
   "metadata": {},
   "outputs": [
    {
     "name": "stdout",
     "output_type": "stream",
     "text": [
      "Requirement already satisfied: nb-black in /usr/local/lib/python3.8/dist-packages (1.0.7)\n",
      "Requirement already satisfied: black>='19.3' in /usr/local/lib/python3.8/dist-packages (from nb-black) (23.1.0)\n",
      "Requirement already satisfied: ipython in /usr/local/lib/python3.8/dist-packages (from nb-black) (8.4.0)\n",
      "Requirement already satisfied: mypy-extensions>=0.4.3 in /usr/local/lib/python3.8/dist-packages (from black>='19.3'->nb-black) (1.0.0)\n",
      "Requirement already satisfied: click>=8.0.0 in /usr/local/lib/python3.8/dist-packages (from black>='19.3'->nb-black) (8.1.3)\n",
      "Requirement already satisfied: tomli>=1.1.0 in /usr/local/lib/python3.8/dist-packages (from black>='19.3'->nb-black) (2.0.1)\n",
      "Requirement already satisfied: platformdirs>=2 in /usr/local/lib/python3.8/dist-packages (from black>='19.3'->nb-black) (3.0.0)\n",
      "Requirement already satisfied: pathspec>=0.9.0 in /usr/local/lib/python3.8/dist-packages (from black>='19.3'->nb-black) (0.9.0)\n",
      "Requirement already satisfied: typing-extensions>=3.10.0.0 in /usr/local/lib/python3.8/dist-packages (from black>='19.3'->nb-black) (4.3.0)\n",
      "Requirement already satisfied: packaging>=22.0 in /usr/local/lib/python3.8/dist-packages (from black>='19.3'->nb-black) (23.0)\n",
      "Requirement already satisfied: stack-data in /usr/local/lib/python3.8/dist-packages (from ipython->nb-black) (0.5.0)\n",
      "Requirement already satisfied: matplotlib-inline in /usr/local/lib/python3.8/dist-packages (from ipython->nb-black) (0.1.6)\n",
      "Requirement already satisfied: jedi>=0.16 in /usr/local/lib/python3.8/dist-packages (from ipython->nb-black) (0.18.1)\n",
      "Requirement already satisfied: decorator in /usr/local/lib/python3.8/dist-packages (from ipython->nb-black) (5.1.1)\n",
      "Requirement already satisfied: pygments>=2.4.0 in /usr/local/lib/python3.8/dist-packages (from ipython->nb-black) (2.13.0)\n",
      "Requirement already satisfied: pickleshare in /usr/local/lib/python3.8/dist-packages (from ipython->nb-black) (0.7.5)\n",
      "Requirement already satisfied: traitlets>=5 in /usr/local/lib/python3.8/dist-packages (from ipython->nb-black) (5.3.0)\n",
      "Requirement already satisfied: prompt-toolkit!=3.0.0,!=3.0.1,<3.1.0,>=2.0.0 in /usr/local/lib/python3.8/dist-packages (from ipython->nb-black) (3.0.31)\n",
      "Requirement already satisfied: setuptools>=18.5 in /usr/lib/python3/dist-packages (from ipython->nb-black) (45.2.0)\n",
      "Requirement already satisfied: backcall in /usr/local/lib/python3.8/dist-packages (from ipython->nb-black) (0.2.0)\n",
      "Requirement already satisfied: pexpect>4.3 in /usr/local/lib/python3.8/dist-packages (from ipython->nb-black) (4.8.0)\n",
      "Requirement already satisfied: parso<0.9.0,>=0.8.0 in /usr/local/lib/python3.8/dist-packages (from jedi>=0.16->ipython->nb-black) (0.8.3)\n",
      "Requirement already satisfied: ptyprocess>=0.5 in /usr/local/lib/python3.8/dist-packages (from pexpect>4.3->ipython->nb-black) (0.7.0)\n",
      "Requirement already satisfied: wcwidth in /usr/local/lib/python3.8/dist-packages (from prompt-toolkit!=3.0.0,!=3.0.1,<3.1.0,>=2.0.0->ipython->nb-black) (0.2.5)\n",
      "Requirement already satisfied: pure-eval in /usr/local/lib/python3.8/dist-packages (from stack-data->ipython->nb-black) (0.2.2)\n",
      "Requirement already satisfied: asttokens in /usr/local/lib/python3.8/dist-packages (from stack-data->ipython->nb-black) (2.0.8)\n",
      "Requirement already satisfied: executing in /usr/local/lib/python3.8/dist-packages (from stack-data->ipython->nb-black) (1.0.0)\n",
      "Requirement already satisfied: six in /usr/lib/python3/dist-packages (from asttokens->stack-data->ipython->nb-black) (1.14.0)\n",
      "\u001b[33mWARNING: Running pip as the 'root' user can result in broken permissions and conflicting behaviour with the system package manager. It is recommended to use a virtual environment instead: https://pip.pypa.io/warnings/venv\u001b[0m\u001b[33m\n",
      "\u001b[0m"
     ]
    }
   ],
   "source": [
    "!pip install nb-black"
   ]
  },
  {
   "cell_type": "code",
   "execution_count": 2,
   "id": "3be9923b-6606-4653-b1e7-f1541bf289ee",
   "metadata": {},
   "outputs": [],
   "source": [
    "%config Completer.use_jedi = False\n",
    "%load_ext autoreload\n",
    "# %reload_ext autoreload\n",
    "%autoreload 2\n",
    "%load_ext lab_black"
   ]
  },
  {
   "cell_type": "code",
   "execution_count": 3,
   "id": "c30519aa-cc5c-4a2a-9e92-47d774a41d45",
   "metadata": {},
   "outputs": [],
   "source": [
    "import sys\n",
    "\n",
    "sys.path.insert(0, \"../\")"
   ]
  },
  {
   "cell_type": "markdown",
   "id": "2f60011c-a3e7-42c1-b150-559c77e529d4",
   "metadata": {},
   "source": [
    "## Dataset"
   ]
  },
  {
   "cell_type": "code",
   "execution_count": 6,
   "id": "6cccc8b8-caeb-43db-858f-998a2fefc7e9",
   "metadata": {},
   "outputs": [],
   "source": [
    "import os\n",
    "from typing import Dict, List, Tuple, Any, Union, Callable\n",
    "from torch import Tensor\n",
    "import torch\n",
    "import numpy as np\n",
    "import scipy\n",
    "from torch.utils.data import DataLoader\n",
    "from pytorch_lightning.utilities.apply_func import apply_to_collection\n",
    "from cspnn.data.bci.bci_dataset import BCI2aDataset\n",
    "from cspnn.data.utils import eeg_electrode_configs\n",
    "\n",
    "from tqdm.notebook import tqdm"
   ]
  },
  {
   "cell_type": "code",
   "execution_count": 5,
   "id": "9a716bcf-61fe-41cc-b946-ea462962a0ed",
   "metadata": {
    "tags": []
   },
   "outputs": [],
   "source": [
    "class ToTensor:\n",
    "    def __init__(self, device):\n",
    "        if isinstance(device, str):\n",
    "            device = torch.device(device)\n",
    "        self.device = device\n",
    "\n",
    "    def __call__(self, data, label):\n",
    "        data = apply_to_collection(\n",
    "            data,\n",
    "            dtype=(np.ndarray, int, float, np.int64),\n",
    "            function=lambda a: torch.from_numpy(a),\n",
    "        )\n",
    "        label = apply_to_collection(\n",
    "            label,\n",
    "            dtype=(np.ndarray, int, float, np.int64),\n",
    "            function=lambda a: torch.tensor(a, dtype=torch.float64),\n",
    "        )\n",
    "\n",
    "        return data, label\n",
    "\n",
    "\n",
    "class ToNumpy:\n",
    "    def __call__(self, data, label):\n",
    "        data = apply_to_collection(\n",
    "            data,\n",
    "            dtype=(np.ndarray, int, float, np.int64),\n",
    "            function=lambda a: a.cpu().detach().numpy(),\n",
    "        )\n",
    "        label = apply_to_collection(\n",
    "            label,\n",
    "            dtype=(np.ndarray, int, float, np.int64),\n",
    "            function=lambda a: a.cpu().detach().numpy(),\n",
    "        )\n",
    "\n",
    "        return data, label\n",
    "\n",
    "\n",
    "class DictToTensor:\n",
    "    def __call__(self, data: Dict[str, Tensor], label):\n",
    "        # The output shape [batch, channel, signal]\n",
    "        return (\n",
    "            torch.permute(\n",
    "                torch.vstack(list(map(lambda a: a.unsqueeze(0), data.values()))),\n",
    "                (1, 0, 2),\n",
    "            ),\n",
    "            label,\n",
    "        )\n",
    "\n",
    "\n",
    "class DictToArray:\n",
    "    def __call__(self, data, label):\n",
    "        # The output shape [batch, channel, signal]\n",
    "        return (\n",
    "            np.transpose(\n",
    "                np.vstack(\n",
    "                    list(map(lambda a: np.expand_dims(a, axis=0), data.values()))\n",
    "                ),\n",
    "                (1, 0, 2),\n",
    "            ),\n",
    "            label,\n",
    "        )\n",
    "\n",
    "\n",
    "class Windowing:\n",
    "    def __init__(self, n_segments: int = 5, sample_rate: float = 250.0):\n",
    "        self.n_segments = n_segments\n",
    "        self.sample_rate = sample_rate\n",
    "\n",
    "    # The Output of the signal is [batch, channels, windowed, band_filtered, signal]\n",
    "    def __call__(self, data: Tensor, label):\n",
    "        \"\"\"Takes as input a signal tensor of shape [batch, channels, band_filtered, signal]\n",
    "        and outputs a signal tensor of shape [batch, channels, windowed, band_filtered, signal]\n",
    "        \"\"\"\n",
    "        start, end = 0, data.size()[-1]\n",
    "        step = int((end - start) / self.n_segments)\n",
    "        windows = np.arange(start, end - step, step=step)\n",
    "\n",
    "        if len(windows) == 0:\n",
    "            data = data.unsqueeze(dim=2)\n",
    "            return data, label\n",
    "\n",
    "        windowed_data = torch.permute(\n",
    "            torch.stack(\n",
    "                [data[:, :, :, window : (window + step)] for window in windows], dim=0\n",
    "            ),\n",
    "            (1, 2, 0, 3, 4),\n",
    "        )\n",
    "\n",
    "        return windowed_data, label\n",
    "\n",
    "\n",
    "class Filtering:\n",
    "    def __init__(self, N: int, rs: float, Wns: List[float], bandwidth, fs: float):\n",
    "        self.N = N\n",
    "        self.rs = rs\n",
    "        self.Wns = Wns / (fs / 2)  # Normalize the signals\n",
    "        self.bandwidth = bandwidth / (fs / 2)  # Normalize the signals\n",
    "        self.fs = fs\n",
    "\n",
    "    # The Output of the signal is [batch, channels, band_filtered, signal]\n",
    "    def __call__(self, data, label):\n",
    "        filtered_data = []\n",
    "\n",
    "        for wn in self.Wns:\n",
    "            b, a = scipy.signal.cheby2(\n",
    "                N=self.N,\n",
    "                rs=self.rs,\n",
    "                Wn=[wn, wn + self.bandwidth],\n",
    "                btype=\"bandpass\",\n",
    "                fs=self.fs,\n",
    "            )\n",
    "            filtered_data.append(scipy.signal.filtfilt(b, a, data, axis=-1))\n",
    "\n",
    "        filtered_data = torch.permute(torch.Tensor(filtered_data), (1, 2, 0, 3))\n",
    "\n",
    "        return filtered_data, label\n",
    "\n",
    "\n",
    "class ExpandDim(object):\n",
    "    def __init__(self, dim):\n",
    "        self.dim = dim\n",
    "\n",
    "    def __call__(self, data, label):\n",
    "        return data.unsqueeze_(self.dim), label\n",
    "\n",
    "\n",
    "class LabelToDict:\n",
    "    def __call__(self, data, label):\n",
    "        return data, {\"label\": label}\n",
    "\n",
    "\n",
    "class ToNumpy:\n",
    "    def __call__(self, data, label):\n",
    "        return data.cpu().detach().numpy(), label.cpu().detach().numpy()\n",
    "\n",
    "\n",
    "class Compose:\n",
    "    def __init__(self, transforms: List[Callable]) -> None:\n",
    "        self.transforms = transforms\n",
    "\n",
    "    def __call__(self, data: Any, target: Any):\n",
    "        for t in self.transforms:\n",
    "            data, target = t(data, target)\n",
    "        return data, target\n",
    "\n",
    "    def __repr__(self):\n",
    "        return \"\\n\".join([c.__class__.__name__ for c in self.transforms])\n",
    "\n",
    "\n",
    "# TODO: complete this part\n",
    "from scipy.signal import cheby2, filtfilt\n",
    "\n",
    "\n",
    "def cheby_bandpass_filter(signal, attenuation, lowcut, highcut, fs, order=5):\n",
    "    nyq = 0.5 * fs\n",
    "    low = lowcut / nyq\n",
    "    high = highcut / nyq\n",
    "    b, a = cheby2(order, rs=attenuation, Wn=[low, high], btype=\"band\")\n",
    "    y = filtfilt(b, a, signal, axis=-1)\n",
    "    # print(\"filtered shape \", y.shape)\n",
    "    return y\n",
    "\n",
    "\n",
    "def cheby_bandpass_one_subject(\n",
    "    X, attenuation, lowcut, highcut, fs, interval=None, verbose=True\n",
    "):\n",
    "    temp_epoch_EEG = X.copy()\n",
    "    # print(f\"data shape : {temp_epoch_EEG.shape}\")\n",
    "\n",
    "    if interval is not None:\n",
    "        startband = np.arange(lowcut, highcut, step=interval)\n",
    "\n",
    "        bands = []\n",
    "        for start in startband:\n",
    "            # This will be new key inside the EEG_filtered\n",
    "            band = \"{:02d}_{:02d}\".format(start, start + interval)\n",
    "\n",
    "            if verbose:\n",
    "                print(\"Filtering through {} Hz band\".format(band))\n",
    "            # Bandpass filtering\n",
    "            bands.append(\n",
    "                cheby_bandpass_filter(\n",
    "                    temp_epoch_EEG, attenuation, start, start + interval, fs\n",
    "                )\n",
    "            )\n",
    "\n",
    "        return np.vstack(bands)\n",
    "\n",
    "    else:\n",
    "        # This will be new key inside the EEG_filtered\n",
    "        band = \"{:02d}_{:02d}\".format(lowcut, highcut)\n",
    "\n",
    "        return cheby_bandpass_filter(temp_epoch_EEG, attenuation, lowcut, highcut, fs)\n",
    "\n",
    "\n",
    "from functools import partial\n",
    "\n",
    "\n",
    "class BandPass:\n",
    "    def __init__(self, attenuation, lowcut, highcut, fs, interval=None):\n",
    "        self.attenuation = attenuation\n",
    "        self.lowcut = lowcut\n",
    "        self.highcut = highcut\n",
    "        self.fs = fs\n",
    "        self.interval = interval\n",
    "\n",
    "        self.bandpass_func = partial(\n",
    "            cheby_bandpass_one_subject,\n",
    "            attenuation=self.attenuation,\n",
    "            lowcut=self.lowcut,\n",
    "            highcut=self.highcut,\n",
    "            fs=self.fs,\n",
    "            interval=self.interval,\n",
    "            verbose=False,\n",
    "        )\n",
    "\n",
    "    # The Output of the signal is [batch, channels, band_filtered, signal]\n",
    "    def __call__(self, data, label):\n",
    "        filtered_data = data = apply_to_collection(\n",
    "            data,\n",
    "            dtype=(np.ndarray, int, float, np.int64, Tensor),\n",
    "            function=self.bandpass_func,\n",
    "        )\n",
    "\n",
    "        filtered_data = np.expand_dims(filtered_data.transpose(1, 0, 2), axis=0)\n",
    "\n",
    "        return filtered_data, label"
   ]
  },
  {
   "cell_type": "code",
   "execution_count": 7,
   "id": "97c1ca1c-3ee5-439d-be82-523e85faf35c",
   "metadata": {},
   "outputs": [],
   "source": [
    "directory = \"../test_data\"\n",
    "electrod_positions, shape = eeg_electrode_configs(\n",
    "    \"../configs/eeg_recording_standard/international_10_20_22.py\"\n",
    ")\n",
    "if not os.path.exists(directory):\n",
    "    os.makedirs(directory)\n",
    "\n",
    "\n",
    "fs = 250\n",
    "low_freq = 4\n",
    "high_freq = 38\n",
    "bandwidth = 4\n",
    "overlap = 2\n",
    "\n",
    "freqs = np.arange(low_freq, high_freq - (bandwidth - overlap), overlap)\n",
    "\n",
    "lowcut = 4\n",
    "highcut = 40\n",
    "fs = 250\n",
    "attenuation = 40\n",
    "interval = 4\n",
    "\n",
    "transforms = [\n",
    "    ToTensor(device=\"cuda\"),\n",
    "    DictToTensor(),\n",
    "    # ToNumpy(),\n",
    "    # BandPass(\n",
    "    #     attenuation=attenuation,\n",
    "    #     lowcut=lowcut,\n",
    "    #     highcut=highcut,\n",
    "    #     fs=fs,\n",
    "    #     interval=interval,\n",
    "    # ),\n",
    "    # ToTensor(device=\"cpu\"),\n",
    "    # Filtering(N=4, rs=40, Wns=freqs, bandwidth=bandwidth, fs=fs),\n",
    "    ExpandDim(dim=2),\n",
    "    ExpandDim(dim=2),\n",
    "    # Windowing(n_segments=1),\n",
    "    LabelToDict(),\n",
    "]\n",
    "compose = Compose(transforms=transforms)\n",
    "\n",
    "ds = BCI2aDataset(\n",
    "    eeg_electrode_positions=electrod_positions,\n",
    "    data_path=directory,\n",
    "    transforms=compose,\n",
    ")"
   ]
  },
  {
   "cell_type": "code",
   "execution_count": 8,
   "id": "b8e39c04-9b10-422c-a83b-b680b3bfea28",
   "metadata": {
    "tags": []
   },
   "outputs": [
    {
     "name": "stdout",
     "output_type": "stream",
     "text": [
      "tensor(-22.1658, dtype=torch.float64) tensor(18.0601, dtype=torch.float64)\n",
      "torch.Size([1, 22, 1, 1, 1001])\n"
     ]
    }
   ],
   "source": [
    "for i in range(len(ds)):\n",
    "    wave, label = ds[i]\n",
    "    print(wave.min(), wave.max())\n",
    "    print(wave.shape)\n",
    "    if np.isnan(wave).any() or np.isinf(wave).any():\n",
    "        print(f\"date {i} : has NAN or INF\")\n",
    "    break"
   ]
  },
  {
   "cell_type": "code",
   "execution_count": 9,
   "id": "f4beeb3f-3e2c-4a8d-93f9-f14b2d2bf155",
   "metadata": {},
   "outputs": [],
   "source": [
    "def collate_fn(batch):\n",
    "    imgs = torch.vstack([item[0] for item in batch])\n",
    "\n",
    "    trgts = {}\n",
    "    sample_item_label = batch[0][1]\n",
    "    for label_key in sample_item_label.keys():\n",
    "        if isinstance(sample_item_label[label_key], dict):\n",
    "            trgts[label_key] = {\n",
    "                key: torch.vstack([item[1][label_key][key].squeeze() for item in batch])\n",
    "                for key in sample_item_label[label_key].keys()\n",
    "            }\n",
    "        else:\n",
    "            trgts[label_key] = torch.vstack(\n",
    "                [item[1][label_key] for item in batch]\n",
    "            ).squeeze()\n",
    "\n",
    "    return [imgs, trgts]"
   ]
  },
  {
   "cell_type": "code",
   "execution_count": 10,
   "id": "05fd663e-d920-440d-932d-d2e225744a75",
   "metadata": {},
   "outputs": [],
   "source": [
    "batch_size = 32\n",
    "train_dataset, val_dataset = ds.get_train_test_subsets()\n",
    "\n",
    "train_dataloader = DataLoader(\n",
    "    train_dataset,\n",
    "    batch_size=batch_size,\n",
    "    shuffle=True,\n",
    "    collate_fn=collate_fn,\n",
    "    num_workers=os.cpu_count(),\n",
    ")\n",
    "\n",
    "\n",
    "val_dataloader = DataLoader(\n",
    "    val_dataset,\n",
    "    batch_size=batch_size,\n",
    "    collate_fn=collate_fn,\n",
    "    num_workers=os.cpu_count(),\n",
    ")"
   ]
  },
  {
   "cell_type": "markdown",
   "id": "491a9be7-7113-4384-beb6-9565f55f012b",
   "metadata": {
    "tags": []
   },
   "source": [
    "## Investigating Whitening Methods"
   ]
  },
  {
   "cell_type": "code",
   "execution_count": 11,
   "id": "888cc158-3cd6-4fc7-a691-f804755f8858",
   "metadata": {},
   "outputs": [],
   "source": [
    "csp_dataloader = DataLoader(\n",
    "    train_dataset,\n",
    "    batch_size=1,\n",
    "    shuffle=False,\n",
    "    collate_fn=collate_fn,\n",
    "    num_workers=1,\n",
    ")"
   ]
  },
  {
   "cell_type": "code",
   "execution_count": 13,
   "id": "b08bdbd8-abc4-48c3-82ec-1074ea4a8959",
   "metadata": {
    "scrolled": true,
    "tags": []
   },
   "outputs": [
    {
     "data": {
      "application/vnd.jupyter.widget-view+json": {
       "model_id": "8186eec0ca784f5fb669b1d369b65de4",
       "version_major": 2,
       "version_minor": 0
      },
      "text/plain": [
       "  0%|          | 0/2592 [00:00<?, ?it/s]"
      ]
     },
     "metadata": {},
     "output_type": "display_data"
    }
   ],
   "source": [
    "signal = []\n",
    "label = []\n",
    "for sig, lbl in tqdm(csp_dataloader):\n",
    "    signal.append(sig)\n",
    "    label.append(lbl[\"label\"])\n",
    "signal = torch.vstack(signal)\n",
    "label = torch.stack(label)"
   ]
  },
  {
   "cell_type": "code",
   "execution_count": 14,
   "id": "a42440e1-cfa7-49ec-92f7-88db12fe9a4e",
   "metadata": {},
   "outputs": [
    {
     "data": {
      "text/plain": [
       "(torch.Size([2592, 22, 1, 1, 1001]), torch.Size([2592]))"
      ]
     },
     "execution_count": 14,
     "metadata": {},
     "output_type": "execute_result"
    }
   ],
   "source": [
    "signal.size(), label.size()"
   ]
  },
  {
   "cell_type": "code",
   "execution_count": 15,
   "id": "15b440b8-6bd3-4805-8c67-282e69cdda44",
   "metadata": {
    "tags": []
   },
   "outputs": [],
   "source": [
    "import matplotlib.pyplot as plt\n",
    "import scipy.linalg as la"
   ]
  },
  {
   "cell_type": "code",
   "execution_count": 16,
   "id": "b284aace-e3ae-43dd-adf7-29afe51222a1",
   "metadata": {},
   "outputs": [],
   "source": [
    "def calc_cov(EEG_data):\n",
    "    \"\"\"\n",
    "    INPUT:\n",
    "    EEG_data : EEG_data in shape T x N x S\n",
    "\n",
    "    OUTPUT:\n",
    "    avg_cov : covariance matrix of averaged over all trials\n",
    "    \"\"\"\n",
    "    cov = []\n",
    "    for i in range(EEG_data.size()[0]):\n",
    "        cov.append(\n",
    "            EEG_data[i] @ EEG_data[i].T / torch.trace(EEG_data[i] @ EEG_data[i].T)\n",
    "        )\n",
    "\n",
    "    cov = torch.mean(torch.stack(cov), 0)\n",
    "\n",
    "    return cov"
   ]
  },
  {
   "cell_type": "code",
   "execution_count": 17,
   "id": "b4e7ec38-62d3-4009-b366-1aab582f8bbc",
   "metadata": {},
   "outputs": [
    {
     "data": {
      "text/plain": [
       "(torch.Size([2592, 1001, 22]), torch.Size([22]))"
      ]
     },
     "execution_count": 17,
     "metadata": {},
     "output_type": "execute_result"
    }
   ],
   "source": [
    "x = signal.squeeze()\n",
    "sig = x.permute(0, 2, 1)\n",
    "x = torch.mean(sig, axis=1)\n",
    "x_mean = torch.mean(x, axis=0)\n",
    "sig.size(), x_mean.size()"
   ]
  },
  {
   "cell_type": "code",
   "execution_count": 18,
   "id": "70e3e023-276f-41e8-95aa-f581709f8fce",
   "metadata": {},
   "outputs": [
    {
     "data": {
      "text/plain": [
       "torch.Size([2592, 22, 1001])"
      ]
     },
     "execution_count": 18,
     "metadata": {},
     "output_type": "execute_result"
    }
   ],
   "source": [
    "x = sig - x_mean\n",
    "x_zero_centered = x.permute(0, 2, 1)\n",
    "x_zero_centered.size()"
   ]
  },
  {
   "cell_type": "code",
   "execution_count": 19,
   "id": "4cdac233-db50-4e8f-be98-e05279766688",
   "metadata": {},
   "outputs": [
    {
     "data": {
      "text/plain": [
       "torch.Size([22, 22])"
      ]
     },
     "execution_count": 19,
     "metadata": {},
     "output_type": "execute_result"
    }
   ],
   "source": [
    "x = x_zero_centered\n",
    "x_cov = calc_cov(x)\n",
    "x_cov.shape"
   ]
  },
  {
   "cell_type": "code",
   "execution_count": 20,
   "id": "5ef3dcd1-9362-4b66-8928-2999451d9cc8",
   "metadata": {},
   "outputs": [
    {
     "data": {
      "image/png": "[encoded data removed]",
      "text/plain": [
       "<Figure size 640x480 with 1 Axes>"
      ]
     },
     "metadata": {},
     "output_type": "display_data"
    }
   ],
   "source": [
    "plt.imshow(x_cov, cmap=\"hot\", interpolation=\"nearest\")\n",
    "plt.show()"
   ]
  },
  {
   "cell_type": "code",
   "execution_count": 21,
   "id": "6e44b43c-f0e6-478d-bced-6025fef11d2f",
   "metadata": {
    "tags": []
   },
   "outputs": [
    {
     "data": {
      "text/plain": [
       "torch.Size([22, 22])"
      ]
     },
     "execution_count": 21,
     "metadata": {},
     "output_type": "execute_result"
    }
   ],
   "source": [
    "lda, V = torch.linalg.eig(x_cov)\n",
    "lda, V = lda.real, V.real\n",
    "whitening_mat = V @ torch.sqrt(torch.inverse(torch.diag(lda))) @ V.T\n",
    "# print(torch.allclose(whitening_mat, torch.sqrt(torch.inverse(x_cov))))\n",
    "# whitening_mat = torch.inverse(torch.sqrt(x_cov))\n",
    "\n",
    "whitening_mat.size()"
   ]
  },
  {
   "cell_type": "code",
   "execution_count": 22,
   "id": "59e21ee2-940e-4a61-8d5f-c7e0687b21f4",
   "metadata": {},
   "outputs": [
    {
     "data": {
      "image/png": "[encoded data removed]",
      "text/plain": [
       "<Figure size 640x480 with 1 Axes>"
      ]
     },
     "metadata": {},
     "output_type": "display_data"
    }
   ],
   "source": [
    "plt.imshow(whitening_mat, cmap=\"hot\", interpolation=\"nearest\")\n",
    "plt.show()"
   ]
  },
  {
   "cell_type": "code",
   "execution_count": 23,
   "id": "37139678-717e-4457-aac3-0a40179b2cea",
   "metadata": {},
   "outputs": [
    {
     "data": {
      "text/plain": [
       "torch.Size([2592, 22, 1001])"
      ]
     },
     "execution_count": 23,
     "metadata": {},
     "output_type": "execute_result"
    }
   ],
   "source": [
    "whitened_signal = whitening_mat @ x_zero_centered\n",
    "whitened_signal.size()"
   ]
  },
  {
   "cell_type": "code",
   "execution_count": 24,
   "id": "461375fd-20b2-4cbd-810e-333202ff0838",
   "metadata": {},
   "outputs": [
    {
     "data": {
      "text/plain": [
       "torch.Size([22, 22])"
      ]
     },
     "execution_count": 24,
     "metadata": {},
     "output_type": "execute_result"
    }
   ],
   "source": [
    "x = whitened_signal\n",
    "whitened_signal_cov = calc_cov(x)\n",
    "whitened_signal_cov.shape"
   ]
  },
  {
   "cell_type": "code",
   "execution_count": 25,
   "id": "b39dea40-0318-44e8-8ef1-1cdb4ced3ecd",
   "metadata": {},
   "outputs": [
    {
     "data": {
      "image/png": "[encoded data removed]",
      "text/plain": [
       "<Figure size 640x480 with 1 Axes>"
      ]
     },
     "metadata": {},
     "output_type": "display_data"
    }
   ],
   "source": [
    "plt.imshow(whitened_signal_cov, cmap=\"hot\", interpolation=\"nearest\")\n",
    "plt.show()"
   ]
  },
  {
   "cell_type": "markdown",
   "id": "7a02d78e-80eb-47f4-af1b-63b8aed8e160",
   "metadata": {},
   "source": [
    "## Pytorch Dataset Transform Model"
   ]
  },
  {
   "cell_type": "code",
   "execution_count": 26,
   "id": "47c474fe-34b7-47b8-b0bf-b08d9892c269",
   "metadata": {},
   "outputs": [],
   "source": [
    "class Whitening:\n",
    "    def __init__(self, data_loader, whitening_method=\"PCA\"):\n",
    "        self.ds = data_loader\n",
    "        self.method = whitening_method\n",
    "\n",
    "        self.W = self._generate_whitening_transformation(self.ds, self.method)\n",
    "\n",
    "    def _generate_whitening_transformation(self, data_loader, whitening_method=\"PCA\"):\n",
    "        \"\"\"extract whitening transformation from data\n",
    "\n",
    "        Parameters\n",
    "        ----------\n",
    "        data_loader : torch.dataloader\n",
    "            pytorch data loader\n",
    "        whitening_method : str\n",
    "            one of following values\n",
    "            \"PCA\" for PCA whitening\n",
    "            \"ZCA for ZCA whitening\n",
    "\n",
    "        Returns\n",
    "        -------\n",
    "        torch.Tensor\n",
    "            whitening transformation matrix\n",
    "        \"\"\"\n",
    "        # get data\n",
    "        signal = []\n",
    "        for sig, lbl in data_loader:\n",
    "            signal.append(sig)\n",
    "        signal = torch.vstack(signal)\n",
    "\n",
    "        # zero center\n",
    "        x = signal.squeeze()\n",
    "        sig = x.permute(0, 2, 1)\n",
    "        x = torch.mean(sig, axis=1)\n",
    "        x_mean = torch.mean(x, axis=0)\n",
    "\n",
    "        x = sig - x_mean\n",
    "        x_zero_centered = x.permute(0, 2, 1)\n",
    "\n",
    "        # Calculate whitening matrix\n",
    "        x_cov = self._calc_cov(x_zero_centered)\n",
    "\n",
    "        lda, V = torch.linalg.eig(x_cov)\n",
    "        lda, V = lda.real, V.real\n",
    "        if \"PCA\":\n",
    "            whitening_mat = torch.sqrt(torch.inverse(torch.diag(lda))) @ V.T\n",
    "        elif \"ZCA\":\n",
    "            whitening_mat = V @ torch.sqrt(torch.inverse(torch.diag(lda))) @ V.T\n",
    "\n",
    "        return whitening_mat\n",
    "\n",
    "    def _calc_cov(self, EEG_data):\n",
    "        cov = []\n",
    "        for i in range(EEG_data.size()[0]):\n",
    "            cov.append(\n",
    "                EEG_data[i] @ EEG_data[i].T / torch.trace(EEG_data[i] @ EEG_data[i].T)\n",
    "            )\n",
    "\n",
    "        cov = torch.mean(torch.stack(cov), 0)\n",
    "\n",
    "        return cov\n",
    "\n",
    "    def __call__(self, data: Tensor, label):\n",
    "        whitened_data = self.W @ data\n",
    "        return whitened_data, label"
   ]
  },
  {
   "cell_type": "code",
   "execution_count": 27,
   "id": "5833add1-d9e9-4428-83f1-ba095efb1ec0",
   "metadata": {},
   "outputs": [],
   "source": [
    "transforms = [\n",
    "    ToTensor(device=\"cuda\"),\n",
    "    DictToTensor(),\n",
    "    ExpandDim(dim=2),\n",
    "    ExpandDim(dim=2),\n",
    "    LabelToDict(),\n",
    "]\n",
    "compose = Compose(transforms=transforms)\n",
    "\n",
    "ds = BCI2aDataset(\n",
    "    eeg_electrode_positions=electrod_positions,\n",
    "    data_path=directory,\n",
    "    transforms=compose,\n",
    ")"
   ]
  },
  {
   "cell_type": "code",
   "execution_count": 28,
   "id": "3e3992fc-ec25-4929-b052-f37142b7d6fd",
   "metadata": {},
   "outputs": [],
   "source": [
    "train_dataset, val_dataset = ds.get_train_test_subsets()\n",
    "\n",
    "train_dataloader = DataLoader(\n",
    "    train_dataset,\n",
    "    batch_size=1,\n",
    "    shuffle=False,\n",
    "    collate_fn=collate_fn,\n",
    "    num_workers=1,\n",
    ")"
   ]
  },
  {
   "cell_type": "code",
   "execution_count": 29,
   "id": "51edea53-25d1-48f8-8e89-12a53bd1a9d2",
   "metadata": {},
   "outputs": [],
   "source": [
    "transforms = [\n",
    "    ToTensor(device=\"cuda\"),\n",
    "    DictToTensor(),\n",
    "    Whitening(train_dataloader, whitening_method=\"ZCA\"),\n",
    "    ExpandDim(dim=2),\n",
    "    ExpandDim(dim=2),\n",
    "    LabelToDict(),\n",
    "]\n",
    "compose = Compose(transforms=transforms)\n",
    "\n",
    "ds_w = BCI2aDataset(\n",
    "    eeg_electrode_positions=electrod_positions,\n",
    "    data_path=directory,\n",
    "    transforms=compose,\n",
    ")"
   ]
  },
  {
   "cell_type": "code",
   "execution_count": 30,
   "id": "741e8378-24c6-4924-8f7c-c9abb180de8a",
   "metadata": {},
   "outputs": [
    {
     "data": {
      "text/plain": [
       "torch.Size([1, 22, 1, 1, 1001])"
      ]
     },
     "execution_count": 30,
     "metadata": {},
     "output_type": "execute_result"
    }
   ],
   "source": [
    "ds_w[0][0].size()"
   ]
  },
  {
   "cell_type": "code",
   "execution_count": 51,
   "id": "317a275e-90d4-43ed-99f4-3b4f02d38e7b",
   "metadata": {},
   "outputs": [],
   "source": [
    "# train_dataset, _ = ds_w.get_train_test_subsets()\n",
    "\n",
    "# train_dataloader = DataLoader(\n",
    "#     train_dataset,\n",
    "#     batch_size=1,\n",
    "#     shuffle=False,\n",
    "#     collate_fn=collate_fn,\n",
    "#     num_workers=1,\n",
    "# )\n",
    "\n",
    "batch_size = 32\n",
    "train_dataset, val_dataset = ds_w.get_train_test_subsets()\n",
    "\n",
    "train_dataloader = DataLoader(\n",
    "    train_dataset,\n",
    "    batch_size=batch_size,\n",
    "    shuffle=True,\n",
    "    collate_fn=collate_fn,\n",
    "    num_workers=os.cpu_count(),\n",
    ")\n",
    "\n",
    "\n",
    "val_dataloader = DataLoader(\n",
    "    val_dataset,\n",
    "    batch_size=batch_size,\n",
    "    collate_fn=collate_fn,\n",
    "    num_workers=os.cpu_count(),\n",
    ")"
   ]
  },
  {
   "cell_type": "code",
   "execution_count": 33,
   "id": "5267478d-8717-4785-adce-16d2c577db34",
   "metadata": {},
   "outputs": [
    {
     "data": {
      "application/vnd.jupyter.widget-view+json": {
       "model_id": "80a76349b3a24b2e9bf3dc36959c5c7a",
       "version_major": 2,
       "version_minor": 0
      },
      "text/plain": [
       "  0%|          | 0/2592 [00:00<?, ?it/s]"
      ]
     },
     "metadata": {},
     "output_type": "display_data"
    },
    {
     "data": {
      "text/plain": [
       "torch.Size([2592, 22, 1, 1, 1001])"
      ]
     },
     "execution_count": 33,
     "metadata": {},
     "output_type": "execute_result"
    }
   ],
   "source": [
    "signal = []\n",
    "for sig, lbl in tqdm(train_dataloader):\n",
    "    signal.append(sig)\n",
    "signal = torch.vstack(signal)\n",
    "signal.size()"
   ]
  },
  {
   "cell_type": "code",
   "execution_count": 34,
   "id": "c8e983d9-b1c4-4b23-857d-22cc16a4a96c",
   "metadata": {},
   "outputs": [
    {
     "data": {
      "text/plain": [
       "torch.Size([22, 22])"
      ]
     },
     "execution_count": 34,
     "metadata": {},
     "output_type": "execute_result"
    }
   ],
   "source": [
    "whitened_signal_cov = calc_cov(signal.squeeze())\n",
    "whitened_signal_cov.shape"
   ]
  },
  {
   "cell_type": "code",
   "execution_count": 35,
   "id": "5507a7b3-fc3c-4247-b78a-3d19885b5cbc",
   "metadata": {},
   "outputs": [
    {
     "data": {
      "image/png": "[encoded data removed]",
      "text/plain": [
       "<Figure size 640x480 with 1 Axes>"
      ]
     },
     "metadata": {},
     "output_type": "display_data"
    }
   ],
   "source": [
    "plt.imshow(whitened_signal_cov, cmap=\"hot\", interpolation=\"nearest\")\n",
    "plt.show()"
   ]
  },
  {
   "cell_type": "markdown",
   "id": "935a9f9b-25c4-405d-b8b7-fb2296eaf81f",
   "metadata": {},
   "source": [
    "# Model"
   ]
  },
  {
   "cell_type": "code",
   "execution_count": 37,
   "id": "33e0509b-507d-4e4e-8a98-747f9db77aa9",
   "metadata": {},
   "outputs": [],
   "source": [
    "import torch\n",
    "import numpy as np\n",
    "import torch.nn as nn\n",
    "from cspnn.csp_nn import CSP, CSPNN\n",
    "\n",
    "import torch.optim as optim\n",
    "\n",
    "import numpy as np\n",
    "from sklearn.metrics import (\n",
    "    roc_auc_score,\n",
    "    precision_score,\n",
    "    recall_score,\n",
    "    accuracy_score,\n",
    "    cohen_kappa_score,\n",
    ")\n",
    "import torch\n",
    "import torch.nn as nn\n",
    "import torch.optim as optim\n",
    "from torch.autograd import Variable\n",
    "import torch.nn.functional as F\n",
    "import torch.optim as optim\n",
    "\n",
    "from tqdm import tqdm\n",
    "import random"
   ]
  },
  {
   "cell_type": "code",
   "execution_count": 42,
   "id": "3f5d6d0e-ccb8-42ad-84b6-8b31f2d7f185",
   "metadata": {},
   "outputs": [],
   "source": [
    "def evaluate(model, dl, params=[\"acc\"]):\n",
    "    model.eval()\n",
    "    results = []\n",
    "    predicted = []\n",
    "    Y = []\n",
    "\n",
    "    for batch in dl:\n",
    "        inputs, labels = batch\n",
    "        # inputs = torch.permute(\n",
    "        #     torch.vstack(list(map(lambda a: a.unsqueeze(0), inputs.values()))),\n",
    "        #     (1, 2, 3, 0),\n",
    "        # )\n",
    "        # wrap them in Variable\n",
    "        # inputs, labels = inputs.cuda(0), labels.type(torch.LongTensor).cuda(0)\n",
    "\n",
    "        pred = model(inputs.float().cuda(0))\n",
    "\n",
    "        predicted.append(pred.cpu().detach())\n",
    "        Y.append(labels[\"label\"].type(torch.LongTensor).cpu())\n",
    "\n",
    "    predicted = torch.cat(predicted, 0)\n",
    "    Y = torch.cat(Y, 0)\n",
    "\n",
    "    loss = cls_criterion(predicted, Y)\n",
    "\n",
    "    predicted = predicted.numpy()\n",
    "    Y = Y.numpy()\n",
    "\n",
    "    for param in params:\n",
    "        if param == \"acc\":\n",
    "            results.append(accuracy_score(Y, np.argmax(predicted, axis=1)))\n",
    "        if param == \"auc\":\n",
    "            results.append(roc_auc_score(Y, predicted, multi_class=\"ovr\"))\n",
    "        if param == \"kappa\":\n",
    "            results.append(cohen_kappa_score(Y, np.argmax(predicted, axis=1)))\n",
    "        if param == \"recall\":\n",
    "            results.append(\n",
    "                recall_score(Y, np.argmax(predicted, axis=1), average=\"micro\")\n",
    "            )\n",
    "        if param == \"precision\":\n",
    "            results.append(\n",
    "                precision_score(Y, np.argmax(predicted, axis=1), average=\"micro\")\n",
    "            )\n",
    "        if param == \"fmeasure\":\n",
    "            precision = precision_score(\n",
    "                Y, np.argmax(predicted, axis=1), average=\"micro\"\n",
    "            )\n",
    "            recall = recall_score(Y, np.argmax(predicted, axis=1), average=\"micro\")\n",
    "            results.append(2 * precision * recall / (precision + recall))\n",
    "\n",
    "    results.append(loss)\n",
    "    return results"
   ]
  },
  {
   "cell_type": "code",
   "execution_count": 81,
   "id": "7113c186-d7f3-482e-a282-feb6be39a11a",
   "metadata": {},
   "outputs": [],
   "source": [
    "class CSPNNCls(nn.Module):\n",
    "    def __init__(\n",
    "        self,\n",
    "        num_channels: int,\n",
    "        num_features: int = None,\n",
    "        num_bands: int = None,\n",
    "        num_windows: int = 1,\n",
    "        num_labels: int = None,\n",
    "        mode: str = \"constant\",\n",
    "    ):\n",
    "        super(CSPNNCls, self).__init__()\n",
    "        self.num_channels = num_channels\n",
    "        self.num_features = num_channels if num_features is None else num_features\n",
    "        self.num_bands = num_bands\n",
    "        self.num_windows = num_windows\n",
    "        self.num_labels = num_labels\n",
    "        self.mode = mode\n",
    "\n",
    "        self.conv1 = CSPNN(\n",
    "            num_channels=num_channels,\n",
    "            num_features=num_features,\n",
    "            num_bands=num_bands,\n",
    "            num_windows=num_windows,\n",
    "            num_labels=num_labels,\n",
    "            mode=self.mode,\n",
    "        )\n",
    "\n",
    "        # CLS CNN\n",
    "        conv2d_batch_out_channels_1 = 40\n",
    "\n",
    "        self.conv2d_1 = nn.Conv2d(\n",
    "            in_channels=1,\n",
    "            out_channels=conv2d_batch_out_channels_1,\n",
    "            kernel_size=(1, 1),\n",
    "            padding=\"same\",\n",
    "            stride=1,\n",
    "        )\n",
    "\n",
    "        self.batch_norm_1 = nn.BatchNorm2d(num_features=conv2d_batch_out_channels_1)\n",
    "\n",
    "        self.activation = nn.ReLU()\n",
    "\n",
    "        conv2d_batch_out_channels_2 = 40\n",
    "\n",
    "        self.conv2d_2 = nn.Conv2d(\n",
    "            in_channels=1,\n",
    "            out_channels=conv2d_batch_out_channels_2,\n",
    "            kernel_size=(1, 1),\n",
    "            padding=\"same\",\n",
    "            stride=1,\n",
    "        )\n",
    "\n",
    "        self.batch_norm_2 = nn.BatchNorm2d(num_features=conv2d_batch_out_channels_2)\n",
    "\n",
    "        self.flatten = nn.Flatten()\n",
    "\n",
    "        drop_out_1 = 0.5\n",
    "        self.drop_out_1 = nn.Dropout(p=drop_out_1)\n",
    "\n",
    "        self.fc1 = nn.Linear(3520, 40)\n",
    "\n",
    "        drop_out_2 = 0.5\n",
    "        self.drop_out_2 = nn.Dropout(p=drop_out_2)\n",
    "\n",
    "        self.fc2 = nn.Linear(40, 10)\n",
    "\n",
    "        self.fc = nn.Linear(10, 4)\n",
    "\n",
    "    def forward(self, x):\n",
    "        csp = self.conv1(x)\n",
    "\n",
    "        features = csp.reshape(\n",
    "            (\n",
    "                -1,\n",
    "                self.num_bands * self.num_windows * self.num_labels * self.num_features,\n",
    "            )\n",
    "        )\n",
    "\n",
    "        features = features.unsqueeze_(1)\n",
    "        features = features.unsqueeze_(-1)\n",
    "\n",
    "        # Cls CNN\n",
    "        x = self.conv2d_1(features)\n",
    "        x = self.batch_norm_1(x)\n",
    "        x = self.activation(x)\n",
    "\n",
    "        x = self.conv2d_2(features)\n",
    "        x = self.batch_norm_2(x)\n",
    "        x = self.activation(x)\n",
    "\n",
    "        x = self.flatten(x)\n",
    "\n",
    "        # print(f\"{x.size() = }\")\n",
    "\n",
    "        x = self.drop_out_1(x)\n",
    "        x = self.fc1(x)\n",
    "        x = self.activation(x)\n",
    "\n",
    "        x = self.drop_out_2(x)\n",
    "        x = self.fc2(x)\n",
    "        x = self.activation(x)\n",
    "\n",
    "        x = F.softmax(self.fc(x), dim=1)\n",
    "        if self.training:\n",
    "            return x, csp\n",
    "        return x\n",
    "\n",
    "\n",
    "net = CSPNNCls(\n",
    "    num_channels=22, num_features=22, num_bands=1, num_windows=1, num_labels=4\n",
    ")\n",
    "# .cuda(0)\n",
    "cls_criterion = nn.CrossEntropyLoss()  # nn.BCELoss()\n",
    "# reg_criterion = nn.MSELoss()\n",
    "optimizer = optim.Adam(net.parameters(), lr=0.001, weight_decay=0.00)\n",
    "# lr_scheduler = torch.optim.lr_scheduler.OneCycleLR(\n",
    "#     optimizer, max_lr=0.1, steps_per_epoch=1, epochs=200\n",
    "# )\n",
    "lr_scheduler = torch.optim.lr_scheduler.StepLR(optimizer, step_size=200, gamma=0.1)"
   ]
  },
  {
   "cell_type": "code",
   "execution_count": 82,
   "id": "df449bbc-f041-4f5c-bc1d-93b60e530576",
   "metadata": {},
   "outputs": [
    {
     "data": {
      "text/plain": [
       "(torch.Size([10, 4]), torch.Size([10, 4, 22]))"
      ]
     },
     "execution_count": 82,
     "metadata": {},
     "output_type": "execute_result"
    }
   ],
   "source": [
    "signals = torch.empty((10, 22, 1, 16, 769), dtype=torch.float32).random_(1, 50)\n",
    "a, b = net(signals)\n",
    "a.size(), b.size()"
   ]
  },
  {
   "cell_type": "code",
   "execution_count": 83,
   "id": "7238974f-9aba-4ca2-8408-008842a950ef",
   "metadata": {},
   "outputs": [],
   "source": [
    "net = net.cuda()"
   ]
  },
  {
   "cell_type": "code",
   "execution_count": null,
   "id": "a69ade78-7f8f-4d47-a9d3-1ffe24cb7e96",
   "metadata": {
    "scrolled": true,
    "tags": []
   },
   "outputs": [
    {
     "name": "stdout",
     "output_type": "stream",
     "text": [
      "\n",
      "Epoch  0\n"
     ]
    },
    {
     "name": "stderr",
     "output_type": "stream",
     "text": [
      "81it [00:02, 27.63it/s]"
     ]
    },
    {
     "name": "stdout",
     "output_type": "stream",
     "text": [
      "['acc', 'kappa', 'auc', 'fmeasure', 'loss']\n",
      "Training Loss  1.3732022635730696\n"
     ]
    },
    {
     "name": "stderr",
     "output_type": "stream",
     "text": [
      "\n"
     ]
    },
    {
     "name": "stdout",
     "output_type": "stream",
     "text": [
      "Train -  [0.40007716049382713, 0.20010288065843618, 0.6672114340420667, 0.40007716049382713, tensor(1.3389)]\n",
      "Validation -  [0.4066358024691358, 0.20884773662551437, 0.6443058016435502, 0.40663580246913583, tensor(1.3381)]\n",
      "\n",
      "Epoch  1\n"
     ]
    },
    {
     "name": "stderr",
     "output_type": "stream",
     "text": [
      "81it [00:02, 27.37it/s]"
     ]
    },
    {
     "name": "stdout",
     "output_type": "stream",
     "text": [
      "['acc', 'kappa', 'auc', 'fmeasure', 'loss']\n",
      "Training Loss  1.3246893573690344\n"
     ]
    },
    {
     "name": "stderr",
     "output_type": "stream",
     "text": [
      "\n"
     ]
    },
    {
     "name": "stdout",
     "output_type": "stream",
     "text": [
      "Train -  [0.4826388888888889, 0.31018518518518523, 0.7441802173830209, 0.4826388888888889, tensor(1.2595)]\n",
      "Validation -  [0.4367283950617284, 0.2489711934156379, 0.7112460030546665, 0.4367283950617284, tensor(1.2807)]\n",
      "\n",
      "Epoch  2\n"
     ]
    },
    {
     "name": "stderr",
     "output_type": "stream",
     "text": [
      "81it [00:02, 28.44it/s]"
     ]
    },
    {
     "name": "stdout",
     "output_type": "stream",
     "text": [
      "['acc', 'kappa', 'auc', 'fmeasure', 'loss']\n",
      "Training Loss  1.2704849243164062\n"
     ]
    },
    {
     "name": "stderr",
     "output_type": "stream",
     "text": [
      "\n"
     ]
    },
    {
     "name": "stdout",
     "output_type": "stream",
     "text": [
      "Train -  [0.5023148148148148, 0.3364197530864198, 0.7685222892216634, 0.5023148148148148, tensor(1.2178)]\n",
      "Validation -  [0.4367283950617284, 0.2489711934156379, 0.715700394217091, 0.4367283950617284, tensor(1.2735)]\n",
      "\n",
      "Epoch  3\n"
     ]
    },
    {
     "name": "stderr",
     "output_type": "stream",
     "text": [
      "81it [00:02, 31.81it/s]"
     ]
    },
    {
     "name": "stdout",
     "output_type": "stream",
     "text": [
      "['acc', 'kappa', 'auc', 'fmeasure', 'loss']\n",
      "Training Loss  1.2463566521067677\n"
     ]
    },
    {
     "name": "stderr",
     "output_type": "stream",
     "text": [
      "\n"
     ]
    },
    {
     "name": "stdout",
     "output_type": "stream",
     "text": [
      "Train -  [0.5567129629629629, 0.40895061728395066, 0.7977887009094142, 0.5567129629629629, tensor(1.1809)]\n",
      "Validation -  [0.4683641975308642, 0.29115226337448563, 0.7364072105370115, 0.4683641975308643, tensor(1.2459)]\n",
      "\n",
      "Epoch  4\n"
     ]
    },
    {
     "name": "stderr",
     "output_type": "stream",
     "text": [
      "81it [00:02, 32.10it/s]"
     ]
    },
    {
     "name": "stdout",
     "output_type": "stream",
     "text": [
      "['acc', 'kappa', 'auc', 'fmeasure', 'loss']\n",
      "Training Loss  1.2256308014010207\n"
     ]
    },
    {
     "name": "stderr",
     "output_type": "stream",
     "text": [
      "\n"
     ]
    },
    {
     "name": "stdout",
     "output_type": "stream",
     "text": [
      "Train -  [0.5667438271604939, 0.4223251028806584, 0.8178436817304272, 0.5667438271604939, tensor(1.1689)]\n",
      "Validation -  [0.4498456790123457, 0.2664609053497943, 0.7445058870598994, 0.4498456790123457, tensor(1.2629)]\n",
      "\n",
      "Epoch  5\n"
     ]
    },
    {
     "name": "stderr",
     "output_type": "stream",
     "text": [
      "81it [00:02, 32.03it/s]"
     ]
    },
    {
     "name": "stdout",
     "output_type": "stream",
     "text": [
      "['acc', 'kappa', 'auc', 'fmeasure', 'loss']\n",
      "Training Loss  1.1994451711207261\n"
     ]
    },
    {
     "name": "stderr",
     "output_type": "stream",
     "text": [
      "\n"
     ]
    },
    {
     "name": "stdout",
     "output_type": "stream",
     "text": [
      "Train -  [0.6192129629629629, 0.4922839506172839, 0.8409391392635777, 0.6192129629629629, tensor(1.1269)]\n",
      "Validation -  [0.5003858024691358, 0.33384773662551437, 0.7591332383909973, 0.5003858024691358, tensor(1.2248)]\n",
      "\n",
      "Epoch  6\n"
     ]
    },
    {
     "name": "stderr",
     "output_type": "stream",
     "text": [
      "81it [00:02, 29.73it/s]"
     ]
    },
    {
     "name": "stdout",
     "output_type": "stream",
     "text": [
      "['acc', 'kappa', 'auc', 'fmeasure', 'loss']\n",
      "Training Loss  1.175552977455987\n"
     ]
    },
    {
     "name": "stderr",
     "output_type": "stream",
     "text": [
      "\n"
     ]
    },
    {
     "name": "stdout",
     "output_type": "stream",
     "text": [
      "Train -  [0.6520061728395061, 0.5360082304526749, 0.851191383427323, 0.6520061728395061, tensor(1.0992)]\n",
      "Validation -  [0.527391975308642, 0.36985596707818935, 0.7684731708517503, 0.527391975308642, tensor(1.2049)]\n",
      "\n",
      "Epoch  7\n"
     ]
    },
    {
     "name": "stderr",
     "output_type": "stream",
     "text": [
      "81it [00:02, 29.65it/s]"
     ]
    },
    {
     "name": "stdout",
     "output_type": "stream",
     "text": [
      "['acc', 'kappa', 'auc', 'fmeasure', 'loss']\n",
      "Training Loss  1.1631744261141177\n"
     ]
    },
    {
     "name": "stderr",
     "output_type": "stream",
     "text": [
      "\n"
     ]
    },
    {
     "name": "stdout",
     "output_type": "stream",
     "text": [
      "Train -  [0.6620370370370371, 0.5493827160493827, 0.8584696343291165, 0.6620370370370371, tensor(1.0836)]\n",
      "Validation -  [0.53125, 0.375, 0.7736034109383733, 0.53125, tensor(1.2001)]\n",
      "\n",
      "Epoch  8\n"
     ]
    },
    {
     "name": "stderr",
     "output_type": "stream",
     "text": [
      "81it [00:02, 33.45it/s]"
     ]
    },
    {
     "name": "stdout",
     "output_type": "stream",
     "text": [
      "['acc', 'kappa', 'auc', 'fmeasure', 'loss']\n",
      "Training Loss  1.1612724551448115\n"
     ]
    },
    {
     "name": "stderr",
     "output_type": "stream",
     "text": [
      "\n"
     ]
    },
    {
     "name": "stdout",
     "output_type": "stream",
     "text": [
      "Train -  [0.6315586419753086, 0.5087448559670782, 0.8607784954021238, 0.6315586419753086, tensor(1.1073)]\n",
      "Validation -  [0.503858024691358, 0.338477366255144, 0.7731549949512271, 0.503858024691358, tensor(1.2234)]\n",
      "\n",
      "Epoch  9\n"
     ]
    },
    {
     "name": "stderr",
     "output_type": "stream",
     "text": [
      "81it [00:02, 32.65it/s]"
     ]
    },
    {
     "name": "stdout",
     "output_type": "stream",
     "text": [
      "['acc', 'kappa', 'auc', 'fmeasure', 'loss']\n",
      "Training Loss  1.1533793681933555\n"
     ]
    },
    {
     "name": "stderr",
     "output_type": "stream",
     "text": [
      "\n"
     ]
    },
    {
     "name": "stdout",
     "output_type": "stream",
     "text": [
      "Train -  [0.6685956790123457, 0.5581275720164609, 0.8693852245592645, 0.6685956790123457, tensor(1.0775)]\n",
      "Validation -  [0.5177469135802469, 0.3569958847736625, 0.7760383921086724, 0.5177469135802469, tensor(1.2091)]\n",
      "\n",
      "Epoch  10\n"
     ]
    },
    {
     "name": "stderr",
     "output_type": "stream",
     "text": [
      "81it [00:02, 32.49it/s]"
     ]
    },
    {
     "name": "stdout",
     "output_type": "stream",
     "text": [
      "['acc', 'kappa', 'auc', 'fmeasure', 'loss']\n",
      "Training Loss  1.1329249437944389\n"
     ]
    },
    {
     "name": "stderr",
     "output_type": "stream",
     "text": [
      "\n"
     ]
    },
    {
     "name": "stdout",
     "output_type": "stream",
     "text": [
      "Train -  [0.6867283950617284, 0.5823045267489713, 0.8754556597063455, 0.6867283950617284, tensor(1.0582)]\n",
      "Validation -  [0.5320216049382716, 0.3760288065843621, 0.7820392677056344, 0.5320216049382716, tensor(1.1948)]\n",
      "\n",
      "Epoch  11\n"
     ]
    },
    {
     "name": "stderr",
     "output_type": "stream",
     "text": [
      "81it [00:02, 34.13it/s]"
     ]
    },
    {
     "name": "stdout",
     "output_type": "stream",
     "text": [
      "['acc', 'kappa', 'auc', 'fmeasure', 'loss']\n",
      "Training Loss  1.1267548284412903\n"
     ]
    },
    {
     "name": "stderr",
     "output_type": "stream",
     "text": [
      "\n"
     ]
    },
    {
     "name": "stdout",
     "output_type": "stream",
     "text": [
      "Train -  [0.6751543209876543, 0.5668724279835391, 0.8810152638063302, 0.6751543209876543, tensor(1.0614)]\n",
      "Validation -  [0.5366512345679012, 0.382201646090535, 0.7889843075242595, 0.5366512345679012, tensor(1.1922)]\n",
      "\n",
      "Epoch  12\n"
     ]
    },
    {
     "name": "stderr",
     "output_type": "stream",
     "text": [
      "81it [00:02, 34.41it/s]"
     ]
    },
    {
     "name": "stdout",
     "output_type": "stream",
     "text": [
      "['acc', 'kappa', 'auc', 'fmeasure', 'loss']\n",
      "Training Loss  1.1081876269093267\n"
     ]
    },
    {
     "name": "stderr",
     "output_type": "stream",
     "text": [
      "\n"
     ]
    },
    {
     "name": "stdout",
     "output_type": "stream",
     "text": [
      "Train -  [0.7013888888888888, 0.6018518518518519, 0.8841970426573694, 0.7013888888888888, tensor(1.0381)]\n",
      "Validation -  [0.5439814814814815, 0.3919753086419753, 0.7822332604595337, 0.5439814814814815, tensor(1.1871)]\n",
      "\n",
      "Epoch  13\n"
     ]
    },
    {
     "name": "stderr",
     "output_type": "stream",
     "text": [
      "81it [00:02, 33.78it/s]"
     ]
    },
    {
     "name": "stdout",
     "output_type": "stream",
     "text": [
      "['acc', 'kappa', 'auc', 'fmeasure', 'loss']\n",
      "Training Loss  1.101878903530262\n"
     ]
    },
    {
     "name": "stderr",
     "output_type": "stream",
     "text": [
      "\n"
     ]
    },
    {
     "name": "stdout",
     "output_type": "stream",
     "text": [
      "Train -  [0.7037037037037037, 0.6049382716049383, 0.8878864772265407, 0.7037037037037037, tensor(1.0350)]\n",
      "Validation -  [0.5277777777777778, 0.37037037037037035, 0.7821698531092821, 0.5277777777777778, tensor(1.1989)]\n",
      "\n",
      "Epoch  14\n"
     ]
    },
    {
     "name": "stderr",
     "output_type": "stream",
     "text": [
      "81it [00:02, 34.68it/s]"
     ]
    },
    {
     "name": "stdout",
     "output_type": "stream",
     "text": [
      "['acc', 'kappa', 'auc', 'fmeasure', 'loss']\n",
      "Training Loss  1.109147094650033\n"
     ]
    },
    {
     "name": "stderr",
     "output_type": "stream",
     "text": [
      "\n"
     ]
    },
    {
     "name": "stdout",
     "output_type": "stream",
     "text": [
      "Train -  [0.7218364197530864, 0.6291152263374485, 0.8947746588109028, 0.7218364197530864, tensor(1.0239)]\n",
      "Validation -  [0.5308641975308642, 0.3744855967078189, 0.7843756152199868, 0.5308641975308642, tensor(1.1958)]\n",
      "\n",
      "Epoch  15\n"
     ]
    },
    {
     "name": "stderr",
     "output_type": "stream",
     "text": [
      "81it [00:03, 25.71it/s]"
     ]
    },
    {
     "name": "stdout",
     "output_type": "stream",
     "text": [
      "['acc', 'kappa', 'auc', 'fmeasure', 'loss']\n",
      "Training Loss  1.089791743107784\n"
     ]
    },
    {
     "name": "stderr",
     "output_type": "stream",
     "text": [
      "\n"
     ]
    },
    {
     "name": "stdout",
     "output_type": "stream",
     "text": [
      "Train -  [0.6998456790123457, 0.5997942386831276, 0.8859525034293553, 0.6998456790123457, tensor(1.0370)]\n",
      "Validation -  [0.5347222222222222, 0.37962962962962965, 0.7829242914253417, 0.5347222222222222, tensor(1.1962)]\n",
      "\n",
      "Epoch  16\n"
     ]
    },
    {
     "name": "stderr",
     "output_type": "stream",
     "text": [
      "81it [00:02, 33.01it/s]"
     ]
    },
    {
     "name": "stdout",
     "output_type": "stream",
     "text": [
      "['acc', 'kappa', 'auc', 'fmeasure', 'loss']\n",
      "Training Loss  1.094844509789973\n"
     ]
    },
    {
     "name": "stderr",
     "output_type": "stream",
     "text": [
      "\n"
     ]
    },
    {
     "name": "stdout",
     "output_type": "stream",
     "text": [
      "Train -  [0.7083333333333334, 0.6111111111111112, 0.8928291744462226, 0.7083333333333334, tensor(1.0297)]\n",
      "Validation -  [0.5339506172839507, 0.37860082304526754, 0.7822621361073008, 0.5339506172839507, tensor(1.1959)]\n",
      "\n",
      "Epoch  17\n"
     ]
    },
    {
     "name": "stderr",
     "output_type": "stream",
     "text": [
      "81it [00:02, 33.77it/s]"
     ]
    },
    {
     "name": "stdout",
     "output_type": "stream",
     "text": [
      "['acc', 'kappa', 'auc', 'fmeasure', 'loss']\n",
      "Training Loss  1.0928253877310106\n"
     ]
    },
    {
     "name": "stderr",
     "output_type": "stream",
     "text": [
      "\n"
     ]
    },
    {
     "name": "stdout",
     "output_type": "stream",
     "text": [
      "Train -  [0.7156635802469136, 0.6208847736625515, 0.8965912446654474, 0.7156635802469136, tensor(1.0241)]\n",
      "Validation -  [0.5324074074074074, 0.3765432098765432, 0.7821513965096784, 0.5324074074074074, tensor(1.1976)]\n",
      "\n",
      "Epoch  18\n"
     ]
    },
    {
     "name": "stderr",
     "output_type": "stream",
     "text": [
      "81it [00:02, 34.02it/s]"
     ]
    },
    {
     "name": "stdout",
     "output_type": "stream",
     "text": [
      "['acc', 'kappa', 'auc', 'fmeasure', 'loss']\n",
      "Training Loss  1.0771088622234486\n"
     ]
    },
    {
     "name": "stderr",
     "output_type": "stream",
     "text": [
      "\n"
     ]
    },
    {
     "name": "stdout",
     "output_type": "stream",
     "text": [
      "Train -  [0.7195216049382716, 0.6260288065843622, 0.893530525231164, 0.7195216049382716, tensor(1.0199)]\n",
      "Validation -  [0.5455246913580247, 0.3940329218106996, 0.7865720498018595, 0.5455246913580247, tensor(1.1855)]\n",
      "\n",
      "Epoch  19\n"
     ]
    },
    {
     "name": "stderr",
     "output_type": "stream",
     "text": [
      "81it [00:02, 35.40it/s]"
     ]
    },
    {
     "name": "stdout",
     "output_type": "stream",
     "text": [
      "['acc', 'kappa', 'auc', 'fmeasure', 'loss']\n",
      "Training Loss  1.0739140959433566\n"
     ]
    },
    {
     "name": "stderr",
     "output_type": "stream",
     "text": [
      "\n"
     ]
    },
    {
     "name": "stdout",
     "output_type": "stream",
     "text": [
      "Train -  [0.7006172839506173, 0.6008230452674896, 0.8931653624002945, 0.7006172839506173, tensor(1.0334)]\n",
      "Validation -  [0.5543981481481481, 0.4058641975308642, 0.7870073675570288, 0.5543981481481481, tensor(1.1814)]\n",
      "\n",
      "Epoch  20\n"
     ]
    },
    {
     "name": "stderr",
     "output_type": "stream",
     "text": [
      "81it [00:02, 32.98it/s]"
     ]
    },
    {
     "name": "stdout",
     "output_type": "stream",
     "text": [
      "['acc', 'kappa', 'auc', 'fmeasure', 'loss']\n",
      "Training Loss  1.0840687001193012\n"
     ]
    },
    {
     "name": "stderr",
     "output_type": "stream",
     "text": [
      "\n"
     ]
    },
    {
     "name": "stdout",
     "output_type": "stream",
     "text": [
      "Train -  [0.7052469135802469, 0.6069958847736625, 0.8986105554285424, 0.7052469135802469, tensor(1.0327)]\n",
      "Validation -  [0.5316358024691358, 0.3755144032921811, 0.7832516479957323, 0.5316358024691358, tensor(1.1963)]\n",
      "\n",
      "Epoch  21\n"
     ]
    },
    {
     "name": "stderr",
     "output_type": "stream",
     "text": [
      "81it [00:02, 33.62it/s]"
     ]
    },
    {
     "name": "stdout",
     "output_type": "stream",
     "text": [
      "['acc', 'kappa', 'auc', 'fmeasure', 'loss']\n",
      "Training Loss  1.073515674950164\n"
     ]
    },
    {
     "name": "stderr",
     "output_type": "stream",
     "text": [
      "\n"
     ]
    },
    {
     "name": "stdout",
     "output_type": "stream",
     "text": [
      "Train -  [0.7314814814814815, 0.6419753086419753, 0.9076183683254585, 0.7314814814814816, tensor(1.0075)]\n",
      "Validation -  [0.535108024691358, 0.38014403292181065, 0.788210519547325, 0.535108024691358, tensor(1.1983)]\n",
      "\n",
      "Epoch  22\n"
     ]
    },
    {
     "name": "stderr",
     "output_type": "stream",
     "text": [
      "81it [00:02, 34.72it/s]"
     ]
    },
    {
     "name": "stdout",
     "output_type": "stream",
     "text": [
      "['acc', 'kappa', 'auc', 'fmeasure', 'loss']\n",
      "Training Loss  1.0785833023212574\n"
     ]
    },
    {
     "name": "stderr",
     "output_type": "stream",
     "text": [
      "\n"
     ]
    },
    {
     "name": "stdout",
     "output_type": "stream",
     "text": [
      "Train -  [0.7241512345679012, 0.632201646090535, 0.9042861582647462, 0.7241512345679012, tensor(1.0125)]\n",
      "Validation -  [0.5574845679012346, 0.40997942386831276, 0.7896448751778185, 0.5574845679012346, tensor(1.1763)]\n",
      "\n",
      "Epoch  23\n"
     ]
    },
    {
     "name": "stderr",
     "output_type": "stream",
     "text": [
      "81it [00:02, 34.91it/s]"
     ]
    },
    {
     "name": "stdout",
     "output_type": "stream",
     "text": [
      "['acc', 'kappa', 'auc', 'fmeasure', 'loss']\n",
      "Training Loss  1.0590047556676982\n"
     ]
    },
    {
     "name": "stderr",
     "output_type": "stream",
     "text": [
      "\n"
     ]
    },
    {
     "name": "stdout",
     "output_type": "stream",
     "text": [
      "Train -  [0.7407407407407407, 0.654320987654321, 0.9057609993395316, 0.7407407407407407, tensor(0.9974)]\n",
      "Validation -  [0.5428240740740741, 0.39043209876543206, 0.785153868503277, 0.5428240740740741, tensor(1.1916)]\n",
      "\n",
      "Epoch  24\n"
     ]
    },
    {
     "name": "stderr",
     "output_type": "stream",
     "text": [
      "81it [00:02, 34.38it/s]"
     ]
    },
    {
     "name": "stdout",
     "output_type": "stream",
     "text": [
      "['acc', 'kappa', 'auc', 'fmeasure', 'loss']\n",
      "Training Loss  1.0607956132771057\n"
     ]
    },
    {
     "name": "stderr",
     "output_type": "stream",
     "text": [
      "\n"
     ]
    },
    {
     "name": "stdout",
     "output_type": "stream",
     "text": [
      "Train -  [0.7407407407407407, 0.654320987654321, 0.905075822886501, 0.7407407407407407, tensor(1.0014)]\n",
      "Validation -  [0.5455246913580247, 0.3940329218106996, 0.7862623559988315, 0.5455246913580247, tensor(1.1859)]\n",
      "\n",
      "Epoch  25\n"
     ]
    },
    {
     "name": "stderr",
     "output_type": "stream",
     "text": [
      "81it [00:02, 33.45it/s]"
     ]
    },
    {
     "name": "stdout",
     "output_type": "stream",
     "text": [
      "['acc', 'kappa', 'auc', 'fmeasure', 'loss']\n",
      "Training Loss  1.0700044889508942\n"
     ]
    },
    {
     "name": "stderr",
     "output_type": "stream",
     "text": [
      "\n"
     ]
    },
    {
     "name": "stdout",
     "output_type": "stream",
     "text": [
      "Train -  [0.7353395061728395, 0.647119341563786, 0.9054141938792358, 0.7353395061728394, tensor(1.0034)]\n",
      "Validation -  [0.5455246913580247, 0.3940329218106996, 0.7855959338324952, 0.5455246913580247, tensor(1.1879)]\n",
      "\n",
      "Epoch  26\n"
     ]
    },
    {
     "name": "stderr",
     "output_type": "stream",
     "text": [
      "81it [00:02, 34.07it/s]"
     ]
    },
    {
     "name": "stdout",
     "output_type": "stream",
     "text": [
      "['acc', 'kappa', 'auc', 'fmeasure', 'loss']\n",
      "Training Loss  1.0565000007181993\n"
     ]
    },
    {
     "name": "stderr",
     "output_type": "stream",
     "text": [
      "\n"
     ]
    },
    {
     "name": "stdout",
     "output_type": "stream",
     "text": [
      "Train -  [0.7403549382716049, 0.6538065843621399, 0.9071455419969008, 0.7403549382716048, tensor(0.9953)]\n",
      "Validation -  [0.5439814814814815, 0.3919753086419753, 0.783863791882589, 0.5439814814814815, tensor(1.1905)]\n",
      "\n",
      "Epoch  27\n"
     ]
    },
    {
     "name": "stderr",
     "output_type": "stream",
     "text": [
      "81it [00:02, 33.65it/s]"
     ]
    },
    {
     "name": "stdout",
     "output_type": "stream",
     "text": [
      "['acc', 'kappa', 'auc', 'fmeasure', 'loss']\n",
      "Training Loss  1.0532139517642833\n"
     ]
    },
    {
     "name": "stderr",
     "output_type": "stream",
     "text": [
      "\n"
     ]
    },
    {
     "name": "stdout",
     "output_type": "stream",
     "text": [
      "Train -  [0.7507716049382716, 0.6676954732510287, 0.9107163978750699, 0.7507716049382716, tensor(0.9858)]\n",
      "Validation -  [0.5459104938271605, 0.3945473251028807, 0.7873744157394706, 0.5459104938271605, tensor(1.1868)]\n",
      "\n",
      "Epoch  28\n"
     ]
    },
    {
     "name": "stderr",
     "output_type": "stream",
     "text": [
      "81it [00:02, 31.83it/s]"
     ]
    },
    {
     "name": "stdout",
     "output_type": "stream",
     "text": [
      "['acc', 'kappa', 'auc', 'fmeasure', 'loss']\n",
      "Training Loss  1.0487769665541473\n"
     ]
    },
    {
     "name": "stderr",
     "output_type": "stream",
     "text": [
      "\n"
     ]
    },
    {
     "name": "stdout",
     "output_type": "stream",
     "text": [
      "Train -  [0.7581018518518519, 0.6774691358024691, 0.9111287937242798, 0.7581018518518519, tensor(0.9822)]\n",
      "Validation -  [0.5300925925925926, 0.3734567901234568, 0.780104599305238, 0.5300925925925926, tensor(1.1990)]\n",
      "\n",
      "Epoch  29\n"
     ]
    },
    {
     "name": "stderr",
     "output_type": "stream",
     "text": [
      "81it [00:02, 35.99it/s]"
     ]
    },
    {
     "name": "stdout",
     "output_type": "stream",
     "text": [
      "['acc', 'kappa', 'auc', 'fmeasure', 'loss']\n",
      "Training Loss  1.0503822918291446\n"
     ]
    },
    {
     "name": "stderr",
     "output_type": "stream",
     "text": [
      "\n"
     ]
    },
    {
     "name": "stdout",
     "output_type": "stream",
     "text": [
      "Train -  [0.751929012345679, 0.6692386831275721, 0.9097916825433114, 0.751929012345679, tensor(0.9868)]\n",
      "Validation -  [0.5474537037037037, 0.3966049382716049, 0.7868334190672154, 0.5474537037037037, tensor(1.1873)]\n",
      "\n",
      "Epoch  30\n"
     ]
    },
    {
     "name": "stderr",
     "output_type": "stream",
     "text": [
      "81it [00:02, 34.43it/s]"
     ]
    },
    {
     "name": "stdout",
     "output_type": "stream",
     "text": [
      "['acc', 'kappa', 'auc', 'fmeasure', 'loss']\n",
      "Training Loss  1.0475055030834528\n"
     ]
    },
    {
     "name": "stderr",
     "output_type": "stream",
     "text": [
      "\n"
     ]
    },
    {
     "name": "stdout",
     "output_type": "stream",
     "text": [
      "Train -  [0.7345679012345679, 0.6460905349794239, 0.9082766537113245, 0.7345679012345679, tensor(1.0052)]\n",
      "Validation -  [0.5358796296296297, 0.38117283950617287, 0.781511468494386, 0.5358796296296297, tensor(1.1958)]\n",
      "\n",
      "Epoch  31\n"
     ]
    },
    {
     "name": "stderr",
     "output_type": "stream",
     "text": [
      "81it [00:02, 35.09it/s]"
     ]
    },
    {
     "name": "stdout",
     "output_type": "stream",
     "text": [
      "['acc', 'kappa', 'auc', 'fmeasure', 'loss']\n",
      "Training Loss  1.0407903260654874\n"
     ]
    },
    {
     "name": "stderr",
     "output_type": "stream",
     "text": [
      "\n"
     ]
    },
    {
     "name": "stdout",
     "output_type": "stream",
     "text": [
      "Train -  [0.71875, 0.625, 0.9069683189490931, 0.71875, tensor(1.0138)]\n",
      "Validation -  [0.5219907407407407, 0.36265432098765427, 0.7780599851394604, 0.5219907407407407, tensor(1.2087)]\n",
      "\n",
      "Epoch  32\n"
     ]
    },
    {
     "name": "stderr",
     "output_type": "stream",
     "text": [
      "81it [00:02, 33.98it/s]"
     ]
    },
    {
     "name": "stdout",
     "output_type": "stream",
     "text": [
      "['acc', 'kappa', 'auc', 'fmeasure', 'loss']\n",
      "Training Loss  1.031367783929095\n"
     ]
    },
    {
     "name": "stderr",
     "output_type": "stream",
     "text": [
      "\n"
     ]
    },
    {
     "name": "stdout",
     "output_type": "stream",
     "text": [
      "Train -  [0.7770061728395061, 0.7026748971193415, 0.9157372875704923, 0.7770061728395062, tensor(0.9661)]\n",
      "Validation -  [0.5474537037037037, 0.3966049382716049, 0.7858150315310166, 0.5474537037037037, tensor(1.1855)]\n",
      "\n",
      "Epoch  33\n"
     ]
    },
    {
     "name": "stderr",
     "output_type": "stream",
     "text": [
      "81it [00:02, 34.45it/s]"
     ]
    },
    {
     "name": "stdout",
     "output_type": "stream",
     "text": [
      "['acc', 'kappa', 'auc', 'fmeasure', 'loss']\n",
      "Training Loss  1.0402070710688462\n"
     ]
    },
    {
     "name": "stderr",
     "output_type": "stream",
     "text": [
      "\n"
     ]
    },
    {
     "name": "stdout",
     "output_type": "stream",
     "text": [
      "Train -  [0.7592592592592593, 0.6790123456790124, 0.9141925892584972, 0.7592592592592593, tensor(0.9832)]\n",
      "Validation -  [0.5497685185185185, 0.39969135802469136, 0.7849013306216024, 0.5497685185185185, tensor(1.1832)]\n",
      "\n",
      "Epoch  34\n"
     ]
    },
    {
     "name": "stderr",
     "output_type": "stream",
     "text": [
      "81it [00:02, 34.33it/s]"
     ]
    },
    {
     "name": "stdout",
     "output_type": "stream",
     "text": [
      "['acc', 'kappa', 'auc', 'fmeasure', 'loss']\n",
      "Training Loss  1.0368108212211986\n"
     ]
    },
    {
     "name": "stderr",
     "output_type": "stream",
     "text": [
      "\n"
     ]
    },
    {
     "name": "stdout",
     "output_type": "stream",
     "text": [
      "Train -  [0.7658179012345679, 0.6877572016460906, 0.9134548214194991, 0.7658179012345679, tensor(0.9755)]\n",
      "Validation -  [0.5405092592592593, 0.38734567901234573, 0.7804257044467307, 0.5405092592592593, tensor(1.1947)]\n",
      "\n",
      "Epoch  35\n"
     ]
    },
    {
     "name": "stderr",
     "output_type": "stream",
     "text": [
      "81it [00:02, 33.53it/s]"
     ]
    },
    {
     "name": "stdout",
     "output_type": "stream",
     "text": [
      "['acc', 'kappa', 'auc', 'fmeasure', 'loss']\n",
      "Training Loss  1.0304888435351995\n"
     ]
    },
    {
     "name": "stderr",
     "output_type": "stream",
     "text": [
      "\n"
     ]
    },
    {
     "name": "stdout",
     "output_type": "stream",
     "text": [
      "Train -  [0.7638888888888888, 0.6851851851851851, 0.9147430126886145, 0.763888888888889, tensor(0.9771)]\n",
      "Validation -  [0.5428240740740741, 0.39043209876543206, 0.7809991490118376, 0.5428240740740741, tensor(1.1914)]\n",
      "\n",
      "Epoch  36\n"
     ]
    },
    {
     "name": "stderr",
     "output_type": "stream",
     "text": [
      "81it [00:02, 33.99it/s]"
     ]
    },
    {
     "name": "stdout",
     "output_type": "stream",
     "text": [
      "['acc', 'kappa', 'auc', 'fmeasure', 'loss']\n",
      "Training Loss  1.033054016990426\n"
     ]
    },
    {
     "name": "stderr",
     "output_type": "stream",
     "text": [
      "\n"
     ]
    },
    {
     "name": "stdout",
     "output_type": "stream",
     "text": [
      "Train -  [0.7361111111111112, 0.6481481481481481, 0.904119552723162, 0.7361111111111113, tensor(1.0031)]\n",
      "Validation -  [0.5219907407407407, 0.36265432098765427, 0.7760461319730224, 0.5219907407407407, tensor(1.2126)]\n",
      "\n",
      "Epoch  37\n"
     ]
    },
    {
     "name": "stderr",
     "output_type": "stream",
     "text": [
      "81it [00:02, 33.52it/s]"
     ]
    },
    {
     "name": "stdout",
     "output_type": "stream",
     "text": [
      "['acc', 'kappa', 'auc', 'fmeasure', 'loss']\n",
      "Training Loss  1.021605747717398\n"
     ]
    },
    {
     "name": "stderr",
     "output_type": "stream",
     "text": [
      "\n"
     ]
    },
    {
     "name": "stdout",
     "output_type": "stream",
     "text": [
      "Train -  [0.7746913580246914, 0.6995884773662551, 0.9196423468221306, 0.7746913580246914, tensor(0.9638)]\n",
      "Validation -  [0.5543981481481481, 0.4058641975308642, 0.791432783842656, 0.5543981481481481, tensor(1.1815)]\n",
      "\n",
      "Epoch  38\n"
     ]
    },
    {
     "name": "stderr",
     "output_type": "stream",
     "text": [
      "81it [00:02, 37.79it/s]"
     ]
    },
    {
     "name": "stdout",
     "output_type": "stream",
     "text": [
      "['acc', 'kappa', 'auc', 'fmeasure', 'loss']\n",
      "Training Loss  1.031732655601737\n"
     ]
    },
    {
     "name": "stderr",
     "output_type": "stream",
     "text": [
      "\n"
     ]
    },
    {
     "name": "stdout",
     "output_type": "stream",
     "text": [
      "Train -  [0.7746913580246914, 0.6995884773662551, 0.917093351496215, 0.7746913580246914, tensor(0.9648)]\n",
      "Validation -  [0.5493827160493827, 0.39917695473251025, 0.7901753535728803, 0.5493827160493827, tensor(1.1830)]\n",
      "\n",
      "Epoch  39\n"
     ]
    },
    {
     "name": "stderr",
     "output_type": "stream",
     "text": [
      "81it [00:02, 33.51it/s]"
     ]
    },
    {
     "name": "stdout",
     "output_type": "stream",
     "text": [
      "['acc', 'kappa', 'auc', 'fmeasure', 'loss']\n",
      "Training Loss  1.0320045212168751\n"
     ]
    },
    {
     "name": "stderr",
     "output_type": "stream",
     "text": [
      "\n"
     ]
    },
    {
     "name": "stdout",
     "output_type": "stream",
     "text": [
      "Train -  [0.777391975308642, 0.7031893004115226, 0.9179559494551136, 0.777391975308642, tensor(0.9621)]\n",
      "Validation -  [0.5439814814814815, 0.3919753086419753, 0.782289622548646, 0.5439814814814815, tensor(1.1921)]\n",
      "\n",
      "Epoch  40\n"
     ]
    },
    {
     "name": "stderr",
     "output_type": "stream",
     "text": [
      "81it [00:02, 35.49it/s]"
     ]
    },
    {
     "name": "stdout",
     "output_type": "stream",
     "text": [
      "['acc', 'kappa', 'auc', 'fmeasure', 'loss']\n",
      "Training Loss  1.0290846294826932\n"
     ]
    },
    {
     "name": "stderr",
     "output_type": "stream",
     "text": [
      "\n"
     ]
    },
    {
     "name": "stdout",
     "output_type": "stream",
     "text": [
      "Train -  [0.7658179012345679, 0.6877572016460906, 0.9169535377927653, 0.7658179012345679, tensor(0.9735)]\n",
      "Validation -  [0.5505401234567902, 0.40072016460905346, 0.7832761575661739, 0.5505401234567902, tensor(1.1874)]\n",
      "\n",
      "Epoch  41\n"
     ]
    },
    {
     "name": "stderr",
     "output_type": "stream",
     "text": [
      "81it [00:02, 33.88it/s]\n"
     ]
    },
    {
     "name": "stdout",
     "output_type": "stream",
     "text": [
      "['acc', 'kappa', 'auc', 'fmeasure', 'loss']\n",
      "Training Loss  1.0280897448092332\n",
      "Train -  [0.779320987654321, 0.7057613168724279, 0.9181736579472133, 0.779320987654321, tensor(0.9616)]\n",
      "Validation -  [0.5408950617283951, 0.38786008230452673, 0.7756922812515876, 0.5408950617283951, tensor(1.1945)]\n",
      "\n",
      "Epoch  42\n"
     ]
    },
    {
     "name": "stderr",
     "output_type": "stream",
     "text": [
      "81it [00:02, 33.27it/s]"
     ]
    },
    {
     "name": "stdout",
     "output_type": "stream",
     "text": [
      "['acc', 'kappa', 'auc', 'fmeasure', 'loss']\n",
      "Training Loss  1.0220962637736473\n"
     ]
    },
    {
     "name": "stderr",
     "output_type": "stream",
     "text": [
      "\n"
     ]
    },
    {
     "name": "stdout",
     "output_type": "stream",
     "text": [
      "Train -  [0.7488425925925926, 0.6651234567901234, 0.9098513191904181, 0.7488425925925926, tensor(0.9898)]\n",
      "Validation -  [0.5200617283950617, 0.36008230452674894, 0.7760820528819287, 0.5200617283950617, tensor(1.2154)]\n",
      "\n",
      "Epoch  43\n"
     ]
    },
    {
     "name": "stderr",
     "output_type": "stream",
     "text": [
      "81it [00:02, 35.76it/s]"
     ]
    },
    {
     "name": "stdout",
     "output_type": "stream",
     "text": [
      "['acc', 'kappa', 'auc', 'fmeasure', 'loss']\n",
      "Training Loss  1.0340004923902912\n"
     ]
    },
    {
     "name": "stderr",
     "output_type": "stream",
     "text": [
      "\n"
     ]
    },
    {
     "name": "stdout",
     "output_type": "stream",
     "text": [
      "Train -  [0.7785493827160493, 0.7047325102880658, 0.9236041650790021, 0.7785493827160493, tensor(0.9611)]\n",
      "Validation -  [0.5636574074074074, 0.41820987654320985, 0.791396069101509, 0.5636574074074074, tensor(1.1741)]\n",
      "\n",
      "Epoch  44\n"
     ]
    },
    {
     "name": "stderr",
     "output_type": "stream",
     "text": [
      "81it [00:02, 34.84it/s]"
     ]
    },
    {
     "name": "stdout",
     "output_type": "stream",
     "text": [
      "['acc', 'kappa', 'auc', 'fmeasure', 'loss']\n",
      "Training Loss  1.0282271533836553\n"
     ]
    },
    {
     "name": "stderr",
     "output_type": "stream",
     "text": [
      "\n"
     ]
    },
    {
     "name": "stdout",
     "output_type": "stream",
     "text": [
      "Train -  [0.7800925925925926, 0.7067901234567902, 0.9232900059696184, 0.7800925925925926, tensor(0.9598)]\n",
      "Validation -  [0.5655864197530864, 0.4207818930041153, 0.7962996700833206, 0.5655864197530864, tensor(1.1683)]\n",
      "\n",
      "Epoch  45\n"
     ]
    },
    {
     "name": "stderr",
     "output_type": "stream",
     "text": [
      "81it [00:02, 35.06it/s]"
     ]
    },
    {
     "name": "stdout",
     "output_type": "stream",
     "text": [
      "['acc', 'kappa', 'auc', 'fmeasure', 'loss']\n",
      "Training Loss  1.0251105692651536\n"
     ]
    },
    {
     "name": "stderr",
     "output_type": "stream",
     "text": [
      "\n"
     ]
    },
    {
     "name": "stdout",
     "output_type": "stream",
     "text": [
      "Train -  [0.7719907407407407, 0.6959876543209876, 0.9163086483259666, 0.7719907407407406, tensor(0.9715)]\n",
      "Validation -  [0.5597993827160493, 0.4130658436213992, 0.7879602639333434, 0.5597993827160493, tensor(1.1745)]\n",
      "\n",
      "Epoch  46\n"
     ]
    },
    {
     "name": "stderr",
     "output_type": "stream",
     "text": [
      "81it [00:02, 33.37it/s]"
     ]
    },
    {
     "name": "stdout",
     "output_type": "stream",
     "text": [
      "['acc', 'kappa', 'auc', 'fmeasure', 'loss']\n",
      "Training Loss  1.0215805570284526\n"
     ]
    },
    {
     "name": "stderr",
     "output_type": "stream",
     "text": [
      "\n"
     ]
    },
    {
     "name": "stdout",
     "output_type": "stream",
     "text": [
      "Train -  [0.7758487654320988, 0.7011316872427984, 0.9196722147601992, 0.7758487654320988, tensor(0.9647)]\n",
      "Validation -  [0.5405092592592593, 0.38734567901234573, 0.7810973857516639, 0.5405092592592593, tensor(1.1965)]\n",
      "\n",
      "Epoch  47\n"
     ]
    },
    {
     "name": "stderr",
     "output_type": "stream",
     "text": [
      "81it [00:02, 33.96it/s]"
     ]
    },
    {
     "name": "stdout",
     "output_type": "stream",
     "text": [
      "['acc', 'kappa', 'auc', 'fmeasure', 'loss']\n",
      "Training Loss  1.026301991056513\n"
     ]
    },
    {
     "name": "stderr",
     "output_type": "stream",
     "text": [
      "\n"
     ]
    },
    {
     "name": "stdout",
     "output_type": "stream",
     "text": [
      "Train -  [0.7932098765432098, 0.7242798353909465, 0.9245359256718996, 0.7932098765432098, tensor(0.9490)]\n",
      "Validation -  [0.5532407407407407, 0.404320987654321, 0.7811331082025097, 0.5532407407407407, tensor(1.1821)]\n",
      "\n",
      "Epoch  48\n"
     ]
    },
    {
     "name": "stderr",
     "output_type": "stream",
     "text": [
      "81it [00:02, 33.13it/s]"
     ]
    },
    {
     "name": "stdout",
     "output_type": "stream",
     "text": [
      "['acc', 'kappa', 'auc', 'fmeasure', 'loss']\n",
      "Training Loss  1.0129440551922646\n"
     ]
    },
    {
     "name": "stderr",
     "output_type": "stream",
     "text": [
      "\n"
     ]
    },
    {
     "name": "stdout",
     "output_type": "stream",
     "text": [
      "Train -  [0.7893518518518519, 0.7191358024691358, 0.9219137985507799, 0.7893518518518517, tensor(0.9536)]\n",
      "Validation -  [0.5540123456790124, 0.4053497942386831, 0.783789965484174, 0.5540123456790124, tensor(1.1843)]\n",
      "\n",
      "Epoch  49\n"
     ]
    },
    {
     "name": "stderr",
     "output_type": "stream",
     "text": [
      "81it [00:02, 32.37it/s]\n"
     ]
    },
    {
     "name": "stdout",
     "output_type": "stream",
     "text": [
      "['acc', 'kappa', 'auc', 'fmeasure', 'loss']\n",
      "Training Loss  1.016186135050691\n",
      "Train -  [0.7762345679012346, 0.7016460905349795, 0.9189606433851547, 0.7762345679012346, tensor(0.9661)]\n",
      "Validation -  [0.5459104938271605, 0.3945473251028807, 0.7839553802773966, 0.5459104938271605, tensor(1.1881)]\n",
      "\n",
      "Epoch  50\n"
     ]
    },
    {
     "name": "stderr",
     "output_type": "stream",
     "text": [
      "81it [00:02, 33.69it/s]"
     ]
    },
    {
     "name": "stdout",
     "output_type": "stream",
     "text": [
      "['acc', 'kappa', 'auc', 'fmeasure', 'loss']\n",
      "Training Loss  0.998110763820601\n"
     ]
    },
    {
     "name": "stderr",
     "output_type": "stream",
     "text": [
      "\n"
     ]
    },
    {
     "name": "stdout",
     "output_type": "stream",
     "text": [
      "Train -  [0.7997685185185185, 0.7330246913580247, 0.9276110333155515, 0.7997685185185185, tensor(0.9417)]\n",
      "Validation -  [0.5559413580246914, 0.40792181069958844, 0.790788390521008, 0.5559413580246914, tensor(1.1792)]\n",
      "\n",
      "Epoch  51\n"
     ]
    },
    {
     "name": "stderr",
     "output_type": "stream",
     "text": [
      "81it [00:02, 33.47it/s]"
     ]
    },
    {
     "name": "stdout",
     "output_type": "stream",
     "text": [
      "['acc', 'kappa', 'auc', 'fmeasure', 'loss']\n",
      "Training Loss  1.0214430417543576\n"
     ]
    },
    {
     "name": "stderr",
     "output_type": "stream",
     "text": [
      "\n"
     ]
    },
    {
     "name": "stdout",
     "output_type": "stream",
     "text": [
      "Train -  [0.7746913580246914, 0.6995884773662551, 0.9155475616648885, 0.7746913580246914, tensor(0.9700)]\n",
      "Validation -  [0.5470679012345679, 0.3960905349794238, 0.7798229873177361, 0.5470679012345679, tensor(1.1887)]\n",
      "\n",
      "Epoch  52\n"
     ]
    },
    {
     "name": "stderr",
     "output_type": "stream",
     "text": [
      "81it [00:05, 15.13it/s]"
     ]
    },
    {
     "name": "stdout",
     "output_type": "stream",
     "text": [
      "['acc', 'kappa', 'auc', 'fmeasure', 'loss']\n",
      "Training Loss  1.0201108595471324\n"
     ]
    },
    {
     "name": "stderr",
     "output_type": "stream",
     "text": [
      "\n"
     ]
    },
    {
     "name": "stdout",
     "output_type": "stream",
     "text": [
      "Train -  [0.7577160493827161, 0.676954732510288, 0.9182382560458264, 0.757716049382716, tensor(0.9815)]\n",
      "Validation -  [0.5513117283950617, 0.4017489711934157, 0.7821415728356957, 0.5513117283950617, tensor(1.1842)]\n",
      "\n",
      "Epoch  53\n"
     ]
    },
    {
     "name": "stderr",
     "output_type": "stream",
     "text": [
      "81it [00:04, 17.05it/s]"
     ]
    },
    {
     "name": "stdout",
     "output_type": "stream",
     "text": [
      "['acc', 'kappa', 'auc', 'fmeasure', 'loss']\n",
      "Training Loss  1.017065574357539\n"
     ]
    },
    {
     "name": "stderr",
     "output_type": "stream",
     "text": [
      "\n"
     ]
    },
    {
     "name": "stdout",
     "output_type": "stream",
     "text": [
      "Train -  [0.7750771604938271, 0.7001028806584362, 0.9223820603439516, 0.7750771604938271, tensor(0.9641)]\n",
      "Validation -  [0.5478395061728395, 0.39711934156378603, 0.7813571673525378, 0.5478395061728395, tensor(1.1855)]\n",
      "\n",
      "Epoch  54\n"
     ]
    },
    {
     "name": "stderr",
     "output_type": "stream",
     "text": [
      "81it [00:03, 21.59it/s]"
     ]
    },
    {
     "name": "stdout",
     "output_type": "stream",
     "text": [
      "['acc', 'kappa', 'auc', 'fmeasure', 'loss']\n",
      "Training Loss  1.0101128654715457\n"
     ]
    },
    {
     "name": "stderr",
     "output_type": "stream",
     "text": [
      "\n"
     ]
    },
    {
     "name": "stdout",
     "output_type": "stream",
     "text": [
      "Train -  [0.7916666666666666, 0.7222222222222222, 0.9320938039805924, 0.7916666666666666, tensor(0.9479)]\n",
      "Validation -  [0.5466820987654321, 0.3955761316872428, 0.785549196959305, 0.5466820987654321, tensor(1.1870)]\n",
      "\n",
      "Epoch  55\n"
     ]
    },
    {
     "name": "stderr",
     "output_type": "stream",
     "text": [
      "81it [00:04, 18.47it/s]"
     ]
    },
    {
     "name": "stdout",
     "output_type": "stream",
     "text": [
      "['acc', 'kappa', 'auc', 'fmeasure', 'loss']\n",
      "Training Loss  1.015212203985379\n"
     ]
    },
    {
     "name": "stderr",
     "output_type": "stream",
     "text": [
      "\n"
     ]
    },
    {
     "name": "stdout",
     "output_type": "stream",
     "text": [
      "Train -  [0.7901234567901234, 0.7201646090534979, 0.9294505410760554, 0.7901234567901234, tensor(0.9493)]\n",
      "Validation -  [0.5516975308641975, 0.4022633744855967, 0.7821697538802521, 0.5516975308641975, tensor(1.1839)]\n",
      "\n",
      "Epoch  56\n"
     ]
    },
    {
     "name": "stderr",
     "output_type": "stream",
     "text": [
      "81it [00:05, 15.74it/s]"
     ]
    },
    {
     "name": "stdout",
     "output_type": "stream",
     "text": [
      "['acc', 'kappa', 'auc', 'fmeasure', 'loss']\n",
      "Training Loss  1.0023368692692416\n"
     ]
    },
    {
     "name": "stderr",
     "output_type": "stream",
     "text": [
      "\n"
     ]
    },
    {
     "name": "stdout",
     "output_type": "stream",
     "text": [
      "Train -  [0.8097993827160493, 0.7463991769547325, 0.93027116515521, 0.8097993827160495, tensor(0.9365)]\n",
      "Validation -  [0.5362654320987654, 0.38168724279835387, 0.7753456742493521, 0.5362654320987654, tensor(1.1989)]\n",
      "\n",
      "Epoch  57\n"
     ]
    },
    {
     "name": "stderr",
     "output_type": "stream",
     "text": [
      "81it [00:05, 15.54it/s]"
     ]
    },
    {
     "name": "stdout",
     "output_type": "stream",
     "text": [
      "['acc', 'kappa', 'auc', 'fmeasure', 'loss']\n",
      "Training Loss  1.0013608866267734\n"
     ]
    },
    {
     "name": "stderr",
     "output_type": "stream",
     "text": [
      "\n"
     ]
    },
    {
     "name": "stdout",
     "output_type": "stream",
     "text": [
      "Train -  [0.8013117283950617, 0.7350823045267489, 0.9312197946832292, 0.8013117283950617, tensor(0.9408)]\n",
      "Validation -  [0.5478395061728395, 0.39711934156378603, 0.7848808894413961, 0.5478395061728395, tensor(1.1862)]\n",
      "\n",
      "Epoch  58\n"
     ]
    },
    {
     "name": "stderr",
     "output_type": "stream",
     "text": [
      "81it [00:05, 15.34it/s]"
     ]
    },
    {
     "name": "stdout",
     "output_type": "stream",
     "text": [
      "['acc', 'kappa', 'auc', 'fmeasure', 'loss']\n",
      "Training Loss  0.9982940002723977\n"
     ]
    },
    {
     "name": "stderr",
     "output_type": "stream",
     "text": [
      "\n"
     ]
    },
    {
     "name": "stdout",
     "output_type": "stream",
     "text": [
      "Train -  [0.7881944444444444, 0.7175925925925926, 0.9290400305784181, 0.7881944444444445, tensor(0.9528)]\n",
      "Validation -  [0.5416666666666666, 0.38888888888888884, 0.7797634498996596, 0.5416666666666666, tensor(1.1950)]\n",
      "\n",
      "Epoch  59\n"
     ]
    },
    {
     "name": "stderr",
     "output_type": "stream",
     "text": [
      "81it [00:05, 15.14it/s]"
     ]
    },
    {
     "name": "stdout",
     "output_type": "stream",
     "text": [
      "['acc', 'kappa', 'auc', 'fmeasure', 'loss']\n",
      "Training Loss  0.995386478341656\n"
     ]
    },
    {
     "name": "stderr",
     "output_type": "stream",
     "text": [
      "\n"
     ]
    },
    {
     "name": "stdout",
     "output_type": "stream",
     "text": [
      "Train -  [0.8063271604938271, 0.7417695473251029, 0.9307197796004167, 0.8063271604938271, tensor(0.9354)]\n",
      "Validation -  [0.5597993827160493, 0.4130658436213992, 0.7887658051999188, 0.5597993827160493, tensor(1.1769)]\n",
      "\n",
      "Epoch  60\n"
     ]
    },
    {
     "name": "stderr",
     "output_type": "stream",
     "text": [
      "81it [00:05, 15.71it/s]"
     ]
    },
    {
     "name": "stdout",
     "output_type": "stream",
     "text": [
      "['acc', 'kappa', 'auc', 'fmeasure', 'loss']\n",
      "Training Loss  1.002587651764905\n"
     ]
    },
    {
     "name": "stderr",
     "output_type": "stream",
     "text": [
      "\n"
     ]
    },
    {
     "name": "stdout",
     "output_type": "stream",
     "text": [
      "Train -  [0.7986111111111112, 0.7314814814814814, 0.9271618234961642, 0.7986111111111112, tensor(0.9441)]\n",
      "Validation -  [0.5551697530864198, 0.40689300411522633, 0.7866557991032872, 0.5551697530864198, tensor(1.1792)]\n",
      "\n",
      "Epoch  61\n"
     ]
    },
    {
     "name": "stderr",
     "output_type": "stream",
     "text": [
      "81it [00:04, 18.41it/s]\n"
     ]
    },
    {
     "name": "stdout",
     "output_type": "stream",
     "text": [
      "['acc', 'kappa', 'auc', 'fmeasure', 'loss']\n",
      "Training Loss  0.9997742301152076\n",
      "Train -  [0.7970679012345679, 0.7294238683127572, 0.9279721277561855, 0.7970679012345679, tensor(0.9456)]\n",
      "Validation -  [0.5509259259259259, 0.4012345679012346, 0.7862900408982371, 0.5509259259259259, tensor(1.1841)]\n",
      "\n",
      "Epoch  62\n"
     ]
    },
    {
     "name": "stderr",
     "output_type": "stream",
     "text": [
      "81it [00:04, 19.02it/s]"
     ]
    },
    {
     "name": "stdout",
     "output_type": "stream",
     "text": [
      "['acc', 'kappa', 'auc', 'fmeasure', 'loss']\n",
      "Training Loss  1.006227272528189\n"
     ]
    },
    {
     "name": "stderr",
     "output_type": "stream",
     "text": [
      "\n"
     ]
    },
    {
     "name": "stdout",
     "output_type": "stream",
     "text": [
      "Train -  [0.7955246913580247, 0.727366255144033, 0.9292029646458873, 0.7955246913580247, tensor(0.9444)]\n",
      "Validation -  [0.5451388888888888, 0.3935185185185185, 0.7802366731443378, 0.5451388888888888, tensor(1.1913)]\n",
      "\n",
      "Epoch  63\n"
     ]
    },
    {
     "name": "stderr",
     "output_type": "stream",
     "text": [
      "81it [00:04, 16.94it/s]"
     ]
    },
    {
     "name": "stdout",
     "output_type": "stream",
     "text": [
      "['acc', 'kappa', 'auc', 'fmeasure', 'loss']\n",
      "Training Loss  0.9947381122612658\n"
     ]
    },
    {
     "name": "stderr",
     "output_type": "stream",
     "text": [
      "\n"
     ]
    },
    {
     "name": "stdout",
     "output_type": "stream",
     "text": [
      "Train -  [0.8063271604938271, 0.7417695473251029, 0.9289402061741097, 0.8063271604938271, tensor(0.9360)]\n",
      "Validation -  [0.5451388888888888, 0.3935185185185185, 0.7797971877699029, 0.5451388888888888, tensor(1.1884)]\n",
      "\n",
      "Epoch  64\n"
     ]
    },
    {
     "name": "stderr",
     "output_type": "stream",
     "text": [
      "81it [00:05, 14.63it/s]"
     ]
    },
    {
     "name": "stdout",
     "output_type": "stream",
     "text": [
      "['acc', 'kappa', 'auc', 'fmeasure', 'loss']\n",
      "Training Loss  0.9986816122208113\n"
     ]
    },
    {
     "name": "stderr",
     "output_type": "stream",
     "text": [
      "\n"
     ]
    },
    {
     "name": "stdout",
     "output_type": "stream",
     "text": [
      "Train -  [0.8256172839506173, 0.7674897119341564, 0.9346216635230911, 0.8256172839506173, tensor(0.9210)]\n",
      "Validation -  [0.5555555555555556, 0.40740740740740744, 0.7836386412132297, 0.5555555555555556, tensor(1.1819)]\n",
      "\n",
      "Epoch  65\n"
     ]
    },
    {
     "name": "stderr",
     "output_type": "stream",
     "text": [
      "81it [00:05, 14.79it/s]"
     ]
    },
    {
     "name": "stdout",
     "output_type": "stream",
     "text": [
      "['acc', 'kappa', 'auc', 'fmeasure', 'loss']\n",
      "Training Loss  0.9851020743817459\n"
     ]
    },
    {
     "name": "stderr",
     "output_type": "stream",
     "text": [
      "\n"
     ]
    },
    {
     "name": "stdout",
     "output_type": "stream",
     "text": [
      "Train -  [0.8109567901234568, 0.7479423868312758, 0.9351875666819083, 0.8109567901234568, tensor(0.9302)]\n",
      "Validation -  [0.5547839506172839, 0.4063786008230452, 0.7851791719059595, 0.5547839506172839, tensor(1.1802)]\n",
      "\n",
      "Epoch  66\n"
     ]
    },
    {
     "name": "stderr",
     "output_type": "stream",
     "text": [
      "81it [00:05, 15.21it/s]"
     ]
    },
    {
     "name": "stdout",
     "output_type": "stream",
     "text": [
      "['acc', 'kappa', 'auc', 'fmeasure', 'loss']\n",
      "Training Loss  0.991089826748695\n"
     ]
    },
    {
     "name": "stderr",
     "output_type": "stream",
     "text": [
      "\n"
     ]
    },
    {
     "name": "stdout",
     "output_type": "stream",
     "text": [
      "Train -  [0.8236882716049383, 0.7649176954732511, 0.9364483707387085, 0.8236882716049383, tensor(0.9206)]\n",
      "Validation -  [0.5497685185185185, 0.39969135802469136, 0.7806272386069196, 0.5497685185185185, tensor(1.1844)]\n",
      "\n",
      "Epoch  67\n"
     ]
    },
    {
     "name": "stderr",
     "output_type": "stream",
     "text": [
      "81it [00:05, 14.89it/s]"
     ]
    },
    {
     "name": "stdout",
     "output_type": "stream",
     "text": [
      "['acc', 'kappa', 'auc', 'fmeasure', 'loss']\n",
      "Training Loss  0.9880071804847246\n"
     ]
    },
    {
     "name": "stderr",
     "output_type": "stream",
     "text": [
      "\n"
     ]
    },
    {
     "name": "stdout",
     "output_type": "stream",
     "text": [
      "Train -  [0.7870370370370371, 0.7160493827160495, 0.9234465893791597, 0.7870370370370371, tensor(0.9569)]\n",
      "Validation -  [0.5416666666666666, 0.38888888888888884, 0.7736590784242747, 0.5416666666666666, tensor(1.1928)]\n",
      "\n",
      "Epoch  68\n"
     ]
    },
    {
     "name": "stderr",
     "output_type": "stream",
     "text": [
      "81it [00:05, 15.53it/s]"
     ]
    },
    {
     "name": "stdout",
     "output_type": "stream",
     "text": [
      "['acc', 'kappa', 'auc', 'fmeasure', 'loss']\n",
      "Training Loss  0.9906790153479871\n"
     ]
    },
    {
     "name": "stderr",
     "output_type": "stream",
     "text": [
      "\n"
     ]
    },
    {
     "name": "stdout",
     "output_type": "stream",
     "text": [
      "Train -  [0.8248456790123457, 0.7664609053497943, 0.9373984887021796, 0.8248456790123457, tensor(0.9199)]\n",
      "Validation -  [0.5505401234567902, 0.40072016460905346, 0.7792731592617996, 0.5505401234567902, tensor(1.1865)]\n",
      "\n",
      "Epoch  69\n"
     ]
    },
    {
     "name": "stderr",
     "output_type": "stream",
     "text": [
      "81it [00:04, 17.93it/s]"
     ]
    },
    {
     "name": "stdout",
     "output_type": "stream",
     "text": [
      "['acc', 'kappa', 'auc', 'fmeasure', 'loss']\n",
      "Training Loss  0.9954389179194415\n"
     ]
    },
    {
     "name": "stderr",
     "output_type": "stream",
     "text": [
      "\n"
     ]
    },
    {
     "name": "stdout",
     "output_type": "stream",
     "text": [
      "Train -  [0.8213734567901234, 0.7618312757201646, 0.9342104584222425, 0.8213734567901234, tensor(0.9250)]\n",
      "Validation -  [0.5374228395061729, 0.3832304526748971, 0.7759763739648426, 0.5374228395061729, tensor(1.1963)]\n",
      "\n",
      "Epoch  70\n"
     ]
    },
    {
     "name": "stderr",
     "output_type": "stream",
     "text": [
      "81it [00:04, 20.25it/s]"
     ]
    },
    {
     "name": "stdout",
     "output_type": "stream",
     "text": [
      "['acc', 'kappa', 'auc', 'fmeasure', 'loss']\n",
      "Training Loss  0.9820503850042084\n"
     ]
    },
    {
     "name": "stderr",
     "output_type": "stream",
     "text": [
      "\n"
     ]
    },
    {
     "name": "stdout",
     "output_type": "stream",
     "text": [
      "Train -  [0.8225308641975309, 0.7633744855967078, 0.935486940665803, 0.8225308641975309, tensor(0.9227)]\n",
      "Validation -  [0.5354938271604939, 0.38065843621399176, 0.7764741067799624, 0.5354938271604939, tensor(1.1951)]\n",
      "\n",
      "Epoch  71\n"
     ]
    },
    {
     "name": "stderr",
     "output_type": "stream",
     "text": [
      "81it [00:04, 19.91it/s]"
     ]
    },
    {
     "name": "stdout",
     "output_type": "stream",
     "text": [
      "['acc', 'kappa', 'auc', 'fmeasure', 'loss']\n",
      "Training Loss  0.987765766956188\n"
     ]
    },
    {
     "name": "stderr",
     "output_type": "stream",
     "text": [
      "\n"
     ]
    },
    {
     "name": "stdout",
     "output_type": "stream",
     "text": [
      "Train -  [0.8117283950617284, 0.7489711934156378, 0.9325819115797898, 0.8117283950617284, tensor(0.9321)]\n",
      "Validation -  [0.5451388888888888, 0.3935185185185185, 0.7787680834984505, 0.5451388888888888, tensor(1.1891)]\n",
      "\n",
      "Epoch  72\n"
     ]
    },
    {
     "name": "stderr",
     "output_type": "stream",
     "text": [
      "81it [00:04, 16.33it/s]"
     ]
    },
    {
     "name": "stdout",
     "output_type": "stream",
     "text": [
      "['acc', 'kappa', 'auc', 'fmeasure', 'loss']\n",
      "Training Loss  1.001351390355899\n"
     ]
    },
    {
     "name": "stderr",
     "output_type": "stream",
     "text": [
      "\n"
     ]
    },
    {
     "name": "stdout",
     "output_type": "stream",
     "text": [
      "Train -  [0.8043981481481481, 0.7391975308641976, 0.9326297399723111, 0.8043981481481481, tensor(0.9358)]\n",
      "Validation -  [0.5447530864197531, 0.3930041152263375, 0.7782670761253365, 0.5447530864197531, tensor(1.1958)]\n",
      "\n",
      "Epoch  73\n"
     ]
    },
    {
     "name": "stderr",
     "output_type": "stream",
     "text": [
      "81it [00:05, 14.30it/s]"
     ]
    },
    {
     "name": "stdout",
     "output_type": "stream",
     "text": [
      "['acc', 'kappa', 'auc', 'fmeasure', 'loss']\n",
      "Training Loss  0.9879164217430868\n"
     ]
    },
    {
     "name": "stderr",
     "output_type": "stream",
     "text": [
      "\n"
     ]
    },
    {
     "name": "stdout",
     "output_type": "stream",
     "text": [
      "Train -  [0.8186728395061729, 0.7582304526748971, 0.9342593783340953, 0.8186728395061729, tensor(0.9247)]\n",
      "Validation -  [0.5416666666666666, 0.38888888888888884, 0.7788783269509221, 0.5416666666666666, tensor(1.1927)]\n",
      "\n",
      "Epoch  74\n"
     ]
    },
    {
     "name": "stderr",
     "output_type": "stream",
     "text": [
      "81it [00:05, 15.48it/s]"
     ]
    },
    {
     "name": "stdout",
     "output_type": "stream",
     "text": [
      "['acc', 'kappa', 'auc', 'fmeasure', 'loss']\n",
      "Training Loss  0.9808316988709532\n"
     ]
    },
    {
     "name": "stderr",
     "output_type": "stream",
     "text": [
      "\n"
     ]
    },
    {
     "name": "stdout",
     "output_type": "stream",
     "text": [
      "Train -  [0.8229166666666666, 0.7638888888888888, 0.9364552175417873, 0.8229166666666666, tensor(0.9202)]\n",
      "Validation -  [0.5432098765432098, 0.39094650205761317, 0.778075961013311, 0.5432098765432098, tensor(1.1948)]\n",
      "\n",
      "Epoch  75\n"
     ]
    },
    {
     "name": "stderr",
     "output_type": "stream",
     "text": [
      "81it [00:05, 14.68it/s]"
     ]
    },
    {
     "name": "stdout",
     "output_type": "stream",
     "text": [
      "['acc', 'kappa', 'auc', 'fmeasure', 'loss']\n",
      "Training Loss  0.978363123204973\n"
     ]
    },
    {
     "name": "stderr",
     "output_type": "stream",
     "text": [
      "\n"
     ]
    },
    {
     "name": "stdout",
     "output_type": "stream",
     "text": [
      "Train -  [0.8233024691358025, 0.76440329218107, 0.9358714531575472, 0.8233024691358025, tensor(0.9214)]\n",
      "Validation -  [0.5497685185185185, 0.39969135802469136, 0.7803361998615557, 0.5497685185185185, tensor(1.1850)]\n",
      "\n",
      "Epoch  76\n"
     ]
    },
    {
     "name": "stderr",
     "output_type": "stream",
     "text": [
      "81it [00:04, 17.67it/s]"
     ]
    },
    {
     "name": "stdout",
     "output_type": "stream",
     "text": [
      "['acc', 'kappa', 'auc', 'fmeasure', 'loss']\n",
      "Training Loss  0.9902914144374706\n"
     ]
    },
    {
     "name": "stderr",
     "output_type": "stream",
     "text": [
      "\n"
     ]
    },
    {
     "name": "stdout",
     "output_type": "stream",
     "text": [
      "Train -  [0.8078703703703703, 0.7438271604938271, 0.931499819006249, 0.8078703703703703, tensor(0.9321)]\n",
      "Validation -  [0.5378086419753086, 0.3837448559670782, 0.7754919378397602, 0.5378086419753086, tensor(1.1956)]\n",
      "\n",
      "Epoch  77\n"
     ]
    },
    {
     "name": "stderr",
     "output_type": "stream",
     "text": [
      "81it [00:03, 23.11it/s]"
     ]
    },
    {
     "name": "stdout",
     "output_type": "stream",
     "text": [
      "['acc', 'kappa', 'auc', 'fmeasure', 'loss']\n",
      "Training Loss  0.9785124468214718\n"
     ]
    },
    {
     "name": "stderr",
     "output_type": "stream",
     "text": [
      "\n"
     ]
    },
    {
     "name": "stdout",
     "output_type": "stream",
     "text": [
      "Train -  [0.8321759259259259, 0.7762345679012346, 0.9386719940748363, 0.8321759259259259, tensor(0.9134)]\n",
      "Validation -  [0.5551697530864198, 0.40689300411522633, 0.7825140786147945, 0.5551697530864198, tensor(1.1812)]\n",
      "\n",
      "Epoch  78\n"
     ]
    },
    {
     "name": "stderr",
     "output_type": "stream",
     "text": [
      "81it [00:03, 20.81it/s]"
     ]
    },
    {
     "name": "stdout",
     "output_type": "stream",
     "text": [
      "['acc', 'kappa', 'auc', 'fmeasure', 'loss']\n",
      "Training Loss  0.9922162684393517\n"
     ]
    },
    {
     "name": "stderr",
     "output_type": "stream",
     "text": [
      "\n"
     ]
    },
    {
     "name": "stdout",
     "output_type": "stream",
     "text": [
      "Train -  [0.7939814814814815, 0.7253086419753086, 0.9249930738136971, 0.7939814814814815, tensor(0.9500)]\n",
      "Validation -  [0.5200617283950617, 0.36008230452674894, 0.765203276621958, 0.5200617283950617, tensor(1.2139)]\n",
      "\n",
      "Epoch  79\n"
     ]
    },
    {
     "name": "stderr",
     "output_type": "stream",
     "text": [
      "81it [00:04, 19.41it/s]"
     ]
    },
    {
     "name": "stdout",
     "output_type": "stream",
     "text": [
      "['acc', 'kappa', 'auc', 'fmeasure', 'loss']\n",
      "Training Loss  0.9858619077706042\n"
     ]
    },
    {
     "name": "stderr",
     "output_type": "stream",
     "text": [
      "\n"
     ]
    },
    {
     "name": "stdout",
     "output_type": "stream",
     "text": [
      "Train -  [0.8240740740740741, 0.7654320987654322, 0.9349821625895443, 0.8240740740740741, tensor(0.9197)]\n",
      "Validation -  [0.5543981481481481, 0.4058641975308642, 0.7777728163262714, 0.5543981481481481, tensor(1.1861)]\n",
      "\n",
      "Epoch  80\n"
     ]
    },
    {
     "name": "stderr",
     "output_type": "stream",
     "text": [
      "81it [00:05, 15.07it/s]"
     ]
    },
    {
     "name": "stdout",
     "output_type": "stream",
     "text": [
      "['acc', 'kappa', 'auc', 'fmeasure', 'loss']\n",
      "Training Loss  0.9741256362126197\n"
     ]
    },
    {
     "name": "stderr",
     "output_type": "stream",
     "text": [
      "\n"
     ]
    },
    {
     "name": "stdout",
     "output_type": "stream",
     "text": [
      "Train -  [0.8078703703703703, 0.7438271604938271, 0.9313866979119036, 0.8078703703703703, tensor(0.9349)]\n",
      "Validation -  [0.5393518518518519, 0.3858024691358025, 0.7749250423906415, 0.5393518518518519, tensor(1.1988)]\n",
      "\n",
      "Epoch  81\n"
     ]
    },
    {
     "name": "stderr",
     "output_type": "stream",
     "text": [
      "81it [00:05, 14.36it/s]"
     ]
    },
    {
     "name": "stdout",
     "output_type": "stream",
     "text": [
      "['acc', 'kappa', 'auc', 'fmeasure', 'loss']\n",
      "Training Loss  0.9838501972916686\n"
     ]
    },
    {
     "name": "stderr",
     "output_type": "stream",
     "text": [
      "\n"
     ]
    },
    {
     "name": "stdout",
     "output_type": "stream",
     "text": [
      "Train -  [0.8344907407407407, 0.779320987654321, 0.9380652085556063, 0.8344907407407407, tensor(0.9104)]\n",
      "Validation -  [0.5505401234567902, 0.40072016460905346, 0.7775075771287405, 0.5505401234567902, tensor(1.1851)]\n",
      "\n",
      "Epoch  82\n"
     ]
    },
    {
     "name": "stderr",
     "output_type": "stream",
     "text": [
      "81it [00:05, 14.85it/s]"
     ]
    },
    {
     "name": "stdout",
     "output_type": "stream",
     "text": [
      "['acc', 'kappa', 'auc', 'fmeasure', 'loss']\n",
      "Training Loss  0.9907599908334238\n"
     ]
    },
    {
     "name": "stderr",
     "output_type": "stream",
     "text": [
      "\n"
     ]
    },
    {
     "name": "stdout",
     "output_type": "stream",
     "text": [
      "Train -  [0.7951388888888888, 0.7268518518518519, 0.924190807105116, 0.7951388888888888, tensor(0.9477)]\n",
      "Validation -  [0.5574845679012346, 0.40997942386831276, 0.7784256441154804, 0.5574845679012346, tensor(1.1812)]\n",
      "\n",
      "Epoch  83\n"
     ]
    },
    {
     "name": "stderr",
     "output_type": "stream",
     "text": [
      "81it [00:05, 14.17it/s]"
     ]
    },
    {
     "name": "stdout",
     "output_type": "stream",
     "text": [
      "['acc', 'kappa', 'auc', 'fmeasure', 'loss']\n",
      "Training Loss  0.9876777956515183\n"
     ]
    },
    {
     "name": "stderr",
     "output_type": "stream",
     "text": [
      "\n"
     ]
    },
    {
     "name": "stdout",
     "output_type": "stream",
     "text": [
      "Train -  [0.8229166666666666, 0.7638888888888888, 0.9361331201099934, 0.8229166666666666, tensor(0.9191)]\n",
      "Validation -  [0.5362654320987654, 0.38168724279835387, 0.7757413996215008, 0.5362654320987654, tensor(1.2009)]\n",
      "\n",
      "Epoch  84\n"
     ]
    },
    {
     "name": "stderr",
     "output_type": "stream",
     "text": [
      "81it [00:04, 18.37it/s]"
     ]
    },
    {
     "name": "stdout",
     "output_type": "stream",
     "text": [
      "['acc', 'kappa', 'auc', 'fmeasure', 'loss']\n",
      "Training Loss  0.9814083458464823\n"
     ]
    },
    {
     "name": "stderr",
     "output_type": "stream",
     "text": [
      "\n"
     ]
    },
    {
     "name": "stdout",
     "output_type": "stream",
     "text": [
      "Train -  [0.8333333333333334, 0.7777777777777778, 0.939875642210283, 0.8333333333333334, tensor(0.9115)]\n",
      "Validation -  [0.5486111111111112, 0.39814814814814814, 0.7783743427069045, 0.5486111111111112, tensor(1.1908)]\n",
      "\n",
      "Epoch  85\n"
     ]
    },
    {
     "name": "stderr",
     "output_type": "stream",
     "text": [
      "81it [00:03, 21.56it/s]"
     ]
    },
    {
     "name": "stdout",
     "output_type": "stream",
     "text": [
      "['acc', 'kappa', 'auc', 'fmeasure', 'loss']\n",
      "Training Loss  0.9769225746025274\n"
     ]
    },
    {
     "name": "stderr",
     "output_type": "stream",
     "text": [
      "\n"
     ]
    },
    {
     "name": "stdout",
     "output_type": "stream",
     "text": [
      "Train -  [0.8263888888888888, 0.7685185185185185, 0.9384758182822741, 0.8263888888888888, tensor(0.9168)]\n",
      "Validation -  [0.5335648148148148, 0.37808641975308643, 0.7732822065678504, 0.5335648148148148, tensor(1.1988)]\n",
      "\n",
      "Epoch  86\n"
     ]
    },
    {
     "name": "stderr",
     "output_type": "stream",
     "text": [
      "81it [00:04, 19.78it/s]"
     ]
    },
    {
     "name": "stdout",
     "output_type": "stream",
     "text": [
      "['acc', 'kappa', 'auc', 'fmeasure', 'loss']\n",
      "Training Loss  0.9892615506678452\n"
     ]
    },
    {
     "name": "stderr",
     "output_type": "stream",
     "text": [
      "\n"
     ]
    },
    {
     "name": "stdout",
     "output_type": "stream",
     "text": [
      "Train -  [0.8240740740740741, 0.7654320987654322, 0.9365075112406646, 0.8240740740740741, tensor(0.9185)]\n",
      "Validation -  [0.5520833333333334, 0.4027777777777778, 0.7777705340585785, 0.5520833333333334, tensor(1.1838)]\n",
      "\n",
      "Epoch  87\n"
     ]
    },
    {
     "name": "stderr",
     "output_type": "stream",
     "text": [
      "81it [00:04, 17.56it/s]"
     ]
    },
    {
     "name": "stdout",
     "output_type": "stream",
     "text": [
      "['acc', 'kappa', 'auc', 'fmeasure', 'loss']\n",
      "Training Loss  0.97827790475186\n"
     ]
    },
    {
     "name": "stderr",
     "output_type": "stream",
     "text": [
      "\n"
     ]
    },
    {
     "name": "stdout",
     "output_type": "stream",
     "text": [
      "Train -  [0.8198302469135802, 0.7597736625514403, 0.9364592859320225, 0.8198302469135802, tensor(0.9230)]\n",
      "Validation -  [0.5474537037037037, 0.3966049382716049, 0.780857053040695, 0.5474537037037037, tensor(1.1859)]\n",
      "\n",
      "Epoch  88\n"
     ]
    },
    {
     "name": "stderr",
     "output_type": "stream",
     "text": [
      "81it [00:05, 14.22it/s]"
     ]
    },
    {
     "name": "stdout",
     "output_type": "stream",
     "text": [
      "['acc', 'kappa', 'auc', 'fmeasure', 'loss']\n",
      "Training Loss  0.9811789415500782\n"
     ]
    },
    {
     "name": "stderr",
     "output_type": "stream",
     "text": [
      "\n"
     ]
    },
    {
     "name": "stdout",
     "output_type": "stream",
     "text": [
      "Train -  [0.8317901234567902, 0.7757201646090535, 0.9404941367550679, 0.8317901234567903, tensor(0.9109)]\n",
      "Validation -  [0.5412808641975309, 0.38837448559670784, 0.7719905422826805, 0.5412808641975309, tensor(1.1938)]\n",
      "\n",
      "Epoch  89\n"
     ]
    },
    {
     "name": "stderr",
     "output_type": "stream",
     "text": [
      "81it [00:05, 14.04it/s]"
     ]
    },
    {
     "name": "stdout",
     "output_type": "stream",
     "text": [
      "['acc', 'kappa', 'auc', 'fmeasure', 'loss']\n",
      "Training Loss  0.9831579945705555\n"
     ]
    },
    {
     "name": "stderr",
     "output_type": "stream",
     "text": [
      "\n"
     ]
    },
    {
     "name": "stdout",
     "output_type": "stream",
     "text": [
      "Train -  [0.8032407407407407, 0.7376543209876543, 0.9299363664075598, 0.8032407407407408, tensor(0.9391)]\n",
      "Validation -  [0.5393518518518519, 0.3858024691358025, 0.7727969766105267, 0.5393518518518519, tensor(1.1954)]\n",
      "\n",
      "Epoch  90\n"
     ]
    },
    {
     "name": "stderr",
     "output_type": "stream",
     "text": [
      "81it [00:05, 14.54it/s]"
     ]
    },
    {
     "name": "stdout",
     "output_type": "stream",
     "text": [
      "['acc', 'kappa', 'auc', 'fmeasure', 'loss']\n",
      "Training Loss  0.978038536913601\n"
     ]
    },
    {
     "name": "stderr",
     "output_type": "stream",
     "text": [
      "\n"
     ]
    },
    {
     "name": "stdout",
     "output_type": "stream",
     "text": [
      "Train -  [0.8252314814814815, 0.7669753086419753, 0.9368886499453842, 0.8252314814814816, tensor(0.9187)]\n",
      "Validation -  [0.5397376543209876, 0.3863168724279835, 0.7735465527041101, 0.5397376543209876, tensor(1.1983)]\n",
      "\n",
      "Epoch  91\n"
     ]
    },
    {
     "name": "stderr",
     "output_type": "stream",
     "text": [
      "81it [00:05, 14.94it/s]"
     ]
    },
    {
     "name": "stdout",
     "output_type": "stream",
     "text": [
      "['acc', 'kappa', 'auc', 'fmeasure', 'loss']\n",
      "Training Loss  0.9833090665899678\n"
     ]
    },
    {
     "name": "stderr",
     "output_type": "stream",
     "text": [
      "\n"
     ]
    },
    {
     "name": "stdout",
     "output_type": "stream",
     "text": [
      "Train -  [0.8368055555555556, 0.7824074074074074, 0.9411302940672154, 0.8368055555555556, tensor(0.9076)]\n",
      "Validation -  [0.5466820987654321, 0.3955761316872428, 0.7778610309340549, 0.5466820987654321, tensor(1.1910)]\n",
      "\n",
      "Epoch  92\n"
     ]
    },
    {
     "name": "stderr",
     "output_type": "stream",
     "text": [
      "81it [00:04, 16.99it/s]"
     ]
    },
    {
     "name": "stdout",
     "output_type": "stream",
     "text": [
      "['acc', 'kappa', 'auc', 'fmeasure', 'loss']\n",
      "Training Loss  0.9681276340543488\n"
     ]
    },
    {
     "name": "stderr",
     "output_type": "stream",
     "text": [
      "\n"
     ]
    },
    {
     "name": "stdout",
     "output_type": "stream",
     "text": [
      "Train -  [0.8001543209876543, 0.7335390946502058, 0.9284676775326424, 0.8001543209876543, tensor(0.9465)]\n",
      "Validation -  [0.5385802469135802, 0.3847736625514403, 0.7719377524386527, 0.5385802469135802, tensor(1.1971)]\n",
      "\n",
      "Epoch  93\n"
     ]
    },
    {
     "name": "stderr",
     "output_type": "stream",
     "text": [
      "81it [00:03, 21.57it/s]"
     ]
    },
    {
     "name": "stdout",
     "output_type": "stream",
     "text": [
      "['acc', 'kappa', 'auc', 'fmeasure', 'loss']\n",
      "Training Loss  0.9814517115369256\n"
     ]
    },
    {
     "name": "stderr",
     "output_type": "stream",
     "text": [
      "\n"
     ]
    },
    {
     "name": "stdout",
     "output_type": "stream",
     "text": [
      "Train -  [0.8240740740740741, 0.7654320987654322, 0.9402215546093075, 0.8240740740740741, tensor(0.9174)]\n",
      "Validation -  [0.5316358024691358, 0.3755144032921811, 0.7736900378816745, 0.5316358024691358, tensor(1.2024)]\n",
      "\n",
      "Epoch  94\n"
     ]
    },
    {
     "name": "stderr",
     "output_type": "stream",
     "text": [
      "81it [00:04, 19.49it/s]"
     ]
    },
    {
     "name": "stdout",
     "output_type": "stream",
     "text": [
      "['acc', 'kappa', 'auc', 'fmeasure', 'loss']\n",
      "Training Loss  0.9717024947390144\n"
     ]
    },
    {
     "name": "stderr",
     "output_type": "stream",
     "text": [
      "\n"
     ]
    },
    {
     "name": "stdout",
     "output_type": "stream",
     "text": [
      "Train -  [0.8352623456790124, 0.7803497942386831, 0.9429876630531424, 0.8352623456790124, tensor(0.9056)]\n",
      "Validation -  [0.5489969135802469, 0.39866255144032925, 0.7776741826703246, 0.5489969135802469, tensor(1.1870)]\n",
      "\n",
      "Epoch  95\n"
     ]
    },
    {
     "name": "stderr",
     "output_type": "stream",
     "text": [
      "81it [00:04, 16.23it/s]"
     ]
    },
    {
     "name": "stdout",
     "output_type": "stream",
     "text": [
      "['acc', 'kappa', 'auc', 'fmeasure', 'loss']\n",
      "Training Loss  0.9628557371504513\n"
     ]
    },
    {
     "name": "stderr",
     "output_type": "stream",
     "text": [
      "\n"
     ]
    },
    {
     "name": "stdout",
     "output_type": "stream",
     "text": [
      "Train -  [0.8445216049382716, 0.7926954732510288, 0.9445389104811258, 0.8445216049382716, tensor(0.8982)]\n",
      "Validation -  [0.5462962962962963, 0.3950617283950617, 0.7732894502870497, 0.5462962962962963, tensor(1.1880)]\n",
      "\n",
      "Epoch  96\n"
     ]
    },
    {
     "name": "stderr",
     "output_type": "stream",
     "text": [
      "81it [00:05, 14.98it/s]"
     ]
    },
    {
     "name": "stdout",
     "output_type": "stream",
     "text": [
      "['acc', 'kappa', 'auc', 'fmeasure', 'loss']\n",
      "Training Loss  0.9629482052944325\n"
     ]
    },
    {
     "name": "stderr",
     "output_type": "stream",
     "text": [
      "\n"
     ]
    },
    {
     "name": "stdout",
     "output_type": "stream",
     "text": [
      "Train -  [0.8383487654320988, 0.7844650205761317, 0.9427973417733577, 0.8383487654320989, tensor(0.9041)]\n",
      "Validation -  [0.5474537037037037, 0.3966049382716049, 0.7725947478471269, 0.5474537037037037, tensor(1.1896)]\n",
      "\n",
      "Epoch  97\n"
     ]
    },
    {
     "name": "stderr",
     "output_type": "stream",
     "text": [
      "81it [00:05, 15.03it/s]"
     ]
    },
    {
     "name": "stdout",
     "output_type": "stream",
     "text": [
      "['acc', 'kappa', 'auc', 'fmeasure', 'loss']\n",
      "Training Loss  0.968465859507337\n"
     ]
    },
    {
     "name": "stderr",
     "output_type": "stream",
     "text": [
      "\n"
     ]
    },
    {
     "name": "stdout",
     "output_type": "stream",
     "text": [
      "Train -  [0.8329475308641975, 0.7772633744855967, 0.9405872135853274, 0.8329475308641975, tensor(0.9101)]\n",
      "Validation -  [0.5424382716049383, 0.38991769547325106, 0.7675913224610069, 0.5424382716049383, tensor(1.1953)]\n",
      "\n",
      "Epoch  98\n"
     ]
    },
    {
     "name": "stderr",
     "output_type": "stream",
     "text": [
      "81it [00:05, 15.29it/s]"
     ]
    },
    {
     "name": "stdout",
     "output_type": "stream",
     "text": [
      "['acc', 'kappa', 'auc', 'fmeasure', 'loss']\n",
      "Training Loss  0.9782493165981623\n"
     ]
    },
    {
     "name": "stderr",
     "output_type": "stream",
     "text": [
      "\n"
     ]
    },
    {
     "name": "stdout",
     "output_type": "stream",
     "text": [
      "Train -  [0.8356481481481481, 0.7808641975308642, 0.9408144480643195, 0.8356481481481481, tensor(0.9050)]\n",
      "Validation -  [0.5416666666666666, 0.38888888888888884, 0.7686359064611593, 0.5416666666666666, tensor(1.1921)]\n",
      "\n",
      "Epoch  99\n"
     ]
    },
    {
     "name": "stderr",
     "output_type": "stream",
     "text": [
      "81it [00:05, 15.33it/s]"
     ]
    },
    {
     "name": "stdout",
     "output_type": "stream",
     "text": [
      "['acc', 'kappa', 'auc', 'fmeasure', 'loss']\n",
      "Training Loss  0.9705874809512386\n"
     ]
    },
    {
     "name": "stderr",
     "output_type": "stream",
     "text": [
      "\n"
     ]
    },
    {
     "name": "stdout",
     "output_type": "stream",
     "text": [
      "Train -  [0.8341049382716049, 0.7788065843621399, 0.9420521317571, 0.8341049382716049, tensor(0.9109)]\n",
      "Validation -  [0.5439814814814815, 0.3919753086419753, 0.7754929301300614, 0.5439814814814815, tensor(1.1912)]\n",
      "\n",
      "Epoch  100\n"
     ]
    },
    {
     "name": "stderr",
     "output_type": "stream",
     "text": [
      "81it [00:04, 18.19it/s]"
     ]
    },
    {
     "name": "stdout",
     "output_type": "stream",
     "text": [
      "['acc', 'kappa', 'auc', 'fmeasure', 'loss']\n",
      "Training Loss  0.9690765377915935\n"
     ]
    },
    {
     "name": "stderr",
     "output_type": "stream",
     "text": [
      "\n"
     ]
    },
    {
     "name": "stdout",
     "output_type": "stream",
     "text": [
      "Train -  [0.84375, 0.7916666666666666, 0.9440072413377026, 0.84375, tensor(0.9009)]\n",
      "Validation -  [0.5428240740740741, 0.39043209876543206, 0.7750460025783672, 0.5428240740740741, tensor(1.1924)]\n",
      "\n",
      "Epoch  101\n"
     ]
    },
    {
     "name": "stderr",
     "output_type": "stream",
     "text": [
      "81it [00:03, 21.77it/s]"
     ]
    },
    {
     "name": "stdout",
     "output_type": "stream",
     "text": [
      "['acc', 'kappa', 'auc', 'fmeasure', 'loss']\n",
      "Training Loss  0.9641165063704973\n"
     ]
    },
    {
     "name": "stderr",
     "output_type": "stream",
     "text": [
      "\n"
     ]
    },
    {
     "name": "stdout",
     "output_type": "stream",
     "text": [
      "Train -  [0.8356481481481481, 0.7808641975308642, 0.9414429647411471, 0.8356481481481481, tensor(0.9072)]\n",
      "Validation -  [0.5493827160493827, 0.39917695473251025, 0.7748509183051364, 0.5493827160493827, tensor(1.1901)]\n",
      "\n",
      "Epoch  102\n"
     ]
    },
    {
     "name": "stderr",
     "output_type": "stream",
     "text": [
      "81it [00:04, 19.26it/s]"
     ]
    },
    {
     "name": "stdout",
     "output_type": "stream",
     "text": [
      "['acc', 'kappa', 'auc', 'fmeasure', 'loss']\n",
      "Training Loss  0.9705039292205999\n"
     ]
    },
    {
     "name": "stderr",
     "output_type": "stream",
     "text": [
      "\n"
     ]
    },
    {
     "name": "stdout",
     "output_type": "stream",
     "text": [
      "Train -  [0.8422067901234568, 0.7896090534979424, 0.9428010132474725, 0.8422067901234568, tensor(0.9008)]\n",
      "Validation -  [0.5470679012345679, 0.3960905349794238, 0.77448793851293, 0.5470679012345679, tensor(1.1874)]\n",
      "\n",
      "Epoch  103\n"
     ]
    },
    {
     "name": "stderr",
     "output_type": "stream",
     "text": [
      "81it [00:05, 15.43it/s]"
     ]
    },
    {
     "name": "stdout",
     "output_type": "stream",
     "text": [
      "['acc', 'kappa', 'auc', 'fmeasure', 'loss']\n",
      "Training Loss  0.9620011897734654\n"
     ]
    },
    {
     "name": "stderr",
     "output_type": "stream",
     "text": [
      "\n"
     ]
    },
    {
     "name": "stdout",
     "output_type": "stream",
     "text": [
      "Train -  [0.8279320987654321, 0.7705761316872428, 0.940238225086369, 0.827932098765432, tensor(0.9132)]\n",
      "Validation -  [0.533179012345679, 0.3775720164609053, 0.7711355849591017, 0.533179012345679, tensor(1.2024)]\n",
      "\n",
      "Epoch  104\n"
     ]
    },
    {
     "name": "stderr",
     "output_type": "stream",
     "text": [
      "81it [00:05, 15.53it/s]"
     ]
    },
    {
     "name": "stdout",
     "output_type": "stream",
     "text": [
      "['acc', 'kappa', 'auc', 'fmeasure', 'loss']\n",
      "Training Loss  0.9613330040448977\n"
     ]
    },
    {
     "name": "stderr",
     "output_type": "stream",
     "text": [
      "\n"
     ]
    },
    {
     "name": "stdout",
     "output_type": "stream",
     "text": [
      "Train -  [0.8506944444444444, 0.8009259259259259, 0.9428605506655489, 0.8506944444444444, tensor(0.8924)]\n",
      "Validation -  [0.5405092592592593, 0.38734567901234573, 0.7714282113689478, 0.5405092592592593, tensor(1.1953)]\n",
      "\n",
      "Epoch  105\n"
     ]
    },
    {
     "name": "stderr",
     "output_type": "stream",
     "text": [
      "81it [00:05, 15.39it/s]"
     ]
    },
    {
     "name": "stdout",
     "output_type": "stream",
     "text": [
      "['acc', 'kappa', 'auc', 'fmeasure', 'loss']\n",
      "Training Loss  0.9504524410506825\n"
     ]
    },
    {
     "name": "stderr",
     "output_type": "stream",
     "text": [
      "\n"
     ]
    },
    {
     "name": "stdout",
     "output_type": "stream",
     "text": [
      "Train -  [0.8487654320987654, 0.7983539094650206, 0.9427821597317482, 0.8487654320987654, tensor(0.8946)]\n",
      "Validation -  [0.5389660493827161, 0.3852880658436214, 0.7743684667606565, 0.5389660493827161, tensor(1.1971)]\n",
      "\n",
      "Epoch  106\n"
     ]
    },
    {
     "name": "stderr",
     "output_type": "stream",
     "text": [
      "81it [00:05, 14.60it/s]"
     ]
    },
    {
     "name": "stdout",
     "output_type": "stream",
     "text": [
      "['acc', 'kappa', 'auc', 'fmeasure', 'loss']\n",
      "Training Loss  0.9538892573780484\n"
     ]
    },
    {
     "name": "stderr",
     "output_type": "stream",
     "text": [
      "\n"
     ]
    },
    {
     "name": "stdout",
     "output_type": "stream",
     "text": [
      "Train -  [0.8348765432098766, 0.7798353909465021, 0.941917477963217, 0.8348765432098766, tensor(0.9055)]\n",
      "Validation -  [0.5432098765432098, 0.39094650205761317, 0.7740891370408474, 0.5432098765432098, tensor(1.1939)]\n",
      "\n",
      "Epoch  107\n"
     ]
    },
    {
     "name": "stderr",
     "output_type": "stream",
     "text": [
      "81it [00:05, 15.35it/s]"
     ]
    },
    {
     "name": "stdout",
     "output_type": "stream",
     "text": [
      "['acc', 'kappa', 'auc', 'fmeasure', 'loss']\n",
      "Training Loss  0.967824442151152\n"
     ]
    },
    {
     "name": "stderr",
     "output_type": "stream",
     "text": [
      "\n"
     ]
    },
    {
     "name": "stdout",
     "output_type": "stream",
     "text": [
      "Train -  [0.8248456790123457, 0.7664609053497943, 0.9359975732548391, 0.8248456790123457, tensor(0.9162)]\n",
      "Validation -  [0.5385802469135802, 0.3847736625514403, 0.7702389514428695, 0.5385802469135802, tensor(1.1982)]\n",
      "\n",
      "Epoch  108\n"
     ]
    },
    {
     "name": "stderr",
     "output_type": "stream",
     "text": [
      "81it [00:04, 16.76it/s]\n"
     ]
    },
    {
     "name": "stdout",
     "output_type": "stream",
     "text": [
      "['acc', 'kappa', 'auc', 'fmeasure', 'loss']\n",
      "Training Loss  0.9739454771265571\n",
      "Train -  [0.8179012345679012, 0.757201646090535, 0.9377033202827312, 0.8179012345679012, tensor(0.9243)]\n",
      "Validation -  [0.5447530864197531, 0.3930041152263375, 0.7723317909172891, 0.5447530864197531, tensor(1.1891)]\n",
      "\n",
      "Epoch  109\n"
     ]
    },
    {
     "name": "stderr",
     "output_type": "stream",
     "text": [
      "81it [00:04, 17.97it/s]"
     ]
    },
    {
     "name": "stdout",
     "output_type": "stream",
     "text": [
      "['acc', 'kappa', 'auc', 'fmeasure', 'loss']\n",
      "Training Loss  0.9768243321666011\n"
     ]
    },
    {
     "name": "stderr",
     "output_type": "stream",
     "text": [
      "\n"
     ]
    },
    {
     "name": "stdout",
     "output_type": "stream",
     "text": [
      "Train -  [0.8271604938271605, 0.7695473251028806, 0.937987909141137, 0.8271604938271605, tensor(0.9156)]\n",
      "Validation -  [0.5327932098765432, 0.3770576131687243, 0.7688750484237666, 0.5327932098765432, tensor(1.2034)]\n",
      "\n",
      "Epoch  110\n"
     ]
    },
    {
     "name": "stderr",
     "output_type": "stream",
     "text": [
      "81it [00:03, 20.39it/s]"
     ]
    },
    {
     "name": "stdout",
     "output_type": "stream",
     "text": [
      "['acc', 'kappa', 'auc', 'fmeasure', 'loss']\n",
      "Training Loss  0.965447684864939\n"
     ]
    },
    {
     "name": "stderr",
     "output_type": "stream",
     "text": [
      "\n"
     ]
    },
    {
     "name": "stdout",
     "output_type": "stream",
     "text": [
      "Train -  [0.8356481481481481, 0.7808641975308642, 0.9422949451938221, 0.8356481481481481, tensor(0.9068)]\n",
      "Validation -  [0.5424382716049383, 0.38991769547325106, 0.7689485771350912, 0.5424382716049383, tensor(1.1944)]\n",
      "\n",
      "Epoch  111\n"
     ]
    },
    {
     "name": "stderr",
     "output_type": "stream",
     "text": [
      "81it [00:03, 20.62it/s]"
     ]
    },
    {
     "name": "stdout",
     "output_type": "stream",
     "text": [
      "['acc', 'kappa', 'auc', 'fmeasure', 'loss']\n",
      "Training Loss  0.9650940777342997\n"
     ]
    },
    {
     "name": "stderr",
     "output_type": "stream",
     "text": [
      "\n"
     ]
    },
    {
     "name": "stdout",
     "output_type": "stream",
     "text": [
      "Train -  [0.8221450617283951, 0.7628600823045267, 0.9394475681743129, 0.8221450617283951, tensor(0.9188)]\n",
      "Validation -  [0.5505401234567902, 0.40072016460905346, 0.7719099683102169, 0.5505401234567902, tensor(1.1878)]\n",
      "\n",
      "Epoch  112\n"
     ]
    },
    {
     "name": "stderr",
     "output_type": "stream",
     "text": [
      "81it [00:04, 17.90it/s]"
     ]
    },
    {
     "name": "stdout",
     "output_type": "stream",
     "text": [
      "['acc', 'kappa', 'auc', 'fmeasure', 'loss']\n",
      "Training Loss  0.9587482331711569\n"
     ]
    },
    {
     "name": "stderr",
     "output_type": "stream",
     "text": [
      "\n"
     ]
    },
    {
     "name": "stdout",
     "output_type": "stream",
     "text": [
      "Train -  [0.839891975308642, 0.786522633744856, 0.9401573534268152, 0.839891975308642, tensor(0.9027)]\n",
      "Validation -  [0.5401234567901234, 0.3868312757201646, 0.7736633452725702, 0.5401234567901234, tensor(1.1994)]\n",
      "\n",
      "Epoch  113\n"
     ]
    },
    {
     "name": "stderr",
     "output_type": "stream",
     "text": [
      "81it [00:05, 14.78it/s]"
     ]
    },
    {
     "name": "stdout",
     "output_type": "stream",
     "text": [
      "['acc', 'kappa', 'auc', 'fmeasure', 'loss']\n",
      "Training Loss  0.9553013495457026\n"
     ]
    },
    {
     "name": "stderr",
     "output_type": "stream",
     "text": [
      "\n"
     ]
    },
    {
     "name": "stdout",
     "output_type": "stream",
     "text": [
      "Train -  [0.8514660493827161, 0.801954732510288, 0.9454742433191078, 0.8514660493827161, tensor(0.8913)]\n",
      "Validation -  [0.5470679012345679, 0.3960905349794238, 0.77495491032871, 0.5470679012345679, tensor(1.1917)]\n",
      "\n",
      "Epoch  114\n"
     ]
    },
    {
     "name": "stderr",
     "output_type": "stream",
     "text": [
      "81it [00:05, 15.25it/s]"
     ]
    },
    {
     "name": "stdout",
     "output_type": "stream",
     "text": [
      "['acc', 'kappa', 'auc', 'fmeasure', 'loss']\n",
      "Training Loss  0.9539505081412233\n"
     ]
    },
    {
     "name": "stderr",
     "output_type": "stream",
     "text": [
      "\n"
     ]
    },
    {
     "name": "stdout",
     "output_type": "stream",
     "text": [
      "Train -  [0.8452932098765432, 0.793724279835391, 0.9441719615277143, 0.8452932098765433, tensor(0.8985)]\n",
      "Validation -  [0.5563271604938271, 0.40843621399176955, 0.7806101712137377, 0.5563271604938271, tensor(1.1821)]\n",
      "\n",
      "Epoch  115\n"
     ]
    },
    {
     "name": "stderr",
     "output_type": "stream",
     "text": [
      "81it [00:05, 15.07it/s]"
     ]
    },
    {
     "name": "stdout",
     "output_type": "stream",
     "text": [
      "['acc', 'kappa', 'auc', 'fmeasure', 'loss']\n",
      "Training Loss  0.956039285954134\n"
     ]
    },
    {
     "name": "stderr",
     "output_type": "stream",
     "text": [
      "\n"
     ]
    },
    {
     "name": "stdout",
     "output_type": "stream",
     "text": [
      "Train -  [0.8371913580246914, 0.7829218106995884, 0.9430912581605955, 0.8371913580246914, tensor(0.9034)]\n",
      "Validation -  [0.5532407407407407, 0.404320987654321, 0.7802229795381801, 0.5532407407407407, tensor(1.1803)]\n",
      "\n",
      "Epoch  116\n"
     ]
    },
    {
     "name": "stderr",
     "output_type": "stream",
     "text": [
      "81it [00:05, 15.26it/s]"
     ]
    },
    {
     "name": "stdout",
     "output_type": "stream",
     "text": [
      "['acc', 'kappa', 'auc', 'fmeasure', 'loss']\n",
      "Training Loss  0.9680584536658393\n"
     ]
    },
    {
     "name": "stderr",
     "output_type": "stream",
     "text": [
      "\n"
     ]
    },
    {
     "name": "stdout",
     "output_type": "stream",
     "text": [
      "Train -  [0.8445216049382716, 0.7926954732510288, 0.9441588632957374, 0.8445216049382716, tensor(0.8973)]\n",
      "Validation -  [0.5513117283950617, 0.4017489711934157, 0.7748834654270182, 0.5513117283950617, tensor(1.1867)]\n",
      "\n",
      "Epoch  117\n"
     ]
    },
    {
     "name": "stderr",
     "output_type": "stream",
     "text": [
      "81it [00:04, 17.18it/s]"
     ]
    },
    {
     "name": "stdout",
     "output_type": "stream",
     "text": [
      "['acc', 'kappa', 'auc', 'fmeasure', 'loss']\n",
      "Training Loss  0.9567674082002522\n"
     ]
    },
    {
     "name": "stderr",
     "output_type": "stream",
     "text": [
      "\n"
     ]
    },
    {
     "name": "stdout",
     "output_type": "stream",
     "text": [
      "Train -  [0.8530092592592593, 0.8040123456790124, 0.9455922266359296, 0.8530092592592593, tensor(0.8901)]\n",
      "Validation -  [0.5466820987654321, 0.3955761316872428, 0.778356084565361, 0.5466820987654321, tensor(1.1892)]\n",
      "\n",
      "Epoch  118\n"
     ]
    },
    {
     "name": "stderr",
     "output_type": "stream",
     "text": [
      "81it [00:03, 23.34it/s]"
     ]
    },
    {
     "name": "stdout",
     "output_type": "stream",
     "text": [
      "['acc', 'kappa', 'auc', 'fmeasure', 'loss']\n",
      "Training Loss  0.9577366430082439\n"
     ]
    },
    {
     "name": "stderr",
     "output_type": "stream",
     "text": [
      "\n"
     ]
    },
    {
     "name": "stdout",
     "output_type": "stream",
     "text": [
      "Train -  [0.816358024691358, 0.7551440329218106, 0.9348670569145964, 0.8163580246913579, tensor(0.9267)]\n",
      "Validation -  [0.5266203703703703, 0.36882716049382713, 0.7678364181654219, 0.5266203703703703, tensor(1.2107)]\n",
      "\n",
      "Epoch  119\n"
     ]
    },
    {
     "name": "stderr",
     "output_type": "stream",
     "text": [
      "81it [00:03, 20.75it/s]"
     ]
    },
    {
     "name": "stdout",
     "output_type": "stream",
     "text": [
      "['acc', 'kappa', 'auc', 'fmeasure', 'loss']\n",
      "Training Loss  0.9712453146039703\n"
     ]
    },
    {
     "name": "stderr",
     "output_type": "stream",
     "text": [
      "\n"
     ]
    },
    {
     "name": "stdout",
     "output_type": "stream",
     "text": [
      "Train -  [0.8171296296296297, 0.7561728395061729, 0.9374914663034091, 0.8171296296296295, tensor(0.9228)]\n",
      "Validation -  [0.5412808641975309, 0.38837448559670784, 0.7673462267565919, 0.5412808641975309, tensor(1.1970)]\n",
      "\n",
      "Epoch  120\n"
     ]
    },
    {
     "name": "stderr",
     "output_type": "stream",
     "text": [
      "81it [00:04, 19.20it/s]"
     ]
    },
    {
     "name": "stdout",
     "output_type": "stream",
     "text": [
      "['acc', 'kappa', 'auc', 'fmeasure', 'loss']\n",
      "Training Loss  0.9672901571532826\n"
     ]
    },
    {
     "name": "stderr",
     "output_type": "stream",
     "text": [
      "\n"
     ]
    },
    {
     "name": "stdout",
     "output_type": "stream",
     "text": [
      "Train -  [0.84375, 0.7916666666666666, 0.9427241107491237, 0.84375, tensor(0.8997)]\n",
      "Validation -  [0.5389660493827161, 0.3852880658436214, 0.7678521955812121, 0.5389660493827161, tensor(1.1988)]\n",
      "\n",
      "Epoch  121\n"
     ]
    },
    {
     "name": "stderr",
     "output_type": "stream",
     "text": [
      "81it [00:04, 16.87it/s]"
     ]
    },
    {
     "name": "stdout",
     "output_type": "stream",
     "text": [
      "['acc', 'kappa', 'auc', 'fmeasure', 'loss']\n",
      "Training Loss  0.951735492841697\n"
     ]
    },
    {
     "name": "stderr",
     "output_type": "stream",
     "text": [
      "\n"
     ]
    },
    {
     "name": "stdout",
     "output_type": "stream",
     "text": [
      "Train -  [0.8545524691358025, 0.8060699588477367, 0.9459570917797083, 0.8545524691358025, tensor(0.8888)]\n",
      "Validation -  [0.5482253086419753, 0.39763374485596703, 0.777340673900066, 0.5482253086419753, tensor(1.1907)]\n",
      "\n",
      "Epoch  122\n"
     ]
    },
    {
     "name": "stderr",
     "output_type": "stream",
     "text": [
      "81it [00:05, 14.79it/s]"
     ]
    },
    {
     "name": "stdout",
     "output_type": "stream",
     "text": [
      "['acc', 'kappa', 'auc', 'fmeasure', 'loss']\n",
      "Training Loss  0.9622325080412405\n"
     ]
    },
    {
     "name": "stderr",
     "output_type": "stream",
     "text": [
      "\n"
     ]
    },
    {
     "name": "stdout",
     "output_type": "stream",
     "text": [
      "Train -  [0.8302469135802469, 0.7736625514403292, 0.9400223027168114, 0.830246913580247, tensor(0.9113)]\n",
      "Validation -  [0.5397376543209876, 0.3863168724279835, 0.771777795242087, 0.5397376543209876, tensor(1.1970)]\n",
      "\n",
      "Epoch  123\n"
     ]
    },
    {
     "name": "stderr",
     "output_type": "stream",
     "text": [
      "81it [00:05, 15.34it/s]"
     ]
    },
    {
     "name": "stdout",
     "output_type": "stream",
     "text": [
      "['acc', 'kappa', 'auc', 'fmeasure', 'loss']\n",
      "Training Loss  0.9535489531210911\n"
     ]
    },
    {
     "name": "stderr",
     "output_type": "stream",
     "text": [
      "\n"
     ]
    },
    {
     "name": "stdout",
     "output_type": "stream",
     "text": [
      "Train -  [0.8321759259259259, 0.7762345679012346, 0.9392798711133974, 0.8321759259259259, tensor(0.9127)]\n",
      "Validation -  [0.5486111111111112, 0.39814814814814814, 0.7758694050703652, 0.5486111111111112, tensor(1.1865)]\n",
      "\n",
      "Epoch  124\n"
     ]
    },
    {
     "name": "stderr",
     "output_type": "stream",
     "text": [
      "81it [00:05, 14.49it/s]"
     ]
    },
    {
     "name": "stdout",
     "output_type": "stream",
     "text": [
      "['acc', 'kappa', 'auc', 'fmeasure', 'loss']\n",
      "Training Loss  0.954385452064467\n"
     ]
    },
    {
     "name": "stderr",
     "output_type": "stream",
     "text": [
      "\n"
     ]
    },
    {
     "name": "stdout",
     "output_type": "stream",
     "text": [
      "Train -  [0.8290895061728395, 0.772119341563786, 0.9411389269928364, 0.8290895061728395, tensor(0.9130)]\n",
      "Validation -  [0.5470679012345679, 0.3960905349794238, 0.7745249509411675, 0.5470679012345679, tensor(1.1881)]\n",
      "\n",
      "Epoch  125\n"
     ]
    },
    {
     "name": "stderr",
     "output_type": "stream",
     "text": [
      "81it [00:05, 14.68it/s]"
     ]
    },
    {
     "name": "stdout",
     "output_type": "stream",
     "text": [
      "['acc', 'kappa', 'auc', 'fmeasure', 'loss']\n",
      "Training Loss  0.9566833310657077\n"
     ]
    },
    {
     "name": "stderr",
     "output_type": "stream",
     "text": [
      "\n"
     ]
    },
    {
     "name": "stdout",
     "output_type": "stream",
     "text": [
      "Train -  [0.8406635802469136, 0.7875514403292181, 0.9412721915802977, 0.8406635802469136, tensor(0.9035)]\n",
      "Validation -  [0.5412808641975309, 0.38837448559670784, 0.7706623617144235, 0.5412808641975309, tensor(1.1949)]\n",
      "\n",
      "Epoch  126\n"
     ]
    },
    {
     "name": "stderr",
     "output_type": "stream",
     "text": [
      "81it [00:05, 15.71it/s]"
     ]
    },
    {
     "name": "stdout",
     "output_type": "stream",
     "text": [
      "['acc', 'kappa', 'auc', 'fmeasure', 'loss']\n",
      "Training Loss  0.9656808052533938\n"
     ]
    },
    {
     "name": "stderr",
     "output_type": "stream",
     "text": [
      "\n"
     ]
    },
    {
     "name": "stdout",
     "output_type": "stream",
     "text": [
      "Train -  [0.8530092592592593, 0.8040123456790124, 0.9447563212861352, 0.8530092592592593, tensor(0.8904)]\n",
      "Validation -  [0.5459104938271605, 0.3945473251028807, 0.7685436234631409, 0.5459104938271605, tensor(1.1940)]\n",
      "\n",
      "Epoch  127\n"
     ]
    },
    {
     "name": "stderr",
     "output_type": "stream",
     "text": [
      "81it [00:04, 19.94it/s]"
     ]
    },
    {
     "name": "stdout",
     "output_type": "stream",
     "text": [
      "['acc', 'kappa', 'auc', 'fmeasure', 'loss']\n",
      "Training Loss  0.9572406315509184\n"
     ]
    },
    {
     "name": "stderr",
     "output_type": "stream",
     "text": [
      "\n"
     ]
    },
    {
     "name": "stdout",
     "output_type": "stream",
     "text": [
      "Train -  [0.8287037037037037, 0.7716049382716049, 0.9388373096390286, 0.8287037037037037, tensor(0.9171)]\n",
      "Validation -  [0.5405092592592593, 0.38734567901234573, 0.7679412040212366, 0.5405092592592593, tensor(1.1983)]\n",
      "\n",
      "Epoch  128\n"
     ]
    },
    {
     "name": "stderr",
     "output_type": "stream",
     "text": [
      "81it [00:03, 20.44it/s]"
     ]
    },
    {
     "name": "stdout",
     "output_type": "stream",
     "text": [
      "['acc', 'kappa', 'auc', 'fmeasure', 'loss']\n",
      "Training Loss  0.9627979537587107\n"
     ]
    },
    {
     "name": "stderr",
     "output_type": "stream",
     "text": [
      "\n"
     ]
    },
    {
     "name": "stdout",
     "output_type": "stream",
     "text": [
      "Train -  [0.8445216049382716, 0.7926954732510288, 0.9422106997472438, 0.8445216049382716, tensor(0.8988)]\n",
      "Validation -  [0.5397376543209876, 0.3863168724279835, 0.7641605779733781, 0.5397376543209876, tensor(1.1973)]\n",
      "\n",
      "Epoch  129\n"
     ]
    },
    {
     "name": "stderr",
     "output_type": "stream",
     "text": [
      "81it [00:04, 17.80it/s]"
     ]
    },
    {
     "name": "stdout",
     "output_type": "stream",
     "text": [
      "['acc', 'kappa', 'auc', 'fmeasure', 'loss']\n",
      "Training Loss  0.9491876054693151\n"
     ]
    },
    {
     "name": "stderr",
     "output_type": "stream",
     "text": [
      "\n"
     ]
    },
    {
     "name": "stdout",
     "output_type": "stream",
     "text": [
      "Train -  [0.8379629629629629, 0.7839506172839507, 0.9408758708339685, 0.8379629629629629, tensor(0.9043)]\n",
      "Validation -  [0.5482253086419753, 0.39763374485596703, 0.7714346612559061, 0.5482253086419753, tensor(1.1876)]\n",
      "\n",
      "Epoch  130\n"
     ]
    },
    {
     "name": "stderr",
     "output_type": "stream",
     "text": [
      "81it [00:05, 14.91it/s]"
     ]
    },
    {
     "name": "stdout",
     "output_type": "stream",
     "text": [
      "['acc', 'kappa', 'auc', 'fmeasure', 'loss']\n",
      "Training Loss  0.9869266432008625\n"
     ]
    },
    {
     "name": "stderr",
     "output_type": "stream",
     "text": [
      "\n"
     ]
    },
    {
     "name": "stdout",
     "output_type": "stream",
     "text": [
      "Train -  [0.8360339506172839, 0.7813786008230452, 0.9407561013946044, 0.8360339506172839, tensor(0.9054)]\n",
      "Validation -  [0.5366512345679012, 0.382201646090535, 0.7647507922445766, 0.5366512345679012, tensor(1.1995)]\n",
      "\n",
      "Epoch  131\n"
     ]
    },
    {
     "name": "stderr",
     "output_type": "stream",
     "text": [
      "81it [00:05, 15.75it/s]"
     ]
    },
    {
     "name": "stdout",
     "output_type": "stream",
     "text": [
      "['acc', 'kappa', 'auc', 'fmeasure', 'loss']\n",
      "Training Loss  0.9520491663320565\n"
     ]
    },
    {
     "name": "stderr",
     "output_type": "stream",
     "text": [
      "\n"
     ]
    },
    {
     "name": "stdout",
     "output_type": "stream",
     "text": [
      "Train -  [0.8487654320987654, 0.7983539094650206, 0.9444732208631814, 0.8487654320987654, tensor(0.8961)]\n",
      "Validation -  [0.5428240740740741, 0.39043209876543206, 0.764632114324544, 0.5428240740740741, tensor(1.1934)]\n",
      "\n",
      "Epoch  132\n"
     ]
    },
    {
     "name": "stderr",
     "output_type": "stream",
     "text": [
      "81it [00:05, 14.78it/s]"
     ]
    },
    {
     "name": "stdout",
     "output_type": "stream",
     "text": [
      "['acc', 'kappa', 'auc', 'fmeasure', 'loss']\n",
      "Training Loss  0.9543043036519745\n"
     ]
    },
    {
     "name": "stderr",
     "output_type": "stream",
     "text": [
      "\n"
     ]
    },
    {
     "name": "stdout",
     "output_type": "stream",
     "text": [
      "Train -  [0.8499228395061729, 0.7998971193415638, 0.9442576954097444, 0.8499228395061729, tensor(0.8938)]\n",
      "Validation -  [0.5489969135802469, 0.39866255144032925, 0.7705569804844282, 0.5489969135802469, tensor(1.1891)]\n",
      "\n",
      "Epoch  133\n"
     ]
    },
    {
     "name": "stderr",
     "output_type": "stream",
     "text": [
      "81it [00:04, 17.17it/s]"
     ]
    },
    {
     "name": "stdout",
     "output_type": "stream",
     "text": [
      "['acc', 'kappa', 'auc', 'fmeasure', 'loss']\n",
      "Training Loss  0.9546127731417432\n"
     ]
    },
    {
     "name": "stderr",
     "output_type": "stream",
     "text": [
      "\n"
     ]
    },
    {
     "name": "stdout",
     "output_type": "stream",
     "text": [
      "Train -  [0.8499228395061729, 0.7998971193415638, 0.9434220877470407, 0.8499228395061729, tensor(0.8921)]\n",
      "Validation -  [0.5432098765432098, 0.39094650205761317, 0.7684346699880608, 0.5432098765432098, tensor(1.1947)]\n",
      "\n",
      "Epoch  134\n"
     ]
    },
    {
     "name": "stderr",
     "output_type": "stream",
     "text": [
      "81it [00:03, 22.10it/s]"
     ]
    },
    {
     "name": "stdout",
     "output_type": "stream",
     "text": [
      "['acc', 'kappa', 'auc', 'fmeasure', 'loss']\n",
      "Training Loss  0.9529447342142646\n"
     ]
    },
    {
     "name": "stderr",
     "output_type": "stream",
     "text": [
      "\n"
     ]
    },
    {
     "name": "stdout",
     "output_type": "stream",
     "text": [
      "Train -  [0.8460648148148148, 0.7947530864197531, 0.9424467656099171, 0.8460648148148148, tensor(0.8978)]\n",
      "Validation -  [0.5509259259259259, 0.4012345679012346, 0.7658812093557893, 0.5509259259259259, tensor(1.1933)]\n",
      "\n",
      "Epoch  135\n"
     ]
    },
    {
     "name": "stderr",
     "output_type": "stream",
     "text": [
      "81it [00:04, 20.13it/s]"
     ]
    },
    {
     "name": "stdout",
     "output_type": "stream",
     "text": [
      "['acc', 'kappa', 'auc', 'fmeasure', 'loss']\n",
      "Training Loss  0.9449853676336782\n"
     ]
    },
    {
     "name": "stderr",
     "output_type": "stream",
     "text": [
      "\n"
     ]
    },
    {
     "name": "stdout",
     "output_type": "stream",
     "text": [
      "Train -  [0.8580246913580247, 0.8106995884773662, 0.9461337194533354, 0.8580246913580247, tensor(0.8846)]\n",
      "Validation -  [0.5516975308641975, 0.4022633744855967, 0.7733465069793731, 0.5516975308641975, tensor(1.1877)]\n",
      "\n",
      "Epoch  136\n"
     ]
    },
    {
     "name": "stderr",
     "output_type": "stream",
     "text": [
      "81it [00:04, 17.48it/s]"
     ]
    },
    {
     "name": "stdout",
     "output_type": "stream",
     "text": [
      "['acc', 'kappa', 'auc', 'fmeasure', 'loss']\n",
      "Training Loss  0.9423899415098591\n"
     ]
    },
    {
     "name": "stderr",
     "output_type": "stream",
     "text": [
      "\n"
     ]
    },
    {
     "name": "stdout",
     "output_type": "stream",
     "text": [
      "Train -  [0.8611111111111112, 0.8148148148148149, 0.9474324289996443, 0.8611111111111112, tensor(0.8820)]\n",
      "Validation -  [0.5489969135802469, 0.39866255144032925, 0.7736937093557892, 0.5489969135802469, tensor(1.1900)]\n",
      "\n",
      "Epoch  137\n"
     ]
    },
    {
     "name": "stderr",
     "output_type": "stream",
     "text": [
      "81it [00:05, 14.62it/s]"
     ]
    },
    {
     "name": "stdout",
     "output_type": "stream",
     "text": [
      "['acc', 'kappa', 'auc', 'fmeasure', 'loss']\n",
      "Training Loss  0.9649011470653392\n"
     ]
    },
    {
     "name": "stderr",
     "output_type": "stream",
     "text": [
      "\n"
     ]
    },
    {
     "name": "stdout",
     "output_type": "stream",
     "text": [
      "Train -  [0.8244598765432098, 0.7659465020576132, 0.9368598735266473, 0.8244598765432098, tensor(0.9188)]\n",
      "Validation -  [0.5509259259259259, 0.4012345679012346, 0.7702374630074176, 0.5509259259259259, tensor(1.1905)]\n",
      "\n",
      "Epoch  138\n"
     ]
    },
    {
     "name": "stderr",
     "output_type": "stream",
     "text": [
      "81it [00:05, 15.49it/s]"
     ]
    },
    {
     "name": "stdout",
     "output_type": "stream",
     "text": [
      "['acc', 'kappa', 'auc', 'fmeasure', 'loss']\n",
      "Training Loss  0.9779718739015085\n"
     ]
    },
    {
     "name": "stderr",
     "output_type": "stream",
     "text": [
      "\n"
     ]
    },
    {
     "name": "stdout",
     "output_type": "stream",
     "text": [
      "Validation -  [0.5447530864197531, 0.3930041152263375, 0.7741029298760351, 0.5447530864197531, tensor(1.1959)]\n",
      "\n",
      "Epoch  139\n"
     ]
    },
    {
     "name": "stderr",
     "output_type": "stream",
     "text": [
      "81it [00:05, 15.21it/s]"
     ]
    },
    {
     "name": "stdout",
     "output_type": "stream",
     "text": [
      "['acc', 'kappa', 'auc', 'fmeasure', 'loss']\n",
      "Training Loss  0.9604640941561005\n"
     ]
    },
    {
     "name": "stderr",
     "output_type": "stream",
     "text": [
      "\n"
     ]
    },
    {
     "name": "stdout",
     "output_type": "stream",
     "text": [
      "Train -  [0.8464506172839507, 0.7952674897119342, 0.9445903111187319, 0.8464506172839507, tensor(0.8952)]\n",
      "Validation -  [0.5459104938271605, 0.3945473251028807, 0.7694157474089316, 0.5459104938271605, tensor(1.1937)]\n",
      "\n",
      "Epoch  140\n"
     ]
    },
    {
     "name": "stderr",
     "output_type": "stream",
     "text": [
      "81it [00:05, 15.81it/s]"
     ]
    },
    {
     "name": "stdout",
     "output_type": "stream",
     "text": [
      "['acc', 'kappa', 'auc', 'fmeasure', 'loss']\n",
      "Training Loss  0.9524861699269142\n"
     ]
    },
    {
     "name": "stderr",
     "output_type": "stream",
     "text": [
      "\n"
     ]
    },
    {
     "name": "stdout",
     "output_type": "stream",
     "text": [
      "Train -  [0.8514660493827161, 0.801954732510288, 0.9457130875946248, 0.8514660493827161, tensor(0.8902)]\n",
      "Validation -  [0.5432098765432098, 0.39094650205761317, 0.7717282799560535, 0.5432098765432098, tensor(1.1945)]\n",
      "\n",
      "Epoch  141\n"
     ]
    },
    {
     "name": "stderr",
     "output_type": "stream",
     "text": [
      "81it [00:04, 18.22it/s]"
     ]
    },
    {
     "name": "stdout",
     "output_type": "stream",
     "text": [
      "['acc', 'kappa', 'auc', 'fmeasure', 'loss']\n",
      "Training Loss  0.9421556621422003\n"
     ]
    },
    {
     "name": "stderr",
     "output_type": "stream",
     "text": [
      "\n"
     ]
    },
    {
     "name": "stdout",
     "output_type": "stream",
     "text": [
      "Train -  [0.8422067901234568, 0.7896090534979424, 0.9418340263488798, 0.8422067901234568, tensor(0.8991)]\n",
      "Validation -  [0.5478395061728395, 0.39711934156378603, 0.7720895728547478, 0.5478395061728395, tensor(1.1897)]\n",
      "\n",
      "Epoch  142\n"
     ]
    },
    {
     "name": "stderr",
     "output_type": "stream",
     "text": [
      "81it [00:05, 14.60it/s]"
     ]
    },
    {
     "name": "stdout",
     "output_type": "stream",
     "text": [
      "['acc', 'kappa', 'auc', 'fmeasure', 'loss']\n",
      "Training Loss  0.895931566203082\n"
     ]
    },
    {
     "name": "stderr",
     "output_type": "stream",
     "text": [
      "\n"
     ]
    },
    {
     "name": "stdout",
     "output_type": "stream",
     "text": [
      "Train -  [0.8973765432098766, 0.8631687242798354, 0.9592409812719097, 0.8973765432098766, tensor(0.8475)]\n",
      "Validation -  [0.5420524691358025, 0.38940329218106995, 0.7705982597609612, 0.5420524691358025, tensor(1.1933)]\n",
      "\n",
      "Epoch  214\n"
     ]
    },
    {
     "name": "stderr",
     "output_type": "stream",
     "text": [
      "81it [00:04, 16.33it/s]"
     ]
    },
    {
     "name": "stdout",
     "output_type": "stream",
     "text": [
      "['acc', 'kappa', 'auc', 'fmeasure', 'loss']\n",
      "Training Loss  0.8959110489598027\n"
     ]
    },
    {
     "name": "stderr",
     "output_type": "stream",
     "text": [
      "\n"
     ]
    },
    {
     "name": "stdout",
     "output_type": "stream",
     "text": [
      "Train -  [0.8981481481481481, 0.8641975308641976, 0.9595076096758623, 0.8981481481481481, tensor(0.8455)]\n",
      "Validation -  [0.5459104938271605, 0.3945473251028807, 0.7711216928948839, 0.5459104938271605, tensor(1.1914)]\n",
      "\n",
      "Epoch  215\n"
     ]
    },
    {
     "name": "stderr",
     "output_type": "stream",
     "text": [
      "81it [00:03, 21.15it/s]"
     ]
    },
    {
     "name": "stdout",
     "output_type": "stream",
     "text": [
      "['acc', 'kappa', 'auc', 'fmeasure', 'loss']\n",
      "Training Loss  0.8926096904424974\n"
     ]
    },
    {
     "name": "stderr",
     "output_type": "stream",
     "text": [
      "\n"
     ]
    },
    {
     "name": "stdout",
     "output_type": "stream",
     "text": [
      "Train -  [0.8989197530864198, 0.8652263374485597, 0.9593821841817812, 0.8989197530864199, tensor(0.8452)]\n",
      "Train -  [0.9089506172839507, 0.8786008230452675, 0.960810586070467, 0.9089506172839507, tensor(0.8374)]\n",
      "Validation -  [0.5513117283950617, 0.4017489711934157, 0.7704384017934258, 0.5513117283950617, tensor(1.1885)]\n",
      "\n",
      "Epoch  234\n"
     ]
    },
    {
     "name": "stderr",
     "output_type": "stream",
     "text": [
      "81it [00:03, 21.05it/s]"
     ]
    },
    {
     "name": "stdout",
     "output_type": "stream",
     "text": [
      "['acc', 'kappa', 'auc', 'fmeasure', 'loss']\n",
      "Training Loss  0.8835032251146104\n"
     ]
    },
    {
     "name": "stderr",
     "output_type": "stream",
     "text": [
      "\n"
     ]
    },
    {
     "name": "stdout",
     "output_type": "stream",
     "text": [
      "Train -  [0.9093364197530864, 0.8791152263374485, 0.9610817790098054, 0.9093364197530864, tensor(0.8362)]\n",
      "Validation -  [0.5470679012345679, 0.3960905349794238, 0.7709258147894121, 0.5470679012345679, tensor(1.1901)]\n",
      "\n",
      "Epoch  235\n"
     ]
    },
    {
     "name": "stderr",
     "output_type": "stream",
     "text": [
      "81it [00:04, 18.32it/s]"
     ]
    },
    {
     "name": "stdout",
     "output_type": "stream",
     "text": [
      "['acc', 'kappa', 'auc', 'fmeasure', 'loss']\n",
      "Training Loss  0.8857425385051303\n"
     ]
    },
    {
     "name": "stderr",
     "output_type": "stream",
     "text": [
      "\n"
     ]
    },
    {
     "name": "stdout",
     "output_type": "stream",
     "text": [
      "Train -  [0.9104938271604939, 0.8806584362139918, 0.9610366298010975, 0.9104938271604939, tensor(0.8356)]\n",
      "Validation -  [0.5493827160493827, 0.39917695473251025, 0.7711956185223289, 0.5493827160493827, tensor(1.1893)]\n",
      "\n",
      "Epoch  236\n"
     ]
    },
    {
     "name": "stderr",
     "output_type": "stream",
     "text": [
      "81it [00:05, 15.49it/s]"
     ]
    },
    {
     "name": "stdout",
     "output_type": "stream",
     "text": [
      "['acc', 'kappa', 'auc', 'fmeasure', 'loss']\n",
      "Training Loss  0.882083977446144\n"
     ]
    },
    {
     "name": "stderr",
     "output_type": "stream",
     "text": [
      "\n"
     ]
    },
    {
     "name": "stdout",
     "output_type": "stream",
     "text": [
      "Train -  [0.9097222222222222, 0.8796296296296297, 0.9611435986955749, 0.9097222222222222, tensor(0.8361)]\n",
      "Validation -  [0.5493827160493827, 0.39917695473251025, 0.7716204180003048, 0.5493827160493827, tensor(1.1880)]\n",
      "\n",
      "Epoch  237\n"
     ]
    },
    {
     "name": "stderr",
     "output_type": "stream",
     "text": [
      "81it [00:05, 15.51it/s]"
     ]
    },
    {
     "name": "stdout",
     "output_type": "stream",
     "text": [
      "['acc', 'kappa', 'auc', 'fmeasure', 'loss']\n",
      "Training Loss  0.8897886703043808\n"
     ]
    },
    {
     "name": "stderr",
     "output_type": "stream",
     "text": [
      "\n"
     ]
    },
    {
     "name": "stdout",
     "output_type": "stream",
     "text": [
      "Train -  [0.9074074074074074, 0.8765432098765432, 0.9610868396903419, 0.9074074074074074, tensor(0.8373)]\n",
      "Validation -  [0.5505401234567902, 0.40072016460905346, 0.7715151359993395, 0.5505401234567902, tensor(1.1878)]\n",
      "\n",
      "Epoch  238\n"
     ]
    },
    {
     "name": "stderr",
     "output_type": "stream",
     "text": [
      "81it [00:05, 15.11it/s]"
     ]
    },
    {
     "name": "stdout",
     "output_type": "stream",
     "text": [
      "['acc', 'kappa', 'auc', 'fmeasure', 'loss']\n",
      "Training Loss  0.88294169564306\n"
     ]
    },
    {
     "name": "stderr",
     "output_type": "stream",
     "text": [
      "\n"
     ]
    },
    {
     "name": "stdout",
     "output_type": "stream",
     "text": [
      "Train -  [0.9112654320987654, 0.8816872427983539, 0.9610866412322816, 0.9112654320987654, tensor(0.8346)]\n",
      "Validation -  [0.5528549382716049, 0.4038065843621399, 0.7730474306825688, 0.5528549382716049, tensor(1.1839)]\n",
      "\n",
      "Epoch  239\n"
     ]
    },
    {
     "name": "stderr",
     "output_type": "stream",
     "text": [
      "81it [00:05, 14.03it/s]"
     ]
    },
    {
     "name": "stdout",
     "output_type": "stream",
     "text": [
      "['acc', 'kappa', 'auc', 'fmeasure', 'loss']\n",
      "Training Loss  0.8872735860907002\n"
     ]
    },
    {
     "name": "stderr",
     "output_type": "stream",
     "text": [
      "\n"
     ]
    },
    {
     "name": "stdout",
     "output_type": "stream",
     "text": [
      "Train -  [0.9093364197530864, 0.8791152263374485, 0.9608603990435909, 0.9093364197530864, tensor(0.8348)]\n",
      "Validation -  [0.5501543209876543, 0.40020576131687247, 0.7715001524157903, 0.5501543209876543, tensor(1.1864)]\n",
      "\n",
      "Epoch  240\n"
     ]
    },
    {
     "name": "stderr",
     "output_type": "stream",
     "text": [
      "81it [00:05, 14.25it/s]"
     ]
    },
    {
     "name": "stdout",
     "output_type": "stream",
     "text": [
      "['acc', 'kappa', 'auc', 'fmeasure', 'loss']\n",
      "Training Loss  0.8879910376336839\n"
     ]
    },
    {
     "name": "stderr",
     "output_type": "stream",
     "text": [
      "\n"
     ]
    },
    {
     "name": "stdout",
     "output_type": "stream",
     "text": [
      "Train -  [0.910108024691358, 0.8801440329218106, 0.9609246994551135, 0.910108024691358, tensor(0.8347)]\n",
      "Validation -  [0.5528549382716049, 0.4038065843621399, 0.7726433700718895, 0.5528549382716049, tensor(1.1842)]\n",
      "\n",
      "Epoch  241\n"
     ]
    },
    {
     "name": "stderr",
     "output_type": "stream",
     "text": [
      "81it [00:04, 17.06it/s]"
     ]
    },
    {
     "name": "stdout",
     "output_type": "stream",
     "text": [
      "['acc', 'kappa', 'auc', 'fmeasure', 'loss']\n",
      "Training Loss  0.8813511957356959\n"
     ]
    },
    {
     "name": "stderr",
     "output_type": "stream",
     "text": [
      "\n"
     ]
    },
    {
     "name": "stdout",
     "output_type": "stream",
     "text": [
      "Train -  [0.9108796296296297, 0.8811728395061729, 0.9610107310242341, 0.9108796296296297, tensor(0.8342)]\n",
      "Validation -  [0.5540123456790124, 0.4053497942386831, 0.7733859009043338, 0.5540123456790124, tensor(1.1844)]\n",
      "\n",
      "Epoch  242\n"
     ]
    },
    {
     "name": "stderr",
     "output_type": "stream",
     "text": [
      "81it [00:03, 20.88it/s]"
     ]
    },
    {
     "name": "stdout",
     "output_type": "stream",
     "text": [
      "['acc', 'kappa', 'auc', 'fmeasure', 'loss']\n",
      "Training Loss  0.8847251313704031\n"
     ]
    },
    {
     "name": "stderr",
     "output_type": "stream",
     "text": [
      "\n"
     ]
    },
    {
     "name": "stdout",
     "output_type": "stream",
     "text": [
      "Train -  [0.910108024691358, 0.8801440329218106, 0.9606327676484784, 0.910108024691358, tensor(0.8353)]\n",
      "Validation -  [0.5551697530864198, 0.40689300411522633, 0.7741890606741858, 0.5551697530864198, tensor(1.1835)]\n",
      "\n",
      "Epoch  243\n"
     ]
    },
    {
     "name": "stderr",
     "output_type": "stream",
     "text": [
      "81it [00:03, 22.34it/s]"
     ]
    },
    {
     "name": "stdout",
     "output_type": "stream",
     "text": [
      "['acc', 'kappa', 'auc', 'fmeasure', 'loss']\n",
      "Training Loss  0.8860321214169632\n"
     ]
    },
    {
     "name": "stderr",
     "output_type": "stream",
     "text": [
      "\n"
     ]
    },
    {
     "name": "stdout",
     "output_type": "stream",
     "text": [
      "Train -  [0.9104938271604939, 0.8806584362139918, 0.9609987243115887, 0.9104938271604939, tensor(0.8344)]\n",
      "Validation -  [0.5513117283950617, 0.4017489711934157, 0.773740247770919, 0.5513117283950617, tensor(1.1852)]\n",
      "\n",
      "Epoch  244\n"
     ]
    },
    {
     "name": "stderr",
     "output_type": "stream",
     "text": [
      "81it [00:04, 17.25it/s]"
     ]
    },
    {
     "name": "stdout",
     "output_type": "stream",
     "text": [
      "['acc', 'kappa', 'auc', 'fmeasure', 'loss']\n",
      "Training Loss  0.8882742362257875\n"
     ]
    },
    {
     "name": "stderr",
     "output_type": "stream",
     "text": [
      "\n"
     ]
    },
    {
     "name": "stdout",
     "output_type": "stream",
     "text": [
      "Train -  [0.9112654320987654, 0.8816872427983539, 0.9612168297198089, 0.9112654320987654, tensor(0.8340)]\n",
      "Validation -  [0.5528549382716049, 0.4038065843621399, 0.7737615820123964, 0.5528549382716049, tensor(1.1852)]\n",
      "\n",
      "Epoch  245\n"
     ]
    },
    {
     "name": "stderr",
     "output_type": "stream",
     "text": [
      "81it [00:05, 15.00it/s]"
     ]
    },
    {
     "name": "stdout",
     "output_type": "stream",
     "text": [
      "['acc', 'kappa', 'auc', 'fmeasure', 'loss']\n",
      "Training Loss  0.8829025096363492\n"
     ]
    },
    {
     "name": "stderr",
     "output_type": "stream",
     "text": [
      "\n"
     ]
    },
    {
     "name": "stdout",
     "output_type": "stream",
     "text": [
      "Train -  [0.9131944444444444, 0.8842592592592593, 0.961244216932124, 0.9131944444444444, tensor(0.8328)]\n",
      "Validation -  [0.5567129629629629, 0.40895061728395066, 0.7733193182251181, 0.5567129629629629, tensor(1.1848)]\n",
      "\n",
      "Epoch  246\n"
     ]
    },
    {
     "name": "stderr",
     "output_type": "stream",
     "text": [
      "81it [00:05, 15.19it/s]"
     ]
    },
    {
     "name": "stdout",
     "output_type": "stream",
     "text": [
      "['acc', 'kappa', 'auc', 'fmeasure', 'loss']\n",
      "Training Loss  0.8810081003624716\n"
     ]
    },
    {
     "name": "stderr",
     "output_type": "stream",
     "text": [
      "\n"
     ]
    },
    {
     "name": "stdout",
     "output_type": "stream",
     "text": [
      "Train -  [0.9108796296296297, 0.8811728395061729, 0.9610141048112585, 0.9108796296296297, tensor(0.8335)]\n",
      "Validation -  [0.5509259259259259, 0.4012345679012346, 0.7719354701709596, 0.5509259259259259, tensor(1.1874)]\n",
      "\n",
      "Epoch  247\n"
     ]
    },
    {
     "name": "stderr",
     "output_type": "stream",
     "text": [
      "81it [00:05, 14.59it/s]"
     ]
    },
    {
     "name": "stdout",
     "output_type": "stream",
     "text": [
      "['acc', 'kappa', 'auc', 'fmeasure', 'loss']\n",
      "Training Loss  0.8777774042553372\n"
     ]
    },
    {
     "name": "stderr",
     "output_type": "stream",
     "text": [
      "\n"
     ]
    },
    {
     "name": "stdout",
     "output_type": "stream",
     "text": [
      "Train -  [0.9120370370370371, 0.8827160493827161, 0.9611177991477418, 0.9120370370370371, tensor(0.8326)]\n",
      "Validation -  [0.5532407407407407, 0.404320987654321, 0.7729625898618098, 0.5532407407407407, tensor(1.1852)]\n",
      "\n",
      "Epoch  248\n"
     ]
    },
    {
     "name": "stderr",
     "output_type": "stream",
     "text": [
      "81it [00:05, 14.39it/s]"
     ]
    },
    {
     "name": "stdout",
     "output_type": "stream",
     "text": [
      "['acc', 'kappa', 'auc', 'fmeasure', 'loss']\n",
      "Training Loss  0.8807622871281188\n"
     ]
    },
    {
     "name": "stderr",
     "output_type": "stream",
     "text": [
      "\n"
     ]
    },
    {
     "name": "stdout",
     "output_type": "stream",
     "text": [
      "Train -  [0.9143518518518519, 0.8858024691358025, 0.961417669276787, 0.9143518518518519, tensor(0.8322)]\n",
      "Validation -  [0.5563271604938271, 0.40843621399176955, 0.7731926027536453, 0.5563271604938271, tensor(1.1841)]\n",
      "\n",
      "Epoch  249\n"
     ]
    },
    {
     "name": "stderr",
     "output_type": "stream",
     "text": [
      "81it [00:05, 15.82it/s]"
     ]
    },
    {
     "name": "stdout",
     "output_type": "stream",
     "text": [
      "['acc', 'kappa', 'auc', 'fmeasure', 'loss']\n",
      "Training Loss  0.8890307089428843\n"
     ]
    },
    {
     "name": "stderr",
     "output_type": "stream",
     "text": [
      "\n"
     ]
    },
    {
     "name": "stdout",
     "output_type": "stream",
     "text": [
      "Train -  [0.9139660493827161, 0.8852880658436214, 0.9617103949156632, 0.9139660493827161, tensor(0.8321)]\n",
      "Validation -  [0.5551697530864198, 0.40689300411522633, 0.7728869773408524, 0.5551697530864198, tensor(1.1840)]\n",
      "\n",
      "Epoch  250\n"
     ]
    },
    {
     "name": "stderr",
     "output_type": "stream",
     "text": [
      "81it [00:04, 17.81it/s]"
     ]
    },
    {
     "name": "stdout",
     "output_type": "stream",
     "text": [
      "['acc', 'kappa', 'auc', 'fmeasure', 'loss']\n",
      "Training Loss  0.8750443362895354\n"
     ]
    },
    {
     "name": "stderr",
     "output_type": "stream",
     "text": [
      "\n"
     ]
    },
    {
     "name": "stdout",
     "output_type": "stream",
     "text": [
      "Train -  [0.9131944444444444, 0.8842592592592593, 0.961510944565107, 0.9131944444444444, tensor(0.8326)]\n",
      "Validation -  [0.5567129629629629, 0.40895061728395066, 0.7730289740829651, 0.5567129629629629, tensor(1.1847)]\n",
      "\n",
      "Epoch  251\n"
     ]
    },
    {
     "name": "stderr",
     "output_type": "stream",
     "text": [
      "81it [00:04, 19.23it/s]"
     ]
    },
    {
     "name": "stdout",
     "output_type": "stream",
     "text": [
      "['acc', 'kappa', 'auc', 'fmeasure', 'loss']\n",
      "Training Loss  0.8810665180653702\n"
     ]
    },
    {
     "name": "stderr",
     "output_type": "stream",
     "text": [
      "\n"
     ]
    },
    {
     "name": "stdout",
     "output_type": "stream",
     "text": [
      "Train -  [0.9143518518518519, 0.8858024691358025, 0.9617559410404919, 0.9143518518518519, tensor(0.8315)]\n",
      "Validation -  [0.5536265432098766, 0.404835390946502, 0.7725985185502717, 0.5536265432098766, tensor(1.1849)]\n",
      "\n",
      "Epoch  252\n"
     ]
    },
    {
     "name": "stderr",
     "output_type": "stream",
     "text": [
      "81it [00:03, 20.74it/s]"
     ]
    },
    {
     "name": "stdout",
     "output_type": "stream",
     "text": [
      "['acc', 'kappa', 'auc', 'fmeasure', 'loss']\n",
      "Training Loss  0.8758282514266026\n"
     ]
    },
    {
     "name": "stderr",
     "output_type": "stream",
     "text": [
      "\n"
     ]
    },
    {
     "name": "stdout",
     "output_type": "stream",
     "text": [
      "Train -  [0.9143518518518519, 0.8858024691358025, 0.9618179591843214, 0.9143518518518519, tensor(0.8314)]\n",
      "Validation -  [0.5513117283950617, 0.4017489711934157, 0.7724807336915105, 0.5513117283950617, tensor(1.1868)]\n",
      "\n",
      "Epoch  253\n"
     ]
    },
    {
     "name": "stderr",
     "output_type": "stream",
     "text": [
      "81it [00:03, 20.29it/s]"
     ]
    },
    {
     "name": "stdout",
     "output_type": "stream",
     "text": [
      "['acc', 'kappa', 'auc', 'fmeasure', 'loss']\n",
      "Training Loss  0.8863655137427059\n"
     ]
    },
    {
     "name": "stderr",
     "output_type": "stream",
     "text": [
      "\n"
     ]
    },
    {
     "name": "stdout",
     "output_type": "stream",
     "text": [
      "Train -  [0.9158950617283951, 0.8878600823045267, 0.9616884653000052, 0.9158950617283951, tensor(0.8306)]\n",
      "Validation -  [0.5547839506172839, 0.4063786008230452, 0.7724937326944572, 0.5547839506172839, tensor(1.1855)]\n",
      "\n",
      "Epoch  254\n"
     ]
    },
    {
     "name": "stderr",
     "output_type": "stream",
     "text": [
      "81it [00:04, 17.57it/s]"
     ]
    },
    {
     "name": "stdout",
     "output_type": "stream",
     "text": [
      "['acc', 'kappa', 'auc', 'fmeasure', 'loss']\n",
      "Training Loss  0.8776890870965557\n"
     ]
    },
    {
     "name": "stderr",
     "output_type": "stream",
     "text": [
      "\n"
     ]
    },
    {
     "name": "stdout",
     "output_type": "stream",
     "text": [
      "Train -  [0.9139660493827161, 0.8852880658436214, 0.961697693599807, 0.9139660493827161, tensor(0.8311)]\n",
      "Validation -  [0.5532407407407407, 0.404320987654321, 0.774415699778997, 0.5532407407407407, tensor(1.1841)]\n",
      "\n",
      "Epoch  255\n"
     ]
    },
    {
     "name": "stderr",
     "output_type": "stream",
     "text": [
      "81it [00:05, 14.14it/s]"
     ]
    },
    {
     "name": "stdout",
     "output_type": "stream",
     "text": [
      "['acc', 'kappa', 'auc', 'fmeasure', 'loss']\n",
      "Training Loss  0.8794451944621993\n"
     ]
    },
    {
     "name": "stderr",
     "output_type": "stream",
     "text": [
      "\n"
     ]
    },
    {
     "name": "stdout",
     "output_type": "stream",
     "text": [
      "Train -  [0.9147376543209876, 0.8863168724279835, 0.9617692377305289, 0.9147376543209876, tensor(0.8302)]\n",
      "Validation -  [0.5551697530864198, 0.40689300411522633, 0.7738786722679469, 0.5551697530864198, tensor(1.1845)]\n",
      "\n",
      "Epoch  256\n"
     ]
    },
    {
     "name": "stderr",
     "output_type": "stream",
     "text": [
      "81it [00:05, 13.95it/s]"
     ]
    },
    {
     "name": "stdout",
     "output_type": "stream",
     "text": [
      "['acc', 'kappa', 'auc', 'fmeasure', 'loss']\n",
      "Training Loss  0.885370793165984\n"
     ]
    },
    {
     "name": "stderr",
     "output_type": "stream",
     "text": [
      "\n"
     ]
    },
    {
     "name": "stdout",
     "output_type": "stream",
     "text": [
      "Train -  [0.9151234567901234, 0.8868312757201646, 0.9623004107288013, 0.9151234567901234, tensor(0.8300)]\n",
      "Validation -  [0.5524691358024691, 0.4032921810699589, 0.7731031973975004, 0.5524691358024691, tensor(1.1858)]\n",
      "\n",
      "Epoch  257\n"
     ]
    },
    {
     "name": "stderr",
     "output_type": "stream",
     "text": [
      "81it [00:05, 14.52it/s]"
     ]
    },
    {
     "name": "stdout",
     "output_type": "stream",
     "text": [
      "['acc', 'kappa', 'auc', 'fmeasure', 'loss']\n",
      "Training Loss  0.8793951905803916\n"
     ]
    },
    {
     "name": "stderr",
     "output_type": "stream",
     "text": [
      "\n"
     ]
    },
    {
     "name": "stdout",
     "output_type": "stream",
     "text": [
      "Train -  [0.9128086419753086, 0.8837448559670782, 0.9621705199283646, 0.9128086419753086, tensor(0.8319)]\n",
      "Validation -  [0.5493827160493827, 0.39917695473251025, 0.7713267000711274, 0.5493827160493827, tensor(1.1884)]\n",
      "\n",
      "Epoch  258\n"
     ]
    },
    {
     "name": "stderr",
     "output_type": "stream",
     "text": [
      "81it [00:05, 15.05it/s]"
     ]
    },
    {
     "name": "stdout",
     "output_type": "stream",
     "text": [
      "['acc', 'kappa', 'auc', 'fmeasure', 'loss']\n",
      "Training Loss  0.8785342596195362\n"
     ]
    },
    {
     "name": "stderr",
     "output_type": "stream",
     "text": [
      "\n"
     ]
    },
    {
     "name": "stdout",
     "output_type": "stream",
     "text": [
      "Train -  [0.9135802469135802, 0.8847736625514403, 0.9619206612305033, 0.9135802469135802, tensor(0.8307)]\n",
      "Validation -  [0.5516975308641975, 0.4022633744855967, 0.7716906721536351, 0.5516975308641975, tensor(1.1869)]\n",
      "\n",
      "Epoch  259\n"
     ]
    },
    {
     "name": "stderr",
     "output_type": "stream",
     "text": [
      "81it [00:04, 17.33it/s]"
     ]
    },
    {
     "name": "stdout",
     "output_type": "stream",
     "text": [
      "['acc', 'kappa', 'auc', 'fmeasure', 'loss']\n",
      "Training Loss  0.8782967512990222\n"
     ]
    },
    {
     "name": "stderr",
     "output_type": "stream",
     "text": [
      "\n"
     ]
    },
    {
     "name": "stdout",
     "output_type": "stream",
     "text": [
      "Train -  [0.9112654320987654, 0.8816872427983539, 0.9618740235863436, 0.9112654320987654, tensor(0.8325)]\n",
      "Validation -  [0.5505401234567902, 0.40072016460905346, 0.7716248833066606, 0.5505401234567902, tensor(1.1875)]\n",
      "\n",
      "Epoch  260\n"
     ]
    },
    {
     "name": "stderr",
     "output_type": "stream",
     "text": [
      "81it [00:03, 20.27it/s]"
     ]
    },
    {
     "name": "stdout",
     "output_type": "stream",
     "text": [
      "['acc', 'kappa', 'auc', 'fmeasure', 'loss']\n",
      "Training Loss  0.8862958543094588\n"
     ]
    },
    {
     "name": "stderr",
     "output_type": "stream",
     "text": [
      "\n"
     ]
    },
    {
     "name": "stdout",
     "output_type": "stream",
     "text": [
      "Train -  [0.9166666666666666, 0.8888888888888888, 0.9620381484021745, 0.9166666666666666, tensor(0.8296)]\n",
      "Validation -  [0.5528549382716049, 0.4038065843621399, 0.771851621640502, 0.5528549382716049, tensor(1.1859)]\n",
      "\n",
      "Epoch  261\n"
     ]
    },
    {
     "name": "stderr",
     "output_type": "stream",
     "text": [
      "81it [00:03, 22.23it/s]"
     ]
    },
    {
     "name": "stdout",
     "output_type": "stream",
     "text": [
      "['acc', 'kappa', 'auc', 'fmeasure', 'loss']\n",
      "Training Loss  0.8767833474241657\n"
     ]
    },
    {
     "name": "stderr",
     "output_type": "stream",
     "text": [
      "\n"
     ]
    },
    {
     "name": "stdout",
     "output_type": "stream",
     "text": [
      "Train -  [0.9166666666666666, 0.8888888888888888, 0.9622810610679267, 0.9166666666666666, tensor(0.8291)]\n",
      "Validation -  [0.5478395061728395, 0.39711934156378603, 0.7704604306381141, 0.5478395061728395, tensor(1.1886)]\n",
      "\n",
      "Epoch  262\n"
     ]
    },
    {
     "name": "stderr",
     "output_type": "stream",
     "text": [
      "81it [00:03, 20.42it/s]"
     ]
    },
    {
     "name": "stdout",
     "output_type": "stream",
     "text": [
      "['acc', 'kappa', 'auc', 'fmeasure', 'loss']\n",
      "Training Loss  0.8845510033913601\n"
     ]
    },
    {
     "name": "stderr",
     "output_type": "stream",
     "text": [
      "\n"
     ]
    },
    {
     "name": "stdout",
     "output_type": "stream",
     "text": [
      "Train -  [0.9174382716049383, 0.8899176954732511, 0.9622257904981456, 0.9174382716049383, tensor(0.8283)]\n",
      "Validation -  [0.5516975308641975, 0.4022633744855967, 0.7719472784255449, 0.5516975308641975, tensor(1.1859)]\n",
      "\n",
      "Epoch  263\n"
     ]
    },
    {
     "name": "stderr",
     "output_type": "stream",
     "text": [
      "81it [00:04, 17.11it/s]"
     ]
    },
    {
     "name": "stdout",
     "output_type": "stream",
     "text": [
      "['acc', 'kappa', 'auc', 'fmeasure', 'loss']\n",
      "Training Loss  0.8742216921147005\n"
     ]
    },
    {
     "name": "stderr",
     "output_type": "stream",
     "text": [
      "\n"
     ]
    },
    {
     "name": "stdout",
     "output_type": "stream",
     "text": [
      "Train -  [0.9162808641975309, 0.8883744855967078, 0.9621963194761978, 0.9162808641975309, tensor(0.8293)]\n",
      "Validation -  [0.5486111111111112, 0.39814814814814814, 0.7706815129172383, 0.5486111111111112, tensor(1.1895)]\n",
      "\n",
      "Epoch  264\n"
     ]
    },
    {
     "name": "stderr",
     "output_type": "stream",
     "text": [
      "81it [00:05, 14.11it/s]"
     ]
    },
    {
     "name": "stdout",
     "output_type": "stream",
     "text": [
      "['acc', 'kappa', 'auc', 'fmeasure', 'loss']\n",
      "Training Loss  0.8787733735861601\n"
     ]
    },
    {
     "name": "stderr",
     "output_type": "stream",
     "text": [
      "\n"
     ]
    },
    {
     "name": "stdout",
     "output_type": "stream",
     "text": [
      "Train -  [0.9162808641975309, 0.8883744855967078, 0.9624931135053092, 0.9162808641975309, tensor(0.8292)]\n",
      "Validation -  [0.5447530864197531, 0.3930041152263375, 0.7699238000431845, 0.5447530864197531, tensor(1.1911)]\n",
      "\n",
      "Epoch  265\n"
     ]
    },
    {
     "name": "stderr",
     "output_type": "stream",
     "text": [
      "81it [00:05, 14.60it/s]"
     ]
    },
    {
     "name": "stdout",
     "output_type": "stream",
     "text": [
      "['acc', 'kappa', 'auc', 'fmeasure', 'loss']\n",
      "Training Loss  0.8830347627769282\n"
     ]
    },
    {
     "name": "stderr",
     "output_type": "stream",
     "text": [
      "\n"
     ]
    },
    {
     "name": "stdout",
     "output_type": "stream",
     "text": [
      "Train -  [0.9147376543209876, 0.8863168724279835, 0.962297632315958, 0.9147376543209876, tensor(0.8307)]\n",
      "Validation -  [0.5447530864197531, 0.3930041152263375, 0.7676775524881878, 0.5447530864197531, tensor(1.1925)]\n",
      "\n",
      "Epoch  266\n"
     ]
    },
    {
     "name": "stderr",
     "output_type": "stream",
     "text": [
      "81it [00:05, 15.46it/s]"
     ]
    },
    {
     "name": "stdout",
     "output_type": "stream",
     "text": [
      "['acc', 'kappa', 'auc', 'fmeasure', 'loss']\n",
      "Training Loss  0.8759679374871431\n"
     ]
    },
    {
     "name": "stderr",
     "output_type": "stream",
     "text": [
      "\n"
     ]
    },
    {
     "name": "stdout",
     "output_type": "stream",
     "text": [
      "Train -  [0.9158950617283951, 0.8878600823045267, 0.9623172796639232, 0.9158950617283951, tensor(0.8288)]\n",
      "Validation -  [0.5447530864197531, 0.3930041152263375, 0.768814518715389, 0.5447530864197531, tensor(1.1925)]\n",
      "\n",
      "Epoch  267\n"
     ]
    },
    {
     "name": "stderr",
     "output_type": "stream",
     "text": [
      "81it [00:05, 15.14it/s]"
     ]
    },
    {
     "name": "stdout",
     "output_type": "stream",
     "text": [
      "['acc', 'kappa', 'auc', 'fmeasure', 'loss']\n",
      "Training Loss  0.8740161885449915\n"
     ]
    },
    {
     "name": "stderr",
     "output_type": "stream",
     "text": [
      "\n"
     ]
    },
    {
     "name": "stdout",
     "output_type": "stream",
     "text": [
      "Train -  [0.9162808641975309, 0.8883744855967078, 0.9625565208555606, 0.9162808641975309, tensor(0.8284)]\n",
      "Validation -  [0.5493827160493827, 0.39917695473251025, 0.7682637975981812, 0.5493827160493827, tensor(1.1907)]\n",
      "\n",
      "Epoch  268\n"
     ]
    },
    {
     "name": "stderr",
     "output_type": "stream",
     "text": [
      "81it [00:05, 15.48it/s]"
     ]
    },
    {
     "name": "stdout",
     "output_type": "stream",
     "text": [
      "['acc', 'kappa', 'auc', 'fmeasure', 'loss']\n",
      "Training Loss  0.8735642433166504\n"
     ]
    },
    {
     "name": "stderr",
     "output_type": "stream",
     "text": [
      "\n"
     ]
    },
    {
     "name": "stdout",
     "output_type": "stream",
     "text": [
      "Train -  [0.9151234567901234, 0.8868312757201646, 0.962687602404359, 0.9151234567901234, tensor(0.8295)]\n",
      "Validation -  [0.5478395061728395, 0.39711934156378603, 0.7691152819057054, 0.5478395061728395, tensor(1.1914)]\n",
      "\n",
      "Epoch  269\n"
     ]
    },
    {
     "name": "stderr",
     "output_type": "stream",
     "text": [
      "81it [00:04, 20.17it/s]"
     ]
    },
    {
     "name": "stdout",
     "output_type": "stream",
     "text": [
      "['acc', 'kappa', 'auc', 'fmeasure', 'loss']\n",
      "Training Loss  0.8791630591875241\n"
     ]
    },
    {
     "name": "stderr",
     "output_type": "stream",
     "text": [
      "\n"
     ]
    },
    {
     "name": "stdout",
     "output_type": "stream",
     "text": [
      "Train -  [0.9155092592592593, 0.8873456790123457, 0.9627605357415028, 0.9155092592592593, tensor(0.8285)]\n",
      "Validation -  [0.5451388888888888, 0.3935185185185185, 0.7680248540936341, 0.5451388888888888, tensor(1.1910)]\n",
      "\n",
      "Epoch  270\n"
     ]
    },
    {
     "name": "stderr",
     "output_type": "stream",
     "text": [
      "81it [00:03, 23.15it/s]"
     ]
    },
    {
     "name": "stdout",
     "output_type": "stream",
     "text": [
      "['acc', 'kappa', 'auc', 'fmeasure', 'loss']\n",
      "Training Loss  0.8844211940412168\n"
     ]
    },
    {
     "name": "stderr",
     "output_type": "stream",
     "text": [
      "\n"
     ]
    },
    {
     "name": "stdout",
     "output_type": "stream",
     "text": [
      "Train -  [0.9174382716049383, 0.8899176954732511, 0.9621948310407458, 0.9174382716049383, tensor(0.8280)]\n",
      "Validation -  [0.5478395061728395, 0.39711934156378603, 0.7685335021020678, 0.5478395061728395, tensor(1.1896)]\n",
      "\n",
      "Epoch  271\n"
     ]
    },
    {
     "name": "stderr",
     "output_type": "stream",
     "text": [
      "81it [00:04, 19.46it/s]"
     ]
    },
    {
     "name": "stdout",
     "output_type": "stream",
     "text": [
      "['acc', 'kappa', 'auc', 'fmeasure', 'loss']\n",
      "Training Loss  0.877402933291447\n"
     ]
    },
    {
     "name": "stderr",
     "output_type": "stream",
     "text": [
      "\n"
     ]
    },
    {
     "name": "stdout",
     "output_type": "stream",
     "text": [
      "Train -  [0.9182098765432098, 0.8909465020576132, 0.9626536660760554, 0.9182098765432098, tensor(0.8272)]\n",
      "Validation -  [0.5478395061728395, 0.39711934156378603, 0.7665001008166946, 0.5478395061728395, tensor(1.1925)]\n",
      "\n",
      "Epoch  272\n"
     ]
    },
    {
     "name": "stderr",
     "output_type": "stream",
     "text": [
      "81it [00:04, 17.77it/s]"
     ]
    },
    {
     "name": "stdout",
     "output_type": "stream",
     "text": [
      "['acc', 'kappa', 'auc', 'fmeasure', 'loss']\n",
      "Training Loss  0.8799452119403415\n"
     ]
    },
    {
     "name": "stderr",
     "output_type": "stream",
     "text": [
      "\n"
     ]
    },
    {
     "name": "stdout",
     "output_type": "stream",
     "text": [
      "Train -  [0.9189814814814815, 0.8919753086419753, 0.9626933576881065, 0.9189814814814814, tensor(0.8267)]\n",
      "Validation -  [0.5470679012345679, 0.3960905349794238, 0.7658185958377789, 0.5470679012345679, tensor(1.1922)]\n",
      "\n",
      "Epoch  273\n"
     ]
    },
    {
     "name": "stderr",
     "output_type": "stream",
     "text": [
      "81it [00:05, 15.37it/s]"
     ]
    },
    {
     "name": "stdout",
     "output_type": "stream",
     "text": [
      "['acc', 'kappa', 'auc', 'fmeasure', 'loss']\n",
      "Training Loss  0.8797259463204278\n"
     ]
    },
    {
     "name": "stderr",
     "output_type": "stream",
     "text": [
      "\n"
     ]
    },
    {
     "name": "stdout",
     "output_type": "stream",
     "text": [
      "Train -  [0.9185956790123457, 0.8914609053497943, 0.9626732141949906, 0.9185956790123457, tensor(0.8266)]\n",
      "Validation -  [0.5455246913580247, 0.3940329218106996, 0.7666206640882995, 0.5455246913580247, tensor(1.1947)]\n",
      "\n",
      "Epoch  274\n"
     ]
    },
    {
     "name": "stderr",
     "output_type": "stream",
     "text": [
      "81it [00:05, 14.82it/s]"
     ]
    },
    {
     "name": "stdout",
     "output_type": "stream",
     "text": [
      "['acc', 'kappa', 'auc', 'fmeasure', 'loss']\n",
      "Training Loss  0.8833674413186533\n"
     ]
    },
    {
     "name": "stderr",
     "output_type": "stream",
     "text": [
      "\n"
     ]
    },
    {
     "name": "stdout",
     "output_type": "stream",
     "text": [
      "Train -  [0.9178240740740741, 0.8904320987654321, 0.9620847860463344, 0.917824074074074, tensor(0.8278)]\n",
      "Validation -  [0.5416666666666666, 0.38888888888888884, 0.7667069933445104, 0.5416666666666666, tensor(1.1952)]\n",
      "\n",
      "Epoch  275\n"
     ]
    },
    {
     "name": "stderr",
     "output_type": "stream",
     "text": [
      "81it [00:05, 14.78it/s]"
     ]
    },
    {
     "name": "stdout",
     "output_type": "stream",
     "text": [
      "['acc', 'kappa', 'auc', 'fmeasure', 'loss']\n",
      "Training Loss  0.8793035458635401\n"
     ]
    },
    {
     "name": "stderr",
     "output_type": "stream",
     "text": [
      "\n"
     ]
    },
    {
     "name": "stdout",
     "output_type": "stream",
     "text": [
      "Train -  [0.9201388888888888, 0.8935185185185185, 0.9625743820809836, 0.9201388888888888, tensor(0.8264)]\n",
      "Validation -  [0.5435956790123457, 0.3914609053497943, 0.7671473717802164, 0.5435956790123457, tensor(1.1945)]\n",
      "\n",
      "Epoch  276\n"
     ]
    },
    {
     "name": "stderr",
     "output_type": "stream",
     "text": [
      "81it [00:05, 14.25it/s]"
     ]
    },
    {
     "name": "stdout",
     "output_type": "stream",
     "text": [
      "['acc', 'kappa', 'auc', 'fmeasure', 'loss']\n",
      "Training Loss  0.8788446254200406\n"
     ]
    },
    {
     "name": "stderr",
     "output_type": "stream",
     "text": [
      "\n"
     ]
    },
    {
     "name": "stdout",
     "output_type": "stream",
     "text": [
      "Train -  [0.9197530864197531, 0.8930041152263375, 0.9626446362343138, 0.9197530864197531, tensor(0.8271)]\n",
      "Validation -  [0.5424382716049383, 0.38991769547325106, 0.7686051454618198, 0.5424382716049383, tensor(1.1935)]\n",
      "\n",
      "Epoch  277\n"
     ]
    },
    {
     "name": "stderr",
     "output_type": "stream",
     "text": [
      "81it [00:05, 15.96it/s]"
     ]
    },
    {
     "name": "stdout",
     "output_type": "stream",
     "text": [
      "['acc', 'kappa', 'auc', 'fmeasure', 'loss']\n",
      "Training Loss  0.874458944356\n"
     ]
    },
    {
     "name": "stderr",
     "output_type": "stream",
     "text": [
      "\n"
     ]
    },
    {
     "name": "stdout",
     "output_type": "stream",
     "text": [
      "Train -  [0.9185956790123457, 0.8914609053497943, 0.9624306984453589, 0.9185956790123457, tensor(0.8273)]\n",
      "Validation -  [0.5462962962962963, 0.3950617283950617, 0.7678967494157394, 0.5462962962962963, tensor(1.1932)]\n",
      "\n",
      "Epoch  278\n"
     ]
    },
    {
     "name": "stderr",
     "output_type": "stream",
     "text": [
      "81it [00:04, 19.65it/s]"
     ]
    },
    {
     "name": "stdout",
     "output_type": "stream",
     "text": [
      "['acc', 'kappa', 'auc', 'fmeasure', 'loss']\n",
      "Training Loss  0.8801645025794889\n"
     ]
    },
    {
     "name": "stderr",
     "output_type": "stream",
     "text": [
      "\n"
     ]
    },
    {
     "name": "stdout",
     "output_type": "stream",
     "text": [
      "Validation -  [0.5443672839506173, 0.3924897119341564, 0.7647887969631153, 0.5443672839506173, tensor(1.1944)]\n",
      "\n",
      "Epoch  295\n"
     ]
    },
    {
     "name": "stderr",
     "output_type": "stream",
     "text": [
      "81it [00:04, 17.63it/s]"
     ]
    },
    {
     "name": "stdout",
     "output_type": "stream",
     "text": [
      "['acc', 'kappa', 'auc', 'fmeasure', 'loss']\n",
      "Training Loss  0.8733358287516936\n"
     ]
    },
    {
     "name": "stderr",
     "output_type": "stream",
     "text": [
      "\n"
     ]
    },
    {
     "name": "stdout",
     "output_type": "stream",
     "text": [
      "Train -  [0.9182098765432098, 0.8909465020576132, 0.9631347284141137, 0.9182098765432098, tensor(0.8265)]\n",
      "Validation -  [0.5478395061728395, 0.39711934156378603, 0.7677805522214602, 0.5478395061728395, tensor(1.1902)]\n",
      "\n",
      "Epoch  296\n"
     ]
    },
    {
     "name": "stderr",
     "output_type": "stream",
     "text": [
      "81it [00:03, 20.96it/s]"
     ]
    },
    {
     "name": "stdout",
     "output_type": "stream",
     "text": [
      "['acc', 'kappa', 'auc', 'fmeasure', 'loss']\n",
      "Training Loss  0.8708924481898178\n"
     ]
    },
    {
     "name": "stderr",
     "output_type": "stream",
     "text": [
      "\n"
     ]
    },
    {
     "name": "stdout",
     "output_type": "stream",
     "text": [
      "Train -  [0.9189814814814815, 0.8919753086419753, 0.9633227674262053, 0.9189814814814814, tensor(0.8259)]\n",
      "Validation -  [0.5439814814814815, 0.3919753086419753, 0.7670315715020576, 0.5439814814814815, tensor(1.1914)]\n",
      "\n",
      "Epoch  297\n"
     ]
    },
    {
     "name": "stderr",
     "output_type": "stream",
     "text": [
      "81it [00:03, 20.49it/s]"
     ]
    },
    {
     "name": "stdout",
     "output_type": "stream",
     "text": [
      "['acc', 'kappa', 'auc', 'fmeasure', 'loss']\n",
      "Training Loss  0.8733206472279113\n"
     ]
    },
    {
     "name": "stderr",
     "output_type": "stream",
     "text": [
      "\n"
     ]
    },
    {
     "name": "stdout",
     "output_type": "stream",
     "text": [
      "Train -  [0.9174382716049383, 0.8899176954732511, 0.9634448191332623, 0.9174382716049383, tensor(0.8260)]\n",
      "Validation -  [0.5466820987654321, 0.3955761316872428, 0.7664885902491998, 0.5466820987654321, tensor(1.1921)]\n",
      "\n",
      "Epoch  298\n"
     ]
    },
    {
     "name": "stderr",
     "output_type": "stream",
     "text": [
      "81it [00:04, 16.62it/s]"
     ]
    },
    {
     "name": "stdout",
     "output_type": "stream",
     "text": [
      "['acc', 'kappa', 'auc', 'fmeasure', 'loss']\n",
      "Training Loss  0.8690633692859132\n"
     ]
    },
    {
     "name": "stderr",
     "output_type": "stream",
     "text": [
      "\n"
     ]
    },
    {
     "name": "stdout",
     "output_type": "stream",
     "text": [
      "Train -  [0.9209104938271605, 0.8945473251028806, 0.9636024940621348, 0.9209104938271605, tensor(0.8243)]\n",
      "Validation -  [0.5428240740740741, 0.39043209876543206, 0.7658833923944521, 0.5428240740740741, tensor(1.1934)]\n",
      "\n",
      "Epoch  299\n"
     ]
    },
    {
     "name": "stderr",
     "output_type": "stream",
     "text": [
      "81it [00:05, 14.94it/s]"
     ]
    },
    {
     "name": "stdout",
     "output_type": "stream",
     "text": [
      "['acc', 'kappa', 'auc', 'fmeasure', 'loss']\n",
      "Training Loss  0.8725536473003435\n"
     ]
    },
    {
     "name": "stderr",
     "output_type": "stream",
     "text": [
      "\n"
     ]
    },
    {
     "name": "stdout",
     "output_type": "stream",
     "text": [
      "Train -  [0.9220679012345679, 0.8960905349794239, 0.9634628788167454, 0.9220679012345679, tensor(0.8236)]\n",
      "Validation -  [0.5474537037037037, 0.3966049382716049, 0.7659644625120663, 0.5474537037037037, tensor(1.1927)]\n",
      "\n",
      "Epoch  300\n"
     ]
    },
    {
     "name": "stderr",
     "output_type": "stream",
     "text": [
      "81it [00:05, 15.18it/s]"
     ]
    },
    {
     "name": "stdout",
     "output_type": "stream",
     "text": [
      "['acc', 'kappa', 'auc', 'fmeasure', 'loss']\n",
      "Training Loss  0.8723487493432598\n"
     ]
    },
    {
     "name": "stderr",
     "output_type": "stream",
     "text": [
      "\n"
     ]
    },
    {
     "name": "stdout",
     "output_type": "stream",
     "text": [
      "Train -  [0.9228395061728395, 0.897119341563786, 0.9635273776863282, 0.9228395061728395, tensor(0.8234)]\n",
      "Validation -  [0.5435956790123457, 0.3914609053497943, 0.7668824302697759, 0.5435956790123457, tensor(1.1938)]\n",
      "\n",
      "Epoch  301\n"
     ]
    },
    {
     "name": "stderr",
     "output_type": "stream",
     "text": [
      "81it [00:05, 15.13it/s]"
     ]
    },
    {
     "name": "stdout",
     "output_type": "stream",
     "text": [
      "['acc', 'kappa', 'auc', 'fmeasure', 'loss']\n",
      "Training Loss  0.8781947699593909\n"
     ]
    },
    {
     "name": "stderr",
     "output_type": "stream",
     "text": [
      "\n"
     ]
    },
    {
     "name": "stdout",
     "output_type": "stream",
     "text": [
      "Train -  [0.9212962962962963, 0.8950617283950617, 0.9632723590789005, 0.9212962962962963, tensor(0.8243)]\n",
      "Validation -  [0.5435956790123457, 0.3914609053497943, 0.7677575310864706, 0.5435956790123457, tensor(1.1934)]\n",
      "\n",
      "Epoch  302\n"
     ]
    },
    {
     "name": "stderr",
     "output_type": "stream",
     "text": [
      "81it [00:05, 15.66it/s]"
     ]
    },
    {
     "name": "stdout",
     "output_type": "stream",
     "text": [
      "['acc', 'kappa', 'auc', 'fmeasure', 'loss']\n",
      "Training Loss  0.8788339893023173\n"
     ]
    },
    {
     "name": "stderr",
     "output_type": "stream",
     "text": [
      "\n"
     ]
    },
    {
     "name": "stdout",
     "output_type": "stream",
     "text": [
      "Train -  [0.9228395061728395, 0.897119341563786, 0.9633004408944267, 0.9228395061728395, tensor(0.8234)]\n",
      "Validation -  [0.5393518518518519, 0.3858024691358025, 0.7666563865391454, 0.5393518518518519, tensor(1.1971)]\n",
      "\n",
      "Epoch  303\n"
     ]
    },
    {
     "name": "stderr",
     "output_type": "stream",
     "text": [
      "81it [00:05, 15.11it/s]"
     ]
    },
    {
     "name": "stdout",
     "output_type": "stream",
     "text": [
      "['acc', 'kappa', 'auc', 'fmeasure', 'loss']\n",
      "Training Loss  0.8771513200100557\n"
     ]
    },
    {
     "name": "stderr",
     "output_type": "stream",
     "text": [
      "\n"
     ]
    },
    {
     "name": "stdout",
     "output_type": "stream",
     "text": [
      "Train -  [0.9224537037037037, 0.8966049382716049, 0.9633344764517605, 0.9224537037037037, tensor(0.8226)]\n",
      "Validation -  [0.5455246913580247, 0.3940329218106996, 0.7665808732472185, 0.5455246913580247, tensor(1.1941)]\n",
      "\n",
      "Epoch  304\n"
     ]
    },
    {
     "name": "stderr",
     "output_type": "stream",
     "text": [
      "81it [00:04, 17.06it/s]"
     ]
    },
    {
     "name": "stdout",
     "output_type": "stream",
     "text": [
      "['acc', 'kappa', 'auc', 'fmeasure', 'loss']\n",
      "Training Loss  0.8709794201968629\n"
     ]
    },
    {
     "name": "stderr",
     "output_type": "stream",
     "text": [
      "\n"
     ]
    },
    {
     "name": "stdout",
     "output_type": "stream",
     "text": [
      "Train -  [0.9224537037037037, 0.8966049382716049, 0.9633599783125031, 0.9224537037037037, tensor(0.8230)]\n",
      "Validation -  [0.5397376543209876, 0.3863168724279835, 0.7660282667784383, 0.5397376543209876, tensor(1.1963)]\n",
      "\n",
      "Epoch  305\n"
     ]
    },
    {
     "name": "stderr",
     "output_type": "stream",
     "text": [
      "81it [00:03, 20.70it/s]"
     ]
    },
    {
     "name": "stdout",
     "output_type": "stream",
     "text": [
      "['acc', 'kappa', 'auc', 'fmeasure', 'loss']\n",
      "Training Loss  0.8777295027250125\n"
     ]
    },
    {
     "name": "stderr",
     "output_type": "stream",
     "text": [
      "\n"
     ]
    },
    {
     "name": "stdout",
     "output_type": "stream",
     "text": [
      "Train -  [0.9224537037037037, 0.8966049382716049, 0.9631658863295737, 0.9224537037037037, tensor(0.8230)]\n",
      "Validation -  [0.5443672839506173, 0.3924897119341564, 0.7670565772176497, 0.5443672839506173, tensor(1.1934)]\n",
      "\n",
      "Epoch  306\n"
     ]
    },
    {
     "name": "stderr",
     "output_type": "stream",
     "text": [
      "81it [00:03, 22.33it/s]"
     ]
    },
    {
     "name": "stdout",
     "output_type": "stream",
     "text": [
      "['acc', 'kappa', 'auc', 'fmeasure', 'loss']\n",
      "Training Loss  0.8657795264397139\n"
     ]
    },
    {
     "name": "stderr",
     "output_type": "stream",
     "text": [
      "\n"
     ]
    },
    {
     "name": "stdout",
     "output_type": "stream",
     "text": [
      "Train -  [0.9220679012345679, 0.8960905349794239, 0.9632176838833002, 0.9220679012345679, tensor(0.8233)]\n",
      "Validation -  [0.5443672839506173, 0.3924897119341564, 0.7665643019991871, 0.5443672839506173, tensor(1.1947)]\n",
      "\n",
      "Epoch  307\n"
     ]
    },
    {
     "name": "stderr",
     "output_type": "stream",
     "text": [
      "81it [00:03, 20.37it/s]"
     ]
    },
    {
     "name": "stdout",
     "output_type": "stream",
     "text": [
      "['acc', 'kappa', 'auc', 'fmeasure', 'loss']\n",
      "Training Loss  0.8720154144145824\n"
     ]
    },
    {
     "name": "stderr",
     "output_type": "stream",
     "text": [
      "\n"
     ]
    },
    {
     "name": "stdout",
     "output_type": "stream",
     "text": [
      "Train -  [0.9232253086419753, 0.897633744855967, 0.9629775496303917, 0.9232253086419753, tensor(0.8238)]\n",
      "Validation -  [0.5443672839506173, 0.3924897119341564, 0.7683672934766042, 0.5443672839506173, tensor(1.1948)]\n",
      "\n",
      "Epoch  308\n"
     ]
    },
    {
     "name": "stderr",
     "output_type": "stream",
     "text": [
      "81it [00:04, 18.58it/s]"
     ]
    },
    {
     "name": "stdout",
     "output_type": "stream",
     "text": [
      "['acc', 'kappa', 'auc', 'fmeasure', 'loss']\n",
      "Training Loss  0.8657649726043513\n"
     ]
    },
    {
     "name": "stderr",
     "output_type": "stream",
     "text": [
      "\n"
     ]
    },
    {
     "name": "stdout",
     "output_type": "stream",
     "text": [
      "Train -  [0.9224537037037037, 0.8966049382716049, 0.9629992807879896, 0.9224537037037037, tensor(0.8238)]\n",
      "Validation -  [0.5455246913580247, 0.3940329218106996, 0.7677771784344358, 0.5455246913580247, tensor(1.1931)]\n",
      "\n",
      "Epoch  309\n"
     ]
    },
    {
     "name": "stderr",
     "output_type": "stream",
     "text": [
      "81it [00:04, 17.17it/s]"
     ]
    },
    {
     "name": "stdout",
     "output_type": "stream",
     "text": [
      "['acc', 'kappa', 'auc', 'fmeasure', 'loss']\n",
      "Training Loss  0.8749647427488256\n"
     ]
    },
    {
     "name": "stderr",
     "output_type": "stream",
     "text": [
      "\n"
     ]
    },
    {
     "name": "stdout",
     "output_type": "stream",
     "text": [
      "Train -  [0.9212962962962963, 0.8950617283950617, 0.9635148748285323, 0.9212962962962963, tensor(0.8241)]\n",
      "Validation -  [0.5451388888888888, 0.3935185185185185, 0.768752302113499, 0.5451388888888888, tensor(1.1938)]\n",
      "\n",
      "Epoch  310\n"
     ]
    },
    {
     "name": "stderr",
     "output_type": "stream",
     "text": [
      "81it [00:05, 16.04it/s]"
     ]
    },
    {
     "name": "stdout",
     "output_type": "stream",
     "text": [
      "['acc', 'kappa', 'auc', 'fmeasure', 'loss']\n",
      "Training Loss  0.8773178046132312\n"
     ]
    },
    {
     "name": "stderr",
     "output_type": "stream",
     "text": [
      "\n"
     ]
    },
    {
     "name": "stdout",
     "output_type": "stream",
     "text": [
      "Train -  [0.9224537037037037, 0.8966049382716049, 0.9632238360831682, 0.9224537037037037, tensor(0.8240)]\n",
      "Validation -  [0.5455246913580247, 0.3940329218106996, 0.7684650340712799, 0.5455246913580247, tensor(1.1943)]\n",
      "\n",
      "Epoch  311\n"
     ]
    },
    {
     "name": "stderr",
     "output_type": "stream",
     "text": [
      "81it [00:05, 14.70it/s]"
     ]
    },
    {
     "name": "stdout",
     "output_type": "stream",
     "text": [
      "['acc', 'kappa', 'auc', 'fmeasure', 'loss']\n",
      "Training Loss  0.8718804768574091\n"
     ]
    },
    {
     "name": "stderr",
     "output_type": "stream",
     "text": [
      "\n"
     ]
    },
    {
     "name": "stdout",
     "output_type": "stream",
     "text": [
      "Train -  [0.9232253086419753, 0.897633744855967, 0.9631903959000152, 0.9232253086419753, tensor(0.8231)]\n",
      "Validation -  [0.5474537037037037, 0.3966049382716049, 0.768603756255398, 0.5474537037037037, tensor(1.1925)]\n",
      "\n",
      "Epoch  312\n"
     ]
    },
    {
     "name": "stderr",
     "output_type": "stream",
     "text": [
      "81it [00:05, 15.99it/s]"
     ]
    },
    {
     "name": "stdout",
     "output_type": "stream",
     "text": [
      "['acc', 'kappa', 'auc', 'fmeasure', 'loss']\n",
      "Training Loss  0.8682804166534801\n"
     ]
    },
    {
     "name": "stderr",
     "output_type": "stream",
     "text": [
      "\n"
     ]
    },
    {
     "name": "stdout",
     "output_type": "stream",
     "text": [
      "Train -  [0.9236111111111112, 0.8981481481481481, 0.9638229809670781, 0.9236111111111112, tensor(0.8219)]\n",
      "Validation -  [0.5486111111111112, 0.39814814814814814, 0.7674664923411065, 0.5486111111111112, tensor(1.1920)]\n",
      "\n",
      "Epoch  313\n"
     ]
    },
    {
     "name": "stderr",
     "output_type": "stream",
     "text": [
      "81it [00:05, 14.96it/s]"
     ]
    },
    {
     "name": "stdout",
     "output_type": "stream",
     "text": [
      "['acc', 'kappa', 'auc', 'fmeasure', 'loss']\n",
      "Training Loss  0.8703131513831056\n"
     ]
    },
    {
     "name": "stderr",
     "output_type": "stream",
     "text": [
      "\n"
     ]
    },
    {
     "name": "stdout",
     "output_type": "stream",
     "text": [
      "Train -  [0.9251543209876543, 0.9002057613168725, 0.9641862584463751, 0.9251543209876543, tensor(0.8206)]\n",
      "Validation -  [0.5451388888888888, 0.3935185185185185, 0.7662681033442564, 0.5451388888888888, tensor(1.1947)]\n",
      "\n",
      "Epoch  314\n"
     ]
    },
    {
     "name": "stderr",
     "output_type": "stream",
     "text": [
      "81it [00:05, 14.84it/s]"
     ]
    },
    {
     "name": "stdout",
     "output_type": "stream",
     "text": [
      "['acc', 'kappa', 'auc', 'fmeasure', 'loss']\n",
      "Training Loss  0.8666771576728349\n"
     ]
    },
    {
     "name": "stderr",
     "output_type": "stream",
     "text": [
      "\n"
     ]
    },
    {
     "name": "stdout",
     "output_type": "stream",
     "text": [
      "Train -  [0.9232253086419753, 0.897633744855967, 0.9641556959050958, 0.9232253086419753, tensor(0.8219)]\n",
      "Validation -  [0.5428240740740741, 0.39043209876543206, 0.7679054815703907, 0.5428240740740741, tensor(1.1931)]\n",
      "\n",
      "Epoch  315\n"
     ]
    },
    {
     "name": "stderr",
     "output_type": "stream",
     "text": [
      "81it [00:04, 17.48it/s]"
     ]
    },
    {
     "name": "stdout",
     "output_type": "stream",
     "text": [
      "['acc', 'kappa', 'auc', 'fmeasure', 'loss']\n",
      "Training Loss  0.8682695148903646\n"
     ]
    },
    {
     "name": "stderr",
     "output_type": "stream",
     "text": [
      "\n"
     ]
    },
    {
     "name": "stdout",
     "output_type": "stream",
     "text": [
      "Train -  [0.9232253086419753, 0.897633744855967, 0.9639303467776762, 0.9232253086419753, tensor(0.8225)]\n",
      "Validation -  [0.5501543209876543, 0.40020576131687247, 0.7687914975803993, 0.5501543209876543, tensor(1.1908)]\n",
      "\n",
      "Epoch  316\n"
     ]
    },
    {
     "name": "stderr",
     "output_type": "stream",
     "text": [
      "81it [00:04, 19.61it/s]"
     ]
    },
    {
     "name": "stdout",
     "output_type": "stream",
     "text": [
      "['acc', 'kappa', 'auc', 'fmeasure', 'loss']\n",
      "Training Loss  0.8724078013573164\n"
     ]
    },
    {
     "name": "stderr",
     "output_type": "stream",
     "text": [
      "\n"
     ]
    },
    {
     "name": "stdout",
     "output_type": "stream",
     "text": [
      "Train -  [0.9232253086419753, 0.897633744855967, 0.9633522384481532, 0.9232253086419753, tensor(0.8228)]\n",
      "Validation -  [0.5462962962962963, 0.3950617283950617, 0.7679923069717524, 0.5462962962962963, tensor(1.1926)]\n",
      "\n",
      "Epoch  317\n"
     ]
    },
    {
     "name": "stderr",
     "output_type": "stream",
     "text": [
      "81it [00:04, 20.01it/s]"
     ]
    },
    {
     "name": "stdout",
     "output_type": "stream",
     "text": [
      "['acc', 'kappa', 'auc', 'fmeasure', 'loss']\n",
      "Training Loss  0.8648647011062245\n"
     ]
    },
    {
     "name": "stderr",
     "output_type": "stream",
     "text": [
      "\n"
     ]
    },
    {
     "name": "stdout",
     "output_type": "stream",
     "text": [
      "Train -  [0.9228395061728395, 0.897119341563786, 0.9633687104671543, 0.9228395061728395, tensor(0.8227)]\n",
      "Validation -  [0.5451388888888888, 0.3935185185185185, 0.7686239989775441, 0.5451388888888888, tensor(1.1932)]\n",
      "\n",
      "Epoch  318\n"
     ]
    },
    {
     "name": "stderr",
     "output_type": "stream",
     "text": [
      "81it [00:05, 15.69it/s]"
     ]
    },
    {
     "name": "stdout",
     "output_type": "stream",
     "text": [
      "['acc', 'kappa', 'auc', 'fmeasure', 'loss']\n",
      "Training Loss  0.862480930340143\n"
     ]
    },
    {
     "name": "stderr",
     "output_type": "stream",
     "text": [
      "\n"
     ]
    },
    {
     "name": "stdout",
     "output_type": "stream",
     "text": [
      "Train -  [0.9247685185185185, 0.8996913580246914, 0.9635083257125439, 0.9247685185185185, tensor(0.8217)]\n",
      "Validation -  [0.5447530864197531, 0.3930041152263375, 0.769296275656658, 0.5447530864197531, tensor(1.1938)]\n",
      "\n",
      "Epoch  319\n"
     ]
    },
    {
     "name": "stderr",
     "output_type": "stream",
     "text": [
      "81it [00:05, 14.43it/s]"
     ]
    },
    {
     "name": "stdout",
     "output_type": "stream",
     "text": [
      "['acc', 'kappa', 'auc', 'fmeasure', 'loss']\n",
      "Training Loss  0.8756104634131914\n"
     ]
    },
    {
     "name": "stderr",
     "output_type": "stream",
     "text": [
      "\n"
     ]
    },
    {
     "name": "stdout",
     "output_type": "stream",
     "text": [
      "Train -  [0.9243827160493827, 0.8991769547325102, 0.9636844572410201, 0.9243827160493827, tensor(0.8210)]\n",
      "Validation -  [0.5443672839506173, 0.3924897119341564, 0.7692367382385815, 0.5443672839506173, tensor(1.1924)]\n",
      "\n",
      "Epoch  320\n"
     ]
    },
    {
     "name": "stderr",
     "output_type": "stream",
     "text": [
      "81it [00:05, 15.36it/s]"
     ]
    },
    {
     "name": "stdout",
     "output_type": "stream",
     "text": [
      "['acc', 'kappa', 'auc', 'fmeasure', 'loss']\n",
      "Training Loss  0.871787361892653\n"
     ]
    },
    {
     "name": "stderr",
     "output_type": "stream",
     "text": [
      "\n"
     ]
    },
    {
     "name": "stdout",
     "output_type": "stream",
     "text": [
      "Train -  [0.9247685185185185, 0.8996913580246914, 0.9639779767121375, 0.9247685185185185, tensor(0.8217)]\n",
      "Validation -  [0.5455246913580247, 0.3940329218106996, 0.767864499980948, 0.5455246913580247, tensor(1.1919)]\n",
      "\n",
      "Epoch  321\n"
     ]
    },
    {
     "name": "stderr",
     "output_type": "stream",
     "text": [
      "81it [00:05, 14.82it/s]"
     ]
    },
    {
     "name": "stdout",
     "output_type": "stream",
     "text": [
      "['acc', 'kappa', 'auc', 'fmeasure', 'loss']\n",
      "Training Loss  0.8741760187678866\n"
     ]
    },
    {
     "name": "stderr",
     "output_type": "stream",
     "text": [
      "\n"
     ]
    },
    {
     "name": "stdout",
     "output_type": "stream",
     "text": [
      "Train -  [0.9232253086419753, 0.897633744855967, 0.9642955096085455, 0.9232253086419753, tensor(0.8218)]\n",
      "Validation -  [0.5432098765432098, 0.39094650205761317, 0.7677850175278158, 0.5432098765432098, tensor(1.1939)]\n",
      "\n",
      "Epoch  322\n"
     ]
    },
    {
     "name": "stderr",
     "output_type": "stream",
     "text": [
      "81it [00:05, 15.31it/s]"
     ]
    },
    {
     "name": "stdout",
     "output_type": "stream",
     "text": [
      "['acc', 'kappa', 'auc', 'fmeasure', 'loss']\n",
      "Training Loss  0.8750271723594194\n"
     ]
    },
    {
     "name": "stderr",
     "output_type": "stream",
     "text": [
      "\n"
     ]
    },
    {
     "name": "stdout",
     "output_type": "stream",
     "text": [
      "Train -  [0.9243827160493827, 0.8991769547325102, 0.9640355295496114, 0.9243827160493827, tensor(0.8213)]\n",
      "Validation -  [0.5439814814814815, 0.3919753086419753, 0.7686217167098511, 0.5439814814814815, tensor(1.1919)]\n",
      "\n",
      "Epoch  323\n"
     ]
    },
    {
     "name": "stderr",
     "output_type": "stream",
     "text": [
      "81it [00:03, 21.06it/s]\n"
     ]
    },
    {
     "name": "stdout",
     "output_type": "stream",
     "text": [
      "['acc', 'kappa', 'auc', 'fmeasure', 'loss']\n",
      "Training Loss  0.875779511751952\n",
      "Train -  [0.9243827160493827, 0.8991769547325102, 0.9642542303320124, 0.9243827160493827, tensor(0.8208)]\n",
      "Validation -  [0.5443672839506173, 0.3924897119341564, 0.7681242815818219, 0.5443672839506173, tensor(1.1920)]\n",
      "\n",
      "Epoch  324\n"
     ]
    },
    {
     "name": "stderr",
     "output_type": "stream",
     "text": [
      "81it [00:04, 18.77it/s]"
     ]
    },
    {
     "name": "stdout",
     "output_type": "stream",
     "text": [
      "['acc', 'kappa', 'auc', 'fmeasure', 'loss']\n",
      "Training Loss  0.8745131941489231\n"
     ]
    },
    {
     "name": "stderr",
     "output_type": "stream",
     "text": [
      "\n"
     ]
    },
    {
     "name": "stdout",
     "output_type": "stream",
     "text": [
      "Train -  [0.9263117283950617, 0.9017489711934157, 0.96417454942082, 0.9263117283950617, tensor(0.8199)]\n",
      "Validation -  [0.5470679012345679, 0.3960905349794238, 0.7677755907699537, 0.5470679012345679, tensor(1.1910)]\n",
      "\n",
      "Epoch  325\n"
     ]
    },
    {
     "name": "stderr",
     "output_type": "stream",
     "text": [
      "81it [00:04, 16.60it/s]"
     ]
    },
    {
     "name": "stdout",
     "output_type": "stream",
     "text": [
      "['acc', 'kappa', 'auc', 'fmeasure', 'loss']\n",
      "Training Loss  0.8720671556614064\n"
     ]
    },
    {
     "name": "stderr",
     "output_type": "stream",
     "text": [
      "\n"
     ]
    },
    {
     "name": "stdout",
     "output_type": "stream",
     "text": [
      "Train -  [0.9266975308641975, 0.9022633744855967, 0.9640778011164457, 0.9266975308641975, tensor(0.8196)]\n",
      "Validation -  [0.5435956790123457, 0.3914609053497943, 0.7667052072219682, 0.5435956790123457, tensor(1.1928)]\n",
      "\n",
      "Epoch  326\n"
     ]
    },
    {
     "name": "stderr",
     "output_type": "stream",
     "text": [
      "81it [00:05, 16.05it/s]"
     ]
    },
    {
     "name": "stdout",
     "output_type": "stream",
     "text": [
      "['acc', 'kappa', 'auc', 'fmeasure', 'loss']\n",
      "Training Loss  0.8695953893072811\n"
     ]
    },
    {
     "name": "stderr",
     "output_type": "stream",
     "text": [
      "\n"
     ]
    },
    {
     "name": "stdout",
     "output_type": "stream",
     "text": [
      "Train -  [0.9259259259259259, 0.9012345679012346, 0.9642171186747448, 0.9259259259259259, tensor(0.8198)]\n",
      "Validation -  [0.5466820987654321, 0.3955761316872428, 0.7670981541812731, 0.5466820987654321, tensor(1.1915)]\n",
      "\n",
      "Epoch  327\n"
     ]
    },
    {
     "name": "stderr",
     "output_type": "stream",
     "text": [
      "81it [00:05, 15.66it/s]"
     ]
    },
    {
     "name": "stdout",
     "output_type": "stream",
     "text": [
      "['acc', 'kappa', 'auc', 'fmeasure', 'loss']\n",
      "Training Loss  0.8715840217507915\n"
     ]
    },
    {
     "name": "stderr",
     "output_type": "stream",
     "text": [
      "\n"
     ]
    },
    {
     "name": "stdout",
     "output_type": "stream",
     "text": [
      "Train -  [0.9259259259259259, 0.9012345679012346, 0.9643553447137123, 0.9259259259259259, tensor(0.8201)]\n",
      "Validation -  [0.5455246913580247, 0.3940329218106996, 0.7658130390120916, 0.5455246913580247, tensor(1.1931)]\n",
      "\n",
      "Epoch  328\n"
     ]
    },
    {
     "name": "stderr",
     "output_type": "stream",
     "text": [
      "81it [00:05, 14.95it/s]"
     ]
    },
    {
     "name": "stdout",
     "output_type": "stream",
     "text": [
      "['acc', 'kappa', 'auc', 'fmeasure', 'loss']\n",
      "Training Loss  0.8681471156485286\n"
     ]
    },
    {
     "name": "stderr",
     "output_type": "stream",
     "text": [
      "\n"
     ]
    },
    {
     "name": "stdout",
     "output_type": "stream",
     "text": [
      "Train -  [0.9263117283950617, 0.9017489711934157, 0.9641479560407458, 0.9263117283950617, tensor(0.8200)]\n",
      "Validation -  [0.5470679012345679, 0.3960905349794238, 0.7664640806787583, 0.5470679012345679, tensor(1.1924)]\n",
      "\n",
      "Epoch  329\n"
     ]
    },
    {
     "name": "stderr",
     "output_type": "stream",
     "text": [
      "81it [00:05, 14.41it/s]"
     ]
    },
    {
     "name": "stdout",
     "output_type": "stream",
     "text": [
      "['acc', 'kappa', 'auc', 'fmeasure', 'loss']\n",
      "Training Loss  0.8727168374591403\n"
     ]
    },
    {
     "name": "stderr",
     "output_type": "stream",
     "text": [
      "\n"
     ]
    },
    {
     "name": "stdout",
     "output_type": "stream",
     "text": [
      "Train -  [0.9259259259259259, 0.9012345679012346, 0.9642943188601839, 0.9259259259259259, tensor(0.8197)]\n",
      "Validation -  [0.5462962962962963, 0.3950617283950617, 0.7666104434981964, 0.5462962962962963, tensor(1.1906)]\n",
      "\n",
      "Epoch  330\n"
     ]
    },
    {
     "name": "stderr",
     "output_type": "stream",
     "text": [
      "81it [00:04, 16.35it/s]"
     ]
    },
    {
     "name": "stdout",
     "output_type": "stream",
     "text": [
      "['acc', 'kappa', 'auc', 'fmeasure', 'loss']\n",
      "Training Loss  0.8696673681706558\n"
     ]
    },
    {
     "name": "stderr",
     "output_type": "stream",
     "text": [
      "\n"
     ]
    },
    {
     "name": "stdout",
     "output_type": "stream",
     "text": [
      "Train -  [0.9263117283950617, 0.9017489711934157, 0.9643139662081491, 0.9263117283950617, tensor(0.8192)]\n",
      "Validation -  [0.5489969135802469, 0.39866255144032925, 0.7663045203983133, 0.5489969135802469, tensor(1.1900)]\n",
      "\n",
      "Epoch  331\n"
     ]
    },
    {
     "name": "stderr",
     "output_type": "stream",
     "text": [
      "81it [00:04, 16.91it/s]\n"
     ]
    },
    {
     "name": "stdout",
     "output_type": "stream",
     "text": [
      "['acc', 'kappa', 'auc', 'fmeasure', 'loss']\n",
      "Training Loss  0.8705212120656614\n",
      "Train -  [0.9247685185185185, 0.8996913580246914, 0.9640683743585835, 0.9247685185185185, tensor(0.8200)]\n",
      "Validation -  [0.5470679012345679, 0.3960905349794238, 0.7673957420426256, 0.5470679012345679, tensor(1.1907)]\n",
      "\n",
      "Epoch  332\n"
     ]
    },
    {
     "name": "stderr",
     "output_type": "stream",
     "text": [
      "81it [00:03, 22.37it/s]"
     ]
    },
    {
     "name": "stdout",
     "output_type": "stream",
     "text": [
      "['acc', 'kappa', 'auc', 'fmeasure', 'loss']\n",
      "Training Loss  0.867539483823894\n"
     ]
    },
    {
     "name": "stderr",
     "output_type": "stream",
     "text": [
      "\n"
     ]
    },
    {
     "name": "stdout",
     "output_type": "stream",
     "text": [
      "Train -  [0.9251543209876543, 0.9002057613168725, 0.963843819063405, 0.9251543209876543, tensor(0.8201)]\n",
      "Validation -  [0.5439814814814815, 0.3919753086419753, 0.7667630577465325, 0.5439814814814815, tensor(1.1919)]\n",
      "\n",
      "Epoch  333\n"
     ]
    },
    {
     "name": "stderr",
     "output_type": "stream",
     "text": [
      "81it [00:03, 21.32it/s]"
     ]
    },
    {
     "name": "stdout",
     "output_type": "stream",
     "text": [
      "['acc', 'kappa', 'auc', 'fmeasure', 'loss']\n",
      "Training Loss  0.8734214305877686\n"
     ]
    },
    {
     "name": "stderr",
     "output_type": "stream",
     "text": [
      "\n"
     ]
    },
    {
     "name": "stdout",
     "output_type": "stream",
     "text": [
      "Train -  [0.9247685185185185, 0.8996913580246914, 0.9638732900853528, 0.9247685185185185, tensor(0.8204)]\n",
      "Validation -  [0.5439814814814815, 0.3919753086419753, 0.766085621157852, 0.5439814814814815, tensor(1.1917)]\n",
      "\n",
      "Epoch  334\n"
     ]
    },
    {
     "name": "stderr",
     "output_type": "stream",
     "text": [
      "81it [00:04, 16.74it/s]"
     ]
    },
    {
     "name": "stdout",
     "output_type": "stream",
     "text": [
      "['acc', 'kappa', 'auc', 'fmeasure', 'loss']\n",
      "Training Loss  0.8640332052737106\n"
     ]
    },
    {
     "name": "stderr",
     "output_type": "stream",
     "text": [
      "\n"
     ]
    },
    {
     "name": "stdout",
     "output_type": "stream",
     "text": [
      "Train -  [0.9247685185185185, 0.8996913580246914, 0.9638579095856831, 0.9247685185185185, tensor(0.8206)]\n",
      "Validation -  [0.5470679012345679, 0.3960905349794238, 0.7669407769394909, 0.5470679012345679, tensor(1.1917)]\n",
      "\n",
      "Epoch  335\n"
     ]
    },
    {
     "name": "stderr",
     "output_type": "stream",
     "text": [
      "81it [00:04, 17.13it/s]"
     ]
    },
    {
     "name": "stdout",
     "output_type": "stream",
     "text": [
      "['acc', 'kappa', 'auc', 'fmeasure', 'loss']\n",
      "Training Loss  0.8554446807614079\n"
     ]
    },
    {
     "name": "stderr",
     "output_type": "stream",
     "text": [
      "\n"
     ]
    },
    {
     "name": "stdout",
     "output_type": "stream",
     "text": [
      "Train -  [0.9278549382716049, 0.9038065843621399, 0.9646261407369304, 0.9278549382716049, tensor(0.8176)]\n",
      "Validation -  [0.5451388888888888, 0.3935185185185185, 0.766386781264289, 0.5451388888888888, tensor(1.1925)]\n",
      "\n",
      "Epoch  365\n"
     ]
    },
    {
     "name": "stderr",
     "output_type": "stream",
     "text": [
      "81it [00:05, 15.28it/s]"
     ]
    },
    {
     "name": "stdout",
     "output_type": "stream",
     "text": [
      "['acc', 'kappa', 'auc', 'fmeasure', 'loss']\n",
      "Training Loss  0.8686686334786592\n"
     ]
    },
    {
     "name": "stderr",
     "output_type": "stream",
     "text": [
      "\n"
     ]
    },
    {
     "name": "stdout",
     "output_type": "stream",
     "text": [
      "Train -  [0.9286265432098766, 0.9048353909465021, 0.9645237363778388, 0.9286265432098766, tensor(0.8175)]\n",
      "Validation -  [0.5455246913580247, 0.3940329218106996, 0.7656797744246303, 0.5455246913580247, tensor(1.1929)]\n",
      "\n",
      "Epoch  366\n"
     ]
    },
    {
     "name": "stderr",
     "output_type": "stream",
     "text": [
      "35it [00:02, 15.36it/s]"
     ]
    },
    {
     "name": "stdout",
     "output_type": "stream",
     "text": [
      "Validation -  [0.5412808641975309, 0.38837448559670784, 0.7658302056343036, 0.5412808641975309, tensor(1.1954)]\n",
      "\n",
      "Epoch  450\n"
     ]
    },
    {
     "name": "stderr",
     "output_type": "stream",
     "text": [
      "81it [00:05, 13.88it/s]"
     ]
    },
    {
     "name": "stdout",
     "output_type": "stream",
     "text": [
      "['acc', 'kappa', 'auc', 'fmeasure', 'loss']\n",
      "Training Loss  0.8558774774457202\n"
     ]
    },
    {
     "name": "stderr",
     "output_type": "stream",
     "text": [
      "\n"
     ]
    },
    {
     "name": "stdout",
     "output_type": "stream",
     "text": [
      "Train -  [0.9317129629629629, 0.9089506172839507, 0.9653476350149875, 0.9317129629629629, tensor(0.8134)]\n",
      "Validation -  [0.5405092592592593, 0.38734567901234573, 0.7657430825458518, 0.5405092592592593, tensor(1.1955)]\n",
      "\n",
      "Epoch  451\n"
     ]
    },
    {
     "name": "stderr",
     "output_type": "stream",
     "text": [
      "81it [00:05, 14.75it/s]"
     ]
    },
    {
     "name": "stdout",
     "output_type": "stream",
     "text": [
      "['acc', 'kappa', 'auc', 'fmeasure', 'loss']\n",
      "Training Loss  0.8592098855677947\n"
     ]
    },
    {
     "name": "stderr",
     "output_type": "stream",
     "text": [
      "\n"
     ]
    },
    {
     "name": "stdout",
     "output_type": "stream",
     "text": [
      "Train -  [0.9317129629629629, 0.9089506172839507, 0.9653888150624905, 0.9317129629629629, tensor(0.8134)]\n",
      "Validation -  [0.5393518518518519, 0.3858024691358025, 0.765585407616979, 0.5393518518518519, tensor(1.1958)]\n",
      "\n",
      "Epoch  452\n"
     ]
    },
    {
     "name": "stderr",
     "output_type": "stream",
     "text": [
      "81it [00:05, 15.72it/s]"
     ]
    },
    {
     "name": "stdout",
     "output_type": "stream",
     "text": [
      "['acc', 'kappa', 'auc', 'fmeasure', 'loss']\n",
      "Training Loss  0.8551144408590999\n"
     ]
    },
    {
     "name": "stderr",
     "output_type": "stream",
     "text": [
      "\n"
     ]
    },
    {
     "name": "stdout",
     "output_type": "stream",
     "text": [
      "Train -  [0.9320987654320988, 0.9094650205761317, 0.9653563671696388, 0.9320987654320988, tensor(0.8133)]\n",
      "Validation -  [0.5412808641975309, 0.38837448559670784, 0.765769675925926, 0.5412808641975309, tensor(1.1959)]\n",
      "\n",
      "Epoch  453\n"
     ]
    },
    {
     "name": "stderr",
     "output_type": "stream",
     "text": [
      "81it [00:04, 19.84it/s]"
     ]
    },
    {
     "name": "stdout",
     "output_type": "stream",
     "text": [
      "['acc', 'kappa', 'auc', 'fmeasure', 'loss']\n",
      "Training Loss  0.8641977648676178\n"
     ]
    },
    {
     "name": "stderr",
     "output_type": "stream",
     "text": [
      "\n"
     ]
    },
    {
     "name": "stdout",
     "output_type": "stream",
     "text": [
      "Train -  [0.9328703703703703, 0.9104938271604939, 0.9653256061702993, 0.9328703703703703, tensor(0.8132)]\n",
      "Validation -  [0.5405092592592593, 0.38734567901234573, 0.765853722914444, 0.5405092592592593, tensor(1.1958)]\n",
      "\n",
      "Epoch  454\n"
     ]
    },
    {
     "name": "stderr",
     "output_type": "stream",
     "text": [
      "81it [00:04, 18.53it/s]"
     ]
    },
    {
     "name": "stdout",
     "output_type": "stream",
     "text": [
      "['acc', 'kappa', 'auc', 'fmeasure', 'loss']\n",
      "Training Loss  0.8611596138389023\n"
     ]
    },
    {
     "name": "stderr",
     "output_type": "stream",
     "text": [
      "\n"
     ]
    },
    {
     "name": "stdout",
     "output_type": "stream",
     "text": [
      "Train -  [0.9332561728395061, 0.9110082304526749, 0.9653187593672204, 0.9332561728395061, tensor(0.8133)]\n",
      "Validation -  [0.5420524691358025, 0.38940329218106995, 0.7658429069501601, 0.5420524691358025, tensor(1.1955)]\n",
      "\n",
      "Epoch  455\n"
     ]
    },
    {
     "name": "stderr",
     "output_type": "stream",
     "text": [
      "46it [00:02, 18.09it/s]"
     ]
    },
    {
     "name": "stdout",
     "output_type": "stream",
     "text": [
      "Train -  [0.9328703703703703, 0.9104938271604939, 0.9652707325166386, 0.9328703703703703, tensor(0.8133)]\n",
      "Validation -  [0.5420524691358025, 0.38940329218106995, 0.7657036886208912, 0.5420524691358025, tensor(1.1956)]\n",
      "\n",
      "Epoch  456\n"
     ]
    },
    {
     "name": "stderr",
     "output_type": "stream",
     "text": [
      "81it [00:05, 14.17it/s]"
     ]
    },
    {
     "name": "stdout",
     "output_type": "stream",
     "text": [
      "['acc', 'kappa', 'auc', 'fmeasure', 'loss']\n",
      "Training Loss  0.8564772517592819\n"
     ]
    },
    {
     "name": "stderr",
     "output_type": "stream",
     "text": [
      "\n"
     ]
    },
    {
     "name": "stdout",
     "output_type": "stream",
     "text": [
      "Train -  [0.9324845679012346, 0.9099794238683128, 0.965356565627699, 0.9324845679012346, tensor(0.8132)]\n",
      "Validation -  [0.5405092592592593, 0.38734567901234573, 0.7653550970380532, 0.5405092592592593, tensor(1.1955)]\n",
      "\n",
      "Epoch  457\n"
     ]
    },
    {
     "name": "stderr",
     "output_type": "stream",
     "text": [
      "81it [00:05, 14.57it/s]"
     ]
    },
    {
     "name": "stdout",
     "output_type": "stream",
     "text": [
      "['acc', 'kappa', 'auc', 'fmeasure', 'loss']\n",
      "Training Loss  0.8613858590891332\n"
     ]
    },
    {
     "name": "stderr",
     "output_type": "stream",
     "text": [
      "\n"
     ]
    },
    {
     "name": "stdout",
     "output_type": "stream",
     "text": [
      "Train -  [0.9328703703703703, 0.9104938271604939, 0.9653535887567951, 0.9328703703703703, tensor(0.8132)]\n",
      "Validation -  [0.5408950617283951, 0.38786008230452673, 0.765347158715643, 0.5408950617283951, tensor(1.1953)]\n",
      "\n",
      "Epoch  458\n"
     ]
    },
    {
     "name": "stderr",
     "output_type": "stream",
     "text": [
      "81it [00:04, 16.50it/s]"
     ]
    },
    {
     "name": "stdout",
     "output_type": "stream",
     "text": [
      "['acc', 'kappa', 'auc', 'fmeasure', 'loss']\n",
      "Training Loss  0.8523336891774778\n"
     ]
    },
    {
     "name": "stderr",
     "output_type": "stream",
     "text": [
      "\n"
     ]
    }
   ],
   "source": [
    "history = {\n",
    "    \"train_loss\": [],\n",
    "    \"test_loss\": [],\n",
    "    \"train_acc\": [],\n",
    "    \"test_acc\": [],\n",
    "    \"lr\": [],\n",
    "    \"train_kappa\": [],\n",
    "    \"test_kappa\": [],\n",
    "}\n",
    "batch_size = 32\n",
    "alpha = 0.5\n",
    "\n",
    "for epoch in range(1000):  # loop over the dataset multiple times\n",
    "    print(\"\\nEpoch \", epoch)\n",
    "\n",
    "    net.train()\n",
    "    running_loss = 0.0\n",
    "    for i, batch in tqdm(enumerate(train_dataloader)):\n",
    "        \n",
    "        # print(i)\n",
    "        inputs, labels = batch\n",
    "        # inputs = torch.permute(\n",
    "        #     torch.vstack(list(map(lambda a: a.unsqueeze(0), inputs.values()))),\n",
    "        #     (1, 2, 3, 0),\n",
    "        # )\n",
    "\n",
    "        # wrap them in Variable\n",
    "        # inputs, labels = inputs.cuda(0), labels.type(torch.LongTensor).cuda(0)\n",
    "\n",
    "        # zero the parameter gradients\n",
    "        optimizer.zero_grad()\n",
    "\n",
    "        # forward + backward + optimize\n",
    "        outputs, csp_out = net(inputs.float().cuda(0))\n",
    "        cls_loss = cls_criterion(\n",
    "            outputs, labels[\"label\"].type(torch.LongTensor).cuda(0)\n",
    "        )\n",
    "        # reg_loss = reg_criterion(csp, labels[\"csp\"].cuda(0))\n",
    "        # loss = cls_loss + (alpha * reg_loss)\n",
    "        loss = cls_loss\n",
    "        loss.backward()\n",
    "\n",
    "        optimizer.step()\n",
    "\n",
    "        running_loss += loss.item()\n",
    "\n",
    "    history[\"lr\"].append(optimizer.param_groups[0][\"lr\"])\n",
    "    # print(optimizer.param_groups[0][\"lr\"])\n",
    "    lr_scheduler.step()\n",
    "\n",
    "    # Validation accuracy\n",
    "    params = [\"acc\", \"kappa\", \"auc\", \"fmeasure\", \"loss\"]\n",
    "    print(params)\n",
    "    print(\"Training Loss \", running_loss / len(train_dataloader))\n",
    "    tr = evaluate(net, train_dataloader, params)\n",
    "    print(\"Train - \", tr)\n",
    "    ev = evaluate(net, val_dataloader, params)\n",
    "    print(\"Validation - \", ev)\n",
    "    history[\"train_loss\"].append(tr[-1])\n",
    "    history[\"train_acc\"].append(tr[0])\n",
    "    history[\"train_kappa\"].append(tr[1])\n",
    "\n",
    "    history[\"test_loss\"].append(ev[-1])\n",
    "    history[\"test_acc\"].append(ev[0])\n",
    "    history[\"test_kappa\"].append(ev[1])"
   ]
  },
  {
   "cell_type": "code",
   "execution_count": 85,
   "id": "57260759-62f1-420e-a30b-3f1cdea1ed3d",
   "metadata": {},
   "outputs": [
    {
     "data": {
      "text/plain": [
       "{'train_loss': tensor(0.9598),\n",
       " 'test_loss': tensor(1.1683),\n",
       " 'train_acc': 0.7800925925925926,\n",
       " 'test_acc': 0.5655864197530864,\n",
       " 'lr': 0.001,\n",
       " 'train_kappa': 0.7067901234567902,\n",
       " 'test_kappa': 0.4207818930041153}"
      ]
     },
     "execution_count": 85,
     "metadata": {},
     "output_type": "execute_result"
    }
   ],
   "source": [
    "idx = np.argmax(history[\"test_acc\"])\n",
    "{k: history[k][idx] for k in history.keys()}"
   ]
  },
  {
   "cell_type": "code",
   "execution_count": 74,
   "id": "6e248047-7ef3-403c-abca-f7a62b76e677",
   "metadata": {},
   "outputs": [],
   "source": [
    "import matplotlib.pyplot as plt"
   ]
  },
  {
   "cell_type": "code",
   "execution_count": 86,
   "id": "7984f176-0004-49ce-b610-66f7397e0f0e",
   "metadata": {},
   "outputs": [
    {
     "data": {
      "text/plain": [
       "[<matplotlib.lines.Line2D at 0x7f13ee592970>]"
      ]
     },
     "execution_count": 86,
     "metadata": {},
     "output_type": "execute_result"
    },
    {
     "data": {
      "image/png": "[encoded data removed]",
      "text/plain": [
       "<Figure size 640x480 with 1 Axes>"
      ]
     },
     "metadata": {},
     "output_type": "display_data"
    }
   ],
   "source": [
    "plt.plot([i for i in range(len(history[\"lr\"]))], history[\"lr\"])"
   ]
  },
  {
   "cell_type": "code",
   "execution_count": 87,
   "id": "df14c4d2-bef1-49ba-8767-4760014b4b0a",
   "metadata": {},
   "outputs": [
    {
     "data": {
      "image/png": "[encoded data removed]",
      "text/plain": [
       "<Figure size 1200x600 with 6 Axes>"
      ]
     },
     "metadata": {},
     "output_type": "display_data"
    }
   ],
   "source": [
    "fig, axs = plt.subplots(2, 3, figsize=(12, 6))\n",
    "\n",
    "for i, title in enumerate(\n",
    "    [\n",
    "        \"train_loss\",\n",
    "        \"train_acc\",\n",
    "        \"train_kappa\",\n",
    "        \"test_loss\",\n",
    "        \"test_acc\",\n",
    "        \"test_kappa\",\n",
    "    ]\n",
    "):\n",
    "    axs[i // 3, i % 3].plot([i for i in range(len(history[title]))], history[title])\n",
    "    axs[i // 3, i % 3].set_title(title)\n",
    "\n",
    "for ax in axs.flat:\n",
    "    ax.set(xlabel=\"epochs\", ylabel=\"\")\n",
    "\n",
    "# Hide x labels and tick labels for top plots and y ticks for right plots.\n",
    "# for ax in axs.flat:\n",
    "#     ax.label_outer()"
   ]
  },
  {
   "cell_type": "code",
   "execution_count": 88,
   "id": "32a858f1-f659-41ad-9e5d-128e4a29306a",
   "metadata": {},
   "outputs": [
    {
     "data": {
      "image/png": "[encoded data removed]",
      "text/plain": [
       "<Figure size 1200x600 with 6 Axes>"
      ]
     },
     "metadata": {},
     "output_type": "display_data"
    }
   ],
   "source": [
    "fig, axs = plt.subplots(2, 3, figsize=(12, 6))\n",
    "\n",
    "for i, title in enumerate(\n",
    "    [\n",
    "        \"train_loss\",\n",
    "        \"train_acc\",\n",
    "        \"train_kappa\",\n",
    "        \"test_loss\",\n",
    "        \"test_acc\",\n",
    "        \"test_kappa\",\n",
    "    ]\n",
    "):\n",
    "    axs[i // 3, i % 3].plot([i for i in range(len(history[title]))], history[title])\n",
    "    axs[i // 3, i % 3].set_title(title)\n",
    "\n",
    "for ax in axs.flat:\n",
    "    ax.set(xlabel=\"epochs\", ylabel=\"\")\n",
    "\n",
    "# Hide x labels and tick labels for top plots and y ticks for right plots.\n",
    "for ax in axs.flat:\n",
    "    ax.label_outer()"
   ]
  }
 ],
 "metadata": {
  "kernelspec": {
   "display_name": "Python 3 (ipykernel)",
   "language": "python",
   "name": "python3"
  },
  "language_info": {
   "codemirror_mode": {
    "name": "ipython",
    "version": 3
   },
   "file_extension": ".py",
   "mimetype": "text/x-python",
   "name": "python",
   "nbconvert_exporter": "python",
   "pygments_lexer": "ipython3",
   "version": "3.8.10"
  }
 },
 "nbformat": 4,
 "nbformat_minor": 5
}
