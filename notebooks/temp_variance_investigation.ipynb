{
 "cells": [
  {
   "cell_type": "code",
   "execution_count": null,
   "id": "4bf2c92b-4245-4af8-99c4-6aef21d24ddb",
   "metadata": {},
   "outputs": [],
   "source": [
    "!pip install nb-black"
   ]
  },
  {
   "cell_type": "code",
   "execution_count": 1,
   "id": "3be9923b-6606-4653-b1e7-f1541bf289ee",
   "metadata": {},
   "outputs": [],
   "source": [
    "%config Completer.use_jedi = False\n",
    "%load_ext autoreload\n",
    "# %reload_ext autoreload\n",
    "%autoreload 2\n",
    "%load_ext lab_black"
   ]
  },
  {
   "cell_type": "code",
   "execution_count": 2,
   "id": "c30519aa-cc5c-4a2a-9e92-47d774a41d45",
   "metadata": {},
   "outputs": [],
   "source": [
    "import sys\n",
    "\n",
    "sys.path.insert(0, \"../\")"
   ]
  },
  {
   "cell_type": "markdown",
   "id": "2f60011c-a3e7-42c1-b150-559c77e529d4",
   "metadata": {},
   "source": [
    "## Dataset"
   ]
  },
  {
   "cell_type": "code",
   "execution_count": 3,
   "id": "6cccc8b8-caeb-43db-858f-998a2fefc7e9",
   "metadata": {},
   "outputs": [
    {
     "name": "stderr",
     "output_type": "stream",
     "text": [
      "/usr/local/lib/python3.8/dist-packages/tqdm/auto.py:22: TqdmWarning: IProgress not found. Please update jupyter and ipywidgets. See https://ipywidgets.readthedocs.io/en/stable/user_install.html\n",
      "  from .autonotebook import tqdm as notebook_tqdm\n",
      "/usr/lib/python3/dist-packages/requests/__init__.py:89: RequestsDependencyWarning: urllib3 (1.26.12) or chardet (3.0.4) doesn't match a supported version!\n",
      "  warnings.warn(\"urllib3 ({}) or chardet ({}) doesn't match a supported \"\n"
     ]
    }
   ],
   "source": [
    "import os\n",
    "from typing import Dict, List, Tuple, Any, Union, Callable\n",
    "from torch import Tensor\n",
    "import torch\n",
    "import numpy as np\n",
    "import scipy\n",
    "from torch.utils.data import DataLoader\n",
    "from pytorch_lightning.utilities.apply_func import apply_to_collection\n",
    "from cspnn.data.bci.bci_dataset import BCI2aDataset\n",
    "from cspnn.data.utils import eeg_electrode_configs"
   ]
  },
  {
   "cell_type": "code",
   "execution_count": 4,
   "id": "9a716bcf-61fe-41cc-b946-ea462962a0ed",
   "metadata": {
    "tags": []
   },
   "outputs": [],
   "source": [
    "class ToTensor:\n",
    "    def __init__(self, device):\n",
    "        if isinstance(device, str):\n",
    "            device = torch.device(device)\n",
    "        self.device = device\n",
    "\n",
    "    def __call__(self, data, label):\n",
    "        data = apply_to_collection(\n",
    "            data,\n",
    "            dtype=(np.ndarray, int, float, np.int64),\n",
    "            function=lambda a: torch.from_numpy(a),\n",
    "        )\n",
    "        label = apply_to_collection(\n",
    "            label,\n",
    "            dtype=(np.ndarray, int, float, np.int64),\n",
    "            function=lambda a: torch.tensor(a, dtype=torch.float64),\n",
    "        )\n",
    "\n",
    "        return data, label\n",
    "\n",
    "\n",
    "class ToNumpy:\n",
    "    def __call__(self, data, label):\n",
    "        data = apply_to_collection(\n",
    "            data,\n",
    "            dtype=(np.ndarray, int, float, np.int64),\n",
    "            function=lambda a: a.cpu().detach().numpy(),\n",
    "        )\n",
    "        label = apply_to_collection(\n",
    "            label,\n",
    "            dtype=(np.ndarray, int, float, np.int64),\n",
    "            function=lambda a: a.cpu().detach().numpy(),\n",
    "        )\n",
    "\n",
    "        return data, label\n",
    "\n",
    "\n",
    "class DictToTensor:\n",
    "    def __call__(self, data: Dict[str, Tensor], label):\n",
    "        # The output shape [batch, channel, signal]\n",
    "        return (\n",
    "            torch.permute(\n",
    "                torch.vstack(list(map(lambda a: a.unsqueeze(0), data.values()))),\n",
    "                (1, 0, 2),\n",
    "            ),\n",
    "            label,\n",
    "        )\n",
    "\n",
    "\n",
    "class DictToArray:\n",
    "    def __call__(self, data, label):\n",
    "        # The output shape [batch, channel, signal]\n",
    "        return (\n",
    "            np.transpose(\n",
    "                np.vstack(\n",
    "                    list(map(lambda a: np.expand_dims(a, axis=0), data.values()))\n",
    "                ),\n",
    "                (1, 0, 2),\n",
    "            ),\n",
    "            label,\n",
    "        )\n",
    "\n",
    "\n",
    "class Windowing:\n",
    "    def __init__(self, n_segments: int = 5, sample_rate: float = 250.0):\n",
    "        self.n_segments = n_segments\n",
    "        self.sample_rate = sample_rate\n",
    "\n",
    "    # The Output of the signal is [batch, channels, windowed, band_filtered, signal]\n",
    "    def __call__(self, data: Tensor, label):\n",
    "        \"\"\"Takes as input a signal tensor of shape [batch, channels, band_filtered, signal]\n",
    "        and outputs a signal tensor of shape [batch, channels, windowed, band_filtered, signal]\n",
    "        \"\"\"\n",
    "        start, end = 0, data.size()[-1]\n",
    "        step = int((end - start) / self.n_segments)\n",
    "        windows = np.arange(start, end - step, step=step)\n",
    "\n",
    "        if len(windows) == 0:\n",
    "            data = data.unsqueeze(dim=2)\n",
    "            return data, label\n",
    "\n",
    "        windowed_data = torch.permute(\n",
    "            torch.stack(\n",
    "                [data[:, :, :, window : (window + step)] for window in windows], dim=0\n",
    "            ),\n",
    "            (1, 2, 0, 3, 4),\n",
    "        )\n",
    "\n",
    "        return windowed_data, label\n",
    "\n",
    "\n",
    "class Filtering:\n",
    "    def __init__(self, N: int, rs: float, Wns: List[float], bandwidth, fs: float):\n",
    "        self.N = N\n",
    "        self.rs = rs\n",
    "        self.Wns = Wns / (fs / 2)  # Normalize the signals\n",
    "        self.bandwidth = bandwidth / (fs / 2)  # Normalize the signals\n",
    "        self.fs = fs\n",
    "\n",
    "    # The Output of the signal is [batch, channels, band_filtered, signal]\n",
    "    def __call__(self, data, label):\n",
    "        filtered_data = []\n",
    "\n",
    "        for wn in self.Wns:\n",
    "            b, a = scipy.signal.cheby2(\n",
    "                N=self.N,\n",
    "                rs=self.rs,\n",
    "                Wn=[wn, wn + self.bandwidth],\n",
    "                btype=\"bandpass\",\n",
    "                fs=self.fs,\n",
    "            )\n",
    "            filtered_data.append(scipy.signal.filtfilt(b, a, data, axis=-1))\n",
    "\n",
    "        filtered_data = torch.permute(torch.Tensor(filtered_data), (1, 2, 0, 3))\n",
    "\n",
    "        return filtered_data, label\n",
    "\n",
    "\n",
    "class ExpandDim(object):\n",
    "    def __init__(self, dim):\n",
    "        self.dim = dim\n",
    "\n",
    "    def __call__(self, data, label):\n",
    "        return data.unsqueeze_(self.dim), label\n",
    "\n",
    "\n",
    "class LabelToDict:\n",
    "    def __call__(self, data, label):\n",
    "        return data, {\"label\": label}\n",
    "\n",
    "\n",
    "class ToNumpy:\n",
    "    def __call__(self, data, label):\n",
    "        return data.cpu().detach().numpy(), label.cpu().detach().numpy()\n",
    "\n",
    "\n",
    "class Compose:\n",
    "    def __init__(self, transforms: List[Callable]) -> None:\n",
    "        self.transforms = transforms\n",
    "\n",
    "    def __call__(self, data: Any, target: Any):\n",
    "        for t in self.transforms:\n",
    "            data, target = t(data, target)\n",
    "        return data, target\n",
    "\n",
    "    def __repr__(self):\n",
    "        return \"\\n\".join([c.__class__.__name__ for c in self.transforms])\n",
    "\n",
    "\n",
    "# TODO: complete this part\n",
    "from scipy.signal import cheby2, filtfilt\n",
    "\n",
    "\n",
    "def cheby_bandpass_filter(signal, attenuation, lowcut, highcut, fs, order=5):\n",
    "    nyq = 0.5 * fs\n",
    "    low = lowcut / nyq\n",
    "    high = highcut / nyq\n",
    "    b, a = cheby2(order, rs=attenuation, Wn=[low, high], btype=\"band\")\n",
    "    y = filtfilt(b, a, signal, axis=-1)\n",
    "    # print(\"filtered shape \", y.shape)\n",
    "    return y\n",
    "\n",
    "\n",
    "def cheby_bandpass_one_subject(\n",
    "    X, attenuation, lowcut, highcut, fs, interval=None, verbose=True\n",
    "):\n",
    "    temp_epoch_EEG = X.copy()\n",
    "    # print(f\"data shape : {temp_epoch_EEG.shape}\")\n",
    "\n",
    "    if interval is not None:\n",
    "        startband = np.arange(lowcut, highcut, step=interval)\n",
    "\n",
    "        bands = []\n",
    "        for start in startband:\n",
    "            # This will be new key inside the EEG_filtered\n",
    "            band = \"{:02d}_{:02d}\".format(start, start + interval)\n",
    "\n",
    "            if verbose:\n",
    "                print(\"Filtering through {} Hz band\".format(band))\n",
    "            # Bandpass filtering\n",
    "            bands.append(\n",
    "                cheby_bandpass_filter(\n",
    "                    temp_epoch_EEG, attenuation, start, start + interval, fs\n",
    "                )\n",
    "            )\n",
    "\n",
    "        return np.vstack(bands)\n",
    "\n",
    "    else:\n",
    "        # This will be new key inside the EEG_filtered\n",
    "        band = \"{:02d}_{:02d}\".format(lowcut, highcut)\n",
    "\n",
    "        return cheby_bandpass_filter(temp_epoch_EEG, attenuation, lowcut, highcut, fs)\n",
    "\n",
    "\n",
    "from functools import partial\n",
    "\n",
    "\n",
    "class BandPass:\n",
    "    def __init__(self, attenuation, lowcut, highcut, fs, interval=None):\n",
    "        self.attenuation = attenuation\n",
    "        self.lowcut = lowcut\n",
    "        self.highcut = highcut\n",
    "        self.fs = fs\n",
    "        self.interval = interval\n",
    "\n",
    "        self.bandpass_func = partial(\n",
    "            cheby_bandpass_one_subject,\n",
    "            attenuation=self.attenuation,\n",
    "            lowcut=self.lowcut,\n",
    "            highcut=self.highcut,\n",
    "            fs=self.fs,\n",
    "            interval=self.interval,\n",
    "            verbose=False,\n",
    "        )\n",
    "\n",
    "    # The Output of the signal is [batch, channels, band_filtered, signal]\n",
    "    def __call__(self, data, label):\n",
    "        filtered_data = data = apply_to_collection(\n",
    "            data,\n",
    "            dtype=(np.ndarray, int, float, np.int64, Tensor),\n",
    "            function=self.bandpass_func,\n",
    "        )\n",
    "\n",
    "        filtered_data = np.expand_dims(filtered_data.transpose(1, 0, 2), axis=0)\n",
    "\n",
    "        return filtered_data, label"
   ]
  },
  {
   "cell_type": "code",
   "execution_count": 5,
   "id": "97c1ca1c-3ee5-439d-be82-523e85faf35c",
   "metadata": {},
   "outputs": [],
   "source": [
    "directory = \"../test_data\"\n",
    "electrod_positions, shape = eeg_electrode_configs(\n",
    "    \"../configs/eeg_recording_standard/international_10_20_22.py\"\n",
    ")\n",
    "if not os.path.exists(directory):\n",
    "    os.makedirs(directory)\n",
    "\n",
    "\n",
    "fs = 250\n",
    "low_freq = 4\n",
    "high_freq = 38\n",
    "bandwidth = 4\n",
    "overlap = 2\n",
    "\n",
    "freqs = np.arange(low_freq, high_freq - (bandwidth - overlap), overlap)\n",
    "\n",
    "lowcut = 4\n",
    "highcut = 40\n",
    "fs = 250\n",
    "attenuation = 40\n",
    "interval = 4\n",
    "\n",
    "transforms = [\n",
    "    ToTensor(device=\"cuda\"),\n",
    "    DictToTensor(),\n",
    "    # ToNumpy(),\n",
    "    # BandPass(\n",
    "    #     attenuation=attenuation,\n",
    "    #     lowcut=lowcut,\n",
    "    #     highcut=highcut,\n",
    "    #     fs=fs,\n",
    "    #     interval=interval,\n",
    "    # ),\n",
    "    # ToTensor(device=\"cpu\"),\n",
    "    # Filtering(N=4, rs=40, Wns=freqs, bandwidth=bandwidth, fs=fs),\n",
    "    ExpandDim(dim=2),\n",
    "    ExpandDim(dim=2),\n",
    "    # Windowing(n_segments=1),\n",
    "    LabelToDict(),\n",
    "]\n",
    "compose = Compose(transforms=transforms)\n",
    "\n",
    "ds = BCI2aDataset(\n",
    "    eeg_electrode_positions=electrod_positions,\n",
    "    data_path=directory,\n",
    "    transforms=compose,\n",
    ")"
   ]
  },
  {
   "cell_type": "code",
   "execution_count": null,
   "id": "b8e39c04-9b10-422c-a83b-b680b3bfea28",
   "metadata": {
    "tags": []
   },
   "outputs": [],
   "source": [
    "for i in range(len(ds)):\n",
    "    wave, label = ds[i]\n",
    "    print(wave.min(), wave.max())\n",
    "    print(wave.shape)\n",
    "    if np.isnan(wave).any() or np.isinf(wave).any():\n",
    "        print(f\"date {i} : has NAN or INF\")\n",
    "    break"
   ]
  },
  {
   "cell_type": "code",
   "execution_count": 6,
   "id": "f4beeb3f-3e2c-4a8d-93f9-f14b2d2bf155",
   "metadata": {},
   "outputs": [],
   "source": [
    "def collate_fn(batch):\n",
    "    imgs = torch.vstack([item[0] for item in batch])\n",
    "\n",
    "    trgts = {}\n",
    "    sample_item_label = batch[0][1]\n",
    "    for label_key in sample_item_label.keys():\n",
    "        if isinstance(sample_item_label[label_key], dict):\n",
    "            trgts[label_key] = {\n",
    "                key: torch.vstack([item[1][label_key][key].squeeze() for item in batch])\n",
    "                for key in sample_item_label[label_key].keys()\n",
    "            }\n",
    "        else:\n",
    "            trgts[label_key] = torch.vstack(\n",
    "                [item[1][label_key] for item in batch]\n",
    "            ).squeeze()\n",
    "\n",
    "    return [imgs, trgts]"
   ]
  },
  {
   "cell_type": "code",
   "execution_count": 7,
   "id": "05fd663e-d920-440d-932d-d2e225744a75",
   "metadata": {},
   "outputs": [],
   "source": [
    "batch_size = 32\n",
    "train_dataset, val_dataset = ds.get_train_test_subsets()\n",
    "\n",
    "train_dataloader = DataLoader(\n",
    "    train_dataset,\n",
    "    batch_size=batch_size,\n",
    "    shuffle=True,\n",
    "    collate_fn=collate_fn,\n",
    "    num_workers=os.cpu_count(),\n",
    ")\n",
    "\n",
    "\n",
    "val_dataloader = DataLoader(\n",
    "    val_dataset,\n",
    "    batch_size=batch_size,\n",
    "    collate_fn=collate_fn,\n",
    "    num_workers=os.cpu_count(),\n",
    ")"
   ]
  },
  {
   "cell_type": "markdown",
   "id": "491a9be7-7113-4384-beb6-9565f55f012b",
   "metadata": {},
   "source": [
    "## Get CSP Weights"
   ]
  },
  {
   "cell_type": "code",
   "execution_count": 8,
   "id": "651ea1cf-e8f3-494a-a16b-6333ebbcd3d0",
   "metadata": {},
   "outputs": [],
   "source": [
    "from cspnn.csp import CSP as CSP_base"
   ]
  },
  {
   "cell_type": "code",
   "execution_count": 9,
   "id": "888cc158-3cd6-4fc7-a691-f804755f8858",
   "metadata": {},
   "outputs": [],
   "source": [
    "csp_dataloader = DataLoader(\n",
    "    train_dataset,\n",
    "    batch_size=1,\n",
    "    shuffle=False,\n",
    "    collate_fn=collate_fn,\n",
    "    num_workers=1,\n",
    ")\n",
    "\n",
    "csp = CSP_base(list(range(1, 5)), num_bands=1, num_windows=1)"
   ]
  },
  {
   "cell_type": "code",
   "execution_count": 54,
   "id": "b08bdbd8-abc4-48c3-82ec-1074ea4a8959",
   "metadata": {
    "scrolled": true,
    "tags": []
   },
   "outputs": [],
   "source": [
    "signale = []\n",
    "label = []\n",
    "for sig, lbl in csp_dataloader:\n",
    "    signale.append(sig)\n",
    "    label.append(lbl[\"label\"])\n",
    "signale = torch.vstack(signale)\n",
    "label = torch.stack(label)"
   ]
  },
  {
   "cell_type": "code",
   "execution_count": 55,
   "id": "a42440e1-cfa7-49ec-92f7-88db12fe9a4e",
   "metadata": {},
   "outputs": [
    {
     "data": {
      "text/plain": [
       "(torch.Size([2592, 22, 1, 1, 1001]), torch.Size([2592]))"
      ]
     },
     "execution_count": 55,
     "metadata": {},
     "output_type": "execute_result"
    }
   ],
   "source": [
    "signale.size(), label.size()"
   ]
  },
  {
   "cell_type": "code",
   "execution_count": 12,
   "id": "045b0ab3-856b-48ac-b438-d7dc1b445331",
   "metadata": {
    "tags": []
   },
   "outputs": [],
   "source": [
    "weights = csp.calculate_weights(\n",
    "    signals=signale.cpu().detach().numpy(), labels=label.cpu().detach().numpy()\n",
    ")"
   ]
  },
  {
   "cell_type": "code",
   "execution_count": 27,
   "id": "f98e151d-1d9a-40a4-ad05-0841e8994215",
   "metadata": {},
   "outputs": [
    {
     "data": {
      "text/plain": [
       "dict_keys(['label-1_band-0_window-0', 'label-2_band-0_window-0', 'label-3_band-0_window-0', 'label-4_band-0_window-0'])"
      ]
     },
     "execution_count": 27,
     "metadata": {},
     "output_type": "execute_result"
    }
   ],
   "source": [
    "weights.keys()"
   ]
  },
  {
   "cell_type": "code",
   "execution_count": 39,
   "id": "15b440b8-6bd3-4805-8c67-282e69cdda44",
   "metadata": {},
   "outputs": [],
   "source": [
    "import matplotlib.pyplot as plt\n",
    "import scipy.linalg as la"
   ]
  },
  {
   "cell_type": "code",
   "execution_count": 135,
   "id": "b284aace-e3ae-43dd-adf7-29afe51222a1",
   "metadata": {},
   "outputs": [],
   "source": [
    "def calc_cov(EEG_data):\n",
    "    \"\"\"\n",
    "    INPUT:\n",
    "    EEG_data : EEG_data in shape T x N x S\n",
    "\n",
    "    OUTPUT:\n",
    "    avg_cov : covariance matrix of averaged over all trials\n",
    "    \"\"\"\n",
    "    cov = []\n",
    "    for i in range(EEG_data.shape[0]):\n",
    "        cov.append(EEG_data[i] @ EEG_data[i].T / np.trace(EEG_data[i] @ EEG_data[i].T))\n",
    "\n",
    "    cov = np.mean(np.array(cov), 0)\n",
    "\n",
    "    return cov"
   ]
  },
  {
   "cell_type": "code",
   "execution_count": 233,
   "id": "5f0a17a6-5bff-47a1-b3ea-9b2b76a8275d",
   "metadata": {},
   "outputs": [],
   "source": [
    "signal = signale.squeeze().cpu().detach().numpy()"
   ]
  },
  {
   "cell_type": "code",
   "execution_count": 234,
   "id": "4cdac233-db50-4e8f-be98-e05279766688",
   "metadata": {},
   "outputs": [
    {
     "data": {
      "text/plain": [
       "(22, 22)"
      ]
     },
     "execution_count": 234,
     "metadata": {},
     "output_type": "execute_result"
    }
   ],
   "source": [
    "x = signal\n",
    "x = calc_cov(x)\n",
    "x.shape"
   ]
  },
  {
   "cell_type": "code",
   "execution_count": 235,
   "id": "5ef3dcd1-9362-4b66-8928-2999451d9cc8",
   "metadata": {},
   "outputs": [
    {
     "data": {
      "image/png": "[encoded data removed]",
      "text/plain": [
       "<Figure size 640x480 with 1 Axes>"
      ]
     },
     "metadata": {},
     "output_type": "display_data"
    }
   ],
   "source": [
    "plt.imshow(x, cmap=\"hot\", interpolation=\"nearest\")\n",
    "plt.show()"
   ]
  },
  {
   "cell_type": "code",
   "execution_count": 190,
   "id": "6e44b43c-f0e6-478d-bced-6025fef11d2f",
   "metadata": {
    "tags": []
   },
   "outputs": [
    {
     "data": {
      "text/plain": [
       "(22, 22)"
      ]
     },
     "execution_count": 190,
     "metadata": {},
     "output_type": "execute_result"
    }
   ],
   "source": [
    "lda, V = la.eig(x)\n",
    "x = signal\n",
    "x = V.T @ x\n",
    "\n",
    "x = calc_cov(x)\n",
    "x.shape"
   ]
  },
  {
   "cell_type": "code",
   "execution_count": 194,
   "id": "59e21ee2-940e-4a61-8d5f-c7e0687b21f4",
   "metadata": {},
   "outputs": [
    {
     "data": {
      "image/png": "[encoded data removed]",
      "text/plain": [
       "<Figure size 640x480 with 1 Axes>"
      ]
     },
     "metadata": {},
     "output_type": "display_data"
    }
   ],
   "source": [
    "plt.imshow(x, cmap=\"hot\", interpolation=\"nearest\")\n",
    "plt.show()"
   ]
  },
  {
   "cell_type": "code",
   "execution_count": 88,
   "id": "4fc8b245-7922-45cc-9fc5-91e5c5ae3d77",
   "metadata": {},
   "outputs": [
    {
     "data": {
      "text/plain": [
       "array([0., 1., 2., 3.])"
      ]
     },
     "execution_count": 88,
     "metadata": {},
     "output_type": "execute_result"
    }
   ],
   "source": [
    "np.unique(label.cpu().detach().numpy())"
   ]
  },
  {
   "cell_type": "code",
   "execution_count": 132,
   "id": "e6d61f0f-fb04-4959-a518-f986f4248562",
   "metadata": {},
   "outputs": [
    {
     "data": {
      "text/plain": [
       "(648, 22, 1001)"
      ]
     },
     "execution_count": 132,
     "metadata": {},
     "output_type": "execute_result"
    }
   ],
   "source": [
    "x = signal\n",
    "l = label.cpu().detach().numpy()\n",
    "x = x[l == 0]\n",
    "x = weights[\"label-1_band-0_window-0\"][:, :].T @ x\n",
    "x.shape"
   ]
  },
  {
   "cell_type": "code",
   "execution_count": 133,
   "id": "5c89f5a4-7b0d-481e-8f0f-58a50e1b974e",
   "metadata": {},
   "outputs": [
    {
     "data": {
      "text/plain": [
       "(22, 22)"
      ]
     },
     "execution_count": 133,
     "metadata": {},
     "output_type": "execute_result"
    }
   ],
   "source": [
    "x = calc_cov(x)\n",
    "x.shape"
   ]
  },
  {
   "cell_type": "code",
   "execution_count": 134,
   "id": "9e8d321c-82bc-4470-8e23-e5918f3fbbe0",
   "metadata": {},
   "outputs": [
    {
     "data": {
      "image/png": "[encoded data removed]",
      "text/plain": [
       "<Figure size 640x480 with 1 Axes>"
      ]
     },
     "metadata": {},
     "output_type": "display_data"
    }
   ],
   "source": [
    "plt.imshow(x, cmap=\"hot\", interpolation=\"nearest\")\n",
    "plt.show()"
   ]
  },
  {
   "cell_type": "code",
   "execution_count": 43,
   "id": "91e77aa4-3631-402c-817b-1733ae9d5f0b",
   "metadata": {},
   "outputs": [
    {
     "data": {
      "text/plain": [
       "array([7.73504491e-01+0.j, 1.00965334e-01+0.j, 7.16946712e-02+0.j,\n",
       "       1.92050845e-02+0.j, 1.09465760e-02+0.j, 6.69467909e-03+0.j,\n",
       "       3.68996201e-03+0.j, 3.03606248e-03+0.j, 2.21828022e-03+0.j,\n",
       "       2.12517147e-03+0.j, 1.50657358e-03+0.j, 1.30040655e-03+0.j,\n",
       "       6.98839495e-04+0.j, 4.60266156e-04+0.j, 4.16383610e-04+0.j,\n",
       "       3.74075559e-04+0.j, 1.02779602e-04+0.j, 1.27061118e-04+0.j,\n",
       "       2.83568977e-04+0.j, 2.61974418e-04+0.j, 1.99472880e-04+0.j,\n",
       "       1.88286839e-04+0.j])"
      ]
     },
     "execution_count": 43,
     "metadata": {},
     "output_type": "execute_result"
    }
   ],
   "source": [
    "lda"
   ]
  },
  {
   "cell_type": "code",
   "execution_count": 155,
   "id": "04da967d-2363-4278-b3f0-fee72d99e623",
   "metadata": {},
   "outputs": [],
   "source": [
    "x_trial = signal[l == 1]\n",
    "x_rest = signal[l != 1]"
   ]
  },
  {
   "cell_type": "code",
   "execution_count": 213,
   "id": "19ff515b-41b4-4dba-af31-d124f450ac2f",
   "metadata": {},
   "outputs": [],
   "source": [
    "R_a = calc_cov(x_trial)\n",
    "R_b = calc_cov(x_rest)\n",
    "R_c = R_a + R_b\n",
    "\n",
    "lda, V = la.eig(R_c)\n",
    "W = la.sqrtm(la.inv(np.diag(lda))) @ V.T\n",
    "T_a = W @ R_a @ W.T\n",
    "T_b = W @ R_b @ W.T\n",
    "T_c = W @ R_c @ W.T\n",
    "\n",
    "sai, E = la.eig(T_a, T_c)\n",
    "_, Ep = la.eig(T_a, T_b)\n",
    "_, E_a = la.eig(R_a)\n",
    "_, E_b = la.eig(R_b)"
   ]
  },
  {
   "cell_type": "code",
   "execution_count": 230,
   "id": "b0280c65-a5e3-43e4-8fc2-0396f610fa63",
   "metadata": {},
   "outputs": [],
   "source": [
    "En = E_a @ E_b.T"
   ]
  },
  {
   "cell_type": "code",
   "execution_count": 231,
   "id": "7b8cdd84-b0d8-4610-857a-91556190ffe7",
   "metadata": {},
   "outputs": [
    {
     "data": {
      "image/png": "[encoded data removed]",
      "text/plain": [
       "<Figure size 640x480 with 1 Axes>"
      ]
     },
     "metadata": {},
     "output_type": "display_data"
    }
   ],
   "source": [
    "plt.imshow(En.real, cmap=\"hot\", interpolation=\"nearest\")\n",
    "plt.show()"
   ]
  },
  {
   "cell_type": "code",
   "execution_count": 232,
   "id": "d7094e92-bb76-4096-a18d-4fbfbaae3603",
   "metadata": {},
   "outputs": [
    {
     "data": {
      "image/png": "[encoded data removed]",
      "text/plain": [
       "<Figure size 640x480 with 1 Axes>"
      ]
     },
     "metadata": {},
     "output_type": "display_data"
    }
   ],
   "source": [
    "x = signal\n",
    "# x = x[l == 1]\n",
    "x = En.real.T @ x\n",
    "x = calc_cov(x)\n",
    "\n",
    "plt.imshow(x, cmap=\"hot\", interpolation=\"nearest\")\n",
    "plt.show()"
   ]
  },
  {
   "cell_type": "markdown",
   "id": "296ac82d-6f53-45c3-87a3-af820ae9381e",
   "metadata": {},
   "source": [
    "## Model"
   ]
  },
  {
   "cell_type": "code",
   "execution_count": null,
   "id": "d17aaf20-45a1-4345-97a8-b9c93a8b5fa3",
   "metadata": {},
   "outputs": [],
   "source": [
    "import torch\n",
    "import numpy as np\n",
    "import torch.nn as nn\n",
    "from cspnn.csp_nn import CSP, CSPNN"
   ]
  },
  {
   "cell_type": "code",
   "execution_count": null,
   "id": "478a2bff-311f-4b26-a27c-b9b646712a4b",
   "metadata": {},
   "outputs": [],
   "source": [
    "import torch.optim as optim"
   ]
  },
  {
   "cell_type": "code",
   "execution_count": null,
   "id": "1d94a4ce-32c0-4251-81b0-6fa1f1728165",
   "metadata": {},
   "outputs": [],
   "source": [
    "import numpy as np\n",
    "from sklearn.metrics import (\n",
    "    roc_auc_score,\n",
    "    precision_score,\n",
    "    recall_score,\n",
    "    accuracy_score,\n",
    "    cohen_kappa_score,\n",
    ")\n",
    "import torch\n",
    "import torch.nn as nn\n",
    "import torch.optim as optim\n",
    "from torch.autograd import Variable\n",
    "import torch.nn.functional as F\n",
    "import torch.optim as optim\n",
    "\n",
    "from tqdm import tqdm\n",
    "import random"
   ]
  },
  {
   "cell_type": "code",
   "execution_count": null,
   "id": "4dc6f76e-493d-4193-b330-8ee365d02967",
   "metadata": {},
   "outputs": [],
   "source": [
    "class CSPNNCls(nn.Module):\n",
    "    def __init__(\n",
    "        self,\n",
    "        num_channels: int,\n",
    "        num_features: int = None,\n",
    "        num_bands: int = None,\n",
    "        num_windows: int = 1,\n",
    "        num_labels: int = None,\n",
    "        mode: str = \"constant\",\n",
    "    ):\n",
    "        super(CSPNNCls, self).__init__()\n",
    "        self.num_channels = num_channels\n",
    "        self.num_features = num_channels if num_features is None else num_features\n",
    "        self.num_bands = num_bands\n",
    "        self.num_windows = num_windows\n",
    "        self.num_labels = num_labels\n",
    "        self.mode = mode\n",
    "\n",
    "        self.conv1 = CSPNN(\n",
    "            num_channels=num_channels,\n",
    "            num_features=num_features,\n",
    "            num_bands=num_bands,\n",
    "            num_windows=num_windows,\n",
    "            num_labels=num_labels,\n",
    "            mode=self.mode,\n",
    "        )\n",
    "\n",
    "        self.fc1 = nn.Linear(\n",
    "            self.num_bands * self.num_windows * self.num_labels * self.num_features, 500\n",
    "        )\n",
    "        self.fc = nn.Linear(500, 4)\n",
    "\n",
    "    def forward(self, x):\n",
    "        csp = self.conv1(x)\n",
    "\n",
    "        features = csp.reshape(\n",
    "            (\n",
    "                -1,\n",
    "                self.num_bands * self.num_windows * self.num_labels * self.num_features,\n",
    "            )\n",
    "        )\n",
    "\n",
    "        x = torch.tanh(self.fc1(features))\n",
    "\n",
    "        x = F.softmax(self.fc(x), dim=1)\n",
    "        if self.training:\n",
    "            return x, csp\n",
    "        return x\n",
    "\n",
    "\n",
    "net = CSPNNCls(\n",
    "    num_channels=22, num_features=22, num_bands=1, num_windows=1, num_labels=4\n",
    ")\n",
    "# .cuda(0)\n",
    "cls_criterion = nn.CrossEntropyLoss()  # nn.BCELoss()\n",
    "# reg_criterion = nn.MSELoss()\n",
    "optimizer = optim.Adam(net.parameters(), lr=0.001, weight_decay=0.00)\n",
    "# lr_scheduler = torch.optim.lr_scheduler.OneCycleLR(\n",
    "#     optimizer, max_lr=0.1, steps_per_epoch=1, epochs=200\n",
    "# )\n",
    "lr_scheduler = torch.optim.lr_scheduler.StepLR(optimizer, step_size=200, gamma=0.1)"
   ]
  },
  {
   "cell_type": "code",
   "execution_count": null,
   "id": "529a07ba-ee42-401a-b26c-53efb42fb326",
   "metadata": {},
   "outputs": [],
   "source": [
    "signals = torch.empty((10, 22, 1, 16, 769), dtype=torch.float32).random_(1, 50)\n",
    "a, b = net(signals)\n",
    "a.size(), b.size()"
   ]
  },
  {
   "cell_type": "code",
   "execution_count": null,
   "id": "c3c8ef79-2a52-4108-bfbf-e37cead2c39f",
   "metadata": {},
   "outputs": [],
   "source": [
    "net.conv1.load_csp_weights(weights=weights, csp_template=csp.template)"
   ]
  },
  {
   "cell_type": "markdown",
   "id": "88352a5d-2595-4daa-a411-4516c590949d",
   "metadata": {},
   "source": [
    "## Train Loop"
   ]
  },
  {
   "cell_type": "code",
   "execution_count": null,
   "id": "76a8edb8-9677-47f7-8603-367429f03339",
   "metadata": {},
   "outputs": [],
   "source": [
    "net = net.cuda()"
   ]
  },
  {
   "cell_type": "code",
   "execution_count": null,
   "id": "7cc495e2-621e-4554-8e93-099c2ac997ed",
   "metadata": {
    "jupyter": {
     "source_hidden": true
    },
    "tags": []
   },
   "outputs": [],
   "source": [
    "def evaluate(model, dl, params=[\"acc\"]):\n",
    "    model.eval()\n",
    "    results = []\n",
    "    predicted = []\n",
    "    Y = []\n",
    "\n",
    "    for batch in dl:\n",
    "        inputs, labels = batch\n",
    "        # inputs = torch.permute(\n",
    "        #     torch.vstack(list(map(lambda a: a.unsqueeze(0), inputs.values()))),\n",
    "        #     (1, 2, 3, 0),\n",
    "        # )\n",
    "        # wrap them in Variable\n",
    "        # inputs, labels = inputs.cuda(0), labels.type(torch.LongTensor).cuda(0)\n",
    "\n",
    "        pred = model(inputs.float().cuda(0))\n",
    "\n",
    "        predicted.append(pred.cpu().detach())\n",
    "        Y.append(labels[\"label\"].type(torch.LongTensor).cpu())\n",
    "\n",
    "    predicted = torch.cat(predicted, 0)\n",
    "    Y = torch.cat(Y, 0)\n",
    "\n",
    "    loss = cls_criterion(predicted, Y)\n",
    "\n",
    "    predicted = predicted.numpy()\n",
    "    Y = Y.numpy()\n",
    "\n",
    "    for param in params:\n",
    "        if param == \"acc\":\n",
    "            results.append(accuracy_score(Y, np.argmax(predicted, axis=1)))\n",
    "        if param == \"auc\":\n",
    "            results.append(roc_auc_score(Y, predicted, multi_class=\"ovr\"))\n",
    "        if param == \"kappa\":\n",
    "            results.append(cohen_kappa_score(Y, np.argmax(predicted, axis=1)))\n",
    "        if param == \"recall\":\n",
    "            results.append(\n",
    "                recall_score(Y, np.argmax(predicted, axis=1), average=\"micro\")\n",
    "            )\n",
    "        if param == \"precision\":\n",
    "            results.append(\n",
    "                precision_score(Y, np.argmax(predicted, axis=1), average=\"micro\")\n",
    "            )\n",
    "        if param == \"fmeasure\":\n",
    "            precision = precision_score(\n",
    "                Y, np.argmax(predicted, axis=1), average=\"micro\"\n",
    "            )\n",
    "            recall = recall_score(Y, np.argmax(predicted, axis=1), average=\"micro\")\n",
    "            results.append(2 * precision * recall / (precision + recall))\n",
    "\n",
    "    results.append(loss)\n",
    "    return results"
   ]
  },
  {
   "cell_type": "code",
   "execution_count": null,
   "id": "ba450cc6-3030-44da-866a-2e2851688ffc",
   "metadata": {
    "scrolled": true,
    "tags": []
   },
   "outputs": [],
   "source": [
    "history = {\n",
    "    \"train_loss\": [],\n",
    "    \"test_loss\": [],\n",
    "    \"train_acc\": [],\n",
    "    \"test_acc\": [],\n",
    "    \"lr\": [],\n",
    "    \"train_kappa\": [],\n",
    "    \"test_kappa\": [],\n",
    "}\n",
    "batch_size = 32\n",
    "alpha = 0.5\n",
    "\n",
    "for epoch in range(1000):  # loop over the dataset multiple times\n",
    "    print(\"\\nEpoch \", epoch)\n",
    "\n",
    "    net.train()\n",
    "    running_loss = 0.0\n",
    "    for i, batch in tqdm(enumerate(train_dataloader)):\n",
    "        # print(i)\n",
    "        inputs, labels = batch\n",
    "        # inputs = torch.permute(\n",
    "        #     torch.vstack(list(map(lambda a: a.unsqueeze(0), inputs.values()))),\n",
    "        #     (1, 2, 3, 0),\n",
    "        # )\n",
    "\n",
    "        # wrap them in Variable\n",
    "        # inputs, labels = inputs.cuda(0), labels.type(torch.LongTensor).cuda(0)\n",
    "\n",
    "        # zero the parameter gradients\n",
    "        optimizer.zero_grad()\n",
    "\n",
    "        # forward + backward + optimize\n",
    "        outputs, csp_out = net(inputs.float().cuda(0))\n",
    "        cls_loss = cls_criterion(\n",
    "            outputs, labels[\"label\"].type(torch.LongTensor).cuda(0)\n",
    "        )\n",
    "        # reg_loss = reg_criterion(csp, labels[\"csp\"].cuda(0))\n",
    "        # loss = cls_loss + (alpha * reg_loss)\n",
    "        loss = cls_loss\n",
    "        loss.backward()\n",
    "\n",
    "        optimizer.step()\n",
    "\n",
    "        running_loss += loss.item()\n",
    "\n",
    "    history[\"lr\"].append(optimizer.param_groups[0][\"lr\"])\n",
    "    # print(optimizer.param_groups[0][\"lr\"])\n",
    "    lr_scheduler.step()\n",
    "\n",
    "    # Validation accuracy\n",
    "    params = [\"acc\", \"kappa\", \"auc\", \"fmeasure\", \"loss\"]\n",
    "    print(params)\n",
    "    print(\"Training Loss \", running_loss / len(train_dataloader))\n",
    "    tr = evaluate(net, train_dataloader, params)\n",
    "    print(\"Train - \", tr)\n",
    "    ev = evaluate(net, val_dataloader, params)\n",
    "    print(\"Validation - \", ev)\n",
    "    history[\"train_loss\"].append(tr[-1])\n",
    "    history[\"train_acc\"].append(tr[0])\n",
    "    history[\"train_kappa\"].append(tr[1])\n",
    "\n",
    "    history[\"test_loss\"].append(ev[-1])\n",
    "    history[\"test_acc\"].append(ev[0])\n",
    "    history[\"test_kappa\"].append(ev[1])"
   ]
  },
  {
   "cell_type": "code",
   "execution_count": null,
   "id": "9f8190fb-6f62-4f3f-8377-acedc4cc27b4",
   "metadata": {},
   "outputs": [],
   "source": [
    "{k: history[k][-1] for k in history.keys()}"
   ]
  },
  {
   "cell_type": "code",
   "execution_count": null,
   "id": "504a9078-81aa-4aba-a8bf-627b4dc4b37c",
   "metadata": {},
   "outputs": [],
   "source": [
    "import matplotlib.pyplot as plt"
   ]
  },
  {
   "cell_type": "code",
   "execution_count": null,
   "id": "53e086b3-85de-49fc-a064-8f9e275b52d5",
   "metadata": {},
   "outputs": [],
   "source": [
    "plt.plot([i for i in range(len(history[\"lr\"]))], history[\"lr\"])"
   ]
  },
  {
   "cell_type": "code",
   "execution_count": null,
   "id": "ddb4504e-69d5-4165-a017-09300f213648",
   "metadata": {},
   "outputs": [],
   "source": [
    "fig, axs = plt.subplots(2, 3, figsize=(12, 6))\n",
    "\n",
    "for i, title in enumerate(\n",
    "    [\n",
    "        \"train_loss\",\n",
    "        \"train_acc\",\n",
    "        \"train_kappa\",\n",
    "        \"test_loss\",\n",
    "        \"test_acc\",\n",
    "        \"test_kappa\",\n",
    "    ]\n",
    "):\n",
    "    axs[i // 3, i % 3].plot([i for i in range(len(history[title]))], history[title])\n",
    "    axs[i // 3, i % 3].set_title(title)\n",
    "\n",
    "for ax in axs.flat:\n",
    "    ax.set(xlabel=\"epochs\", ylabel=\"\")\n",
    "\n",
    "# Hide x labels and tick labels for top plots and y ticks for right plots.\n",
    "for ax in axs.flat:\n",
    "    ax.label_outer()"
   ]
  }
 ],
 "metadata": {
  "kernelspec": {
   "display_name": "Python 3 (ipykernel)",
   "language": "python",
   "name": "python3"
  },
  "language_info": {
   "codemirror_mode": {
    "name": "ipython",
    "version": 3
   },
   "file_extension": ".py",
   "mimetype": "text/x-python",
   "name": "python",
   "nbconvert_exporter": "python",
   "pygments_lexer": "ipython3",
   "version": "3.8.10"
  }
 },
 "nbformat": 4,
 "nbformat_minor": 5
}
