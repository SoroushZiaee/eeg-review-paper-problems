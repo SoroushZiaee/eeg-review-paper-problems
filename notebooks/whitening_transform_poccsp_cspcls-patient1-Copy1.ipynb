{
 "cells": [
  {
   "cell_type": "code",
   "execution_count": null,
   "id": "4bf2c92b-4245-4af8-99c4-6aef21d24ddb",
   "metadata": {},
   "outputs": [],
   "source": [
    "!pip install nb-black"
   ]
  },
  {
   "cell_type": "code",
   "execution_count": 1,
   "id": "3be9923b-6606-4653-b1e7-f1541bf289ee",
   "metadata": {},
   "outputs": [],
   "source": [
    "%config Completer.use_jedi = False\n",
    "%load_ext autoreload\n",
    "# %reload_ext autoreload\n",
    "%autoreload 2\n",
    "%load_ext lab_black"
   ]
  },
  {
   "cell_type": "code",
   "execution_count": 2,
   "id": "c30519aa-cc5c-4a2a-9e92-47d774a41d45",
   "metadata": {},
   "outputs": [],
   "source": [
    "import sys\n",
    "\n",
    "sys.path.insert(0, \"../\")"
   ]
  },
  {
   "cell_type": "markdown",
   "id": "2f60011c-a3e7-42c1-b150-559c77e529d4",
   "metadata": {},
   "source": [
    "## Dataset"
   ]
  },
  {
   "cell_type": "code",
   "execution_count": 3,
   "id": "6cccc8b8-caeb-43db-858f-998a2fefc7e9",
   "metadata": {},
   "outputs": [
    {
     "name": "stderr",
     "output_type": "stream",
     "text": [
      "/usr/lib/python3/dist-packages/requests/__init__.py:89: RequestsDependencyWarning: urllib3 (1.26.12) or chardet (3.0.4) doesn't match a supported version!\n",
      "  warnings.warn(\"urllib3 ({}) or chardet ({}) doesn't match a supported \"\n"
     ]
    }
   ],
   "source": [
    "import os\n",
    "from typing import Dict, List, Tuple, Any, Union, Callable\n",
    "from torch import Tensor\n",
    "import torch\n",
    "import numpy as np\n",
    "import scipy\n",
    "from torch.utils.data import DataLoader\n",
    "from pytorch_lightning.utilities.apply_func import apply_to_collection\n",
    "from cspnn.data.bci.bci_dataset import BCI2aDataset\n",
    "from cspnn.data.utils import eeg_electrode_configs\n",
    "\n",
    "from tqdm.notebook import tqdm"
   ]
  },
  {
   "cell_type": "code",
   "execution_count": 5,
   "id": "9a716bcf-61fe-41cc-b946-ea462962a0ed",
   "metadata": {
    "tags": []
   },
   "outputs": [],
   "source": [
    "class ToTensor:\n",
    "    def __init__(self, device):\n",
    "        if isinstance(device, str):\n",
    "            device = torch.device(device)\n",
    "        self.device = device\n",
    "\n",
    "    def __call__(self, data, label):\n",
    "        data = apply_to_collection(\n",
    "            data,\n",
    "            dtype=(np.ndarray, int, float, np.int64),\n",
    "            function=lambda a: torch.from_numpy(a),\n",
    "        )\n",
    "        label = apply_to_collection(\n",
    "            label,\n",
    "            dtype=(np.ndarray, int, float, np.int64),\n",
    "            function=lambda a: torch.tensor(a, dtype=torch.float64),\n",
    "        )\n",
    "\n",
    "        return data, label\n",
    "\n",
    "\n",
    "class ToNumpy:\n",
    "    def __call__(self, data, label):\n",
    "        data = apply_to_collection(\n",
    "            data,\n",
    "            dtype=(np.ndarray, int, float, np.int64),\n",
    "            function=lambda a: a.cpu().detach().numpy(),\n",
    "        )\n",
    "        label = apply_to_collection(\n",
    "            label,\n",
    "            dtype=(np.ndarray, int, float, np.int64),\n",
    "            function=lambda a: a.cpu().detach().numpy(),\n",
    "        )\n",
    "\n",
    "        return data, label\n",
    "\n",
    "\n",
    "class DictToTensor:\n",
    "    def __call__(self, data: Dict[str, Tensor], label):\n",
    "        # The output shape [batch, channel, signal]\n",
    "        return (\n",
    "            torch.permute(\n",
    "                torch.vstack(list(map(lambda a: a.unsqueeze(0), data.values()))),\n",
    "                (1, 0, 2),\n",
    "            ),\n",
    "            label,\n",
    "        )\n",
    "\n",
    "\n",
    "class DictToArray:\n",
    "    def __call__(self, data, label):\n",
    "        # The output shape [batch, channel, signal]\n",
    "        return (\n",
    "            np.transpose(\n",
    "                np.vstack(\n",
    "                    list(map(lambda a: np.expand_dims(a, axis=0), data.values()))\n",
    "                ),\n",
    "                (1, 0, 2),\n",
    "            ),\n",
    "            label,\n",
    "        )\n",
    "\n",
    "\n",
    "class Windowing:\n",
    "    def __init__(self, n_segments: int = 5, sample_rate: float = 250.0):\n",
    "        self.n_segments = n_segments\n",
    "        self.sample_rate = sample_rate\n",
    "\n",
    "    # The Output of the signal is [batch, channels, windowed, band_filtered, signal]\n",
    "    def __call__(self, data: Tensor, label):\n",
    "        \"\"\"Takes as input a signal tensor of shape [batch, channels, band_filtered, signal]\n",
    "        and outputs a signal tensor of shape [batch, channels, windowed, band_filtered, signal]\n",
    "        \"\"\"\n",
    "        start, end = 0, data.size()[-1]\n",
    "        step = int((end - start) / self.n_segments)\n",
    "        windows = np.arange(start, end - step, step=step)\n",
    "\n",
    "        if len(windows) == 0:\n",
    "            data = data.unsqueeze(dim=2)\n",
    "            return data, label\n",
    "\n",
    "        windowed_data = torch.permute(\n",
    "            torch.stack(\n",
    "                [data[:, :, :, window : (window + step)] for window in windows], dim=0\n",
    "            ),\n",
    "            (1, 2, 0, 3, 4),\n",
    "        )\n",
    "\n",
    "        return windowed_data, label\n",
    "\n",
    "\n",
    "class Filtering:\n",
    "    def __init__(self, N: int, rs: float, Wns: List[float], bandwidth, fs: float):\n",
    "        self.N = N\n",
    "        self.rs = rs\n",
    "        self.Wns = Wns / (fs / 2)  # Normalize the signals\n",
    "        self.bandwidth = bandwidth / (fs / 2)  # Normalize the signals\n",
    "        self.fs = fs\n",
    "\n",
    "    # The Output of the signal is [batch, channels, band_filtered, signal]\n",
    "    def __call__(self, data, label):\n",
    "        filtered_data = []\n",
    "\n",
    "        for wn in self.Wns:\n",
    "            b, a = scipy.signal.cheby2(\n",
    "                N=self.N,\n",
    "                rs=self.rs,\n",
    "                Wn=[wn, wn + self.bandwidth],\n",
    "                btype=\"bandpass\",\n",
    "                fs=self.fs,\n",
    "            )\n",
    "            filtered_data.append(scipy.signal.filtfilt(b, a, data, axis=-1))\n",
    "\n",
    "        filtered_data = torch.permute(torch.Tensor(filtered_data), (1, 2, 0, 3))\n",
    "\n",
    "        return filtered_data, label\n",
    "\n",
    "\n",
    "class ExpandDim(object):\n",
    "    def __init__(self, dim):\n",
    "        self.dim = dim\n",
    "\n",
    "    def __call__(self, data, label):\n",
    "        return data.unsqueeze_(self.dim), label\n",
    "\n",
    "\n",
    "class LabelToDict:\n",
    "    def __call__(self, data, label):\n",
    "        return data, {\"label\": label}\n",
    "\n",
    "\n",
    "class ToNumpy:\n",
    "    def __call__(self, data, label):\n",
    "        return data.cpu().detach().numpy(), label.cpu().detach().numpy()\n",
    "\n",
    "\n",
    "class Compose:\n",
    "    def __init__(self, transforms: List[Callable]) -> None:\n",
    "        self.transforms = transforms\n",
    "\n",
    "    def __call__(self, data: Any, target: Any):\n",
    "        for t in self.transforms:\n",
    "            data, target = t(data, target)\n",
    "        return data, target\n",
    "\n",
    "    def __repr__(self):\n",
    "        return \"\\n\".join([c.__class__.__name__ for c in self.transforms])\n",
    "\n",
    "\n",
    "# TODO: complete this part\n",
    "from scipy.signal import cheby2, filtfilt\n",
    "\n",
    "\n",
    "def cheby_bandpass_filter(signal, attenuation, lowcut, highcut, fs, order=5):\n",
    "    nyq = 0.5 * fs\n",
    "    low = lowcut / nyq\n",
    "    high = highcut / nyq\n",
    "    b, a = cheby2(order, rs=attenuation, Wn=[low, high], btype=\"band\")\n",
    "    y = filtfilt(b, a, signal, axis=-1)\n",
    "    # print(\"filtered shape \", y.shape)\n",
    "    return y\n",
    "\n",
    "\n",
    "def cheby_bandpass_one_subject(\n",
    "    X, attenuation, lowcut, highcut, fs, interval=None, verbose=True\n",
    "):\n",
    "    temp_epoch_EEG = X.copy()\n",
    "    # print(f\"data shape : {temp_epoch_EEG.shape}\")\n",
    "\n",
    "    if interval is not None:\n",
    "        startband = np.arange(lowcut, highcut, step=interval)\n",
    "\n",
    "        bands = []\n",
    "        for start in startband:\n",
    "            # This will be new key inside the EEG_filtered\n",
    "            band = \"{:02d}_{:02d}\".format(start, start + interval)\n",
    "\n",
    "            if verbose:\n",
    "                print(\"Filtering through {} Hz band\".format(band))\n",
    "            # Bandpass filtering\n",
    "            bands.append(\n",
    "                cheby_bandpass_filter(\n",
    "                    temp_epoch_EEG, attenuation, start, start + interval, fs\n",
    "                )\n",
    "            )\n",
    "\n",
    "        return np.vstack(bands)\n",
    "\n",
    "    else:\n",
    "        # This will be new key inside the EEG_filtered\n",
    "        band = \"{:02d}_{:02d}\".format(lowcut, highcut)\n",
    "\n",
    "        return cheby_bandpass_filter(temp_epoch_EEG, attenuation, lowcut, highcut, fs)\n",
    "\n",
    "\n",
    "from functools import partial\n",
    "\n",
    "\n",
    "class BandPass:\n",
    "    def __init__(self, attenuation, lowcut, highcut, fs, interval=None):\n",
    "        self.attenuation = attenuation\n",
    "        self.lowcut = lowcut\n",
    "        self.highcut = highcut\n",
    "        self.fs = fs\n",
    "        self.interval = interval\n",
    "\n",
    "        self.bandpass_func = partial(\n",
    "            cheby_bandpass_one_subject,\n",
    "            attenuation=self.attenuation,\n",
    "            lowcut=self.lowcut,\n",
    "            highcut=self.highcut,\n",
    "            fs=self.fs,\n",
    "            interval=self.interval,\n",
    "            verbose=False,\n",
    "        )\n",
    "\n",
    "    # The Output of the signal is [batch, channels, band_filtered, signal]\n",
    "    def __call__(self, data, label):\n",
    "        filtered_data = data = apply_to_collection(\n",
    "            data,\n",
    "            dtype=(np.ndarray, int, float, np.int64, Tensor),\n",
    "            function=self.bandpass_func,\n",
    "        )\n",
    "\n",
    "        filtered_data = np.expand_dims(filtered_data.transpose(1, 0, 2), axis=0)\n",
    "\n",
    "        return filtered_data, label"
   ]
  },
  {
   "cell_type": "code",
   "execution_count": 6,
   "id": "97c1ca1c-3ee5-439d-be82-523e85faf35c",
   "metadata": {},
   "outputs": [],
   "source": [
    "directory = \"../test_data\"\n",
    "electrod_positions, shape = eeg_electrode_configs(\n",
    "    \"../configs/eeg_recording_standard/international_10_20_22.py\"\n",
    ")\n",
    "if not os.path.exists(directory):\n",
    "    os.makedirs(directory)\n",
    "\n",
    "\n",
    "fs = 250\n",
    "low_freq = 4\n",
    "high_freq = 38\n",
    "bandwidth = 4\n",
    "overlap = 2\n",
    "\n",
    "freqs = np.arange(low_freq, high_freq - (bandwidth - overlap), overlap)\n",
    "\n",
    "lowcut = 4\n",
    "highcut = 40\n",
    "fs = 250\n",
    "attenuation = 40\n",
    "interval = 4\n",
    "\n",
    "transforms = [\n",
    "    ToTensor(device=\"cuda\"),\n",
    "    DictToTensor(),\n",
    "    # ToNumpy(),\n",
    "    # BandPass(\n",
    "    #     attenuation=attenuation,\n",
    "    #     lowcut=lowcut,\n",
    "    #     highcut=highcut,\n",
    "    #     fs=fs,\n",
    "    #     interval=interval,\n",
    "    # ),\n",
    "    # ToTensor(device=\"cpu\"),\n",
    "    # Filtering(N=4, rs=40, Wns=freqs, bandwidth=bandwidth, fs=fs),\n",
    "    ExpandDim(dim=2),\n",
    "    ExpandDim(dim=2),\n",
    "    # Windowing(n_segments=1),\n",
    "    LabelToDict(),\n",
    "]\n",
    "compose = Compose(transforms=transforms)\n",
    "\n",
    "ds = BCI2aDataset(\n",
    "    eeg_electrode_positions=electrod_positions,\n",
    "    data_path=directory,\n",
    "    transforms=compose,\n",
    ")"
   ]
  },
  {
   "cell_type": "code",
   "execution_count": 7,
   "id": "b8e39c04-9b10-422c-a83b-b680b3bfea28",
   "metadata": {
    "tags": []
   },
   "outputs": [
    {
     "name": "stdout",
     "output_type": "stream",
     "text": [
      "tensor(-22.1658, dtype=torch.float64) tensor(18.0601, dtype=torch.float64)\n",
      "torch.Size([1, 22, 1, 1, 1001])\n"
     ]
    }
   ],
   "source": [
    "for i in range(len(ds)):\n",
    "    wave, label = ds[i]\n",
    "    print(wave.min(), wave.max())\n",
    "    print(wave.shape)\n",
    "    if np.isnan(wave).any() or np.isinf(wave).any():\n",
    "        print(f\"date {i} : has NAN or INF\")\n",
    "    break"
   ]
  },
  {
   "cell_type": "code",
   "execution_count": 8,
   "id": "f4beeb3f-3e2c-4a8d-93f9-f14b2d2bf155",
   "metadata": {},
   "outputs": [],
   "source": [
    "def collate_fn(batch):\n",
    "    imgs = torch.vstack([item[0] for item in batch])\n",
    "\n",
    "    trgts = {}\n",
    "    sample_item_label = batch[0][1]\n",
    "    for label_key in sample_item_label.keys():\n",
    "        if isinstance(sample_item_label[label_key], dict):\n",
    "            trgts[label_key] = {\n",
    "                key: torch.vstack([item[1][label_key][key].squeeze() for item in batch])\n",
    "                for key in sample_item_label[label_key].keys()\n",
    "            }\n",
    "        else:\n",
    "            trgts[label_key] = torch.vstack(\n",
    "                [item[1][label_key] for item in batch]\n",
    "            ).squeeze()\n",
    "\n",
    "    return [imgs, trgts]"
   ]
  },
  {
   "cell_type": "code",
   "execution_count": 9,
   "id": "05fd663e-d920-440d-932d-d2e225744a75",
   "metadata": {},
   "outputs": [],
   "source": [
    "batch_size = 32\n",
    "train_dataset, val_dataset = ds.get_train_test_subsets()\n",
    "\n",
    "train_dataloader = DataLoader(\n",
    "    train_dataset,\n",
    "    batch_size=batch_size,\n",
    "    shuffle=True,\n",
    "    collate_fn=collate_fn,\n",
    "    num_workers=os.cpu_count(),\n",
    ")\n",
    "\n",
    "\n",
    "val_dataloader = DataLoader(\n",
    "    val_dataset,\n",
    "    batch_size=batch_size,\n",
    "    collate_fn=collate_fn,\n",
    "    num_workers=os.cpu_count(),\n",
    ")"
   ]
  },
  {
   "cell_type": "markdown",
   "id": "491a9be7-7113-4384-beb6-9565f55f012b",
   "metadata": {
    "tags": []
   },
   "source": [
    "## Investigating Whitening Methods"
   ]
  },
  {
   "cell_type": "code",
   "execution_count": 10,
   "id": "888cc158-3cd6-4fc7-a691-f804755f8858",
   "metadata": {},
   "outputs": [],
   "source": [
    "csp_dataloader = DataLoader(\n",
    "    train_dataset,\n",
    "    batch_size=1,\n",
    "    shuffle=False,\n",
    "    collate_fn=collate_fn,\n",
    "    num_workers=1,\n",
    ")"
   ]
  },
  {
   "cell_type": "code",
   "execution_count": 11,
   "id": "b08bdbd8-abc4-48c3-82ec-1074ea4a8959",
   "metadata": {
    "scrolled": true,
    "tags": []
   },
   "outputs": [
    {
     "data": {
      "application/vnd.jupyter.widget-view+json": {
       "model_id": "95f9f88c7549436e8f021f2f12c5dc1e",
       "version_major": 2,
       "version_minor": 0
      },
      "text/plain": [
       "  0%|          | 0/2592 [00:00<?, ?it/s]"
      ]
     },
     "metadata": {},
     "output_type": "display_data"
    }
   ],
   "source": [
    "signal = []\n",
    "label = []\n",
    "for sig, lbl in tqdm(csp_dataloader):\n",
    "    signal.append(sig)\n",
    "    label.append(lbl[\"label\"])\n",
    "signal = torch.vstack(signal)\n",
    "label = torch.stack(label)"
   ]
  },
  {
   "cell_type": "code",
   "execution_count": 12,
   "id": "a42440e1-cfa7-49ec-92f7-88db12fe9a4e",
   "metadata": {},
   "outputs": [
    {
     "data": {
      "text/plain": [
       "(torch.Size([2592, 22, 1, 1, 1001]), torch.Size([2592]))"
      ]
     },
     "execution_count": 12,
     "metadata": {},
     "output_type": "execute_result"
    }
   ],
   "source": [
    "signal.size(), label.size()"
   ]
  },
  {
   "cell_type": "code",
   "execution_count": 14,
   "id": "15b440b8-6bd3-4805-8c67-282e69cdda44",
   "metadata": {
    "tags": []
   },
   "outputs": [],
   "source": [
    "import matplotlib.pyplot as plt\n",
    "import scipy.linalg as la"
   ]
  },
  {
   "cell_type": "code",
   "execution_count": 15,
   "id": "b284aace-e3ae-43dd-adf7-29afe51222a1",
   "metadata": {},
   "outputs": [],
   "source": [
    "def calc_cov(EEG_data):\n",
    "    \"\"\"\n",
    "    INPUT:\n",
    "    EEG_data : EEG_data in shape T x N x S\n",
    "\n",
    "    OUTPUT:\n",
    "    avg_cov : covariance matrix of averaged over all trials\n",
    "    \"\"\"\n",
    "    cov = []\n",
    "    for i in range(EEG_data.size()[0]):\n",
    "        cov.append(\n",
    "            EEG_data[i] @ EEG_data[i].T / torch.trace(EEG_data[i] @ EEG_data[i].T)\n",
    "        )\n",
    "\n",
    "    cov = torch.mean(torch.stack(cov), 0)\n",
    "\n",
    "    return cov"
   ]
  },
  {
   "cell_type": "code",
   "execution_count": 16,
   "id": "b4e7ec38-62d3-4009-b366-1aab582f8bbc",
   "metadata": {},
   "outputs": [
    {
     "data": {
      "text/plain": [
       "(torch.Size([2592, 1001, 22]), torch.Size([22]))"
      ]
     },
     "execution_count": 16,
     "metadata": {},
     "output_type": "execute_result"
    }
   ],
   "source": [
    "x = signal.squeeze()\n",
    "sig = x.permute(0, 2, 1)\n",
    "x = torch.mean(sig, axis=1)\n",
    "x_mean = torch.mean(x, axis=0)\n",
    "sig.size(), x_mean.size()"
   ]
  },
  {
   "cell_type": "code",
   "execution_count": 17,
   "id": "70e3e023-276f-41e8-95aa-f581709f8fce",
   "metadata": {},
   "outputs": [
    {
     "data": {
      "text/plain": [
       "torch.Size([2592, 22, 1001])"
      ]
     },
     "execution_count": 17,
     "metadata": {},
     "output_type": "execute_result"
    }
   ],
   "source": [
    "x = sig - x_mean\n",
    "x_zero_centered = x.permute(0, 2, 1)\n",
    "x_zero_centered.size()"
   ]
  },
  {
   "cell_type": "code",
   "execution_count": 18,
   "id": "4cdac233-db50-4e8f-be98-e05279766688",
   "metadata": {},
   "outputs": [
    {
     "data": {
      "text/plain": [
       "torch.Size([22, 22])"
      ]
     },
     "execution_count": 18,
     "metadata": {},
     "output_type": "execute_result"
    }
   ],
   "source": [
    "x = x_zero_centered\n",
    "x_cov = calc_cov(x)\n",
    "x_cov.shape"
   ]
  },
  {
   "cell_type": "code",
   "execution_count": 19,
   "id": "5ef3dcd1-9362-4b66-8928-2999451d9cc8",
   "metadata": {},
   "outputs": [
    {
     "data": {
      "image/png": "[encoded data removed]",
      "text/plain": [
       "<Figure size 640x480 with 1 Axes>"
      ]
     },
     "metadata": {},
     "output_type": "display_data"
    }
   ],
   "source": [
    "plt.imshow(x_cov, cmap=\"hot\", interpolation=\"nearest\")\n",
    "plt.show()"
   ]
  },
  {
   "cell_type": "code",
   "execution_count": 20,
   "id": "6e44b43c-f0e6-478d-bced-6025fef11d2f",
   "metadata": {
    "tags": []
   },
   "outputs": [
    {
     "data": {
      "text/plain": [
       "torch.Size([22, 22])"
      ]
     },
     "execution_count": 20,
     "metadata": {},
     "output_type": "execute_result"
    }
   ],
   "source": [
    "lda, V = torch.linalg.eig(x_cov)\n",
    "lda, V = lda.real, V.real\n",
    "whitening_mat = V @ torch.sqrt(torch.inverse(torch.diag(lda))) @ V.T\n",
    "# print(torch.allclose(whitening_mat, torch.sqrt(torch.inverse(x_cov))))\n",
    "# whitening_mat = torch.inverse(torch.sqrt(x_cov))\n",
    "\n",
    "whitening_mat.size()"
   ]
  },
  {
   "cell_type": "code",
   "execution_count": 21,
   "id": "59e21ee2-940e-4a61-8d5f-c7e0687b21f4",
   "metadata": {},
   "outputs": [
    {
     "data": {
      "image/png": "[encoded data removed]",
      "text/plain": [
       "<Figure size 640x480 with 1 Axes>"
      ]
     },
     "metadata": {},
     "output_type": "display_data"
    }
   ],
   "source": [
    "plt.imshow(whitening_mat, cmap=\"hot\", interpolation=\"nearest\")\n",
    "plt.show()"
   ]
  },
  {
   "cell_type": "code",
   "execution_count": 22,
   "id": "37139678-717e-4457-aac3-0a40179b2cea",
   "metadata": {},
   "outputs": [
    {
     "data": {
      "text/plain": [
       "torch.Size([2592, 22, 1001])"
      ]
     },
     "execution_count": 22,
     "metadata": {},
     "output_type": "execute_result"
    }
   ],
   "source": [
    "whitened_signal = whitening_mat @ x_zero_centered\n",
    "whitened_signal.size()"
   ]
  },
  {
   "cell_type": "code",
   "execution_count": 23,
   "id": "461375fd-20b2-4cbd-810e-333202ff0838",
   "metadata": {},
   "outputs": [
    {
     "data": {
      "text/plain": [
       "torch.Size([22, 22])"
      ]
     },
     "execution_count": 23,
     "metadata": {},
     "output_type": "execute_result"
    }
   ],
   "source": [
    "x = whitened_signal\n",
    "whitened_signal_cov = calc_cov(x)\n",
    "whitened_signal_cov.shape"
   ]
  },
  {
   "cell_type": "code",
   "execution_count": 24,
   "id": "b39dea40-0318-44e8-8ef1-1cdb4ced3ecd",
   "metadata": {},
   "outputs": [
    {
     "data": {
      "image/png": "[encoded data removed]",
      "text/plain": [
       "<Figure size 640x480 with 1 Axes>"
      ]
     },
     "metadata": {},
     "output_type": "display_data"
    }
   ],
   "source": [
    "plt.imshow(whitened_signal_cov, cmap=\"hot\", interpolation=\"nearest\")\n",
    "plt.show()"
   ]
  },
  {
   "cell_type": "markdown",
   "id": "7a02d78e-80eb-47f4-af1b-63b8aed8e160",
   "metadata": {},
   "source": [
    "## Pytorch Dataset Transform Model"
   ]
  },
  {
   "cell_type": "code",
   "execution_count": 25,
   "id": "47c474fe-34b7-47b8-b0bf-b08d9892c269",
   "metadata": {},
   "outputs": [],
   "source": [
    "class Whitening:\n",
    "    def __init__(self, data_loader, whitening_method=\"PCA\"):\n",
    "        self.ds = data_loader\n",
    "        self.method = whitening_method\n",
    "\n",
    "        self.W = self._generate_whitening_transformation(self.ds, self.method)\n",
    "\n",
    "    def _generate_whitening_transformation(self, data_loader, whitening_method=\"PCA\"):\n",
    "        \"\"\"extract whitening transformation from data\n",
    "\n",
    "        Parameters\n",
    "        ----------\n",
    "        data_loader : torch.dataloader\n",
    "            pytorch data loader\n",
    "        whitening_method : str\n",
    "            one of following values\n",
    "            \"PCA\" for PCA whitening\n",
    "            \"ZCA for ZCA whitening\n",
    "\n",
    "        Returns\n",
    "        -------\n",
    "        torch.Tensor\n",
    "            whitening transformation matrix\n",
    "        \"\"\"\n",
    "        # get data\n",
    "        signal = []\n",
    "        for sig, lbl in data_loader:\n",
    "            signal.append(sig)\n",
    "        signal = torch.vstack(signal)\n",
    "\n",
    "        # zero center\n",
    "        x = signal.squeeze()\n",
    "        sig = x.permute(0, 2, 1)\n",
    "        x = torch.mean(sig, axis=1)\n",
    "        x_mean = torch.mean(x, axis=0)\n",
    "\n",
    "        x = sig - x_mean\n",
    "        x_zero_centered = x.permute(0, 2, 1)\n",
    "\n",
    "        # Calculate whitening matrix\n",
    "        x_cov = self._calc_cov(x_zero_centered)\n",
    "\n",
    "        lda, V = torch.linalg.eig(x_cov)\n",
    "        lda, V = lda.real, V.real\n",
    "        if \"PCA\":\n",
    "            whitening_mat = torch.sqrt(torch.inverse(torch.diag(lda))) @ V.T\n",
    "        elif \"ZCA\":\n",
    "            whitening_mat = V @ torch.sqrt(torch.inverse(torch.diag(lda))) @ V.T\n",
    "\n",
    "        return whitening_mat\n",
    "\n",
    "    def _calc_cov(self, EEG_data):\n",
    "        cov = []\n",
    "        for i in range(EEG_data.size()[0]):\n",
    "            cov.append(\n",
    "                EEG_data[i] @ EEG_data[i].T / torch.trace(EEG_data[i] @ EEG_data[i].T)\n",
    "            )\n",
    "\n",
    "        cov = torch.mean(torch.stack(cov), 0)\n",
    "\n",
    "        return cov\n",
    "\n",
    "    def __call__(self, data: Tensor, label):\n",
    "        whitened_data = self.W @ data\n",
    "        return whitened_data, label"
   ]
  },
  {
   "cell_type": "code",
   "execution_count": 26,
   "id": "5833add1-d9e9-4428-83f1-ba095efb1ec0",
   "metadata": {},
   "outputs": [],
   "source": [
    "transforms = [\n",
    "    ToTensor(device=\"cuda\"),\n",
    "    DictToTensor(),\n",
    "    ExpandDim(dim=2),\n",
    "    ExpandDim(dim=2),\n",
    "    LabelToDict(),\n",
    "]\n",
    "compose = Compose(transforms=transforms)\n",
    "\n",
    "ds = BCI2aDataset(\n",
    "    eeg_electrode_positions=electrod_positions,\n",
    "    data_path=directory,\n",
    "    transforms=compose,\n",
    "    patients=[2],\n",
    ")"
   ]
  },
  {
   "cell_type": "code",
   "execution_count": 27,
   "id": "3e3992fc-ec25-4929-b052-f37142b7d6fd",
   "metadata": {},
   "outputs": [],
   "source": [
    "train_dataset, val_dataset = ds.get_train_test_subsets()\n",
    "\n",
    "train_dataloader = DataLoader(\n",
    "    train_dataset,\n",
    "    batch_size=1,\n",
    "    shuffle=False,\n",
    "    collate_fn=collate_fn,\n",
    "    num_workers=1,\n",
    ")"
   ]
  },
  {
   "cell_type": "code",
   "execution_count": 29,
   "id": "51edea53-25d1-48f8-8e89-12a53bd1a9d2",
   "metadata": {},
   "outputs": [],
   "source": [
    "transforms = [\n",
    "    ToTensor(device=\"cuda\"),\n",
    "    DictToTensor(),\n",
    "    Whitening(train_dataloader, whitening_method=\"ZCA\"),\n",
    "    ExpandDim(dim=2),\n",
    "    ExpandDim(dim=2),\n",
    "    LabelToDict(),\n",
    "]\n",
    "compose = Compose(transforms=transforms)\n",
    "\n",
    "ds_w = BCI2aDataset(\n",
    "    eeg_electrode_positions=electrod_positions,\n",
    "    data_path=directory,\n",
    "    transforms=compose,\n",
    "    patients=[2],\n",
    ")"
   ]
  },
  {
   "cell_type": "code",
   "execution_count": 30,
   "id": "741e8378-24c6-4924-8f7c-c9abb180de8a",
   "metadata": {},
   "outputs": [
    {
     "data": {
      "text/plain": [
       "torch.Size([1, 22, 1, 1, 1001])"
      ]
     },
     "execution_count": 30,
     "metadata": {},
     "output_type": "execute_result"
    }
   ],
   "source": [
    "ds_w[0][0].size()"
   ]
  },
  {
   "cell_type": "code",
   "execution_count": 31,
   "id": "317a275e-90d4-43ed-99f4-3b4f02d38e7b",
   "metadata": {},
   "outputs": [],
   "source": [
    "# train_dataset, _ = ds_w.get_train_test_subsets()\n",
    "\n",
    "# train_dataloader = DataLoader(\n",
    "#     train_dataset,\n",
    "#     batch_size=1,\n",
    "#     shuffle=False,\n",
    "#     collate_fn=collate_fn,\n",
    "#     num_workers=1,\n",
    "# )\n",
    "\n",
    "batch_size = 32\n",
    "train_dataset, val_dataset = ds_w.get_train_test_subsets()\n",
    "\n",
    "train_dataloader = DataLoader(\n",
    "    train_dataset,\n",
    "    batch_size=batch_size,\n",
    "    shuffle=True,\n",
    "    collate_fn=collate_fn,\n",
    "    num_workers=os.cpu_count(),\n",
    ")\n",
    "\n",
    "\n",
    "val_dataloader = DataLoader(\n",
    "    val_dataset,\n",
    "    batch_size=batch_size,\n",
    "    collate_fn=collate_fn,\n",
    "    num_workers=os.cpu_count(),\n",
    ")"
   ]
  },
  {
   "cell_type": "code",
   "execution_count": 32,
   "id": "5267478d-8717-4785-adce-16d2c577db34",
   "metadata": {},
   "outputs": [
    {
     "data": {
      "application/vnd.jupyter.widget-view+json": {
       "model_id": "2763d114e0b3440d8bc94cae7b43f4d9",
       "version_major": 2,
       "version_minor": 0
      },
      "text/plain": [
       "  0%|          | 0/9 [00:00<?, ?it/s]"
      ]
     },
     "metadata": {},
     "output_type": "display_data"
    },
    {
     "data": {
      "text/plain": [
       "torch.Size([288, 22, 1, 1, 1001])"
      ]
     },
     "execution_count": 32,
     "metadata": {},
     "output_type": "execute_result"
    }
   ],
   "source": [
    "signal = []\n",
    "for sig, lbl in tqdm(train_dataloader):\n",
    "    signal.append(sig)\n",
    "signal = torch.vstack(signal)\n",
    "signal.size()"
   ]
  },
  {
   "cell_type": "code",
   "execution_count": 33,
   "id": "c8e983d9-b1c4-4b23-857d-22cc16a4a96c",
   "metadata": {},
   "outputs": [
    {
     "data": {
      "text/plain": [
       "torch.Size([22, 22])"
      ]
     },
     "execution_count": 33,
     "metadata": {},
     "output_type": "execute_result"
    }
   ],
   "source": [
    "whitened_signal_cov = calc_cov(signal.squeeze())\n",
    "whitened_signal_cov.shape"
   ]
  },
  {
   "cell_type": "code",
   "execution_count": 34,
   "id": "5507a7b3-fc3c-4247-b78a-3d19885b5cbc",
   "metadata": {},
   "outputs": [
    {
     "data": {
      "image/png": "[encoded data removed]",
      "text/plain": [
       "<Figure size 640x480 with 1 Axes>"
      ]
     },
     "metadata": {},
     "output_type": "display_data"
    }
   ],
   "source": [
    "plt.imshow(whitened_signal_cov, cmap=\"hot\", interpolation=\"nearest\")\n",
    "plt.show()"
   ]
  },
  {
   "cell_type": "markdown",
   "id": "935a9f9b-25c4-405d-b8b7-fb2296eaf81f",
   "metadata": {},
   "source": [
    "# Model"
   ]
  },
  {
   "cell_type": "code",
   "execution_count": 35,
   "id": "33e0509b-507d-4e4e-8a98-747f9db77aa9",
   "metadata": {},
   "outputs": [],
   "source": [
    "import torch\n",
    "import numpy as np\n",
    "import torch.nn as nn\n",
    "from cspnn.csp_nn import CSP, CSPNN\n",
    "\n",
    "import torch.optim as optim\n",
    "\n",
    "import numpy as np\n",
    "from sklearn.metrics import (\n",
    "    roc_auc_score,\n",
    "    precision_score,\n",
    "    recall_score,\n",
    "    accuracy_score,\n",
    "    cohen_kappa_score,\n",
    ")\n",
    "import torch\n",
    "import torch.nn as nn\n",
    "import torch.optim as optim\n",
    "from torch.autograd import Variable\n",
    "import torch.nn.functional as F\n",
    "import torch.optim as optim\n",
    "\n",
    "from tqdm import tqdm\n",
    "import random"
   ]
  },
  {
   "cell_type": "code",
   "execution_count": 36,
   "id": "3f5d6d0e-ccb8-42ad-84b6-8b31f2d7f185",
   "metadata": {},
   "outputs": [],
   "source": [
    "def evaluate(model, dl, params=[\"acc\"]):\n",
    "    model.eval()\n",
    "    results = []\n",
    "    predicted = []\n",
    "    Y = []\n",
    "\n",
    "    for batch in dl:\n",
    "        inputs, labels = batch\n",
    "        # inputs = torch.permute(\n",
    "        #     torch.vstack(list(map(lambda a: a.unsqueeze(0), inputs.values()))),\n",
    "        #     (1, 2, 3, 0),\n",
    "        # )\n",
    "        # wrap them in Variable\n",
    "        # inputs, labels = inputs.cuda(0), labels.type(torch.LongTensor).cuda(0)\n",
    "\n",
    "        pred = model(inputs.float().cuda(0))\n",
    "\n",
    "        predicted.append(pred.cpu().detach())\n",
    "        Y.append(labels[\"label\"].type(torch.LongTensor).cpu())\n",
    "\n",
    "    predicted = torch.cat(predicted, 0)\n",
    "    Y = torch.cat(Y, 0)\n",
    "\n",
    "    loss = cls_criterion(predicted, Y)\n",
    "\n",
    "    predicted = predicted.numpy()\n",
    "    Y = Y.numpy()\n",
    "\n",
    "    for param in params:\n",
    "        if param == \"acc\":\n",
    "            results.append(accuracy_score(Y, np.argmax(predicted, axis=1)))\n",
    "        if param == \"auc\":\n",
    "            results.append(roc_auc_score(Y, predicted, multi_class=\"ovr\"))\n",
    "        if param == \"kappa\":\n",
    "            results.append(cohen_kappa_score(Y, np.argmax(predicted, axis=1)))\n",
    "        if param == \"recall\":\n",
    "            results.append(\n",
    "                recall_score(Y, np.argmax(predicted, axis=1), average=\"micro\")\n",
    "            )\n",
    "        if param == \"precision\":\n",
    "            results.append(\n",
    "                precision_score(Y, np.argmax(predicted, axis=1), average=\"micro\")\n",
    "            )\n",
    "        if param == \"fmeasure\":\n",
    "            precision = precision_score(\n",
    "                Y, np.argmax(predicted, axis=1), average=\"micro\"\n",
    "            )\n",
    "            recall = recall_score(Y, np.argmax(predicted, axis=1), average=\"micro\")\n",
    "            results.append(2 * precision * recall / (precision + recall))\n",
    "\n",
    "    results.append(loss)\n",
    "    return results"
   ]
  },
  {
   "cell_type": "code",
   "execution_count": 37,
   "id": "7113c186-d7f3-482e-a282-feb6be39a11a",
   "metadata": {},
   "outputs": [],
   "source": [
    "class CSPNNCls(nn.Module):\n",
    "    def __init__(\n",
    "        self,\n",
    "        num_channels: int,\n",
    "        num_features: int = None,\n",
    "        num_bands: int = None,\n",
    "        num_windows: int = 1,\n",
    "        num_labels: int = None,\n",
    "        mode: str = \"constant\",\n",
    "    ):\n",
    "        super(CSPNNCls, self).__init__()\n",
    "        self.num_channels = num_channels\n",
    "        self.num_features = num_channels if num_features is None else num_features\n",
    "        self.num_bands = num_bands\n",
    "        self.num_windows = num_windows\n",
    "        self.num_labels = num_labels\n",
    "        self.mode = mode\n",
    "\n",
    "        self.conv1 = CSPNN(\n",
    "            num_channels=num_channels,\n",
    "            num_features=num_features,\n",
    "            num_bands=num_bands,\n",
    "            num_windows=num_windows,\n",
    "            num_labels=num_labels,\n",
    "            mode=self.mode,\n",
    "        )\n",
    "\n",
    "        self.fc1 = nn.Linear(\n",
    "            self.num_bands * self.num_windows * self.num_labels * self.num_features, 500\n",
    "        )\n",
    "        self.fc = nn.Linear(500, 4)\n",
    "\n",
    "    def forward(self, x):\n",
    "        csp = self.conv1(x)\n",
    "\n",
    "        features = csp.reshape(\n",
    "            (\n",
    "                -1,\n",
    "                self.num_bands * self.num_windows * self.num_labels * self.num_features,\n",
    "            )\n",
    "        )\n",
    "\n",
    "        x = torch.tanh(self.fc1(features))\n",
    "\n",
    "        x = F.softmax(self.fc(x), dim=1)\n",
    "        if self.training:\n",
    "            return x, csp\n",
    "        return x\n",
    "\n",
    "\n",
    "net = CSPNNCls(\n",
    "    num_channels=22, num_features=22, num_bands=1, num_windows=1, num_labels=4\n",
    ")\n",
    "# .cuda(0)\n",
    "cls_criterion = nn.CrossEntropyLoss()  # nn.BCELoss()\n",
    "# reg_criterion = nn.MSELoss()\n",
    "optimizer = optim.Adam(net.parameters(), lr=0.001, weight_decay=0.00)\n",
    "# lr_scheduler = torch.optim.lr_scheduler.OneCycleLR(\n",
    "#     optimizer, max_lr=0.1, steps_per_epoch=1, epochs=200\n",
    "# )\n",
    "lr_scheduler = torch.optim.lr_scheduler.StepLR(optimizer, step_size=200, gamma=0.1)"
   ]
  },
  {
   "cell_type": "code",
   "execution_count": 38,
   "id": "df449bbc-f041-4f5c-bc1d-93b60e530576",
   "metadata": {},
   "outputs": [
    {
     "data": {
      "text/plain": [
       "(torch.Size([10, 4]), torch.Size([10, 4, 22]))"
      ]
     },
     "execution_count": 38,
     "metadata": {},
     "output_type": "execute_result"
    }
   ],
   "source": [
    "signals = torch.empty((10, 22, 1, 16, 769), dtype=torch.float32).random_(1, 50)\n",
    "a, b = net(signals)\n",
    "a.size(), b.size()"
   ]
  },
  {
   "cell_type": "code",
   "execution_count": 39,
   "id": "7238974f-9aba-4ca2-8408-008842a950ef",
   "metadata": {},
   "outputs": [],
   "source": [
    "net = net.cuda()"
   ]
  },
  {
   "cell_type": "code",
   "execution_count": null,
   "id": "a69ade78-7f8f-4d47-a9d3-1ffe24cb7e96",
   "metadata": {
    "scrolled": true,
    "tags": []
   },
   "outputs": [
    {
     "name": "stdout",
     "output_type": "stream",
     "text": [
      "\n",
      "Epoch  0\n"
     ]
    },
    {
     "name": "stderr",
     "output_type": "stream",
     "text": [
      "9it [00:00, 17.63it/s]"
     ]
    },
    {
     "name": "stdout",
     "output_type": "stream",
     "text": [
      "['acc', 'kappa', 'auc', 'fmeasure', 'loss']\n",
      "Training Loss  1.3946860631306965\n"
     ]
    },
    {
     "name": "stderr",
     "output_type": "stream",
     "text": [
      "\n"
     ]
    },
    {
     "name": "stdout",
     "output_type": "stream",
     "text": [
      "Train -  [0.25, 0.0, 0.7236689814814814, 0.25, tensor(1.3858)]\n",
      "Validation -  [0.25, 0.0, 0.5875530478395062, 0.25, tensor(1.3875)]\n",
      "\n",
      "Epoch  1\n"
     ]
    },
    {
     "name": "stderr",
     "output_type": "stream",
     "text": [
      "9it [00:00, 34.20it/s]"
     ]
    },
    {
     "name": "stdout",
     "output_type": "stream",
     "text": [
      "['acc', 'kappa', 'auc', 'fmeasure', 'loss']\n",
      "Training Loss  1.3997561269336276\n"
     ]
    },
    {
     "name": "stderr",
     "output_type": "stream",
     "text": [
      "\n"
     ]
    },
    {
     "name": "stdout",
     "output_type": "stream",
     "text": [
      "Train -  [0.2534722222222222, 0.00462962962962965, 0.8037551440329218, 0.2534722222222222, tensor(1.3850)]\n",
      "Validation -  [0.25, 0.0, 0.6491126543209876, 0.25, tensor(1.3886)]\n",
      "\n",
      "Epoch  2\n"
     ]
    },
    {
     "name": "stderr",
     "output_type": "stream",
     "text": [
      "9it [00:00, 30.52it/s]"
     ]
    },
    {
     "name": "stdout",
     "output_type": "stream",
     "text": [
      "['acc', 'kappa', 'auc', 'fmeasure', 'loss']\n",
      "Training Loss  1.390414423412747\n"
     ]
    },
    {
     "name": "stderr",
     "output_type": "stream",
     "text": [
      "\n"
     ]
    },
    {
     "name": "stdout",
     "output_type": "stream",
     "text": [
      "Train -  [0.2534722222222222, 0.00462962962962965, 0.8267264660493827, 0.2534722222222222, tensor(1.3845)]\n",
      "Validation -  [0.25, 0.0, 0.6704443158436214, 0.25, tensor(1.3888)]\n",
      "\n",
      "Epoch  3\n"
     ]
    },
    {
     "name": "stderr",
     "output_type": "stream",
     "text": [
      "9it [00:00, 36.51it/s]"
     ]
    },
    {
     "name": "stdout",
     "output_type": "stream",
     "text": [
      "['acc', 'kappa', 'auc', 'fmeasure', 'loss']\n",
      "Training Loss  1.3911130958133273\n"
     ]
    },
    {
     "name": "stderr",
     "output_type": "stream",
     "text": [
      "\n"
     ]
    },
    {
     "name": "stdout",
     "output_type": "stream",
     "text": [
      "Train -  [0.3854166666666667, 0.18055555555555558, 0.842994470164609, 0.38541666666666663, tensor(1.3755)]\n",
      "Validation -  [0.3541666666666667, 0.13888888888888884, 0.6911490483539094, 0.3541666666666667, tensor(1.3812)]\n",
      "\n",
      "Epoch  4\n"
     ]
    },
    {
     "name": "stderr",
     "output_type": "stream",
     "text": [
      "9it [00:00, 34.53it/s]"
     ]
    },
    {
     "name": "stdout",
     "output_type": "stream",
     "text": [
      "['acc', 'kappa', 'auc', 'fmeasure', 'loss']\n",
      "Training Loss  1.386942942937215\n"
     ]
    },
    {
     "name": "stderr",
     "output_type": "stream",
     "text": [
      "\n"
     ]
    },
    {
     "name": "stdout",
     "output_type": "stream",
     "text": [
      "Train -  [0.2708333333333333, 0.02777777777777779, 0.8585873199588477, 0.2708333333333333, tensor(1.3762)]\n",
      "Validation -  [0.2534722222222222, 0.00462962962962965, 0.722608024691358, 0.2534722222222222, tensor(1.3820)]\n",
      "\n",
      "Epoch  5\n"
     ]
    },
    {
     "name": "stderr",
     "output_type": "stream",
     "text": [
      "9it [00:00, 35.07it/s]"
     ]
    },
    {
     "name": "stdout",
     "output_type": "stream",
     "text": [
      "['acc', 'kappa', 'auc', 'fmeasure', 'loss']\n",
      "Training Loss  1.402813778983222\n"
     ]
    },
    {
     "name": "stderr",
     "output_type": "stream",
     "text": [
      "\n"
     ]
    },
    {
     "name": "stdout",
     "output_type": "stream",
     "text": [
      "Train -  [0.2916666666666667, 0.05555555555555558, 0.8225147890946503, 0.2916666666666667, tensor(1.3916)]\n",
      "Validation -  [0.24305555555555555, -0.0092592592592593, 0.6615869341563785, 0.24305555555555555, tensor(1.3964)]\n",
      "\n",
      "Epoch  6\n"
     ]
    },
    {
     "name": "stderr",
     "output_type": "stream",
     "text": [
      "9it [00:00, 33.46it/s]"
     ]
    },
    {
     "name": "stdout",
     "output_type": "stream",
     "text": [
      "['acc', 'kappa', 'auc', 'fmeasure', 'loss']\n",
      "Training Loss  1.389906817012363\n"
     ]
    },
    {
     "name": "stderr",
     "output_type": "stream",
     "text": [
      "\n"
     ]
    },
    {
     "name": "stdout",
     "output_type": "stream",
     "text": [
      "Train -  [0.2743055555555556, 0.03240740740740744, 0.8718010545267489, 0.2743055555555556, tensor(1.3730)]\n",
      "Validation -  [0.2569444444444444, 0.0092592592592593, 0.7400173611111112, 0.2569444444444444, tensor(1.3800)]\n",
      "\n",
      "Epoch  7\n"
     ]
    },
    {
     "name": "stderr",
     "output_type": "stream",
     "text": [
      "9it [00:00, 35.79it/s]"
     ]
    },
    {
     "name": "stdout",
     "output_type": "stream",
     "text": [
      "['acc', 'kappa', 'auc', 'fmeasure', 'loss']\n",
      "Training Loss  1.382280773586697\n"
     ]
    },
    {
     "name": "stderr",
     "output_type": "stream",
     "text": [
      "\n"
     ]
    },
    {
     "name": "stdout",
     "output_type": "stream",
     "text": [
      "Train -  [0.2534722222222222, 0.00462962962962965, 0.8714634773662552, 0.2534722222222222, tensor(1.3779)]\n",
      "Validation -  [0.25, 0.0, 0.7531346450617284, 0.25, tensor(1.3841)]\n",
      "\n",
      "Epoch  8\n"
     ]
    },
    {
     "name": "stderr",
     "output_type": "stream",
     "text": [
      "9it [00:00, 38.31it/s]"
     ]
    },
    {
     "name": "stdout",
     "output_type": "stream",
     "text": [
      "['acc', 'kappa', 'auc', 'fmeasure', 'loss']\n",
      "Training Loss  1.3809082905451457\n"
     ]
    },
    {
     "name": "stderr",
     "output_type": "stream",
     "text": [
      "\n"
     ]
    },
    {
     "name": "stdout",
     "output_type": "stream",
     "text": [
      "Train -  [0.2673611111111111, 0.02314814814814814, 0.8752732767489712, 0.2673611111111111, tensor(1.3733)]\n",
      "Validation -  [0.2604166666666667, 0.01388888888888884, 0.7576999742798353, 0.2604166666666667, tensor(1.3808)]\n",
      "\n",
      "Epoch  9\n"
     ]
    },
    {
     "name": "stderr",
     "output_type": "stream",
     "text": [
      "9it [00:00, 37.30it/s]"
     ]
    },
    {
     "name": "stdout",
     "output_type": "stream",
     "text": [
      "['acc', 'kappa', 'auc', 'fmeasure', 'loss']\n",
      "Training Loss  1.3716910282770793\n"
     ]
    },
    {
     "name": "stderr",
     "output_type": "stream",
     "text": [
      "\n"
     ]
    },
    {
     "name": "stdout",
     "output_type": "stream",
     "text": [
      "Train -  [0.3333333333333333, 0.11111111111111116, 0.8663676697530864, 0.3333333333333333, tensor(1.3570)]\n",
      "Validation -  [0.3055555555555556, 0.07407407407407407, 0.7635834619341564, 0.3055555555555556, tensor(1.3696)]\n",
      "\n",
      "Epoch  10\n"
     ]
    },
    {
     "name": "stderr",
     "output_type": "stream",
     "text": [
      "9it [00:00, 36.30it/s]"
     ]
    },
    {
     "name": "stdout",
     "output_type": "stream",
     "text": [
      "['acc', 'kappa', 'auc', 'fmeasure', 'loss']\n",
      "Training Loss  1.3561575280295477\n"
     ]
    },
    {
     "name": "stderr",
     "output_type": "stream",
     "text": [
      "\n"
     ]
    },
    {
     "name": "stdout",
     "output_type": "stream",
     "text": [
      "Train -  [0.25, 0.0, 0.8566904578189302, 0.25, tensor(1.3645)]\n",
      "Validation -  [0.25, 0.0, 0.7539223251028806, 0.25, tensor(1.3787)]\n",
      "\n",
      "Epoch  11\n"
     ]
    },
    {
     "name": "stderr",
     "output_type": "stream",
     "text": [
      "9it [00:00, 33.82it/s]"
     ]
    },
    {
     "name": "stdout",
     "output_type": "stream",
     "text": [
      "['acc', 'kappa', 'auc', 'fmeasure', 'loss']\n",
      "Training Loss  1.3481082651350234\n"
     ]
    },
    {
     "name": "stderr",
     "output_type": "stream",
     "text": [
      "\n"
     ]
    },
    {
     "name": "stdout",
     "output_type": "stream",
     "text": [
      "Train -  [0.4027777777777778, 0.20370370370370372, 0.8748713991769548, 0.4027777777777778, tensor(1.3457)]\n",
      "Validation -  [0.2881944444444444, 0.05092592592592593, 0.7545974794238683, 0.2881944444444444, tensor(1.3626)]\n",
      "\n",
      "Epoch  12\n"
     ]
    },
    {
     "name": "stderr",
     "output_type": "stream",
     "text": [
      "9it [00:00, 38.61it/s]"
     ]
    },
    {
     "name": "stdout",
     "output_type": "stream",
     "text": [
      "['acc', 'kappa', 'auc', 'fmeasure', 'loss']\n",
      "Training Loss  1.334317472245958\n"
     ]
    },
    {
     "name": "stderr",
     "output_type": "stream",
     "text": [
      "\n"
     ]
    },
    {
     "name": "stdout",
     "output_type": "stream",
     "text": [
      "Train -  [0.34375, 0.125, 0.829957561728395, 0.34375, tensor(1.3150)]\n",
      "Validation -  [0.3333333333333333, 0.11111111111111116, 0.7597736625514404, 0.3333333333333333, tensor(1.3392)]\n",
      "\n",
      "Epoch  13\n"
     ]
    },
    {
     "name": "stderr",
     "output_type": "stream",
     "text": [
      "9it [00:00, 35.63it/s]"
     ]
    },
    {
     "name": "stdout",
     "output_type": "stream",
     "text": [
      "['acc', 'kappa', 'auc', 'fmeasure', 'loss']\n",
      "Training Loss  1.3170095284779866\n"
     ]
    },
    {
     "name": "stderr",
     "output_type": "stream",
     "text": [
      "\n"
     ]
    },
    {
     "name": "stdout",
     "output_type": "stream",
     "text": [
      "Train -  [0.3784722222222222, 0.17129629629629628, 0.8146379886831276, 0.3784722222222222, tensor(1.3048)]\n",
      "Validation -  [0.3576388888888889, 0.1435185185185185, 0.7524273405349795, 0.3576388888888889, tensor(1.3302)]\n",
      "\n",
      "Epoch  14\n"
     ]
    },
    {
     "name": "stderr",
     "output_type": "stream",
     "text": [
      "9it [00:00, 34.54it/s]"
     ]
    },
    {
     "name": "stdout",
     "output_type": "stream",
     "text": [
      "['acc', 'kappa', 'auc', 'fmeasure', 'loss']\n",
      "Training Loss  1.2917866971757677\n"
     ]
    },
    {
     "name": "stderr",
     "output_type": "stream",
     "text": [
      "\n"
     ]
    },
    {
     "name": "stdout",
     "output_type": "stream",
     "text": [
      "Train -  [0.5763888888888888, 0.43518518518518523, 0.8606288580246914, 0.5763888888888888, tensor(1.2659)]\n",
      "Validation -  [0.4791666666666667, 0.3055555555555556, 0.7801890432098766, 0.4791666666666667, tensor(1.3039)]\n",
      "\n",
      "Epoch  15\n"
     ]
    },
    {
     "name": "stderr",
     "output_type": "stream",
     "text": [
      "9it [00:00, 39.55it/s]"
     ]
    },
    {
     "name": "stdout",
     "output_type": "stream",
     "text": [
      "['acc', 'kappa', 'auc', 'fmeasure', 'loss']\n",
      "Training Loss  1.2678760290145874\n"
     ]
    },
    {
     "name": "stderr",
     "output_type": "stream",
     "text": [
      "\n"
     ]
    },
    {
     "name": "stdout",
     "output_type": "stream",
     "text": [
      "Train -  [0.46875, 0.29166666666666663, 0.8402617026748971, 0.46875, tensor(1.2501)]\n",
      "Validation -  [0.4305555555555556, 0.2407407407407407, 0.7705922067901234, 0.4305555555555556, tensor(1.2893)]\n",
      "\n",
      "Epoch  16\n"
     ]
    },
    {
     "name": "stderr",
     "output_type": "stream",
     "text": [
      "9it [00:00, 34.78it/s]"
     ]
    },
    {
     "name": "stdout",
     "output_type": "stream",
     "text": [
      "['acc', 'kappa', 'auc', 'fmeasure', 'loss']\n",
      "Training Loss  1.2592289050420125\n"
     ]
    },
    {
     "name": "stderr",
     "output_type": "stream",
     "text": [
      "\n"
     ]
    },
    {
     "name": "stdout",
     "output_type": "stream",
     "text": [
      "Train -  [0.4479166666666667, 0.26388888888888884, 0.8768647119341564, 0.4479166666666667, tensor(1.2478)]\n",
      "Validation -  [0.3715277777777778, 0.1620370370370371, 0.78393454218107, 0.3715277777777778, tensor(1.3071)]\n",
      "\n",
      "Epoch  17\n"
     ]
    },
    {
     "name": "stderr",
     "output_type": "stream",
     "text": [
      "9it [00:00, 34.72it/s]"
     ]
    },
    {
     "name": "stdout",
     "output_type": "stream",
     "text": [
      "['acc', 'kappa', 'auc', 'fmeasure', 'loss']\n",
      "Training Loss  1.233860903316074\n"
     ]
    },
    {
     "name": "stderr",
     "output_type": "stream",
     "text": [
      "\n"
     ]
    },
    {
     "name": "stdout",
     "output_type": "stream",
     "text": [
      "Train -  [0.4652777777777778, 0.2870370370370371, 0.8649530606995885, 0.4652777777777778, tensor(1.2180)]\n",
      "Validation -  [0.4201388888888889, 0.22685185185185186, 0.7818769290123457, 0.4201388888888889, tensor(1.2763)]\n",
      "\n",
      "Epoch  18\n"
     ]
    },
    {
     "name": "stderr",
     "output_type": "stream",
     "text": [
      "9it [00:00, 36.17it/s]"
     ]
    },
    {
     "name": "stdout",
     "output_type": "stream",
     "text": [
      "['acc', 'kappa', 'auc', 'fmeasure', 'loss']\n",
      "Training Loss  1.2175883319642808\n"
     ]
    },
    {
     "name": "stderr",
     "output_type": "stream",
     "text": [
      "\n"
     ]
    },
    {
     "name": "stdout",
     "output_type": "stream",
     "text": [
      "Train -  [0.4826388888888889, 0.31018518518518523, 0.8685699588477367, 0.4826388888888889, tensor(1.2015)]\n",
      "Validation -  [0.4270833333333333, 0.23611111111111116, 0.7827610596707819, 0.4270833333333333, tensor(1.2641)]\n",
      "\n",
      "Epoch  19\n"
     ]
    },
    {
     "name": "stderr",
     "output_type": "stream",
     "text": [
      "9it [00:00, 30.52it/s]"
     ]
    },
    {
     "name": "stdout",
     "output_type": "stream",
     "text": [
      "['acc', 'kappa', 'auc', 'fmeasure', 'loss']\n",
      "Training Loss  1.212697426478068\n"
     ]
    },
    {
     "name": "stderr",
     "output_type": "stream",
     "text": [
      "\n"
     ]
    },
    {
     "name": "stdout",
     "output_type": "stream",
     "text": [
      "Train -  [0.5520833333333334, 0.4027777777777778, 0.8713670267489713, 0.5520833333333334, tensor(1.1910)]\n",
      "Validation -  [0.53125, 0.375, 0.7882265946502058, 0.53125, tensor(1.2466)]\n",
      "\n",
      "Epoch  20\n"
     ]
    },
    {
     "name": "stderr",
     "output_type": "stream",
     "text": [
      "9it [00:00, 35.77it/s]"
     ]
    },
    {
     "name": "stdout",
     "output_type": "stream",
     "text": [
      "['acc', 'kappa', 'auc', 'fmeasure', 'loss']\n",
      "Training Loss  1.1907899512184992\n"
     ]
    },
    {
     "name": "stderr",
     "output_type": "stream",
     "text": [
      "\n"
     ]
    },
    {
     "name": "stdout",
     "output_type": "stream",
     "text": [
      "Train -  [0.5902777777777778, 0.4537037037037037, 0.8682645318930041, 0.5902777777777778, tensor(1.1851)]\n",
      "Validation -  [0.5208333333333334, 0.36111111111111116, 0.7869405864197531, 0.5208333333333334, tensor(1.2409)]\n",
      "\n",
      "Epoch  21\n"
     ]
    },
    {
     "name": "stderr",
     "output_type": "stream",
     "text": [
      "9it [00:00, 37.76it/s]"
     ]
    },
    {
     "name": "stdout",
     "output_type": "stream",
     "text": [
      "['acc', 'kappa', 'auc', 'fmeasure', 'loss']\n",
      "Training Loss  1.175390150811937\n"
     ]
    },
    {
     "name": "stderr",
     "output_type": "stream",
     "text": [
      "\n"
     ]
    },
    {
     "name": "stdout",
     "output_type": "stream",
     "text": [
      "Train -  [0.5520833333333334, 0.4027777777777778, 0.8743730709876543, 0.5520833333333334, tensor(1.1701)]\n",
      "Validation -  [0.4479166666666667, 0.26388888888888884, 0.7846739969135802, 0.4479166666666667, tensor(1.2444)]\n",
      "\n",
      "Epoch  22\n"
     ]
    },
    {
     "name": "stderr",
     "output_type": "stream",
     "text": [
      "9it [00:00, 33.52it/s]"
     ]
    },
    {
     "name": "stdout",
     "output_type": "stream",
     "text": [
      "['acc', 'kappa', 'auc', 'fmeasure', 'loss']\n",
      "Training Loss  1.1850958002938166\n"
     ]
    },
    {
     "name": "stderr",
     "output_type": "stream",
     "text": [
      "\n"
     ]
    },
    {
     "name": "stdout",
     "output_type": "stream",
     "text": [
      "Train -  [0.4756944444444444, 0.30092592592592593, 0.862718621399177, 0.4756944444444444, tensor(1.1929)]\n",
      "Validation -  [0.4375, 0.25, 0.7785976080246912, 0.4375, tensor(1.2600)]\n",
      "\n",
      "Epoch  23\n"
     ]
    },
    {
     "name": "stderr",
     "output_type": "stream",
     "text": [
      "9it [00:00, 38.07it/s]"
     ]
    },
    {
     "name": "stdout",
     "output_type": "stream",
     "text": [
      "['acc', 'kappa', 'auc', 'fmeasure', 'loss']\n",
      "Training Loss  1.1987249453862507\n"
     ]
    },
    {
     "name": "stderr",
     "output_type": "stream",
     "text": [
      "\n"
     ]
    },
    {
     "name": "stdout",
     "output_type": "stream",
     "text": [
      "Train -  [0.3958333333333333, 0.19444444444444442, 0.8136413323045268, 0.3958333333333333, tensor(1.2819)]\n",
      "Validation -  [0.375, 0.16666666666666663, 0.7586323302469136, 0.375, tensor(1.3110)]\n",
      "\n",
      "Epoch  24\n"
     ]
    },
    {
     "name": "stderr",
     "output_type": "stream",
     "text": [
      "9it [00:00, 32.10it/s]"
     ]
    },
    {
     "name": "stdout",
     "output_type": "stream",
     "text": [
      "['acc', 'kappa', 'auc', 'fmeasure', 'loss']\n",
      "Training Loss  1.204816672537062\n"
     ]
    },
    {
     "name": "stderr",
     "output_type": "stream",
     "text": [
      "\n"
     ]
    },
    {
     "name": "stdout",
     "output_type": "stream",
     "text": [
      "Train -  [0.5347222222222222, 0.37962962962962965, 0.8724279835390947, 0.5347222222222222, tensor(1.1851)]\n",
      "Validation -  [0.4722222222222222, 0.2962962962962963, 0.7806552211934156, 0.4722222222222222, tensor(1.2502)]\n",
      "\n",
      "Epoch  25\n"
     ]
    },
    {
     "name": "stderr",
     "output_type": "stream",
     "text": [
      "9it [00:00, 38.34it/s]"
     ]
    },
    {
     "name": "stdout",
     "output_type": "stream",
     "text": [
      "['acc', 'kappa', 'auc', 'fmeasure', 'loss']\n",
      "Training Loss  1.1972638501061335\n"
     ]
    },
    {
     "name": "stderr",
     "output_type": "stream",
     "text": [
      "\n"
     ]
    },
    {
     "name": "stdout",
     "output_type": "stream",
     "text": [
      "Train -  [0.4583333333333333, 0.2777777777777778, 0.8649852109053497, 0.4583333333333333, tensor(1.2291)]\n",
      "Validation -  [0.40625, 0.20833333333333337, 0.7819412294238683, 0.40625, tensor(1.3024)]\n",
      "\n",
      "Epoch  26\n"
     ]
    },
    {
     "name": "stderr",
     "output_type": "stream",
     "text": [
      "9it [00:00, 37.76it/s]"
     ]
    },
    {
     "name": "stdout",
     "output_type": "stream",
     "text": [
      "['acc', 'kappa', 'auc', 'fmeasure', 'loss']\n",
      "Training Loss  1.1832626660664876\n"
     ]
    },
    {
     "name": "stderr",
     "output_type": "stream",
     "text": [
      "\n"
     ]
    },
    {
     "name": "stdout",
     "output_type": "stream",
     "text": [
      "Train -  [0.5104166666666666, 0.3472222222222222, 0.8633294753086419, 0.5104166666666666, tensor(1.1754)]\n",
      "Validation -  [0.4756944444444444, 0.30092592592592593, 0.7826324588477367, 0.4756944444444444, tensor(1.2253)]\n",
      "\n",
      "Epoch  27\n"
     ]
    },
    {
     "name": "stderr",
     "output_type": "stream",
     "text": [
      "9it [00:00, 27.92it/s]\n"
     ]
    },
    {
     "name": "stdout",
     "output_type": "stream",
     "text": [
      "['acc', 'kappa', 'auc', 'fmeasure', 'loss']\n",
      "Training Loss  1.1622316439946492\n",
      "Train -  [0.6180555555555556, 0.4907407407407407, 0.9015078446502058, 0.6180555555555556, tensor(1.1473)]\n",
      "Validation -  [0.5208333333333334, 0.36111111111111116, 0.7850758744855967, 0.5208333333333334, tensor(1.2315)]\n",
      "\n",
      "Epoch  28\n"
     ]
    },
    {
     "name": "stderr",
     "output_type": "stream",
     "text": [
      "9it [00:00, 34.92it/s]"
     ]
    },
    {
     "name": "stdout",
     "output_type": "stream",
     "text": [
      "['acc', 'kappa', 'auc', 'fmeasure', 'loss']\n",
      "Training Loss  1.1798131333457098\n"
     ]
    },
    {
     "name": "stderr",
     "output_type": "stream",
     "text": [
      "\n"
     ]
    },
    {
     "name": "stdout",
     "output_type": "stream",
     "text": [
      "Train -  [0.6145833333333334, 0.48611111111111116, 0.897312242798354, 0.6145833333333334, tensor(1.1255)]\n",
      "Validation -  [0.4826388888888889, 0.31018518518518523, 0.788499871399177, 0.4826388888888889, tensor(1.2355)]\n",
      "\n",
      "Epoch  29\n"
     ]
    },
    {
     "name": "stderr",
     "output_type": "stream",
     "text": [
      "9it [00:00, 31.12it/s]"
     ]
    },
    {
     "name": "stdout",
     "output_type": "stream",
     "text": [
      "['acc', 'kappa', 'auc', 'fmeasure', 'loss']\n",
      "Training Loss  1.1525938113530476\n"
     ]
    },
    {
     "name": "stderr",
     "output_type": "stream",
     "text": [
      "\n"
     ]
    },
    {
     "name": "stdout",
     "output_type": "stream",
     "text": [
      "Train -  [0.59375, 0.45833333333333337, 0.8774273405349795, 0.59375, tensor(1.1464)]\n",
      "Validation -  [0.5208333333333334, 0.36111111111111116, 0.789818029835391, 0.5208333333333334, tensor(1.2099)]\n",
      "\n",
      "Epoch  30\n"
     ]
    },
    {
     "name": "stderr",
     "output_type": "stream",
     "text": [
      "9it [00:00, 23.24it/s]"
     ]
    },
    {
     "name": "stdout",
     "output_type": "stream",
     "text": [
      "['acc', 'kappa', 'auc', 'fmeasure', 'loss']\n",
      "Training Loss  1.1530676285425823\n"
     ]
    },
    {
     "name": "stderr",
     "output_type": "stream",
     "text": [
      "\n"
     ]
    },
    {
     "name": "stdout",
     "output_type": "stream",
     "text": [
      "Train -  [0.6076388888888888, 0.47685185185185186, 0.869823816872428, 0.6076388888888888, tensor(1.1517)]\n",
      "Validation -  [0.5173611111111112, 0.3564814814814815, 0.7904931841563786, 0.5173611111111112, tensor(1.2219)]\n",
      "\n",
      "Epoch  31\n"
     ]
    },
    {
     "name": "stderr",
     "output_type": "stream",
     "text": [
      "9it [00:00, 36.88it/s]"
     ]
    },
    {
     "name": "stdout",
     "output_type": "stream",
     "text": [
      "['acc', 'kappa', 'auc', 'fmeasure', 'loss']\n",
      "Training Loss  1.1343974007500544\n"
     ]
    },
    {
     "name": "stderr",
     "output_type": "stream",
     "text": [
      "\n"
     ]
    },
    {
     "name": "stdout",
     "output_type": "stream",
     "text": [
      "Train -  [0.6180555555555556, 0.4907407407407407, 0.9014756944444444, 0.6180555555555556, tensor(1.1189)]\n",
      "Validation -  [0.4930555555555556, 0.32407407407407407, 0.7871334876543211, 0.4930555555555556, tensor(1.2343)]\n",
      "\n",
      "Epoch  32\n"
     ]
    },
    {
     "name": "stderr",
     "output_type": "stream",
     "text": [
      "9it [00:00, 33.28it/s]"
     ]
    },
    {
     "name": "stdout",
     "output_type": "stream",
     "text": [
      "['acc', 'kappa', 'auc', 'fmeasure', 'loss']\n",
      "Training Loss  1.131462295850118\n"
     ]
    },
    {
     "name": "stderr",
     "output_type": "stream",
     "text": [
      "\n"
     ]
    },
    {
     "name": "stdout",
     "output_type": "stream",
     "text": [
      "Train -  [0.5694444444444444, 0.42592592592592593, 0.8820248199588477, 0.5694444444444444, tensor(1.1370)]\n",
      "Validation -  [0.4513888888888889, 0.2685185185185185, 0.7892232510288065, 0.4513888888888889, tensor(1.2423)]\n",
      "\n",
      "Epoch  33\n"
     ]
    },
    {
     "name": "stderr",
     "output_type": "stream",
     "text": [
      "9it [00:00, 35.31it/s]"
     ]
    },
    {
     "name": "stdout",
     "output_type": "stream",
     "text": [
      "['acc', 'kappa', 'auc', 'fmeasure', 'loss']\n",
      "Training Loss  1.1340958807203505\n"
     ]
    },
    {
     "name": "stderr",
     "output_type": "stream",
     "text": [
      "\n"
     ]
    },
    {
     "name": "stdout",
     "output_type": "stream",
     "text": [
      "Train -  [0.6180555555555556, 0.4907407407407407, 0.8832626028806585, 0.6180555555555556, tensor(1.1203)]\n",
      "Validation -  [0.4895833333333333, 0.3194444444444444, 0.7925347222222222, 0.4895833333333333, tensor(1.2199)]\n",
      "\n",
      "Epoch  34\n"
     ]
    },
    {
     "name": "stderr",
     "output_type": "stream",
     "text": [
      "9it [00:00, 36.17it/s]"
     ]
    },
    {
     "name": "stdout",
     "output_type": "stream",
     "text": [
      "['acc', 'kappa', 'auc', 'fmeasure', 'loss']\n",
      "Training Loss  1.1202472713258531\n"
     ]
    },
    {
     "name": "stderr",
     "output_type": "stream",
     "text": [
      "\n"
     ]
    },
    {
     "name": "stdout",
     "output_type": "stream",
     "text": [
      "Train -  [0.5972222222222222, 0.4629629629629629, 0.8882619598765432, 0.5972222222222222, tensor(1.1134)]\n",
      "Validation -  [0.5034722222222222, 0.3379629629629629, 0.7956452546296298, 0.5034722222222222, tensor(1.2092)]\n",
      "\n",
      "Epoch  35\n"
     ]
    },
    {
     "name": "stderr",
     "output_type": "stream",
     "text": [
      "9it [00:00, 32.39it/s]"
     ]
    },
    {
     "name": "stdout",
     "output_type": "stream",
     "text": [
      "['acc', 'kappa', 'auc', 'fmeasure', 'loss']\n",
      "Training Loss  1.1260723935233221\n"
     ]
    },
    {
     "name": "stderr",
     "output_type": "stream",
     "text": [
      "\n"
     ]
    },
    {
     "name": "stdout",
     "output_type": "stream",
     "text": [
      "Train -  [0.5868055555555556, 0.44907407407407407, 0.8900141460905351, 0.5868055555555556, tensor(1.1196)]\n",
      "Validation -  [0.4618055555555556, 0.28240740740740744, 0.792261445473251, 0.4618055555555556, tensor(1.2326)]\n",
      "\n",
      "Epoch  36\n"
     ]
    },
    {
     "name": "stderr",
     "output_type": "stream",
     "text": [
      "9it [00:00, 32.90it/s]"
     ]
    },
    {
     "name": "stdout",
     "output_type": "stream",
     "text": [
      "['acc', 'kappa', 'auc', 'fmeasure', 'loss']\n",
      "Training Loss  1.0965856181250677\n"
     ]
    },
    {
     "name": "stderr",
     "output_type": "stream",
     "text": [
      "\n"
     ]
    },
    {
     "name": "stdout",
     "output_type": "stream",
     "text": [
      "Train -  [0.6076388888888888, 0.47685185185185186, 0.8849022633744856, 0.6076388888888888, tensor(1.1209)]\n",
      "Validation -  [0.5138888888888888, 0.35185185185185186, 0.7958944187242799, 0.5138888888888888, tensor(1.2144)]\n",
      "\n",
      "Epoch  37\n"
     ]
    },
    {
     "name": "stderr",
     "output_type": "stream",
     "text": [
      "9it [00:00, 36.37it/s]"
     ]
    },
    {
     "name": "stdout",
     "output_type": "stream",
     "text": [
      "['acc', 'kappa', 'auc', 'fmeasure', 'loss']\n",
      "Training Loss  1.1262542141808405\n"
     ]
    },
    {
     "name": "stderr",
     "output_type": "stream",
     "text": [
      "\n"
     ]
    },
    {
     "name": "stdout",
     "output_type": "stream",
     "text": [
      "Train -  [0.6701388888888888, 0.5601851851851851, 0.9040557484567902, 0.6701388888888888, tensor(1.0837)]\n",
      "Validation -  [0.5729166666666666, 0.4305555555555556, 0.7931295010288066, 0.5729166666666666, tensor(1.1864)]\n",
      "\n",
      "Epoch  38\n"
     ]
    },
    {
     "name": "stderr",
     "output_type": "stream",
     "text": [
      "9it [00:00, 37.16it/s]"
     ]
    },
    {
     "name": "stdout",
     "output_type": "stream",
     "text": [
      "['acc', 'kappa', 'auc', 'fmeasure', 'loss']\n",
      "Training Loss  1.090742548306783\n"
     ]
    },
    {
     "name": "stderr",
     "output_type": "stream",
     "text": [
      "\n"
     ]
    },
    {
     "name": "stdout",
     "output_type": "stream",
     "text": [
      "Train -  [0.6840277777777778, 0.5787037037037037, 0.8954153806584362, 0.6840277777777778, tensor(1.0978)]\n",
      "Validation -  [0.5520833333333334, 0.4027777777777778, 0.7978234310699588, 0.5520833333333334, tensor(1.1936)]\n",
      "\n",
      "Epoch  39\n"
     ]
    },
    {
     "name": "stderr",
     "output_type": "stream",
     "text": [
      "9it [00:00, 32.95it/s]"
     ]
    },
    {
     "name": "stdout",
     "output_type": "stream",
     "text": [
      "['acc', 'kappa', 'auc', 'fmeasure', 'loss']\n",
      "Training Loss  1.0899923377566867\n"
     ]
    },
    {
     "name": "stderr",
     "output_type": "stream",
     "text": [
      "\n"
     ]
    },
    {
     "name": "stdout",
     "output_type": "stream",
     "text": [
      "Train -  [0.7256944444444444, 0.6342592592592593, 0.9106063528806584, 0.7256944444444444, tensor(1.0706)]\n",
      "Validation -  [0.5694444444444444, 0.42592592592592593, 0.7942386831275721, 0.5694444444444444, tensor(1.1875)]\n",
      "\n",
      "Epoch  40\n"
     ]
    },
    {
     "name": "stderr",
     "output_type": "stream",
     "text": [
      "9it [00:00, 33.13it/s]"
     ]
    },
    {
     "name": "stdout",
     "output_type": "stream",
     "text": [
      "['acc', 'kappa', 'auc', 'fmeasure', 'loss']\n",
      "Training Loss  1.0705011950598822\n"
     ]
    },
    {
     "name": "stderr",
     "output_type": "stream",
     "text": [
      "\n"
     ]
    },
    {
     "name": "stdout",
     "output_type": "stream",
     "text": [
      "Train -  [0.7777777777777778, 0.7037037037037037, 0.9144161522633745, 0.7777777777777778, tensor(1.0544)]\n",
      "Validation -  [0.5555555555555556, 0.40740740740740744, 0.8001543209876544, 0.5555555555555556, tensor(1.1833)]\n",
      "\n",
      "Epoch  41\n"
     ]
    },
    {
     "name": "stderr",
     "output_type": "stream",
     "text": [
      "9it [00:00, 36.46it/s]"
     ]
    },
    {
     "name": "stdout",
     "output_type": "stream",
     "text": [
      "['acc', 'kappa', 'auc', 'fmeasure', 'loss']\n",
      "Training Loss  1.072783715195126\n"
     ]
    },
    {
     "name": "stderr",
     "output_type": "stream",
     "text": [
      "\n"
     ]
    },
    {
     "name": "stdout",
     "output_type": "stream",
     "text": [
      "Train -  [0.6319444444444444, 0.5092592592592593, 0.89965920781893, 0.6319444444444444, tensor(1.0841)]\n",
      "Validation -  [0.4965277777777778, 0.3287037037037037, 0.8004918981481481, 0.4965277777777778, tensor(1.2090)]\n",
      "\n",
      "Epoch  42\n"
     ]
    },
    {
     "name": "stderr",
     "output_type": "stream",
     "text": [
      "9it [00:00, 31.72it/s]"
     ]
    },
    {
     "name": "stdout",
     "output_type": "stream",
     "text": [
      "['acc', 'kappa', 'auc', 'fmeasure', 'loss']\n",
      "Training Loss  1.0733439524968464\n"
     ]
    },
    {
     "name": "stderr",
     "output_type": "stream",
     "text": [
      "\n"
     ]
    },
    {
     "name": "stdout",
     "output_type": "stream",
     "text": [
      "Train -  [0.6423611111111112, 0.5231481481481481, 0.908982767489712, 0.6423611111111112, tensor(1.0681)]\n",
      "Validation -  [0.53125, 0.375, 0.8032246656378601, 0.53125, tensor(1.1841)]\n",
      "\n",
      "Epoch  43\n"
     ]
    },
    {
     "name": "stderr",
     "output_type": "stream",
     "text": [
      "9it [00:00, 39.12it/s]"
     ]
    },
    {
     "name": "stdout",
     "output_type": "stream",
     "text": [
      "['acc', 'kappa', 'auc', 'fmeasure', 'loss']\n",
      "Training Loss  1.0905315081278484\n"
     ]
    },
    {
     "name": "stderr",
     "output_type": "stream",
     "text": [
      "\n"
     ]
    },
    {
     "name": "stdout",
     "output_type": "stream",
     "text": [
      "Train -  [0.6805555555555556, 0.5740740740740741, 0.9113618827160493, 0.6805555555555556, tensor(1.0682)]\n",
      "Validation -  [0.5590277777777778, 0.4120370370370371, 0.8063914609053499, 0.5590277777777778, tensor(1.1811)]\n",
      "\n",
      "Epoch  44\n"
     ]
    },
    {
     "name": "stderr",
     "output_type": "stream",
     "text": [
      "9it [00:00, 36.16it/s]"
     ]
    },
    {
     "name": "stdout",
     "output_type": "stream",
     "text": [
      "['acc', 'kappa', 'auc', 'fmeasure', 'loss']\n",
      "Training Loss  1.078949299123552\n"
     ]
    },
    {
     "name": "stderr",
     "output_type": "stream",
     "text": [
      "\n"
     ]
    },
    {
     "name": "stdout",
     "output_type": "stream",
     "text": [
      "Train -  [0.6944444444444444, 0.5925925925925926, 0.9103973765432098, 0.6944444444444444, tensor(1.0855)]\n",
      "Validation -  [0.5173611111111112, 0.3564814814814815, 0.786426183127572, 0.5173611111111112, tensor(1.2159)]\n",
      "\n",
      "Epoch  45\n"
     ]
    },
    {
     "name": "stderr",
     "output_type": "stream",
     "text": [
      "9it [00:00, 34.04it/s]"
     ]
    },
    {
     "name": "stdout",
     "output_type": "stream",
     "text": [
      "['acc', 'kappa', 'auc', 'fmeasure', 'loss']\n",
      "Training Loss  1.1011547247568767\n"
     ]
    },
    {
     "name": "stderr",
     "output_type": "stream",
     "text": [
      "\n"
     ]
    },
    {
     "name": "stdout",
     "output_type": "stream",
     "text": [
      "Train -  [0.71875, 0.625, 0.9049157664609053, 0.71875, tensor(1.0606)]\n",
      "Validation -  [0.5486111111111112, 0.39814814814814814, 0.8022762345679013, 0.5486111111111112, tensor(1.1854)]\n",
      "\n",
      "Epoch  46\n"
     ]
    },
    {
     "name": "stderr",
     "output_type": "stream",
     "text": [
      "9it [00:00, 35.61it/s]"
     ]
    },
    {
     "name": "stdout",
     "output_type": "stream",
     "text": [
      "['acc', 'kappa', 'auc', 'fmeasure', 'loss']\n",
      "Training Loss  1.0777679946687486\n"
     ]
    },
    {
     "name": "stderr",
     "output_type": "stream",
     "text": [
      "\n"
     ]
    },
    {
     "name": "stdout",
     "output_type": "stream",
     "text": [
      "Train -  [0.5972222222222222, 0.4629629629629629, 0.8923932613168724, 0.5972222222222222, tensor(1.1173)]\n",
      "Validation -  [0.4791666666666667, 0.3055555555555556, 0.7964731224279835, 0.4791666666666667, tensor(1.2290)]\n",
      "\n",
      "Epoch  47\n"
     ]
    },
    {
     "name": "stderr",
     "output_type": "stream",
     "text": [
      "9it [00:00, 37.55it/s]"
     ]
    },
    {
     "name": "stdout",
     "output_type": "stream",
     "text": [
      "['acc', 'kappa', 'auc', 'fmeasure', 'loss']\n",
      "Training Loss  1.1135024825731914\n"
     ]
    },
    {
     "name": "stderr",
     "output_type": "stream",
     "text": [
      "\n"
     ]
    },
    {
     "name": "stdout",
     "output_type": "stream",
     "text": [
      "Train -  [0.6111111111111112, 0.4814814814814815, 0.8956725823045267, 0.6111111111111112, tensor(1.1035)]\n",
      "Validation -  [0.4756944444444444, 0.30092592592592593, 0.7987075617283951, 0.4756944444444444, tensor(1.2230)]\n",
      "\n",
      "Epoch  48\n"
     ]
    },
    {
     "name": "stderr",
     "output_type": "stream",
     "text": [
      "9it [00:00, 32.89it/s]"
     ]
    },
    {
     "name": "stdout",
     "output_type": "stream",
     "text": [
      "['acc', 'kappa', 'auc', 'fmeasure', 'loss']\n",
      "Training Loss  1.1241063740518358\n"
     ]
    },
    {
     "name": "stderr",
     "output_type": "stream",
     "text": [
      "\n"
     ]
    },
    {
     "name": "stdout",
     "output_type": "stream",
     "text": [
      "Train -  [0.6354166666666666, 0.5138888888888888, 0.9070698302469136, 0.6354166666666666, tensor(1.0669)]\n",
      "Validation -  [0.5347222222222222, 0.37962962962962965, 0.803835519547325, 0.5347222222222222, tensor(1.1916)]\n",
      "\n",
      "Epoch  49\n"
     ]
    },
    {
     "name": "stderr",
     "output_type": "stream",
     "text": [
      "9it [00:00, 34.79it/s]"
     ]
    },
    {
     "name": "stdout",
     "output_type": "stream",
     "text": [
      "['acc', 'kappa', 'auc', 'fmeasure', 'loss']\n",
      "Training Loss  1.0775703589121501\n"
     ]
    },
    {
     "name": "stderr",
     "output_type": "stream",
     "text": [
      "\n"
     ]
    },
    {
     "name": "stdout",
     "output_type": "stream",
     "text": [
      "Train -  [0.7604166666666666, 0.6805555555555556, 0.9176150977366255, 0.7604166666666666, tensor(1.0497)]\n",
      "Validation -  [0.5381944444444444, 0.3842592592592593, 0.7928240740740741, 0.5381944444444444, tensor(1.1904)]\n",
      "\n",
      "Epoch  50\n"
     ]
    },
    {
     "name": "stderr",
     "output_type": "stream",
     "text": [
      "9it [00:00, 35.66it/s]"
     ]
    },
    {
     "name": "stdout",
     "output_type": "stream",
     "text": [
      "['acc', 'kappa', 'auc', 'fmeasure', 'loss']\n",
      "Training Loss  1.0421854986084833\n"
     ]
    },
    {
     "name": "stderr",
     "output_type": "stream",
     "text": [
      "\n"
     ]
    },
    {
     "name": "stdout",
     "output_type": "stream",
     "text": [
      "Train -  [0.7013888888888888, 0.6018518518518519, 0.9154771090534979, 0.7013888888888888, tensor(1.0387)]\n",
      "Validation -  [0.5729166666666666, 0.4305555555555556, 0.8025495113168724, 0.5729166666666666, tensor(1.1643)]\n",
      "\n",
      "Epoch  51\n"
     ]
    },
    {
     "name": "stderr",
     "output_type": "stream",
     "text": [
      "9it [00:00, 32.97it/s]"
     ]
    },
    {
     "name": "stdout",
     "output_type": "stream",
     "text": [
      "['acc', 'kappa', 'auc', 'fmeasure', 'loss']\n",
      "Training Loss  1.0445371336407132\n"
     ]
    },
    {
     "name": "stderr",
     "output_type": "stream",
     "text": [
      "\n"
     ]
    },
    {
     "name": "stdout",
     "output_type": "stream",
     "text": [
      "Train -  [0.7430555555555556, 0.6574074074074074, 0.9119405864197531, 0.7430555555555556, tensor(1.0447)]\n",
      "Validation -  [0.5625, 0.41666666666666663, 0.8021315586419754, 0.5625, tensor(1.1753)]\n",
      "\n",
      "Epoch  52\n"
     ]
    },
    {
     "name": "stderr",
     "output_type": "stream",
     "text": [
      "9it [00:00, 25.35it/s]"
     ]
    },
    {
     "name": "stdout",
     "output_type": "stream",
     "text": [
      "['acc', 'kappa', 'auc', 'fmeasure', 'loss']\n",
      "Training Loss  1.0461538566483393\n"
     ]
    },
    {
     "name": "stderr",
     "output_type": "stream",
     "text": [
      "\n"
     ]
    },
    {
     "name": "stdout",
     "output_type": "stream",
     "text": [
      "Train -  [0.7847222222222222, 0.712962962962963, 0.9204282407407407, 0.7847222222222222, tensor(1.0312)]\n",
      "Validation -  [0.5555555555555556, 0.40740740740740744, 0.7971000514403292, 0.5555555555555556, tensor(1.1761)]\n",
      "\n",
      "Epoch  53\n"
     ]
    },
    {
     "name": "stderr",
     "output_type": "stream",
     "text": [
      "9it [00:00, 34.88it/s]"
     ]
    },
    {
     "name": "stdout",
     "output_type": "stream",
     "text": [
      "['acc', 'kappa', 'auc', 'fmeasure', 'loss']\n",
      "Training Loss  1.0584122472339206\n"
     ]
    },
    {
     "name": "stderr",
     "output_type": "stream",
     "text": [
      "\n"
     ]
    },
    {
     "name": "stdout",
     "output_type": "stream",
     "text": [
      "Train -  [0.7013888888888888, 0.6018518518518519, 0.9250417952674898, 0.7013888888888888, tensor(1.0365)]\n",
      "Validation -  [0.5555555555555556, 0.40740740740740744, 0.8075167181069958, 0.5555555555555556, tensor(1.1740)]\n",
      "\n",
      "Epoch  54\n"
     ]
    },
    {
     "name": "stderr",
     "output_type": "stream",
     "text": [
      "9it [00:00, 32.29it/s]"
     ]
    },
    {
     "name": "stdout",
     "output_type": "stream",
     "text": [
      "['acc', 'kappa', 'auc', 'fmeasure', 'loss']\n",
      "Training Loss  1.0619133445951674\n"
     ]
    },
    {
     "name": "stderr",
     "output_type": "stream",
     "text": [
      "\n"
     ]
    },
    {
     "name": "stdout",
     "output_type": "stream",
     "text": [
      "Train -  [0.7291666666666666, 0.6388888888888888, 0.9202514146090536, 0.7291666666666665, tensor(1.0342)]\n",
      "Validation -  [0.5243055555555556, 0.3657407407407407, 0.8045428240740741, 0.5243055555555556, tensor(1.1928)]\n",
      "\n",
      "Epoch  55\n"
     ]
    },
    {
     "name": "stderr",
     "output_type": "stream",
     "text": [
      "9it [00:00, 20.44it/s]"
     ]
    },
    {
     "name": "stdout",
     "output_type": "stream",
     "text": [
      "['acc', 'kappa', 'auc', 'fmeasure', 'loss']\n",
      "Training Loss  1.0393534766303167\n"
     ]
    },
    {
     "name": "stderr",
     "output_type": "stream",
     "text": [
      "\n"
     ]
    },
    {
     "name": "stdout",
     "output_type": "stream",
     "text": [
      "Train -  [0.6527777777777778, 0.537037037037037, 0.9204764660493826, 0.6527777777777778, tensor(1.0614)]\n",
      "Validation -  [0.5381944444444444, 0.3842592592592593, 0.8043820730452674, 0.5381944444444444, tensor(1.1918)]\n",
      "\n",
      "Epoch  56\n"
     ]
    },
    {
     "name": "stderr",
     "output_type": "stream",
     "text": [
      "9it [00:00, 15.90it/s]"
     ]
    },
    {
     "name": "stdout",
     "output_type": "stream",
     "text": [
      "['acc', 'kappa', 'auc', 'fmeasure', 'loss']\n",
      "Training Loss  1.0741446879174974\n"
     ]
    },
    {
     "name": "stderr",
     "output_type": "stream",
     "text": [
      "\n"
     ]
    },
    {
     "name": "stdout",
     "output_type": "stream",
     "text": [
      "Train -  [0.7048611111111112, 0.6064814814814814, 0.921023019547325, 0.7048611111111112, tensor(1.0328)]\n",
      "Validation -  [0.5520833333333334, 0.4027777777777778, 0.8057645318930041, 0.5520833333333334, tensor(1.1722)]\n",
      "\n",
      "Epoch  57\n"
     ]
    },
    {
     "name": "stderr",
     "output_type": "stream",
     "text": [
      "9it [00:00, 26.48it/s]"
     ]
    },
    {
     "name": "stdout",
     "output_type": "stream",
     "text": [
      "['acc', 'kappa', 'auc', 'fmeasure', 'loss']\n",
      "Training Loss  1.0667688912815518\n"
     ]
    },
    {
     "name": "stderr",
     "output_type": "stream",
     "text": [
      "\n"
     ]
    },
    {
     "name": "stdout",
     "output_type": "stream",
     "text": [
      "Train -  [0.7534722222222222, 0.6712962962962963, 0.9218589248971193, 0.7534722222222221, tensor(1.0186)]\n",
      "Validation -  [0.5625, 0.41666666666666663, 0.8079346707818931, 0.5625, tensor(1.1726)]\n",
      "\n",
      "Epoch  58\n"
     ]
    },
    {
     "name": "stderr",
     "output_type": "stream",
     "text": [
      "9it [00:00, 36.37it/s]"
     ]
    },
    {
     "name": "stdout",
     "output_type": "stream",
     "text": [
      "['acc', 'kappa', 'auc', 'fmeasure', 'loss']\n",
      "Training Loss  1.0881370438469782\n"
     ]
    },
    {
     "name": "stderr",
     "output_type": "stream",
     "text": [
      "\n"
     ]
    },
    {
     "name": "stdout",
     "output_type": "stream",
     "text": [
      "Train -  [0.6979166666666666, 0.5972222222222222, 0.9145929783950617, 0.6979166666666666, tensor(1.0416)]\n",
      "Validation -  [0.5277777777777778, 0.37037037037037035, 0.8056680812757202, 0.5277777777777778, tensor(1.1912)]\n",
      "\n",
      "Epoch  59\n"
     ]
    },
    {
     "name": "stderr",
     "output_type": "stream",
     "text": [
      "9it [00:00, 37.54it/s]"
     ]
    },
    {
     "name": "stdout",
     "output_type": "stream",
     "text": [
      "['acc', 'kappa', 'auc', 'fmeasure', 'loss']\n",
      "Training Loss  1.0877397457758586\n"
     ]
    },
    {
     "name": "stderr",
     "output_type": "stream",
     "text": [
      "\n"
     ]
    },
    {
     "name": "stdout",
     "output_type": "stream",
     "text": [
      "Train -  [0.7013888888888888, 0.6018518518518519, 0.915798611111111, 0.7013888888888888, tensor(1.0396)]\n",
      "Validation -  [0.5451388888888888, 0.3935185185185185, 0.8061342592592593, 0.5451388888888888, tensor(1.1856)]\n",
      "\n",
      "Epoch  60\n"
     ]
    },
    {
     "name": "stderr",
     "output_type": "stream",
     "text": [
      "9it [00:00, 33.99it/s]"
     ]
    },
    {
     "name": "stdout",
     "output_type": "stream",
     "text": [
      "['acc', 'kappa', 'auc', 'fmeasure', 'loss']\n",
      "Training Loss  1.0298184620009527\n"
     ]
    },
    {
     "name": "stderr",
     "output_type": "stream",
     "text": [
      "\n"
     ]
    },
    {
     "name": "stdout",
     "output_type": "stream",
     "text": [
      "Train -  [0.7638888888888888, 0.6851851851851851, 0.9233539094650205, 0.763888888888889, tensor(1.0177)]\n",
      "Validation -  [0.5520833333333334, 0.4027777777777778, 0.8085133744855968, 0.5520833333333334, tensor(1.1743)]\n",
      "\n",
      "Epoch  61\n"
     ]
    },
    {
     "name": "stderr",
     "output_type": "stream",
     "text": [
      "9it [00:00, 36.63it/s]"
     ]
    },
    {
     "name": "stdout",
     "output_type": "stream",
     "text": [
      "['acc', 'kappa', 'auc', 'fmeasure', 'loss']\n",
      "Training Loss  1.016700115468767\n"
     ]
    },
    {
     "name": "stderr",
     "output_type": "stream",
     "text": [
      "\n"
     ]
    },
    {
     "name": "stdout",
     "output_type": "stream",
     "text": [
      "Train -  [0.7916666666666666, 0.7222222222222222, 0.9298000257201646, 0.7916666666666666, tensor(0.9943)]\n",
      "Validation -  [0.5798611111111112, 0.43981481481481477, 0.8095261059670782, 0.5798611111111112, tensor(1.1608)]\n",
      "\n",
      "Epoch  62\n"
     ]
    },
    {
     "name": "stderr",
     "output_type": "stream",
     "text": [
      "9it [00:00, 16.67it/s]"
     ]
    },
    {
     "name": "stdout",
     "output_type": "stream",
     "text": [
      "['acc', 'kappa', 'auc', 'fmeasure', 'loss']\n",
      "Training Loss  1.0138198534647624\n"
     ]
    },
    {
     "name": "stderr",
     "output_type": "stream",
     "text": [
      "\n"
     ]
    },
    {
     "name": "stdout",
     "output_type": "stream",
     "text": [
      "Train -  [0.71875, 0.625, 0.9264564043209875, 0.71875, tensor(1.0329)]\n",
      "Validation -  [0.53125, 0.375, 0.7986754115226338, 0.53125, tensor(1.1862)]\n",
      "\n",
      "Epoch  63\n"
     ]
    },
    {
     "name": "stderr",
     "output_type": "stream",
     "text": [
      "9it [00:00, 21.23it/s]"
     ]
    },
    {
     "name": "stdout",
     "output_type": "stream",
     "text": [
      "['acc', 'kappa', 'auc', 'fmeasure', 'loss']\n",
      "Training Loss  1.023740245236291\n"
     ]
    },
    {
     "name": "stderr",
     "output_type": "stream",
     "text": [
      "\n"
     ]
    },
    {
     "name": "stdout",
     "output_type": "stream",
     "text": [
      "Train -  [0.75, 0.6666666666666667, 0.9204443158436214, 0.75, tensor(1.0339)]\n",
      "Validation -  [0.5520833333333334, 0.4027777777777778, 0.7967785493827161, 0.5520833333333334, tensor(1.1777)]\n",
      "\n",
      "Epoch  64\n"
     ]
    },
    {
     "name": "stderr",
     "output_type": "stream",
     "text": [
      "9it [00:00, 22.13it/s]"
     ]
    },
    {
     "name": "stdout",
     "output_type": "stream",
     "text": [
      "['acc', 'kappa', 'auc', 'fmeasure', 'loss']\n",
      "Training Loss  1.0279737247361078\n"
     ]
    },
    {
     "name": "stderr",
     "output_type": "stream",
     "text": [
      "\n"
     ]
    },
    {
     "name": "stdout",
     "output_type": "stream",
     "text": [
      "Train -  [0.6111111111111112, 0.4814814814814815, 0.9066518775720165, 0.6111111111111112, tensor(1.1041)]\n",
      "Validation -  [0.53125, 0.375, 0.794624485596708, 0.53125, tensor(1.1998)]\n",
      "\n",
      "Epoch  65\n"
     ]
    },
    {
     "name": "stderr",
     "output_type": "stream",
     "text": [
      "9it [00:00, 29.40it/s]"
     ]
    },
    {
     "name": "stdout",
     "output_type": "stream",
     "text": [
      "['acc', 'kappa', 'auc', 'fmeasure', 'loss']\n",
      "Training Loss  1.0546069078975253\n"
     ]
    },
    {
     "name": "stderr",
     "output_type": "stream",
     "text": [
      "\n"
     ]
    },
    {
     "name": "stdout",
     "output_type": "stream",
     "text": [
      "Train -  [0.7673611111111112, 0.6898148148148149, 0.9270511831275721, 0.7673611111111112, tensor(1.0091)]\n",
      "Validation -  [0.5902777777777778, 0.4537037037037037, 0.8028549382716049, 0.5902777777777778, tensor(1.1601)]\n",
      "\n",
      "Epoch  66\n"
     ]
    },
    {
     "name": "stderr",
     "output_type": "stream",
     "text": [
      "9it [00:00, 17.25it/s]"
     ]
    },
    {
     "name": "stdout",
     "output_type": "stream",
     "text": [
      "['acc', 'kappa', 'auc', 'fmeasure', 'loss']\n",
      "Training Loss  1.033617079257965\n"
     ]
    },
    {
     "name": "stderr",
     "output_type": "stream",
     "text": [
      "\n"
     ]
    },
    {
     "name": "stdout",
     "output_type": "stream",
     "text": [
      "Train -  [0.7673611111111112, 0.6898148148148149, 0.9270190329218106, 0.7673611111111112, tensor(1.0227)]\n",
      "Validation -  [0.5555555555555556, 0.40740740740740744, 0.7960873199588477, 0.5555555555555556, tensor(1.1805)]\n",
      "\n",
      "Epoch  67\n"
     ]
    },
    {
     "name": "stderr",
     "output_type": "stream",
     "text": [
      "9it [00:00, 15.17it/s]"
     ]
    },
    {
     "name": "stdout",
     "output_type": "stream",
     "text": [
      "['acc', 'kappa', 'auc', 'fmeasure', 'loss']\n",
      "Training Loss  1.0254336727990045\n"
     ]
    },
    {
     "name": "stderr",
     "output_type": "stream",
     "text": [
      "\n"
     ]
    },
    {
     "name": "stdout",
     "output_type": "stream",
     "text": [
      "Train -  [0.7152777777777778, 0.6203703703703703, 0.928321116255144, 0.7152777777777778, tensor(1.0204)]\n",
      "Validation -  [0.5694444444444444, 0.42592592592592593, 0.803883744855967, 0.5694444444444444, tensor(1.1622)]\n",
      "\n",
      "Epoch  68\n"
     ]
    },
    {
     "name": "stderr",
     "output_type": "stream",
     "text": [
      "9it [00:00, 26.71it/s]"
     ]
    },
    {
     "name": "stdout",
     "output_type": "stream",
     "text": [
      "['acc', 'kappa', 'auc', 'fmeasure', 'loss']\n",
      "Training Loss  1.0246148308118184\n"
     ]
    },
    {
     "name": "stderr",
     "output_type": "stream",
     "text": [
      "\n"
     ]
    },
    {
     "name": "stdout",
     "output_type": "stream",
     "text": [
      "Train -  [0.7048611111111112, 0.6064814814814814, 0.9230163323045267, 0.7048611111111112, tensor(1.0330)]\n",
      "Validation -  [0.5486111111111112, 0.39814814814814814, 0.8020351080246914, 0.5486111111111112, tensor(1.1900)]\n",
      "\n",
      "Epoch  69\n"
     ]
    },
    {
     "name": "stderr",
     "output_type": "stream",
     "text": [
      "9it [00:00, 22.75it/s]"
     ]
    },
    {
     "name": "stdout",
     "output_type": "stream",
     "text": [
      "['acc', 'kappa', 'auc', 'fmeasure', 'loss']\n",
      "Training Loss  1.0274767676989238\n"
     ]
    },
    {
     "name": "stderr",
     "output_type": "stream",
     "text": [
      "\n"
     ]
    },
    {
     "name": "stdout",
     "output_type": "stream",
     "text": [
      "Train -  [0.6805555555555556, 0.5740740740740741, 0.9155896347736625, 0.6805555555555556, tensor(1.0795)]\n",
      "Validation -  [0.5, 0.33333333333333337, 0.7811213991769548, 0.5, tensor(1.2157)]\n",
      "\n",
      "Epoch  70\n"
     ]
    },
    {
     "name": "stderr",
     "output_type": "stream",
     "text": [
      "9it [00:00, 14.48it/s]"
     ]
    },
    {
     "name": "stdout",
     "output_type": "stream",
     "text": [
      "['acc', 'kappa', 'auc', 'fmeasure', 'loss']\n",
      "Training Loss  1.099835170639886\n"
     ]
    },
    {
     "name": "stderr",
     "output_type": "stream",
     "text": [
      "\n"
     ]
    },
    {
     "name": "stdout",
     "output_type": "stream",
     "text": [
      "Train -  [0.6701388888888888, 0.5601851851851851, 0.9251060956790123, 0.6701388888888888, tensor(1.0643)]\n",
      "Validation -  [0.5381944444444444, 0.3842592592592593, 0.8047196502057612, 0.5381944444444444, tensor(1.1879)]\n",
      "\n",
      "Epoch  71\n"
     ]
    },
    {
     "name": "stderr",
     "output_type": "stream",
     "text": [
      "9it [00:00, 16.17it/s]"
     ]
    },
    {
     "name": "stdout",
     "output_type": "stream",
     "text": [
      "['acc', 'kappa', 'auc', 'fmeasure', 'loss']\n",
      "Training Loss  1.056391437848409\n"
     ]
    },
    {
     "name": "stderr",
     "output_type": "stream",
     "text": [
      "\n"
     ]
    },
    {
     "name": "stdout",
     "output_type": "stream",
     "text": [
      "Train -  [0.6840277777777778, 0.5787037037037037, 0.923289609053498, 0.6840277777777778, tensor(1.0571)]\n",
      "Validation -  [0.53125, 0.375, 0.8088188014403292, 0.53125, tensor(1.1966)]\n",
      "\n",
      "Epoch  72\n"
     ]
    },
    {
     "name": "stderr",
     "output_type": "stream",
     "text": [
      "9it [00:00, 16.16it/s]"
     ]
    },
    {
     "name": "stdout",
     "output_type": "stream",
     "text": [
      "['acc', 'kappa', 'auc', 'fmeasure', 'loss']\n",
      "Training Loss  1.040407167540656\n"
     ]
    },
    {
     "name": "stderr",
     "output_type": "stream",
     "text": [
      "\n"
     ]
    },
    {
     "name": "stdout",
     "output_type": "stream",
     "text": [
      "Train -  [0.6979166666666666, 0.5972222222222222, 0.930860982510288, 0.6979166666666666, tensor(1.0417)]\n",
      "Validation -  [0.5590277777777778, 0.4120370370370371, 0.7994952417695473, 0.5590277777777778, tensor(1.1765)]\n",
      "\n",
      "Epoch  73\n"
     ]
    },
    {
     "name": "stderr",
     "output_type": "stream",
     "text": [
      "9it [00:00, 20.10it/s]"
     ]
    },
    {
     "name": "stdout",
     "output_type": "stream",
     "text": [
      "['acc', 'kappa', 'auc', 'fmeasure', 'loss']\n",
      "Training Loss  1.0390474266476102\n"
     ]
    },
    {
     "name": "stderr",
     "output_type": "stream",
     "text": [
      "\n"
     ]
    },
    {
     "name": "stdout",
     "output_type": "stream",
     "text": [
      "Train -  [0.7604166666666666, 0.6805555555555556, 0.9354102366255144, 0.7604166666666666, tensor(0.9864)]\n",
      "Validation -  [0.5555555555555556, 0.40740740740740744, 0.8093653549382717, 0.5555555555555556, tensor(1.1618)]\n",
      "\n",
      "Epoch  74\n"
     ]
    },
    {
     "name": "stderr",
     "output_type": "stream",
     "text": [
      "9it [00:00, 16.16it/s]"
     ]
    },
    {
     "name": "stdout",
     "output_type": "stream",
     "text": [
      "['acc', 'kappa', 'auc', 'fmeasure', 'loss']\n",
      "Training Loss  0.9927718970510695\n"
     ]
    },
    {
     "name": "stderr",
     "output_type": "stream",
     "text": [
      "\n"
     ]
    },
    {
     "name": "stdout",
     "output_type": "stream",
     "text": [
      "Train -  [0.8055555555555556, 0.7407407407407407, 0.9326774691358024, 0.8055555555555556, tensor(0.9809)]\n",
      "Validation -  [0.5694444444444444, 0.42592592592592593, 0.8047196502057613, 0.5694444444444444, tensor(1.1590)]\n",
      "\n",
      "Epoch  75\n"
     ]
    },
    {
     "name": "stderr",
     "output_type": "stream",
     "text": [
      "9it [00:00, 17.12it/s]"
     ]
    },
    {
     "name": "stdout",
     "output_type": "stream",
     "text": [
      "['acc', 'kappa', 'auc', 'fmeasure', 'loss']\n",
      "Training Loss  0.9965799318419563\n"
     ]
    },
    {
     "name": "stderr",
     "output_type": "stream",
     "text": [
      "\n"
     ]
    },
    {
     "name": "stdout",
     "output_type": "stream",
     "text": [
      "Train -  [0.7326388888888888, 0.6435185185185186, 0.9296231995884774, 0.7326388888888888, tensor(1.0046)]\n",
      "Validation -  [0.5659722222222222, 0.4212962962962963, 0.803417566872428, 0.5659722222222222, tensor(1.1762)]\n",
      "\n",
      "Epoch  76\n"
     ]
    },
    {
     "name": "stderr",
     "output_type": "stream",
     "text": [
      "9it [00:00, 24.84it/s]"
     ]
    },
    {
     "name": "stdout",
     "output_type": "stream",
     "text": [
      "['acc', 'kappa', 'auc', 'fmeasure', 'loss']\n",
      "Training Loss  1.0010170274310641\n"
     ]
    },
    {
     "name": "stderr",
     "output_type": "stream",
     "text": [
      "\n"
     ]
    },
    {
     "name": "stdout",
     "output_type": "stream",
     "text": [
      "Train -  [0.7777777777777778, 0.7037037037037037, 0.9351208847736625, 0.7777777777777778, tensor(0.9868)]\n",
      "Validation -  [0.5451388888888888, 0.3935185185185185, 0.8108603395061729, 0.5451388888888888, tensor(1.1645)]\n",
      "\n",
      "Epoch  77\n"
     ]
    },
    {
     "name": "stderr",
     "output_type": "stream",
     "text": [
      "9it [00:00, 14.32it/s]"
     ]
    },
    {
     "name": "stdout",
     "output_type": "stream",
     "text": [
      "['acc', 'kappa', 'auc', 'fmeasure', 'loss']\n",
      "Training Loss  0.9860564139154222\n"
     ]
    },
    {
     "name": "stderr",
     "output_type": "stream",
     "text": [
      "\n"
     ]
    },
    {
     "name": "stdout",
     "output_type": "stream",
     "text": [
      "Train -  [0.7465277777777778, 0.662037037037037, 0.9343332047325102, 0.7465277777777777, tensor(0.9959)]\n",
      "Validation -  [0.5694444444444444, 0.42592592592592593, 0.8043820730452674, 0.5694444444444444, tensor(1.1640)]\n",
      "\n",
      "Epoch  78\n"
     ]
    },
    {
     "name": "stderr",
     "output_type": "stream",
     "text": [
      "9it [00:00, 21.19it/s]"
     ]
    },
    {
     "name": "stdout",
     "output_type": "stream",
     "text": [
      "['acc', 'kappa', 'auc', 'fmeasure', 'loss']\n",
      "Training Loss  0.9832097623083327\n"
     ]
    },
    {
     "name": "stderr",
     "output_type": "stream",
     "text": [
      "\n"
     ]
    },
    {
     "name": "stdout",
     "output_type": "stream",
     "text": [
      "Train -  [0.7569444444444444, 0.6759259259259259, 0.9385127314814815, 0.7569444444444444, tensor(0.9839)]\n",
      "Validation -  [0.5833333333333334, 0.4444444444444444, 0.8073559670781894, 0.5833333333333334, tensor(1.1570)]\n",
      "\n",
      "Epoch  79\n"
     ]
    },
    {
     "name": "stderr",
     "output_type": "stream",
     "text": [
      "9it [00:00, 18.56it/s]"
     ]
    },
    {
     "name": "stdout",
     "output_type": "stream",
     "text": [
      "['acc', 'kappa', 'auc', 'fmeasure', 'loss']\n",
      "Training Loss  0.997704353597429\n"
     ]
    },
    {
     "name": "stderr",
     "output_type": "stream",
     "text": [
      "\n"
     ]
    },
    {
     "name": "stdout",
     "output_type": "stream",
     "text": [
      "Train -  [0.71875, 0.625, 0.9300250771604939, 0.71875, tensor(1.0125)]\n",
      "Validation -  [0.5451388888888888, 0.3935185185185185, 0.8012474279835391, 0.5451388888888888, tensor(1.1853)]\n",
      "\n",
      "Epoch  80\n"
     ]
    },
    {
     "name": "stderr",
     "output_type": "stream",
     "text": [
      "9it [00:00, 14.30it/s]"
     ]
    },
    {
     "name": "stdout",
     "output_type": "stream",
     "text": [
      "['acc', 'kappa', 'auc', 'fmeasure', 'loss']\n",
      "Training Loss  1.0228862033949957\n"
     ]
    },
    {
     "name": "stderr",
     "output_type": "stream",
     "text": [
      "\n"
     ]
    },
    {
     "name": "stdout",
     "output_type": "stream",
     "text": [
      "Train -  [0.7604166666666666, 0.6805555555555556, 0.9279192386831275, 0.7604166666666666, tensor(1.0104)]\n",
      "Validation -  [0.5486111111111112, 0.39814814814814814, 0.7979841820987655, 0.5486111111111112, tensor(1.1793)]\n",
      "\n",
      "Epoch  81\n"
     ]
    },
    {
     "name": "stderr",
     "output_type": "stream",
     "text": [
      "9it [00:00, 17.29it/s]"
     ]
    },
    {
     "name": "stdout",
     "output_type": "stream",
     "text": [
      "['acc', 'kappa', 'auc', 'fmeasure', 'loss']\n",
      "Training Loss  0.9850213726361593\n"
     ]
    },
    {
     "name": "stderr",
     "output_type": "stream",
     "text": [
      "\n"
     ]
    },
    {
     "name": "stdout",
     "output_type": "stream",
     "text": [
      "Train -  [0.8090277777777778, 0.7453703703703703, 0.9363425925925926, 0.8090277777777779, tensor(0.9702)]\n",
      "Validation -  [0.5729166666666666, 0.4305555555555556, 0.8037229938271605, 0.5729166666666666, tensor(1.1584)]\n",
      "\n",
      "Epoch  82\n"
     ]
    },
    {
     "name": "stderr",
     "output_type": "stream",
     "text": [
      "9it [00:00, 14.09it/s]"
     ]
    },
    {
     "name": "stdout",
     "output_type": "stream",
     "text": [
      "['acc', 'kappa', 'auc', 'fmeasure', 'loss']\n",
      "Training Loss  0.9584727353519864\n"
     ]
    },
    {
     "name": "stderr",
     "output_type": "stream",
     "text": [
      "\n"
     ]
    },
    {
     "name": "stdout",
     "output_type": "stream",
     "text": [
      "Train -  [0.8055555555555556, 0.7407407407407407, 0.9404256687242798, 0.8055555555555556, tensor(0.9693)]\n",
      "Validation -  [0.5868055555555556, 0.44907407407407407, 0.8076292438271606, 0.5868055555555556, tensor(1.1580)]\n",
      "\n",
      "Epoch  83\n"
     ]
    },
    {
     "name": "stderr",
     "output_type": "stream",
     "text": [
      "9it [00:00, 13.93it/s]"
     ]
    },
    {
     "name": "stdout",
     "output_type": "stream",
     "text": [
      "['acc', 'kappa', 'auc', 'fmeasure', 'loss']\n",
      "Training Loss  0.9736137986183167\n"
     ]
    },
    {
     "name": "stderr",
     "output_type": "stream",
     "text": [
      "\n"
     ]
    },
    {
     "name": "stdout",
     "output_type": "stream",
     "text": [
      "Train -  [0.8125, 0.75, 0.9411972736625515, 0.8125, tensor(0.9608)]\n",
      "Validation -  [0.5416666666666666, 0.38888888888888884, 0.8064236111111112, 0.5416666666666666, tensor(1.1828)]\n",
      "\n",
      "Epoch  84\n"
     ]
    },
    {
     "name": "stderr",
     "output_type": "stream",
     "text": [
      "9it [00:00, 17.21it/s]"
     ]
    },
    {
     "name": "stdout",
     "output_type": "stream",
     "text": [
      "['acc', 'kappa', 'auc', 'fmeasure', 'loss']\n",
      "Training Loss  0.9633710185686747\n"
     ]
    },
    {
     "name": "stderr",
     "output_type": "stream",
     "text": [
      "\n"
     ]
    },
    {
     "name": "stdout",
     "output_type": "stream",
     "text": [
      "Train -  [0.8263888888888888, 0.7685185185185185, 0.9425958076131687, 0.8263888888888888, tensor(0.9499)]\n",
      "Validation -  [0.5694444444444444, 0.42592592592592593, 0.8073398919753088, 0.5694444444444444, tensor(1.1555)]\n",
      "\n",
      "Epoch  85\n"
     ]
    },
    {
     "name": "stderr",
     "output_type": "stream",
     "text": [
      "9it [00:00, 17.99it/s]"
     ]
    },
    {
     "name": "stdout",
     "output_type": "stream",
     "text": [
      "['acc', 'kappa', 'auc', 'fmeasure', 'loss']\n",
      "Training Loss  0.95112187994851\n"
     ]
    },
    {
     "name": "stderr",
     "output_type": "stream",
     "text": [
      "\n"
     ]
    },
    {
     "name": "stdout",
     "output_type": "stream",
     "text": [
      "Train -  [0.8263888888888888, 0.7685185185185185, 0.942210005144033, 0.8263888888888888, tensor(0.9618)]\n",
      "Validation -  [0.5833333333333334, 0.4444444444444444, 0.8078864454732512, 0.5833333333333334, tensor(1.1608)]\n",
      "\n",
      "Epoch  86\n"
     ]
    },
    {
     "name": "stderr",
     "output_type": "stream",
     "text": [
      "9it [00:00, 16.02it/s]"
     ]
    },
    {
     "name": "stdout",
     "output_type": "stream",
     "text": [
      "['acc', 'kappa', 'auc', 'fmeasure', 'loss']\n",
      "Training Loss  0.947271102004581\n"
     ]
    },
    {
     "name": "stderr",
     "output_type": "stream",
     "text": [
      "\n"
     ]
    },
    {
     "name": "stdout",
     "output_type": "stream",
     "text": [
      "Train -  [0.8402777777777778, 0.787037037037037, 0.9451517489711935, 0.8402777777777778, tensor(0.9366)]\n",
      "Validation -  [0.5729166666666666, 0.4305555555555556, 0.8078703703703705, 0.5729166666666666, tensor(1.1639)]\n",
      "\n",
      "Epoch  87\n"
     ]
    },
    {
     "name": "stderr",
     "output_type": "stream",
     "text": [
      "9it [00:00, 14.47it/s]"
     ]
    },
    {
     "name": "stdout",
     "output_type": "stream",
     "text": [
      "['acc', 'kappa', 'auc', 'fmeasure', 'loss']\n",
      "Training Loss  0.9602284828821818\n"
     ]
    },
    {
     "name": "stderr",
     "output_type": "stream",
     "text": [
      "\n"
     ]
    },
    {
     "name": "stdout",
     "output_type": "stream",
     "text": [
      "Train -  [0.8472222222222222, 0.7962962962962963, 0.9448302469135802, 0.8472222222222222, tensor(0.9365)]\n",
      "Validation -  [0.5729166666666666, 0.4305555555555556, 0.8067129629629629, 0.5729166666666666, tensor(1.1533)]\n",
      "\n",
      "Epoch  88\n"
     ]
    },
    {
     "name": "stderr",
     "output_type": "stream",
     "text": [
      "9it [00:00, 17.44it/s]"
     ]
    },
    {
     "name": "stdout",
     "output_type": "stream",
     "text": [
      "['acc', 'kappa', 'auc', 'fmeasure', 'loss']\n",
      "Training Loss  0.9388994574546814\n"
     ]
    },
    {
     "name": "stderr",
     "output_type": "stream",
     "text": [
      "\n"
     ]
    },
    {
     "name": "stdout",
     "output_type": "stream",
     "text": [
      "Train -  [0.84375, 0.7916666666666666, 0.947289737654321, 0.84375, tensor(0.9380)]\n",
      "Validation -  [0.5868055555555556, 0.44907407407407407, 0.8105388374485597, 0.5868055555555556, tensor(1.1595)]\n",
      "\n",
      "Epoch  89\n"
     ]
    },
    {
     "name": "stderr",
     "output_type": "stream",
     "text": [
      "9it [00:00, 17.70it/s]"
     ]
    },
    {
     "name": "stdout",
     "output_type": "stream",
     "text": [
      "['acc', 'kappa', 'auc', 'fmeasure', 'loss']\n",
      "Training Loss  0.9588578012254503\n"
     ]
    },
    {
     "name": "stderr",
     "output_type": "stream",
     "text": [
      "\n"
     ]
    },
    {
     "name": "stdout",
     "output_type": "stream",
     "text": [
      "Train -  [0.8611111111111112, 0.8148148148148149, 0.9479327417695473, 0.8611111111111112, tensor(0.9243)]\n",
      "Validation -  [0.5833333333333334, 0.4444444444444444, 0.8085294495884774, 0.5833333333333334, tensor(1.1609)]\n",
      "\n",
      "Epoch  90\n"
     ]
    },
    {
     "name": "stderr",
     "output_type": "stream",
     "text": [
      "9it [00:00, 17.97it/s]"
     ]
    },
    {
     "name": "stdout",
     "output_type": "stream",
     "text": [
      "['acc', 'kappa', 'auc', 'fmeasure', 'loss']\n",
      "Training Loss  0.9575174318419563\n"
     ]
    },
    {
     "name": "stderr",
     "output_type": "stream",
     "text": [
      "\n"
     ]
    },
    {
     "name": "stdout",
     "output_type": "stream",
     "text": [
      "Train -  [0.8541666666666666, 0.8055555555555556, 0.9468235596707819, 0.8541666666666666, tensor(0.9403)]\n",
      "Validation -  [0.5659722222222222, 0.4212962962962963, 0.8062307098765432, 0.5659722222222222, tensor(1.1580)]\n",
      "\n",
      "Epoch  91\n"
     ]
    },
    {
     "name": "stderr",
     "output_type": "stream",
     "text": [
      "9it [00:00, 16.58it/s]"
     ]
    },
    {
     "name": "stdout",
     "output_type": "stream",
     "text": [
      "['acc', 'kappa', 'auc', 'fmeasure', 'loss']\n",
      "Training Loss  0.961100611421797\n"
     ]
    },
    {
     "name": "stderr",
     "output_type": "stream",
     "text": [
      "\n"
     ]
    },
    {
     "name": "stdout",
     "output_type": "stream",
     "text": [
      "Train -  [0.8333333333333334, 0.7777777777777778, 0.9471129115226338, 0.8333333333333334, tensor(0.9425)]\n",
      "Validation -  [0.5173611111111112, 0.3564814814814815, 0.804173096707819, 0.5173611111111112, tensor(1.2063)]\n",
      "\n",
      "Epoch  92\n"
     ]
    },
    {
     "name": "stderr",
     "output_type": "stream",
     "text": [
      "9it [00:00, 15.91it/s]"
     ]
    },
    {
     "name": "stdout",
     "output_type": "stream",
     "text": [
      "['acc', 'kappa', 'auc', 'fmeasure', 'loss']\n",
      "Training Loss  0.9682741628752815\n"
     ]
    },
    {
     "name": "stderr",
     "output_type": "stream",
     "text": [
      "\n"
     ]
    },
    {
     "name": "stdout",
     "output_type": "stream",
     "text": [
      "Train -  [0.8680555555555556, 0.8240740740740741, 0.9493312757201646, 0.8680555555555556, tensor(0.9206)]\n",
      "Validation -  [0.5659722222222222, 0.4212962962962963, 0.8082722479423868, 0.5659722222222222, tensor(1.1599)]\n",
      "\n",
      "Epoch  93\n"
     ]
    },
    {
     "name": "stderr",
     "output_type": "stream",
     "text": [
      "9it [00:00, 16.32it/s]"
     ]
    },
    {
     "name": "stdout",
     "output_type": "stream",
     "text": [
      "['acc', 'kappa', 'auc', 'fmeasure', 'loss']\n",
      "Training Loss  0.9536413682831658\n"
     ]
    },
    {
     "name": "stderr",
     "output_type": "stream",
     "text": [
      "\n"
     ]
    },
    {
     "name": "stdout",
     "output_type": "stream",
     "text": [
      "Train -  [0.7256944444444444, 0.6342592592592593, 0.9386413323045267, 0.7256944444444444, tensor(1.0032)]\n",
      "Validation -  [0.5208333333333334, 0.36111111111111116, 0.8046875000000001, 0.5208333333333334, tensor(1.2004)]\n",
      "\n",
      "Epoch  94\n"
     ]
    },
    {
     "name": "stderr",
     "output_type": "stream",
     "text": [
      "9it [00:00, 17.80it/s]"
     ]
    },
    {
     "name": "stdout",
     "output_type": "stream",
     "text": [
      "['acc', 'kappa', 'auc', 'fmeasure', 'loss']\n",
      "Training Loss  1.0015571647220187\n"
     ]
    },
    {
     "name": "stderr",
     "output_type": "stream",
     "text": [
      "\n"
     ]
    },
    {
     "name": "stdout",
     "output_type": "stream",
     "text": [
      "Train -  [0.6840277777777778, 0.5787037037037037, 0.9325247556584362, 0.6840277777777778, tensor(1.0351)]\n",
      "Validation -  [0.4895833333333333, 0.3194444444444444, 0.7944476594650205, 0.4895833333333333, tensor(1.2409)]\n",
      "\n",
      "Epoch  95\n"
     ]
    },
    {
     "name": "stderr",
     "output_type": "stream",
     "text": [
      "9it [00:00, 19.67it/s]"
     ]
    },
    {
     "name": "stdout",
     "output_type": "stream",
     "text": [
      "['acc', 'kappa', 'auc', 'fmeasure', 'loss']\n",
      "Training Loss  1.033096929391225\n"
     ]
    },
    {
     "name": "stderr",
     "output_type": "stream",
     "text": [
      "\n"
     ]
    },
    {
     "name": "stdout",
     "output_type": "stream",
     "text": [
      "Train -  [0.7395833333333334, 0.6527777777777778, 0.9410927854938271, 0.7395833333333334, tensor(1.0007)]\n",
      "Validation -  [0.4965277777777778, 0.3287037037037037, 0.7987798996913581, 0.4965277777777778, tensor(1.2302)]\n",
      "\n",
      "Epoch  96\n"
     ]
    },
    {
     "name": "stderr",
     "output_type": "stream",
     "text": [
      "9it [00:00, 17.28it/s]"
     ]
    },
    {
     "name": "stdout",
     "output_type": "stream",
     "text": [
      "['acc', 'kappa', 'auc', 'fmeasure', 'loss']\n",
      "Training Loss  1.0659487711058722\n"
     ]
    },
    {
     "name": "stderr",
     "output_type": "stream",
     "text": [
      "\n"
     ]
    },
    {
     "name": "stdout",
     "output_type": "stream",
     "text": [
      "Train -  [0.6770833333333334, 0.5694444444444444, 0.936696244855967, 0.6770833333333334, tensor(1.0744)]\n",
      "Validation -  [0.5451388888888888, 0.3935185185185185, 0.7956854423868314, 0.5451388888888888, tensor(1.1894)]\n",
      "\n",
      "Epoch  97\n"
     ]
    },
    {
     "name": "stderr",
     "output_type": "stream",
     "text": [
      "9it [00:00, 16.29it/s]"
     ]
    },
    {
     "name": "stdout",
     "output_type": "stream",
     "text": [
      "['acc', 'kappa', 'auc', 'fmeasure', 'loss']\n",
      "Training Loss  1.0909683638148837\n"
     ]
    },
    {
     "name": "stderr",
     "output_type": "stream",
     "text": [
      "\n"
     ]
    },
    {
     "name": "stdout",
     "output_type": "stream",
     "text": [
      "Train -  [0.6736111111111112, 0.5648148148148149, 0.9334490740740741, 0.6736111111111112, tensor(1.0712)]\n",
      "Validation -  [0.5381944444444444, 0.3842592592592593, 0.7936197916666666, 0.5381944444444444, tensor(1.2011)]\n",
      "\n",
      "Epoch  98\n"
     ]
    },
    {
     "name": "stderr",
     "output_type": "stream",
     "text": [
      "9it [00:00, 14.60it/s]"
     ]
    },
    {
     "name": "stdout",
     "output_type": "stream",
     "text": [
      "['acc', 'kappa', 'auc', 'fmeasure', 'loss']\n",
      "Training Loss  1.0799561540285747\n"
     ]
    },
    {
     "name": "stderr",
     "output_type": "stream",
     "text": [
      "\n"
     ]
    },
    {
     "name": "stdout",
     "output_type": "stream",
     "text": [
      "Train -  [0.6041666666666666, 0.4722222222222222, 0.8993216306584362, 0.6041666666666666, tensor(1.1457)]\n",
      "Validation -  [0.4722222222222222, 0.2962962962962963, 0.7850276491769548, 0.4722222222222222, tensor(1.2691)]\n",
      "\n",
      "Epoch  99\n"
     ]
    },
    {
     "name": "stderr",
     "output_type": "stream",
     "text": [
      "9it [00:00, 16.93it/s]"
     ]
    },
    {
     "name": "stdout",
     "output_type": "stream",
     "text": [
      "['acc', 'kappa', 'auc', 'fmeasure', 'loss']\n",
      "Training Loss  1.1090975867377386\n"
     ]
    },
    {
     "name": "stderr",
     "output_type": "stream",
     "text": [
      "\n"
     ]
    },
    {
     "name": "stdout",
     "output_type": "stream",
     "text": [
      "Train -  [0.6770833333333334, 0.5694444444444444, 0.9361496913580247, 0.6770833333333334, tensor(1.0702)]\n",
      "Validation -  [0.5486111111111112, 0.39814814814814814, 0.7932339891975309, 0.5486111111111112, tensor(1.1977)]\n",
      "\n",
      "Epoch  100\n"
     ]
    },
    {
     "name": "stderr",
     "output_type": "stream",
     "text": [
      "9it [00:00, 16.42it/s]"
     ]
    },
    {
     "name": "stdout",
     "output_type": "stream",
     "text": [
      "['acc', 'kappa', 'auc', 'fmeasure', 'loss']\n",
      "Training Loss  1.0916451414426167\n"
     ]
    },
    {
     "name": "stderr",
     "output_type": "stream",
     "text": [
      "\n"
     ]
    },
    {
     "name": "stdout",
     "output_type": "stream",
     "text": [
      "Train -  [0.6875, 0.5833333333333333, 0.9411490483539094, 0.6875, tensor(1.0621)]\n",
      "Validation -  [0.5347222222222222, 0.37962962962962965, 0.8001543209876544, 0.5347222222222222, tensor(1.1893)]\n",
      "\n",
      "Epoch  101\n"
     ]
    },
    {
     "name": "stderr",
     "output_type": "stream",
     "text": [
      "9it [00:00, 14.42it/s]"
     ]
    },
    {
     "name": "stdout",
     "output_type": "stream",
     "text": [
      "['acc', 'kappa', 'auc', 'fmeasure', 'loss']\n",
      "Training Loss  1.0847977068689134\n"
     ]
    },
    {
     "name": "stderr",
     "output_type": "stream",
     "text": [
      "\n"
     ]
    },
    {
     "name": "stdout",
     "output_type": "stream",
     "text": [
      "Train -  [0.6805555555555556, 0.5740740740740741, 0.9424511316872428, 0.6805555555555556, tensor(1.0566)]\n",
      "Validation -  [0.5486111111111112, 0.39814814814814814, 0.8026781121399177, 0.5486111111111112, tensor(1.1992)]\n",
      "\n",
      "Epoch  102\n"
     ]
    },
    {
     "name": "stderr",
     "output_type": "stream",
     "text": [
      "9it [00:00, 15.54it/s]"
     ]
    },
    {
     "name": "stdout",
     "output_type": "stream",
     "text": [
      "['acc', 'kappa', 'auc', 'fmeasure', 'loss']\n",
      "Training Loss  1.0688029395209417\n"
     ]
    },
    {
     "name": "stderr",
     "output_type": "stream",
     "text": [
      "\n"
     ]
    },
    {
     "name": "stdout",
     "output_type": "stream",
     "text": [
      "Train -  [0.6458333333333334, 0.5277777777777778, 0.9300331147119342, 0.6458333333333334, tensor(1.0824)]\n",
      "Validation -  [0.4513888888888889, 0.2685185185185185, 0.7915139531893005, 0.4513888888888889, tensor(1.2765)]\n",
      "\n",
      "Epoch  103\n"
     ]
    },
    {
     "name": "stderr",
     "output_type": "stream",
     "text": [
      "9it [00:00, 16.40it/s]"
     ]
    },
    {
     "name": "stdout",
     "output_type": "stream",
     "text": [
      "['acc', 'kappa', 'auc', 'fmeasure', 'loss']\n",
      "Training Loss  1.0276686482959323\n"
     ]
    },
    {
     "name": "stderr",
     "output_type": "stream",
     "text": [
      "\n"
     ]
    },
    {
     "name": "stdout",
     "output_type": "stream",
     "text": [
      "Train -  [0.6979166666666666, 0.5972222222222222, 0.9498135288065843, 0.6979166666666666, tensor(1.0309)]\n",
      "Validation -  [0.5590277777777778, 0.4120370370370371, 0.8070826903292181, 0.5590277777777778, tensor(1.1749)]\n",
      "\n",
      "Epoch  104\n"
     ]
    },
    {
     "name": "stderr",
     "output_type": "stream",
     "text": [
      "9it [00:00, 16.64it/s]"
     ]
    },
    {
     "name": "stdout",
     "output_type": "stream",
     "text": [
      "['acc', 'kappa', 'auc', 'fmeasure', 'loss']\n",
      "Training Loss  0.958481510480245\n"
     ]
    },
    {
     "name": "stderr",
     "output_type": "stream",
     "text": [
      "\n"
     ]
    },
    {
     "name": "stdout",
     "output_type": "stream",
     "text": [
      "Train -  [0.8298611111111112, 0.7731481481481481, 0.9514692644032923, 0.8298611111111112, tensor(0.9298)]\n",
      "Validation -  [0.5763888888888888, 0.43518518518518523, 0.8096064814814815, 0.5763888888888888, tensor(1.1528)]\n",
      "\n",
      "Epoch  105\n"
     ]
    },
    {
     "name": "stderr",
     "output_type": "stream",
     "text": [
      "9it [00:00, 15.70it/s]"
     ]
    },
    {
     "name": "stdout",
     "output_type": "stream",
     "text": [
      "['acc', 'kappa', 'auc', 'fmeasure', 'loss']\n",
      "Training Loss  0.9385178950097826\n"
     ]
    },
    {
     "name": "stderr",
     "output_type": "stream",
     "text": [
      "\n"
     ]
    },
    {
     "name": "stdout",
     "output_type": "stream",
     "text": [
      "Train -  [0.8611111111111112, 0.8148148148148149, 0.9507941100823045, 0.8611111111111112, tensor(0.9245)]\n",
      "Validation -  [0.5729166666666666, 0.4305555555555556, 0.8042856224279836, 0.5729166666666666, tensor(1.1658)]\n",
      "\n",
      "Epoch  106\n"
     ]
    },
    {
     "name": "stderr",
     "output_type": "stream",
     "text": [
      "9it [00:00, 19.60it/s]"
     ]
    },
    {
     "name": "stdout",
     "output_type": "stream",
     "text": [
      "['acc', 'kappa', 'auc', 'fmeasure', 'loss']\n",
      "Training Loss  0.9272728297445509\n"
     ]
    },
    {
     "name": "stderr",
     "output_type": "stream",
     "text": [
      "\n"
     ]
    },
    {
     "name": "stdout",
     "output_type": "stream",
     "text": [
      "Train -  [0.8472222222222222, 0.7962962962962963, 0.949781378600823, 0.8472222222222222, tensor(0.9374)]\n",
      "Validation -  [0.5590277777777778, 0.4120370370370371, 0.802195859053498, 0.5590277777777778, tensor(1.1701)]\n",
      "\n",
      "Epoch  107\n"
     ]
    },
    {
     "name": "stderr",
     "output_type": "stream",
     "text": [
      "9it [00:00, 25.16it/s]"
     ]
    },
    {
     "name": "stdout",
     "output_type": "stream",
     "text": [
      "['acc', 'kappa', 'auc', 'fmeasure', 'loss']\n",
      "Training Loss  0.9458084305127462\n"
     ]
    },
    {
     "name": "stderr",
     "output_type": "stream",
     "text": [
      "\n"
     ]
    },
    {
     "name": "stdout",
     "output_type": "stream",
     "text": [
      "Train -  [0.8020833333333334, 0.7361111111111112, 0.9471932870370372, 0.8020833333333334, tensor(0.9560)]\n",
      "Validation -  [0.5416666666666666, 0.38888888888888884, 0.7979038065843622, 0.5416666666666666, tensor(1.1926)]\n",
      "\n",
      "Epoch  108\n"
     ]
    },
    {
     "name": "stderr",
     "output_type": "stream",
     "text": [
      "9it [00:00, 19.53it/s]"
     ]
    },
    {
     "name": "stdout",
     "output_type": "stream",
     "text": [
      "['acc', 'kappa', 'auc', 'fmeasure', 'loss']\n",
      "Training Loss  0.9310809108946059\n"
     ]
    },
    {
     "name": "stderr",
     "output_type": "stream",
     "text": [
      "\n"
     ]
    },
    {
     "name": "stdout",
     "output_type": "stream",
     "text": [
      "Train -  [0.8472222222222222, 0.7962962962962963, 0.9488490226337449, 0.8472222222222222, tensor(0.9389)]\n",
      "Validation -  [0.5347222222222222, 0.37962962962962965, 0.7992058899176955, 0.5347222222222222, tensor(1.1934)]\n",
      "\n",
      "Epoch  109\n"
     ]
    },
    {
     "name": "stderr",
     "output_type": "stream",
     "text": [
      "9it [00:00, 16.79it/s]"
     ]
    },
    {
     "name": "stdout",
     "output_type": "stream",
     "text": [
      "['acc', 'kappa', 'auc', 'fmeasure', 'loss']\n",
      "Training Loss  0.9280193315611945\n"
     ]
    },
    {
     "name": "stderr",
     "output_type": "stream",
     "text": [
      "\n"
     ]
    },
    {
     "name": "stdout",
     "output_type": "stream",
     "text": [
      "Train -  [0.8784722222222222, 0.837962962962963, 0.953904642489712, 0.8784722222222222, tensor(0.9009)]\n",
      "Validation -  [0.5694444444444444, 0.42592592592592593, 0.8056359310699588, 0.5694444444444444, tensor(1.1664)]\n",
      "\n",
      "Epoch  110\n"
     ]
    },
    {
     "name": "stderr",
     "output_type": "stream",
     "text": [
      "9it [00:00, 12.65it/s]"
     ]
    },
    {
     "name": "stdout",
     "output_type": "stream",
     "text": [
      "['acc', 'kappa', 'auc', 'fmeasure', 'loss']\n",
      "Training Loss  0.9219070341851976\n"
     ]
    },
    {
     "name": "stderr",
     "output_type": "stream",
     "text": [
      "\n"
     ]
    },
    {
     "name": "stdout",
     "output_type": "stream",
     "text": [
      "Train -  [0.8090277777777778, 0.7453703703703703, 0.9523533950617283, 0.8090277777777779, tensor(0.9504)]\n",
      "Validation -  [0.5798611111111112, 0.43981481481481477, 0.8096225565843622, 0.5798611111111112, tensor(1.1599)]\n",
      "\n",
      "Epoch  111\n"
     ]
    },
    {
     "name": "stderr",
     "output_type": "stream",
     "text": [
      "9it [00:00, 11.24it/s]"
     ]
    },
    {
     "name": "stdout",
     "output_type": "stream",
     "text": [
      "['acc', 'kappa', 'auc', 'fmeasure', 'loss']\n",
      "Training Loss  0.9233751959270902\n"
     ]
    },
    {
     "name": "stderr",
     "output_type": "stream",
     "text": [
      "\n"
     ]
    },
    {
     "name": "stdout",
     "output_type": "stream",
     "text": [
      "Train -  [0.8472222222222222, 0.7962962962962963, 0.9534545396090536, 0.8472222222222222, tensor(0.9309)]\n",
      "Validation -  [0.5590277777777778, 0.4120370370370371, 0.8081436471193415, 0.5590277777777778, tensor(1.1657)]\n",
      "\n",
      "Epoch  112\n"
     ]
    },
    {
     "name": "stderr",
     "output_type": "stream",
     "text": [
      "9it [00:00, 11.22it/s]"
     ]
    },
    {
     "name": "stdout",
     "output_type": "stream",
     "text": [
      "['acc', 'kappa', 'auc', 'fmeasure', 'loss']\n",
      "Training Loss  0.9249614013565911\n"
     ]
    },
    {
     "name": "stderr",
     "output_type": "stream",
     "text": [
      "\n"
     ]
    },
    {
     "name": "stdout",
     "output_type": "stream",
     "text": [
      "Train -  [0.7951388888888888, 0.7268518518518519, 0.953687628600823, 0.7951388888888888, tensor(0.9516)]\n",
      "Validation -  [0.5034722222222222, 0.3379629629629629, 0.8026298868312758, 0.5034722222222222, tensor(1.2219)]\n",
      "\n",
      "Epoch  113\n"
     ]
    },
    {
     "name": "stderr",
     "output_type": "stream",
     "text": [
      "9it [00:00, 11.10it/s]"
     ]
    },
    {
     "name": "stdout",
     "output_type": "stream",
     "text": [
      "['acc', 'kappa', 'auc', 'fmeasure', 'loss']\n",
      "Training Loss  0.9233545396063063\n"
     ]
    },
    {
     "name": "stderr",
     "output_type": "stream",
     "text": [
      "\n"
     ]
    },
    {
     "name": "stdout",
     "output_type": "stream",
     "text": [
      "Train -  [0.8576388888888888, 0.8101851851851851, 0.9554076646090535, 0.8576388888888888, tensor(0.9119)]\n",
      "Validation -  [0.5902777777777778, 0.4537037037037037, 0.8053305041152263, 0.5902777777777778, tensor(1.1588)]\n",
      "\n",
      "Epoch  114\n"
     ]
    },
    {
     "name": "stderr",
     "output_type": "stream",
     "text": [
      "9it [00:00, 11.67it/s]"
     ]
    },
    {
     "name": "stdout",
     "output_type": "stream",
     "text": [
      "['acc', 'kappa', 'auc', 'fmeasure', 'loss']\n",
      "Training Loss  0.9164998994933234\n"
     ]
    },
    {
     "name": "stderr",
     "output_type": "stream",
     "text": [
      "\n"
     ]
    },
    {
     "name": "stdout",
     "output_type": "stream",
     "text": [
      "Train -  [0.8888888888888888, 0.8518518518518519, 0.9561792695473251, 0.8888888888888888, tensor(0.9008)]\n",
      "Validation -  [0.5659722222222222, 0.4212962962962963, 0.8054108796296297, 0.5659722222222222, tensor(1.1593)]\n",
      "\n",
      "Epoch  115\n"
     ]
    },
    {
     "name": "stderr",
     "output_type": "stream",
     "text": [
      "9it [00:00, 16.51it/s]"
     ]
    },
    {
     "name": "stdout",
     "output_type": "stream",
     "text": [
      "['acc', 'kappa', 'auc', 'fmeasure', 'loss']\n",
      "Training Loss  0.9194339050187005\n"
     ]
    },
    {
     "name": "stderr",
     "output_type": "stream",
     "text": [
      "\n"
     ]
    },
    {
     "name": "stdout",
     "output_type": "stream",
     "text": [
      "Train -  [0.8159722222222222, 0.7546296296296297, 0.952514146090535, 0.8159722222222222, tensor(0.9453)]\n",
      "Validation -  [0.4548611111111111, 0.27314814814814814, 0.798000257201646, 0.4548611111111111, tensor(1.2599)]\n",
      "\n",
      "Epoch  116\n"
     ]
    },
    {
     "name": "stderr",
     "output_type": "stream",
     "text": [
      "9it [00:00, 13.69it/s]"
     ]
    },
    {
     "name": "stdout",
     "output_type": "stream",
     "text": [
      "['acc', 'kappa', 'auc', 'fmeasure', 'loss']\n",
      "Training Loss  0.9236471189392937\n"
     ]
    },
    {
     "name": "stderr",
     "output_type": "stream",
     "text": [
      "\n"
     ]
    },
    {
     "name": "stdout",
     "output_type": "stream",
     "text": [
      "Train -  [0.8854166666666666, 0.8472222222222222, 0.9571196630658436, 0.8854166666666666, tensor(0.8959)]\n",
      "Validation -  [0.53125, 0.375, 0.8010384516460906, 0.53125, tensor(1.2061)]\n",
      "\n",
      "Epoch  117\n"
     ]
    },
    {
     "name": "stderr",
     "output_type": "stream",
     "text": [
      "9it [00:00, 15.52it/s]"
     ]
    },
    {
     "name": "stdout",
     "output_type": "stream",
     "text": [
      "['acc', 'kappa', 'auc', 'fmeasure', 'loss']\n",
      "Training Loss  0.898832811249627\n"
     ]
    },
    {
     "name": "stderr",
     "output_type": "stream",
     "text": [
      "\n"
     ]
    },
    {
     "name": "stdout",
     "output_type": "stream",
     "text": [
      "Train -  [0.8611111111111112, 0.8148148148148149, 0.9579234182098766, 0.8611111111111112, tensor(0.8994)]\n",
      "Validation -  [0.5798611111111112, 0.43981481481481477, 0.803369341563786, 0.5798611111111112, tensor(1.1666)]\n",
      "\n",
      "Epoch  118\n"
     ]
    },
    {
     "name": "stderr",
     "output_type": "stream",
     "text": [
      "9it [00:00, 15.91it/s]"
     ]
    },
    {
     "name": "stdout",
     "output_type": "stream",
     "text": [
      "['acc', 'kappa', 'auc', 'fmeasure', 'loss']\n",
      "Training Loss  0.9029188818401761\n"
     ]
    },
    {
     "name": "stderr",
     "output_type": "stream",
     "text": [
      "\n"
     ]
    },
    {
     "name": "stdout",
     "output_type": "stream",
     "text": [
      "Train -  [0.8298611111111112, 0.7731481481481481, 0.9589602623456791, 0.8298611111111112, tensor(0.9246)]\n",
      "Validation -  [0.5347222222222222, 0.37962962962962965, 0.8042615097736626, 0.5347222222222222, tensor(1.1931)]\n",
      "\n",
      "Epoch  119\n"
     ]
    },
    {
     "name": "stderr",
     "output_type": "stream",
     "text": [
      "9it [00:00, 16.03it/s]"
     ]
    },
    {
     "name": "stdout",
     "output_type": "stream",
     "text": [
      "['acc', 'kappa', 'auc', 'fmeasure', 'loss']\n",
      "Training Loss  0.9499108791351318\n"
     ]
    },
    {
     "name": "stderr",
     "output_type": "stream",
     "text": [
      "\n"
     ]
    },
    {
     "name": "stdout",
     "output_type": "stream",
     "text": [
      "Train -  [0.8784722222222222, 0.837962962962963, 0.9583252957818931, 0.8784722222222222, tensor(0.8976)]\n",
      "Validation -  [0.5208333333333334, 0.36111111111111116, 0.79955954218107, 0.5208333333333334, tensor(1.2137)]\n",
      "\n",
      "Epoch  120\n"
     ]
    },
    {
     "name": "stderr",
     "output_type": "stream",
     "text": [
      "9it [00:00, 15.80it/s]"
     ]
    },
    {
     "name": "stdout",
     "output_type": "stream",
     "text": [
      "['acc', 'kappa', 'auc', 'fmeasure', 'loss']\n",
      "Training Loss  0.9339940481715732\n"
     ]
    },
    {
     "name": "stderr",
     "output_type": "stream",
     "text": [
      "\n"
     ]
    },
    {
     "name": "stdout",
     "output_type": "stream",
     "text": [
      "Train -  [0.8680555555555556, 0.8240740740740741, 0.959860468106996, 0.8680555555555556, tensor(0.8920)]\n",
      "Validation -  [0.5381944444444444, 0.3842592592592593, 0.8026138117283951, 0.5381944444444444, tensor(1.1967)]\n",
      "\n",
      "Epoch  121\n"
     ]
    },
    {
     "name": "stderr",
     "output_type": "stream",
     "text": [
      "9it [00:00, 17.16it/s]"
     ]
    },
    {
     "name": "stdout",
     "output_type": "stream",
     "text": [
      "['acc', 'kappa', 'auc', 'fmeasure', 'loss']\n",
      "Training Loss  0.9582025607426962\n"
     ]
    },
    {
     "name": "stderr",
     "output_type": "stream",
     "text": [
      "\n"
     ]
    },
    {
     "name": "stdout",
     "output_type": "stream",
     "text": [
      "Train -  [0.8020833333333334, 0.7361111111111112, 0.9569508744855968, 0.8020833333333334, tensor(0.9412)]\n",
      "Validation -  [0.5138888888888888, 0.35185185185185186, 0.8016493055555555, 0.5138888888888888, tensor(1.2099)]\n",
      "\n",
      "Epoch  122\n"
     ]
    },
    {
     "name": "stderr",
     "output_type": "stream",
     "text": [
      "9it [00:00, 18.18it/s]"
     ]
    },
    {
     "name": "stdout",
     "output_type": "stream",
     "text": [
      "['acc', 'kappa', 'auc', 'fmeasure', 'loss']\n",
      "Training Loss  0.9609192609786987\n"
     ]
    },
    {
     "name": "stderr",
     "output_type": "stream",
     "text": [
      "\n"
     ]
    },
    {
     "name": "stdout",
     "output_type": "stream",
     "text": [
      "Train -  [0.7986111111111112, 0.7314814814814814, 0.9533179012345678, 0.7986111111111112, tensor(0.9524)]\n",
      "Validation -  [0.5104166666666666, 0.3472222222222222, 0.7959747942386831, 0.5104166666666666, tensor(1.2148)]\n",
      "\n",
      "Epoch  123\n"
     ]
    },
    {
     "name": "stderr",
     "output_type": "stream",
     "text": [
      "9it [00:00, 16.45it/s]"
     ]
    },
    {
     "name": "stdout",
     "output_type": "stream",
     "text": [
      "['acc', 'kappa', 'auc', 'fmeasure', 'loss']\n",
      "Training Loss  0.9072027405103048\n"
     ]
    },
    {
     "name": "stderr",
     "output_type": "stream",
     "text": [
      "\n"
     ]
    },
    {
     "name": "stdout",
     "output_type": "stream",
     "text": [
      "Train -  [0.8402777777777778, 0.787037037037037, 0.9591451260288066, 0.8402777777777778, tensor(0.9130)]\n",
      "Validation -  [0.5590277777777778, 0.4120370370370371, 0.8053626543209877, 0.5590277777777778, tensor(1.1716)]\n",
      "\n",
      "Epoch  124\n"
     ]
    },
    {
     "name": "stderr",
     "output_type": "stream",
     "text": [
      "9it [00:00, 14.68it/s]"
     ]
    },
    {
     "name": "stdout",
     "output_type": "stream",
     "text": [
      "['acc', 'kappa', 'auc', 'fmeasure', 'loss']\n",
      "Training Loss  0.8992847270435758\n"
     ]
    },
    {
     "name": "stderr",
     "output_type": "stream",
     "text": [
      "\n"
     ]
    },
    {
     "name": "stdout",
     "output_type": "stream",
     "text": [
      "Train -  [0.8923611111111112, 0.8564814814814815, 0.9588959619341564, 0.8923611111111112, tensor(0.8802)]\n",
      "Validation -  [0.5451388888888888, 0.3935185185185185, 0.8006687242798353, 0.5451388888888888, tensor(1.1952)]\n",
      "\n",
      "Epoch  125\n"
     ]
    },
    {
     "name": "stderr",
     "output_type": "stream",
     "text": [
      "9it [00:00, 17.45it/s]"
     ]
    },
    {
     "name": "stdout",
     "output_type": "stream",
     "text": [
      "['acc', 'kappa', 'auc', 'fmeasure', 'loss']\n",
      "Training Loss  0.8862298660808139\n"
     ]
    },
    {
     "name": "stderr",
     "output_type": "stream",
     "text": [
      "\n"
     ]
    },
    {
     "name": "stdout",
     "output_type": "stream",
     "text": [
      "Train -  [0.8506944444444444, 0.8009259259259259, 0.957007137345679, 0.8506944444444444, tensor(0.9099)]\n",
      "Validation -  [0.5069444444444444, 0.34259259259259256, 0.7979439943415638, 0.5069444444444444, tensor(1.2233)]\n",
      "\n",
      "Epoch  126\n"
     ]
    },
    {
     "name": "stderr",
     "output_type": "stream",
     "text": [
      "9it [00:00, 16.27it/s]"
     ]
    },
    {
     "name": "stdout",
     "output_type": "stream",
     "text": [
      "['acc', 'kappa', 'auc', 'fmeasure', 'loss']\n",
      "Training Loss  0.9272262321578132\n"
     ]
    },
    {
     "name": "stderr",
     "output_type": "stream",
     "text": [
      "\n"
     ]
    },
    {
     "name": "stdout",
     "output_type": "stream",
     "text": [
      "Train -  [0.8333333333333334, 0.7777777777777778, 0.9592013888888888, 0.8333333333333334, tensor(0.9160)]\n",
      "Validation -  [0.5243055555555556, 0.3657407407407407, 0.7997122556584362, 0.5243055555555556, tensor(1.2053)]\n",
      "\n",
      "Epoch  127\n"
     ]
    },
    {
     "name": "stderr",
     "output_type": "stream",
     "text": [
      "9it [00:00, 19.33it/s]"
     ]
    },
    {
     "name": "stdout",
     "output_type": "stream",
     "text": [
      "['acc', 'kappa', 'auc', 'fmeasure', 'loss']\n",
      "Training Loss  0.9248452650176154\n"
     ]
    },
    {
     "name": "stderr",
     "output_type": "stream",
     "text": [
      "\n"
     ]
    },
    {
     "name": "stdout",
     "output_type": "stream",
     "text": [
      "Train -  [0.8611111111111112, 0.8148148148148149, 0.9595871913580246, 0.8611111111111112, tensor(0.9018)]\n",
      "Validation -  [0.5, 0.33333333333333337, 0.7983458719135802, 0.5, tensor(1.2199)]\n",
      "\n",
      "Epoch  128\n"
     ]
    },
    {
     "name": "stderr",
     "output_type": "stream",
     "text": [
      "9it [00:00, 16.91it/s]"
     ]
    },
    {
     "name": "stdout",
     "output_type": "stream",
     "text": [
      "['acc', 'kappa', 'auc', 'fmeasure', 'loss']\n",
      "Training Loss  0.8995901346206665\n"
     ]
    },
    {
     "name": "stderr",
     "output_type": "stream",
     "text": [
      "\n"
     ]
    },
    {
     "name": "stdout",
     "output_type": "stream",
     "text": [
      "Train -  [0.7916666666666666, 0.7222222222222222, 0.9552871013374485, 0.7916666666666666, tensor(0.9579)]\n",
      "Validation -  [0.4131944444444444, 0.21759259259259256, 0.7893920396090536, 0.4131944444444444, tensor(1.3054)]\n",
      "\n",
      "Epoch  129\n"
     ]
    },
    {
     "name": "stderr",
     "output_type": "stream",
     "text": [
      "9it [00:00, 16.51it/s]"
     ]
    },
    {
     "name": "stdout",
     "output_type": "stream",
     "text": [
      "['acc', 'kappa', 'auc', 'fmeasure', 'loss']\n",
      "Training Loss  0.9259841971927218\n"
     ]
    },
    {
     "name": "stderr",
     "output_type": "stream",
     "text": [
      "\n"
     ]
    },
    {
     "name": "stdout",
     "output_type": "stream",
     "text": [
      "Train -  [0.8368055555555556, 0.7824074074074074, 0.960615997942387, 0.8368055555555556, tensor(0.9152)]\n",
      "Validation -  [0.5104166666666666, 0.3472222222222222, 0.8003311471193417, 0.5104166666666666, tensor(1.2033)]\n",
      "\n",
      "Epoch  130\n"
     ]
    },
    {
     "name": "stderr",
     "output_type": "stream",
     "text": [
      "9it [00:00, 21.80it/s]"
     ]
    },
    {
     "name": "stdout",
     "output_type": "stream",
     "text": [
      "['acc', 'kappa', 'auc', 'fmeasure', 'loss']\n",
      "Training Loss  0.9097975624932183\n"
     ]
    },
    {
     "name": "stderr",
     "output_type": "stream",
     "text": [
      "\n"
     ]
    },
    {
     "name": "stdout",
     "output_type": "stream",
     "text": [
      "Train -  [0.8298611111111112, 0.7731481481481481, 0.9581484696502058, 0.8298611111111112, tensor(0.9336)]\n",
      "Validation -  [0.5486111111111112, 0.39814814814814814, 0.8039158950617284, 0.5486111111111112, tensor(1.1778)]\n",
      "\n",
      "Epoch  131\n"
     ]
    },
    {
     "name": "stderr",
     "output_type": "stream",
     "text": [
      "9it [00:00, 17.85it/s]"
     ]
    },
    {
     "name": "stdout",
     "output_type": "stream",
     "text": [
      "['acc', 'kappa', 'auc', 'fmeasure', 'loss']\n",
      "Training Loss  0.8958710895644294\n"
     ]
    },
    {
     "name": "stderr",
     "output_type": "stream",
     "text": [
      "\n"
     ]
    },
    {
     "name": "stdout",
     "output_type": "stream",
     "text": [
      "Train -  [0.9027777777777778, 0.8703703703703703, 0.9616769547325104, 0.9027777777777778, tensor(0.8756)]\n",
      "Validation -  [0.5243055555555556, 0.3657407407407407, 0.798120820473251, 0.5243055555555556, tensor(1.2218)]\n",
      "\n",
      "Epoch  132\n"
     ]
    },
    {
     "name": "stderr",
     "output_type": "stream",
     "text": [
      "9it [00:00, 17.69it/s]"
     ]
    },
    {
     "name": "stdout",
     "output_type": "stream",
     "text": [
      "['acc', 'kappa', 'auc', 'fmeasure', 'loss']\n",
      "Training Loss  0.9112999439239502\n"
     ]
    },
    {
     "name": "stderr",
     "output_type": "stream",
     "text": [
      "\n"
     ]
    },
    {
     "name": "stdout",
     "output_type": "stream",
     "text": [
      "Train -  [0.875, 0.8333333333333334, 0.961741255144033, 0.875, tensor(0.8809)]\n",
      "Validation -  [0.5486111111111112, 0.39814814814814814, 0.8002909593621399, 0.5486111111111112, tensor(1.1876)]\n",
      "\n",
      "Epoch  133\n"
     ]
    },
    {
     "name": "stderr",
     "output_type": "stream",
     "text": [
      "9it [00:00, 16.49it/s]"
     ]
    },
    {
     "name": "stdout",
     "output_type": "stream",
     "text": [
      "['acc', 'kappa', 'auc', 'fmeasure', 'loss']\n",
      "Training Loss  0.9333976904551188\n"
     ]
    },
    {
     "name": "stderr",
     "output_type": "stream",
     "text": [
      "\n"
     ]
    },
    {
     "name": "stdout",
     "output_type": "stream",
     "text": [
      "Train -  [0.8541666666666666, 0.8055555555555556, 0.9616126543209876, 0.8541666666666666, tensor(0.9002)]\n",
      "Validation -  [0.5555555555555556, 0.40740740740740744, 0.8019708076131686, 0.5555555555555556, tensor(1.1816)]\n",
      "\n",
      "Epoch  134\n"
     ]
    },
    {
     "name": "stderr",
     "output_type": "stream",
     "text": [
      "9it [00:00, 15.77it/s]"
     ]
    },
    {
     "name": "stdout",
     "output_type": "stream",
     "text": [
      "['acc', 'kappa', 'auc', 'fmeasure', 'loss']\n",
      "Training Loss  0.9245717459254794\n"
     ]
    },
    {
     "name": "stderr",
     "output_type": "stream",
     "text": [
      "\n"
     ]
    },
    {
     "name": "stdout",
     "output_type": "stream",
     "text": [
      "Train -  [0.90625, 0.875, 0.9604472093621399, 0.90625, tensor(0.8785)]\n",
      "Validation -  [0.5520833333333334, 0.4027777777777778, 0.7976224922839505, 0.5520833333333334, tensor(1.1808)]\n",
      "\n",
      "Epoch  135\n"
     ]
    },
    {
     "name": "stderr",
     "output_type": "stream",
     "text": [
      "9it [00:00, 16.64it/s]"
     ]
    },
    {
     "name": "stdout",
     "output_type": "stream",
     "text": [
      "['acc', 'kappa', 'auc', 'fmeasure', 'loss']\n",
      "Training Loss  0.877562529510922\n"
     ]
    },
    {
     "name": "stderr",
     "output_type": "stream",
     "text": [
      "\n"
     ]
    },
    {
     "name": "stdout",
     "output_type": "stream",
     "text": [
      "Train -  [0.8923611111111112, 0.8564814814814815, 0.9617975180041153, 0.8923611111111112, tensor(0.8712)]\n",
      "Validation -  [0.5416666666666666, 0.38888888888888884, 0.7973894032921811, 0.5416666666666666, tensor(1.1897)]\n",
      "\n",
      "Epoch  136\n"
     ]
    },
    {
     "name": "stderr",
     "output_type": "stream",
     "text": [
      "9it [00:00, 16.15it/s]"
     ]
    },
    {
     "name": "stdout",
     "output_type": "stream",
     "text": [
      "['acc', 'kappa', 'auc', 'fmeasure', 'loss']\n",
      "Training Loss  0.8847439487775167\n"
     ]
    },
    {
     "name": "stderr",
     "output_type": "stream",
     "text": [
      "\n"
     ]
    },
    {
     "name": "stdout",
     "output_type": "stream",
     "text": [
      "Train -  [0.8993055555555556, 0.8657407407407407, 0.9617573302469136, 0.8993055555555556, tensor(0.8683)]\n",
      "Validation -  [0.5069444444444444, 0.34259259259259256, 0.7962159207818931, 0.5069444444444444, tensor(1.2218)]\n",
      "\n",
      "Epoch  137\n"
     ]
    },
    {
     "name": "stderr",
     "output_type": "stream",
     "text": [
      "9it [00:00, 18.90it/s]"
     ]
    },
    {
     "name": "stdout",
     "output_type": "stream",
     "text": [
      "['acc', 'kappa', 'auc', 'fmeasure', 'loss']\n",
      "Training Loss  0.8881939053535461\n"
     ]
    },
    {
     "name": "stderr",
     "output_type": "stream",
     "text": [
      "\n"
     ]
    },
    {
     "name": "stdout",
     "output_type": "stream",
     "text": [
      "Train -  [0.7951388888888888, 0.7268518518518519, 0.9611143261316872, 0.7951388888888888, tensor(0.9396)]\n",
      "Validation -  [0.5, 0.33333333333333337, 0.7950745884773662, 0.5, tensor(1.2343)]\n",
      "\n",
      "Epoch  138\n"
     ]
    },
    {
     "name": "stderr",
     "output_type": "stream",
     "text": [
      "9it [00:00, 11.82it/s]"
     ]
    },
    {
     "name": "stdout",
     "output_type": "stream",
     "text": [
      "['acc', 'kappa', 'auc', 'fmeasure', 'loss']\n",
      "Training Loss  0.9242804580264621\n"
     ]
    },
    {
     "name": "stderr",
     "output_type": "stream",
     "text": [
      "\n"
     ]
    },
    {
     "name": "stdout",
     "output_type": "stream",
     "text": [
      "Train -  [0.8125, 0.75, 0.9598926183127572, 0.8125, tensor(0.9373)]\n",
      "Validation -  [0.5347222222222222, 0.37962962962962965, 0.7979038065843621, 0.5347222222222222, tensor(1.1975)]\n",
      "\n",
      "Epoch  139\n"
     ]
    },
    {
     "name": "stderr",
     "output_type": "stream",
     "text": [
      "9it [00:00, 10.22it/s]"
     ]
    },
    {
     "name": "stdout",
     "output_type": "stream",
     "text": [
      "['acc', 'kappa', 'auc', 'fmeasure', 'loss']\n",
      "Training Loss  0.9003505574332343\n"
     ]
    },
    {
     "name": "stderr",
     "output_type": "stream",
     "text": [
      "\n"
     ]
    },
    {
     "name": "stdout",
     "output_type": "stream",
     "text": [
      "Train -  [0.9027777777777778, 0.8703703703703703, 0.963107638888889, 0.9027777777777778, tensor(0.8763)]\n",
      "Validation -  [0.5277777777777778, 0.37037037037037035, 0.7950745884773662, 0.5277777777777778, tensor(1.2032)]\n",
      "\n",
      "Epoch  140\n"
     ]
    },
    {
     "name": "stderr",
     "output_type": "stream",
     "text": [
      "9it [00:01,  8.27it/s]"
     ]
    },
    {
     "name": "stdout",
     "output_type": "stream",
     "text": [
      "['acc', 'kappa', 'auc', 'fmeasure', 'loss']\n",
      "Training Loss  0.8752583861351013\n"
     ]
    },
    {
     "name": "stderr",
     "output_type": "stream",
     "text": [
      "\n"
     ]
    },
    {
     "name": "stdout",
     "output_type": "stream",
     "text": [
      "Train -  [0.8888888888888888, 0.8518518518518519, 0.9633246527777778, 0.8888888888888888, tensor(0.8717)]\n",
      "Validation -  [0.4756944444444444, 0.30092592592592593, 0.7943270961934156, 0.4756944444444444, tensor(1.2517)]\n",
      "\n",
      "Epoch  141\n"
     ]
    },
    {
     "name": "stderr",
     "output_type": "stream",
     "text": [
      "9it [00:00, 12.53it/s]"
     ]
    },
    {
     "name": "stdout",
     "output_type": "stream",
     "text": [
      "['acc', 'kappa', 'auc', 'fmeasure', 'loss']\n",
      "Training Loss  0.9366534749666849\n"
     ]
    },
    {
     "name": "stderr",
     "output_type": "stream",
     "text": [
      "\n"
     ]
    },
    {
     "name": "stdout",
     "output_type": "stream",
     "text": [
      "Train -  [0.9097222222222222, 0.8796296296296297, 0.9641444830246914, 0.9097222222222222, tensor(0.8624)]\n",
      "Validation -  [0.4791666666666667, 0.3055555555555556, 0.7947691615226338, 0.4791666666666667, tensor(1.2433)]\n",
      "\n",
      "Epoch  142\n"
     ]
    },
    {
     "name": "stderr",
     "output_type": "stream",
     "text": [
      "9it [00:00, 17.27it/s]"
     ]
    },
    {
     "name": "stdout",
     "output_type": "stream",
     "text": [
      "['acc', 'kappa', 'auc', 'fmeasure', 'loss']\n",
      "Training Loss  0.8910436630249023\n"
     ]
    },
    {
     "name": "stderr",
     "output_type": "stream",
     "text": [
      "\n"
     ]
    },
    {
     "name": "stdout",
     "output_type": "stream",
     "text": [
      "Train -  [0.8854166666666666, 0.8472222222222222, 0.9637988683127573, 0.8854166666666666, tensor(0.8721)]\n",
      "Validation -  [0.53125, 0.375, 0.7959667566872428, 0.53125, tensor(1.2144)]\n",
      "\n",
      "Epoch  143\n"
     ]
    },
    {
     "name": "stderr",
     "output_type": "stream",
     "text": [
      "9it [00:00, 20.00it/s]"
     ]
    },
    {
     "name": "stdout",
     "output_type": "stream",
     "text": [
      "['acc', 'kappa', 'auc', 'fmeasure', 'loss']\n",
      "Training Loss  0.9127988815307617\n"
     ]
    },
    {
     "name": "stderr",
     "output_type": "stream",
     "text": [
      "\n"
     ]
    },
    {
     "name": "stdout",
     "output_type": "stream",
     "text": [
      "Train -  [0.7152777777777778, 0.6203703703703703, 0.9455455889917695, 0.7152777777777778, tensor(1.0339)]\n",
      "Validation -  [0.5173611111111112, 0.3564814814814815, 0.7989085005144032, 0.5173611111111112, tensor(1.2134)]\n",
      "\n",
      "Epoch  144\n"
     ]
    },
    {
     "name": "stderr",
     "output_type": "stream",
     "text": [
      "9it [00:00, 15.66it/s]"
     ]
    },
    {
     "name": "stdout",
     "output_type": "stream",
     "text": [
      "['acc', 'kappa', 'auc', 'fmeasure', 'loss']\n",
      "Training Loss  1.0486872394879658\n"
     ]
    },
    {
     "name": "stderr",
     "output_type": "stream",
     "text": [
      "\n"
     ]
    },
    {
     "name": "stdout",
     "output_type": "stream",
     "text": [
      "Train -  [0.6979166666666666, 0.5972222222222222, 0.9330552340534979, 0.6979166666666666, tensor(1.0481)]\n",
      "Validation -  [0.4791666666666667, 0.3055555555555556, 0.7943994341563786, 0.4791666666666667, tensor(1.2502)]\n",
      "\n",
      "Epoch  145\n"
     ]
    },
    {
     "name": "stderr",
     "output_type": "stream",
     "text": [
      "9it [00:00, 17.61it/s]"
     ]
    },
    {
     "name": "stdout",
     "output_type": "stream",
     "text": [
      "['acc', 'kappa', 'auc', 'fmeasure', 'loss']\n",
      "Training Loss  1.0392104652192857\n"
     ]
    },
    {
     "name": "stderr",
     "output_type": "stream",
     "text": [
      "\n"
     ]
    },
    {
     "name": "stdout",
     "output_type": "stream",
     "text": [
      "Train -  [0.7326388888888888, 0.6435185185185186, 0.9581082818930041, 0.7326388888888888, tensor(1.0051)]\n",
      "Validation -  [0.4270833333333333, 0.23611111111111116, 0.7891026877572017, 0.4270833333333333, tensor(1.2951)]\n",
      "\n",
      "Epoch  146\n"
     ]
    },
    {
     "name": "stderr",
     "output_type": "stream",
     "text": [
      "9it [00:00, 13.42it/s]"
     ]
    },
    {
     "name": "stdout",
     "output_type": "stream",
     "text": [
      "['acc', 'kappa', 'auc', 'fmeasure', 'loss']\n",
      "Training Loss  0.9535304572847154\n"
     ]
    },
    {
     "name": "stderr",
     "output_type": "stream",
     "text": [
      "\n"
     ]
    },
    {
     "name": "stdout",
     "output_type": "stream",
     "text": [
      "Train -  [0.8125, 0.75, 0.9626334233539096, 0.8125, tensor(0.9361)]\n",
      "Validation -  [0.5451388888888888, 0.3935185185185185, 0.7996720679012346, 0.5451388888888888, tensor(1.1794)]\n",
      "\n",
      "Epoch  147\n"
     ]
    },
    {
     "name": "stderr",
     "output_type": "stream",
     "text": [
      "9it [00:00, 14.92it/s]"
     ]
    },
    {
     "name": "stdout",
     "output_type": "stream",
     "text": [
      "['acc', 'kappa', 'auc', 'fmeasure', 'loss']\n",
      "Training Loss  0.9451588458485074\n"
     ]
    },
    {
     "name": "stderr",
     "output_type": "stream",
     "text": [
      "\n"
     ]
    },
    {
     "name": "stdout",
     "output_type": "stream",
     "text": [
      "Train -  [0.7604166666666666, 0.6805555555555556, 0.9577948173868313, 0.7604166666666666, tensor(0.9882)]\n",
      "Validation -  [0.5, 0.33333333333333337, 0.7934027777777778, 0.5, tensor(1.2260)]\n",
      "\n",
      "Epoch  148\n"
     ]
    },
    {
     "name": "stderr",
     "output_type": "stream",
     "text": [
      "9it [00:00, 17.72it/s]"
     ]
    },
    {
     "name": "stdout",
     "output_type": "stream",
     "text": [
      "['acc', 'kappa', 'auc', 'fmeasure', 'loss']\n",
      "Training Loss  0.9443666206465827\n"
     ]
    },
    {
     "name": "stderr",
     "output_type": "stream",
     "text": [
      "\n"
     ]
    },
    {
     "name": "stdout",
     "output_type": "stream",
     "text": [
      "Train -  [0.8333333333333334, 0.7777777777777778, 0.9600533693415638, 0.8333333333333334, tensor(0.9274)]\n",
      "Validation -  [0.5173611111111112, 0.3564814814814815, 0.7976948302469136, 0.5173611111111112, tensor(1.2002)]\n",
      "\n",
      "Epoch  149\n"
     ]
    },
    {
     "name": "stderr",
     "output_type": "stream",
     "text": [
      "9it [00:00, 22.44it/s]"
     ]
    },
    {
     "name": "stdout",
     "output_type": "stream",
     "text": [
      "['acc', 'kappa', 'auc', 'fmeasure', 'loss']\n",
      "Training Loss  0.9648420612017313\n"
     ]
    },
    {
     "name": "stderr",
     "output_type": "stream",
     "text": [
      "\n"
     ]
    },
    {
     "name": "stdout",
     "output_type": "stream",
     "text": [
      "Train -  [0.7638888888888888, 0.6851851851851851, 0.9588798868312758, 0.763888888888889, tensor(0.9684)]\n",
      "Validation -  [0.4131944444444444, 0.21759259259259256, 0.7877845293209876, 0.4131944444444444, tensor(1.3075)]\n",
      "\n",
      "Epoch  150\n"
     ]
    },
    {
     "name": "stderr",
     "output_type": "stream",
     "text": [
      "9it [00:00, 18.85it/s]"
     ]
    },
    {
     "name": "stdout",
     "output_type": "stream",
     "text": [
      "['acc', 'kappa', 'auc', 'fmeasure', 'loss']\n",
      "Training Loss  0.9508337908320956\n"
     ]
    },
    {
     "name": "stderr",
     "output_type": "stream",
     "text": [
      "\n"
     ]
    },
    {
     "name": "stdout",
     "output_type": "stream",
     "text": [
      "Train -  [0.8541666666666666, 0.8055555555555556, 0.9625530478395062, 0.8541666666666666, tensor(0.8967)]\n",
      "Validation -  [0.4513888888888889, 0.2685185185185185, 0.7915380658436214, 0.4513888888888889, tensor(1.2824)]\n",
      "\n",
      "Epoch  151\n"
     ]
    },
    {
     "name": "stderr",
     "output_type": "stream",
     "text": [
      "9it [00:00, 15.30it/s]"
     ]
    },
    {
     "name": "stdout",
     "output_type": "stream",
     "text": [
      "['acc', 'kappa', 'auc', 'fmeasure', 'loss']\n",
      "Training Loss  0.8804727858967252\n"
     ]
    },
    {
     "name": "stderr",
     "output_type": "stream",
     "text": [
      "\n"
     ]
    },
    {
     "name": "stdout",
     "output_type": "stream",
     "text": [
      "Train -  [0.90625, 0.875, 0.9638872813786008, 0.90625, tensor(0.8552)]\n",
      "Validation -  [0.5277777777777778, 0.37037037037037035, 0.7975501543209876, 0.5277777777777778, tensor(1.2073)]\n",
      "\n",
      "Epoch  152\n"
     ]
    },
    {
     "name": "stderr",
     "output_type": "stream",
     "text": [
      "9it [00:00, 16.67it/s]"
     ]
    },
    {
     "name": "stdout",
     "output_type": "stream",
     "text": [
      "['acc', 'kappa', 'auc', 'fmeasure', 'loss']\n",
      "Training Loss  0.8712629675865173\n"
     ]
    },
    {
     "name": "stderr",
     "output_type": "stream",
     "text": [
      "\n"
     ]
    },
    {
     "name": "stdout",
     "output_type": "stream",
     "text": [
      "Train -  [0.8090277777777778, 0.7453703703703703, 0.9592415766460906, 0.8090277777777779, tensor(0.9352)]\n",
      "Validation -  [0.5104166666666666, 0.3472222222222222, 0.7905574845679012, 0.5104166666666666, tensor(1.2239)]\n",
      "\n",
      "Epoch  153\n"
     ]
    },
    {
     "name": "stderr",
     "output_type": "stream",
     "text": [
      "9it [00:00, 18.42it/s]"
     ]
    },
    {
     "name": "stdout",
     "output_type": "stream",
     "text": [
      "['acc', 'kappa', 'auc', 'fmeasure', 'loss']\n",
      "Training Loss  0.9031808972358704\n"
     ]
    },
    {
     "name": "stderr",
     "output_type": "stream",
     "text": [
      "\n"
     ]
    },
    {
     "name": "stdout",
     "output_type": "stream",
     "text": [
      "Train -  [0.8680555555555556, 0.8240740740740741, 0.9634130658436214, 0.8680555555555556, tensor(0.8952)]\n",
      "Validation -  [0.5138888888888888, 0.35185185185185186, 0.7947611239711934, 0.5138888888888888, tensor(1.2322)]\n",
      "\n",
      "Epoch  154\n"
     ]
    },
    {
     "name": "stderr",
     "output_type": "stream",
     "text": [
      "9it [00:00, 17.58it/s]"
     ]
    },
    {
     "name": "stdout",
     "output_type": "stream",
     "text": [
      "['acc', 'kappa', 'auc', 'fmeasure', 'loss']\n",
      "Training Loss  0.8891833358340793\n"
     ]
    },
    {
     "name": "stderr",
     "output_type": "stream",
     "text": [
      "\n"
     ]
    },
    {
     "name": "stdout",
     "output_type": "stream",
     "text": [
      "Train -  [0.8958333333333334, 0.8611111111111112, 0.964015882201646, 0.8958333333333334, tensor(0.8677)]\n",
      "Validation -  [0.4583333333333333, 0.2777777777777778, 0.7935876414609054, 0.4583333333333333, tensor(1.2648)]\n",
      "\n",
      "Epoch  155\n"
     ]
    },
    {
     "name": "stderr",
     "output_type": "stream",
     "text": [
      "9it [00:00, 18.16it/s]"
     ]
    },
    {
     "name": "stdout",
     "output_type": "stream",
     "text": [
      "['acc', 'kappa', 'auc', 'fmeasure', 'loss']\n",
      "Training Loss  0.8858405351638794\n"
     ]
    },
    {
     "name": "stderr",
     "output_type": "stream",
     "text": [
      "\n"
     ]
    },
    {
     "name": "stdout",
     "output_type": "stream",
     "text": [
      "Train -  [0.8888888888888888, 0.8518518518518519, 0.9652134773662552, 0.8888888888888888, tensor(0.8682)]\n",
      "Validation -  [0.5555555555555556, 0.40740740740740744, 0.7972045396090536, 0.5555555555555556, tensor(1.1935)]\n",
      "\n",
      "Epoch  156\n"
     ]
    },
    {
     "name": "stderr",
     "output_type": "stream",
     "text": [
      "9it [00:00, 16.61it/s]"
     ]
    },
    {
     "name": "stdout",
     "output_type": "stream",
     "text": [
      "['acc', 'kappa', 'auc', 'fmeasure', 'loss']\n",
      "Training Loss  0.8696620530552335\n"
     ]
    },
    {
     "name": "stderr",
     "output_type": "stream",
     "text": [
      "\n"
     ]
    },
    {
     "name": "stdout",
     "output_type": "stream",
     "text": [
      "Train -  [0.8333333333333334, 0.7777777777777778, 0.9638310185185185, 0.8333333333333334, tensor(0.9179)]\n",
      "Validation -  [0.5659722222222222, 0.4212962962962963, 0.8002346965020577, 0.5659722222222222, tensor(1.1705)]\n",
      "\n",
      "Epoch  157\n"
     ]
    },
    {
     "name": "stderr",
     "output_type": "stream",
     "text": [
      "9it [00:00, 18.70it/s]"
     ]
    },
    {
     "name": "stdout",
     "output_type": "stream",
     "text": [
      "['acc', 'kappa', 'auc', 'fmeasure', 'loss']\n",
      "Training Loss  0.8867417176564535\n"
     ]
    },
    {
     "name": "stderr",
     "output_type": "stream",
     "text": [
      "\n"
     ]
    },
    {
     "name": "stdout",
     "output_type": "stream",
     "text": [
      "Train -  [0.9097222222222222, 0.8796296296296297, 0.9655349794238683, 0.9097222222222222, tensor(0.8608)]\n",
      "Validation -  [0.5069444444444444, 0.34259259259259256, 0.7946968235596709, 0.5069444444444444, tensor(1.2221)]\n",
      "\n",
      "Epoch  158\n"
     ]
    },
    {
     "name": "stderr",
     "output_type": "stream",
     "text": [
      "9it [00:00, 15.56it/s]"
     ]
    },
    {
     "name": "stdout",
     "output_type": "stream",
     "text": [
      "['acc', 'kappa', 'auc', 'fmeasure', 'loss']\n",
      "Training Loss  0.8562907311651442\n"
     ]
    },
    {
     "name": "stderr",
     "output_type": "stream",
     "text": [
      "\n"
     ]
    },
    {
     "name": "stdout",
     "output_type": "stream",
     "text": [
      "Train -  [0.8888888888888888, 0.8518518518518519, 0.966210133744856, 0.8888888888888888, tensor(0.8639)]\n",
      "Validation -  [0.5555555555555556, 0.40740740740740744, 0.7963847093621399, 0.5555555555555556, tensor(1.1968)]\n",
      "\n",
      "Epoch  159\n"
     ]
    },
    {
     "name": "stderr",
     "output_type": "stream",
     "text": [
      "9it [00:00, 16.75it/s]"
     ]
    },
    {
     "name": "stdout",
     "output_type": "stream",
     "text": [
      "['acc', 'kappa', 'auc', 'fmeasure', 'loss']\n",
      "Training Loss  0.8539630638228523\n"
     ]
    },
    {
     "name": "stderr",
     "output_type": "stream",
     "text": [
      "\n"
     ]
    },
    {
     "name": "stdout",
     "output_type": "stream",
     "text": [
      "Train -  [0.8472222222222222, 0.7962962962962963, 0.96606545781893, 0.8472222222222222, tensor(0.9113)]\n",
      "Validation -  [0.5243055555555556, 0.3657407407407407, 0.7966017232510287, 0.5243055555555556, tensor(1.2075)]\n",
      "\n",
      "Epoch  160\n"
     ]
    },
    {
     "name": "stderr",
     "output_type": "stream",
     "text": [
      "9it [00:00, 20.55it/s]"
     ]
    },
    {
     "name": "stdout",
     "output_type": "stream",
     "text": [
      "['acc', 'kappa', 'auc', 'fmeasure', 'loss']\n",
      "Training Loss  0.8953678872850206\n"
     ]
    },
    {
     "name": "stderr",
     "output_type": "stream",
     "text": [
      "\n"
     ]
    },
    {
     "name": "stdout",
     "output_type": "stream",
     "text": [
      "Train -  [0.8645833333333334, 0.8194444444444444, 0.9663226594650205, 0.8645833333333333, tensor(0.8933)]\n",
      "Validation -  [0.5486111111111112, 0.39814814814814814, 0.7969071502057614, 0.5486111111111112, tensor(1.1878)]\n",
      "\n",
      "Epoch  161\n"
     ]
    },
    {
     "name": "stderr",
     "output_type": "stream",
     "text": [
      "9it [00:00, 13.58it/s]"
     ]
    },
    {
     "name": "stdout",
     "output_type": "stream",
     "text": [
      "['acc', 'kappa', 'auc', 'fmeasure', 'loss']\n",
      "Training Loss  0.9053966270552741\n"
     ]
    },
    {
     "name": "stderr",
     "output_type": "stream",
     "text": [
      "\n"
     ]
    },
    {
     "name": "stdout",
     "output_type": "stream",
     "text": [
      "Train -  [0.8611111111111112, 0.8148148148148149, 0.9649723508230453, 0.8611111111111112, tensor(0.8902)]\n",
      "Validation -  [0.5451388888888888, 0.3935185185185185, 0.7954764660493827, 0.5451388888888888, tensor(1.1817)]\n",
      "\n",
      "Epoch  162\n"
     ]
    },
    {
     "name": "stderr",
     "output_type": "stream",
     "text": [
      "9it [00:00, 12.92it/s]"
     ]
    },
    {
     "name": "stdout",
     "output_type": "stream",
     "text": [
      "['acc', 'kappa', 'auc', 'fmeasure', 'loss']\n",
      "Training Loss  0.8820256855752733\n"
     ]
    },
    {
     "name": "stderr",
     "output_type": "stream",
     "text": [
      "\n"
     ]
    },
    {
     "name": "stdout",
     "output_type": "stream",
     "text": [
      "Train -  [0.8784722222222222, 0.837962962962963, 0.9667888374485597, 0.8784722222222222, tensor(0.8693)]\n",
      "Validation -  [0.5173611111111112, 0.3564814814814815, 0.7958060056584362, 0.5173611111111112, tensor(1.2058)]\n",
      "\n",
      "Epoch  163\n"
     ]
    },
    {
     "name": "stderr",
     "output_type": "stream",
     "text": [
      "9it [00:00, 17.48it/s]"
     ]
    },
    {
     "name": "stdout",
     "output_type": "stream",
     "text": [
      "['acc', 'kappa', 'auc', 'fmeasure', 'loss']\n",
      "Training Loss  0.9018164012167189\n"
     ]
    },
    {
     "name": "stderr",
     "output_type": "stream",
     "text": [
      "\n"
     ]
    },
    {
     "name": "stdout",
     "output_type": "stream",
     "text": [
      "Train -  [0.8611111111111112, 0.8148148148148149, 0.9660815329218108, 0.8611111111111112, tensor(0.8935)]\n",
      "Validation -  [0.4652777777777778, 0.2870370370370371, 0.7921006944444444, 0.4652777777777778, tensor(1.2642)]\n",
      "\n",
      "Epoch  164\n"
     ]
    },
    {
     "name": "stderr",
     "output_type": "stream",
     "text": [
      "9it [00:00, 10.89it/s]"
     ]
    },
    {
     "name": "stdout",
     "output_type": "stream",
     "text": [
      "['acc', 'kappa', 'auc', 'fmeasure', 'loss']\n",
      "Training Loss  0.8626892964045206\n"
     ]
    },
    {
     "name": "stderr",
     "output_type": "stream",
     "text": [
      "\n"
     ]
    },
    {
     "name": "stdout",
     "output_type": "stream",
     "text": [
      "Train -  [0.8472222222222222, 0.7962962962962963, 0.9649803883744855, 0.8472222222222222, tensor(0.9075)]\n",
      "Validation -  [0.5208333333333334, 0.36111111111111116, 0.7953478652263375, 0.5208333333333334, tensor(1.2062)]\n",
      "\n",
      "Epoch  165\n"
     ]
    },
    {
     "name": "stderr",
     "output_type": "stream",
     "text": [
      "9it [00:00, 11.86it/s]"
     ]
    },
    {
     "name": "stdout",
     "output_type": "stream",
     "text": [
      "['acc', 'kappa', 'auc', 'fmeasure', 'loss']\n",
      "Training Loss  0.8737320370144315\n"
     ]
    },
    {
     "name": "stderr",
     "output_type": "stream",
     "text": [
      "\n"
     ]
    },
    {
     "name": "stdout",
     "output_type": "stream",
     "text": [
      "Train -  [0.8541666666666666, 0.8055555555555556, 0.9658564814814815, 0.8541666666666666, tensor(0.8978)]\n",
      "Validation -  [0.5243055555555556, 0.3657407407407407, 0.7955086162551441, 0.5243055555555556, tensor(1.2022)]\n",
      "\n",
      "Epoch  166\n"
     ]
    },
    {
     "name": "stderr",
     "output_type": "stream",
     "text": [
      "9it [00:00, 14.22it/s]"
     ]
    },
    {
     "name": "stdout",
     "output_type": "stream",
     "text": [
      "['acc', 'kappa', 'auc', 'fmeasure', 'loss']\n",
      "Training Loss  0.8892797099219428\n"
     ]
    },
    {
     "name": "stderr",
     "output_type": "stream",
     "text": [
      "\n"
     ]
    },
    {
     "name": "stdout",
     "output_type": "stream",
     "text": [
      "Train -  [0.9131944444444444, 0.8842592592592593, 0.9664834104938271, 0.9131944444444444, tensor(0.8539)]\n",
      "Validation -  [0.5486111111111112, 0.39814814814814814, 0.7932259516460906, 0.5486111111111112, tensor(1.1886)]\n",
      "\n",
      "Epoch  167\n"
     ]
    },
    {
     "name": "stderr",
     "output_type": "stream",
     "text": [
      "9it [00:00, 15.75it/s]"
     ]
    },
    {
     "name": "stdout",
     "output_type": "stream",
     "text": [
      "['acc', 'kappa', 'auc', 'fmeasure', 'loss']\n",
      "Training Loss  0.8541560305489434\n"
     ]
    },
    {
     "name": "stderr",
     "output_type": "stream",
     "text": [
      "\n"
     ]
    },
    {
     "name": "stdout",
     "output_type": "stream",
     "text": [
      "Train -  [0.9027777777777778, 0.8703703703703703, 0.9672871656378601, 0.9027777777777778, tensor(0.8688)]\n",
      "Validation -  [0.53125, 0.375, 0.7939975565843621, 0.53125, tensor(1.1956)]\n",
      "\n",
      "Epoch  168\n"
     ]
    },
    {
     "name": "stderr",
     "output_type": "stream",
     "text": [
      "9it [00:00, 13.61it/s]"
     ]
    },
    {
     "name": "stdout",
     "output_type": "stream",
     "text": [
      "['acc', 'kappa', 'auc', 'fmeasure', 'loss']\n",
      "Training Loss  0.8793660203615824\n"
     ]
    },
    {
     "name": "stderr",
     "output_type": "stream",
     "text": [
      "\n"
     ]
    },
    {
     "name": "stdout",
     "output_type": "stream",
     "text": [
      "Train -  [0.9166666666666666, 0.8888888888888888, 0.9676729681069959, 0.9166666666666666, tensor(0.8523)]\n",
      "Validation -  [0.4965277777777778, 0.3287037037037037, 0.7915782536008231, 0.4965277777777778, tensor(1.2276)]\n",
      "\n",
      "Epoch  169\n"
     ]
    },
    {
     "name": "stderr",
     "output_type": "stream",
     "text": [
      "9it [00:00, 13.26it/s]"
     ]
    },
    {
     "name": "stdout",
     "output_type": "stream",
     "text": [
      "['acc', 'kappa', 'auc', 'fmeasure', 'loss']\n",
      "Training Loss  0.8665639228290982\n"
     ]
    },
    {
     "name": "stderr",
     "output_type": "stream",
     "text": [
      "\n"
     ]
    },
    {
     "name": "stdout",
     "output_type": "stream",
     "text": [
      "Train -  [0.9097222222222222, 0.8796296296296297, 0.9678015689300412, 0.9097222222222222, tensor(0.8507)]\n",
      "Validation -  [0.5173611111111112, 0.3564814814814815, 0.7916747042181069, 0.5173611111111112, tensor(1.2184)]\n",
      "\n",
      "Epoch  170\n"
     ]
    },
    {
     "name": "stderr",
     "output_type": "stream",
     "text": [
      "9it [00:00, 11.84it/s]"
     ]
    },
    {
     "name": "stdout",
     "output_type": "stream",
     "text": [
      "['acc', 'kappa', 'auc', 'fmeasure', 'loss']\n",
      "Training Loss  0.8504210048251681\n"
     ]
    },
    {
     "name": "stderr",
     "output_type": "stream",
     "text": [
      "\n"
     ]
    },
    {
     "name": "stdout",
     "output_type": "stream",
     "text": [
      "Train -  [0.9131944444444444, 0.8842592592592593, 0.9680668081275721, 0.9131944444444444, tensor(0.8487)]\n",
      "Validation -  [0.5, 0.33333333333333337, 0.7913290895061729, 0.5, tensor(1.2390)]\n",
      "\n",
      "Epoch  171\n"
     ]
    },
    {
     "name": "stderr",
     "output_type": "stream",
     "text": [
      "9it [00:00, 14.04it/s]"
     ]
    },
    {
     "name": "stdout",
     "output_type": "stream",
     "text": [
      "['acc', 'kappa', 'auc', 'fmeasure', 'loss']\n",
      "Training Loss  0.8466384344630771\n"
     ]
    },
    {
     "name": "stderr",
     "output_type": "stream",
     "text": [
      "\n"
     ]
    },
    {
     "name": "stdout",
     "output_type": "stream",
     "text": [
      "Train -  [0.9236111111111112, 0.8981481481481481, 0.9688464506172839, 0.9236111111111112, tensor(0.8451)]\n",
      "Validation -  [0.5208333333333334, 0.36111111111111116, 0.7918595679012346, 0.5208333333333334, tensor(1.2056)]\n",
      "\n",
      "Epoch  172\n"
     ]
    },
    {
     "name": "stderr",
     "output_type": "stream",
     "text": [
      "9it [00:00, 12.87it/s]"
     ]
    },
    {
     "name": "stdout",
     "output_type": "stream",
     "text": [
      "['acc', 'kappa', 'auc', 'fmeasure', 'loss']\n",
      "Training Loss  0.8407371242841085\n"
     ]
    },
    {
     "name": "stderr",
     "output_type": "stream",
     "text": [
      "\n"
     ]
    },
    {
     "name": "stdout",
     "output_type": "stream",
     "text": [
      "Train -  [0.9236111111111112, 0.8981481481481481, 0.9689670138888888, 0.9236111111111112, tensor(0.8367)]\n",
      "Validation -  [0.5173611111111112, 0.3564814814814815, 0.7915059156378601, 0.5173611111111112, tensor(1.2233)]\n",
      "\n",
      "Epoch  173\n"
     ]
    },
    {
     "name": "stderr",
     "output_type": "stream",
     "text": [
      "9it [00:00, 14.37it/s]"
     ]
    },
    {
     "name": "stdout",
     "output_type": "stream",
     "text": [
      "['acc', 'kappa', 'auc', 'fmeasure', 'loss']\n",
      "Training Loss  0.8421903517511156\n"
     ]
    },
    {
     "name": "stderr",
     "output_type": "stream",
     "text": [
      "\n"
     ]
    },
    {
     "name": "stdout",
     "output_type": "stream",
     "text": [
      "Train -  [0.9236111111111112, 0.8981481481481481, 0.9693528163580247, 0.9236111111111112, tensor(0.8343)]\n",
      "Validation -  [0.53125, 0.375, 0.7911924511316872, 0.53125, tensor(1.2088)]\n",
      "\n",
      "Epoch  174\n"
     ]
    },
    {
     "name": "stderr",
     "output_type": "stream",
     "text": [
      "9it [00:00, 19.36it/s]"
     ]
    },
    {
     "name": "stdout",
     "output_type": "stream",
     "text": [
      "['acc', 'kappa', 'auc', 'fmeasure', 'loss']\n",
      "Training Loss  0.8540085222986009\n"
     ]
    },
    {
     "name": "stderr",
     "output_type": "stream",
     "text": [
      "\n"
     ]
    },
    {
     "name": "stdout",
     "output_type": "stream",
     "text": [
      "Train -  [0.9166666666666666, 0.8888888888888888, 0.967946244855967, 0.9166666666666666, tensor(0.8462)]\n",
      "Validation -  [0.5555555555555556, 0.40740740740740744, 0.7892393261316872, 0.5555555555555556, tensor(1.1888)]\n",
      "\n",
      "Epoch  175\n"
     ]
    },
    {
     "name": "stderr",
     "output_type": "stream",
     "text": [
      "9it [00:00, 11.82it/s]"
     ]
    },
    {
     "name": "stdout",
     "output_type": "stream",
     "text": [
      "['acc', 'kappa', 'auc', 'fmeasure', 'loss']\n",
      "Training Loss  0.8524306019147238\n"
     ]
    },
    {
     "name": "stderr",
     "output_type": "stream",
     "text": [
      "\n"
     ]
    },
    {
     "name": "stdout",
     "output_type": "stream",
     "text": [
      "Train -  [0.8888888888888888, 0.8518518518518519, 0.9692322530864197, 0.8888888888888888, tensor(0.8606)]\n",
      "Validation -  [0.5138888888888888, 0.35185185185185186, 0.7913451646090536, 0.5138888888888888, tensor(1.2049)]\n",
      "\n",
      "Epoch  176\n"
     ]
    },
    {
     "name": "stderr",
     "output_type": "stream",
     "text": [
      "9it [00:00, 16.70it/s]"
     ]
    },
    {
     "name": "stdout",
     "output_type": "stream",
     "text": [
      "['acc', 'kappa', 'auc', 'fmeasure', 'loss']\n",
      "Training Loss  0.848860482374827\n"
     ]
    },
    {
     "name": "stderr",
     "output_type": "stream",
     "text": [
      "\n"
     ]
    },
    {
     "name": "stdout",
     "output_type": "stream",
     "text": [
      "Train -  [0.9270833333333334, 0.9027777777777778, 0.9693045910493827, 0.9270833333333334, tensor(0.8380)]\n",
      "Validation -  [0.5138888888888888, 0.35185185185185186, 0.7896492412551441, 0.5138888888888888, tensor(1.2325)]\n",
      "\n",
      "Epoch  177\n"
     ]
    },
    {
     "name": "stderr",
     "output_type": "stream",
     "text": [
      "9it [00:00, 11.16it/s]"
     ]
    },
    {
     "name": "stdout",
     "output_type": "stream",
     "text": [
      "['acc', 'kappa', 'auc', 'fmeasure', 'loss']\n",
      "Training Loss  0.8435870276557075\n"
     ]
    },
    {
     "name": "stderr",
     "output_type": "stream",
     "text": [
      "\n"
     ]
    },
    {
     "name": "stdout",
     "output_type": "stream",
     "text": [
      "Train -  [0.9270833333333334, 0.9027777777777778, 0.9697386188271604, 0.9270833333333334, tensor(0.8318)]\n",
      "Validation -  [0.5, 0.33333333333333337, 0.7884837962962963, 0.5, tensor(1.2136)]\n",
      "\n",
      "Epoch  178\n"
     ]
    },
    {
     "name": "stderr",
     "output_type": "stream",
     "text": [
      "9it [00:00, 10.15it/s]"
     ]
    },
    {
     "name": "stdout",
     "output_type": "stream",
     "text": [
      "['acc', 'kappa', 'auc', 'fmeasure', 'loss']\n",
      "Training Loss  0.8618834747208489\n"
     ]
    },
    {
     "name": "stderr",
     "output_type": "stream",
     "text": [
      "\n"
     ]
    },
    {
     "name": "stdout",
     "output_type": "stream",
     "text": [
      "Train -  [0.9131944444444444, 0.8842592592592593, 0.968283822016461, 0.9131944444444444, tensor(0.8523)]\n",
      "Validation -  [0.5034722222222222, 0.3379629629629629, 0.7856706532921811, 0.5034722222222222, tensor(1.2282)]\n",
      "\n",
      "Epoch  179\n"
     ]
    },
    {
     "name": "stderr",
     "output_type": "stream",
     "text": [
      "9it [00:00, 11.11it/s]"
     ]
    },
    {
     "name": "stdout",
     "output_type": "stream",
     "text": [
      "['acc', 'kappa', 'auc', 'fmeasure', 'loss']\n",
      "Training Loss  0.8640668855773078\n"
     ]
    },
    {
     "name": "stderr",
     "output_type": "stream",
     "text": [
      "\n"
     ]
    },
    {
     "name": "stdout",
     "output_type": "stream",
     "text": [
      "Train -  [0.8645833333333334, 0.8194444444444444, 0.9663065843621399, 0.8645833333333333, tensor(0.8999)]\n",
      "Validation -  [0.3888888888888889, 0.18518518518518523, 0.785035686728395, 0.3888888888888889, tensor(1.3304)]\n",
      "\n",
      "Epoch  180\n"
     ]
    },
    {
     "name": "stderr",
     "output_type": "stream",
     "text": [
      "9it [00:00, 11.39it/s]"
     ]
    },
    {
     "name": "stdout",
     "output_type": "stream",
     "text": [
      "['acc', 'kappa', 'auc', 'fmeasure', 'loss']\n",
      "Training Loss  0.8969425492816501\n"
     ]
    },
    {
     "name": "stderr",
     "output_type": "stream",
     "text": [
      "\n"
     ]
    },
    {
     "name": "stdout",
     "output_type": "stream",
     "text": [
      "Train -  [0.8888888888888888, 0.8518518518518519, 0.9686696244855968, 0.8888888888888888, tensor(0.8655)]\n",
      "Validation -  [0.4027777777777778, 0.20370370370370372, 0.7857028034979423, 0.4027777777777778, tensor(1.3163)]\n",
      "\n",
      "Epoch  181\n"
     ]
    },
    {
     "name": "stderr",
     "output_type": "stream",
     "text": [
      "9it [00:00, 10.36it/s]"
     ]
    },
    {
     "name": "stdout",
     "output_type": "stream",
     "text": [
      "['acc', 'kappa', 'auc', 'fmeasure', 'loss']\n",
      "Training Loss  0.8964889380666945\n"
     ]
    },
    {
     "name": "stderr",
     "output_type": "stream",
     "text": [
      "\n"
     ]
    },
    {
     "name": "stdout",
     "output_type": "stream",
     "text": [
      "Train -  [0.8090277777777778, 0.7453703703703703, 0.9682677469135802, 0.8090277777777779, tensor(0.9239)]\n",
      "Validation -  [0.5451388888888888, 0.3935185185185185, 0.7934670781893005, 0.5451388888888888, tensor(1.1897)]\n",
      "\n",
      "Epoch  182\n"
     ]
    },
    {
     "name": "stderr",
     "output_type": "stream",
     "text": [
      "9it [00:00, 11.71it/s]"
     ]
    },
    {
     "name": "stdout",
     "output_type": "stream",
     "text": [
      "['acc', 'kappa', 'auc', 'fmeasure', 'loss']\n",
      "Training Loss  0.8837281200620863\n"
     ]
    },
    {
     "name": "stderr",
     "output_type": "stream",
     "text": [
      "\n"
     ]
    },
    {
     "name": "stdout",
     "output_type": "stream",
     "text": [
      "Train -  [0.8263888888888888, 0.7685185185185185, 0.9659368569958848, 0.8263888888888888, tensor(0.9326)]\n",
      "Validation -  [0.5381944444444444, 0.3842592592592593, 0.7934992283950617, 0.5381944444444444, tensor(1.1780)]\n",
      "\n",
      "Epoch  183\n"
     ]
    },
    {
     "name": "stderr",
     "output_type": "stream",
     "text": [
      "9it [00:00, 11.63it/s]"
     ]
    },
    {
     "name": "stdout",
     "output_type": "stream",
     "text": [
      "['acc', 'kappa', 'auc', 'fmeasure', 'loss']\n",
      "Training Loss  0.8724925319353739\n"
     ]
    },
    {
     "name": "stderr",
     "output_type": "stream",
     "text": [
      "\n"
     ]
    },
    {
     "name": "stdout",
     "output_type": "stream",
     "text": [
      "Train -  [0.8819444444444444, 0.8425925925925926, 0.9695537551440329, 0.8819444444444444, tensor(0.8770)]\n",
      "Validation -  [0.5277777777777778, 0.37037037037037035, 0.7910799254115226, 0.5277777777777778, tensor(1.2110)]\n",
      "\n",
      "Epoch  184\n"
     ]
    },
    {
     "name": "stderr",
     "output_type": "stream",
     "text": [
      "9it [00:00, 15.09it/s]"
     ]
    },
    {
     "name": "stdout",
     "output_type": "stream",
     "text": [
      "['acc', 'kappa', 'auc', 'fmeasure', 'loss']\n",
      "Training Loss  0.850380539894104\n"
     ]
    },
    {
     "name": "stderr",
     "output_type": "stream",
     "text": [
      "\n"
     ]
    },
    {
     "name": "stdout",
     "output_type": "stream",
     "text": [
      "Train -  [0.9236111111111112, 0.8981481481481481, 0.9706066743827162, 0.9236111111111112, tensor(0.8282)]\n",
      "Validation -  [0.5104166666666666, 0.3472222222222222, 0.7896331661522633, 0.5104166666666666, tensor(1.2193)]\n",
      "\n",
      "Epoch  185\n"
     ]
    },
    {
     "name": "stderr",
     "output_type": "stream",
     "text": [
      "9it [00:00, 14.25it/s]"
     ]
    },
    {
     "name": "stdout",
     "output_type": "stream",
     "text": [
      "['acc', 'kappa', 'auc', 'fmeasure', 'loss']\n",
      "Training Loss  0.8439604242642721\n"
     ]
    },
    {
     "name": "stderr",
     "output_type": "stream",
     "text": [
      "\n"
     ]
    },
    {
     "name": "stdout",
     "output_type": "stream",
     "text": [
      "Train -  [0.9305555555555556, 0.9074074074074074, 0.9706950874485597, 0.9305555555555556, tensor(0.8327)]\n",
      "Validation -  [0.5173611111111112, 0.3564814814814815, 0.7890946502057614, 0.5173611111111112, tensor(1.2212)]\n",
      "\n",
      "Epoch  186\n"
     ]
    },
    {
     "name": "stderr",
     "output_type": "stream",
     "text": [
      "9it [00:00, 13.66it/s]"
     ]
    },
    {
     "name": "stdout",
     "output_type": "stream",
     "text": [
      "['acc', 'kappa', 'auc', 'fmeasure', 'loss']\n",
      "Training Loss  0.8415150973531935\n"
     ]
    },
    {
     "name": "stderr",
     "output_type": "stream",
     "text": [
      "\n"
     ]
    },
    {
     "name": "stdout",
     "output_type": "stream",
     "text": [
      "Train -  [0.9097222222222222, 0.8796296296296297, 0.9698270318930041, 0.9097222222222222, tensor(0.8512)]\n",
      "Validation -  [0.5, 0.33333333333333337, 0.7874389146090535, 0.5, tensor(1.2347)]\n",
      "\n",
      "Epoch  187\n"
     ]
    },
    {
     "name": "stderr",
     "output_type": "stream",
     "text": [
      "9it [00:00, 12.52it/s]"
     ]
    },
    {
     "name": "stdout",
     "output_type": "stream",
     "text": [
      "['acc', 'kappa', 'auc', 'fmeasure', 'loss']\n",
      "Training Loss  0.8507262600792779\n"
     ]
    },
    {
     "name": "stderr",
     "output_type": "stream",
     "text": [
      "\n"
     ]
    },
    {
     "name": "stdout",
     "output_type": "stream",
     "text": [
      "Train -  [0.9131944444444444, 0.8842592592592593, 0.9696743184156379, 0.9131944444444444, tensor(0.8520)]\n",
      "Validation -  [0.4861111111111111, 0.31481481481481477, 0.787864904835391, 0.4861111111111111, tensor(1.2460)]\n",
      "\n",
      "Epoch  188\n"
     ]
    },
    {
     "name": "stderr",
     "output_type": "stream",
     "text": [
      "9it [00:00, 12.57it/s]"
     ]
    },
    {
     "name": "stdout",
     "output_type": "stream",
     "text": [
      "['acc', 'kappa', 'auc', 'fmeasure', 'loss']\n",
      "Training Loss  0.8380678759680854\n"
     ]
    },
    {
     "name": "stderr",
     "output_type": "stream",
     "text": [
      "\n"
     ]
    },
    {
     "name": "stdout",
     "output_type": "stream",
     "text": [
      "Train -  [0.9340277777777778, 0.912037037037037, 0.9707192001028806, 0.9340277777777778, tensor(0.8278)]\n",
      "Validation -  [0.4861111111111111, 0.31481481481481477, 0.7878006044238683, 0.4861111111111111, tensor(1.2522)]\n",
      "\n",
      "Epoch  189\n"
     ]
    },
    {
     "name": "stderr",
     "output_type": "stream",
     "text": [
      "9it [00:00, 11.46it/s]"
     ]
    },
    {
     "name": "stdout",
     "output_type": "stream",
     "text": [
      "['acc', 'kappa', 'auc', 'fmeasure', 'loss']\n",
      "Training Loss  0.838357494937049\n"
     ]
    },
    {
     "name": "stderr",
     "output_type": "stream",
     "text": [
      "\n"
     ]
    },
    {
     "name": "stdout",
     "output_type": "stream",
     "text": [
      "Train -  [0.9305555555555556, 0.9074074074074074, 0.9709603266460906, 0.9305555555555556, tensor(0.8372)]\n",
      "Validation -  [0.4861111111111111, 0.31481481481481477, 0.7874791023662551, 0.4861111111111111, tensor(1.2313)]\n",
      "\n",
      "Epoch  190\n"
     ]
    },
    {
     "name": "stderr",
     "output_type": "stream",
     "text": [
      "9it [00:00, 10.60it/s]"
     ]
    },
    {
     "name": "stdout",
     "output_type": "stream",
     "text": [
      "['acc', 'kappa', 'auc', 'fmeasure', 'loss']\n",
      "Training Loss  0.8789752523104349\n"
     ]
    },
    {
     "name": "stderr",
     "output_type": "stream",
     "text": [
      "\n"
     ]
    },
    {
     "name": "stdout",
     "output_type": "stream",
     "text": [
      "Train -  [0.9236111111111112, 0.8981481481481481, 0.9703012474279835, 0.9236111111111112, tensor(0.8478)]\n",
      "Validation -  [0.5243055555555556, 0.3657407407407407, 0.7841917438271605, 0.5243055555555556, tensor(1.2112)]\n",
      "\n",
      "Epoch  191\n"
     ]
    },
    {
     "name": "stderr",
     "output_type": "stream",
     "text": [
      "9it [00:00, 11.47it/s]"
     ]
    },
    {
     "name": "stdout",
     "output_type": "stream",
     "text": [
      "['acc', 'kappa', 'auc', 'fmeasure', 'loss']\n",
      "Training Loss  0.8370276623302035\n"
     ]
    },
    {
     "name": "stderr",
     "output_type": "stream",
     "text": [
      "\n"
     ]
    },
    {
     "name": "stdout",
     "output_type": "stream",
     "text": [
      "Train -  [0.9305555555555556, 0.9074074074074074, 0.9713541666666667, 0.9305555555555556, tensor(0.8271)]\n",
      "Validation -  [0.4861111111111111, 0.31481481481481477, 0.787109375, 0.4861111111111111, tensor(1.2467)]\n",
      "\n",
      "Epoch  192\n"
     ]
    },
    {
     "name": "stderr",
     "output_type": "stream",
     "text": [
      "9it [00:00, 13.64it/s]"
     ]
    },
    {
     "name": "stdout",
     "output_type": "stream",
     "text": [
      "['acc', 'kappa', 'auc', 'fmeasure', 'loss']\n",
      "Training Loss  0.8332828018400404\n"
     ]
    },
    {
     "name": "stderr",
     "output_type": "stream",
     "text": [
      "\n"
     ]
    },
    {
     "name": "stdout",
     "output_type": "stream",
     "text": [
      "Train -  [0.9131944444444444, 0.8842592592592593, 0.9710246270576132, 0.9131944444444444, tensor(0.8495)]\n",
      "Validation -  [0.4826388888888889, 0.31018518518518523, 0.7850356867283952, 0.4826388888888889, tensor(1.2443)]\n",
      "\n",
      "Epoch  193\n"
     ]
    },
    {
     "name": "stderr",
     "output_type": "stream",
     "text": [
      "9it [00:00, 11.02it/s]"
     ]
    },
    {
     "name": "stdout",
     "output_type": "stream",
     "text": [
      "['acc', 'kappa', 'auc', 'fmeasure', 'loss']\n",
      "Training Loss  0.8440150949690077\n"
     ]
    },
    {
     "name": "stderr",
     "output_type": "stream",
     "text": [
      "\n"
     ]
    },
    {
     "name": "stdout",
     "output_type": "stream",
     "text": [
      "Train -  [0.9236111111111112, 0.8981481481481481, 0.971289866255144, 0.9236111111111112, tensor(0.8322)]\n",
      "Validation -  [0.4930555555555556, 0.32407407407407407, 0.7840309927983539, 0.4930555555555556, tensor(1.2227)]\n",
      "\n",
      "Epoch  194\n"
     ]
    },
    {
     "name": "stderr",
     "output_type": "stream",
     "text": [
      "9it [00:00,  9.63it/s]"
     ]
    },
    {
     "name": "stdout",
     "output_type": "stream",
     "text": [
      "['acc', 'kappa', 'auc', 'fmeasure', 'loss']\n",
      "Training Loss  0.8433439400460985\n"
     ]
    },
    {
     "name": "stderr",
     "output_type": "stream",
     "text": [
      "\n"
     ]
    },
    {
     "name": "stdout",
     "output_type": "stream",
     "text": [
      "Train -  [0.9305555555555556, 0.9074074074074074, 0.9709362139917695, 0.9305555555555556, tensor(0.8280)]\n",
      "Validation -  [0.5347222222222222, 0.37962962962962965, 0.7812901877572016, 0.5347222222222222, tensor(1.2077)]\n",
      "\n",
      "Epoch  195\n"
     ]
    },
    {
     "name": "stderr",
     "output_type": "stream",
     "text": [
      "9it [00:01,  7.31it/s]"
     ]
    },
    {
     "name": "stdout",
     "output_type": "stream",
     "text": [
      "['acc', 'kappa', 'auc', 'fmeasure', 'loss']\n",
      "Training Loss  0.8351993627018399\n"
     ]
    },
    {
     "name": "stderr",
     "output_type": "stream",
     "text": [
      "\n"
     ]
    },
    {
     "name": "stdout",
     "output_type": "stream",
     "text": [
      "Train -  [0.9270833333333334, 0.9027777777777778, 0.9716515560699588, 0.9270833333333334, tensor(0.8286)]\n",
      "Validation -  [0.4652777777777778, 0.2870370370370371, 0.7813625257201646, 0.4652777777777778, tensor(1.2563)]\n",
      "\n",
      "Epoch  196\n"
     ]
    },
    {
     "name": "stderr",
     "output_type": "stream",
     "text": [
      "9it [00:00,  9.43it/s]"
     ]
    },
    {
     "name": "stdout",
     "output_type": "stream",
     "text": [
      "['acc', 'kappa', 'auc', 'fmeasure', 'loss']\n",
      "Training Loss  0.8341192868020799\n"
     ]
    },
    {
     "name": "stderr",
     "output_type": "stream",
     "text": [
      "\n"
     ]
    },
    {
     "name": "stdout",
     "output_type": "stream",
     "text": [
      "Train -  [0.9305555555555556, 0.9074074074074074, 0.9718123070987654, 0.9305555555555556, tensor(0.8278)]\n",
      "Validation -  [0.46875, 0.29166666666666663, 0.781153549382716, 0.46875, tensor(1.2513)]\n",
      "\n",
      "Epoch  197\n"
     ]
    },
    {
     "name": "stderr",
     "output_type": "stream",
     "text": [
      "9it [00:01,  7.47it/s]"
     ]
    },
    {
     "name": "stdout",
     "output_type": "stream",
     "text": [
      "['acc', 'kappa', 'auc', 'fmeasure', 'loss']\n",
      "Training Loss  0.8270624015066359\n"
     ]
    },
    {
     "name": "stderr",
     "output_type": "stream",
     "text": [
      "\n"
     ]
    },
    {
     "name": "stdout",
     "output_type": "stream",
     "text": [
      "Train -  [0.9340277777777778, 0.912037037037037, 0.9721981095679013, 0.9340277777777778, tensor(0.8233)]\n",
      "Validation -  [0.5069444444444444, 0.34259259259259256, 0.7832915380658436, 0.5069444444444444, tensor(1.2267)]\n",
      "\n",
      "Epoch  198\n"
     ]
    },
    {
     "name": "stderr",
     "output_type": "stream",
     "text": [
      "9it [00:01,  8.82it/s]"
     ]
    },
    {
     "name": "stdout",
     "output_type": "stream",
     "text": [
      "['acc', 'kappa', 'auc', 'fmeasure', 'loss']\n",
      "Training Loss  0.8269382781452603\n"
     ]
    },
    {
     "name": "stderr",
     "output_type": "stream",
     "text": [
      "\n"
     ]
    },
    {
     "name": "stdout",
     "output_type": "stream",
     "text": [
      "Train -  [0.9305555555555556, 0.9074074074074074, 0.97216595936214, 0.9305555555555556, tensor(0.8310)]\n",
      "Validation -  [0.4791666666666667, 0.3055555555555556, 0.7817804783950617, 0.4791666666666667, tensor(1.2544)]\n",
      "\n",
      "Epoch  199\n"
     ]
    },
    {
     "name": "stderr",
     "output_type": "stream",
     "text": [
      "9it [00:00, 11.81it/s]"
     ]
    },
    {
     "name": "stdout",
     "output_type": "stream",
     "text": [
      "['acc', 'kappa', 'auc', 'fmeasure', 'loss']\n",
      "Training Loss  0.8341415458255343\n"
     ]
    },
    {
     "name": "stderr",
     "output_type": "stream",
     "text": [
      "\n"
     ]
    },
    {
     "name": "stdout",
     "output_type": "stream",
     "text": [
      "Train -  [0.9375, 0.9166666666666666, 0.9725356867283951, 0.9375, tensor(0.8191)]\n",
      "Validation -  [0.4444444444444444, 0.2592592592592593, 0.7823431069958848, 0.4444444444444444, tensor(1.2782)]\n",
      "\n",
      "Epoch  200\n"
     ]
    },
    {
     "name": "stderr",
     "output_type": "stream",
     "text": [
      "9it [00:00, 10.76it/s]"
     ]
    },
    {
     "name": "stdout",
     "output_type": "stream",
     "text": [
      "['acc', 'kappa', 'auc', 'fmeasure', 'loss']\n",
      "Training Loss  0.8181212080849541\n"
     ]
    },
    {
     "name": "stderr",
     "output_type": "stream",
     "text": [
      "\n"
     ]
    },
    {
     "name": "stdout",
     "output_type": "stream",
     "text": [
      "Train -  [0.9444444444444444, 0.9259259259259259, 0.9724794238683128, 0.9444444444444444, tensor(0.8133)]\n",
      "Validation -  [0.4791666666666667, 0.3055555555555556, 0.7844650205761317, 0.4791666666666667, tensor(1.2515)]\n",
      "\n",
      "Epoch  201\n"
     ]
    },
    {
     "name": "stderr",
     "output_type": "stream",
     "text": [
      "9it [00:00,  9.34it/s]"
     ]
    },
    {
     "name": "stdout",
     "output_type": "stream",
     "text": [
      "['acc', 'kappa', 'auc', 'fmeasure', 'loss']\n",
      "Training Loss  0.8139168752564324\n"
     ]
    },
    {
     "name": "stderr",
     "output_type": "stream",
     "text": [
      "\n"
     ]
    },
    {
     "name": "stdout",
     "output_type": "stream",
     "text": [
      "Train -  [0.9479166666666666, 0.9305555555555556, 0.9723990483539096, 0.9479166666666666, tensor(0.8111)]\n",
      "Validation -  [0.5069444444444444, 0.34259259259259256, 0.7828735853909465, 0.5069444444444444, tensor(1.2231)]\n",
      "\n",
      "Epoch  202\n"
     ]
    },
    {
     "name": "stderr",
     "output_type": "stream",
     "text": [
      "9it [00:00, 14.11it/s]"
     ]
    },
    {
     "name": "stdout",
     "output_type": "stream",
     "text": [
      "['acc', 'kappa', 'auc', 'fmeasure', 'loss']\n",
      "Training Loss  0.8115995592541165\n"
     ]
    },
    {
     "name": "stderr",
     "output_type": "stream",
     "text": [
      "\n"
     ]
    },
    {
     "name": "stdout",
     "output_type": "stream",
     "text": [
      "Train -  [0.9513888888888888, 0.9351851851851852, 0.9725276491769548, 0.9513888888888888, tensor(0.8107)]\n",
      "Validation -  [0.5173611111111112, 0.3564814814814815, 0.7827932098765432, 0.5173611111111112, tensor(1.2230)]\n",
      "\n",
      "Epoch  203\n"
     ]
    },
    {
     "name": "stderr",
     "output_type": "stream",
     "text": [
      "9it [00:00, 12.32it/s]"
     ]
    },
    {
     "name": "stdout",
     "output_type": "stream",
     "text": [
      "['acc', 'kappa', 'auc', 'fmeasure', 'loss']\n",
      "Training Loss  0.8114586604966058\n"
     ]
    },
    {
     "name": "stderr",
     "output_type": "stream",
     "text": [
      "\n"
     ]
    },
    {
     "name": "stdout",
     "output_type": "stream",
     "text": [
      "Train -  [0.9513888888888888, 0.9351851851851852, 0.9726401748971194, 0.9513888888888888, tensor(0.8103)]\n",
      "Validation -  [0.5208333333333334, 0.36111111111111116, 0.783251350308642, 0.5208333333333334, tensor(1.2273)]\n",
      "\n",
      "Epoch  204\n"
     ]
    },
    {
     "name": "stderr",
     "output_type": "stream",
     "text": [
      "9it [00:00, 11.71it/s]"
     ]
    },
    {
     "name": "stdout",
     "output_type": "stream",
     "text": [
      "['acc', 'kappa', 'auc', 'fmeasure', 'loss']\n",
      "Training Loss  0.8107290532853868\n"
     ]
    },
    {
     "name": "stderr",
     "output_type": "stream",
     "text": [
      "\n"
     ]
    },
    {
     "name": "stdout",
     "output_type": "stream",
     "text": [
      "Train -  [0.9479166666666666, 0.9305555555555556, 0.9727205504115226, 0.9479166666666666, tensor(0.8102)]\n",
      "Validation -  [0.4895833333333333, 0.3194444444444444, 0.7834683641975307, 0.4895833333333333, tensor(1.2397)]\n",
      "\n",
      "Epoch  205\n"
     ]
    },
    {
     "name": "stderr",
     "output_type": "stream",
     "text": [
      "9it [00:00, 11.31it/s]"
     ]
    },
    {
     "name": "stdout",
     "output_type": "stream",
     "text": [
      "['acc', 'kappa', 'auc', 'fmeasure', 'loss']\n",
      "Training Loss  0.8111420604917738\n"
     ]
    },
    {
     "name": "stderr",
     "output_type": "stream",
     "text": [
      "\n"
     ]
    },
    {
     "name": "stdout",
     "output_type": "stream",
     "text": [
      "Train -  [0.9513888888888888, 0.9351851851851852, 0.9725517618312757, 0.9513888888888888, tensor(0.8098)]\n",
      "Validation -  [0.5069444444444444, 0.34259259259259256, 0.7832433127572016, 0.5069444444444444, tensor(1.2327)]\n",
      "\n",
      "Epoch  206\n"
     ]
    },
    {
     "name": "stderr",
     "output_type": "stream",
     "text": [
      "9it [00:00, 12.89it/s]"
     ]
    },
    {
     "name": "stdout",
     "output_type": "stream",
     "text": [
      "['acc', 'kappa', 'auc', 'fmeasure', 'loss']\n",
      "Training Loss  0.8107763065232171\n"
     ]
    },
    {
     "name": "stderr",
     "output_type": "stream",
     "text": [
      "\n"
     ]
    },
    {
     "name": "stdout",
     "output_type": "stream",
     "text": [
      "Train -  [0.9513888888888888, 0.9351851851851852, 0.9727205504115225, 0.9513888888888888, tensor(0.8098)]\n",
      "Validation -  [0.5208333333333334, 0.36111111111111116, 0.7834362139917695, 0.5208333333333334, tensor(1.2286)]\n",
      "\n",
      "Epoch  207\n"
     ]
    },
    {
     "name": "stderr",
     "output_type": "stream",
     "text": [
      "9it [00:00, 11.47it/s]"
     ]
    },
    {
     "name": "stdout",
     "output_type": "stream",
     "text": [
      "['acc', 'kappa', 'auc', 'fmeasure', 'loss']\n",
      "Training Loss  0.8099018401569791\n"
     ]
    },
    {
     "name": "stderr",
     "output_type": "stream",
     "text": [
      "\n"
     ]
    },
    {
     "name": "stdout",
     "output_type": "stream",
     "text": [
      "Train -  [0.9513888888888888, 0.9351851851851852, 0.972680362654321, 0.9513888888888888, tensor(0.8091)]\n",
      "Validation -  [0.5104166666666666, 0.3472222222222222, 0.7831629372427984, 0.5104166666666666, tensor(1.2339)]\n",
      "\n",
      "Epoch  208\n"
     ]
    },
    {
     "name": "stderr",
     "output_type": "stream",
     "text": [
      "9it [00:00, 12.65it/s]"
     ]
    },
    {
     "name": "stdout",
     "output_type": "stream",
     "text": [
      "['acc', 'kappa', 'auc', 'fmeasure', 'loss']\n",
      "Training Loss  0.8099206222428216\n"
     ]
    },
    {
     "name": "stderr",
     "output_type": "stream",
     "text": [
      "\n"
     ]
    },
    {
     "name": "stdout",
     "output_type": "stream",
     "text": [
      "Train -  [0.9479166666666666, 0.9305555555555556, 0.972680362654321, 0.9479166666666666, tensor(0.8094)]\n",
      "Validation -  [0.4791666666666667, 0.3055555555555556, 0.7828896604938272, 0.4791666666666667, tensor(1.2413)]\n",
      "\n",
      "Epoch  209\n"
     ]
    },
    {
     "name": "stderr",
     "output_type": "stream",
     "text": [
      "9it [00:00, 12.36it/s]"
     ]
    },
    {
     "name": "stdout",
     "output_type": "stream",
     "text": [
      "['acc', 'kappa', 'auc', 'fmeasure', 'loss']\n",
      "Training Loss  0.8104018237855699\n"
     ]
    },
    {
     "name": "stderr",
     "output_type": "stream",
     "text": [
      "\n"
     ]
    },
    {
     "name": "stdout",
     "output_type": "stream",
     "text": [
      "Train -  [0.9479166666666666, 0.9305555555555556, 0.972680362654321, 0.9479166666666666, tensor(0.8091)]\n",
      "Validation -  [0.5173611111111112, 0.3564814814814815, 0.7831388245884774, 0.5173611111111112, tensor(1.2330)]\n",
      "\n",
      "Epoch  210\n"
     ]
    },
    {
     "name": "stderr",
     "output_type": "stream",
     "text": [
      "9it [00:00, 12.38it/s]"
     ]
    },
    {
     "name": "stdout",
     "output_type": "stream",
     "text": [
      "['acc', 'kappa', 'auc', 'fmeasure', 'loss']\n",
      "Training Loss  0.8093322383032905\n"
     ]
    },
    {
     "name": "stderr",
     "output_type": "stream",
     "text": [
      "\n"
     ]
    },
    {
     "name": "stdout",
     "output_type": "stream",
     "text": [
      "Train -  [0.9479166666666666, 0.9305555555555556, 0.9729134516460906, 0.9479166666666666, tensor(0.8090)]\n",
      "Validation -  [0.4930555555555556, 0.32407407407407407, 0.7834683641975309, 0.4930555555555556, tensor(1.2379)]\n",
      "\n",
      "Epoch  211\n"
     ]
    },
    {
     "name": "stderr",
     "output_type": "stream",
     "text": [
      "9it [00:00,  9.92it/s]"
     ]
    },
    {
     "name": "stdout",
     "output_type": "stream",
     "text": [
      "['acc', 'kappa', 'auc', 'fmeasure', 'loss']\n",
      "Training Loss  0.8091716700130038\n"
     ]
    },
    {
     "name": "stderr",
     "output_type": "stream",
     "text": [
      "\n"
     ]
    },
    {
     "name": "stdout",
     "output_type": "stream",
     "text": [
      "Train -  [0.9513888888888888, 0.9351851851851852, 0.972728587962963, 0.9513888888888888, tensor(0.8085)]\n",
      "Validation -  [0.5069444444444444, 0.34259259259259256, 0.7833076131687244, 0.5069444444444444, tensor(1.2339)]\n",
      "\n",
      "Epoch  212\n"
     ]
    },
    {
     "name": "stderr",
     "output_type": "stream",
     "text": [
      "9it [00:00, 10.25it/s]"
     ]
    },
    {
     "name": "stdout",
     "output_type": "stream",
     "text": [
      "['acc', 'kappa', 'auc', 'fmeasure', 'loss']\n",
      "Training Loss  0.8083423376083374\n"
     ]
    },
    {
     "name": "stderr",
     "output_type": "stream",
     "text": [
      "\n"
     ]
    },
    {
     "name": "stdout",
     "output_type": "stream",
     "text": [
      "Train -  [0.9513888888888888, 0.9351851851851852, 0.9727768132716049, 0.9513888888888888, tensor(0.8079)]\n",
      "Validation -  [0.4930555555555556, 0.32407407407407407, 0.7829700360082305, 0.4930555555555556, tensor(1.2381)]\n",
      "\n",
      "Epoch  213\n"
     ]
    },
    {
     "name": "stderr",
     "output_type": "stream",
     "text": [
      "9it [00:00, 11.00it/s]"
     ]
    },
    {
     "name": "stdout",
     "output_type": "stream",
     "text": [
      "['acc', 'kappa', 'auc', 'fmeasure', 'loss']\n",
      "Training Loss  0.8094449705547757\n"
     ]
    },
    {
     "name": "stderr",
     "output_type": "stream",
     "text": [
      "\n"
     ]
    },
    {
     "name": "stdout",
     "output_type": "stream",
     "text": [
      "Train -  [0.9513888888888888, 0.9351851851851852, 0.9727687757201646, 0.9513888888888888, tensor(0.8078)]\n",
      "Validation -  [0.5104166666666666, 0.3472222222222222, 0.783179012345679, 0.5104166666666666, tensor(1.2362)]\n",
      "\n",
      "Epoch  214\n"
     ]
    },
    {
     "name": "stderr",
     "output_type": "stream",
     "text": [
      "9it [00:00,  9.89it/s]"
     ]
    },
    {
     "name": "stdout",
     "output_type": "stream",
     "text": [
      "['acc', 'kappa', 'auc', 'fmeasure', 'loss']\n",
      "Training Loss  0.8090367184744941\n"
     ]
    },
    {
     "name": "stderr",
     "output_type": "stream",
     "text": [
      "\n"
     ]
    },
    {
     "name": "stdout",
     "output_type": "stream",
     "text": [
      "Train -  [0.9513888888888888, 0.9351851851851852, 0.9727125128600822, 0.9513888888888888, tensor(0.8074)]\n",
      "Validation -  [0.4895833333333333, 0.3194444444444444, 0.7830664866255145, 0.4895833333333333, tensor(1.2414)]\n",
      "\n",
      "Epoch  215\n"
     ]
    },
    {
     "name": "stderr",
     "output_type": "stream",
     "text": [
      "9it [00:00,  9.61it/s]"
     ]
    },
    {
     "name": "stdout",
     "output_type": "stream",
     "text": [
      "['acc', 'kappa', 'auc', 'fmeasure', 'loss']\n",
      "Training Loss  0.8078610301017761\n"
     ]
    },
    {
     "name": "stderr",
     "output_type": "stream",
     "text": [
      "\n"
     ]
    },
    {
     "name": "stdout",
     "output_type": "stream",
     "text": [
      "Train -  [0.9513888888888888, 0.9351851851851852, 0.9727607381687243, 0.9513888888888888, tensor(0.8072)]\n",
      "Validation -  [0.5, 0.33333333333333337, 0.7828735853909465, 0.5, tensor(1.2367)]\n",
      "\n",
      "Epoch  216\n"
     ]
    },
    {
     "name": "stderr",
     "output_type": "stream",
     "text": [
      "9it [00:01,  8.51it/s]"
     ]
    },
    {
     "name": "stdout",
     "output_type": "stream",
     "text": [
      "['acc', 'kappa', 'auc', 'fmeasure', 'loss']\n",
      "Training Loss  0.8088712626033359\n"
     ]
    },
    {
     "name": "stderr",
     "output_type": "stream",
     "text": [
      "\n"
     ]
    },
    {
     "name": "stdout",
     "output_type": "stream",
     "text": [
      "Train -  [0.9513888888888888, 0.9351851851851852, 0.9726723251028807, 0.9513888888888888, tensor(0.8075)]\n",
      "Validation -  [0.5104166666666666, 0.3472222222222222, 0.7827690972222222, 0.5104166666666666, tensor(1.2341)]\n",
      "\n",
      "Epoch  217\n"
     ]
    },
    {
     "name": "stderr",
     "output_type": "stream",
     "text": [
      "9it [00:00,  9.01it/s]"
     ]
    },
    {
     "name": "stdout",
     "output_type": "stream",
     "text": [
      "['acc', 'kappa', 'auc', 'fmeasure', 'loss']\n",
      "Training Loss  0.8091817498207092\n"
     ]
    },
    {
     "name": "stderr",
     "output_type": "stream",
     "text": [
      "\n"
     ]
    },
    {
     "name": "stdout",
     "output_type": "stream",
     "text": [
      "Train -  [0.9479166666666666, 0.9305555555555556, 0.9730420524691359, 0.9479166666666666, tensor(0.8088)]\n",
      "Validation -  [0.4895833333333333, 0.3194444444444444, 0.7828735853909465, 0.4895833333333333, tensor(1.2393)]\n",
      "\n",
      "Epoch  218\n"
     ]
    },
    {
     "name": "stderr",
     "output_type": "stream",
     "text": [
      "9it [00:00,  9.79it/s]"
     ]
    },
    {
     "name": "stdout",
     "output_type": "stream",
     "text": [
      "['acc', 'kappa', 'auc', 'fmeasure', 'loss']\n",
      "Training Loss  0.8073397676150004\n"
     ]
    },
    {
     "name": "stderr",
     "output_type": "stream",
     "text": [
      "\n"
     ]
    },
    {
     "name": "stdout",
     "output_type": "stream",
     "text": [
      "Train -  [0.9513888888888888, 0.9351851851851852, 0.972680362654321, 0.9513888888888888, tensor(0.8080)]\n",
      "Validation -  [0.5034722222222222, 0.3379629629629629, 0.783323688271605, 0.5034722222222222, tensor(1.2398)]\n",
      "\n",
      "Epoch  219\n"
     ]
    },
    {
     "name": "stderr",
     "output_type": "stream",
     "text": [
      "9it [00:00,  9.25it/s]"
     ]
    },
    {
     "name": "stdout",
     "output_type": "stream",
     "text": [
      "['acc', 'kappa', 'auc', 'fmeasure', 'loss']\n",
      "Training Loss  0.8096272812949287\n"
     ]
    },
    {
     "name": "stderr",
     "output_type": "stream",
     "text": [
      "\n"
     ]
    },
    {
     "name": "stdout",
     "output_type": "stream",
     "text": [
      "Train -  [0.9548611111111112, 0.9398148148148148, 0.9727607381687242, 0.9548611111111112, tensor(0.8065)]\n",
      "Validation -  [0.4756944444444444, 0.30092592592592593, 0.7831548996913581, 0.4756944444444444, tensor(1.2487)]\n",
      "\n",
      "Epoch  220\n"
     ]
    },
    {
     "name": "stderr",
     "output_type": "stream",
     "text": [
      "9it [00:00,  9.90it/s]"
     ]
    },
    {
     "name": "stdout",
     "output_type": "stream",
     "text": [
      "['acc', 'kappa', 'auc', 'fmeasure', 'loss']\n",
      "Training Loss  0.8070671955744425\n"
     ]
    },
    {
     "name": "stderr",
     "output_type": "stream",
     "text": [
      "\n"
     ]
    },
    {
     "name": "stdout",
     "output_type": "stream",
     "text": [
      "Train -  [0.9548611111111112, 0.9398148148148148, 0.9727285879629629, 0.9548611111111112, tensor(0.8063)]\n",
      "Validation -  [0.5069444444444444, 0.34259259259259256, 0.7829619984567902, 0.5069444444444444, tensor(1.2373)]\n",
      "\n",
      "Epoch  221\n"
     ]
    },
    {
     "name": "stderr",
     "output_type": "stream",
     "text": [
      "9it [00:01,  8.70it/s]"
     ]
    },
    {
     "name": "stdout",
     "output_type": "stream",
     "text": [
      "['acc', 'kappa', 'auc', 'fmeasure', 'loss']\n",
      "Training Loss  0.8068560626771715\n"
     ]
    },
    {
     "name": "stderr",
     "output_type": "stream",
     "text": [
      "\n"
     ]
    },
    {
     "name": "stdout",
     "output_type": "stream",
     "text": [
      "Train -  [0.9513888888888888, 0.9351851851851852, 0.9728411136831276, 0.9513888888888888, tensor(0.8054)]\n",
      "Validation -  [0.4930555555555556, 0.32407407407407407, 0.7829459233539094, 0.4930555555555556, tensor(1.2399)]\n",
      "\n",
      "Epoch  222\n"
     ]
    },
    {
     "name": "stderr",
     "output_type": "stream",
     "text": [
      "9it [00:00,  9.50it/s]"
     ]
    },
    {
     "name": "stdout",
     "output_type": "stream",
     "text": [
      "['acc', 'kappa', 'auc', 'fmeasure', 'loss']\n",
      "Training Loss  0.8067466616630554\n"
     ]
    },
    {
     "name": "stderr",
     "output_type": "stream",
     "text": [
      "\n"
     ]
    },
    {
     "name": "stdout",
     "output_type": "stream",
     "text": [
      "Train -  [0.9583333333333334, 0.9444444444444444, 0.9728732638888888, 0.9583333333333334, tensor(0.8052)]\n",
      "Validation -  [0.4861111111111111, 0.31481481481481477, 0.7830182613168725, 0.4861111111111111, tensor(1.2427)]\n",
      "\n",
      "Epoch  223\n"
     ]
    },
    {
     "name": "stderr",
     "output_type": "stream",
     "text": [
      "9it [00:00, 11.29it/s]"
     ]
    },
    {
     "name": "stdout",
     "output_type": "stream",
     "text": [
      "['acc', 'kappa', 'auc', 'fmeasure', 'loss']\n",
      "Training Loss  0.8056442803806729\n"
     ]
    },
    {
     "name": "stderr",
     "output_type": "stream",
     "text": [
      "\n"
     ]
    },
    {
     "name": "stdout",
     "output_type": "stream",
     "text": [
      "Train -  [0.9513888888888888, 0.9351851851851852, 0.9728571887860082, 0.9513888888888888, tensor(0.8052)]\n",
      "Validation -  [0.5069444444444444, 0.34259259259259256, 0.7829619984567902, 0.5069444444444444, tensor(1.2348)]\n",
      "\n",
      "Epoch  224\n"
     ]
    },
    {
     "name": "stderr",
     "output_type": "stream",
     "text": [
      "9it [00:00, 11.86it/s]"
     ]
    },
    {
     "name": "stdout",
     "output_type": "stream",
     "text": [
      "['acc', 'kappa', 'auc', 'fmeasure', 'loss']\n",
      "Training Loss  0.8055756555663215\n"
     ]
    },
    {
     "name": "stderr",
     "output_type": "stream",
     "text": [
      "\n"
     ]
    },
    {
     "name": "stdout",
     "output_type": "stream",
     "text": [
      "Train -  [0.9583333333333334, 0.9444444444444444, 0.9728652263374487, 0.9583333333333334, tensor(0.8046)]\n",
      "Validation -  [0.5069444444444444, 0.34259259259259256, 0.7828735853909465, 0.5069444444444444, tensor(1.2389)]\n",
      "\n",
      "Epoch  225\n"
     ]
    },
    {
     "name": "stderr",
     "output_type": "stream",
     "text": [
      "9it [00:00, 11.43it/s]"
     ]
    },
    {
     "name": "stdout",
     "output_type": "stream",
     "text": [
      "['acc', 'kappa', 'auc', 'fmeasure', 'loss']\n",
      "Training Loss  0.8063659734196134\n"
     ]
    },
    {
     "name": "stderr",
     "output_type": "stream",
     "text": [
      "\n"
     ]
    },
    {
     "name": "stdout",
     "output_type": "stream",
     "text": [
      "Train -  [0.9583333333333334, 0.9444444444444444, 0.9727848508230452, 0.9583333333333334, tensor(0.8045)]\n",
      "Validation -  [0.4826388888888889, 0.31018518518518523, 0.7830905992798354, 0.4826388888888889, tensor(1.2490)]\n",
      "\n",
      "Epoch  226\n"
     ]
    },
    {
     "name": "stderr",
     "output_type": "stream",
     "text": [
      "9it [00:00, 11.70it/s]"
     ]
    },
    {
     "name": "stdout",
     "output_type": "stream",
     "text": [
      "['acc', 'kappa', 'auc', 'fmeasure', 'loss']\n",
      "Training Loss  0.805446532037523\n"
     ]
    },
    {
     "name": "stderr",
     "output_type": "stream",
     "text": [
      "\n"
     ]
    },
    {
     "name": "stdout",
     "output_type": "stream",
     "text": [
      "Train -  [0.9548611111111112, 0.9398148148148148, 0.9728411136831275, 0.9548611111111112, tensor(0.8048)]\n",
      "Validation -  [0.4965277777777778, 0.3287037037037037, 0.782519933127572, 0.4965277777777778, tensor(1.2379)]\n",
      "\n",
      "Epoch  227\n"
     ]
    },
    {
     "name": "stderr",
     "output_type": "stream",
     "text": [
      "9it [00:00, 10.80it/s]"
     ]
    },
    {
     "name": "stdout",
     "output_type": "stream",
     "text": [
      "['acc', 'kappa', 'auc', 'fmeasure', 'loss']\n",
      "Training Loss  0.8057452440261841\n"
     ]
    },
    {
     "name": "stderr",
     "output_type": "stream",
     "text": [
      "\n"
     ]
    },
    {
     "name": "stdout",
     "output_type": "stream",
     "text": [
      "Train -  [0.9583333333333334, 0.9444444444444444, 0.9728571887860082, 0.9583333333333334, tensor(0.8041)]\n",
      "Validation -  [0.4791666666666667, 0.3055555555555556, 0.782568158436214, 0.4791666666666667, tensor(1.2433)]\n",
      "\n",
      "Epoch  228\n"
     ]
    },
    {
     "name": "stderr",
     "output_type": "stream",
     "text": [
      "9it [00:00, 11.41it/s]"
     ]
    },
    {
     "name": "stdout",
     "output_type": "stream",
     "text": [
      "['acc', 'kappa', 'auc', 'fmeasure', 'loss']\n",
      "Training Loss  0.8043635951148139\n"
     ]
    },
    {
     "name": "stderr",
     "output_type": "stream",
     "text": [
      "\n"
     ]
    },
    {
     "name": "stdout",
     "output_type": "stream",
     "text": [
      "Train -  [0.9583333333333334, 0.9444444444444444, 0.9727205504115226, 0.9583333333333334, tensor(0.8040)]\n",
      "Validation -  [0.5069444444444444, 0.34259259259259256, 0.782616383744856, 0.5069444444444444, tensor(1.2364)]\n",
      "\n",
      "Epoch  229\n"
     ]
    },
    {
     "name": "stderr",
     "output_type": "stream",
     "text": [
      "9it [00:01,  8.65it/s]"
     ]
    },
    {
     "name": "stdout",
     "output_type": "stream",
     "text": [
      "['acc', 'kappa', 'auc', 'fmeasure', 'loss']\n",
      "Training Loss  0.8039139774110582\n"
     ]
    },
    {
     "name": "stderr",
     "output_type": "stream",
     "text": [
      "\n"
     ]
    },
    {
     "name": "stdout",
     "output_type": "stream",
     "text": [
      "Train -  [0.9583333333333334, 0.9444444444444444, 0.972776813271605, 0.9583333333333334, tensor(0.8034)]\n",
      "Validation -  [0.4826388888888889, 0.31018518518518523, 0.7824475951646092, 0.4826388888888889, tensor(1.2461)]\n",
      "\n",
      "Epoch  230\n"
     ]
    },
    {
     "name": "stderr",
     "output_type": "stream",
     "text": [
      "9it [00:01,  7.66it/s]"
     ]
    },
    {
     "name": "stdout",
     "output_type": "stream",
     "text": [
      "['acc', 'kappa', 'auc', 'fmeasure', 'loss']\n",
      "Training Loss  0.8039322760370042\n"
     ]
    },
    {
     "name": "stderr",
     "output_type": "stream",
     "text": [
      "\n"
     ]
    },
    {
     "name": "stdout",
     "output_type": "stream",
     "text": [
      "Train -  [0.9583333333333334, 0.9444444444444444, 0.9728491512345679, 0.9583333333333334, tensor(0.8031)]\n",
      "Validation -  [0.4791666666666667, 0.3055555555555556, 0.7826003086419753, 0.4791666666666667, tensor(1.2459)]\n",
      "\n",
      "Epoch  231\n"
     ]
    },
    {
     "name": "stderr",
     "output_type": "stream",
     "text": [
      "9it [00:00,  9.83it/s]"
     ]
    },
    {
     "name": "stdout",
     "output_type": "stream",
     "text": [
      "['acc', 'kappa', 'auc', 'fmeasure', 'loss']\n",
      "Training Loss  0.8038197292221917\n"
     ]
    },
    {
     "name": "stderr",
     "output_type": "stream",
     "text": [
      "\n"
     ]
    },
    {
     "name": "stdout",
     "output_type": "stream",
     "text": [
      "Train -  [0.9583333333333334, 0.9444444444444444, 0.9729697145061728, 0.9583333333333334, tensor(0.8031)]\n",
      "Validation -  [0.5034722222222222, 0.3379629629629629, 0.7823511445473252, 0.5034722222222222, tensor(1.2391)]\n",
      "\n",
      "Epoch  232\n"
     ]
    },
    {
     "name": "stderr",
     "output_type": "stream",
     "text": [
      "9it [00:00, 11.11it/s]"
     ]
    },
    {
     "name": "stdout",
     "output_type": "stream",
     "text": [
      "['acc', 'kappa', 'auc', 'fmeasure', 'loss']\n",
      "Training Loss  0.8034153514438205\n"
     ]
    },
    {
     "name": "stderr",
     "output_type": "stream",
     "text": [
      "\n"
     ]
    },
    {
     "name": "stdout",
     "output_type": "stream",
     "text": [
      "Train -  [0.9583333333333334, 0.9444444444444444, 0.9729295267489713, 0.9583333333333334, tensor(0.8027)]\n",
      "Validation -  [0.4826388888888889, 0.31018518518518523, 0.7824154449588478, 0.4826388888888889, tensor(1.2454)]\n",
      "\n",
      "Epoch  233\n"
     ]
    },
    {
     "name": "stderr",
     "output_type": "stream",
     "text": [
      "9it [00:00, 10.80it/s]"
     ]
    },
    {
     "name": "stdout",
     "output_type": "stream",
     "text": [
      "['acc', 'kappa', 'auc', 'fmeasure', 'loss']\n",
      "Training Loss  0.8032803601688809\n"
     ]
    },
    {
     "name": "stderr",
     "output_type": "stream",
     "text": [
      "\n"
     ]
    },
    {
     "name": "stdout",
     "output_type": "stream",
     "text": [
      "Train -  [0.9583333333333334, 0.9444444444444444, 0.9728411136831276, 0.9583333333333334, tensor(0.8026)]\n",
      "Validation -  [0.4791666666666667, 0.3055555555555556, 0.7823832947530864, 0.4791666666666667, tensor(1.2473)]\n",
      "\n",
      "Epoch  234\n"
     ]
    },
    {
     "name": "stderr",
     "output_type": "stream",
     "text": [
      "9it [00:00, 10.70it/s]"
     ]
    },
    {
     "name": "stdout",
     "output_type": "stream",
     "text": [
      "['acc', 'kappa', 'auc', 'fmeasure', 'loss']\n",
      "Training Loss  0.8034435841772292\n"
     ]
    },
    {
     "name": "stderr",
     "output_type": "stream",
     "text": [
      "\n"
     ]
    },
    {
     "name": "stdout",
     "output_type": "stream",
     "text": [
      "Train -  [0.9583333333333334, 0.9444444444444444, 0.9728893389917695, 0.9583333333333334, tensor(0.8023)]\n",
      "Validation -  [0.4930555555555556, 0.32407407407407407, 0.7821903935185186, 0.4930555555555556, tensor(1.2414)]\n",
      "\n",
      "Epoch  235\n"
     ]
    },
    {
     "name": "stderr",
     "output_type": "stream",
     "text": [
      "9it [00:00, 12.95it/s]"
     ]
    },
    {
     "name": "stdout",
     "output_type": "stream",
     "text": [
      "['acc', 'kappa', 'auc', 'fmeasure', 'loss']\n",
      "Training Loss  0.8030298087331984\n"
     ]
    },
    {
     "name": "stderr",
     "output_type": "stream",
     "text": [
      "\n"
     ]
    },
    {
     "name": "stdout",
     "output_type": "stream",
     "text": [
      "Train -  [0.9583333333333334, 0.9444444444444444, 0.972776813271605, 0.9583333333333334, tensor(0.8026)]\n",
      "Validation -  [0.4895833333333333, 0.3194444444444444, 0.782592271090535, 0.4895833333333333, tensor(1.2438)]\n",
      "\n",
      "Epoch  236\n"
     ]
    },
    {
     "name": "stderr",
     "output_type": "stream",
     "text": [
      "9it [00:00, 11.44it/s]"
     ]
    },
    {
     "name": "stdout",
     "output_type": "stream",
     "text": [
      "['acc', 'kappa', 'auc', 'fmeasure', 'loss']\n",
      "Training Loss  0.8035381237665812\n"
     ]
    },
    {
     "name": "stderr",
     "output_type": "stream",
     "text": [
      "\n"
     ]
    },
    {
     "name": "stdout",
     "output_type": "stream",
     "text": [
      "Train -  [0.9583333333333334, 0.9444444444444444, 0.9728652263374487, 0.9583333333333334, tensor(0.8019)]\n",
      "Validation -  [0.4895833333333333, 0.3194444444444444, 0.781836741255144, 0.4895833333333333, tensor(1.2427)]\n",
      "\n",
      "Epoch  237\n"
     ]
    },
    {
     "name": "stderr",
     "output_type": "stream",
     "text": [
      "9it [00:01,  8.11it/s]"
     ]
    },
    {
     "name": "stdout",
     "output_type": "stream",
     "text": [
      "['acc', 'kappa', 'auc', 'fmeasure', 'loss']\n",
      "Training Loss  0.8030785255961947\n"
     ]
    },
    {
     "name": "stderr",
     "output_type": "stream",
     "text": [
      "\n"
     ]
    },
    {
     "name": "stdout",
     "output_type": "stream",
     "text": [
      "Train -  [0.9583333333333334, 0.9444444444444444, 0.9728813014403292, 0.9583333333333334, tensor(0.8020)]\n",
      "Validation -  [0.5, 0.33333333333333337, 0.7823109567901235, 0.5, tensor(1.2398)]\n",
      "\n",
      "Epoch  238\n"
     ]
    },
    {
     "name": "stderr",
     "output_type": "stream",
     "text": [
      "9it [00:00, 10.53it/s]"
     ]
    },
    {
     "name": "stdout",
     "output_type": "stream",
     "text": [
      "['acc', 'kappa', 'auc', 'fmeasure', 'loss']\n",
      "Training Loss  0.8026804195510017\n"
     ]
    },
    {
     "name": "stderr",
     "output_type": "stream",
     "text": [
      "\n"
     ]
    },
    {
     "name": "stdout",
     "output_type": "stream",
     "text": [
      "Train -  [0.9583333333333334, 0.9444444444444444, 0.9728411136831276, 0.9583333333333334, tensor(0.8015)]\n",
      "Validation -  [0.4791666666666667, 0.3055555555555556, 0.7817483281893004, 0.4791666666666667, tensor(1.2467)]\n",
      "\n",
      "Epoch  239\n"
     ]
    },
    {
     "name": "stderr",
     "output_type": "stream",
     "text": [
      "9it [00:00, 10.13it/s]"
     ]
    },
    {
     "name": "stdout",
     "output_type": "stream",
     "text": [
      "['acc', 'kappa', 'auc', 'fmeasure', 'loss']\n",
      "Training Loss  0.8018252385987176\n"
     ]
    },
    {
     "name": "stderr",
     "output_type": "stream",
     "text": [
      "\n"
     ]
    },
    {
     "name": "stdout",
     "output_type": "stream",
     "text": [
      "Train -  [0.9583333333333334, 0.9444444444444444, 0.9728652263374487, 0.9583333333333334, tensor(0.8013)]\n",
      "Validation -  [0.4861111111111111, 0.31481481481481477, 0.7817965534979423, 0.4861111111111111, tensor(1.2439)]\n",
      "\n",
      "Epoch  240\n"
     ]
    },
    {
     "name": "stderr",
     "output_type": "stream",
     "text": [
      "9it [00:00, 10.98it/s]"
     ]
    },
    {
     "name": "stdout",
     "output_type": "stream",
     "text": [
      "['acc', 'kappa', 'auc', 'fmeasure', 'loss']\n",
      "Training Loss  0.8020462459988065\n"
     ]
    },
    {
     "name": "stderr",
     "output_type": "stream",
     "text": [
      "\n"
     ]
    },
    {
     "name": "stdout",
     "output_type": "stream",
     "text": [
      "Train -  [0.9583333333333334, 0.9444444444444444, 0.9728973765432098, 0.9583333333333334, tensor(0.8013)]\n",
      "Validation -  [0.4861111111111111, 0.31481481481481477, 0.7819653420781892, 0.4861111111111111, tensor(1.2413)]\n",
      "\n",
      "Epoch  241\n"
     ]
    },
    {
     "name": "stderr",
     "output_type": "stream",
     "text": [
      "9it [00:00, 11.77it/s]"
     ]
    },
    {
     "name": "stdout",
     "output_type": "stream",
     "text": [
      "['acc', 'kappa', 'auc', 'fmeasure', 'loss']\n",
      "Training Loss  0.8016412059466044\n"
     ]
    },
    {
     "name": "stderr",
     "output_type": "stream",
     "text": [
      "\n"
     ]
    },
    {
     "name": "stdout",
     "output_type": "stream",
     "text": [
      "Train -  [0.9583333333333334, 0.9444444444444444, 0.9729777520576132, 0.9583333333333334, tensor(0.8013)]\n",
      "Validation -  [0.4965277777777778, 0.3287037037037037, 0.7816116898148149, 0.4965277777777778, tensor(1.2392)]\n",
      "\n",
      "Epoch  242\n"
     ]
    },
    {
     "name": "stderr",
     "output_type": "stream",
     "text": [
      "9it [00:00, 11.93it/s]"
     ]
    },
    {
     "name": "stdout",
     "output_type": "stream",
     "text": [
      "['acc', 'kappa', 'auc', 'fmeasure', 'loss']\n",
      "Training Loss  0.8015934361351861\n"
     ]
    },
    {
     "name": "stderr",
     "output_type": "stream",
     "text": [
      "\n"
     ]
    },
    {
     "name": "stdout",
     "output_type": "stream",
     "text": [
      "Train -  [0.9583333333333334, 0.9444444444444444, 0.9729134516460904, 0.9583333333333334, tensor(0.8010)]\n",
      "Validation -  [0.4791666666666667, 0.3055555555555556, 0.782005529835391, 0.4791666666666667, tensor(1.2476)]\n",
      "\n",
      "Epoch  243\n"
     ]
    },
    {
     "name": "stderr",
     "output_type": "stream",
     "text": [
      "9it [00:01,  7.63it/s]"
     ]
    },
    {
     "name": "stdout",
     "output_type": "stream",
     "text": [
      "['acc', 'kappa', 'auc', 'fmeasure', 'loss']\n",
      "Training Loss  0.8017130957709419\n"
     ]
    },
    {
     "name": "stderr",
     "output_type": "stream",
     "text": [
      "\n"
     ]
    },
    {
     "name": "stdout",
     "output_type": "stream",
     "text": [
      "Train -  [0.9583333333333334, 0.9444444444444444, 0.9729456018518519, 0.9583333333333334, tensor(0.8007)]\n",
      "Validation -  [0.4791666666666667, 0.3055555555555556, 0.7815072016460904, 0.4791666666666667, tensor(1.2448)]\n",
      "\n",
      "Epoch  244\n"
     ]
    },
    {
     "name": "stderr",
     "output_type": "stream",
     "text": [
      "9it [00:00,  9.09it/s]"
     ]
    },
    {
     "name": "stdout",
     "output_type": "stream",
     "text": [
      "['acc', 'kappa', 'auc', 'fmeasure', 'loss']\n",
      "Training Loss  0.801928288406796\n"
     ]
    },
    {
     "name": "stderr",
     "output_type": "stream",
     "text": [
      "\n"
     ]
    },
    {
     "name": "stdout",
     "output_type": "stream",
     "text": [
      "Train -  [0.9583333333333334, 0.9444444444444444, 0.9729697145061729, 0.9583333333333334, tensor(0.8005)]\n",
      "Validation -  [0.4791666666666667, 0.3055555555555556, 0.7813625257201646, 0.4791666666666667, tensor(1.2462)]\n",
      "\n",
      "Epoch  245\n"
     ]
    },
    {
     "name": "stderr",
     "output_type": "stream",
     "text": [
      "9it [00:00,  9.97it/s]"
     ]
    },
    {
     "name": "stdout",
     "output_type": "stream",
     "text": [
      "['acc', 'kappa', 'auc', 'fmeasure', 'loss']\n",
      "Training Loss  0.8013542360729642\n"
     ]
    },
    {
     "name": "stderr",
     "output_type": "stream",
     "text": [
      "\n"
     ]
    },
    {
     "name": "stdout",
     "output_type": "stream",
     "text": [
      "Train -  [0.9618055555555556, 0.9490740740740741, 0.9729777520576133, 0.9618055555555556, tensor(0.8008)]\n",
      "Validation -  [0.4652777777777778, 0.2870370370370371, 0.7814107510288065, 0.4652777777777778, tensor(1.2490)]\n",
      "\n",
      "Epoch  246\n"
     ]
    },
    {
     "name": "stderr",
     "output_type": "stream",
     "text": [
      "9it [00:01,  8.56it/s]"
     ]
    },
    {
     "name": "stdout",
     "output_type": "stream",
     "text": [
      "['acc', 'kappa', 'auc', 'fmeasure', 'loss']\n",
      "Training Loss  0.8003428313467238\n"
     ]
    },
    {
     "name": "stderr",
     "output_type": "stream",
     "text": [
      "\n"
     ]
    },
    {
     "name": "stdout",
     "output_type": "stream",
     "text": [
      "Train -  [0.9583333333333334, 0.9444444444444444, 0.9729616769547325, 0.9583333333333334, tensor(0.8010)]\n",
      "Validation -  [0.4965277777777778, 0.3287037037037037, 0.7818930041152263, 0.4965277777777778, tensor(1.2408)]\n",
      "\n",
      "Epoch  247\n"
     ]
    },
    {
     "name": "stderr",
     "output_type": "stream",
     "text": [
      "9it [00:00,  9.67it/s]"
     ]
    },
    {
     "name": "stdout",
     "output_type": "stream",
     "text": [
      "['acc', 'kappa', 'auc', 'fmeasure', 'loss']\n",
      "Training Loss  0.8009172677993774\n"
     ]
    },
    {
     "name": "stderr",
     "output_type": "stream",
     "text": [
      "\n"
     ]
    },
    {
     "name": "stdout",
     "output_type": "stream",
     "text": [
      "Train -  [0.9618055555555556, 0.9490740740740741, 0.9730983153292181, 0.9618055555555556, tensor(0.8003)]\n",
      "Validation -  [0.4895833333333333, 0.3194444444444444, 0.7812821502057612, 0.4895833333333333, tensor(1.2423)]\n",
      "\n",
      "Epoch  248\n"
     ]
    },
    {
     "name": "stderr",
     "output_type": "stream",
     "text": [
      "9it [00:01,  8.92it/s]"
     ]
    },
    {
     "name": "stdout",
     "output_type": "stream",
     "text": [
      "['acc', 'kappa', 'auc', 'fmeasure', 'loss']\n",
      "Training Loss  0.800505002339681\n"
     ]
    },
    {
     "name": "stderr",
     "output_type": "stream",
     "text": [
      "\n"
     ]
    },
    {
     "name": "stdout",
     "output_type": "stream",
     "text": [
      "Train -  [0.9618055555555556, 0.9490740740740741, 0.9729616769547325, 0.9618055555555556, tensor(0.8001)]\n",
      "Validation -  [0.4791666666666667, 0.3055555555555556, 0.781274112654321, 0.4791666666666667, tensor(1.2484)]\n",
      "\n",
      "Epoch  249\n"
     ]
    },
    {
     "name": "stderr",
     "output_type": "stream",
     "text": [
      "9it [00:01,  8.27it/s]"
     ]
    },
    {
     "name": "stdout",
     "output_type": "stream",
     "text": [
      "['acc', 'kappa', 'auc', 'fmeasure', 'loss']\n",
      "Training Loss  0.8005048169030083\n"
     ]
    },
    {
     "name": "stderr",
     "output_type": "stream",
     "text": [
      "\n"
     ]
    },
    {
     "name": "stdout",
     "output_type": "stream",
     "text": [
      "Train -  [0.9583333333333334, 0.9444444444444444, 0.9729616769547325, 0.9583333333333334, tensor(0.8000)]\n",
      "Validation -  [0.4791666666666667, 0.3055555555555556, 0.7814589763374485, 0.4791666666666667, tensor(1.2460)]\n",
      "\n",
      "Epoch  250\n"
     ]
    },
    {
     "name": "stderr",
     "output_type": "stream",
     "text": [
      "9it [00:01,  7.96it/s]"
     ]
    },
    {
     "name": "stdout",
     "output_type": "stream",
     "text": [
      "['acc', 'kappa', 'auc', 'fmeasure', 'loss']\n",
      "Training Loss  0.8008543584081862\n"
     ]
    },
    {
     "name": "stderr",
     "output_type": "stream",
     "text": [
      "\n"
     ]
    },
    {
     "name": "stdout",
     "output_type": "stream",
     "text": [
      "Train -  [0.9618055555555556, 0.9490740740740741, 0.9730179398148149, 0.9618055555555556, tensor(0.7999)]\n",
      "Validation -  [0.5069444444444444, 0.34259259259259256, 0.7808883101851851, 0.5069444444444444, tensor(1.2376)]\n",
      "\n",
      "Epoch  251\n"
     ]
    },
    {
     "name": "stderr",
     "output_type": "stream",
     "text": [
      "9it [00:01,  7.45it/s]"
     ]
    },
    {
     "name": "stdout",
     "output_type": "stream",
     "text": [
      "['acc', 'kappa', 'auc', 'fmeasure', 'loss']\n",
      "Training Loss  0.801206648349762\n"
     ]
    },
    {
     "name": "stderr",
     "output_type": "stream",
     "text": [
      "\n"
     ]
    },
    {
     "name": "stdout",
     "output_type": "stream",
     "text": [
      "Train -  [0.9618055555555556, 0.9490740740740741, 0.9730420524691359, 0.9618055555555556, tensor(0.7998)]\n",
      "Validation -  [0.4791666666666667, 0.3055555555555556, 0.7814429012345679, 0.4791666666666667, tensor(1.2533)]\n",
      "\n",
      "Epoch  252\n"
     ]
    },
    {
     "name": "stderr",
     "output_type": "stream",
     "text": [
      "9it [00:01,  8.50it/s]"
     ]
    },
    {
     "name": "stdout",
     "output_type": "stream",
     "text": [
      "['acc', 'kappa', 'auc', 'fmeasure', 'loss']\n",
      "Training Loss  0.8000439405441284\n"
     ]
    },
    {
     "name": "stderr",
     "output_type": "stream",
     "text": [
      "\n"
     ]
    },
    {
     "name": "stdout",
     "output_type": "stream",
     "text": [
      "Train -  [0.9583333333333334, 0.9444444444444444, 0.9729697145061729, 0.9583333333333334, tensor(0.7995)]\n",
      "Validation -  [0.4861111111111111, 0.31481481481481477, 0.7810329861111112, 0.4861111111111111, tensor(1.2434)]\n",
      "\n",
      "Epoch  253\n"
     ]
    },
    {
     "name": "stderr",
     "output_type": "stream",
     "text": [
      "9it [00:01,  8.27it/s]"
     ]
    },
    {
     "name": "stdout",
     "output_type": "stream",
     "text": [
      "['acc', 'kappa', 'auc', 'fmeasure', 'loss']\n",
      "Training Loss  0.800030959977044\n"
     ]
    },
    {
     "name": "stderr",
     "output_type": "stream",
     "text": [
      "\n"
     ]
    },
    {
     "name": "stdout",
     "output_type": "stream",
     "text": [
      "Train -  [0.9618055555555556, 0.9490740740740741, 0.9730500900205761, 0.9618055555555556, tensor(0.7994)]\n",
      "Validation -  [0.4826388888888889, 0.31018518518518523, 0.7805587705761317, 0.4826388888888889, tensor(1.2437)]\n",
      "\n",
      "Epoch  254\n"
     ]
    },
    {
     "name": "stderr",
     "output_type": "stream",
     "text": [
      "9it [00:00, 10.00it/s]"
     ]
    },
    {
     "name": "stdout",
     "output_type": "stream",
     "text": [
      "['acc', 'kappa', 'auc', 'fmeasure', 'loss']\n",
      "Training Loss  0.8005895813306173\n"
     ]
    },
    {
     "name": "stderr",
     "output_type": "stream",
     "text": [
      "\n"
     ]
    },
    {
     "name": "stdout",
     "output_type": "stream",
     "text": [
      "Train -  [0.9583333333333334, 0.9444444444444444, 0.9729456018518519, 0.9583333333333334, tensor(0.7993)]\n",
      "Validation -  [0.4861111111111111, 0.31481481481481477, 0.7809043852880658, 0.4861111111111111, tensor(1.2433)]\n",
      "\n",
      "Epoch  255\n"
     ]
    },
    {
     "name": "stderr",
     "output_type": "stream",
     "text": [
      "9it [00:01,  6.70it/s]"
     ]
    },
    {
     "name": "stdout",
     "output_type": "stream",
     "text": [
      "['acc', 'kappa', 'auc', 'fmeasure', 'loss']\n",
      "Training Loss  0.800859616862403\n"
     ]
    },
    {
     "name": "stderr",
     "output_type": "stream",
     "text": [
      "\n"
     ]
    },
    {
     "name": "stdout",
     "output_type": "stream",
     "text": [
      "Train -  [0.9618055555555556, 0.9490740740740741, 0.9729295267489712, 0.9618055555555556, tensor(0.7990)]\n",
      "Validation -  [0.4826388888888889, 0.31018518518518523, 0.7808240097736625, 0.4826388888888889, tensor(1.2477)]\n",
      "\n",
      "Epoch  256\n"
     ]
    },
    {
     "name": "stderr",
     "output_type": "stream",
     "text": [
      "9it [00:01,  6.57it/s]"
     ]
    },
    {
     "name": "stdout",
     "output_type": "stream",
     "text": [
      "['acc', 'kappa', 'auc', 'fmeasure', 'loss']\n",
      "Training Loss  0.8000688685311211\n"
     ]
    },
    {
     "name": "stderr",
     "output_type": "stream",
     "text": [
      "\n"
     ]
    },
    {
     "name": "stdout",
     "output_type": "stream",
     "text": [
      "Train -  [0.9618055555555556, 0.9490740740740741, 0.9729536394032922, 0.9618055555555556, tensor(0.7991)]\n",
      "Validation -  [0.4861111111111111, 0.31481481481481477, 0.7808240097736625, 0.4861111111111111, tensor(1.2480)]\n",
      "\n",
      "Epoch  257\n"
     ]
    },
    {
     "name": "stderr",
     "output_type": "stream",
     "text": [
      "9it [00:01,  7.95it/s]"
     ]
    },
    {
     "name": "stdout",
     "output_type": "stream",
     "text": [
      "['acc', 'kappa', 'auc', 'fmeasure', 'loss']\n",
      "Training Loss  0.7993231746885512\n"
     ]
    },
    {
     "name": "stderr",
     "output_type": "stream",
     "text": [
      "\n"
     ]
    },
    {
     "name": "stdout",
     "output_type": "stream",
     "text": [
      "Train -  [0.9618055555555556, 0.9490740740740741, 0.9731706532921811, 0.9618055555555556, tensor(0.7992)]\n",
      "Validation -  [0.4861111111111111, 0.31481481481481477, 0.7803256815843621, 0.4861111111111111, tensor(1.2400)]\n",
      "\n",
      "Epoch  258\n"
     ]
    },
    {
     "name": "stderr",
     "output_type": "stream",
     "text": [
      "9it [00:01,  6.59it/s]"
     ]
    },
    {
     "name": "stdout",
     "output_type": "stream",
     "text": [
      "['acc', 'kappa', 'auc', 'fmeasure', 'loss']\n",
      "Training Loss  0.7991570896572537\n"
     ]
    },
    {
     "name": "stderr",
     "output_type": "stream",
     "text": [
      "\n"
     ]
    },
    {
     "name": "stdout",
     "output_type": "stream",
     "text": [
      "Train -  [0.9618055555555556, 0.9490740740740741, 0.9729938271604938, 0.9618055555555556, tensor(0.7988)]\n",
      "Validation -  [0.4826388888888889, 0.31018518518518523, 0.7808400848765432, 0.4826388888888889, tensor(1.2449)]\n",
      "\n",
      "Epoch  259\n"
     ]
    },
    {
     "name": "stderr",
     "output_type": "stream",
     "text": [
      "9it [00:01,  7.46it/s]"
     ]
    },
    {
     "name": "stdout",
     "output_type": "stream",
     "text": [
      "['acc', 'kappa', 'auc', 'fmeasure', 'loss']\n",
      "Training Loss  0.7995550301339891\n"
     ]
    },
    {
     "name": "stderr",
     "output_type": "stream",
     "text": [
      "\n"
     ]
    },
    {
     "name": "stdout",
     "output_type": "stream",
     "text": [
      "Train -  [0.9618055555555556, 0.9490740740740741, 0.9729536394032923, 0.9618055555555556, tensor(0.7986)]\n",
      "Validation -  [0.4826388888888889, 0.31018518518518523, 0.780807934670782, 0.4826388888888889, tensor(1.2471)]\n",
      "\n",
      "Epoch  260\n"
     ]
    },
    {
     "name": "stderr",
     "output_type": "stream",
     "text": [
      "9it [00:01,  5.58it/s]"
     ]
    },
    {
     "name": "stdout",
     "output_type": "stream",
     "text": [
      "['acc', 'kappa', 'auc', 'fmeasure', 'loss']\n",
      "Training Loss  0.7992032832569547\n"
     ]
    },
    {
     "name": "stderr",
     "output_type": "stream",
     "text": [
      "\n"
     ]
    },
    {
     "name": "stdout",
     "output_type": "stream",
     "text": [
      "Train -  [0.9618055555555556, 0.9490740740740741, 0.9731465406378602, 0.9618055555555556, tensor(0.7986)]\n",
      "Validation -  [0.4861111111111111, 0.31481481481481477, 0.7801167052469136, 0.4861111111111111, tensor(1.2412)]\n",
      "\n",
      "Epoch  261\n"
     ]
    },
    {
     "name": "stderr",
     "output_type": "stream",
     "text": [
      "9it [00:01,  7.27it/s]"
     ]
    },
    {
     "name": "stdout",
     "output_type": "stream",
     "text": [
      "['acc', 'kappa', 'auc', 'fmeasure', 'loss']\n",
      "Training Loss  0.7991857859823439\n"
     ]
    },
    {
     "name": "stderr",
     "output_type": "stream",
     "text": [
      "\n"
     ]
    },
    {
     "name": "stdout",
     "output_type": "stream",
     "text": [
      "Train -  [0.9618055555555556, 0.9490740740740741, 0.9729697145061729, 0.9618055555555556, tensor(0.7986)]\n",
      "Validation -  [0.4826388888888889, 0.31018518518518523, 0.7809043852880658, 0.4826388888888889, tensor(1.2479)]\n",
      "\n",
      "Epoch  262\n"
     ]
    },
    {
     "name": "stderr",
     "output_type": "stream",
     "text": [
      "9it [00:01,  7.32it/s]"
     ]
    },
    {
     "name": "stdout",
     "output_type": "stream",
     "text": [
      "['acc', 'kappa', 'auc', 'fmeasure', 'loss']\n",
      "Training Loss  0.7992554174529182\n"
     ]
    },
    {
     "name": "stderr",
     "output_type": "stream",
     "text": [
      "\n"
     ]
    },
    {
     "name": "stdout",
     "output_type": "stream",
     "text": [
      "Train -  [0.9618055555555556, 0.9490740740740741, 0.9731063528806584, 0.9618055555555556, tensor(0.7983)]\n",
      "Validation -  [0.4791666666666667, 0.3055555555555556, 0.7801086676954733, 0.4791666666666667, tensor(1.2495)]\n",
      "\n",
      "Epoch  263\n"
     ]
    },
    {
     "name": "stderr",
     "output_type": "stream",
     "text": [
      "9it [00:01,  5.67it/s]"
     ]
    },
    {
     "name": "stdout",
     "output_type": "stream",
     "text": [
      "['acc', 'kappa', 'auc', 'fmeasure', 'loss']\n",
      "Training Loss  0.798377513885498\n"
     ]
    },
    {
     "name": "stderr",
     "output_type": "stream",
     "text": [
      "\n"
     ]
    },
    {
     "name": "stdout",
     "output_type": "stream",
     "text": [
      "Train -  [0.9618055555555556, 0.9490740740740741, 0.9730500900205762, 0.9618055555555556, tensor(0.7981)]\n",
      "Validation -  [0.4826388888888889, 0.31018518518518523, 0.7803497942386832, 0.4826388888888889, tensor(1.2456)]\n",
      "\n",
      "Epoch  264\n"
     ]
    },
    {
     "name": "stderr",
     "output_type": "stream",
     "text": [
      "9it [00:01,  6.25it/s]"
     ]
    },
    {
     "name": "stdout",
     "output_type": "stream",
     "text": [
      "['acc', 'kappa', 'auc', 'fmeasure', 'loss']\n",
      "Training Loss  0.7985757456885444\n"
     ]
    },
    {
     "name": "stderr",
     "output_type": "stream",
     "text": [
      "\n"
     ]
    },
    {
     "name": "stdout",
     "output_type": "stream",
     "text": [
      "Train -  [0.9618055555555556, 0.9490740740740741, 0.9730259773662552, 0.9618055555555556, tensor(0.7981)]\n",
      "Validation -  [0.4895833333333333, 0.3194444444444444, 0.7801810056584363, 0.4895833333333333, tensor(1.2432)]\n",
      "\n",
      "Epoch  265\n"
     ]
    },
    {
     "name": "stderr",
     "output_type": "stream",
     "text": [
      "9it [00:01,  5.60it/s]"
     ]
    },
    {
     "name": "stdout",
     "output_type": "stream",
     "text": [
      "['acc', 'kappa', 'auc', 'fmeasure', 'loss']\n",
      "Training Loss  0.7990591393576728\n"
     ]
    },
    {
     "name": "stderr",
     "output_type": "stream",
     "text": [
      "\n"
     ]
    },
    {
     "name": "stdout",
     "output_type": "stream",
     "text": [
      "Train -  [0.9618055555555556, 0.9490740740740741, 0.9731224279835391, 0.9618055555555556, tensor(0.7980)]\n",
      "Validation -  [0.4756944444444444, 0.30092592592592593, 0.7799157664609053, 0.4756944444444444, tensor(1.2485)]\n",
      "\n",
      "Epoch  266\n"
     ]
    },
    {
     "name": "stderr",
     "output_type": "stream",
     "text": [
      "9it [00:01,  6.10it/s]"
     ]
    },
    {
     "name": "stdout",
     "output_type": "stream",
     "text": [
      "['acc', 'kappa', 'auc', 'fmeasure', 'loss']\n",
      "Training Loss  0.799232992861006\n"
     ]
    },
    {
     "name": "stderr",
     "output_type": "stream",
     "text": [
      "\n"
     ]
    },
    {
     "name": "stdout",
     "output_type": "stream",
     "text": [
      "Train -  [0.9618055555555556, 0.9490740740740741, 0.9731063528806585, 0.9618055555555556, tensor(0.7978)]\n",
      "Validation -  [0.4826388888888889, 0.31018518518518523, 0.7800845550411523, 0.4826388888888889, tensor(1.2466)]\n",
      "\n",
      "Epoch  267\n"
     ]
    },
    {
     "name": "stderr",
     "output_type": "stream",
     "text": [
      "9it [00:01,  5.38it/s]"
     ]
    },
    {
     "name": "stdout",
     "output_type": "stream",
     "text": [
      "['acc', 'kappa', 'auc', 'fmeasure', 'loss']\n",
      "Training Loss  0.7984252439604865\n"
     ]
    },
    {
     "name": "stderr",
     "output_type": "stream",
     "text": [
      "\n"
     ]
    },
    {
     "name": "stdout",
     "output_type": "stream",
     "text": [
      "Train -  [0.9618055555555556, 0.9490740740740741, 0.9730259773662552, 0.9618055555555556, tensor(0.7978)]\n",
      "Validation -  [0.4861111111111111, 0.31481481481481477, 0.7800443672839507, 0.4861111111111111, tensor(1.2454)]\n",
      "\n",
      "Epoch  268\n"
     ]
    },
    {
     "name": "stderr",
     "output_type": "stream",
     "text": [
      "9it [00:01,  5.95it/s]"
     ]
    },
    {
     "name": "stdout",
     "output_type": "stream",
     "text": [
      "['acc', 'kappa', 'auc', 'fmeasure', 'loss']\n",
      "Training Loss  0.7982953124576144\n"
     ]
    },
    {
     "name": "stderr",
     "output_type": "stream",
     "text": [
      "\n"
     ]
    },
    {
     "name": "stdout",
     "output_type": "stream",
     "text": [
      "Train -  [0.9618055555555556, 0.9490740740740741, 0.9730822402263374, 0.9618055555555556, tensor(0.7981)]\n",
      "Validation -  [0.4791666666666667, 0.3055555555555556, 0.7797550154320987, 0.4791666666666667, tensor(1.2435)]\n",
      "\n",
      "Epoch  269\n"
     ]
    },
    {
     "name": "stderr",
     "output_type": "stream",
     "text": [
      "9it [00:01,  5.43it/s]"
     ]
    },
    {
     "name": "stdout",
     "output_type": "stream",
     "text": [
      "['acc', 'kappa', 'auc', 'fmeasure', 'loss']\n",
      "Training Loss  0.7982935905456543\n"
     ]
    },
    {
     "name": "stderr",
     "output_type": "stream",
     "text": [
      "\n"
     ]
    },
    {
     "name": "stdout",
     "output_type": "stream",
     "text": [
      "Train -  [0.9618055555555556, 0.9490740740740741, 0.9730500900205763, 0.9618055555555556, tensor(0.7978)]\n",
      "Validation -  [0.4791666666666667, 0.3055555555555556, 0.7797952031893004, 0.4791666666666667, tensor(1.2463)]\n",
      "\n",
      "Epoch  270\n"
     ]
    },
    {
     "name": "stderr",
     "output_type": "stream",
     "text": [
      "9it [00:01,  6.44it/s]"
     ]
    },
    {
     "name": "stdout",
     "output_type": "stream",
     "text": [
      "['acc', 'kappa', 'auc', 'fmeasure', 'loss']\n",
      "Training Loss  0.7981738514370389\n"
     ]
    },
    {
     "name": "stderr",
     "output_type": "stream",
     "text": [
      "\n"
     ]
    },
    {
     "name": "stdout",
     "output_type": "stream",
     "text": [
      "Train -  [0.9618055555555556, 0.9490740740740741, 0.9730018647119342, 0.9618055555555556, tensor(0.7975)]\n",
      "Validation -  [0.4791666666666667, 0.3055555555555556, 0.7796746399176954, 0.4791666666666667, tensor(1.2468)]\n",
      "\n",
      "Epoch  271\n"
     ]
    },
    {
     "name": "stderr",
     "output_type": "stream",
     "text": [
      "9it [00:01,  5.42it/s]"
     ]
    },
    {
     "name": "stdout",
     "output_type": "stream",
     "text": [
      "['acc', 'kappa', 'auc', 'fmeasure', 'loss']\n",
      "Training Loss  0.7976466947131686\n"
     ]
    },
    {
     "name": "stderr",
     "output_type": "stream",
     "text": [
      "\n"
     ]
    },
    {
     "name": "stdout",
     "output_type": "stream",
     "text": [
      "Train -  [0.9618055555555556, 0.9490740740740741, 0.9731224279835391, 0.9618055555555556, tensor(0.7974)]\n",
      "Validation -  [0.4756944444444444, 0.30092592592592593, 0.7792406121399177, 0.4756944444444444, tensor(1.2451)]\n",
      "\n",
      "Epoch  272\n"
     ]
    },
    {
     "name": "stderr",
     "output_type": "stream",
     "text": [
      "9it [00:01,  5.84it/s]"
     ]
    },
    {
     "name": "stdout",
     "output_type": "stream",
     "text": [
      "['acc', 'kappa', 'auc', 'fmeasure', 'loss']\n",
      "Training Loss  0.7977927459610833\n"
     ]
    },
    {
     "name": "stderr",
     "output_type": "stream",
     "text": [
      "\n"
     ]
    },
    {
     "name": "stdout",
     "output_type": "stream",
     "text": [
      "Train -  [0.9618055555555556, 0.9490740740740741, 0.9730099022633746, 0.9618055555555556, tensor(0.7973)]\n",
      "Validation -  [0.4826388888888889, 0.31018518518518523, 0.7798755787037037, 0.4826388888888889, tensor(1.2470)]\n",
      "\n",
      "Epoch  273\n"
     ]
    },
    {
     "name": "stderr",
     "output_type": "stream",
     "text": [
      "9it [00:01,  4.97it/s]"
     ]
    },
    {
     "name": "stdout",
     "output_type": "stream",
     "text": [
      "['acc', 'kappa', 'auc', 'fmeasure', 'loss']\n",
      "Training Loss  0.7975846926371256\n"
     ]
    },
    {
     "name": "stderr",
     "output_type": "stream",
     "text": [
      "\n"
     ]
    },
    {
     "name": "stdout",
     "output_type": "stream",
     "text": [
      "Train -  [0.9618055555555556, 0.9490740740740741, 0.9730500900205762, 0.9618055555555556, tensor(0.7972)]\n",
      "Validation -  [0.4756944444444444, 0.30092592592592593, 0.7793129501028807, 0.4756944444444444, tensor(1.2481)]\n",
      "\n",
      "Epoch  274\n"
     ]
    },
    {
     "name": "stderr",
     "output_type": "stream",
     "text": [
      "9it [00:01,  5.78it/s]"
     ]
    },
    {
     "name": "stdout",
     "output_type": "stream",
     "text": [
      "['acc', 'kappa', 'auc', 'fmeasure', 'loss']\n",
      "Training Loss  0.7974844906065199\n"
     ]
    },
    {
     "name": "stderr",
     "output_type": "stream",
     "text": [
      "\n"
     ]
    },
    {
     "name": "stdout",
     "output_type": "stream",
     "text": [
      "Train -  [0.9618055555555556, 0.9490740740740741, 0.9730661651234568, 0.9618055555555556, tensor(0.7973)]\n",
      "Validation -  [0.4791666666666667, 0.3055555555555556, 0.7795058513374485, 0.4791666666666667, tensor(1.2471)]\n",
      "\n",
      "Epoch  275\n"
     ]
    },
    {
     "name": "stderr",
     "output_type": "stream",
     "text": [
      "9it [00:01,  6.07it/s]"
     ]
    },
    {
     "name": "stdout",
     "output_type": "stream",
     "text": [
      "['acc', 'kappa', 'auc', 'fmeasure', 'loss']\n",
      "Training Loss  0.798324830002255\n"
     ]
    },
    {
     "name": "stderr",
     "output_type": "stream",
     "text": [
      "\n"
     ]
    },
    {
     "name": "stdout",
     "output_type": "stream",
     "text": [
      "Train -  [0.9618055555555556, 0.9490740740740741, 0.9729857896090536, 0.9618055555555556, tensor(0.7976)]\n",
      "Validation -  [0.4861111111111111, 0.31481481481481477, 0.7797630529835391, 0.4861111111111111, tensor(1.2475)]\n",
      "\n",
      "Epoch  276\n"
     ]
    },
    {
     "name": "stderr",
     "output_type": "stream",
     "text": [
      "9it [00:01,  7.22it/s]"
     ]
    },
    {
     "name": "stdout",
     "output_type": "stream",
     "text": [
      "['acc', 'kappa', 'auc', 'fmeasure', 'loss']\n",
      "Training Loss  0.7970944046974182\n"
     ]
    },
    {
     "name": "stderr",
     "output_type": "stream",
     "text": [
      "\n"
     ]
    },
    {
     "name": "stdout",
     "output_type": "stream",
     "text": [
      "Train -  [0.9618055555555556, 0.9490740740740741, 0.973218878600823, 0.9618055555555556, tensor(0.7974)]\n",
      "Validation -  [0.4722222222222222, 0.2962962962962963, 0.7786619084362141, 0.4722222222222222, tensor(1.2483)]\n",
      "\n",
      "Epoch  277\n"
     ]
    },
    {
     "name": "stderr",
     "output_type": "stream",
     "text": [
      "9it [00:01,  7.54it/s]"
     ]
    },
    {
     "name": "stdout",
     "output_type": "stream",
     "text": [
      "['acc', 'kappa', 'auc', 'fmeasure', 'loss']\n",
      "Training Loss  0.7976828482415941\n"
     ]
    },
    {
     "name": "stderr",
     "output_type": "stream",
     "text": [
      "\n"
     ]
    },
    {
     "name": "stdout",
     "output_type": "stream",
     "text": [
      "Train -  [0.9618055555555556, 0.9490740740740741, 0.9729214891975309, 0.9618055555555556, tensor(0.7973)]\n",
      "Validation -  [0.4895833333333333, 0.3194444444444444, 0.7795219264403292, 0.4895833333333333, tensor(1.2446)]\n",
      "\n",
      "Epoch  278\n"
     ]
    },
    {
     "name": "stderr",
     "output_type": "stream",
     "text": [
      "9it [00:01,  7.87it/s]"
     ]
    },
    {
     "name": "stdout",
     "output_type": "stream",
     "text": [
      "['acc', 'kappa', 'auc', 'fmeasure', 'loss']\n",
      "Training Loss  0.7978199985292223\n"
     ]
    },
    {
     "name": "stderr",
     "output_type": "stream",
     "text": [
      "\n"
     ]
    },
    {
     "name": "stdout",
     "output_type": "stream",
     "text": [
      "Train -  [0.9618055555555556, 0.9490740740740741, 0.9730742026748971, 0.9618055555555556, tensor(0.7969)]\n",
      "Validation -  [0.46875, 0.29166666666666663, 0.779079861111111, 0.46875, tensor(1.2528)]\n",
      "\n",
      "Epoch  279\n"
     ]
    },
    {
     "name": "stderr",
     "output_type": "stream",
     "text": [
      "9it [00:01,  7.85it/s]"
     ]
    },
    {
     "name": "stdout",
     "output_type": "stream",
     "text": [
      "['acc', 'kappa', 'auc', 'fmeasure', 'loss']\n",
      "Training Loss  0.7973250216907926\n"
     ]
    },
    {
     "name": "stderr",
     "output_type": "stream",
     "text": [
      "\n"
     ]
    },
    {
     "name": "stdout",
     "output_type": "stream",
     "text": [
      "Train -  [0.9618055555555556, 0.9490740740740741, 0.9728973765432098, 0.9618055555555556, tensor(0.7970)]\n",
      "Validation -  [0.4826388888888889, 0.31018518518518523, 0.7795460390946503, 0.4826388888888889, tensor(1.2474)]\n",
      "\n",
      "Epoch  280\n"
     ]
    },
    {
     "name": "stderr",
     "output_type": "stream",
     "text": [
      "9it [00:00,  9.21it/s]"
     ]
    },
    {
     "name": "stdout",
     "output_type": "stream",
     "text": [
      "['acc', 'kappa', 'auc', 'fmeasure', 'loss']\n",
      "Training Loss  0.7968876825438606\n"
     ]
    },
    {
     "name": "stderr",
     "output_type": "stream",
     "text": [
      "\n"
     ]
    },
    {
     "name": "stdout",
     "output_type": "stream",
     "text": [
      "Train -  [0.9618055555555556, 0.9490740740740741, 0.9732349537037037, 0.9618055555555556, tensor(0.7974)]\n",
      "Validation -  [0.4652777777777778, 0.2870370370370371, 0.7785815329218106, 0.4652777777777778, tensor(1.2488)]\n",
      "\n",
      "Epoch  281\n"
     ]
    },
    {
     "name": "stderr",
     "output_type": "stream",
     "text": [
      "9it [00:01,  7.67it/s]"
     ]
    },
    {
     "name": "stdout",
     "output_type": "stream",
     "text": [
      "['acc', 'kappa', 'auc', 'fmeasure', 'loss']\n",
      "Training Loss  0.7978533506393433\n"
     ]
    },
    {
     "name": "stderr",
     "output_type": "stream",
     "text": [
      "\n"
     ]
    },
    {
     "name": "stdout",
     "output_type": "stream",
     "text": [
      "Train -  [0.9618055555555556, 0.9490740740740741, 0.9730420524691359, 0.9618055555555556, tensor(0.7966)]\n",
      "Validation -  [0.4826388888888889, 0.31018518518518523, 0.7791923868312758, 0.4826388888888889, tensor(1.2469)]\n",
      "\n",
      "Epoch  282\n"
     ]
    },
    {
     "name": "stderr",
     "output_type": "stream",
     "text": [
      "9it [00:00, 10.81it/s]"
     ]
    },
    {
     "name": "stdout",
     "output_type": "stream",
     "text": [
      "['acc', 'kappa', 'auc', 'fmeasure', 'loss']\n",
      "Training Loss  0.7982649670706855\n"
     ]
    },
    {
     "name": "stderr",
     "output_type": "stream",
     "text": [
      "\n"
     ]
    },
    {
     "name": "stdout",
     "output_type": "stream",
     "text": [
      "Train -  [0.9618055555555556, 0.9490740740740741, 0.9730340149176955, 0.9618055555555556, tensor(0.7966)]\n",
      "Validation -  [0.4756944444444444, 0.30092592592592593, 0.7794978137860081, 0.4756944444444444, tensor(1.2503)]\n",
      "\n",
      "Epoch  283\n"
     ]
    },
    {
     "name": "stderr",
     "output_type": "stream",
     "text": [
      "9it [00:00, 10.75it/s]"
     ]
    },
    {
     "name": "stdout",
     "output_type": "stream",
     "text": [
      "['acc', 'kappa', 'auc', 'fmeasure', 'loss']\n",
      "Training Loss  0.7981265452173021\n"
     ]
    },
    {
     "name": "stderr",
     "output_type": "stream",
     "text": [
      "\n"
     ]
    },
    {
     "name": "stdout",
     "output_type": "stream",
     "text": [
      "Train -  [0.9618055555555556, 0.9490740740740741, 0.973194765946502, 0.9618055555555556, tensor(0.7967)]\n",
      "Validation -  [0.46875, 0.29166666666666663, 0.7783886316872428, 0.46875, tensor(1.2483)]\n",
      "\n",
      "Epoch  284\n"
     ]
    },
    {
     "name": "stderr",
     "output_type": "stream",
     "text": [
      "9it [00:00,  9.09it/s]"
     ]
    },
    {
     "name": "stdout",
     "output_type": "stream",
     "text": [
      "['acc', 'kappa', 'auc', 'fmeasure', 'loss']\n",
      "Training Loss  0.7966432174046835\n"
     ]
    },
    {
     "name": "stderr",
     "output_type": "stream",
     "text": [
      "\n"
     ]
    },
    {
     "name": "stdout",
     "output_type": "stream",
     "text": [
      "Train -  [0.9618055555555556, 0.9490740740740741, 0.9729777520576133, 0.9618055555555556, tensor(0.7981)]\n",
      "Validation -  [0.4861111111111111, 0.31481481481481477, 0.7792084619341564, 0.4861111111111111, tensor(1.2453)]\n",
      "\n",
      "Epoch  285\n"
     ]
    },
    {
     "name": "stderr",
     "output_type": "stream",
     "text": [
      "9it [00:01,  8.68it/s]"
     ]
    },
    {
     "name": "stdout",
     "output_type": "stream",
     "text": [
      "['acc', 'kappa', 'auc', 'fmeasure', 'loss']\n",
      "Training Loss  0.7974376546012031\n"
     ]
    },
    {
     "name": "stderr",
     "output_type": "stream",
     "text": [
      "\n"
     ]
    },
    {
     "name": "stdout",
     "output_type": "stream",
     "text": [
      "Train -  [0.9618055555555556, 0.9490740740740741, 0.9731867283950618, 0.9618055555555556, tensor(0.7966)]\n",
      "Validation -  [0.46875, 0.29166666666666663, 0.7783966692386831, 0.46875, tensor(1.2522)]\n",
      "\n",
      "Epoch  286\n"
     ]
    },
    {
     "name": "stderr",
     "output_type": "stream",
     "text": [
      "9it [00:00,  9.01it/s]"
     ]
    },
    {
     "name": "stdout",
     "output_type": "stream",
     "text": [
      "['acc', 'kappa', 'auc', 'fmeasure', 'loss']\n",
      "Training Loss  0.7980965508355035\n"
     ]
    },
    {
     "name": "stderr",
     "output_type": "stream",
     "text": [
      "\n"
     ]
    },
    {
     "name": "stdout",
     "output_type": "stream",
     "text": [
      "Train -  [0.9618055555555556, 0.9490740740740741, 0.9730340149176955, 0.9618055555555556, tensor(0.7967)]\n",
      "Validation -  [0.4826388888888889, 0.31018518518518523, 0.7790637860082305, 0.4826388888888889, tensor(1.2489)]\n",
      "\n",
      "Epoch  287\n"
     ]
    },
    {
     "name": "stderr",
     "output_type": "stream",
     "text": [
      "9it [00:00,  9.66it/s]"
     ]
    },
    {
     "name": "stdout",
     "output_type": "stream",
     "text": [
      "['acc', 'kappa', 'auc', 'fmeasure', 'loss']\n",
      "Training Loss  0.7966542773776584\n"
     ]
    },
    {
     "name": "stderr",
     "output_type": "stream",
     "text": [
      "\n"
     ]
    },
    {
     "name": "stdout",
     "output_type": "stream",
     "text": [
      "Train -  [0.9618055555555556, 0.9490740740740741, 0.9731786908436214, 0.9618055555555556, tensor(0.7973)]\n",
      "Validation -  [0.46875, 0.29166666666666663, 0.7783805941358025, 0.46875, tensor(1.2506)]\n",
      "\n",
      "Epoch  288\n"
     ]
    },
    {
     "name": "stderr",
     "output_type": "stream",
     "text": [
      "9it [00:01,  8.73it/s]"
     ]
    },
    {
     "name": "stdout",
     "output_type": "stream",
     "text": [
      "['acc', 'kappa', 'auc', 'fmeasure', 'loss']\n",
      "Training Loss  0.7971011996269226\n"
     ]
    },
    {
     "name": "stderr",
     "output_type": "stream",
     "text": [
      "\n"
     ]
    },
    {
     "name": "stdout",
     "output_type": "stream",
     "text": [
      "Train -  [0.9618055555555556, 0.9490740740740741, 0.9730500900205761, 0.9618055555555556, tensor(0.7965)]\n",
      "Validation -  [0.4826388888888889, 0.31018518518518523, 0.7790477109053497, 0.4826388888888889, tensor(1.2491)]\n",
      "\n",
      "Epoch  289\n"
     ]
    },
    {
     "name": "stderr",
     "output_type": "stream",
     "text": [
      "9it [00:01,  7.22it/s]"
     ]
    },
    {
     "name": "stdout",
     "output_type": "stream",
     "text": [
      "['acc', 'kappa', 'auc', 'fmeasure', 'loss']\n",
      "Training Loss  0.7965495851304796\n"
     ]
    },
    {
     "name": "stderr",
     "output_type": "stream",
     "text": [
      "\n"
     ]
    },
    {
     "name": "stdout",
     "output_type": "stream",
     "text": [
      "Train -  [0.9618055555555556, 0.9490740740740741, 0.9732349537037037, 0.9618055555555556, tensor(0.7961)]\n",
      "Validation -  [0.4722222222222222, 0.2962962962962963, 0.7782278806584363, 0.4722222222222222, tensor(1.2500)]\n",
      "\n",
      "Epoch  290\n"
     ]
    },
    {
     "name": "stderr",
     "output_type": "stream",
     "text": [
      "9it [00:00,  9.06it/s]"
     ]
    },
    {
     "name": "stdout",
     "output_type": "stream",
     "text": [
      "['acc', 'kappa', 'auc', 'fmeasure', 'loss']\n",
      "Training Loss  0.7960473232799106\n"
     ]
    },
    {
     "name": "stderr",
     "output_type": "stream",
     "text": [
      "\n"
     ]
    },
    {
     "name": "stdout",
     "output_type": "stream",
     "text": [
      "Train -  [0.9618055555555556, 0.9490740740740741, 0.9730420524691358, 0.9618055555555556, tensor(0.7959)]\n",
      "Validation -  [0.4826388888888889, 0.31018518518518523, 0.7791763117283951, 0.4826388888888889, tensor(1.2499)]\n",
      "\n",
      "Epoch  291\n"
     ]
    },
    {
     "name": "stderr",
     "output_type": "stream",
     "text": [
      "9it [00:00,  9.45it/s]"
     ]
    },
    {
     "name": "stdout",
     "output_type": "stream",
     "text": [
      "['acc', 'kappa', 'auc', 'fmeasure', 'loss']\n",
      "Training Loss  0.7958826422691345\n"
     ]
    },
    {
     "name": "stderr",
     "output_type": "stream",
     "text": [
      "\n"
     ]
    },
    {
     "name": "stdout",
     "output_type": "stream",
     "text": [
      "Train -  [0.9618055555555556, 0.9490740740740741, 0.9732028034979424, 0.9618055555555556, tensor(0.7958)]\n",
      "Validation -  [0.4652777777777778, 0.2870370370370371, 0.7782841435185186, 0.4652777777777778, tensor(1.2522)]\n",
      "\n",
      "Epoch  292\n"
     ]
    },
    {
     "name": "stderr",
     "output_type": "stream",
     "text": [
      "9it [00:00, 10.95it/s]"
     ]
    },
    {
     "name": "stdout",
     "output_type": "stream",
     "text": [
      "['acc', 'kappa', 'auc', 'fmeasure', 'loss']\n",
      "Training Loss  0.7961264782481723\n"
     ]
    },
    {
     "name": "stderr",
     "output_type": "stream",
     "text": [
      "\n"
     ]
    },
    {
     "name": "stdout",
     "output_type": "stream",
     "text": [
      "Train -  [0.9618055555555556, 0.9490740740740741, 0.9731143904320988, 0.9618055555555556, tensor(0.7957)]\n",
      "Validation -  [0.4722222222222222, 0.2962962962962963, 0.7783162937242799, 0.4722222222222222, tensor(1.2502)]\n",
      "\n",
      "Epoch  293\n"
     ]
    },
    {
     "name": "stderr",
     "output_type": "stream",
     "text": [
      "9it [00:00,  9.83it/s]"
     ]
    },
    {
     "name": "stdout",
     "output_type": "stream",
     "text": [
      "['acc', 'kappa', 'auc', 'fmeasure', 'loss']\n",
      "Training Loss  0.7966363165113661\n"
     ]
    },
    {
     "name": "stderr",
     "output_type": "stream",
     "text": [
      "\n"
     ]
    },
    {
     "name": "stdout",
     "output_type": "stream",
     "text": [
      "Train -  [0.9618055555555556, 0.9490740740740741, 0.9730259773662552, 0.9618055555555556, tensor(0.7957)]\n",
      "Validation -  [0.4861111111111111, 0.31481481481481477, 0.7783323688271606, 0.4861111111111111, tensor(1.2458)]\n",
      "\n",
      "Epoch  294\n"
     ]
    },
    {
     "name": "stderr",
     "output_type": "stream",
     "text": [
      "9it [00:00,  9.79it/s]"
     ]
    },
    {
     "name": "stdout",
     "output_type": "stream",
     "text": [
      "['acc', 'kappa', 'auc', 'fmeasure', 'loss']\n",
      "Training Loss  0.7959751486778259\n"
     ]
    },
    {
     "name": "stderr",
     "output_type": "stream",
     "text": [
      "\n"
     ]
    },
    {
     "name": "stdout",
     "output_type": "stream",
     "text": [
      "Train -  [0.9618055555555556, 0.9490740740740741, 0.9730420524691358, 0.9618055555555556, tensor(0.7956)]\n",
      "Validation -  [0.4722222222222222, 0.2962962962962963, 0.7786619084362141, 0.4722222222222222, tensor(1.2517)]\n",
      "\n",
      "Epoch  295\n"
     ]
    },
    {
     "name": "stderr",
     "output_type": "stream",
     "text": [
      "9it [00:00, 10.59it/s]"
     ]
    },
    {
     "name": "stdout",
     "output_type": "stream",
     "text": [
      "['acc', 'kappa', 'auc', 'fmeasure', 'loss']\n",
      "Training Loss  0.796075807677375\n"
     ]
    },
    {
     "name": "stderr",
     "output_type": "stream",
     "text": [
      "\n"
     ]
    },
    {
     "name": "stdout",
     "output_type": "stream",
     "text": [
      "Train -  [0.9618055555555556, 0.9490740740740741, 0.9730983153292182, 0.9618055555555556, tensor(0.7956)]\n",
      "Validation -  [0.4791666666666667, 0.3055555555555556, 0.7785011574074074, 0.4791666666666667, tensor(1.2507)]\n",
      "\n",
      "Epoch  296\n"
     ]
    },
    {
     "name": "stderr",
     "output_type": "stream",
     "text": [
      "9it [00:01,  8.31it/s]"
     ]
    },
    {
     "name": "stdout",
     "output_type": "stream",
     "text": [
      "['acc', 'kappa', 'auc', 'fmeasure', 'loss']\n",
      "Training Loss  0.7966095474031236\n"
     ]
    },
    {
     "name": "stderr",
     "output_type": "stream",
     "text": [
      "\n"
     ]
    },
    {
     "name": "stdout",
     "output_type": "stream",
     "text": [
      "Train -  [0.9618055555555556, 0.9490740740740741, 0.9731626157407408, 0.9618055555555556, tensor(0.7954)]\n",
      "Validation -  [0.4722222222222222, 0.2962962962962963, 0.7784690072016461, 0.4722222222222222, tensor(1.2516)]\n",
      "\n",
      "Epoch  297\n"
     ]
    },
    {
     "name": "stderr",
     "output_type": "stream",
     "text": [
      "9it [00:00, 11.64it/s]"
     ]
    },
    {
     "name": "stdout",
     "output_type": "stream",
     "text": [
      "['acc', 'kappa', 'auc', 'fmeasure', 'loss']\n",
      "Training Loss  0.795594698852963\n"
     ]
    },
    {
     "name": "stderr",
     "output_type": "stream",
     "text": [
      "\n"
     ]
    },
    {
     "name": "stdout",
     "output_type": "stream",
     "text": [
      "Train -  [0.9618055555555556, 0.9490740740740741, 0.9731063528806585, 0.9618055555555556, tensor(0.7953)]\n",
      "Validation -  [0.4791666666666667, 0.3055555555555556, 0.7784368569958848, 0.4791666666666667, tensor(1.2491)]\n",
      "\n",
      "Epoch  298\n"
     ]
    },
    {
     "name": "stderr",
     "output_type": "stream",
     "text": [
      "9it [00:00, 10.57it/s]"
     ]
    },
    {
     "name": "stdout",
     "output_type": "stream",
     "text": [
      "['acc', 'kappa', 'auc', 'fmeasure', 'loss']\n",
      "Training Loss  0.7953702211380005\n"
     ]
    },
    {
     "name": "stderr",
     "output_type": "stream",
     "text": [
      "\n"
     ]
    },
    {
     "name": "stdout",
     "output_type": "stream",
     "text": [
      "Train -  [0.9618055555555556, 0.9490740740740741, 0.9732028034979425, 0.9618055555555556, tensor(0.7952)]\n",
      "Validation -  [0.4652777777777778, 0.2870370370370371, 0.7779224537037037, 0.4652777777777778, tensor(1.2533)]\n",
      "\n",
      "Epoch  299\n"
     ]
    },
    {
     "name": "stderr",
     "output_type": "stream",
     "text": [
      "9it [00:00, 11.03it/s]"
     ]
    },
    {
     "name": "stdout",
     "output_type": "stream",
     "text": [
      "['acc', 'kappa', 'auc', 'fmeasure', 'loss']\n",
      "Training Loss  0.7954205671946207\n"
     ]
    },
    {
     "name": "stderr",
     "output_type": "stream",
     "text": [
      "\n"
     ]
    },
    {
     "name": "stdout",
     "output_type": "stream",
     "text": [
      "Train -  [0.9618055555555556, 0.9490740740740741, 0.9731304655349795, 0.9618055555555556, tensor(0.7951)]\n",
      "Validation -  [0.4756944444444444, 0.30092592592592593, 0.7780912422839507, 0.4756944444444444, tensor(1.2507)]\n",
      "\n",
      "Epoch  300\n"
     ]
    },
    {
     "name": "stderr",
     "output_type": "stream",
     "text": [
      "9it [00:01,  8.88it/s]"
     ]
    },
    {
     "name": "stdout",
     "output_type": "stream",
     "text": [
      "['acc', 'kappa', 'auc', 'fmeasure', 'loss']\n",
      "Training Loss  0.7952465348773532\n"
     ]
    },
    {
     "name": "stderr",
     "output_type": "stream",
     "text": [
      "\n"
     ]
    },
    {
     "name": "stdout",
     "output_type": "stream",
     "text": [
      "Train -  [0.9618055555555556, 0.9490740740740741, 0.9731465406378601, 0.9618055555555556, tensor(0.7950)]\n",
      "Validation -  [0.46875, 0.29166666666666663, 0.7782118055555555, 0.46875, tensor(1.2525)]\n",
      "\n",
      "Epoch  301\n"
     ]
    },
    {
     "name": "stderr",
     "output_type": "stream",
     "text": [
      "9it [00:00,  9.37it/s]"
     ]
    },
    {
     "name": "stdout",
     "output_type": "stream",
     "text": [
      "['acc', 'kappa', 'auc', 'fmeasure', 'loss']\n",
      "Training Loss  0.7955657045046488\n"
     ]
    },
    {
     "name": "stderr",
     "output_type": "stream",
     "text": [
      "\n"
     ]
    },
    {
     "name": "stdout",
     "output_type": "stream",
     "text": [
      "Train -  [0.9618055555555556, 0.9490740740740741, 0.9731626157407409, 0.9618055555555556, tensor(0.7951)]\n",
      "Validation -  [0.4652777777777778, 0.2870370370370371, 0.777930491255144, 0.4652777777777778, tensor(1.2527)]\n",
      "\n",
      "Epoch  302\n"
     ]
    },
    {
     "name": "stderr",
     "output_type": "stream",
     "text": [
      "9it [00:00, 10.37it/s]"
     ]
    },
    {
     "name": "stdout",
     "output_type": "stream",
     "text": [
      "['acc', 'kappa', 'auc', 'fmeasure', 'loss']\n",
      "Training Loss  0.7957927253511217\n"
     ]
    },
    {
     "name": "stderr",
     "output_type": "stream",
     "text": [
      "\n"
     ]
    },
    {
     "name": "stdout",
     "output_type": "stream",
     "text": [
      "Train -  [0.9618055555555556, 0.9490740740740741, 0.9731947659465021, 0.9618055555555556, tensor(0.7949)]\n",
      "Validation -  [0.4652777777777778, 0.2870370370370371, 0.7779867541152263, 0.4652777777777778, tensor(1.2540)]\n",
      "\n",
      "Epoch  303\n"
     ]
    },
    {
     "name": "stderr",
     "output_type": "stream",
     "text": [
      "9it [00:01,  8.65it/s]"
     ]
    },
    {
     "name": "stdout",
     "output_type": "stream",
     "text": [
      "['acc', 'kappa', 'auc', 'fmeasure', 'loss']\n",
      "Training Loss  0.7965264783965217\n"
     ]
    },
    {
     "name": "stderr",
     "output_type": "stream",
     "text": [
      "\n"
     ]
    },
    {
     "name": "stdout",
     "output_type": "stream",
     "text": [
      "Train -  [0.9618055555555556, 0.9490740740740741, 0.9732188786008231, 0.9618055555555556, tensor(0.7949)]\n",
      "Validation -  [0.4722222222222222, 0.2962962962962963, 0.7776331018518517, 0.4722222222222222, tensor(1.2476)]\n",
      "\n",
      "Epoch  304\n"
     ]
    },
    {
     "name": "stderr",
     "output_type": "stream",
     "text": [
      "9it [00:01,  7.31it/s]"
     ]
    },
    {
     "name": "stdout",
     "output_type": "stream",
     "text": [
      "['acc', 'kappa', 'auc', 'fmeasure', 'loss']\n",
      "Training Loss  0.7952806287341647\n"
     ]
    },
    {
     "name": "stderr",
     "output_type": "stream",
     "text": [
      "\n"
     ]
    },
    {
     "name": "stdout",
     "output_type": "stream",
     "text": [
      "Train -  [0.9618055555555556, 0.9490740740740741, 0.9731465406378601, 0.9618055555555556, tensor(0.7950)]\n",
      "Validation -  [0.4722222222222222, 0.2962962962962963, 0.7784047067901234, 0.4722222222222222, tensor(1.2537)]\n",
      "\n",
      "Epoch  305\n"
     ]
    },
    {
     "name": "stderr",
     "output_type": "stream",
     "text": [
      "9it [00:01,  8.41it/s]"
     ]
    },
    {
     "name": "stdout",
     "output_type": "stream",
     "text": [
      "['acc', 'kappa', 'auc', 'fmeasure', 'loss']\n",
      "Training Loss  0.7949233651161194\n"
     ]
    },
    {
     "name": "stderr",
     "output_type": "stream",
     "text": [
      "\n"
     ]
    },
    {
     "name": "stdout",
     "output_type": "stream",
     "text": [
      "Train -  [0.9618055555555556, 0.9490740740740741, 0.973218878600823, 0.9618055555555556, tensor(0.7947)]\n",
      "Validation -  [0.4652777777777778, 0.2870370370370371, 0.7775607638888888, 0.4652777777777778, tensor(1.2527)]\n",
      "\n",
      "Epoch  306\n"
     ]
    },
    {
     "name": "stderr",
     "output_type": "stream",
     "text": [
      "9it [00:01,  8.56it/s]"
     ]
    },
    {
     "name": "stdout",
     "output_type": "stream",
     "text": [
      "['acc', 'kappa', 'auc', 'fmeasure', 'loss']\n",
      "Training Loss  0.7963347236315409\n"
     ]
    },
    {
     "name": "stderr",
     "output_type": "stream",
     "text": [
      "\n"
     ]
    },
    {
     "name": "stdout",
     "output_type": "stream",
     "text": [
      "Train -  [0.9618055555555556, 0.9490740740740741, 0.9731224279835391, 0.9618055555555556, tensor(0.7946)]\n",
      "Validation -  [0.4722222222222222, 0.2962962962962963, 0.7777215149176955, 0.4722222222222222, tensor(1.2511)]\n",
      "\n",
      "Epoch  307\n"
     ]
    },
    {
     "name": "stderr",
     "output_type": "stream",
     "text": [
      "9it [00:00, 10.05it/s]"
     ]
    },
    {
     "name": "stdout",
     "output_type": "stream",
     "text": [
      "['acc', 'kappa', 'auc', 'fmeasure', 'loss']\n",
      "Training Loss  0.796070396900177\n"
     ]
    },
    {
     "name": "stderr",
     "output_type": "stream",
     "text": [
      "\n"
     ]
    },
    {
     "name": "stdout",
     "output_type": "stream",
     "text": [
      "Train -  [0.9618055555555556, 0.9490740740740741, 0.9731626157407408, 0.9618055555555556, tensor(0.7946)]\n",
      "Validation -  [0.46875, 0.29166666666666663, 0.7774482381687243, 0.46875, tensor(1.2527)]\n",
      "\n",
      "Epoch  308\n"
     ]
    },
    {
     "name": "stderr",
     "output_type": "stream",
     "text": [
      "9it [00:01,  7.14it/s]"
     ]
    },
    {
     "name": "stdout",
     "output_type": "stream",
     "text": [
      "['acc', 'kappa', 'auc', 'fmeasure', 'loss']\n",
      "Training Loss  0.7951021194458008\n"
     ]
    },
    {
     "name": "stderr",
     "output_type": "stream",
     "text": [
      "\n"
     ]
    },
    {
     "name": "stdout",
     "output_type": "stream",
     "text": [
      "Train -  [0.9618055555555556, 0.9490740740740741, 0.9731304655349794, 0.9618055555555556, tensor(0.7945)]\n",
      "Validation -  [0.4722222222222222, 0.2962962962962963, 0.7775688014403291, 0.4722222222222222, tensor(1.2526)]\n",
      "\n",
      "Epoch  309\n"
     ]
    },
    {
     "name": "stderr",
     "output_type": "stream",
     "text": [
      "9it [00:00,  9.06it/s]"
     ]
    },
    {
     "name": "stdout",
     "output_type": "stream",
     "text": [
      "['acc', 'kappa', 'auc', 'fmeasure', 'loss']\n",
      "Training Loss  0.7953044176101685\n"
     ]
    },
    {
     "name": "stderr",
     "output_type": "stream",
     "text": [
      "\n"
     ]
    },
    {
     "name": "stdout",
     "output_type": "stream",
     "text": [
      "Train -  [0.9618055555555556, 0.9490740740740741, 0.9731706532921811, 0.9618055555555556, tensor(0.7945)]\n",
      "Validation -  [0.4791666666666667, 0.3055555555555556, 0.7777134773662552, 0.4791666666666667, tensor(1.2506)]\n",
      "\n",
      "Epoch  310\n"
     ]
    },
    {
     "name": "stderr",
     "output_type": "stream",
     "text": [
      "9it [00:01,  7.02it/s]"
     ]
    },
    {
     "name": "stdout",
     "output_type": "stream",
     "text": [
      "['acc', 'kappa', 'auc', 'fmeasure', 'loss']\n",
      "Training Loss  0.7948393821716309\n"
     ]
    },
    {
     "name": "stderr",
     "output_type": "stream",
     "text": [
      "\n"
     ]
    },
    {
     "name": "stdout",
     "output_type": "stream",
     "text": [
      "Train -  [0.9618055555555556, 0.9490740740740741, 0.9731786908436215, 0.9618055555555556, tensor(0.7944)]\n",
      "Validation -  [0.4756944444444444, 0.30092592592592593, 0.7777617026748971, 0.4756944444444444, tensor(1.2529)]\n",
      "\n",
      "Epoch  311\n"
     ]
    },
    {
     "name": "stderr",
     "output_type": "stream",
     "text": [
      "9it [00:01,  8.69it/s]"
     ]
    },
    {
     "name": "stdout",
     "output_type": "stream",
     "text": [
      "['acc', 'kappa', 'auc', 'fmeasure', 'loss']\n",
      "Training Loss  0.7963044908311632\n"
     ]
    },
    {
     "name": "stderr",
     "output_type": "stream",
     "text": [
      "\n"
     ]
    },
    {
     "name": "stdout",
     "output_type": "stream",
     "text": [
      "Train -  [0.9618055555555556, 0.9490740740740741, 0.9731626157407408, 0.9618055555555556, tensor(0.7944)]\n",
      "Validation -  [0.4756944444444444, 0.30092592592592593, 0.7774803883744856, 0.4756944444444444, tensor(1.2513)]\n",
      "\n",
      "Epoch  312\n"
     ]
    },
    {
     "name": "stderr",
     "output_type": "stream",
     "text": [
      "9it [00:01,  7.72it/s]"
     ]
    },
    {
     "name": "stdout",
     "output_type": "stream",
     "text": [
      "['acc', 'kappa', 'auc', 'fmeasure', 'loss']\n",
      "Training Loss  0.7953511277834574\n"
     ]
    },
    {
     "name": "stderr",
     "output_type": "stream",
     "text": [
      "\n"
     ]
    },
    {
     "name": "stdout",
     "output_type": "stream",
     "text": [
      "Train -  [0.9618055555555556, 0.9490740740740741, 0.9731947659465021, 0.9618055555555556, tensor(0.7942)]\n",
      "Validation -  [0.46875, 0.29166666666666663, 0.7773759002057613, 0.46875, tensor(1.2539)]\n",
      "\n",
      "Epoch  313\n"
     ]
    },
    {
     "name": "stderr",
     "output_type": "stream",
     "text": [
      "9it [00:01,  6.93it/s]"
     ]
    },
    {
     "name": "stdout",
     "output_type": "stream",
     "text": [
      "['acc', 'kappa', 'auc', 'fmeasure', 'loss']\n",
      "Training Loss  0.7945634855164422\n"
     ]
    },
    {
     "name": "stderr",
     "output_type": "stream",
     "text": [
      "\n"
     ]
    },
    {
     "name": "stdout",
     "output_type": "stream",
     "text": [
      "Train -  [0.9618055555555556, 0.9490740740740741, 0.973242991255144, 0.9618055555555556, tensor(0.7942)]\n",
      "Validation -  [0.4652777777777778, 0.2870370370370371, 0.7773839377572017, 0.4652777777777778, tensor(1.2520)]\n",
      "\n",
      "Epoch  314\n"
     ]
    },
    {
     "name": "stderr",
     "output_type": "stream",
     "text": [
      "9it [00:01,  7.62it/s]"
     ]
    },
    {
     "name": "stdout",
     "output_type": "stream",
     "text": [
      "['acc', 'kappa', 'auc', 'fmeasure', 'loss']\n",
      "Training Loss  0.7943627105818855\n"
     ]
    },
    {
     "name": "stderr",
     "output_type": "stream",
     "text": [
      "\n"
     ]
    },
    {
     "name": "stdout",
     "output_type": "stream",
     "text": [
      "Train -  [0.9618055555555556, 0.9490740740740741, 0.9730742026748971, 0.9618055555555556, tensor(0.7943)]\n",
      "Validation -  [0.4756944444444444, 0.30092592592592593, 0.7777938528806585, 0.4756944444444444, tensor(1.2519)]\n",
      "\n",
      "Epoch  315\n"
     ]
    },
    {
     "name": "stderr",
     "output_type": "stream",
     "text": [
      "9it [00:01,  8.86it/s]"
     ]
    },
    {
     "name": "stdout",
     "output_type": "stream",
     "text": [
      "['acc', 'kappa', 'auc', 'fmeasure', 'loss']\n",
      "Training Loss  0.7943903009096781\n"
     ]
    },
    {
     "name": "stderr",
     "output_type": "stream",
     "text": [
      "\n"
     ]
    },
    {
     "name": "stdout",
     "output_type": "stream",
     "text": [
      "Train -  [0.9618055555555556, 0.9490740740740741, 0.9732269161522634, 0.9618055555555556, tensor(0.7941)]\n",
      "Validation -  [0.46875, 0.29166666666666663, 0.7772955246913581, 0.46875, tensor(1.2554)]\n",
      "\n",
      "Epoch  316\n"
     ]
    },
    {
     "name": "stderr",
     "output_type": "stream",
     "text": [
      "9it [00:00,  9.41it/s]"
     ]
    },
    {
     "name": "stdout",
     "output_type": "stream",
     "text": [
      "['acc', 'kappa', 'auc', 'fmeasure', 'loss']\n",
      "Training Loss  0.7943145765198601\n"
     ]
    },
    {
     "name": "stderr",
     "output_type": "stream",
     "text": [
      "\n"
     ]
    },
    {
     "name": "stdout",
     "output_type": "stream",
     "text": [
      "Train -  [0.9618055555555556, 0.9490740740740741, 0.9731626157407407, 0.9618055555555556, tensor(0.7940)]\n",
      "Validation -  [0.4722222222222222, 0.2962962962962963, 0.7775768389917695, 0.4722222222222222, tensor(1.2540)]\n",
      "\n",
      "Epoch  317\n"
     ]
    },
    {
     "name": "stderr",
     "output_type": "stream",
     "text": [
      "9it [00:01,  7.43it/s]"
     ]
    },
    {
     "name": "stdout",
     "output_type": "stream",
     "text": [
      "['acc', 'kappa', 'auc', 'fmeasure', 'loss']\n",
      "Training Loss  0.7947086360719469\n"
     ]
    },
    {
     "name": "stderr",
     "output_type": "stream",
     "text": [
      "\n"
     ]
    },
    {
     "name": "stdout",
     "output_type": "stream",
     "text": [
      "Train -  [0.9618055555555556, 0.9490740740740741, 0.9732590663580246, 0.9618055555555556, tensor(0.7940)]\n",
      "Validation -  [0.4618055555555556, 0.28240740740740744, 0.7769499099794239, 0.4618055555555556, tensor(1.2534)]\n",
      "\n",
      "Epoch  318\n"
     ]
    },
    {
     "name": "stderr",
     "output_type": "stream",
     "text": [
      "9it [00:00,  9.14it/s]"
     ]
    },
    {
     "name": "stdout",
     "output_type": "stream",
     "text": [
      "['acc', 'kappa', 'auc', 'fmeasure', 'loss']\n",
      "Training Loss  0.7950211101108127\n"
     ]
    },
    {
     "name": "stderr",
     "output_type": "stream",
     "text": [
      "\n"
     ]
    },
    {
     "name": "stdout",
     "output_type": "stream",
     "text": [
      "Train -  [0.9618055555555556, 0.9490740740740741, 0.9731465406378601, 0.9618055555555556, tensor(0.7940)]\n",
      "Validation -  [0.4722222222222222, 0.2962962962962963, 0.7776089891975309, 0.4722222222222222, tensor(1.2547)]\n",
      "\n",
      "Epoch  319\n"
     ]
    },
    {
     "name": "stderr",
     "output_type": "stream",
     "text": [
      "9it [00:01,  6.35it/s]"
     ]
    },
    {
     "name": "stdout",
     "output_type": "stream",
     "text": [
      "['acc', 'kappa', 'auc', 'fmeasure', 'loss']\n",
      "Training Loss  0.794357591205173\n"
     ]
    },
    {
     "name": "stderr",
     "output_type": "stream",
     "text": [
      "\n"
     ]
    },
    {
     "name": "stdout",
     "output_type": "stream",
     "text": [
      "Train -  [0.9618055555555556, 0.9490740740740741, 0.9732590663580247, 0.9618055555555556, tensor(0.7940)]\n",
      "Validation -  [0.46875, 0.29166666666666663, 0.7766364454732511, 0.46875, tensor(1.2521)]\n",
      "\n",
      "Epoch  320\n"
     ]
    },
    {
     "name": "stderr",
     "output_type": "stream",
     "text": [
      "9it [00:01,  5.86it/s]"
     ]
    },
    {
     "name": "stdout",
     "output_type": "stream",
     "text": [
      "['acc', 'kappa', 'auc', 'fmeasure', 'loss']\n",
      "Training Loss  0.7944040364689298\n"
     ]
    },
    {
     "name": "stderr",
     "output_type": "stream",
     "text": [
      "\n"
     ]
    },
    {
     "name": "stdout",
     "output_type": "stream",
     "text": [
      "Train -  [0.9618055555555556, 0.9490740740740741, 0.9731706532921811, 0.9618055555555556, tensor(0.7941)]\n",
      "Validation -  [0.4722222222222222, 0.2962962962962963, 0.7771749614197532, 0.4722222222222222, tensor(1.2527)]\n",
      "\n",
      "Epoch  321\n"
     ]
    },
    {
     "name": "stderr",
     "output_type": "stream",
     "text": [
      "9it [00:01,  6.96it/s]"
     ]
    },
    {
     "name": "stdout",
     "output_type": "stream",
     "text": [
      "['acc', 'kappa', 'auc', 'fmeasure', 'loss']\n",
      "Training Loss  0.7944172885682848\n"
     ]
    },
    {
     "name": "stderr",
     "output_type": "stream",
     "text": [
      "\n"
     ]
    },
    {
     "name": "stdout",
     "output_type": "stream",
     "text": [
      "Train -  [0.9618055555555556, 0.9490740740740741, 0.9731706532921811, 0.9618055555555556, tensor(0.7939)]\n",
      "Validation -  [0.46875, 0.29166666666666663, 0.777440200617284, 0.46875, tensor(1.2576)]\n",
      "\n",
      "Epoch  322\n"
     ]
    },
    {
     "name": "stderr",
     "output_type": "stream",
     "text": [
      "9it [00:01,  7.60it/s]"
     ]
    },
    {
     "name": "stdout",
     "output_type": "stream",
     "text": [
      "['acc', 'kappa', 'auc', 'fmeasure', 'loss']\n",
      "Training Loss  0.7937903470463223\n"
     ]
    },
    {
     "name": "stderr",
     "output_type": "stream",
     "text": [
      "\n"
     ]
    },
    {
     "name": "stdout",
     "output_type": "stream",
     "text": [
      "Train -  [0.9618055555555556, 0.9490740740740741, 0.9733314043209877, 0.9618055555555556, tensor(0.7940)]\n",
      "Validation -  [0.4618055555555556, 0.28240740740740744, 0.7764515817901235, 0.4618055555555556, tensor(1.2531)]\n",
      "\n",
      "Epoch  323\n"
     ]
    },
    {
     "name": "stderr",
     "output_type": "stream",
     "text": [
      "9it [00:01,  6.93it/s]"
     ]
    },
    {
     "name": "stdout",
     "output_type": "stream",
     "text": [
      "['acc', 'kappa', 'auc', 'fmeasure', 'loss']\n",
      "Training Loss  0.7946296201811897\n"
     ]
    },
    {
     "name": "stderr",
     "output_type": "stream",
     "text": [
      "\n"
     ]
    },
    {
     "name": "stdout",
     "output_type": "stream",
     "text": [
      "Train -  [0.9618055555555556, 0.9490740740740741, 0.9731545781893004, 0.9618055555555556, tensor(0.7938)]\n",
      "Validation -  [0.4756944444444444, 0.30092592592592593, 0.777247299382716, 0.4756944444444444, tensor(1.2507)]\n",
      "\n",
      "Epoch  324\n"
     ]
    },
    {
     "name": "stderr",
     "output_type": "stream",
     "text": [
      "9it [00:01,  7.24it/s]"
     ]
    },
    {
     "name": "stdout",
     "output_type": "stream",
     "text": [
      "['acc', 'kappa', 'auc', 'fmeasure', 'loss']\n",
      "Training Loss  0.7940719525019327\n"
     ]
    },
    {
     "name": "stderr",
     "output_type": "stream",
     "text": [
      "\n"
     ]
    },
    {
     "name": "stdout",
     "output_type": "stream",
     "text": [
      "Train -  [0.9618055555555556, 0.9490740740740741, 0.9732349537037037, 0.9618055555555556, tensor(0.7937)]\n",
      "Validation -  [0.4618055555555556, 0.28240740740740744, 0.7766364454732511, 0.4618055555555556, tensor(1.2563)]\n",
      "\n",
      "Epoch  325\n"
     ]
    },
    {
     "name": "stderr",
     "output_type": "stream",
     "text": [
      "9it [00:01,  6.72it/s]"
     ]
    },
    {
     "name": "stdout",
     "output_type": "stream",
     "text": [
      "['acc', 'kappa', 'auc', 'fmeasure', 'loss']\n",
      "Training Loss  0.794237474600474\n"
     ]
    },
    {
     "name": "stderr",
     "output_type": "stream",
     "text": [
      "\n"
     ]
    },
    {
     "name": "stdout",
     "output_type": "stream",
     "text": [
      "Train -  [0.9618055555555556, 0.9490740740740741, 0.9731304655349795, 0.9618055555555556, tensor(0.7936)]\n",
      "Validation -  [0.46875, 0.29166666666666663, 0.7771267361111112, 0.46875, tensor(1.2565)]\n",
      "\n",
      "Epoch  326\n"
     ]
    },
    {
     "name": "stderr",
     "output_type": "stream",
     "text": [
      "9it [00:01,  6.79it/s]"
     ]
    },
    {
     "name": "stdout",
     "output_type": "stream",
     "text": [
      "['acc', 'kappa', 'auc', 'fmeasure', 'loss']\n",
      "Training Loss  0.7938606805271573\n"
     ]
    },
    {
     "name": "stderr",
     "output_type": "stream",
     "text": [
      "\n"
     ]
    },
    {
     "name": "stdout",
     "output_type": "stream",
     "text": [
      "Train -  [0.9618055555555556, 0.9490740740740741, 0.9731545781893004, 0.9618055555555556, tensor(0.7935)]\n",
      "Validation -  [0.4722222222222222, 0.2962962962962963, 0.7769097222222221, 0.4722222222222222, tensor(1.2522)]\n",
      "\n",
      "Epoch  327\n"
     ]
    },
    {
     "name": "stderr",
     "output_type": "stream",
     "text": [
      "9it [00:01,  8.09it/s]"
     ]
    },
    {
     "name": "stdout",
     "output_type": "stream",
     "text": [
      "['acc', 'kappa', 'auc', 'fmeasure', 'loss']\n",
      "Training Loss  0.7941379149754842\n"
     ]
    },
    {
     "name": "stderr",
     "output_type": "stream",
     "text": [
      "\n"
     ]
    },
    {
     "name": "stdout",
     "output_type": "stream",
     "text": [
      "Train -  [0.9618055555555556, 0.9490740740740741, 0.9731786908436214, 0.9618055555555556, tensor(0.7935)]\n",
      "Validation -  [0.4652777777777778, 0.2870370370370371, 0.7769740226337449, 0.4652777777777778, tensor(1.2540)]\n",
      "\n",
      "Epoch  328\n"
     ]
    },
    {
     "name": "stderr",
     "output_type": "stream",
     "text": [
      "9it [00:01,  8.24it/s]"
     ]
    },
    {
     "name": "stdout",
     "output_type": "stream",
     "text": [
      "['acc', 'kappa', 'auc', 'fmeasure', 'loss']\n",
      "Training Loss  0.7936940524313185\n"
     ]
    },
    {
     "name": "stderr",
     "output_type": "stream",
     "text": [
      "\n"
     ]
    },
    {
     "name": "stdout",
     "output_type": "stream",
     "text": [
      "Train -  [0.9618055555555556, 0.9490740740740741, 0.9731626157407408, 0.9618055555555556, tensor(0.7934)]\n",
      "Validation -  [0.46875, 0.29166666666666663, 0.7766284079218108, 0.46875, tensor(1.2579)]\n",
      "\n",
      "Epoch  329\n"
     ]
    },
    {
     "name": "stderr",
     "output_type": "stream",
     "text": [
      "9it [00:00, 10.51it/s]"
     ]
    },
    {
     "name": "stdout",
     "output_type": "stream",
     "text": [
      "['acc', 'kappa', 'auc', 'fmeasure', 'loss']\n",
      "Training Loss  0.7936307456758287\n"
     ]
    },
    {
     "name": "stderr",
     "output_type": "stream",
     "text": [
      "\n"
     ]
    },
    {
     "name": "stdout",
     "output_type": "stream",
     "text": [
      "Train -  [0.9618055555555556, 0.9490740740740741, 0.9731706532921811, 0.9618055555555556, tensor(0.7934)]\n",
      "Validation -  [0.4756944444444444, 0.30092592592592593, 0.7769740226337448, 0.4756944444444444, tensor(1.2522)]\n",
      "\n",
      "Epoch  330\n"
     ]
    },
    {
     "name": "stderr",
     "output_type": "stream",
     "text": [
      "9it [00:01,  8.92it/s]"
     ]
    },
    {
     "name": "stdout",
     "output_type": "stream",
     "text": [
      "['acc', 'kappa', 'auc', 'fmeasure', 'loss']\n",
      "Training Loss  0.7941708697213067\n"
     ]
    },
    {
     "name": "stderr",
     "output_type": "stream",
     "text": [
      "\n"
     ]
    },
    {
     "name": "stdout",
     "output_type": "stream",
     "text": [
      "Train -  [0.9618055555555556, 0.9490740740740741, 0.973267103909465, 0.9618055555555556, tensor(0.7932)]\n",
      "Validation -  [0.4756944444444444, 0.30092592592592593, 0.7766605581275721, 0.4756944444444444, tensor(1.2508)]\n",
      "\n",
      "Epoch  331\n"
     ]
    },
    {
     "name": "stderr",
     "output_type": "stream",
     "text": [
      "9it [00:00,  9.25it/s]"
     ]
    },
    {
     "name": "stdout",
     "output_type": "stream",
     "text": [
      "['acc', 'kappa', 'auc', 'fmeasure', 'loss']\n",
      "Training Loss  0.7937512927585177\n"
     ]
    },
    {
     "name": "stderr",
     "output_type": "stream",
     "text": [
      "\n"
     ]
    },
    {
     "name": "stdout",
     "output_type": "stream",
     "text": [
      "Train -  [0.9618055555555556, 0.9490740740740741, 0.97314654063786, 0.9618055555555556, tensor(0.7932)]\n",
      "Validation -  [0.46875, 0.29166666666666663, 0.7765801826131686, 0.46875, tensor(1.2582)]\n",
      "\n",
      "Epoch  332\n"
     ]
    },
    {
     "name": "stderr",
     "output_type": "stream",
     "text": [
      "9it [00:01,  6.60it/s]"
     ]
    },
    {
     "name": "stdout",
     "output_type": "stream",
     "text": [
      "['acc', 'kappa', 'auc', 'fmeasure', 'loss']\n",
      "Training Loss  0.7933847771750556\n"
     ]
    },
    {
     "name": "stderr",
     "output_type": "stream",
     "text": [
      "\n"
     ]
    },
    {
     "name": "stdout",
     "output_type": "stream",
     "text": [
      "Train -  [0.9618055555555556, 0.9490740740740741, 0.9732108410493828, 0.9618055555555556, tensor(0.7932)]\n",
      "Validation -  [0.4618055555555556, 0.28240740740740744, 0.7760898919753085, 0.4618055555555556, tensor(1.2594)]\n",
      "\n",
      "Epoch  333\n"
     ]
    },
    {
     "name": "stderr",
     "output_type": "stream",
     "text": [
      "9it [00:01,  7.01it/s]"
     ]
    },
    {
     "name": "stdout",
     "output_type": "stream",
     "text": [
      "['acc', 'kappa', 'auc', 'fmeasure', 'loss']\n",
      "Training Loss  0.7933144436942207\n"
     ]
    },
    {
     "name": "stderr",
     "output_type": "stream",
     "text": [
      "\n"
     ]
    },
    {
     "name": "stdout",
     "output_type": "stream",
     "text": [
      "Train -  [0.9618055555555556, 0.9490740740740741, 0.973315329218107, 0.9618055555555556, tensor(0.7931)]\n",
      "Validation -  [0.4722222222222222, 0.2962962962962963, 0.7767007458847737, 0.4722222222222222, tensor(1.2513)]\n",
      "\n",
      "Epoch  334\n"
     ]
    },
    {
     "name": "stderr",
     "output_type": "stream",
     "text": [
      "9it [00:01,  7.98it/s]"
     ]
    },
    {
     "name": "stdout",
     "output_type": "stream",
     "text": [
      "['acc', 'kappa', 'auc', 'fmeasure', 'loss']\n",
      "Training Loss  0.7933268017239041\n"
     ]
    },
    {
     "name": "stderr",
     "output_type": "stream",
     "text": [
      "\n"
     ]
    },
    {
     "name": "stdout",
     "output_type": "stream",
     "text": [
      "Train -  [0.9618055555555556, 0.9490740740740741, 0.9732590663580247, 0.9618055555555556, tensor(0.7930)]\n",
      "Validation -  [0.4722222222222222, 0.2962962962962963, 0.7766284079218106, 0.4722222222222222, tensor(1.2535)]\n",
      "\n",
      "Epoch  335\n"
     ]
    },
    {
     "name": "stderr",
     "output_type": "stream",
     "text": [
      "9it [00:01,  6.36it/s]"
     ]
    },
    {
     "name": "stdout",
     "output_type": "stream",
     "text": [
      "['acc', 'kappa', 'auc', 'fmeasure', 'loss']\n",
      "Training Loss  0.7931215564409891\n"
     ]
    },
    {
     "name": "stderr",
     "output_type": "stream",
     "text": [
      "\n"
     ]
    },
    {
     "name": "stdout",
     "output_type": "stream",
     "text": [
      "Train -  [0.9618055555555556, 0.9490740740740741, 0.9732349537037037, 0.9618055555555556, tensor(0.7930)]\n",
      "Validation -  [0.46875, 0.29166666666666663, 0.7763470936213991, 0.46875, tensor(1.2597)]\n",
      "\n",
      "Epoch  336\n"
     ]
    },
    {
     "name": "stderr",
     "output_type": "stream",
     "text": [
      "9it [00:01,  5.62it/s]"
     ]
    },
    {
     "name": "stdout",
     "output_type": "stream",
     "text": [
      "['acc', 'kappa', 'auc', 'fmeasure', 'loss']\n",
      "Training Loss  0.793394558959537\n"
     ]
    },
    {
     "name": "stderr",
     "output_type": "stream",
     "text": [
      "\n"
     ]
    },
    {
     "name": "stdout",
     "output_type": "stream",
     "text": [
      "Train -  [0.9618055555555556, 0.9490740740740741, 0.9731947659465021, 0.9618055555555556, tensor(0.7929)]\n",
      "Validation -  [0.46875, 0.29166666666666663, 0.7766766332304527, 0.46875, tensor(1.2563)]\n",
      "\n",
      "Epoch  337\n"
     ]
    },
    {
     "name": "stderr",
     "output_type": "stream",
     "text": [
      "9it [00:01,  5.35it/s]"
     ]
    },
    {
     "name": "stdout",
     "output_type": "stream",
     "text": [
      "['acc', 'kappa', 'auc', 'fmeasure', 'loss']\n",
      "Training Loss  0.7933403054873148\n"
     ]
    },
    {
     "name": "stderr",
     "output_type": "stream",
     "text": [
      "\n"
     ]
    },
    {
     "name": "stdout",
     "output_type": "stream",
     "text": [
      "Train -  [0.9618055555555556, 0.9490740740740741, 0.9733314043209877, 0.9618055555555556, tensor(0.7930)]\n",
      "Validation -  [0.4583333333333333, 0.2777777777777778, 0.7758487654320988, 0.4583333333333333, tensor(1.2570)]\n",
      "\n",
      "Epoch  338\n"
     ]
    },
    {
     "name": "stderr",
     "output_type": "stream",
     "text": [
      "9it [00:01,  6.14it/s]"
     ]
    },
    {
     "name": "stdout",
     "output_type": "stream",
     "text": [
      "['acc', 'kappa', 'auc', 'fmeasure', 'loss']\n",
      "Training Loss  0.7942340042856004\n"
     ]
    },
    {
     "name": "stderr",
     "output_type": "stream",
     "text": [
      "\n"
     ]
    },
    {
     "name": "stdout",
     "output_type": "stream",
     "text": [
      "Train -  [0.9618055555555556, 0.9490740740740741, 0.9732028034979424, 0.9618055555555556, tensor(0.7931)]\n",
      "Validation -  [0.4756944444444444, 0.30092592592592593, 0.7768614969135802, 0.4756944444444444, tensor(1.2518)]\n",
      "\n",
      "Epoch  339\n"
     ]
    },
    {
     "name": "stderr",
     "output_type": "stream",
     "text": [
      "9it [00:01,  5.87it/s]"
     ]
    },
    {
     "name": "stdout",
     "output_type": "stream",
     "text": [
      "['acc', 'kappa', 'auc', 'fmeasure', 'loss']\n",
      "Training Loss  0.793713841173384\n"
     ]
    },
    {
     "name": "stderr",
     "output_type": "stream",
     "text": [
      "\n"
     ]
    },
    {
     "name": "stdout",
     "output_type": "stream",
     "text": [
      "Train -  [0.9618055555555556, 0.9490740740740741, 0.9732992541152264, 0.9618055555555556, tensor(0.7928)]\n",
      "Validation -  [0.4618055555555556, 0.28240740740740744, 0.7759693287037037, 0.4618055555555556, tensor(1.2574)]\n",
      "\n",
      "Epoch  340\n"
     ]
    },
    {
     "name": "stderr",
     "output_type": "stream",
     "text": [
      "9it [00:01,  7.18it/s]"
     ]
    },
    {
     "name": "stdout",
     "output_type": "stream",
     "text": [
      "['acc', 'kappa', 'auc', 'fmeasure', 'loss']\n",
      "Training Loss  0.7935040791829427\n"
     ]
    },
    {
     "name": "stderr",
     "output_type": "stream",
     "text": [
      "\n"
     ]
    },
    {
     "name": "stdout",
     "output_type": "stream",
     "text": [
      "Train -  [0.9618055555555556, 0.9490740740740741, 0.973291216563786, 0.9618055555555556, tensor(0.7927)]\n",
      "Validation -  [0.46875, 0.29166666666666663, 0.7765721450617284, 0.46875, tensor(1.2604)]\n",
      "\n",
      "Epoch  341\n"
     ]
    },
    {
     "name": "stderr",
     "output_type": "stream",
     "text": [
      "9it [00:01,  4.86it/s]"
     ]
    },
    {
     "name": "stdout",
     "output_type": "stream",
     "text": [
      "['acc', 'kappa', 'auc', 'fmeasure', 'loss']\n",
      "Training Loss  0.7929814524120755\n"
     ]
    },
    {
     "name": "stderr",
     "output_type": "stream",
     "text": [
      "\n"
     ]
    },
    {
     "name": "stdout",
     "output_type": "stream",
     "text": [
      "Train -  [0.9618055555555556, 0.9490740740740741, 0.9732831790123456, 0.9618055555555556, tensor(0.7927)]\n",
      "Validation -  [0.4652777777777778, 0.2870370370370371, 0.7759291409465021, 0.4652777777777778, tensor(1.2527)]\n",
      "\n",
      "Epoch  342\n"
     ]
    },
    {
     "name": "stderr",
     "output_type": "stream",
     "text": [
      "9it [00:01,  6.20it/s]"
     ]
    },
    {
     "name": "stdout",
     "output_type": "stream",
     "text": [
      "['acc', 'kappa', 'auc', 'fmeasure', 'loss']\n",
      "Training Loss  0.7929611073599921\n"
     ]
    },
    {
     "name": "stderr",
     "output_type": "stream",
     "text": [
      "\n"
     ]
    },
    {
     "name": "stdout",
     "output_type": "stream",
     "text": [
      "Train -  [0.9618055555555556, 0.9490740740740741, 0.9732269161522634, 0.9618055555555556, tensor(0.7926)]\n",
      "Validation -  [0.46875, 0.29166666666666663, 0.7764194315843621, 0.46875, tensor(1.2574)]\n",
      "\n",
      "Epoch  343\n"
     ]
    },
    {
     "name": "stderr",
     "output_type": "stream",
     "text": [
      "9it [00:01,  6.35it/s]"
     ]
    },
    {
     "name": "stdout",
     "output_type": "stream",
     "text": [
      "['acc', 'kappa', 'auc', 'fmeasure', 'loss']\n",
      "Training Loss  0.7926583488782247\n"
     ]
    },
    {
     "name": "stderr",
     "output_type": "stream",
     "text": [
      "\n"
     ]
    },
    {
     "name": "stdout",
     "output_type": "stream",
     "text": [
      "Train -  [0.9618055555555556, 0.9490740740740741, 0.9732269161522634, 0.9618055555555556, tensor(0.7925)]\n",
      "Validation -  [0.4618055555555556, 0.28240740740740744, 0.7761622299382716, 0.4618055555555556, tensor(1.2578)]\n",
      "\n",
      "Epoch  344\n"
     ]
    },
    {
     "name": "stderr",
     "output_type": "stream",
     "text": [
      "9it [00:01,  8.33it/s]"
     ]
    },
    {
     "name": "stdout",
     "output_type": "stream",
     "text": [
      "['acc', 'kappa', 'auc', 'fmeasure', 'loss']\n",
      "Training Loss  0.7926262087292142\n"
     ]
    },
    {
     "name": "stderr",
     "output_type": "stream",
     "text": [
      "\n"
     ]
    },
    {
     "name": "stdout",
     "output_type": "stream",
     "text": [
      "Train -  [0.9618055555555556, 0.9490740740740741, 0.9733072916666666, 0.9618055555555556, tensor(0.7925)]\n",
      "Validation -  [0.4652777777777778, 0.2870370370370371, 0.7759854038065843, 0.4652777777777778, tensor(1.2556)]\n",
      "\n",
      "Epoch  345\n"
     ]
    },
    {
     "name": "stderr",
     "output_type": "stream",
     "text": [
      "9it [00:01,  5.58it/s]"
     ]
    },
    {
     "name": "stdout",
     "output_type": "stream",
     "text": [
      "['acc', 'kappa', 'auc', 'fmeasure', 'loss']\n",
      "Training Loss  0.7925877703560723\n"
     ]
    },
    {
     "name": "stderr",
     "output_type": "stream",
     "text": [
      "\n"
     ]
    },
    {
     "name": "stdout",
     "output_type": "stream",
     "text": [
      "Train -  [0.9618055555555556, 0.9490740740740741, 0.9732751414609053, 0.9618055555555556, tensor(0.7924)]\n",
      "Validation -  [0.46875, 0.29166666666666663, 0.7762426054526749, 0.46875, tensor(1.2547)]\n",
      "\n",
      "Epoch  346\n"
     ]
    },
    {
     "name": "stderr",
     "output_type": "stream",
     "text": [
      "9it [00:01,  7.23it/s]"
     ]
    },
    {
     "name": "stdout",
     "output_type": "stream",
     "text": [
      "['acc', 'kappa', 'auc', 'fmeasure', 'loss']\n",
      "Training Loss  0.7932029962539673\n"
     ]
    },
    {
     "name": "stderr",
     "output_type": "stream",
     "text": [
      "\n"
     ]
    },
    {
     "name": "stdout",
     "output_type": "stream",
     "text": [
      "Train -  [0.9618055555555556, 0.9490740740740741, 0.9733072916666666, 0.9618055555555556, tensor(0.7925)]\n",
      "Validation -  [0.4583333333333333, 0.2777777777777778, 0.7756478266460904, 0.4583333333333333, tensor(1.2587)]\n",
      "\n",
      "Epoch  347\n"
     ]
    },
    {
     "name": "stderr",
     "output_type": "stream",
     "text": [
      "9it [00:01,  6.89it/s]"
     ]
    },
    {
     "name": "stdout",
     "output_type": "stream",
     "text": [
      "['acc', 'kappa', 'auc', 'fmeasure', 'loss']\n",
      "Training Loss  0.7936101886961195\n"
     ]
    },
    {
     "name": "stderr",
     "output_type": "stream",
     "text": [
      "\n"
     ]
    },
    {
     "name": "stdout",
     "output_type": "stream",
     "text": [
      "Train -  [0.9618055555555556, 0.9490740740740741, 0.9732028034979424, 0.9618055555555556, tensor(0.7928)]\n",
      "Validation -  [0.4756944444444444, 0.30092592592592593, 0.7764998070987654, 0.4756944444444444, tensor(1.2549)]\n",
      "\n",
      "Epoch  348\n"
     ]
    },
    {
     "name": "stderr",
     "output_type": "stream",
     "text": [
      "9it [00:01,  7.18it/s]"
     ]
    },
    {
     "name": "stdout",
     "output_type": "stream",
     "text": [
      "['acc', 'kappa', 'auc', 'fmeasure', 'loss']\n",
      "Training Loss  0.7929387026362948\n"
     ]
    },
    {
     "name": "stderr",
     "output_type": "stream",
     "text": [
      "\n"
     ]
    },
    {
     "name": "stdout",
     "output_type": "stream",
     "text": [
      "Train -  [0.9618055555555556, 0.9490740740740741, 0.9733394418724279, 0.9618055555555556, tensor(0.7925)]\n",
      "Validation -  [0.4583333333333333, 0.2777777777777778, 0.7755031507201646, 0.4583333333333333, tensor(1.2590)]\n",
      "\n",
      "Epoch  349\n"
     ]
    },
    {
     "name": "stderr",
     "output_type": "stream",
     "text": [
      "9it [00:01,  6.87it/s]"
     ]
    },
    {
     "name": "stdout",
     "output_type": "stream",
     "text": [
      "['acc', 'kappa', 'auc', 'fmeasure', 'loss']\n",
      "Training Loss  0.7938813898298476\n"
     ]
    },
    {
     "name": "stderr",
     "output_type": "stream",
     "text": [
      "\n"
     ]
    },
    {
     "name": "stdout",
     "output_type": "stream",
     "text": [
      "Train -  [0.9618055555555556, 0.9490740740740741, 0.9732590663580247, 0.9618055555555556, tensor(0.7922)]\n",
      "Validation -  [0.46875, 0.29166666666666663, 0.7760898919753086, 0.46875, tensor(1.2562)]\n",
      "\n",
      "Epoch  350\n"
     ]
    },
    {
     "name": "stderr",
     "output_type": "stream",
     "text": [
      "9it [00:01,  6.31it/s]"
     ]
    },
    {
     "name": "stdout",
     "output_type": "stream",
     "text": [
      "['acc', 'kappa', 'auc', 'fmeasure', 'loss']\n",
      "Training Loss  0.794068886174096\n"
     ]
    },
    {
     "name": "stderr",
     "output_type": "stream",
     "text": [
      "\n"
     ]
    },
    {
     "name": "stdout",
     "output_type": "stream",
     "text": [
      "Train -  [0.9618055555555556, 0.9490740740740741, 0.9731947659465021, 0.9618055555555556, tensor(0.7922)]\n",
      "Validation -  [0.46875, 0.29166666666666663, 0.7757683899176955, 0.46875, tensor(1.2596)]\n",
      "\n",
      "Epoch  351\n"
     ]
    },
    {
     "name": "stderr",
     "output_type": "stream",
     "text": [
      "9it [00:01,  6.70it/s]"
     ]
    },
    {
     "name": "stdout",
     "output_type": "stream",
     "text": [
      "['acc', 'kappa', 'auc', 'fmeasure', 'loss']\n",
      "Training Loss  0.7945527368121676\n"
     ]
    },
    {
     "name": "stderr",
     "output_type": "stream",
     "text": [
      "\n"
     ]
    },
    {
     "name": "stdout",
     "output_type": "stream",
     "text": [
      "Train -  [0.9618055555555556, 0.9490740740740741, 0.973291216563786, 0.9618055555555556, tensor(0.7921)]\n",
      "Validation -  [0.4652777777777778, 0.2870370370370371, 0.7759211033950617, 0.4652777777777778, tensor(1.2545)]\n",
      "\n",
      "Epoch  352\n"
     ]
    },
    {
     "name": "stderr",
     "output_type": "stream",
     "text": [
      "9it [00:01,  7.36it/s]"
     ]
    },
    {
     "name": "stdout",
     "output_type": "stream",
     "text": [
      "['acc', 'kappa', 'auc', 'fmeasure', 'loss']\n",
      "Training Loss  0.7931994265980191\n"
     ]
    },
    {
     "name": "stderr",
     "output_type": "stream",
     "text": [
      "\n"
     ]
    },
    {
     "name": "stdout",
     "output_type": "stream",
     "text": [
      "Train -  [0.9618055555555556, 0.9490740740740741, 0.9731867283950617, 0.9618055555555556, tensor(0.7921)]\n",
      "Validation -  [0.4652777777777778, 0.2870370370370371, 0.775438850308642, 0.4652777777777778, tensor(1.2607)]\n",
      "\n",
      "Epoch  353\n"
     ]
    },
    {
     "name": "stderr",
     "output_type": "stream",
     "text": [
      "9it [00:01,  4.83it/s]"
     ]
    },
    {
     "name": "stdout",
     "output_type": "stream",
     "text": [
      "['acc', 'kappa', 'auc', 'fmeasure', 'loss']\n",
      "Training Loss  0.7925605641471015\n"
     ]
    },
    {
     "name": "stderr",
     "output_type": "stream",
     "text": [
      "\n"
     ]
    },
    {
     "name": "stdout",
     "output_type": "stream",
     "text": [
      "Train -  [0.9618055555555556, 0.9490740740740741, 0.9732349537037037, 0.9618055555555556, tensor(0.7920)]\n",
      "Validation -  [0.4652777777777778, 0.2870370370370371, 0.7760898919753086, 0.4652777777777778, tensor(1.2572)]\n",
      "\n",
      "Epoch  354\n"
     ]
    },
    {
     "name": "stderr",
     "output_type": "stream",
     "text": [
      "9it [00:01,  6.67it/s]"
     ]
    },
    {
     "name": "stdout",
     "output_type": "stream",
     "text": [
      "['acc', 'kappa', 'auc', 'fmeasure', 'loss']\n",
      "Training Loss  0.7923981348673502\n"
     ]
    },
    {
     "name": "stderr",
     "output_type": "stream",
     "text": [
      "\n"
     ]
    },
    {
     "name": "stdout",
     "output_type": "stream",
     "text": [
      "Train -  [0.9618055555555556, 0.9490740740740741, 0.9732751414609053, 0.9618055555555556, tensor(0.7919)]\n",
      "Validation -  [0.4583333333333333, 0.2777777777777778, 0.7758728780864197, 0.4583333333333333, tensor(1.2569)]\n",
      "\n",
      "Epoch  355\n"
     ]
    },
    {
     "name": "stderr",
     "output_type": "stream",
     "text": [
      "9it [00:01,  5.85it/s]"
     ]
    },
    {
     "name": "stdout",
     "output_type": "stream",
     "text": [
      "['acc', 'kappa', 'auc', 'fmeasure', 'loss']\n",
      "Training Loss  0.7924361096488105\n"
     ]
    },
    {
     "name": "stderr",
     "output_type": "stream",
     "text": [
      "\n"
     ]
    },
    {
     "name": "stdout",
     "output_type": "stream",
     "text": [
      "Train -  [0.9618055555555556, 0.9490740740740741, 0.9732269161522633, 0.9618055555555556, tensor(0.7920)]\n",
      "Validation -  [0.4618055555555556, 0.28240740740740744, 0.7755272633744855, 0.4618055555555556, tensor(1.2620)]\n",
      "\n",
      "Epoch  356\n"
     ]
    },
    {
     "name": "stderr",
     "output_type": "stream",
     "text": [
      "9it [00:01,  6.87it/s]"
     ]
    },
    {
     "name": "stdout",
     "output_type": "stream",
     "text": [
      "['acc', 'kappa', 'auc', 'fmeasure', 'loss']\n",
      "Training Loss  0.7920737531450059\n"
     ]
    },
    {
     "name": "stderr",
     "output_type": "stream",
     "text": [
      "\n"
     ]
    },
    {
     "name": "stdout",
     "output_type": "stream",
     "text": [
      "Train -  [0.9618055555555556, 0.9490740740740741, 0.9733233667695473, 0.9618055555555556, tensor(0.7919)]\n",
      "Validation -  [0.4618055555555556, 0.28240740740740744, 0.7755674511316871, 0.4618055555555556, tensor(1.2552)]\n",
      "\n",
      "Epoch  357\n"
     ]
    },
    {
     "name": "stderr",
     "output_type": "stream",
     "text": [
      "9it [00:01,  6.18it/s]"
     ]
    },
    {
     "name": "stdout",
     "output_type": "stream",
     "text": [
      "['acc', 'kappa', 'auc', 'fmeasure', 'loss']\n",
      "Training Loss  0.7929932607544793\n"
     ]
    },
    {
     "name": "stderr",
     "output_type": "stream",
     "text": [
      "\n"
     ]
    },
    {
     "name": "stdout",
     "output_type": "stream",
     "text": [
      "Train -  [0.9618055555555556, 0.9490740740740741, 0.9731224279835391, 0.9618055555555556, tensor(0.7929)]\n",
      "Validation -  [0.4756944444444444, 0.30092592592592593, 0.7760577417695473, 0.4756944444444444, tensor(1.2555)]\n",
      "\n",
      "Epoch  358\n"
     ]
    },
    {
     "name": "stderr",
     "output_type": "stream",
     "text": [
      "9it [00:01,  5.91it/s]"
     ]
    },
    {
     "name": "stdout",
     "output_type": "stream",
     "text": [
      "['acc', 'kappa', 'auc', 'fmeasure', 'loss']\n",
      "Training Loss  0.7925563520855374\n"
     ]
    },
    {
     "name": "stderr",
     "output_type": "stream",
     "text": [
      "\n"
     ]
    },
    {
     "name": "stdout",
     "output_type": "stream",
     "text": [
      "Train -  [0.9618055555555556, 0.9490740740740741, 0.9732590663580247, 0.9618055555555556, tensor(0.7920)]\n",
      "Validation -  [0.4652777777777778, 0.2870370370370371, 0.7754790380658436, 0.4652777777777778, tensor(1.2615)]\n",
      "\n",
      "Epoch  359\n"
     ]
    },
    {
     "name": "stderr",
     "output_type": "stream",
     "text": [
      "9it [00:01,  5.78it/s]"
     ]
    },
    {
     "name": "stdout",
     "output_type": "stream",
     "text": [
      "['acc', 'kappa', 'auc', 'fmeasure', 'loss']\n",
      "Training Loss  0.7923816707399156\n"
     ]
    },
    {
     "name": "stderr",
     "output_type": "stream",
     "text": [
      "\n"
     ]
    },
    {
     "name": "stdout",
     "output_type": "stream",
     "text": [
      "Train -  [0.9618055555555556, 0.9490740740740741, 0.973242991255144, 0.9618055555555556, tensor(0.7917)]\n",
      "Validation -  [0.4652777777777778, 0.2870370370370371, 0.7756237139917695, 0.4652777777777778, tensor(1.2556)]\n",
      "\n",
      "Epoch  360\n"
     ]
    },
    {
     "name": "stderr",
     "output_type": "stream",
     "text": [
      "9it [00:01,  6.47it/s]"
     ]
    },
    {
     "name": "stdout",
     "output_type": "stream",
     "text": [
      "['acc', 'kappa', 'auc', 'fmeasure', 'loss']\n",
      "Training Loss  0.7919715311792161\n"
     ]
    },
    {
     "name": "stderr",
     "output_type": "stream",
     "text": [
      "\n"
     ]
    },
    {
     "name": "stdout",
     "output_type": "stream",
     "text": [
      "Train -  [0.9618055555555556, 0.9490740740740741, 0.9732108410493827, 0.9618055555555556, tensor(0.7917)]\n",
      "Validation -  [0.4618055555555556, 0.28240740740740744, 0.7754067001028807, 0.4618055555555556, tensor(1.2603)]\n",
      "\n",
      "Epoch  361\n"
     ]
    },
    {
     "name": "stderr",
     "output_type": "stream",
     "text": [
      "9it [00:01,  7.38it/s]"
     ]
    },
    {
     "name": "stdout",
     "output_type": "stream",
     "text": [
      "['acc', 'kappa', 'auc', 'fmeasure', 'loss']\n",
      "Training Loss  0.792361941602495\n"
     ]
    },
    {
     "name": "stderr",
     "output_type": "stream",
     "text": [
      "\n"
     ]
    },
    {
     "name": "stdout",
     "output_type": "stream",
     "text": [
      "Train -  [0.9618055555555556, 0.9490740740740741, 0.9732590663580247, 0.9618055555555556, tensor(0.7918)]\n",
      "Validation -  [0.4618055555555556, 0.28240740740740744, 0.7754308127572017, 0.4618055555555556, tensor(1.2576)]\n",
      "\n",
      "Epoch  362\n"
     ]
    },
    {
     "name": "stderr",
     "output_type": "stream",
     "text": [
      "9it [00:01,  5.97it/s]"
     ]
    },
    {
     "name": "stdout",
     "output_type": "stream",
     "text": [
      "['acc', 'kappa', 'auc', 'fmeasure', 'loss']\n",
      "Training Loss  0.7917987373140123\n"
     ]
    },
    {
     "name": "stderr",
     "output_type": "stream",
     "text": [
      "\n"
     ]
    },
    {
     "name": "stdout",
     "output_type": "stream",
     "text": [
      "Train -  [0.9618055555555556, 0.9490740740740741, 0.9732992541152263, 0.9618055555555556, tensor(0.7917)]\n",
      "Validation -  [0.4618055555555556, 0.28240740740740744, 0.7751816486625515, 0.4618055555555556, tensor(1.2592)]\n",
      "\n",
      "Epoch  363\n"
     ]
    },
    {
     "name": "stderr",
     "output_type": "stream",
     "text": [
      "9it [00:01,  7.52it/s]"
     ]
    },
    {
     "name": "stdout",
     "output_type": "stream",
     "text": [
      "['acc', 'kappa', 'auc', 'fmeasure', 'loss']\n",
      "Training Loss  0.7925149864620633\n"
     ]
    },
    {
     "name": "stderr",
     "output_type": "stream",
     "text": [
      "\n"
     ]
    },
    {
     "name": "stdout",
     "output_type": "stream",
     "text": [
      "Train -  [0.9618055555555556, 0.9490740740740741, 0.9731786908436214, 0.9618055555555556, tensor(0.7916)]\n",
      "Validation -  [0.4548611111111111, 0.27314814814814814, 0.7749083719135803, 0.4548611111111111, tensor(1.2617)]\n",
      "\n",
      "Epoch  364\n"
     ]
    },
    {
     "name": "stderr",
     "output_type": "stream",
     "text": [
      "9it [00:01,  5.45it/s]"
     ]
    },
    {
     "name": "stdout",
     "output_type": "stream",
     "text": [
      "['acc', 'kappa', 'auc', 'fmeasure', 'loss']\n",
      "Training Loss  0.7920502093103197\n"
     ]
    },
    {
     "name": "stderr",
     "output_type": "stream",
     "text": [
      "\n"
     ]
    },
    {
     "name": "stdout",
     "output_type": "stream",
     "text": [
      "Train -  [0.9618055555555556, 0.9490740740740741, 0.9732751414609054, 0.9618055555555556, tensor(0.7915)]\n",
      "Validation -  [0.4652777777777778, 0.2870370370370371, 0.7753022119341564, 0.4652777777777778, tensor(1.2557)]\n",
      "\n",
      "Epoch  365\n"
     ]
    },
    {
     "name": "stderr",
     "output_type": "stream",
     "text": [
      "9it [00:01,  6.41it/s]"
     ]
    },
    {
     "name": "stdout",
     "output_type": "stream",
     "text": [
      "['acc', 'kappa', 'auc', 'fmeasure', 'loss']\n",
      "Training Loss  0.7920331226454841\n"
     ]
    },
    {
     "name": "stderr",
     "output_type": "stream",
     "text": [
      "\n"
     ]
    },
    {
     "name": "stdout",
     "output_type": "stream",
     "text": [
      "Train -  [0.9618055555555556, 0.9490740740740741, 0.973267103909465, 0.9618055555555556, tensor(0.7914)]\n",
      "Validation -  [0.4583333333333333, 0.2777777777777778, 0.7753825874485597, 0.4583333333333333, tensor(1.2578)]\n",
      "\n",
      "Epoch  366\n"
     ]
    },
    {
     "name": "stderr",
     "output_type": "stream",
     "text": [
      "9it [00:01,  5.56it/s]"
     ]
    },
    {
     "name": "stdout",
     "output_type": "stream",
     "text": [
      "['acc', 'kappa', 'auc', 'fmeasure', 'loss']\n",
      "Training Loss  0.7916505204306709\n"
     ]
    },
    {
     "name": "stderr",
     "output_type": "stream",
     "text": [
      "\n"
     ]
    },
    {
     "name": "stdout",
     "output_type": "stream",
     "text": [
      "Train -  [0.9618055555555556, 0.9490740740740741, 0.973242991255144, 0.9618055555555556, tensor(0.7914)]\n",
      "Validation -  [0.4583333333333333, 0.2777777777777778, 0.7749164094650205, 0.4583333333333333, tensor(1.2635)]\n",
      "\n",
      "Epoch  367\n"
     ]
    },
    {
     "name": "stderr",
     "output_type": "stream",
     "text": [
      "9it [00:01,  6.25it/s]"
     ]
    },
    {
     "name": "stdout",
     "output_type": "stream",
     "text": [
      "['acc', 'kappa', 'auc', 'fmeasure', 'loss']\n",
      "Training Loss  0.7917915052837796\n"
     ]
    },
    {
     "name": "stderr",
     "output_type": "stream",
     "text": [
      "\n"
     ]
    },
    {
     "name": "stdout",
     "output_type": "stream",
     "text": [
      "Train -  [0.9618055555555556, 0.9490740740740741, 0.9732751414609054, 0.9618055555555556, tensor(0.7914)]\n"
     ]
    }
   ],
   "source": [
    "history = {\n",
    "    \"train_loss\": [],\n",
    "    \"test_loss\": [],\n",
    "    \"train_acc\": [],\n",
    "    \"test_acc\": [],\n",
    "    \"lr\": [],\n",
    "    \"train_kappa\": [],\n",
    "    \"test_kappa\": [],\n",
    "}\n",
    "batch_size = 32\n",
    "alpha = 0.5\n",
    "\n",
    "for epoch in range(1000):  # loop over the dataset multiple times\n",
    "    print(\"\\nEpoch \", epoch)\n",
    "\n",
    "    net.train()\n",
    "    running_loss = 0.0\n",
    "    for i, batch in tqdm(enumerate(train_dataloader)):\n",
    "        \n",
    "        # print(i)\n",
    "        inputs, labels = batch\n",
    "        # inputs = torch.permute(\n",
    "        #     torch.vstack(list(map(lambda a: a.unsqueeze(0), inputs.values()))),\n",
    "        #     (1, 2, 3, 0),\n",
    "        # )\n",
    "\n",
    "        # wrap them in Variable\n",
    "        # inputs, labels = inputs.cuda(0), labels.type(torch.LongTensor).cuda(0)\n",
    "\n",
    "        # zero the parameter gradients\n",
    "        optimizer.zero_grad()\n",
    "\n",
    "        # forward + backward + optimize\n",
    "        outputs, csp_out = net(inputs.float().cuda(0))\n",
    "        cls_loss = cls_criterion(\n",
    "            outputs, labels[\"label\"].type(torch.LongTensor).cuda(0)\n",
    "        )\n",
    "        # reg_loss = reg_criterion(csp, labels[\"csp\"].cuda(0))\n",
    "        # loss = cls_loss + (alpha * reg_loss)\n",
    "        loss = cls_loss\n",
    "        loss.backward()\n",
    "\n",
    "        optimizer.step()\n",
    "\n",
    "        running_loss += loss.item()\n",
    "\n",
    "    history[\"lr\"].append(optimizer.param_groups[0][\"lr\"])\n",
    "    # print(optimizer.param_groups[0][\"lr\"])\n",
    "    lr_scheduler.step()\n",
    "\n",
    "    # Validation accuracy\n",
    "    params = [\"acc\", \"kappa\", \"auc\", \"fmeasure\", \"loss\"]\n",
    "    print(params)\n",
    "    print(\"Training Loss \", running_loss / len(train_dataloader))\n",
    "    tr = evaluate(net, train_dataloader, params)\n",
    "    print(\"Train - \", tr)\n",
    "    ev = evaluate(net, val_dataloader, params)\n",
    "    print(\"Validation - \", ev)\n",
    "    history[\"train_loss\"].append(tr[-1])\n",
    "    history[\"train_acc\"].append(tr[0])\n",
    "    history[\"train_kappa\"].append(tr[1])\n",
    "\n",
    "    history[\"test_loss\"].append(ev[-1])\n",
    "    history[\"test_acc\"].append(ev[0])\n",
    "    history[\"test_kappa\"].append(ev[1])"
   ]
  },
  {
   "cell_type": "code",
   "execution_count": 46,
   "id": "57260759-62f1-420e-a30b-3f1cdea1ed3d",
   "metadata": {},
   "outputs": [
    {
     "data": {
      "text/plain": [
       "{'train_loss': tensor(1.0091),\n",
       " 'test_loss': tensor(1.1601),\n",
       " 'train_acc': 0.7673611111111112,\n",
       " 'test_acc': 0.5902777777777778,\n",
       " 'lr': 0.001,\n",
       " 'train_kappa': 0.6898148148148149,\n",
       " 'test_kappa': 0.4537037037037037}"
      ]
     },
     "execution_count": 46,
     "metadata": {},
     "output_type": "execute_result"
    }
   ],
   "source": [
    "idx = np.argmax(history[\"test_acc\"])\n",
    "{k: history[k][idx] for k in history.keys()}"
   ]
  },
  {
   "cell_type": "code",
   "execution_count": 47,
   "id": "6e248047-7ef3-403c-abca-f7a62b76e677",
   "metadata": {},
   "outputs": [],
   "source": [
    "import matplotlib.pyplot as plt"
   ]
  },
  {
   "cell_type": "code",
   "execution_count": 48,
   "id": "7984f176-0004-49ce-b610-66f7397e0f0e",
   "metadata": {},
   "outputs": [
    {
     "data": {
      "text/plain": [
       "[<matplotlib.lines.Line2D at 0x7ff41dfb2fd0>]"
      ]
     },
     "execution_count": 48,
     "metadata": {},
     "output_type": "execute_result"
    },
    {
     "data": {
      "image/png": "[encoded data removed]",
      "text/plain": [
       "<Figure size 640x480 with 1 Axes>"
      ]
     },
     "metadata": {},
     "output_type": "display_data"
    }
   ],
   "source": [
    "plt.plot([i for i in range(len(history[\"lr\"]))], history[\"lr\"])"
   ]
  },
  {
   "cell_type": "code",
   "execution_count": 49,
   "id": "df14c4d2-bef1-49ba-8767-4760014b4b0a",
   "metadata": {},
   "outputs": [
    {
     "data": {
      "image/png": "[encoded data removed]",
      "text/plain": [
       "<Figure size 1200x600 with 6 Axes>"
      ]
     },
     "metadata": {},
     "output_type": "display_data"
    }
   ],
   "source": [
    "fig, axs = plt.subplots(2, 3, figsize=(12, 6))\n",
    "\n",
    "for i, title in enumerate(\n",
    "    [\n",
    "        \"train_loss\",\n",
    "        \"train_acc\",\n",
    "        \"train_kappa\",\n",
    "        \"test_loss\",\n",
    "        \"test_acc\",\n",
    "        \"test_kappa\",\n",
    "    ]\n",
    "):\n",
    "    axs[i // 3, i % 3].plot([i for i in range(len(history[title]))], history[title])\n",
    "    axs[i // 3, i % 3].set_title(title)\n",
    "\n",
    "for ax in axs.flat:\n",
    "    ax.set(xlabel=\"epochs\", ylabel=\"\")\n",
    "\n",
    "# Hide x labels and tick labels for top plots and y ticks for right plots.\n",
    "# for ax in axs.flat:\n",
    "#     ax.label_outer()"
   ]
  },
  {
   "cell_type": "code",
   "execution_count": 50,
   "id": "32a858f1-f659-41ad-9e5d-128e4a29306a",
   "metadata": {},
   "outputs": [
    {
     "data": {
      "image/png": "[encoded data removed]",
      "text/plain": [
       "<Figure size 1200x600 with 6 Axes>"
      ]
     },
     "metadata": {},
     "output_type": "display_data"
    }
   ],
   "source": [
    "fig, axs = plt.subplots(2, 3, figsize=(12, 6))\n",
    "\n",
    "for i, title in enumerate(\n",
    "    [\n",
    "        \"train_loss\",\n",
    "        \"train_acc\",\n",
    "        \"train_kappa\",\n",
    "        \"test_loss\",\n",
    "        \"test_acc\",\n",
    "        \"test_kappa\",\n",
    "    ]\n",
    "):\n",
    "    axs[i // 3, i % 3].plot([i for i in range(len(history[title]))], history[title])\n",
    "    axs[i // 3, i % 3].set_title(title)\n",
    "\n",
    "for ax in axs.flat:\n",
    "    ax.set(xlabel=\"epochs\", ylabel=\"\")\n",
    "\n",
    "# Hide x labels and tick labels for top plots and y ticks for right plots.\n",
    "# for ax in axs.flat:\n",
    "#     ax.label_outer()"
   ]
  }
 ],
 "metadata": {
  "kernelspec": {
   "display_name": "Python 3 (ipykernel)",
   "language": "python",
   "name": "python3"
  },
  "language_info": {
   "codemirror_mode": {
    "name": "ipython",
    "version": 3
   },
   "file_extension": ".py",
   "mimetype": "text/x-python",
   "name": "python",
   "nbconvert_exporter": "python",
   "pygments_lexer": "ipython3",
   "version": "3.8.10"
  }
 },
 "nbformat": 4,
 "nbformat_minor": 5
}
