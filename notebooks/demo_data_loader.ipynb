{
 "cells": [
  {
   "cell_type": "code",
   "execution_count": 1,
   "id": "adc83fbe-cc1c-4aba-a546-f91548946024",
   "metadata": {},
   "outputs": [],
   "source": [
    "%config Completer.use_jedi = False\n",
    "%load_ext autoreload\n",
    "# %reload_ext autoreload\n",
    "%autoreload 2\n",
    "%load_ext lab_black"
   ]
  },
  {
   "cell_type": "markdown",
   "id": "8fa406ef-91d9-46dd-868f-34997377d09e",
   "metadata": {},
   "source": [
    "### get moabb bnci dataset"
   ]
  },
  {
   "cell_type": "code",
   "execution_count": null,
   "id": "b1875e9b-5e2e-493d-8b2b-73d9aa285b17",
   "metadata": {},
   "outputs": [],
   "source": [
    "!pip install moabb"
   ]
  },
  {
   "cell_type": "code",
   "execution_count": 7,
   "id": "ed012486-14bc-416f-b328-87df935647ac",
   "metadata": {},
   "outputs": [
    {
     "name": "stderr",
     "output_type": "stream",
     "text": [
      "/usr/lib/python3/dist-packages/requests/__init__.py:89: RequestsDependencyWarning: urllib3 (1.26.12) or chardet (3.0.4) doesn't match a supported version!\n",
      "  warnings.warn(\"urllib3 ({}) or chardet ({}) doesn't match a supported \"\n"
     ]
    }
   ],
   "source": [
    "import moabb\n",
    "from moabb.datasets import BNCI2014001\n",
    "from moabb.paradigms import MotorImagery\n",
    "\n",
    "import numpy as np\n",
    "\n",
    "import os\n",
    "from tqdm.notebook import tqdm"
   ]
  },
  {
   "cell_type": "code",
   "execution_count": 22,
   "id": "704d9159-2371-49fd-b604-8e133f354473",
   "metadata": {},
   "outputs": [],
   "source": [
    "class BCIDataset:\n",
    "    def __init__(self, patients=[1], paradigm=\"four-classes\"):\n",
    "        self.patients = patients\n",
    "        self.dataset = BNCI2014001()\n",
    "\n",
    "        self.paradigm = self._get_paradigm(paradigm)\n",
    "\n",
    "    def _get_paradigm(self, paradigm):\n",
    "        if paradigm == \"four-classes\":\n",
    "            return MotorImagery(n_classes=4)\n",
    "\n",
    "    def download_patient(self):\n",
    "        return self.dataset.get_data(self.patients)\n",
    "\n",
    "    def get_data(self):\n",
    "        X, labels, meta = self.paradigm.get_data(\n",
    "            dataset=self.dataset, subjects=self.patients\n",
    "        )\n",
    "\n",
    "        return X, labels, meta"
   ]
  },
  {
   "cell_type": "code",
   "execution_count": 23,
   "id": "e0489425-8914-4094-bcc4-450ddf2a09e6",
   "metadata": {},
   "outputs": [
    {
     "name": "stderr",
     "output_type": "stream",
     "text": [
      "Choosing from all possible events\n"
     ]
    }
   ],
   "source": [
    "obj = BCIDataset(patients=[1, 2, 3, 4, 5, 6, 7, 8, 9])\n",
    "sessions = obj.download_patient()"
   ]
  },
  {
   "cell_type": "code",
   "execution_count": 24,
   "id": "f845345b-b19b-41ac-9f23-fb64e4ec16b1",
   "metadata": {},
   "outputs": [
    {
     "data": {
      "text/html": [
       "<div>\n",
       "<style scoped>\n",
       "    .dataframe tbody tr th:only-of-type {\n",
       "        vertical-align: middle;\n",
       "    }\n",
       "\n",
       "    .dataframe tbody tr th {\n",
       "        vertical-align: top;\n",
       "    }\n",
       "\n",
       "    .dataframe thead th {\n",
       "        text-align: right;\n",
       "    }\n",
       "</style>\n",
       "<table border=\"1\" class=\"dataframe\">\n",
       "  <thead>\n",
       "    <tr style=\"text-align: right;\">\n",
       "      <th></th>\n",
       "      <th>subject</th>\n",
       "      <th>session</th>\n",
       "      <th>run</th>\n",
       "    </tr>\n",
       "  </thead>\n",
       "  <tbody>\n",
       "    <tr>\n",
       "      <th>0</th>\n",
       "      <td>1</td>\n",
       "      <td>session_T</td>\n",
       "      <td>run_0</td>\n",
       "    </tr>\n",
       "    <tr>\n",
       "      <th>1</th>\n",
       "      <td>1</td>\n",
       "      <td>session_T</td>\n",
       "      <td>run_0</td>\n",
       "    </tr>\n",
       "    <tr>\n",
       "      <th>2</th>\n",
       "      <td>1</td>\n",
       "      <td>session_T</td>\n",
       "      <td>run_0</td>\n",
       "    </tr>\n",
       "    <tr>\n",
       "      <th>3</th>\n",
       "      <td>1</td>\n",
       "      <td>session_T</td>\n",
       "      <td>run_0</td>\n",
       "    </tr>\n",
       "    <tr>\n",
       "      <th>4</th>\n",
       "      <td>1</td>\n",
       "      <td>session_T</td>\n",
       "      <td>run_0</td>\n",
       "    </tr>\n",
       "    <tr>\n",
       "      <th>...</th>\n",
       "      <td>...</td>\n",
       "      <td>...</td>\n",
       "      <td>...</td>\n",
       "    </tr>\n",
       "    <tr>\n",
       "      <th>5179</th>\n",
       "      <td>9</td>\n",
       "      <td>session_E</td>\n",
       "      <td>run_5</td>\n",
       "    </tr>\n",
       "    <tr>\n",
       "      <th>5180</th>\n",
       "      <td>9</td>\n",
       "      <td>session_E</td>\n",
       "      <td>run_5</td>\n",
       "    </tr>\n",
       "    <tr>\n",
       "      <th>5181</th>\n",
       "      <td>9</td>\n",
       "      <td>session_E</td>\n",
       "      <td>run_5</td>\n",
       "    </tr>\n",
       "    <tr>\n",
       "      <th>5182</th>\n",
       "      <td>9</td>\n",
       "      <td>session_E</td>\n",
       "      <td>run_5</td>\n",
       "    </tr>\n",
       "    <tr>\n",
       "      <th>5183</th>\n",
       "      <td>9</td>\n",
       "      <td>session_E</td>\n",
       "      <td>run_5</td>\n",
       "    </tr>\n",
       "  </tbody>\n",
       "</table>\n",
       "<p>5184 rows × 3 columns</p>\n",
       "</div>"
      ],
      "text/plain": [
       "      subject    session    run\n",
       "0           1  session_T  run_0\n",
       "1           1  session_T  run_0\n",
       "2           1  session_T  run_0\n",
       "3           1  session_T  run_0\n",
       "4           1  session_T  run_0\n",
       "...       ...        ...    ...\n",
       "5179        9  session_E  run_5\n",
       "5180        9  session_E  run_5\n",
       "5181        9  session_E  run_5\n",
       "5182        9  session_E  run_5\n",
       "5183        9  session_E  run_5\n",
       "\n",
       "[5184 rows x 3 columns]"
      ]
     },
     "execution_count": 24,
     "metadata": {},
     "output_type": "execute_result"
    }
   ],
   "source": [
    "X, labels, meta = obj.get_data()\n",
    "meta"
   ]
  },
  {
   "cell_type": "code",
   "execution_count": 29,
   "id": "3a1e4444-fd3c-48ec-ad63-55b0511c1ac5",
   "metadata": {},
   "outputs": [
    {
     "data": {
      "text/plain": [
       "(subject            1\n",
       " session    session_T\n",
       " run            run_0\n",
       " Name: 0, dtype: object,\n",
       " 5184)"
      ]
     },
     "execution_count": 29,
     "metadata": {},
     "output_type": "execute_result"
    }
   ],
   "source": [
    "meta.iloc[0], len(meta)"
   ]
  },
  {
   "cell_type": "code",
   "execution_count": 33,
   "id": "9aaa4012-230b-4ee2-8601-95fb923d71b0",
   "metadata": {},
   "outputs": [
    {
     "data": {
      "text/html": [
       "<div>\n",
       "<style scoped>\n",
       "    .dataframe tbody tr th:only-of-type {\n",
       "        vertical-align: middle;\n",
       "    }\n",
       "\n",
       "    .dataframe tbody tr th {\n",
       "        vertical-align: top;\n",
       "    }\n",
       "\n",
       "    .dataframe thead th {\n",
       "        text-align: right;\n",
       "    }\n",
       "</style>\n",
       "<table border=\"1\" class=\"dataframe\">\n",
       "  <thead>\n",
       "    <tr style=\"text-align: right;\">\n",
       "      <th></th>\n",
       "      <th>file_name</th>\n",
       "      <th>patient</th>\n",
       "      <th>session</th>\n",
       "      <th>run</th>\n",
       "      <th>label</th>\n",
       "    </tr>\n",
       "  </thead>\n",
       "  <tbody>\n",
       "    <tr>\n",
       "      <th>0</th>\n",
       "      <td>1_session_T_4_0.npy</td>\n",
       "      <td>1</td>\n",
       "      <td>session_T</td>\n",
       "      <td>run_0</td>\n",
       "      <td>NaN</td>\n",
       "    </tr>\n",
       "    <tr>\n",
       "      <th>1</th>\n",
       "      <td>1_session_T_3_1.npy</td>\n",
       "      <td>1</td>\n",
       "      <td>session_T</td>\n",
       "      <td>run_0</td>\n",
       "      <td>NaN</td>\n",
       "    </tr>\n",
       "    <tr>\n",
       "      <th>2</th>\n",
       "      <td>1_session_T_2_2.npy</td>\n",
       "      <td>1</td>\n",
       "      <td>session_T</td>\n",
       "      <td>run_0</td>\n",
       "      <td>NaN</td>\n",
       "    </tr>\n",
       "    <tr>\n",
       "      <th>3</th>\n",
       "      <td>1_session_T_1_3.npy</td>\n",
       "      <td>1</td>\n",
       "      <td>session_T</td>\n",
       "      <td>run_0</td>\n",
       "      <td>NaN</td>\n",
       "    </tr>\n",
       "    <tr>\n",
       "      <th>4</th>\n",
       "      <td>1_session_T_1_4.npy</td>\n",
       "      <td>1</td>\n",
       "      <td>session_T</td>\n",
       "      <td>run_0</td>\n",
       "      <td>NaN</td>\n",
       "    </tr>\n",
       "    <tr>\n",
       "      <th>...</th>\n",
       "      <td>...</td>\n",
       "      <td>...</td>\n",
       "      <td>...</td>\n",
       "      <td>...</td>\n",
       "      <td>...</td>\n",
       "    </tr>\n",
       "    <tr>\n",
       "      <th>5179</th>\n",
       "      <td>1_session_T_3_5179.npy</td>\n",
       "      <td>1</td>\n",
       "      <td>session_T</td>\n",
       "      <td>run_0</td>\n",
       "      <td>NaN</td>\n",
       "    </tr>\n",
       "    <tr>\n",
       "      <th>5180</th>\n",
       "      <td>1_session_T_4_5180.npy</td>\n",
       "      <td>1</td>\n",
       "      <td>session_T</td>\n",
       "      <td>run_0</td>\n",
       "      <td>NaN</td>\n",
       "    </tr>\n",
       "    <tr>\n",
       "      <th>5181</th>\n",
       "      <td>1_session_T_3_5181.npy</td>\n",
       "      <td>1</td>\n",
       "      <td>session_T</td>\n",
       "      <td>run_0</td>\n",
       "      <td>NaN</td>\n",
       "    </tr>\n",
       "    <tr>\n",
       "      <th>5182</th>\n",
       "      <td>1_session_T_1_5182.npy</td>\n",
       "      <td>1</td>\n",
       "      <td>session_T</td>\n",
       "      <td>run_0</td>\n",
       "      <td>NaN</td>\n",
       "    </tr>\n",
       "    <tr>\n",
       "      <th>5183</th>\n",
       "      <td>1_session_T_3_5183.npy</td>\n",
       "      <td>1</td>\n",
       "      <td>session_T</td>\n",
       "      <td>run_0</td>\n",
       "      <td>NaN</td>\n",
       "    </tr>\n",
       "  </tbody>\n",
       "</table>\n",
       "<p>5184 rows × 5 columns</p>\n",
       "</div>"
      ],
      "text/plain": [
       "                   file_name  patient    session    run  label\n",
       "0        1_session_T_4_0.npy        1  session_T  run_0    NaN\n",
       "1        1_session_T_3_1.npy        1  session_T  run_0    NaN\n",
       "2        1_session_T_2_2.npy        1  session_T  run_0    NaN\n",
       "3        1_session_T_1_3.npy        1  session_T  run_0    NaN\n",
       "4        1_session_T_1_4.npy        1  session_T  run_0    NaN\n",
       "...                      ...      ...        ...    ...    ...\n",
       "5179  1_session_T_3_5179.npy        1  session_T  run_0    NaN\n",
       "5180  1_session_T_4_5180.npy        1  session_T  run_0    NaN\n",
       "5181  1_session_T_3_5181.npy        1  session_T  run_0    NaN\n",
       "5182  1_session_T_1_5182.npy        1  session_T  run_0    NaN\n",
       "5183  1_session_T_3_5183.npy        1  session_T  run_0    NaN\n",
       "\n",
       "[5184 rows x 5 columns]"
      ]
     },
     "execution_count": 33,
     "metadata": {},
     "output_type": "execute_result"
    }
   ],
   "source": [
    "import pandas as pd\n",
    "\n",
    "pd.read_csv(\"/opt/ext/home/arman/csp-nn/test_data/metadata.csv\")"
   ]
  },
  {
   "cell_type": "code",
   "execution_count": 20,
   "id": "f5662784-4621-4e2c-8b56-e50c569504c8",
   "metadata": {},
   "outputs": [
    {
     "data": {
      "text/plain": [
       "{1: {'session_T': {'run_0': <RawArray | 26 x 96735 (386.9 s), ~19.2 MB, data loaded>,\n",
       "   'run_1': <RawArray | 26 x 96735 (386.9 s), ~19.2 MB, data loaded>,\n",
       "   'run_2': <RawArray | 26 x 96735 (386.9 s), ~19.2 MB, data loaded>,\n",
       "   'run_3': <RawArray | 26 x 96735 (386.9 s), ~19.2 MB, data loaded>,\n",
       "   'run_4': <RawArray | 26 x 96735 (386.9 s), ~19.2 MB, data loaded>,\n",
       "   'run_5': <RawArray | 26 x 96735 (386.9 s), ~19.2 MB, data loaded>},\n",
       "  'session_E': {'run_0': <RawArray | 26 x 96735 (386.9 s), ~19.2 MB, data loaded>,\n",
       "   'run_1': <RawArray | 26 x 96735 (386.9 s), ~19.2 MB, data loaded>,\n",
       "   'run_2': <RawArray | 26 x 96735 (386.9 s), ~19.2 MB, data loaded>,\n",
       "   'run_3': <RawArray | 26 x 96735 (386.9 s), ~19.2 MB, data loaded>,\n",
       "   'run_4': <RawArray | 26 x 96735 (386.9 s), ~19.2 MB, data loaded>,\n",
       "   'run_5': <RawArray | 26 x 96735 (386.9 s), ~19.2 MB, data loaded>}},\n",
       " 2: {'session_T': {'run_0': <RawArray | 26 x 96735 (386.9 s), ~19.2 MB, data loaded>,\n",
       "   'run_1': <RawArray | 26 x 96735 (386.9 s), ~19.2 MB, data loaded>,\n",
       "   'run_2': <RawArray | 26 x 96735 (386.9 s), ~19.2 MB, data loaded>,\n",
       "   'run_3': <RawArray | 26 x 96735 (386.9 s), ~19.2 MB, data loaded>,\n",
       "   'run_4': <RawArray | 26 x 96735 (386.9 s), ~19.2 MB, data loaded>,\n",
       "   'run_5': <RawArray | 26 x 96735 (386.9 s), ~19.2 MB, data loaded>},\n",
       "  'session_E': {'run_0': <RawArray | 26 x 96735 (386.9 s), ~19.2 MB, data loaded>,\n",
       "   'run_1': <RawArray | 26 x 96735 (386.9 s), ~19.2 MB, data loaded>,\n",
       "   'run_2': <RawArray | 26 x 96735 (386.9 s), ~19.2 MB, data loaded>,\n",
       "   'run_3': <RawArray | 26 x 96735 (386.9 s), ~19.2 MB, data loaded>,\n",
       "   'run_4': <RawArray | 26 x 96735 (386.9 s), ~19.2 MB, data loaded>,\n",
       "   'run_5': <RawArray | 26 x 96735 (386.9 s), ~19.2 MB, data loaded>}},\n",
       " 3: {'session_T': {'run_0': <RawArray | 26 x 96735 (386.9 s), ~19.2 MB, data loaded>,\n",
       "   'run_1': <RawArray | 26 x 96735 (386.9 s), ~19.2 MB, data loaded>,\n",
       "   'run_2': <RawArray | 26 x 96735 (386.9 s), ~19.2 MB, data loaded>,\n",
       "   'run_3': <RawArray | 26 x 96735 (386.9 s), ~19.2 MB, data loaded>,\n",
       "   'run_4': <RawArray | 26 x 96735 (386.9 s), ~19.2 MB, data loaded>,\n",
       "   'run_5': <RawArray | 26 x 96735 (386.9 s), ~19.2 MB, data loaded>},\n",
       "  'session_E': {'run_0': <RawArray | 26 x 96735 (386.9 s), ~19.2 MB, data loaded>,\n",
       "   'run_1': <RawArray | 26 x 96735 (386.9 s), ~19.2 MB, data loaded>,\n",
       "   'run_2': <RawArray | 26 x 96735 (386.9 s), ~19.2 MB, data loaded>,\n",
       "   'run_3': <RawArray | 26 x 96735 (386.9 s), ~19.2 MB, data loaded>,\n",
       "   'run_4': <RawArray | 26 x 96735 (386.9 s), ~19.2 MB, data loaded>,\n",
       "   'run_5': <RawArray | 26 x 96735 (386.9 s), ~19.2 MB, data loaded>}},\n",
       " 4: {'session_T': {'run_0': <RawArray | 26 x 96735 (386.9 s), ~19.2 MB, data loaded>,\n",
       "   'run_1': <RawArray | 26 x 96735 (386.9 s), ~19.2 MB, data loaded>,\n",
       "   'run_2': <RawArray | 26 x 96735 (386.9 s), ~19.2 MB, data loaded>,\n",
       "   'run_3': <RawArray | 26 x 96735 (386.9 s), ~19.2 MB, data loaded>,\n",
       "   'run_4': <RawArray | 26 x 96735 (386.9 s), ~19.2 MB, data loaded>,\n",
       "   'run_5': <RawArray | 26 x 96735 (386.9 s), ~19.2 MB, data loaded>},\n",
       "  'session_E': {'run_0': <RawArray | 26 x 96735 (386.9 s), ~19.2 MB, data loaded>,\n",
       "   'run_1': <RawArray | 26 x 96735 (386.9 s), ~19.2 MB, data loaded>,\n",
       "   'run_2': <RawArray | 26 x 96735 (386.9 s), ~19.2 MB, data loaded>,\n",
       "   'run_3': <RawArray | 26 x 96735 (386.9 s), ~19.2 MB, data loaded>,\n",
       "   'run_4': <RawArray | 26 x 96735 (386.9 s), ~19.2 MB, data loaded>,\n",
       "   'run_5': <RawArray | 26 x 96735 (386.9 s), ~19.2 MB, data loaded>}},\n",
       " 5: {'session_T': {'run_0': <RawArray | 26 x 96735 (386.9 s), ~19.2 MB, data loaded>,\n",
       "   'run_1': <RawArray | 26 x 96735 (386.9 s), ~19.2 MB, data loaded>,\n",
       "   'run_2': <RawArray | 26 x 96735 (386.9 s), ~19.2 MB, data loaded>,\n",
       "   'run_3': <RawArray | 26 x 96735 (386.9 s), ~19.2 MB, data loaded>,\n",
       "   'run_4': <RawArray | 26 x 96735 (386.9 s), ~19.2 MB, data loaded>,\n",
       "   'run_5': <RawArray | 26 x 96735 (386.9 s), ~19.2 MB, data loaded>},\n",
       "  'session_E': {'run_0': <RawArray | 26 x 96735 (386.9 s), ~19.2 MB, data loaded>,\n",
       "   'run_1': <RawArray | 26 x 96735 (386.9 s), ~19.2 MB, data loaded>,\n",
       "   'run_2': <RawArray | 26 x 96735 (386.9 s), ~19.2 MB, data loaded>,\n",
       "   'run_3': <RawArray | 26 x 96735 (386.9 s), ~19.2 MB, data loaded>,\n",
       "   'run_4': <RawArray | 26 x 96735 (386.9 s), ~19.2 MB, data loaded>,\n",
       "   'run_5': <RawArray | 26 x 96735 (386.9 s), ~19.2 MB, data loaded>}},\n",
       " 6: {'session_T': {'run_0': <RawArray | 26 x 96735 (386.9 s), ~19.2 MB, data loaded>,\n",
       "   'run_1': <RawArray | 26 x 96735 (386.9 s), ~19.2 MB, data loaded>,\n",
       "   'run_2': <RawArray | 26 x 96735 (386.9 s), ~19.2 MB, data loaded>,\n",
       "   'run_3': <RawArray | 26 x 96735 (386.9 s), ~19.2 MB, data loaded>,\n",
       "   'run_4': <RawArray | 26 x 96735 (386.9 s), ~19.2 MB, data loaded>,\n",
       "   'run_5': <RawArray | 26 x 96735 (386.9 s), ~19.2 MB, data loaded>},\n",
       "  'session_E': {'run_0': <RawArray | 26 x 96735 (386.9 s), ~19.2 MB, data loaded>,\n",
       "   'run_1': <RawArray | 26 x 96735 (386.9 s), ~19.2 MB, data loaded>,\n",
       "   'run_2': <RawArray | 26 x 96735 (386.9 s), ~19.2 MB, data loaded>,\n",
       "   'run_3': <RawArray | 26 x 96735 (386.9 s), ~19.2 MB, data loaded>,\n",
       "   'run_4': <RawArray | 26 x 96735 (386.9 s), ~19.2 MB, data loaded>,\n",
       "   'run_5': <RawArray | 26 x 96735 (386.9 s), ~19.2 MB, data loaded>}},\n",
       " 7: {'session_T': {'run_0': <RawArray | 26 x 96735 (386.9 s), ~19.2 MB, data loaded>,\n",
       "   'run_1': <RawArray | 26 x 96735 (386.9 s), ~19.2 MB, data loaded>,\n",
       "   'run_2': <RawArray | 26 x 96735 (386.9 s), ~19.2 MB, data loaded>,\n",
       "   'run_3': <RawArray | 26 x 96735 (386.9 s), ~19.2 MB, data loaded>,\n",
       "   'run_4': <RawArray | 26 x 96735 (386.9 s), ~19.2 MB, data loaded>,\n",
       "   'run_5': <RawArray | 26 x 96735 (386.9 s), ~19.2 MB, data loaded>},\n",
       "  'session_E': {'run_0': <RawArray | 26 x 96735 (386.9 s), ~19.2 MB, data loaded>,\n",
       "   'run_1': <RawArray | 26 x 96735 (386.9 s), ~19.2 MB, data loaded>,\n",
       "   'run_2': <RawArray | 26 x 96735 (386.9 s), ~19.2 MB, data loaded>,\n",
       "   'run_3': <RawArray | 26 x 96735 (386.9 s), ~19.2 MB, data loaded>,\n",
       "   'run_4': <RawArray | 26 x 96735 (386.9 s), ~19.2 MB, data loaded>,\n",
       "   'run_5': <RawArray | 26 x 96735 (386.9 s), ~19.2 MB, data loaded>}},\n",
       " 8: {'session_T': {'run_0': <RawArray | 26 x 96735 (386.9 s), ~19.2 MB, data loaded>,\n",
       "   'run_1': <RawArray | 26 x 96735 (386.9 s), ~19.2 MB, data loaded>,\n",
       "   'run_2': <RawArray | 26 x 96735 (386.9 s), ~19.2 MB, data loaded>,\n",
       "   'run_3': <RawArray | 26 x 96735 (386.9 s), ~19.2 MB, data loaded>,\n",
       "   'run_4': <RawArray | 26 x 96735 (386.9 s), ~19.2 MB, data loaded>,\n",
       "   'run_5': <RawArray | 26 x 96735 (386.9 s), ~19.2 MB, data loaded>},\n",
       "  'session_E': {'run_0': <RawArray | 26 x 96735 (386.9 s), ~19.2 MB, data loaded>,\n",
       "   'run_1': <RawArray | 26 x 96735 (386.9 s), ~19.2 MB, data loaded>,\n",
       "   'run_2': <RawArray | 26 x 96735 (386.9 s), ~19.2 MB, data loaded>,\n",
       "   'run_3': <RawArray | 26 x 96735 (386.9 s), ~19.2 MB, data loaded>,\n",
       "   'run_4': <RawArray | 26 x 96735 (386.9 s), ~19.2 MB, data loaded>,\n",
       "   'run_5': <RawArray | 26 x 96735 (386.9 s), ~19.2 MB, data loaded>}},\n",
       " 9: {'session_T': {'run_0': <RawArray | 26 x 96735 (386.9 s), ~19.2 MB, data loaded>,\n",
       "   'run_1': <RawArray | 26 x 96735 (386.9 s), ~19.2 MB, data loaded>,\n",
       "   'run_2': <RawArray | 26 x 96735 (386.9 s), ~19.2 MB, data loaded>,\n",
       "   'run_3': <RawArray | 26 x 96735 (386.9 s), ~19.2 MB, data loaded>,\n",
       "   'run_4': <RawArray | 26 x 96735 (386.9 s), ~19.2 MB, data loaded>,\n",
       "   'run_5': <RawArray | 26 x 96735 (386.9 s), ~19.2 MB, data loaded>},\n",
       "  'session_E': {'run_0': <RawArray | 26 x 96735 (386.9 s), ~19.2 MB, data loaded>,\n",
       "   'run_1': <RawArray | 26 x 96735 (386.9 s), ~19.2 MB, data loaded>,\n",
       "   'run_2': <RawArray | 26 x 96735 (386.9 s), ~19.2 MB, data loaded>,\n",
       "   'run_3': <RawArray | 26 x 96735 (386.9 s), ~19.2 MB, data loaded>,\n",
       "   'run_4': <RawArray | 26 x 96735 (386.9 s), ~19.2 MB, data loaded>,\n",
       "   'run_5': <RawArray | 26 x 96735 (386.9 s), ~19.2 MB, data loaded>}}}"
      ]
     },
     "execution_count": 20,
     "metadata": {},
     "output_type": "execute_result"
    }
   ],
   "source": [
    "sessions"
   ]
  },
  {
   "cell_type": "code",
   "execution_count": 9,
   "id": "35cfd2db-bf52-4a42-87b8-e0a79c9d5de6",
   "metadata": {},
   "outputs": [
    {
     "name": "stderr",
     "output_type": "stream",
     "text": [
      "Choosing from all possible events\n",
      "/usr/local/lib/python3.8/dist-packages/moabb/datasets/download.py:53: RuntimeWarning: Setting non-standard config type: \"MNE_DATASETS_BNCI_PATH\"\n",
      "  set_config(key, get_config(\"MNE_DATA\"))\n",
      "Downloading data from 'http://bnci-horizon-2020.eu/database/data-sets/001-2014/A01T.mat' to file '/root/mne_data/MNE-bnci-data/database/data-sets/001-2014/A01T.mat'.\n"
     ]
    },
    {
     "name": "stdout",
     "output_type": "stream",
     "text": [
      "MNE_DATA is not already configured. It will be set to default location in the home directory - /root/mne_data\n",
      "All datasets will be downloaded to this location, if anything is already downloaded, please move manually to this location\n"
     ]
    },
    {
     "name": "stderr",
     "output_type": "stream",
     "text": [
      "100%|█████████████████████████████████████| 42.8M/42.8M [00:00<00:00, 44.2GB/s]\n",
      "SHA256 hash of downloaded file: 054f02e70cf9c4ada1517e9b9864f45407939c1062c6793516585c6f511d0325\n",
      "Use this value as the 'known_hash' argument of 'pooch.retrieve' to ensure that the file hasn't changed if it is downloaded again in the future.\n",
      "Downloading data from 'http://bnci-horizon-2020.eu/database/data-sets/001-2014/A01E.mat' to file '/root/mne_data/MNE-bnci-data/database/data-sets/001-2014/A01E.mat'.\n",
      "100%|█████████████████████████████████████| 43.8M/43.8M [00:00<00:00, 43.8GB/s]\n",
      "SHA256 hash of downloaded file: 53d415f39c3d7b0c88b894d7b08d99bcdfe855ede63831d3691af1a45607fb62\n",
      "Use this value as the 'known_hash' argument of 'pooch.retrieve' to ensure that the file hasn't changed if it is downloaded again in the future.\n",
      "Downloading data from 'http://bnci-horizon-2020.eu/database/data-sets/001-2014/A02T.mat' to file '/root/mne_data/MNE-bnci-data/database/data-sets/001-2014/A02T.mat'.\n",
      "100%|█████████████████████████████████████| 43.1M/43.1M [00:00<00:00, 45.7GB/s]\n",
      "SHA256 hash of downloaded file: 5ddd5cb520b1692c3ba1363f48d98f58f0e46f3699ee50d749947950fc39db27\n",
      "Use this value as the 'known_hash' argument of 'pooch.retrieve' to ensure that the file hasn't changed if it is downloaded again in the future.\n",
      "Downloading data from 'http://bnci-horizon-2020.eu/database/data-sets/001-2014/A02E.mat' to file '/root/mne_data/MNE-bnci-data/database/data-sets/001-2014/A02E.mat'.\n",
      "100%|█████████████████████████████████████| 44.2M/44.2M [00:00<00:00, 45.9GB/s]\n",
      "SHA256 hash of downloaded file: d63c454005d3a9b41d8440629482e855afc823339bdd0b5721842a7ee9cc7b12\n",
      "Use this value as the 'known_hash' argument of 'pooch.retrieve' to ensure that the file hasn't changed if it is downloaded again in the future.\n",
      "Downloading data from 'http://bnci-horizon-2020.eu/database/data-sets/001-2014/A03T.mat' to file '/root/mne_data/MNE-bnci-data/database/data-sets/001-2014/A03T.mat'.\n",
      "100%|█████████████████████████████████████| 44.1M/44.1M [00:00<00:00, 42.5GB/s]\n",
      "SHA256 hash of downloaded file: 7e731ee8b681d5da6ecb11ae1d4e64b1653c7f15aad5d6b7620b25ce53141e80\n",
      "Use this value as the 'known_hash' argument of 'pooch.retrieve' to ensure that the file hasn't changed if it is downloaded again in the future.\n",
      "Downloading data from 'http://bnci-horizon-2020.eu/database/data-sets/001-2014/A03E.mat' to file '/root/mne_data/MNE-bnci-data/database/data-sets/001-2014/A03E.mat'.\n",
      "100%|█████████████████████████████████████| 42.3M/42.3M [00:00<00:00, 42.8GB/s]\n",
      "SHA256 hash of downloaded file: d4229267ec7624fa8bd3af5cbebac17f415f7c722de6cb676748f8cb3b717d97\n",
      "Use this value as the 'known_hash' argument of 'pooch.retrieve' to ensure that the file hasn't changed if it is downloaded again in the future.\n",
      "Downloading data from 'http://bnci-horizon-2020.eu/database/data-sets/001-2014/A04T.mat' to file '/root/mne_data/MNE-bnci-data/database/data-sets/001-2014/A04T.mat'.\n",
      "100%|█████████████████████████████████████| 37.2M/37.2M [00:00<00:00, 38.1GB/s]\n",
      "SHA256 hash of downloaded file: 15850d81b95fc88cc8b9589eb9b713d49fa071e28adaf32d675b3eaa30591d6e\n",
      "Use this value as the 'known_hash' argument of 'pooch.retrieve' to ensure that the file hasn't changed if it is downloaded again in the future.\n",
      "Downloading data from 'http://bnci-horizon-2020.eu/database/data-sets/001-2014/A04E.mat' to file '/root/mne_data/MNE-bnci-data/database/data-sets/001-2014/A04E.mat'.\n",
      "100%|█████████████████████████████████████| 41.7M/41.7M [00:00<00:00, 45.7GB/s]\n",
      "SHA256 hash of downloaded file: 81916dff2c12997974ba50ffc311da006ea66e525010d010765f0047e771c86a\n",
      "Use this value as the 'known_hash' argument of 'pooch.retrieve' to ensure that the file hasn't changed if it is downloaded again in the future.\n",
      "Downloading data from 'http://bnci-horizon-2020.eu/database/data-sets/001-2014/A05T.mat' to file '/root/mne_data/MNE-bnci-data/database/data-sets/001-2014/A05T.mat'.\n",
      "100%|█████████████████████████████████████| 42.5M/42.5M [00:00<00:00, 44.7GB/s]\n",
      "SHA256 hash of downloaded file: 77387d3b669f4ed9a7c1dac4dcba4c2c40c8910bae20fb961bb7cf5a94912950\n",
      "Use this value as the 'known_hash' argument of 'pooch.retrieve' to ensure that the file hasn't changed if it is downloaded again in the future.\n",
      "Downloading data from 'http://bnci-horizon-2020.eu/database/data-sets/001-2014/A05E.mat' to file '/root/mne_data/MNE-bnci-data/database/data-sets/001-2014/A05E.mat'.\n",
      "100%|█████████████████████████████████████| 44.4M/44.4M [00:00<00:00, 47.3GB/s]\n",
      "SHA256 hash of downloaded file: 8b357470865610c28b2f1d351beac247a56a856f02b2859d650736eb2ef77808\n",
      "Use this value as the 'known_hash' argument of 'pooch.retrieve' to ensure that the file hasn't changed if it is downloaded again in the future.\n",
      "Downloading data from 'http://bnci-horizon-2020.eu/database/data-sets/001-2014/A06T.mat' to file '/root/mne_data/MNE-bnci-data/database/data-sets/001-2014/A06T.mat'.\n",
      "100%|█████████████████████████████████████| 44.6M/44.6M [00:00<00:00, 44.8GB/s]\n",
      "SHA256 hash of downloaded file: 4dc3be1b0d60279134d1220323c73c68cf73799339a7fb224087a3c560a9a7e2\n",
      "Use this value as the 'known_hash' argument of 'pooch.retrieve' to ensure that the file hasn't changed if it is downloaded again in the future.\n",
      "Downloading data from 'http://bnci-horizon-2020.eu/database/data-sets/001-2014/A06E.mat' to file '/root/mne_data/MNE-bnci-data/database/data-sets/001-2014/A06E.mat'.\n",
      "100%|█████████████████████████████████████| 43.4M/43.4M [00:00<00:00, 42.8GB/s]\n",
      "SHA256 hash of downloaded file: bf67a40621b74b6af7a986c2f6edfff7fc2bbbca237aadd07b575893032998d1\n",
      "Use this value as the 'known_hash' argument of 'pooch.retrieve' to ensure that the file hasn't changed if it is downloaded again in the future.\n",
      "Downloading data from 'http://bnci-horizon-2020.eu/database/data-sets/001-2014/A07T.mat' to file '/root/mne_data/MNE-bnci-data/database/data-sets/001-2014/A07T.mat'.\n",
      "100%|█████████████████████████████████████| 42.8M/42.8M [00:00<00:00, 40.2GB/s]\n",
      "SHA256 hash of downloaded file: 43b6bbef0be78f0ac2b66cb2d9679091f1f5b7f0a5d4ebef73d2c7cc8e11aa96\n",
      "Use this value as the 'known_hash' argument of 'pooch.retrieve' to ensure that the file hasn't changed if it is downloaded again in the future.\n",
      "Downloading data from 'http://bnci-horizon-2020.eu/database/data-sets/001-2014/A07E.mat' to file '/root/mne_data/MNE-bnci-data/database/data-sets/001-2014/A07E.mat'.\n",
      "100%|█████████████████████████████████████| 42.2M/42.2M [00:00<00:00, 42.3GB/s]\n",
      "SHA256 hash of downloaded file: b9aaec73dcee002fab84ee98e938039a67bf6a3cbf4fc86d5d8df198cfe4c323\n",
      "Use this value as the 'known_hash' argument of 'pooch.retrieve' to ensure that the file hasn't changed if it is downloaded again in the future.\n",
      "Downloading data from 'http://bnci-horizon-2020.eu/database/data-sets/001-2014/A08T.mat' to file '/root/mne_data/MNE-bnci-data/database/data-sets/001-2014/A08T.mat'.\n",
      "100%|█████████████████████████████████████| 45.0M/45.0M [00:00<00:00, 42.7GB/s]\n",
      "SHA256 hash of downloaded file: 7a4b3bd602d5bc307d3f4527fca2cf076659e94aca584dd64f6286fd413a82f2\n",
      "Use this value as the 'known_hash' argument of 'pooch.retrieve' to ensure that the file hasn't changed if it is downloaded again in the future.\n",
      "Downloading data from 'http://bnci-horizon-2020.eu/database/data-sets/001-2014/A08E.mat' to file '/root/mne_data/MNE-bnci-data/database/data-sets/001-2014/A08E.mat'.\n",
      "100%|█████████████████████████████████████| 46.3M/46.3M [00:00<00:00, 44.4GB/s]\n",
      "SHA256 hash of downloaded file: 0eedbd89790c7d621c8eef68065ddecf80d437bbbcf60321d9253e2305f294f7\n",
      "Use this value as the 'known_hash' argument of 'pooch.retrieve' to ensure that the file hasn't changed if it is downloaded again in the future.\n",
      "Downloading data from 'http://bnci-horizon-2020.eu/database/data-sets/001-2014/A09T.mat' to file '/root/mne_data/MNE-bnci-data/database/data-sets/001-2014/A09T.mat'.\n",
      "100%|█████████████████████████████████████| 44.8M/44.8M [00:00<00:00, 48.7GB/s]\n",
      "SHA256 hash of downloaded file: b28d8a262c779c8cad9cc80ee6aa9c5691cfa6617c03befe490a090347ebd15c\n",
      "Use this value as the 'known_hash' argument of 'pooch.retrieve' to ensure that the file hasn't changed if it is downloaded again in the future.\n",
      "Downloading data from 'http://bnci-horizon-2020.eu/database/data-sets/001-2014/A09E.mat' to file '/root/mne_data/MNE-bnci-data/database/data-sets/001-2014/A09E.mat'.\n",
      "100%|█████████████████████████████████████| 44.8M/44.8M [00:00<00:00, 44.8GB/s]\n",
      "SHA256 hash of downloaded file: 5d79649a42df9d51215def8ffbdaf1c3f76c54b88b9bbaae721e8c6fd972cc36\n",
      "Use this value as the 'known_hash' argument of 'pooch.retrieve' to ensure that the file hasn't changed if it is downloaded again in the future.\n"
     ]
    },
    {
     "data": {
      "text/plain": [
       "((5184, 22, 1001),\n",
       " (5184,),\n",
       " array(['feet', 'left_hand', 'right_hand', 'tongue'], dtype='<U32'))"
      ]
     },
     "execution_count": 9,
     "metadata": {},
     "output_type": "execute_result"
    }
   ],
   "source": [
    "obj = BCIDataset(patients=[1, 2, 3, 4, 5, 6, 7, 8, 9])\n",
    "X, labels, meta = obj.get_data()\n",
    "X.shape, labels.shape, np.unique(labels)"
   ]
  },
  {
   "cell_type": "code",
   "execution_count": 10,
   "id": "e48b1503-b07e-42e4-9443-d3072a9879fe",
   "metadata": {},
   "outputs": [
    {
     "data": {
      "text/plain": [
       "array([4, 3, 2, 1, 1, 2, 3, 4, 2, 3])"
      ]
     },
     "execution_count": 10,
     "metadata": {},
     "output_type": "execute_result"
    }
   ],
   "source": [
    "y = labels.copy()\n",
    "y[y == \"left_hand\"] = 1\n",
    "y[y == \"right_hand\"] = 2\n",
    "y[y == \"feet\"] = 3\n",
    "y[y == \"tongue\"] = 4\n",
    "\n",
    "y = y.astype(int)\n",
    "y[:10]"
   ]
  },
  {
   "cell_type": "code",
   "execution_count": 12,
   "id": "c52ab74e-72c5-40ce-949d-cd2cc21e6010",
   "metadata": {},
   "outputs": [],
   "source": [
    "np.save(\"/opt/ext/home/arman/moabb_bci/X.npy\", X)\n",
    "np.save(\"/opt/ext/home/arman/moabb_bci/y.npy\", y)"
   ]
  },
  {
   "cell_type": "code",
   "execution_count": 13,
   "id": "b5e35297-2d6b-4efa-863f-5724fbd10150",
   "metadata": {
    "tags": []
   },
   "outputs": [
    {
     "data": {
      "text/plain": [
       "((5184, 22, 1001), (5184,), array([1, 2, 3, 4]))"
      ]
     },
     "execution_count": 13,
     "metadata": {},
     "output_type": "execute_result"
    }
   ],
   "source": [
    "X = np.load(\"/opt/ext/home/arman/moabb_bci/X.npy\")\n",
    "y = np.load(\"/opt/ext/home/arman/moabb_bci/y.npy\")\n",
    "\n",
    "X.shape, y.shape, np.unique(y)"
   ]
  },
  {
   "cell_type": "code",
   "execution_count": 15,
   "id": "199c08c6-0583-4904-a3e7-9c025c45667c",
   "metadata": {},
   "outputs": [
    {
     "data": {
      "application/vnd.jupyter.widget-view+json": {
       "model_id": "0807c732bc654530b33ea24325445180",
       "version_major": 2,
       "version_minor": 0
      },
      "text/plain": [
       "prepare patients:   0%|          | 0/9 [00:00<?, ?it/s]"
      ]
     },
     "metadata": {},
     "output_type": "display_data"
    }
   ],
   "source": [
    "num_patients = 9\n",
    "patients = [i for i in range(1, num_patients + 1)]\n",
    "base_dir = \"/opt/ext/home/arman/moabb_bci\"\n",
    "\n",
    "with open(os.path.join(base_dir, \"metadata.csv\"), \"w\") as f:\n",
    "    f.write(\"file_name,patient,split,label\\n\")\n",
    "    for patient in tqdm(patients, desc=\"prepare patients\"):\n",
    "        temp_x = X[\n",
    "            (patient - 1) * 576 : (patient) * 576, :, :\n",
    "        ]  # copy data of one patient\n",
    "        temp_y = y[(patient - 1) * 576 : (patient) * 576]  # copy label of one patient\n",
    "\n",
    "        p = \"A{:02d}\".format(patient)\n",
    "        split = \"T\"  # We need to define each file specificaly\n",
    "\n",
    "        for i in range(temp_x.shape[0]):\n",
    "            file_name = f\"{p}_{split}_{temp_y[i]}_{i}.npy\"\n",
    "            f.write(\"{},{},{},{}\\n\".format(file_name, p, split, temp_y[i]))\n",
    "\n",
    "            folder = \"train\" if split == \"T\" else \"test\"\n",
    "            np.save(os.path.join(base_dir, folder + \"/\" + file_name), temp_x[i, :, :])"
   ]
  },
  {
   "cell_type": "code",
   "execution_count": null,
   "id": "4ee195bb-80ea-4846-84ac-0a3fb4e3e317",
   "metadata": {},
   "outputs": [],
   "source": [
    "BCI2aDataset()"
   ]
  }
 ],
 "metadata": {
  "kernelspec": {
   "display_name": "Python 3 (ipykernel)",
   "language": "python",
   "name": "python3"
  },
  "language_info": {
   "codemirror_mode": {
    "name": "ipython",
    "version": 3
   },
   "file_extension": ".py",
   "mimetype": "text/x-python",
   "name": "python",
   "nbconvert_exporter": "python",
   "pygments_lexer": "ipython3",
   "version": "3.8.10"
  }
 },
 "nbformat": 4,
 "nbformat_minor": 5
}
