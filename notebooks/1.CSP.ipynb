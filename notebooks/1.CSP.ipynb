{
 "cells": [
  {
   "cell_type": "code",
   "execution_count": 1,
   "id": "864b5dce-2cbe-443c-a82f-e596cdf7fb37",
   "metadata": {},
   "outputs": [],
   "source": [
    "%config Completer.use_jedi = False\n",
    "%load_ext autoreload\n",
    "# %reload_ext autoreload\n",
    "%autoreload 2\n",
    "%load_ext lab_black"
   ]
  },
  {
   "cell_type": "code",
   "execution_count": 2,
   "id": "dc31114b-bd67-4f04-8d39-b30e461000a7",
   "metadata": {},
   "outputs": [],
   "source": [
    "import numpy as np\n",
    "import scipy.linalg as la"
   ]
  },
  {
   "cell_type": "code",
   "execution_count": 3,
   "id": "9a17c665-b9bb-4385-b434-f04c39946a63",
   "metadata": {},
   "outputs": [
    {
     "data": {
      "text/plain": [
       "array([0.032, 0.048, 0.064, 0.08 , 0.096, 0.112, 0.128, 0.144, 0.16 ,\n",
       "       0.176, 0.192, 0.208, 0.224, 0.24 , 0.256, 0.272])"
      ]
     },
     "execution_count": 3,
     "metadata": {},
     "output_type": "execute_result"
    }
   ],
   "source": [
    "fs = 250\n",
    "low_freq = 4\n",
    "high_freq = 38\n",
    "bandwidth = 4\n",
    "overlap = 2\n",
    "\n",
    "freqs = np.arange(low_freq, high_freq - (bandwidth - overlap), overlap)\n",
    "freqs / (fs / 2)"
   ]
  },
  {
   "cell_type": "code",
   "execution_count": 4,
   "id": "401e4ef6-9280-410b-9196-e7c43045e132",
   "metadata": {},
   "outputs": [
    {
     "data": {
      "text/plain": [
       "((10, 22, 1, 1, 769), array([2, 2, 3, 2, 3, 3, 3, 2, 3, 3]))"
      ]
     },
     "execution_count": 4,
     "metadata": {},
     "output_type": "execute_result"
    }
   ],
   "source": [
    "signals = np.random.randint(1, 50, size=(10, 22, 1, 1, 769))\n",
    "labels = np.random.randint(1, 4, size=(10))\n",
    "signals.shape, labels"
   ]
  },
  {
   "cell_type": "code",
   "execution_count": null,
   "id": "13b65406-db70-4ab4-8567-7bf50028d7af",
   "metadata": {},
   "outputs": [],
   "source": [
    "def make_binary(y, key: int):\n",
    "    idx = y == key\n",
    "    return idx, ~idx\n",
    "\n",
    "\n",
    "def calc_cov(x):\n",
    "    # x's shape will be (trials, channel, signals)\n",
    "    n_trials, n_channels, n_samples = x.shape\n",
    "    covariance_matrix = np.zeros((n_trials, n_channels, n_channels))\n",
    "\n",
    "    for i in range(x.shape[0]):\n",
    "        trial = x[i, :, :]\n",
    "        # covariance_matrix[i, :, :] = np.cov(trial)\n",
    "        # or\n",
    "        covariance_matrix[i, :, :] = trial @ trial.T\n",
    "\n",
    "    mean_cov = np.mean(covariance_matrix, 0)\n",
    "\n",
    "    return mean_cov"
   ]
  },
  {
   "cell_type": "code",
   "execution_count": null,
   "id": "c561e1d1-72ec-4044-a4cf-e2404333d9da",
   "metadata": {},
   "outputs": [],
   "source": [
    "def eval_W(signals, labels, freq_bands, n_windows: int = 5):\n",
    "    num_bands = len(freq_bands)\n",
    "    trials, channels, n_windows, num_bands, data = signals.shape\n",
    "    template = \"label-{}_band-{}_window-{}\"\n",
    "\n",
    "    w_dict = {}\n",
    "    for label in np.unique(labels):\n",
    "        trial_idx, rest_idx = make_binary(labels, label)\n",
    "\n",
    "        x_trial = signals[trial_idx]\n",
    "        x_rest = signals[rest_idx]\n",
    "\n",
    "        for freq_band in range(num_bands):\n",
    "            for window in range(n_windows):\n",
    "                # (batch, num_channel, timepoint)\n",
    "                R_a = calc_cov(x_trial[:, :, window, freq_band, :])\n",
    "                R_b = calc_cov(x_rest[:, :, window, freq_band, :])\n",
    "                R_c = R_a + R_b\n",
    "\n",
    "                lda, V = la.eig(R_c)\n",
    "                W = la.sqrtm(la.inv(np.diag(lda))) @ V.T\n",
    "                T_a = W @ R_a @ W.T\n",
    "                T_b = W @ R_b @ W.T\n",
    "                T_c = W @ R_c @ W.T\n",
    "\n",
    "                sai, E = la.eig(T_a, T_c)\n",
    "                P = E  # or P = E.T @ W although the latter doesn't give\n",
    "                # a coordinate system with orthogonal axis. we skip\n",
    "                # whitning step\n",
    "\n",
    "                sai_a, E_a = la.eig(T_a)\n",
    "                sai_b, E_b = la.eig(T_b)\n",
    "                assert np.allclose(E_a, E_b)\n",
    "\n",
    "                print(\"*\" * 30)\n",
    "                print(\n",
    "                    np.allclose(np.diag(sai_a) + np.diag(sai_b), np.eye(sai_b.shape[0]))\n",
    "                )\n",
    "                print(np.allclose(E @ E.T, np.eye(E.shape[0])))\n",
    "                print(np.allclose(W @ W.T, np.eye(W.shape[0])))\n",
    "                print(np.allclose(P @ P.T, np.eye(W.shape[0])))\n",
    "                print(\"*\" * 30)\n",
    "                w_dict[template.format(label, freq_band, window)] = P\n",
    "\n",
    "    return w_dict"
   ]
  },
  {
   "cell_type": "code",
   "execution_count": null,
   "id": "a39b3331-09e5-49e4-b52b-2641553bdfcd",
   "metadata": {},
   "outputs": [],
   "source": [
    "weights = eval_W(signals=signals, labels=labels, freq_bands=freqs)"
   ]
  },
  {
   "cell_type": "code",
   "execution_count": null,
   "id": "e5b23eed-2d77-41ed-b6de-dd7c8e470c15",
   "metadata": {},
   "outputs": [],
   "source": [
    "w = weights[\"label-1_band-0_window-0\"]\n",
    "print(weights[\"label-1_band-0_window-0\"].shape)\n",
    "\n",
    "np.allclose(w @ w.T, np.eye(w.shape[0])), np.allclose(w.T @ w, np.eye(w.shape[0]))"
   ]
  },
  {
   "cell_type": "code",
   "execution_count": null,
   "id": "8f4a7984-e3c7-4014-9c11-3d27ffc31108",
   "metadata": {},
   "outputs": [],
   "source": [
    "w = la.inv(weights[\"label-1_band-0_window-0\"])\n",
    "print(weights[\"label-1_band-0_window-0\"].shape)\n",
    "\n",
    "np.allclose(w @ w.T, np.eye(w.shape[0])), np.allclose(w.T @ w, np.eye(w.shape[0]))"
   ]
  }
 ],
 "metadata": {
  "kernelspec": {
   "display_name": "Python 3 (ipykernel)",
   "language": "python",
   "name": "python3"
  },
  "language_info": {
   "codemirror_mode": {
    "name": "ipython",
    "version": 3
   },
   "file_extension": ".py",
   "mimetype": "text/x-python",
   "name": "python",
   "nbconvert_exporter": "python",
   "pygments_lexer": "ipython3",
   "version": "3.8.10"
  }
 },
 "nbformat": 4,
 "nbformat_minor": 5
}
