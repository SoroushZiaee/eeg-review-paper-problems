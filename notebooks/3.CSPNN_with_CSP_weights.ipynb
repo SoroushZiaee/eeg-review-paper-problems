{
 "cells": [
  {
   "cell_type": "code",
   "execution_count": null,
   "id": "4bf2c92b-4245-4af8-99c4-6aef21d24ddb",
   "metadata": {},
   "outputs": [],
   "source": [
    "!pip install nb-black"
   ]
  },
  {
   "cell_type": "code",
   "execution_count": 1,
   "id": "3be9923b-6606-4653-b1e7-f1541bf289ee",
   "metadata": {},
   "outputs": [],
   "source": [
    "%config Completer.use_jedi = False\n",
    "%load_ext autoreload\n",
    "# %reload_ext autoreload\n",
    "%autoreload 2\n",
    "%load_ext lab_black"
   ]
  },
  {
   "cell_type": "code",
   "execution_count": 2,
   "id": "c30519aa-cc5c-4a2a-9e92-47d774a41d45",
   "metadata": {},
   "outputs": [],
   "source": [
    "import sys\n",
    "\n",
    "sys.path.insert(0, \"../\")"
   ]
  },
  {
   "cell_type": "markdown",
   "id": "2f60011c-a3e7-42c1-b150-559c77e529d4",
   "metadata": {},
   "source": [
    "## Dataset"
   ]
  },
  {
   "cell_type": "code",
   "execution_count": 3,
   "id": "6cccc8b8-caeb-43db-858f-998a2fefc7e9",
   "metadata": {},
   "outputs": [
    {
     "name": "stderr",
     "output_type": "stream",
     "text": [
      "/usr/local/lib/python3.8/dist-packages/tqdm/auto.py:22: TqdmWarning: IProgress not found. Please update jupyter and ipywidgets. See https://ipywidgets.readthedocs.io/en/stable/user_install.html\n",
      "  from .autonotebook import tqdm as notebook_tqdm\n",
      "/usr/lib/python3/dist-packages/requests/__init__.py:89: RequestsDependencyWarning: urllib3 (1.26.12) or chardet (3.0.4) doesn't match a supported version!\n",
      "  warnings.warn(\"urllib3 ({}) or chardet ({}) doesn't match a supported \"\n"
     ]
    }
   ],
   "source": [
    "import os\n",
    "from typing import Dict, List, Tuple, Any, Union, Callable\n",
    "from torch import Tensor\n",
    "import torch\n",
    "import numpy as np\n",
    "import scipy\n",
    "from torch.utils.data import DataLoader\n",
    "from pytorch_lightning.utilities.apply_func import apply_to_collection\n",
    "from cspnn.data.bci.bci_dataset import BCI2aDataset\n",
    "from cspnn.data.utils import eeg_electrode_configs"
   ]
  },
  {
   "cell_type": "code",
   "execution_count": 4,
   "id": "9a716bcf-61fe-41cc-b946-ea462962a0ed",
   "metadata": {
    "tags": []
   },
   "outputs": [],
   "source": [
    "class ToTensor:\n",
    "    def __init__(self, device):\n",
    "        if isinstance(device, str):\n",
    "            device = torch.device(device)\n",
    "        self.device = device\n",
    "\n",
    "    def __call__(self, data, label):\n",
    "        data = apply_to_collection(\n",
    "            data,\n",
    "            dtype=(np.ndarray, int, float, np.int64),\n",
    "            function=lambda a: torch.from_numpy(a),\n",
    "        )\n",
    "        label = apply_to_collection(\n",
    "            label,\n",
    "            dtype=(np.ndarray, int, float, np.int64),\n",
    "            function=lambda a: torch.tensor(a, dtype=torch.float64),\n",
    "        )\n",
    "\n",
    "        return data, label\n",
    "\n",
    "\n",
    "class ToNumpy:\n",
    "    def __call__(self, data, label):\n",
    "        data = apply_to_collection(\n",
    "            data,\n",
    "            dtype=(np.ndarray, int, float, np.int64),\n",
    "            function=lambda a: a.cpu().detach().numpy(),\n",
    "        )\n",
    "        label = apply_to_collection(\n",
    "            label,\n",
    "            dtype=(np.ndarray, int, float, np.int64),\n",
    "            function=lambda a: a.cpu().detach().numpy(),\n",
    "        )\n",
    "\n",
    "        return data, label\n",
    "\n",
    "\n",
    "class DictToTensor:\n",
    "    def __call__(self, data: Dict[str, Tensor], label):\n",
    "        # The output shape [batch, channel, signal]\n",
    "        return (\n",
    "            torch.permute(\n",
    "                torch.vstack(list(map(lambda a: a.unsqueeze(0), data.values()))),\n",
    "                (1, 0, 2),\n",
    "            ),\n",
    "            label,\n",
    "        )\n",
    "\n",
    "\n",
    "class DictToArray:\n",
    "    def __call__(self, data, label):\n",
    "        # The output shape [batch, channel, signal]\n",
    "        return (\n",
    "            np.transpose(\n",
    "                np.vstack(\n",
    "                    list(map(lambda a: np.expand_dims(a, axis=0), data.values()))\n",
    "                ),\n",
    "                (1, 0, 2),\n",
    "            ),\n",
    "            label,\n",
    "        )\n",
    "\n",
    "\n",
    "class Windowing:\n",
    "    def __init__(self, n_segments: int = 5, sample_rate: float = 250.0):\n",
    "        self.n_segments = n_segments\n",
    "        self.sample_rate = sample_rate\n",
    "\n",
    "    # The Output of the signal is [batch, channels, windowed, band_filtered, signal]\n",
    "    def __call__(self, data: Tensor, label):\n",
    "        \"\"\"Takes as input a signal tensor of shape [batch, channels, band_filtered, signal]\n",
    "        and outputs a signal tensor of shape [batch, channels, windowed, band_filtered, signal]\n",
    "        \"\"\"\n",
    "        start, end = 0, data.size()[-1]\n",
    "        step = int((end - start) / self.n_segments)\n",
    "        windows = np.arange(start, end - step, step=step)\n",
    "\n",
    "        if len(windows) == 0:\n",
    "            data = data.unsqueeze(dim=2)\n",
    "            return data, label\n",
    "\n",
    "        windowed_data = torch.permute(\n",
    "            torch.stack(\n",
    "                [data[:, :, :, window : (window + step)] for window in windows], dim=0\n",
    "            ),\n",
    "            (1, 2, 0, 3, 4),\n",
    "        )\n",
    "\n",
    "        return windowed_data, label\n",
    "\n",
    "\n",
    "class Filtering:\n",
    "    def __init__(self, N: int, rs: float, Wns: List[float], bandwidth, fs: float):\n",
    "        self.N = N\n",
    "        self.rs = rs\n",
    "        self.Wns = Wns / (fs / 2)  # Normalize the signals\n",
    "        self.bandwidth = bandwidth / (fs / 2)  # Normalize the signals\n",
    "        self.fs = fs\n",
    "\n",
    "    # The Output of the signal is [batch, channels, band_filtered, signal]\n",
    "    def __call__(self, data, label):\n",
    "        filtered_data = []\n",
    "\n",
    "        for wn in self.Wns:\n",
    "            b, a = scipy.signal.cheby2(\n",
    "                N=self.N,\n",
    "                rs=self.rs,\n",
    "                Wn=[wn, wn + self.bandwidth],\n",
    "                btype=\"bandpass\",\n",
    "                fs=self.fs,\n",
    "            )\n",
    "            filtered_data.append(scipy.signal.filtfilt(b, a, data, axis=-1))\n",
    "\n",
    "        filtered_data = torch.permute(torch.Tensor(filtered_data), (1, 2, 0, 3))\n",
    "\n",
    "        return filtered_data, label\n",
    "\n",
    "\n",
    "class ExpandDim(object):\n",
    "    def __init__(self, dim):\n",
    "        self.dim = dim\n",
    "\n",
    "    def __call__(self, data, label):\n",
    "        return data.unsqueeze_(self.dim), label\n",
    "\n",
    "\n",
    "class LabelToDict:\n",
    "    def __call__(self, data, label):\n",
    "        return data, {\"label\": label}\n",
    "\n",
    "\n",
    "class ToNumpy:\n",
    "    def __call__(self, data, label):\n",
    "        return data.cpu().detach().numpy(), label.cpu().detach().numpy()\n",
    "\n",
    "\n",
    "class Compose:\n",
    "    def __init__(self, transforms: List[Callable]) -> None:\n",
    "        self.transforms = transforms\n",
    "\n",
    "    def __call__(self, data: Any, target: Any):\n",
    "        for t in self.transforms:\n",
    "            data, target = t(data, target)\n",
    "        return data, target\n",
    "\n",
    "    def __repr__(self):\n",
    "        return \"\\n\".join([c.__class__.__name__ for c in self.transforms])\n",
    "\n",
    "\n",
    "# TODO: complete this part\n",
    "from scipy.signal import cheby2, filtfilt\n",
    "\n",
    "\n",
    "def cheby_bandpass_filter(signal, attenuation, lowcut, highcut, fs, order=5):\n",
    "    nyq = 0.5 * fs\n",
    "    low = lowcut / nyq\n",
    "    high = highcut / nyq\n",
    "    b, a = cheby2(order, rs=attenuation, Wn=[low, high], btype=\"band\")\n",
    "    y = filtfilt(b, a, signal, axis=-1)\n",
    "    # print(\"filtered shape \", y.shape)\n",
    "    return y\n",
    "\n",
    "\n",
    "def cheby_bandpass_one_subject(\n",
    "    X, attenuation, lowcut, highcut, fs, interval=None, verbose=True\n",
    "):\n",
    "    temp_epoch_EEG = X.copy()\n",
    "    # print(f\"data shape : {temp_epoch_EEG.shape}\")\n",
    "\n",
    "    if interval is not None:\n",
    "        startband = np.arange(lowcut, highcut, step=interval)\n",
    "\n",
    "        bands = []\n",
    "        for start in startband:\n",
    "            # This will be new key inside the EEG_filtered\n",
    "            band = \"{:02d}_{:02d}\".format(start, start + interval)\n",
    "\n",
    "            if verbose:\n",
    "                print(\"Filtering through {} Hz band\".format(band))\n",
    "            # Bandpass filtering\n",
    "            bands.append(\n",
    "                cheby_bandpass_filter(\n",
    "                    temp_epoch_EEG, attenuation, start, start + interval, fs\n",
    "                )\n",
    "            )\n",
    "\n",
    "        return np.vstack(bands)\n",
    "\n",
    "    else:\n",
    "        # This will be new key inside the EEG_filtered\n",
    "        band = \"{:02d}_{:02d}\".format(lowcut, highcut)\n",
    "\n",
    "        return cheby_bandpass_filter(temp_epoch_EEG, attenuation, lowcut, highcut, fs)\n",
    "\n",
    "\n",
    "from functools import partial\n",
    "\n",
    "\n",
    "class BandPass:\n",
    "    def __init__(self, attenuation, lowcut, highcut, fs, interval=None):\n",
    "        self.attenuation = attenuation\n",
    "        self.lowcut = lowcut\n",
    "        self.highcut = highcut\n",
    "        self.fs = fs\n",
    "        self.interval = interval\n",
    "\n",
    "        self.bandpass_func = partial(\n",
    "            cheby_bandpass_one_subject,\n",
    "            attenuation=self.attenuation,\n",
    "            lowcut=self.lowcut,\n",
    "            highcut=self.highcut,\n",
    "            fs=self.fs,\n",
    "            interval=self.interval,\n",
    "            verbose=False,\n",
    "        )\n",
    "\n",
    "    # The Output of the signal is [batch, channels, band_filtered, signal]\n",
    "    def __call__(self, data, label):\n",
    "        filtered_data = data = apply_to_collection(\n",
    "            data,\n",
    "            dtype=(np.ndarray, int, float, np.int64, Tensor),\n",
    "            function=self.bandpass_func,\n",
    "        )\n",
    "\n",
    "        filtered_data = np.expand_dims(filtered_data.transpose(1, 0, 2), axis=0)\n",
    "\n",
    "        return filtered_data, label"
   ]
  },
  {
   "cell_type": "code",
   "execution_count": 5,
   "id": "97c1ca1c-3ee5-439d-be82-523e85faf35c",
   "metadata": {},
   "outputs": [],
   "source": [
    "directory = \"../test_data\"\n",
    "electrod_positions, shape = eeg_electrode_configs(\n",
    "    \"../configs/eeg_recording_standard/international_10_20_22.py\"\n",
    ")\n",
    "if not os.path.exists(directory):\n",
    "    os.makedirs(directory)\n",
    "\n",
    "\n",
    "fs = 250\n",
    "low_freq = 4\n",
    "high_freq = 38\n",
    "bandwidth = 4\n",
    "overlap = 2\n",
    "\n",
    "freqs = np.arange(low_freq, high_freq - (bandwidth - overlap), overlap)\n",
    "\n",
    "lowcut = 4\n",
    "highcut = 40\n",
    "fs = 250\n",
    "attenuation = 40\n",
    "interval = 4\n",
    "\n",
    "transforms = [\n",
    "    ToTensor(device=\"cuda\"),\n",
    "    DictToTensor(),\n",
    "    # ToNumpy(),\n",
    "    # BandPass(\n",
    "    #     attenuation=attenuation,\n",
    "    #     lowcut=lowcut,\n",
    "    #     highcut=highcut,\n",
    "    #     fs=fs,\n",
    "    #     interval=interval,\n",
    "    # ),\n",
    "    # ToTensor(device=\"cpu\"),\n",
    "    # Filtering(N=4, rs=40, Wns=freqs, bandwidth=bandwidth, fs=fs),\n",
    "    ExpandDim(dim=2),\n",
    "    ExpandDim(dim=2),\n",
    "    # Windowing(n_segments=1),\n",
    "    LabelToDict(),\n",
    "]\n",
    "compose = Compose(transforms=transforms)\n",
    "\n",
    "ds = BCI2aDataset(\n",
    "    eeg_electrode_positions=electrod_positions,\n",
    "    data_path=directory,\n",
    "    transforms=compose,\n",
    ")"
   ]
  },
  {
   "cell_type": "code",
   "execution_count": 6,
   "id": "b8e39c04-9b10-422c-a83b-b680b3bfea28",
   "metadata": {
    "tags": []
   },
   "outputs": [
    {
     "name": "stdout",
     "output_type": "stream",
     "text": [
      "tensor(-22.1658, dtype=torch.float64) tensor(18.0601, dtype=torch.float64)\n",
      "torch.Size([1, 22, 1, 1, 1001])\n"
     ]
    }
   ],
   "source": [
    "for i in range(len(ds)):\n",
    "    wave, label = ds[i]\n",
    "    print(wave.min(), wave.max())\n",
    "    print(wave.shape)\n",
    "    if np.isnan(wave).any() or np.isinf(wave).any():\n",
    "        print(f\"date {i} : has NAN or INF\")\n",
    "    break"
   ]
  },
  {
   "cell_type": "code",
   "execution_count": 7,
   "id": "f4beeb3f-3e2c-4a8d-93f9-f14b2d2bf155",
   "metadata": {},
   "outputs": [],
   "source": [
    "def collate_fn(batch):\n",
    "    imgs = torch.vstack([item[0] for item in batch])\n",
    "\n",
    "    trgts = {}\n",
    "    sample_item_label = batch[0][1]\n",
    "    for label_key in sample_item_label.keys():\n",
    "        if isinstance(sample_item_label[label_key], dict):\n",
    "            trgts[label_key] = {\n",
    "                key: torch.vstack([item[1][label_key][key].squeeze() for item in batch])\n",
    "                for key in sample_item_label[label_key].keys()\n",
    "            }\n",
    "        else:\n",
    "            trgts[label_key] = torch.vstack(\n",
    "                [item[1][label_key] for item in batch]\n",
    "            ).squeeze()\n",
    "\n",
    "    return [imgs, trgts]"
   ]
  },
  {
   "cell_type": "code",
   "execution_count": 8,
   "id": "05fd663e-d920-440d-932d-d2e225744a75",
   "metadata": {},
   "outputs": [],
   "source": [
    "batch_size = 32\n",
    "train_dataset, val_dataset = ds.get_train_test_subsets()\n",
    "\n",
    "train_dataloader = DataLoader(\n",
    "    train_dataset,\n",
    "    batch_size=batch_size,\n",
    "    shuffle=True,\n",
    "    collate_fn=collate_fn,\n",
    "    num_workers=os.cpu_count(),\n",
    ")\n",
    "\n",
    "\n",
    "val_dataloader = DataLoader(\n",
    "    val_dataset,\n",
    "    batch_size=batch_size,\n",
    "    collate_fn=collate_fn,\n",
    "    num_workers=os.cpu_count(),\n",
    ")"
   ]
  },
  {
   "cell_type": "markdown",
   "id": "491a9be7-7113-4384-beb6-9565f55f012b",
   "metadata": {},
   "source": [
    "## Get CSP Weights"
   ]
  },
  {
   "cell_type": "code",
   "execution_count": 9,
   "id": "651ea1cf-e8f3-494a-a16b-6333ebbcd3d0",
   "metadata": {},
   "outputs": [],
   "source": [
    "from cspnn.csp import CSP as CSP_base"
   ]
  },
  {
   "cell_type": "code",
   "execution_count": 10,
   "id": "888cc158-3cd6-4fc7-a691-f804755f8858",
   "metadata": {},
   "outputs": [],
   "source": [
    "csp_dataloader = DataLoader(\n",
    "    train_dataset,\n",
    "    batch_size=1,\n",
    "    shuffle=False,\n",
    "    collate_fn=collate_fn,\n",
    "    num_workers=1,\n",
    ")\n",
    "\n",
    "csp = CSP_base(list(range(1, 5)), num_bands=1, num_windows=1)"
   ]
  },
  {
   "cell_type": "code",
   "execution_count": 11,
   "id": "b08bdbd8-abc4-48c3-82ec-1074ea4a8959",
   "metadata": {
    "scrolled": true,
    "tags": []
   },
   "outputs": [],
   "source": [
    "signale = []\n",
    "label = []\n",
    "for sig, lbl in csp_dataloader:\n",
    "    signale.append(sig)\n",
    "    label.append(lbl[\"label\"])\n",
    "signale = torch.vstack(signale)\n",
    "label = torch.stack(label)"
   ]
  },
  {
   "cell_type": "code",
   "execution_count": 12,
   "id": "a42440e1-cfa7-49ec-92f7-88db12fe9a4e",
   "metadata": {},
   "outputs": [
    {
     "data": {
      "text/plain": [
       "(torch.Size([2592, 22, 1, 1, 1001]), torch.Size([2592]))"
      ]
     },
     "execution_count": 12,
     "metadata": {},
     "output_type": "execute_result"
    }
   ],
   "source": [
    "signale.size(), label.size()"
   ]
  },
  {
   "cell_type": "code",
   "execution_count": 13,
   "id": "045b0ab3-856b-48ac-b438-d7dc1b445331",
   "metadata": {
    "tags": []
   },
   "outputs": [],
   "source": [
    "weights = csp.calculate_weights(\n",
    "    signals=signale.cpu().detach().numpy(), labels=label.cpu().detach().numpy()\n",
    ")"
   ]
  },
  {
   "cell_type": "code",
   "execution_count": null,
   "id": "f98e151d-1d9a-40a4-ad05-0841e8994215",
   "metadata": {},
   "outputs": [],
   "source": [
    "weights"
   ]
  },
  {
   "cell_type": "markdown",
   "id": "296ac82d-6f53-45c3-87a3-af820ae9381e",
   "metadata": {},
   "source": [
    "## Model"
   ]
  },
  {
   "cell_type": "code",
   "execution_count": 14,
   "id": "d17aaf20-45a1-4345-97a8-b9c93a8b5fa3",
   "metadata": {},
   "outputs": [],
   "source": [
    "import torch\n",
    "import numpy as np\n",
    "import torch.nn as nn\n",
    "from cspnn.csp_nn import CSP, CSPNN"
   ]
  },
  {
   "cell_type": "code",
   "execution_count": 15,
   "id": "478a2bff-311f-4b26-a27c-b9b646712a4b",
   "metadata": {},
   "outputs": [],
   "source": [
    "import torch.optim as optim"
   ]
  },
  {
   "cell_type": "code",
   "execution_count": 16,
   "id": "1d94a4ce-32c0-4251-81b0-6fa1f1728165",
   "metadata": {},
   "outputs": [],
   "source": [
    "import numpy as np\n",
    "from sklearn.metrics import (\n",
    "    roc_auc_score,\n",
    "    precision_score,\n",
    "    recall_score,\n",
    "    accuracy_score,\n",
    "    cohen_kappa_score,\n",
    ")\n",
    "import torch\n",
    "import torch.nn as nn\n",
    "import torch.optim as optim\n",
    "from torch.autograd import Variable\n",
    "import torch.nn.functional as F\n",
    "import torch.optim as optim\n",
    "\n",
    "from tqdm import tqdm\n",
    "import random"
   ]
  },
  {
   "cell_type": "code",
   "execution_count": 17,
   "id": "4dc6f76e-493d-4193-b330-8ee365d02967",
   "metadata": {},
   "outputs": [],
   "source": [
    "class CSPNNCls(nn.Module):\n",
    "    def __init__(\n",
    "        self,\n",
    "        num_channels: int,\n",
    "        num_features: int = None,\n",
    "        num_bands: int = None,\n",
    "        num_windows: int = 1,\n",
    "        num_labels: int = None,\n",
    "        mode: str = \"constant\",\n",
    "    ):\n",
    "        super(CSPNNCls, self).__init__()\n",
    "        self.num_channels = num_channels\n",
    "        self.num_features = num_channels if num_features is None else num_features\n",
    "        self.num_bands = num_bands\n",
    "        self.num_windows = num_windows\n",
    "        self.num_labels = num_labels\n",
    "        self.mode = mode\n",
    "\n",
    "        self.conv1 = CSPNN(\n",
    "            num_channels=num_channels,\n",
    "            num_features=num_features,\n",
    "            num_bands=num_bands,\n",
    "            num_windows=num_windows,\n",
    "            num_labels=num_labels,\n",
    "            mode=self.mode,\n",
    "        )\n",
    "\n",
    "        self.fc1 = nn.Linear(\n",
    "            self.num_bands * self.num_windows * self.num_labels * self.num_features, 500\n",
    "        )\n",
    "        self.fc = nn.Linear(500, 4)\n",
    "\n",
    "    def forward(self, x):\n",
    "        csp = self.conv1(x)\n",
    "\n",
    "        features = csp.reshape(\n",
    "            (\n",
    "                -1,\n",
    "                self.num_bands * self.num_windows * self.num_labels * self.num_features,\n",
    "            )\n",
    "        )\n",
    "\n",
    "        x = torch.tanh(self.fc1(features))\n",
    "\n",
    "        x = F.softmax(self.fc(x), dim=1)\n",
    "        if self.training:\n",
    "            return x, csp\n",
    "        return x\n",
    "\n",
    "\n",
    "net = CSPNNCls(\n",
    "    num_channels=22, num_features=22, num_bands=1, num_windows=1, num_labels=4\n",
    ")\n",
    "# .cuda(0)\n",
    "cls_criterion = nn.CrossEntropyLoss()  # nn.BCELoss()\n",
    "# reg_criterion = nn.MSELoss()\n",
    "optimizer = optim.Adam(net.parameters(), lr=0.001, weight_decay=0.00)\n",
    "# lr_scheduler = torch.optim.lr_scheduler.OneCycleLR(\n",
    "#     optimizer, max_lr=0.1, steps_per_epoch=1, epochs=200\n",
    "# )\n",
    "lr_scheduler = torch.optim.lr_scheduler.StepLR(optimizer, step_size=200, gamma=0.1)"
   ]
  },
  {
   "cell_type": "code",
   "execution_count": 18,
   "id": "529a07ba-ee42-401a-b26c-53efb42fb326",
   "metadata": {},
   "outputs": [
    {
     "data": {
      "text/plain": [
       "(torch.Size([10, 4]), torch.Size([10, 4, 22]))"
      ]
     },
     "execution_count": 18,
     "metadata": {},
     "output_type": "execute_result"
    }
   ],
   "source": [
    "signals = torch.empty((10, 22, 1, 16, 769), dtype=torch.float32).random_(1, 50)\n",
    "a, b = net(signals)\n",
    "a.size(), b.size()"
   ]
  },
  {
   "cell_type": "code",
   "execution_count": 19,
   "id": "c3c8ef79-2a52-4108-bfbf-e37cead2c39f",
   "metadata": {},
   "outputs": [],
   "source": [
    "net.conv1.load_csp_weights(weights=weights, csp_template=csp.template)"
   ]
  },
  {
   "cell_type": "markdown",
   "id": "88352a5d-2595-4daa-a411-4516c590949d",
   "metadata": {},
   "source": [
    "## Train Loop"
   ]
  },
  {
   "cell_type": "code",
   "execution_count": 20,
   "id": "76a8edb8-9677-47f7-8603-367429f03339",
   "metadata": {},
   "outputs": [],
   "source": [
    "net = net.cuda()"
   ]
  },
  {
   "cell_type": "code",
   "execution_count": 21,
   "id": "7cc495e2-621e-4554-8e93-099c2ac997ed",
   "metadata": {
    "jupyter": {
     "source_hidden": true
    },
    "tags": []
   },
   "outputs": [],
   "source": [
    "def evaluate(model, dl, params=[\"acc\"]):\n",
    "    model.eval()\n",
    "    results = []\n",
    "    predicted = []\n",
    "    Y = []\n",
    "\n",
    "    for batch in dl:\n",
    "        inputs, labels = batch\n",
    "        # inputs = torch.permute(\n",
    "        #     torch.vstack(list(map(lambda a: a.unsqueeze(0), inputs.values()))),\n",
    "        #     (1, 2, 3, 0),\n",
    "        # )\n",
    "        # wrap them in Variable\n",
    "        # inputs, labels = inputs.cuda(0), labels.type(torch.LongTensor).cuda(0)\n",
    "\n",
    "        pred = model(inputs.float().cuda(0))\n",
    "\n",
    "        predicted.append(pred.cpu().detach())\n",
    "        Y.append(labels[\"label\"].type(torch.LongTensor).cpu())\n",
    "\n",
    "    predicted = torch.cat(predicted, 0)\n",
    "    Y = torch.cat(Y, 0)\n",
    "\n",
    "    loss = cls_criterion(predicted, Y)\n",
    "\n",
    "    predicted = predicted.numpy()\n",
    "    Y = Y.numpy()\n",
    "\n",
    "    for param in params:\n",
    "        if param == \"acc\":\n",
    "            results.append(accuracy_score(Y, np.argmax(predicted, axis=1)))\n",
    "        if param == \"auc\":\n",
    "            results.append(roc_auc_score(Y, predicted, multi_class=\"ovr\"))\n",
    "        if param == \"kappa\":\n",
    "            results.append(cohen_kappa_score(Y, np.argmax(predicted, axis=1)))\n",
    "        if param == \"recall\":\n",
    "            results.append(\n",
    "                recall_score(Y, np.argmax(predicted, axis=1), average=\"micro\")\n",
    "            )\n",
    "        if param == \"precision\":\n",
    "            results.append(\n",
    "                precision_score(Y, np.argmax(predicted, axis=1), average=\"micro\")\n",
    "            )\n",
    "        if param == \"fmeasure\":\n",
    "            precision = precision_score(\n",
    "                Y, np.argmax(predicted, axis=1), average=\"micro\"\n",
    "            )\n",
    "            recall = recall_score(Y, np.argmax(predicted, axis=1), average=\"micro\")\n",
    "            results.append(2 * precision * recall / (precision + recall))\n",
    "\n",
    "    results.append(loss)\n",
    "    return results"
   ]
  },
  {
   "cell_type": "code",
   "execution_count": 22,
   "id": "ba450cc6-3030-44da-866a-2e2851688ffc",
   "metadata": {
    "scrolled": true,
    "tags": []
   },
   "outputs": [
    {
     "name": "stdout",
     "output_type": "stream",
     "text": [
      "\n",
      "Epoch  0\n"
     ]
    },
    {
     "name": "stderr",
     "output_type": "stream",
     "text": [
      "81it [00:02, 36.22it/s]"
     ]
    },
    {
     "name": "stdout",
     "output_type": "stream",
     "text": [
      "['acc', 'kappa', 'auc', 'fmeasure', 'loss']\n",
      "Training Loss  1.4043341551297976\n"
     ]
    },
    {
     "name": "stderr",
     "output_type": "stream",
     "text": [
      "\n"
     ]
    },
    {
     "name": "stdout",
     "output_type": "stream",
     "text": [
      "Train -  [0.25, 0.0, 0.5747297795051568, 0.25, tensor(1.4018)]\n",
      "Validation -  [0.25, 0.0, 0.5640042128677031, 0.25, tensor(1.4017)]\n",
      "\n",
      "Epoch  1\n"
     ]
    },
    {
     "name": "stderr",
     "output_type": "stream",
     "text": [
      "81it [00:02, 39.96it/s]"
     ]
    },
    {
     "name": "stdout",
     "output_type": "stream",
     "text": [
      "['acc', 'kappa', 'auc', 'fmeasure', 'loss']\n",
      "Training Loss  1.3964113423853746\n"
     ]
    },
    {
     "name": "stderr",
     "output_type": "stream",
     "text": [
      "\n"
     ]
    },
    {
     "name": "stdout",
     "output_type": "stream",
     "text": [
      "Train -  [0.25, 0.0, 0.606555109421836, 0.25, tensor(1.4091)]\n",
      "Validation -  [0.25, 0.0, 0.5949009575204491, 0.25, tensor(1.4091)]\n",
      "\n",
      "Epoch  2\n"
     ]
    },
    {
     "name": "stderr",
     "output_type": "stream",
     "text": [
      "81it [00:01, 42.94it/s]"
     ]
    },
    {
     "name": "stdout",
     "output_type": "stream",
     "text": [
      "['acc', 'kappa', 'auc', 'fmeasure', 'loss']\n",
      "Training Loss  1.4022087432720043\n"
     ]
    },
    {
     "name": "stderr",
     "output_type": "stream",
     "text": [
      "\n"
     ]
    },
    {
     "name": "stdout",
     "output_type": "stream",
     "text": [
      "Train -  [0.25, 0.0, 0.5692124469720063, 0.25, tensor(1.4007)]\n",
      "Validation -  [0.25, 0.0, 0.5611401653711324, 0.25, tensor(1.4004)]\n",
      "\n",
      "Epoch  3\n"
     ]
    },
    {
     "name": "stderr",
     "output_type": "stream",
     "text": [
      "81it [00:02, 39.91it/s]"
     ]
    },
    {
     "name": "stdout",
     "output_type": "stream",
     "text": [
      "['acc', 'kappa', 'auc', 'fmeasure', 'loss']\n",
      "Training Loss  1.3886504982724601\n"
     ]
    },
    {
     "name": "stderr",
     "output_type": "stream",
     "text": [
      "\n"
     ]
    },
    {
     "name": "stdout",
     "output_type": "stream",
     "text": [
      "Train -  [0.25, 0.0, 0.5917327730465376, 0.25, tensor(1.3963)]\n",
      "Validation -  [0.25, 0.0, 0.5691210570352588, 0.25, tensor(1.3970)]\n",
      "\n",
      "Epoch  4\n"
     ]
    },
    {
     "name": "stderr",
     "output_type": "stream",
     "text": [
      "81it [00:02, 40.45it/s]"
     ]
    },
    {
     "name": "stdout",
     "output_type": "stream",
     "text": [
      "['acc', 'kappa', 'auc', 'fmeasure', 'loss']\n",
      "Training Loss  1.383716834916009\n"
     ]
    },
    {
     "name": "stderr",
     "output_type": "stream",
     "text": [
      "\n"
     ]
    },
    {
     "name": "stdout",
     "output_type": "stream",
     "text": [
      "Train -  [0.2523148148148148, 0.0030864197530864335, 0.5702629847139664, 0.2523148148148148, tensor(1.4155)]\n",
      "Validation -  [0.25655864197530864, 0.008744855967078191, 0.5622602626632118, 0.25655864197530864, tensor(1.4142)]\n",
      "\n",
      "Epoch  5\n"
     ]
    },
    {
     "name": "stderr",
     "output_type": "stream",
     "text": [
      "81it [00:01, 45.62it/s]"
     ]
    },
    {
     "name": "stdout",
     "output_type": "stream",
     "text": [
      "['acc', 'kappa', 'auc', 'fmeasure', 'loss']\n",
      "Training Loss  1.3863456072630707\n"
     ]
    },
    {
     "name": "stderr",
     "output_type": "stream",
     "text": [
      "\n"
     ]
    },
    {
     "name": "stdout",
     "output_type": "stream",
     "text": [
      "Train -  [0.2986111111111111, 0.06481481481481477, 0.5974399307143219, 0.2986111111111111, tensor(1.3802)]\n",
      "Validation -  [0.2951388888888889, 0.06018518518518523, 0.5814461956383681, 0.2951388888888889, tensor(1.3831)]\n",
      "\n",
      "Epoch  6\n"
     ]
    },
    {
     "name": "stderr",
     "output_type": "stream",
     "text": [
      "81it [00:01, 43.16it/s]"
     ]
    },
    {
     "name": "stdout",
     "output_type": "stream",
     "text": [
      "['acc', 'kappa', 'auc', 'fmeasure', 'loss']\n",
      "Training Loss  1.3996956745783489\n"
     ]
    },
    {
     "name": "stderr",
     "output_type": "stream",
     "text": [
      "\n"
     ]
    },
    {
     "name": "stdout",
     "output_type": "stream",
     "text": [
      "Train -  [0.27353395061728397, 0.03137860082304522, 0.5727897527371336, 0.27353395061728397, tensor(1.3835)]\n",
      "Validation -  [0.2569444444444444, 0.0092592592592593, 0.5540507473136718, 0.2569444444444444, tensor(1.3861)]\n",
      "\n",
      "Epoch  7\n"
     ]
    },
    {
     "name": "stderr",
     "output_type": "stream",
     "text": [
      "81it [00:02, 39.60it/s]"
     ]
    },
    {
     "name": "stdout",
     "output_type": "stream",
     "text": [
      "['acc', 'kappa', 'auc', 'fmeasure', 'loss']\n",
      "Training Loss  1.380881428718567\n"
     ]
    },
    {
     "name": "stderr",
     "output_type": "stream",
     "text": [
      "\n"
     ]
    },
    {
     "name": "stdout",
     "output_type": "stream",
     "text": [
      "Train -  [0.3275462962962963, 0.10339506172839508, 0.6068542849476706, 0.3275462962962963, tensor(1.3747)]\n",
      "Validation -  [0.31905864197530864, 0.09207818930041156, 0.5864212415218717, 0.31905864197530864, tensor(1.3807)]\n",
      "\n",
      "Epoch  8\n"
     ]
    },
    {
     "name": "stderr",
     "output_type": "stream",
     "text": [
      "81it [00:02, 39.02it/s]"
     ]
    },
    {
     "name": "stdout",
     "output_type": "stream",
     "text": [
      "['acc', 'kappa', 'auc', 'fmeasure', 'loss']\n",
      "Training Loss  1.384642724637632\n"
     ]
    },
    {
     "name": "stderr",
     "output_type": "stream",
     "text": [
      "\n"
     ]
    },
    {
     "name": "stdout",
     "output_type": "stream",
     "text": [
      "Train -  [0.27546296296296297, 0.03395061728395066, 0.6011828497307321, 0.27546296296296297, tensor(1.3745)]\n",
      "Validation -  [0.26967592592592593, 0.026234567901234573, 0.5860275999593558, 0.26967592592592593, tensor(1.3765)]\n",
      "\n",
      "Epoch  9\n"
     ]
    },
    {
     "name": "stderr",
     "output_type": "stream",
     "text": [
      "81it [00:01, 40.91it/s]"
     ]
    },
    {
     "name": "stdout",
     "output_type": "stream",
     "text": [
      "['acc', 'kappa', 'auc', 'fmeasure', 'loss']\n",
      "Training Loss  1.3911470969518025\n"
     ]
    },
    {
     "name": "stderr",
     "output_type": "stream",
     "text": [
      "\n"
     ]
    },
    {
     "name": "stdout",
     "output_type": "stream",
     "text": [
      "Train -  [0.25, 0.0, 0.5931427183356196, 0.25, tensor(1.4203)]\n",
      "Validation -  [0.25, 0.0, 0.588819706409084, 0.25, tensor(1.4190)]\n",
      "\n",
      "Epoch  10\n"
     ]
    },
    {
     "name": "stderr",
     "output_type": "stream",
     "text": [
      "81it [00:02, 39.98it/s]"
     ]
    },
    {
     "name": "stdout",
     "output_type": "stream",
     "text": [
      "['acc', 'kappa', 'auc', 'fmeasure', 'loss']\n",
      "Training Loss  1.389500865229854\n"
     ]
    },
    {
     "name": "stderr",
     "output_type": "stream",
     "text": [
      "\n"
     ]
    },
    {
     "name": "stdout",
     "output_type": "stream",
     "text": [
      "Train -  [0.28973765432098764, 0.052983539094650256, 0.5976722258738505, 0.28973765432098764, tensor(1.3768)]\n",
      "Validation -  [0.29050925925925924, 0.054012345679012363, 0.5839175938627242, 0.29050925925925924, tensor(1.3780)]\n",
      "\n",
      "Epoch  11\n"
     ]
    },
    {
     "name": "stderr",
     "output_type": "stream",
     "text": [
      "81it [00:02, 39.35it/s]"
     ]
    },
    {
     "name": "stdout",
     "output_type": "stream",
     "text": [
      "['acc', 'kappa', 'auc', 'fmeasure', 'loss']\n",
      "Training Loss  1.384306029037193\n"
     ]
    },
    {
     "name": "stderr",
     "output_type": "stream",
     "text": [
      "\n"
     ]
    },
    {
     "name": "stdout",
     "output_type": "stream",
     "text": [
      "Train -  [0.3159722222222222, 0.08796296296296291, 0.5871609939414724, 0.3159722222222222, tensor(1.3732)]\n",
      "Validation -  [0.30478395061728397, 0.07304526748971196, 0.5689409563455774, 0.30478395061728397, tensor(1.3836)]\n",
      "\n",
      "Epoch  12\n"
     ]
    },
    {
     "name": "stderr",
     "output_type": "stream",
     "text": [
      "81it [00:01, 41.83it/s]"
     ]
    },
    {
     "name": "stdout",
     "output_type": "stream",
     "text": [
      "['acc', 'kappa', 'auc', 'fmeasure', 'loss']\n",
      "Training Loss  1.378986801630185\n"
     ]
    },
    {
     "name": "stderr",
     "output_type": "stream",
     "text": [
      "\n"
     ]
    },
    {
     "name": "stdout",
     "output_type": "stream",
     "text": [
      "Train -  [0.28896604938271603, 0.05195473251028804, 0.5756913088070923, 0.28896604938271603, tensor(1.3818)]\n",
      "Validation -  [0.2835648148148148, 0.04475308641975306, 0.5584066040491795, 0.2835648148148148, tensor(1.3904)]\n",
      "\n",
      "Epoch  13\n"
     ]
    },
    {
     "name": "stderr",
     "output_type": "stream",
     "text": [
      "81it [00:01, 42.67it/s]"
     ]
    },
    {
     "name": "stdout",
     "output_type": "stream",
     "text": [
      "['acc', 'kappa', 'auc', 'fmeasure', 'loss']\n",
      "Training Loss  1.397296537587672\n"
     ]
    },
    {
     "name": "stderr",
     "output_type": "stream",
     "text": [
      "\n"
     ]
    },
    {
     "name": "stdout",
     "output_type": "stream",
     "text": [
      "Train -  [0.2665895061728395, 0.022119341563786032, 0.5746276728331555, 0.2665895061728395, tensor(1.3908)]\n",
      "Validation -  [0.26427469135802467, 0.0190329218106996, 0.5651069450795103, 0.26427469135802467, tensor(1.3902)]\n",
      "\n",
      "Epoch  14\n"
     ]
    },
    {
     "name": "stderr",
     "output_type": "stream",
     "text": [
      "81it [00:02, 39.35it/s]"
     ]
    },
    {
     "name": "stdout",
     "output_type": "stream",
     "text": [
      "['acc', 'kappa', 'auc', 'fmeasure', 'loss']\n",
      "Training Loss  1.3806792630089655\n"
     ]
    },
    {
     "name": "stderr",
     "output_type": "stream",
     "text": [
      "\n"
     ]
    },
    {
     "name": "stdout",
     "output_type": "stream",
     "text": [
      "Train -  [0.2611882716049383, 0.014917695473251058, 0.5940482824645633, 0.2611882716049383, tensor(1.4148)]\n",
      "Validation -  [0.26350308641975306, 0.01800411522633749, 0.5833353179139359, 0.26350308641975306, tensor(1.4144)]\n",
      "\n",
      "Epoch  15\n"
     ]
    },
    {
     "name": "stderr",
     "output_type": "stream",
     "text": [
      "81it [00:01, 40.62it/s]"
     ]
    },
    {
     "name": "stdout",
     "output_type": "stream",
     "text": [
      "['acc', 'kappa', 'auc', 'fmeasure', 'loss']\n",
      "Training Loss  1.3931893389901997\n"
     ]
    },
    {
     "name": "stderr",
     "output_type": "stream",
     "text": [
      "\n"
     ]
    },
    {
     "name": "stdout",
     "output_type": "stream",
     "text": [
      "Train -  [0.2623456790123457, 0.016460905349794275, 0.6048911378156276, 0.2623456790123457, tensor(1.3970)]\n",
      "Validation -  [0.26427469135802467, 0.0190329218106996, 0.5907634046512219, 0.26427469135802467, tensor(1.3967)]\n",
      "\n",
      "Epoch  16\n"
     ]
    },
    {
     "name": "stderr",
     "output_type": "stream",
     "text": [
      "81it [00:01, 41.22it/s]"
     ]
    },
    {
     "name": "stdout",
     "output_type": "stream",
     "text": [
      "['acc', 'kappa', 'auc', 'fmeasure', 'loss']\n",
      "Training Loss  1.3858446236009951\n"
     ]
    },
    {
     "name": "stderr",
     "output_type": "stream",
     "text": [
      "\n"
     ]
    },
    {
     "name": "stdout",
     "output_type": "stream",
     "text": [
      "Train -  [0.2881944444444444, 0.05092592592592593, 0.5963766916565056, 0.2881944444444444, tensor(1.3790)]\n",
      "Validation -  [0.283179012345679, 0.044238683127572065, 0.5838846498247219, 0.283179012345679, tensor(1.3825)]\n",
      "\n",
      "Epoch  17\n"
     ]
    },
    {
     "name": "stderr",
     "output_type": "stream",
     "text": [
      "81it [00:01, 43.49it/s]"
     ]
    },
    {
     "name": "stdout",
     "output_type": "stream",
     "text": [
      "['acc', 'kappa', 'auc', 'fmeasure', 'loss']\n",
      "Training Loss  1.3788335338050937\n"
     ]
    },
    {
     "name": "stderr",
     "output_type": "stream",
     "text": [
      "\n"
     ]
    },
    {
     "name": "stdout",
     "output_type": "stream",
     "text": [
      "Train -  [0.33796296296296297, 0.11728395061728392, 0.606411028870091, 0.33796296296296297, tensor(1.3642)]\n",
      "Validation -  [0.32330246913580246, 0.09773662551440332, 0.5835789251828989, 0.32330246913580246, tensor(1.3711)]\n",
      "\n",
      "Epoch  18\n"
     ]
    },
    {
     "name": "stderr",
     "output_type": "stream",
     "text": [
      "81it [00:01, 41.35it/s]"
     ]
    },
    {
     "name": "stdout",
     "output_type": "stream",
     "text": [
      "['acc', 'kappa', 'auc', 'fmeasure', 'loss']\n",
      "Training Loss  1.374962235674446\n"
     ]
    },
    {
     "name": "stderr",
     "output_type": "stream",
     "text": [
      "\n"
     ]
    },
    {
     "name": "stdout",
     "output_type": "stream",
     "text": [
      "Train -  [0.3248456790123457, 0.09979423868312753, 0.5933339326766753, 0.3248456790123457, tensor(1.3595)]\n",
      "Validation -  [0.3121141975308642, 0.08281893004115226, 0.5761203751333638, 0.3121141975308642, tensor(1.3705)]\n",
      "\n",
      "Epoch  19\n"
     ]
    },
    {
     "name": "stderr",
     "output_type": "stream",
     "text": [
      "81it [00:02, 38.95it/s]"
     ]
    },
    {
     "name": "stdout",
     "output_type": "stream",
     "text": [
      "['acc', 'kappa', 'auc', 'fmeasure', 'loss']\n",
      "Training Loss  1.3734918979950894\n"
     ]
    },
    {
     "name": "stderr",
     "output_type": "stream",
     "text": [
      "\n"
     ]
    },
    {
     "name": "stdout",
     "output_type": "stream",
     "text": [
      "Train -  [0.3097993827160494, 0.07973251028806583, 0.6016156867601483, 0.3097993827160494, tensor(1.3639)]\n",
      "Validation -  [0.3136574074074074, 0.08487654320987659, 0.5936315205380277, 0.3136574074074074, tensor(1.3652)]\n",
      "\n",
      "Epoch  20\n"
     ]
    },
    {
     "name": "stderr",
     "output_type": "stream",
     "text": [
      "81it [00:01, 44.32it/s]"
     ]
    },
    {
     "name": "stdout",
     "output_type": "stream",
     "text": [
      "['acc', 'kappa', 'auc', 'fmeasure', 'loss']\n",
      "Training Loss  1.3685330976674586\n"
     ]
    },
    {
     "name": "stderr",
     "output_type": "stream",
     "text": [
      "\n"
     ]
    },
    {
     "name": "stdout",
     "output_type": "stream",
     "text": [
      "Train -  [0.2978395061728395, 0.06378600823045266, 0.5911946540161561, 0.2978395061728395, tensor(1.3744)]\n",
      "Validation -  [0.3136574074074074, 0.08487654320987659, 0.5796612638444343, 0.3136574074074074, tensor(1.3732)]\n",
      "\n",
      "Epoch  21\n"
     ]
    },
    {
     "name": "stderr",
     "output_type": "stream",
     "text": [
      "81it [00:01, 41.23it/s]"
     ]
    },
    {
     "name": "stdout",
     "output_type": "stream",
     "text": [
      "['acc', 'kappa', 'auc', 'fmeasure', 'loss']\n",
      "Training Loss  1.3711249887207408\n"
     ]
    },
    {
     "name": "stderr",
     "output_type": "stream",
     "text": [
      "\n"
     ]
    },
    {
     "name": "stdout",
     "output_type": "stream",
     "text": [
      "Train -  [0.2908950617283951, 0.05452674897119336, 0.5784421359802876, 0.2908950617283951, tensor(1.3736)]\n",
      "Validation -  [0.26774691358024694, 0.02366255144032925, 0.5594336245109993, 0.26774691358024694, tensor(1.3857)]\n",
      "\n",
      "Epoch  22\n"
     ]
    },
    {
     "name": "stderr",
     "output_type": "stream",
     "text": [
      "81it [00:01, 40.95it/s]"
     ]
    },
    {
     "name": "stdout",
     "output_type": "stream",
     "text": [
      "['acc', 'kappa', 'auc', 'fmeasure', 'loss']\n",
      "Training Loss  1.3636291041786288\n"
     ]
    },
    {
     "name": "stderr",
     "output_type": "stream",
     "text": [
      "\n"
     ]
    },
    {
     "name": "stdout",
     "output_type": "stream",
     "text": [
      "Train -  [0.28973765432098764, 0.052983539094650256, 0.5835597739800844, 0.28973765432098764, tensor(1.3688)]\n",
      "Validation -  [0.2839506172839506, 0.04526748971193417, 0.5647003045140477, 0.2839506172839506, tensor(1.3813)]\n",
      "\n",
      "Epoch  23\n"
     ]
    },
    {
     "name": "stderr",
     "output_type": "stream",
     "text": [
      "81it [00:01, 41.39it/s]"
     ]
    },
    {
     "name": "stdout",
     "output_type": "stream",
     "text": [
      "['acc', 'kappa', 'auc', 'fmeasure', 'loss']\n",
      "Training Loss  1.3604844867447277\n"
     ]
    },
    {
     "name": "stderr",
     "output_type": "stream",
     "text": [
      "\n"
     ]
    },
    {
     "name": "stdout",
     "output_type": "stream",
     "text": [
      "Train -  [0.31867283950617287, 0.09156378600823045, 0.5981027806355739, 0.31867283950617287, tensor(1.3612)]\n",
      "Validation -  [0.3140432098765432, 0.08539094650205759, 0.5793609967992684, 0.3140432098765432, tensor(1.3705)]\n",
      "\n",
      "Epoch  24\n"
     ]
    },
    {
     "name": "stderr",
     "output_type": "stream",
     "text": [
      "81it [00:01, 40.65it/s]"
     ]
    },
    {
     "name": "stdout",
     "output_type": "stream",
     "text": [
      "['acc', 'kappa', 'auc', 'fmeasure', 'loss']\n",
      "Training Loss  1.364784386422899\n"
     ]
    },
    {
     "name": "stderr",
     "output_type": "stream",
     "text": [
      "\n"
     ]
    },
    {
     "name": "stdout",
     "output_type": "stream",
     "text": [
      "Train -  [0.3097993827160494, 0.07973251028806583, 0.6202342281410355, 0.3097993827160494, tensor(1.3718)]\n",
      "Validation -  [0.31828703703703703, 0.09104938271604934, 0.6090111271465224, 0.31828703703703703, tensor(1.3735)]\n",
      "\n",
      "Epoch  25\n"
     ]
    },
    {
     "name": "stderr",
     "output_type": "stream",
     "text": [
      "81it [00:01, 41.58it/s]"
     ]
    },
    {
     "name": "stdout",
     "output_type": "stream",
     "text": [
      "['acc', 'kappa', 'auc', 'fmeasure', 'loss']\n",
      "Training Loss  1.3648313019010756\n"
     ]
    },
    {
     "name": "stderr",
     "output_type": "stream",
     "text": [
      "\n"
     ]
    },
    {
     "name": "stdout",
     "output_type": "stream",
     "text": [
      "Train -  [0.3487654320987654, 0.13168724279835387, 0.6173627384672051, 0.3487654320987654, tensor(1.3592)]\n",
      "Validation -  [0.3175154320987654, 0.09002057613168724, 0.5964174747878881, 0.3175154320987654, tensor(1.3625)]\n",
      "\n",
      "Epoch  26\n"
     ]
    },
    {
     "name": "stderr",
     "output_type": "stream",
     "text": [
      "81it [00:02, 39.90it/s]"
     ]
    },
    {
     "name": "stdout",
     "output_type": "stream",
     "text": [
      "['acc', 'kappa', 'auc', 'fmeasure', 'loss']\n",
      "Training Loss  1.3673310265128995\n"
     ]
    },
    {
     "name": "stderr",
     "output_type": "stream",
     "text": [
      "\n"
     ]
    },
    {
     "name": "stdout",
     "output_type": "stream",
     "text": [
      "Train -  [0.279320987654321, 0.039094650205761305, 0.6178443961794442, 0.279320987654321, tensor(1.3723)]\n",
      "Validation -  [0.27816358024691357, 0.03755144032921809, 0.5992334954338769, 0.27816358024691357, tensor(1.3721)]\n",
      "\n",
      "Epoch  27\n"
     ]
    },
    {
     "name": "stderr",
     "output_type": "stream",
     "text": [
      "81it [00:02, 39.57it/s]"
     ]
    },
    {
     "name": "stdout",
     "output_type": "stream",
     "text": [
      "['acc', 'kappa', 'auc', 'fmeasure', 'loss']\n",
      "Training Loss  1.3516362375683255\n"
     ]
    },
    {
     "name": "stderr",
     "output_type": "stream",
     "text": [
      "\n"
     ]
    },
    {
     "name": "stdout",
     "output_type": "stream",
     "text": [
      "Train -  [0.36419753086419754, 0.15226337448559668, 0.6298546810699588, 0.36419753086419754, tensor(1.3515)]\n",
      "Validation -  [0.34992283950617287, 0.13323045267489708, 0.6128577404994157, 0.34992283950617287, tensor(1.3552)]\n",
      "\n",
      "Epoch  28\n"
     ]
    },
    {
     "name": "stderr",
     "output_type": "stream",
     "text": [
      "81it [00:01, 41.64it/s]"
     ]
    },
    {
     "name": "stdout",
     "output_type": "stream",
     "text": [
      "['acc', 'kappa', 'auc', 'fmeasure', 'loss']\n",
      "Training Loss  1.3633156455593345\n"
     ]
    },
    {
     "name": "stderr",
     "output_type": "stream",
     "text": [
      "\n"
     ]
    },
    {
     "name": "stdout",
     "output_type": "stream",
     "text": [
      "Train -  [0.3645833333333333, 0.1527777777777778, 0.6327717168686176, 0.36458333333333326, tensor(1.3489)]\n",
      "Validation -  [0.34066358024691357, 0.12088477366255146, 0.6105227821914851, 0.34066358024691357, tensor(1.3545)]\n",
      "\n",
      "Epoch  29\n"
     ]
    },
    {
     "name": "stderr",
     "output_type": "stream",
     "text": [
      "81it [00:01, 41.79it/s]\n"
     ]
    },
    {
     "name": "stdout",
     "output_type": "stream",
     "text": [
      "['acc', 'kappa', 'auc', 'fmeasure', 'loss']\n",
      "Training Loss  1.3547848227583332\n",
      "Train -  [0.31712962962962965, 0.08950617283950613, 0.6210645766651425, 0.31712962962962965, tensor(1.3583)]\n",
      "Validation -  [0.3001543209876543, 0.0668724279835391, 0.603388711070467, 0.3001543209876543, tensor(1.3688)]\n",
      "\n",
      "Epoch  30\n"
     ]
    },
    {
     "name": "stderr",
     "output_type": "stream",
     "text": [
      "81it [00:02, 39.25it/s]"
     ]
    },
    {
     "name": "stdout",
     "output_type": "stream",
     "text": [
      "['acc', 'kappa', 'auc', 'fmeasure', 'loss']\n",
      "Training Loss  1.3732612162460516\n"
     ]
    },
    {
     "name": "stderr",
     "output_type": "stream",
     "text": [
      "\n"
     ]
    },
    {
     "name": "stdout",
     "output_type": "stream",
     "text": [
      "Train -  [0.3175154320987654, 0.09002057613168724, 0.5991962845475791, 0.3175154320987654, tensor(1.3688)]\n",
      "Validation -  [0.3121141975308642, 0.08281893004115226, 0.5788698131001371, 0.3121141975308642, tensor(1.3869)]\n",
      "\n",
      "Epoch  31\n"
     ]
    },
    {
     "name": "stderr",
     "output_type": "stream",
     "text": [
      "81it [00:02, 39.93it/s]"
     ]
    },
    {
     "name": "stdout",
     "output_type": "stream",
     "text": [
      "['acc', 'kappa', 'auc', 'fmeasure', 'loss']\n",
      "Training Loss  1.3497708447185564\n"
     ]
    },
    {
     "name": "stderr",
     "output_type": "stream",
     "text": [
      "\n"
     ]
    },
    {
     "name": "stdout",
     "output_type": "stream",
     "text": [
      "Train -  [0.2951388888888889, 0.06018518518518523, 0.5898871130861657, 0.2951388888888889, tensor(1.3918)]\n",
      "Validation -  [0.2932098765432099, 0.057613168724279795, 0.570826804063151, 0.2932098765432099, tensor(1.4086)]\n",
      "\n",
      "Epoch  32\n"
     ]
    },
    {
     "name": "stderr",
     "output_type": "stream",
     "text": [
      "81it [00:02, 39.10it/s]"
     ]
    },
    {
     "name": "stdout",
     "output_type": "stream",
     "text": [
      "['acc', 'kappa', 'auc', 'fmeasure', 'loss']\n",
      "Training Loss  1.3780167662067178\n"
     ]
    },
    {
     "name": "stderr",
     "output_type": "stream",
     "text": [
      "\n"
     ]
    },
    {
     "name": "stdout",
     "output_type": "stream",
     "text": [
      "Train -  [0.3271604938271605, 0.10288065843621397, 0.6176565556254129, 0.3271604938271605, tensor(1.3527)]\n",
      "Validation -  [0.3283179012345679, 0.10442386831275718, 0.5916030807041609, 0.3283179012345679, tensor(1.3637)]\n",
      "\n",
      "Epoch  33\n"
     ]
    },
    {
     "name": "stderr",
     "output_type": "stream",
     "text": [
      "81it [00:02, 38.12it/s]"
     ]
    },
    {
     "name": "stdout",
     "output_type": "stream",
     "text": [
      "['acc', 'kappa', 'auc', 'fmeasure', 'loss']\n",
      "Training Loss  1.3544919696854956\n"
     ]
    },
    {
     "name": "stderr",
     "output_type": "stream",
     "text": [
      "\n"
     ]
    },
    {
     "name": "stdout",
     "output_type": "stream",
     "text": [
      "Train -  [0.36728395061728397, 0.15637860082304522, 0.6322083936645837, 0.36728395061728397, tensor(1.3453)]\n",
      "Validation -  [0.3445216049382716, 0.1260288065843621, 0.6061746653203273, 0.3445216049382716, tensor(1.3549)]\n",
      "\n",
      "Epoch  34\n"
     ]
    },
    {
     "name": "stderr",
     "output_type": "stream",
     "text": [
      "81it [00:02, 40.15it/s]"
     ]
    },
    {
     "name": "stdout",
     "output_type": "stream",
     "text": [
      "['acc', 'kappa', 'auc', 'fmeasure', 'loss']\n",
      "Training Loss  1.3535142209794786\n"
     ]
    },
    {
     "name": "stderr",
     "output_type": "stream",
     "text": [
      "\n"
     ]
    },
    {
     "name": "stdout",
     "output_type": "stream",
     "text": [
      "Train -  [0.3541666666666667, 0.13888888888888884, 0.6423234040796627, 0.3541666666666667, tensor(1.3480)]\n",
      "Validation -  [0.35185185185185186, 0.13580246913580252, 0.6185163751714677, 0.35185185185185186, tensor(1.3520)]\n",
      "\n",
      "Epoch  35\n"
     ]
    },
    {
     "name": "stderr",
     "output_type": "stream",
     "text": [
      "81it [00:02, 39.02it/s]"
     ]
    },
    {
     "name": "stdout",
     "output_type": "stream",
     "text": [
      "['acc', 'kappa', 'auc', 'fmeasure', 'loss']\n",
      "Training Loss  1.3644109728895588\n"
     ]
    },
    {
     "name": "stderr",
     "output_type": "stream",
     "text": [
      "\n"
     ]
    },
    {
     "name": "stdout",
     "output_type": "stream",
     "text": [
      "Train -  [0.3722993827160494, 0.1630658436213992, 0.6391186040936341, 0.3722993827160494, tensor(1.3365)]\n",
      "Validation -  [0.35146604938271603, 0.1352880658436214, 0.6141201322206981, 0.35146604938271603, tensor(1.3499)]\n",
      "\n",
      "Epoch  36\n"
     ]
    },
    {
     "name": "stderr",
     "output_type": "stream",
     "text": [
      "81it [00:02, 38.74it/s]"
     ]
    },
    {
     "name": "stdout",
     "output_type": "stream",
     "text": [
      "['acc', 'kappa', 'auc', 'fmeasure', 'loss']\n",
      "Training Loss  1.355390155756915\n"
     ]
    },
    {
     "name": "stderr",
     "output_type": "stream",
     "text": [
      "\n"
     ]
    },
    {
     "name": "stdout",
     "output_type": "stream",
     "text": [
      "Train -  [0.3472222222222222, 0.12962962962962965, 0.64057836235584, 0.3472222222222222, tensor(1.3447)]\n",
      "Validation -  [0.33719135802469136, 0.11625514403292181, 0.6178517391276737, 0.33719135802469136, tensor(1.3534)]\n",
      "\n",
      "Epoch  37\n"
     ]
    },
    {
     "name": "stderr",
     "output_type": "stream",
     "text": [
      "81it [00:02, 39.57it/s]"
     ]
    },
    {
     "name": "stdout",
     "output_type": "stream",
     "text": [
      "['acc', 'kappa', 'auc', 'fmeasure', 'loss']\n",
      "Training Loss  1.3574395812587974\n"
     ]
    },
    {
     "name": "stderr",
     "output_type": "stream",
     "text": [
      "\n"
     ]
    },
    {
     "name": "stdout",
     "output_type": "stream",
     "text": [
      "Train -  [0.30092592592592593, 0.0679012345679012, 0.6061652385624651, 0.30092592592592593, tensor(1.3710)]\n",
      "Validation -  [0.2762345679012346, 0.034979423868312765, 0.5844891530762588, 0.2762345679012346, tensor(1.3876)]\n",
      "\n",
      "Epoch  38\n"
     ]
    },
    {
     "name": "stderr",
     "output_type": "stream",
     "text": [
      "81it [00:02, 40.25it/s]"
     ]
    },
    {
     "name": "stdout",
     "output_type": "stream",
     "text": [
      "['acc', 'kappa', 'auc', 'fmeasure', 'loss']\n",
      "Training Loss  1.3648537044171933\n"
     ]
    },
    {
     "name": "stderr",
     "output_type": "stream",
     "text": [
      "\n"
     ]
    },
    {
     "name": "stdout",
     "output_type": "stream",
     "text": [
      "Train -  [0.33641975308641975, 0.1152263374485597, 0.6194542879642331, 0.33641975308641975, tensor(1.3680)]\n",
      "Validation -  [0.3279320987654321, 0.10390946502057619, 0.599753356322715, 0.3279320987654321, tensor(1.3833)]\n",
      "\n",
      "Epoch  39\n"
     ]
    },
    {
     "name": "stderr",
     "output_type": "stream",
     "text": [
      "81it [00:02, 39.80it/s]"
     ]
    },
    {
     "name": "stdout",
     "output_type": "stream",
     "text": [
      "['acc', 'kappa', 'auc', 'fmeasure', 'loss']\n",
      "Training Loss  1.3497045157868186\n"
     ]
    },
    {
     "name": "stderr",
     "output_type": "stream",
     "text": [
      "\n"
     ]
    },
    {
     "name": "stdout",
     "output_type": "stream",
     "text": [
      "Train -  [0.32523148148148145, 0.10030864197530864, 0.6137184531067419, 0.32523148148148145, tensor(1.3542)]\n",
      "Validation -  [0.32600308641975306, 0.10133744855967075, 0.5916269949004217, 0.32600308641975306, tensor(1.3674)]\n",
      "\n",
      "Epoch  40\n"
     ]
    },
    {
     "name": "stderr",
     "output_type": "stream",
     "text": [
      "81it [00:02, 40.34it/s]"
     ]
    },
    {
     "name": "stdout",
     "output_type": "stream",
     "text": [
      "['acc', 'kappa', 'auc', 'fmeasure', 'loss']\n",
      "Training Loss  1.35338701583721\n"
     ]
    },
    {
     "name": "stderr",
     "output_type": "stream",
     "text": [
      "\n"
     ]
    },
    {
     "name": "stdout",
     "output_type": "stream",
     "text": [
      "Train -  [0.3001543209876543, 0.0668724279835391, 0.6041767880277397, 0.3001543209876543, tensor(1.3752)]\n",
      "Validation -  [0.283179012345679, 0.044238683127572065, 0.5843075639511254, 0.283179012345679, tensor(1.3945)]\n",
      "\n",
      "Epoch  41\n"
     ]
    },
    {
     "name": "stderr",
     "output_type": "stream",
     "text": [
      "81it [00:02, 38.46it/s]"
     ]
    },
    {
     "name": "stdout",
     "output_type": "stream",
     "text": [
      "['acc', 'kappa', 'auc', 'fmeasure', 'loss']\n",
      "Training Loss  1.3594954470057545\n"
     ]
    },
    {
     "name": "stderr",
     "output_type": "stream",
     "text": [
      "\n"
     ]
    },
    {
     "name": "stdout",
     "output_type": "stream",
     "text": [
      "Train -  [0.3819444444444444, 0.17592592592592593, 0.6429031993026978, 0.3819444444444445, tensor(1.3303)]\n",
      "Validation -  [0.36766975308641975, 0.15689300411522633, 0.6125504281931109, 0.3676697530864197, tensor(1.3454)]\n",
      "\n",
      "Epoch  42\n"
     ]
    },
    {
     "name": "stderr",
     "output_type": "stream",
     "text": [
      "81it [00:01, 40.65it/s]"
     ]
    },
    {
     "name": "stdout",
     "output_type": "stream",
     "text": [
      "['acc', 'kappa', 'auc', 'fmeasure', 'loss']\n",
      "Training Loss  1.3429274058636325\n"
     ]
    },
    {
     "name": "stderr",
     "output_type": "stream",
     "text": [
      "\n"
     ]
    },
    {
     "name": "stdout",
     "output_type": "stream",
     "text": [
      "Train -  [0.3923611111111111, 0.18981481481481477, 0.6488998080513642, 0.3923611111111111, tensor(1.3314)]\n",
      "Validation -  [0.36574074074074076, 0.154320987654321, 0.6220143969415232, 0.3657407407407408, tensor(1.3457)]\n",
      "\n",
      "Epoch  43\n"
     ]
    },
    {
     "name": "stderr",
     "output_type": "stream",
     "text": [
      "81it [00:01, 40.96it/s]"
     ]
    },
    {
     "name": "stdout",
     "output_type": "stream",
     "text": [
      "['acc', 'kappa', 'auc', 'fmeasure', 'loss']\n",
      "Training Loss  1.3379694650202623\n"
     ]
    },
    {
     "name": "stderr",
     "output_type": "stream",
     "text": [
      "\n"
     ]
    },
    {
     "name": "stdout",
     "output_type": "stream",
     "text": [
      "Train -  [0.33024691358024694, 0.10699588477366251, 0.6206803618604887, 0.33024691358024694, tensor(1.3594)]\n",
      "Validation -  [0.3256172839506173, 0.10082304526748975, 0.5996314038446883, 0.3256172839506173, tensor(1.3795)]\n",
      "\n",
      "Epoch  44\n"
     ]
    },
    {
     "name": "stderr",
     "output_type": "stream",
     "text": [
      "81it [00:02, 38.77it/s]"
     ]
    },
    {
     "name": "stdout",
     "output_type": "stream",
     "text": [
      "['acc', 'kappa', 'auc', 'fmeasure', 'loss']\n",
      "Training Loss  1.3553556189124967\n"
     ]
    },
    {
     "name": "stderr",
     "output_type": "stream",
     "text": [
      "\n"
     ]
    },
    {
     "name": "stdout",
     "output_type": "stream",
     "text": [
      "Train -  [0.3472222222222222, 0.12962962962962965, 0.6541818685540821, 0.3472222222222222, tensor(1.3442)]\n",
      "Validation -  [0.34066358024691357, 0.12088477366255146, 0.6271427516765736, 0.34066358024691357, tensor(1.3500)]\n",
      "\n",
      "Epoch  45\n"
     ]
    },
    {
     "name": "stderr",
     "output_type": "stream",
     "text": [
      "81it [00:02, 39.25it/s]"
     ]
    },
    {
     "name": "stdout",
     "output_type": "stream",
     "text": [
      "['acc', 'kappa', 'auc', 'fmeasure', 'loss']\n",
      "Training Loss  1.3494834738013186\n"
     ]
    },
    {
     "name": "stderr",
     "output_type": "stream",
     "text": [
      "\n"
     ]
    },
    {
     "name": "stdout",
     "output_type": "stream",
     "text": [
      "Train -  [0.37114197530864196, 0.16152263374485598, 0.6368410001651172, 0.3711419753086419, tensor(1.3376)]\n",
      "Validation -  [0.33989197530864196, 0.11985596707818935, 0.6096760608774069, 0.33989197530864196, tensor(1.3530)]\n",
      "\n",
      "Epoch  46\n"
     ]
    },
    {
     "name": "stderr",
     "output_type": "stream",
     "text": [
      "81it [00:02, 40.41it/s]"
     ]
    },
    {
     "name": "stdout",
     "output_type": "stream",
     "text": [
      "['acc', 'kappa', 'auc', 'fmeasure', 'loss']\n",
      "Training Loss  1.3536072336597207\n"
     ]
    },
    {
     "name": "stderr",
     "output_type": "stream",
     "text": [
      "\n"
     ]
    },
    {
     "name": "stdout",
     "output_type": "stream",
     "text": [
      "Train -  [0.38271604938271603, 0.17695473251028804, 0.6510251946476655, 0.38271604938271603, tensor(1.3395)]\n",
      "Validation -  [0.35532407407407407, 0.14043209876543206, 0.625978894382208, 0.355324074074074, tensor(1.3523)]\n",
      "\n",
      "Epoch  47\n"
     ]
    },
    {
     "name": "stderr",
     "output_type": "stream",
     "text": [
      "81it [00:01, 41.42it/s]"
     ]
    },
    {
     "name": "stdout",
     "output_type": "stream",
     "text": [
      "['acc', 'kappa', 'auc', 'fmeasure', 'loss']\n",
      "Training Loss  1.3383131159676447\n"
     ]
    },
    {
     "name": "stderr",
     "output_type": "stream",
     "text": [
      "\n"
     ]
    },
    {
     "name": "stdout",
     "output_type": "stream",
     "text": [
      "Train -  [0.39737654320987653, 0.19650205761316875, 0.6495458882665244, 0.39737654320987653, tensor(1.3197)]\n",
      "Validation -  [0.37885802469135804, 0.1718106995884774, 0.6198402888914291, 0.378858024691358, tensor(1.3382)]\n",
      "\n",
      "Epoch  48\n"
     ]
    },
    {
     "name": "stderr",
     "output_type": "stream",
     "text": [
      "81it [00:01, 41.69it/s]"
     ]
    },
    {
     "name": "stdout",
     "output_type": "stream",
     "text": [
      "['acc', 'kappa', 'auc', 'fmeasure', 'loss']\n",
      "Training Loss  1.362931301564346\n"
     ]
    },
    {
     "name": "stderr",
     "output_type": "stream",
     "text": [
      "\n"
     ]
    },
    {
     "name": "stdout",
     "output_type": "stream",
     "text": [
      "Train -  [0.4047067901234568, 0.20627572016460904, 0.6561019502870498, 0.4047067901234568, tensor(1.3251)]\n",
      "Validation -  [0.36419753086419754, 0.15226337448559668, 0.6350811733158055, 0.36419753086419754, tensor(1.3335)]\n",
      "\n",
      "Epoch  49\n"
     ]
    },
    {
     "name": "stderr",
     "output_type": "stream",
     "text": [
      "81it [00:02, 38.66it/s]"
     ]
    },
    {
     "name": "stdout",
     "output_type": "stream",
     "text": [
      "['acc', 'kappa', 'auc', 'fmeasure', 'loss']\n",
      "Training Loss  1.3563568179990038\n"
     ]
    },
    {
     "name": "stderr",
     "output_type": "stream",
     "text": [
      "\n"
     ]
    },
    {
     "name": "stdout",
     "output_type": "stream",
     "text": [
      "Train -  [0.3445216049382716, 0.1260288065843621, 0.626085565589595, 0.3445216049382716, tensor(1.3608)]\n",
      "Validation -  [0.3290895061728395, 0.10545267489711929, 0.6029636139054007, 0.3290895061728395, tensor(1.3788)]\n",
      "\n",
      "Epoch  50\n"
     ]
    },
    {
     "name": "stderr",
     "output_type": "stream",
     "text": [
      "81it [00:01, 41.22it/s]"
     ]
    },
    {
     "name": "stdout",
     "output_type": "stream",
     "text": [
      "['acc', 'kappa', 'auc', 'fmeasure', 'loss']\n",
      "Training Loss  1.3564768735273385\n"
     ]
    },
    {
     "name": "stderr",
     "output_type": "stream",
     "text": [
      "\n"
     ]
    },
    {
     "name": "stdout",
     "output_type": "stream",
     "text": [
      "Train -  [0.375, 0.16666666666666663, 0.6453239907216888, 0.375, tensor(1.3260)]\n",
      "Validation -  [0.3441358024691358, 0.1255144032921811, 0.620163080926434, 0.3441358024691358, tensor(1.3466)]\n",
      "\n",
      "Epoch  51\n"
     ]
    },
    {
     "name": "stderr",
     "output_type": "stream",
     "text": [
      "81it [00:02, 39.29it/s]"
     ]
    },
    {
     "name": "stdout",
     "output_type": "stream",
     "text": [
      "['acc', 'kappa', 'auc', 'fmeasure', 'loss']\n",
      "Training Loss  1.3316446248395943\n"
     ]
    },
    {
     "name": "stderr",
     "output_type": "stream",
     "text": [
      "\n"
     ]
    },
    {
     "name": "stdout",
     "output_type": "stream",
     "text": [
      "Train -  [0.3487654320987654, 0.13168724279835387, 0.6337028820873343, 0.3487654320987654, tensor(1.3400)]\n",
      "Validation -  [0.33796296296296297, 0.11728395061728392, 0.6098399872351775, 0.33796296296296297, tensor(1.3529)]\n",
      "\n",
      "Epoch  52\n"
     ]
    },
    {
     "name": "stderr",
     "output_type": "stream",
     "text": [
      "81it [00:01, 42.38it/s]"
     ]
    },
    {
     "name": "stdout",
     "output_type": "stream",
     "text": [
      "['acc', 'kappa', 'auc', 'fmeasure', 'loss']\n",
      "Training Loss  1.3394426387033345\n"
     ]
    },
    {
     "name": "stderr",
     "output_type": "stream",
     "text": [
      "\n"
     ]
    },
    {
     "name": "stdout",
     "output_type": "stream",
     "text": [
      "Train -  [0.36959876543209874, 0.15946502057613166, 0.653039444730224, 0.36959876543209874, tensor(1.3366)]\n",
      "Validation -  [0.35725308641975306, 0.1430041152263375, 0.6303188744728954, 0.35725308641975306, tensor(1.3506)]\n",
      "\n",
      "Epoch  53\n"
     ]
    },
    {
     "name": "stderr",
     "output_type": "stream",
     "text": [
      "81it [00:01, 41.56it/s]"
     ]
    },
    {
     "name": "stdout",
     "output_type": "stream",
     "text": [
      "['acc', 'kappa', 'auc', 'fmeasure', 'loss']\n",
      "Training Loss  1.3638254816149489\n"
     ]
    },
    {
     "name": "stderr",
     "output_type": "stream",
     "text": [
      "\n"
     ]
    },
    {
     "name": "stdout",
     "output_type": "stream",
     "text": [
      "Train -  [0.3931327160493827, 0.190843621399177, 0.6454465385738963, 0.3931327160493827, tensor(1.3219)]\n",
      "Validation -  [0.36959876543209874, 0.15946502057613166, 0.6182438922547375, 0.36959876543209874, tensor(1.3433)]\n",
      "\n",
      "Epoch  54\n"
     ]
    },
    {
     "name": "stderr",
     "output_type": "stream",
     "text": [
      "81it [00:01, 42.51it/s]"
     ]
    },
    {
     "name": "stdout",
     "output_type": "stream",
     "text": [
      "['acc', 'kappa', 'auc', 'fmeasure', 'loss']\n",
      "Training Loss  1.3358166526865076\n"
     ]
    },
    {
     "name": "stderr",
     "output_type": "stream",
     "text": [
      "\n"
     ]
    },
    {
     "name": "stdout",
     "output_type": "stream",
     "text": [
      "Train -  [0.404320987654321, 0.20576131687242794, 0.6522615883630545, 0.40432098765432095, tensor(1.3130)]\n",
      "Validation -  [0.375, 0.16666666666666663, 0.6239346771325509, 0.375, tensor(1.3346)]\n",
      "\n",
      "Epoch  55\n"
     ]
    },
    {
     "name": "stderr",
     "output_type": "stream",
     "text": [
      "81it [00:01, 42.94it/s]"
     ]
    },
    {
     "name": "stdout",
     "output_type": "stream",
     "text": [
      "['acc', 'kappa', 'auc', 'fmeasure', 'loss']\n",
      "Training Loss  1.3360901099664193\n"
     ]
    },
    {
     "name": "stderr",
     "output_type": "stream",
     "text": [
      "\n"
     ]
    },
    {
     "name": "stdout",
     "output_type": "stream",
     "text": [
      "Train -  [0.34953703703703703, 0.13271604938271608, 0.6315082336280038, 0.34953703703703703, tensor(1.3563)]\n",
      "Validation -  [0.32947530864197533, 0.1059670781893004, 0.6127952262104355, 0.32947530864197533, tensor(1.3720)]\n",
      "\n",
      "Epoch  56\n"
     ]
    },
    {
     "name": "stderr",
     "output_type": "stream",
     "text": [
      "81it [00:01, 43.21it/s]"
     ]
    },
    {
     "name": "stdout",
     "output_type": "stream",
     "text": [
      "['acc', 'kappa', 'auc', 'fmeasure', 'loss']\n",
      "Training Loss  1.3768184346917234\n"
     ]
    },
    {
     "name": "stderr",
     "output_type": "stream",
     "text": [
      "\n"
     ]
    },
    {
     "name": "stdout",
     "output_type": "stream",
     "text": [
      "Train -  [0.3479938271604938, 0.13065843621399176, 0.6478447057740182, 0.3479938271604938, tensor(1.3570)]\n",
      "Validation -  [0.3275462962962963, 0.10339506172839508, 0.6274571092440177, 0.3275462962962963, tensor(1.3689)]\n",
      "\n",
      "Epoch  57\n"
     ]
    },
    {
     "name": "stderr",
     "output_type": "stream",
     "text": [
      "81it [00:02, 39.57it/s]"
     ]
    },
    {
     "name": "stdout",
     "output_type": "stream",
     "text": [
      "['acc', 'kappa', 'auc', 'fmeasure', 'loss']\n",
      "Training Loss  1.3492217461268108\n"
     ]
    },
    {
     "name": "stderr",
     "output_type": "stream",
     "text": [
      "\n"
     ]
    },
    {
     "name": "stdout",
     "output_type": "stream",
     "text": [
      "Train -  [0.31828703703703703, 0.09104938271604934, 0.6503010211857948, 0.31828703703703703, tensor(1.3775)]\n",
      "Validation -  [0.32175925925925924, 0.095679012345679, 0.6383488845069349, 0.32175925925925924, tensor(1.3753)]\n",
      "\n",
      "Epoch  58\n"
     ]
    },
    {
     "name": "stderr",
     "output_type": "stream",
     "text": [
      "81it [00:02, 38.09it/s]"
     ]
    },
    {
     "name": "stdout",
     "output_type": "stream",
     "text": [
      "['acc', 'kappa', 'auc', 'fmeasure', 'loss']\n",
      "Training Loss  1.3368228835824094\n"
     ]
    },
    {
     "name": "stderr",
     "output_type": "stream",
     "text": [
      "\n"
     ]
    },
    {
     "name": "stdout",
     "output_type": "stream",
     "text": [
      "Train -  [0.40625, 0.20833333333333337, 0.6646598587613677, 0.40625, tensor(1.3171)]\n",
      "Validation -  [0.3792438271604938, 0.1723251028806584, 0.64467910125489, 0.3792438271604938, tensor(1.3245)]\n",
      "\n",
      "Epoch  59\n"
     ]
    },
    {
     "name": "stderr",
     "output_type": "stream",
     "text": [
      "81it [00:01, 40.61it/s]\n"
     ]
    },
    {
     "name": "stdout",
     "output_type": "stream",
     "text": [
      "['acc', 'kappa', 'auc', 'fmeasure', 'loss']\n",
      "Training Loss  1.3221647209591336\n",
      "Train -  [0.3942901234567901, 0.1923868312757202, 0.6656949167746278, 0.3942901234567901, tensor(1.3119)]\n",
      "Validation -  [0.38233024691358025, 0.17644032921810704, 0.637171631293502, 0.3823302469135802, tensor(1.3264)]\n",
      "\n",
      "Epoch  60\n"
     ]
    },
    {
     "name": "stderr",
     "output_type": "stream",
     "text": [
      "81it [00:02, 38.83it/s]"
     ]
    },
    {
     "name": "stdout",
     "output_type": "stream",
     "text": [
      "['acc', 'kappa', 'auc', 'fmeasure', 'loss']\n",
      "Training Loss  1.333465615908305\n"
     ]
    },
    {
     "name": "stderr",
     "output_type": "stream",
     "text": [
      "\n"
     ]
    },
    {
     "name": "stdout",
     "output_type": "stream",
     "text": [
      "Train -  [0.36882716049382713, 0.15843621399176955, 0.6450214414088299, 0.3688271604938272, tensor(1.3296)]\n",
      "Validation -  [0.3449074074074074, 0.12654320987654322, 0.6188634783188538, 0.3449074074074074, tensor(1.3456)]\n",
      "\n",
      "Epoch  61\n"
     ]
    },
    {
     "name": "stderr",
     "output_type": "stream",
     "text": [
      "81it [00:01, 41.22it/s]"
     ]
    },
    {
     "name": "stdout",
     "output_type": "stream",
     "text": [
      "['acc', 'kappa', 'auc', 'fmeasure', 'loss']\n",
      "Training Loss  1.3455111391750383\n"
     ]
    },
    {
     "name": "stderr",
     "output_type": "stream",
     "text": [
      "\n"
     ]
    },
    {
     "name": "stdout",
     "output_type": "stream",
     "text": [
      "Train -  [0.35223765432098764, 0.13631687242798352, 0.6442466611415942, 0.35223765432098764, tensor(1.3527)]\n",
      "Validation -  [0.3244598765432099, 0.09927983539094654, 0.6209129547071076, 0.3244598765432099, tensor(1.3711)]\n",
      "\n",
      "Epoch  62\n"
     ]
    },
    {
     "name": "stderr",
     "output_type": "stream",
     "text": [
      "81it [00:02, 37.95it/s]"
     ]
    },
    {
     "name": "stdout",
     "output_type": "stream",
     "text": [
      "['acc', 'kappa', 'auc', 'fmeasure', 'loss']\n",
      "Training Loss  1.3367739739241424\n"
     ]
    },
    {
     "name": "stderr",
     "output_type": "stream",
     "text": [
      "\n"
     ]
    },
    {
     "name": "stdout",
     "output_type": "stream",
     "text": [
      "Train -  [0.36959876543209874, 0.15946502057613166, 0.6565568161611542, 0.36959876543209874, tensor(1.3400)]\n",
      "Validation -  [0.35455246913580246, 0.13940329218106995, 0.6374313136653457, 0.35455246913580246, tensor(1.3464)]\n",
      "\n",
      "Epoch  63\n"
     ]
    },
    {
     "name": "stderr",
     "output_type": "stream",
     "text": [
      "81it [00:01, 42.67it/s]"
     ]
    },
    {
     "name": "stdout",
     "output_type": "stream",
     "text": [
      "['acc', 'kappa', 'auc', 'fmeasure', 'loss']\n",
      "Training Loss  1.3323058949576483\n"
     ]
    },
    {
     "name": "stderr",
     "output_type": "stream",
     "text": [
      "\n"
     ]
    },
    {
     "name": "stdout",
     "output_type": "stream",
     "text": [
      "Train -  [0.3001543209876543, 0.0668724279835391, 0.6506883120903826, 0.3001543209876543, tensor(1.3817)]\n",
      "Validation -  [0.3275462962962963, 0.10339506172839508, 0.6397730195473251, 0.3275462962962963, tensor(1.3712)]\n",
      "\n",
      "Epoch  64\n"
     ]
    },
    {
     "name": "stderr",
     "output_type": "stream",
     "text": [
      "81it [00:02, 38.96it/s]"
     ]
    },
    {
     "name": "stdout",
     "output_type": "stream",
     "text": [
      "['acc', 'kappa', 'auc', 'fmeasure', 'loss']\n",
      "Training Loss  1.3412199329446863\n"
     ]
    },
    {
     "name": "stderr",
     "output_type": "stream",
     "text": [
      "\n"
     ]
    },
    {
     "name": "stdout",
     "output_type": "stream",
     "text": [
      "Train -  [0.3931327160493827, 0.190843621399177, 0.6677416147500381, 0.3931327160493827, tensor(1.3121)]\n",
      "Validation -  [0.3784722222222222, 0.17129629629629628, 0.6415646989153077, 0.3784722222222222, tensor(1.3277)]\n",
      "\n",
      "Epoch  65\n"
     ]
    },
    {
     "name": "stderr",
     "output_type": "stream",
     "text": [
      "81it [00:01, 41.48it/s]"
     ]
    },
    {
     "name": "stdout",
     "output_type": "stream",
     "text": [
      "['acc', 'kappa', 'auc', 'fmeasure', 'loss']\n",
      "Training Loss  1.3417349671140129\n"
     ]
    },
    {
     "name": "stderr",
     "output_type": "stream",
     "text": [
      "\n"
     ]
    },
    {
     "name": "stdout",
     "output_type": "stream",
     "text": [
      "Train -  [0.3773148148148148, 0.16975308641975306, 0.6705445371640503, 0.3773148148148149, tensor(1.3207)]\n",
      "Validation -  [0.376929012345679, 0.16923868312757206, 0.6466827338312249, 0.376929012345679, tensor(1.3280)]\n",
      "\n",
      "Epoch  66\n"
     ]
    },
    {
     "name": "stderr",
     "output_type": "stream",
     "text": [
      "81it [00:01, 42.94it/s]"
     ]
    },
    {
     "name": "stdout",
     "output_type": "stream",
     "text": [
      "['acc', 'kappa', 'auc', 'fmeasure', 'loss']\n",
      "Training Loss  1.3264714096799308\n"
     ]
    },
    {
     "name": "stderr",
     "output_type": "stream",
     "text": [
      "\n"
     ]
    },
    {
     "name": "stdout",
     "output_type": "stream",
     "text": [
      "Train -  [0.40007716049382713, 0.20010288065843618, 0.652550741756846, 0.40007716049382713, tensor(1.3231)]\n",
      "Validation -  [0.3726851851851852, 0.1635802469135802, 0.626638767432556, 0.37268518518518523, tensor(1.3436)]\n",
      "\n",
      "Epoch  67\n"
     ]
    },
    {
     "name": "stderr",
     "output_type": "stream",
     "text": [
      "81it [00:01, 42.21it/s]"
     ]
    },
    {
     "name": "stdout",
     "output_type": "stream",
     "text": [
      "['acc', 'kappa', 'auc', 'fmeasure', 'loss']\n",
      "Training Loss  1.3210595139750727\n"
     ]
    },
    {
     "name": "stderr",
     "output_type": "stream",
     "text": [
      "\n"
     ]
    },
    {
     "name": "stdout",
     "output_type": "stream",
     "text": [
      "Train -  [0.3584104938271605, 0.1445473251028807, 0.6678336000609663, 0.3584104938271605, tensor(1.3305)]\n",
      "Validation -  [0.35532407407407407, 0.14043209876543206, 0.6435675376594014, 0.355324074074074, tensor(1.3370)]\n",
      "\n",
      "Epoch  68\n"
     ]
    },
    {
     "name": "stderr",
     "output_type": "stream",
     "text": [
      "81it [00:01, 42.71it/s]"
     ]
    },
    {
     "name": "stdout",
     "output_type": "stream",
     "text": [
      "['acc', 'kappa', 'auc', 'fmeasure', 'loss']\n",
      "Training Loss  1.342623405986362\n"
     ]
    },
    {
     "name": "stderr",
     "output_type": "stream",
     "text": [
      "\n"
     ]
    },
    {
     "name": "stdout",
     "output_type": "stream",
     "text": [
      "Train -  [0.4027777777777778, 0.20370370370370372, 0.6722774729461972, 0.4027777777777778, tensor(1.3064)]\n",
      "Validation -  [0.3869598765432099, 0.1826131687242798, 0.6449894896611288, 0.3869598765432099, tensor(1.3204)]\n",
      "\n",
      "Epoch  69\n"
     ]
    },
    {
     "name": "stderr",
     "output_type": "stream",
     "text": [
      "81it [00:02, 39.30it/s]"
     ]
    },
    {
     "name": "stdout",
     "output_type": "stream",
     "text": [
      "['acc', 'kappa', 'auc', 'fmeasure', 'loss']\n",
      "Training Loss  1.3244339418999942\n"
     ]
    },
    {
     "name": "stderr",
     "output_type": "stream",
     "text": [
      "\n"
     ]
    },
    {
     "name": "stdout",
     "output_type": "stream",
     "text": [
      "Train -  [0.3854166666666667, 0.18055555555555558, 0.6641071530635574, 0.38541666666666663, tensor(1.3281)]\n",
      "Validation -  [0.3707561728395062, 0.16100823045267487, 0.6426530429177462, 0.3707561728395062, tensor(1.3383)]\n",
      "\n",
      "Epoch  70\n"
     ]
    },
    {
     "name": "stderr",
     "output_type": "stream",
     "text": [
      "81it [00:01, 42.76it/s]"
     ]
    },
    {
     "name": "stdout",
     "output_type": "stream",
     "text": [
      "['acc', 'kappa', 'auc', 'fmeasure', 'loss']\n",
      "Training Loss  1.3241950979939214\n"
     ]
    },
    {
     "name": "stderr",
     "output_type": "stream",
     "text": [
      "\n"
     ]
    },
    {
     "name": "stdout",
     "output_type": "stream",
     "text": [
      "Train -  [0.3742283950617284, 0.16563786008230452, 0.656642153127064, 0.37422839506172845, tensor(1.3223)]\n",
      "Validation -  [0.3699845679012346, 0.15997942386831276, 0.6307521084184321, 0.3699845679012346, tensor(1.3339)]\n",
      "\n",
      "Epoch  71\n"
     ]
    },
    {
     "name": "stderr",
     "output_type": "stream",
     "text": [
      "81it [00:02, 39.17it/s]\n"
     ]
    },
    {
     "name": "stdout",
     "output_type": "stream",
     "text": [
      "['acc', 'kappa', 'auc', 'fmeasure', 'loss']\n",
      "Training Loss  1.3139327308278026\n",
      "Train -  [0.4363425925925926, 0.24845679012345678, 0.6738899446857693, 0.4363425925925926, tensor(1.2941)]\n",
      "Validation -  [0.3966049382716049, 0.19547325102880664, 0.643743768416908, 0.3966049382716049, tensor(1.3158)]\n",
      "\n",
      "Epoch  72\n"
     ]
    },
    {
     "name": "stderr",
     "output_type": "stream",
     "text": [
      "81it [00:02, 39.53it/s]"
     ]
    },
    {
     "name": "stdout",
     "output_type": "stream",
     "text": [
      "['acc', 'kappa', 'auc', 'fmeasure', 'loss']\n",
      "Training Loss  1.3218872399977695\n"
     ]
    },
    {
     "name": "stderr",
     "output_type": "stream",
     "text": [
      "\n"
     ]
    },
    {
     "name": "stdout",
     "output_type": "stream",
     "text": [
      "Train -  [0.3773148148148148, 0.16975308641975306, 0.6622793543286085, 0.3773148148148149, tensor(1.3256)]\n",
      "Validation -  [0.36342592592592593, 0.15123456790123457, 0.6383287410138192, 0.36342592592592593, tensor(1.3443)]\n",
      "\n",
      "Epoch  73\n"
     ]
    },
    {
     "name": "stderr",
     "output_type": "stream",
     "text": [
      "81it [00:02, 39.86it/s]"
     ]
    },
    {
     "name": "stdout",
     "output_type": "stream",
     "text": [
      "['acc', 'kappa', 'auc', 'fmeasure', 'loss']\n",
      "Training Loss  1.3420303250536507\n"
     ]
    },
    {
     "name": "stderr",
     "output_type": "stream",
     "text": [
      "\n"
     ]
    },
    {
     "name": "stdout",
     "output_type": "stream",
     "text": [
      "Train -  [0.3402777777777778, 0.12037037037037035, 0.6389910947899202, 0.3402777777777778, tensor(1.3650)]\n",
      "Validation -  [0.3263888888888889, 0.10185185185185186, 0.6172600364210232, 0.3263888888888889, tensor(1.3861)]\n",
      "\n",
      "Epoch  74\n"
     ]
    },
    {
     "name": "stderr",
     "output_type": "stream",
     "text": [
      "81it [00:02, 37.39it/s]"
     ]
    },
    {
     "name": "stdout",
     "output_type": "stream",
     "text": [
      "['acc', 'kappa', 'auc', 'fmeasure', 'loss']\n",
      "Training Loss  1.3702334342179474\n"
     ]
    },
    {
     "name": "stderr",
     "output_type": "stream",
     "text": [
      "\n"
     ]
    },
    {
     "name": "stdout",
     "output_type": "stream",
     "text": [
      "Train -  [0.33796296296296297, 0.11728395061728392, 0.6438066796220089, 0.33796296296296297, tensor(1.3908)]\n",
      "Validation -  [0.33294753086419754, 0.11059670781893005, 0.6268646127051263, 0.33294753086419754, tensor(1.3962)]\n",
      "\n",
      "Epoch  75\n"
     ]
    },
    {
     "name": "stderr",
     "output_type": "stream",
     "text": [
      "81it [00:01, 41.24it/s]"
     ]
    },
    {
     "name": "stdout",
     "output_type": "stream",
     "text": [
      "['acc', 'kappa', 'auc', 'fmeasure', 'loss']\n",
      "Training Loss  1.3818199855309945\n"
     ]
    },
    {
     "name": "stderr",
     "output_type": "stream",
     "text": [
      "\n"
     ]
    },
    {
     "name": "stdout",
     "output_type": "stream",
     "text": [
      "Train -  [0.3452932098765432, 0.12705761316872433, 0.6402368160341411, 0.3452932098765432, tensor(1.3773)]\n",
      "Validation -  [0.33024691358024694, 0.10699588477366251, 0.6169383359053497, 0.33024691358024694, tensor(1.3917)]\n",
      "\n",
      "Epoch  76\n"
     ]
    },
    {
     "name": "stderr",
     "output_type": "stream",
     "text": [
      "81it [00:02, 39.56it/s]"
     ]
    },
    {
     "name": "stdout",
     "output_type": "stream",
     "text": [
      "['acc', 'kappa', 'auc', 'fmeasure', 'loss']\n",
      "Training Loss  1.3670212103996748\n"
     ]
    },
    {
     "name": "stderr",
     "output_type": "stream",
     "text": [
      "\n"
     ]
    },
    {
     "name": "stdout",
     "output_type": "stream",
     "text": [
      "Train -  [0.3645833333333333, 0.1527777777777778, 0.6601673636513743, 0.36458333333333326, tensor(1.3556)]\n",
      "Validation -  [0.3460648148148148, 0.12808641975308643, 0.6399201761990043, 0.3460648148148148, tensor(1.3635)]\n",
      "\n",
      "Epoch  77\n"
     ]
    },
    {
     "name": "stderr",
     "output_type": "stream",
     "text": [
      "81it [00:02, 39.19it/s]"
     ]
    },
    {
     "name": "stdout",
     "output_type": "stream",
     "text": [
      "['acc', 'kappa', 'auc', 'fmeasure', 'loss']\n",
      "Training Loss  1.366469297880008\n"
     ]
    },
    {
     "name": "stderr",
     "output_type": "stream",
     "text": [
      "\n"
     ]
    },
    {
     "name": "stdout",
     "output_type": "stream",
     "text": [
      "Train -  [0.3090277777777778, 0.07870370370370372, 0.6548943329903978, 0.3090277777777778, tensor(1.3826)]\n",
      "Validation -  [0.31905864197530864, 0.09207818930041156, 0.6329789070835239, 0.31905864197530864, tensor(1.3779)]\n",
      "\n",
      "Epoch  78\n"
     ]
    },
    {
     "name": "stderr",
     "output_type": "stream",
     "text": [
      "81it [00:01, 41.34it/s]"
     ]
    },
    {
     "name": "stdout",
     "output_type": "stream",
     "text": [
      "['acc', 'kappa', 'auc', 'fmeasure', 'loss']\n",
      "Training Loss  1.3278959621617823\n"
     ]
    },
    {
     "name": "stderr",
     "output_type": "stream",
     "text": [
      "\n"
     ]
    },
    {
     "name": "stdout",
     "output_type": "stream",
     "text": [
      "Train -  [0.3587962962962963, 0.1450617283950617, 0.6616671112127217, 0.3587962962962962, tensor(1.3336)]\n",
      "Validation -  [0.35146604938271603, 0.1352880658436214, 0.6344930428542397, 0.35146604938271603, tensor(1.3418)]\n",
      "\n",
      "Epoch  79\n"
     ]
    },
    {
     "name": "stderr",
     "output_type": "stream",
     "text": [
      "81it [00:02, 40.38it/s]"
     ]
    },
    {
     "name": "stdout",
     "output_type": "stream",
     "text": [
      "['acc', 'kappa', 'auc', 'fmeasure', 'loss']\n",
      "Training Loss  1.3235360089643502\n"
     ]
    },
    {
     "name": "stderr",
     "output_type": "stream",
     "text": [
      "\n"
     ]
    },
    {
     "name": "stdout",
     "output_type": "stream",
     "text": [
      "Train -  [0.3784722222222222, 0.17129629629629628, 0.6751297121881827, 0.3784722222222222, tensor(1.3162)]\n",
      "Validation -  [0.3742283950617284, 0.16563786008230452, 0.65091207355332, 0.37422839506172845, tensor(1.3229)]\n",
      "\n",
      "Epoch  80\n"
     ]
    },
    {
     "name": "stderr",
     "output_type": "stream",
     "text": [
      "81it [00:02, 39.68it/s]"
     ]
    },
    {
     "name": "stdout",
     "output_type": "stream",
     "text": [
      "['acc', 'kappa', 'auc', 'fmeasure', 'loss']\n",
      "Training Loss  1.3325895733303494\n"
     ]
    },
    {
     "name": "stderr",
     "output_type": "stream",
     "text": [
      "\n"
     ]
    },
    {
     "name": "stdout",
     "output_type": "stream",
     "text": [
      "Train -  [0.4074074074074074, 0.2098765432098766, 0.6670526675938627, 0.4074074074074074, tensor(1.3152)]\n",
      "Validation -  [0.3800154320987654, 0.1733539094650206, 0.6424580578735457, 0.3800154320987654, tensor(1.3346)]\n",
      "\n",
      "Epoch  81\n"
     ]
    },
    {
     "name": "stderr",
     "output_type": "stream",
     "text": [
      "81it [00:01, 41.36it/s]"
     ]
    },
    {
     "name": "stdout",
     "output_type": "stream",
     "text": [
      "['acc', 'kappa', 'auc', 'fmeasure', 'loss']\n",
      "Training Loss  1.3265111402229026\n"
     ]
    },
    {
     "name": "stderr",
     "output_type": "stream",
     "text": [
      "\n"
     ]
    },
    {
     "name": "stdout",
     "output_type": "stream",
     "text": [
      "Train -  [0.3587962962962963, 0.1450617283950617, 0.6539510618300056, 0.3587962962962962, tensor(1.3456)]\n",
      "Validation -  [0.34760802469135804, 0.13014403292181065, 0.6312557949753594, 0.34760802469135804, tensor(1.3642)]\n",
      "\n",
      "Epoch  82\n"
     ]
    },
    {
     "name": "stderr",
     "output_type": "stream",
     "text": [
      "81it [00:01, 42.14it/s]"
     ]
    },
    {
     "name": "stdout",
     "output_type": "stream",
     "text": [
      "['acc', 'kappa', 'auc', 'fmeasure', 'loss']\n",
      "Training Loss  1.3318017912499698\n"
     ]
    },
    {
     "name": "stderr",
     "output_type": "stream",
     "text": [
      "\n"
     ]
    },
    {
     "name": "stdout",
     "output_type": "stream",
     "text": [
      "Train -  [0.38117283950617287, 0.17489711934156382, 0.664091276418737, 0.3811728395061729, tensor(1.3283)]\n",
      "Validation -  [0.3792438271604938, 0.1723251028806584, 0.6352281315094244, 0.3792438271604938, tensor(1.3370)]\n",
      "\n",
      "Epoch  83\n"
     ]
    },
    {
     "name": "stderr",
     "output_type": "stream",
     "text": [
      "81it [00:01, 40.93it/s]"
     ]
    },
    {
     "name": "stdout",
     "output_type": "stream",
     "text": [
      "['acc', 'kappa', 'auc', 'fmeasure', 'loss']\n",
      "Training Loss  1.3165089127458172\n"
     ]
    },
    {
     "name": "stderr",
     "output_type": "stream",
     "text": [
      "\n"
     ]
    },
    {
     "name": "stdout",
     "output_type": "stream",
     "text": [
      "Train -  [0.4097222222222222, 0.2129629629629629, 0.6728730455850226, 0.4097222222222222, tensor(1.3048)]\n",
      "Validation -  [0.3912037037037037, 0.18827160493827155, 0.645906365899507, 0.3912037037037037, tensor(1.3230)]\n",
      "\n",
      "Epoch  84\n"
     ]
    },
    {
     "name": "stderr",
     "output_type": "stream",
     "text": [
      "81it [00:02, 39.42it/s]"
     ]
    },
    {
     "name": "stdout",
     "output_type": "stream",
     "text": [
      "['acc', 'kappa', 'auc', 'fmeasure', 'loss']\n",
      "Training Loss  1.3234400072215515\n"
     ]
    },
    {
     "name": "stderr",
     "output_type": "stream",
     "text": [
      "\n"
     ]
    },
    {
     "name": "stdout",
     "output_type": "stream",
     "text": [
      "Train -  [0.3395061728395062, 0.11934156378600824, 0.6493549716125591, 0.3395061728395062, tensor(1.3529)]\n",
      "Validation -  [0.31867283950617287, 0.09156378600823045, 0.6268095405934055, 0.31867283950617287, tensor(1.3745)]\n",
      "\n",
      "Epoch  85\n"
     ]
    },
    {
     "name": "stderr",
     "output_type": "stream",
     "text": [
      "81it [00:01, 42.65it/s]"
     ]
    },
    {
     "name": "stdout",
     "output_type": "stream",
     "text": [
      "['acc', 'kappa', 'auc', 'fmeasure', 'loss']\n",
      "Training Loss  1.3307736067124356\n"
     ]
    },
    {
     "name": "stderr",
     "output_type": "stream",
     "text": [
      "\n"
     ]
    },
    {
     "name": "stdout",
     "output_type": "stream",
     "text": [
      "Train -  [0.43016975308641975, 0.2402263374485597, 0.6763190713432912, 0.43016975308641975, tensor(1.3023)]\n",
      "Validation -  [0.39814814814814814, 0.19753086419753085, 0.6478817182022558, 0.39814814814814814, tensor(1.3185)]\n",
      "\n",
      "Epoch  86\n"
     ]
    },
    {
     "name": "stderr",
     "output_type": "stream",
     "text": [
      "81it [00:02, 40.36it/s]"
     ]
    },
    {
     "name": "stdout",
     "output_type": "stream",
     "text": [
      "['acc', 'kappa', 'auc', 'fmeasure', 'loss']\n",
      "Training Loss  1.3259010874194863\n"
     ]
    },
    {
     "name": "stderr",
     "output_type": "stream",
     "text": [
      "\n"
     ]
    },
    {
     "name": "stdout",
     "output_type": "stream",
     "text": [
      "Train -  [0.27353395061728397, 0.03137860082304522, 0.6288278590661992, 0.27353395061728397, tensor(1.4216)]\n",
      "Validation -  [0.2638888888888889, 0.01851851851851849, 0.6088047307638571, 0.2638888888888889, tensor(1.4329)]\n",
      "\n",
      "Epoch  87\n"
     ]
    },
    {
     "name": "stderr",
     "output_type": "stream",
     "text": [
      "81it [00:01, 40.62it/s]"
     ]
    },
    {
     "name": "stdout",
     "output_type": "stream",
     "text": [
      "['acc', 'kappa', 'auc', 'fmeasure', 'loss']\n",
      "Training Loss  1.338558080755634\n"
     ]
    },
    {
     "name": "stderr",
     "output_type": "stream",
     "text": [
      "\n"
     ]
    },
    {
     "name": "stdout",
     "output_type": "stream",
     "text": [
      "Train -  [0.4131944444444444, 0.21759259259259256, 0.6768732654765534, 0.4131944444444444, tensor(1.2958)]\n",
      "Validation -  [0.40046296296296297, 0.2006172839506173, 0.6484980297083778, 0.40046296296296297, tensor(1.3120)]\n",
      "\n",
      "Epoch  88\n"
     ]
    },
    {
     "name": "stderr",
     "output_type": "stream",
     "text": [
      "81it [00:02, 39.44it/s]"
     ]
    },
    {
     "name": "stdout",
     "output_type": "stream",
     "text": [
      "['acc', 'kappa', 'auc', 'fmeasure', 'loss']\n",
      "Training Loss  1.3097452690571914\n"
     ]
    },
    {
     "name": "stderr",
     "output_type": "stream",
     "text": [
      "\n"
     ]
    },
    {
     "name": "stdout",
     "output_type": "stream",
     "text": [
      "Train -  [0.41165123456790126, 0.21553497942386834, 0.674215614362648, 0.41165123456790126, tensor(1.2994)]\n",
      "Validation -  [0.38348765432098764, 0.17798353909465026, 0.6454209374841234, 0.38348765432098764, tensor(1.3170)]\n",
      "\n",
      "Epoch  89\n"
     ]
    },
    {
     "name": "stderr",
     "output_type": "stream",
     "text": [
      "81it [00:02, 39.91it/s]"
     ]
    },
    {
     "name": "stdout",
     "output_type": "stream",
     "text": [
      "['acc', 'kappa', 'auc', 'fmeasure', 'loss']\n",
      "Training Loss  1.327161259121365\n"
     ]
    },
    {
     "name": "stderr",
     "output_type": "stream",
     "text": [
      "\n"
     ]
    },
    {
     "name": "stdout",
     "output_type": "stream",
     "text": [
      "Train -  [0.3861882716049383, 0.1815843621399177, 0.6690232569031651, 0.3861882716049383, tensor(1.3247)]\n",
      "Validation -  [0.36728395061728397, 0.15637860082304522, 0.6399359536147944, 0.36728395061728397, tensor(1.3366)]\n",
      "\n",
      "Epoch  90\n"
     ]
    },
    {
     "name": "stderr",
     "output_type": "stream",
     "text": [
      "81it [00:01, 41.23it/s]"
     ]
    },
    {
     "name": "stdout",
     "output_type": "stream",
     "text": [
      "['acc', 'kappa', 'auc', 'fmeasure', 'loss']\n",
      "Training Loss  1.315907585768052\n"
     ]
    },
    {
     "name": "stderr",
     "output_type": "stream",
     "text": [
      "\n"
     ]
    },
    {
     "name": "stdout",
     "output_type": "stream",
     "text": [
      "Train -  [0.4074074074074074, 0.2098765432098766, 0.6774702273218005, 0.4074074074074074, tensor(1.2987)]\n",
      "Validation -  [0.3942901234567901, 0.1923868312757202, 0.6507352474216328, 0.3942901234567901, tensor(1.3134)]\n",
      "\n",
      "Epoch  91\n"
     ]
    },
    {
     "name": "stderr",
     "output_type": "stream",
     "text": [
      "81it [00:02, 39.08it/s]"
     ]
    },
    {
     "name": "stdout",
     "output_type": "stream",
     "text": [
      "['acc', 'kappa', 'auc', 'fmeasure', 'loss']\n",
      "Training Loss  1.3360551713425437\n"
     ]
    },
    {
     "name": "stderr",
     "output_type": "stream",
     "text": [
      "\n"
     ]
    },
    {
     "name": "stdout",
     "output_type": "stream",
     "text": [
      "Train -  [0.3152006172839506, 0.0869341563786008, 0.6724181797109181, 0.3152006172839506, tensor(1.3787)]\n",
      "Validation -  [0.3263888888888889, 0.10185185185185186, 0.65012598117665, 0.3263888888888889, tensor(1.3745)]\n",
      "\n",
      "Epoch  92\n"
     ]
    },
    {
     "name": "stderr",
     "output_type": "stream",
     "text": [
      "81it [00:02, 39.02it/s]"
     ]
    },
    {
     "name": "stdout",
     "output_type": "stream",
     "text": [
      "['acc', 'kappa', 'auc', 'fmeasure', 'loss']\n",
      "Training Loss  1.3181415192874861\n"
     ]
    },
    {
     "name": "stderr",
     "output_type": "stream",
     "text": [
      "\n"
     ]
    },
    {
     "name": "stdout",
     "output_type": "stream",
     "text": [
      "Train -  [0.408179012345679, 0.2109053497942387, 0.6777940116471066, 0.40817901234567894, tensor(1.3025)]\n",
      "Validation -  [0.3923611111111111, 0.18981481481481477, 0.6534942113752985, 0.3923611111111111, tensor(1.3192)]\n",
      "\n",
      "Epoch  93\n"
     ]
    },
    {
     "name": "stderr",
     "output_type": "stream",
     "text": [
      "81it [00:01, 43.13it/s]"
     ]
    },
    {
     "name": "stdout",
     "output_type": "stream",
     "text": [
      "['acc', 'kappa', 'auc', 'fmeasure', 'loss']\n",
      "Training Loss  1.3375658135355255\n"
     ]
    },
    {
     "name": "stderr",
     "output_type": "stream",
     "text": [
      "\n"
     ]
    },
    {
     "name": "stdout",
     "output_type": "stream",
     "text": [
      "Train -  [0.3757716049382716, 0.16769547325102885, 0.6791381680892141, 0.37577160493827166, tensor(1.3243)]\n",
      "Validation -  [0.3757716049382716, 0.16769547325102885, 0.6556067974267135, 0.37577160493827166, tensor(1.3284)]\n",
      "\n",
      "Epoch  94\n"
     ]
    },
    {
     "name": "stderr",
     "output_type": "stream",
     "text": [
      "81it [00:02, 40.11it/s]"
     ]
    },
    {
     "name": "stdout",
     "output_type": "stream",
     "text": [
      "['acc', 'kappa', 'auc', 'fmeasure', 'loss']\n",
      "Training Loss  1.3435045966395625\n"
     ]
    },
    {
     "name": "stderr",
     "output_type": "stream",
     "text": [
      "\n"
     ]
    },
    {
     "name": "stdout",
     "output_type": "stream",
     "text": [
      "Train -  [0.3167438271604938, 0.08899176954732513, 0.6402003989800843, 0.3167438271604938, tensor(1.3708)]\n",
      "Validation -  [0.30092592592592593, 0.0679012345679012, 0.6185338394807702, 0.30092592592592593, tensor(1.3927)]\n",
      "\n",
      "Epoch  95\n"
     ]
    },
    {
     "name": "stderr",
     "output_type": "stream",
     "text": [
      "81it [00:02, 38.89it/s]"
     ]
    },
    {
     "name": "stdout",
     "output_type": "stream",
     "text": [
      "['acc', 'kappa', 'auc', 'fmeasure', 'loss']\n",
      "Training Loss  1.356205470768022\n"
     ]
    },
    {
     "name": "stderr",
     "output_type": "stream",
     "text": [
      "\n"
     ]
    },
    {
     "name": "stdout",
     "output_type": "stream",
     "text": [
      "Train -  [0.3746141975308642, 0.16615226337448563, 0.6654878257887517, 0.3746141975308642, tensor(1.3278)]\n",
      "Validation -  [0.3618827160493827, 0.14917695473251025, 0.641878659566631, 0.3618827160493827, tensor(1.3376)]\n",
      "\n",
      "Epoch  96\n"
     ]
    },
    {
     "name": "stderr",
     "output_type": "stream",
     "text": [
      "81it [00:01, 43.24it/s]"
     ]
    },
    {
     "name": "stdout",
     "output_type": "stream",
     "text": [
      "['acc', 'kappa', 'auc', 'fmeasure', 'loss']\n",
      "Training Loss  1.3118043843610787\n"
     ]
    },
    {
     "name": "stderr",
     "output_type": "stream",
     "text": [
      "\n"
     ]
    },
    {
     "name": "stdout",
     "output_type": "stream",
     "text": [
      "Train -  [0.3452932098765432, 0.12705761316872433, 0.6762737236765228, 0.3452932098765432, tensor(1.3497)]\n",
      "Validation -  [0.35108024691358025, 0.1347736625514403, 0.6546627324340801, 0.35108024691358025, tensor(1.3498)]\n",
      "\n",
      "Epoch  97\n"
     ]
    },
    {
     "name": "stderr",
     "output_type": "stream",
     "text": [
      "81it [00:01, 40.58it/s]"
     ]
    },
    {
     "name": "stdout",
     "output_type": "stream",
     "text": [
      "['acc', 'kappa', 'auc', 'fmeasure', 'loss']\n",
      "Training Loss  1.3688015717047233\n"
     ]
    },
    {
     "name": "stderr",
     "output_type": "stream",
     "text": [
      "\n"
     ]
    },
    {
     "name": "stdout",
     "output_type": "stream",
     "text": [
      "Train -  [0.30246913580246915, 0.06995884773662553, 0.6402109172572779, 0.30246913580246915, tensor(1.4173)]\n",
      "Validation -  [0.3090277777777778, 0.07870370370370372, 0.6288457202916222, 0.3090277777777778, tensor(1.4091)]\n",
      "\n",
      "Epoch  98\n"
     ]
    },
    {
     "name": "stderr",
     "output_type": "stream",
     "text": [
      "81it [00:02, 40.18it/s]"
     ]
    },
    {
     "name": "stdout",
     "output_type": "stream",
     "text": [
      "['acc', 'kappa', 'auc', 'fmeasure', 'loss']\n",
      "Training Loss  1.3596542161188008\n"
     ]
    },
    {
     "name": "stderr",
     "output_type": "stream",
     "text": [
      "\n"
     ]
    },
    {
     "name": "stdout",
     "output_type": "stream",
     "text": [
      "Train -  [0.4185956790123457, 0.22479423868312753, 0.6674085028959, 0.4185956790123457, tensor(1.2986)]\n",
      "Validation -  [0.3993055555555556, 0.19907407407407407, 0.6386568914164508, 0.3993055555555556, tensor(1.3199)]\n",
      "\n",
      "Epoch  99\n"
     ]
    },
    {
     "name": "stderr",
     "output_type": "stream",
     "text": [
      "81it [00:01, 41.15it/s]"
     ]
    },
    {
     "name": "stdout",
     "output_type": "stream",
     "text": [
      "['acc', 'kappa', 'auc', 'fmeasure', 'loss']\n",
      "Training Loss  1.3076765758019906\n"
     ]
    },
    {
     "name": "stderr",
     "output_type": "stream",
     "text": [
      "\n"
     ]
    },
    {
     "name": "stdout",
     "output_type": "stream",
     "text": [
      "Train -  [0.4220679012345679, 0.22942386831275718, 0.671806531969212, 0.4220679012345679, tensor(1.2938)]\n",
      "Validation -  [0.39969135802469136, 0.19958847736625518, 0.6426655457755424, 0.3996913580246914, tensor(1.3174)]\n",
      "\n",
      "Epoch  100\n"
     ]
    },
    {
     "name": "stderr",
     "output_type": "stream",
     "text": [
      "81it [00:02, 38.22it/s]"
     ]
    },
    {
     "name": "stdout",
     "output_type": "stream",
     "text": [
      "['acc', 'kappa', 'auc', 'fmeasure', 'loss']\n",
      "Training Loss  1.3256979739224468\n"
     ]
    },
    {
     "name": "stderr",
     "output_type": "stream",
     "text": [
      "\n"
     ]
    },
    {
     "name": "stdout",
     "output_type": "stream",
     "text": [
      "Train -  [0.37191358024691357, 0.1625514403292181, 0.6621364645252249, 0.37191358024691357, tensor(1.3364)]\n",
      "Validation -  [0.36574074074074076, 0.154320987654321, 0.6353845164609053, 0.3657407407407408, tensor(1.3501)]\n",
      "\n",
      "Epoch  101\n"
     ]
    },
    {
     "name": "stderr",
     "output_type": "stream",
     "text": [
      "81it [00:02, 40.05it/s]"
     ]
    },
    {
     "name": "stdout",
     "output_type": "stream",
     "text": [
      "['acc', 'kappa', 'auc', 'fmeasure', 'loss']\n",
      "Training Loss  1.2990769574671617\n"
     ]
    },
    {
     "name": "stderr",
     "output_type": "stream",
     "text": [
      "\n"
     ]
    },
    {
     "name": "stdout",
     "output_type": "stream",
     "text": [
      "Train -  [0.4409722222222222, 0.25462962962962965, 0.683262920413555, 0.4409722222222222, tensor(1.2879)]\n",
      "Validation -  [0.4085648148148148, 0.2114197530864198, 0.6532794797541025, 0.40856481481481477, tensor(1.3096)]\n",
      "\n",
      "Epoch  102\n"
     ]
    },
    {
     "name": "stderr",
     "output_type": "stream",
     "text": [
      "81it [00:02, 39.98it/s]"
     ]
    },
    {
     "name": "stdout",
     "output_type": "stream",
     "text": [
      "['acc', 'kappa', 'auc', 'fmeasure', 'loss']\n",
      "Training Loss  1.3200522352147985\n"
     ]
    },
    {
     "name": "stderr",
     "output_type": "stream",
     "text": [
      "\n"
     ]
    },
    {
     "name": "stdout",
     "output_type": "stream",
     "text": [
      "Train -  [0.3777006172839506, 0.17026748971193417, 0.6625970856830767, 0.3777006172839506, tensor(1.3307)]\n",
      "Validation -  [0.35725308641975306, 0.1430041152263375, 0.6383241764784332, 0.35725308641975306, tensor(1.3528)]\n",
      "\n",
      "Epoch  103\n"
     ]
    },
    {
     "name": "stderr",
     "output_type": "stream",
     "text": [
      "81it [00:01, 42.02it/s]"
     ]
    },
    {
     "name": "stdout",
     "output_type": "stream",
     "text": [
      "['acc', 'kappa', 'auc', 'fmeasure', 'loss']\n",
      "Training Loss  1.3617157465145913\n"
     ]
    },
    {
     "name": "stderr",
     "output_type": "stream",
     "text": [
      "\n"
     ]
    },
    {
     "name": "stdout",
     "output_type": "stream",
     "text": [
      "Train -  [0.3734567901234568, 0.16460905349794241, 0.6749223235152162, 0.37345679012345673, tensor(1.3418)]\n",
      "Validation -  [0.36419753086419754, 0.15226337448559668, 0.6483577198597774, 0.36419753086419754, tensor(1.3500)]\n",
      "\n",
      "Epoch  104\n"
     ]
    },
    {
     "name": "stderr",
     "output_type": "stream",
     "text": [
      "81it [00:01, 41.20it/s]"
     ]
    },
    {
     "name": "stdout",
     "output_type": "stream",
     "text": [
      "['acc', 'kappa', 'auc', 'fmeasure', 'loss']\n",
      "Training Loss  1.3555148781081776\n"
     ]
    },
    {
     "name": "stderr",
     "output_type": "stream",
     "text": [
      "\n"
     ]
    },
    {
     "name": "stdout",
     "output_type": "stream",
     "text": [
      "Train -  [0.39621913580246915, 0.19495884773662553, 0.6759412071965656, 0.39621913580246915, tensor(1.3089)]\n",
      "Validation -  [0.3942901234567901, 0.1923868312757202, 0.6463492250609663, 0.3942901234567901, tensor(1.3226)]\n",
      "\n",
      "Epoch  105\n"
     ]
    },
    {
     "name": "stderr",
     "output_type": "stream",
     "text": [
      "81it [00:02, 40.13it/s]"
     ]
    },
    {
     "name": "stdout",
     "output_type": "stream",
     "text": [
      "['acc', 'kappa', 'auc', 'fmeasure', 'loss']\n",
      "Training Loss  1.3053814525957461\n"
     ]
    },
    {
     "name": "stderr",
     "output_type": "stream",
     "text": [
      "\n"
     ]
    },
    {
     "name": "stdout",
     "output_type": "stream",
     "text": [
      "Train -  [0.3942901234567901, 0.1923868312757202, 0.6711964718919882, 0.3942901234567901, tensor(1.3153)]\n",
      "Validation -  [0.3753858024691358, 0.16718106995884774, 0.6458160674820911, 0.3753858024691358, tensor(1.3357)]\n",
      "\n",
      "Epoch  106\n"
     ]
    },
    {
     "name": "stderr",
     "output_type": "stream",
     "text": [
      "81it [00:02, 39.98it/s]\n"
     ]
    },
    {
     "name": "stdout",
     "output_type": "stream",
     "text": [
      "['acc', 'kappa', 'auc', 'fmeasure', 'loss']\n",
      "Training Loss  1.3221822771025293\n",
      "Train -  [0.35262345679012347, 0.13683127572016462, 0.6614547610882486, 0.35262345679012347, tensor(1.3528)]\n",
      "Validation -  [0.32098765432098764, 0.09465020576131689, 0.6369924236650917, 0.32098765432098764, tensor(1.3701)]\n",
      "\n",
      "Epoch  107\n"
     ]
    },
    {
     "name": "stderr",
     "output_type": "stream",
     "text": [
      "81it [00:02, 40.26it/s]"
     ]
    },
    {
     "name": "stdout",
     "output_type": "stream",
     "text": [
      "['acc', 'kappa', 'auc', 'fmeasure', 'loss']\n",
      "Training Loss  1.365406212983308\n"
     ]
    },
    {
     "name": "stderr",
     "output_type": "stream",
     "text": [
      "\n"
     ]
    },
    {
     "name": "stdout",
     "output_type": "stream",
     "text": [
      "Train -  [0.41396604938271603, 0.21862139917695478, 0.6813096961845247, 0.413966049382716, tensor(1.2939)]\n",
      "Validation -  [0.3993055555555556, 0.19907407407407407, 0.6518388726947112, 0.3993055555555556, tensor(1.3147)]\n",
      "\n",
      "Epoch  108\n"
     ]
    },
    {
     "name": "stderr",
     "output_type": "stream",
     "text": [
      "81it [00:01, 41.62it/s]"
     ]
    },
    {
     "name": "stdout",
     "output_type": "stream",
     "text": [
      "['acc', 'kappa', 'auc', 'fmeasure', 'loss']\n",
      "Training Loss  1.30675208568573\n"
     ]
    },
    {
     "name": "stderr",
     "output_type": "stream",
     "text": [
      "\n"
     ]
    },
    {
     "name": "stdout",
     "output_type": "stream",
     "text": [
      "Train -  [0.41705246913580246, 0.22273662551440332, 0.6817864916742875, 0.41705246913580246, tensor(1.2979)]\n",
      "Validation -  [0.39699074074074076, 0.19598765432098764, 0.654479754102525, 0.39699074074074076, tensor(1.3153)]\n",
      "\n",
      "Epoch  109\n"
     ]
    },
    {
     "name": "stderr",
     "output_type": "stream",
     "text": [
      "81it [00:02, 38.85it/s]"
     ]
    },
    {
     "name": "stdout",
     "output_type": "stream",
     "text": [
      "['acc', 'kappa', 'auc', 'fmeasure', 'loss']\n",
      "Training Loss  1.345313079563188\n"
     ]
    },
    {
     "name": "stderr",
     "output_type": "stream",
     "text": [
      "\n"
     ]
    },
    {
     "name": "stdout",
     "output_type": "stream",
     "text": [
      "Train -  [0.35262345679012347, 0.13683127572016462, 0.6560502519623532, 0.35262345679012347, tensor(1.3696)]\n",
      "Validation -  [0.33757716049382713, 0.11676954732510292, 0.6369536251143119, 0.33757716049382713, tensor(1.3807)]\n",
      "\n",
      "Epoch  110\n"
     ]
    },
    {
     "name": "stderr",
     "output_type": "stream",
     "text": [
      "81it [00:02, 40.30it/s]"
     ]
    },
    {
     "name": "stdout",
     "output_type": "stream",
     "text": [
      "['acc', 'kappa', 'auc', 'fmeasure', 'loss']\n",
      "Training Loss  1.3860926348486065\n"
     ]
    },
    {
     "name": "stderr",
     "output_type": "stream",
     "text": [
      "\n"
     ]
    },
    {
     "name": "stdout",
     "output_type": "stream",
     "text": [
      "Train -  [0.2862654320987654, 0.048353909465020606, 0.6520746408702942, 0.2862654320987654, tensor(1.4312)]\n",
      "Validation -  [0.30169753086419754, 0.06893004115226342, 0.6408749579268911, 0.30169753086419754, tensor(1.4139)]\n",
      "\n",
      "Epoch  111\n"
     ]
    },
    {
     "name": "stderr",
     "output_type": "stream",
     "text": [
      "81it [00:02, 38.82it/s]"
     ]
    },
    {
     "name": "stdout",
     "output_type": "stream",
     "text": [
      "['acc', 'kappa', 'auc', 'fmeasure', 'loss']\n",
      "Training Loss  1.3161907137176136\n"
     ]
    },
    {
     "name": "stderr",
     "output_type": "stream",
     "text": [
      "\n"
     ]
    },
    {
     "name": "stdout",
     "output_type": "stream",
     "text": [
      "Train -  [0.36226851851851855, 0.14969135802469136, 0.6715888234771124, 0.36226851851851855, tensor(1.3449)]\n",
      "Validation -  [0.3653549382716049, 0.1538065843621399, 0.6529020125234974, 0.3653549382716049, tensor(1.3456)]\n",
      "\n",
      "Epoch  112\n"
     ]
    },
    {
     "name": "stderr",
     "output_type": "stream",
     "text": [
      "81it [00:01, 42.24it/s]"
     ]
    },
    {
     "name": "stdout",
     "output_type": "stream",
     "text": [
      "['acc', 'kappa', 'auc', 'fmeasure', 'loss']\n",
      "Training Loss  1.3123847834857894\n"
     ]
    },
    {
     "name": "stderr",
     "output_type": "stream",
     "text": [
      "\n"
     ]
    },
    {
     "name": "stdout",
     "output_type": "stream",
     "text": [
      "Train -  [0.373070987654321, 0.1640946502057613, 0.6586769436188589, 0.373070987654321, tensor(1.3390)]\n",
      "Validation -  [0.3726851851851852, 0.1635802469135802, 0.6377245354493726, 0.37268518518518523, tensor(1.3430)]\n",
      "\n",
      "Epoch  113\n"
     ]
    },
    {
     "name": "stderr",
     "output_type": "stream",
     "text": [
      "81it [00:02, 40.17it/s]"
     ]
    },
    {
     "name": "stdout",
     "output_type": "stream",
     "text": [
      "['acc', 'kappa', 'auc', 'fmeasure', 'loss']\n",
      "Training Loss  1.3221811203309048\n"
     ]
    },
    {
     "name": "stderr",
     "output_type": "stream",
     "text": [
      "\n"
     ]
    },
    {
     "name": "stdout",
     "output_type": "stream",
     "text": [
      "Train -  [0.41898148148148145, 0.22530864197530864, 0.6847985888838083, 0.41898148148148145, tensor(1.2913)]\n",
      "Validation -  [0.40162037037037035, 0.2021604938271605, 0.6557634800652847, 0.4016203703703704, tensor(1.3099)]\n",
      "\n",
      "Epoch  114\n"
     ]
    },
    {
     "name": "stderr",
     "output_type": "stream",
     "text": [
      "81it [00:01, 40.52it/s]"
     ]
    },
    {
     "name": "stdout",
     "output_type": "stream",
     "text": [
      "['acc', 'kappa', 'auc', 'fmeasure', 'loss']\n",
      "Training Loss  1.3106747115099873\n"
     ]
    },
    {
     "name": "stderr",
     "output_type": "stream",
     "text": [
      "\n"
     ]
    },
    {
     "name": "stdout",
     "output_type": "stream",
     "text": [
      "Train -  [0.36959876543209874, 0.15946502057613166, 0.6825861784280851, 0.36959876543209874, tensor(1.3229)]\n",
      "Validation -  [0.3479938271604938, 0.13065843621399176, 0.6524178740855053, 0.3479938271604938, tensor(1.3379)]\n",
      "\n",
      "Epoch  115\n"
     ]
    },
    {
     "name": "stderr",
     "output_type": "stream",
     "text": [
      "81it [00:02, 39.91it/s]"
     ]
    },
    {
     "name": "stdout",
     "output_type": "stream",
     "text": [
      "['acc', 'kappa', 'auc', 'fmeasure', 'loss']\n",
      "Training Loss  1.3272655142678156\n"
     ]
    },
    {
     "name": "stderr",
     "output_type": "stream",
     "text": [
      "\n"
     ]
    },
    {
     "name": "stdout",
     "output_type": "stream",
     "text": [
      "Train -  [0.3873456790123457, 0.1831275720164609, 0.670573908956968, 0.3873456790123457, tensor(1.3259)]\n",
      "Validation -  [0.38850308641975306, 0.18467078189300412, 0.647741110666565, 0.3885030864197531, tensor(1.3305)]\n",
      "\n",
      "Epoch  116\n"
     ]
    },
    {
     "name": "stderr",
     "output_type": "stream",
     "text": [
      "81it [00:01, 42.24it/s]"
     ]
    },
    {
     "name": "stdout",
     "output_type": "stream",
     "text": [
      "['acc', 'kappa', 'auc', 'fmeasure', 'loss']\n",
      "Training Loss  1.3544467820061579\n"
     ]
    },
    {
     "name": "stderr",
     "output_type": "stream",
     "text": [
      "\n"
     ]
    },
    {
     "name": "stdout",
     "output_type": "stream",
     "text": [
      "Train -  [0.3846450617283951, 0.17952674897119336, 0.6747907458212671, 0.3846450617283951, tensor(1.3302)]\n",
      "Validation -  [0.3819444444444444, 0.17592592592592593, 0.6526598936899863, 0.3819444444444445, tensor(1.3357)]\n",
      "\n",
      "Epoch  117\n"
     ]
    },
    {
     "name": "stderr",
     "output_type": "stream",
     "text": [
      "81it [00:02, 40.20it/s]"
     ]
    },
    {
     "name": "stdout",
     "output_type": "stream",
     "text": [
      "['acc', 'kappa', 'auc', 'fmeasure', 'loss']\n",
      "Training Loss  1.3105825288796131\n"
     ]
    },
    {
     "name": "stderr",
     "output_type": "stream",
     "text": [
      "\n"
     ]
    },
    {
     "name": "stdout",
     "output_type": "stream",
     "text": [
      "Train -  [0.4193672839506173, 0.22582304526748975, 0.6777416187191992, 0.4193672839506173, tensor(1.3042)]\n",
      "Validation -  [0.40007716049382713, 0.20010288065843618, 0.6526623744157395, 0.40007716049382713, tensor(1.3221)]\n",
      "\n",
      "Epoch  118\n"
     ]
    },
    {
     "name": "stderr",
     "output_type": "stream",
     "text": [
      "81it [00:01, 40.92it/s]"
     ]
    },
    {
     "name": "stdout",
     "output_type": "stream",
     "text": [
      "['acc', 'kappa', 'auc', 'fmeasure', 'loss']\n",
      "Training Loss  1.3140151309378354\n"
     ]
    },
    {
     "name": "stderr",
     "output_type": "stream",
     "text": [
      "\n"
     ]
    },
    {
     "name": "stdout",
     "output_type": "stream",
     "text": [
      "Train -  [0.35802469135802467, 0.1440329218106996, 0.6748117823756541, 0.35802469135802467, tensor(1.3509)]\n",
      "Validation -  [0.36149691358024694, 0.14866255144032925, 0.6513401475892903, 0.361496913580247, tensor(1.3482)]\n",
      "\n",
      "Epoch  119\n"
     ]
    },
    {
     "name": "stderr",
     "output_type": "stream",
     "text": [
      "81it [00:02, 40.08it/s]"
     ]
    },
    {
     "name": "stdout",
     "output_type": "stream",
     "text": [
      "['acc', 'kappa', 'auc', 'fmeasure', 'loss']\n",
      "Training Loss  1.3531259695688884\n"
     ]
    },
    {
     "name": "stderr",
     "output_type": "stream",
     "text": [
      "\n"
     ]
    },
    {
     "name": "stdout",
     "output_type": "stream",
     "text": [
      "Train -  [0.3722993827160494, 0.1630658436213992, 0.6649996189605244, 0.3722993827160494, tensor(1.3424)]\n",
      "Validation -  [0.34915123456790126, 0.13220164609053497, 0.6419471275974191, 0.34915123456790126, tensor(1.3628)]\n",
      "\n",
      "Epoch  120\n"
     ]
    },
    {
     "name": "stderr",
     "output_type": "stream",
     "text": [
      "81it [00:02, 40.31it/s]"
     ]
    },
    {
     "name": "stdout",
     "output_type": "stream",
     "text": [
      "['acc', 'kappa', 'auc', 'fmeasure', 'loss']\n",
      "Training Loss  1.3312288920084636\n"
     ]
    },
    {
     "name": "stderr",
     "output_type": "stream",
     "text": [
      "\n"
     ]
    },
    {
     "name": "stdout",
     "output_type": "stream",
     "text": [
      "Train -  [0.4166666666666667, 0.2222222222222222, 0.6806482354696948, 0.4166666666666667, tensor(1.2947)]\n",
      "Validation -  [0.39814814814814814, 0.19753086419753085, 0.6516670080145303, 0.39814814814814814, tensor(1.3131)]\n",
      "\n",
      "Epoch  121\n"
     ]
    },
    {
     "name": "stderr",
     "output_type": "stream",
     "text": [
      "81it [00:02, 40.29it/s]"
     ]
    },
    {
     "name": "stdout",
     "output_type": "stream",
     "text": [
      "['acc', 'kappa', 'auc', 'fmeasure', 'loss']\n",
      "Training Loss  1.301244538507344\n"
     ]
    },
    {
     "name": "stderr",
     "output_type": "stream",
     "text": [
      "\n"
     ]
    },
    {
     "name": "stdout",
     "output_type": "stream",
     "text": [
      "Train -  [0.404320987654321, 0.20576131687242794, 0.6827772935401107, 0.40432098765432095, tensor(1.3074)]\n",
      "Validation -  [0.3896604938271605, 0.18621399176954734, 0.6616698896255653, 0.3896604938271605, tensor(1.3174)]\n",
      "\n",
      "Epoch  122\n"
     ]
    },
    {
     "name": "stderr",
     "output_type": "stream",
     "text": [
      "81it [00:01, 40.72it/s]"
     ]
    },
    {
     "name": "stdout",
     "output_type": "stream",
     "text": [
      "['acc', 'kappa', 'auc', 'fmeasure', 'loss']\n",
      "Training Loss  1.3200717045937056\n"
     ]
    },
    {
     "name": "stderr",
     "output_type": "stream",
     "text": [
      "\n"
     ]
    },
    {
     "name": "stdout",
     "output_type": "stream",
     "text": [
      "Train -  [0.38657407407407407, 0.1820987654320988, 0.6810518991642533, 0.38657407407407407, tensor(1.3096)]\n",
      "Validation -  [0.375, 0.16666666666666663, 0.6524344453335366, 0.375, tensor(1.3219)]\n",
      "\n",
      "Epoch  123\n"
     ]
    },
    {
     "name": "stderr",
     "output_type": "stream",
     "text": [
      "81it [00:02, 40.28it/s]"
     ]
    },
    {
     "name": "stdout",
     "output_type": "stream",
     "text": [
      "['acc', 'kappa', 'auc', 'fmeasure', 'loss']\n",
      "Training Loss  1.3022949739738747\n"
     ]
    },
    {
     "name": "stderr",
     "output_type": "stream",
     "text": [
      "\n"
     ]
    },
    {
     "name": "stdout",
     "output_type": "stream",
     "text": [
      "Train -  [0.4375, 0.25, 0.6906497278743078, 0.4375, tensor(1.2848)]\n",
      "Validation -  [0.40007716049382713, 0.20010288065843618, 0.6600923465045978, 0.40007716049382713, tensor(1.3076)]\n",
      "\n",
      "Epoch  124\n"
     ]
    },
    {
     "name": "stderr",
     "output_type": "stream",
     "text": [
      "81it [00:01, 40.98it/s]"
     ]
    },
    {
     "name": "stdout",
     "output_type": "stream",
     "text": [
      "['acc', 'kappa', 'auc', 'fmeasure', 'loss']\n",
      "Training Loss  1.3307331182338573\n"
     ]
    },
    {
     "name": "stderr",
     "output_type": "stream",
     "text": [
      "\n"
     ]
    },
    {
     "name": "stdout",
     "output_type": "stream",
     "text": [
      "Train -  [0.36728395061728397, 0.15637860082304522, 0.6757882952611389, 0.36728395061728397, tensor(1.3503)]\n",
      "Validation -  [0.34375, 0.125, 0.6539165301275212, 0.34375, tensor(1.3609)]\n",
      "\n",
      "Epoch  125\n"
     ]
    },
    {
     "name": "stderr",
     "output_type": "stream",
     "text": [
      "81it [00:02, 40.07it/s]"
     ]
    },
    {
     "name": "stdout",
     "output_type": "stream",
     "text": [
      "['acc', 'kappa', 'auc', 'fmeasure', 'loss']\n",
      "Training Loss  1.3414745772326435\n"
     ]
    },
    {
     "name": "stderr",
     "output_type": "stream",
     "text": [
      "\n"
     ]
    },
    {
     "name": "stdout",
     "output_type": "stream",
     "text": [
      "Train -  [0.41705246913580246, 0.22273662551440332, 0.6790073842275061, 0.41705246913580246, tensor(1.3105)]\n",
      "Validation -  [0.3950617283950617, 0.1934156378600823, 0.6562162621297566, 0.3950617283950617, tensor(1.3264)]\n",
      "\n",
      "Epoch  126\n"
     ]
    },
    {
     "name": "stderr",
     "output_type": "stream",
     "text": [
      "81it [00:02, 39.15it/s]"
     ]
    },
    {
     "name": "stdout",
     "output_type": "stream",
     "text": [
      "['acc', 'kappa', 'auc', 'fmeasure', 'loss']\n",
      "Training Loss  1.3225367687366627\n"
     ]
    },
    {
     "name": "stderr",
     "output_type": "stream",
     "text": [
      "\n"
     ]
    },
    {
     "name": "stdout",
     "output_type": "stream",
     "text": [
      "Train -  [0.36959876543209874, 0.15946502057613166, 0.6785192766283087, 0.36959876543209874, tensor(1.3428)]\n",
      "Validation -  [0.3699845679012346, 0.15997942386831276, 0.6591117652288777, 0.3699845679012346, tensor(1.3407)]\n",
      "\n",
      "Epoch  127\n"
     ]
    },
    {
     "name": "stderr",
     "output_type": "stream",
     "text": [
      "81it [00:01, 40.70it/s]"
     ]
    },
    {
     "name": "stdout",
     "output_type": "stream",
     "text": [
      "['acc', 'kappa', 'auc', 'fmeasure', 'loss']\n",
      "Training Loss  1.3648173544141982\n"
     ]
    },
    {
     "name": "stderr",
     "output_type": "stream",
     "text": [
      "\n"
     ]
    },
    {
     "name": "stdout",
     "output_type": "stream",
     "text": [
      "Train -  [0.4347993827160494, 0.24639917695473246, 0.6842071838642483, 0.4347993827160494, tensor(1.2823)]\n",
      "Validation -  [0.4077932098765432, 0.21039094650205759, 0.6529804034572981, 0.4077932098765432, tensor(1.3079)]\n",
      "\n",
      "Epoch  128\n"
     ]
    },
    {
     "name": "stderr",
     "output_type": "stream",
     "text": [
      "81it [00:01, 41.77it/s]"
     ]
    },
    {
     "name": "stdout",
     "output_type": "stream",
     "text": [
      "['acc', 'kappa', 'auc', 'fmeasure', 'loss']\n",
      "Training Loss  1.329780007586067\n"
     ]
    },
    {
     "name": "stderr",
     "output_type": "stream",
     "text": [
      "\n"
     ]
    },
    {
     "name": "stdout",
     "output_type": "stream",
     "text": [
      "Train -  [0.38078703703703703, 0.1743827160493827, 0.6797278862152619, 0.380787037037037, tensor(1.3260)]\n",
      "Validation -  [0.3773148148148148, 0.16975308641975306, 0.6503498418686176, 0.3773148148148149, tensor(1.3349)]\n",
      "\n",
      "Epoch  129\n"
     ]
    },
    {
     "name": "stderr",
     "output_type": "stream",
     "text": [
      "81it [00:01, 41.25it/s]"
     ]
    },
    {
     "name": "stdout",
     "output_type": "stream",
     "text": [
      "['acc', 'kappa', 'auc', 'fmeasure', 'loss']\n",
      "Training Loss  1.3370662618566442\n"
     ]
    },
    {
     "name": "stderr",
     "output_type": "stream",
     "text": [
      "\n"
     ]
    },
    {
     "name": "stdout",
     "output_type": "stream",
     "text": [
      "Train -  [0.35030864197530864, 0.1337448559670782, 0.6581653187395214, 0.35030864197530864, tensor(1.3759)]\n",
      "Validation -  [0.345679012345679, 0.12757201646090532, 0.6437611334971803, 0.345679012345679, tensor(1.3798)]\n",
      "\n",
      "Epoch  130\n"
     ]
    },
    {
     "name": "stderr",
     "output_type": "stream",
     "text": [
      "81it [00:02, 38.84it/s]"
     ]
    },
    {
     "name": "stdout",
     "output_type": "stream",
     "text": [
      "['acc', 'kappa', 'auc', 'fmeasure', 'loss']\n",
      "Training Loss  1.3021634772971824\n"
     ]
    },
    {
     "name": "stderr",
     "output_type": "stream",
     "text": [
      "\n"
     ]
    },
    {
     "name": "stdout",
     "output_type": "stream",
     "text": [
      "Train -  [0.4058641975308642, 0.20781893004115226, 0.6788253981862521, 0.4058641975308642, tensor(1.3034)]\n",
      "Validation -  [0.39621913580246915, 0.19495884773662553, 0.6523692518607428, 0.39621913580246915, tensor(1.3173)]\n",
      "\n",
      "Epoch  131\n"
     ]
    },
    {
     "name": "stderr",
     "output_type": "stream",
     "text": [
      "81it [00:02, 39.94it/s]"
     ]
    },
    {
     "name": "stdout",
     "output_type": "stream",
     "text": [
      "['acc', 'kappa', 'auc', 'fmeasure', 'loss']\n",
      "Training Loss  1.3172288176454143\n"
     ]
    },
    {
     "name": "stderr",
     "output_type": "stream",
     "text": [
      "\n"
     ]
    },
    {
     "name": "stdout",
     "output_type": "stream",
     "text": [
      "Train -  [0.44058641975308643, 0.25411522633744854, 0.6838513485622111, 0.44058641975308643, tensor(1.2802)]\n",
      "Validation -  [0.4097222222222222, 0.2129629629629629, 0.6527888914291521, 0.4097222222222222, tensor(1.3082)]\n",
      "\n",
      "Epoch  132\n"
     ]
    },
    {
     "name": "stderr",
     "output_type": "stream",
     "text": [
      "81it [00:01, 40.52it/s]"
     ]
    },
    {
     "name": "stdout",
     "output_type": "stream",
     "text": [
      "['acc', 'kappa', 'auc', 'fmeasure', 'loss']\n",
      "Training Loss  1.315519157751107\n"
     ]
    },
    {
     "name": "stderr",
     "output_type": "stream",
     "text": [
      "\n"
     ]
    },
    {
     "name": "stdout",
     "output_type": "stream",
     "text": [
      "Train -  [0.30516975308641975, 0.07355967078189296, 0.6367306574836153, 0.30516975308641975, tensor(1.4053)]\n",
      "Validation -  [0.3117283950617284, 0.08230452674897115, 0.618045831110603, 0.3117283950617284, tensor(1.4060)]\n",
      "\n",
      "Epoch  133\n"
     ]
    },
    {
     "name": "stderr",
     "output_type": "stream",
     "text": [
      "81it [00:02, 38.72it/s]\n"
     ]
    },
    {
     "name": "stdout",
     "output_type": "stream",
     "text": [
      "['acc', 'kappa', 'auc', 'fmeasure', 'loss']\n",
      "Training Loss  1.3552724358476238\n",
      "Train -  [0.30092592592592593, 0.0679012345679012, 0.6497770919067215, 0.30092592592592593, tensor(1.3912)]\n",
      "Validation -  [0.28780864197530864, 0.05041152263374482, 0.6282354617563379, 0.28780864197530864, tensor(1.4068)]\n",
      "\n",
      "Epoch  134\n"
     ]
    },
    {
     "name": "stderr",
     "output_type": "stream",
     "text": [
      "81it [00:01, 40.86it/s]"
     ]
    },
    {
     "name": "stdout",
     "output_type": "stream",
     "text": [
      "['acc', 'kappa', 'auc', 'fmeasure', 'loss']\n",
      "Training Loss  1.3453472882141302\n"
     ]
    },
    {
     "name": "stderr",
     "output_type": "stream",
     "text": [
      "\n"
     ]
    },
    {
     "name": "stdout",
     "output_type": "stream",
     "text": [
      "Train -  [0.3472222222222222, 0.12962962962962965, 0.6719074478928517, 0.3472222222222222, tensor(1.3549)]\n",
      "Validation -  [0.3611111111111111, 0.14814814814814814, 0.6603418082863385, 0.3611111111111111, tensor(1.3500)]\n",
      "\n",
      "Epoch  135\n"
     ]
    },
    {
     "name": "stderr",
     "output_type": "stream",
     "text": [
      "81it [00:01, 42.16it/s]\n"
     ]
    },
    {
     "name": "stdout",
     "output_type": "stream",
     "text": [
      "['acc', 'kappa', 'auc', 'fmeasure', 'loss']\n",
      "Training Loss  1.4100068557409593\n",
      "Train -  [0.25617283950617287, 0.008230452674897082, 0.6399184893054921, 0.25617283950617287, tensor(1.4293)]\n",
      "Validation -  [0.251929012345679, 0.002572016460905324, 0.616803880569527, 0.251929012345679, tensor(1.4362)]\n",
      "\n",
      "Epoch  136\n"
     ]
    },
    {
     "name": "stderr",
     "output_type": "stream",
     "text": [
      "81it [00:01, 42.73it/s]"
     ]
    },
    {
     "name": "stdout",
     "output_type": "stream",
     "text": [
      "['acc', 'kappa', 'auc', 'fmeasure', 'loss']\n",
      "Training Loss  1.4320381158663902\n"
     ]
    },
    {
     "name": "stderr",
     "output_type": "stream",
     "text": [
      "\n"
     ]
    },
    {
     "name": "stdout",
     "output_type": "stream",
     "text": [
      "Train -  [0.25308641975308643, 0.004115226337448541, 0.6498604442920286, 0.25308641975308643, tensor(1.4699)]\n",
      "Validation -  [0.2542438271604938, 0.005658436213991758, 0.625946148802266, 0.2542438271604938, tensor(1.4693)]\n",
      "\n",
      "Epoch  137\n"
     ]
    },
    {
     "name": "stderr",
     "output_type": "stream",
     "text": [
      "81it [00:02, 40.40it/s]"
     ]
    },
    {
     "name": "stdout",
     "output_type": "stream",
     "text": [
      "['acc', 'kappa', 'auc', 'fmeasure', 'loss']\n",
      "Training Loss  1.4251007268458238\n"
     ]
    },
    {
     "name": "stderr",
     "output_type": "stream",
     "text": [
      "\n"
     ]
    },
    {
     "name": "stdout",
     "output_type": "stream",
     "text": [
      "Train -  [0.25540123456790126, 0.007201646090534974, 0.6453764828786261, 0.25540123456790126, tensor(1.4215)]\n",
      "Validation -  [0.25385802469135804, 0.005144032921810648, 0.6208825906238886, 0.25385802469135804, tensor(1.4301)]\n",
      "\n",
      "Epoch  138\n"
     ]
    },
    {
     "name": "stderr",
     "output_type": "stream",
     "text": [
      "81it [00:01, 42.30it/s]"
     ]
    },
    {
     "name": "stdout",
     "output_type": "stream",
     "text": [
      "['acc', 'kappa', 'auc', 'fmeasure', 'loss']\n",
      "Training Loss  1.4143562110853785\n"
     ]
    },
    {
     "name": "stderr",
     "output_type": "stream",
     "text": [
      "\n"
     ]
    },
    {
     "name": "stdout",
     "output_type": "stream",
     "text": [
      "Train -  [0.2966820987654321, 0.062242798353909445, 0.6520889298506325, 0.2966820987654321, tensor(1.4045)]\n",
      "Validation -  [0.2770061728395062, 0.03600823045267487, 0.6261341878143576, 0.2770061728395062, tensor(1.4147)]\n",
      "\n",
      "Epoch  139\n"
     ]
    },
    {
     "name": "stderr",
     "output_type": "stream",
     "text": [
      "81it [00:01, 41.08it/s]"
     ]
    },
    {
     "name": "stdout",
     "output_type": "stream",
     "text": [
      "['acc', 'kappa', 'auc', 'fmeasure', 'loss']\n",
      "Training Loss  1.4149313738316665\n"
     ]
    },
    {
     "name": "stderr",
     "output_type": "stream",
     "text": [
      "\n"
     ]
    },
    {
     "name": "stdout",
     "output_type": "stream",
     "text": [
      "Train -  [0.27816358024691357, 0.03755144032921809, 0.6564982710333791, 0.27816358024691357, tensor(1.4213)]\n",
      "Validation -  [0.27662037037037035, 0.035493827160493874, 0.6271449347152365, 0.27662037037037035, tensor(1.4259)]\n",
      "\n",
      "Epoch  140\n"
     ]
    },
    {
     "name": "stderr",
     "output_type": "stream",
     "text": [
      "81it [00:01, 40.90it/s]"
     ]
    },
    {
     "name": "stdout",
     "output_type": "stream",
     "text": [
      "['acc', 'kappa', 'auc', 'fmeasure', 'loss']\n",
      "Training Loss  1.4126069943110149\n"
     ]
    },
    {
     "name": "stderr",
     "output_type": "stream",
     "text": [
      "\n"
     ]
    },
    {
     "name": "stdout",
     "output_type": "stream",
     "text": [
      "Train -  [0.3020833333333333, 0.06944444444444442, 0.656636794759437, 0.3020833333333333, tensor(1.4041)]\n",
      "Validation -  [0.2862654320987654, 0.048353909465020606, 0.6290156003912005, 0.2862654320987654, tensor(1.4107)]\n",
      "\n",
      "Epoch  141\n"
     ]
    },
    {
     "name": "stderr",
     "output_type": "stream",
     "text": [
      "81it [00:02, 38.01it/s]"
     ]
    },
    {
     "name": "stdout",
     "output_type": "stream",
     "text": [
      "['acc', 'kappa', 'auc', 'fmeasure', 'loss']\n",
      "Training Loss  1.414141905160598\n"
     ]
    },
    {
     "name": "stderr",
     "output_type": "stream",
     "text": [
      "\n"
     ]
    },
    {
     "name": "stdout",
     "output_type": "stream",
     "text": [
      "Train -  [0.30709876543209874, 0.0761316872427984, 0.6570741963242392, 0.30709876543209874, tensor(1.4083)]\n",
      "Validation -  [0.28973765432098764, 0.052983539094650256, 0.629054895087131, 0.28973765432098764, tensor(1.4165)]\n",
      "\n",
      "Epoch  142\n"
     ]
    },
    {
     "name": "stderr",
     "output_type": "stream",
     "text": [
      "81it [00:02, 37.89it/s]"
     ]
    },
    {
     "name": "stdout",
     "output_type": "stream",
     "text": [
      "['acc', 'kappa', 'auc', 'fmeasure', 'loss']\n",
      "Training Loss  1.4196975422494205\n"
     ]
    },
    {
     "name": "stderr",
     "output_type": "stream",
     "text": [
      "\n"
     ]
    },
    {
     "name": "stdout",
     "output_type": "stream",
     "text": [
      "Train -  [0.29822530864197533, 0.06430041152263377, 0.6552979966849566, 0.29822530864197533, tensor(1.4130)]\n",
      "Validation -  [0.28665123456790126, 0.048868312757201604, 0.6251133195524056, 0.28665123456790126, tensor(1.4205)]\n",
      "\n",
      "Epoch  143\n"
     ]
    },
    {
     "name": "stderr",
     "output_type": "stream",
     "text": [
      "81it [00:02, 39.99it/s]"
     ]
    },
    {
     "name": "stdout",
     "output_type": "stream",
     "text": [
      "['acc', 'kappa', 'auc', 'fmeasure', 'loss']\n",
      "Training Loss  1.4112924808337364\n"
     ]
    },
    {
     "name": "stderr",
     "output_type": "stream",
     "text": [
      "\n"
     ]
    },
    {
     "name": "stdout",
     "output_type": "stream",
     "text": [
      "Train -  [0.28433641975308643, 0.04578189300411528, 0.6501678558273636, 0.28433641975308643, tensor(1.4062)]\n",
      "Validation -  [0.2681327160493827, 0.024176954732510247, 0.622677246862775, 0.2681327160493827, tensor(1.4177)]\n",
      "\n",
      "Epoch  144\n"
     ]
    },
    {
     "name": "stderr",
     "output_type": "stream",
     "text": [
      "81it [00:02, 39.83it/s]"
     ]
    },
    {
     "name": "stdout",
     "output_type": "stream",
     "text": [
      "['acc', 'kappa', 'auc', 'fmeasure', 'loss']\n",
      "Training Loss  1.408152088706876\n"
     ]
    },
    {
     "name": "stderr",
     "output_type": "stream",
     "text": [
      "\n"
     ]
    },
    {
     "name": "stdout",
     "output_type": "stream",
     "text": [
      "Train -  [0.283179012345679, 0.044238683127572065, 0.6573189943415638, 0.283179012345679, tensor(1.4147)]\n",
      "Validation -  [0.279320987654321, 0.039094650205761305, 0.6270199061372758, 0.279320987654321, tensor(1.4193)]\n",
      "\n",
      "Epoch  145\n"
     ]
    },
    {
     "name": "stderr",
     "output_type": "stream",
     "text": [
      "81it [00:01, 40.90it/s]"
     ]
    },
    {
     "name": "stdout",
     "output_type": "stream",
     "text": [
      "['acc', 'kappa', 'auc', 'fmeasure', 'loss']\n",
      "Training Loss  1.3889223881709722\n"
     ]
    },
    {
     "name": "stderr",
     "output_type": "stream",
     "text": [
      "\n"
     ]
    },
    {
     "name": "stdout",
     "output_type": "stream",
     "text": [
      "Train -  [0.3441358024691358, 0.1255144032921811, 0.6531776707691918, 0.3441358024691358, tensor(1.3591)]\n",
      "Validation -  [0.3460648148148148, 0.12808641975308643, 0.6252907410582736, 0.3460648148148148, tensor(1.3640)]\n",
      "\n",
      "Epoch  146\n"
     ]
    },
    {
     "name": "stderr",
     "output_type": "stream",
     "text": [
      "81it [00:02, 37.18it/s]"
     ]
    },
    {
     "name": "stdout",
     "output_type": "stream",
     "text": [
      "['acc', 'kappa', 'auc', 'fmeasure', 'loss']\n",
      "Training Loss  1.3539894407178148\n"
     ]
    },
    {
     "name": "stderr",
     "output_type": "stream",
     "text": [
      "\n"
     ]
    },
    {
     "name": "stdout",
     "output_type": "stream",
     "text": [
      "Train -  [0.3132716049382716, 0.08436213991769548, 0.6560783337778793, 0.3132716049382716, tensor(1.3692)]\n",
      "Validation -  [0.3028549382716049, 0.07047325102880664, 0.6288915641035411, 0.3028549382716049, tensor(1.3865)]\n",
      "\n",
      "Epoch  147\n"
     ]
    },
    {
     "name": "stderr",
     "output_type": "stream",
     "text": [
      "81it [00:02, 39.35it/s]"
     ]
    },
    {
     "name": "stdout",
     "output_type": "stream",
     "text": [
      "['acc', 'kappa', 'auc', 'fmeasure', 'loss']\n",
      "Training Loss  1.3584948675132091\n"
     ]
    },
    {
     "name": "stderr",
     "output_type": "stream",
     "text": [
      "\n"
     ]
    },
    {
     "name": "stdout",
     "output_type": "stream",
     "text": [
      "Train -  [0.373070987654321, 0.1640946502057613, 0.6750421921836103, 0.373070987654321, tensor(1.3275)]\n",
      "Validation -  [0.37191358024691357, 0.1625514403292181, 0.6549633963953666, 0.37191358024691357, tensor(1.3305)]\n",
      "\n",
      "Epoch  148\n"
     ]
    },
    {
     "name": "stderr",
     "output_type": "stream",
     "text": [
      "81it [00:01, 40.84it/s]"
     ]
    },
    {
     "name": "stdout",
     "output_type": "stream",
     "text": [
      "['acc', 'kappa', 'auc', 'fmeasure', 'loss']\n",
      "Training Loss  1.315473703690517\n"
     ]
    },
    {
     "name": "stderr",
     "output_type": "stream",
     "text": [
      "\n"
     ]
    },
    {
     "name": "stdout",
     "output_type": "stream",
     "text": [
      "Train -  [0.41203703703703703, 0.21604938271604934, 0.6817982999288726, 0.41203703703703703, tensor(1.2968)]\n",
      "Validation -  [0.4027777777777778, 0.20370370370370372, 0.6545835476680384, 0.4027777777777778, tensor(1.3139)]\n",
      "\n",
      "Epoch  149\n"
     ]
    },
    {
     "name": "stderr",
     "output_type": "stream",
     "text": [
      "81it [00:02, 39.56it/s]"
     ]
    },
    {
     "name": "stdout",
     "output_type": "stream",
     "text": [
      "['acc', 'kappa', 'auc', 'fmeasure', 'loss']\n",
      "Training Loss  1.3574845996903784\n"
     ]
    },
    {
     "name": "stderr",
     "output_type": "stream",
     "text": [
      "\n"
     ]
    },
    {
     "name": "stdout",
     "output_type": "stream",
     "text": [
      "Train -  [0.36496913580246915, 0.1532921810699589, 0.6686758560686887, 0.36496913580246915, tensor(1.3382)]\n",
      "Validation -  [0.35725308641975306, 0.1430041152263375, 0.6504974946654474, 0.35725308641975306, tensor(1.3475)]\n",
      "\n",
      "Epoch  150\n"
     ]
    },
    {
     "name": "stderr",
     "output_type": "stream",
     "text": [
      "81it [00:01, 41.33it/s]"
     ]
    },
    {
     "name": "stdout",
     "output_type": "stream",
     "text": [
      "['acc', 'kappa', 'auc', 'fmeasure', 'loss']\n",
      "Training Loss  1.3615059484670191\n"
     ]
    },
    {
     "name": "stderr",
     "output_type": "stream",
     "text": [
      "\n"
     ]
    },
    {
     "name": "stdout",
     "output_type": "stream",
     "text": [
      "Train -  [0.3533950617283951, 0.13786008230452673, 0.6743445128727836, 0.3533950617283951, tensor(1.3476)]\n",
      "Validation -  [0.35030864197530864, 0.1337448559670782, 0.6582510526215516, 0.35030864197530864, tensor(1.3539)]\n",
      "\n",
      "Epoch  151\n"
     ]
    },
    {
     "name": "stderr",
     "output_type": "stream",
     "text": [
      "81it [00:02, 40.36it/s]"
     ]
    },
    {
     "name": "stdout",
     "output_type": "stream",
     "text": [
      "['acc', 'kappa', 'auc', 'fmeasure', 'loss']\n",
      "Training Loss  1.326569284921811\n"
     ]
    },
    {
     "name": "stderr",
     "output_type": "stream",
     "text": [
      "\n"
     ]
    },
    {
     "name": "stdout",
     "output_type": "stream",
     "text": [
      "Train -  [0.40162037037037035, 0.2021604938271605, 0.6745015924274754, 0.4016203703703704, tensor(1.3120)]\n",
      "Validation -  [0.37808641975308643, 0.17078189300411528, 0.6471890995719657, 0.37808641975308643, tensor(1.3335)]\n",
      "\n",
      "Epoch  152\n"
     ]
    },
    {
     "name": "stderr",
     "output_type": "stream",
     "text": [
      "81it [00:02, 39.79it/s]"
     ]
    },
    {
     "name": "stdout",
     "output_type": "stream",
     "text": [
      "['acc', 'kappa', 'auc', 'fmeasure', 'loss']\n",
      "Training Loss  1.2930329228624886\n"
     ]
    },
    {
     "name": "stderr",
     "output_type": "stream",
     "text": [
      "\n"
     ]
    },
    {
     "name": "stdout",
     "output_type": "stream",
     "text": [
      "Train -  [0.39197530864197533, 0.18930041152263377, 0.6858545842224255, 0.39197530864197533, tensor(1.3162)]\n",
      "Validation -  [0.39699074074074076, 0.19598765432098764, 0.6678883744855967, 0.39699074074074076, tensor(1.3178)]\n",
      "\n",
      "Epoch  153\n"
     ]
    },
    {
     "name": "stderr",
     "output_type": "stream",
     "text": [
      "81it [00:02, 39.95it/s]"
     ]
    },
    {
     "name": "stdout",
     "output_type": "stream",
     "text": [
      "['acc', 'kappa', 'auc', 'fmeasure', 'loss']\n",
      "Training Loss  1.346614556548036\n"
     ]
    },
    {
     "name": "stderr",
     "output_type": "stream",
     "text": [
      "\n"
     ]
    },
    {
     "name": "stdout",
     "output_type": "stream",
     "text": [
      "Train -  [0.3888888888888889, 0.18518518518518523, 0.6786698070670122, 0.3888888888888889, tensor(1.3338)]\n",
      "Validation -  [0.3618827160493827, 0.14917695473251025, 0.651984937827059, 0.3618827160493827, tensor(1.3476)]\n",
      "\n",
      "Epoch  154\n"
     ]
    },
    {
     "name": "stderr",
     "output_type": "stream",
     "text": [
      "81it [00:01, 41.04it/s]"
     ]
    },
    {
     "name": "stdout",
     "output_type": "stream",
     "text": [
      "['acc', 'kappa', 'auc', 'fmeasure', 'loss']\n",
      "Training Loss  1.3414421478907268\n"
     ]
    },
    {
     "name": "stderr",
     "output_type": "stream",
     "text": [
      "\n"
     ]
    },
    {
     "name": "stdout",
     "output_type": "stream",
     "text": [
      "Train -  [0.4193672839506173, 0.22582304526748975, 0.6857432492506224, 0.4193672839506173, tensor(1.3014)]\n",
      "Validation -  [0.38580246913580246, 0.18106995884773658, 0.659312009411675, 0.38580246913580246, tensor(1.3165)]\n",
      "\n",
      "Epoch  155\n"
     ]
    },
    {
     "name": "stderr",
     "output_type": "stream",
     "text": [
      "81it [00:01, 41.13it/s]"
     ]
    },
    {
     "name": "stdout",
     "output_type": "stream",
     "text": [
      "['acc', 'kappa', 'auc', 'fmeasure', 'loss']\n",
      "Training Loss  1.3107878425974904\n"
     ]
    },
    {
     "name": "stderr",
     "output_type": "stream",
     "text": [
      "\n"
     ]
    },
    {
     "name": "stdout",
     "output_type": "stream",
     "text": [
      "Train -  [0.3722993827160494, 0.1630658436213992, 0.6870050455977239, 0.3722993827160494, tensor(1.3257)]\n",
      "Validation -  [0.3753858024691358, 0.16718106995884774, 0.6621665309213535, 0.3753858024691358, tensor(1.3285)]\n",
      "\n",
      "Epoch  156\n"
     ]
    },
    {
     "name": "stderr",
     "output_type": "stream",
     "text": [
      "81it [00:02, 39.48it/s]"
     ]
    },
    {
     "name": "stdout",
     "output_type": "stream",
     "text": [
      "['acc', 'kappa', 'auc', 'fmeasure', 'loss']\n",
      "Training Loss  1.329822306279783\n"
     ]
    },
    {
     "name": "stderr",
     "output_type": "stream",
     "text": [
      "\n"
     ]
    },
    {
     "name": "stdout",
     "output_type": "stream",
     "text": [
      "Train -  [0.42669753086419754, 0.23559670781893005, 0.6825281294454606, 0.4266975308641976, tensor(1.3002)]\n",
      "Validation -  [0.4074074074074074, 0.2098765432098766, 0.6564134302126201, 0.4074074074074074, tensor(1.3188)]\n",
      "\n",
      "Epoch  157\n"
     ]
    },
    {
     "name": "stderr",
     "output_type": "stream",
     "text": [
      "81it [00:01, 42.75it/s]"
     ]
    },
    {
     "name": "stdout",
     "output_type": "stream",
     "text": [
      "['acc', 'kappa', 'auc', 'fmeasure', 'loss']\n",
      "Training Loss  1.3419702288545208\n"
     ]
    },
    {
     "name": "stderr",
     "output_type": "stream",
     "text": [
      "\n"
     ]
    },
    {
     "name": "stdout",
     "output_type": "stream",
     "text": [
      "Train -  [0.33603395061728397, 0.11471193415637859, 0.6445574464639536, 0.33603395061728397, tensor(1.3919)]\n",
      "Validation -  [0.33912037037037035, 0.11882716049382713, 0.6289298665091704, 0.33912037037037035, tensor(1.3922)]\n",
      "\n",
      "Epoch  158\n"
     ]
    },
    {
     "name": "stderr",
     "output_type": "stream",
     "text": [
      "81it [00:01, 41.65it/s]"
     ]
    },
    {
     "name": "stdout",
     "output_type": "stream",
     "text": [
      "['acc', 'kappa', 'auc', 'fmeasure', 'loss']\n",
      "Training Loss  1.3635590944761111\n"
     ]
    },
    {
     "name": "stderr",
     "output_type": "stream",
     "text": [
      "\n"
     ]
    },
    {
     "name": "stdout",
     "output_type": "stream",
     "text": [
      "Train -  [0.3557098765432099, 0.14094650205761317, 0.6814200388660265, 0.3557098765432099, tensor(1.3442)]\n",
      "Validation -  [0.35378086419753085, 0.13837448559670784, 0.6644542562109435, 0.35378086419753085, tensor(1.3461)]\n",
      "\n",
      "Epoch  159\n"
     ]
    },
    {
     "name": "stderr",
     "output_type": "stream",
     "text": [
      "81it [00:02, 39.61it/s]"
     ]
    },
    {
     "name": "stdout",
     "output_type": "stream",
     "text": [
      "['acc', 'kappa', 'auc', 'fmeasure', 'loss']\n",
      "Training Loss  1.3245383074254165\n"
     ]
    },
    {
     "name": "stderr",
     "output_type": "stream",
     "text": [
      "\n"
     ]
    },
    {
     "name": "stdout",
     "output_type": "stream",
     "text": [
      "Train -  [0.4035493827160494, 0.20473251028806583, 0.6836796823400905, 0.4035493827160494, tensor(1.3091)]\n",
      "Validation -  [0.3942901234567901, 0.1923868312757202, 0.6641625228623685, 0.3942901234567901, tensor(1.3174)]\n",
      "\n",
      "Epoch  160\n"
     ]
    },
    {
     "name": "stderr",
     "output_type": "stream",
     "text": [
      "81it [00:02, 39.64it/s]"
     ]
    },
    {
     "name": "stdout",
     "output_type": "stream",
     "text": [
      "['acc', 'kappa', 'auc', 'fmeasure', 'loss']\n",
      "Training Loss  1.3090490029181963\n"
     ]
    },
    {
     "name": "stderr",
     "output_type": "stream",
     "text": [
      "\n"
     ]
    },
    {
     "name": "stdout",
     "output_type": "stream",
     "text": [
      "Train -  [0.375, 0.16666666666666663, 0.6818093143512167, 0.375, tensor(1.3253)]\n",
      "Validation -  [0.3557098765432099, 0.14094650205761317, 0.6526757703348067, 0.3557098765432099, tensor(1.3381)]\n",
      "\n",
      "Epoch  161\n"
     ]
    },
    {
     "name": "stderr",
     "output_type": "stream",
     "text": [
      "81it [00:02, 39.14it/s]"
     ]
    },
    {
     "name": "stdout",
     "output_type": "stream",
     "text": [
      "['acc', 'kappa', 'auc', 'fmeasure', 'loss']\n",
      "Training Loss  1.3110183462684537\n"
     ]
    },
    {
     "name": "stderr",
     "output_type": "stream",
     "text": [
      "\n"
     ]
    },
    {
     "name": "stdout",
     "output_type": "stream",
     "text": [
      "Train -  [0.375, 0.16666666666666663, 0.6805055441243713, 0.375, tensor(1.3343)]\n",
      "Validation -  [0.3792438271604938, 0.1723251028806584, 0.6592271685909159, 0.3792438271604938, tensor(1.3361)]\n",
      "\n",
      "Epoch  162\n"
     ]
    },
    {
     "name": "stderr",
     "output_type": "stream",
     "text": [
      "81it [00:01, 41.21it/s]"
     ]
    },
    {
     "name": "stdout",
     "output_type": "stream",
     "text": [
      "['acc', 'kappa', 'auc', 'fmeasure', 'loss']\n",
      "Training Loss  1.325979761135431\n"
     ]
    },
    {
     "name": "stderr",
     "output_type": "stream",
     "text": [
      "\n"
     ]
    },
    {
     "name": "stdout",
     "output_type": "stream",
     "text": [
      "Train -  [0.35648148148148145, 0.14197530864197527, 0.6668296999631662, 0.35648148148148145, tensor(1.3585)]\n",
      "Validation -  [0.34992283950617287, 0.13323045267489708, 0.6457579192704364, 0.34992283950617287, tensor(1.3666)]\n",
      "\n",
      "Epoch  163\n"
     ]
    },
    {
     "name": "stderr",
     "output_type": "stream",
     "text": [
      "81it [00:02, 38.24it/s]"
     ]
    },
    {
     "name": "stdout",
     "output_type": "stream",
     "text": [
      "['acc', 'kappa', 'auc', 'fmeasure', 'loss']\n",
      "Training Loss  1.334067836219882\n"
     ]
    },
    {
     "name": "stderr",
     "output_type": "stream",
     "text": [
      "\n"
     ]
    },
    {
     "name": "stdout",
     "output_type": "stream",
     "text": [
      "Train -  [0.3777006172839506, 0.17026748971193417, 0.6807124366521873, 0.3777006172839506, tensor(1.3395)]\n",
      "Validation -  [0.3777006172839506, 0.17026748971193417, 0.6599309008725804, 0.3777006172839506, tensor(1.3412)]\n",
      "\n",
      "Epoch  164\n"
     ]
    },
    {
     "name": "stderr",
     "output_type": "stream",
     "text": [
      "81it [00:01, 40.91it/s]"
     ]
    },
    {
     "name": "stdout",
     "output_type": "stream",
     "text": [
      "['acc', 'kappa', 'auc', 'fmeasure', 'loss']\n",
      "Training Loss  1.3093491910416404\n"
     ]
    },
    {
     "name": "stderr",
     "output_type": "stream",
     "text": [
      "\n"
     ]
    },
    {
     "name": "stdout",
     "output_type": "stream",
     "text": [
      "Train -  [0.42862654320987653, 0.23816872427983538, 0.6912482773840369, 0.42862654320987653, tensor(1.2871)]\n",
      "Validation -  [0.41203703703703703, 0.21604938271604934, 0.6670625904968757, 0.41203703703703703, tensor(1.3031)]\n",
      "\n",
      "Epoch  165\n"
     ]
    },
    {
     "name": "stderr",
     "output_type": "stream",
     "text": [
      "81it [00:01, 41.92it/s]"
     ]
    },
    {
     "name": "stdout",
     "output_type": "stream",
     "text": [
      "['acc', 'kappa', 'auc', 'fmeasure', 'loss']\n",
      "Training Loss  1.2949653172198636\n"
     ]
    },
    {
     "name": "stderr",
     "output_type": "stream",
     "text": [
      "\n"
     ]
    },
    {
     "name": "stdout",
     "output_type": "stream",
     "text": [
      "Train -  [0.4486882716049383, 0.26491769547325106, 0.6983326347609613, 0.4486882716049383, tensor(1.2723)]\n",
      "Validation -  [0.41628086419753085, 0.2217078189300411, 0.6675890997307321, 0.41628086419753085, tensor(1.2958)]\n",
      "\n",
      "Epoch  166\n"
     ]
    },
    {
     "name": "stderr",
     "output_type": "stream",
     "text": [
      "81it [00:02, 39.64it/s]"
     ]
    },
    {
     "name": "stdout",
     "output_type": "stream",
     "text": [
      "['acc', 'kappa', 'auc', 'fmeasure', 'loss']\n",
      "Training Loss  1.3757592321913918\n"
     ]
    },
    {
     "name": "stderr",
     "output_type": "stream",
     "text": [
      "\n"
     ]
    },
    {
     "name": "stdout",
     "output_type": "stream",
     "text": [
      "Train -  [0.33757716049382713, 0.11676954732510292, 0.6548566259589492, 0.33757716049382713, tensor(1.3878)]\n",
      "Validation -  [0.32947530864197533, 0.1059670781893004, 0.62990231100442, 0.32947530864197533, tensor(1.4019)]\n",
      "\n",
      "Epoch  167\n"
     ]
    },
    {
     "name": "stderr",
     "output_type": "stream",
     "text": [
      "81it [00:02, 39.75it/s]"
     ]
    },
    {
     "name": "stdout",
     "output_type": "stream",
     "text": [
      "['acc', 'kappa', 'auc', 'fmeasure', 'loss']\n",
      "Training Loss  1.381628292578238\n"
     ]
    },
    {
     "name": "stderr",
     "output_type": "stream",
     "text": [
      "\n"
     ]
    },
    {
     "name": "stdout",
     "output_type": "stream",
     "text": [
      "Train -  [0.3422067901234568, 0.12294238683127567, 0.6601123907686837, 0.3422067901234568, tensor(1.3694)]\n",
      "Validation -  [0.3333333333333333, 0.11111111111111116, 0.6375415571178173, 0.3333333333333333, tensor(1.3837)]\n",
      "\n",
      "Epoch  168\n"
     ]
    },
    {
     "name": "stderr",
     "output_type": "stream",
     "text": [
      "81it [00:02, 39.09it/s]"
     ]
    },
    {
     "name": "stdout",
     "output_type": "stream",
     "text": [
      "['acc', 'kappa', 'auc', 'fmeasure', 'loss']\n",
      "Training Loss  1.328114800983005\n"
     ]
    },
    {
     "name": "stderr",
     "output_type": "stream",
     "text": [
      "\n"
     ]
    },
    {
     "name": "stdout",
     "output_type": "stream",
     "text": [
      "Train -  [0.37885802469135804, 0.1718106995884774, 0.6756359786998933, 0.378858024691358, tensor(1.3316)]\n",
      "Validation -  [0.38117283950617287, 0.17489711934156382, 0.6602477391657776, 0.3811728395061729, tensor(1.3345)]\n",
      "\n",
      "Epoch  169\n"
     ]
    },
    {
     "name": "stderr",
     "output_type": "stream",
     "text": [
      "81it [00:01, 41.98it/s]"
     ]
    },
    {
     "name": "stdout",
     "output_type": "stream",
     "text": [
      "['acc', 'kappa', 'auc', 'fmeasure', 'loss']\n",
      "Training Loss  1.3182700416188182\n"
     ]
    },
    {
     "name": "stderr",
     "output_type": "stream",
     "text": [
      "\n"
     ]
    },
    {
     "name": "stdout",
     "output_type": "stream",
     "text": [
      "Train -  [0.39621913580246915, 0.19495884773662553, 0.6791399542117564, 0.39621913580246915, tensor(1.3068)]\n",
      "Validation -  [0.3680555555555556, 0.15740740740740744, 0.6510801675303561, 0.36805555555555564, tensor(1.3274)]\n",
      "\n",
      "Epoch  170\n"
     ]
    },
    {
     "name": "stderr",
     "output_type": "stream",
     "text": [
      "81it [00:02, 39.70it/s]"
     ]
    },
    {
     "name": "stdout",
     "output_type": "stream",
     "text": [
      "['acc', 'kappa', 'auc', 'fmeasure', 'loss']\n",
      "Training Loss  1.305148039335086\n"
     ]
    },
    {
     "name": "stderr",
     "output_type": "stream",
     "text": [
      "\n"
     ]
    },
    {
     "name": "stdout",
     "output_type": "stream",
     "text": [
      "Train -  [0.4020061728395062, 0.2026748971193416, 0.6900934499314129, 0.4020061728395062, tensor(1.3068)]\n",
      "Validation -  [0.39737654320987653, 0.19650205761316875, 0.6651369519382209, 0.39737654320987653, tensor(1.3183)]\n",
      "\n",
      "Epoch  171\n"
     ]
    },
    {
     "name": "stderr",
     "output_type": "stream",
     "text": [
      "81it [00:02, 39.18it/s]"
     ]
    },
    {
     "name": "stdout",
     "output_type": "stream",
     "text": [
      "['acc', 'kappa', 'auc', 'fmeasure', 'loss']\n",
      "Training Loss  1.3440016228475689\n"
     ]
    },
    {
     "name": "stderr",
     "output_type": "stream",
     "text": [
      "\n"
     ]
    },
    {
     "name": "stdout",
     "output_type": "stream",
     "text": [
      "Train -  [0.3765432098765432, 0.16872427983539096, 0.6679437442844078, 0.37654320987654316, tensor(1.3286)]\n",
      "Validation -  [0.3591820987654321, 0.14557613168724282, 0.6426458984275771, 0.35918209876543217, tensor(1.3510)]\n",
      "\n",
      "Epoch  172\n"
     ]
    },
    {
     "name": "stderr",
     "output_type": "stream",
     "text": [
      "81it [00:01, 41.34it/s]"
     ]
    },
    {
     "name": "stdout",
     "output_type": "stream",
     "text": [
      "['acc', 'kappa', 'auc', 'fmeasure', 'loss']\n",
      "Training Loss  1.3491031093361936\n"
     ]
    },
    {
     "name": "stderr",
     "output_type": "stream",
     "text": [
      "\n"
     ]
    },
    {
     "name": "stdout",
     "output_type": "stream",
     "text": [
      "Train -  [0.36844135802469136, 0.15792181069958844, 0.6717422315576893, 0.36844135802469136, tensor(1.3462)]\n",
      "Validation -  [0.35108024691358025, 0.1347736625514403, 0.6445582402961947, 0.35108024691358025, tensor(1.3643)]\n",
      "\n",
      "Epoch  173\n"
     ]
    },
    {
     "name": "stderr",
     "output_type": "stream",
     "text": [
      "81it [00:01, 41.30it/s]"
     ]
    },
    {
     "name": "stdout",
     "output_type": "stream",
     "text": [
      "['acc', 'kappa', 'auc', 'fmeasure', 'loss']\n",
      "Training Loss  1.3681896027223563\n"
     ]
    },
    {
     "name": "stderr",
     "output_type": "stream",
     "text": [
      "\n"
     ]
    },
    {
     "name": "stdout",
     "output_type": "stream",
     "text": [
      "Train -  [0.38425925925925924, 0.17901234567901236, 0.6797601356500533, 0.3842592592592593, tensor(1.3178)]\n",
      "Validation -  [0.35802469135802467, 0.1440329218106996, 0.6509489867525275, 0.35802469135802467, tensor(1.3422)]\n",
      "\n",
      "Epoch  174\n"
     ]
    },
    {
     "name": "stderr",
     "output_type": "stream",
     "text": [
      "81it [00:02, 40.30it/s]"
     ]
    },
    {
     "name": "stdout",
     "output_type": "stream",
     "text": [
      "['acc', 'kappa', 'auc', 'fmeasure', 'loss']\n",
      "Training Loss  1.3224692359382724\n"
     ]
    },
    {
     "name": "stderr",
     "output_type": "stream",
     "text": [
      "\n"
     ]
    },
    {
     "name": "stdout",
     "output_type": "stream",
     "text": [
      "Train -  [0.43287037037037035, 0.24382716049382713, 0.688992404613118, 0.43287037037037035, tensor(1.2867)]\n",
      "Validation -  [0.4050925925925926, 0.20679012345679015, 0.6592996057829091, 0.4050925925925926, tensor(1.3085)]\n",
      "\n",
      "Epoch  175\n"
     ]
    },
    {
     "name": "stderr",
     "output_type": "stream",
     "text": [
      "81it [00:01, 42.49it/s]"
     ]
    },
    {
     "name": "stdout",
     "output_type": "stream",
     "text": [
      "['acc', 'kappa', 'auc', 'fmeasure', 'loss']\n",
      "Training Loss  1.3014902818350145\n"
     ]
    },
    {
     "name": "stderr",
     "output_type": "stream",
     "text": [
      "\n"
     ]
    },
    {
     "name": "stdout",
     "output_type": "stream",
     "text": [
      "Train -  [0.4158950617283951, 0.2211934156378601, 0.6933753508738505, 0.41589506172839513, tensor(1.2929)]\n",
      "Validation -  [0.40239197530864196, 0.2031893004115226, 0.6654961610272825, 0.40239197530864196, tensor(1.3084)]\n",
      "\n",
      "Epoch  176\n"
     ]
    },
    {
     "name": "stderr",
     "output_type": "stream",
     "text": [
      "81it [00:02, 38.69it/s]"
     ]
    },
    {
     "name": "stdout",
     "output_type": "stream",
     "text": [
      "['acc', 'kappa', 'auc', 'fmeasure', 'loss']\n",
      "Training Loss  1.3215834240854523\n"
     ]
    },
    {
     "name": "stderr",
     "output_type": "stream",
     "text": [
      "\n"
     ]
    },
    {
     "name": "stdout",
     "output_type": "stream",
     "text": [
      "Train -  [0.375, 0.16666666666666663, 0.6762609231316364, 0.375, tensor(1.3262)]\n",
      "Validation -  [0.345679012345679, 0.12757201646090532, 0.6488616048747651, 0.345679012345679, tensor(1.3526)]\n",
      "\n",
      "Epoch  177\n"
     ]
    },
    {
     "name": "stderr",
     "output_type": "stream",
     "text": [
      "81it [00:02, 37.84it/s]"
     ]
    },
    {
     "name": "stdout",
     "output_type": "stream",
     "text": [
      "['acc', 'kappa', 'auc', 'fmeasure', 'loss']\n",
      "Training Loss  1.2979545696282093\n"
     ]
    },
    {
     "name": "stderr",
     "output_type": "stream",
     "text": [
      "\n"
     ]
    },
    {
     "name": "stdout",
     "output_type": "stream",
     "text": [
      "Train -  [0.42901234567901236, 0.23868312757201648, 0.6986090868388966, 0.42901234567901236, tensor(1.2861)]\n",
      "Validation -  [0.4050925925925926, 0.20679012345679015, 0.6702065630874359, 0.4050925925925926, tensor(1.3021)]\n",
      "\n",
      "Epoch  178\n"
     ]
    },
    {
     "name": "stderr",
     "output_type": "stream",
     "text": [
      "81it [00:01, 42.42it/s]"
     ]
    },
    {
     "name": "stdout",
     "output_type": "stream",
     "text": [
      "['acc', 'kappa', 'auc', 'fmeasure', 'loss']\n",
      "Training Loss  1.2881576750013564\n"
     ]
    },
    {
     "name": "stderr",
     "output_type": "stream",
     "text": [
      "\n"
     ]
    },
    {
     "name": "stdout",
     "output_type": "stream",
     "text": [
      "Train -  [0.4386574074074074, 0.2515432098765432, 0.6972000346110858, 0.4386574074074074, tensor(1.2815)]\n",
      "Validation -  [0.41975308641975306, 0.22633744855967075, 0.6708561163186506, 0.41975308641975306, tensor(1.2985)]\n",
      "\n",
      "Epoch  179\n"
     ]
    },
    {
     "name": "stderr",
     "output_type": "stream",
     "text": [
      "81it [00:01, 41.94it/s]"
     ]
    },
    {
     "name": "stdout",
     "output_type": "stream",
     "text": [
      "['acc', 'kappa', 'auc', 'fmeasure', 'loss']\n",
      "Training Loss  1.3011540792606495\n"
     ]
    },
    {
     "name": "stderr",
     "output_type": "stream",
     "text": [
      "\n"
     ]
    },
    {
     "name": "stdout",
     "output_type": "stream",
     "text": [
      "Train -  [0.3784722222222222, 0.17129629629629628, 0.6753801662602246, 0.3784722222222222, tensor(1.3244)]\n",
      "Validation -  [0.38155864197530864, 0.17541152263374482, 0.6533645190329218, 0.38155864197530864, tensor(1.3312)]\n",
      "\n",
      "Epoch  180\n"
     ]
    },
    {
     "name": "stderr",
     "output_type": "stream",
     "text": [
      "81it [00:01, 41.09it/s]"
     ]
    },
    {
     "name": "stdout",
     "output_type": "stream",
     "text": [
      "['acc', 'kappa', 'auc', 'fmeasure', 'loss']\n",
      "Training Loss  1.3163840976762182\n"
     ]
    },
    {
     "name": "stderr",
     "output_type": "stream",
     "text": [
      "\n"
     ]
    },
    {
     "name": "stdout",
     "output_type": "stream",
     "text": [
      "Train -  [0.3792438271604938, 0.1723251028806584, 0.6730613822842046, 0.3792438271604938, tensor(1.3202)]\n",
      "Validation -  [0.36496913580246915, 0.1532921810699589, 0.6458140829014887, 0.36496913580246915, tensor(1.3392)]\n",
      "\n",
      "Epoch  181\n"
     ]
    },
    {
     "name": "stderr",
     "output_type": "stream",
     "text": [
      "81it [00:01, 41.66it/s]"
     ]
    },
    {
     "name": "stdout",
     "output_type": "stream",
     "text": [
      "['acc', 'kappa', 'auc', 'fmeasure', 'loss']\n",
      "Training Loss  1.3366051220599515\n"
     ]
    },
    {
     "name": "stderr",
     "output_type": "stream",
     "text": [
      "\n"
     ]
    },
    {
     "name": "stdout",
     "output_type": "stream",
     "text": [
      "Train -  [0.43132716049382713, 0.24176954732510292, 0.6830417389054007, 0.43132716049382713, tensor(1.2952)]\n",
      "Validation -  [0.4089506172839506, 0.2119341563786008, 0.6552878753238836, 0.4089506172839506, tensor(1.3153)]\n",
      "\n",
      "Epoch  182\n"
     ]
    },
    {
     "name": "stderr",
     "output_type": "stream",
     "text": [
      "81it [00:02, 38.89it/s]"
     ]
    },
    {
     "name": "stdout",
     "output_type": "stream",
     "text": [
      "['acc', 'kappa', 'auc', 'fmeasure', 'loss']\n",
      "Training Loss  1.304860351998129\n"
     ]
    },
    {
     "name": "stderr",
     "output_type": "stream",
     "text": [
      "\n"
     ]
    },
    {
     "name": "stdout",
     "output_type": "stream",
     "text": [
      "Train -  [0.4097222222222222, 0.2129629629629629, 0.6800521666857187, 0.4097222222222222, tensor(1.3012)]\n",
      "Validation -  [0.39699074074074076, 0.19598765432098764, 0.6522421394731495, 0.39699074074074076, tensor(1.3213)]\n",
      "\n",
      "Epoch  183\n"
     ]
    },
    {
     "name": "stderr",
     "output_type": "stream",
     "text": [
      "81it [00:02, 38.91it/s]"
     ]
    },
    {
     "name": "stdout",
     "output_type": "stream",
     "text": [
      "['acc', 'kappa', 'auc', 'fmeasure', 'loss']\n",
      "Training Loss  1.3049635195437772\n"
     ]
    },
    {
     "name": "stderr",
     "output_type": "stream",
     "text": [
      "\n"
     ]
    },
    {
     "name": "stdout",
     "output_type": "stream",
     "text": [
      "Train -  [0.41165123456790126, 0.21553497942386834, 0.6901670778717676, 0.41165123456790126, tensor(1.3029)]\n",
      "Validation -  [0.4020061728395062, 0.2026748971193416, 0.6682672309226236, 0.4020061728395062, tensor(1.3120)]\n",
      "\n",
      "Epoch  184\n"
     ]
    },
    {
     "name": "stderr",
     "output_type": "stream",
     "text": [
      "81it [00:02, 39.47it/s]"
     ]
    },
    {
     "name": "stdout",
     "output_type": "stream",
     "text": [
      "['acc', 'kappa', 'auc', 'fmeasure', 'loss']\n",
      "Training Loss  1.2969718097168723\n"
     ]
    },
    {
     "name": "stderr",
     "output_type": "stream",
     "text": [
      "\n"
     ]
    },
    {
     "name": "stdout",
     "output_type": "stream",
     "text": [
      "Train -  [0.3896604938271605, 0.18621399176954734, 0.6738799225537266, 0.3896604938271605, tensor(1.3139)]\n",
      "Validation -  [0.3846450617283951, 0.17952674897119336, 0.6497280727658385, 0.3846450617283951, tensor(1.3306)]\n",
      "\n",
      "Epoch  185\n"
     ]
    },
    {
     "name": "stderr",
     "output_type": "stream",
     "text": [
      "81it [00:02, 40.19it/s]"
     ]
    },
    {
     "name": "stdout",
     "output_type": "stream",
     "text": [
      "['acc', 'kappa', 'auc', 'fmeasure', 'loss']\n",
      "Training Loss  1.302236486364294\n"
     ]
    },
    {
     "name": "stderr",
     "output_type": "stream",
     "text": [
      "\n"
     ]
    },
    {
     "name": "stdout",
     "output_type": "stream",
     "text": [
      "Train -  [0.41010802469135804, 0.21347736625514402, 0.6925138444342833, 0.41010802469135804, tensor(1.3027)]\n",
      "Validation -  [0.4097222222222222, 0.2129629629629629, 0.6706193558527664, 0.4097222222222222, tensor(1.3093)]\n",
      "\n",
      "Epoch  186\n"
     ]
    },
    {
     "name": "stderr",
     "output_type": "stream",
     "text": [
      "81it [00:02, 38.34it/s]"
     ]
    },
    {
     "name": "stdout",
     "output_type": "stream",
     "text": [
      "['acc', 'kappa', 'auc', 'fmeasure', 'loss']\n",
      "Training Loss  1.309215838526502\n"
     ]
    },
    {
     "name": "stderr",
     "output_type": "stream",
     "text": [
      "\n"
     ]
    },
    {
     "name": "stdout",
     "output_type": "stream",
     "text": [
      "Train -  [0.39776234567901236, 0.19701646090534974, 0.6902682914824976, 0.39776234567901236, tensor(1.3119)]\n",
      "Validation -  [0.3742283950617284, 0.16563786008230452, 0.6597522886183509, 0.37422839506172845, tensor(1.3258)]\n",
      "\n",
      "Epoch  187\n"
     ]
    },
    {
     "name": "stderr",
     "output_type": "stream",
     "text": [
      "81it [00:02, 40.50it/s]"
     ]
    },
    {
     "name": "stdout",
     "output_type": "stream",
     "text": [
      "['acc', 'kappa', 'auc', 'fmeasure', 'loss']\n",
      "Training Loss  1.2934394324267353\n"
     ]
    },
    {
     "name": "stderr",
     "output_type": "stream",
     "text": [
      "\n"
     ]
    },
    {
     "name": "stdout",
     "output_type": "stream",
     "text": [
      "Train -  [0.4471450617283951, 0.26286008230452673, 0.6932975553142305, 0.4471450617283951, tensor(1.2762)]\n",
      "Validation -  [0.4070216049382716, 0.20936213991769548, 0.6615393042219174, 0.4070216049382716, tensor(1.3059)]\n",
      "\n",
      "Epoch  188\n"
     ]
    },
    {
     "name": "stderr",
     "output_type": "stream",
     "text": [
      "81it [00:01, 43.34it/s]\n"
     ]
    },
    {
     "name": "stdout",
     "output_type": "stream",
     "text": [
      "['acc', 'kappa', 'auc', 'fmeasure', 'loss']\n",
      "Training Loss  1.3019299021473638\n",
      "Train -  [0.3869598765432099, 0.1826131687242798, 0.6911367439541737, 0.3869598765432099, tensor(1.3164)]\n",
      "Validation -  [0.3653549382716049, 0.1538065843621399, 0.6638703925976731, 0.3653549382716049, tensor(1.3331)]\n",
      "\n",
      "Epoch  189\n"
     ]
    },
    {
     "name": "stderr",
     "output_type": "stream",
     "text": [
      "81it [00:01, 41.92it/s]"
     ]
    },
    {
     "name": "stdout",
     "output_type": "stream",
     "text": [
      "['acc', 'kappa', 'auc', 'fmeasure', 'loss']\n",
      "Training Loss  1.3091321226991253\n"
     ]
    },
    {
     "name": "stderr",
     "output_type": "stream",
     "text": [
      "\n"
     ]
    },
    {
     "name": "stdout",
     "output_type": "stream",
     "text": [
      "Train -  [0.40933641975308643, 0.2124485596707819, 0.6929800224178224, 0.40933641975308643, tensor(1.3063)]\n",
      "Validation -  [0.39969135802469136, 0.19958847736625518, 0.6714413691383427, 0.3996913580246914, tensor(1.3159)]\n",
      "\n",
      "Epoch  190\n"
     ]
    },
    {
     "name": "stderr",
     "output_type": "stream",
     "text": [
      "81it [00:01, 41.76it/s]"
     ]
    },
    {
     "name": "stdout",
     "output_type": "stream",
     "text": [
      "['acc', 'kappa', 'auc', 'fmeasure', 'loss']\n",
      "Training Loss  1.3120388440143915\n"
     ]
    },
    {
     "name": "stderr",
     "output_type": "stream",
     "text": [
      "\n"
     ]
    },
    {
     "name": "stdout",
     "output_type": "stream",
     "text": [
      "Train -  [0.4351851851851852, 0.24691358024691357, 0.6922973266905451, 0.4351851851851852, tensor(1.2866)]\n",
      "Validation -  [0.4131944444444444, 0.21759259259259256, 0.6651450887186913, 0.4131944444444444, tensor(1.3076)]\n",
      "\n",
      "Epoch  191\n"
     ]
    },
    {
     "name": "stderr",
     "output_type": "stream",
     "text": [
      "81it [00:01, 42.23it/s]"
     ]
    },
    {
     "name": "stdout",
     "output_type": "stream",
     "text": [
      "['acc', 'kappa', 'auc', 'fmeasure', 'loss']\n",
      "Training Loss  1.3115187765639504\n"
     ]
    },
    {
     "name": "stderr",
     "output_type": "stream",
     "text": [
      "\n"
     ]
    },
    {
     "name": "stdout",
     "output_type": "stream",
     "text": [
      "Train -  [0.39699074074074076, 0.19598765432098764, 0.691339369633694, 0.39699074074074076, tensor(1.3081)]\n",
      "Validation -  [0.3819444444444444, 0.17592592592592593, 0.6649009853045775, 0.3819444444444445, tensor(1.3189)]\n",
      "\n",
      "Epoch  192\n"
     ]
    },
    {
     "name": "stderr",
     "output_type": "stream",
     "text": [
      "81it [00:02, 40.22it/s]"
     ]
    },
    {
     "name": "stdout",
     "output_type": "stream",
     "text": [
      "['acc', 'kappa', 'auc', 'fmeasure', 'loss']\n",
      "Training Loss  1.2924157233885776\n"
     ]
    },
    {
     "name": "stderr",
     "output_type": "stream",
     "text": [
      "\n"
     ]
    },
    {
     "name": "stdout",
     "output_type": "stream",
     "text": [
      "Train -  [0.439429012345679, 0.2525720164609053, 0.6941902196692578, 0.439429012345679, tensor(1.2865)]\n",
      "Validation -  [0.4166666666666667, 0.2222222222222222, 0.6686103649088045, 0.4166666666666667, tensor(1.3060)]\n",
      "\n",
      "Epoch  193\n"
     ]
    },
    {
     "name": "stderr",
     "output_type": "stream",
     "text": [
      "81it [00:01, 40.66it/s]"
     ]
    },
    {
     "name": "stdout",
     "output_type": "stream",
     "text": [
      "['acc', 'kappa', 'auc', 'fmeasure', 'loss']\n",
      "Training Loss  1.3129173340620819\n"
     ]
    },
    {
     "name": "stderr",
     "output_type": "stream",
     "text": [
      "\n"
     ]
    },
    {
     "name": "stdout",
     "output_type": "stream",
     "text": [
      "Train -  [0.40162037037037035, 0.2021604938271605, 0.69012222635015, 0.4016203703703704, tensor(1.3147)]\n",
      "Validation -  [0.39544753086419754, 0.19393004115226342, 0.666940141873698, 0.39544753086419754, tensor(1.3218)]\n",
      "\n",
      "Epoch  194\n"
     ]
    },
    {
     "name": "stderr",
     "output_type": "stream",
     "text": [
      "81it [00:01, 41.82it/s]"
     ]
    },
    {
     "name": "stdout",
     "output_type": "stream",
     "text": [
      "['acc', 'kappa', 'auc', 'fmeasure', 'loss']\n",
      "Training Loss  1.3303326353614713\n"
     ]
    },
    {
     "name": "stderr",
     "output_type": "stream",
     "text": [
      "\n"
     ]
    },
    {
     "name": "stdout",
     "output_type": "stream",
     "text": [
      "Train -  [0.3715277777777778, 0.1620370370370371, 0.6818558527663465, 0.3715277777777778, tensor(1.3379)]\n",
      "Validation -  [0.3541666666666667, 0.13888888888888884, 0.6556738762510795, 0.3541666666666667, tensor(1.3509)]\n",
      "\n",
      "Epoch  195\n"
     ]
    },
    {
     "name": "stderr",
     "output_type": "stream",
     "text": [
      "81it [00:01, 41.09it/s]"
     ]
    },
    {
     "name": "stdout",
     "output_type": "stream",
     "text": [
      "['acc', 'kappa', 'auc', 'fmeasure', 'loss']\n",
      "Training Loss  1.3374493401727559\n"
     ]
    },
    {
     "name": "stderr",
     "output_type": "stream",
     "text": [
      "\n"
     ]
    },
    {
     "name": "stdout",
     "output_type": "stream",
     "text": [
      "Train -  [0.4548611111111111, 0.27314814814814814, 0.7010554793476604, 0.4548611111111111, tensor(1.2693)]\n",
      "Validation -  [0.4243827160493827, 0.23251028806584362, 0.6709452239877052, 0.4243827160493827, tensor(1.2918)]\n",
      "\n",
      "Epoch  196\n"
     ]
    },
    {
     "name": "stderr",
     "output_type": "stream",
     "text": [
      "81it [00:02, 40.13it/s]"
     ]
    },
    {
     "name": "stdout",
     "output_type": "stream",
     "text": [
      "['acc', 'kappa', 'auc', 'fmeasure', 'loss']\n",
      "Training Loss  1.3150824470284543\n"
     ]
    },
    {
     "name": "stderr",
     "output_type": "stream",
     "text": [
      "\n"
     ]
    },
    {
     "name": "stdout",
     "output_type": "stream",
     "text": [
      "Train -  [0.3630401234567901, 0.15072016460905346, 0.6830539440761063, 0.3630401234567901, tensor(1.3453)]\n",
      "Validation -  [0.36496913580246915, 0.1532921810699589, 0.6599097650891632, 0.36496913580246915, tensor(1.3511)]\n",
      "\n",
      "Epoch  197\n"
     ]
    },
    {
     "name": "stderr",
     "output_type": "stream",
     "text": [
      "81it [00:01, 40.71it/s]"
     ]
    },
    {
     "name": "stdout",
     "output_type": "stream",
     "text": [
      "['acc', 'kappa', 'auc', 'fmeasure', 'loss']\n",
      "Training Loss  1.3407359049643999\n"
     ]
    },
    {
     "name": "stderr",
     "output_type": "stream",
     "text": [
      "\n"
     ]
    },
    {
     "name": "stdout",
     "output_type": "stream",
     "text": [
      "Train -  [0.3132716049382716, 0.08436213991769548, 0.6615952693949093, 0.3132716049382716, tensor(1.3976)]\n",
      "Validation -  [0.2935956790123457, 0.058127572016460904, 0.6390770271300107, 0.2935956790123457, tensor(1.4128)]\n",
      "\n",
      "Epoch  198\n"
     ]
    },
    {
     "name": "stderr",
     "output_type": "stream",
     "text": [
      "81it [00:01, 41.27it/s]"
     ]
    },
    {
     "name": "stdout",
     "output_type": "stream",
     "text": [
      "['acc', 'kappa', 'auc', 'fmeasure', 'loss']\n",
      "Training Loss  1.316827952125926\n"
     ]
    },
    {
     "name": "stderr",
     "output_type": "stream",
     "text": [
      "\n"
     ]
    },
    {
     "name": "stdout",
     "output_type": "stream",
     "text": [
      "Train -  [0.4525462962962963, 0.2700617283950617, 0.7009953465554031, 0.4525462962962963, tensor(1.2695)]\n",
      "Validation -  [0.42399691358024694, 0.2319958847736625, 0.6713607951658792, 0.42399691358024694, tensor(1.2931)]\n",
      "\n",
      "Epoch  199\n"
     ]
    },
    {
     "name": "stderr",
     "output_type": "stream",
     "text": [
      "81it [00:02, 40.35it/s]"
     ]
    },
    {
     "name": "stdout",
     "output_type": "stream",
     "text": [
      "['acc', 'kappa', 'auc', 'fmeasure', 'loss']\n",
      "Training Loss  1.309038609634211\n"
     ]
    },
    {
     "name": "stderr",
     "output_type": "stream",
     "text": [
      "\n"
     ]
    },
    {
     "name": "stdout",
     "output_type": "stream",
     "text": [
      "Train -  [0.4324845679012346, 0.24331275720164613, 0.6918111044429203, 0.4324845679012346, tensor(1.2815)]\n",
      "Validation -  [0.41165123456790126, 0.21553497942386834, 0.6606936744271706, 0.41165123456790126, tensor(1.3061)]\n",
      "\n",
      "Epoch  200\n"
     ]
    },
    {
     "name": "stderr",
     "output_type": "stream",
     "text": [
      "81it [00:02, 39.45it/s]"
     ]
    },
    {
     "name": "stdout",
     "output_type": "stream",
     "text": [
      "['acc', 'kappa', 'auc', 'fmeasure', 'loss']\n",
      "Training Loss  1.2723742885354123\n"
     ]
    },
    {
     "name": "stderr",
     "output_type": "stream",
     "text": [
      "\n"
     ]
    },
    {
     "name": "stdout",
     "output_type": "stream",
     "text": [
      "Train -  [0.4506172839506173, 0.2674897119341564, 0.6998323823223085, 0.4506172839506173, tensor(1.2721)]\n",
      "Validation -  [0.42322530864197533, 0.2309670781893004, 0.6715740383516232, 0.42322530864197533, tensor(1.2945)]\n",
      "\n",
      "Epoch  201\n"
     ]
    },
    {
     "name": "stderr",
     "output_type": "stream",
     "text": [
      "81it [00:02, 39.32it/s]"
     ]
    },
    {
     "name": "stdout",
     "output_type": "stream",
     "text": [
      "['acc', 'kappa', 'auc', 'fmeasure', 'loss']\n",
      "Training Loss  1.269330104192098\n"
     ]
    },
    {
     "name": "stderr",
     "output_type": "stream",
     "text": [
      "\n"
     ]
    },
    {
     "name": "stdout",
     "output_type": "stream",
     "text": [
      "Train -  [0.4479166666666667, 0.26388888888888884, 0.7025357780191028, 0.4479166666666667, tensor(1.2721)]\n",
      "Validation -  [0.4263117283950617, 0.23508230452674894, 0.6739540466392319, 0.4263117283950617, tensor(1.2931)]\n",
      "\n",
      "Epoch  202\n"
     ]
    },
    {
     "name": "stderr",
     "output_type": "stream",
     "text": [
      "81it [00:01, 43.89it/s]"
     ]
    },
    {
     "name": "stdout",
     "output_type": "stream",
     "text": [
      "['acc', 'kappa', 'auc', 'fmeasure', 'loss']\n",
      "Training Loss  1.2706829324180697\n"
     ]
    },
    {
     "name": "stderr",
     "output_type": "stream",
     "text": [
      "\n"
     ]
    },
    {
     "name": "stdout",
     "output_type": "stream",
     "text": [
      "Train -  [0.45023148148148145, 0.2669753086419753, 0.7030146573184983, 0.45023148148148145, tensor(1.2684)]\n",
      "Validation -  [0.42476851851851855, 0.23302469135802473, 0.6746153088960016, 0.42476851851851855, tensor(1.2906)]\n",
      "\n",
      "Epoch  203\n"
     ]
    },
    {
     "name": "stderr",
     "output_type": "stream",
     "text": [
      "81it [00:01, 41.16it/s]"
     ]
    },
    {
     "name": "stdout",
     "output_type": "stream",
     "text": [
      "['acc', 'kappa', 'auc', 'fmeasure', 'loss']\n",
      "Training Loss  1.2676506439844768\n"
     ]
    },
    {
     "name": "stderr",
     "output_type": "stream",
     "text": [
      "\n"
     ]
    },
    {
     "name": "stdout",
     "output_type": "stream",
     "text": [
      "Train -  [0.4494598765432099, 0.26594650205761317, 0.7038094818498196, 0.44945987654320996, tensor(1.2676)]\n",
      "Validation -  [0.42939814814814814, 0.23919753086419748, 0.6744216138291927, 0.42939814814814814, tensor(1.2907)]\n",
      "\n",
      "Epoch  204\n"
     ]
    },
    {
     "name": "stderr",
     "output_type": "stream",
     "text": [
      "81it [00:02, 38.43it/s]"
     ]
    },
    {
     "name": "stdout",
     "output_type": "stream",
     "text": [
      "['acc', 'kappa', 'auc', 'fmeasure', 'loss']\n",
      "Training Loss  1.26754907619806\n"
     ]
    },
    {
     "name": "stderr",
     "output_type": "stream",
     "text": [
      "\n"
     ]
    },
    {
     "name": "stdout",
     "output_type": "stream",
     "text": [
      "Train -  [0.44328703703703703, 0.2577160493827161, 0.7037739578570341, 0.44328703703703703, tensor(1.2703)]\n",
      "Validation -  [0.42978395061728397, 0.2397119341563786, 0.6752614883401921, 0.42978395061728397, tensor(1.2918)]\n",
      "\n",
      "Epoch  205\n"
     ]
    },
    {
     "name": "stderr",
     "output_type": "stream",
     "text": [
      "81it [00:01, 40.97it/s]"
     ]
    },
    {
     "name": "stdout",
     "output_type": "stream",
     "text": [
      "['acc', 'kappa', 'auc', 'fmeasure', 'loss']\n",
      "Training Loss  1.2690586631680711\n"
     ]
    },
    {
     "name": "stderr",
     "output_type": "stream",
     "text": [
      "\n"
     ]
    },
    {
     "name": "stdout",
     "output_type": "stream",
     "text": [
      "Train -  [0.4533179012345679, 0.2710905349794238, 0.703721763387187, 0.4533179012345679, tensor(1.2655)]\n",
      "Validation -  [0.42901234567901236, 0.23868312757201648, 0.6739334070009653, 0.42901234567901236, tensor(1.2903)]\n",
      "\n",
      "Epoch  206\n"
     ]
    },
    {
     "name": "stderr",
     "output_type": "stream",
     "text": [
      "81it [00:01, 40.66it/s]"
     ]
    },
    {
     "name": "stdout",
     "output_type": "stream",
     "text": [
      "['acc', 'kappa', 'auc', 'fmeasure', 'loss']\n",
      "Training Loss  1.2677039997077282\n"
     ]
    },
    {
     "name": "stderr",
     "output_type": "stream",
     "text": [
      "\n"
     ]
    },
    {
     "name": "stdout",
     "output_type": "stream",
     "text": [
      "Train -  [0.4494598765432099, 0.26594650205761317, 0.7045600502337042, 0.44945987654320996, tensor(1.2662)]\n",
      "Validation -  [0.43171296296296297, 0.24228395061728392, 0.6755421080373927, 0.43171296296296297, tensor(1.2892)]\n",
      "\n",
      "Epoch  207\n"
     ]
    },
    {
     "name": "stderr",
     "output_type": "stream",
     "text": [
      "81it [00:02, 40.12it/s]\n"
     ]
    },
    {
     "name": "stdout",
     "output_type": "stream",
     "text": [
      "['acc', 'kappa', 'auc', 'fmeasure', 'loss']\n",
      "Training Loss  1.2684400508433213\n",
      "Train -  [0.4567901234567901, 0.27572016460905346, 0.704390963966367, 0.4567901234567901, tensor(1.2650)]\n",
      "Validation -  [0.42901234567901236, 0.23868312757201648, 0.6747284299903469, 0.42901234567901236, tensor(1.2894)]\n",
      "\n",
      "Epoch  208\n"
     ]
    },
    {
     "name": "stderr",
     "output_type": "stream",
     "text": [
      "81it [00:02, 38.90it/s]"
     ]
    },
    {
     "name": "stdout",
     "output_type": "stream",
     "text": [
      "['acc', 'kappa', 'auc', 'fmeasure', 'loss']\n",
      "Training Loss  1.2679358588324652\n"
     ]
    },
    {
     "name": "stderr",
     "output_type": "stream",
     "text": [
      "\n"
     ]
    },
    {
     "name": "stdout",
     "output_type": "stream",
     "text": [
      "Train -  [0.45601851851851855, 0.27469135802469136, 0.7047608897906823, 0.45601851851851855, tensor(1.2660)]\n",
      "Validation -  [0.42862654320987653, 0.23816872427983538, 0.676215476235838, 0.42862654320987653, tensor(1.2887)]\n",
      "\n",
      "Epoch  209\n"
     ]
    },
    {
     "name": "stderr",
     "output_type": "stream",
     "text": [
      "81it [00:02, 38.96it/s]"
     ]
    },
    {
     "name": "stdout",
     "output_type": "stream",
     "text": [
      "['acc', 'kappa', 'auc', 'fmeasure', 'loss']\n",
      "Training Loss  1.270169171286218\n"
     ]
    },
    {
     "name": "stderr",
     "output_type": "stream",
     "text": [
      "\n"
     ]
    },
    {
     "name": "stdout",
     "output_type": "stream",
     "text": [
      "Train -  [0.45447530864197533, 0.27263374485596703, 0.7043294419676879, 0.45447530864197533, tensor(1.2646)]\n",
      "Validation -  [0.42901234567901236, 0.23868312757201648, 0.6744992109307525, 0.42901234567901236, tensor(1.2895)]\n",
      "\n",
      "Epoch  210\n"
     ]
    },
    {
     "name": "stderr",
     "output_type": "stream",
     "text": [
      "81it [00:01, 41.65it/s]"
     ]
    },
    {
     "name": "stdout",
     "output_type": "stream",
     "text": [
      "['acc', 'kappa', 'auc', 'fmeasure', 'loss']\n",
      "Training Loss  1.2692206700642903\n"
     ]
    },
    {
     "name": "stderr",
     "output_type": "stream",
     "text": [
      "\n"
     ]
    },
    {
     "name": "stdout",
     "output_type": "stream",
     "text": [
      "Train -  [0.4537037037037037, 0.2716049382716049, 0.7043167406518316, 0.4537037037037037, tensor(1.2645)]\n",
      "Validation -  [0.42978395061728397, 0.2397119341563786, 0.6747540310801199, 0.42978395061728397, tensor(1.2893)]\n",
      "\n",
      "Epoch  211\n"
     ]
    },
    {
     "name": "stderr",
     "output_type": "stream",
     "text": [
      "81it [00:01, 41.67it/s]"
     ]
    },
    {
     "name": "stdout",
     "output_type": "stream",
     "text": [
      "['acc', 'kappa', 'auc', 'fmeasure', 'loss']\n",
      "Training Loss  1.2690380340741005\n"
     ]
    },
    {
     "name": "stderr",
     "output_type": "stream",
     "text": [
      "\n"
     ]
    },
    {
     "name": "stdout",
     "output_type": "stream",
     "text": [
      "Train -  [0.4498456790123457, 0.2664609053497943, 0.7018233135827873, 0.4498456790123457, tensor(1.2676)]\n",
      "Validation -  [0.41975308641975306, 0.22633744855967075, 0.6724310794848347, 0.41975308641975306, tensor(1.2922)]\n",
      "\n",
      "Epoch  212\n"
     ]
    },
    {
     "name": "stderr",
     "output_type": "stream",
     "text": [
      "81it [00:01, 40.60it/s]"
     ]
    },
    {
     "name": "stdout",
     "output_type": "stream",
     "text": [
      "['acc', 'kappa', 'auc', 'fmeasure', 'loss']\n",
      "Training Loss  1.2675626439812742\n"
     ]
    },
    {
     "name": "stderr",
     "output_type": "stream",
     "text": [
      "\n"
     ]
    },
    {
     "name": "stdout",
     "output_type": "stream",
     "text": [
      "Train -  [0.45871913580246915, 0.2782921810699589, 0.7041621418228929, 0.45871913580246915, tensor(1.2643)]\n",
      "Validation -  [0.4243827160493827, 0.23251028806584362, 0.6741740373990245, 0.4243827160493827, tensor(1.2896)]\n",
      "\n",
      "Epoch  213\n"
     ]
    },
    {
     "name": "stderr",
     "output_type": "stream",
     "text": [
      "81it [00:01, 41.24it/s]"
     ]
    },
    {
     "name": "stdout",
     "output_type": "stream",
     "text": [
      "['acc', 'kappa', 'auc', 'fmeasure', 'loss']\n",
      "Training Loss  1.2682380808724298\n"
     ]
    },
    {
     "name": "stderr",
     "output_type": "stream",
     "text": [
      "\n"
     ]
    },
    {
     "name": "stdout",
     "output_type": "stream",
     "text": [
      "Train -  [0.44367283950617287, 0.2582304526748971, 0.7045877351331098, 0.44367283950617287, tensor(1.2687)]\n",
      "Validation -  [0.42901234567901236, 0.23868312757201648, 0.6763992483996342, 0.42901234567901236, tensor(1.2905)]\n",
      "\n",
      "Epoch  214\n"
     ]
    },
    {
     "name": "stderr",
     "output_type": "stream",
     "text": [
      "81it [00:02, 40.06it/s]"
     ]
    },
    {
     "name": "stdout",
     "output_type": "stream",
     "text": [
      "['acc', 'kappa', 'auc', 'fmeasure', 'loss']\n",
      "Training Loss  1.2674103048112657\n"
     ]
    },
    {
     "name": "stderr",
     "output_type": "stream",
     "text": [
      "\n"
     ]
    },
    {
     "name": "stdout",
     "output_type": "stream",
     "text": [
      "Train -  [0.4537037037037037, 0.2716049382716049, 0.7033579897627393, 0.4537037037037037, tensor(1.2647)]\n",
      "Validation -  [0.42669753086419754, 0.23559670781893005, 0.6734966008103439, 0.4266975308641976, tensor(1.2908)]\n",
      "\n",
      "Epoch  215\n"
     ]
    },
    {
     "name": "stderr",
     "output_type": "stream",
     "text": [
      "81it [00:02, 38.22it/s]"
     ]
    },
    {
     "name": "stdout",
     "output_type": "stream",
     "text": [
      "['acc', 'kappa', 'auc', 'fmeasure', 'loss']\n",
      "Training Loss  1.2662270952154089\n"
     ]
    },
    {
     "name": "stderr",
     "output_type": "stream",
     "text": [
      "\n"
     ]
    },
    {
     "name": "stdout",
     "output_type": "stream",
     "text": [
      "Train -  [0.4567901234567901, 0.27572016460905346, 0.7044161681400193, 0.4567901234567901, tensor(1.2638)]\n",
      "Validation -  [0.4251543209876543, 0.23353909465020573, 0.6743243693796677, 0.4251543209876543, tensor(1.2897)]\n",
      "\n",
      "Epoch  216\n"
     ]
    },
    {
     "name": "stderr",
     "output_type": "stream",
     "text": [
      "81it [00:01, 42.25it/s]"
     ]
    },
    {
     "name": "stdout",
     "output_type": "stream",
     "text": [
      "['acc', 'kappa', 'auc', 'fmeasure', 'loss']\n",
      "Training Loss  1.2668741279178195\n"
     ]
    },
    {
     "name": "stderr",
     "output_type": "stream",
     "text": [
      "\n"
     ]
    },
    {
     "name": "stdout",
     "output_type": "stream",
     "text": [
      "Train -  [0.4529320987654321, 0.2705761316872428, 0.7018653866915613, 0.4529320987654321, tensor(1.2678)]\n",
      "Validation -  [0.4209104938271605, 0.22788065843621397, 0.6724483453360768, 0.4209104938271605, tensor(1.2938)]\n",
      "\n",
      "Epoch  217\n"
     ]
    },
    {
     "name": "stderr",
     "output_type": "stream",
     "text": [
      "81it [00:02, 40.23it/s]"
     ]
    },
    {
     "name": "stdout",
     "output_type": "stream",
     "text": [
      "['acc', 'kappa', 'auc', 'fmeasure', 'loss']\n",
      "Training Loss  1.2668205043415965\n"
     ]
    },
    {
     "name": "stderr",
     "output_type": "stream",
     "text": [
      "\n"
     ]
    },
    {
     "name": "stdout",
     "output_type": "stream",
     "text": [
      "Train -  [0.4533179012345679, 0.2710905349794238, 0.7045199617055327, 0.4533179012345679, tensor(1.2638)]\n",
      "Validation -  [0.42939814814814814, 0.23919753086419748, 0.6744347120611696, 0.42939814814814814, tensor(1.2896)]\n",
      "\n",
      "Epoch  218\n"
     ]
    },
    {
     "name": "stderr",
     "output_type": "stream",
     "text": [
      "81it [00:02, 39.22it/s]"
     ]
    },
    {
     "name": "stdout",
     "output_type": "stream",
     "text": [
      "['acc', 'kappa', 'auc', 'fmeasure', 'loss']\n",
      "Training Loss  1.2652255090666407\n"
     ]
    },
    {
     "name": "stderr",
     "output_type": "stream",
     "text": [
      "\n"
     ]
    },
    {
     "name": "stdout",
     "output_type": "stream",
     "text": [
      "Train -  [0.4583333333333333, 0.2777777777777778, 0.7042448988340192, 0.4583333333333333, tensor(1.2645)]\n",
      "Validation -  [0.4201388888888889, 0.22685185185185186, 0.6740024704059341, 0.4201388888888889, tensor(1.2902)]\n",
      "\n",
      "Epoch  219\n"
     ]
    },
    {
     "name": "stderr",
     "output_type": "stream",
     "text": [
      "81it [00:02, 40.00it/s]"
     ]
    },
    {
     "name": "stdout",
     "output_type": "stream",
     "text": [
      "['acc', 'kappa', 'auc', 'fmeasure', 'loss']\n",
      "Training Loss  1.2657880518171523\n"
     ]
    },
    {
     "name": "stderr",
     "output_type": "stream",
     "text": [
      "\n"
     ]
    },
    {
     "name": "stdout",
     "output_type": "stream",
     "text": [
      "Train -  [0.4529320987654321, 0.2705761316872428, 0.7038605848003354, 0.4529320987654321, tensor(1.2644)]\n",
      "Validation -  [0.41898148148148145, 0.22530864197530864, 0.6732208433356195, 0.41898148148148145, tensor(1.2910)]\n",
      "\n",
      "Epoch  220\n"
     ]
    },
    {
     "name": "stderr",
     "output_type": "stream",
     "text": [
      "81it [00:01, 40.89it/s]"
     ]
    },
    {
     "name": "stdout",
     "output_type": "stream",
     "text": [
      "['acc', 'kappa', 'auc', 'fmeasure', 'loss']\n",
      "Training Loss  1.2664104111400651\n"
     ]
    },
    {
     "name": "stderr",
     "output_type": "stream",
     "text": [
      "\n"
     ]
    },
    {
     "name": "stdout",
     "output_type": "stream",
     "text": [
      "Train -  [0.45023148148148145, 0.2669753086419753, 0.7035191377076665, 0.45023148148148145, tensor(1.2664)]\n",
      "Validation -  [0.4216820987654321, 0.22890946502057619, 0.6734092792638317, 0.4216820987654321, tensor(1.2928)]\n",
      "\n",
      "Epoch  221\n"
     ]
    },
    {
     "name": "stderr",
     "output_type": "stream",
     "text": [
      "81it [00:02, 40.38it/s]"
     ]
    },
    {
     "name": "stdout",
     "output_type": "stream",
     "text": [
      "['acc', 'kappa', 'auc', 'fmeasure', 'loss']\n",
      "Training Loss  1.2671923195874248\n"
     ]
    },
    {
     "name": "stderr",
     "output_type": "stream",
     "text": [
      "\n"
     ]
    },
    {
     "name": "stdout",
     "output_type": "stream",
     "text": [
      "Train -  [0.4564043209876543, 0.27520576131687247, 0.7049081456713916, 0.4564043209876543, tensor(1.2630)]\n",
      "Validation -  [0.42746913580246915, 0.23662551440329216, 0.6746790139333435, 0.42746913580246915, tensor(1.2890)]\n",
      "\n",
      "Epoch  222\n"
     ]
    },
    {
     "name": "stderr",
     "output_type": "stream",
     "text": [
      "81it [00:01, 40.61it/s]"
     ]
    },
    {
     "name": "stdout",
     "output_type": "stream",
     "text": [
      "['acc', 'kappa', 'auc', 'fmeasure', 'loss']\n",
      "Training Loss  1.266832947731018\n"
     ]
    },
    {
     "name": "stderr",
     "output_type": "stream",
     "text": [
      "\n"
     ]
    },
    {
     "name": "stdout",
     "output_type": "stream",
     "text": [
      "Train -  [0.45023148148148145, 0.2669753086419753, 0.7049335483031042, 0.45023148148148145, tensor(1.2672)]\n",
      "Validation -  [0.42978395061728397, 0.2397119341563786, 0.6776546940888076, 0.42978395061728397, tensor(1.2882)]\n",
      "\n",
      "Epoch  223\n"
     ]
    },
    {
     "name": "stderr",
     "output_type": "stream",
     "text": [
      "81it [00:01, 42.67it/s]"
     ]
    },
    {
     "name": "stdout",
     "output_type": "stream",
     "text": [
      "['acc', 'kappa', 'auc', 'fmeasure', 'loss']\n",
      "Training Loss  1.265377946841864\n"
     ]
    },
    {
     "name": "stderr",
     "output_type": "stream",
     "text": [
      "\n"
     ]
    },
    {
     "name": "stdout",
     "output_type": "stream",
     "text": [
      "Train -  [0.4513888888888889, 0.2685185185185185, 0.7017642723098613, 0.4513888888888889, tensor(1.2679)]\n",
      "Validation -  [0.41705246913580246, 0.22273662551440332, 0.671089899913631, 0.41705246913580246, tensor(1.2944)]\n",
      "\n",
      "Epoch  224\n"
     ]
    },
    {
     "name": "stderr",
     "output_type": "stream",
     "text": [
      "81it [00:02, 39.36it/s]"
     ]
    },
    {
     "name": "stdout",
     "output_type": "stream",
     "text": [
      "['acc', 'kappa', 'auc', 'fmeasure', 'loss']\n",
      "Training Loss  1.2659491565492418\n"
     ]
    },
    {
     "name": "stderr",
     "output_type": "stream",
     "text": [
      "\n"
     ]
    },
    {
     "name": "stdout",
     "output_type": "stream",
     "text": [
      "Train -  [0.4540895061728395, 0.27211934156378603, 0.7052189309937509, 0.4540895061728395, tensor(1.2634)]\n",
      "Validation -  [0.42862654320987653, 0.23816872427983538, 0.6752158429863334, 0.42862654320987653, tensor(1.2892)]\n",
      "\n",
      "Epoch  225\n"
     ]
    },
    {
     "name": "stderr",
     "output_type": "stream",
     "text": [
      "81it [00:01, 41.54it/s]"
     ]
    },
    {
     "name": "stdout",
     "output_type": "stream",
     "text": [
      "['acc', 'kappa', 'auc', 'fmeasure', 'loss']\n",
      "Training Loss  1.2656133984342033\n"
     ]
    },
    {
     "name": "stderr",
     "output_type": "stream",
     "text": [
      "\n"
     ]
    },
    {
     "name": "stdout",
     "output_type": "stream",
     "text": [
      "Train -  [0.45524691358024694, 0.27366255144032925, 0.7056216023980084, 0.45524691358024694, tensor(1.2630)]\n",
      "Validation -  [0.43132716049382713, 0.24176954732510292, 0.6762561601381903, 0.43132716049382713, tensor(1.2876)]\n",
      "\n",
      "Epoch  226\n"
     ]
    },
    {
     "name": "stderr",
     "output_type": "stream",
     "text": [
      "81it [00:01, 41.45it/s]"
     ]
    },
    {
     "name": "stdout",
     "output_type": "stream",
     "text": [
      "['acc', 'kappa', 'auc', 'fmeasure', 'loss']\n",
      "Training Loss  1.2647252082824707\n"
     ]
    },
    {
     "name": "stderr",
     "output_type": "stream",
     "text": [
      "\n"
     ]
    },
    {
     "name": "stdout",
     "output_type": "stream",
     "text": [
      "Train -  [0.44328703703703703, 0.2577160493827161, 0.7011048954046639, 0.44328703703703703, tensor(1.2693)]\n",
      "Validation -  [0.41512345679012347, 0.220164609053498, 0.6708723898795915, 0.4151234567901235, tensor(1.2949)]\n",
      "\n",
      "Epoch  227\n"
     ]
    },
    {
     "name": "stderr",
     "output_type": "stream",
     "text": [
      "81it [00:01, 42.18it/s]"
     ]
    },
    {
     "name": "stdout",
     "output_type": "stream",
     "text": [
      "['acc', 'kappa', 'auc', 'fmeasure', 'loss']\n",
      "Training Loss  1.2647063334782918\n"
     ]
    },
    {
     "name": "stderr",
     "output_type": "stream",
     "text": [
      "\n"
     ]
    },
    {
     "name": "stdout",
     "output_type": "stream",
     "text": [
      "Train -  [0.45524691358024694, 0.27366255144032925, 0.7060068094929635, 0.45524691358024694, tensor(1.2630)]\n",
      "Validation -  [0.4305555555555556, 0.2407407407407407, 0.6769237730528883, 0.4305555555555556, tensor(1.2871)]\n",
      "\n",
      "Epoch  228\n"
     ]
    },
    {
     "name": "stderr",
     "output_type": "stream",
     "text": [
      "81it [00:02, 38.35it/s]"
     ]
    },
    {
     "name": "stdout",
     "output_type": "stream",
     "text": [
      "['acc', 'kappa', 'auc', 'fmeasure', 'loss']\n",
      "Training Loss  1.2672896988597917\n"
     ]
    },
    {
     "name": "stderr",
     "output_type": "stream",
     "text": [
      "\n"
     ]
    },
    {
     "name": "stdout",
     "output_type": "stream",
     "text": [
      "Train -  [0.4548611111111111, 0.27314814814814814, 0.706483505753696, 0.4548611111111111, tensor(1.2631)]\n",
      "Validation -  [0.43209876543209874, 0.24279835390946503, 0.6777521369963928, 0.43209876543209874, tensor(1.2865)]\n",
      "\n",
      "Epoch  229\n"
     ]
    },
    {
     "name": "stderr",
     "output_type": "stream",
     "text": [
      "81it [00:01, 43.35it/s]"
     ]
    },
    {
     "name": "stdout",
     "output_type": "stream",
     "text": [
      "['acc', 'kappa', 'auc', 'fmeasure', 'loss']\n",
      "Training Loss  1.2663681963343678\n"
     ]
    },
    {
     "name": "stderr",
     "output_type": "stream",
     "text": [
      "\n"
     ]
    },
    {
     "name": "stdout",
     "output_type": "stream",
     "text": [
      "Train -  [0.45447530864197533, 0.27263374485596703, 0.7039831326525428, 0.45447530864197533, tensor(1.2634)]\n",
      "Validation -  [0.4278549382716049, 0.23713991769547327, 0.6740147748056697, 0.4278549382716049, tensor(1.2896)]\n",
      "\n",
      "Epoch  230\n"
     ]
    },
    {
     "name": "stderr",
     "output_type": "stream",
     "text": [
      "81it [00:01, 43.72it/s]"
     ]
    },
    {
     "name": "stdout",
     "output_type": "stream",
     "text": [
      "['acc', 'kappa', 'auc', 'fmeasure', 'loss']\n",
      "Training Loss  1.2636944084991644\n"
     ]
    },
    {
     "name": "stderr",
     "output_type": "stream",
     "text": [
      "\n"
     ]
    },
    {
     "name": "stdout",
     "output_type": "stream",
     "text": [
      "Train -  [0.4564043209876543, 0.27520576131687247, 0.7062225334044607, 0.4564043209876543, tensor(1.2636)]\n",
      "Validation -  [0.42978395061728397, 0.2397119341563786, 0.6773474810115327, 0.42978395061728397, tensor(1.2873)]\n",
      "\n",
      "Epoch  231\n"
     ]
    },
    {
     "name": "stderr",
     "output_type": "stream",
     "text": [
      "81it [00:01, 43.25it/s]"
     ]
    },
    {
     "name": "stdout",
     "output_type": "stream",
     "text": [
      "['acc', 'kappa', 'auc', 'fmeasure', 'loss']\n",
      "Training Loss  1.264828347865446\n"
     ]
    },
    {
     "name": "stderr",
     "output_type": "stream",
     "text": [
      "\n"
     ]
    },
    {
     "name": "stdout",
     "output_type": "stream",
     "text": [
      "Train -  [0.45871913580246915, 0.2782921810699589, 0.7040783925214653, 0.45871913580246915, tensor(1.2643)]\n",
      "Validation -  [0.42862654320987653, 0.23816872427983538, 0.6744115916971498, 0.42862654320987653, tensor(1.2904)]\n",
      "\n",
      "Epoch  232\n"
     ]
    },
    {
     "name": "stderr",
     "output_type": "stream",
     "text": [
      "81it [00:02, 40.03it/s]"
     ]
    },
    {
     "name": "stdout",
     "output_type": "stream",
     "text": [
      "['acc', 'kappa', 'auc', 'fmeasure', 'loss']\n",
      "Training Loss  1.2651366554660561\n"
     ]
    },
    {
     "name": "stderr",
     "output_type": "stream",
     "text": [
      "\n"
     ]
    },
    {
     "name": "stdout",
     "output_type": "stream",
     "text": [
      "Train -  [0.4371141975308642, 0.2494855967078189, 0.7006647154270182, 0.4371141975308642, tensor(1.2759)]\n",
      "Validation -  [0.41242283950617287, 0.21656378600823045, 0.6722754883655947, 0.41242283950617287, tensor(1.2969)]\n",
      "\n",
      "Epoch  233\n"
     ]
    },
    {
     "name": "stderr",
     "output_type": "stream",
     "text": [
      "81it [00:02, 39.44it/s]"
     ]
    },
    {
     "name": "stdout",
     "output_type": "stream",
     "text": [
      "['acc', 'kappa', 'auc', 'fmeasure', 'loss']\n",
      "Training Loss  1.2683532385178555\n"
     ]
    },
    {
     "name": "stderr",
     "output_type": "stream",
     "text": [
      "\n"
     ]
    },
    {
     "name": "stdout",
     "output_type": "stream",
     "text": [
      "Train -  [0.45987654320987653, 0.279835390946502, 0.7068915355255805, 0.45987654320987653, tensor(1.2643)]\n",
      "Validation -  [0.42824074074074076, 0.23765432098765427, 0.6777979808083118, 0.42824074074074076, tensor(1.2875)]\n",
      "\n",
      "Epoch  234\n"
     ]
    },
    {
     "name": "stderr",
     "output_type": "stream",
     "text": [
      "81it [00:02, 39.84it/s]"
     ]
    },
    {
     "name": "stdout",
     "output_type": "stream",
     "text": [
      "['acc', 'kappa', 'auc', 'fmeasure', 'loss']\n",
      "Training Loss  1.2648959498346588\n"
     ]
    },
    {
     "name": "stderr",
     "output_type": "stream",
     "text": [
      "\n"
     ]
    },
    {
     "name": "stdout",
     "output_type": "stream",
     "text": [
      "Train -  [0.44405864197530864, 0.2587448559670782, 0.7062892153127065, 0.44405864197530864, tensor(1.2673)]\n",
      "Validation -  [0.4332561728395062, 0.24434156378600824, 0.6781601667682773, 0.4332561728395062, tensor(1.2889)]\n",
      "\n",
      "Epoch  235\n"
     ]
    },
    {
     "name": "stderr",
     "output_type": "stream",
     "text": [
      "81it [00:01, 41.37it/s]"
     ]
    },
    {
     "name": "stdout",
     "output_type": "stream",
     "text": [
      "['acc', 'kappa', 'auc', 'fmeasure', 'loss']\n",
      "Training Loss  1.26743060718348\n"
     ]
    },
    {
     "name": "stderr",
     "output_type": "stream",
     "text": [
      "\n"
     ]
    },
    {
     "name": "stdout",
     "output_type": "stream",
     "text": [
      "Train -  [0.4486882716049383, 0.26491769547325106, 0.7063997564522685, 0.4486882716049383, tensor(1.2645)]\n",
      "Validation -  [0.4236111111111111, 0.2314814814814815, 0.676586592808515, 0.4236111111111111, tensor(1.2891)]\n",
      "\n",
      "Epoch  236\n"
     ]
    },
    {
     "name": "stderr",
     "output_type": "stream",
     "text": [
      "81it [00:01, 42.99it/s]"
     ]
    },
    {
     "name": "stdout",
     "output_type": "stream",
     "text": [
      "['acc', 'kappa', 'auc', 'fmeasure', 'loss']\n",
      "Training Loss  1.266613018365554\n"
     ]
    },
    {
     "name": "stderr",
     "output_type": "stream",
     "text": [
      "\n"
     ]
    },
    {
     "name": "stdout",
     "output_type": "stream",
     "text": [
      "Train -  [0.45100308641975306, 0.2680041152263375, 0.7043052300843368, 0.45100308641975306, tensor(1.2688)]\n",
      "Validation -  [0.42669753086419754, 0.23559670781893005, 0.6760130490143779, 0.4266975308641976, tensor(1.2921)]\n",
      "\n",
      "Epoch  237\n"
     ]
    },
    {
     "name": "stderr",
     "output_type": "stream",
     "text": [
      "81it [00:01, 42.63it/s]"
     ]
    },
    {
     "name": "stdout",
     "output_type": "stream",
     "text": [
      "['acc', 'kappa', 'auc', 'fmeasure', 'loss']\n",
      "Training Loss  1.2663623359468248\n"
     ]
    },
    {
     "name": "stderr",
     "output_type": "stream",
     "text": [
      "\n"
     ]
    },
    {
     "name": "stdout",
     "output_type": "stream",
     "text": [
      "Train -  [0.4564043209876543, 0.27520576131687247, 0.705200275936087, 0.4564043209876543, tensor(1.2624)]\n",
      "Validation -  [0.42746913580246915, 0.23662551440329216, 0.6749613205240563, 0.42746913580246915, tensor(1.2896)]\n",
      "\n",
      "Epoch  238\n"
     ]
    },
    {
     "name": "stderr",
     "output_type": "stream",
     "text": [
      "81it [00:01, 41.63it/s]"
     ]
    },
    {
     "name": "stdout",
     "output_type": "stream",
     "text": [
      "['acc', 'kappa', 'auc', 'fmeasure', 'loss']\n",
      "Training Loss  1.263770698029318\n"
     ]
    },
    {
     "name": "stderr",
     "output_type": "stream",
     "text": [
      "\n"
     ]
    },
    {
     "name": "stdout",
     "output_type": "stream",
     "text": [
      "Train -  [0.4479166666666667, 0.26388888888888884, 0.7069077098574913, 0.4479166666666667, tensor(1.2661)]\n",
      "Validation -  [0.4324845679012346, 0.24331275720164613, 0.6789063690748361, 0.4324845679012346, tensor(1.2878)]\n",
      "\n",
      "Epoch  239\n"
     ]
    },
    {
     "name": "stderr",
     "output_type": "stream",
     "text": [
      "81it [00:02, 39.73it/s]"
     ]
    },
    {
     "name": "stdout",
     "output_type": "stream",
     "text": [
      "['acc', 'kappa', 'auc', 'fmeasure', 'loss']\n",
      "Training Loss  1.2630874433635193\n"
     ]
    },
    {
     "name": "stderr",
     "output_type": "stream",
     "text": [
      "\n"
     ]
    },
    {
     "name": "stdout",
     "output_type": "stream",
     "text": [
      "Train -  [0.46026234567901236, 0.2803497942386831, 0.7033437007824009, 0.46026234567901236, tensor(1.2641)]\n",
      "Validation -  [0.42399691358024694, 0.2319958847736625, 0.6736940665802977, 0.42399691358024694, tensor(1.2908)]\n",
      "\n",
      "Epoch  240\n"
     ]
    },
    {
     "name": "stderr",
     "output_type": "stream",
     "text": [
      "81it [00:02, 39.54it/s]"
     ]
    },
    {
     "name": "stdout",
     "output_type": "stream",
     "text": [
      "['acc', 'kappa', 'auc', 'fmeasure', 'loss']\n",
      "Training Loss  1.2655965207535544\n"
     ]
    },
    {
     "name": "stderr",
     "output_type": "stream",
     "text": [
      "\n"
     ]
    },
    {
     "name": "stdout",
     "output_type": "stream",
     "text": [
      "Train -  [0.45447530864197533, 0.27263374485596703, 0.7056678431260479, 0.45447530864197533, tensor(1.2670)]\n",
      "Validation -  [0.41782407407407407, 0.22376543209876543, 0.6747530387898186, 0.41782407407407407, tensor(1.2937)]\n",
      "\n",
      "Epoch  241\n"
     ]
    },
    {
     "name": "stderr",
     "output_type": "stream",
     "text": [
      "81it [00:01, 43.32it/s]"
     ]
    },
    {
     "name": "stdout",
     "output_type": "stream",
     "text": [
      "['acc', 'kappa', 'auc', 'fmeasure', 'loss']\n",
      "Training Loss  1.2662345112105946\n"
     ]
    },
    {
     "name": "stderr",
     "output_type": "stream",
     "text": [
      "\n"
     ]
    },
    {
     "name": "stdout",
     "output_type": "stream",
     "text": [
      "Train -  [0.4567901234567901, 0.27572016460905346, 0.7055950090179343, 0.4567901234567901, tensor(1.2634)]\n",
      "Validation -  [0.42669753086419754, 0.23559670781893005, 0.6753660757379465, 0.4266975308641976, tensor(1.2903)]\n",
      "\n",
      "Epoch  242\n"
     ]
    },
    {
     "name": "stderr",
     "output_type": "stream",
     "text": [
      "81it [00:02, 38.80it/s]"
     ]
    },
    {
     "name": "stdout",
     "output_type": "stream",
     "text": [
      "['acc', 'kappa', 'auc', 'fmeasure', 'loss']\n",
      "Training Loss  1.2635414791695865\n"
     ]
    },
    {
     "name": "stderr",
     "output_type": "stream",
     "text": [
      "\n"
     ]
    },
    {
     "name": "stdout",
     "output_type": "stream",
     "text": [
      "Train -  [0.46064814814814814, 0.2808641975308642, 0.7057295635827872, 0.46064814814814814, tensor(1.2618)]\n",
      "Validation -  [0.42476851851851855, 0.23302469135802473, 0.6756484815576893, 0.42476851851851855, tensor(1.2882)]\n",
      "\n",
      "Epoch  243\n"
     ]
    },
    {
     "name": "stderr",
     "output_type": "stream",
     "text": [
      "81it [00:02, 38.70it/s]"
     ]
    },
    {
     "name": "stdout",
     "output_type": "stream",
     "text": [
      "['acc', 'kappa', 'auc', 'fmeasure', 'loss']\n",
      "Training Loss  1.2646319704291262\n"
     ]
    },
    {
     "name": "stderr",
     "output_type": "stream",
     "text": [
      "\n"
     ]
    },
    {
     "name": "stdout",
     "output_type": "stream",
     "text": [
      "Train -  [0.45871913580246915, 0.2782921810699589, 0.7055172134583143, 0.45871913580246915, tensor(1.2625)]\n",
      "Validation -  [0.4216820987654321, 0.22890946502057619, 0.6756200028260427, 0.4216820987654321, tensor(1.2886)]\n",
      "\n",
      "Epoch  244\n"
     ]
    },
    {
     "name": "stderr",
     "output_type": "stream",
     "text": [
      "81it [00:02, 38.76it/s]"
     ]
    },
    {
     "name": "stdout",
     "output_type": "stream",
     "text": [
      "['acc', 'kappa', 'auc', 'fmeasure', 'loss']\n",
      "Training Loss  1.264910889260563\n"
     ]
    },
    {
     "name": "stderr",
     "output_type": "stream",
     "text": [
      "\n"
     ]
    },
    {
     "name": "stdout",
     "output_type": "stream",
     "text": [
      "Train -  [0.4390432098765432, 0.2520576131687243, 0.7060984971168013, 0.4390432098765432, tensor(1.2721)]\n",
      "Validation -  [0.42399691358024694, 0.2319958847736625, 0.6783858135827873, 0.42399691358024694, tensor(1.2920)]\n",
      "\n",
      "Epoch  245\n"
     ]
    },
    {
     "name": "stderr",
     "output_type": "stream",
     "text": [
      "81it [00:01, 44.11it/s]"
     ]
    },
    {
     "name": "stdout",
     "output_type": "stream",
     "text": [
      "['acc', 'kappa', 'auc', 'fmeasure', 'loss']\n",
      "Training Loss  1.2652637870223433\n"
     ]
    },
    {
     "name": "stderr",
     "output_type": "stream",
     "text": [
      "\n"
     ]
    },
    {
     "name": "stdout",
     "output_type": "stream",
     "text": [
      "Train -  [0.4583333333333333, 0.2777777777777778, 0.7072314941827973, 0.4583333333333333, tensor(1.2619)]\n",
      "Validation -  [0.4263117283950617, 0.23508230452674894, 0.6769873788612001, 0.4263117283950617, tensor(1.2879)]\n",
      "\n",
      "Epoch  246\n"
     ]
    },
    {
     "name": "stderr",
     "output_type": "stream",
     "text": [
      "81it [00:01, 43.57it/s]"
     ]
    },
    {
     "name": "stdout",
     "output_type": "stream",
     "text": [
      "['acc', 'kappa', 'auc', 'fmeasure', 'loss']\n",
      "Training Loss  1.2630841158054493\n"
     ]
    },
    {
     "name": "stderr",
     "output_type": "stream",
     "text": [
      "\n"
     ]
    },
    {
     "name": "stdout",
     "output_type": "stream",
     "text": [
      "Train -  [0.45601851851851855, 0.27469135802469136, 0.7046826973149418, 0.45601851851851855, tensor(1.2624)]\n",
      "Validation -  [0.4251543209876543, 0.23353909465020573, 0.6747042181069959, 0.4251543209876543, tensor(1.2895)]\n",
      "\n",
      "Epoch  247\n"
     ]
    },
    {
     "name": "stderr",
     "output_type": "stream",
     "text": [
      "81it [00:01, 40.81it/s]\n"
     ]
    },
    {
     "name": "stdout",
     "output_type": "stream",
     "text": [
      "['acc', 'kappa', 'auc', 'fmeasure', 'loss']\n",
      "Training Loss  1.2638773447201577\n",
      "Train -  [0.45871913580246915, 0.2782921810699589, 0.7070521873253569, 0.45871913580246915, tensor(1.2606)]\n",
      "Validation -  [0.4278549382716049, 0.23713991769547327, 0.6769086902403089, 0.4278549382716049, tensor(1.2870)]\n",
      "\n",
      "Epoch  248\n"
     ]
    },
    {
     "name": "stderr",
     "output_type": "stream",
     "text": [
      "81it [00:02, 39.80it/s]"
     ]
    },
    {
     "name": "stdout",
     "output_type": "stream",
     "text": [
      "['acc', 'kappa', 'auc', 'fmeasure', 'loss']\n",
      "Training Loss  1.2640887749047927\n"
     ]
    },
    {
     "name": "stderr",
     "output_type": "stream",
     "text": [
      "\n"
     ]
    },
    {
     "name": "stdout",
     "output_type": "stream",
     "text": [
      "Train -  [0.4564043209876543, 0.27520576131687247, 0.7065811471193415, 0.4564043209876543, tensor(1.2626)]\n",
      "Validation -  [0.42862654320987653, 0.23816872427983538, 0.6774022554361632, 0.42862654320987653, tensor(1.2872)]\n",
      "\n",
      "Epoch  249\n"
     ]
    },
    {
     "name": "stderr",
     "output_type": "stream",
     "text": [
      "81it [00:02, 39.20it/s]"
     ]
    },
    {
     "name": "stdout",
     "output_type": "stream",
     "text": [
      "['acc', 'kappa', 'auc', 'fmeasure', 'loss']\n",
      "Training Loss  1.2639721587852195\n"
     ]
    },
    {
     "name": "stderr",
     "output_type": "stream",
     "text": [
      "\n"
     ]
    },
    {
     "name": "stdout",
     "output_type": "stream",
     "text": [
      "Train -  [0.45601851851851855, 0.27469135802469136, 0.7030087035766905, 0.45601851851851855, tensor(1.2654)]\n",
      "Validation -  [0.4236111111111111, 0.2314814814814815, 0.673828125, 0.4236111111111111, tensor(1.2924)]\n",
      "\n",
      "Epoch  250\n"
     ]
    },
    {
     "name": "stderr",
     "output_type": "stream",
     "text": [
      "81it [00:02, 39.38it/s]"
     ]
    },
    {
     "name": "stdout",
     "output_type": "stream",
     "text": [
      "['acc', 'kappa', 'auc', 'fmeasure', 'loss']\n",
      "Training Loss  1.2646851863390134\n"
     ]
    },
    {
     "name": "stderr",
     "output_type": "stream",
     "text": [
      "\n"
     ]
    },
    {
     "name": "stdout",
     "output_type": "stream",
     "text": [
      "Train -  [0.43016975308641975, 0.2402263374485597, 0.7024267253149927, 0.43016975308641975, tensor(1.2807)]\n",
      "Validation -  [0.408179012345679, 0.2109053497942387, 0.6741654044734033, 0.40817901234567894, tensor(1.2993)]\n",
      "\n",
      "Epoch  251\n"
     ]
    },
    {
     "name": "stderr",
     "output_type": "stream",
     "text": [
      "81it [00:02, 40.35it/s]"
     ]
    },
    {
     "name": "stdout",
     "output_type": "stream",
     "text": [
      "['acc', 'kappa', 'auc', 'fmeasure', 'loss']\n",
      "Training Loss  1.265763655120944\n"
     ]
    },
    {
     "name": "stderr",
     "output_type": "stream",
     "text": [
      "\n"
     ]
    },
    {
     "name": "stdout",
     "output_type": "stream",
     "text": [
      "Train -  [0.46141975308641975, 0.28189300411522633, 0.7059674155680029, 0.46141975308641975, tensor(1.2612)]\n",
      "Validation -  [0.42592592592592593, 0.23456790123456794, 0.6753232087969313, 0.42592592592592593, tensor(1.2891)]\n",
      "\n",
      "Epoch  252\n"
     ]
    },
    {
     "name": "stderr",
     "output_type": "stream",
     "text": [
      "81it [00:02, 38.17it/s]"
     ]
    },
    {
     "name": "stdout",
     "output_type": "stream",
     "text": [
      "['acc', 'kappa', 'auc', 'fmeasure', 'loss']\n",
      "Training Loss  1.2649686778033222\n"
     ]
    },
    {
     "name": "stderr",
     "output_type": "stream",
     "text": [
      "\n"
     ]
    },
    {
     "name": "stdout",
     "output_type": "stream",
     "text": [
      "Train -  [0.4583333333333333, 0.2777777777777778, 0.7063866582202916, 0.4583333333333333, tensor(1.2618)]\n",
      "Validation -  [0.4255401234567901, 0.23405349794238683, 0.6759755404409897, 0.4255401234567901, tensor(1.2886)]\n",
      "\n",
      "Epoch  253\n"
     ]
    },
    {
     "name": "stderr",
     "output_type": "stream",
     "text": [
      "81it [00:02, 40.11it/s]"
     ]
    },
    {
     "name": "stdout",
     "output_type": "stream",
     "text": [
      "['acc', 'kappa', 'auc', 'fmeasure', 'loss']\n",
      "Training Loss  1.2640299635168948\n"
     ]
    },
    {
     "name": "stderr",
     "output_type": "stream",
     "text": [
      "\n"
     ]
    },
    {
     "name": "stdout",
     "output_type": "stream",
     "text": [
      "Train -  [0.4618055555555556, 0.28240740740740744, 0.7076355547934767, 0.4618055555555556, tensor(1.2629)]\n",
      "Validation -  [0.4243827160493827, 0.23251028806584362, 0.6770603121983438, 0.4243827160493827, tensor(1.2893)]\n",
      "\n",
      "Epoch  254\n"
     ]
    },
    {
     "name": "stderr",
     "output_type": "stream",
     "text": [
      "81it [00:01, 41.27it/s]"
     ]
    },
    {
     "name": "stdout",
     "output_type": "stream",
     "text": [
      "['acc', 'kappa', 'auc', 'fmeasure', 'loss']\n",
      "Training Loss  1.2650050734296256\n"
     ]
    },
    {
     "name": "stderr",
     "output_type": "stream",
     "text": [
      "\n"
     ]
    },
    {
     "name": "stdout",
     "output_type": "stream",
     "text": [
      "Train -  [0.4548611111111111, 0.27314814814814814, 0.7060576147563887, 0.4548611111111111, tensor(1.2642)]\n",
      "Validation -  [0.42862654320987653, 0.23816872427983538, 0.6776070641543464, 0.42862654320987653, tensor(1.2884)]\n",
      "\n",
      "Epoch  255\n"
     ]
    },
    {
     "name": "stderr",
     "output_type": "stream",
     "text": [
      "81it [00:01, 41.24it/s]"
     ]
    },
    {
     "name": "stdout",
     "output_type": "stream",
     "text": [
      "['acc', 'kappa', 'auc', 'fmeasure', 'loss']\n",
      "Training Loss  1.265763125301879\n"
     ]
    },
    {
     "name": "stderr",
     "output_type": "stream",
     "text": [
      "\n"
     ]
    },
    {
     "name": "stdout",
     "output_type": "stream",
     "text": [
      "Train -  [0.45717592592592593, 0.2762345679012346, 0.7081874666590459, 0.45717592592592593, tensor(1.2621)]\n",
      "Validation -  [0.43287037037037035, 0.24382716049382713, 0.6797719439046385, 0.43287037037037035, tensor(1.2854)]\n",
      "\n",
      "Epoch  256\n"
     ]
    },
    {
     "name": "stderr",
     "output_type": "stream",
     "text": [
      "81it [00:01, 41.60it/s]"
     ]
    },
    {
     "name": "stdout",
     "output_type": "stream",
     "text": [
      "['acc', 'kappa', 'auc', 'fmeasure', 'loss']\n",
      "Training Loss  1.2634332680407865\n"
     ]
    },
    {
     "name": "stderr",
     "output_type": "stream",
     "text": [
      "\n"
     ]
    },
    {
     "name": "stdout",
     "output_type": "stream",
     "text": [
      "Train -  [0.45987654320987653, 0.279835390946502, 0.7055229687420617, 0.45987654320987653, tensor(1.2629)]\n",
      "Validation -  [0.4305555555555556, 0.2407407407407407, 0.6767407947213332, 0.4305555555555556, tensor(1.2885)]\n",
      "\n",
      "Epoch  257\n"
     ]
    },
    {
     "name": "stderr",
     "output_type": "stream",
     "text": [
      "81it [00:01, 41.16it/s]"
     ]
    },
    {
     "name": "stdout",
     "output_type": "stream",
     "text": [
      "['acc', 'kappa', 'auc', 'fmeasure', 'loss']\n",
      "Training Loss  1.2639149294959173\n"
     ]
    },
    {
     "name": "stderr",
     "output_type": "stream",
     "text": [
      "\n"
     ]
    },
    {
     "name": "stdout",
     "output_type": "stream",
     "text": [
      "Train -  [0.4533179012345679, 0.2710905349794238, 0.7062687741325001, 0.4533179012345679, tensor(1.2626)]\n",
      "Validation -  [0.4255401234567901, 0.23405349794238683, 0.6769892642127724, 0.4255401234567901, tensor(1.2890)]\n",
      "\n",
      "Epoch  258\n"
     ]
    },
    {
     "name": "stderr",
     "output_type": "stream",
     "text": [
      "81it [00:01, 43.11it/s]"
     ]
    },
    {
     "name": "stdout",
     "output_type": "stream",
     "text": [
      "['acc', 'kappa', 'auc', 'fmeasure', 'loss']\n",
      "Training Loss  1.2623822703773593\n"
     ]
    },
    {
     "name": "stderr",
     "output_type": "stream",
     "text": [
      "\n"
     ]
    },
    {
     "name": "stdout",
     "output_type": "stream",
     "text": [
      "Train -  [0.46064814814814814, 0.2808641975308642, 0.7058035884392623, 0.46064814814814814, tensor(1.2613)]\n",
      "Validation -  [0.42824074074074076, 0.23765432098765427, 0.6759793111441346, 0.42824074074074076, tensor(1.2880)]\n",
      "\n",
      "Epoch  259\n"
     ]
    },
    {
     "name": "stderr",
     "output_type": "stream",
     "text": [
      "81it [00:02, 40.24it/s]"
     ]
    },
    {
     "name": "stdout",
     "output_type": "stream",
     "text": [
      "['acc', 'kappa', 'auc', 'fmeasure', 'loss']\n",
      "Training Loss  1.264244058985769\n"
     ]
    },
    {
     "name": "stderr",
     "output_type": "stream",
     "text": [
      "\n"
     ]
    },
    {
     "name": "stdout",
     "output_type": "stream",
     "text": [
      "Train -  [0.4583333333333333, 0.2777777777777778, 0.7063475619824213, 0.4583333333333333, tensor(1.2609)]\n",
      "Validation -  [0.4278549382716049, 0.23713991769547327, 0.6757018667758979, 0.4278549382716049, tensor(1.2889)]\n",
      "\n",
      "Epoch  260\n"
     ]
    },
    {
     "name": "stderr",
     "output_type": "stream",
     "text": [
      "81it [00:01, 41.00it/s]"
     ]
    },
    {
     "name": "stdout",
     "output_type": "stream",
     "text": [
      "['acc', 'kappa', 'auc', 'fmeasure', 'loss']\n",
      "Training Loss  1.2638259419688471\n"
     ]
    },
    {
     "name": "stderr",
     "output_type": "stream",
     "text": [
      "\n"
     ]
    },
    {
     "name": "stdout",
     "output_type": "stream",
     "text": [
      "Train -  [0.46103395061728397, 0.2813786008230452, 0.7071470502781589, 0.46103395061728397, tensor(1.2606)]\n",
      "Validation -  [0.42746913580246915, 0.23662551440329216, 0.6772571825941167, 0.42746913580246915, tensor(1.2871)]\n",
      "\n",
      "Epoch  261\n"
     ]
    },
    {
     "name": "stderr",
     "output_type": "stream",
     "text": [
      "81it [00:02, 39.43it/s]"
     ]
    },
    {
     "name": "stdout",
     "output_type": "stream",
     "text": [
      "['acc', 'kappa', 'auc', 'fmeasure', 'loss']\n",
      "Training Loss  1.2633123206503598\n"
     ]
    },
    {
     "name": "stderr",
     "output_type": "stream",
     "text": [
      "\n"
     ]
    },
    {
     "name": "stdout",
     "output_type": "stream",
     "text": [
      "Train -  [0.46026234567901236, 0.2803497942386831, 0.7048297547375908, 0.46026234567901236, tensor(1.2627)]\n",
      "Validation -  [0.4255401234567901, 0.23405349794238683, 0.6758318568053651, 0.4255401234567901, tensor(1.2891)]\n",
      "\n",
      "Epoch  262\n"
     ]
    },
    {
     "name": "stderr",
     "output_type": "stream",
     "text": [
      "81it [00:02, 39.32it/s]"
     ]
    },
    {
     "name": "stdout",
     "output_type": "stream",
     "text": [
      "['acc', 'kappa', 'auc', 'fmeasure', 'loss']\n",
      "Training Loss  1.2633426233574196\n"
     ]
    },
    {
     "name": "stderr",
     "output_type": "stream",
     "text": [
      "\n"
     ]
    },
    {
     "name": "stdout",
     "output_type": "stream",
     "text": [
      "Train -  [0.46064814814814814, 0.2808641975308642, 0.7079129991617131, 0.46064814814814814, tensor(1.2597)]\n",
      "Validation -  [0.43287037037037035, 0.24382716049382713, 0.6787074148694304, 0.43287037037037035, tensor(1.2854)]\n",
      "\n",
      "Epoch  263\n"
     ]
    },
    {
     "name": "stderr",
     "output_type": "stream",
     "text": [
      "81it [00:01, 43.87it/s]"
     ]
    },
    {
     "name": "stdout",
     "output_type": "stream",
     "text": [
      "['acc', 'kappa', 'auc', 'fmeasure', 'loss']\n",
      "Training Loss  1.2623472449220257\n"
     ]
    },
    {
     "name": "stderr",
     "output_type": "stream",
     "text": [
      "\n"
     ]
    },
    {
     "name": "stdout",
     "output_type": "stream",
     "text": [
      "Train -  [0.4575617283950617, 0.2767489711934157, 0.7088509119544785, 0.4575617283950617, tensor(1.2632)]\n",
      "Validation -  [0.4255401234567901, 0.23405349794238683, 0.6807819962023065, 0.4255401234567901, tensor(1.2860)]\n",
      "\n",
      "Epoch  264\n"
     ]
    },
    {
     "name": "stderr",
     "output_type": "stream",
     "text": [
      "81it [00:01, 40.78it/s]"
     ]
    },
    {
     "name": "stdout",
     "output_type": "stream",
     "text": [
      "['acc', 'kappa', 'auc', 'fmeasure', 'loss']\n",
      "Training Loss  1.263374497861038\n"
     ]
    },
    {
     "name": "stderr",
     "output_type": "stream",
     "text": [
      "\n"
     ]
    },
    {
     "name": "stdout",
     "output_type": "stream",
     "text": [
      "Train -  [0.45524691358024694, 0.27366255144032925, 0.7085960918051111, 0.45524691358024694, tensor(1.2622)]\n",
      "Validation -  [0.42824074074074076, 0.23765432098765427, 0.679976256477671, 0.42824074074074076, tensor(1.2858)]\n",
      "\n",
      "Epoch  265\n"
     ]
    },
    {
     "name": "stderr",
     "output_type": "stream",
     "text": [
      "81it [00:01, 41.14it/s]"
     ]
    },
    {
     "name": "stdout",
     "output_type": "stream",
     "text": [
      "['acc', 'kappa', 'auc', 'fmeasure', 'loss']\n",
      "Training Loss  1.2644017022333027\n"
     ]
    },
    {
     "name": "stderr",
     "output_type": "stream",
     "text": [
      "\n"
     ]
    },
    {
     "name": "stdout",
     "output_type": "stream",
     "text": [
      "Train -  [0.46219135802469136, 0.28292181069958844, 0.7078508817888534, 0.46219135802469136, tensor(1.2628)]\n",
      "Validation -  [0.4305555555555556, 0.2407407407407407, 0.6794729668368643, 0.4305555555555556, tensor(1.2867)]\n",
      "\n",
      "Epoch  266\n"
     ]
    },
    {
     "name": "stderr",
     "output_type": "stream",
     "text": [
      "81it [00:01, 46.47it/s]"
     ]
    },
    {
     "name": "stdout",
     "output_type": "stream",
     "text": [
      "['acc', 'kappa', 'auc', 'fmeasure', 'loss']\n",
      "Training Loss  1.2639056856249586\n"
     ]
    },
    {
     "name": "stderr",
     "output_type": "stream",
     "text": [
      "\n"
     ]
    },
    {
     "name": "stdout",
     "output_type": "stream",
     "text": [
      "Train -  [0.45949074074074076, 0.279320987654321, 0.7085133347939847, 0.4594907407407407, tensor(1.2599)]\n",
      "Validation -  [0.43094135802469136, 0.2412551440329218, 0.6789960721180714, 0.43094135802469136, tensor(1.2857)]\n",
      "\n",
      "Epoch  267\n"
     ]
    },
    {
     "name": "stderr",
     "output_type": "stream",
     "text": [
      "81it [00:01, 40.81it/s]"
     ]
    },
    {
     "name": "stdout",
     "output_type": "stream",
     "text": [
      "['acc', 'kappa', 'auc', 'fmeasure', 'loss']\n",
      "Training Loss  1.263670688793983\n"
     ]
    },
    {
     "name": "stderr",
     "output_type": "stream",
     "text": [
      "\n"
     ]
    },
    {
     "name": "stdout",
     "output_type": "stream",
     "text": [
      "Train -  [0.4583333333333333, 0.2777777777777778, 0.7090049154092364, 0.4583333333333333, tensor(1.2608)]\n",
      "Validation -  [0.4347993827160494, 0.24639917695473246, 0.6803479684245288, 0.4347993827160494, tensor(1.2847)]\n",
      "\n",
      "Epoch  268\n"
     ]
    },
    {
     "name": "stderr",
     "output_type": "stream",
     "text": [
      "81it [00:01, 40.80it/s]"
     ]
    },
    {
     "name": "stdout",
     "output_type": "stream",
     "text": [
      "['acc', 'kappa', 'auc', 'fmeasure', 'loss']\n",
      "Training Loss  1.2617409317581743\n"
     ]
    },
    {
     "name": "stderr",
     "output_type": "stream",
     "text": [
      "\n"
     ]
    },
    {
     "name": "stdout",
     "output_type": "stream",
     "text": [
      "Train -  [0.4548611111111111, 0.27314814814814814, 0.7078197238733933, 0.4548611111111111, tensor(1.2640)]\n",
      "Validation -  [0.41898148148148145, 0.22530864197530864, 0.6783588232865925, 0.41898148148148145, tensor(1.2887)]\n",
      "\n",
      "Epoch  269\n"
     ]
    },
    {
     "name": "stderr",
     "output_type": "stream",
     "text": [
      "81it [00:02, 39.76it/s]"
     ]
    },
    {
     "name": "stdout",
     "output_type": "stream",
     "text": [
      "['acc', 'kappa', 'auc', 'fmeasure', 'loss']\n",
      "Training Loss  1.2632310920291476\n"
     ]
    },
    {
     "name": "stderr",
     "output_type": "stream",
     "text": [
      "\n"
     ]
    },
    {
     "name": "stdout",
     "output_type": "stream",
     "text": [
      "Train -  [0.4525462962962963, 0.2700617283950617, 0.7080535074683737, 0.4525462962962963, tensor(1.2617)]\n",
      "Validation -  [0.4243827160493827, 0.23251028806584362, 0.6789559835899, 0.4243827160493827, tensor(1.2866)]\n",
      "\n",
      "Epoch  270\n"
     ]
    },
    {
     "name": "stderr",
     "output_type": "stream",
     "text": [
      "81it [00:02, 37.78it/s]"
     ]
    },
    {
     "name": "stdout",
     "output_type": "stream",
     "text": [
      "['acc', 'kappa', 'auc', 'fmeasure', 'loss']\n",
      "Training Loss  1.2640992682657124\n"
     ]
    },
    {
     "name": "stderr",
     "output_type": "stream",
     "text": [
      "\n"
     ]
    },
    {
     "name": "stdout",
     "output_type": "stream",
     "text": [
      "Train -  [0.4529320987654321, 0.2705761316872428, 0.7044160689109891, 0.4529320987654321, tensor(1.2649)]\n",
      "Validation -  [0.41512345679012347, 0.220164609053498, 0.6744256822194279, 0.4151234567901235, tensor(1.2921)]\n",
      "\n",
      "Epoch  271\n"
     ]
    },
    {
     "name": "stderr",
     "output_type": "stream",
     "text": [
      "81it [00:02, 38.20it/s]"
     ]
    },
    {
     "name": "stdout",
     "output_type": "stream",
     "text": [
      "['acc', 'kappa', 'auc', 'fmeasure', 'loss']\n",
      "Training Loss  1.2627239639376417\n"
     ]
    },
    {
     "name": "stderr",
     "output_type": "stream",
     "text": [
      "\n"
     ]
    },
    {
     "name": "stdout",
     "output_type": "stream",
     "text": [
      "Train -  [0.4618055555555556, 0.28240740740740744, 0.7082851080246915, 0.4618055555555556, tensor(1.2592)]\n",
      "Validation -  [0.4340277777777778, 0.24537037037037035, 0.679035366814002, 0.4340277777777778, tensor(1.2854)]\n",
      "\n",
      "Epoch  272\n"
     ]
    },
    {
     "name": "stderr",
     "output_type": "stream",
     "text": [
      "81it [00:01, 41.71it/s]"
     ]
    },
    {
     "name": "stdout",
     "output_type": "stream",
     "text": [
      "['acc', 'kappa', 'auc', 'fmeasure', 'loss']\n",
      "Training Loss  1.2629492871555281\n"
     ]
    },
    {
     "name": "stderr",
     "output_type": "stream",
     "text": [
      "\n"
     ]
    },
    {
     "name": "stdout",
     "output_type": "stream",
     "text": [
      "Train -  [0.4540895061728395, 0.27211934156378603, 0.7085405235482396, 0.4540895061728395, tensor(1.2634)]\n",
      "Validation -  [0.43094135802469136, 0.2412551440329218, 0.6812152301478432, 0.43094135802469136, tensor(1.2853)]\n",
      "\n",
      "Epoch  273\n"
     ]
    },
    {
     "name": "stderr",
     "output_type": "stream",
     "text": [
      "81it [00:01, 40.86it/s]"
     ]
    },
    {
     "name": "stdout",
     "output_type": "stream",
     "text": [
      "['acc', 'kappa', 'auc', 'fmeasure', 'loss']\n",
      "Training Loss  1.2644200221991833\n"
     ]
    },
    {
     "name": "stderr",
     "output_type": "stream",
     "text": [
      "\n"
     ]
    },
    {
     "name": "stdout",
     "output_type": "stream",
     "text": [
      "Train -  [0.45987654320987653, 0.279835390946502, 0.7085873596504597, 0.45987654320987653, tensor(1.2594)]\n",
      "Validation -  [0.4382716049382716, 0.2510288065843621, 0.6794580824823452, 0.4382716049382716, tensor(1.2848)]\n",
      "\n",
      "Epoch  274\n"
     ]
    },
    {
     "name": "stderr",
     "output_type": "stream",
     "text": [
      "81it [00:02, 40.49it/s]"
     ]
    },
    {
     "name": "stdout",
     "output_type": "stream",
     "text": [
      "['acc', 'kappa', 'auc', 'fmeasure', 'loss']\n",
      "Training Loss  1.2608669922675615\n"
     ]
    },
    {
     "name": "stderr",
     "output_type": "stream",
     "text": [
      "\n"
     ]
    },
    {
     "name": "stdout",
     "output_type": "stream",
     "text": [
      "Train -  [0.46334876543209874, 0.28446502057613166, 0.7090700096529999, 0.46334876543209874, tensor(1.2600)]\n",
      "Validation -  [0.4305555555555556, 0.2407407407407407, 0.679973081148707, 0.4305555555555556, tensor(1.2853)]\n",
      "\n",
      "Epoch  275\n"
     ]
    },
    {
     "name": "stderr",
     "output_type": "stream",
     "text": [
      "81it [00:02, 38.13it/s]"
     ]
    },
    {
     "name": "stdout",
     "output_type": "stream",
     "text": [
      "['acc', 'kappa', 'auc', 'fmeasure', 'loss']\n",
      "Training Loss  1.2623350870462111\n"
     ]
    },
    {
     "name": "stderr",
     "output_type": "stream",
     "text": [
      "\n"
     ]
    },
    {
     "name": "stdout",
     "output_type": "stream",
     "text": [
      "Train -  [0.46064814814814814, 0.2808641975308642, 0.7063125341347863, 0.46064814814814814, tensor(1.2604)]\n",
      "Validation -  [0.42746913580246915, 0.23662551440329216, 0.6763398102105878, 0.42746913580246915, tensor(1.2878)]\n",
      "\n",
      "Epoch  276\n"
     ]
    },
    {
     "name": "stderr",
     "output_type": "stream",
     "text": [
      "81it [00:01, 40.72it/s]"
     ]
    },
    {
     "name": "stdout",
     "output_type": "stream",
     "text": [
      "['acc', 'kappa', 'auc', 'fmeasure', 'loss']\n",
      "Training Loss  1.2624456647001667\n"
     ]
    },
    {
     "name": "stderr",
     "output_type": "stream",
     "text": [
      "\n"
     ]
    },
    {
     "name": "stdout",
     "output_type": "stream",
     "text": [
      "Train -  [0.45871913580246915, 0.2782921810699589, 0.7070467297287, 0.45871913580246915, tensor(1.2609)]\n",
      "Validation -  [0.42322530864197533, 0.2309670781893004, 0.6776203608443836, 0.42322530864197533, tensor(1.2872)]\n",
      "\n",
      "Epoch  277\n"
     ]
    },
    {
     "name": "stderr",
     "output_type": "stream",
     "text": [
      "81it [00:02, 37.67it/s]"
     ]
    },
    {
     "name": "stdout",
     "output_type": "stream",
     "text": [
      "['acc', 'kappa', 'auc', 'fmeasure', 'loss']\n",
      "Training Loss  1.2616683406594358\n"
     ]
    },
    {
     "name": "stderr",
     "output_type": "stream",
     "text": [
      "\n"
     ]
    },
    {
     "name": "stdout",
     "output_type": "stream",
     "text": [
      "Train -  [0.46334876543209874, 0.28446502057613166, 0.707572048214195, 0.46334876543209874, tensor(1.2617)]\n",
      "Validation -  [0.4251543209876543, 0.23353909465020573, 0.6776931949524971, 0.4251543209876543, tensor(1.2892)]\n",
      "\n",
      "Epoch  278\n"
     ]
    },
    {
     "name": "stderr",
     "output_type": "stream",
     "text": [
      "81it [00:01, 40.85it/s]"
     ]
    },
    {
     "name": "stdout",
     "output_type": "stream",
     "text": [
      "['acc', 'kappa', 'auc', 'fmeasure', 'loss']\n",
      "Training Loss  1.2632986174689398\n"
     ]
    },
    {
     "name": "stderr",
     "output_type": "stream",
     "text": [
      "\n"
     ]
    },
    {
     "name": "stdout",
     "output_type": "stream",
     "text": [
      "Train -  [0.46334876543209874, 0.28446502057613166, 0.7073547366382158, 0.46334876543209874, tensor(1.2599)]\n",
      "Validation -  [0.42862654320987653, 0.23816872427983538, 0.6776096441091297, 0.42862654320987653, tensor(1.2877)]\n",
      "\n",
      "Epoch  279\n"
     ]
    },
    {
     "name": "stderr",
     "output_type": "stream",
     "text": [
      "81it [00:02, 40.18it/s]"
     ]
    },
    {
     "name": "stdout",
     "output_type": "stream",
     "text": [
      "['acc', 'kappa', 'auc', 'fmeasure', 'loss']\n",
      "Training Loss  1.261304047372606\n"
     ]
    },
    {
     "name": "stderr",
     "output_type": "stream",
     "text": [
      "\n"
     ]
    },
    {
     "name": "stdout",
     "output_type": "stream",
     "text": [
      "Train -  [0.45447530864197533, 0.27263374485596703, 0.7094439046385206, 0.45447530864197533, tensor(1.2621)]\n",
      "Validation -  [0.4263117283950617, 0.23508230452674894, 0.6810279849679928, 0.4263117283950617, tensor(1.2859)]\n",
      "\n",
      "Epoch  280\n"
     ]
    },
    {
     "name": "stderr",
     "output_type": "stream",
     "text": [
      "81it [00:01, 41.20it/s]"
     ]
    },
    {
     "name": "stdout",
     "output_type": "stream",
     "text": [
      "['acc', 'kappa', 'auc', 'fmeasure', 'loss']\n",
      "Training Loss  1.2623167347024988\n"
     ]
    },
    {
     "name": "stderr",
     "output_type": "stream",
     "text": [
      "\n"
     ]
    },
    {
     "name": "stdout",
     "output_type": "stream",
     "text": [
      "Train -  [0.46257716049382713, 0.28343621399176955, 0.7083041599984758, 0.46257716049382713, tensor(1.2592)]\n",
      "Validation -  [0.43364197530864196, 0.24485596707818935, 0.6786412291063354, 0.43364197530864196, tensor(1.2865)]\n",
      "\n",
      "Epoch  281\n"
     ]
    },
    {
     "name": "stderr",
     "output_type": "stream",
     "text": [
      "81it [00:02, 39.70it/s]"
     ]
    },
    {
     "name": "stdout",
     "output_type": "stream",
     "text": [
      "['acc', 'kappa', 'auc', 'fmeasure', 'loss']\n",
      "Training Loss  1.262668247576113\n"
     ]
    },
    {
     "name": "stderr",
     "output_type": "stream",
     "text": [
      "\n"
     ]
    },
    {
     "name": "stdout",
     "output_type": "stream",
     "text": [
      "Train -  [0.46296296296296297, 0.28395061728395066, 0.70821406003912, 0.46296296296296297, tensor(1.2590)]\n",
      "Validation -  [0.42824074074074076, 0.23765432098765427, 0.6788910878041965, 0.42824074074074076, tensor(1.2854)]\n",
      "\n",
      "Epoch  282\n"
     ]
    },
    {
     "name": "stderr",
     "output_type": "stream",
     "text": [
      "81it [00:01, 40.72it/s]"
     ]
    },
    {
     "name": "stdout",
     "output_type": "stream",
     "text": [
      "['acc', 'kappa', 'auc', 'fmeasure', 'loss']\n",
      "Training Loss  1.264422117927928\n"
     ]
    },
    {
     "name": "stderr",
     "output_type": "stream",
     "text": [
      "\n"
     ]
    },
    {
     "name": "stdout",
     "output_type": "stream",
     "text": [
      "Train -  [0.46257716049382713, 0.28343621399176955, 0.7080997481964132, 0.46257716049382713, tensor(1.2591)]\n",
      "Validation -  [0.4263117283950617, 0.23508230452674894, 0.6786835006731697, 0.4263117283950617, tensor(1.2856)]\n",
      "\n",
      "Epoch  283\n"
     ]
    },
    {
     "name": "stderr",
     "output_type": "stream",
     "text": [
      "81it [00:02, 39.45it/s]"
     ]
    },
    {
     "name": "stdout",
     "output_type": "stream",
     "text": [
      "['acc', 'kappa', 'auc', 'fmeasure', 'loss']\n",
      "Training Loss  1.2610318027896645\n"
     ]
    },
    {
     "name": "stderr",
     "output_type": "stream",
     "text": [
      "\n"
     ]
    },
    {
     "name": "stdout",
     "output_type": "stream",
     "text": [
      "Train -  [0.45949074074074076, 0.279320987654321, 0.7093780165625159, 0.4594907407407407, tensor(1.2592)]\n",
      "Validation -  [0.4340277777777778, 0.24537037037037035, 0.6808199016918153, 0.4340277777777778, tensor(1.2841)]\n",
      "\n",
      "Epoch  284\n"
     ]
    },
    {
     "name": "stderr",
     "output_type": "stream",
     "text": [
      "81it [00:02, 39.64it/s]"
     ]
    },
    {
     "name": "stdout",
     "output_type": "stream",
     "text": [
      "['acc', 'kappa', 'auc', 'fmeasure', 'loss']\n",
      "Training Loss  1.261060569021437\n"
     ]
    },
    {
     "name": "stderr",
     "output_type": "stream",
     "text": [
      "\n"
     ]
    },
    {
     "name": "stdout",
     "output_type": "stream",
     "text": [
      "Train -  [0.46489197530864196, 0.286522633744856, 0.7059344715300004, 0.46489197530864196, tensor(1.2607)]\n",
      "Validation -  [0.42476851851851855, 0.23302469135802473, 0.6761898751460651, 0.42476851851851855, tensor(1.2884)]\n",
      "\n",
      "Epoch  285\n"
     ]
    },
    {
     "name": "stderr",
     "output_type": "stream",
     "text": [
      "81it [00:02, 39.74it/s]"
     ]
    },
    {
     "name": "stdout",
     "output_type": "stream",
     "text": [
      "['acc', 'kappa', 'auc', 'fmeasure', 'loss']\n",
      "Training Loss  1.260509972219114\n"
     ]
    },
    {
     "name": "stderr",
     "output_type": "stream",
     "text": [
      "\n"
     ]
    },
    {
     "name": "stdout",
     "output_type": "stream",
     "text": [
      "Train -  [0.4564043209876543, 0.27520576131687247, 0.7060883757557284, 0.4564043209876543, tensor(1.2639)]\n",
      "Validation -  [0.41435185185185186, 0.21913580246913578, 0.6758076449220138, 0.41435185185185186, tensor(1.2927)]\n",
      "\n",
      "Epoch  286\n"
     ]
    },
    {
     "name": "stderr",
     "output_type": "stream",
     "text": [
      "81it [00:02, 37.04it/s]"
     ]
    },
    {
     "name": "stdout",
     "output_type": "stream",
     "text": [
      "['acc', 'kappa', 'auc', 'fmeasure', 'loss']\n",
      "Training Loss  1.2623619738920235\n"
     ]
    },
    {
     "name": "stderr",
     "output_type": "stream",
     "text": [
      "\n"
     ]
    },
    {
     "name": "stdout",
     "output_type": "stream",
     "text": [
      "Train -  [0.46334876543209874, 0.28446502057613166, 0.708034257036529, 0.46334876543209874, tensor(1.2585)]\n",
      "Validation -  [0.4270833333333333, 0.23611111111111116, 0.6782345885408728, 0.4270833333333333, tensor(1.2860)]\n",
      "\n",
      "Epoch  287\n"
     ]
    },
    {
     "name": "stderr",
     "output_type": "stream",
     "text": [
      "81it [00:01, 41.83it/s]"
     ]
    },
    {
     "name": "stdout",
     "output_type": "stream",
     "text": [
      "['acc', 'kappa', 'auc', 'fmeasure', 'loss']\n",
      "Training Loss  1.2632391335051736\n"
     ]
    },
    {
     "name": "stderr",
     "output_type": "stream",
     "text": [
      "\n"
     ]
    },
    {
     "name": "stdout",
     "output_type": "stream",
     "text": [
      "Train -  [0.4521604938271605, 0.2695473251028807, 0.7090694142788193, 0.4521604938271605, tensor(1.2638)]\n",
      "Validation -  [0.4332561728395062, 0.24434156378600824, 0.6818421591601891, 0.4332561728395062, tensor(1.2854)]\n",
      "\n",
      "Epoch  288\n"
     ]
    },
    {
     "name": "stderr",
     "output_type": "stream",
     "text": [
      "81it [00:01, 42.30it/s]"
     ]
    },
    {
     "name": "stdout",
     "output_type": "stream",
     "text": [
      "['acc', 'kappa', 'auc', 'fmeasure', 'loss']\n",
      "Training Loss  1.2632225722442438\n"
     ]
    },
    {
     "name": "stderr",
     "output_type": "stream",
     "text": [
      "\n"
     ]
    },
    {
     "name": "stdout",
     "output_type": "stream",
     "text": [
      "Train -  [0.4537037037037037, 0.2716049382716049, 0.7097177767616725, 0.4537037037037037, tensor(1.2607)]\n",
      "Validation -  [0.4371141975308642, 0.2494855967078189, 0.682261699499568, 0.4371141975308642, tensor(1.2836)]\n",
      "\n",
      "Epoch  289\n"
     ]
    },
    {
     "name": "stderr",
     "output_type": "stream",
     "text": [
      "81it [00:02, 39.64it/s]"
     ]
    },
    {
     "name": "stdout",
     "output_type": "stream",
     "text": [
      "['acc', 'kappa', 'auc', 'fmeasure', 'loss']\n",
      "Training Loss  1.2626778902830902\n"
     ]
    },
    {
     "name": "stderr",
     "output_type": "stream",
     "text": [
      "\n"
     ]
    },
    {
     "name": "stdout",
     "output_type": "stream",
     "text": [
      "Train -  [0.4660493827160494, 0.2880658436213992, 0.7091855122440685, 0.4660493827160494, tensor(1.2579)]\n",
      "Validation -  [0.43132716049382713, 0.24176954732510292, 0.6800877899075344, 0.43132716049382713, tensor(1.2842)]\n",
      "\n",
      "Epoch  290\n"
     ]
    },
    {
     "name": "stderr",
     "output_type": "stream",
     "text": [
      "81it [00:01, 41.35it/s]"
     ]
    },
    {
     "name": "stdout",
     "output_type": "stream",
     "text": [
      "['acc', 'kappa', 'auc', 'fmeasure', 'loss']\n",
      "Training Loss  1.2606742220160403\n"
     ]
    },
    {
     "name": "stderr",
     "output_type": "stream",
     "text": [
      "\n"
     ]
    },
    {
     "name": "stdout",
     "output_type": "stream",
     "text": [
      "Train -  [0.46103395061728397, 0.2813786008230452, 0.7095593080005589, 0.46103395061728397, tensor(1.2580)]\n",
      "Validation -  [0.4367283950617284, 0.2489711934156379, 0.6804489835771985, 0.4367283950617284, tensor(1.2840)]\n",
      "\n",
      "Epoch  291\n"
     ]
    },
    {
     "name": "stderr",
     "output_type": "stream",
     "text": [
      "81it [00:01, 41.01it/s]"
     ]
    },
    {
     "name": "stdout",
     "output_type": "stream",
     "text": [
      "['acc', 'kappa', 'auc', 'fmeasure', 'loss']\n",
      "Training Loss  1.2614971943843512\n"
     ]
    },
    {
     "name": "stderr",
     "output_type": "stream",
     "text": [
      "\n"
     ]
    },
    {
     "name": "stdout",
     "output_type": "stream",
     "text": [
      "Train -  [0.46334876543209874, 0.28446502057613166, 0.7083450423588884, 0.46334876543209874, tensor(1.2586)]\n",
      "Validation -  [0.4278549382716049, 0.23713991769547327, 0.6788833479398466, 0.4278549382716049, tensor(1.2853)]\n",
      "\n",
      "Epoch  292\n"
     ]
    },
    {
     "name": "stderr",
     "output_type": "stream",
     "text": [
      "81it [00:01, 40.79it/s]"
     ]
    },
    {
     "name": "stdout",
     "output_type": "stream",
     "text": [
      "['acc', 'kappa', 'auc', 'fmeasure', 'loss']\n",
      "Training Loss  1.2609780614758714\n"
     ]
    },
    {
     "name": "stderr",
     "output_type": "stream",
     "text": [
      "\n"
     ]
    },
    {
     "name": "stdout",
     "output_type": "stream",
     "text": [
      "Train -  [0.4556327160493827, 0.27417695473251025, 0.7061165568002845, 0.4556327160493827, tensor(1.2635)]\n",
      "Validation -  [0.41898148148148145, 0.22530864197530864, 0.6762849365569273, 0.41898148148148145, tensor(1.2899)]\n",
      "\n",
      "Epoch  293\n"
     ]
    },
    {
     "name": "stderr",
     "output_type": "stream",
     "text": [
      "81it [00:01, 41.51it/s]"
     ]
    },
    {
     "name": "stdout",
     "output_type": "stream",
     "text": [
      "['acc', 'kappa', 'auc', 'fmeasure', 'loss']\n",
      "Training Loss  1.2613043108104187\n"
     ]
    },
    {
     "name": "stderr",
     "output_type": "stream",
     "text": [
      "\n"
     ]
    },
    {
     "name": "stdout",
     "output_type": "stream",
     "text": [
      "Train -  [0.4691358024691358, 0.29218106995884774, 0.7092252038561195, 0.4691358024691358, tensor(1.2595)]\n",
      "Validation -  [0.4270833333333333, 0.23611111111111116, 0.6788444501600366, 0.4270833333333333, tensor(1.2871)]\n",
      "\n",
      "Epoch  294\n"
     ]
    },
    {
     "name": "stderr",
     "output_type": "stream",
     "text": [
      "81it [00:01, 42.40it/s]"
     ]
    },
    {
     "name": "stdout",
     "output_type": "stream",
     "text": [
      "['acc', 'kappa', 'auc', 'fmeasure', 'loss']\n",
      "Training Loss  1.2610446258827492\n"
     ]
    },
    {
     "name": "stderr",
     "output_type": "stream",
     "text": [
      "\n"
     ]
    },
    {
     "name": "stdout",
     "output_type": "stream",
     "text": [
      "Train -  [0.4529320987654321, 0.2705761316872428, 0.7079393940837271, 0.4529320987654321, tensor(1.2639)]\n",
      "Validation -  [0.41782407407407407, 0.22376543209876543, 0.6781867601483513, 0.41782407407407407, tensor(1.2892)]\n",
      "\n",
      "Epoch  295\n"
     ]
    },
    {
     "name": "stderr",
     "output_type": "stream",
     "text": [
      "81it [00:02, 39.74it/s]"
     ]
    },
    {
     "name": "stdout",
     "output_type": "stream",
     "text": [
      "['acc', 'kappa', 'auc', 'fmeasure', 'loss']\n",
      "Training Loss  1.2613329298702287\n"
     ]
    },
    {
     "name": "stderr",
     "output_type": "stream",
     "text": [
      "\n"
     ]
    },
    {
     "name": "stdout",
     "output_type": "stream",
     "text": [
      "Train -  [0.4591049382716049, 0.2788065843621399, 0.7073249679291774, 0.4591049382716049, tensor(1.2638)]\n",
      "Validation -  [0.42052469135802467, 0.22736625514403297, 0.6785517245211604, 0.42052469135802467, tensor(1.2881)]\n",
      "\n",
      "Epoch  296\n"
     ]
    },
    {
     "name": "stderr",
     "output_type": "stream",
     "text": [
      "81it [00:01, 40.53it/s]"
     ]
    },
    {
     "name": "stdout",
     "output_type": "stream",
     "text": [
      "['acc', 'kappa', 'auc', 'fmeasure', 'loss']\n",
      "Training Loss  1.2620845194216128\n"
     ]
    },
    {
     "name": "stderr",
     "output_type": "stream",
     "text": [
      "\n"
     ]
    },
    {
     "name": "stdout",
     "output_type": "stream",
     "text": [
      "Train -  [0.45949074074074076, 0.279320987654321, 0.7076354555644464, 0.4594907407407407, tensor(1.2608)]\n",
      "Validation -  [0.42939814814814814, 0.23919753086419748, 0.6790774399227759, 0.42939814814814814, tensor(1.2874)]\n",
      "\n",
      "Epoch  297\n"
     ]
    },
    {
     "name": "stderr",
     "output_type": "stream",
     "text": [
      "81it [00:01, 41.97it/s]"
     ]
    },
    {
     "name": "stdout",
     "output_type": "stream",
     "text": [
      "['acc', 'kappa', 'auc', 'fmeasure', 'loss']\n",
      "Training Loss  1.2636198541264476\n"
     ]
    },
    {
     "name": "stderr",
     "output_type": "stream",
     "text": [
      "\n"
     ]
    },
    {
     "name": "stdout",
     "output_type": "stream",
     "text": [
      "Train -  [0.45447530864197533, 0.27263374485596703, 0.7059658279035208, 0.45447530864197533, tensor(1.2646)]\n",
      "Validation -  [0.4305555555555556, 0.2407407407407407, 0.6784313597076157, 0.4305555555555556, tensor(1.2892)]\n",
      "\n",
      "Epoch  298\n"
     ]
    },
    {
     "name": "stderr",
     "output_type": "stream",
     "text": [
      "81it [00:01, 40.90it/s]"
     ]
    },
    {
     "name": "stdout",
     "output_type": "stream",
     "text": [
      "['acc', 'kappa', 'auc', 'fmeasure', 'loss']\n",
      "Training Loss  1.2618524395389321\n"
     ]
    },
    {
     "name": "stderr",
     "output_type": "stream",
     "text": [
      "\n"
     ]
    },
    {
     "name": "stdout",
     "output_type": "stream",
     "text": [
      "Train -  [0.45717592592592593, 0.2762345679012346, 0.7079518969415232, 0.45717592592592593, tensor(1.2602)]\n",
      "Validation -  [0.4212962962962963, 0.22839506172839508, 0.6783242915841081, 0.4212962962962963, tensor(1.2871)]\n",
      "\n",
      "Epoch  299\n"
     ]
    },
    {
     "name": "stderr",
     "output_type": "stream",
     "text": [
      "81it [00:01, 41.13it/s]"
     ]
    },
    {
     "name": "stdout",
     "output_type": "stream",
     "text": [
      "['acc', 'kappa', 'auc', 'fmeasure', 'loss']\n",
      "Training Loss  1.2612547285762834\n"
     ]
    },
    {
     "name": "stderr",
     "output_type": "stream",
     "text": [
      "\n"
     ]
    },
    {
     "name": "stdout",
     "output_type": "stream",
     "text": [
      "Train -  [0.45447530864197533, 0.27263374485596703, 0.7101834586000608, 0.45447530864197533, tensor(1.2618)]\n",
      "Validation -  [0.43132716049382713, 0.24176954732510292, 0.683245952249403, 0.43132716049382713, tensor(1.2836)]\n",
      "\n",
      "Epoch  300\n"
     ]
    },
    {
     "name": "stderr",
     "output_type": "stream",
     "text": [
      "81it [00:02, 40.49it/s]"
     ]
    },
    {
     "name": "stdout",
     "output_type": "stream",
     "text": [
      "['acc', 'kappa', 'auc', 'fmeasure', 'loss']\n",
      "Training Loss  1.261630239310088\n"
     ]
    },
    {
     "name": "stderr",
     "output_type": "stream",
     "text": [
      "\n"
     ]
    },
    {
     "name": "stdout",
     "output_type": "stream",
     "text": [
      "Train -  [0.46064814814814814, 0.2808641975308642, 0.709378909623787, 0.46064814814814814, tensor(1.2623)]\n",
      "Validation -  [0.43094135802469136, 0.2412551440329218, 0.6814214280724482, 0.43094135802469136, tensor(1.2860)]\n",
      "\n",
      "Epoch  301\n"
     ]
    },
    {
     "name": "stderr",
     "output_type": "stream",
     "text": [
      "81it [00:02, 40.20it/s]"
     ]
    },
    {
     "name": "stdout",
     "output_type": "stream",
     "text": [
      "['acc', 'kappa', 'auc', 'fmeasure', 'loss']\n",
      "Training Loss  1.261716064111686\n"
     ]
    },
    {
     "name": "stderr",
     "output_type": "stream",
     "text": [
      "\n"
     ]
    },
    {
     "name": "stdout",
     "output_type": "stream",
     "text": [
      "Train -  [0.46334876543209874, 0.28446502057613166, 0.7092575525199412, 0.46334876543209874, tensor(1.2575)]\n",
      "Validation -  [0.4324845679012346, 0.24331275720164613, 0.6797261000927196, 0.4324845679012346, tensor(1.2849)]\n",
      "\n",
      "Epoch  302\n"
     ]
    },
    {
     "name": "stderr",
     "output_type": "stream",
     "text": [
      "81it [00:02, 38.10it/s]"
     ]
    },
    {
     "name": "stdout",
     "output_type": "stream",
     "text": [
      "['acc', 'kappa', 'auc', 'fmeasure', 'loss']\n",
      "Training Loss  1.2601672911349637\n"
     ]
    },
    {
     "name": "stderr",
     "output_type": "stream",
     "text": [
      "\n"
     ]
    },
    {
     "name": "stdout",
     "output_type": "stream",
     "text": [
      "Train -  [0.46296296296296297, 0.28395061728395066, 0.7097844586699182, 0.46296296296296297, tensor(1.2584)]\n",
      "Validation -  [0.4251543209876543, 0.23353909465020573, 0.6799383509881624, 0.4251543209876543, tensor(1.2854)]\n",
      "\n",
      "Epoch  303\n"
     ]
    },
    {
     "name": "stderr",
     "output_type": "stream",
     "text": [
      "81it [00:02, 40.29it/s]"
     ]
    },
    {
     "name": "stdout",
     "output_type": "stream",
     "text": [
      "['acc', 'kappa', 'auc', 'fmeasure', 'loss']\n",
      "Training Loss  1.2620107318148202\n"
     ]
    },
    {
     "name": "stderr",
     "output_type": "stream",
     "text": [
      "\n"
     ]
    },
    {
     "name": "stdout",
     "output_type": "stream",
     "text": [
      "Train -  [0.466820987654321, 0.2890946502057613, 0.7107449956815526, 0.46682098765432095, tensor(1.2586)]\n",
      "Validation -  [0.4305555555555556, 0.2407407407407407, 0.6816881557054311, 0.4305555555555556, tensor(1.2843)]\n",
      "\n",
      "Epoch  304\n"
     ]
    },
    {
     "name": "stderr",
     "output_type": "stream",
     "text": [
      "81it [00:02, 40.09it/s]"
     ]
    },
    {
     "name": "stdout",
     "output_type": "stream",
     "text": [
      "['acc', 'kappa', 'auc', 'fmeasure', 'loss']\n",
      "Training Loss  1.2615004439412811\n"
     ]
    },
    {
     "name": "stderr",
     "output_type": "stream",
     "text": [
      "\n"
     ]
    },
    {
     "name": "stdout",
     "output_type": "stream",
     "text": [
      "Train -  [0.46296296296296297, 0.28395061728395066, 0.7080658118681095, 0.46296296296296297, tensor(1.2591)]\n",
      "Validation -  [0.4216820987654321, 0.22890946502057619, 0.6784314589366458, 0.4216820987654321, tensor(1.2866)]\n",
      "\n",
      "Epoch  305\n"
     ]
    },
    {
     "name": "stderr",
     "output_type": "stream",
     "text": [
      "81it [00:01, 43.13it/s]"
     ]
    },
    {
     "name": "stdout",
     "output_type": "stream",
     "text": [
      "['acc', 'kappa', 'auc', 'fmeasure', 'loss']\n",
      "Training Loss  1.261760002301063\n"
     ]
    },
    {
     "name": "stderr",
     "output_type": "stream",
     "text": [
      "\n"
     ]
    },
    {
     "name": "stdout",
     "output_type": "stream",
     "text": [
      "Train -  [0.46026234567901236, 0.2803497942386831, 0.7102014190545141, 0.46026234567901236, tensor(1.2577)]\n",
      "Validation -  [0.43287037037037035, 0.24382716049382713, 0.6817915523548239, 0.43287037037037035, tensor(1.2833)]\n",
      "\n",
      "Epoch  306\n"
     ]
    },
    {
     "name": "stderr",
     "output_type": "stream",
     "text": [
      "81it [00:01, 40.85it/s]"
     ]
    },
    {
     "name": "stdout",
     "output_type": "stream",
     "text": [
      "['acc', 'kappa', 'auc', 'fmeasure', 'loss']\n",
      "Training Loss  1.2611920892456432\n"
     ]
    },
    {
     "name": "stderr",
     "output_type": "stream",
     "text": [
      "\n"
     ]
    },
    {
     "name": "stdout",
     "output_type": "stream",
     "text": [
      "Train -  [0.45794753086419754, 0.2772633744855967, 0.7099196086089519, 0.45794753086419754, tensor(1.2588)]\n",
      "Validation -  [0.4263117283950617, 0.23508230452674894, 0.6810588451963623, 0.4263117283950617, tensor(1.2843)]\n",
      "\n",
      "Epoch  307\n"
     ]
    },
    {
     "name": "stderr",
     "output_type": "stream",
     "text": [
      "81it [00:02, 37.89it/s]"
     ]
    },
    {
     "name": "stdout",
     "output_type": "stream",
     "text": [
      "['acc', 'kappa', 'auc', 'fmeasure', 'loss']\n",
      "Training Loss  1.2600563043429527\n"
     ]
    },
    {
     "name": "stderr",
     "output_type": "stream",
     "text": [
      "\n"
     ]
    },
    {
     "name": "stdout",
     "output_type": "stream",
     "text": [
      "Train -  [0.4683641975308642, 0.29115226337448563, 0.7110641162424427, 0.4683641975308643, tensor(1.2597)]\n",
      "Validation -  [0.4263117283950617, 0.23508230452674894, 0.6821488760923132, 0.4263117283950617, tensor(1.2850)]\n",
      "\n",
      "Epoch  308\n"
     ]
    },
    {
     "name": "stderr",
     "output_type": "stream",
     "text": [
      "81it [00:01, 41.04it/s]"
     ]
    },
    {
     "name": "stdout",
     "output_type": "stream",
     "text": [
      "['acc', 'kappa', 'auc', 'fmeasure', 'loss']\n",
      "Training Loss  1.258539530966017\n"
     ]
    },
    {
     "name": "stderr",
     "output_type": "stream",
     "text": [
      "\n"
     ]
    },
    {
     "name": "stdout",
     "output_type": "stream",
     "text": [
      "Train -  [0.4556327160493827, 0.27417695473251025, 0.7042238622796322, 0.4556327160493827, tensor(1.2637)]\n",
      "Validation -  [0.4305555555555556, 0.2407407407407407, 0.6755663199207438, 0.4305555555555556, tensor(1.2905)]\n",
      "\n",
      "Epoch  309\n"
     ]
    },
    {
     "name": "stderr",
     "output_type": "stream",
     "text": [
      "81it [00:01, 41.61it/s]"
     ]
    },
    {
     "name": "stdout",
     "output_type": "stream",
     "text": [
      "['acc', 'kappa', 'auc', 'fmeasure', 'loss']\n",
      "Training Loss  1.2607368142516524\n"
     ]
    },
    {
     "name": "stderr",
     "output_type": "stream",
     "text": [
      "\n"
     ]
    },
    {
     "name": "stdout",
     "output_type": "stream",
     "text": [
      "Train -  [0.4498456790123457, 0.2664609053497943, 0.7105076398414876, 0.4498456790123457, tensor(1.2622)]\n",
      "Validation -  [0.4351851851851852, 0.24691358024691357, 0.68324366998171, 0.4351851851851852, tensor(1.2844)]\n",
      "\n",
      "Epoch  310\n"
     ]
    },
    {
     "name": "stderr",
     "output_type": "stream",
     "text": [
      "81it [00:01, 41.87it/s]"
     ]
    },
    {
     "name": "stdout",
     "output_type": "stream",
     "text": [
      "['acc', 'kappa', 'auc', 'fmeasure', 'loss']\n",
      "Training Loss  1.2604302300347223\n"
     ]
    },
    {
     "name": "stderr",
     "output_type": "stream",
     "text": [
      "\n"
     ]
    },
    {
     "name": "stdout",
     "output_type": "stream",
     "text": [
      "Train -  [0.4556327160493827, 0.27417695473251025, 0.7107497586749987, 0.4556327160493827, tensor(1.2591)]\n",
      "Validation -  [0.4359567901234568, 0.24794238683127567, 0.6826905673677793, 0.4359567901234568, tensor(1.2832)]\n",
      "\n",
      "Epoch  311\n"
     ]
    },
    {
     "name": "stderr",
     "output_type": "stream",
     "text": [
      "81it [00:01, 41.13it/s]"
     ]
    },
    {
     "name": "stdout",
     "output_type": "stream",
     "text": [
      "['acc', 'kappa', 'auc', 'fmeasure', 'loss']\n",
      "Training Loss  1.2608976614328078\n"
     ]
    },
    {
     "name": "stderr",
     "output_type": "stream",
     "text": [
      "\n"
     ]
    },
    {
     "name": "stdout",
     "output_type": "stream",
     "text": [
      "Train -  [0.46103395061728397, 0.2813786008230452, 0.7092027780953107, 0.46103395061728397, tensor(1.2581)]\n",
      "Validation -  [0.43132716049382713, 0.24176954732510292, 0.6801695546283595, 0.43132716049382713, tensor(1.2852)]\n",
      "\n",
      "Epoch  312\n"
     ]
    },
    {
     "name": "stderr",
     "output_type": "stream",
     "text": [
      "81it [00:01, 41.39it/s]"
     ]
    },
    {
     "name": "stdout",
     "output_type": "stream",
     "text": [
      "['acc', 'kappa', 'auc', 'fmeasure', 'loss']\n",
      "Training Loss  1.2605229395407218\n"
     ]
    },
    {
     "name": "stderr",
     "output_type": "stream",
     "text": [
      "\n"
     ]
    },
    {
     "name": "stdout",
     "output_type": "stream",
     "text": [
      "Train -  [0.45987654320987653, 0.279835390946502, 0.7090096784026826, 0.45987654320987653, tensor(1.2586)]\n",
      "Validation -  [0.43171296296296297, 0.24228395061728392, 0.6800226956637708, 0.43171296296296297, tensor(1.2853)]\n",
      "\n",
      "Epoch  313\n"
     ]
    },
    {
     "name": "stderr",
     "output_type": "stream",
     "text": [
      "81it [00:01, 43.01it/s]"
     ]
    },
    {
     "name": "stdout",
     "output_type": "stream",
     "text": [
      "['acc', 'kappa', 'auc', 'fmeasure', 'loss']\n",
      "Training Loss  1.2628862695929446\n"
     ]
    },
    {
     "name": "stderr",
     "output_type": "stream",
     "text": [
      "\n"
     ]
    },
    {
     "name": "stdout",
     "output_type": "stream",
     "text": [
      "Train -  [0.46412037037037035, 0.2854938271604939, 0.7106759322765839, 0.46412037037037035, tensor(1.2570)]\n",
      "Validation -  [0.4332561728395062, 0.24434156378600824, 0.6817268550271809, 0.4332561728395062, tensor(1.2835)]\n",
      "\n",
      "Epoch  314\n"
     ]
    },
    {
     "name": "stderr",
     "output_type": "stream",
     "text": [
      "81it [00:01, 41.22it/s]"
     ]
    },
    {
     "name": "stdout",
     "output_type": "stream",
     "text": [
      "['acc', 'kappa', 'auc', 'fmeasure', 'loss']\n",
      "Training Loss  1.2605690470448248\n"
     ]
    },
    {
     "name": "stderr",
     "output_type": "stream",
     "text": [
      "\n"
     ]
    },
    {
     "name": "stdout",
     "output_type": "stream",
     "text": [
      "Train -  [0.46219135802469136, 0.28292181069958844, 0.7114314621119748, 0.46219135802469136, tensor(1.2592)]\n",
      "Validation -  [0.4340277777777778, 0.24537037037037035, 0.6833905289462989, 0.4340277777777778, tensor(1.2832)]\n",
      "\n",
      "Epoch  315\n"
     ]
    },
    {
     "name": "stderr",
     "output_type": "stream",
     "text": [
      "81it [00:02, 40.10it/s]"
     ]
    },
    {
     "name": "stdout",
     "output_type": "stream",
     "text": [
      "['acc', 'kappa', 'auc', 'fmeasure', 'loss']\n",
      "Training Loss  1.259016325444351\n"
     ]
    },
    {
     "name": "stderr",
     "output_type": "stream",
     "text": [
      "\n"
     ]
    },
    {
     "name": "stdout",
     "output_type": "stream",
     "text": [
      "Train -  [0.4564043209876543, 0.27520576131687247, 0.7110166847660417, 0.4564043209876543, tensor(1.2580)]\n",
      "Validation -  [0.4359567901234568, 0.24794238683127567, 0.6828255188487526, 0.4359567901234568, tensor(1.2826)]\n",
      "\n",
      "Epoch  316\n"
     ]
    },
    {
     "name": "stderr",
     "output_type": "stream",
     "text": [
      "81it [00:01, 43.33it/s]"
     ]
    },
    {
     "name": "stdout",
     "output_type": "stream",
     "text": [
      "['acc', 'kappa', 'auc', 'fmeasure', 'loss']\n",
      "Training Loss  1.2600690788692899\n"
     ]
    },
    {
     "name": "stderr",
     "output_type": "stream",
     "text": [
      "\n"
     ]
    },
    {
     "name": "stdout",
     "output_type": "stream",
     "text": [
      "Train -  [0.46334876543209874, 0.28446502057613166, 0.707650637606056, 0.46334876543209874, tensor(1.2620)]\n",
      "Validation -  [0.43171296296296297, 0.24228395061728392, 0.6792300541711123, 0.43171296296296297, tensor(1.2880)]\n",
      "\n",
      "Epoch  317\n"
     ]
    },
    {
     "name": "stderr",
     "output_type": "stream",
     "text": [
      "81it [00:02, 39.74it/s]"
     ]
    },
    {
     "name": "stdout",
     "output_type": "stream",
     "text": [
      "['acc', 'kappa', 'auc', 'fmeasure', 'loss']\n",
      "Training Loss  1.2609152013872877\n"
     ]
    },
    {
     "name": "stderr",
     "output_type": "stream",
     "text": [
      "\n"
     ]
    },
    {
     "name": "stdout",
     "output_type": "stream",
     "text": [
      "Train -  [0.45987654320987653, 0.279835390946502, 0.7102458736600111, 0.45987654320987653, tensor(1.2587)]\n",
      "Validation -  [0.4278549382716049, 0.23713991769547327, 0.681670889854189, 0.4278549382716049, tensor(1.2840)]\n",
      "\n",
      "Epoch  318\n"
     ]
    },
    {
     "name": "stderr",
     "output_type": "stream",
     "text": [
      "81it [00:01, 42.41it/s]"
     ]
    },
    {
     "name": "stdout",
     "output_type": "stream",
     "text": [
      "['acc', 'kappa', 'auc', 'fmeasure', 'loss']\n",
      "Training Loss  1.258918136726191\n"
     ]
    },
    {
     "name": "stderr",
     "output_type": "stream",
     "text": [
      "\n"
     ]
    },
    {
     "name": "stdout",
     "output_type": "stream",
     "text": [
      "Train -  [0.4675925925925926, 0.2901234567901234, 0.7100279667098512, 0.4675925925925926, tensor(1.2564)]\n",
      "Validation -  [0.43094135802469136, 0.2412551440329218, 0.6807135281715184, 0.43094135802469136, tensor(1.2840)]\n",
      "\n",
      "Epoch  319\n"
     ]
    },
    {
     "name": "stderr",
     "output_type": "stream",
     "text": [
      "81it [00:01, 41.15it/s]"
     ]
    },
    {
     "name": "stdout",
     "output_type": "stream",
     "text": [
      "['acc', 'kappa', 'auc', 'fmeasure', 'loss']\n",
      "Training Loss  1.2596836178391069\n"
     ]
    },
    {
     "name": "stderr",
     "output_type": "stream",
     "text": [
      "\n"
     ]
    },
    {
     "name": "stdout",
     "output_type": "stream",
     "text": [
      "Train -  [0.4683641975308642, 0.29115226337448563, 0.7088223339938018, 0.4683641975308643, tensor(1.2590)]\n",
      "Validation -  [0.4243827160493827, 0.23251028806584362, 0.6786146357262612, 0.4243827160493827, tensor(1.2882)]\n",
      "\n",
      "Epoch  320\n"
     ]
    },
    {
     "name": "stderr",
     "output_type": "stream",
     "text": [
      "81it [00:02, 38.56it/s]"
     ]
    },
    {
     "name": "stdout",
     "output_type": "stream",
     "text": [
      "['acc', 'kappa', 'auc', 'fmeasure', 'loss']\n",
      "Training Loss  1.2621818354100356\n"
     ]
    },
    {
     "name": "stderr",
     "output_type": "stream",
     "text": [
      "\n"
     ]
    },
    {
     "name": "stdout",
     "output_type": "stream",
     "text": [
      "Train -  [0.4486882716049383, 0.26491769547325106, 0.708720525008891, 0.4486882716049383, tensor(1.2662)]\n",
      "Validation -  [0.41512345679012347, 0.220164609053498, 0.6800562350759539, 0.4151234567901235, tensor(1.2894)]\n",
      "\n",
      "Epoch  321\n"
     ]
    },
    {
     "name": "stderr",
     "output_type": "stream",
     "text": [
      "81it [00:02, 39.45it/s]"
     ]
    },
    {
     "name": "stdout",
     "output_type": "stream",
     "text": [
      "['acc', 'kappa', 'auc', 'fmeasure', 'loss']\n",
      "Training Loss  1.2589190462489186\n"
     ]
    },
    {
     "name": "stderr",
     "output_type": "stream",
     "text": [
      "\n"
     ]
    },
    {
     "name": "stdout",
     "output_type": "stream",
     "text": [
      "Train -  [0.45717592592592593, 0.2762345679012346, 0.7081076865188233, 0.45717592592592593, tensor(1.2603)]\n",
      "Validation -  [0.4212962962962963, 0.22839506172839508, 0.6777924239826245, 0.4212962962962963, tensor(1.2890)]\n",
      "\n",
      "Epoch  322\n"
     ]
    },
    {
     "name": "stderr",
     "output_type": "stream",
     "text": [
      "81it [00:01, 41.71it/s]"
     ]
    },
    {
     "name": "stdout",
     "output_type": "stream",
     "text": [
      "['acc', 'kappa', 'auc', 'fmeasure', 'loss']\n",
      "Training Loss  1.2592882683247695\n"
     ]
    },
    {
     "name": "stderr",
     "output_type": "stream",
     "text": [
      "\n"
     ]
    },
    {
     "name": "stdout",
     "output_type": "stream",
     "text": [
      "Train -  [0.4591049382716049, 0.2788065843621399, 0.7099497742341107, 0.4591049382716049, tensor(1.2591)]\n",
      "Validation -  [0.42901234567901236, 0.23868312757201648, 0.6816641422801403, 0.42901234567901236, tensor(1.2852)]\n",
      "\n",
      "Epoch  323\n"
     ]
    },
    {
     "name": "stderr",
     "output_type": "stream",
     "text": [
      "81it [00:02, 38.78it/s]"
     ]
    },
    {
     "name": "stdout",
     "output_type": "stream",
     "text": [
      "['acc', 'kappa', 'auc', 'fmeasure', 'loss']\n",
      "Training Loss  1.2609489493899875\n"
     ]
    },
    {
     "name": "stderr",
     "output_type": "stream",
     "text": [
      "\n"
     ]
    },
    {
     "name": "stdout",
     "output_type": "stream",
     "text": [
      "Train -  [0.46412037037037035, 0.2854938271604939, 0.7091132735101355, 0.46412037037037035, tensor(1.2584)]\n",
      "Validation -  [0.4324845679012346, 0.24331275720164613, 0.6807607611898593, 0.4324845679012346, tensor(1.2845)]\n",
      "\n",
      "Epoch  324\n"
     ]
    },
    {
     "name": "stderr",
     "output_type": "stream",
     "text": [
      "81it [00:02, 39.44it/s]"
     ]
    },
    {
     "name": "stdout",
     "output_type": "stream",
     "text": [
      "['acc', 'kappa', 'auc', 'fmeasure', 'loss']\n",
      "Training Loss  1.2604603267010348\n"
     ]
    },
    {
     "name": "stderr",
     "output_type": "stream",
     "text": [
      "\n"
     ]
    },
    {
     "name": "stdout",
     "output_type": "stream",
     "text": [
      "Train -  [0.46334876543209874, 0.28446502057613166, 0.7096872142203932, 0.46334876543209874, tensor(1.2576)]\n",
      "Validation -  [0.435570987654321, 0.24742798353909468, 0.6812569063404968, 0.435570987654321, tensor(1.2837)]\n",
      "\n",
      "Epoch  325\n"
     ]
    },
    {
     "name": "stderr",
     "output_type": "stream",
     "text": [
      "81it [00:01, 40.90it/s]\n"
     ]
    },
    {
     "name": "stdout",
     "output_type": "stream",
     "text": [
      "['acc', 'kappa', 'auc', 'fmeasure', 'loss']\n",
      "Training Loss  1.2649500693803952\n",
      "Train -  [0.46103395061728397, 0.2813786008230452, 0.7113532696362344, 0.46103395061728397, tensor(1.2572)]\n",
      "Validation -  [0.4390432098765432, 0.2520576131687243, 0.6834073978814206, 0.4390432098765432, tensor(1.2820)]\n",
      "\n",
      "Epoch  326\n"
     ]
    },
    {
     "name": "stderr",
     "output_type": "stream",
     "text": [
      "81it [00:01, 41.00it/s]"
     ]
    },
    {
     "name": "stdout",
     "output_type": "stream",
     "text": [
      "['acc', 'kappa', 'auc', 'fmeasure', 'loss']\n",
      "Training Loss  1.2622060157634594\n"
     ]
    },
    {
     "name": "stderr",
     "output_type": "stream",
     "text": [
      "\n"
     ]
    },
    {
     "name": "stdout",
     "output_type": "stream",
     "text": [
      "Train -  [0.4540895061728395, 0.27211934156378603, 0.7114091355801961, 0.4540895061728395, tensor(1.2598)]\n",
      "Validation -  [0.42978395061728397, 0.2397119341563786, 0.6838057032083522, 0.42978395061728397, tensor(1.2833)]\n",
      "\n",
      "Epoch  327\n"
     ]
    },
    {
     "name": "stderr",
     "output_type": "stream",
     "text": [
      "81it [00:01, 43.26it/s]"
     ]
    },
    {
     "name": "stdout",
     "output_type": "stream",
     "text": [
      "['acc', 'kappa', 'auc', 'fmeasure', 'loss']\n",
      "Training Loss  1.26115279433168\n"
     ]
    },
    {
     "name": "stderr",
     "output_type": "stream",
     "text": [
      "\n"
     ]
    },
    {
     "name": "stdout",
     "output_type": "stream",
     "text": [
      "Train -  [0.45447530864197533, 0.27263374485596703, 0.7111641391048114, 0.45447530864197533, tensor(1.2605)]\n",
      "Validation -  [0.43094135802469136, 0.2412551440329218, 0.6846052907331199, 0.43094135802469136, tensor(1.2827)]\n",
      "\n",
      "Epoch  328\n"
     ]
    },
    {
     "name": "stderr",
     "output_type": "stream",
     "text": [
      "81it [00:01, 40.79it/s]"
     ]
    },
    {
     "name": "stdout",
     "output_type": "stream",
     "text": [
      "['acc', 'kappa', 'auc', 'fmeasure', 'loss']\n",
      "Training Loss  1.2609212398529053\n"
     ]
    },
    {
     "name": "stderr",
     "output_type": "stream",
     "text": [
      "\n"
     ]
    },
    {
     "name": "stdout",
     "output_type": "stream",
     "text": [
      "Train -  [0.4618055555555556, 0.28240740740740744, 0.7100805580958187, 0.4618055555555556, tensor(1.2592)]\n",
      "Validation -  [0.4251543209876543, 0.23353909465020573, 0.6812588909210995, 0.4251543209876543, tensor(1.2848)]\n",
      "\n",
      "Epoch  329\n"
     ]
    },
    {
     "name": "stderr",
     "output_type": "stream",
     "text": [
      "81it [00:01, 40.87it/s]"
     ]
    },
    {
     "name": "stdout",
     "output_type": "stream",
     "text": [
      "['acc', 'kappa', 'auc', 'fmeasure', 'loss']\n",
      "Training Loss  1.260167709103337\n"
     ]
    },
    {
     "name": "stderr",
     "output_type": "stream",
     "text": [
      "\n"
     ]
    },
    {
     "name": "stdout",
     "output_type": "stream",
     "text": [
      "Train -  [0.46141975308641975, 0.28189300411522633, 0.7106439805288828, 0.46141975308641975, tensor(1.2579)]\n",
      "Validation -  [0.42862654320987653, 0.23816872427983538, 0.6818078259157649, 0.42862654320987653, tensor(1.2848)]\n",
      "\n",
      "Epoch  330\n"
     ]
    },
    {
     "name": "stderr",
     "output_type": "stream",
     "text": [
      "81it [00:01, 42.07it/s]"
     ]
    },
    {
     "name": "stdout",
     "output_type": "stream",
     "text": [
      "['acc', 'kappa', 'auc', 'fmeasure', 'loss']\n",
      "Training Loss  1.259430327533204\n"
     ]
    },
    {
     "name": "stderr",
     "output_type": "stream",
     "text": [
      "\n"
     ]
    },
    {
     "name": "stdout",
     "output_type": "stream",
     "text": [
      "Train -  [0.46141975308641975, 0.28189300411522633, 0.7076206704389574, 0.46141975308641975, tensor(1.2599)]\n",
      "Validation -  [0.4251543209876543, 0.23353909465020573, 0.6780459541546004, 0.4251543209876543, tensor(1.2885)]\n",
      "\n",
      "Epoch  331\n"
     ]
    },
    {
     "name": "stderr",
     "output_type": "stream",
     "text": [
      "81it [00:02, 39.45it/s]"
     ]
    },
    {
     "name": "stdout",
     "output_type": "stream",
     "text": [
      "['acc', 'kappa', 'auc', 'fmeasure', 'loss']\n",
      "Training Loss  1.2595095222378954\n"
     ]
    },
    {
     "name": "stderr",
     "output_type": "stream",
     "text": [
      "\n"
     ]
    },
    {
     "name": "stdout",
     "output_type": "stream",
     "text": [
      "Train -  [0.46103395061728397, 0.2813786008230452, 0.7117418505182136, 0.46103395061728397, tensor(1.2568)]\n",
      "Validation -  [0.4390432098765432, 0.2520576131687243, 0.6838479747751867, 0.4390432098765432, tensor(1.2816)]\n",
      "\n",
      "Epoch  332\n"
     ]
    },
    {
     "name": "stderr",
     "output_type": "stream",
     "text": [
      "81it [00:02, 39.89it/s]"
     ]
    },
    {
     "name": "stdout",
     "output_type": "stream",
     "text": [
      "['acc', 'kappa', 'auc', 'fmeasure', 'loss']\n",
      "Training Loss  1.2592378045305794\n"
     ]
    },
    {
     "name": "stderr",
     "output_type": "stream",
     "text": [
      "\n"
     ]
    },
    {
     "name": "stdout",
     "output_type": "stream",
     "text": [
      "Train -  [0.46064814814814814, 0.2808641975308642, 0.71226806206498, 0.46064814814814814, tensor(1.2582)]\n",
      "Validation -  [0.43441358024691357, 0.24588477366255146, 0.6845870325915765, 0.43441358024691357, tensor(1.2821)]\n",
      "\n",
      "Epoch  333\n"
     ]
    },
    {
     "name": "stderr",
     "output_type": "stream",
     "text": [
      "81it [00:02, 38.43it/s]"
     ]
    },
    {
     "name": "stdout",
     "output_type": "stream",
     "text": [
      "['acc', 'kappa', 'auc', 'fmeasure', 'loss']\n",
      "Training Loss  1.260720236801807\n"
     ]
    },
    {
     "name": "stderr",
     "output_type": "stream",
     "text": [
      "\n"
     ]
    },
    {
     "name": "stdout",
     "output_type": "stream",
     "text": [
      "Train -  [0.466820987654321, 0.2890946502057613, 0.7121363851420007, 0.46682098765432095, tensor(1.2565)]\n",
      "Validation -  [0.4351851851851852, 0.24691358024691357, 0.6833863613270335, 0.4351851851851852, tensor(1.2825)]\n",
      "\n",
      "Epoch  334\n"
     ]
    },
    {
     "name": "stderr",
     "output_type": "stream",
     "text": [
      "81it [00:02, 39.26it/s]"
     ]
    },
    {
     "name": "stdout",
     "output_type": "stream",
     "text": [
      "['acc', 'kappa', 'auc', 'fmeasure', 'loss']\n",
      "Training Loss  1.2590437465243869\n"
     ]
    },
    {
     "name": "stderr",
     "output_type": "stream",
     "text": [
      "\n"
     ]
    },
    {
     "name": "stdout",
     "output_type": "stream",
     "text": [
      "Train -  [0.4672067901234568, 0.2896090534979424, 0.7116019375857339, 0.4672067901234568, tensor(1.2575)]\n",
      "Validation -  [0.43094135802469136, 0.2412551440329218, 0.6818944528590661, 0.43094135802469136, tensor(1.2850)]\n",
      "\n",
      "Epoch  335\n"
     ]
    },
    {
     "name": "stderr",
     "output_type": "stream",
     "text": [
      "81it [00:01, 41.31it/s]"
     ]
    },
    {
     "name": "stdout",
     "output_type": "stream",
     "text": [
      "['acc', 'kappa', 'auc', 'fmeasure', 'loss']\n",
      "Training Loss  1.2602784677788064\n"
     ]
    },
    {
     "name": "stderr",
     "output_type": "stream",
     "text": [
      "\n"
     ]
    },
    {
     "name": "stdout",
     "output_type": "stream",
     "text": [
      "Train -  [0.46257716049382713, 0.28343621399176955, 0.7116910452547883, 0.46257716049382713, tensor(1.2557)]\n",
      "Validation -  [0.435570987654321, 0.24742798353909468, 0.6824907201011025, 0.435570987654321, tensor(1.2824)]\n",
      "\n",
      "Epoch  336\n"
     ]
    },
    {
     "name": "stderr",
     "output_type": "stream",
     "text": [
      "81it [00:02, 40.06it/s]"
     ]
    },
    {
     "name": "stdout",
     "output_type": "stream",
     "text": [
      "['acc', 'kappa', 'auc', 'fmeasure', 'loss']\n",
      "Training Loss  1.2576411388538502\n"
     ]
    },
    {
     "name": "stderr",
     "output_type": "stream",
     "text": [
      "\n"
     ]
    },
    {
     "name": "stdout",
     "output_type": "stream",
     "text": [
      "Train -  [0.46334876543209874, 0.28446502057613166, 0.7112468961159376, 0.46334876543209874, tensor(1.2580)]\n",
      "Validation -  [0.4270833333333333, 0.23611111111111116, 0.6820922163161104, 0.4270833333333333, tensor(1.2851)]\n",
      "\n",
      "Epoch  337\n"
     ]
    },
    {
     "name": "stderr",
     "output_type": "stream",
     "text": [
      "81it [00:02, 37.96it/s]"
     ]
    },
    {
     "name": "stdout",
     "output_type": "stream",
     "text": [
      "['acc', 'kappa', 'auc', 'fmeasure', 'loss']\n",
      "Training Loss  1.2588079726254497\n"
     ]
    },
    {
     "name": "stderr",
     "output_type": "stream",
     "text": [
      "\n"
     ]
    },
    {
     "name": "stdout",
     "output_type": "stream",
     "text": [
      "Train -  [0.4664351851851852, 0.2885802469135802, 0.7124949988568816, 0.4664351851851852, tensor(1.2563)]\n",
      "Validation -  [0.4340277777777778, 0.24537037037037035, 0.6839075121932633, 0.4340277777777778, tensor(1.2822)]\n",
      "\n",
      "Epoch  338\n"
     ]
    },
    {
     "name": "stderr",
     "output_type": "stream",
     "text": [
      "81it [00:02, 39.72it/s]"
     ]
    },
    {
     "name": "stdout",
     "output_type": "stream",
     "text": [
      "['acc', 'kappa', 'auc', 'fmeasure', 'loss']\n",
      "Training Loss  1.25919794741972\n"
     ]
    },
    {
     "name": "stderr",
     "output_type": "stream",
     "text": [
      "\n"
     ]
    },
    {
     "name": "stdout",
     "output_type": "stream",
     "text": [
      "Train -  [0.45524691358024694, 0.27366255144032925, 0.7076738571991059, 0.45524691358024694, tensor(1.2631)]\n",
      "Validation -  [0.41242283950617287, 0.21656378600823045, 0.6773579992887263, 0.41242283950617287, tensor(1.2918)]\n",
      "\n",
      "Epoch  339\n"
     ]
    },
    {
     "name": "stderr",
     "output_type": "stream",
     "text": [
      "81it [00:02, 37.82it/s]"
     ]
    },
    {
     "name": "stdout",
     "output_type": "stream",
     "text": [
      "['acc', 'kappa', 'auc', 'fmeasure', 'loss']\n",
      "Training Loss  1.260674915195983\n"
     ]
    },
    {
     "name": "stderr",
     "output_type": "stream",
     "text": [
      "\n"
     ]
    },
    {
     "name": "stdout",
     "output_type": "stream",
     "text": [
      "Train -  [0.4567901234567901, 0.27572016460905346, 0.7118559639028603, 0.4567901234567901, tensor(1.2597)]\n",
      "Validation -  [0.435570987654321, 0.24742798353909468, 0.684958546080374, 0.435570987654321, tensor(1.2824)]\n",
      "\n",
      "Epoch  340\n"
     ]
    },
    {
     "name": "stderr",
     "output_type": "stream",
     "text": [
      "81it [00:02, 39.22it/s]"
     ]
    },
    {
     "name": "stdout",
     "output_type": "stream",
     "text": [
      "['acc', 'kappa', 'auc', 'fmeasure', 'loss']\n",
      "Training Loss  1.261222540596385\n"
     ]
    },
    {
     "name": "stderr",
     "output_type": "stream",
     "text": [
      "\n"
     ]
    },
    {
     "name": "stdout",
     "output_type": "stream",
     "text": [
      "Train -  [0.46257716049382713, 0.28343621399176955, 0.7102629410531931, 0.46257716049382713, tensor(1.2594)]\n",
      "Validation -  [0.42978395061728397, 0.2397119341563786, 0.6818096120383071, 0.42978395061728397, tensor(1.2856)]\n",
      "\n",
      "Epoch  341\n"
     ]
    },
    {
     "name": "stderr",
     "output_type": "stream",
     "text": [
      "81it [00:02, 38.62it/s]"
     ]
    },
    {
     "name": "stdout",
     "output_type": "stream",
     "text": [
      "['acc', 'kappa', 'auc', 'fmeasure', 'loss']\n",
      "Training Loss  1.2585460992506992\n"
     ]
    },
    {
     "name": "stderr",
     "output_type": "stream",
     "text": [
      "\n"
     ]
    },
    {
     "name": "stdout",
     "output_type": "stream",
     "text": [
      "Train -  [0.46103395061728397, 0.2813786008230452, 0.7117904727429762, 0.46103395061728397, tensor(1.2564)]\n",
      "Validation -  [0.43132716049382713, 0.24176954732510292, 0.6830321136894781, 0.43132716049382713, tensor(1.2825)]\n",
      "\n",
      "Epoch  342\n"
     ]
    },
    {
     "name": "stderr",
     "output_type": "stream",
     "text": [
      "81it [00:02, 39.15it/s]"
     ]
    },
    {
     "name": "stdout",
     "output_type": "stream",
     "text": [
      "['acc', 'kappa', 'auc', 'fmeasure', 'loss']\n",
      "Training Loss  1.2593886145838984\n"
     ]
    },
    {
     "name": "stderr",
     "output_type": "stream",
     "text": [
      "\n"
     ]
    },
    {
     "name": "stdout",
     "output_type": "stream",
     "text": [
      "Train -  [0.4679783950617284, 0.2906378600823045, 0.7115373394871208, 0.4679783950617284, tensor(1.2550)]\n",
      "Validation -  [0.4340277777777778, 0.24537037037037035, 0.6820130315500686, 0.4340277777777778, tensor(1.2828)]\n",
      "\n",
      "Epoch  343\n"
     ]
    },
    {
     "name": "stderr",
     "output_type": "stream",
     "text": [
      "81it [00:02, 40.48it/s]"
     ]
    },
    {
     "name": "stdout",
     "output_type": "stream",
     "text": [
      "['acc', 'kappa', 'auc', 'fmeasure', 'loss']\n",
      "Training Loss  1.2566821531013206\n"
     ]
    },
    {
     "name": "stderr",
     "output_type": "stream",
     "text": [
      "\n"
     ]
    },
    {
     "name": "stdout",
     "output_type": "stream",
     "text": [
      "Train -  [0.4567901234567901, 0.27572016460905346, 0.7126817478915816, 0.4567901234567901, tensor(1.2575)]\n",
      "Validation -  [0.4332561728395062, 0.24434156378600824, 0.6847305177691408, 0.4332561728395062, tensor(1.2821)]\n",
      "\n",
      "Epoch  344\n"
     ]
    },
    {
     "name": "stderr",
     "output_type": "stream",
     "text": [
      "81it [00:01, 41.14it/s]"
     ]
    },
    {
     "name": "stdout",
     "output_type": "stream",
     "text": [
      "['acc', 'kappa', 'auc', 'fmeasure', 'loss']\n",
      "Training Loss  1.257890717482861\n"
     ]
    },
    {
     "name": "stderr",
     "output_type": "stream",
     "text": [
      "\n"
     ]
    },
    {
     "name": "stdout",
     "output_type": "stream",
     "text": [
      "Train -  [0.4564043209876543, 0.27520576131687247, 0.7106453697353047, 0.4564043209876543, tensor(1.2596)]\n",
      "Validation -  [0.41898148148148145, 0.22530864197530864, 0.6808010481760911, 0.41898148148148145, tensor(1.2864)]\n",
      "\n",
      "Epoch  345\n"
     ]
    },
    {
     "name": "stderr",
     "output_type": "stream",
     "text": [
      "81it [00:01, 41.85it/s]"
     ]
    },
    {
     "name": "stdout",
     "output_type": "stream",
     "text": [
      "['acc', 'kappa', 'auc', 'fmeasure', 'loss']\n",
      "Training Loss  1.2575610478719075\n"
     ]
    },
    {
     "name": "stderr",
     "output_type": "stream",
     "text": [
      "\n"
     ]
    },
    {
     "name": "stdout",
     "output_type": "stream",
     "text": [
      "Train -  [0.4637345679012346, 0.28497942386831276, 0.7128347590560382, 0.4637345679012346, tensor(1.2577)]\n",
      "Validation -  [0.42746913580246915, 0.23662551440329216, 0.6846459746354723, 0.42746913580246915, tensor(1.2825)]\n",
      "\n",
      "Epoch  346\n"
     ]
    },
    {
     "name": "stderr",
     "output_type": "stream",
     "text": [
      "81it [00:01, 40.99it/s]"
     ]
    },
    {
     "name": "stdout",
     "output_type": "stream",
     "text": [
      "['acc', 'kappa', 'auc', 'fmeasure', 'loss']\n",
      "Training Loss  1.2608107151808563\n"
     ]
    },
    {
     "name": "stderr",
     "output_type": "stream",
     "text": [
      "\n"
     ]
    },
    {
     "name": "stdout",
     "output_type": "stream",
     "text": [
      "Train -  [0.46257716049382713, 0.28343621399176955, 0.7129066008738505, 0.46257716049382713, tensor(1.2559)]\n",
      "Validation -  [0.4378858024691358, 0.2505144032921811, 0.6845297774411929, 0.4378858024691358, tensor(1.2812)]\n",
      "\n",
      "Epoch  347\n"
     ]
    },
    {
     "name": "stderr",
     "output_type": "stream",
     "text": [
      "81it [00:01, 42.76it/s]"
     ]
    },
    {
     "name": "stdout",
     "output_type": "stream",
     "text": [
      "['acc', 'kappa', 'auc', 'fmeasure', 'loss']\n",
      "Training Loss  1.260212923273628\n"
     ]
    },
    {
     "name": "stderr",
     "output_type": "stream",
     "text": [
      "\n"
     ]
    },
    {
     "name": "stdout",
     "output_type": "stream",
     "text": [
      "Train -  [0.46334876543209874, 0.28446502057613166, 0.7121814351216785, 0.46334876543209874, tensor(1.2550)]\n",
      "Validation -  [0.4378858024691358, 0.2505144032921811, 0.6829609664748768, 0.4378858024691358, tensor(1.2818)]\n",
      "\n",
      "Epoch  348\n"
     ]
    },
    {
     "name": "stderr",
     "output_type": "stream",
     "text": [
      "81it [00:01, 42.02it/s]"
     ]
    },
    {
     "name": "stdout",
     "output_type": "stream",
     "text": [
      "['acc', 'kappa', 'auc', 'fmeasure', 'loss']\n",
      "Training Loss  1.2564419669869504\n"
     ]
    },
    {
     "name": "stderr",
     "output_type": "stream",
     "text": [
      "\n"
     ]
    },
    {
     "name": "stdout",
     "output_type": "stream",
     "text": [
      "Train -  [0.46412037037037035, 0.2854938271604939, 0.7128379343850022, 0.46412037037037035, tensor(1.2594)]\n",
      "Validation -  [0.42939814814814814, 0.23919753086419748, 0.6841631261748717, 0.42939814814814814, tensor(1.2845)]\n",
      "\n",
      "Epoch  349\n"
     ]
    },
    {
     "name": "stderr",
     "output_type": "stream",
     "text": [
      "81it [00:01, 41.22it/s]"
     ]
    },
    {
     "name": "stdout",
     "output_type": "stream",
     "text": [
      "['acc', 'kappa', 'auc', 'fmeasure', 'loss']\n",
      "Training Loss  1.2578317515644026\n"
     ]
    },
    {
     "name": "stderr",
     "output_type": "stream",
     "text": [
      "\n"
     ]
    },
    {
     "name": "stdout",
     "output_type": "stream",
     "text": [
      "Train -  [0.4556327160493827, 0.27417695473251025, 0.7117450258471778, 0.4556327160493827, tensor(1.2604)]\n",
      "Validation -  [0.44058641975308643, 0.25411522633744854, 0.6842822010110247, 0.44058641975308643, tensor(1.2831)]\n",
      "\n",
      "Epoch  350\n"
     ]
    },
    {
     "name": "stderr",
     "output_type": "stream",
     "text": [
      "81it [00:02, 40.33it/s]"
     ]
    },
    {
     "name": "stdout",
     "output_type": "stream",
     "text": [
      "['acc', 'kappa', 'auc', 'fmeasure', 'loss']\n",
      "Training Loss  1.2591603067186143\n"
     ]
    },
    {
     "name": "stderr",
     "output_type": "stream",
     "text": [
      "\n"
     ]
    },
    {
     "name": "stdout",
     "output_type": "stream",
     "text": [
      "Train -  [0.4618055555555556, 0.28240740740740744, 0.7108243789056546, 0.4618055555555556, tensor(1.2593)]\n",
      "Validation -  [0.42901234567901236, 0.23868312757201648, 0.6828381209355789, 0.42901234567901236, tensor(1.2843)]\n",
      "\n",
      "Epoch  351\n"
     ]
    },
    {
     "name": "stderr",
     "output_type": "stream",
     "text": [
      "81it [00:01, 40.97it/s]"
     ]
    },
    {
     "name": "stdout",
     "output_type": "stream",
     "text": [
      "['acc', 'kappa', 'auc', 'fmeasure', 'loss']\n",
      "Training Loss  1.2577736186392514\n"
     ]
    },
    {
     "name": "stderr",
     "output_type": "stream",
     "text": [
      "\n"
     ]
    },
    {
     "name": "stdout",
     "output_type": "stream",
     "text": [
      "Train -  [0.4506172839506173, 0.2674897119341564, 0.7109703448089723, 0.4506172839506173, tensor(1.2628)]\n",
      "Validation -  [0.43016975308641975, 0.2402263374485597, 0.6842226635929483, 0.43016975308641975, tensor(1.2848)]\n",
      "\n",
      "Epoch  352\n"
     ]
    },
    {
     "name": "stderr",
     "output_type": "stream",
     "text": [
      "81it [00:02, 36.81it/s]"
     ]
    },
    {
     "name": "stdout",
     "output_type": "stream",
     "text": [
      "['acc', 'kappa', 'auc', 'fmeasure', 'loss']\n",
      "Training Loss  1.2595671474197765\n"
     ]
    },
    {
     "name": "stderr",
     "output_type": "stream",
     "text": [
      "\n"
     ]
    },
    {
     "name": "stdout",
     "output_type": "stream",
     "text": [
      "Train -  [0.4652777777777778, 0.2870370370370371, 0.709668360704669, 0.4652777777777778, tensor(1.2577)]\n",
      "Validation -  [0.4228395061728395, 0.2304526748971193, 0.6795588991769547, 0.4228395061728395, tensor(1.2867)]\n",
      "\n",
      "Epoch  353\n"
     ]
    },
    {
     "name": "stderr",
     "output_type": "stream",
     "text": [
      "81it [00:02, 39.90it/s]"
     ]
    },
    {
     "name": "stdout",
     "output_type": "stream",
     "text": [
      "['acc', 'kappa', 'auc', 'fmeasure', 'loss']\n",
      "Training Loss  1.2615787703313945\n"
     ]
    },
    {
     "name": "stderr",
     "output_type": "stream",
     "text": [
      "\n"
     ]
    },
    {
     "name": "stdout",
     "output_type": "stream",
     "text": [
      "Train -  [0.45601851851851855, 0.27469135802469136, 0.711532675722705, 0.45601851851851855, tensor(1.2617)]\n",
      "Validation -  [0.4340277777777778, 0.24537037037037035, 0.6845557754470863, 0.4340277777777778, tensor(1.2844)]\n",
      "\n",
      "Epoch  354\n"
     ]
    },
    {
     "name": "stderr",
     "output_type": "stream",
     "text": [
      "81it [00:01, 40.97it/s]"
     ]
    },
    {
     "name": "stdout",
     "output_type": "stream",
     "text": [
      "['acc', 'kappa', 'auc', 'fmeasure', 'loss']\n",
      "Training Loss  1.2615079747305975\n"
     ]
    },
    {
     "name": "stderr",
     "output_type": "stream",
     "text": [
      "\n"
     ]
    },
    {
     "name": "stdout",
     "output_type": "stream",
     "text": [
      "Train -  [0.46566358024691357, 0.2875514403292181, 0.708709609815577, 0.46566358024691357, tensor(1.2606)]\n",
      "Validation -  [0.43364197530864196, 0.24485596707818935, 0.6802441748590153, 0.43364197530864196, tensor(1.2876)]\n",
      "\n",
      "Epoch  355\n"
     ]
    },
    {
     "name": "stderr",
     "output_type": "stream",
     "text": [
      "81it [00:01, 40.86it/s]"
     ]
    },
    {
     "name": "stdout",
     "output_type": "stream",
     "text": [
      "['acc', 'kappa', 'auc', 'fmeasure', 'loss']\n",
      "Training Loss  1.2566782692332326\n"
     ]
    },
    {
     "name": "stderr",
     "output_type": "stream",
     "text": [
      "\n"
     ]
    },
    {
     "name": "stdout",
     "output_type": "stream",
     "text": [
      "Train -  [0.45717592592592593, 0.2762345679012346, 0.7087023660963776, 0.45717592592592593, tensor(1.2628)]\n",
      "Validation -  [0.42052469135802467, 0.22736625514403297, 0.6797240162830869, 0.42052469135802467, tensor(1.2911)]\n",
      "\n",
      "Epoch  356\n"
     ]
    },
    {
     "name": "stderr",
     "output_type": "stream",
     "text": [
      "81it [00:02, 38.71it/s]"
     ]
    },
    {
     "name": "stdout",
     "output_type": "stream",
     "text": [
      "['acc', 'kappa', 'auc', 'fmeasure', 'loss']\n",
      "Training Loss  1.2572806764532019\n"
     ]
    },
    {
     "name": "stderr",
     "output_type": "stream",
     "text": [
      "\n"
     ]
    },
    {
     "name": "stdout",
     "output_type": "stream",
     "text": [
      "Train -  [0.4699074074074074, 0.29320987654320985, 0.7129899532591576, 0.4699074074074074, tensor(1.2590)]\n",
      "Validation -  [0.4332561728395062, 0.24434156378600824, 0.683301222819184, 0.4332561728395062, tensor(1.2856)]\n",
      "\n",
      "Epoch  357\n"
     ]
    },
    {
     "name": "stderr",
     "output_type": "stream",
     "text": [
      "81it [00:02, 39.39it/s]"
     ]
    },
    {
     "name": "stdout",
     "output_type": "stream",
     "text": [
      "['acc', 'kappa', 'auc', 'fmeasure', 'loss']\n",
      "Training Loss  1.259241603038929\n"
     ]
    },
    {
     "name": "stderr",
     "output_type": "stream",
     "text": [
      "\n"
     ]
    },
    {
     "name": "stdout",
     "output_type": "stream",
     "text": [
      "Train -  [0.4672067901234568, 0.2896090534979424, 0.712962962962963, 0.4672067901234568, tensor(1.2568)]\n",
      "Validation -  [0.435570987654321, 0.24742798353909468, 0.684038097596911, 0.435570987654321, tensor(1.2831)]\n",
      "\n",
      "Epoch  358\n"
     ]
    },
    {
     "name": "stderr",
     "output_type": "stream",
     "text": [
      "81it [00:01, 41.25it/s]"
     ]
    },
    {
     "name": "stdout",
     "output_type": "stream",
     "text": [
      "['acc', 'kappa', 'auc', 'fmeasure', 'loss']\n",
      "Training Loss  1.2573351948349565\n"
     ]
    },
    {
     "name": "stderr",
     "output_type": "stream",
     "text": [
      "\n"
     ]
    },
    {
     "name": "stdout",
     "output_type": "stream",
     "text": [
      "Train -  [0.46296296296296297, 0.28395061728395066, 0.7134121727823503, 0.46296296296296297, tensor(1.2553)]\n",
      "Validation -  [0.4371141975308642, 0.2494855967078189, 0.6850383262205963, 0.4371141975308642, tensor(1.2809)]\n",
      "\n",
      "Epoch  359\n"
     ]
    },
    {
     "name": "stderr",
     "output_type": "stream",
     "text": [
      "81it [00:01, 42.53it/s]"
     ]
    },
    {
     "name": "stdout",
     "output_type": "stream",
     "text": [
      "['acc', 'kappa', 'auc', 'fmeasure', 'loss']\n",
      "Training Loss  1.2616549435956979\n"
     ]
    },
    {
     "name": "stderr",
     "output_type": "stream",
     "text": [
      "\n"
     ]
    },
    {
     "name": "stdout",
     "output_type": "stream",
     "text": [
      "Train -  [0.46489197530864196, 0.286522633744856, 0.7118734282121628, 0.46489197530864196, tensor(1.2560)]\n",
      "Validation -  [0.4359567901234568, 0.24794238683127567, 0.6835318310852004, 0.4359567901234568, tensor(1.2820)]\n",
      "\n",
      "Epoch  360\n"
     ]
    },
    {
     "name": "stderr",
     "output_type": "stream",
     "text": [
      "81it [00:01, 41.64it/s]"
     ]
    },
    {
     "name": "stdout",
     "output_type": "stream",
     "text": [
      "['acc', 'kappa', 'auc', 'fmeasure', 'loss']\n",
      "Training Loss  1.2590046635380499\n"
     ]
    },
    {
     "name": "stderr",
     "output_type": "stream",
     "text": [
      "\n"
     ]
    },
    {
     "name": "stdout",
     "output_type": "stream",
     "text": [
      "Train -  [0.4702932098765432, 0.29372427983539096, 0.7117412551440329, 0.4702932098765432, tensor(1.2547)]\n",
      "Validation -  [0.435570987654321, 0.24742798353909468, 0.6822565395900015, 0.435570987654321, tensor(1.2824)]\n",
      "\n",
      "Epoch  361\n"
     ]
    },
    {
     "name": "stderr",
     "output_type": "stream",
     "text": [
      "81it [00:02, 40.27it/s]"
     ]
    },
    {
     "name": "stdout",
     "output_type": "stream",
     "text": [
      "['acc', 'kappa', 'auc', 'fmeasure', 'loss']\n",
      "Training Loss  1.2579297519024508\n"
     ]
    },
    {
     "name": "stderr",
     "output_type": "stream",
     "text": [
      "\n"
     ]
    },
    {
     "name": "stdout",
     "output_type": "stream",
     "text": [
      "Train -  [0.4652777777777778, 0.2870370370370371, 0.713625217510034, 0.4652777777777778, tensor(1.2559)]\n",
      "Validation -  [0.4386574074074074, 0.2515432098765432, 0.6855313952713, 0.4386574074074074, tensor(1.2809)]\n",
      "\n",
      "Epoch  362\n"
     ]
    },
    {
     "name": "stderr",
     "output_type": "stream",
     "text": [
      "81it [00:01, 42.29it/s]"
     ]
    },
    {
     "name": "stdout",
     "output_type": "stream",
     "text": [
      "['acc', 'kappa', 'auc', 'fmeasure', 'loss']\n",
      "Training Loss  1.2580943593272456\n"
     ]
    },
    {
     "name": "stderr",
     "output_type": "stream",
     "text": [
      "\n"
     ]
    },
    {
     "name": "stdout",
     "output_type": "stream",
     "text": [
      "Train -  [0.46296296296296297, 0.28395061728395066, 0.7132485441116699, 0.46296296296296297, tensor(1.2579)]\n",
      "Validation -  [0.4243827160493827, 0.23251028806584362, 0.6848505848955951, 0.4243827160493827, tensor(1.2831)]\n",
      "\n",
      "Epoch  363\n"
     ]
    },
    {
     "name": "stderr",
     "output_type": "stream",
     "text": [
      "81it [00:01, 41.49it/s]"
     ]
    },
    {
     "name": "stdout",
     "output_type": "stream",
     "text": [
      "['acc', 'kappa', 'auc', 'fmeasure', 'loss']\n",
      "Training Loss  1.2585375559182814\n"
     ]
    },
    {
     "name": "stderr",
     "output_type": "stream",
     "text": [
      "\n"
     ]
    },
    {
     "name": "stdout",
     "output_type": "stream",
     "text": [
      "Train -  [0.46489197530864196, 0.286522633744856, 0.7130395677742214, 0.46489197530864196, tensor(1.2599)]\n",
      "Validation -  [0.43016975308641975, 0.2402263374485597, 0.6843707133058985, 0.43016975308641975, tensor(1.2854)]\n",
      "\n",
      "Epoch  364\n"
     ]
    },
    {
     "name": "stderr",
     "output_type": "stream",
     "text": [
      "81it [00:02, 40.09it/s]"
     ]
    },
    {
     "name": "stdout",
     "output_type": "stream",
     "text": [
      "['acc', 'kappa', 'auc', 'fmeasure', 'loss']\n",
      "Training Loss  1.2597256383778137\n"
     ]
    },
    {
     "name": "stderr",
     "output_type": "stream",
     "text": [
      "\n"
     ]
    },
    {
     "name": "stdout",
     "output_type": "stream",
     "text": [
      "Train -  [0.4618055555555556, 0.28240740740740744, 0.7116778477937814, 0.4618055555555556, tensor(1.2604)]\n",
      "Validation -  [0.42862654320987653, 0.23816872427983538, 0.6834353804679165, 0.42862654320987653, tensor(1.2848)]\n",
      "\n",
      "Epoch  365\n"
     ]
    },
    {
     "name": "stderr",
     "output_type": "stream",
     "text": [
      "81it [00:01, 42.79it/s]"
     ]
    },
    {
     "name": "stdout",
     "output_type": "stream",
     "text": [
      "['acc', 'kappa', 'auc', 'fmeasure', 'loss']\n",
      "Training Loss  1.2549684268456918\n"
     ]
    },
    {
     "name": "stderr",
     "output_type": "stream",
     "text": [
      "\n"
     ]
    },
    {
     "name": "stdout",
     "output_type": "stream",
     "text": [
      "Train -  [0.4645061728395062, 0.28600823045267487, 0.7123354385764366, 0.4645061728395062, tensor(1.2554)]\n",
      "Validation -  [0.43132716049382713, 0.24176954732510292, 0.6836693625209572, 0.43132716049382713, tensor(1.2819)]\n",
      "\n",
      "Epoch  366\n"
     ]
    },
    {
     "name": "stderr",
     "output_type": "stream",
     "text": [
      "81it [00:01, 40.86it/s]"
     ]
    },
    {
     "name": "stdout",
     "output_type": "stream",
     "text": [
      "['acc', 'kappa', 'auc', 'fmeasure', 'loss']\n",
      "Training Loss  1.25832665996787\n"
     ]
    },
    {
     "name": "stderr",
     "output_type": "stream",
     "text": [
      "\n"
     ]
    },
    {
     "name": "stdout",
     "output_type": "stream",
     "text": [
      "Train -  [0.46219135802469136, 0.28292181069958844, 0.7124474681514505, 0.46219135802469136, tensor(1.2574)]\n",
      "Validation -  [0.4243827160493827, 0.23251028806584362, 0.682320641543464, 0.4243827160493827, tensor(1.2854)]\n",
      "\n",
      "Epoch  367\n"
     ]
    },
    {
     "name": "stderr",
     "output_type": "stream",
     "text": [
      "81it [00:02, 37.33it/s]\n"
     ]
    },
    {
     "name": "stdout",
     "output_type": "stream",
     "text": [
      "['acc', 'kappa', 'auc', 'fmeasure', 'loss']\n",
      "Training Loss  1.2573871627266024\n",
      "Train -  [0.4683641975308642, 0.29115226337448563, 0.7107366604430219, 0.4683641975308643, tensor(1.2577)]\n",
      "Validation -  [0.43441358024691357, 0.24588477366255146, 0.6819952695536757, 0.43441358024691357, tensor(1.2849)]\n",
      "\n",
      "Epoch  368\n"
     ]
    },
    {
     "name": "stderr",
     "output_type": "stream",
     "text": [
      "81it [00:02, 39.05it/s]"
     ]
    },
    {
     "name": "stdout",
     "output_type": "stream",
     "text": [
      "['acc', 'kappa', 'auc', 'fmeasure', 'loss']\n",
      "Training Loss  1.2588082022137113\n"
     ]
    },
    {
     "name": "stderr",
     "output_type": "stream",
     "text": [
      "\n"
     ]
    },
    {
     "name": "stdout",
     "output_type": "stream",
     "text": [
      "Train -  [0.4645061728395062, 0.28600823045267487, 0.7129464909439618, 0.4645061728395062, tensor(1.2539)]\n",
      "Validation -  [0.4305555555555556, 0.2407407407407407, 0.6834812242798354, 0.4305555555555556, tensor(1.2816)]\n",
      "\n",
      "Epoch  369\n"
     ]
    },
    {
     "name": "stderr",
     "output_type": "stream",
     "text": [
      "81it [00:02, 37.63it/s]"
     ]
    },
    {
     "name": "stdout",
     "output_type": "stream",
     "text": [
      "['acc', 'kappa', 'auc', 'fmeasure', 'loss']\n",
      "Training Loss  1.257949235998554\n"
     ]
    },
    {
     "name": "stderr",
     "output_type": "stream",
     "text": [
      "\n"
     ]
    },
    {
     "name": "stdout",
     "output_type": "stream",
     "text": [
      "Train -  [0.4637345679012346, 0.28497942386831276, 0.7134914567774221, 0.4637345679012346, tensor(1.2542)]\n",
      "Validation -  [0.4359567901234568, 0.24794238683127567, 0.6853139844662908, 0.4359567901234568, tensor(1.2803)]\n",
      "\n",
      "Epoch  370\n"
     ]
    },
    {
     "name": "stderr",
     "output_type": "stream",
     "text": [
      "81it [00:02, 39.40it/s]"
     ]
    },
    {
     "name": "stdout",
     "output_type": "stream",
     "text": [
      "['acc', 'kappa', 'auc', 'fmeasure', 'loss']\n",
      "Training Loss  1.2583459556838612\n"
     ]
    },
    {
     "name": "stderr",
     "output_type": "stream",
     "text": [
      "\n"
     ]
    },
    {
     "name": "stdout",
     "output_type": "stream",
     "text": [
      "Train -  [0.46141975308641975, 0.28189300411522633, 0.7135136840801707, 0.46141975308641975, tensor(1.2561)]\n",
      "Validation -  [0.4402006172839506, 0.25360082304526754, 0.6859121370598995, 0.44020061728395055, tensor(1.2804)]\n",
      "\n",
      "Epoch  371\n"
     ]
    },
    {
     "name": "stderr",
     "output_type": "stream",
     "text": [
      "81it [00:02, 40.39it/s]"
     ]
    },
    {
     "name": "stdout",
     "output_type": "stream",
     "text": [
      "['acc', 'kappa', 'auc', 'fmeasure', 'loss']\n",
      "Training Loss  1.2582120645193406\n"
     ]
    },
    {
     "name": "stderr",
     "output_type": "stream",
     "text": [
      "\n"
     ]
    },
    {
     "name": "stdout",
     "output_type": "stream",
     "text": [
      "Train -  [0.46219135802469136, 0.28292181069958844, 0.7134628788167454, 0.46219135802469136, tensor(1.2546)]\n",
      "Validation -  [0.4324845679012346, 0.24331275720164613, 0.6848928564624295, 0.4324845679012346, tensor(1.2809)]\n",
      "\n",
      "Epoch  372\n"
     ]
    },
    {
     "name": "stderr",
     "output_type": "stream",
     "text": [
      "81it [00:02, 38.62it/s]"
     ]
    },
    {
     "name": "stdout",
     "output_type": "stream",
     "text": [
      "['acc', 'kappa', 'auc', 'fmeasure', 'loss']\n",
      "Training Loss  1.2559743604542297\n"
     ]
    },
    {
     "name": "stderr",
     "output_type": "stream",
     "text": [
      "\n"
     ]
    },
    {
     "name": "stdout",
     "output_type": "stream",
     "text": [
      "Train -  [0.46875, 0.29166666666666663, 0.7138025397868718, 0.46875, tensor(1.2545)]\n",
      "Validation -  [0.42939814814814814, 0.23919753086419748, 0.6845699651983945, 0.42939814814814814, tensor(1.2817)]\n",
      "\n",
      "Epoch  373\n"
     ]
    },
    {
     "name": "stderr",
     "output_type": "stream",
     "text": [
      "81it [00:02, 39.49it/s]"
     ]
    },
    {
     "name": "stdout",
     "output_type": "stream",
     "text": [
      "['acc', 'kappa', 'auc', 'fmeasure', 'loss']\n",
      "Training Loss  1.2586991316006508\n"
     ]
    },
    {
     "name": "stderr",
     "output_type": "stream",
     "text": [
      "\n"
     ]
    },
    {
     "name": "stdout",
     "output_type": "stream",
     "text": [
      "Train -  [0.46296296296296297, 0.28395061728395066, 0.7131903959000153, 0.46296296296296297, tensor(1.2554)]\n",
      "Validation -  [0.43171296296296297, 0.24228395061728392, 0.6844194347596911, 0.43171296296296297, tensor(1.2816)]\n",
      "\n",
      "Epoch  374\n"
     ]
    },
    {
     "name": "stderr",
     "output_type": "stream",
     "text": [
      "81it [00:01, 42.12it/s]"
     ]
    },
    {
     "name": "stdout",
     "output_type": "stream",
     "text": [
      "['acc', 'kappa', 'auc', 'fmeasure', 'loss']\n",
      "Training Loss  1.2570155476346427\n"
     ]
    },
    {
     "name": "stderr",
     "output_type": "stream",
     "text": [
      "\n"
     ]
    },
    {
     "name": "stdout",
     "output_type": "stream",
     "text": [
      "Train -  [0.46875, 0.29166666666666663, 0.7112260580196109, 0.46875, tensor(1.2551)]\n",
      "Validation -  [0.4363425925925926, 0.24845679012345678, 0.6814093221307727, 0.4363425925925926, tensor(1.2840)]\n",
      "\n",
      "Epoch  375\n"
     ]
    },
    {
     "name": "stderr",
     "output_type": "stream",
     "text": [
      "81it [00:02, 38.96it/s]"
     ]
    },
    {
     "name": "stdout",
     "output_type": "stream",
     "text": [
      "['acc', 'kappa', 'auc', 'fmeasure', 'loss']\n",
      "Training Loss  1.2586471107270982\n"
     ]
    },
    {
     "name": "stderr",
     "output_type": "stream",
     "text": [
      "\n"
     ]
    },
    {
     "name": "stdout",
     "output_type": "stream",
     "text": [
      "Train -  [0.46875, 0.29166666666666663, 0.7114481325890363, 0.46875, tensor(1.2555)]\n",
      "Validation -  [0.42592592592592593, 0.23456790123456794, 0.6812448003988213, 0.42592592592592593, tensor(1.2847)]\n",
      "\n",
      "Epoch  376\n"
     ]
    },
    {
     "name": "stderr",
     "output_type": "stream",
     "text": [
      "81it [00:02, 40.24it/s]"
     ]
    },
    {
     "name": "stdout",
     "output_type": "stream",
     "text": [
      "['acc', 'kappa', 'auc', 'fmeasure', 'loss']\n",
      "Training Loss  1.2566023329157887\n"
     ]
    },
    {
     "name": "stderr",
     "output_type": "stream",
     "text": [
      "\n"
     ]
    },
    {
     "name": "stdout",
     "output_type": "stream",
     "text": [
      "Train -  [0.4637345679012346, 0.28497942386831276, 0.7142920365924911, 0.4637345679012346, tensor(1.2550)]\n",
      "Validation -  [0.4363425925925926, 0.24845679012345678, 0.6862260977112229, 0.4363425925925926, tensor(1.2803)]\n",
      "\n",
      "Epoch  377\n"
     ]
    },
    {
     "name": "stderr",
     "output_type": "stream",
     "text": [
      "81it [00:02, 37.76it/s]"
     ]
    },
    {
     "name": "stdout",
     "output_type": "stream",
     "text": [
      "['acc', 'kappa', 'auc', 'fmeasure', 'loss']\n",
      "Training Loss  1.2584515824730014\n"
     ]
    },
    {
     "name": "stderr",
     "output_type": "stream",
     "text": [
      "\n"
     ]
    },
    {
     "name": "stdout",
     "output_type": "stream",
     "text": [
      "Train -  [0.45871913580246915, 0.2782921810699589, 0.7117829313366865, 0.45871913580246915, tensor(1.2592)]\n",
      "Validation -  [0.43287037037037035, 0.24382716049382713, 0.6838168168597266, 0.43287037037037035, tensor(1.2847)]\n",
      "\n",
      "Epoch  378\n"
     ]
    },
    {
     "name": "stderr",
     "output_type": "stream",
     "text": [
      "81it [00:01, 41.04it/s]"
     ]
    },
    {
     "name": "stdout",
     "output_type": "stream",
     "text": [
      "['acc', 'kappa', 'auc', 'fmeasure', 'loss']\n",
      "Training Loss  1.2596495828510803\n"
     ]
    },
    {
     "name": "stderr",
     "output_type": "stream",
     "text": [
      "\n"
     ]
    },
    {
     "name": "stdout",
     "output_type": "stream",
     "text": [
      "Train -  [0.4664351851851852, 0.2885802469135802, 0.7136672906188082, 0.4664351851851852, tensor(1.2553)]\n",
      "Validation -  [0.4324845679012346, 0.24331275720164613, 0.6851192971091804, 0.4324845679012346, tensor(1.2817)]\n",
      "\n",
      "Epoch  379\n"
     ]
    },
    {
     "name": "stderr",
     "output_type": "stream",
     "text": [
      "81it [00:02, 39.75it/s]"
     ]
    },
    {
     "name": "stdout",
     "output_type": "stream",
     "text": [
      "['acc', 'kappa', 'auc', 'fmeasure', 'loss']\n",
      "Training Loss  1.2571666711642417\n"
     ]
    },
    {
     "name": "stderr",
     "output_type": "stream",
     "text": [
      "\n"
     ]
    },
    {
     "name": "stdout",
     "output_type": "stream",
     "text": [
      "Train -  [0.4548611111111111, 0.27314814814814814, 0.7112228826906467, 0.4548611111111111, tensor(1.2591)]\n",
      "Validation -  [0.42052469135802467, 0.22736625514403297, 0.680686537875324, 0.42052469135802467, tensor(1.2880)]\n",
      "\n",
      "Epoch  380\n"
     ]
    },
    {
     "name": "stderr",
     "output_type": "stream",
     "text": [
      "81it [00:02, 38.21it/s]"
     ]
    },
    {
     "name": "stdout",
     "output_type": "stream",
     "text": [
      "['acc', 'kappa', 'auc', 'fmeasure', 'loss']\n",
      "Training Loss  1.256005201810672\n"
     ]
    },
    {
     "name": "stderr",
     "output_type": "stream",
     "text": [
      "\n"
     ]
    },
    {
     "name": "stdout",
     "output_type": "stream",
     "text": [
      "Train -  [0.4675925925925926, 0.2901234567901234, 0.7139251868681095, 0.4675925925925926, tensor(1.2531)]\n",
      "Validation -  [0.4340277777777778, 0.24537037037037035, 0.6847723924198547, 0.4340277777777778, tensor(1.2806)]\n",
      "\n",
      "Epoch  381\n"
     ]
    },
    {
     "name": "stderr",
     "output_type": "stream",
     "text": [
      "81it [00:01, 40.91it/s]"
     ]
    },
    {
     "name": "stdout",
     "output_type": "stream",
     "text": [
      "['acc', 'kappa', 'auc', 'fmeasure', 'loss']\n",
      "Training Loss  1.2563018636938967\n"
     ]
    },
    {
     "name": "stderr",
     "output_type": "stream",
     "text": [
      "\n"
     ]
    },
    {
     "name": "stdout",
     "output_type": "stream",
     "text": [
      "Train -  [0.4664351851851852, 0.2885802469135802, 0.7119449723428848, 0.4664351851851852, tensor(1.2568)]\n",
      "Validation -  [0.42746913580246915, 0.23662551440329216, 0.6825314040034547, 0.42746913580246915, tensor(1.2854)]\n",
      "\n",
      "Epoch  382\n"
     ]
    },
    {
     "name": "stderr",
     "output_type": "stream",
     "text": [
      "81it [00:01, 41.03it/s]"
     ]
    },
    {
     "name": "stdout",
     "output_type": "stream",
     "text": [
      "['acc', 'kappa', 'auc', 'fmeasure', 'loss']\n",
      "Training Loss  1.2583011815577378\n"
     ]
    },
    {
     "name": "stderr",
     "output_type": "stream",
     "text": [
      "\n"
     ]
    },
    {
     "name": "stdout",
     "output_type": "stream",
     "text": [
      "Train -  [0.45949074074074076, 0.279320987654321, 0.7131048604760453, 0.4594907407407407, tensor(1.2604)]\n",
      "Validation -  [0.43132716049382713, 0.24176954732510292, 0.6854777123660011, 0.43132716049382713, tensor(1.2836)]\n",
      "\n",
      "Epoch  383\n"
     ]
    },
    {
     "name": "stderr",
     "output_type": "stream",
     "text": [
      "81it [00:01, 42.23it/s]"
     ]
    },
    {
     "name": "stdout",
     "output_type": "stream",
     "text": [
      "['acc', 'kappa', 'auc', 'fmeasure', 'loss']\n",
      "Training Loss  1.258222613805606\n"
     ]
    },
    {
     "name": "stderr",
     "output_type": "stream",
     "text": [
      "\n"
     ]
    },
    {
     "name": "stdout",
     "output_type": "stream",
     "text": [
      "Train -  [0.4672067901234568, 0.2896090534979424, 0.7133989753213432, 0.4672067901234568, tensor(1.2567)]\n",
      "Validation -  [0.43094135802469136, 0.2412551440329218, 0.6845642099146472, 0.43094135802469136, tensor(1.2837)]\n",
      "\n",
      "Epoch  384\n"
     ]
    },
    {
     "name": "stderr",
     "output_type": "stream",
     "text": [
      "81it [00:01, 42.95it/s]"
     ]
    },
    {
     "name": "stdout",
     "output_type": "stream",
     "text": [
      "['acc', 'kappa', 'auc', 'fmeasure', 'loss']\n",
      "Training Loss  1.2595493999528296\n"
     ]
    },
    {
     "name": "stderr",
     "output_type": "stream",
     "text": [
      "\n"
     ]
    },
    {
     "name": "stdout",
     "output_type": "stream",
     "text": [
      "Train -  [0.46296296296296297, 0.28395061728395066, 0.7115801071991058, 0.46296296296296297, tensor(1.2576)]\n",
      "Validation -  [0.42978395061728397, 0.2397119341563786, 0.6824762326627039, 0.42978395061728397, tensor(1.2840)]\n",
      "\n",
      "Epoch  385\n"
     ]
    },
    {
     "name": "stderr",
     "output_type": "stream",
     "text": [
      "81it [00:02, 40.06it/s]"
     ]
    },
    {
     "name": "stdout",
     "output_type": "stream",
     "text": [
      "['acc', 'kappa', 'auc', 'fmeasure', 'loss']\n",
      "Training Loss  1.2574998228638261\n"
     ]
    },
    {
     "name": "stderr",
     "output_type": "stream",
     "text": [
      "\n"
     ]
    },
    {
     "name": "stdout",
     "output_type": "stream",
     "text": [
      "Train -  [0.4498456790123457, 0.2664609053497943, 0.7109378969161205, 0.4498456790123457, tensor(1.2671)]\n",
      "Validation -  [0.42592592592592593, 0.23456790123456794, 0.6849990315246659, 0.42592592592592593, tensor(1.2870)]\n",
      "\n",
      "Epoch  386\n"
     ]
    },
    {
     "name": "stderr",
     "output_type": "stream",
     "text": [
      "81it [00:02, 38.79it/s]"
     ]
    },
    {
     "name": "stdout",
     "output_type": "stream",
     "text": [
      "['acc', 'kappa', 'auc', 'fmeasure', 'loss']\n",
      "Training Loss  1.2590873418030915\n"
     ]
    },
    {
     "name": "stderr",
     "output_type": "stream",
     "text": [
      "\n"
     ]
    },
    {
     "name": "stdout",
     "output_type": "stream",
     "text": [
      "Train -  [0.47183641975308643, 0.2957818930041153, 0.7107658337778793, 0.47183641975308643, tensor(1.2557)]\n",
      "Validation -  [0.4347993827160494, 0.24639917695473246, 0.6811179856983184, 0.4347993827160494, tensor(1.2848)]\n",
      "\n",
      "Epoch  387\n"
     ]
    },
    {
     "name": "stderr",
     "output_type": "stream",
     "text": [
      "81it [00:01, 41.59it/s]"
     ]
    },
    {
     "name": "stdout",
     "output_type": "stream",
     "text": [
      "['acc', 'kappa', 'auc', 'fmeasure', 'loss']\n",
      "Training Loss  1.2569875717163086\n"
     ]
    },
    {
     "name": "stderr",
     "output_type": "stream",
     "text": [
      "\n"
     ]
    },
    {
     "name": "stdout",
     "output_type": "stream",
     "text": [
      "Train -  [0.4702932098765432, 0.29372427983539096, 0.7122596275974192, 0.4702932098765432, tensor(1.2540)]\n",
      "Validation -  [0.4359567901234568, 0.24794238683127567, 0.6826449220139207, 0.4359567901234568, tensor(1.2825)]\n",
      "\n",
      "Epoch  388\n"
     ]
    },
    {
     "name": "stderr",
     "output_type": "stream",
     "text": [
      "81it [00:01, 44.25it/s]"
     ]
    },
    {
     "name": "stdout",
     "output_type": "stream",
     "text": [
      "['acc', 'kappa', 'auc', 'fmeasure', 'loss']\n",
      "Training Loss  1.2572824233843956\n"
     ]
    },
    {
     "name": "stderr",
     "output_type": "stream",
     "text": [
      "\n"
     ]
    },
    {
     "name": "stdout",
     "output_type": "stream",
     "text": [
      "Train -  [0.4652777777777778, 0.2870370370370371, 0.7136504216836864, 0.4652777777777778, tensor(1.2538)]\n",
      "Validation -  [0.439429012345679, 0.2525720164609053, 0.6849767049928873, 0.439429012345679, tensor(1.2805)]\n",
      "\n",
      "Epoch  389\n"
     ]
    },
    {
     "name": "stderr",
     "output_type": "stream",
     "text": [
      "81it [00:01, 40.77it/s]"
     ]
    },
    {
     "name": "stdout",
     "output_type": "stream",
     "text": [
      "['acc', 'kappa', 'auc', 'fmeasure', 'loss']\n",
      "Training Loss  1.2568697532018025\n"
     ]
    },
    {
     "name": "stderr",
     "output_type": "stream",
     "text": [
      "\n"
     ]
    },
    {
     "name": "stdout",
     "output_type": "stream",
     "text": [
      "Train -  [0.4660493827160494, 0.2880658436213992, 0.7137925176548291, 0.4660493827160494, tensor(1.2542)]\n",
      "Validation -  [0.4378858024691358, 0.2505144032921811, 0.6849948639054005, 0.4378858024691358, tensor(1.2807)]\n",
      "\n",
      "Epoch  390\n"
     ]
    },
    {
     "name": "stderr",
     "output_type": "stream",
     "text": [
      "81it [00:02, 39.41it/s]"
     ]
    },
    {
     "name": "stdout",
     "output_type": "stream",
     "text": [
      "['acc', 'kappa', 'auc', 'fmeasure', 'loss']\n",
      "Training Loss  1.2572870313385387\n"
     ]
    },
    {
     "name": "stderr",
     "output_type": "stream",
     "text": [
      "\n"
     ]
    },
    {
     "name": "stdout",
     "output_type": "stream",
     "text": [
      "Train -  [0.4645061728395062, 0.28600823045267487, 0.7149165841081135, 0.4645061728395062, tensor(1.2545)]\n",
      "Validation -  [0.4332561728395062, 0.24434156378600824, 0.6868548128461109, 0.4332561728395062, tensor(1.2802)]\n",
      "\n",
      "Epoch  391\n"
     ]
    },
    {
     "name": "stderr",
     "output_type": "stream",
     "text": [
      "81it [00:01, 41.13it/s]"
     ]
    },
    {
     "name": "stdout",
     "output_type": "stream",
     "text": [
      "['acc', 'kappa', 'auc', 'fmeasure', 'loss']\n",
      "Training Loss  1.2563555637995403\n"
     ]
    },
    {
     "name": "stderr",
     "output_type": "stream",
     "text": [
      "\n"
     ]
    },
    {
     "name": "stdout",
     "output_type": "stream",
     "text": [
      "Train -  [0.4699074074074074, 0.29320987654320985, 0.7148693510897729, 0.4699074074074074, tensor(1.2541)]\n",
      "Validation -  [0.42939814814814814, 0.23919753086419748, 0.685894672750597, 0.42939814814814814, tensor(1.2811)]\n",
      "\n",
      "Epoch  392\n"
     ]
    },
    {
     "name": "stderr",
     "output_type": "stream",
     "text": [
      "81it [00:02, 39.12it/s]"
     ]
    },
    {
     "name": "stdout",
     "output_type": "stream",
     "text": [
      "['acc', 'kappa', 'auc', 'fmeasure', 'loss']\n",
      "Training Loss  1.2569201993353574\n"
     ]
    },
    {
     "name": "stderr",
     "output_type": "stream",
     "text": [
      "\n"
     ]
    },
    {
     "name": "stdout",
     "output_type": "stream",
     "text": [
      "Train -  [0.4664351851851852, 0.2885802469135802, 0.7102115404155871, 0.4664351851851852, tensor(1.2575)]\n",
      "Validation -  [0.43441358024691357, 0.24588477366255146, 0.6811707755423462, 0.43441358024691357, tensor(1.2860)]\n",
      "\n",
      "Epoch  393\n"
     ]
    },
    {
     "name": "stderr",
     "output_type": "stream",
     "text": [
      "81it [00:02, 37.02it/s]"
     ]
    },
    {
     "name": "stdout",
     "output_type": "stream",
     "text": [
      "['acc', 'kappa', 'auc', 'fmeasure', 'loss']\n",
      "Training Loss  1.255378359629784\n"
     ]
    },
    {
     "name": "stderr",
     "output_type": "stream",
     "text": [
      "\n"
     ]
    },
    {
     "name": "stdout",
     "output_type": "stream",
     "text": [
      "Train -  [0.4683641975308642, 0.29115226337448563, 0.7151063100137174, 0.4683641975308643, tensor(1.2580)]\n",
      "Validation -  [0.42978395061728397, 0.2397119341563786, 0.6867736434994666, 0.42978395061728397, tensor(1.2831)]\n",
      "\n",
      "Epoch  394\n"
     ]
    },
    {
     "name": "stderr",
     "output_type": "stream",
     "text": [
      "81it [00:01, 40.54it/s]"
     ]
    },
    {
     "name": "stdout",
     "output_type": "stream",
     "text": [
      "['acc', 'kappa', 'auc', 'fmeasure', 'loss']\n",
      "Training Loss  1.2572208451636044\n"
     ]
    },
    {
     "name": "stderr",
     "output_type": "stream",
     "text": [
      "\n"
     ]
    },
    {
     "name": "stdout",
     "output_type": "stream",
     "text": [
      "Train -  [0.470679012345679, 0.29423868312757206, 0.713862573350099, 0.47067901234567894, tensor(1.2545)]\n",
      "Validation -  [0.43364197530864196, 0.24485596707818935, 0.6839811401336179, 0.43364197530864196, tensor(1.2834)]\n",
      "\n",
      "Epoch  395\n"
     ]
    },
    {
     "name": "stderr",
     "output_type": "stream",
     "text": [
      "81it [00:01, 41.46it/s]"
     ]
    },
    {
     "name": "stdout",
     "output_type": "stream",
     "text": [
      "['acc', 'kappa', 'auc', 'fmeasure', 'loss']\n",
      "Training Loss  1.2562590690306674\n"
     ]
    },
    {
     "name": "stderr",
     "output_type": "stream",
     "text": [
      "\n"
     ]
    },
    {
     "name": "stdout",
     "output_type": "stream",
     "text": [
      "Train -  [0.4675925925925926, 0.2901234567901234, 0.7145190726134228, 0.4675925925925926, tensor(1.2527)]\n",
      "Validation -  [0.4375, 0.25, 0.6856908563227151, 0.4375, tensor(1.2797)]\n",
      "\n",
      "Epoch  396\n"
     ]
    },
    {
     "name": "stderr",
     "output_type": "stream",
     "text": [
      "81it [00:02, 40.26it/s]"
     ]
    },
    {
     "name": "stdout",
     "output_type": "stream",
     "text": [
      "['acc', 'kappa', 'auc', 'fmeasure', 'loss']\n",
      "Training Loss  1.2566746473312378\n"
     ]
    },
    {
     "name": "stderr",
     "output_type": "stream",
     "text": [
      "\n"
     ]
    },
    {
     "name": "stdout",
     "output_type": "stream",
     "text": [
      "Train -  [0.4660493827160494, 0.2880658436213992, 0.7148713356703755, 0.4660493827160494, tensor(1.2524)]\n",
      "Validation -  [0.4340277777777778, 0.24537037037037035, 0.6862550725880201, 0.4340277777777778, tensor(1.2794)]\n",
      "\n",
      "Epoch  397\n"
     ]
    },
    {
     "name": "stderr",
     "output_type": "stream",
     "text": [
      "81it [00:02, 39.77it/s]"
     ]
    },
    {
     "name": "stdout",
     "output_type": "stream",
     "text": [
      "['acc', 'kappa', 'auc', 'fmeasure', 'loss']\n",
      "Training Loss  1.256679168453923\n"
     ]
    },
    {
     "name": "stderr",
     "output_type": "stream",
     "text": [
      "\n"
     ]
    },
    {
     "name": "stdout",
     "output_type": "stream",
     "text": [
      "Train -  [0.4691358024691358, 0.29218106995884774, 0.7153224308413352, 0.4691358024691358, tensor(1.2555)]\n",
      "Validation -  [0.43287037037037035, 0.24382716049382713, 0.6870150677297668, 0.43287037037037035, tensor(1.2813)]\n",
      "\n",
      "Epoch  398\n"
     ]
    },
    {
     "name": "stderr",
     "output_type": "stream",
     "text": [
      "81it [00:01, 41.51it/s]"
     ]
    },
    {
     "name": "stdout",
     "output_type": "stream",
     "text": [
      "['acc', 'kappa', 'auc', 'fmeasure', 'loss']\n",
      "Training Loss  1.2562358879748685\n"
     ]
    },
    {
     "name": "stderr",
     "output_type": "stream",
     "text": [
      "\n"
     ]
    },
    {
     "name": "stdout",
     "output_type": "stream",
     "text": [
      "Train -  [0.4722222222222222, 0.2962962962962963, 0.7150429026634659, 0.4722222222222222, tensor(1.2536)]\n",
      "Validation -  [0.43094135802469136, 0.2412551440329218, 0.6859265252692679, 0.43094135802469136, tensor(1.2809)]\n",
      "\n",
      "Epoch  399\n"
     ]
    },
    {
     "name": "stderr",
     "output_type": "stream",
     "text": [
      "81it [00:01, 41.20it/s]"
     ]
    },
    {
     "name": "stdout",
     "output_type": "stream",
     "text": [
      "['acc', 'kappa', 'auc', 'fmeasure', 'loss']\n",
      "Training Loss  1.2591283601007344\n"
     ]
    },
    {
     "name": "stderr",
     "output_type": "stream",
     "text": [
      "\n"
     ]
    },
    {
     "name": "stdout",
     "output_type": "stream",
     "text": [
      "Train -  [0.470679012345679, 0.29423868312757206, 0.7129917393816999, 0.47067901234567894, tensor(1.2537)]\n",
      "Validation -  [0.43287037037037035, 0.24382716049382713, 0.6832637142457959, 0.43287037037037035, tensor(1.2829)]\n",
      "\n",
      "Epoch  400\n"
     ]
    },
    {
     "name": "stderr",
     "output_type": "stream",
     "text": [
      "81it [00:02, 40.49it/s]"
     ]
    },
    {
     "name": "stdout",
     "output_type": "stream",
     "text": [
      "['acc', 'kappa', 'auc', 'fmeasure', 'loss']\n",
      "Training Loss  1.2532504767547419\n"
     ]
    },
    {
     "name": "stderr",
     "output_type": "stream",
     "text": [
      "\n"
     ]
    },
    {
     "name": "stdout",
     "output_type": "stream",
     "text": [
      "Train -  [0.47337962962962965, 0.2978395061728395, 0.7143476048493623, 0.47337962962962965, tensor(1.2521)]\n",
      "Validation -  [0.435570987654321, 0.24742798353909468, 0.6849916885764367, 0.435570987654321, tensor(1.2803)]\n",
      "\n",
      "Epoch  401\n"
     ]
    },
    {
     "name": "stderr",
     "output_type": "stream",
     "text": [
      "81it [00:02, 38.41it/s]"
     ]
    },
    {
     "name": "stdout",
     "output_type": "stream",
     "text": [
      "['acc', 'kappa', 'auc', 'fmeasure', 'loss']\n",
      "Training Loss  1.2527739780920524\n"
     ]
    },
    {
     "name": "stderr",
     "output_type": "stream",
     "text": [
      "\n"
     ]
    },
    {
     "name": "stdout",
     "output_type": "stream",
     "text": [
      "Train -  [0.4699074074074074, 0.29320987654320985, 0.7143561385459533, 0.4699074074074074, tensor(1.2521)]\n",
      "Validation -  [0.4359567901234568, 0.24794238683127567, 0.6850720640908399, 0.4359567901234568, tensor(1.2801)]\n",
      "\n",
      "Epoch  402\n"
     ]
    },
    {
     "name": "stderr",
     "output_type": "stream",
     "text": [
      "81it [00:02, 39.73it/s]"
     ]
    },
    {
     "name": "stdout",
     "output_type": "stream",
     "text": [
      "['acc', 'kappa', 'auc', 'fmeasure', 'loss']\n",
      "Training Loss  1.2527780164907008\n"
     ]
    },
    {
     "name": "stderr",
     "output_type": "stream",
     "text": [
      "\n"
     ]
    },
    {
     "name": "stdout",
     "output_type": "stream",
     "text": [
      "Train -  [0.4722222222222222, 0.2962962962962963, 0.7145717632284205, 0.4722222222222222, tensor(1.2523)]\n",
      "Validation -  [0.4340277777777778, 0.24537037037037035, 0.6852806435121679, 0.4340277777777778, tensor(1.2801)]\n",
      "\n",
      "Epoch  403\n"
     ]
    },
    {
     "name": "stderr",
     "output_type": "stream",
     "text": [
      "81it [00:01, 44.18it/s]"
     ]
    },
    {
     "name": "stdout",
     "output_type": "stream",
     "text": [
      "['acc', 'kappa', 'auc', 'fmeasure', 'loss']\n",
      "Training Loss  1.2527407245871462\n"
     ]
    },
    {
     "name": "stderr",
     "output_type": "stream",
     "text": [
      "\n"
     ]
    },
    {
     "name": "stdout",
     "output_type": "stream",
     "text": [
      "Train -  [0.4679783950617284, 0.2906378600823045, 0.714518477239242, 0.4679783950617284, tensor(1.2521)]\n",
      "Validation -  [0.4386574074074074, 0.2515432098765432, 0.6853459362139918, 0.4386574074074074, tensor(1.2799)]\n",
      "\n",
      "Epoch  404\n"
     ]
    },
    {
     "name": "stderr",
     "output_type": "stream",
     "text": [
      "81it [00:02, 39.04it/s]"
     ]
    },
    {
     "name": "stdout",
     "output_type": "stream",
     "text": [
      "['acc', 'kappa', 'auc', 'fmeasure', 'loss']\n",
      "Training Loss  1.252454963731177\n"
     ]
    },
    {
     "name": "stderr",
     "output_type": "stream",
     "text": [
      "\n"
     ]
    },
    {
     "name": "stdout",
     "output_type": "stream",
     "text": [
      "Train -  [0.470679012345679, 0.29423868312757206, 0.7147302319895341, 0.47067901234567894, tensor(1.2520)]\n",
      "Validation -  [0.4378858024691358, 0.2505144032921811, 0.6855574925062237, 0.4378858024691358, tensor(1.2797)]\n",
      "\n",
      "Epoch  405\n"
     ]
    },
    {
     "name": "stderr",
     "output_type": "stream",
     "text": [
      "81it [00:01, 42.34it/s]"
     ]
    },
    {
     "name": "stdout",
     "output_type": "stream",
     "text": [
      "['acc', 'kappa', 'auc', 'fmeasure', 'loss']\n",
      "Training Loss  1.252824514000504\n"
     ]
    },
    {
     "name": "stderr",
     "output_type": "stream",
     "text": [
      "\n"
     ]
    },
    {
     "name": "stdout",
     "output_type": "stream",
     "text": [
      "Train -  [0.4679783950617284, 0.2906378600823045, 0.7147510700858609, 0.4679783950617284, tensor(1.2520)]\n",
      "Validation -  [0.4375, 0.25, 0.6856392572270487, 0.4375, tensor(1.2797)]\n",
      "\n",
      "Epoch  406\n"
     ]
    },
    {
     "name": "stderr",
     "output_type": "stream",
     "text": [
      "81it [00:02, 38.76it/s]"
     ]
    },
    {
     "name": "stdout",
     "output_type": "stream",
     "text": [
      "['acc', 'kappa', 'auc', 'fmeasure', 'loss']\n",
      "Training Loss  1.252419849972666\n"
     ]
    },
    {
     "name": "stderr",
     "output_type": "stream",
     "text": [
      "\n"
     ]
    },
    {
     "name": "stdout",
     "output_type": "stream",
     "text": [
      "Train -  [0.4691358024691358, 0.29218106995884774, 0.7146990740740741, 0.4691358024691358, tensor(1.2520)]\n",
      "Validation -  [0.435570987654321, 0.24742798353909468, 0.6855350667454148, 0.435570987654321, tensor(1.2797)]\n",
      "\n",
      "Epoch  407\n"
     ]
    },
    {
     "name": "stderr",
     "output_type": "stream",
     "text": [
      "81it [00:01, 41.75it/s]"
     ]
    },
    {
     "name": "stdout",
     "output_type": "stream",
     "text": [
      "['acc', 'kappa', 'auc', 'fmeasure', 'loss']\n",
      "Training Loss  1.2523495444545039\n"
     ]
    },
    {
     "name": "stderr",
     "output_type": "stream",
     "text": [
      "\n"
     ]
    },
    {
     "name": "stdout",
     "output_type": "stream",
     "text": [
      "Train -  [0.466820987654321, 0.2890946502057613, 0.7146788313519281, 0.46682098765432095, tensor(1.2520)]\n",
      "Validation -  [0.4359567901234568, 0.24794238683127567, 0.6855525310547173, 0.4359567901234568, tensor(1.2797)]\n",
      "\n",
      "Epoch  408\n"
     ]
    },
    {
     "name": "stderr",
     "output_type": "stream",
     "text": [
      "81it [00:01, 41.65it/s]"
     ]
    },
    {
     "name": "stdout",
     "output_type": "stream",
     "text": [
      "['acc', 'kappa', 'auc', 'fmeasure', 'loss']\n",
      "Training Loss  1.25270719734239\n"
     ]
    },
    {
     "name": "stderr",
     "output_type": "stream",
     "text": [
      "\n"
     ]
    },
    {
     "name": "stdout",
     "output_type": "stream",
     "text": [
      "Train -  [0.4702932098765432, 0.29372427983539096, 0.7147532531245238, 0.4702932098765432, tensor(1.2520)]\n",
      "Validation -  [0.4367283950617284, 0.2489711934156379, 0.6855931157280394, 0.4367283950617284, tensor(1.2797)]\n",
      "\n",
      "Epoch  409\n"
     ]
    },
    {
     "name": "stderr",
     "output_type": "stream",
     "text": [
      "81it [00:01, 41.34it/s]"
     ]
    },
    {
     "name": "stdout",
     "output_type": "stream",
     "text": [
      "['acc', 'kappa', 'auc', 'fmeasure', 'loss']\n",
      "Training Loss  1.2525606994275693\n"
     ]
    },
    {
     "name": "stderr",
     "output_type": "stream",
     "text": [
      "\n"
     ]
    },
    {
     "name": "stdout",
     "output_type": "stream",
     "text": [
      "Train -  [0.4645061728395062, 0.28600823045267487, 0.7146718853198192, 0.4645061728395062, tensor(1.2521)]\n",
      "Validation -  [0.4363425925925926, 0.24845679012345678, 0.6857013745999085, 0.4363425925925926, tensor(1.2796)]\n",
      "\n",
      "Epoch  410\n"
     ]
    },
    {
     "name": "stderr",
     "output_type": "stream",
     "text": [
      "81it [00:02, 38.92it/s]"
     ]
    },
    {
     "name": "stdout",
     "output_type": "stream",
     "text": [
      "['acc', 'kappa', 'auc', 'fmeasure', 'loss']\n",
      "Training Loss  1.2527207768993613\n"
     ]
    },
    {
     "name": "stderr",
     "output_type": "stream",
     "text": [
      "\n"
     ]
    },
    {
     "name": "stdout",
     "output_type": "stream",
     "text": [
      "Train -  [0.4710648148148148, 0.29475308641975306, 0.7144750149240461, 0.4710648148148148, tensor(1.2520)]\n",
      "Validation -  [0.4382716049382716, 0.2510288065843621, 0.6851919327592337, 0.4382716049382716, tensor(1.2801)]\n",
      "\n",
      "Epoch  411\n"
     ]
    },
    {
     "name": "stderr",
     "output_type": "stream",
     "text": [
      "81it [00:01, 41.34it/s]"
     ]
    },
    {
     "name": "stdout",
     "output_type": "stream",
     "text": [
      "['acc', 'kappa', 'auc', 'fmeasure', 'loss']\n",
      "Training Loss  1.252427655973552\n"
     ]
    },
    {
     "name": "stderr",
     "output_type": "stream",
     "text": [
      "\n"
     ]
    },
    {
     "name": "stdout",
     "output_type": "stream",
     "text": [
      "Train -  [0.4714506172839506, 0.2952674897119342, 0.7145615426383174, 0.4714506172839506, tensor(1.2520)]\n",
      "Validation -  [0.4363425925925926, 0.24845679012345678, 0.685139936747447, 0.4363425925925926, tensor(1.2802)]\n",
      "\n",
      "Epoch  412\n"
     ]
    },
    {
     "name": "stderr",
     "output_type": "stream",
     "text": [
      "81it [00:01, 41.35it/s]"
     ]
    },
    {
     "name": "stdout",
     "output_type": "stream",
     "text": [
      "['acc', 'kappa', 'auc', 'fmeasure', 'loss']\n",
      "Training Loss  1.2525598988120938\n"
     ]
    },
    {
     "name": "stderr",
     "output_type": "stream",
     "text": [
      "\n"
     ]
    },
    {
     "name": "stdout",
     "output_type": "stream",
     "text": [
      "Train -  [0.4702932098765432, 0.29372427983539096, 0.7148246980262154, 0.4702932098765432, tensor(1.2519)]\n",
      "Validation -  [0.4367283950617284, 0.2489711934156379, 0.6856126638469745, 0.4367283950617284, tensor(1.2797)]\n",
      "\n",
      "Epoch  413\n"
     ]
    },
    {
     "name": "stderr",
     "output_type": "stream",
     "text": [
      "81it [00:01, 40.66it/s]"
     ]
    },
    {
     "name": "stdout",
     "output_type": "stream",
     "text": [
      "['acc', 'kappa', 'auc', 'fmeasure', 'loss']\n",
      "Training Loss  1.2525870387936815\n"
     ]
    },
    {
     "name": "stderr",
     "output_type": "stream",
     "text": [
      "\n"
     ]
    },
    {
     "name": "stdout",
     "output_type": "stream",
     "text": [
      "Train -  [0.4702932098765432, 0.29372427983539096, 0.7147026463191586, 0.4702932098765432, tensor(1.2519)]\n",
      "Validation -  [0.4363425925925926, 0.24845679012345678, 0.6854540958568307, 0.4363425925925926, tensor(1.2798)]\n",
      "\n",
      "Epoch  414\n"
     ]
    },
    {
     "name": "stderr",
     "output_type": "stream",
     "text": [
      "81it [00:02, 37.56it/s]"
     ]
    },
    {
     "name": "stdout",
     "output_type": "stream",
     "text": [
      "['acc', 'kappa', 'auc', 'fmeasure', 'loss']\n",
      "Training Loss  1.252429327847045\n"
     ]
    },
    {
     "name": "stderr",
     "output_type": "stream",
     "text": [
      "\n"
     ]
    },
    {
     "name": "stdout",
     "output_type": "stream",
     "text": [
      "Train -  [0.4702932098765432, 0.29372427983539096, 0.7147709158918865, 0.4702932098765432, tensor(1.2519)]\n",
      "Validation -  [0.4351851851851852, 0.24691358024691357, 0.6855543171772596, 0.4351851851851852, tensor(1.2797)]\n",
      "\n",
      "Epoch  415\n"
     ]
    },
    {
     "name": "stderr",
     "output_type": "stream",
     "text": [
      "81it [00:01, 41.99it/s]"
     ]
    },
    {
     "name": "stdout",
     "output_type": "stream",
     "text": [
      "['acc', 'kappa', 'auc', 'fmeasure', 'loss']\n",
      "Training Loss  1.2524548842583174\n"
     ]
    },
    {
     "name": "stderr",
     "output_type": "stream",
     "text": [
      "\n"
     ]
    },
    {
     "name": "stdout",
     "output_type": "stream",
     "text": [
      "Train -  [0.46875, 0.29166666666666663, 0.7146976848676523, 0.46875, tensor(1.2520)]\n",
      "Validation -  [0.4375, 0.25, 0.6855890473378041, 0.4375, tensor(1.2797)]\n",
      "\n",
      "Epoch  416\n"
     ]
    },
    {
     "name": "stderr",
     "output_type": "stream",
     "text": [
      "81it [00:02, 39.87it/s]"
     ]
    },
    {
     "name": "stdout",
     "output_type": "stream",
     "text": [
      "['acc', 'kappa', 'auc', 'fmeasure', 'loss']\n",
      "Training Loss  1.252481500307719\n"
     ]
    },
    {
     "name": "stderr",
     "output_type": "stream",
     "text": [
      "\n"
     ]
    },
    {
     "name": "stdout",
     "output_type": "stream",
     "text": [
      "Train -  [0.4702932098765432, 0.29372427983539096, 0.7149602448813697, 0.4702932098765432, tensor(1.2519)]\n",
      "Validation -  [0.4363425925925926, 0.24845679012345678, 0.6858440659452318, 0.4363425925925926, tensor(1.2795)]\n",
      "\n",
      "Epoch  417\n"
     ]
    },
    {
     "name": "stderr",
     "output_type": "stream",
     "text": [
      "81it [00:02, 40.17it/s]"
     ]
    },
    {
     "name": "stdout",
     "output_type": "stream",
     "text": [
      "['acc', 'kappa', 'auc', 'fmeasure', 'loss']\n",
      "Training Loss  1.2524307200938096\n"
     ]
    },
    {
     "name": "stderr",
     "output_type": "stream",
     "text": [
      "\n"
     ]
    },
    {
     "name": "stdout",
     "output_type": "stream",
     "text": [
      "Train -  [0.4691358024691358, 0.29218106995884774, 0.7149747323197684, 0.4691358024691358, tensor(1.2520)]\n",
      "Validation -  [0.4359567901234568, 0.24794238683127567, 0.6858217394134531, 0.4359567901234568, tensor(1.2797)]\n",
      "\n",
      "Epoch  418\n"
     ]
    },
    {
     "name": "stderr",
     "output_type": "stream",
     "text": [
      "81it [00:01, 41.53it/s]"
     ]
    },
    {
     "name": "stdout",
     "output_type": "stream",
     "text": [
      "['acc', 'kappa', 'auc', 'fmeasure', 'loss']\n",
      "Training Loss  1.2524204872272633\n"
     ]
    },
    {
     "name": "stderr",
     "output_type": "stream",
     "text": [
      "\n"
     ]
    },
    {
     "name": "stdout",
     "output_type": "stream",
     "text": [
      "Train -  [0.4699074074074074, 0.29320987654320985, 0.7149667939973582, 0.4699074074074074, tensor(1.2519)]\n",
      "Validation -  [0.4359567901234568, 0.24794238683127567, 0.6858103280749887, 0.4359567901234568, tensor(1.2796)]\n",
      "\n",
      "Epoch  419\n"
     ]
    },
    {
     "name": "stderr",
     "output_type": "stream",
     "text": [
      "81it [00:01, 41.21it/s]"
     ]
    },
    {
     "name": "stdout",
     "output_type": "stream",
     "text": [
      "['acc', 'kappa', 'auc', 'fmeasure', 'loss']\n",
      "Training Loss  1.2527476725754914\n"
     ]
    },
    {
     "name": "stderr",
     "output_type": "stream",
     "text": [
      "\n"
     ]
    },
    {
     "name": "stdout",
     "output_type": "stream",
     "text": [
      "Train -  [0.4683641975308642, 0.29115226337448563, 0.7148602220190011, 0.4683641975308643, tensor(1.2519)]\n",
      "Validation -  [0.4340277777777778, 0.24537037037037035, 0.6856489816720012, 0.4340277777777778, tensor(1.2796)]\n",
      "\n",
      "Epoch  420\n"
     ]
    },
    {
     "name": "stderr",
     "output_type": "stream",
     "text": [
      "81it [00:01, 40.55it/s]"
     ]
    },
    {
     "name": "stdout",
     "output_type": "stream",
     "text": [
      "['acc', 'kappa', 'auc', 'fmeasure', 'loss']\n",
      "Training Loss  1.2524592758696755\n"
     ]
    },
    {
     "name": "stderr",
     "output_type": "stream",
     "text": [
      "\n"
     ]
    },
    {
     "name": "stdout",
     "output_type": "stream",
     "text": [
      "Train -  [0.4679783950617284, 0.2906378600823045, 0.71471147770284, 0.4679783950617284, tensor(1.2519)]\n",
      "Validation -  [0.435570987654321, 0.24742798353909468, 0.6854217471930092, 0.435570987654321, tensor(1.2798)]\n",
      "\n",
      "Epoch  421\n"
     ]
    },
    {
     "name": "stderr",
     "output_type": "stream",
     "text": [
      "81it [00:01, 41.41it/s]"
     ]
    },
    {
     "name": "stdout",
     "output_type": "stream",
     "text": [
      "['acc', 'kappa', 'auc', 'fmeasure', 'loss']\n",
      "Training Loss  1.2524044469550804\n"
     ]
    },
    {
     "name": "stderr",
     "output_type": "stream",
     "text": [
      "\n"
     ]
    },
    {
     "name": "stdout",
     "output_type": "stream",
     "text": [
      "Train -  [0.4699074074074074, 0.29320987654320985, 0.7145000206396384, 0.4699074074074074, tensor(1.2520)]\n",
      "Validation -  [0.4378858024691358, 0.2505144032921811, 0.6852521647805212, 0.4378858024691358, tensor(1.2800)]\n",
      "\n",
      "Epoch  422\n"
     ]
    },
    {
     "name": "stderr",
     "output_type": "stream",
     "text": [
      "81it [00:01, 42.17it/s]"
     ]
    },
    {
     "name": "stdout",
     "output_type": "stream",
     "text": [
      "['acc', 'kappa', 'auc', 'fmeasure', 'loss']\n",
      "Training Loss  1.2522651810704926\n"
     ]
    },
    {
     "name": "stderr",
     "output_type": "stream",
     "text": [
      "\n"
     ]
    },
    {
     "name": "stdout",
     "output_type": "stream",
     "text": [
      "Train -  [0.46875, 0.29166666666666663, 0.715041414228014, 0.46875, tensor(1.2519)]\n",
      "Validation -  [0.4359567901234568, 0.24794238683127567, 0.6860044200579181, 0.4359567901234568, tensor(1.2794)]\n",
      "\n",
      "Epoch  423\n"
     ]
    },
    {
     "name": "stderr",
     "output_type": "stream",
     "text": [
      "81it [00:02, 39.48it/s]"
     ]
    },
    {
     "name": "stdout",
     "output_type": "stream",
     "text": [
      "['acc', 'kappa', 'auc', 'fmeasure', 'loss']\n",
      "Training Loss  1.2522723527602206\n"
     ]
    },
    {
     "name": "stderr",
     "output_type": "stream",
     "text": [
      "\n"
     ]
    },
    {
     "name": "stdout",
     "output_type": "stream",
     "text": [
      "Train -  [0.4737654320987654, 0.2983539094650206, 0.7148503983450185, 0.4737654320987654, tensor(1.2519)]\n",
      "Validation -  [0.4351851851851852, 0.24691358024691357, 0.6855259376746431, 0.4351851851851852, tensor(1.2798)]\n",
      "\n",
      "Epoch  424\n"
     ]
    },
    {
     "name": "stderr",
     "output_type": "stream",
     "text": [
      "81it [00:01, 43.98it/s]"
     ]
    },
    {
     "name": "stdout",
     "output_type": "stream",
     "text": [
      "['acc', 'kappa', 'auc', 'fmeasure', 'loss']\n",
      "Training Loss  1.252405634632817\n"
     ]
    },
    {
     "name": "stderr",
     "output_type": "stream",
     "text": [
      "\n"
     ]
    },
    {
     "name": "stdout",
     "output_type": "stream",
     "text": [
      "Train -  [0.4679783950617284, 0.2906378600823045, 0.7146843881776153, 0.4679783950617284, tensor(1.2520)]\n",
      "Validation -  [0.4390432098765432, 0.2520576131687243, 0.68549239826246, 0.4390432098765432, tensor(1.2798)]\n",
      "\n",
      "Epoch  425\n"
     ]
    },
    {
     "name": "stderr",
     "output_type": "stream",
     "text": [
      "81it [00:01, 40.52it/s]"
     ]
    },
    {
     "name": "stdout",
     "output_type": "stream",
     "text": [
      "['acc', 'kappa', 'auc', 'fmeasure', 'loss']\n",
      "Training Loss  1.252471136458126\n"
     ]
    },
    {
     "name": "stderr",
     "output_type": "stream",
     "text": [
      "\n"
     ]
    },
    {
     "name": "stdout",
     "output_type": "stream",
     "text": [
      "Train -  [0.4691358024691358, 0.29218106995884774, 0.715008767877102, 0.4691358024691358, tensor(1.2519)]\n",
      "Validation -  [0.4340277777777778, 0.24537037037037035, 0.6858807806863791, 0.4340277777777778, tensor(1.2794)]\n",
      "\n",
      "Epoch  426\n"
     ]
    },
    {
     "name": "stderr",
     "output_type": "stream",
     "text": [
      "81it [00:01, 42.12it/s]"
     ]
    },
    {
     "name": "stdout",
     "output_type": "stream",
     "text": [
      "['acc', 'kappa', 'auc', 'fmeasure', 'loss']\n",
      "Training Loss  1.2522325824808191\n"
     ]
    },
    {
     "name": "stderr",
     "output_type": "stream",
     "text": [
      "\n"
     ]
    },
    {
     "name": "stdout",
     "output_type": "stream",
     "text": [
      "Train -  [0.4710648148148148, 0.29475308641975306, 0.7146341782883707, 0.4710648148148148, tensor(1.2519)]\n",
      "Validation -  [0.4386574074074074, 0.2515432098765432, 0.6853143813824112, 0.4386574074074074, tensor(1.2799)]\n",
      "\n",
      "Epoch  427\n"
     ]
    },
    {
     "name": "stderr",
     "output_type": "stream",
     "text": [
      "81it [00:02, 39.98it/s]"
     ]
    },
    {
     "name": "stdout",
     "output_type": "stream",
     "text": [
      "['acc', 'kappa', 'auc', 'fmeasure', 'loss']\n",
      "Training Loss  1.2525308838597051\n"
     ]
    },
    {
     "name": "stderr",
     "output_type": "stream",
     "text": [
      "\n"
     ]
    },
    {
     "name": "stdout",
     "output_type": "stream",
     "text": [
      "Train -  [0.47260802469135804, 0.2968106995884774, 0.714754245414825, 0.47260802469135804, tensor(1.2518)]\n",
      "Validation -  [0.4359567901234568, 0.24794238683127567, 0.6853038631052177, 0.4359567901234568, tensor(1.2800)]\n",
      "\n",
      "Epoch  428\n"
     ]
    },
    {
     "name": "stderr",
     "output_type": "stream",
     "text": [
      "81it [00:01, 40.76it/s]"
     ]
    },
    {
     "name": "stdout",
     "output_type": "stream",
     "text": [
      "['acc', 'kappa', 'auc', 'fmeasure', 'loss']\n",
      "Training Loss  1.252464000089669\n"
     ]
    },
    {
     "name": "stderr",
     "output_type": "stream",
     "text": [
      "\n"
     ]
    },
    {
     "name": "stdout",
     "output_type": "stream",
     "text": [
      "Train -  [0.4699074074074074, 0.29320987654320985, 0.7150433988086167, 0.4699074074074074, tensor(1.2518)]\n",
      "Validation -  [0.4359567901234568, 0.24794238683127567, 0.6858516073515216, 0.4359567901234568, tensor(1.2796)]\n",
      "\n",
      "Epoch  429\n"
     ]
    },
    {
     "name": "stderr",
     "output_type": "stream",
     "text": [
      "81it [00:02, 39.21it/s]"
     ]
    },
    {
     "name": "stdout",
     "output_type": "stream",
     "text": [
      "['acc', 'kappa', 'auc', 'fmeasure', 'loss']\n",
      "Training Loss  1.2523818972670002\n"
     ]
    },
    {
     "name": "stderr",
     "output_type": "stream",
     "text": [
      "\n"
     ]
    },
    {
     "name": "stdout",
     "output_type": "stream",
     "text": [
      "Train -  [0.4702932098765432, 0.29372427983539096, 0.7150993639816083, 0.4702932098765432, tensor(1.2519)]\n",
      "Validation -  [0.4351851851851852, 0.24691358024691357, 0.6860153352512322, 0.4351851851851852, tensor(1.2795)]\n",
      "\n",
      "Epoch  430\n"
     ]
    },
    {
     "name": "stderr",
     "output_type": "stream",
     "text": [
      "81it [00:02, 39.41it/s]"
     ]
    },
    {
     "name": "stdout",
     "output_type": "stream",
     "text": [
      "['acc', 'kappa', 'auc', 'fmeasure', 'loss']\n",
      "Training Loss  1.2523583188469027\n"
     ]
    },
    {
     "name": "stderr",
     "output_type": "stream",
     "text": [
      "\n"
     ]
    },
    {
     "name": "stdout",
     "output_type": "stream",
     "text": [
      "Train -  [0.4695216049382716, 0.29269547325102885, 0.7149713585327441, 0.46952160493827155, tensor(1.2518)]\n",
      "Validation -  [0.4367283950617284, 0.2489711934156379, 0.6857492029924301, 0.4367283950617284, tensor(1.2795)]\n",
      "\n",
      "Epoch  431\n"
     ]
    },
    {
     "name": "stderr",
     "output_type": "stream",
     "text": [
      "81it [00:02, 39.55it/s]"
     ]
    },
    {
     "name": "stdout",
     "output_type": "stream",
     "text": [
      "['acc', 'kappa', 'auc', 'fmeasure', 'loss']\n",
      "Training Loss  1.2522442193678867\n"
     ]
    },
    {
     "name": "stderr",
     "output_type": "stream",
     "text": [
      "\n"
     ]
    },
    {
     "name": "stdout",
     "output_type": "stream",
     "text": [
      "Train -  [0.4691358024691358, 0.29218106995884774, 0.714845337664482, 0.4691358024691358, tensor(1.2518)]\n",
      "Validation -  [0.4347993827160494, 0.24639917695473246, 0.6855237546359804, 0.4347993827160494, tensor(1.2797)]\n",
      "\n",
      "Epoch  432\n"
     ]
    },
    {
     "name": "stderr",
     "output_type": "stream",
     "text": [
      "81it [00:02, 40.00it/s]"
     ]
    },
    {
     "name": "stdout",
     "output_type": "stream",
     "text": [
      "['acc', 'kappa', 'auc', 'fmeasure', 'loss']\n",
      "Training Loss  1.2522165819450661\n"
     ]
    },
    {
     "name": "stderr",
     "output_type": "stream",
     "text": [
      "\n"
     ]
    },
    {
     "name": "stdout",
     "output_type": "stream",
     "text": [
      "Train -  [0.4729938271604938, 0.2973251028806584, 0.7149393075560128, 0.4729938271604938, tensor(1.2519)]\n",
      "Validation -  [0.4340277777777778, 0.24537037037037035, 0.6855959933699132, 0.4340277777777778, tensor(1.2799)]\n",
      "\n",
      "Epoch  433\n"
     ]
    },
    {
     "name": "stderr",
     "output_type": "stream",
     "text": [
      "81it [00:02, 39.43it/s]"
     ]
    },
    {
     "name": "stdout",
     "output_type": "stream",
     "text": [
      "['acc', 'kappa', 'auc', 'fmeasure', 'loss']\n",
      "Training Loss  1.2527980186321117\n"
     ]
    },
    {
     "name": "stderr",
     "output_type": "stream",
     "text": [
      "\n"
     ]
    },
    {
     "name": "stdout",
     "output_type": "stream",
     "text": [
      "Train -  [0.4710648148148148, 0.29475308641975306, 0.7150437957247371, 0.4710648148148148, tensor(1.2518)]\n",
      "Validation -  [0.4347993827160494, 0.24639917695473246, 0.685785719275517, 0.4347993827160494, tensor(1.2796)]\n",
      "\n",
      "Epoch  434\n"
     ]
    },
    {
     "name": "stderr",
     "output_type": "stream",
     "text": [
      "81it [00:02, 38.72it/s]"
     ]
    },
    {
     "name": "stdout",
     "output_type": "stream",
     "text": [
      "['acc', 'kappa', 'auc', 'fmeasure', 'loss']\n",
      "Training Loss  1.2523646855059964\n"
     ]
    },
    {
     "name": "stderr",
     "output_type": "stream",
     "text": [
      "\n"
     ]
    },
    {
     "name": "stdout",
     "output_type": "stream",
     "text": [
      "Train -  [0.4702932098765432, 0.29372427983539096, 0.7148903876441599, 0.4702932098765432, tensor(1.2517)]\n",
      "Validation -  [0.4363425925925926, 0.24845679012345678, 0.6855767429380684, 0.4363425925925926, tensor(1.2797)]\n",
      "\n",
      "Epoch  435\n"
     ]
    },
    {
     "name": "stderr",
     "output_type": "stream",
     "text": [
      "81it [00:02, 39.74it/s]"
     ]
    },
    {
     "name": "stdout",
     "output_type": "stream",
     "text": [
      "['acc', 'kappa', 'auc', 'fmeasure', 'loss']\n",
      "Training Loss  1.2523069131521531\n"
     ]
    },
    {
     "name": "stderr",
     "output_type": "stream",
     "text": [
      "\n"
     ]
    },
    {
     "name": "stdout",
     "output_type": "stream",
     "text": [
      "Train -  [0.4679783950617284, 0.2906378600823045, 0.715146497770919, 0.4679783950617284, tensor(1.2518)]\n",
      "Validation -  [0.4371141975308642, 0.2494855967078189, 0.6860994814687801, 0.4371141975308642, tensor(1.2794)]\n",
      "\n",
      "Epoch  436\n"
     ]
    },
    {
     "name": "stderr",
     "output_type": "stream",
     "text": [
      "81it [00:02, 40.44it/s]"
     ]
    },
    {
     "name": "stdout",
     "output_type": "stream",
     "text": [
      "['acc', 'kappa', 'auc', 'fmeasure', 'loss']\n",
      "Training Loss  1.2523564291589053\n"
     ]
    },
    {
     "name": "stderr",
     "output_type": "stream",
     "text": [
      "\n"
     ]
    },
    {
     "name": "stdout",
     "output_type": "stream",
     "text": [
      "Train -  [0.4691358024691358, 0.29218106995884774, 0.7149411929075852, 0.4691358024691358, tensor(1.2518)]\n",
      "Validation -  [0.4382716049382716, 0.2510288065843621, 0.685740669295839, 0.4382716049382716, tensor(1.2796)]\n",
      "\n",
      "Epoch  437\n"
     ]
    },
    {
     "name": "stderr",
     "output_type": "stream",
     "text": [
      "81it [00:02, 40.23it/s]"
     ]
    },
    {
     "name": "stdout",
     "output_type": "stream",
     "text": [
      "['acc', 'kappa', 'auc', 'fmeasure', 'loss']\n",
      "Training Loss  1.2526097430123224\n"
     ]
    },
    {
     "name": "stderr",
     "output_type": "stream",
     "text": [
      "\n"
     ]
    },
    {
     "name": "stdout",
     "output_type": "stream",
     "text": [
      "Train -  [0.4699074074074074, 0.29320987654320985, 0.7149046766244982, 0.4699074074074074, tensor(1.2517)]\n",
      "Validation -  [0.43441358024691357, 0.24588477366255146, 0.6856126638469746, 0.43441358024691357, tensor(1.2796)]\n",
      "\n",
      "Epoch  438\n"
     ]
    },
    {
     "name": "stderr",
     "output_type": "stream",
     "text": [
      "81it [00:01, 41.84it/s]"
     ]
    },
    {
     "name": "stdout",
     "output_type": "stream",
     "text": [
      "['acc', 'kappa', 'auc', 'fmeasure', 'loss']\n",
      "Training Loss  1.2525288779058574\n"
     ]
    },
    {
     "name": "stderr",
     "output_type": "stream",
     "text": [
      "\n"
     ]
    },
    {
     "name": "stdout",
     "output_type": "stream",
     "text": [
      "Train -  [0.4699074074074074, 0.29320987654320985, 0.7147670459597114, 0.4699074074074074, tensor(1.2518)]\n",
      "Validation -  [0.4367283950617284, 0.2489711934156379, 0.6854511189859269, 0.4367283950617284, tensor(1.2798)]\n",
      "\n",
      "Epoch  439\n"
     ]
    },
    {
     "name": "stderr",
     "output_type": "stream",
     "text": [
      "81it [00:02, 39.04it/s]"
     ]
    },
    {
     "name": "stdout",
     "output_type": "stream",
     "text": [
      "['acc', 'kappa', 'auc', 'fmeasure', 'loss']\n",
      "Training Loss  1.252270879568877\n"
     ]
    },
    {
     "name": "stderr",
     "output_type": "stream",
     "text": [
      "\n"
     ]
    },
    {
     "name": "stdout",
     "output_type": "stream",
     "text": [
      "Train -  [0.4710648148148148, 0.29475308641975306, 0.7151108745491033, 0.4710648148148148, tensor(1.2519)]\n",
      "Validation -  [0.43364197530864196, 0.24485596707818935, 0.6858222355586039, 0.43364197530864196, tensor(1.2797)]\n",
      "\n",
      "Epoch  440\n"
     ]
    },
    {
     "name": "stderr",
     "output_type": "stream",
     "text": [
      "81it [00:01, 41.68it/s]"
     ]
    },
    {
     "name": "stdout",
     "output_type": "stream",
     "text": [
      "['acc', 'kappa', 'auc', 'fmeasure', 'loss']\n",
      "Training Loss  1.2525393845122537\n"
     ]
    },
    {
     "name": "stderr",
     "output_type": "stream",
     "text": [
      "\n"
     ]
    },
    {
     "name": "stdout",
     "output_type": "stream",
     "text": [
      "Train -  [0.4729938271604938, 0.2973251028806584, 0.7150447880150385, 0.4729938271604938, tensor(1.2517)]\n",
      "Validation -  [0.435570987654321, 0.24742798353909468, 0.6857013745999085, 0.435570987654321, tensor(1.2797)]\n",
      "\n",
      "Epoch  441\n"
     ]
    },
    {
     "name": "stderr",
     "output_type": "stream",
     "text": [
      "81it [00:01, 41.28it/s]"
     ]
    },
    {
     "name": "stdout",
     "output_type": "stream",
     "text": [
      "['acc', 'kappa', 'auc', 'fmeasure', 'loss']\n",
      "Training Loss  1.252210952617504\n"
     ]
    },
    {
     "name": "stderr",
     "output_type": "stream",
     "text": [
      "\n"
     ]
    },
    {
     "name": "stdout",
     "output_type": "stream",
     "text": [
      "Train -  [0.4710648148148148, 0.29475308641975306, 0.7148933645150637, 0.4710648148148148, tensor(1.2517)]\n",
      "Validation -  [0.4359567901234568, 0.24794238683127567, 0.6855487603515724, 0.4359567901234568, tensor(1.2797)]\n",
      "\n",
      "Epoch  442\n"
     ]
    },
    {
     "name": "stderr",
     "output_type": "stream",
     "text": [
      "81it [00:02, 39.71it/s]"
     ]
    },
    {
     "name": "stdout",
     "output_type": "stream",
     "text": [
      "['acc', 'kappa', 'auc', 'fmeasure', 'loss']\n",
      "Training Loss  1.252454949013981\n"
     ]
    },
    {
     "name": "stderr",
     "output_type": "stream",
     "text": [
      "\n"
     ]
    },
    {
     "name": "stdout",
     "output_type": "stream",
     "text": [
      "Train -  [0.4683641975308642, 0.29115226337448563, 0.7152303463013767, 0.4683641975308643, tensor(1.2517)]\n",
      "Validation -  [0.4371141975308642, 0.2494855967078189, 0.6861731094091348, 0.4371141975308642, tensor(1.2793)]\n",
      "\n",
      "Epoch  443\n"
     ]
    },
    {
     "name": "stderr",
     "output_type": "stream",
     "text": [
      "81it [00:01, 41.90it/s]"
     ]
    },
    {
     "name": "stdout",
     "output_type": "stream",
     "text": [
      "['acc', 'kappa', 'auc', 'fmeasure', 'loss']\n",
      "Training Loss  1.2522971585944846\n"
     ]
    },
    {
     "name": "stderr",
     "output_type": "stream",
     "text": [
      "\n"
     ]
    },
    {
     "name": "stdout",
     "output_type": "stream",
     "text": [
      "Train -  [0.46875, 0.29166666666666663, 0.7151565199029619, 0.46875, tensor(1.2517)]\n",
      "Validation -  [0.4367283950617284, 0.2489711934156379, 0.6860044200579181, 0.4367283950617284, tensor(1.2793)]\n",
      "\n",
      "Epoch  444\n"
     ]
    },
    {
     "name": "stderr",
     "output_type": "stream",
     "text": [
      "81it [00:01, 40.88it/s]"
     ]
    },
    {
     "name": "stdout",
     "output_type": "stream",
     "text": [
      "['acc', 'kappa', 'auc', 'fmeasure', 'loss']\n",
      "Training Loss  1.2523479697145061\n"
     ]
    },
    {
     "name": "stderr",
     "output_type": "stream",
     "text": [
      "\n"
     ]
    },
    {
     "name": "stdout",
     "output_type": "stream",
     "text": [
      "Train -  [0.4722222222222222, 0.2962962962962963, 0.7149310715465123, 0.4722222222222222, tensor(1.2517)]\n",
      "Validation -  [0.435570987654321, 0.24742798353909468, 0.6854739416628564, 0.435570987654321, tensor(1.2798)]\n",
      "\n",
      "Epoch  445\n"
     ]
    },
    {
     "name": "stderr",
     "output_type": "stream",
     "text": [
      "81it [00:02, 39.38it/s]"
     ]
    },
    {
     "name": "stdout",
     "output_type": "stream",
     "text": [
      "['acc', 'kappa', 'auc', 'fmeasure', 'loss']\n",
      "Training Loss  1.2520327950701302\n"
     ]
    },
    {
     "name": "stderr",
     "output_type": "stream",
     "text": [
      "\n"
     ]
    },
    {
     "name": "stdout",
     "output_type": "stream",
     "text": [
      "Train -  [0.4710648148148148, 0.29475308641975306, 0.7151265527358635, 0.4710648148148148, tensor(1.2516)]\n",
      "Validation -  [0.4359567901234568, 0.24794238683127567, 0.6858740331123304, 0.4359567901234568, tensor(1.2795)]\n",
      "\n",
      "Epoch  446\n"
     ]
    },
    {
     "name": "stderr",
     "output_type": "stream",
     "text": [
      "81it [00:02, 40.22it/s]"
     ]
    },
    {
     "name": "stdout",
     "output_type": "stream",
     "text": [
      "['acc', 'kappa', 'auc', 'fmeasure', 'loss']\n",
      "Training Loss  1.2522079826873025\n"
     ]
    },
    {
     "name": "stderr",
     "output_type": "stream",
     "text": [
      "\n"
     ]
    },
    {
     "name": "stdout",
     "output_type": "stream",
     "text": [
      "Train -  [0.4691358024691358, 0.29218106995884774, 0.7152216141467256, 0.4691358024691358, tensor(1.2517)]\n",
      "Validation -  [0.4363425925925926, 0.24845679012345678, 0.6860732850048263, 0.4363425925925926, tensor(1.2793)]\n",
      "\n",
      "Epoch  447\n"
     ]
    },
    {
     "name": "stderr",
     "output_type": "stream",
     "text": [
      "81it [00:02, 39.75it/s]"
     ]
    },
    {
     "name": "stdout",
     "output_type": "stream",
     "text": [
      "['acc', 'kappa', 'auc', 'fmeasure', 'loss']\n",
      "Training Loss  1.2524298547226707\n"
     ]
    },
    {
     "name": "stderr",
     "output_type": "stream",
     "text": [
      "\n"
     ]
    },
    {
     "name": "stdout",
     "output_type": "stream",
     "text": [
      "Train -  [0.4695216049382716, 0.29269547325102885, 0.7152605119265356, 0.46952160493827155, tensor(1.2518)]\n",
      "Validation -  [0.4359567901234568, 0.24794238683127567, 0.6861135719910583, 0.4359567901234568, tensor(1.2793)]\n",
      "\n",
      "Epoch  448\n"
     ]
    },
    {
     "name": "stderr",
     "output_type": "stream",
     "text": [
      "81it [00:01, 41.98it/s]"
     ]
    },
    {
     "name": "stdout",
     "output_type": "stream",
     "text": [
      "['acc', 'kappa', 'auc', 'fmeasure', 'loss']\n",
      "Training Loss  1.252161031887855\n"
     ]
    },
    {
     "name": "stderr",
     "output_type": "stream",
     "text": [
      "\n"
     ]
    },
    {
     "name": "stdout",
     "output_type": "stream",
     "text": [
      "Train -  [0.4710648148148148, 0.29475308641975306, 0.7148572451480975, 0.4710648148148148, tensor(1.2517)]\n",
      "Validation -  [0.4340277777777778, 0.24537037037037035, 0.6853580421556673, 0.4340277777777778, tensor(1.2799)]\n",
      "\n",
      "Epoch  449\n"
     ]
    },
    {
     "name": "stderr",
     "output_type": "stream",
     "text": [
      "81it [00:02, 39.89it/s]"
     ]
    },
    {
     "name": "stdout",
     "output_type": "stream",
     "text": [
      "['acc', 'kappa', 'auc', 'fmeasure', 'loss']\n",
      "Training Loss  1.25226425094369\n"
     ]
    },
    {
     "name": "stderr",
     "output_type": "stream",
     "text": [
      "\n"
     ]
    },
    {
     "name": "stdout",
     "output_type": "stream",
     "text": [
      "Train -  [0.4710648148148148, 0.29475308641975306, 0.714855459025555, 0.4710648148148148, tensor(1.2517)]\n",
      "Validation -  [0.4371141975308642, 0.2494855967078189, 0.6854779108240614, 0.4371141975308642, tensor(1.2797)]\n",
      "\n",
      "Epoch  450\n"
     ]
    },
    {
     "name": "stderr",
     "output_type": "stream",
     "text": [
      "81it [00:02, 39.53it/s]"
     ]
    },
    {
     "name": "stdout",
     "output_type": "stream",
     "text": [
      "['acc', 'kappa', 'auc', 'fmeasure', 'loss']\n",
      "Training Loss  1.2522698773278131\n"
     ]
    },
    {
     "name": "stderr",
     "output_type": "stream",
     "text": [
      "\n"
     ]
    },
    {
     "name": "stdout",
     "output_type": "stream",
     "text": [
      "Train -  [0.4679783950617284, 0.2906378600823045, 0.715049154092364, 0.4679783950617284, tensor(1.2516)]\n",
      "Validation -  [0.4363425925925926, 0.24845679012345678, 0.6857975275301021, 0.4363425925925926, tensor(1.2795)]\n",
      "\n",
      "Epoch  451\n"
     ]
    },
    {
     "name": "stderr",
     "output_type": "stream",
     "text": [
      "81it [00:02, 39.15it/s]"
     ]
    },
    {
     "name": "stdout",
     "output_type": "stream",
     "text": [
      "['acc', 'kappa', 'auc', 'fmeasure', 'loss']\n",
      "Training Loss  1.252081819522528\n"
     ]
    },
    {
     "name": "stderr",
     "output_type": "stream",
     "text": [
      "\n"
     ]
    },
    {
     "name": "stdout",
     "output_type": "stream",
     "text": [
      "Train -  [0.470679012345679, 0.29423868312757206, 0.7152799608164405, 0.47067901234567894, tensor(1.2516)]\n",
      "Validation -  [0.4375, 0.25, 0.686090054710918, 0.4375, tensor(1.2794)]\n",
      "\n",
      "Epoch  452\n"
     ]
    },
    {
     "name": "stderr",
     "output_type": "stream",
     "text": [
      "81it [00:01, 42.36it/s]"
     ]
    },
    {
     "name": "stdout",
     "output_type": "stream",
     "text": [
      "['acc', 'kappa', 'auc', 'fmeasure', 'loss']\n",
      "Training Loss  1.252392570177714\n"
     ]
    },
    {
     "name": "stderr",
     "output_type": "stream",
     "text": [
      "\n"
     ]
    },
    {
     "name": "stdout",
     "output_type": "stream",
     "text": [
      "Train -  [0.47183641975308643, 0.2957818930041153, 0.7152347123787024, 0.47183641975308643, tensor(1.2516)]\n",
      "Validation -  [0.43441358024691357, 0.24588477366255146, 0.6859698883554337, 0.43441358024691357, tensor(1.2794)]\n",
      "\n",
      "Epoch  453\n"
     ]
    },
    {
     "name": "stderr",
     "output_type": "stream",
     "text": [
      "81it [00:01, 41.83it/s]"
     ]
    },
    {
     "name": "stdout",
     "output_type": "stream",
     "text": [
      "['acc', 'kappa', 'auc', 'fmeasure', 'loss']\n",
      "Training Loss  1.2521118484897378\n"
     ]
    },
    {
     "name": "stderr",
     "output_type": "stream",
     "text": [
      "\n"
     ]
    },
    {
     "name": "stdout",
     "output_type": "stream",
     "text": [
      "Train -  [0.47183641975308643, 0.2957818930041153, 0.7150965855687649, 0.47183641975308643, tensor(1.2516)]\n",
      "Validation -  [0.4359567901234568, 0.24794238683127567, 0.6857160604963674, 0.4359567901234568, tensor(1.2796)]\n",
      "\n",
      "Epoch  454\n"
     ]
    },
    {
     "name": "stderr",
     "output_type": "stream",
     "text": [
      "81it [00:02, 40.09it/s]"
     ]
    },
    {
     "name": "stdout",
     "output_type": "stream",
     "text": [
      "['acc', 'kappa', 'auc', 'fmeasure', 'loss']\n",
      "Training Loss  1.2522309017770084\n"
     ]
    },
    {
     "name": "stderr",
     "output_type": "stream",
     "text": [
      "\n"
     ]
    },
    {
     "name": "stdout",
     "output_type": "stream",
     "text": [
      "Train -  [0.47260802469135804, 0.2968106995884774, 0.7150664199436062, 0.47260802469135804, tensor(1.2516)]\n",
      "Validation -  [0.435570987654321, 0.24742798353909468, 0.685606908563227, 0.435570987654321, tensor(1.2797)]\n",
      "\n",
      "Epoch  455\n"
     ]
    },
    {
     "name": "stderr",
     "output_type": "stream",
     "text": [
      "81it [00:01, 42.03it/s]"
     ]
    },
    {
     "name": "stdout",
     "output_type": "stream",
     "text": [
      "['acc', 'kappa', 'auc', 'fmeasure', 'loss']\n",
      "Training Loss  1.2521075304643607\n"
     ]
    },
    {
     "name": "stderr",
     "output_type": "stream",
     "text": [
      "\n"
     ]
    },
    {
     "name": "stdout",
     "output_type": "stream",
     "text": [
      "Train -  [0.4722222222222222, 0.2962962962962963, 0.7152835330615253, 0.4722222222222222, tensor(1.2516)]\n",
      "Validation -  [0.4367283950617284, 0.2489711934156379, 0.6860390509894326, 0.4367283950617284, tensor(1.2794)]\n",
      "\n",
      "Epoch  456\n"
     ]
    },
    {
     "name": "stderr",
     "output_type": "stream",
     "text": [
      "81it [00:02, 39.21it/s]\n"
     ]
    },
    {
     "name": "stdout",
     "output_type": "stream",
     "text": [
      "['acc', 'kappa', 'auc', 'fmeasure', 'loss']\n",
      "Training Loss  1.2522149130150124\n",
      "Train -  [0.4702932098765432, 0.29372427983539096, 0.7153508103439516, 0.4702932098765432, tensor(1.2519)]\n",
      "Validation -  [0.4363425925925926, 0.24845679012345678, 0.6861240902682517, 0.4363425925925926, tensor(1.2795)]\n",
      "\n",
      "Epoch  457\n"
     ]
    },
    {
     "name": "stderr",
     "output_type": "stream",
     "text": [
      "81it [00:01, 41.12it/s]"
     ]
    },
    {
     "name": "stdout",
     "output_type": "stream",
     "text": [
      "['acc', 'kappa', 'auc', 'fmeasure', 'loss']\n",
      "Training Loss  1.2521894257745625\n"
     ]
    },
    {
     "name": "stderr",
     "output_type": "stream",
     "text": [
      "\n"
     ]
    },
    {
     "name": "stdout",
     "output_type": "stream",
     "text": [
      "Train -  [0.4714506172839506, 0.2952674897119342, 0.715007874815831, 0.4714506172839506, tensor(1.2516)]\n",
      "Validation -  [0.4347993827160494, 0.24639917695473246, 0.6855848797185389, 0.4347993827160494, tensor(1.2797)]\n",
      "\n",
      "Epoch  458\n"
     ]
    },
    {
     "name": "stderr",
     "output_type": "stream",
     "text": [
      "81it [00:02, 39.32it/s]"
     ]
    },
    {
     "name": "stdout",
     "output_type": "stream",
     "text": [
      "['acc', 'kappa', 'auc', 'fmeasure', 'loss']\n",
      "Training Loss  1.251959487243935\n"
     ]
    },
    {
     "name": "stderr",
     "output_type": "stream",
     "text": [
      "\n"
     ]
    },
    {
     "name": "stdout",
     "output_type": "stream",
     "text": [
      "Train -  [0.4722222222222222, 0.2962962962962963, 0.7152277663465934, 0.4722222222222222, tensor(1.2516)]\n",
      "Validation -  [0.4390432098765432, 0.2520576131687243, 0.6859135262663212, 0.4390432098765432, tensor(1.2796)]\n",
      "\n",
      "Epoch  459\n"
     ]
    },
    {
     "name": "stderr",
     "output_type": "stream",
     "text": [
      "81it [00:01, 41.56it/s]"
     ]
    },
    {
     "name": "stdout",
     "output_type": "stream",
     "text": [
      "['acc', 'kappa', 'auc', 'fmeasure', 'loss']\n",
      "Training Loss  1.25191518848325\n"
     ]
    },
    {
     "name": "stderr",
     "output_type": "stream",
     "text": [
      "\n"
     ]
    },
    {
     "name": "stdout",
     "output_type": "stream",
     "text": [
      "Train -  [0.4714506172839506, 0.2952674897119342, 0.7150634430727024, 0.4714506172839506, tensor(1.2515)]\n",
      "Validation -  [0.4375, 0.25, 0.6856968100645227, 0.4375, tensor(1.2795)]\n",
      "\n",
      "Epoch  460\n"
     ]
    },
    {
     "name": "stderr",
     "output_type": "stream",
     "text": [
      "81it [00:01, 41.90it/s]"
     ]
    },
    {
     "name": "stdout",
     "output_type": "stream",
     "text": [
      "['acc', 'kappa', 'auc', 'fmeasure', 'loss']\n",
      "Training Loss  1.252117129019749\n"
     ]
    },
    {
     "name": "stderr",
     "output_type": "stream",
     "text": [
      "\n"
     ]
    },
    {
     "name": "stdout",
     "output_type": "stream",
     "text": [
      "Train -  [0.4702932098765432, 0.29372427983539096, 0.7150021195320835, 0.4702932098765432, tensor(1.2516)]\n",
      "Validation -  [0.4378858024691358, 0.2505144032921811, 0.6857142743738252, 0.4378858024691358, tensor(1.2796)]\n",
      "\n",
      "Epoch  461\n"
     ]
    },
    {
     "name": "stderr",
     "output_type": "stream",
     "text": [
      "81it [00:02, 38.87it/s]\n"
     ]
    },
    {
     "name": "stdout",
     "output_type": "stream",
     "text": [
      "['acc', 'kappa', 'auc', 'fmeasure', 'loss']\n",
      "Training Loss  1.2520452914414582\n",
      "Train -  [0.47183641975308643, 0.2957818930041153, 0.7152498944203118, 0.47183641975308643, tensor(1.2515)]\n",
      "Validation -  [0.4371141975308642, 0.2494855967078189, 0.6859500425494081, 0.4371141975308642, tensor(1.2795)]\n",
      "\n",
      "Epoch  462\n"
     ]
    },
    {
     "name": "stderr",
     "output_type": "stream",
     "text": [
      "81it [00:02, 39.97it/s]"
     ]
    },
    {
     "name": "stdout",
     "output_type": "stream",
     "text": [
      "['acc', 'kappa', 'auc', 'fmeasure', 'loss']\n",
      "Training Loss  1.252234110125789\n"
     ]
    },
    {
     "name": "stderr",
     "output_type": "stream",
     "text": [
      "\n"
     ]
    },
    {
     "name": "stdout",
     "output_type": "stream",
     "text": [
      "Train -  [0.47337962962962965, 0.2978395061728395, 0.7153007989127673, 0.47337962962962965, tensor(1.2515)]\n",
      "Validation -  [0.4347993827160494, 0.24639917695473246, 0.6859537140235228, 0.4347993827160494, tensor(1.2795)]\n",
      "\n",
      "Epoch  463\n"
     ]
    },
    {
     "name": "stderr",
     "output_type": "stream",
     "text": [
      "81it [00:01, 42.07it/s]"
     ]
    },
    {
     "name": "stdout",
     "output_type": "stream",
     "text": [
      "['acc', 'kappa', 'auc', 'fmeasure', 'loss']\n",
      "Training Loss  1.252091360680851\n"
     ]
    },
    {
     "name": "stderr",
     "output_type": "stream",
     "text": [
      "\n"
     ]
    },
    {
     "name": "stdout",
     "output_type": "stream",
     "text": [
      "Train -  [0.4699074074074074, 0.29320987654320985, 0.7153107218157801, 0.4699074074074074, tensor(1.2517)]\n",
      "Validation -  [0.4347993827160494, 0.24639917695473246, 0.6861409592033735, 0.4347993827160494, tensor(1.2793)]\n",
      "\n",
      "Epoch  464\n"
     ]
    },
    {
     "name": "stderr",
     "output_type": "stream",
     "text": [
      "81it [00:01, 43.66it/s]"
     ]
    },
    {
     "name": "stdout",
     "output_type": "stream",
     "text": [
      "['acc', 'kappa', 'auc', 'fmeasure', 'loss']\n",
      "Training Loss  1.2521530286765392\n"
     ]
    },
    {
     "name": "stderr",
     "output_type": "stream",
     "text": [
      "\n"
     ]
    },
    {
     "name": "stdout",
     "output_type": "stream",
     "text": [
      "Train -  [0.4710648148148148, 0.29475308641975306, 0.7152851207260071, 0.4710648148148148, tensor(1.2515)]\n",
      "Validation -  [0.4371141975308642, 0.2494855967078189, 0.6860139460448103, 0.4371141975308642, tensor(1.2793)]\n",
      "\n",
      "Epoch  465\n"
     ]
    },
    {
     "name": "stderr",
     "output_type": "stream",
     "text": [
      "81it [00:01, 40.92it/s]"
     ]
    },
    {
     "name": "stdout",
     "output_type": "stream",
     "text": [
      "['acc', 'kappa', 'auc', 'fmeasure', 'loss']\n",
      "Training Loss  1.2520971106894223\n"
     ]
    },
    {
     "name": "stderr",
     "output_type": "stream",
     "text": [
      "\n"
     ]
    },
    {
     "name": "stdout",
     "output_type": "stream",
     "text": [
      "Train -  [0.4699074074074074, 0.29320987654320985, 0.7151071038459584, 0.4699074074074074, tensor(1.2515)]\n",
      "Validation -  [0.4347993827160494, 0.24639917695473246, 0.6858448597774729, 0.4347993827160494, tensor(1.2794)]\n",
      "\n",
      "Epoch  466\n"
     ]
    },
    {
     "name": "stderr",
     "output_type": "stream",
     "text": [
      "81it [00:01, 41.21it/s]"
     ]
    },
    {
     "name": "stdout",
     "output_type": "stream",
     "text": [
      "['acc', 'kappa', 'auc', 'fmeasure', 'loss']\n",
      "Training Loss  1.2520845510341503\n"
     ]
    },
    {
     "name": "stderr",
     "output_type": "stream",
     "text": [
      "\n"
     ]
    },
    {
     "name": "stdout",
     "output_type": "stream",
     "text": [
      "Train -  [0.4699074074074074, 0.29320987654320985, 0.7152239956434487, 0.4699074074074074, tensor(1.2515)]\n",
      "Validation -  [0.4363425925925926, 0.24845679012345678, 0.6859419057689377, 0.4363425925925926, tensor(1.2793)]\n",
      "\n",
      "Epoch  467\n"
     ]
    },
    {
     "name": "stderr",
     "output_type": "stream",
     "text": [
      "81it [00:02, 39.60it/s]"
     ]
    },
    {
     "name": "stdout",
     "output_type": "stream",
     "text": [
      "['acc', 'kappa', 'auc', 'fmeasure', 'loss']\n",
      "Training Loss  1.2521958351135254\n"
     ]
    },
    {
     "name": "stderr",
     "output_type": "stream",
     "text": [
      "\n"
     ]
    },
    {
     "name": "stdout",
     "output_type": "stream",
     "text": [
      "Train -  [0.4675925925925926, 0.2901234567901234, 0.715323820047757, 0.4675925925925926, tensor(1.2515)]\n",
      "Validation -  [0.4351851851851852, 0.24691358024691357, 0.6862279830627953, 0.4351851851851852, tensor(1.2791)]\n",
      "\n",
      "Epoch  468\n"
     ]
    },
    {
     "name": "stderr",
     "output_type": "stream",
     "text": [
      "81it [00:02, 40.13it/s]"
     ]
    },
    {
     "name": "stdout",
     "output_type": "stream",
     "text": [
      "['acc', 'kappa', 'auc', 'fmeasure', 'loss']\n",
      "Training Loss  1.2520399549861012\n"
     ]
    },
    {
     "name": "stderr",
     "output_type": "stream",
     "text": [
      "\n"
     ]
    },
    {
     "name": "stdout",
     "output_type": "stream",
     "text": [
      "Train -  [0.4699074074074074, 0.29320987654320985, 0.7154281097584209, 0.4699074074074074, tensor(1.2515)]\n",
      "Validation -  [0.4363425925925926, 0.24845679012345678, 0.686272933813443, 0.4363425925925926, tensor(1.2791)]\n",
      "\n",
      "Epoch  469\n"
     ]
    },
    {
     "name": "stderr",
     "output_type": "stream",
     "text": [
      "81it [00:01, 41.19it/s]"
     ]
    },
    {
     "name": "stdout",
     "output_type": "stream",
     "text": [
      "['acc', 'kappa', 'auc', 'fmeasure', 'loss']\n",
      "Training Loss  1.2519895839102475\n"
     ]
    },
    {
     "name": "stderr",
     "output_type": "stream",
     "text": [
      "\n"
     ]
    },
    {
     "name": "stdout",
     "output_type": "stream",
     "text": [
      "Train -  [0.4714506172839506, 0.2952674897119342, 0.7155220796499517, 0.4714506172839506, tensor(1.2515)]\n",
      "Validation -  [0.4359567901234568, 0.24794238683127567, 0.686419197403851, 0.4359567901234568, tensor(1.2791)]\n",
      "\n",
      "Epoch  470\n"
     ]
    },
    {
     "name": "stderr",
     "output_type": "stream",
     "text": [
      "81it [00:01, 40.91it/s]"
     ]
    },
    {
     "name": "stdout",
     "output_type": "stream",
     "text": [
      "['acc', 'kappa', 'auc', 'fmeasure', 'loss']\n",
      "Training Loss  1.2519613563278575\n"
     ]
    },
    {
     "name": "stderr",
     "output_type": "stream",
     "text": [
      "\n"
     ]
    },
    {
     "name": "stdout",
     "output_type": "stream",
     "text": [
      "Train -  [0.4702932098765432, 0.29372427983539096, 0.7154159045877153, 0.4702932098765432, tensor(1.2515)]\n",
      "Validation -  [0.4378858024691358, 0.2505144032921811, 0.6862014889117511, 0.4378858024691358, tensor(1.2793)]\n",
      "\n",
      "Epoch  471\n"
     ]
    },
    {
     "name": "stderr",
     "output_type": "stream",
     "text": [
      "81it [00:01, 41.89it/s]"
     ]
    },
    {
     "name": "stdout",
     "output_type": "stream",
     "text": [
      "['acc', 'kappa', 'auc', 'fmeasure', 'loss']\n",
      "Training Loss  1.2518486402652882\n"
     ]
    },
    {
     "name": "stderr",
     "output_type": "stream",
     "text": [
      "\n"
     ]
    },
    {
     "name": "stdout",
     "output_type": "stream",
     "text": [
      "Train -  [0.4691358024691358, 0.29218106995884774, 0.715532399469085, 0.4691358024691358, tensor(1.2515)]\n",
      "Validation -  [0.4363425925925926, 0.24845679012345678, 0.6864730787672103, 0.4363425925925926, tensor(1.2791)]\n",
      "\n",
      "Epoch  472\n"
     ]
    },
    {
     "name": "stderr",
     "output_type": "stream",
     "text": [
      "81it [00:01, 41.11it/s]"
     ]
    },
    {
     "name": "stdout",
     "output_type": "stream",
     "text": [
      "['acc', 'kappa', 'auc', 'fmeasure', 'loss']\n",
      "Training Loss  1.251974294215073\n"
     ]
    },
    {
     "name": "stderr",
     "output_type": "stream",
     "text": [
      "\n"
     ]
    },
    {
     "name": "stdout",
     "output_type": "stream",
     "text": [
      "Train -  [0.470679012345679, 0.29423868312757206, 0.7153315599121068, 0.47067901234567894, tensor(1.2514)]\n",
      "Validation -  [0.4371141975308642, 0.2494855967078189, 0.6860377610120407, 0.4371141975308642, tensor(1.2793)]\n",
      "\n",
      "Epoch  473\n"
     ]
    },
    {
     "name": "stderr",
     "output_type": "stream",
     "text": [
      "81it [00:02, 38.31it/s]"
     ]
    },
    {
     "name": "stdout",
     "output_type": "stream",
     "text": [
      "['acc', 'kappa', 'auc', 'fmeasure', 'loss']\n",
      "Training Loss  1.2517837315429876\n"
     ]
    },
    {
     "name": "stderr",
     "output_type": "stream",
     "text": [
      "\n"
     ]
    },
    {
     "name": "stdout",
     "output_type": "stream",
     "text": [
      "Train -  [0.4710648148148148, 0.29475308641975306, 0.7153569625438194, 0.4710648148148148, tensor(1.2514)]\n",
      "Validation -  [0.4363425925925926, 0.24845679012345678, 0.6860714988822842, 0.4363425925925926, tensor(1.2793)]\n",
      "\n",
      "Epoch  474\n"
     ]
    },
    {
     "name": "stderr",
     "output_type": "stream",
     "text": [
      "81it [00:02, 40.04it/s]"
     ]
    },
    {
     "name": "stdout",
     "output_type": "stream",
     "text": [
      "['acc', 'kappa', 'auc', 'fmeasure', 'loss']\n",
      "Training Loss  1.2521056952299896\n"
     ]
    },
    {
     "name": "stderr",
     "output_type": "stream",
     "text": [
      "\n"
     ]
    },
    {
     "name": "stdout",
     "output_type": "stream",
     "text": [
      "Train -  [0.4702932098765432, 0.29372427983539096, 0.715280357732561, 0.4702932098765432, tensor(1.2514)]\n",
      "Validation -  [0.4367283950617284, 0.2489711934156379, 0.6860065038675506, 0.4367283950617284, tensor(1.2793)]\n",
      "\n",
      "Epoch  475\n"
     ]
    },
    {
     "name": "stderr",
     "output_type": "stream",
     "text": [
      "81it [00:01, 42.51it/s]"
     ]
    },
    {
     "name": "stdout",
     "output_type": "stream",
     "text": [
      "['acc', 'kappa', 'auc', 'fmeasure', 'loss']\n",
      "Training Loss  1.2521826072975442\n"
     ]
    },
    {
     "name": "stderr",
     "output_type": "stream",
     "text": [
      "\n"
     ]
    },
    {
     "name": "stdout",
     "output_type": "stream",
     "text": [
      "Train -  [0.4714506172839506, 0.2952674897119342, 0.715362122453386, 0.4714506172839506, tensor(1.2515)]\n",
      "Validation -  [0.4398148148148148, 0.25308641975308643, 0.6861317309035716, 0.4398148148148148, tensor(1.2793)]\n",
      "\n",
      "Epoch  476\n"
     ]
    },
    {
     "name": "stderr",
     "output_type": "stream",
     "text": [
      "81it [00:02, 40.32it/s]"
     ]
    },
    {
     "name": "stdout",
     "output_type": "stream",
     "text": [
      "['acc', 'kappa', 'auc', 'fmeasure', 'loss']\n",
      "Training Loss  1.25198534535773\n"
     ]
    },
    {
     "name": "stderr",
     "output_type": "stream",
     "text": [
      "\n"
     ]
    },
    {
     "name": "stdout",
     "output_type": "stream",
     "text": [
      "Train -  [0.47183641975308643, 0.2957818930041153, 0.7153569625438195, 0.47183641975308643, tensor(1.2514)]\n",
      "Validation -  [0.435570987654321, 0.24742798353909468, 0.6860585991083676, 0.435570987654321, tensor(1.2794)]\n",
      "\n",
      "Epoch  477\n"
     ]
    },
    {
     "name": "stderr",
     "output_type": "stream",
     "text": [
      "81it [00:02, 38.60it/s]"
     ]
    },
    {
     "name": "stdout",
     "output_type": "stream",
     "text": [
      "['acc', 'kappa', 'auc', 'fmeasure', 'loss']\n",
      "Training Loss  1.2524272335900202\n"
     ]
    },
    {
     "name": "stderr",
     "output_type": "stream",
     "text": [
      "\n"
     ]
    },
    {
     "name": "stdout",
     "output_type": "stream",
     "text": [
      "Train -  [0.4679783950617284, 0.2906378600823045, 0.7156099965706448, 0.4679783950617284, tensor(1.2515)]\n",
      "Validation -  [0.4351851851851852, 0.24691358024691357, 0.6866124955545394, 0.4351851851851852, tensor(1.2789)]\n",
      "\n",
      "Epoch  478\n"
     ]
    },
    {
     "name": "stderr",
     "output_type": "stream",
     "text": [
      "81it [00:02, 40.05it/s]"
     ]
    },
    {
     "name": "stdout",
     "output_type": "stream",
     "text": [
      "['acc', 'kappa', 'auc', 'fmeasure', 'loss']\n",
      "Training Loss  1.2518070965637396\n"
     ]
    },
    {
     "name": "stderr",
     "output_type": "stream",
     "text": [
      "\n"
     ]
    },
    {
     "name": "stdout",
     "output_type": "stream",
     "text": [
      "Train -  [0.4722222222222222, 0.2962962962962963, 0.7154129277168115, 0.4722222222222222, tensor(1.2514)]\n",
      "Validation -  [0.4359567901234568, 0.24794238683127567, 0.6860725904016157, 0.4359567901234568, tensor(1.2793)]\n",
      "\n",
      "Epoch  479\n"
     ]
    },
    {
     "name": "stderr",
     "output_type": "stream",
     "text": [
      "81it [00:01, 41.81it/s]"
     ]
    },
    {
     "name": "stdout",
     "output_type": "stream",
     "text": [
      "['acc', 'kappa', 'auc', 'fmeasure', 'loss']\n",
      "Training Loss  1.2518308412881545\n"
     ]
    },
    {
     "name": "stderr",
     "output_type": "stream",
     "text": [
      "\n"
     ]
    },
    {
     "name": "stdout",
     "output_type": "stream",
     "text": [
      "Train -  [0.4695216049382716, 0.29269547325102885, 0.7153587486663618, 0.46952160493827155, tensor(1.2514)]\n",
      "Validation -  [0.435570987654321, 0.24742798353909468, 0.6861123812426966, 0.435570987654321, tensor(1.2792)]\n",
      "\n",
      "Epoch  480\n"
     ]
    },
    {
     "name": "stderr",
     "output_type": "stream",
     "text": [
      "81it [00:02, 39.00it/s]"
     ]
    },
    {
     "name": "stdout",
     "output_type": "stream",
     "text": [
      "['acc', 'kappa', 'auc', 'fmeasure', 'loss']\n",
      "Training Loss  1.2518919191242737\n"
     ]
    },
    {
     "name": "stderr",
     "output_type": "stream",
     "text": [
      "\n"
     ]
    },
    {
     "name": "stdout",
     "output_type": "stream",
     "text": [
      "Train -  [0.47183641975308643, 0.2957818930041153, 0.7152674579586444, 0.47183641975308643, tensor(1.2514)]\n",
      "Validation -  [0.4375, 0.25, 0.6858547826804857, 0.4375, tensor(1.2795)]\n",
      "\n",
      "Epoch  481\n"
     ]
    },
    {
     "name": "stderr",
     "output_type": "stream",
     "text": [
      "81it [00:02, 40.36it/s]"
     ]
    },
    {
     "name": "stdout",
     "output_type": "stream",
     "text": [
      "['acc', 'kappa', 'auc', 'fmeasure', 'loss']\n",
      "Training Loss  1.2517427780010082\n"
     ]
    },
    {
     "name": "stderr",
     "output_type": "stream",
     "text": [
      "\n"
     ]
    },
    {
     "name": "stdout",
     "output_type": "stream",
     "text": [
      "Train -  [0.47260802469135804, 0.2968106995884774, 0.7153480319311081, 0.47260802469135804, tensor(1.2514)]\n",
      "Validation -  [0.4363425925925926, 0.24845679012345678, 0.6859716744779759, 0.4363425925925926, tensor(1.2794)]\n",
      "\n",
      "Epoch  482\n"
     ]
    },
    {
     "name": "stderr",
     "output_type": "stream",
     "text": [
      "81it [00:02, 39.55it/s]"
     ]
    },
    {
     "name": "stdout",
     "output_type": "stream",
     "text": [
      "['acc', 'kappa', 'auc', 'fmeasure', 'loss']\n",
      "Training Loss  1.2518859292254036\n"
     ]
    },
    {
     "name": "stderr",
     "output_type": "stream",
     "text": [
      "\n"
     ]
    },
    {
     "name": "stdout",
     "output_type": "stream",
     "text": [
      "Train -  [0.46875, 0.29166666666666663, 0.7152794646712899, 0.46875, tensor(1.2515)]\n",
      "Validation -  [0.4332561728395062, 0.24434156378600824, 0.6859889403292181, 0.4332561728395062, tensor(1.2793)]\n",
      "\n",
      "Epoch  483\n"
     ]
    },
    {
     "name": "stderr",
     "output_type": "stream",
     "text": [
      "81it [00:02, 38.81it/s]"
     ]
    },
    {
     "name": "stdout",
     "output_type": "stream",
     "text": [
      "['acc', 'kappa', 'auc', 'fmeasure', 'loss']\n",
      "Training Loss  1.251842796066661\n"
     ]
    },
    {
     "name": "stderr",
     "output_type": "stream",
     "text": [
      "\n"
     ]
    },
    {
     "name": "stdout",
     "output_type": "stream",
     "text": [
      "Train -  [0.47183641975308643, 0.2957818930041153, 0.715413523090992, 0.47183641975308643, tensor(1.2514)]\n",
      "Validation -  [0.4351851851851852, 0.24691358024691357, 0.6861268686810954, 0.4351851851851852, tensor(1.2793)]\n",
      "\n",
      "Epoch  484\n"
     ]
    },
    {
     "name": "stderr",
     "output_type": "stream",
     "text": [
      "81it [00:01, 42.03it/s]"
     ]
    },
    {
     "name": "stdout",
     "output_type": "stream",
     "text": [
      "['acc', 'kappa', 'auc', 'fmeasure', 'loss']\n",
      "Training Loss  1.251742598451214\n"
     ]
    },
    {
     "name": "stderr",
     "output_type": "stream",
     "text": [
      "\n"
     ]
    },
    {
     "name": "stdout",
     "output_type": "stream",
     "text": [
      "Train -  [0.47183641975308643, 0.2957818930041153, 0.7152716255779099, 0.47183641975308643, tensor(1.2513)]\n",
      "Validation -  [0.4378858024691358, 0.2505144032921811, 0.6858642094383479, 0.4378858024691358, tensor(1.2794)]\n",
      "\n",
      "Epoch  485\n"
     ]
    },
    {
     "name": "stderr",
     "output_type": "stream",
     "text": [
      "81it [00:01, 42.28it/s]"
     ]
    },
    {
     "name": "stdout",
     "output_type": "stream",
     "text": [
      "['acc', 'kappa', 'auc', 'fmeasure', 'loss']\n",
      "Training Loss  1.2518444458643596\n"
     ]
    },
    {
     "name": "stderr",
     "output_type": "stream",
     "text": [
      "\n"
     ]
    },
    {
     "name": "stdout",
     "output_type": "stream",
     "text": [
      "Train -  [0.46875, 0.29166666666666663, 0.7156013636450236, 0.46875, tensor(1.2515)]\n",
      "Validation -  [0.435570987654321, 0.24742798353909468, 0.6866029695676472, 0.435570987654321, tensor(1.2788)]\n",
      "\n",
      "Epoch  486\n"
     ]
    },
    {
     "name": "stderr",
     "output_type": "stream",
     "text": [
      "81it [00:01, 42.52it/s]"
     ]
    },
    {
     "name": "stdout",
     "output_type": "stream",
     "text": [
      "['acc', 'kappa', 'auc', 'fmeasure', 'loss']\n",
      "Training Loss  1.2518276005615423\n"
     ]
    },
    {
     "name": "stderr",
     "output_type": "stream",
     "text": [
      "\n"
     ]
    },
    {
     "name": "stdout",
     "output_type": "stream",
     "text": [
      "Train -  [0.47337962962962965, 0.2978395061728395, 0.71542741515521, 0.47337962962962965, tensor(1.2513)]\n",
      "Validation -  [0.4386574074074074, 0.2515432098765432, 0.6860417301732459, 0.4386574074074074, tensor(1.2794)]\n",
      "\n",
      "Epoch  487\n"
     ]
    },
    {
     "name": "stderr",
     "output_type": "stream",
     "text": [
      "81it [00:01, 40.83it/s]"
     ]
    },
    {
     "name": "stdout",
     "output_type": "stream",
     "text": [
      "['acc', 'kappa', 'auc', 'fmeasure', 'loss']\n",
      "Training Loss  1.2517621016796725\n"
     ]
    },
    {
     "name": "stderr",
     "output_type": "stream",
     "text": [
      "\n"
     ]
    },
    {
     "name": "stdout",
     "output_type": "stream",
     "text": [
      "Train -  [0.47183641975308643, 0.2957818930041153, 0.7152749993649341, 0.47183641975308643, tensor(1.2513)]\n",
      "Validation -  [0.4375, 0.25, 0.6858918943377534, 0.4375, tensor(1.2794)]\n",
      "\n",
      "Epoch  488\n"
     ]
    },
    {
     "name": "stderr",
     "output_type": "stream",
     "text": [
      "81it [00:01, 40.81it/s]"
     ]
    },
    {
     "name": "stdout",
     "output_type": "stream",
     "text": [
      "['acc', 'kappa', 'auc', 'fmeasure', 'loss']\n",
      "Training Loss  1.2519100021432947\n"
     ]
    },
    {
     "name": "stderr",
     "output_type": "stream",
     "text": [
      "\n"
     ]
    },
    {
     "name": "stdout",
     "output_type": "stream",
     "text": [
      "Train -  [0.47260802469135804, 0.2968106995884774, 0.7155676257747803, 0.47260802469135804, tensor(1.2513)]\n",
      "Validation -  [0.4359567901234568, 0.24794238683127567, 0.6862772998907687, 0.4359567901234568, tensor(1.2792)]\n",
      "\n",
      "Epoch  489\n"
     ]
    },
    {
     "name": "stderr",
     "output_type": "stream",
     "text": [
      "81it [00:01, 43.48it/s]"
     ]
    },
    {
     "name": "stdout",
     "output_type": "stream",
     "text": [
      "['acc', 'kappa', 'auc', 'fmeasure', 'loss']\n",
      "Training Loss  1.2518306499646035\n"
     ]
    },
    {
     "name": "stderr",
     "output_type": "stream",
     "text": [
      "\n"
     ]
    },
    {
     "name": "stdout",
     "output_type": "stream",
     "text": [
      "Train -  [0.4699074074074074, 0.29320987654320985, 0.7155252549789158, 0.4699074074074074, tensor(1.2513)]\n",
      "Validation -  [0.4375, 0.25, 0.686307167828837, 0.4375, tensor(1.2791)]\n",
      "\n",
      "Epoch  490\n"
     ]
    },
    {
     "name": "stderr",
     "output_type": "stream",
     "text": [
      "81it [00:02, 39.13it/s]"
     ]
    },
    {
     "name": "stdout",
     "output_type": "stream",
     "text": [
      "['acc', 'kappa', 'auc', 'fmeasure', 'loss']\n",
      "Training Loss  1.2517329380836015\n"
     ]
    },
    {
     "name": "stderr",
     "output_type": "stream",
     "text": [
      "\n"
     ]
    },
    {
     "name": "stdout",
     "output_type": "stream",
     "text": [
      "Train -  [0.4710648148148148, 0.29475308641975306, 0.7154742512574304, 0.4710648148148148, tensor(1.2513)]\n",
      "Validation -  [0.4378858024691358, 0.2505144032921811, 0.686205954218107, 0.4378858024691358, tensor(1.2792)]\n",
      "\n",
      "Epoch  491\n"
     ]
    },
    {
     "name": "stderr",
     "output_type": "stream",
     "text": [
      "81it [00:02, 38.20it/s]"
     ]
    },
    {
     "name": "stdout",
     "output_type": "stream",
     "text": [
      "['acc', 'kappa', 'auc', 'fmeasure', 'loss']\n",
      "Training Loss  1.2517370971632593\n"
     ]
    },
    {
     "name": "stderr",
     "output_type": "stream",
     "text": [
      "\n"
     ]
    },
    {
     "name": "stdout",
     "output_type": "stream",
     "text": [
      "Train -  [0.470679012345679, 0.29423868312757206, 0.715526247269217, 0.47067901234567894, tensor(1.2513)]\n",
      "Validation -  [0.4386574074074074, 0.2515432098765432, 0.6863757350886551, 0.4386574074074074, tensor(1.2791)]\n",
      "\n",
      "Epoch  492\n"
     ]
    },
    {
     "name": "stderr",
     "output_type": "stream",
     "text": [
      "81it [00:02, 39.54it/s]"
     ]
    },
    {
     "name": "stdout",
     "output_type": "stream",
     "text": [
      "['acc', 'kappa', 'auc', 'fmeasure', 'loss']\n",
      "Training Loss  1.251832315951218\n"
     ]
    },
    {
     "name": "stderr",
     "output_type": "stream",
     "text": [
      "\n"
     ]
    },
    {
     "name": "stdout",
     "output_type": "stream",
     "text": [
      "Train -  [0.470679012345679, 0.29423868312757206, 0.7154972723924198, 0.47067901234567894, tensor(1.2513)]\n",
      "Validation -  [0.4375, 0.25, 0.6862299676433978, 0.4375, tensor(1.2791)]\n",
      "\n",
      "Epoch  493\n"
     ]
    },
    {
     "name": "stderr",
     "output_type": "stream",
     "text": [
      "81it [00:02, 40.24it/s]"
     ]
    },
    {
     "name": "stdout",
     "output_type": "stream",
     "text": [
      "['acc', 'kappa', 'auc', 'fmeasure', 'loss']\n",
      "Training Loss  1.251700555836713\n"
     ]
    },
    {
     "name": "stderr",
     "output_type": "stream",
     "text": [
      "\n"
     ]
    },
    {
     "name": "stdout",
     "output_type": "stream",
     "text": [
      "Train -  [0.470679012345679, 0.29423868312757206, 0.715511362914698, 0.47067901234567894, tensor(1.2513)]\n",
      "Validation -  [0.4382716049382716, 0.2510288065843621, 0.6862997256515775, 0.4382716049382716, tensor(1.2791)]\n",
      "\n",
      "Epoch  494\n"
     ]
    },
    {
     "name": "stderr",
     "output_type": "stream",
     "text": [
      "81it [00:02, 38.51it/s]"
     ]
    },
    {
     "name": "stdout",
     "output_type": "stream",
     "text": [
      "['acc', 'kappa', 'auc', 'fmeasure', 'loss']\n",
      "Training Loss  1.2520379490322537\n"
     ]
    },
    {
     "name": "stderr",
     "output_type": "stream",
     "text": [
      "\n"
     ]
    },
    {
     "name": "stdout",
     "output_type": "stream",
     "text": [
      "Train -  [0.47183641975308643, 0.2957818930041153, 0.7154373380582228, 0.47183641975308643, tensor(1.2513)]\n",
      "Validation -  [0.4371141975308642, 0.2494855967078189, 0.6861234948940709, 0.4371141975308642, tensor(1.2792)]\n",
      "\n",
      "Epoch  495\n"
     ]
    },
    {
     "name": "stderr",
     "output_type": "stream",
     "text": [
      "81it [00:01, 41.42it/s]"
     ]
    },
    {
     "name": "stdout",
     "output_type": "stream",
     "text": [
      "['acc', 'kappa', 'auc', 'fmeasure', 'loss']\n",
      "Training Loss  1.2518692060753152\n"
     ]
    },
    {
     "name": "stderr",
     "output_type": "stream",
     "text": [
      "\n"
     ]
    },
    {
     "name": "stdout",
     "output_type": "stream",
     "text": [
      "Train -  [0.4672067901234568, 0.2896090534979424, 0.7157074394782299, 0.4672067901234568, tensor(1.2513)]\n",
      "Validation -  [0.4347993827160494, 0.24639917695473246, 0.6866461341957526, 0.4347993827160494, tensor(1.2788)]\n",
      "\n",
      "Epoch  496\n"
     ]
    },
    {
     "name": "stderr",
     "output_type": "stream",
     "text": [
      "81it [00:02, 40.04it/s]"
     ]
    },
    {
     "name": "stdout",
     "output_type": "stream",
     "text": [
      "['acc', 'kappa', 'auc', 'fmeasure', 'loss']\n",
      "Training Loss  1.2521944752445928\n"
     ]
    },
    {
     "name": "stderr",
     "output_type": "stream",
     "text": [
      "\n"
     ]
    },
    {
     "name": "stdout",
     "output_type": "stream",
     "text": [
      "Train -  [0.4691358024691358, 0.29218106995884774, 0.7156419483183457, 0.4691358024691358, tensor(1.2513)]\n",
      "Validation -  [0.4359567901234568, 0.24794238683127567, 0.6864745672026622, 0.4359567901234568, tensor(1.2790)]\n",
      "\n",
      "Epoch  497\n"
     ]
    },
    {
     "name": "stderr",
     "output_type": "stream",
     "text": [
      "81it [00:02, 39.50it/s]"
     ]
    },
    {
     "name": "stdout",
     "output_type": "stream",
     "text": [
      "['acc', 'kappa', 'auc', 'fmeasure', 'loss']\n",
      "Training Loss  1.2517826601311013\n"
     ]
    },
    {
     "name": "stderr",
     "output_type": "stream",
     "text": [
      "\n"
     ]
    },
    {
     "name": "stdout",
     "output_type": "stream",
     "text": [
      "Train -  [0.4714506172839506, 0.2952674897119342, 0.7154426964258497, 0.4714506172839506, tensor(1.2513)]\n",
      "Validation -  [0.4386574074074074, 0.2515432098765432, 0.6860734834628868, 0.4386574074074074, tensor(1.2793)]\n",
      "\n",
      "Epoch  498\n"
     ]
    },
    {
     "name": "stderr",
     "output_type": "stream",
     "text": [
      "81it [00:01, 42.77it/s]"
     ]
    },
    {
     "name": "stdout",
     "output_type": "stream",
     "text": [
      "['acc', 'kappa', 'auc', 'fmeasure', 'loss']\n",
      "Training Loss  1.2517710070551178\n"
     ]
    },
    {
     "name": "stderr",
     "output_type": "stream",
     "text": [
      "\n"
     ]
    },
    {
     "name": "stdout",
     "output_type": "stream",
     "text": [
      "Train -  [0.47183641975308643, 0.2957818930041153, 0.7156234917187422, 0.47183641975308643, tensor(1.2512)]\n",
      "Validation -  [0.4359567901234568, 0.24794238683127567, 0.6863517216633643, 0.4359567901234568, tensor(1.2791)]\n",
      "\n",
      "Epoch  499\n"
     ]
    },
    {
     "name": "stderr",
     "output_type": "stream",
     "text": [
      "81it [00:02, 40.34it/s]"
     ]
    },
    {
     "name": "stdout",
     "output_type": "stream",
     "text": [
      "['acc', 'kappa', 'auc', 'fmeasure', 'loss']\n",
      "Training Loss  1.2520429793699288\n"
     ]
    },
    {
     "name": "stderr",
     "output_type": "stream",
     "text": [
      "\n"
     ]
    },
    {
     "name": "stdout",
     "output_type": "stream",
     "text": [
      "Train -  [0.47183641975308643, 0.2957818930041153, 0.7156213086800792, 0.47183641975308643, tensor(1.2512)]\n",
      "Validation -  [0.4375, 0.25, 0.6863344558121222, 0.4375, tensor(1.2791)]\n",
      "\n",
      "Epoch  500\n"
     ]
    },
    {
     "name": "stderr",
     "output_type": "stream",
     "text": [
      "81it [00:01, 41.03it/s]"
     ]
    },
    {
     "name": "stdout",
     "output_type": "stream",
     "text": [
      "['acc', 'kappa', 'auc', 'fmeasure', 'loss']\n",
      "Training Loss  1.251620770972452\n"
     ]
    },
    {
     "name": "stderr",
     "output_type": "stream",
     "text": [
      "\n"
     ]
    },
    {
     "name": "stdout",
     "output_type": "stream",
     "text": [
      "Train -  [0.4722222222222222, 0.2962962962962963, 0.7155528406492913, 0.4722222222222222, tensor(1.2512)]\n",
      "Validation -  [0.4363425925925926, 0.24845679012345678, 0.6862311583917594, 0.4363425925925926, tensor(1.2792)]\n",
      "\n",
      "Epoch  501\n"
     ]
    },
    {
     "name": "stderr",
     "output_type": "stream",
     "text": [
      "81it [00:01, 41.32it/s]"
     ]
    },
    {
     "name": "stdout",
     "output_type": "stream",
     "text": [
      "['acc', 'kappa', 'auc', 'fmeasure', 'loss']\n",
      "Training Loss  1.25188057952457\n"
     ]
    },
    {
     "name": "stderr",
     "output_type": "stream",
     "text": [
      "\n"
     ]
    },
    {
     "name": "stdout",
     "output_type": "stream",
     "text": [
      "Train -  [0.4729938271604938, 0.2973251028806584, 0.7157455434257989, 0.4729938271604938, tensor(1.2512)]\n",
      "Validation -  [0.4375, 0.25, 0.6864894515571813, 0.4375, tensor(1.2792)]\n",
      "\n",
      "Epoch  502\n"
     ]
    },
    {
     "name": "stderr",
     "output_type": "stream",
     "text": [
      "81it [00:02, 39.10it/s]"
     ]
    },
    {
     "name": "stdout",
     "output_type": "stream",
     "text": [
      "['acc', 'kappa', 'auc', 'fmeasure', 'loss']\n",
      "Training Loss  1.25157215418639\n"
     ]
    },
    {
     "name": "stderr",
     "output_type": "stream",
     "text": [
      "\n"
     ]
    },
    {
     "name": "stdout",
     "output_type": "stream",
     "text": [
      "Train -  [0.46875, 0.29166666666666663, 0.7157247053294722, 0.46875, tensor(1.2512)]\n",
      "Validation -  [0.4347993827160494, 0.24639917695473246, 0.6865736970037596, 0.4347993827160494, tensor(1.2789)]\n",
      "\n",
      "Epoch  503\n"
     ]
    },
    {
     "name": "stderr",
     "output_type": "stream",
     "text": [
      "81it [00:02, 39.49it/s]"
     ]
    },
    {
     "name": "stdout",
     "output_type": "stream",
     "text": [
      "['acc', 'kappa', 'auc', 'fmeasure', 'loss']\n",
      "Training Loss  1.2515144421730513\n"
     ]
    },
    {
     "name": "stderr",
     "output_type": "stream",
     "text": [
      "\n"
     ]
    },
    {
     "name": "stdout",
     "output_type": "stream",
     "text": [
      "Train -  [0.470679012345679, 0.29423868312757206, 0.7156411544861048, 0.47067901234567894, tensor(1.2512)]\n",
      "Validation -  [0.4378858024691358, 0.2505144032921811, 0.6864153274716761, 0.4378858024691358, tensor(1.2790)]\n",
      "\n",
      "Epoch  504\n"
     ]
    },
    {
     "name": "stderr",
     "output_type": "stream",
     "text": [
      "81it [00:02, 39.20it/s]"
     ]
    },
    {
     "name": "stdout",
     "output_type": "stream",
     "text": [
      "['acc', 'kappa', 'auc', 'fmeasure', 'loss']\n",
      "Training Loss  1.2519143451879053\n"
     ]
    },
    {
     "name": "stderr",
     "output_type": "stream",
     "text": [
      "\n"
     ]
    },
    {
     "name": "stdout",
     "output_type": "stream",
     "text": [
      "Train -  [0.4710648148148148, 0.29475308641975306, 0.7153756176014835, 0.4710648148148148, tensor(1.2513)]\n",
      "Validation -  [0.4378858024691358, 0.2505144032921811, 0.6861614003835796, 0.4378858024691358, tensor(1.2792)]\n",
      "\n",
      "Epoch  505\n"
     ]
    },
    {
     "name": "stderr",
     "output_type": "stream",
     "text": [
      "81it [00:02, 39.27it/s]"
     ]
    },
    {
     "name": "stdout",
     "output_type": "stream",
     "text": [
      "['acc', 'kappa', 'auc', 'fmeasure', 'loss']\n",
      "Training Loss  1.2520293438876118\n"
     ]
    },
    {
     "name": "stderr",
     "output_type": "stream",
     "text": [
      "\n"
     ]
    },
    {
     "name": "stdout",
     "output_type": "stream",
     "text": [
      "Train -  [0.4695216049382716, 0.29269547325102885, 0.7157745183025961, 0.46952160493827155, tensor(1.2512)]\n",
      "Validation -  [0.4359567901234568, 0.24794238683127567, 0.6866575455342173, 0.4359567901234568, tensor(1.2788)]\n",
      "\n",
      "Epoch  506\n"
     ]
    },
    {
     "name": "stderr",
     "output_type": "stream",
     "text": [
      "81it [00:01, 42.58it/s]"
     ]
    },
    {
     "name": "stdout",
     "output_type": "stream",
     "text": [
      "['acc', 'kappa', 'auc', 'fmeasure', 'loss']\n",
      "Training Loss  1.2518129952159929\n"
     ]
    },
    {
     "name": "stderr",
     "output_type": "stream",
     "text": [
      "\n"
     ]
    },
    {
     "name": "stdout",
     "output_type": "stream",
     "text": [
      "Train -  [0.47183641975308643, 0.2957818930041153, 0.7157844412056089, 0.47183641975308643, tensor(1.2512)]\n",
      "Validation -  [0.4359567901234568, 0.24794238683127567, 0.6865614918330539, 0.4359567901234568, tensor(1.2790)]\n",
      "\n",
      "Epoch  507\n"
     ]
    },
    {
     "name": "stderr",
     "output_type": "stream",
     "text": [
      "81it [00:02, 39.58it/s]"
     ]
    },
    {
     "name": "stdout",
     "output_type": "stream",
     "text": [
      "['acc', 'kappa', 'auc', 'fmeasure', 'loss']\n",
      "Training Loss  1.2518965447390522\n"
     ]
    },
    {
     "name": "stderr",
     "output_type": "stream",
     "text": [
      "\n"
     ]
    },
    {
     "name": "stdout",
     "output_type": "stream",
     "text": [
      "Train -  [0.47453703703703703, 0.2993827160493827, 0.7157777928605904, 0.47453703703703703, tensor(1.2513)]\n",
      "Validation -  [0.435570987654321, 0.24742798353909468, 0.6864537291063354, 0.435570987654321, tensor(1.2792)]\n",
      "\n",
      "Epoch  508\n"
     ]
    },
    {
     "name": "stderr",
     "output_type": "stream",
     "text": [
      "81it [00:01, 43.65it/s]"
     ]
    },
    {
     "name": "stdout",
     "output_type": "stream",
     "text": [
      "['acc', 'kappa', 'auc', 'fmeasure', 'loss']\n",
      "Training Loss  1.2518691148286984\n"
     ]
    },
    {
     "name": "stderr",
     "output_type": "stream",
     "text": [
      "\n"
     ]
    },
    {
     "name": "stdout",
     "output_type": "stream",
     "text": [
      "Train -  [0.4714506172839506, 0.2952674897119342, 0.715748718754763, 0.4714506172839506, tensor(1.2513)]\n",
      "Validation -  [0.4340277777777778, 0.24537037037037035, 0.6864702011253365, 0.4340277777777778, tensor(1.2791)]\n",
      "\n",
      "Epoch  509\n"
     ]
    },
    {
     "name": "stderr",
     "output_type": "stream",
     "text": [
      "81it [00:02, 40.27it/s]"
     ]
    },
    {
     "name": "stdout",
     "output_type": "stream",
     "text": [
      "['acc', 'kappa', 'auc', 'fmeasure', 'loss']\n",
      "Training Loss  1.2518471832628604\n"
     ]
    },
    {
     "name": "stderr",
     "output_type": "stream",
     "text": [
      "\n"
     ]
    },
    {
     "name": "stdout",
     "output_type": "stream",
     "text": [
      "Train -  [0.47415123456790126, 0.2988683127572016, 0.7158328649723111, 0.47415123456790126, tensor(1.2511)]\n",
      "Validation -  [0.4359567901234568, 0.24794238683127567, 0.6864982829408626, 0.4359567901234568, tensor(1.2791)]\n",
      "\n",
      "Epoch  510\n"
     ]
    },
    {
     "name": "stderr",
     "output_type": "stream",
     "text": [
      "81it [00:02, 39.75it/s]"
     ]
    },
    {
     "name": "stdout",
     "output_type": "stream",
     "text": [
      "['acc', 'kappa', 'auc', 'fmeasure', 'loss']\n",
      "Training Loss  1.2517176351429504\n"
     ]
    },
    {
     "name": "stderr",
     "output_type": "stream",
     "text": [
      "\n"
     ]
    },
    {
     "name": "stdout",
     "output_type": "stream",
     "text": [
      "Train -  [0.4714506172839506, 0.2952674897119342, 0.715403203271859, 0.4714506172839506, tensor(1.2513)]\n",
      "Validation -  [0.4386574074074074, 0.2515432098765432, 0.6861129766168774, 0.4386574074074074, tensor(1.2793)]\n",
      "\n",
      "Epoch  511\n"
     ]
    },
    {
     "name": "stderr",
     "output_type": "stream",
     "text": [
      "81it [00:01, 41.61it/s]"
     ]
    },
    {
     "name": "stdout",
     "output_type": "stream",
     "text": [
      "['acc', 'kappa', 'auc', 'fmeasure', 'loss']\n",
      "Training Loss  1.251898662543591\n"
     ]
    },
    {
     "name": "stderr",
     "output_type": "stream",
     "text": [
      "\n"
     ]
    },
    {
     "name": "stdout",
     "output_type": "stream",
     "text": [
      "Train -  [0.47337962962962965, 0.2978395061728395, 0.715795455627953, 0.47337962962962965, tensor(1.2511)]\n",
      "Validation -  [0.4363425925925926, 0.24845679012345678, 0.6865006644375857, 0.4363425925925926, tensor(1.2790)]\n",
      "\n",
      "Epoch  512\n"
     ]
    },
    {
     "name": "stderr",
     "output_type": "stream",
     "text": [
      "81it [00:02, 38.41it/s]"
     ]
    },
    {
     "name": "stdout",
     "output_type": "stream",
     "text": [
      "['acc', 'kappa', 'auc', 'fmeasure', 'loss']\n",
      "Training Loss  1.2518240669627247\n"
     ]
    },
    {
     "name": "stderr",
     "output_type": "stream",
     "text": [
      "\n"
     ]
    },
    {
     "name": "stdout",
     "output_type": "stream",
     "text": [
      "Train -  [0.47415123456790126, 0.2988683127572016, 0.7156074166158615, 0.47415123456790126, tensor(1.2511)]\n",
      "Validation -  [0.4359567901234568, 0.24794238683127567, 0.68616159884164, 0.4359567901234568, tensor(1.2792)]\n",
      "\n",
      "Epoch  513\n"
     ]
    },
    {
     "name": "stderr",
     "output_type": "stream",
     "text": [
      "81it [00:01, 40.57it/s]"
     ]
    },
    {
     "name": "stdout",
     "output_type": "stream",
     "text": [
      "['acc', 'kappa', 'auc', 'fmeasure', 'loss']\n",
      "Training Loss  1.2515209457020702\n"
     ]
    },
    {
     "name": "stderr",
     "output_type": "stream",
     "text": [
      "\n"
     ]
    },
    {
     "name": "stdout",
     "output_type": "stream",
     "text": [
      "Train -  [0.47337962962962965, 0.2978395061728395, 0.715849932365493, 0.47337962962962965, tensor(1.2512)]\n",
      "Validation -  [0.4382716049382716, 0.2510288065843621, 0.6867008093913529, 0.4382716049382716, tensor(1.2790)]\n",
      "\n",
      "Epoch  514\n"
     ]
    },
    {
     "name": "stderr",
     "output_type": "stream",
     "text": [
      "81it [00:02, 38.83it/s]"
     ]
    },
    {
     "name": "stdout",
     "output_type": "stream",
     "text": [
      "['acc', 'kappa', 'auc', 'fmeasure', 'loss']\n",
      "Training Loss  1.251485272690102\n"
     ]
    },
    {
     "name": "stderr",
     "output_type": "stream",
     "text": [
      "\n"
     ]
    },
    {
     "name": "stdout",
     "output_type": "stream",
     "text": [
      "Train -  [0.4699074074074074, 0.29320987654320985, 0.7157407804323528, 0.4699074074074074, tensor(1.2511)]\n",
      "Validation -  [0.4378858024691358, 0.2505144032921811, 0.686541249110908, 0.4378858024691358, tensor(1.2789)]\n",
      "\n",
      "Epoch  515\n"
     ]
    },
    {
     "name": "stderr",
     "output_type": "stream",
     "text": [
      "81it [00:01, 41.85it/s]"
     ]
    },
    {
     "name": "stdout",
     "output_type": "stream",
     "text": [
      "['acc', 'kappa', 'auc', 'fmeasure', 'loss']\n",
      "Training Loss  1.2518616782294378\n"
     ]
    },
    {
     "name": "stderr",
     "output_type": "stream",
     "text": [
      "\n"
     ]
    },
    {
     "name": "stdout",
     "output_type": "stream",
     "text": [
      "Train -  [0.4699074074074074, 0.29320987654320985, 0.7157179577554236, 0.4699074074074074, tensor(1.2511)]\n",
      "Validation -  [0.4367283950617284, 0.2489711934156379, 0.6865083050729055, 0.4367283950617284, tensor(1.2789)]\n",
      "\n",
      "Epoch  516\n"
     ]
    },
    {
     "name": "stderr",
     "output_type": "stream",
     "text": [
      "81it [00:02, 40.28it/s]"
     ]
    },
    {
     "name": "stdout",
     "output_type": "stream",
     "text": [
      "['acc', 'kappa', 'auc', 'fmeasure', 'loss']\n",
      "Training Loss  1.2516625869421312\n"
     ]
    },
    {
     "name": "stderr",
     "output_type": "stream",
     "text": [
      "\n"
     ]
    },
    {
     "name": "stdout",
     "output_type": "stream",
     "text": [
      "Train -  [0.4722222222222222, 0.2962962962962963, 0.7157205377102067, 0.4722222222222222, tensor(1.2511)]\n",
      "Validation -  [0.4359567901234568, 0.24794238683127567, 0.6863970693301324, 0.4359567901234568, tensor(1.2790)]\n",
      "\n",
      "Epoch  517\n"
     ]
    },
    {
     "name": "stderr",
     "output_type": "stream",
     "text": [
      "81it [00:01, 40.77it/s]"
     ]
    },
    {
     "name": "stdout",
     "output_type": "stream",
     "text": [
      "['acc', 'kappa', 'auc', 'fmeasure', 'loss']\n",
      "Training Loss  1.2521667701226693\n"
     ]
    },
    {
     "name": "stderr",
     "output_type": "stream",
     "text": [
      "\n"
     ]
    },
    {
     "name": "stdout",
     "output_type": "stream",
     "text": [
      "Train -  [0.46875, 0.29166666666666663, 0.7157576493674744, 0.46875, tensor(1.2511)]\n",
      "Validation -  [0.4378858024691358, 0.2505144032921811, 0.6866379974152823, 0.4378858024691358, tensor(1.2788)]\n",
      "\n",
      "Epoch  518\n"
     ]
    },
    {
     "name": "stderr",
     "output_type": "stream",
     "text": [
      "81it [00:02, 38.77it/s]\n"
     ]
    },
    {
     "name": "stdout",
     "output_type": "stream",
     "text": [
      "['acc', 'kappa', 'auc', 'fmeasure', 'loss']\n",
      "Training Loss  1.2521409105371546\n",
      "Train -  [0.47183641975308643, 0.2957818930041153, 0.7156564357567444, 0.47183641975308643, tensor(1.2511)]\n",
      "Validation -  [0.4386574074074074, 0.2515432098765432, 0.6864053053396332, 0.4386574074074074, tensor(1.2791)]\n",
      "\n",
      "Epoch  519\n"
     ]
    },
    {
     "name": "stderr",
     "output_type": "stream",
     "text": [
      "81it [00:01, 41.21it/s]"
     ]
    },
    {
     "name": "stdout",
     "output_type": "stream",
     "text": [
      "['acc', 'kappa', 'auc', 'fmeasure', 'loss']\n",
      "Training Loss  1.2516451470645857\n"
     ]
    },
    {
     "name": "stderr",
     "output_type": "stream",
     "text": [
      "\n"
     ]
    },
    {
     "name": "stdout",
     "output_type": "stream",
     "text": [
      "Train -  [0.47183641975308643, 0.2957818930041153, 0.7157465357161003, 0.47183641975308643, tensor(1.2510)]\n",
      "Validation -  [0.4375, 0.25, 0.6864566067482092, 0.4375, tensor(1.2790)]\n",
      "\n",
      "Epoch  520\n"
     ]
    },
    {
     "name": "stderr",
     "output_type": "stream",
     "text": [
      "81it [00:02, 40.32it/s]"
     ]
    },
    {
     "name": "stdout",
     "output_type": "stream",
     "text": [
      "['acc', 'kappa', 'auc', 'fmeasure', 'loss']\n",
      "Training Loss  1.251675988421028\n"
     ]
    },
    {
     "name": "stderr",
     "output_type": "stream",
     "text": [
      "\n"
     ]
    },
    {
     "name": "stdout",
     "output_type": "stream",
     "text": [
      "Train -  [0.4710648148148148, 0.29475308641975306, 0.7159021268353402, 0.4710648148148148, tensor(1.2510)]\n",
      "Validation -  [0.4371141975308642, 0.2494855967078189, 0.6867025955138952, 0.4371141975308642, tensor(1.2788)]\n",
      "\n",
      "Epoch  521\n"
     ]
    },
    {
     "name": "stderr",
     "output_type": "stream",
     "text": [
      "81it [00:02, 38.68it/s]"
     ]
    },
    {
     "name": "stdout",
     "output_type": "stream",
     "text": [
      "['acc', 'kappa', 'auc', 'fmeasure', 'loss']\n",
      "Training Loss  1.2518528434965346\n"
     ]
    },
    {
     "name": "stderr",
     "output_type": "stream",
     "text": [
      "\n"
     ]
    },
    {
     "name": "stdout",
     "output_type": "stream",
     "text": [
      "Train -  [0.4729938271604938, 0.2973251028806584, 0.7160344983615301, 0.4729938271604938, tensor(1.2511)]\n",
      "Validation -  [0.4363425925925926, 0.24845679012345678, 0.6868964890387644, 0.4363425925925926, tensor(1.2788)]\n",
      "\n",
      "Epoch  522\n"
     ]
    },
    {
     "name": "stderr",
     "output_type": "stream",
     "text": [
      "81it [00:01, 43.94it/s]"
     ]
    },
    {
     "name": "stdout",
     "output_type": "stream",
     "text": [
      "['acc', 'kappa', 'auc', 'fmeasure', 'loss']\n",
      "Training Loss  1.2515882371384421\n"
     ]
    },
    {
     "name": "stderr",
     "output_type": "stream",
     "text": [
      "\n"
     ]
    },
    {
     "name": "stdout",
     "output_type": "stream",
     "text": [
      "Train -  [0.4737654320987654, 0.2983539094650206, 0.7159485660214397, 0.4737654320987654, tensor(1.2510)]\n",
      "Validation -  [0.4371141975308642, 0.2494855967078189, 0.6867668959254178, 0.4371141975308642, tensor(1.2788)]\n",
      "\n",
      "Epoch  523\n"
     ]
    },
    {
     "name": "stderr",
     "output_type": "stream",
     "text": [
      "81it [00:02, 39.24it/s]"
     ]
    },
    {
     "name": "stdout",
     "output_type": "stream",
     "text": [
      "['acc', 'kappa', 'auc', 'fmeasure', 'loss']\n",
      "Training Loss  1.2518598709577395\n"
     ]
    },
    {
     "name": "stderr",
     "output_type": "stream",
     "text": [
      "\n"
     ]
    },
    {
     "name": "stdout",
     "output_type": "stream",
     "text": [
      "Train -  [0.4702932098765432, 0.29372427983539096, 0.7157675722704872, 0.4702932098765432, tensor(1.2511)]\n",
      "Validation -  [0.4378858024691358, 0.2505144032921811, 0.6866548663504038, 0.4378858024691358, tensor(1.2788)]\n",
      "\n",
      "Epoch  524\n"
     ]
    },
    {
     "name": "stderr",
     "output_type": "stream",
     "text": [
      "81it [00:02, 40.03it/s]"
     ]
    },
    {
     "name": "stdout",
     "output_type": "stream",
     "text": [
      "['acc', 'kappa', 'auc', 'fmeasure', 'loss']\n",
      "Training Loss  1.2518451243271063\n"
     ]
    },
    {
     "name": "stderr",
     "output_type": "stream",
     "text": [
      "\n"
     ]
    },
    {
     "name": "stdout",
     "output_type": "stream",
     "text": [
      "Train -  [0.4683641975308642, 0.29115226337448563, 0.7158227436112381, 0.4683641975308643, tensor(1.2511)]\n",
      "Validation -  [0.4378858024691358, 0.2505144032921811, 0.6867478439516332, 0.4378858024691358, tensor(1.2788)]\n",
      "\n",
      "Epoch  525\n"
     ]
    },
    {
     "name": "stderr",
     "output_type": "stream",
     "text": [
      "81it [00:01, 40.77it/s]"
     ]
    },
    {
     "name": "stdout",
     "output_type": "stream",
     "text": [
      "['acc', 'kappa', 'auc', 'fmeasure', 'loss']\n",
      "Training Loss  1.2516455856370337\n"
     ]
    },
    {
     "name": "stderr",
     "output_type": "stream",
     "text": [
      "\n"
     ]
    },
    {
     "name": "stdout",
     "output_type": "stream",
     "text": [
      "Train -  [0.4729938271604938, 0.2973251028806584, 0.7156867998399634, 0.4729938271604938, tensor(1.2511)]\n",
      "Validation -  [0.4390432098765432, 0.2520576131687243, 0.6863235406188082, 0.4390432098765432, tensor(1.2792)]\n",
      "\n",
      "Epoch  526\n"
     ]
    },
    {
     "name": "stderr",
     "output_type": "stream",
     "text": [
      "81it [00:02, 37.64it/s]"
     ]
    },
    {
     "name": "stdout",
     "output_type": "stream",
     "text": [
      "['acc', 'kappa', 'auc', 'fmeasure', 'loss']\n",
      "Training Loss  1.2517087989383273\n"
     ]
    },
    {
     "name": "stderr",
     "output_type": "stream",
     "text": [
      "\n"
     ]
    },
    {
     "name": "stdout",
     "output_type": "stream",
     "text": [
      "Train -  [0.4710648148148148, 0.29475308641975306, 0.7158058746761166, 0.4710648148148148, tensor(1.2510)]\n",
      "Validation -  [0.4386574074074074, 0.2515432098765432, 0.6866587362825789, 0.4386574074074074, tensor(1.2788)]\n",
      "\n",
      "Epoch  527\n"
     ]
    },
    {
     "name": "stderr",
     "output_type": "stream",
     "text": [
      "81it [00:02, 38.90it/s]"
     ]
    },
    {
     "name": "stdout",
     "output_type": "stream",
     "text": [
      "['acc', 'kappa', 'auc', 'fmeasure', 'loss']\n",
      "Training Loss  1.2514745997793881\n"
     ]
    },
    {
     "name": "stderr",
     "output_type": "stream",
     "text": [
      "\n"
     ]
    },
    {
     "name": "stdout",
     "output_type": "stream",
     "text": [
      "Train -  [0.47260802469135804, 0.2968106995884774, 0.7157890057409948, 0.47260802469135804, tensor(1.2510)]\n",
      "Validation -  [0.4367283950617284, 0.2489711934156379, 0.6864610720545649, 0.4367283950617284, tensor(1.2790)]\n",
      "\n",
      "Epoch  528\n"
     ]
    },
    {
     "name": "stderr",
     "output_type": "stream",
     "text": [
      "81it [00:01, 41.57it/s]"
     ]
    },
    {
     "name": "stdout",
     "output_type": "stream",
     "text": [
      "['acc', 'kappa', 'auc', 'fmeasure', 'loss']\n",
      "Training Loss  1.2514551009660886\n"
     ]
    },
    {
     "name": "stderr",
     "output_type": "stream",
     "text": [
      "\n"
     ]
    },
    {
     "name": "stdout",
     "output_type": "stream",
     "text": [
      "Train -  [0.47260802469135804, 0.2968106995884774, 0.7159886545496112, 0.47260802469135804, tensor(1.2510)]\n",
      "Validation -  [0.4371141975308642, 0.2494855967078189, 0.6868048014149265, 0.4371141975308642, tensor(1.2788)]\n",
      "\n",
      "Epoch  529\n"
     ]
    },
    {
     "name": "stderr",
     "output_type": "stream",
     "text": [
      "81it [00:01, 40.91it/s]"
     ]
    },
    {
     "name": "stdout",
     "output_type": "stream",
     "text": [
      "['acc', 'kappa', 'auc', 'fmeasure', 'loss']\n",
      "Training Loss  1.251600209577584\n"
     ]
    },
    {
     "name": "stderr",
     "output_type": "stream",
     "text": [
      "\n"
     ]
    },
    {
     "name": "stdout",
     "output_type": "stream",
     "text": [
      "Train -  [0.4729938271604938, 0.2973251028806584, 0.7160449174096937, 0.4729938271604938, tensor(1.2510)]\n",
      "Validation -  [0.4382716049382716, 0.2510288065843621, 0.6869380660023878, 0.4382716049382716, tensor(1.2787)]\n",
      "\n",
      "Epoch  530\n"
     ]
    },
    {
     "name": "stderr",
     "output_type": "stream",
     "text": [
      "81it [00:02, 40.11it/s]"
     ]
    },
    {
     "name": "stdout",
     "output_type": "stream",
     "text": [
      "['acc', 'kappa', 'auc', 'fmeasure', 'loss']\n",
      "Training Loss  1.2517373532424738\n"
     ]
    },
    {
     "name": "stderr",
     "output_type": "stream",
     "text": [
      "\n"
     ]
    },
    {
     "name": "stdout",
     "output_type": "stream",
     "text": [
      "Train -  [0.470679012345679, 0.29423868312757206, 0.7158687858812172, 0.47067901234567894, tensor(1.2510)]\n",
      "Validation -  [0.4378858024691358, 0.2505144032921811, 0.6867006109332927, 0.4378858024691358, tensor(1.2787)]\n",
      "\n",
      "Epoch  531\n"
     ]
    },
    {
     "name": "stderr",
     "output_type": "stream",
     "text": [
      "81it [00:01, 40.78it/s]"
     ]
    },
    {
     "name": "stdout",
     "output_type": "stream",
     "text": [
      "['acc', 'kappa', 'auc', 'fmeasure', 'loss']\n",
      "Training Loss  1.251361514315193\n"
     ]
    },
    {
     "name": "stderr",
     "output_type": "stream",
     "text": [
      "\n"
     ]
    },
    {
     "name": "stdout",
     "output_type": "stream",
     "text": [
      "Train -  [0.47260802469135804, 0.2968106995884774, 0.7158052793019356, 0.47260802469135804, tensor(1.2509)]\n",
      "Validation -  [0.4363425925925926, 0.24845679012345678, 0.6865296393143829, 0.4363425925925926, tensor(1.2789)]\n",
      "\n",
      "Epoch  532\n"
     ]
    },
    {
     "name": "stderr",
     "output_type": "stream",
     "text": [
      "81it [00:02, 40.32it/s]"
     ]
    },
    {
     "name": "stdout",
     "output_type": "stream",
     "text": [
      "['acc', 'kappa', 'auc', 'fmeasure', 'loss']\n",
      "Training Loss  1.2516756646427107\n"
     ]
    },
    {
     "name": "stderr",
     "output_type": "stream",
     "text": [
      "\n"
     ]
    },
    {
     "name": "stdout",
     "output_type": "stream",
     "text": [
      "Train -  [0.47260802469135804, 0.2968106995884774, 0.7159918298785753, 0.47260802469135804, tensor(1.2509)]\n",
      "Validation -  [0.4378858024691358, 0.2505144032921811, 0.6867913062668293, 0.4378858024691358, tensor(1.2788)]\n",
      "\n",
      "Epoch  533\n"
     ]
    },
    {
     "name": "stderr",
     "output_type": "stream",
     "text": [
      "81it [00:01, 41.29it/s]"
     ]
    },
    {
     "name": "stdout",
     "output_type": "stream",
     "text": [
      "['acc', 'kappa', 'auc', 'fmeasure', 'loss']\n",
      "Training Loss  1.2515619183764046\n"
     ]
    },
    {
     "name": "stderr",
     "output_type": "stream",
     "text": [
      "\n"
     ]
    },
    {
     "name": "stdout",
     "output_type": "stream",
     "text": [
      "Train -  [0.4722222222222222, 0.2962962962962963, 0.7155890592452878, 0.4722222222222222, tensor(1.2510)]\n",
      "Validation -  [0.4375, 0.25, 0.6862518972590561, 0.4375, tensor(1.2791)]\n",
      "\n",
      "Epoch  534\n"
     ]
    },
    {
     "name": "stderr",
     "output_type": "stream",
     "text": [
      "81it [00:01, 41.95it/s]"
     ]
    },
    {
     "name": "stdout",
     "output_type": "stream",
     "text": [
      "['acc', 'kappa', 'auc', 'fmeasure', 'loss']\n",
      "Training Loss  1.2516055210137074\n"
     ]
    },
    {
     "name": "stderr",
     "output_type": "stream",
     "text": [
      "\n"
     ]
    },
    {
     "name": "stdout",
     "output_type": "stream",
     "text": [
      "Train -  [0.4729938271604938, 0.2973251028806584, 0.715775907509018, 0.4729938271604938, tensor(1.2511)]\n",
      "Validation -  [0.4332561728395062, 0.24434156378600824, 0.6864465846161661, 0.4332561728395062, tensor(1.2791)]\n",
      "\n",
      "Epoch  535\n"
     ]
    },
    {
     "name": "stderr",
     "output_type": "stream",
     "text": [
      "81it [00:02, 40.06it/s]"
     ]
    },
    {
     "name": "stdout",
     "output_type": "stream",
     "text": [
      "['acc', 'kappa', 'auc', 'fmeasure', 'loss']\n",
      "Training Loss  1.2513634775891715\n"
     ]
    },
    {
     "name": "stderr",
     "output_type": "stream",
     "text": [
      "\n"
     ]
    },
    {
     "name": "stdout",
     "output_type": "stream",
     "text": [
      "Train -  [0.46875, 0.29166666666666663, 0.7159707933241883, 0.46875, tensor(1.2510)]\n",
      "Validation -  [0.4386574074074074, 0.2515432098765432, 0.6869167317609104, 0.4386574074074074, tensor(1.2786)]\n",
      "\n",
      "Epoch  536\n"
     ]
    },
    {
     "name": "stderr",
     "output_type": "stream",
     "text": [
      "81it [00:02, 39.04it/s]"
     ]
    },
    {
     "name": "stdout",
     "output_type": "stream",
     "text": [
      "['acc', 'kappa', 'auc', 'fmeasure', 'loss']\n",
      "Training Loss  1.2518681464371857\n"
     ]
    },
    {
     "name": "stderr",
     "output_type": "stream",
     "text": [
      "\n"
     ]
    },
    {
     "name": "stdout",
     "output_type": "stream",
     "text": [
      "Train -  [0.4683641975308642, 0.29115226337448563, 0.715853703068638, 0.4683641975308643, tensor(1.2511)]\n",
      "Validation -  [0.4378858024691358, 0.2505144032921811, 0.6866807651272672, 0.4378858024691358, tensor(1.2789)]\n",
      "\n",
      "Epoch  537\n"
     ]
    },
    {
     "name": "stderr",
     "output_type": "stream",
     "text": [
      "81it [00:02, 38.16it/s]"
     ]
    },
    {
     "name": "stdout",
     "output_type": "stream",
     "text": [
      "['acc', 'kappa', 'auc', 'fmeasure', 'loss']\n",
      "Training Loss  1.251464388988636\n"
     ]
    },
    {
     "name": "stderr",
     "output_type": "stream",
     "text": [
      "\n"
     ]
    },
    {
     "name": "stdout",
     "output_type": "stream",
     "text": [
      "Train -  [0.470679012345679, 0.29423868312757206, 0.7159101643867805, 0.47067901234567894, tensor(1.2510)]\n",
      "Validation -  [0.4351851851851852, 0.24691358024691357, 0.6866918787786414, 0.4351851851851852, tensor(1.2788)]\n",
      "\n",
      "Epoch  538\n"
     ]
    },
    {
     "name": "stderr",
     "output_type": "stream",
     "text": [
      "81it [00:02, 39.76it/s]"
     ]
    },
    {
     "name": "stdout",
     "output_type": "stream",
     "text": [
      "['acc', 'kappa', 'auc', 'fmeasure', 'loss']\n",
      "Training Loss  1.251580716651163\n"
     ]
    },
    {
     "name": "stderr",
     "output_type": "stream",
     "text": [
      "\n"
     ]
    },
    {
     "name": "stdout",
     "output_type": "stream",
     "text": [
      "Train -  [0.47260802469135804, 0.2968106995884774, 0.7159112559061119, 0.47260802469135804, tensor(1.2509)]\n",
      "Validation -  [0.4375, 0.25, 0.6866210292511303, 0.4375, tensor(1.2789)]\n",
      "\n",
      "Epoch  539\n"
     ]
    },
    {
     "name": "stderr",
     "output_type": "stream",
     "text": [
      "81it [00:01, 41.59it/s]"
     ]
    },
    {
     "name": "stdout",
     "output_type": "stream",
     "text": [
      "['acc', 'kappa', 'auc', 'fmeasure', 'loss']\n",
      "Training Loss  1.251400582584334\n"
     ]
    },
    {
     "name": "stderr",
     "output_type": "stream",
     "text": [
      "\n"
     ]
    },
    {
     "name": "stdout",
     "output_type": "stream",
     "text": [
      "Train -  [0.47260802469135804, 0.2968106995884774, 0.7157548709546309, 0.47260802469135804, tensor(1.2509)]\n",
      "Validation -  [0.4386574074074074, 0.2515432098765432, 0.6863799027079206, 0.4386574074074074, tensor(1.2790)]\n",
      "\n",
      "Epoch  540\n"
     ]
    },
    {
     "name": "stderr",
     "output_type": "stream",
     "text": [
      "81it [00:01, 40.51it/s]"
     ]
    },
    {
     "name": "stdout",
     "output_type": "stream",
     "text": [
      "['acc', 'kappa', 'auc', 'fmeasure', 'loss']\n",
      "Training Loss  1.251422773172826\n"
     ]
    },
    {
     "name": "stderr",
     "output_type": "stream",
     "text": [
      "\n"
     ]
    },
    {
     "name": "stdout",
     "output_type": "stream",
     "text": [
      "Train -  [0.4710648148148148, 0.29475308641975306, 0.7159721825306102, 0.4710648148148148, tensor(1.2509)]\n",
      "Validation -  [0.4351851851851852, 0.24691358024691357, 0.6866974356043286, 0.4351851851851852, tensor(1.2788)]\n",
      "\n",
      "Epoch  541\n"
     ]
    },
    {
     "name": "stderr",
     "output_type": "stream",
     "text": [
      "81it [00:01, 41.51it/s]"
     ]
    },
    {
     "name": "stdout",
     "output_type": "stream",
     "text": [
      "['acc', 'kappa', 'auc', 'fmeasure', 'loss']\n",
      "Training Loss  1.251409145049107\n"
     ]
    },
    {
     "name": "stderr",
     "output_type": "stream",
     "text": [
      "\n"
     ]
    },
    {
     "name": "stdout",
     "output_type": "stream",
     "text": [
      "Train -  [0.4737654320987654, 0.2983539094650206, 0.7158317734529799, 0.4737654320987654, tensor(1.2509)]\n",
      "Validation -  [0.4371141975308642, 0.2494855967078189, 0.6864731779962404, 0.4371141975308642, tensor(1.2789)]\n",
      "\n",
      "Epoch  542\n"
     ]
    },
    {
     "name": "stderr",
     "output_type": "stream",
     "text": [
      "81it [00:02, 38.38it/s]\n"
     ]
    },
    {
     "name": "stdout",
     "output_type": "stream",
     "text": [
      "['acc', 'kappa', 'auc', 'fmeasure', 'loss']\n",
      "Training Loss  1.2514195412765314\n",
      "Train -  [0.4729938271604938, 0.2973251028806584, 0.7158370325915765, 0.4729938271604938, tensor(1.2509)]\n",
      "Validation -  [0.4378858024691358, 0.2505144032921811, 0.6865013590407967, 0.4378858024691358, tensor(1.2789)]\n",
      "\n",
      "Epoch  543\n"
     ]
    },
    {
     "name": "stderr",
     "output_type": "stream",
     "text": [
      "81it [00:01, 40.52it/s]"
     ]
    },
    {
     "name": "stdout",
     "output_type": "stream",
     "text": [
      "['acc', 'kappa', 'auc', 'fmeasure', 'loss']\n",
      "Training Loss  1.2512763562025848\n"
     ]
    },
    {
     "name": "stderr",
     "output_type": "stream",
     "text": [
      "\n"
     ]
    },
    {
     "name": "stdout",
     "output_type": "stream",
     "text": [
      "Train -  [0.47260802469135804, 0.2968106995884774, 0.7159404292409695, 0.47260802469135804, tensor(1.2508)]\n",
      "Validation -  [0.4378858024691358, 0.2505144032921811, 0.6867053739267387, 0.4378858024691358, tensor(1.2787)]\n",
      "\n",
      "Epoch  544\n"
     ]
    },
    {
     "name": "stderr",
     "output_type": "stream",
     "text": [
      "81it [00:01, 41.74it/s]"
     ]
    },
    {
     "name": "stdout",
     "output_type": "stream",
     "text": [
      "['acc', 'kappa', 'auc', 'fmeasure', 'loss']\n",
      "Training Loss  1.2513561675577989\n"
     ]
    },
    {
     "name": "stderr",
     "output_type": "stream",
     "text": [
      "\n"
     ]
    },
    {
     "name": "stdout",
     "output_type": "stream",
     "text": [
      "Train -  [0.47530864197530864, 0.3004115226337448, 0.7158811895099833, 0.47530864197530864, tensor(1.2509)]\n",
      "Validation -  [0.4351851851851852, 0.24691358024691357, 0.6863845664723367, 0.4351851851851852, tensor(1.2791)]\n",
      "\n",
      "Epoch  545\n"
     ]
    },
    {
     "name": "stderr",
     "output_type": "stream",
     "text": [
      "81it [00:02, 39.91it/s]"
     ]
    },
    {
     "name": "stdout",
     "output_type": "stream",
     "text": [
      "['acc', 'kappa', 'auc', 'fmeasure', 'loss']\n",
      "Training Loss  1.2515186571780545\n"
     ]
    },
    {
     "name": "stderr",
     "output_type": "stream",
     "text": [
      "\n"
     ]
    },
    {
     "name": "stdout",
     "output_type": "stream",
     "text": [
      "Train -  [0.4710648148148148, 0.29475308641975306, 0.7161550616331352, 0.4710648148148148, tensor(1.2509)]\n",
      "Validation -  [0.4351851851851852, 0.24691358024691357, 0.6870417603388712, 0.4351851851851852, tensor(1.2786)]\n",
      "\n",
      "Epoch  546\n"
     ]
    },
    {
     "name": "stderr",
     "output_type": "stream",
     "text": [
      "81it [00:01, 42.34it/s]"
     ]
    },
    {
     "name": "stdout",
     "output_type": "stream",
     "text": [
      "['acc', 'kappa', 'auc', 'fmeasure', 'loss']\n",
      "Training Loss  1.251296760123453\n"
     ]
    },
    {
     "name": "stderr",
     "output_type": "stream",
     "text": [
      "\n"
     ]
    },
    {
     "name": "stdout",
     "output_type": "stream",
     "text": [
      "Train -  [0.4729938271604938, 0.2973251028806584, 0.7162127136996392, 0.4729938271604938, tensor(1.2509)]\n",
      "Validation -  [0.4363425925925926, 0.24845679012345678, 0.6870096101331099, 0.4363425925925926, tensor(1.2787)]\n",
      "\n",
      "Epoch  547\n"
     ]
    },
    {
     "name": "stderr",
     "output_type": "stream",
     "text": [
      "81it [00:02, 38.84it/s]"
     ]
    },
    {
     "name": "stdout",
     "output_type": "stream",
     "text": [
      "['acc', 'kappa', 'auc', 'fmeasure', 'loss']\n",
      "Training Loss  1.25121475296256\n"
     ]
    },
    {
     "name": "stderr",
     "output_type": "stream",
     "text": [
      "\n"
     ]
    },
    {
     "name": "stdout",
     "output_type": "stream",
     "text": [
      "Train -  [0.4729938271604938, 0.2973251028806584, 0.7159694041177667, 0.4729938271604938, tensor(1.2508)]\n",
      "Validation -  [0.4351851851851852, 0.24691358024691357, 0.6865396614464259, 0.4351851851851852, tensor(1.2790)]\n",
      "\n",
      "Epoch  548\n"
     ]
    },
    {
     "name": "stderr",
     "output_type": "stream",
     "text": [
      "81it [00:01, 42.93it/s]"
     ]
    },
    {
     "name": "stdout",
     "output_type": "stream",
     "text": [
      "['acc', 'kappa', 'auc', 'fmeasure', 'loss']\n",
      "Training Loss  1.2515114545822144\n"
     ]
    },
    {
     "name": "stderr",
     "output_type": "stream",
     "text": [
      "\n"
     ]
    },
    {
     "name": "stdout",
     "output_type": "stream",
     "text": [
      "Train -  [0.4737654320987654, 0.2983539094650206, 0.7162345440862673, 0.4737654320987654, tensor(1.2508)]\n",
      "Validation -  [0.435570987654321, 0.24742798353909468, 0.6870469202484377, 0.435570987654321, tensor(1.2786)]\n",
      "\n",
      "Epoch  549\n"
     ]
    },
    {
     "name": "stderr",
     "output_type": "stream",
     "text": [
      "81it [00:01, 42.82it/s]"
     ]
    },
    {
     "name": "stdout",
     "output_type": "stream",
     "text": [
      "['acc', 'kappa', 'auc', 'fmeasure', 'loss']\n",
      "Training Loss  1.2514245171605805\n"
     ]
    },
    {
     "name": "stderr",
     "output_type": "stream",
     "text": [
      "\n"
     ]
    },
    {
     "name": "stdout",
     "output_type": "stream",
     "text": [
      "Train -  [0.4702932098765432, 0.29372427983539096, 0.7161656791393589, 0.4702932098765432, tensor(1.2508)]\n",
      "Validation -  [0.4371141975308642, 0.2494855967078189, 0.687044737209775, 0.4371141975308642, tensor(1.2785)]\n",
      "\n",
      "Epoch  550\n"
     ]
    },
    {
     "name": "stderr",
     "output_type": "stream",
     "text": [
      "81it [00:02, 39.19it/s]"
     ]
    },
    {
     "name": "stdout",
     "output_type": "stream",
     "text": [
      "['acc', 'kappa', 'auc', 'fmeasure', 'loss']\n",
      "Training Loss  1.2511676064244024\n"
     ]
    },
    {
     "name": "stderr",
     "output_type": "stream",
     "text": [
      "\n"
     ]
    },
    {
     "name": "stdout",
     "output_type": "stream",
     "text": [
      "Train -  [0.47183641975308643, 0.2957818930041153, 0.7160222931908246, 0.47183641975308643, tensor(1.2508)]\n",
      "Validation -  [0.4375, 0.25, 0.6867772157445511, 0.4375, tensor(1.2787)]\n",
      "\n",
      "Epoch  551\n"
     ]
    },
    {
     "name": "stderr",
     "output_type": "stream",
     "text": [
      "81it [00:02, 38.96it/s]"
     ]
    },
    {
     "name": "stdout",
     "output_type": "stream",
     "text": [
      "['acc', 'kappa', 'auc', 'fmeasure', 'loss']\n",
      "Training Loss  1.2516351025781514\n"
     ]
    },
    {
     "name": "stderr",
     "output_type": "stream",
     "text": [
      "\n"
     ]
    },
    {
     "name": "stdout",
     "output_type": "stream",
     "text": [
      "Train -  [0.4714506172839506, 0.2952674897119342, 0.7161255906111874, 0.4714506172839506, tensor(1.2508)]\n",
      "Validation -  [0.4359567901234568, 0.24794238683127567, 0.686878230897221, 0.4359567901234568, tensor(1.2787)]\n",
      "\n",
      "Epoch  552\n"
     ]
    },
    {
     "name": "stderr",
     "output_type": "stream",
     "text": [
      "81it [00:01, 42.72it/s]"
     ]
    },
    {
     "name": "stdout",
     "output_type": "stream",
     "text": [
      "['acc', 'kappa', 'auc', 'fmeasure', 'loss']\n",
      "Training Loss  1.2513108488954143\n"
     ]
    },
    {
     "name": "stderr",
     "output_type": "stream",
     "text": [
      "\n"
     ]
    },
    {
     "name": "stdout",
     "output_type": "stream",
     "text": [
      "Train -  [0.4714506172839506, 0.2952674897119342, 0.7160102864781791, 0.4714506172839506, tensor(1.2508)]\n",
      "Validation -  [0.4382716049382716, 0.2510288065843621, 0.6867500269902962, 0.4382716049382716, tensor(1.2788)]\n",
      "\n",
      "Epoch  553\n"
     ]
    },
    {
     "name": "stderr",
     "output_type": "stream",
     "text": [
      "81it [00:01, 41.44it/s]"
     ]
    },
    {
     "name": "stdout",
     "output_type": "stream",
     "text": [
      "['acc', 'kappa', 'auc', 'fmeasure', 'loss']\n",
      "Training Loss  1.2515284809065454\n"
     ]
    },
    {
     "name": "stderr",
     "output_type": "stream",
     "text": [
      "\n"
     ]
    },
    {
     "name": "stdout",
     "output_type": "stream",
     "text": [
      "Train -  [0.4737654320987654, 0.2983539094650206, 0.7159773424401767, 0.4737654320987654, tensor(1.2508)]\n",
      "Validation -  [0.4386574074074074, 0.2515432098765432, 0.6866607208631814, 0.4386574074074074, tensor(1.2790)]\n",
      "\n",
      "Epoch  554\n"
     ]
    },
    {
     "name": "stderr",
     "output_type": "stream",
     "text": [
      "81it [00:01, 42.34it/s]"
     ]
    },
    {
     "name": "stdout",
     "output_type": "stream",
     "text": [
      "['acc', 'kappa', 'auc', 'fmeasure', 'loss']\n",
      "Training Loss  1.2514353078088643\n"
     ]
    },
    {
     "name": "stderr",
     "output_type": "stream",
     "text": [
      "\n"
     ]
    },
    {
     "name": "stdout",
     "output_type": "stream",
     "text": [
      "Train -  [0.47260802469135804, 0.2968106995884774, 0.7158914101000864, 0.47260802469135804, tensor(1.2508)]\n",
      "Validation -  [0.4382716049382716, 0.2510288065843621, 0.6865321200401362, 0.4382716049382716, tensor(1.2789)]\n",
      "\n",
      "Epoch  555\n"
     ]
    },
    {
     "name": "stderr",
     "output_type": "stream",
     "text": [
      "81it [00:02, 39.69it/s]"
     ]
    },
    {
     "name": "stdout",
     "output_type": "stream",
     "text": [
      "['acc', 'kappa', 'auc', 'fmeasure', 'loss']\n",
      "Training Loss  1.2514228217395735\n"
     ]
    },
    {
     "name": "stderr",
     "output_type": "stream",
     "text": [
      "\n"
     ]
    },
    {
     "name": "stdout",
     "output_type": "stream",
     "text": [
      "Train -  [0.4714506172839506, 0.2952674897119342, 0.7161335289335974, 0.4714506172839506, tensor(1.2509)]\n",
      "Validation -  [0.4363425925925926, 0.24845679012345678, 0.6869068088578978, 0.4363425925925926, tensor(1.2787)]\n",
      "\n",
      "Epoch  556\n"
     ]
    },
    {
     "name": "stderr",
     "output_type": "stream",
     "text": [
      "81it [00:01, 41.73it/s]"
     ]
    },
    {
     "name": "stdout",
     "output_type": "stream",
     "text": [
      "['acc', 'kappa', 'auc', 'fmeasure', 'loss']\n",
      "Training Loss  1.2512204234982713\n"
     ]
    },
    {
     "name": "stderr",
     "output_type": "stream",
     "text": [
      "\n"
     ]
    },
    {
     "name": "stdout",
     "output_type": "stream",
     "text": [
      "Train -  [0.470679012345679, 0.29423868312757206, 0.7161692513844435, 0.47067901234567894, tensor(1.2507)]\n",
      "Validation -  [0.43441358024691357, 0.24588477366255146, 0.6869347914443936, 0.43441358024691357, tensor(1.2786)]\n",
      "\n",
      "Epoch  557\n"
     ]
    },
    {
     "name": "stderr",
     "output_type": "stream",
     "text": [
      "81it [00:01, 41.49it/s]"
     ]
    },
    {
     "name": "stdout",
     "output_type": "stream",
     "text": [
      "['acc', 'kappa', 'auc', 'fmeasure', 'loss']\n",
      "Training Loss  1.2512978035726665\n"
     ]
    },
    {
     "name": "stderr",
     "output_type": "stream",
     "text": [
      "\n"
     ]
    },
    {
     "name": "stdout",
     "output_type": "stream",
     "text": [
      "Train -  [0.4675925925925926, 0.2901234567901234, 0.7161500009525987, 0.4675925925925926, tensor(1.2508)]\n",
      "Validation -  [0.4371141975308642, 0.2494855967078189, 0.6871145944469847, 0.4371141975308642, tensor(1.2784)]\n",
      "\n",
      "Epoch  558\n"
     ]
    },
    {
     "name": "stderr",
     "output_type": "stream",
     "text": [
      "81it [00:01, 44.28it/s]"
     ]
    },
    {
     "name": "stdout",
     "output_type": "stream",
     "text": [
      "['acc', 'kappa', 'auc', 'fmeasure', 'loss']\n",
      "Training Loss  1.2511708721702481\n"
     ]
    },
    {
     "name": "stderr",
     "output_type": "stream",
     "text": [
      "\n"
     ]
    },
    {
     "name": "stdout",
     "output_type": "stream",
     "text": [
      "Train -  [0.47183641975308643, 0.2957818930041153, 0.7161986231773612, 0.47183641975308643, tensor(1.2507)]\n",
      "Validation -  [0.4382716049382716, 0.2510288065843621, 0.6869961149850125, 0.4382716049382716, tensor(1.2785)]\n",
      "\n",
      "Epoch  559\n"
     ]
    },
    {
     "name": "stderr",
     "output_type": "stream",
     "text": [
      "81it [00:01, 41.93it/s]"
     ]
    },
    {
     "name": "stdout",
     "output_type": "stream",
     "text": [
      "['acc', 'kappa', 'auc', 'fmeasure', 'loss']\n",
      "Training Loss  1.2512321457450772\n"
     ]
    },
    {
     "name": "stderr",
     "output_type": "stream",
     "text": [
      "\n"
     ]
    },
    {
     "name": "stdout",
     "output_type": "stream",
     "text": [
      "Train -  [0.4737654320987654, 0.2983539094650206, 0.7160088972717573, 0.4737654320987654, tensor(1.2507)]\n",
      "Validation -  [0.4367283950617284, 0.2489711934156379, 0.6866100148287864, 0.4367283950617284, tensor(1.2788)]\n",
      "\n",
      "Epoch  560\n"
     ]
    },
    {
     "name": "stderr",
     "output_type": "stream",
     "text": [
      "81it [00:01, 41.07it/s]"
     ]
    },
    {
     "name": "stdout",
     "output_type": "stream",
     "text": [
      "['acc', 'kappa', 'auc', 'fmeasure', 'loss']\n",
      "Training Loss  1.2512804122618686\n"
     ]
    },
    {
     "name": "stderr",
     "output_type": "stream",
     "text": [
      "\n"
     ]
    },
    {
     "name": "stdout",
     "output_type": "stream",
     "text": [
      "Train -  [0.47260802469135804, 0.2968106995884774, 0.7161946540161561, 0.47260802469135804, tensor(1.2507)]\n",
      "Validation -  [0.4382716049382716, 0.2510288065843621, 0.6869572172052024, 0.4382716049382716, tensor(1.2786)]\n",
      "\n",
      "Epoch  561\n"
     ]
    },
    {
     "name": "stderr",
     "output_type": "stream",
     "text": [
      "81it [00:02, 39.86it/s]"
     ]
    },
    {
     "name": "stdout",
     "output_type": "stream",
     "text": [
      "['acc', 'kappa', 'auc', 'fmeasure', 'loss']\n",
      "Training Loss  1.2512352275259702\n"
     ]
    },
    {
     "name": "stderr",
     "output_type": "stream",
     "text": [
      "\n"
     ]
    },
    {
     "name": "stdout",
     "output_type": "stream",
     "text": [
      "Train -  [0.470679012345679, 0.29423868312757206, 0.7162115229512778, 0.47067901234567894, tensor(1.2508)]\n",
      "Validation -  [0.4351851851851852, 0.24691358024691357, 0.6869504696311538, 0.4351851851851852, tensor(1.2787)]\n",
      "\n",
      "Epoch  562\n"
     ]
    },
    {
     "name": "stderr",
     "output_type": "stream",
     "text": [
      "81it [00:01, 44.15it/s]"
     ]
    },
    {
     "name": "stdout",
     "output_type": "stream",
     "text": [
      "['acc', 'kappa', 'auc', 'fmeasure', 'loss']\n",
      "Training Loss  1.2515034307668238\n"
     ]
    },
    {
     "name": "stderr",
     "output_type": "stream",
     "text": [
      "\n"
     ]
    },
    {
     "name": "stdout",
     "output_type": "stream",
     "text": [
      "Train -  [0.4695216049382716, 0.29269547325102885, 0.7162476423182441, 0.46952160493827155, tensor(1.2507)]\n",
      "Validation -  [0.4351851851851852, 0.24691358024691357, 0.6870238991134482, 0.4351851851851852, tensor(1.2786)]\n",
      "\n",
      "Epoch  563\n"
     ]
    },
    {
     "name": "stderr",
     "output_type": "stream",
     "text": [
      "81it [00:02, 39.07it/s]"
     ]
    },
    {
     "name": "stdout",
     "output_type": "stream",
     "text": [
      "['acc', 'kappa', 'auc', 'fmeasure', 'loss']\n",
      "Training Loss  1.2510926723480225\n"
     ]
    },
    {
     "name": "stderr",
     "output_type": "stream",
     "text": [
      "\n"
     ]
    },
    {
     "name": "stdout",
     "output_type": "stream",
     "text": [
      "Train -  [0.4729938271604938, 0.2973251028806584, 0.7161628014974851, 0.4729938271604938, tensor(1.2507)]\n",
      "Validation -  [0.4371141975308642, 0.2494855967078189, 0.6868405238657724, 0.4371141975308642, tensor(1.2787)]\n",
      "\n",
      "Epoch  564\n"
     ]
    },
    {
     "name": "stderr",
     "output_type": "stream",
     "text": [
      "81it [00:02, 38.96it/s]"
     ]
    },
    {
     "name": "stdout",
     "output_type": "stream",
     "text": [
      "['acc', 'kappa', 'auc', 'fmeasure', 'loss']\n",
      "Training Loss  1.2510745451774126\n"
     ]
    },
    {
     "name": "stderr",
     "output_type": "stream",
     "text": [
      "\n"
     ]
    },
    {
     "name": "stdout",
     "output_type": "stream",
     "text": [
      "Train -  [0.47415123456790126, 0.2988683127572016, 0.716089471244221, 0.47415123456790126, tensor(1.2507)]\n",
      "Validation -  [0.4375, 0.25, 0.6867670943834782, 0.4375, tensor(1.2787)]\n",
      "\n",
      "Epoch  565\n"
     ]
    },
    {
     "name": "stderr",
     "output_type": "stream",
     "text": [
      "81it [00:01, 40.56it/s]"
     ]
    },
    {
     "name": "stdout",
     "output_type": "stream",
     "text": [
      "['acc', 'kappa', 'auc', 'fmeasure', 'loss']\n",
      "Training Loss  1.2514919469385972\n"
     ]
    },
    {
     "name": "stderr",
     "output_type": "stream",
     "text": [
      "\n"
     ]
    },
    {
     "name": "stdout",
     "output_type": "stream",
     "text": [
      "Train -  [0.4737654320987654, 0.2983539094650206, 0.7161277736498501, 0.4737654320987654, tensor(1.2507)]\n",
      "Validation -  [0.4359567901234568, 0.24794238683127567, 0.6867097400040645, 0.4359567901234568, tensor(1.2789)]\n",
      "\n",
      "Epoch  566\n"
     ]
    },
    {
     "name": "stderr",
     "output_type": "stream",
     "text": [
      "81it [00:01, 42.29it/s]"
     ]
    },
    {
     "name": "stdout",
     "output_type": "stream",
     "text": [
      "['acc', 'kappa', 'auc', 'fmeasure', 'loss']\n",
      "Training Loss  1.2512674626008964\n"
     ]
    },
    {
     "name": "stderr",
     "output_type": "stream",
     "text": [
      "\n"
     ]
    },
    {
     "name": "stdout",
     "output_type": "stream",
     "text": [
      "Train -  [0.47183641975308643, 0.2957818930041153, 0.7161867156937459, 0.47183641975308643, tensor(1.2507)]\n",
      "Validation -  [0.4359567901234568, 0.24794238683127567, 0.6869121672255246, 0.4359567901234568, tensor(1.2786)]\n",
      "\n",
      "Epoch  567\n"
     ]
    },
    {
     "name": "stderr",
     "output_type": "stream",
     "text": [
      "81it [00:01, 43.06it/s]"
     ]
    },
    {
     "name": "stdout",
     "output_type": "stream",
     "text": [
      "['acc', 'kappa', 'auc', 'fmeasure', 'loss']\n",
      "Training Loss  1.2514828561264792\n"
     ]
    },
    {
     "name": "stderr",
     "output_type": "stream",
     "text": [
      "\n"
     ]
    },
    {
     "name": "stdout",
     "output_type": "stream",
     "text": [
      "Train -  [0.4710648148148148, 0.29475308641975306, 0.7162164844027841, 0.4710648148148148, tensor(1.2507)]\n",
      "Validation -  [0.4351851851851852, 0.24691358024691357, 0.6869751776596555, 0.4351851851851852, tensor(1.2786)]\n",
      "\n",
      "Epoch  568\n"
     ]
    },
    {
     "name": "stderr",
     "output_type": "stream",
     "text": [
      "81it [00:02, 40.50it/s]"
     ]
    },
    {
     "name": "stdout",
     "output_type": "stream",
     "text": [
      "['acc', 'kappa', 'auc', 'fmeasure', 'loss']\n",
      "Training Loss  1.2510766718122694\n"
     ]
    },
    {
     "name": "stderr",
     "output_type": "stream",
     "text": [
      "\n"
     ]
    },
    {
     "name": "stdout",
     "output_type": "stream",
     "text": [
      "Train -  [0.47453703703703703, 0.2993827160493827, 0.7160301322842046, 0.47453703703703703, tensor(1.2507)]\n",
      "Validation -  [0.4378858024691358, 0.2505144032921811, 0.6865601026266321, 0.4378858024691358, tensor(1.2789)]\n",
      "\n",
      "Epoch  569\n"
     ]
    },
    {
     "name": "stderr",
     "output_type": "stream",
     "text": [
      "81it [00:01, 40.91it/s]"
     ]
    },
    {
     "name": "stdout",
     "output_type": "stream",
     "text": [
      "['acc', 'kappa', 'auc', 'fmeasure', 'loss']\n",
      "Training Loss  1.251408260545613\n"
     ]
    },
    {
     "name": "stderr",
     "output_type": "stream",
     "text": [
      "\n"
     ]
    },
    {
     "name": "stdout",
     "output_type": "stream",
     "text": [
      "Train -  [0.4722222222222222, 0.2962962962962963, 0.7161927686645836, 0.4722222222222222, tensor(1.2507)]\n",
      "Validation -  [0.4382716049382716, 0.2510288065843621, 0.6869869859142407, 0.4382716049382716, tensor(1.2786)]\n",
      "\n",
      "Epoch  570\n"
     ]
    },
    {
     "name": "stderr",
     "output_type": "stream",
     "text": [
      "81it [00:01, 40.87it/s]"
     ]
    },
    {
     "name": "stdout",
     "output_type": "stream",
     "text": [
      "['acc', 'kappa', 'auc', 'fmeasure', 'loss']\n",
      "Training Loss  1.251502412336844\n"
     ]
    },
    {
     "name": "stderr",
     "output_type": "stream",
     "text": [
      "\n"
     ]
    },
    {
     "name": "stdout",
     "output_type": "stream",
     "text": [
      "Train -  [0.470679012345679, 0.29423868312757206, 0.716125392153127, 0.47067901234567894, tensor(1.2507)]\n",
      "Validation -  [0.439429012345679, 0.2525720164609053, 0.6869514619214551, 0.439429012345679, tensor(1.2786)]\n",
      "\n",
      "Epoch  571\n"
     ]
    },
    {
     "name": "stderr",
     "output_type": "stream",
     "text": [
      "81it [00:01, 41.00it/s]"
     ]
    },
    {
     "name": "stdout",
     "output_type": "stream",
     "text": [
      "['acc', 'kappa', 'auc', 'fmeasure', 'loss']\n",
      "Training Loss  1.251372128357122\n"
     ]
    },
    {
     "name": "stderr",
     "output_type": "stream",
     "text": [
      "\n"
     ]
    },
    {
     "name": "stdout",
     "output_type": "stream",
     "text": [
      "Train -  [0.4722222222222222, 0.2962962962962963, 0.716038269064675, 0.4722222222222222, tensor(1.2507)]\n",
      "Validation -  [0.4386574074074074, 0.2515432098765432, 0.6867254181908246, 0.4386574074074074, tensor(1.2788)]\n",
      "\n",
      "Epoch  572\n"
     ]
    },
    {
     "name": "stderr",
     "output_type": "stream",
     "text": [
      "81it [00:02, 40.08it/s]"
     ]
    },
    {
     "name": "stdout",
     "output_type": "stream",
     "text": [
      "['acc', 'kappa', 'auc', 'fmeasure', 'loss']\n",
      "Training Loss  1.2515169117185805\n"
     ]
    },
    {
     "name": "stderr",
     "output_type": "stream",
     "text": [
      "\n"
     ]
    },
    {
     "name": "stdout",
     "output_type": "stream",
     "text": [
      "Train -  [0.47337962962962965, 0.2978395061728395, 0.7160595040771223, 0.47337962962962965, tensor(1.2507)]\n",
      "Validation -  [0.4375, 0.25, 0.6866142816770817, 0.4375, tensor(1.2789)]\n",
      "\n",
      "Epoch  573\n"
     ]
    },
    {
     "name": "stderr",
     "output_type": "stream",
     "text": [
      "81it [00:02, 40.27it/s]"
     ]
    },
    {
     "name": "stdout",
     "output_type": "stream",
     "text": [
      "['acc', 'kappa', 'auc', 'fmeasure', 'loss']\n",
      "Training Loss  1.251549670725693\n"
     ]
    },
    {
     "name": "stderr",
     "output_type": "stream",
     "text": [
      "\n"
     ]
    },
    {
     "name": "stdout",
     "output_type": "stream",
     "text": [
      "Train -  [0.4722222222222222, 0.2962962962962963, 0.7164464972946196, 0.4722222222222222, tensor(1.2506)]\n",
      "Validation -  [0.4359567901234568, 0.24794238683127567, 0.687324166158614, 0.4359567901234568, tensor(1.2784)]\n",
      "\n",
      "Epoch  574\n"
     ]
    },
    {
     "name": "stderr",
     "output_type": "stream",
     "text": [
      "81it [00:01, 40.71it/s]"
     ]
    },
    {
     "name": "stdout",
     "output_type": "stream",
     "text": [
      "['acc', 'kappa', 'auc', 'fmeasure', 'loss']\n",
      "Training Loss  1.251335597332613\n"
     ]
    },
    {
     "name": "stderr",
     "output_type": "stream",
     "text": [
      "\n"
     ]
    },
    {
     "name": "stdout",
     "output_type": "stream",
     "text": [
      "Train -  [0.4702932098765432, 0.29372427983539096, 0.7163038059492963, 0.4702932098765432, tensor(1.2507)]\n",
      "Validation -  [0.4398148148148148, 0.25308641975308643, 0.6871634151298074, 0.4398148148148148, tensor(1.2784)]\n",
      "\n",
      "Epoch  575\n"
     ]
    },
    {
     "name": "stderr",
     "output_type": "stream",
     "text": [
      "81it [00:01, 40.65it/s]"
     ]
    },
    {
     "name": "stdout",
     "output_type": "stream",
     "text": [
      "['acc', 'kappa', 'auc', 'fmeasure', 'loss']\n",
      "Training Loss  1.2515755671041984\n"
     ]
    },
    {
     "name": "stderr",
     "output_type": "stream",
     "text": [
      "\n"
     ]
    },
    {
     "name": "stdout",
     "output_type": "stream",
     "text": [
      "Train -  [0.4729938271604938, 0.2973251028806584, 0.7159660303307422, 0.4729938271604938, tensor(1.2507)]\n",
      "Validation -  [0.4371141975308642, 0.2494855967078189, 0.6866430580958187, 0.4371141975308642, tensor(1.2787)]\n",
      "\n",
      "Epoch  576\n"
     ]
    },
    {
     "name": "stderr",
     "output_type": "stream",
     "text": [
      "81it [00:01, 40.68it/s]"
     ]
    },
    {
     "name": "stdout",
     "output_type": "stream",
     "text": [
      "['acc', 'kappa', 'auc', 'fmeasure', 'loss']\n",
      "Training Loss  1.2512738616378218\n"
     ]
    },
    {
     "name": "stderr",
     "output_type": "stream",
     "text": [
      "\n"
     ]
    },
    {
     "name": "stdout",
     "output_type": "stream",
     "text": [
      "Train -  [0.47337962962962965, 0.2978395061728395, 0.7162168813189047, 0.47337962962962965, tensor(1.2506)]\n",
      "Validation -  [0.4382716049382716, 0.2510288065843621, 0.6869268531219834, 0.4382716049382716, tensor(1.2787)]\n",
      "\n",
      "Epoch  577\n"
     ]
    },
    {
     "name": "stderr",
     "output_type": "stream",
     "text": [
      "81it [00:01, 42.05it/s]"
     ]
    },
    {
     "name": "stdout",
     "output_type": "stream",
     "text": [
      "['acc', 'kappa', 'auc', 'fmeasure', 'loss']\n",
      "Training Loss  1.2512266518157205\n"
     ]
    },
    {
     "name": "stderr",
     "output_type": "stream",
     "text": [
      "\n"
     ]
    },
    {
     "name": "stdout",
     "output_type": "stream",
     "text": [
      "Train -  [0.47415123456790126, 0.2988683127572016, 0.7164087902631712, 0.47415123456790126, tensor(1.2506)]\n",
      "Validation -  [0.4378858024691358, 0.2505144032921811, 0.6871953668775085, 0.4378858024691358, tensor(1.2785)]\n",
      "\n",
      "Epoch  578\n"
     ]
    },
    {
     "name": "stderr",
     "output_type": "stream",
     "text": [
      "81it [00:02, 40.02it/s]"
     ]
    },
    {
     "name": "stdout",
     "output_type": "stream",
     "text": [
      "['acc', 'kappa', 'auc', 'fmeasure', 'loss']\n",
      "Training Loss  1.2517934890440952\n"
     ]
    },
    {
     "name": "stderr",
     "output_type": "stream",
     "text": [
      "\n"
     ]
    },
    {
     "name": "stdout",
     "output_type": "stream",
     "text": [
      "Train -  [0.4729938271604938, 0.2973251028806584, 0.716398470444038, 0.4729938271604938, tensor(1.2506)]\n",
      "Validation -  [0.4390432098765432, 0.2520576131687243, 0.6871931838388458, 0.4390432098765432, tensor(1.2784)]\n",
      "\n",
      "Epoch  579\n"
     ]
    },
    {
     "name": "stderr",
     "output_type": "stream",
     "text": [
      "81it [00:01, 41.35it/s]"
     ]
    },
    {
     "name": "stdout",
     "output_type": "stream",
     "text": [
      "['acc', 'kappa', 'auc', 'fmeasure', 'loss']\n",
      "Training Loss  1.2509776883655124\n"
     ]
    },
    {
     "name": "stderr",
     "output_type": "stream",
     "text": [
      "\n"
     ]
    },
    {
     "name": "stdout",
     "output_type": "stream",
     "text": [
      "Train -  [0.4710648148148148, 0.29475308641975306, 0.7162934861301631, 0.4710648148148148, tensor(1.2507)]\n",
      "Validation -  [0.4347993827160494, 0.24639917695473246, 0.6869645601534319, 0.4347993827160494, tensor(1.2787)]\n",
      "\n",
      "Epoch  580\n"
     ]
    },
    {
     "name": "stderr",
     "output_type": "stream",
     "text": [
      "81it [00:01, 42.35it/s]"
     ]
    },
    {
     "name": "stdout",
     "output_type": "stream",
     "text": [
      "['acc', 'kappa', 'auc', 'fmeasure', 'loss']\n",
      "Training Loss  1.2511519208366488\n"
     ]
    },
    {
     "name": "stderr",
     "output_type": "stream",
     "text": [
      "\n"
     ]
    },
    {
     "name": "stdout",
     "output_type": "stream",
     "text": [
      "Train -  [0.4714506172839506, 0.2952674897119342, 0.7163266286262256, 0.4714506172839506, tensor(1.2507)]\n",
      "Validation -  [0.4347993827160494, 0.24639917695473246, 0.6870550570289082, 0.4347993827160494, tensor(1.2786)]\n",
      "\n",
      "Epoch  581\n"
     ]
    },
    {
     "name": "stderr",
     "output_type": "stream",
     "text": [
      "81it [00:02, 39.78it/s]"
     ]
    },
    {
     "name": "stdout",
     "output_type": "stream",
     "text": [
      "['acc', 'kappa', 'auc', 'fmeasure', 'loss']\n",
      "Training Loss  1.2509885835058896\n"
     ]
    },
    {
     "name": "stderr",
     "output_type": "stream",
     "text": [
      "\n"
     ]
    },
    {
     "name": "stdout",
     "output_type": "stream",
     "text": [
      "Train -  [0.4722222222222222, 0.2962962962962963, 0.7162978522074887, 0.4722222222222222, tensor(1.2506)]\n",
      "Validation -  [0.4382716049382716, 0.2510288065843621, 0.6870497978903114, 0.4382716049382716, tensor(1.2785)]\n",
      "\n",
      "Epoch  582\n"
     ]
    },
    {
     "name": "stderr",
     "output_type": "stream",
     "text": [
      "81it [00:02, 38.24it/s]"
     ]
    },
    {
     "name": "stdout",
     "output_type": "stream",
     "text": [
      "['acc', 'kappa', 'auc', 'fmeasure', 'loss']\n",
      "Training Loss  1.2513278575591098\n"
     ]
    },
    {
     "name": "stderr",
     "output_type": "stream",
     "text": [
      "\n"
     ]
    },
    {
     "name": "stdout",
     "output_type": "stream",
     "text": [
      "Train -  [0.47183641975308643, 0.2957818930041153, 0.7164562217395722, 0.47183641975308643, tensor(1.2505)]\n",
      "Validation -  [0.4375, 0.25, 0.6873265476553371, 0.4375, tensor(1.2783)]\n",
      "\n",
      "Epoch  583\n"
     ]
    },
    {
     "name": "stderr",
     "output_type": "stream",
     "text": [
      "81it [00:02, 40.38it/s]"
     ]
    },
    {
     "name": "stdout",
     "output_type": "stream",
     "text": [
      "['acc', 'kappa', 'auc', 'fmeasure', 'loss']\n",
      "Training Loss  1.251143099349222\n"
     ]
    },
    {
     "name": "stderr",
     "output_type": "stream",
     "text": [
      "\n"
     ]
    },
    {
     "name": "stdout",
     "output_type": "stream",
     "text": [
      "Train -  [0.4729938271604938, 0.2973251028806584, 0.7165433448280242, 0.4729938271604938, tensor(1.2506)]\n",
      "Validation -  [0.439429012345679, 0.2525720164609053, 0.6874412564141644, 0.439429012345679, tensor(1.2783)]\n",
      "\n",
      "Epoch  584\n"
     ]
    },
    {
     "name": "stderr",
     "output_type": "stream",
     "text": [
      "81it [00:02, 40.30it/s]"
     ]
    },
    {
     "name": "stdout",
     "output_type": "stream",
     "text": [
      "['acc', 'kappa', 'auc', 'fmeasure', 'loss']\n",
      "Training Loss  1.2510438024261852\n"
     ]
    },
    {
     "name": "stderr",
     "output_type": "stream",
     "text": [
      "\n"
     ]
    },
    {
     "name": "stdout",
     "output_type": "stream",
     "text": [
      "Train -  [0.47183641975308643, 0.2957818930041153, 0.7165582291825433, 0.47183641975308643, tensor(1.2506)]\n",
      "Validation -  [0.435570987654321, 0.24742798353909468, 0.6874956339226743, 0.435570987654321, tensor(1.2782)]\n",
      "\n",
      "Epoch  585\n"
     ]
    },
    {
     "name": "stderr",
     "output_type": "stream",
     "text": [
      "81it [00:01, 41.04it/s]"
     ]
    },
    {
     "name": "stdout",
     "output_type": "stream",
     "text": [
      "['acc', 'kappa', 'auc', 'fmeasure', 'loss']\n",
      "Training Loss  1.2509897505795513\n"
     ]
    },
    {
     "name": "stderr",
     "output_type": "stream",
     "text": [
      "\n"
     ]
    },
    {
     "name": "stdout",
     "output_type": "stream",
     "text": [
      "Train -  [0.4714506172839506, 0.2952674897119342, 0.7164897611517553, 0.4714506172839506, tensor(1.2505)]\n",
      "Validation -  [0.4363425925925926, 0.24845679012345678, 0.6873198000812885, 0.4363425925925926, tensor(1.2783)]\n",
      "\n",
      "Epoch  586\n"
     ]
    },
    {
     "name": "stderr",
     "output_type": "stream",
     "text": [
      "81it [00:01, 40.58it/s]"
     ]
    },
    {
     "name": "stdout",
     "output_type": "stream",
     "text": [
      "['acc', 'kappa', 'auc', 'fmeasure', 'loss']\n",
      "Training Loss  1.2511906697426314\n"
     ]
    },
    {
     "name": "stderr",
     "output_type": "stream",
     "text": [
      "\n"
     ]
    },
    {
     "name": "stdout",
     "output_type": "stream",
     "text": [
      "Train -  [0.4722222222222222, 0.2962962962962963, 0.7164558248234517, 0.4722222222222222, tensor(1.2507)]\n",
      "Validation -  [0.435570987654321, 0.24742798353909468, 0.6872171972641365, 0.435570987654321, tensor(1.2785)]\n",
      "\n",
      "Epoch  587\n"
     ]
    },
    {
     "name": "stderr",
     "output_type": "stream",
     "text": [
      "81it [00:01, 42.62it/s]"
     ]
    },
    {
     "name": "stdout",
     "output_type": "stream",
     "text": [
      "['acc', 'kappa', 'auc', 'fmeasure', 'loss']\n",
      "Training Loss  1.2511103138511563\n"
     ]
    },
    {
     "name": "stderr",
     "output_type": "stream",
     "text": [
      "\n"
     ]
    },
    {
     "name": "stdout",
     "output_type": "stream",
     "text": [
      "Train -  [0.47337962962962965, 0.2978395061728395, 0.7163407191485037, 0.47337962962962965, tensor(1.2505)]\n",
      "Validation -  [0.4378858024691358, 0.2505144032921811, 0.6870094116750496, 0.4378858024691358, tensor(1.2786)]\n",
      "\n",
      "Epoch  588\n"
     ]
    },
    {
     "name": "stderr",
     "output_type": "stream",
     "text": [
      "81it [00:01, 41.71it/s]"
     ]
    },
    {
     "name": "stdout",
     "output_type": "stream",
     "text": [
      "['acc', 'kappa', 'auc', 'fmeasure', 'loss']\n",
      "Training Loss  1.2511979753588454\n"
     ]
    },
    {
     "name": "stderr",
     "output_type": "stream",
     "text": [
      "\n"
     ]
    },
    {
     "name": "stdout",
     "output_type": "stream",
     "text": [
      "Train -  [0.47260802469135804, 0.2968106995884774, 0.716282570936849, 0.47260802469135804, tensor(1.2505)]\n",
      "Validation -  [0.4378858024691358, 0.2505144032921811, 0.6870060378880253, 0.4378858024691358, tensor(1.2785)]\n",
      "\n",
      "Epoch  589\n"
     ]
    },
    {
     "name": "stderr",
     "output_type": "stream",
     "text": [
      "81it [00:01, 44.43it/s]"
     ]
    },
    {
     "name": "stdout",
     "output_type": "stream",
     "text": [
      "['acc', 'kappa', 'auc', 'fmeasure', 'loss']\n",
      "Training Loss  1.2511532762904225\n"
     ]
    },
    {
     "name": "stderr",
     "output_type": "stream",
     "text": [
      "\n"
     ]
    },
    {
     "name": "stdout",
     "output_type": "stream",
     "text": [
      "Train -  [0.47530864197530864, 0.3004115226337448, 0.7164480849591017, 0.47530864197530864, tensor(1.2505)]\n",
      "Validation -  [0.4371141975308642, 0.2494855967078189, 0.6871138998437737, 0.4371141975308642, tensor(1.2785)]\n",
      "\n",
      "Epoch  590\n"
     ]
    },
    {
     "name": "stderr",
     "output_type": "stream",
     "text": [
      "81it [00:01, 43.14it/s]"
     ]
    },
    {
     "name": "stdout",
     "output_type": "stream",
     "text": [
      "['acc', 'kappa', 'auc', 'fmeasure', 'loss']\n",
      "Training Loss  1.250937635515943\n"
     ]
    },
    {
     "name": "stderr",
     "output_type": "stream",
     "text": [
      "\n"
     ]
    },
    {
     "name": "stdout",
     "output_type": "stream",
     "text": [
      "Train -  [0.4729938271604938, 0.2973251028806584, 0.7166274910455723, 0.4729938271604938, tensor(1.2505)]\n",
      "Validation -  [0.4386574074074074, 0.2515432098765432, 0.6875446530635574, 0.4386574074074074, tensor(1.2782)]\n",
      "\n",
      "Epoch  591\n"
     ]
    },
    {
     "name": "stderr",
     "output_type": "stream",
     "text": [
      "81it [00:01, 43.99it/s]"
     ]
    },
    {
     "name": "stdout",
     "output_type": "stream",
     "text": [
      "['acc', 'kappa', 'auc', 'fmeasure', 'loss']\n",
      "Training Loss  1.2512244148018918\n"
     ]
    },
    {
     "name": "stderr",
     "output_type": "stream",
     "text": [
      "\n"
     ]
    },
    {
     "name": "stdout",
     "output_type": "stream",
     "text": [
      "Train -  [0.470679012345679, 0.29423868312757206, 0.7163397268582025, 0.47067901234567894, tensor(1.2506)]\n",
      "Validation -  [0.4382716049382716, 0.2510288065843621, 0.687202015222527, 0.4382716049382716, tensor(1.2785)]\n",
      "\n",
      "Epoch  592\n"
     ]
    },
    {
     "name": "stderr",
     "output_type": "stream",
     "text": [
      "81it [00:02, 39.86it/s]"
     ]
    },
    {
     "name": "stdout",
     "output_type": "stream",
     "text": [
      "['acc', 'kappa', 'auc', 'fmeasure', 'loss']\n",
      "Training Loss  1.2509054961027923\n"
     ]
    },
    {
     "name": "stderr",
     "output_type": "stream",
     "text": [
      "\n"
     ]
    },
    {
     "name": "stdout",
     "output_type": "stream",
     "text": [
      "Train -  [0.4729938271604938, 0.2973251028806584, 0.7164574124879337, 0.4729938271604938, tensor(1.2505)]\n",
      "Validation -  [0.4375, 0.25, 0.6871286849692627, 0.4375, tensor(1.2785)]\n",
      "\n",
      "Epoch  593\n"
     ]
    },
    {
     "name": "stderr",
     "output_type": "stream",
     "text": [
      "81it [00:01, 41.85it/s]"
     ]
    },
    {
     "name": "stdout",
     "output_type": "stream",
     "text": [
      "['acc', 'kappa', 'auc', 'fmeasure', 'loss']\n",
      "Training Loss  1.2509968324943825\n"
     ]
    },
    {
     "name": "stderr",
     "output_type": "stream",
     "text": [
      "\n"
     ]
    },
    {
     "name": "stdout",
     "output_type": "stream",
     "text": [
      "Train -  [0.47260802469135804, 0.2968106995884774, 0.7165176445092212, 0.47260802469135804, tensor(1.2505)]\n",
      "Validation -  [0.439429012345679, 0.2525720164609053, 0.687303129604227, 0.439429012345679, tensor(1.2784)]\n",
      "\n",
      "Epoch  594\n"
     ]
    },
    {
     "name": "stderr",
     "output_type": "stream",
     "text": [
      "81it [00:01, 44.05it/s]"
     ]
    },
    {
     "name": "stdout",
     "output_type": "stream",
     "text": [
      "['acc', 'kappa', 'auc', 'fmeasure', 'loss']\n",
      "Training Loss  1.2507918572720187\n"
     ]
    },
    {
     "name": "stderr",
     "output_type": "stream",
     "text": [
      "\n"
     ]
    },
    {
     "name": "stdout",
     "output_type": "stream",
     "text": [
      "Train -  [0.4737654320987654, 0.2983539094650206, 0.7164153393791597, 0.4737654320987654, tensor(1.2504)]\n",
      "Validation -  [0.4367283950617284, 0.2489711934156379, 0.6869732923080831, 0.4367283950617284, tensor(1.2787)]\n",
      "\n",
      "Epoch  595\n"
     ]
    },
    {
     "name": "stderr",
     "output_type": "stream",
     "text": [
      "81it [00:01, 43.82it/s]"
     ]
    },
    {
     "name": "stdout",
     "output_type": "stream",
     "text": [
      "['acc', 'kappa', 'auc', 'fmeasure', 'loss']\n",
      "Training Loss  1.2510364261674292\n"
     ]
    },
    {
     "name": "stderr",
     "output_type": "stream",
     "text": [
      "\n"
     ]
    },
    {
     "name": "stdout",
     "output_type": "stream",
     "text": [
      "Train -  [0.4729938271604938, 0.2973251028806584, 0.7163731670413555, 0.4729938271604938, tensor(1.2504)]\n",
      "Validation -  [0.4382716049382716, 0.2510288065843621, 0.6870705367576081, 0.4382716049382716, tensor(1.2785)]\n",
      "\n",
      "Epoch  596\n"
     ]
    },
    {
     "name": "stderr",
     "output_type": "stream",
     "text": [
      "81it [00:02, 39.96it/s]\n"
     ]
    },
    {
     "name": "stdout",
     "output_type": "stream",
     "text": [
      "['acc', 'kappa', 'auc', 'fmeasure', 'loss']\n",
      "Training Loss  1.251206518691263\n",
      "Train -  [0.4729938271604938, 0.2973251028806584, 0.716319881052177, 0.4729938271604938, tensor(1.2504)]\n",
      "Validation -  [0.4375, 0.25, 0.6869048242772952, 0.4375, tensor(1.2787)]\n",
      "\n",
      "Epoch  597\n"
     ]
    },
    {
     "name": "stderr",
     "output_type": "stream",
     "text": [
      "81it [00:01, 41.34it/s]"
     ]
    },
    {
     "name": "stdout",
     "output_type": "stream",
     "text": [
      "['acc', 'kappa', 'auc', 'fmeasure', 'loss']\n",
      "Training Loss  1.2509467277997806\n"
     ]
    },
    {
     "name": "stderr",
     "output_type": "stream",
     "text": [
      "\n"
     ]
    },
    {
     "name": "stdout",
     "output_type": "stream",
     "text": [
      "Train -  [0.4722222222222222, 0.2962962962962963, 0.7166288802519941, 0.4722222222222222, tensor(1.2505)]\n",
      "Validation -  [0.4351851851851852, 0.24691358024691357, 0.6874521716074785, 0.4351851851851852, tensor(1.2783)]\n",
      "\n",
      "Epoch  598\n"
     ]
    },
    {
     "name": "stderr",
     "output_type": "stream",
     "text": [
      "81it [00:01, 41.34it/s]"
     ]
    },
    {
     "name": "stdout",
     "output_type": "stream",
     "text": [
      "['acc', 'kappa', 'auc', 'fmeasure', 'loss']\n",
      "Training Loss  1.2510334194442372\n"
     ]
    },
    {
     "name": "stderr",
     "output_type": "stream",
     "text": [
      "\n"
     ]
    },
    {
     "name": "stdout",
     "output_type": "stream",
     "text": [
      "Train -  [0.47492283950617287, 0.2998971193415638, 0.7165727166209419, 0.47492283950617287, tensor(1.2504)]\n",
      "Validation -  [0.4386574074074074, 0.2515432098765432, 0.6872463705989941, 0.4386574074074074, tensor(1.2785)]\n",
      "\n",
      "Epoch  599\n"
     ]
    },
    {
     "name": "stderr",
     "output_type": "stream",
     "text": [
      "81it [00:02, 39.28it/s]"
     ]
    },
    {
     "name": "stdout",
     "output_type": "stream",
     "text": [
      "['acc', 'kappa', 'auc', 'fmeasure', 'loss']\n",
      "Training Loss  1.250997880358755\n"
     ]
    },
    {
     "name": "stderr",
     "output_type": "stream",
     "text": [
      "\n"
     ]
    },
    {
     "name": "stdout",
     "output_type": "stream",
     "text": [
      "Train -  [0.4729938271604938, 0.2973251028806584, 0.716636620116344, 0.4729938271604938, tensor(1.2504)]\n",
      "Validation -  [0.4382716049382716, 0.2510288065843621, 0.6873904511507393, 0.4382716049382716, tensor(1.2784)]\n",
      "\n",
      "Epoch  600\n"
     ]
    },
    {
     "name": "stderr",
     "output_type": "stream",
     "text": [
      "81it [00:02, 39.42it/s]"
     ]
    },
    {
     "name": "stdout",
     "output_type": "stream",
     "text": [
      "['acc', 'kappa', 'auc', 'fmeasure', 'loss']\n",
      "Training Loss  1.250479022661845\n"
     ]
    },
    {
     "name": "stderr",
     "output_type": "stream",
     "text": [
      "\n"
     ]
    },
    {
     "name": "stdout",
     "output_type": "stream",
     "text": [
      "Train -  [0.47530864197530864, 0.3004115226337448, 0.716600103833257, 0.47530864197530864, tensor(1.2504)]\n",
      "Validation -  [0.4378858024691358, 0.2505144032921811, 0.6873364705583498, 0.4378858024691358, tensor(1.2784)]\n",
      "\n",
      "Epoch  601\n"
     ]
    },
    {
     "name": "stderr",
     "output_type": "stream",
     "text": [
      "81it [00:01, 41.91it/s]"
     ]
    },
    {
     "name": "stdout",
     "output_type": "stream",
     "text": [
      "['acc', 'kappa', 'auc', 'fmeasure', 'loss']\n",
      "Training Loss  1.2504584303608648\n"
     ]
    },
    {
     "name": "stderr",
     "output_type": "stream",
     "text": [
      "\n"
     ]
    },
    {
     "name": "stdout",
     "output_type": "stream",
     "text": [
      "Train -  [0.47530864197530864, 0.3004115226337448, 0.716603080704161, 0.47530864197530864, tensor(1.2504)]\n",
      "Validation -  [0.4378858024691358, 0.2505144032921811, 0.6873463934613626, 0.4378858024691358, tensor(1.2784)]\n",
      "\n",
      "Epoch  602\n"
     ]
    },
    {
     "name": "stderr",
     "output_type": "stream",
     "text": [
      "81it [00:02, 40.04it/s]"
     ]
    },
    {
     "name": "stdout",
     "output_type": "stream",
     "text": [
      "['acc', 'kappa', 'auc', 'fmeasure', 'loss']\n",
      "Training Loss  1.250467993594982\n"
     ]
    },
    {
     "name": "stderr",
     "output_type": "stream",
     "text": [
      "\n"
     ]
    },
    {
     "name": "stdout",
     "output_type": "stream",
     "text": [
      "Train -  [0.47608024691358025, 0.30144032921810704, 0.7166040729944623, 0.47608024691358025, tensor(1.2504)]\n",
      "Validation -  [0.4375, 0.25, 0.6873382566808922, 0.4375, tensor(1.2784)]\n",
      "\n",
      "Epoch  603\n"
     ]
    },
    {
     "name": "stderr",
     "output_type": "stream",
     "text": [
      "81it [00:02, 40.25it/s]"
     ]
    },
    {
     "name": "stdout",
     "output_type": "stream",
     "text": [
      "['acc', 'kappa', 'auc', 'fmeasure', 'loss']\n",
      "Training Loss  1.2504511571224826\n"
     ]
    },
    {
     "name": "stderr",
     "output_type": "stream",
     "text": [
      "\n"
     ]
    },
    {
     "name": "stdout",
     "output_type": "stream",
     "text": [
      "Train -  [0.47453703703703703, 0.2993827160493827, 0.7165854179367983, 0.47453703703703703, tensor(1.2504)]\n",
      "Validation -  [0.4367283950617284, 0.2489711934156379, 0.6873132509652999, 0.4367283950617284, tensor(1.2784)]\n",
      "\n",
      "Epoch  604\n"
     ]
    },
    {
     "name": "stderr",
     "output_type": "stream",
     "text": [
      "81it [00:02, 38.96it/s]"
     ]
    },
    {
     "name": "stdout",
     "output_type": "stream",
     "text": [
      "['acc', 'kappa', 'auc', 'fmeasure', 'loss']\n",
      "Training Loss  1.2504289341561587\n"
     ]
    },
    {
     "name": "stderr",
     "output_type": "stream",
     "text": [
      "\n"
     ]
    },
    {
     "name": "stdout",
     "output_type": "stream",
     "text": [
      "Train -  [0.47492283950617287, 0.2998971193415638, 0.7165917685947264, 0.47492283950617287, tensor(1.2504)]\n",
      "Validation -  [0.4363425925925926, 0.24845679012345678, 0.6873267461133973, 0.4363425925925926, tensor(1.2783)]\n",
      "\n",
      "Epoch  605\n"
     ]
    },
    {
     "name": "stderr",
     "output_type": "stream",
     "text": [
      "81it [00:01, 42.04it/s]"
     ]
    },
    {
     "name": "stdout",
     "output_type": "stream",
     "text": [
      "['acc', 'kappa', 'auc', 'fmeasure', 'loss']\n",
      "Training Loss  1.2505010233985052\n"
     ]
    },
    {
     "name": "stderr",
     "output_type": "stream",
     "text": [
      "\n"
     ]
    },
    {
     "name": "stdout",
     "output_type": "stream",
     "text": [
      "Train -  [0.4737654320987654, 0.2983539094650206, 0.716544734034446, 0.4737654320987654, tensor(1.2504)]\n",
      "Validation -  [0.4375, 0.25, 0.6872424014377889, 0.4375, tensor(1.2784)]\n",
      "\n",
      "Epoch  606\n"
     ]
    },
    {
     "name": "stderr",
     "output_type": "stream",
     "text": [
      "81it [00:02, 39.08it/s]"
     ]
    },
    {
     "name": "stdout",
     "output_type": "stream",
     "text": [
      "['acc', 'kappa', 'auc', 'fmeasure', 'loss']\n",
      "Training Loss  1.2504331947844705\n"
     ]
    },
    {
     "name": "stderr",
     "output_type": "stream",
     "text": [
      "\n"
     ]
    },
    {
     "name": "stdout",
     "output_type": "stream",
     "text": [
      "Train -  [0.47337962962962965, 0.2978395061728395, 0.7165576338083626, 0.47337962962962965, tensor(1.2504)]\n",
      "Validation -  [0.4375, 0.25, 0.6872711778565259, 0.4375, tensor(1.2784)]\n",
      "\n",
      "Epoch  607\n"
     ]
    },
    {
     "name": "stderr",
     "output_type": "stream",
     "text": [
      "81it [00:02, 40.06it/s]"
     ]
    },
    {
     "name": "stdout",
     "output_type": "stream",
     "text": [
      "['acc', 'kappa', 'auc', 'fmeasure', 'loss']\n",
      "Training Loss  1.2504284028653745\n"
     ]
    },
    {
     "name": "stderr",
     "output_type": "stream",
     "text": [
      "\n"
     ]
    },
    {
     "name": "stdout",
     "output_type": "stream",
     "text": [
      "Train -  [0.47415123456790126, 0.2988683127572016, 0.7165618014276279, 0.47415123456790126, tensor(1.2504)]\n",
      "Validation -  [0.4371141975308642, 0.2494855967078189, 0.6872752462467612, 0.4371141975308642, tensor(1.2784)]\n",
      "\n",
      "Epoch  608\n"
     ]
    },
    {
     "name": "stderr",
     "output_type": "stream",
     "text": [
      "81it [00:01, 40.85it/s]"
     ]
    },
    {
     "name": "stdout",
     "output_type": "stream",
     "text": [
      "['acc', 'kappa', 'auc', 'fmeasure', 'loss']\n",
      "Training Loss  1.2504238920447268\n"
     ]
    },
    {
     "name": "stderr",
     "output_type": "stream",
     "text": [
      "\n"
     ]
    },
    {
     "name": "stdout",
     "output_type": "stream",
     "text": [
      "Train -  [0.47415123456790126, 0.2988683127572016, 0.7165576338083626, 0.47415123456790126, tensor(1.2504)]\n",
      "Validation -  [0.4375, 0.25, 0.6872695901920438, 0.4375, tensor(1.2784)]\n",
      "\n",
      "Epoch  609\n"
     ]
    },
    {
     "name": "stderr",
     "output_type": "stream",
     "text": [
      "81it [00:01, 40.89it/s]"
     ]
    },
    {
     "name": "stdout",
     "output_type": "stream",
     "text": [
      "['acc', 'kappa', 'auc', 'fmeasure', 'loss']\n",
      "Training Loss  1.2504394584231906\n"
     ]
    },
    {
     "name": "stderr",
     "output_type": "stream",
     "text": [
      "\n"
     ]
    },
    {
     "name": "stdout",
     "output_type": "stream",
     "text": [
      "Train -  [0.4737654320987654, 0.2983539094650206, 0.7165530692729766, 0.4737654320987654, tensor(1.2504)]\n",
      "Validation -  [0.4367283950617284, 0.2489711934156379, 0.6872570873342478, 0.4367283950617284, tensor(1.2784)]\n",
      "\n",
      "Epoch  610\n"
     ]
    },
    {
     "name": "stderr",
     "output_type": "stream",
     "text": [
      "81it [00:02, 40.10it/s]"
     ]
    },
    {
     "name": "stdout",
     "output_type": "stream",
     "text": [
      "['acc', 'kappa', 'auc', 'fmeasure', 'loss']\n",
      "Training Loss  1.2504563552361947\n"
     ]
    },
    {
     "name": "stderr",
     "output_type": "stream",
     "text": [
      "\n"
     ]
    },
    {
     "name": "stdout",
     "output_type": "stream",
     "text": [
      "Train -  [0.4737654320987654, 0.2983539094650206, 0.7165600153050857, 0.4737654320987654, tensor(1.2504)]\n",
      "Validation -  [0.4375, 0.25, 0.6872870545013463, 0.4375, tensor(1.2783)]\n",
      "\n",
      "Epoch  611\n"
     ]
    },
    {
     "name": "stderr",
     "output_type": "stream",
     "text": [
      "81it [00:02, 40.29it/s]"
     ]
    },
    {
     "name": "stdout",
     "output_type": "stream",
     "text": [
      "['acc', 'kappa', 'auc', 'fmeasure', 'loss']\n",
      "Training Loss  1.2504341617042636\n"
     ]
    },
    {
     "name": "stderr",
     "output_type": "stream",
     "text": [
      "\n"
     ]
    },
    {
     "name": "stdout",
     "output_type": "stream",
     "text": [
      "Train -  [0.4729938271604938, 0.2973251028806584, 0.7165296512218666, 0.4729938271604938, tensor(1.2504)]\n",
      "Validation -  [0.4375, 0.25, 0.6872193803027995, 0.4375, tensor(1.2784)]\n",
      "\n",
      "Epoch  612\n"
     ]
    },
    {
     "name": "stderr",
     "output_type": "stream",
     "text": [
      "81it [00:02, 39.32it/s]"
     ]
    },
    {
     "name": "stdout",
     "output_type": "stream",
     "text": [
      "['acc', 'kappa', 'auc', 'fmeasure', 'loss']\n",
      "Training Loss  1.2504469686084323\n"
     ]
    },
    {
     "name": "stderr",
     "output_type": "stream",
     "text": [
      "\n"
     ]
    },
    {
     "name": "stdout",
     "output_type": "stream",
     "text": [
      "Train -  [0.47415123456790126, 0.2988683127572016, 0.7165590230147844, 0.47415123456790126, tensor(1.2504)]\n",
      "Validation -  [0.4367283950617284, 0.2489711934156379, 0.6872364476959812, 0.4367283950617284, tensor(1.2784)]\n",
      "\n",
      "Epoch  613\n"
     ]
    },
    {
     "name": "stderr",
     "output_type": "stream",
     "text": [
      "81it [00:02, 40.32it/s]"
     ]
    },
    {
     "name": "stdout",
     "output_type": "stream",
     "text": [
      "['acc', 'kappa', 'auc', 'fmeasure', 'loss']\n",
      "Training Loss  1.2504124832742007\n"
     ]
    },
    {
     "name": "stderr",
     "output_type": "stream",
     "text": [
      "\n"
     ]
    },
    {
     "name": "stdout",
     "output_type": "stream",
     "text": [
      "Train -  [0.47337962962962965, 0.2978395061728395, 0.716542451766753, 0.47337962962962965, tensor(1.2504)]\n",
      "Validation -  [0.4378858024691358, 0.2505144032921811, 0.6872604611212721, 0.4378858024691358, tensor(1.2784)]\n",
      "\n",
      "Epoch  614\n"
     ]
    },
    {
     "name": "stderr",
     "output_type": "stream",
     "text": [
      "81it [00:02, 40.27it/s]"
     ]
    },
    {
     "name": "stdout",
     "output_type": "stream",
     "text": [
      "['acc', 'kappa', 'auc', 'fmeasure', 'loss']\n",
      "Training Loss  1.2504174930078011\n"
     ]
    },
    {
     "name": "stderr",
     "output_type": "stream",
     "text": [
      "\n"
     ]
    },
    {
     "name": "stdout",
     "output_type": "stream",
     "text": [
      "Train -  [0.47415123456790126, 0.2988683127572016, 0.7165467186150485, 0.47415123456790126, tensor(1.2504)]\n",
      "Validation -  [0.4371141975308642, 0.2494855967078189, 0.6872501413021388, 0.4371141975308642, tensor(1.2784)]\n",
      "\n",
      "Epoch  615\n"
     ]
    },
    {
     "name": "stderr",
     "output_type": "stream",
     "text": [
      "81it [00:01, 41.61it/s]"
     ]
    },
    {
     "name": "stdout",
     "output_type": "stream",
     "text": [
      "['acc', 'kappa', 'auc', 'fmeasure', 'loss']\n",
      "Training Loss  1.250414924857057\n"
     ]
    },
    {
     "name": "stderr",
     "output_type": "stream",
     "text": [
      "\n"
     ]
    },
    {
     "name": "stdout",
     "output_type": "stream",
     "text": [
      "Train -  [0.47337962962962965, 0.2978395061728395, 0.7165399710409999, 0.47337962962962965, tensor(1.2504)]\n",
      "Validation -  [0.4375, 0.25, 0.6872461721409338, 0.4375, tensor(1.2784)]\n",
      "\n",
      "Epoch  616\n"
     ]
    },
    {
     "name": "stderr",
     "output_type": "stream",
     "text": [
      "81it [00:02, 39.61it/s]"
     ]
    },
    {
     "name": "stdout",
     "output_type": "stream",
     "text": [
      "['acc', 'kappa', 'auc', 'fmeasure', 'loss']\n",
      "Training Loss  1.2504155120731872\n"
     ]
    },
    {
     "name": "stderr",
     "output_type": "stream",
     "text": [
      "\n"
     ]
    },
    {
     "name": "stdout",
     "output_type": "stream",
     "text": [
      "Train -  [0.47337962962962965, 0.2978395061728395, 0.7165451309505665, 0.47337962962962965, tensor(1.2504)]\n",
      "Validation -  [0.4378858024691358, 0.2505144032921811, 0.6872529197149825, 0.4378858024691358, tensor(1.2784)]\n",
      "\n",
      "Epoch  617\n"
     ]
    },
    {
     "name": "stderr",
     "output_type": "stream",
     "text": [
      "81it [00:02, 40.20it/s]"
     ]
    },
    {
     "name": "stdout",
     "output_type": "stream",
     "text": [
      "['acc', 'kappa', 'auc', 'fmeasure', 'loss']\n",
      "Training Loss  1.2504073160666007\n"
     ]
    },
    {
     "name": "stderr",
     "output_type": "stream",
     "text": [
      "\n"
     ]
    },
    {
     "name": "stdout",
     "output_type": "stream",
     "text": [
      "Train -  [0.4737654320987654, 0.2983539094650206, 0.7165272697251436, 0.4737654320987654, tensor(1.2504)]\n",
      "Validation -  [0.4367283950617284, 0.2489711934156379, 0.6872128311868109, 0.4367283950617284, tensor(1.2784)]\n",
      "\n",
      "Epoch  618\n"
     ]
    },
    {
     "name": "stderr",
     "output_type": "stream",
     "text": [
      "81it [00:02, 38.85it/s]"
     ]
    },
    {
     "name": "stdout",
     "output_type": "stream",
     "text": [
      "['acc', 'kappa', 'auc', 'fmeasure', 'loss']\n",
      "Training Loss  1.2504576768404172\n"
     ]
    },
    {
     "name": "stderr",
     "output_type": "stream",
     "text": [
      "\n"
     ]
    },
    {
     "name": "stdout",
     "output_type": "stream",
     "text": [
      "Train -  [0.4737654320987654, 0.2983539094650206, 0.7165225067316974, 0.4737654320987654, tensor(1.2504)]\n",
      "Validation -  [0.4375, 0.25, 0.6872150142254738, 0.4375, tensor(1.2784)]\n",
      "\n",
      "Epoch  619\n"
     ]
    },
    {
     "name": "stderr",
     "output_type": "stream",
     "text": [
      "81it [00:02, 38.72it/s]"
     ]
    },
    {
     "name": "stdout",
     "output_type": "stream",
     "text": [
      "['acc', 'kappa', 'auc', 'fmeasure', 'loss']\n",
      "Training Loss  1.250420524750227\n"
     ]
    },
    {
     "name": "stderr",
     "output_type": "stream",
     "text": [
      "\n"
     ]
    },
    {
     "name": "stdout",
     "output_type": "stream",
     "text": [
      "Train -  [0.47337962962962965, 0.2978395061728395, 0.7165014701773104, 0.47337962962962965, tensor(1.2504)]\n",
      "Validation -  [0.4378858024691358, 0.2505144032921811, 0.6871892146776406, 0.4378858024691358, tensor(1.2784)]\n",
      "\n",
      "Epoch  620\n"
     ]
    },
    {
     "name": "stderr",
     "output_type": "stream",
     "text": [
      "81it [00:02, 38.76it/s]"
     ]
    },
    {
     "name": "stdout",
     "output_type": "stream",
     "text": [
      "['acc', 'kappa', 'auc', 'fmeasure', 'loss']\n",
      "Training Loss  1.2504424886938967\n"
     ]
    },
    {
     "name": "stderr",
     "output_type": "stream",
     "text": [
      "\n"
     ]
    },
    {
     "name": "stdout",
     "output_type": "stream",
     "text": [
      "Train -  [0.4729938271604938, 0.2973251028806584, 0.7165489016537113, 0.4729938271604938, tensor(1.2504)]\n",
      "Validation -  [0.4375, 0.25, 0.6872636364502362, 0.4375, tensor(1.2783)]\n",
      "\n",
      "Epoch  621\n"
     ]
    },
    {
     "name": "stderr",
     "output_type": "stream",
     "text": [
      "81it [00:01, 42.34it/s]"
     ]
    },
    {
     "name": "stdout",
     "output_type": "stream",
     "text": [
      "['acc', 'kappa', 'auc', 'fmeasure', 'loss']\n",
      "Training Loss  1.2504218772605613\n"
     ]
    },
    {
     "name": "stderr",
     "output_type": "stream",
     "text": [
      "\n"
     ]
    },
    {
     "name": "stdout",
     "output_type": "stream",
     "text": [
      "Train -  [0.4729938271604938, 0.2973251028806584, 0.7165429479119036, 0.4729938271604938, tensor(1.2504)]\n",
      "Validation -  [0.4371141975308642, 0.2494855967078189, 0.6872169988060763, 0.4371141975308642, tensor(1.2784)]\n",
      "\n",
      "Epoch  622\n"
     ]
    },
    {
     "name": "stderr",
     "output_type": "stream",
     "text": [
      "81it [00:02, 39.82it/s]"
     ]
    },
    {
     "name": "stdout",
     "output_type": "stream",
     "text": [
      "['acc', 'kappa', 'auc', 'fmeasure', 'loss']\n",
      "Training Loss  1.2504170073403253\n"
     ]
    },
    {
     "name": "stderr",
     "output_type": "stream",
     "text": [
      "\n"
     ]
    },
    {
     "name": "stdout",
     "output_type": "stream",
     "text": [
      "Train -  [0.47337962962962965, 0.2978395061728395, 0.7165415587054819, 0.47337962962962965, tensor(1.2504)]\n",
      "Validation -  [0.4382716049382716, 0.2510288065843621, 0.6872503397601992, 0.4382716049382716, tensor(1.2784)]\n",
      "\n",
      "Epoch  623\n"
     ]
    },
    {
     "name": "stderr",
     "output_type": "stream",
     "text": [
      "81it [00:01, 40.89it/s]"
     ]
    },
    {
     "name": "stdout",
     "output_type": "stream",
     "text": [
      "['acc', 'kappa', 'auc', 'fmeasure', 'loss']\n",
      "Training Loss  1.2504034057075595\n"
     ]
    },
    {
     "name": "stderr",
     "output_type": "stream",
     "text": [
      "\n"
     ]
    },
    {
     "name": "stdout",
     "output_type": "stream",
     "text": [
      "Train -  [0.47337962962962965, 0.2978395061728395, 0.7165090115836001, 0.47337962962962965, tensor(1.2503)]\n",
      "Validation -  [0.4378858024691358, 0.2505144032921811, 0.6872025113676777, 0.4378858024691358, tensor(1.2784)]\n",
      "\n",
      "Epoch  624\n"
     ]
    },
    {
     "name": "stderr",
     "output_type": "stream",
     "text": [
      "81it [00:01, 41.31it/s]"
     ]
    },
    {
     "name": "stdout",
     "output_type": "stream",
     "text": [
      "['acc', 'kappa', 'auc', 'fmeasure', 'loss']\n",
      "Training Loss  1.250403399820681\n"
     ]
    },
    {
     "name": "stderr",
     "output_type": "stream",
     "text": [
      "\n"
     ]
    },
    {
     "name": "stdout",
     "output_type": "stream",
     "text": [
      "Train -  [0.47337962962962965, 0.2978395061728395, 0.7165115915383834, 0.47337962962962965, tensor(1.2503)]\n",
      "Validation -  [0.4382716049382716, 0.2510288065843621, 0.6871993360387135, 0.4382716049382716, tensor(1.2784)]\n",
      "\n",
      "Epoch  625\n"
     ]
    },
    {
     "name": "stderr",
     "output_type": "stream",
     "text": [
      "81it [00:02, 39.14it/s]"
     ]
    },
    {
     "name": "stdout",
     "output_type": "stream",
     "text": [
      "['acc', 'kappa', 'auc', 'fmeasure', 'loss']\n",
      "Training Loss  1.2504259921886303\n"
     ]
    },
    {
     "name": "stderr",
     "output_type": "stream",
     "text": [
      "\n"
     ]
    },
    {
     "name": "stdout",
     "output_type": "stream",
     "text": [
      "Train -  [0.4729938271604938, 0.2973251028806584, 0.7165427494538433, 0.4729938271604938, tensor(1.2503)]\n",
      "Validation -  [0.4375, 0.25, 0.6872289062896917, 0.4375, tensor(1.2784)]\n",
      "\n",
      "Epoch  626\n"
     ]
    },
    {
     "name": "stderr",
     "output_type": "stream",
     "text": [
      "81it [00:02, 39.54it/s]"
     ]
    },
    {
     "name": "stdout",
     "output_type": "stream",
     "text": [
      "['acc', 'kappa', 'auc', 'fmeasure', 'loss']\n",
      "Training Loss  1.2503935981679846\n"
     ]
    },
    {
     "name": "stderr",
     "output_type": "stream",
     "text": [
      "\n"
     ]
    },
    {
     "name": "stdout",
     "output_type": "stream",
     "text": [
      "Train -  [0.47337962962962965, 0.2978395061728395, 0.716523895938119, 0.47337962962962965, tensor(1.2503)]\n",
      "Validation -  [0.4382716049382716, 0.2510288065843621, 0.6872239448381852, 0.4382716049382716, tensor(1.2784)]\n",
      "\n",
      "Epoch  627\n"
     ]
    },
    {
     "name": "stderr",
     "output_type": "stream",
     "text": [
      "81it [00:02, 39.08it/s]"
     ]
    },
    {
     "name": "stdout",
     "output_type": "stream",
     "text": [
      "['acc', 'kappa', 'auc', 'fmeasure', 'loss']\n",
      "Training Loss  1.2504008772932453\n"
     ]
    },
    {
     "name": "stderr",
     "output_type": "stream",
     "text": [
      "\n"
     ]
    },
    {
     "name": "stdout",
     "output_type": "stream",
     "text": [
      "Train -  [0.47337962962962965, 0.2978395061728395, 0.7165242928542397, 0.47337962962962965, tensor(1.2503)]\n",
      "Validation -  [0.4382716049382716, 0.2510288065843621, 0.6872306924122339, 0.4382716049382716, tensor(1.2784)]\n",
      "\n",
      "Epoch  628\n"
     ]
    },
    {
     "name": "stderr",
     "output_type": "stream",
     "text": [
      "81it [00:02, 38.98it/s]"
     ]
    },
    {
     "name": "stdout",
     "output_type": "stream",
     "text": [
      "['acc', 'kappa', 'auc', 'fmeasure', 'loss']\n",
      "Training Loss  1.250414721759749\n"
     ]
    },
    {
     "name": "stderr",
     "output_type": "stream",
     "text": [
      "\n"
     ]
    },
    {
     "name": "stdout",
     "output_type": "stream",
     "text": [
      "Train -  [0.47337962962962965, 0.2978395061728395, 0.7165343149862826, 0.47337962962962965, tensor(1.2503)]\n",
      "Validation -  [0.4382716049382716, 0.2510288065843621, 0.6872422029797287, 0.4382716049382716, tensor(1.2784)]\n",
      "\n",
      "Epoch  629\n"
     ]
    },
    {
     "name": "stderr",
     "output_type": "stream",
     "text": [
      "81it [00:02, 39.25it/s]"
     ]
    },
    {
     "name": "stdout",
     "output_type": "stream",
     "text": [
      "['acc', 'kappa', 'auc', 'fmeasure', 'loss']\n",
      "Training Loss  1.2503965636830272\n"
     ]
    },
    {
     "name": "stderr",
     "output_type": "stream",
     "text": [
      "\n"
     ]
    },
    {
     "name": "stdout",
     "output_type": "stream",
     "text": [
      "Train -  [0.4729938271604938, 0.2973251028806584, 0.7165272697251435, 0.4729938271604938, tensor(1.2503)]\n",
      "Validation -  [0.4382716049382716, 0.2510288065843621, 0.6872263263349083, 0.4382716049382716, tensor(1.2784)]\n",
      "\n",
      "Epoch  630\n"
     ]
    },
    {
     "name": "stderr",
     "output_type": "stream",
     "text": [
      "81it [00:01, 42.44it/s]"
     ]
    },
    {
     "name": "stdout",
     "output_type": "stream",
     "text": [
      "['acc', 'kappa', 'auc', 'fmeasure', 'loss']\n",
      "Training Loss  1.2504379587408938\n"
     ]
    },
    {
     "name": "stderr",
     "output_type": "stream",
     "text": [
      "\n"
     ]
    },
    {
     "name": "stdout",
     "output_type": "stream",
     "text": [
      "Train -  [0.47260802469135804, 0.2968106995884774, 0.7165360018797947, 0.47260802469135804, tensor(1.2503)]\n",
      "Validation -  [0.4382716049382716, 0.2510288065843621, 0.6872388291927044, 0.4382716049382716, tensor(1.2784)]\n",
      "\n",
      "Epoch  631\n"
     ]
    },
    {
     "name": "stderr",
     "output_type": "stream",
     "text": [
      "81it [00:02, 38.03it/s]"
     ]
    },
    {
     "name": "stdout",
     "output_type": "stream",
     "text": [
      "['acc', 'kappa', 'auc', 'fmeasure', 'loss']\n",
      "Training Loss  1.2504253755381078\n"
     ]
    },
    {
     "name": "stderr",
     "output_type": "stream",
     "text": [
      "\n"
     ]
    },
    {
     "name": "stdout",
     "output_type": "stream",
     "text": [
      "Train -  [0.4729938271604938, 0.2973251028806584, 0.7165387802926384, 0.4729938271604938, tensor(1.2503)]\n",
      "Validation -  [0.4382716049382716, 0.2510288065843621, 0.6872360507798608, 0.4382716049382716, tensor(1.2784)]\n",
      "\n",
      "Epoch  632\n"
     ]
    },
    {
     "name": "stderr",
     "output_type": "stream",
     "text": [
      "81it [00:01, 40.99it/s]"
     ]
    },
    {
     "name": "stdout",
     "output_type": "stream",
     "text": [
      "['acc', 'kappa', 'auc', 'fmeasure', 'loss']\n",
      "Training Loss  1.250428232881758\n"
     ]
    },
    {
     "name": "stderr",
     "output_type": "stream",
     "text": [
      "\n"
     ]
    },
    {
     "name": "stdout",
     "output_type": "stream",
     "text": [
      "Train -  [0.4729938271604938, 0.2973251028806584, 0.716529849679927, 0.4729938271604938, tensor(1.2503)]\n",
      "Validation -  [0.4382716049382716, 0.2510288065843621, 0.6872402183991262, 0.4382716049382716, tensor(1.2784)]\n",
      "\n",
      "Epoch  633\n"
     ]
    },
    {
     "name": "stderr",
     "output_type": "stream",
     "text": [
      "81it [00:01, 40.76it/s]"
     ]
    },
    {
     "name": "stdout",
     "output_type": "stream",
     "text": [
      "['acc', 'kappa', 'auc', 'fmeasure', 'loss']\n",
      "Training Loss  1.2504311064143239\n"
     ]
    },
    {
     "name": "stderr",
     "output_type": "stream",
     "text": [
      "\n"
     ]
    },
    {
     "name": "stdout",
     "output_type": "stream",
     "text": [
      "Train -  [0.4737654320987654, 0.2983539094650206, 0.7165612060534472, 0.4737654320987654, tensor(1.2503)]\n",
      "Validation -  [0.4378858024691358, 0.2505144032921811, 0.6872767346822131, 0.4378858024691358, tensor(1.2783)]\n",
      "\n",
      "Epoch  634\n"
     ]
    },
    {
     "name": "stderr",
     "output_type": "stream",
     "text": [
      "81it [00:02, 39.76it/s]"
     ]
    },
    {
     "name": "stdout",
     "output_type": "stream",
     "text": [
      "['acc', 'kappa', 'auc', 'fmeasure', 'loss']\n",
      "Training Loss  1.25041651872941\n"
     ]
    },
    {
     "name": "stderr",
     "output_type": "stream",
     "text": [
      "\n"
     ]
    },
    {
     "name": "stdout",
     "output_type": "stream",
     "text": [
      "Train -  [0.4729938271604938, 0.2973251028806584, 0.7165473139892292, 0.4729938271604938, tensor(1.2503)]\n",
      "Validation -  [0.4382716049382716, 0.2510288065843621, 0.6872368446121019, 0.4382716049382716, tensor(1.2784)]\n",
      "\n",
      "Epoch  635\n"
     ]
    },
    {
     "name": "stderr",
     "output_type": "stream",
     "text": [
      "81it [00:02, 39.67it/s]"
     ]
    },
    {
     "name": "stdout",
     "output_type": "stream",
     "text": [
      "['acc', 'kappa', 'auc', 'fmeasure', 'loss']\n",
      "Training Loss  1.2504092984729342\n"
     ]
    },
    {
     "name": "stderr",
     "output_type": "stream",
     "text": [
      "\n"
     ]
    },
    {
     "name": "stdout",
     "output_type": "stream",
     "text": [
      "Train -  [0.47337962962962965, 0.2978395061728395, 0.7165103015609916, 0.47337962962962965, tensor(1.2503)]\n",
      "Validation -  [0.4378858024691358, 0.2505144032921811, 0.6872001298709547, 0.4378858024691358, tensor(1.2784)]\n",
      "\n",
      "Epoch  636\n"
     ]
    },
    {
     "name": "stderr",
     "output_type": "stream",
     "text": [
      "81it [00:02, 39.73it/s]"
     ]
    },
    {
     "name": "stdout",
     "output_type": "stream",
     "text": [
      "['acc', 'kappa', 'auc', 'fmeasure', 'loss']\n",
      "Training Loss  1.250394325197479\n"
     ]
    },
    {
     "name": "stderr",
     "output_type": "stream",
     "text": [
      "\n"
     ]
    },
    {
     "name": "stdout",
     "output_type": "stream",
     "text": [
      "Train -  [0.47337962962962965, 0.2978395061728395, 0.7165387802926384, 0.47337962962962965, tensor(1.2503)]\n",
      "Validation -  [0.4382716049382716, 0.2510288065843621, 0.6872156095996546, 0.4382716049382716, tensor(1.2784)]\n",
      "\n",
      "Epoch  637\n"
     ]
    },
    {
     "name": "stderr",
     "output_type": "stream",
     "text": [
      "81it [00:01, 41.69it/s]"
     ]
    },
    {
     "name": "stdout",
     "output_type": "stream",
     "text": [
      "['acc', 'kappa', 'auc', 'fmeasure', 'loss']\n",
      "Training Loss  1.2504121197594538\n"
     ]
    },
    {
     "name": "stderr",
     "output_type": "stream",
     "text": [
      "\n"
     ]
    },
    {
     "name": "stdout",
     "output_type": "stream",
     "text": [
      "Train -  [0.47337962962962965, 0.2978395061728395, 0.7165062331707566, 0.47337962962962965, tensor(1.2503)]\n",
      "Validation -  [0.4378858024691358, 0.2505144032921811, 0.6872009237031956, 0.4378858024691358, tensor(1.2784)]\n",
      "\n",
      "Epoch  638\n"
     ]
    },
    {
     "name": "stderr",
     "output_type": "stream",
     "text": [
      "81it [00:02, 40.08it/s]"
     ]
    },
    {
     "name": "stdout",
     "output_type": "stream",
     "text": [
      "['acc', 'kappa', 'auc', 'fmeasure', 'loss']\n",
      "Training Loss  1.2503908386936895\n"
     ]
    },
    {
     "name": "stderr",
     "output_type": "stream",
     "text": [
      "\n"
     ]
    },
    {
     "name": "stdout",
     "output_type": "stream",
     "text": [
      "Train -  [0.4729938271604938, 0.2973251028806584, 0.7165256820606616, 0.4729938271604938, tensor(1.2503)]\n",
      "Validation -  [0.4382716049382716, 0.2510288065843621, 0.6872110450642687, 0.4382716049382716, tensor(1.2784)]\n",
      "\n",
      "Epoch  639\n"
     ]
    },
    {
     "name": "stderr",
     "output_type": "stream",
     "text": [
      "81it [00:02, 38.91it/s]"
     ]
    },
    {
     "name": "stdout",
     "output_type": "stream",
     "text": [
      "['acc', 'kappa', 'auc', 'fmeasure', 'loss']\n",
      "Training Loss  1.2504325030762473\n"
     ]
    },
    {
     "name": "stderr",
     "output_type": "stream",
     "text": [
      "\n"
     ]
    },
    {
     "name": "stdout",
     "output_type": "stream",
     "text": [
      "Train -  [0.4729938271604938, 0.2973251028806584, 0.7165187360285525, 0.4729938271604938, tensor(1.2503)]\n",
      "Validation -  [0.4378858024691358, 0.2505144032921811, 0.6871965576258701, 0.4378858024691358, tensor(1.2784)]\n",
      "\n",
      "Epoch  640\n"
     ]
    },
    {
     "name": "stderr",
     "output_type": "stream",
     "text": [
      "81it [00:01, 43.82it/s]"
     ]
    },
    {
     "name": "stdout",
     "output_type": "stream",
     "text": [
      "['acc', 'kappa', 'auc', 'fmeasure', 'loss']\n",
      "Training Loss  1.2503914244380998\n"
     ]
    },
    {
     "name": "stderr",
     "output_type": "stream",
     "text": [
      "\n"
     ]
    },
    {
     "name": "stdout",
     "output_type": "stream",
     "text": [
      "Train -  [0.4729938271604938, 0.2973251028806584, 0.7165296512218666, 0.4729938271604938, tensor(1.2503)]\n",
      "Validation -  [0.4386574074074074, 0.2515432098765432, 0.6872435921861506, 0.4386574074074074, tensor(1.2784)]\n",
      "\n",
      "Epoch  641\n"
     ]
    },
    {
     "name": "stderr",
     "output_type": "stream",
     "text": [
      "81it [00:02, 39.49it/s]"
     ]
    },
    {
     "name": "stdout",
     "output_type": "stream",
     "text": [
      "['acc', 'kappa', 'auc', 'fmeasure', 'loss']\n",
      "Training Loss  1.2503840893874933\n"
     ]
    },
    {
     "name": "stderr",
     "output_type": "stream",
     "text": [
      "\n"
     ]
    },
    {
     "name": "stdout",
     "output_type": "stream",
     "text": [
      "Train -  [0.4737654320987654, 0.2983539094650206, 0.7165332234669513, 0.4737654320987654, tensor(1.2503)]\n",
      "Validation -  [0.4382716049382716, 0.2510288065843621, 0.6872358523218005, 0.4382716049382716, tensor(1.2784)]\n",
      "\n",
      "Epoch  642\n"
     ]
    },
    {
     "name": "stderr",
     "output_type": "stream",
     "text": [
      "81it [00:01, 41.94it/s]"
     ]
    },
    {
     "name": "stdout",
     "output_type": "stream",
     "text": [
      "['acc', 'kappa', 'auc', 'fmeasure', 'loss']\n",
      "Training Loss  1.2504054543412761\n"
     ]
    },
    {
     "name": "stderr",
     "output_type": "stream",
     "text": [
      "\n"
     ]
    },
    {
     "name": "stdout",
     "output_type": "stream",
     "text": [
      "Train -  [0.47337962962962965, 0.2978395061728395, 0.7165183391124321, 0.47337962962962965, tensor(1.2503)]\n",
      "Validation -  [0.4378858024691358, 0.2505144032921811, 0.6872025113676776, 0.4378858024691358, tensor(1.2784)]\n",
      "\n",
      "Epoch  643\n"
     ]
    },
    {
     "name": "stderr",
     "output_type": "stream",
     "text": [
      "81it [00:02, 39.79it/s]"
     ]
    },
    {
     "name": "stdout",
     "output_type": "stream",
     "text": [
      "['acc', 'kappa', 'auc', 'fmeasure', 'loss']\n",
      "Training Loss  1.2504047449724174\n"
     ]
    },
    {
     "name": "stderr",
     "output_type": "stream",
     "text": [
      "\n"
     ]
    },
    {
     "name": "stdout",
     "output_type": "stream",
     "text": [
      "Train -  [0.4737654320987654, 0.2983539094650206, 0.7165538631052176, 0.4737654320987654, tensor(1.2503)]\n",
      "Validation -  [0.4367283950617284, 0.2489711934156379, 0.6872493474698979, 0.4367283950617284, tensor(1.2784)]\n",
      "\n",
      "Epoch  644\n"
     ]
    },
    {
     "name": "stderr",
     "output_type": "stream",
     "text": [
      "81it [00:01, 41.00it/s]"
     ]
    },
    {
     "name": "stdout",
     "output_type": "stream",
     "text": [
      "['acc', 'kappa', 'auc', 'fmeasure', 'loss']\n",
      "Training Loss  1.2503958028039814\n"
     ]
    },
    {
     "name": "stderr",
     "output_type": "stream",
     "text": [
      "\n"
     ]
    },
    {
     "name": "stdout",
     "output_type": "stream",
     "text": [
      "Train -  [0.47337962962962965, 0.2978395061728395, 0.7165536646471575, 0.47337962962962965, tensor(1.2503)]\n",
      "Validation -  [0.4382716049382716, 0.2510288065843621, 0.687257285792308, 0.4382716049382716, tensor(1.2784)]\n",
      "\n",
      "Epoch  645\n"
     ]
    },
    {
     "name": "stderr",
     "output_type": "stream",
     "text": [
      "81it [00:02, 40.48it/s]"
     ]
    },
    {
     "name": "stdout",
     "output_type": "stream",
     "text": [
      "['acc', 'kappa', 'auc', 'fmeasure', 'loss']\n",
      "Training Loss  1.250442760962027\n"
     ]
    },
    {
     "name": "stderr",
     "output_type": "stream",
     "text": [
      "\n"
     ]
    },
    {
     "name": "stdout",
     "output_type": "stream",
     "text": [
      "Train -  [0.4737654320987654, 0.2983539094650206, 0.716536994170096, 0.4737654320987654, tensor(1.2503)]\n",
      "Validation -  [0.4375, 0.25, 0.6872245402123661, 0.4375, tensor(1.2784)]\n",
      "\n",
      "Epoch  646\n"
     ]
    },
    {
     "name": "stderr",
     "output_type": "stream",
     "text": [
      "81it [00:02, 38.77it/s]"
     ]
    },
    {
     "name": "stdout",
     "output_type": "stream",
     "text": [
      "['acc', 'kappa', 'auc', 'fmeasure', 'loss']\n",
      "Training Loss  1.250406543413798\n"
     ]
    },
    {
     "name": "stderr",
     "output_type": "stream",
     "text": [
      "\n"
     ]
    },
    {
     "name": "stdout",
     "output_type": "stream",
     "text": [
      "Train -  [0.47337962962962965, 0.2978395061728395, 0.7165364980249453, 0.47337962962962965, tensor(1.2503)]\n",
      "Validation -  [0.4386574074074074, 0.2515432098765432, 0.6872456759957831, 0.4386574074074074, tensor(1.2783)]\n",
      "\n",
      "Epoch  647\n"
     ]
    },
    {
     "name": "stderr",
     "output_type": "stream",
     "text": [
      "81it [00:02, 40.00it/s]"
     ]
    },
    {
     "name": "stdout",
     "output_type": "stream",
     "text": [
      "['acc', 'kappa', 'auc', 'fmeasure', 'loss']\n",
      "Training Loss  1.2503734665152468\n"
     ]
    },
    {
     "name": "stderr",
     "output_type": "stream",
     "text": [
      "\n"
     ]
    },
    {
     "name": "stdout",
     "output_type": "stream",
     "text": [
      "Train -  [0.4737654320987654, 0.2983539094650206, 0.7165473139892293, 0.4737654320987654, tensor(1.2503)]\n",
      "Validation -  [0.4382716049382716, 0.2510288065843621, 0.6872441875603312, 0.4382716049382716, tensor(1.2784)]\n",
      "\n",
      "Epoch  648\n"
     ]
    },
    {
     "name": "stderr",
     "output_type": "stream",
     "text": [
      "81it [00:01, 43.82it/s]"
     ]
    },
    {
     "name": "stdout",
     "output_type": "stream",
     "text": [
      "['acc', 'kappa', 'auc', 'fmeasure', 'loss']\n",
      "Training Loss  1.2504350417925987\n"
     ]
    },
    {
     "name": "stderr",
     "output_type": "stream",
     "text": [
      "\n"
     ]
    },
    {
     "name": "stdout",
     "output_type": "stream",
     "text": [
      "Train -  [0.4737654320987654, 0.2983539094650206, 0.7165397725829395, 0.4737654320987654, tensor(1.2503)]\n",
      "Validation -  [0.4382716049382716, 0.2510288065843621, 0.6872162049738353, 0.4382716049382716, tensor(1.2784)]\n",
      "\n",
      "Epoch  649\n"
     ]
    },
    {
     "name": "stderr",
     "output_type": "stream",
     "text": [
      "81it [00:02, 39.20it/s]"
     ]
    },
    {
     "name": "stdout",
     "output_type": "stream",
     "text": [
      "['acc', 'kappa', 'auc', 'fmeasure', 'loss']\n",
      "Training Loss  1.250456957169521\n"
     ]
    },
    {
     "name": "stderr",
     "output_type": "stream",
     "text": [
      "\n"
     ]
    },
    {
     "name": "stdout",
     "output_type": "stream",
     "text": [
      "Train -  [0.47415123456790126, 0.2988683127572016, 0.7165613052824772, 0.47415123456790126, tensor(1.2503)]\n",
      "Validation -  [0.4363425925925926, 0.24845679012345678, 0.6872547058375248, 0.4363425925925926, tensor(1.2784)]\n",
      "\n",
      "Epoch  650\n"
     ]
    },
    {
     "name": "stderr",
     "output_type": "stream",
     "text": [
      "81it [00:02, 39.02it/s]"
     ]
    },
    {
     "name": "stdout",
     "output_type": "stream",
     "text": [
      "['acc', 'kappa', 'auc', 'fmeasure', 'loss']\n",
      "Training Loss  1.2504312918509966\n"
     ]
    },
    {
     "name": "stderr",
     "output_type": "stream",
     "text": [
      "\n"
     ]
    },
    {
     "name": "stdout",
     "output_type": "stream",
     "text": [
      "Train -  [0.4737654320987654, 0.2983539094650206, 0.7165038516740334, 0.4737654320987654, tensor(1.2503)]\n",
      "Validation -  [0.4378858024691358, 0.2505144032921811, 0.687184054768074, 0.4378858024691358, tensor(1.2784)]\n",
      "\n",
      "Epoch  651\n"
     ]
    },
    {
     "name": "stderr",
     "output_type": "stream",
     "text": [
      "81it [00:02, 40.21it/s]"
     ]
    },
    {
     "name": "stdout",
     "output_type": "stream",
     "text": [
      "['acc', 'kappa', 'auc', 'fmeasure', 'loss']\n",
      "Training Loss  1.2504116120161834\n"
     ]
    },
    {
     "name": "stderr",
     "output_type": "stream",
     "text": [
      "\n"
     ]
    },
    {
     "name": "stdout",
     "output_type": "stream",
     "text": [
      "Train -  [0.47415123456790126, 0.2988683127572016, 0.7165758919499059, 0.47415123456790126, tensor(1.2503)]\n",
      "Validation -  [0.4371141975308642, 0.2494855967078189, 0.6872797115531168, 0.4371141975308642, tensor(1.2784)]\n",
      "\n",
      "Epoch  652\n"
     ]
    },
    {
     "name": "stderr",
     "output_type": "stream",
     "text": [
      "81it [00:02, 39.54it/s]"
     ]
    },
    {
     "name": "stdout",
     "output_type": "stream",
     "text": [
      "['acc', 'kappa', 'auc', 'fmeasure', 'loss']\n",
      "Training Loss  1.2503737343682184\n"
     ]
    },
    {
     "name": "stderr",
     "output_type": "stream",
     "text": [
      "\n"
     ]
    },
    {
     "name": "stdout",
     "output_type": "stream",
     "text": [
      "Train -  [0.47337962962962965, 0.2978395061728395, 0.7165679536274958, 0.47337962962962965, tensor(1.2503)]\n",
      "Validation -  [0.4382716049382716, 0.2510288065843621, 0.6872830853401413, 0.4382716049382716, tensor(1.2783)]\n",
      "\n",
      "Epoch  653\n"
     ]
    },
    {
     "name": "stderr",
     "output_type": "stream",
     "text": [
      "81it [00:01, 41.37it/s]"
     ]
    },
    {
     "name": "stdout",
     "output_type": "stream",
     "text": [
      "['acc', 'kappa', 'auc', 'fmeasure', 'loss']\n",
      "Training Loss  1.2503867325959381\n"
     ]
    },
    {
     "name": "stderr",
     "output_type": "stream",
     "text": [
      "\n"
     ]
    },
    {
     "name": "stdout",
     "output_type": "stream",
     "text": [
      "Train -  [0.47337962962962965, 0.2978395061728395, 0.7165371926281563, 0.47337962962962965, tensor(1.2503)]\n",
      "Validation -  [0.4382716049382716, 0.2510288065843621, 0.6872273186252096, 0.4382716049382716, tensor(1.2784)]\n",
      "\n",
      "Epoch  654\n"
     ]
    },
    {
     "name": "stderr",
     "output_type": "stream",
     "text": [
      "81it [00:02, 39.45it/s]"
     ]
    },
    {
     "name": "stdout",
     "output_type": "stream",
     "text": [
      "['acc', 'kappa', 'auc', 'fmeasure', 'loss']\n",
      "Training Loss  1.250422489495925\n"
     ]
    },
    {
     "name": "stderr",
     "output_type": "stream",
     "text": [
      "\n"
     ]
    },
    {
     "name": "stdout",
     "output_type": "stream",
     "text": [
      "Train -  [0.47337962962962965, 0.2978395061728395, 0.7165608091373267, 0.47337962962962965, tensor(1.2503)]\n",
      "Validation -  [0.4382716049382716, 0.2510288065843621, 0.6872612549535132, 0.4382716049382716, tensor(1.2783)]\n",
      "\n",
      "Epoch  655\n"
     ]
    },
    {
     "name": "stderr",
     "output_type": "stream",
     "text": [
      "81it [00:02, 38.87it/s]"
     ]
    },
    {
     "name": "stdout",
     "output_type": "stream",
     "text": [
      "['acc', 'kappa', 'auc', 'fmeasure', 'loss']\n",
      "Training Loss  1.2504115958272675\n"
     ]
    },
    {
     "name": "stderr",
     "output_type": "stream",
     "text": [
      "\n"
     ]
    },
    {
     "name": "stdout",
     "output_type": "stream",
     "text": [
      "Train -  [0.47337962962962965, 0.2978395061728395, 0.7165494970278921, 0.47337962962962965, tensor(1.2503)]\n",
      "Validation -  [0.4382716049382716, 0.2510288065843621, 0.6872205710511607, 0.4382716049382716, tensor(1.2784)]\n",
      "\n",
      "Epoch  656\n"
     ]
    },
    {
     "name": "stderr",
     "output_type": "stream",
     "text": [
      "81it [00:02, 39.49it/s]"
     ]
    },
    {
     "name": "stdout",
     "output_type": "stream",
     "text": [
      "['acc', 'kappa', 'auc', 'fmeasure', 'loss']\n",
      "Training Loss  1.2504012805444222\n"
     ]
    },
    {
     "name": "stderr",
     "output_type": "stream",
     "text": [
      "\n"
     ]
    },
    {
     "name": "stdout",
     "output_type": "stream",
     "text": [
      "Train -  [0.47337962962962965, 0.2978395061728395, 0.716518339112432, 0.47337962962962965, tensor(1.2503)]\n",
      "Validation -  [0.4378858024691358, 0.2505144032921811, 0.6871971530000509, 0.4378858024691358, tensor(1.2784)]\n",
      "\n",
      "Epoch  657\n"
     ]
    },
    {
     "name": "stderr",
     "output_type": "stream",
     "text": [
      "81it [00:02, 38.78it/s]"
     ]
    },
    {
     "name": "stdout",
     "output_type": "stream",
     "text": [
      "['acc', 'kappa', 'auc', 'fmeasure', 'loss']\n",
      "Training Loss  1.2503780156006048\n"
     ]
    },
    {
     "name": "stderr",
     "output_type": "stream",
     "text": [
      "\n"
     ]
    },
    {
     "name": "stdout",
     "output_type": "stream",
     "text": [
      "Train -  [0.47415123456790126, 0.2988683127572016, 0.7165520769826754, 0.47415123456790126, tensor(1.2503)]\n",
      "Validation -  [0.4375, 0.25, 0.6872697886501041, 0.4375, tensor(1.2783)]\n",
      "\n",
      "Epoch  658\n"
     ]
    },
    {
     "name": "stderr",
     "output_type": "stream",
     "text": [
      "81it [00:01, 43.10it/s]"
     ]
    },
    {
     "name": "stdout",
     "output_type": "stream",
     "text": [
      "['acc', 'kappa', 'auc', 'fmeasure', 'loss']\n",
      "Training Loss  1.2503928137414249\n"
     ]
    },
    {
     "name": "stderr",
     "output_type": "stream",
     "text": [
      "\n"
     ]
    },
    {
     "name": "stdout",
     "output_type": "stream",
     "text": [
      "Train -  [0.47337962962962965, 0.2978395061728395, 0.7165542600213382, 0.47337962962962965, tensor(1.2503)]\n",
      "Validation -  [0.4382716049382716, 0.2510288065843621, 0.6872499428440788, 0.4382716049382716, tensor(1.2784)]\n",
      "\n",
      "Epoch  659\n"
     ]
    },
    {
     "name": "stderr",
     "output_type": "stream",
     "text": [
      "81it [00:02, 39.08it/s]"
     ]
    },
    {
     "name": "stdout",
     "output_type": "stream",
     "text": [
      "['acc', 'kappa', 'auc', 'fmeasure', 'loss']\n",
      "Training Loss  1.2503768132056718\n"
     ]
    },
    {
     "name": "stderr",
     "output_type": "stream",
     "text": [
      "\n"
     ]
    },
    {
     "name": "stdout",
     "output_type": "stream",
     "text": [
      "Train -  [0.47337962962962965, 0.2978395061728395, 0.7165391772087588, 0.47337962962962965, tensor(1.2503)]\n",
      "Validation -  [0.4382716049382716, 0.2510288065843621, 0.6872295016638723, 0.4382716049382716, tensor(1.2784)]\n",
      "\n",
      "Epoch  660\n"
     ]
    },
    {
     "name": "stderr",
     "output_type": "stream",
     "text": [
      "81it [00:01, 40.69it/s]"
     ]
    },
    {
     "name": "stdout",
     "output_type": "stream",
     "text": [
      "['acc', 'kappa', 'auc', 'fmeasure', 'loss']\n",
      "Training Loss  1.250378922179893\n"
     ]
    },
    {
     "name": "stderr",
     "output_type": "stream",
     "text": [
      "\n"
     ]
    },
    {
     "name": "stdout",
     "output_type": "stream",
     "text": [
      "Train -  [0.4729938271604938, 0.2973251028806584, 0.7165496954859523, 0.4729938271604938, tensor(1.2503)]\n",
      "Validation -  [0.4382716049382716, 0.2510288065843621, 0.6872461721409339, 0.4382716049382716, tensor(1.2784)]\n",
      "\n",
      "Epoch  661\n"
     ]
    },
    {
     "name": "stderr",
     "output_type": "stream",
     "text": [
      "81it [00:02, 39.47it/s]"
     ]
    },
    {
     "name": "stdout",
     "output_type": "stream",
     "text": [
      "['acc', 'kappa', 'auc', 'fmeasure', 'loss']\n",
      "Training Loss  1.2503982267262024\n"
     ]
    },
    {
     "name": "stderr",
     "output_type": "stream",
     "text": [
      "\n"
     ]
    },
    {
     "name": "stdout",
     "output_type": "stream",
     "text": [
      "Train -  [0.4729938271604938, 0.2973251028806584, 0.716567358253315, 0.4729938271604938, tensor(1.2503)]\n",
      "Validation -  [0.4378858024691358, 0.2505144032921811, 0.687279910011177, 0.4378858024691358, tensor(1.2783)]\n",
      "\n",
      "Epoch  662\n"
     ]
    },
    {
     "name": "stderr",
     "output_type": "stream",
     "text": [
      "81it [00:02, 40.29it/s]"
     ]
    },
    {
     "name": "stdout",
     "output_type": "stream",
     "text": [
      "['acc', 'kappa', 'auc', 'fmeasure', 'loss']\n",
      "Training Loss  1.2504190191810514\n"
     ]
    },
    {
     "name": "stderr",
     "output_type": "stream",
     "text": [
      "\n"
     ]
    },
    {
     "name": "stdout",
     "output_type": "stream",
     "text": [
      "Train -  [0.4729938271604938, 0.2973251028806584, 0.7165800595691714, 0.4729938271604938, tensor(1.2503)]\n",
      "Validation -  [0.4382716049382716, 0.2510288065843621, 0.687288344478738, 0.4382716049382716, tensor(1.2783)]\n",
      "\n",
      "Epoch  663\n"
     ]
    },
    {
     "name": "stderr",
     "output_type": "stream",
     "text": [
      "81it [00:02, 39.00it/s]"
     ]
    },
    {
     "name": "stdout",
     "output_type": "stream",
     "text": [
      "['acc', 'kappa', 'auc', 'fmeasure', 'loss']\n",
      "Training Loss  1.250369899066878\n"
     ]
    },
    {
     "name": "stderr",
     "output_type": "stream",
     "text": [
      "\n"
     ]
    },
    {
     "name": "stdout",
     "output_type": "stream",
     "text": [
      "Train -  [0.47260802469135804, 0.2968106995884774, 0.7165645798404714, 0.47260802469135804, tensor(1.2503)]\n",
      "Validation -  [0.4382716049382716, 0.2510288065843621, 0.6872748493306406, 0.4382716049382716, tensor(1.2783)]\n",
      "\n",
      "Epoch  664\n"
     ]
    },
    {
     "name": "stderr",
     "output_type": "stream",
     "text": [
      "81it [00:01, 44.33it/s]"
     ]
    },
    {
     "name": "stdout",
     "output_type": "stream",
     "text": [
      "['acc', 'kappa', 'auc', 'fmeasure', 'loss']\n",
      "Training Loss  1.250369965294261\n"
     ]
    },
    {
     "name": "stderr",
     "output_type": "stream",
     "text": [
      "\n"
     ]
    },
    {
     "name": "stdout",
     "output_type": "stream",
     "text": [
      "Train -  [0.4737654320987654, 0.2983539094650206, 0.7165153622415281, 0.4737654320987654, tensor(1.2503)]\n",
      "Validation -  [0.4378858024691358, 0.2505144032921811, 0.6872005267870751, 0.4378858024691358, tensor(1.2784)]\n",
      "\n",
      "Epoch  665\n"
     ]
    },
    {
     "name": "stderr",
     "output_type": "stream",
     "text": [
      "81it [00:01, 41.10it/s]"
     ]
    },
    {
     "name": "stdout",
     "output_type": "stream",
     "text": [
      "['acc', 'kappa', 'auc', 'fmeasure', 'loss']\n",
      "Training Loss  1.2503848164169877\n"
     ]
    },
    {
     "name": "stderr",
     "output_type": "stream",
     "text": [
      "\n"
     ]
    },
    {
     "name": "stdout",
     "output_type": "stream",
     "text": [
      "Train -  [0.47337962962962965, 0.2978395061728395, 0.7165336203830717, 0.47337962962962965, tensor(1.2503)]\n",
      "Validation -  [0.4382716049382716, 0.2510288065843621, 0.6872259294187878, 0.4382716049382716, tensor(1.2784)]\n",
      "\n",
      "Epoch  666\n"
     ]
    },
    {
     "name": "stderr",
     "output_type": "stream",
     "text": [
      "81it [00:02, 38.25it/s]"
     ]
    },
    {
     "name": "stdout",
     "output_type": "stream",
     "text": [
      "['acc', 'kappa', 'auc', 'fmeasure', 'loss']\n",
      "Training Loss  1.2503984886922954\n"
     ]
    },
    {
     "name": "stderr",
     "output_type": "stream",
     "text": [
      "\n"
     ]
    },
    {
     "name": "stdout",
     "output_type": "stream",
     "text": [
      "Train -  [0.4729938271604938, 0.2973251028806584, 0.7165695412919778, 0.4729938271604938, tensor(1.2503)]\n",
      "Validation -  [0.4382716049382716, 0.2510288065843621, 0.6872691932759234, 0.4382716049382716, tensor(1.2783)]\n",
      "\n",
      "Epoch  667\n"
     ]
    },
    {
     "name": "stderr",
     "output_type": "stream",
     "text": [
      "81it [00:02, 39.57it/s]"
     ]
    },
    {
     "name": "stdout",
     "output_type": "stream",
     "text": [
      "['acc', 'kappa', 'auc', 'fmeasure', 'loss']\n",
      "Training Loss  1.2503799391381534\n"
     ]
    },
    {
     "name": "stderr",
     "output_type": "stream",
     "text": [
      "\n"
     ]
    },
    {
     "name": "stdout",
     "output_type": "stream",
     "text": [
      "Train -  [0.4737654320987654, 0.2983539094650206, 0.7165723197048213, 0.4737654320987654, tensor(1.2503)]\n",
      "Validation -  [0.4375, 0.25, 0.6872761393080323, 0.4375, tensor(1.2784)]\n",
      "\n",
      "Epoch  668\n"
     ]
    },
    {
     "name": "stderr",
     "output_type": "stream",
     "text": [
      "81it [00:01, 42.41it/s]"
     ]
    },
    {
     "name": "stdout",
     "output_type": "stream",
     "text": [
      "['acc', 'kappa', 'auc', 'fmeasure', 'loss']\n",
      "Training Loss  1.250390507556774\n"
     ]
    },
    {
     "name": "stderr",
     "output_type": "stream",
     "text": [
      "\n"
     ]
    },
    {
     "name": "stdout",
     "output_type": "stream",
     "text": [
      "Train -  [0.47415123456790126, 0.2988683127572016, 0.7165577330373927, 0.47415123456790126, tensor(1.2503)]\n",
      "Validation -  [0.4375, 0.25, 0.6872668117792003, 0.4375, tensor(1.2784)]\n",
      "\n",
      "Epoch  669\n"
     ]
    },
    {
     "name": "stderr",
     "output_type": "stream",
     "text": [
      "81it [00:01, 41.50it/s]\n"
     ]
    },
    {
     "name": "stdout",
     "output_type": "stream",
     "text": [
      "['acc', 'kappa', 'auc', 'fmeasure', 'loss']\n",
      "Training Loss  1.2503650173728849\n",
      "Train -  [0.47337962962962965, 0.2978395061728395, 0.7165505885472234, 0.47337962962962965, tensor(1.2503)]\n",
      "Validation -  [0.4382716049382716, 0.2510288065843621, 0.6872477598054159, 0.4382716049382716, tensor(1.2784)]\n",
      "\n",
      "Epoch  670\n"
     ]
    },
    {
     "name": "stderr",
     "output_type": "stream",
     "text": [
      "81it [00:01, 42.80it/s]"
     ]
    },
    {
     "name": "stdout",
     "output_type": "stream",
     "text": [
      "['acc', 'kappa', 'auc', 'fmeasure', 'loss']\n",
      "Training Loss  1.250378398247707\n"
     ]
    },
    {
     "name": "stderr",
     "output_type": "stream",
     "text": [
      "\n"
     ]
    },
    {
     "name": "stdout",
     "output_type": "stream",
     "text": [
      "Train -  [0.4729938271604938, 0.2973251028806584, 0.716552672356856, 0.4729938271604938, tensor(1.2503)]\n",
      "Validation -  [0.4382716049382716, 0.2510288065843621, 0.6872598657470915, 0.4382716049382716, tensor(1.2783)]\n",
      "\n",
      "Epoch  671\n"
     ]
    },
    {
     "name": "stderr",
     "output_type": "stream",
     "text": [
      "81it [00:01, 41.57it/s]"
     ]
    },
    {
     "name": "stdout",
     "output_type": "stream",
     "text": [
      "['acc', 'kappa', 'auc', 'fmeasure', 'loss']\n",
      "Training Loss  1.2503739875039936\n"
     ]
    },
    {
     "name": "stderr",
     "output_type": "stream",
     "text": [
      "\n"
     ]
    },
    {
     "name": "stdout",
     "output_type": "stream",
     "text": [
      "Train -  [0.47337962962962965, 0.2978395061728395, 0.7165663659630138, 0.47337962962962965, tensor(1.2503)]\n",
      "Validation -  [0.4382716049382716, 0.2510288065843621, 0.6872759408499721, 0.4382716049382716, tensor(1.2783)]\n",
      "\n",
      "Epoch  672\n"
     ]
    },
    {
     "name": "stderr",
     "output_type": "stream",
     "text": [
      "81it [00:01, 42.51it/s]"
     ]
    },
    {
     "name": "stdout",
     "output_type": "stream",
     "text": [
      "['acc', 'kappa', 'auc', 'fmeasure', 'loss']\n",
      "Training Loss  1.2503545490311987\n"
     ]
    },
    {
     "name": "stderr",
     "output_type": "stream",
     "text": [
      "\n"
     ]
    },
    {
     "name": "stdout",
     "output_type": "stream",
     "text": [
      "Train -  [0.4729938271604938, 0.2973251028806584, 0.7165826395239547, 0.4729938271604938, tensor(1.2503)]\n",
      "Validation -  [0.4382716049382716, 0.2510288065843621, 0.6872854668368642, 0.4382716049382716, tensor(1.2783)]\n",
      "\n",
      "Epoch  673\n"
     ]
    },
    {
     "name": "stderr",
     "output_type": "stream",
     "text": [
      "81it [00:01, 40.51it/s]"
     ]
    },
    {
     "name": "stdout",
     "output_type": "stream",
     "text": [
      "['acc', 'kappa', 'auc', 'fmeasure', 'loss']\n",
      "Training Loss  1.2503860394159954\n"
     ]
    },
    {
     "name": "stderr",
     "output_type": "stream",
     "text": [
      "\n"
     ]
    },
    {
     "name": "stdout",
     "output_type": "stream",
     "text": [
      "Train -  [0.47337962962962965, 0.2978395061728395, 0.7165667628791343, 0.47337962962962965, tensor(1.2503)]\n",
      "Validation -  [0.4375, 0.25, 0.6872799100111772, 0.4375, tensor(1.2783)]\n",
      "\n",
      "Epoch  674\n"
     ]
    },
    {
     "name": "stderr",
     "output_type": "stream",
     "text": [
      "81it [00:02, 39.51it/s]"
     ]
    },
    {
     "name": "stdout",
     "output_type": "stream",
     "text": [
      "['acc', 'kappa', 'auc', 'fmeasure', 'loss']\n",
      "Training Loss  1.250422845652074\n"
     ]
    },
    {
     "name": "stderr",
     "output_type": "stream",
     "text": [
      "\n"
     ]
    },
    {
     "name": "stdout",
     "output_type": "stream",
     "text": [
      "Train -  [0.47337962962962965, 0.2978395061728395, 0.7165788688208099, 0.47337962962962965, tensor(1.2503)]\n",
      "Validation -  [0.4382716049382716, 0.2510288065843621, 0.687289237540009, 0.4382716049382716, tensor(1.2783)]\n",
      "\n",
      "Epoch  675\n"
     ]
    },
    {
     "name": "stderr",
     "output_type": "stream",
     "text": [
      "81it [00:02, 39.96it/s]"
     ]
    },
    {
     "name": "stdout",
     "output_type": "stream",
     "text": [
      "['acc', 'kappa', 'auc', 'fmeasure', 'loss']\n",
      "Training Loss  1.2503887547387018\n"
     ]
    },
    {
     "name": "stderr",
     "output_type": "stream",
     "text": [
      "\n"
     ]
    },
    {
     "name": "stdout",
     "output_type": "stream",
     "text": [
      "Train -  [0.47337962962962965, 0.2978395061728395, 0.7165356049636743, 0.47337962962962965, tensor(1.2503)]\n",
      "Validation -  [0.4382716049382716, 0.2510288065843621, 0.6872241432962455, 0.4382716049382716, tensor(1.2784)]\n",
      "\n",
      "Epoch  676\n"
     ]
    },
    {
     "name": "stderr",
     "output_type": "stream",
     "text": [
      "81it [00:01, 44.09it/s]"
     ]
    },
    {
     "name": "stdout",
     "output_type": "stream",
     "text": [
      "['acc', 'kappa', 'auc', 'fmeasure', 'loss']\n",
      "Training Loss  1.2504089128823928\n"
     ]
    },
    {
     "name": "stderr",
     "output_type": "stream",
     "text": [
      "\n"
     ]
    },
    {
     "name": "stdout",
     "output_type": "stream",
     "text": [
      "Train -  [0.4737654320987654, 0.2983539094650206, 0.7165756934918458, 0.4737654320987654, tensor(1.2503)]\n",
      "Validation -  [0.4382716049382716, 0.2510288065843621, 0.6872858637529848, 0.4382716049382716, tensor(1.2783)]\n",
      "\n",
      "Epoch  677\n"
     ]
    },
    {
     "name": "stderr",
     "output_type": "stream",
     "text": [
      "81it [00:02, 39.14it/s]"
     ]
    },
    {
     "name": "stdout",
     "output_type": "stream",
     "text": [
      "['acc', 'kappa', 'auc', 'fmeasure', 'loss']\n",
      "Training Loss  1.250353420222247\n"
     ]
    },
    {
     "name": "stderr",
     "output_type": "stream",
     "text": [
      "\n"
     ]
    },
    {
     "name": "stdout",
     "output_type": "stream",
     "text": [
      "Train -  [0.4729938271604938, 0.2973251028806584, 0.7165911732205456, 0.4729938271604938, tensor(1.2503)]\n",
      "Validation -  [0.4382716049382716, 0.2510288065843621, 0.6872934051592746, 0.4382716049382716, tensor(1.2783)]\n",
      "\n",
      "Epoch  678\n"
     ]
    },
    {
     "name": "stderr",
     "output_type": "stream",
     "text": [
      "81it [00:01, 44.42it/s]"
     ]
    },
    {
     "name": "stdout",
     "output_type": "stream",
     "text": [
      "['acc', 'kappa', 'auc', 'fmeasure', 'loss']\n",
      "Training Loss  1.2503622505399916\n"
     ]
    },
    {
     "name": "stderr",
     "output_type": "stream",
     "text": [
      "\n"
     ]
    },
    {
     "name": "stdout",
     "output_type": "stream",
     "text": [
      "Train -  [0.47337962962962965, 0.2978395061728395, 0.7165457263247472, 0.47337962962962965, tensor(1.2503)]\n",
      "Validation -  [0.4382716049382716, 0.2510288065843621, 0.687244782934512, 0.4382716049382716, tensor(1.2784)]\n",
      "\n",
      "Epoch  679\n"
     ]
    },
    {
     "name": "stderr",
     "output_type": "stream",
     "text": [
      "81it [00:01, 42.38it/s]"
     ]
    },
    {
     "name": "stdout",
     "output_type": "stream",
     "text": [
      "['acc', 'kappa', 'auc', 'fmeasure', 'loss']\n",
      "Training Loss  1.2503623594472437\n"
     ]
    },
    {
     "name": "stderr",
     "output_type": "stream",
     "text": [
      "\n"
     ]
    },
    {
     "name": "stdout",
     "output_type": "stream",
     "text": [
      "Train -  [0.47337962962962965, 0.2978395061728395, 0.7165409633313011, 0.47337962962962965, tensor(1.2503)]\n",
      "Validation -  [0.4378858024691358, 0.2505144032921811, 0.6872349592605294, 0.4378858024691358, tensor(1.2784)]\n",
      "\n",
      "Epoch  680\n"
     ]
    },
    {
     "name": "stderr",
     "output_type": "stream",
     "text": [
      "81it [00:02, 39.79it/s]"
     ]
    },
    {
     "name": "stdout",
     "output_type": "stream",
     "text": [
      "['acc', 'kappa', 'auc', 'fmeasure', 'loss']\n",
      "Training Loss  1.250364965862698\n"
     ]
    },
    {
     "name": "stderr",
     "output_type": "stream",
     "text": [
      "\n"
     ]
    },
    {
     "name": "stdout",
     "output_type": "stream",
     "text": [
      "Train -  [0.4729938271604938, 0.2973251028806584, 0.7166072483234264, 0.4729938271604938, tensor(1.2503)]\n",
      "Validation -  [0.4382716049382716, 0.2510288065843621, 0.6873009465655642, 0.4382716049382716, tensor(1.2783)]\n",
      "\n",
      "Epoch  681\n"
     ]
    },
    {
     "name": "stderr",
     "output_type": "stream",
     "text": [
      "81it [00:01, 40.92it/s]"
     ]
    },
    {
     "name": "stdout",
     "output_type": "stream",
     "text": [
      "['acc', 'kappa', 'auc', 'fmeasure', 'loss']\n",
      "Training Loss  1.2504085066877766\n"
     ]
    },
    {
     "name": "stderr",
     "output_type": "stream",
     "text": [
      "\n"
     ]
    },
    {
     "name": "stdout",
     "output_type": "stream",
     "text": [
      "Train -  [0.4722222222222222, 0.2962962962962963, 0.7165647782985317, 0.4722222222222222, tensor(1.2503)]\n",
      "Validation -  [0.4386574074074074, 0.2515432098765432, 0.6872965804882386, 0.4386574074074074, tensor(1.2783)]\n",
      "\n",
      "Epoch  682\n"
     ]
    },
    {
     "name": "stderr",
     "output_type": "stream",
     "text": [
      "81it [00:01, 40.70it/s]"
     ]
    },
    {
     "name": "stdout",
     "output_type": "stream",
     "text": [
      "['acc', 'kappa', 'auc', 'fmeasure', 'loss']\n",
      "Training Loss  1.250402984795747\n"
     ]
    },
    {
     "name": "stderr",
     "output_type": "stream",
     "text": [
      "\n"
     ]
    },
    {
     "name": "stdout",
     "output_type": "stream",
     "text": [
      "Train -  [0.47337962962962965, 0.2978395061728395, 0.7165524738987958, 0.47337962962962965, tensor(1.2503)]\n",
      "Validation -  [0.4378858024691358, 0.2505144032921811, 0.687249347469898, 0.4378858024691358, tensor(1.2783)]\n",
      "\n",
      "Epoch  683\n"
     ]
    },
    {
     "name": "stderr",
     "output_type": "stream",
     "text": [
      "81it [00:02, 37.83it/s]"
     ]
    },
    {
     "name": "stdout",
     "output_type": "stream",
     "text": [
      "['acc', 'kappa', 'auc', 'fmeasure', 'loss']\n",
      "Training Loss  1.2503631114959717\n"
     ]
    },
    {
     "name": "stderr",
     "output_type": "stream",
     "text": [
      "\n"
     ]
    },
    {
     "name": "stdout",
     "output_type": "stream",
     "text": [
      "Train -  [0.4729938271604938, 0.2973251028806584, 0.7166018899557994, 0.4729938271604938, tensor(1.2503)]\n",
      "Validation -  [0.4382716049382716, 0.2510288065843621, 0.6873025342300463, 0.4382716049382716, tensor(1.2783)]\n",
      "\n",
      "Epoch  684\n"
     ]
    },
    {
     "name": "stderr",
     "output_type": "stream",
     "text": [
      "81it [00:01, 41.19it/s]"
     ]
    },
    {
     "name": "stdout",
     "output_type": "stream",
     "text": [
      "['acc', 'kappa', 'auc', 'fmeasure', 'loss']\n",
      "Training Loss  1.2503464310257524\n"
     ]
    },
    {
     "name": "stderr",
     "output_type": "stream",
     "text": [
      "\n"
     ]
    },
    {
     "name": "stdout",
     "output_type": "stream",
     "text": [
      "Train -  [0.47337962962962965, 0.2978395061728395, 0.7165677551694355, 0.47337962962962965, tensor(1.2503)]\n",
      "Validation -  [0.4378858024691358, 0.2505144032921811, 0.68726661332114, 0.4378858024691358, tensor(1.2783)]\n",
      "\n",
      "Epoch  685\n"
     ]
    },
    {
     "name": "stderr",
     "output_type": "stream",
     "text": [
      "81it [00:02, 39.26it/s]\n"
     ]
    },
    {
     "name": "stdout",
     "output_type": "stream",
     "text": [
      "['acc', 'kappa', 'auc', 'fmeasure', 'loss']\n",
      "Training Loss  1.2503617030602914\n",
      "Train -  [0.4729938271604938, 0.2973251028806584, 0.7165720220177311, 0.4729938271604938, tensor(1.2503)]\n",
      "Validation -  [0.4382716049382716, 0.2510288065843621, 0.6872818945917798, 0.4382716049382716, tensor(1.2783)]\n",
      "\n",
      "Epoch  686\n"
     ]
    },
    {
     "name": "stderr",
     "output_type": "stream",
     "text": [
      "81it [00:02, 40.31it/s]"
     ]
    },
    {
     "name": "stdout",
     "output_type": "stream",
     "text": [
      "['acc', 'kappa', 'auc', 'fmeasure', 'loss']\n",
      "Training Loss  1.2503447930018108\n"
     ]
    },
    {
     "name": "stderr",
     "output_type": "stream",
     "text": [
      "\n"
     ]
    },
    {
     "name": "stdout",
     "output_type": "stream",
     "text": [
      "Train -  [0.4729938271604938, 0.2973251028806584, 0.7165915701366661, 0.4729938271604938, tensor(1.2503)]\n",
      "Validation -  [0.4382716049382716, 0.2510288065843621, 0.6872868560432861, 0.4382716049382716, tensor(1.2783)]\n",
      "\n",
      "Epoch  687\n"
     ]
    },
    {
     "name": "stderr",
     "output_type": "stream",
     "text": [
      "81it [00:02, 40.13it/s]"
     ]
    },
    {
     "name": "stdout",
     "output_type": "stream",
     "text": [
      "['acc', 'kappa', 'auc', 'fmeasure', 'loss']\n",
      "Training Loss  1.2503683375723569\n"
     ]
    },
    {
     "name": "stderr",
     "output_type": "stream",
     "text": [
      "\n"
     ]
    },
    {
     "name": "stdout",
     "output_type": "stream",
     "text": [
      "Train -  [0.4737654320987654, 0.2983539094650206, 0.7165739073693034, 0.4737654320987654, tensor(1.2503)]\n",
      "Validation -  [0.4375, 0.25, 0.6872810015305086, 0.4375, tensor(1.2783)]\n",
      "\n",
      "Epoch  688\n"
     ]
    },
    {
     "name": "stderr",
     "output_type": "stream",
     "text": [
      "81it [00:01, 41.63it/s]"
     ]
    },
    {
     "name": "stdout",
     "output_type": "stream",
     "text": [
      "['acc', 'kappa', 'auc', 'fmeasure', 'loss']\n",
      "Training Loss  1.2503481264467593\n"
     ]
    },
    {
     "name": "stderr",
     "output_type": "stream",
     "text": [
      "\n"
     ]
    },
    {
     "name": "stdout",
     "output_type": "stream",
     "text": [
      "Train -  [0.47260802469135804, 0.2968106995884774, 0.7165860133109792, 0.47260802469135804, tensor(1.2503)]\n",
      "Validation -  [0.4382716049382716, 0.2510288065843621, 0.6872854668368643, 0.4382716049382716, tensor(1.2783)]\n",
      "\n",
      "Epoch  689\n"
     ]
    },
    {
     "name": "stderr",
     "output_type": "stream",
     "text": [
      "81it [00:01, 41.16it/s]"
     ]
    },
    {
     "name": "stdout",
     "output_type": "stream",
     "text": [
      "['acc', 'kappa', 'auc', 'fmeasure', 'loss']\n",
      "Training Loss  1.250381961280917\n"
     ]
    },
    {
     "name": "stderr",
     "output_type": "stream",
     "text": [
      "\n"
     ]
    },
    {
     "name": "stdout",
     "output_type": "stream",
     "text": [
      "Train -  [0.4737654320987654, 0.2983539094650206, 0.7165432455989941, 0.4737654320987654, tensor(1.2503)]\n",
      "Validation -  [0.4375, 0.25, 0.6872361500088909, 0.4375, tensor(1.2784)]\n",
      "\n",
      "Epoch  690\n"
     ]
    },
    {
     "name": "stderr",
     "output_type": "stream",
     "text": [
      "81it [00:02, 38.30it/s]"
     ]
    },
    {
     "name": "stdout",
     "output_type": "stream",
     "text": [
      "['acc', 'kappa', 'auc', 'fmeasure', 'loss']\n",
      "Training Loss  1.250379079653893\n"
     ]
    },
    {
     "name": "stderr",
     "output_type": "stream",
     "text": [
      "\n"
     ]
    },
    {
     "name": "stdout",
     "output_type": "stream",
     "text": [
      "Train -  [0.47337962962962965, 0.2978395061728395, 0.7165725181628817, 0.47337962962962965, tensor(1.2503)]\n",
      "Validation -  [0.4382716049382716, 0.2510288065843621, 0.6872580796245491, 0.4382716049382716, tensor(1.2783)]\n",
      "\n",
      "Epoch  691\n"
     ]
    },
    {
     "name": "stderr",
     "output_type": "stream",
     "text": [
      "81it [00:01, 42.82it/s]"
     ]
    },
    {
     "name": "stdout",
     "output_type": "stream",
     "text": [
      "['acc', 'kappa', 'auc', 'fmeasure', 'loss']\n",
      "Training Loss  1.2503571642769709\n"
     ]
    },
    {
     "name": "stderr",
     "output_type": "stream",
     "text": [
      "\n"
     ]
    },
    {
     "name": "stdout",
     "output_type": "stream",
     "text": [
      "Train -  [0.4737654320987654, 0.2983539094650206, 0.7165701366661585, 0.4737654320987654, tensor(1.2503)]\n",
      "Validation -  [0.4375, 0.25, 0.687286856043286, 0.4375, tensor(1.2783)]\n",
      "\n",
      "Epoch  692\n"
     ]
    },
    {
     "name": "stderr",
     "output_type": "stream",
     "text": [
      "81it [00:02, 39.45it/s]"
     ]
    },
    {
     "name": "stdout",
     "output_type": "stream",
     "text": [
      "['acc', 'kappa', 'auc', 'fmeasure', 'loss']\n",
      "Training Loss  1.2503362349521967\n"
     ]
    },
    {
     "name": "stderr",
     "output_type": "stream",
     "text": [
      "\n"
     ]
    },
    {
     "name": "stdout",
     "output_type": "stream",
     "text": [
      "Train -  [0.47415123456790126, 0.2988683127572016, 0.7165840287303765, 0.47415123456790126, tensor(1.2503)]\n",
      "Validation -  [0.4375, 0.25, 0.6872856652949245, 0.4375, tensor(1.2783)]\n",
      "\n",
      "Epoch  693\n"
     ]
    },
    {
     "name": "stderr",
     "output_type": "stream",
     "text": [
      "81it [00:02, 39.86it/s]"
     ]
    },
    {
     "name": "stdout",
     "output_type": "stream",
     "text": [
      "['acc', 'kappa', 'auc', 'fmeasure', 'loss']\n",
      "Training Loss  1.2503523237911272\n"
     ]
    },
    {
     "name": "stderr",
     "output_type": "stream",
     "text": [
      "\n"
     ]
    },
    {
     "name": "stdout",
     "output_type": "stream",
     "text": [
      "Train -  [0.47337962962962965, 0.2978395061728395, 0.7165754950337854, 0.47337962962962965, tensor(1.2503)]\n",
      "Validation -  [0.4382716049382716, 0.2510288065843621, 0.6872721701468272, 0.4382716049382716, tensor(1.2783)]\n",
      "\n",
      "Epoch  694\n"
     ]
    },
    {
     "name": "stderr",
     "output_type": "stream",
     "text": [
      "81it [00:01, 40.63it/s]"
     ]
    },
    {
     "name": "stdout",
     "output_type": "stream",
     "text": [
      "['acc', 'kappa', 'auc', 'fmeasure', 'loss']\n",
      "Training Loss  1.250330078749009\n"
     ]
    },
    {
     "name": "stderr",
     "output_type": "stream",
     "text": [
      "\n"
     ]
    },
    {
     "name": "stdout",
     "output_type": "stream",
     "text": [
      "Train -  [0.4729938271604938, 0.2973251028806584, 0.7165758919499059, 0.4729938271604938, tensor(1.2503)]\n",
      "Validation -  [0.4382716049382716, 0.2510288065843621, 0.6872680025275619, 0.4382716049382716, tensor(1.2783)]\n",
      "\n",
      "Epoch  695\n"
     ]
    },
    {
     "name": "stderr",
     "output_type": "stream",
     "text": [
      "81it [00:01, 43.66it/s]"
     ]
    },
    {
     "name": "stdout",
     "output_type": "stream",
     "text": [
      "['acc', 'kappa', 'auc', 'fmeasure', 'loss']\n",
      "Training Loss  1.2503403557671442\n"
     ]
    },
    {
     "name": "stderr",
     "output_type": "stream",
     "text": [
      "\n"
     ]
    },
    {
     "name": "stdout",
     "output_type": "stream",
     "text": [
      "Train -  [0.47337962962962965, 0.2978395061728395, 0.7165608091373266, 0.47337962962962965, tensor(1.2503)]\n",
      "Validation -  [0.4382716049382716, 0.2510288065843621, 0.6872541104633441, 0.4382716049382716, tensor(1.2784)]\n",
      "\n",
      "Epoch  696\n"
     ]
    },
    {
     "name": "stderr",
     "output_type": "stream",
     "text": [
      "81it [00:02, 39.16it/s]"
     ]
    },
    {
     "name": "stdout",
     "output_type": "stream",
     "text": [
      "['acc', 'kappa', 'auc', 'fmeasure', 'loss']\n",
      "Training Loss  1.2504084875554213\n"
     ]
    },
    {
     "name": "stderr",
     "output_type": "stream",
     "text": [
      "\n"
     ]
    },
    {
     "name": "stdout",
     "output_type": "stream",
     "text": [
      "Train -  [0.47337962962962965, 0.2978395061728395, 0.7165820441497739, 0.47337962962962965, tensor(1.2503)]\n",
      "Validation -  [0.4382716049382716, 0.2510288065843621, 0.6872870545013463, 0.4382716049382716, tensor(1.2783)]\n",
      "\n",
      "Epoch  697\n"
     ]
    },
    {
     "name": "stderr",
     "output_type": "stream",
     "text": [
      "81it [00:02, 40.47it/s]"
     ]
    },
    {
     "name": "stdout",
     "output_type": "stream",
     "text": [
      "['acc', 'kappa', 'auc', 'fmeasure', 'loss']\n",
      "Training Loss  1.2503555792349357\n"
     ]
    },
    {
     "name": "stderr",
     "output_type": "stream",
     "text": [
      "\n"
     ]
    },
    {
     "name": "stdout",
     "output_type": "stream",
     "text": [
      "Train -  [0.47337962962962965, 0.2978395061728395, 0.7165661675049535, 0.47337962962962965, tensor(1.2503)]\n",
      "Validation -  [0.4382716049382716, 0.2510288065843621, 0.6872620487857543, 0.4382716049382716, tensor(1.2783)]\n",
      "\n",
      "Epoch  698\n"
     ]
    },
    {
     "name": "stderr",
     "output_type": "stream",
     "text": [
      "81it [00:02, 39.27it/s]"
     ]
    },
    {
     "name": "stdout",
     "output_type": "stream",
     "text": [
      "['acc', 'kappa', 'auc', 'fmeasure', 'loss']\n",
      "Training Loss  1.2503591540419026\n"
     ]
    },
    {
     "name": "stderr",
     "output_type": "stream",
     "text": [
      "\n"
     ]
    },
    {
     "name": "stdout",
     "output_type": "stream",
     "text": [
      "Train -  [0.47337962962962965, 0.2978395061728395, 0.7165947454656303, 0.47337962962962965, tensor(1.2503)]\n",
      "Validation -  [0.4378858024691358, 0.2505144032921811, 0.6872989619849615, 0.4378858024691358, tensor(1.2783)]\n",
      "\n",
      "Epoch  699\n"
     ]
    },
    {
     "name": "stderr",
     "output_type": "stream",
     "text": [
      "81it [00:02, 40.02it/s]"
     ]
    },
    {
     "name": "stdout",
     "output_type": "stream",
     "text": [
      "['acc', 'kappa', 'auc', 'fmeasure', 'loss']\n",
      "Training Loss  1.250361645663226\n"
     ]
    },
    {
     "name": "stderr",
     "output_type": "stream",
     "text": [
      "\n"
     ]
    },
    {
     "name": "stdout",
     "output_type": "stream",
     "text": [
      "Train -  [0.4737654320987654, 0.2983539094650206, 0.7166054622008841, 0.4737654320987654, tensor(1.2503)]\n",
      "Validation -  [0.4378858024691358, 0.2505144032921811, 0.6873196016232281, 0.4378858024691358, tensor(1.2783)]\n",
      "\n",
      "Epoch  700\n"
     ]
    },
    {
     "name": "stderr",
     "output_type": "stream",
     "text": [
      "81it [00:02, 38.15it/s]"
     ]
    },
    {
     "name": "stdout",
     "output_type": "stream",
     "text": [
      "['acc', 'kappa', 'auc', 'fmeasure', 'loss']\n",
      "Training Loss  1.2503481176164415\n"
     ]
    },
    {
     "name": "stderr",
     "output_type": "stream",
     "text": [
      "\n"
     ]
    },
    {
     "name": "stdout",
     "output_type": "stream",
     "text": [
      "Train -  [0.47337962962962965, 0.2978395061728395, 0.7165764873240867, 0.47337962962962965, tensor(1.2503)]\n",
      "Validation -  [0.4382716049382716, 0.2510288065843621, 0.6872624457018747, 0.4382716049382716, tensor(1.2783)]\n",
      "\n",
      "Epoch  701\n"
     ]
    },
    {
     "name": "stderr",
     "output_type": "stream",
     "text": [
      "81it [00:01, 42.20it/s]"
     ]
    },
    {
     "name": "stdout",
     "output_type": "stream",
     "text": [
      "['acc', 'kappa', 'auc', 'fmeasure', 'loss']\n",
      "Training Loss  1.2503674663143394\n"
     ]
    },
    {
     "name": "stderr",
     "output_type": "stream",
     "text": [
      "\n"
     ]
    },
    {
     "name": "stdout",
     "output_type": "stream",
     "text": [
      "Train -  [0.4737654320987654, 0.2983539094650206, 0.7165483062795305, 0.4737654320987654, tensor(1.2503)]\n",
      "Validation -  [0.4375, 0.25, 0.687230791641264, 0.4375, tensor(1.2784)]\n",
      "\n",
      "Epoch  702\n"
     ]
    },
    {
     "name": "stderr",
     "output_type": "stream",
     "text": [
      "81it [00:01, 41.36it/s]"
     ]
    },
    {
     "name": "stdout",
     "output_type": "stream",
     "text": [
      "['acc', 'kappa', 'auc', 'fmeasure', 'loss']\n",
      "Training Loss  1.2503969198391762\n"
     ]
    },
    {
     "name": "stderr",
     "output_type": "stream",
     "text": [
      "\n"
     ]
    },
    {
     "name": "stdout",
     "output_type": "stream",
     "text": [
      "Train -  [0.47337962962962965, 0.2978395061728395, 0.7165875017464309, 0.47337962962962965, tensor(1.2503)]\n",
      "Validation -  [0.4382716049382716, 0.2510288065843621, 0.6872922144109129, 0.4382716049382716, tensor(1.2783)]\n",
      "\n",
      "Epoch  703\n"
     ]
    },
    {
     "name": "stderr",
     "output_type": "stream",
     "text": [
      "81it [00:01, 42.42it/s]"
     ]
    },
    {
     "name": "stdout",
     "output_type": "stream",
     "text": [
      "['acc', 'kappa', 'auc', 'fmeasure', 'loss']\n",
      "Training Loss  1.250377122266793\n"
     ]
    },
    {
     "name": "stderr",
     "output_type": "stream",
     "text": [
      "\n"
     ]
    },
    {
     "name": "stdout",
     "output_type": "stream",
     "text": [
      "Train -  [0.4729938271604938, 0.2973251028806584, 0.7165848225626175, 0.4729938271604938, tensor(1.2503)]\n",
      "Validation -  [0.4382716049382716, 0.2510288065843621, 0.6872745516435502, 0.4382716049382716, tensor(1.2783)]\n",
      "\n",
      "Epoch  704\n"
     ]
    },
    {
     "name": "stderr",
     "output_type": "stream",
     "text": [
      "81it [00:01, 41.93it/s]"
     ]
    },
    {
     "name": "stdout",
     "output_type": "stream",
     "text": [
      "['acc', 'kappa', 'auc', 'fmeasure', 'loss']\n",
      "Training Loss  1.2503454714645574\n"
     ]
    },
    {
     "name": "stderr",
     "output_type": "stream",
     "text": [
      "\n"
     ]
    },
    {
     "name": "stdout",
     "output_type": "stream",
     "text": [
      "Train -  [0.47337962962962965, 0.2978395061728395, 0.7165792657369303, 0.47337962962962965, tensor(1.2503)]\n",
      "Validation -  [0.4378858024691358, 0.2505144032921811, 0.6872721701468272, 0.4378858024691358, tensor(1.2783)]\n",
      "\n",
      "Epoch  705\n"
     ]
    },
    {
     "name": "stderr",
     "output_type": "stream",
     "text": [
      "81it [00:01, 40.92it/s]"
     ]
    },
    {
     "name": "stdout",
     "output_type": "stream",
     "text": [
      "['acc', 'kappa', 'auc', 'fmeasure', 'loss']\n",
      "Training Loss  1.2503721743454168\n"
     ]
    },
    {
     "name": "stderr",
     "output_type": "stream",
     "text": [
      "\n"
     ]
    },
    {
     "name": "stdout",
     "output_type": "stream",
     "text": [
      "Train -  [0.4737654320987654, 0.2983539094650206, 0.7165981192526546, 0.4737654320987654, tensor(1.2503)]\n",
      "Validation -  [0.4375, 0.25, 0.6873009465655642, 0.4375, tensor(1.2783)]\n",
      "\n",
      "Epoch  706\n"
     ]
    },
    {
     "name": "stderr",
     "output_type": "stream",
     "text": [
      "81it [00:02, 39.23it/s]"
     ]
    },
    {
     "name": "stdout",
     "output_type": "stream",
     "text": [
      "['acc', 'kappa', 'auc', 'fmeasure', 'loss']\n",
      "Training Loss  1.2503782289999503\n"
     ]
    },
    {
     "name": "stderr",
     "output_type": "stream",
     "text": [
      "\n"
     ]
    },
    {
     "name": "stdout",
     "output_type": "stream",
     "text": [
      "Train -  [0.47337962962962965, 0.2978395061728395, 0.7165794641949906, 0.47337962962962965, tensor(1.2503)]\n",
      "Validation -  [0.4375, 0.25, 0.6872928097850938, 0.4375, tensor(1.2783)]\n",
      "\n",
      "Epoch  707\n"
     ]
    },
    {
     "name": "stderr",
     "output_type": "stream",
     "text": [
      "81it [00:01, 40.55it/s]"
     ]
    },
    {
     "name": "stdout",
     "output_type": "stream",
     "text": [
      "['acc', 'kappa', 'auc', 'fmeasure', 'loss']\n",
      "Training Loss  1.2503302597705228\n"
     ]
    },
    {
     "name": "stderr",
     "output_type": "stream",
     "text": [
      "\n"
     ]
    },
    {
     "name": "stdout",
     "output_type": "stream",
     "text": [
      "Train -  [0.47260802469135804, 0.2968106995884774, 0.7166116144007519, 0.47260802469135804, tensor(1.2503)]\n",
      "Validation -  [0.4382716049382716, 0.2510288065843621, 0.6873176170426256, 0.4382716049382716, tensor(1.2783)]\n",
      "\n",
      "Epoch  708\n"
     ]
    },
    {
     "name": "stderr",
     "output_type": "stream",
     "text": [
      "81it [00:01, 40.68it/s]"
     ]
    },
    {
     "name": "stdout",
     "output_type": "stream",
     "text": [
      "['acc', 'kappa', 'auc', 'fmeasure', 'loss']\n",
      "Training Loss  1.2503363144250563\n"
     ]
    },
    {
     "name": "stderr",
     "output_type": "stream",
     "text": [
      "\n"
     ]
    },
    {
     "name": "stdout",
     "output_type": "stream",
     "text": [
      "Train -  [0.4737654320987654, 0.2983539094650206, 0.7165677551694356, 0.4737654320987654, tensor(1.2503)]\n",
      "Validation -  [0.4378858024691358, 0.2505144032921811, 0.6872600642051516, 0.4378858024691358, tensor(1.2784)]\n",
      "\n",
      "Epoch  709\n"
     ]
    },
    {
     "name": "stderr",
     "output_type": "stream",
     "text": [
      "81it [00:02, 38.40it/s]"
     ]
    },
    {
     "name": "stdout",
     "output_type": "stream",
     "text": [
      "['acc', 'kappa', 'auc', 'fmeasure', 'loss']\n",
      "Training Loss  1.250333587328593\n"
     ]
    },
    {
     "name": "stderr",
     "output_type": "stream",
     "text": [
      "\n"
     ]
    },
    {
     "name": "stdout",
     "output_type": "stream",
     "text": [
      "Train -  [0.47337962962962965, 0.2978395061728395, 0.7166018899557995, 0.47337962962962965, tensor(1.2503)]\n",
      "Validation -  [0.4382716049382716, 0.2510288065843621, 0.6873043203525886, 0.4382716049382716, tensor(1.2783)]\n",
      "\n",
      "Epoch  710\n"
     ]
    },
    {
     "name": "stderr",
     "output_type": "stream",
     "text": [
      "81it [00:02, 40.00it/s]"
     ]
    },
    {
     "name": "stdout",
     "output_type": "stream",
     "text": [
      "['acc', 'kappa', 'auc', 'fmeasure', 'loss']\n",
      "Training Loss  1.250335638905749\n"
     ]
    },
    {
     "name": "stderr",
     "output_type": "stream",
     "text": [
      "\n"
     ]
    },
    {
     "name": "stdout",
     "output_type": "stream",
     "text": [
      "Train -  [0.47337962962962965, 0.2978395061728395, 0.7165817464626834, 0.47337962962962965, tensor(1.2503)]\n",
      "Validation -  [0.4382716049382716, 0.2510288065843621, 0.6872783223466952, 0.4382716049382716, tensor(1.2783)]\n",
      "\n",
      "Epoch  711\n"
     ]
    },
    {
     "name": "stderr",
     "output_type": "stream",
     "text": [
      "81it [00:01, 40.74it/s]"
     ]
    },
    {
     "name": "stdout",
     "output_type": "stream",
     "text": [
      "['acc', 'kappa', 'auc', 'fmeasure', 'loss']\n",
      "Training Loss  1.2503319640218475\n"
     ]
    },
    {
     "name": "stderr",
     "output_type": "stream",
     "text": [
      "\n"
     ]
    },
    {
     "name": "stdout",
     "output_type": "stream",
     "text": [
      "Train -  [0.47415123456790126, 0.2988683127572016, 0.716595340839811, 0.47415123456790126, tensor(1.2503)]\n",
      "Validation -  [0.4375, 0.25, 0.6873033280622873, 0.4375, tensor(1.2783)]\n",
      "\n",
      "Epoch  712\n"
     ]
    },
    {
     "name": "stderr",
     "output_type": "stream",
     "text": [
      "81it [00:01, 41.17it/s]"
     ]
    },
    {
     "name": "stdout",
     "output_type": "stream",
     "text": [
      "['acc', 'kappa', 'auc', 'fmeasure', 'loss']\n",
      "Training Loss  1.2503324379155665\n"
     ]
    },
    {
     "name": "stderr",
     "output_type": "stream",
     "text": [
      "\n"
     ]
    },
    {
     "name": "stdout",
     "output_type": "stream",
     "text": [
      "Train -  [0.4737654320987654, 0.2983539094650206, 0.7165671597952548, 0.4737654320987654, tensor(1.2503)]\n",
      "Validation -  [0.4375, 0.25, 0.6872672086953208, 0.4375, tensor(1.2783)]\n",
      "\n",
      "Epoch  713\n"
     ]
    },
    {
     "name": "stderr",
     "output_type": "stream",
     "text": [
      "81it [00:02, 40.19it/s]"
     ]
    },
    {
     "name": "stdout",
     "output_type": "stream",
     "text": [
      "['acc', 'kappa', 'auc', 'fmeasure', 'loss']\n",
      "Training Loss  1.2503575910756617\n"
     ]
    },
    {
     "name": "stderr",
     "output_type": "stream",
     "text": [
      "\n"
     ]
    },
    {
     "name": "stdout",
     "output_type": "stream",
     "text": [
      "Train -  [0.47337962962962965, 0.2978395061728395, 0.7165747012015445, 0.47337962962962965, tensor(1.2503)]\n",
      "Validation -  [0.4382716049382716, 0.2510288065843621, 0.687261850327694, 0.4382716049382716, tensor(1.2784)]\n",
      "\n",
      "Epoch  714\n"
     ]
    },
    {
     "name": "stderr",
     "output_type": "stream",
     "text": [
      "81it [00:02, 40.33it/s]"
     ]
    },
    {
     "name": "stdout",
     "output_type": "stream",
     "text": [
      "['acc', 'kappa', 'auc', 'fmeasure', 'loss']\n",
      "Training Loss  1.2503835095299616\n"
     ]
    },
    {
     "name": "stderr",
     "output_type": "stream",
     "text": [
      "\n"
     ]
    },
    {
     "name": "stdout",
     "output_type": "stream",
     "text": [
      "Train -  [0.4729938271604938, 0.2973251028806584, 0.716603874536402, 0.4729938271604938, tensor(1.2503)]\n",
      "Validation -  [0.4382716049382716, 0.2510288065843621, 0.6873053126428899, 0.4382716049382716, tensor(1.2783)]\n",
      "\n",
      "Epoch  715\n"
     ]
    },
    {
     "name": "stderr",
     "output_type": "stream",
     "text": [
      "81it [00:02, 40.45it/s]"
     ]
    },
    {
     "name": "stdout",
     "output_type": "stream",
     "text": [
      "['acc', 'kappa', 'auc', 'fmeasure', 'loss']\n",
      "Training Loss  1.2503470962430223\n"
     ]
    },
    {
     "name": "stderr",
     "output_type": "stream",
     "text": [
      "\n"
     ]
    },
    {
     "name": "stdout",
     "output_type": "stream",
     "text": [
      "Train -  [0.4737654320987654, 0.2983539094650206, 0.7165891886399431, 0.4737654320987654, tensor(1.2503)]\n",
      "Validation -  [0.4367283950617284, 0.2489711934156379, 0.687296977404359, 0.4367283950617284, tensor(1.2783)]\n",
      "\n",
      "Epoch  716\n"
     ]
    },
    {
     "name": "stderr",
     "output_type": "stream",
     "text": [
      "81it [00:02, 39.72it/s]"
     ]
    },
    {
     "name": "stdout",
     "output_type": "stream",
     "text": [
      "['acc', 'kappa', 'auc', 'fmeasure', 'loss']\n",
      "Training Loss  1.250367960812133\n"
     ]
    },
    {
     "name": "stderr",
     "output_type": "stream",
     "text": [
      "\n"
     ]
    },
    {
     "name": "stdout",
     "output_type": "stream",
     "text": [
      "Train -  [0.47337962962962965, 0.2978395061728395, 0.7165776780724484, 0.47337962962962965, tensor(1.2503)]\n",
      "Validation -  [0.4382716049382716, 0.2510288065843621, 0.6872674071533811, 0.4382716049382716, tensor(1.2783)]\n",
      "\n",
      "Epoch  717\n"
     ]
    },
    {
     "name": "stderr",
     "output_type": "stream",
     "text": [
      "81it [00:02, 39.78it/s]"
     ]
    },
    {
     "name": "stdout",
     "output_type": "stream",
     "text": [
      "['acc', 'kappa', 'auc', 'fmeasure', 'loss']\n",
      "Training Loss  1.250336273216907\n"
     ]
    },
    {
     "name": "stderr",
     "output_type": "stream",
     "text": [
      "\n"
     ]
    },
    {
     "name": "stdout",
     "output_type": "stream",
     "text": [
      "Train -  [0.47415123456790126, 0.2988683127572016, 0.716606256033125, 0.47415123456790126, tensor(1.2503)]\n",
      "Validation -  [0.4378858024691358, 0.2505144032921811, 0.6873259522811564, 0.4378858024691358, tensor(1.2783)]\n",
      "\n",
      "Epoch  718\n"
     ]
    },
    {
     "name": "stderr",
     "output_type": "stream",
     "text": [
      "81it [00:02, 39.59it/s]\n"
     ]
    },
    {
     "name": "stdout",
     "output_type": "stream",
     "text": [
      "['acc', 'kappa', 'auc', 'fmeasure', 'loss']\n",
      "Training Loss  1.2503428253126734\n",
      "Train -  [0.47260802469135804, 0.2968106995884774, 0.7166360247421633, 0.47260802469135804, tensor(1.2503)]\n",
      "Validation -  [0.4382716049382716, 0.2510288065843621, 0.6873584994030382, 0.4382716049382716, tensor(1.2783)]\n",
      "\n",
      "Epoch  719\n"
     ]
    },
    {
     "name": "stderr",
     "output_type": "stream",
     "text": [
      "81it [00:01, 44.58it/s]"
     ]
    },
    {
     "name": "stdout",
     "output_type": "stream",
     "text": [
      "['acc', 'kappa', 'auc', 'fmeasure', 'loss']\n",
      "Training Loss  1.2503320140603147\n"
     ]
    },
    {
     "name": "stderr",
     "output_type": "stream",
     "text": [
      "\n"
     ]
    },
    {
     "name": "stdout",
     "output_type": "stream",
     "text": [
      "Train -  [0.4737654320987654, 0.2983539094650206, 0.7166128051491134, 0.4737654320987654, tensor(1.2503)]\n",
      "Validation -  [0.4382716049382716, 0.2510288065843621, 0.6873253569069756, 0.4382716049382716, tensor(1.2783)]\n",
      "\n",
      "Epoch  720\n"
     ]
    },
    {
     "name": "stderr",
     "output_type": "stream",
     "text": [
      "81it [00:02, 39.64it/s]"
     ]
    },
    {
     "name": "stdout",
     "output_type": "stream",
     "text": [
      "['acc', 'kappa', 'auc', 'fmeasure', 'loss']\n",
      "Training Loss  1.2503524562458934\n"
     ]
    },
    {
     "name": "stderr",
     "output_type": "stream",
     "text": [
      "\n"
     ]
    },
    {
     "name": "stdout",
     "output_type": "stream",
     "text": [
      "Train -  [0.4729938271604938, 0.2973251028806584, 0.7166346355357416, 0.4729938271604938, tensor(1.2503)]\n",
      "Validation -  [0.4382716049382716, 0.2510288065843621, 0.6873452027130011, 0.4382716049382716, tensor(1.2783)]\n",
      "\n",
      "Epoch  721\n"
     ]
    },
    {
     "name": "stderr",
     "output_type": "stream",
     "text": [
      "81it [00:01, 41.61it/s]"
     ]
    },
    {
     "name": "stdout",
     "output_type": "stream",
     "text": [
      "['acc', 'kappa', 'auc', 'fmeasure', 'loss']\n",
      "Training Loss  1.2503292604728982\n"
     ]
    },
    {
     "name": "stderr",
     "output_type": "stream",
     "text": [
      "\n"
     ]
    },
    {
     "name": "stdout",
     "output_type": "stream",
     "text": [
      "Train -  [0.47337962962962965, 0.2978395061728395, 0.7165653736727124, 0.47337962962962965, tensor(1.2503)]\n",
      "Validation -  [0.4375, 0.25, 0.68726651409211, 0.4375, tensor(1.2783)]\n",
      "\n",
      "Epoch  722\n"
     ]
    },
    {
     "name": "stderr",
     "output_type": "stream",
     "text": [
      "81it [00:01, 40.84it/s]"
     ]
    },
    {
     "name": "stdout",
     "output_type": "stream",
     "text": [
      "['acc', 'kappa', 'auc', 'fmeasure', 'loss']\n",
      "Training Loss  1.250306949203397\n"
     ]
    },
    {
     "name": "stderr",
     "output_type": "stream",
     "text": [
      "\n"
     ]
    },
    {
     "name": "stdout",
     "output_type": "stream",
     "text": [
      "Train -  [0.4737654320987654, 0.2983539094650206, 0.7166272925875121, 0.4737654320987654, tensor(1.2503)]\n",
      "Validation -  [0.4378858024691358, 0.2505144032921811, 0.6873370659325306, 0.4378858024691358, tensor(1.2783)]\n",
      "\n",
      "Epoch  723\n"
     ]
    },
    {
     "name": "stderr",
     "output_type": "stream",
     "text": [
      "81it [00:02, 38.97it/s]"
     ]
    },
    {
     "name": "stdout",
     "output_type": "stream",
     "text": [
      "['acc', 'kappa', 'auc', 'fmeasure', 'loss']\n",
      "Training Loss  1.2503394403575379\n"
     ]
    },
    {
     "name": "stderr",
     "output_type": "stream",
     "text": [
      "\n"
     ]
    },
    {
     "name": "stdout",
     "output_type": "stream",
     "text": [
      "Train -  [0.4737654320987654, 0.2983539094650206, 0.7165675567113754, 0.4737654320987654, tensor(1.2503)]\n",
      "Validation -  [0.4375, 0.25, 0.6872750477887009, 0.4375, tensor(1.2783)]\n",
      "\n",
      "Epoch  724\n"
     ]
    },
    {
     "name": "stderr",
     "output_type": "stream",
     "text": [
      "81it [00:01, 42.71it/s]"
     ]
    },
    {
     "name": "stdout",
     "output_type": "stream",
     "text": [
      "['acc', 'kappa', 'auc', 'fmeasure', 'loss']\n",
      "Training Loss  1.2503179326469516\n"
     ]
    },
    {
     "name": "stderr",
     "output_type": "stream",
     "text": [
      "\n"
     ]
    },
    {
     "name": "stdout",
     "output_type": "stream",
     "text": [
      "Train -  [0.4729938271604938, 0.2973251028806584, 0.7166195527231622, 0.4729938271604938, tensor(1.2503)]\n",
      "Validation -  [0.4382716049382716, 0.2510288065843621, 0.6873277384036987, 0.4382716049382716, tensor(1.2783)]\n",
      "\n",
      "Epoch  725\n"
     ]
    },
    {
     "name": "stderr",
     "output_type": "stream",
     "text": [
      "81it [00:01, 41.65it/s]\n"
     ]
    },
    {
     "name": "stdout",
     "output_type": "stream",
     "text": [
      "['acc', 'kappa', 'auc', 'fmeasure', 'loss']\n",
      "Training Loss  1.2503420305840762\n",
      "Train -  [0.47337962962962965, 0.2978395061728395, 0.7166102251943303, 0.47337962962962965, tensor(1.2503)]\n",
      "Validation -  [0.4382716049382716, 0.2510288065843621, 0.6873223800360717, 0.4382716049382716, tensor(1.2783)]\n",
      "\n",
      "Epoch  726\n"
     ]
    },
    {
     "name": "stderr",
     "output_type": "stream",
     "text": [
      "81it [00:01, 43.82it/s]"
     ]
    },
    {
     "name": "stdout",
     "output_type": "stream",
     "text": [
      "['acc', 'kappa', 'auc', 'fmeasure', 'loss']\n",
      "Training Loss  1.2503343025843303\n"
     ]
    },
    {
     "name": "stderr",
     "output_type": "stream",
     "text": [
      "\n"
     ]
    },
    {
     "name": "stdout",
     "output_type": "stream",
     "text": [
      "Train -  [0.47337962962962965, 0.2978395061728395, 0.7166024853299802, 0.47337962962962965, tensor(1.2503)]\n",
      "Validation -  [0.4382716049382716, 0.2510288065843621, 0.6872981681527206, 0.4382716049382716, tensor(1.2783)]\n",
      "\n",
      "Epoch  727\n"
     ]
    },
    {
     "name": "stderr",
     "output_type": "stream",
     "text": [
      "81it [00:01, 40.87it/s]"
     ]
    },
    {
     "name": "stdout",
     "output_type": "stream",
     "text": [
      "['acc', 'kappa', 'auc', 'fmeasure', 'loss']\n",
      "Training Loss  1.2503603284741625\n"
     ]
    },
    {
     "name": "stderr",
     "output_type": "stream",
     "text": [
      "\n"
     ]
    },
    {
     "name": "stdout",
     "output_type": "stream",
     "text": [
      "Train -  [0.47337962962962965, 0.2978395061728395, 0.7165951423817507, 0.47337962962962965, tensor(1.2503)]\n",
      "Validation -  [0.4382716049382716, 0.2510288065843621, 0.68730551110095, 0.4382716049382716, tensor(1.2783)]\n",
      "\n",
      "Epoch  728\n"
     ]
    },
    {
     "name": "stderr",
     "output_type": "stream",
     "text": [
      "81it [00:01, 41.07it/s]"
     ]
    },
    {
     "name": "stdout",
     "output_type": "stream",
     "text": [
      "['acc', 'kappa', 'auc', 'fmeasure', 'loss']\n",
      "Training Loss  1.2503184977872872\n"
     ]
    },
    {
     "name": "stderr",
     "output_type": "stream",
     "text": [
      "\n"
     ]
    },
    {
     "name": "stdout",
     "output_type": "stream",
     "text": [
      "Train -  [0.47337962962962965, 0.2978395061728395, 0.7166137974394147, 0.47337962962962965, tensor(1.2503)]\n",
      "Validation -  [0.4382716049382716, 0.2510288065843621, 0.6873213877457705, 0.4382716049382716, tensor(1.2783)]\n",
      "\n",
      "Epoch  729\n"
     ]
    },
    {
     "name": "stderr",
     "output_type": "stream",
     "text": [
      "81it [00:02, 39.51it/s]"
     ]
    },
    {
     "name": "stdout",
     "output_type": "stream",
     "text": [
      "['acc', 'kappa', 'auc', 'fmeasure', 'loss']\n",
      "Training Loss  1.2503245730458954\n"
     ]
    },
    {
     "name": "stderr",
     "output_type": "stream",
     "text": [
      "\n"
     ]
    },
    {
     "name": "stdout",
     "output_type": "stream",
     "text": [
      "Train -  [0.47337962962962965, 0.2978395061728395, 0.7166306663745363, 0.47337962962962965, tensor(1.2503)]\n",
      "Validation -  [0.4382716049382716, 0.2510288065843621, 0.6873574078837067, 0.4382716049382716, tensor(1.2783)]\n",
      "\n",
      "Epoch  730\n"
     ]
    },
    {
     "name": "stderr",
     "output_type": "stream",
     "text": [
      "81it [00:01, 42.67it/s]"
     ]
    },
    {
     "name": "stdout",
     "output_type": "stream",
     "text": [
      "['acc', 'kappa', 'auc', 'fmeasure', 'loss']\n",
      "Training Loss  1.25034961141186\n"
     ]
    },
    {
     "name": "stderr",
     "output_type": "stream",
     "text": [
      "\n"
     ]
    },
    {
     "name": "stdout",
     "output_type": "stream",
     "text": [
      "Train -  [0.47260802469135804, 0.2968106995884774, 0.7166376124066454, 0.47260802469135804, tensor(1.2503)]\n",
      "Validation -  [0.4382716049382716, 0.2510288065843621, 0.6873636593126047, 0.4382716049382716, tensor(1.2783)]\n",
      "\n",
      "Epoch  731\n"
     ]
    },
    {
     "name": "stderr",
     "output_type": "stream",
     "text": [
      "81it [00:02, 39.83it/s]"
     ]
    },
    {
     "name": "stdout",
     "output_type": "stream",
     "text": [
      "['acc', 'kappa', 'auc', 'fmeasure', 'loss']\n",
      "Training Loss  1.2502992153167725\n"
     ]
    },
    {
     "name": "stderr",
     "output_type": "stream",
     "text": [
      "\n"
     ]
    },
    {
     "name": "stdout",
     "output_type": "stream",
     "text": [
      "Train -  [0.4729938271604938, 0.2973251028806584, 0.716612408232993, 0.4729938271604938, tensor(1.2503)]\n",
      "Validation -  [0.4382716049382716, 0.2510288065843621, 0.687320196997409, 0.4382716049382716, tensor(1.2783)]\n",
      "\n",
      "Epoch  732\n"
     ]
    },
    {
     "name": "stderr",
     "output_type": "stream",
     "text": [
      "81it [00:01, 40.81it/s]"
     ]
    },
    {
     "name": "stdout",
     "output_type": "stream",
     "text": [
      "['acc', 'kappa', 'auc', 'fmeasure', 'loss']\n",
      "Training Loss  1.250326109521183\n"
     ]
    },
    {
     "name": "stderr",
     "output_type": "stream",
     "text": [
      "\n"
     ]
    },
    {
     "name": "stdout",
     "output_type": "stream",
     "text": [
      "Train -  [0.47337962962962965, 0.2978395061728395, 0.7166191558070415, 0.47337962962962965, tensor(1.2503)]\n",
      "Validation -  [0.4382716049382716, 0.2510288065843621, 0.687318013958746, 0.4382716049382716, tensor(1.2783)]\n",
      "\n",
      "Epoch  733\n"
     ]
    },
    {
     "name": "stderr",
     "output_type": "stream",
     "text": [
      "81it [00:01, 43.94it/s]"
     ]
    },
    {
     "name": "stdout",
     "output_type": "stream",
     "text": [
      "['acc', 'kappa', 'auc', 'fmeasure', 'loss']\n",
      "Training Loss  1.2503062368910989\n"
     ]
    },
    {
     "name": "stderr",
     "output_type": "stream",
     "text": [
      "\n"
     ]
    },
    {
     "name": "stdout",
     "output_type": "stream",
     "text": [
      "Train -  [0.47337962962962965, 0.2978395061728395, 0.7165971269623532, 0.47337962962962965, tensor(1.2503)]\n",
      "Validation -  [0.4378858024691358, 0.2505144032921811, 0.687302335771986, 0.4378858024691358, tensor(1.2783)]\n",
      "\n",
      "Epoch  734\n"
     ]
    },
    {
     "name": "stderr",
     "output_type": "stream",
     "text": [
      "81it [00:02, 39.61it/s]"
     ]
    },
    {
     "name": "stdout",
     "output_type": "stream",
     "text": [
      "['acc', 'kappa', 'auc', 'fmeasure', 'loss']\n",
      "Training Loss  1.2503039748580367\n"
     ]
    },
    {
     "name": "stderr",
     "output_type": "stream",
     "text": [
      "\n"
     ]
    },
    {
     "name": "stdout",
     "output_type": "stream",
     "text": [
      "Train -  [0.47337962962962965, 0.2978395061728395, 0.7165862117690394, 0.47337962962962965, tensor(1.2503)]\n",
      "Validation -  [0.4382716049382716, 0.2510288065843621, 0.687282886882081, 0.4382716049382716, tensor(1.2783)]\n",
      "\n",
      "Epoch  735\n"
     ]
    },
    {
     "name": "stderr",
     "output_type": "stream",
     "text": [
      "81it [00:01, 42.44it/s]"
     ]
    },
    {
     "name": "stdout",
     "output_type": "stream",
     "text": [
      "['acc', 'kappa', 'auc', 'fmeasure', 'loss']\n",
      "Training Loss  1.2503282420429183\n"
     ]
    },
    {
     "name": "stderr",
     "output_type": "stream",
     "text": [
      "\n"
     ]
    },
    {
     "name": "stdout",
     "output_type": "stream",
     "text": [
      "Train -  [0.47337962962962965, 0.2978395061728395, 0.7166029814751308, 0.47337962962962965, tensor(1.2503)]\n",
      "Validation -  [0.4382716049382716, 0.2510288065843621, 0.687301641168775, 0.4382716049382716, tensor(1.2783)]\n",
      "\n",
      "Epoch  736\n"
     ]
    },
    {
     "name": "stderr",
     "output_type": "stream",
     "text": [
      "81it [00:01, 41.50it/s]"
     ]
    },
    {
     "name": "stdout",
     "output_type": "stream",
     "text": [
      "['acc', 'kappa', 'auc', 'fmeasure', 'loss']\n",
      "Training Loss  1.2503362349521967\n"
     ]
    },
    {
     "name": "stderr",
     "output_type": "stream",
     "text": [
      "\n"
     ]
    },
    {
     "name": "stdout",
     "output_type": "stream",
     "text": [
      "Train -  [0.4729938271604938, 0.2973251028806584, 0.7166223311360058, 0.4729938271604938, tensor(1.2503)]\n",
      "Validation -  [0.4382716049382716, 0.2510288065843621, 0.6873201969974089, 0.4382716049382716, tensor(1.2783)]\n",
      "\n",
      "Epoch  737\n"
     ]
    },
    {
     "name": "stderr",
     "output_type": "stream",
     "text": [
      "81it [00:02, 39.90it/s]"
     ]
    },
    {
     "name": "stdout",
     "output_type": "stream",
     "text": [
      "['acc', 'kappa', 'auc', 'fmeasure', 'loss']\n",
      "Training Loss  1.2503293193416831\n"
     ]
    },
    {
     "name": "stderr",
     "output_type": "stream",
     "text": [
      "\n"
     ]
    },
    {
     "name": "stdout",
     "output_type": "stream",
     "text": [
      "Train -  [0.4737654320987654, 0.2983539094650206, 0.7166388031550068, 0.4737654320987654, tensor(1.2503)]\n",
      "Validation -  [0.4382716049382716, 0.2510288065843621, 0.6873448057968805, 0.4382716049382716, tensor(1.2783)]\n",
      "\n",
      "Epoch  738\n"
     ]
    },
    {
     "name": "stderr",
     "output_type": "stream",
     "text": [
      "81it [00:02, 40.42it/s]"
     ]
    },
    {
     "name": "stdout",
     "output_type": "stream",
     "text": [
      "['acc', 'kappa', 'auc', 'fmeasure', 'loss']\n",
      "Training Loss  1.2503116999143435\n"
     ]
    },
    {
     "name": "stderr",
     "output_type": "stream",
     "text": [
      "\n"
     ]
    },
    {
     "name": "stdout",
     "output_type": "stream",
     "text": [
      "Train -  [0.47415123456790126, 0.2988683127572016, 0.7166350324518621, 0.47415123456790126, tensor(1.2503)]\n",
      "Validation -  [0.4378858024691358, 0.2505144032921811, 0.6873525456612306, 0.4378858024691358, tensor(1.2783)]\n",
      "\n",
      "Epoch  739\n"
     ]
    },
    {
     "name": "stderr",
     "output_type": "stream",
     "text": [
      "81it [00:02, 39.59it/s]"
     ]
    },
    {
     "name": "stdout",
     "output_type": "stream",
     "text": [
      "['acc', 'kappa', 'auc', 'fmeasure', 'loss']\n",
      "Training Loss  1.2503417671462635\n"
     ]
    },
    {
     "name": "stderr",
     "output_type": "stream",
     "text": [
      "\n"
     ]
    },
    {
     "name": "stdout",
     "output_type": "stream",
     "text": [
      "Train -  [0.47337962962962965, 0.2978395061728395, 0.7166169727683789, 0.47337962962962965, tensor(1.2503)]\n",
      "Validation -  [0.4382716049382716, 0.2510288065843621, 0.6873078925976731, 0.4382716049382716, tensor(1.2783)]\n",
      "\n",
      "Epoch  740\n"
     ]
    },
    {
     "name": "stderr",
     "output_type": "stream",
     "text": [
      "81it [00:02, 38.83it/s]"
     ]
    },
    {
     "name": "stdout",
     "output_type": "stream",
     "text": [
      "['acc', 'kappa', 'auc', 'fmeasure', 'loss']\n",
      "Training Loss  1.250329272246655\n"
     ]
    },
    {
     "name": "stderr",
     "output_type": "stream",
     "text": [
      "\n"
     ]
    },
    {
     "name": "stdout",
     "output_type": "stream",
     "text": [
      "Train -  [0.47415123456790126, 0.2988683127572016, 0.7166423754000915, 0.47415123456790126, tensor(1.2503)]\n",
      "Validation -  [0.4382716049382716, 0.2510288065843621, 0.6873650485190266, 0.4382716049382716, tensor(1.2783)]\n",
      "\n",
      "Epoch  741\n"
     ]
    },
    {
     "name": "stderr",
     "output_type": "stream",
     "text": [
      "81it [00:02, 39.94it/s]"
     ]
    },
    {
     "name": "stdout",
     "output_type": "stream",
     "text": [
      "['acc', 'kappa', 'auc', 'fmeasure', 'loss']\n",
      "Training Loss  1.2503339964666484\n"
     ]
    },
    {
     "name": "stderr",
     "output_type": "stream",
     "text": [
      "\n"
     ]
    },
    {
     "name": "stdout",
     "output_type": "stream",
     "text": [
      "Train -  [0.4729938271604938, 0.2973251028806584, 0.7166340401615607, 0.4729938271604938, tensor(1.2503)]\n",
      "Validation -  [0.4386574074074074, 0.2515432098765432, 0.6873559194482548, 0.4386574074074074, tensor(1.2783)]\n",
      "\n",
      "Epoch  742\n"
     ]
    },
    {
     "name": "stderr",
     "output_type": "stream",
     "text": [
      "81it [00:01, 42.40it/s]"
     ]
    },
    {
     "name": "stdout",
     "output_type": "stream",
     "text": [
      "['acc', 'kappa', 'auc', 'fmeasure', 'loss']\n",
      "Training Loss  1.250339850967313\n"
     ]
    },
    {
     "name": "stderr",
     "output_type": "stream",
     "text": [
      "\n"
     ]
    },
    {
     "name": "stdout",
     "output_type": "stream",
     "text": [
      "Train -  [0.4729938271604938, 0.2973251028806584, 0.7166313609777474, 0.4729938271604938, tensor(1.2502)]\n",
      "Validation -  [0.4382716049382716, 0.2510288065843621, 0.6873581024869176, 0.4382716049382716, tensor(1.2783)]\n",
      "\n",
      "Epoch  743\n"
     ]
    },
    {
     "name": "stderr",
     "output_type": "stream",
     "text": [
      "81it [00:01, 40.65it/s]"
     ]
    },
    {
     "name": "stdout",
     "output_type": "stream",
     "text": [
      "['acc', 'kappa', 'auc', 'fmeasure', 'loss']\n",
      "Training Loss  1.2502950017834886\n"
     ]
    },
    {
     "name": "stderr",
     "output_type": "stream",
     "text": [
      "\n"
     ]
    },
    {
     "name": "stdout",
     "output_type": "stream",
     "text": [
      "Train -  [0.4737654320987654, 0.2983539094650206, 0.716646741477417, 0.4737654320987654, tensor(1.2502)]\n",
      "Validation -  [0.4378858024691358, 0.2505144032921811, 0.6873523472031703, 0.4378858024691358, tensor(1.2783)]\n",
      "\n",
      "Epoch  744\n"
     ]
    },
    {
     "name": "stderr",
     "output_type": "stream",
     "text": [
      "81it [00:02, 39.78it/s]"
     ]
    },
    {
     "name": "stdout",
     "output_type": "stream",
     "text": [
      "['acc', 'kappa', 'auc', 'fmeasure', 'loss']\n",
      "Training Loss  1.2503403969752935\n"
     ]
    },
    {
     "name": "stderr",
     "output_type": "stream",
     "text": [
      "\n"
     ]
    },
    {
     "name": "stdout",
     "output_type": "stream",
     "text": [
      "Train -  [0.47337962962962965, 0.2978395061728395, 0.7166030807041609, 0.47337962962962965, tensor(1.2502)]\n",
      "Validation -  [0.4382716049382716, 0.2510288065843621, 0.6873090833460347, 0.4382716049382716, tensor(1.2783)]\n",
      "\n",
      "Epoch  745\n"
     ]
    },
    {
     "name": "stderr",
     "output_type": "stream",
     "text": [
      "81it [00:02, 40.19it/s]"
     ]
    },
    {
     "name": "stdout",
     "output_type": "stream",
     "text": [
      "['acc', 'kappa', 'auc', 'fmeasure', 'loss']\n",
      "Training Loss  1.2503202182275277\n"
     ]
    },
    {
     "name": "stderr",
     "output_type": "stream",
     "text": [
      "\n"
     ]
    },
    {
     "name": "stdout",
     "output_type": "stream",
     "text": [
      "Train -  [0.4737654320987654, 0.2983539094650206, 0.716612408232993, 0.4737654320987654, tensor(1.2502)]\n",
      "Validation -  [0.4375, 0.25, 0.6873231738683128, 0.4375, tensor(1.2783)]\n",
      "\n",
      "Epoch  746\n"
     ]
    },
    {
     "name": "stderr",
     "output_type": "stream",
     "text": [
      "81it [00:02, 39.06it/s]"
     ]
    },
    {
     "name": "stdout",
     "output_type": "stream",
     "text": [
      "['acc', 'kappa', 'auc', 'fmeasure', 'loss']\n",
      "Training Loss  1.2502925072187259\n"
     ]
    },
    {
     "name": "stderr",
     "output_type": "stream",
     "text": [
      "\n"
     ]
    },
    {
     "name": "stdout",
     "output_type": "stream",
     "text": [
      "Train -  [0.47337962962962965, 0.2978395061728395, 0.7166259033810902, 0.47337962962962965, tensor(1.2502)]\n",
      "Validation -  [0.4382716049382716, 0.2510288065843621, 0.6873348828938677, 0.4382716049382716, tensor(1.2783)]\n",
      "\n",
      "Epoch  747\n"
     ]
    },
    {
     "name": "stderr",
     "output_type": "stream",
     "text": [
      "81it [00:01, 40.91it/s]"
     ]
    },
    {
     "name": "stdout",
     "output_type": "stream",
     "text": [
      "['acc', 'kappa', 'auc', 'fmeasure', 'loss']\n",
      "Training Loss  1.2502964013888511\n"
     ]
    },
    {
     "name": "stderr",
     "output_type": "stream",
     "text": [
      "\n"
     ]
    },
    {
     "name": "stdout",
     "output_type": "stream",
     "text": [
      "Train -  [0.4729938271604938, 0.2973251028806584, 0.7166225295940659, 0.4729938271604938, tensor(1.2502)]\n",
      "Validation -  [0.4382716049382716, 0.2510288065843621, 0.6873501641645073, 0.4382716049382716, tensor(1.2783)]\n",
      "\n",
      "Epoch  748\n"
     ]
    },
    {
     "name": "stderr",
     "output_type": "stream",
     "text": [
      "81it [00:02, 38.15it/s]"
     ]
    },
    {
     "name": "stdout",
     "output_type": "stream",
     "text": [
      "['acc', 'kappa', 'auc', 'fmeasure', 'loss']\n",
      "Training Loss  1.2503602460578636\n"
     ]
    },
    {
     "name": "stderr",
     "output_type": "stream",
     "text": [
      "\n"
     ]
    },
    {
     "name": "stdout",
     "output_type": "stream",
     "text": [
      "Train -  [0.4729938271604938, 0.2973251028806584, 0.7166079429266372, 0.4729938271604938, tensor(1.2502)]\n",
      "Validation -  [0.4382716049382716, 0.2510288065843621, 0.6873243646166742, 0.4382716049382716, tensor(1.2783)]\n",
      "\n",
      "Epoch  749\n"
     ]
    },
    {
     "name": "stderr",
     "output_type": "stream",
     "text": [
      "81it [00:01, 41.29it/s]"
     ]
    },
    {
     "name": "stdout",
     "output_type": "stream",
     "text": [
      "['acc', 'kappa', 'auc', 'fmeasure', 'loss']\n",
      "Training Loss  1.2503091170464034\n"
     ]
    },
    {
     "name": "stderr",
     "output_type": "stream",
     "text": [
      "\n"
     ]
    },
    {
     "name": "stdout",
     "output_type": "stream",
     "text": [
      "Train -  [0.47337962962962965, 0.2978395061728395, 0.7166315594358077, 0.47337962962962965, tensor(1.2502)]\n",
      "Validation -  [0.4382716049382716, 0.2510288065843621, 0.6873504618515979, 0.4382716049382716, tensor(1.2783)]\n",
      "\n",
      "Epoch  750\n"
     ]
    },
    {
     "name": "stderr",
     "output_type": "stream",
     "text": [
      "81it [00:02, 39.93it/s]"
     ]
    },
    {
     "name": "stdout",
     "output_type": "stream",
     "text": [
      "['acc', 'kappa', 'auc', 'fmeasure', 'loss']\n",
      "Training Loss  1.2503323584427068\n"
     ]
    },
    {
     "name": "stderr",
     "output_type": "stream",
     "text": [
      "\n"
     ]
    },
    {
     "name": "stdout",
     "output_type": "stream",
     "text": [
      "Train -  [0.4729938271604938, 0.2973251028806584, 0.7166492222031703, 0.4729938271604938, tensor(1.2502)]\n",
      "Validation -  [0.4382716049382716, 0.2510288065843621, 0.6873704068866535, 0.4382716049382716, tensor(1.2783)]\n",
      "\n",
      "Epoch  751\n"
     ]
    },
    {
     "name": "stderr",
     "output_type": "stream",
     "text": [
      "81it [00:01, 42.42it/s]"
     ]
    },
    {
     "name": "stdout",
     "output_type": "stream",
     "text": [
      "['acc', 'kappa', 'auc', 'fmeasure', 'loss']\n",
      "Training Loss  1.2503181725372503\n"
     ]
    },
    {
     "name": "stderr",
     "output_type": "stream",
     "text": [
      "\n"
     ]
    },
    {
     "name": "stdout",
     "output_type": "stream",
     "text": [
      "Train -  [0.47337962962962965, 0.2978395061728395, 0.7166114159426917, 0.47337962962962965, tensor(1.2502)]\n",
      "Validation -  [0.4382716049382716, 0.2510288065843621, 0.6873287306939999, 0.4382716049382716, tensor(1.2783)]\n",
      "\n",
      "Epoch  752\n"
     ]
    },
    {
     "name": "stderr",
     "output_type": "stream",
     "text": [
      "81it [00:01, 41.70it/s]"
     ]
    },
    {
     "name": "stdout",
     "output_type": "stream",
     "text": [
      "['acc', 'kappa', 'auc', 'fmeasure', 'loss']\n",
      "Training Loss  1.2503270087418732\n"
     ]
    },
    {
     "name": "stderr",
     "output_type": "stream",
     "text": [
      "\n"
     ]
    },
    {
     "name": "stdout",
     "output_type": "stream",
     "text": [
      "Train -  [0.47337962962962965, 0.2978395061728395, 0.7165955392978713, 0.47337962962962965, tensor(1.2502)]\n",
      "Validation -  [0.4378858024691358, 0.2505144032921811, 0.687309381033125, 0.4378858024691358, tensor(1.2783)]\n",
      "\n",
      "Epoch  753\n"
     ]
    },
    {
     "name": "stderr",
     "output_type": "stream",
     "text": [
      "81it [00:02, 39.39it/s]"
     ]
    },
    {
     "name": "stdout",
     "output_type": "stream",
     "text": [
      "['acc', 'kappa', 'auc', 'fmeasure', 'loss']\n",
      "Training Loss  1.2503061736071552\n"
     ]
    },
    {
     "name": "stderr",
     "output_type": "stream",
     "text": [
      "\n"
     ]
    },
    {
     "name": "stdout",
     "output_type": "stream",
     "text": [
      "Train -  [0.4737654320987654, 0.2983539094650206, 0.7166425738581517, 0.4737654320987654, tensor(1.2502)]\n",
      "Validation -  [0.4375, 0.25, 0.6873377605357415, 0.4375, tensor(1.2783)]\n",
      "\n",
      "Epoch  754\n"
     ]
    },
    {
     "name": "stderr",
     "output_type": "stream",
     "text": [
      "81it [00:01, 41.42it/s]"
     ]
    },
    {
     "name": "stdout",
     "output_type": "stream",
     "text": [
      "['acc', 'kappa', 'auc', 'fmeasure', 'loss']\n",
      "Training Loss  1.2503060882474168\n"
     ]
    },
    {
     "name": "stderr",
     "output_type": "stream",
     "text": [
      "\n"
     ]
    },
    {
     "name": "stdout",
     "output_type": "stream",
     "text": [
      "Train -  [0.4729938271604938, 0.2973251028806584, 0.7166026837880406, 0.4729938271604938, tensor(1.2502)]\n",
      "Validation -  [0.4382716049382716, 0.2510288065843621, 0.6873201969974089, 0.4382716049382716, tensor(1.2783)]\n",
      "\n",
      "Epoch  755\n"
     ]
    },
    {
     "name": "stderr",
     "output_type": "stream",
     "text": [
      "81it [00:01, 41.20it/s]"
     ]
    },
    {
     "name": "stdout",
     "output_type": "stream",
     "text": [
      "['acc', 'kappa', 'auc', 'fmeasure', 'loss']\n",
      "Training Loss  1.2503058851501088\n"
     ]
    },
    {
     "name": "stderr",
     "output_type": "stream",
     "text": [
      "\n"
     ]
    },
    {
     "name": "stdout",
     "output_type": "stream",
     "text": [
      "Train -  [0.4729938271604938, 0.2973251028806584, 0.7166356278260426, 0.4729938271604938, tensor(1.2502)]\n",
      "Validation -  [0.4382716049382716, 0.2510288065843621, 0.6873559194482549, 0.4382716049382716, tensor(1.2783)]\n",
      "\n",
      "Epoch  756\n"
     ]
    },
    {
     "name": "stderr",
     "output_type": "stream",
     "text": [
      "81it [00:02, 39.19it/s]"
     ]
    },
    {
     "name": "stdout",
     "output_type": "stream",
     "text": [
      "['acc', 'kappa', 'auc', 'fmeasure', 'loss']\n",
      "Training Loss  1.2503218194584789\n"
     ]
    },
    {
     "name": "stderr",
     "output_type": "stream",
     "text": [
      "\n"
     ]
    },
    {
     "name": "stdout",
     "output_type": "stream",
     "text": [
      "Train -  [0.47453703703703703, 0.2993827160493827, 0.716658450502972, 0.47453703703703703, tensor(1.2502)]\n",
      "Validation -  [0.4371141975308642, 0.2494855967078189, 0.6873835051186302, 0.4371141975308642, tensor(1.2783)]\n",
      "\n",
      "Epoch  757\n"
     ]
    },
    {
     "name": "stderr",
     "output_type": "stream",
     "text": [
      "81it [00:01, 41.19it/s]"
     ]
    },
    {
     "name": "stdout",
     "output_type": "stream",
     "text": [
      "['acc', 'kappa', 'auc', 'fmeasure', 'loss']\n",
      "Training Loss  1.2503071714330602\n"
     ]
    },
    {
     "name": "stderr",
     "output_type": "stream",
     "text": [
      "\n"
     ]
    },
    {
     "name": "stdout",
     "output_type": "stream",
     "text": [
      "Train -  [0.47415123456790126, 0.2988683127572016, 0.7166511075547426, 0.47415123456790126, tensor(1.2502)]\n",
      "Validation -  [0.4378858024691358, 0.2505144032921811, 0.6873596901513997, 0.4378858024691358, tensor(1.2783)]\n",
      "\n",
      "Epoch  758\n"
     ]
    },
    {
     "name": "stderr",
     "output_type": "stream",
     "text": [
      "81it [00:02, 38.18it/s]"
     ]
    },
    {
     "name": "stdout",
     "output_type": "stream",
     "text": [
      "['acc', 'kappa', 'auc', 'fmeasure', 'loss']\n",
      "Training Loss  1.2502869190993133\n"
     ]
    },
    {
     "name": "stderr",
     "output_type": "stream",
     "text": [
      "\n"
     ]
    },
    {
     "name": "stdout",
     "output_type": "stream",
     "text": [
      "Train -  [0.47415123456790126, 0.2988683127572016, 0.7166487260580195, 0.47415123456790126, tensor(1.2502)]\n",
      "Validation -  [0.4371141975308642, 0.2494855967078189, 0.6873537364095921, 0.4371141975308642, tensor(1.2783)]\n",
      "\n",
      "Epoch  759\n"
     ]
    },
    {
     "name": "stderr",
     "output_type": "stream",
     "text": [
      "81it [00:01, 42.85it/s]"
     ]
    },
    {
     "name": "stdout",
     "output_type": "stream",
     "text": [
      "['acc', 'kappa', 'auc', 'fmeasure', 'loss']\n",
      "Training Loss  1.250322249200609\n"
     ]
    },
    {
     "name": "stderr",
     "output_type": "stream",
     "text": [
      "\n"
     ]
    },
    {
     "name": "stdout",
     "output_type": "stream",
     "text": [
      "Train -  [0.47337962962962965, 0.2978395061728395, 0.7166120113168724, 0.47337962962962965, tensor(1.2502)]\n",
      "Validation -  [0.4378858024691358, 0.2505144032921811, 0.6873261507392167, 0.4378858024691358, tensor(1.2783)]\n",
      "\n",
      "Epoch  760\n"
     ]
    },
    {
     "name": "stderr",
     "output_type": "stream",
     "text": [
      "81it [00:02, 39.07it/s]"
     ]
    },
    {
     "name": "stdout",
     "output_type": "stream",
     "text": [
      "['acc', 'kappa', 'auc', 'fmeasure', 'loss']\n",
      "Training Loss  1.250327545919536\n"
     ]
    },
    {
     "name": "stderr",
     "output_type": "stream",
     "text": [
      "\n"
     ]
    },
    {
     "name": "stdout",
     "output_type": "stream",
     "text": [
      "Train -  [0.47337962962962965, 0.2978395061728395, 0.716641978483971, 0.47337962962962965, tensor(1.2502)]\n",
      "Validation -  [0.4382716049382716, 0.2510288065843621, 0.6873680253899304, 0.4382716049382716, tensor(1.2783)]\n",
      "\n",
      "Epoch  761\n"
     ]
    },
    {
     "name": "stderr",
     "output_type": "stream",
     "text": [
      "81it [00:02, 39.88it/s]"
     ]
    },
    {
     "name": "stdout",
     "output_type": "stream",
     "text": [
      "['acc', 'kappa', 'auc', 'fmeasure', 'loss']\n",
      "Training Loss  1.250299671549856\n"
     ]
    },
    {
     "name": "stderr",
     "output_type": "stream",
     "text": [
      "\n"
     ]
    },
    {
     "name": "stdout",
     "output_type": "stream",
     "text": [
      "Train -  [0.47415123456790126, 0.2988683127572016, 0.7166239188004877, 0.47415123456790126, tensor(1.2502)]\n",
      "Validation -  [0.4375, 0.25, 0.6873326998552051, 0.4375, tensor(1.2783)]\n",
      "\n",
      "Epoch  762\n"
     ]
    },
    {
     "name": "stderr",
     "output_type": "stream",
     "text": [
      "81it [00:02, 40.06it/s]"
     ]
    },
    {
     "name": "stdout",
     "output_type": "stream",
     "text": [
      "['acc', 'kappa', 'auc', 'fmeasure', 'loss']\n",
      "Training Loss  1.2503153600810486\n"
     ]
    },
    {
     "name": "stderr",
     "output_type": "stream",
     "text": [
      "\n"
     ]
    },
    {
     "name": "stdout",
     "output_type": "stream",
     "text": [
      "Train -  [0.4737654320987654, 0.2983539094650206, 0.7166003022913173, 0.4737654320987654, tensor(1.2502)]\n",
      "Validation -  [0.4378858024691358, 0.2505144032921811, 0.6873013434816848, 0.4378858024691358, tensor(1.2783)]\n",
      "\n",
      "Epoch  763\n"
     ]
    },
    {
     "name": "stderr",
     "output_type": "stream",
     "text": [
      "81it [00:02, 39.78it/s]"
     ]
    },
    {
     "name": "stdout",
     "output_type": "stream",
     "text": [
      "['acc', 'kappa', 'auc', 'fmeasure', 'loss']\n",
      "Training Loss  1.2503177707577928\n"
     ]
    },
    {
     "name": "stderr",
     "output_type": "stream",
     "text": [
      "\n"
     ]
    },
    {
     "name": "stdout",
     "output_type": "stream",
     "text": [
      "Train -  [0.47337962962962965, 0.2978395061728395, 0.7166278879616929, 0.47337962962962965, tensor(1.2502)]\n",
      "Validation -  [0.4382716049382716, 0.2510288065843621, 0.6873380582228319, 0.4382716049382716, tensor(1.2783)]\n",
      "\n",
      "Epoch  764\n"
     ]
    },
    {
     "name": "stderr",
     "output_type": "stream",
     "text": [
      "81it [00:01, 42.81it/s]"
     ]
    },
    {
     "name": "stdout",
     "output_type": "stream",
     "text": [
      "['acc', 'kappa', 'auc', 'fmeasure', 'loss']\n",
      "Training Loss  1.2503236326170557\n"
     ]
    },
    {
     "name": "stderr",
     "output_type": "stream",
     "text": [
      "\n"
     ]
    },
    {
     "name": "stdout",
     "output_type": "stream",
     "text": [
      "Train -  [0.47337962962962965, 0.2978395061728395, 0.7166632134964183, 0.47337962962962965, tensor(1.2502)]\n",
      "Validation -  [0.4382716049382716, 0.2510288065843621, 0.6873929318764924, 0.4382716049382716, tensor(1.2783)]\n",
      "\n",
      "Epoch  765\n"
     ]
    },
    {
     "name": "stderr",
     "output_type": "stream",
     "text": [
      "81it [00:02, 38.72it/s]"
     ]
    },
    {
     "name": "stdout",
     "output_type": "stream",
     "text": [
      "['acc', 'kappa', 'auc', 'fmeasure', 'loss']\n",
      "Training Loss  1.250290545416467\n"
     ]
    },
    {
     "name": "stderr",
     "output_type": "stream",
     "text": [
      "\n"
     ]
    },
    {
     "name": "stdout",
     "output_type": "stream",
     "text": [
      "Train -  [0.47337962962962965, 0.2978395061728395, 0.7166540844256464, 0.47337962962962965, tensor(1.2502)]\n",
      "Validation -  [0.4382716049382716, 0.2510288065843621, 0.687374772963979, 0.4382716049382716, tensor(1.2783)]\n",
      "\n",
      "Epoch  766\n"
     ]
    },
    {
     "name": "stderr",
     "output_type": "stream",
     "text": [
      "81it [00:02, 39.97it/s]"
     ]
    },
    {
     "name": "stdout",
     "output_type": "stream",
     "text": [
      "['acc', 'kappa', 'auc', 'fmeasure', 'loss']\n",
      "Training Loss  1.2503015376903392\n"
     ]
    },
    {
     "name": "stderr",
     "output_type": "stream",
     "text": [
      "\n"
     ]
    },
    {
     "name": "stdout",
     "output_type": "stream",
     "text": [
      "Train -  [0.4737654320987654, 0.2983539094650206, 0.7166362232002236, 0.4737654320987654, tensor(1.2502)]\n",
      "Validation -  [0.4382716049382716, 0.2510288065843621, 0.6873584994030382, 0.4382716049382716, tensor(1.2783)]\n",
      "\n",
      "Epoch  767\n"
     ]
    },
    {
     "name": "stderr",
     "output_type": "stream",
     "text": [
      "81it [00:02, 39.58it/s]"
     ]
    },
    {
     "name": "stdout",
     "output_type": "stream",
     "text": [
      "['acc', 'kappa', 'auc', 'fmeasure', 'loss']\n",
      "Training Loss  1.2502974580835413\n"
     ]
    },
    {
     "name": "stderr",
     "output_type": "stream",
     "text": [
      "\n"
     ]
    },
    {
     "name": "stdout",
     "output_type": "stream",
     "text": [
      "Train -  [0.47337962962962965, 0.2978395061728395, 0.7166453522709952, 0.47337962962962965, tensor(1.2502)]\n",
      "Validation -  [0.4382716049382716, 0.2510288065843621, 0.68735988860946, 0.4382716049382716, tensor(1.2783)]\n",
      "\n",
      "Epoch  768\n"
     ]
    },
    {
     "name": "stderr",
     "output_type": "stream",
     "text": [
      "81it [00:02, 38.98it/s]"
     ]
    },
    {
     "name": "stdout",
     "output_type": "stream",
     "text": [
      "['acc', 'kappa', 'auc', 'fmeasure', 'loss']\n",
      "Training Loss  1.2502870751015933\n"
     ]
    },
    {
     "name": "stderr",
     "output_type": "stream",
     "text": [
      "\n"
     ]
    },
    {
     "name": "stdout",
     "output_type": "stream",
     "text": [
      "Train -  [0.47337962962962965, 0.2978395061728395, 0.7166405892775491, 0.47337962962962965, tensor(1.2502)]\n",
      "Validation -  [0.4382716049382716, 0.2510288065843621, 0.6873686207641112, 0.4382716049382716, tensor(1.2783)]\n",
      "\n",
      "Epoch  769\n"
     ]
    },
    {
     "name": "stderr",
     "output_type": "stream",
     "text": [
      "81it [00:01, 41.23it/s]"
     ]
    },
    {
     "name": "stdout",
     "output_type": "stream",
     "text": [
      "['acc', 'kappa', 'auc', 'fmeasure', 'loss']\n",
      "Training Loss  1.2503091273484406\n"
     ]
    },
    {
     "name": "stderr",
     "output_type": "stream",
     "text": [
      "\n"
     ]
    },
    {
     "name": "stdout",
     "output_type": "stream",
     "text": [
      "Train -  [0.47337962962962965, 0.2978395061728395, 0.716632750184169, 0.47337962962962965, tensor(1.2502)]\n",
      "Validation -  [0.4382716049382716, 0.2510288065843621, 0.6873499657064472, 0.4382716049382716, tensor(1.2783)]\n",
      "\n",
      "Epoch  770\n"
     ]
    },
    {
     "name": "stderr",
     "output_type": "stream",
     "text": [
      "81it [00:02, 39.55it/s]"
     ]
    },
    {
     "name": "stdout",
     "output_type": "stream",
     "text": [
      "['acc', 'kappa', 'auc', 'fmeasure', 'loss']\n",
      "Training Loss  1.250277676700074\n"
     ]
    },
    {
     "name": "stderr",
     "output_type": "stream",
     "text": [
      "\n"
     ]
    },
    {
     "name": "stdout",
     "output_type": "stream",
     "text": [
      "Train -  [0.47337962962962965, 0.2978395061728395, 0.7166342386196211, 0.47337962962962965, tensor(1.2502)]\n",
      "Validation -  [0.4378858024691358, 0.2505144032921811, 0.6873553240740742, 0.4378858024691358, tensor(1.2783)]\n",
      "\n",
      "Epoch  771\n"
     ]
    },
    {
     "name": "stderr",
     "output_type": "stream",
     "text": [
      "81it [00:01, 41.24it/s]"
     ]
    },
    {
     "name": "stdout",
     "output_type": "stream",
     "text": [
      "['acc', 'kappa', 'auc', 'fmeasure', 'loss']\n",
      "Training Loss  1.2502703666687012\n"
     ]
    },
    {
     "name": "stderr",
     "output_type": "stream",
     "text": [
      "\n"
     ]
    },
    {
     "name": "stdout",
     "output_type": "stream",
     "text": [
      "Train -  [0.47337962962962965, 0.2978395061728395, 0.7166590458771529, 0.47337962962962965, tensor(1.2502)]\n",
      "Validation -  [0.4382716049382716, 0.2510288065843621, 0.6873803297896662, 0.4382716049382716, tensor(1.2783)]\n",
      "\n",
      "Epoch  772\n"
     ]
    },
    {
     "name": "stderr",
     "output_type": "stream",
     "text": [
      "81it [00:02, 37.67it/s]"
     ]
    },
    {
     "name": "stdout",
     "output_type": "stream",
     "text": [
      "['acc', 'kappa', 'auc', 'fmeasure', 'loss']\n",
      "Training Loss  1.2503584049366139\n"
     ]
    },
    {
     "name": "stderr",
     "output_type": "stream",
     "text": [
      "\n"
     ]
    },
    {
     "name": "stdout",
     "output_type": "stream",
     "text": [
      "Train -  [0.47337962962962965, 0.2978395061728395, 0.7166124082329929, 0.47337962962962965, tensor(1.2502)]\n",
      "Validation -  [0.4378858024691358, 0.2505144032921811, 0.6873217846618909, 0.4378858024691358, tensor(1.2783)]\n",
      "\n",
      "Epoch  773\n"
     ]
    },
    {
     "name": "stderr",
     "output_type": "stream",
     "text": [
      "81it [00:01, 41.84it/s]"
     ]
    },
    {
     "name": "stdout",
     "output_type": "stream",
     "text": [
      "['acc', 'kappa', 'auc', 'fmeasure', 'loss']\n",
      "Training Loss  1.2503137647369762\n"
     ]
    },
    {
     "name": "stderr",
     "output_type": "stream",
     "text": [
      "\n"
     ]
    },
    {
     "name": "stdout",
     "output_type": "stream",
     "text": [
      "Train -  [0.47337962962962965, 0.2978395061728395, 0.716676311728395, 0.47337962962962965, tensor(1.2502)]\n",
      "Validation -  [0.4382716049382716, 0.2510288065843621, 0.6873989848473303, 0.4382716049382716, tensor(1.2783)]\n",
      "\n",
      "Epoch  774\n"
     ]
    },
    {
     "name": "stderr",
     "output_type": "stream",
     "text": [
      "81it [00:02, 38.80it/s]"
     ]
    },
    {
     "name": "stdout",
     "output_type": "stream",
     "text": [
      "['acc', 'kappa', 'auc', 'fmeasure', 'loss']\n",
      "Training Loss  1.2502673010767242\n"
     ]
    },
    {
     "name": "stderr",
     "output_type": "stream",
     "text": [
      "\n"
     ]
    },
    {
     "name": "stdout",
     "output_type": "stream",
     "text": [
      "Train -  [0.4737654320987654, 0.2983539094650206, 0.7166503137225015, 0.4737654320987654, tensor(1.2502)]\n",
      "Validation -  [0.4371141975308642, 0.2494855967078189, 0.6873678269318703, 0.4371141975308642, tensor(1.2783)]\n",
      "\n",
      "Epoch  775\n"
     ]
    },
    {
     "name": "stderr",
     "output_type": "stream",
     "text": [
      "81it [00:02, 37.79it/s]"
     ]
    },
    {
     "name": "stdout",
     "output_type": "stream",
     "text": [
      "['acc', 'kappa', 'auc', 'fmeasure', 'loss']\n",
      "Training Loss  1.250268828721694\n"
     ]
    },
    {
     "name": "stderr",
     "output_type": "stream",
     "text": [
      "\n"
     ]
    },
    {
     "name": "stdout",
     "output_type": "stream",
     "text": [
      "Train -  [0.47337962962962965, 0.2978395061728395, 0.7166495198902606, 0.47337962962962965, tensor(1.2502)]\n",
      "Validation -  [0.4375, 0.25, 0.6873747729639792, 0.4375, tensor(1.2783)]\n",
      "\n",
      "Epoch  776\n"
     ]
    },
    {
     "name": "stderr",
     "output_type": "stream",
     "text": [
      "81it [00:02, 39.62it/s]"
     ]
    },
    {
     "name": "stdout",
     "output_type": "stream",
     "text": [
      "['acc', 'kappa', 'auc', 'fmeasure', 'loss']\n",
      "Training Loss  1.250302098415516\n"
     ]
    },
    {
     "name": "stderr",
     "output_type": "stream",
     "text": [
      "\n"
     ]
    },
    {
     "name": "stdout",
     "output_type": "stream",
     "text": [
      "Train -  [0.4729938271604938, 0.2973251028806584, 0.7166777009348169, 0.4729938271604938, tensor(1.2502)]\n",
      "Validation -  [0.4382716049382716, 0.2510288065843621, 0.6874071216278006, 0.4382716049382716, tensor(1.2782)]\n",
      "\n",
      "Epoch  777\n"
     ]
    },
    {
     "name": "stderr",
     "output_type": "stream",
     "text": [
      "81it [00:02, 40.08it/s]"
     ]
    },
    {
     "name": "stdout",
     "output_type": "stream",
     "text": [
      "['acc', 'kappa', 'auc', 'fmeasure', 'loss']\n",
      "Training Loss  1.250251375598672\n"
     ]
    },
    {
     "name": "stderr",
     "output_type": "stream",
     "text": [
      "\n"
     ]
    },
    {
     "name": "stdout",
     "output_type": "stream",
     "text": [
      "Train -  [0.47337962962962965, 0.2978395061728395, 0.7166578551287913, 0.47337962962962965, tensor(1.2502)]\n",
      "Validation -  [0.4382716049382716, 0.2510288065843621, 0.6873746737349489, 0.4382716049382716, tensor(1.2783)]\n",
      "\n",
      "Epoch  778\n"
     ]
    },
    {
     "name": "stderr",
     "output_type": "stream",
     "text": [
      "81it [00:02, 39.51it/s]"
     ]
    },
    {
     "name": "stdout",
     "output_type": "stream",
     "text": [
      "['acc', 'kappa', 'auc', 'fmeasure', 'loss']\n",
      "Training Loss  1.2502608608316492\n"
     ]
    },
    {
     "name": "stderr",
     "output_type": "stream",
     "text": [
      "\n"
     ]
    },
    {
     "name": "stdout",
     "output_type": "stream",
     "text": [
      "Train -  [0.4737654320987654, 0.2983539094650206, 0.716647436080628, 0.4737654320987654, tensor(1.2502)]\n",
      "Validation -  [0.4382716049382716, 0.2510288065843621, 0.6873682238479907, 0.4382716049382716, tensor(1.2783)]\n",
      "\n",
      "Epoch  779\n"
     ]
    },
    {
     "name": "stderr",
     "output_type": "stream",
     "text": [
      "81it [00:02, 38.35it/s]"
     ]
    },
    {
     "name": "stdout",
     "output_type": "stream",
     "text": [
      "['acc', 'kappa', 'auc', 'fmeasure', 'loss']\n",
      "Training Loss  1.2502897565747484\n"
     ]
    },
    {
     "name": "stderr",
     "output_type": "stream",
     "text": [
      "\n"
     ]
    },
    {
     "name": "stdout",
     "output_type": "stream",
     "text": [
      "Train -  [0.4737654320987654, 0.2983539094650206, 0.7166206442424934, 0.4737654320987654, tensor(1.2502)]\n",
      "Validation -  [0.4382716049382716, 0.2510288065843621, 0.6873098771782756, 0.4382716049382716, tensor(1.2783)]\n",
      "\n",
      "Epoch  780\n"
     ]
    },
    {
     "name": "stderr",
     "output_type": "stream",
     "text": [
      "81it [00:01, 41.91it/s]"
     ]
    },
    {
     "name": "stdout",
     "output_type": "stream",
     "text": [
      "['acc', 'kappa', 'auc', 'fmeasure', 'loss']\n",
      "Training Loss  1.250266758012183\n"
     ]
    },
    {
     "name": "stderr",
     "output_type": "stream",
     "text": [
      "\n"
     ]
    },
    {
     "name": "stdout",
     "output_type": "stream",
     "text": [
      "Train -  [0.47337962962962965, 0.2978395061728395, 0.7166479322257786, 0.47337962962962965, tensor(1.2502)]\n",
      "Validation -  [0.4378858024691358, 0.2505144032921811, 0.6873658423512676, 0.4378858024691358, tensor(1.2783)]\n",
      "\n",
      "Epoch  781\n"
     ]
    },
    {
     "name": "stderr",
     "output_type": "stream",
     "text": [
      "81it [00:02, 38.81it/s]"
     ]
    },
    {
     "name": "stdout",
     "output_type": "stream",
     "text": [
      "['acc', 'kappa', 'auc', 'fmeasure', 'loss']\n",
      "Training Loss  1.2502891193201513\n"
     ]
    },
    {
     "name": "stderr",
     "output_type": "stream",
     "text": [
      "\n"
     ]
    },
    {
     "name": "stdout",
     "output_type": "stream",
     "text": [
      "Train -  [0.47337962962962965, 0.2978395061728395, 0.7166765101864553, 0.47337962962962965, tensor(1.2502)]\n",
      "Validation -  [0.4378858024691358, 0.2505144032921811, 0.6873916418991006, 0.4378858024691358, tensor(1.2783)]\n",
      "\n",
      "Epoch  782\n"
     ]
    },
    {
     "name": "stderr",
     "output_type": "stream",
     "text": [
      "81it [00:02, 38.90it/s]"
     ]
    },
    {
     "name": "stdout",
     "output_type": "stream",
     "text": [
      "['acc', 'kappa', 'auc', 'fmeasure', 'loss']\n",
      "Training Loss  1.2502755294611425\n"
     ]
    },
    {
     "name": "stderr",
     "output_type": "stream",
     "text": [
      "\n"
     ]
    },
    {
     "name": "stdout",
     "output_type": "stream",
     "text": [
      "Train -  [0.4729938271604938, 0.2973251028806584, 0.7166522983031043, 0.4729938271604938, tensor(1.2502)]\n",
      "Validation -  [0.4382716049382716, 0.2510288065843621, 0.687380131331606, 0.4382716049382716, tensor(1.2783)]\n",
      "\n",
      "Epoch  783\n"
     ]
    },
    {
     "name": "stderr",
     "output_type": "stream",
     "text": [
      "81it [00:02, 38.21it/s]"
     ]
    },
    {
     "name": "stdout",
     "output_type": "stream",
     "text": [
      "['acc', 'kappa', 'auc', 'fmeasure', 'loss']\n",
      "Training Loss  1.2502734425627156\n"
     ]
    },
    {
     "name": "stderr",
     "output_type": "stream",
     "text": [
      "\n"
     ]
    },
    {
     "name": "stdout",
     "output_type": "stream",
     "text": [
      "Train -  [0.47337962962962965, 0.2978395061728395, 0.7166648011609003, 0.47337962962962965, tensor(1.2502)]\n",
      "Validation -  [0.4382716049382716, 0.2510288065843621, 0.6873898557765585, 0.4382716049382716, tensor(1.2783)]\n",
      "\n",
      "Epoch  784\n"
     ]
    },
    {
     "name": "stderr",
     "output_type": "stream",
     "text": [
      "81it [00:01, 40.73it/s]"
     ]
    },
    {
     "name": "stdout",
     "output_type": "stream",
     "text": [
      "['acc', 'kappa', 'auc', 'fmeasure', 'loss']\n",
      "Training Loss  1.2502597938349218\n"
     ]
    },
    {
     "name": "stderr",
     "output_type": "stream",
     "text": [
      "\n"
     ]
    },
    {
     "name": "stdout",
     "output_type": "stream",
     "text": [
      "Train -  [0.47337962962962965, 0.2978395061728395, 0.7166425738581517, 0.47337962962962965, tensor(1.2502)]\n",
      "Validation -  [0.4382716049382716, 0.2510288065843621, 0.6873731852994971, 0.4382716049382716, tensor(1.2783)]\n",
      "\n",
      "Epoch  785\n"
     ]
    },
    {
     "name": "stderr",
     "output_type": "stream",
     "text": [
      "81it [00:02, 38.75it/s]"
     ]
    },
    {
     "name": "stdout",
     "output_type": "stream",
     "text": [
      "['acc', 'kappa', 'auc', 'fmeasure', 'loss']\n",
      "Training Loss  1.2502770100110843\n"
     ]
    },
    {
     "name": "stderr",
     "output_type": "stream",
     "text": [
      "\n"
     ]
    },
    {
     "name": "stdout",
     "output_type": "stream",
     "text": [
      "Train -  [0.47337962962962965, 0.2978395061728395, 0.7166540844256465, 0.47337962962962965, tensor(1.2502)]\n",
      "Validation -  [0.4382716049382716, 0.2510288065843621, 0.6873773529187625, 0.4382716049382716, tensor(1.2783)]\n",
      "\n",
      "Epoch  786\n"
     ]
    },
    {
     "name": "stderr",
     "output_type": "stream",
     "text": [
      "81it [00:01, 42.53it/s]"
     ]
    },
    {
     "name": "stdout",
     "output_type": "stream",
     "text": [
      "['acc', 'kappa', 'auc', 'fmeasure', 'loss']\n",
      "Training Loss  1.250274497785686\n"
     ]
    },
    {
     "name": "stderr",
     "output_type": "stream",
     "text": [
      "\n"
     ]
    },
    {
     "name": "stdout",
     "output_type": "stream",
     "text": [
      "Train -  [0.47415123456790126, 0.2988683127572016, 0.7166445584387542, 0.47415123456790126, tensor(1.2502)]\n",
      "Validation -  [0.4375, 0.25, 0.68735214874511, 0.4375, tensor(1.2783)]\n",
      "\n",
      "Epoch  787\n"
     ]
    },
    {
     "name": "stderr",
     "output_type": "stream",
     "text": [
      "81it [00:01, 42.32it/s]"
     ]
    },
    {
     "name": "stdout",
     "output_type": "stream",
     "text": [
      "['acc', 'kappa', 'auc', 'fmeasure', 'loss']\n",
      "Training Loss  1.250250882572598\n"
     ]
    },
    {
     "name": "stderr",
     "output_type": "stream",
     "text": [
      "\n"
     ]
    },
    {
     "name": "stdout",
     "output_type": "stream",
     "text": [
      "Train -  [0.4729938271604938, 0.2973251028806584, 0.7166648011609001, 0.4729938271604938, tensor(1.2502)]\n",
      "Validation -  [0.4382716049382716, 0.2510288065843621, 0.6873960079764264, 0.4382716049382716, tensor(1.2782)]\n",
      "\n",
      "Epoch  788\n"
     ]
    },
    {
     "name": "stderr",
     "output_type": "stream",
     "text": [
      "81it [00:02, 40.24it/s]"
     ]
    },
    {
     "name": "stdout",
     "output_type": "stream",
     "text": [
      "['acc', 'kappa', 'auc', 'fmeasure', 'loss']\n",
      "Training Loss  1.250295407978105\n"
     ]
    },
    {
     "name": "stderr",
     "output_type": "stream",
     "text": [
      "\n"
     ]
    },
    {
     "name": "stdout",
     "output_type": "stream",
     "text": [
      "Train -  [0.47453703703703703, 0.2993827160493827, 0.7166981421150231, 0.47453703703703703, tensor(1.2502)]\n",
      "Validation -  [0.4378858024691358, 0.2505144032921811, 0.6874087092922827, 0.4378858024691358, tensor(1.2783)]\n",
      "\n",
      "Epoch  789\n"
     ]
    },
    {
     "name": "stderr",
     "output_type": "stream",
     "text": [
      "81it [00:02, 39.83it/s]"
     ]
    },
    {
     "name": "stdout",
     "output_type": "stream",
     "text": [
      "['acc', 'kappa', 'auc', 'fmeasure', 'loss']\n",
      "Training Loss  1.2502885777273296\n"
     ]
    },
    {
     "name": "stderr",
     "output_type": "stream",
     "text": [
      "\n"
     ]
    },
    {
     "name": "stdout",
     "output_type": "stream",
     "text": [
      "Train -  [0.47415123456790126, 0.2988683127572016, 0.7166681749479247, 0.47415123456790126, tensor(1.2502)]\n",
      "Validation -  [0.4367283950617284, 0.2489711934156379, 0.6874003740537521, 0.4367283950617284, tensor(1.2782)]\n",
      "\n",
      "Epoch  790\n"
     ]
    },
    {
     "name": "stderr",
     "output_type": "stream",
     "text": [
      "81it [00:01, 43.19it/s]"
     ]
    },
    {
     "name": "stdout",
     "output_type": "stream",
     "text": [
      "['acc', 'kappa', 'auc', 'fmeasure', 'loss']\n",
      "Training Loss  1.2502877079410317\n"
     ]
    },
    {
     "name": "stderr",
     "output_type": "stream",
     "text": [
      "\n"
     ]
    },
    {
     "name": "stdout",
     "output_type": "stream",
     "text": [
      "Train -  [0.4729938271604938, 0.2973251028806584, 0.7166501152644413, 0.4729938271604938, tensor(1.2502)]\n",
      "Validation -  [0.4378858024691358, 0.2505144032921811, 0.6873872758217751, 0.4378858024691358, tensor(1.2783)]\n",
      "\n",
      "Epoch  791\n"
     ]
    },
    {
     "name": "stderr",
     "output_type": "stream",
     "text": [
      "81it [00:01, 41.12it/s]"
     ]
    },
    {
     "name": "stdout",
     "output_type": "stream",
     "text": [
      "['acc', 'kappa', 'auc', 'fmeasure', 'loss']\n",
      "Training Loss  1.2502564294838612\n"
     ]
    },
    {
     "name": "stderr",
     "output_type": "stream",
     "text": [
      "\n"
     ]
    },
    {
     "name": "stdout",
     "output_type": "stream",
     "text": [
      "Train -  [0.4729938271604938, 0.2973251028806584, 0.7166459476451761, 0.4729938271604938, tensor(1.2502)]\n",
      "Validation -  [0.4378858024691358, 0.2505144032921811, 0.6873634608545445, 0.4378858024691358, tensor(1.2783)]\n",
      "\n",
      "Epoch  792\n"
     ]
    },
    {
     "name": "stderr",
     "output_type": "stream",
     "text": [
      "81it [00:01, 40.72it/s]"
     ]
    },
    {
     "name": "stdout",
     "output_type": "stream",
     "text": [
      "['acc', 'kappa', 'auc', 'fmeasure', 'loss']\n",
      "Training Loss  1.2502742770277424\n"
     ]
    },
    {
     "name": "stderr",
     "output_type": "stream",
     "text": [
      "\n"
     ]
    },
    {
     "name": "stdout",
     "output_type": "stream",
     "text": [
      "Train -  [0.47415123456790126, 0.2988683127572016, 0.7167074696438551, 0.47415123456790126, tensor(1.2502)]\n",
      "Validation -  [0.4378858024691358, 0.2505144032921811, 0.6874432409947671, 0.4378858024691358, tensor(1.2782)]\n",
      "\n",
      "Epoch  793\n"
     ]
    },
    {
     "name": "stderr",
     "output_type": "stream",
     "text": [
      "81it [00:01, 42.68it/s]"
     ]
    },
    {
     "name": "stdout",
     "output_type": "stream",
     "text": [
      "['acc', 'kappa', 'auc', 'fmeasure', 'loss']\n",
      "Training Loss  1.2502720341270352\n"
     ]
    },
    {
     "name": "stderr",
     "output_type": "stream",
     "text": [
      "\n"
     ]
    },
    {
     "name": "stdout",
     "output_type": "stream",
     "text": [
      "Train -  [0.47337962962962965, 0.2978395061728395, 0.7166612289158157, 0.47337962962962965, tensor(1.2502)]\n",
      "Validation -  [0.4382716049382716, 0.2510288065843621, 0.6873850927831123, 0.4382716049382716, tensor(1.2783)]\n",
      "\n",
      "Epoch  794\n"
     ]
    },
    {
     "name": "stderr",
     "output_type": "stream",
     "text": [
      "81it [00:01, 41.52it/s]"
     ]
    },
    {
     "name": "stdout",
     "output_type": "stream",
     "text": [
      "['acc', 'kappa', 'auc', 'fmeasure', 'loss']\n",
      "Training Loss  1.2502703622535423\n"
     ]
    },
    {
     "name": "stderr",
     "output_type": "stream",
     "text": [
      "\n"
     ]
    },
    {
     "name": "stdout",
     "output_type": "stream",
     "text": [
      "Train -  [0.47337962962962965, 0.2978395061728395, 0.7166505121805619, 0.47337962962962965, tensor(1.2502)]\n",
      "Validation -  [0.4378858024691358, 0.2505144032921811, 0.6873696130544122, 0.4378858024691358, tensor(1.2783)]\n",
      "\n",
      "Epoch  795\n"
     ]
    },
    {
     "name": "stderr",
     "output_type": "stream",
     "text": [
      "81it [00:02, 37.90it/s]"
     ]
    },
    {
     "name": "stdout",
     "output_type": "stream",
     "text": [
      "['acc', 'kappa', 'auc', 'fmeasure', 'loss']\n",
      "Training Loss  1.2502753366658717\n"
     ]
    },
    {
     "name": "stderr",
     "output_type": "stream",
     "text": [
      "\n"
     ]
    },
    {
     "name": "stdout",
     "output_type": "stream",
     "text": [
      "Train -  [0.47492283950617287, 0.2998971193415638, 0.7166823646992329, 0.47492283950617287, tensor(1.2502)]\n",
      "Validation -  [0.4371141975308642, 0.2494855967078189, 0.687402755550475, 0.4371141975308642, tensor(1.2783)]\n",
      "\n",
      "Epoch  796\n"
     ]
    },
    {
     "name": "stderr",
     "output_type": "stream",
     "text": [
      "81it [00:01, 42.86it/s]"
     ]
    },
    {
     "name": "stdout",
     "output_type": "stream",
     "text": [
      "['acc', 'kappa', 'auc', 'fmeasure', 'loss']\n",
      "Training Loss  1.250246720549501\n"
     ]
    },
    {
     "name": "stderr",
     "output_type": "stream",
     "text": [
      "\n"
     ]
    },
    {
     "name": "stdout",
     "output_type": "stream",
     "text": [
      "Train -  [0.47337962962962965, 0.2978395061728395, 0.716651504470863, 0.47337962962962965, tensor(1.2502)]\n",
      "Validation -  [0.4382716049382716, 0.2510288065843621, 0.6873664377254484, 0.4382716049382716, tensor(1.2783)]\n",
      "\n",
      "Epoch  797\n"
     ]
    },
    {
     "name": "stderr",
     "output_type": "stream",
     "text": [
      "81it [00:01, 40.59it/s]"
     ]
    },
    {
     "name": "stdout",
     "output_type": "stream",
     "text": [
      "['acc', 'kappa', 'auc', 'fmeasure', 'loss']\n",
      "Training Loss  1.2502597467398937\n"
     ]
    },
    {
     "name": "stderr",
     "output_type": "stream",
     "text": [
      "\n"
     ]
    },
    {
     "name": "stdout",
     "output_type": "stream",
     "text": [
      "Train -  [0.47415123456790126, 0.2988683127572016, 0.7166628165802977, 0.47415123456790126, tensor(1.2502)]\n",
      "Validation -  [0.4375, 0.25, 0.6873670330996291, 0.4375, tensor(1.2783)]\n",
      "\n",
      "Epoch  798\n"
     ]
    },
    {
     "name": "stderr",
     "output_type": "stream",
     "text": [
      "81it [00:02, 39.56it/s]"
     ]
    },
    {
     "name": "stdout",
     "output_type": "stream",
     "text": [
      "['acc', 'kappa', 'auc', 'fmeasure', 'loss']\n",
      "Training Loss  1.2502623678725442\n"
     ]
    },
    {
     "name": "stderr",
     "output_type": "stream",
     "text": [
      "\n"
     ]
    },
    {
     "name": "stdout",
     "output_type": "stream",
     "text": [
      "Train -  [0.47337962962962965, 0.2978395061728395, 0.7166512067837727, 0.47337962962962965, tensor(1.2502)]\n",
      "Validation -  [0.4378858024691358, 0.2505144032921811, 0.6873596901513996, 0.4378858024691358, tensor(1.2783)]\n",
      "\n",
      "Epoch  799\n"
     ]
    },
    {
     "name": "stderr",
     "output_type": "stream",
     "text": [
      "81it [00:02, 39.87it/s]"
     ]
    },
    {
     "name": "stdout",
     "output_type": "stream",
     "text": [
      "['acc', 'kappa', 'auc', 'fmeasure', 'loss']\n",
      "Training Loss  1.2502640220854018\n"
     ]
    },
    {
     "name": "stderr",
     "output_type": "stream",
     "text": [
      "\n"
     ]
    },
    {
     "name": "stdout",
     "output_type": "stream",
     "text": [
      "Train -  [0.47337962962962965, 0.2978395061728395, 0.7166655949931413, 0.47337962962962965, tensor(1.2502)]\n",
      "Validation -  [0.4378858024691358, 0.2505144032921811, 0.6873952141441853, 0.4378858024691358, tensor(1.2782)]\n",
      "\n",
      "Epoch  800\n"
     ]
    },
    {
     "name": "stderr",
     "output_type": "stream",
     "text": [
      "81it [00:02, 38.94it/s]"
     ]
    },
    {
     "name": "stdout",
     "output_type": "stream",
     "text": [
      "['acc', 'kappa', 'auc', 'fmeasure', 'loss']\n",
      "Training Loss  1.250210279299889\n"
     ]
    },
    {
     "name": "stderr",
     "output_type": "stream",
     "text": [
      "\n"
     ]
    },
    {
     "name": "stdout",
     "output_type": "stream",
     "text": [
      "Train -  [0.4729938271604938, 0.2973251028806584, 0.716671548734949, 0.4729938271604938, tensor(1.2502)]\n",
      "Validation -  [0.4378858024691358, 0.2505144032921811, 0.687401961718234, 0.4378858024691358, tensor(1.2782)]\n",
      "\n",
      "Epoch  801\n"
     ]
    },
    {
     "name": "stderr",
     "output_type": "stream",
     "text": [
      "81it [00:01, 41.45it/s]"
     ]
    },
    {
     "name": "stdout",
     "output_type": "stream",
     "text": [
      "['acc', 'kappa', 'auc', 'fmeasure', 'loss']\n",
      "Training Loss  1.250205600703204\n"
     ]
    },
    {
     "name": "stderr",
     "output_type": "stream",
     "text": [
      "\n"
     ]
    },
    {
     "name": "stdout",
     "output_type": "stream",
     "text": [
      "Train -  [0.47337962962962965, 0.2978395061728395, 0.7166689687801655, 0.47337962962962965, tensor(1.2502)]\n",
      "Validation -  [0.4378858024691358, 0.2505144032921811, 0.687393428021643, 0.4378858024691358, tensor(1.2782)]\n",
      "\n",
      "Epoch  802\n"
     ]
    },
    {
     "name": "stderr",
     "output_type": "stream",
     "text": [
      "81it [00:01, 42.03it/s]"
     ]
    },
    {
     "name": "stdout",
     "output_type": "stream",
     "text": [
      "['acc', 'kappa', 'auc', 'fmeasure', 'loss']\n",
      "Training Loss  1.2502134582142772\n"
     ]
    },
    {
     "name": "stderr",
     "output_type": "stream",
     "text": [
      "\n"
     ]
    },
    {
     "name": "stdout",
     "output_type": "stream",
     "text": [
      "Train -  [0.4729938271604938, 0.2973251028806584, 0.716670060299497, 0.4729938271604938, tensor(1.2502)]\n",
      "Validation -  [0.4378858024691358, 0.2505144032921811, 0.6873960079764265, 0.4378858024691358, tensor(1.2782)]\n",
      "\n",
      "Epoch  803\n"
     ]
    },
    {
     "name": "stderr",
     "output_type": "stream",
     "text": [
      "81it [00:01, 41.30it/s]"
     ]
    },
    {
     "name": "stdout",
     "output_type": "stream",
     "text": [
      "['acc', 'kappa', 'auc', 'fmeasure', 'loss']\n",
      "Training Loss  1.2502145958535464\n"
     ]
    },
    {
     "name": "stderr",
     "output_type": "stream",
     "text": [
      "\n"
     ]
    },
    {
     "name": "stdout",
     "output_type": "stream",
     "text": [
      "Train -  [0.47337962962962965, 0.2978395061728395, 0.7166663888253823, 0.47337962962962965, tensor(1.2502)]\n",
      "Validation -  [0.4378858024691358, 0.2505144032921811, 0.6873985879312097, 0.4378858024691358, tensor(1.2782)]\n",
      "\n",
      "Epoch  804\n"
     ]
    },
    {
     "name": "stderr",
     "output_type": "stream",
     "text": [
      "81it [00:01, 41.98it/s]"
     ]
    },
    {
     "name": "stdout",
     "output_type": "stream",
     "text": [
      "['acc', 'kappa', 'auc', 'fmeasure', 'loss']\n",
      "Training Loss  1.2502072711049774\n"
     ]
    },
    {
     "name": "stderr",
     "output_type": "stream",
     "text": [
      "\n"
     ]
    },
    {
     "name": "stdout",
     "output_type": "stream",
     "text": [
      "Train -  [0.47337962962962965, 0.2978395061728395, 0.7166620227480567, 0.47337962962962965, tensor(1.2502)]\n",
      "Validation -  [0.4378858024691358, 0.2505144032921811, 0.6873866804475943, 0.4378858024691358, tensor(1.2783)]\n",
      "\n",
      "Epoch  805\n"
     ]
    },
    {
     "name": "stderr",
     "output_type": "stream",
     "text": [
      "81it [00:02, 38.41it/s]"
     ]
    },
    {
     "name": "stdout",
     "output_type": "stream",
     "text": [
      "['acc', 'kappa', 'auc', 'fmeasure', 'loss']\n",
      "Training Loss  1.2502039980005335\n"
     ]
    },
    {
     "name": "stderr",
     "output_type": "stream",
     "text": [
      "\n"
     ]
    },
    {
     "name": "stdout",
     "output_type": "stream",
     "text": [
      "Train -  [0.47337962962962965, 0.2978395061728395, 0.71666460270284, 0.47337962962962965, tensor(1.2502)]\n",
      "Validation -  [0.4378858024691358, 0.2505144032921811, 0.6873954126022457, 0.4378858024691358, tensor(1.2782)]\n",
      "\n",
      "Epoch  806\n"
     ]
    },
    {
     "name": "stderr",
     "output_type": "stream",
     "text": [
      "81it [00:02, 38.59it/s]"
     ]
    },
    {
     "name": "stdout",
     "output_type": "stream",
     "text": [
      "['acc', 'kappa', 'auc', 'fmeasure', 'loss']\n",
      "Training Loss  1.2502048354089996\n"
     ]
    },
    {
     "name": "stderr",
     "output_type": "stream",
     "text": [
      "\n"
     ]
    },
    {
     "name": "stdout",
     "output_type": "stream",
     "text": [
      "Train -  [0.47337962962962965, 0.2978395061728395, 0.7166671826576233, 0.47337962962962965, tensor(1.2502)]\n",
      "Validation -  [0.4378858024691358, 0.2505144032921811, 0.6873912449829802, 0.4378858024691358, tensor(1.2782)]\n",
      "\n",
      "Epoch  807\n"
     ]
    },
    {
     "name": "stderr",
     "output_type": "stream",
     "text": [
      "81it [00:01, 41.94it/s]"
     ]
    },
    {
     "name": "stdout",
     "output_type": "stream",
     "text": [
      "['acc', 'kappa', 'auc', 'fmeasure', 'loss']\n",
      "Training Loss  1.2502078421321916\n"
     ]
    },
    {
     "name": "stderr",
     "output_type": "stream",
     "text": [
      "\n"
     ]
    },
    {
     "name": "stdout",
     "output_type": "stream",
     "text": [
      "Train -  [0.47337962962962965, 0.2978395061728395, 0.7166651980770208, 0.47337962962962965, tensor(1.2502)]\n",
      "Validation -  [0.4378858024691358, 0.2505144032921811, 0.6873908480668598, 0.4378858024691358, tensor(1.2782)]\n",
      "\n",
      "Epoch  808\n"
     ]
    },
    {
     "name": "stderr",
     "output_type": "stream",
     "text": [
      "81it [00:02, 38.50it/s]"
     ]
    },
    {
     "name": "stdout",
     "output_type": "stream",
     "text": [
      "['acc', 'kappa', 'auc', 'fmeasure', 'loss']\n",
      "Training Loss  1.2502084484806768\n"
     ]
    },
    {
     "name": "stderr",
     "output_type": "stream",
     "text": [
      "\n"
     ]
    },
    {
     "name": "stdout",
     "output_type": "stream",
     "text": [
      "Train -  [0.47337962962962965, 0.2978395061728395, 0.7166648011609003, 0.47337962962962965, tensor(1.2502)]\n",
      "Validation -  [0.4378858024691358, 0.2505144032921811, 0.6873878711959559, 0.4378858024691358, tensor(1.2782)]\n",
      "\n",
      "Epoch  809\n"
     ]
    },
    {
     "name": "stderr",
     "output_type": "stream",
     "text": [
      "81it [00:02, 40.01it/s]"
     ]
    },
    {
     "name": "stdout",
     "output_type": "stream",
     "text": [
      "['acc', 'kappa', 'auc', 'fmeasure', 'loss']\n",
      "Training Loss  1.2502062129385678\n"
     ]
    },
    {
     "name": "stderr",
     "output_type": "stream",
     "text": [
      "\n"
     ]
    },
    {
     "name": "stdout",
     "output_type": "stream",
     "text": [
      "Train -  [0.47337962962962965, 0.2978395061728395, 0.7166610304577554, 0.47337962962962965, tensor(1.2502)]\n",
      "Validation -  [0.4378858024691358, 0.2505144032921811, 0.687391840357161, 0.4378858024691358, tensor(1.2783)]\n",
      "\n",
      "Epoch  810\n"
     ]
    },
    {
     "name": "stderr",
     "output_type": "stream",
     "text": [
      "81it [00:02, 40.33it/s]"
     ]
    },
    {
     "name": "stdout",
     "output_type": "stream",
     "text": [
      "['acc', 'kappa', 'auc', 'fmeasure', 'loss']\n",
      "Training Loss  1.2502058803299327\n"
     ]
    },
    {
     "name": "stderr",
     "output_type": "stream",
     "text": [
      "\n"
     ]
    },
    {
     "name": "stdout",
     "output_type": "stream",
     "text": [
      "Train -  [0.47337962962962965, 0.2978395061728395, 0.7166620227480568, 0.47337962962962965, tensor(1.2502)]\n",
      "Validation -  [0.4378858024691358, 0.2505144032921811, 0.6873940233958238, 0.4378858024691358, tensor(1.2782)]\n",
      "\n",
      "Epoch  811\n"
     ]
    },
    {
     "name": "stderr",
     "output_type": "stream",
     "text": [
      "81it [00:02, 39.91it/s]"
     ]
    },
    {
     "name": "stdout",
     "output_type": "stream",
     "text": [
      "['acc', 'kappa', 'auc', 'fmeasure', 'loss']\n",
      "Training Loss  1.2502034564077118\n"
     ]
    },
    {
     "name": "stderr",
     "output_type": "stream",
     "text": [
      "\n"
     ]
    },
    {
     "name": "stdout",
     "output_type": "stream",
     "text": [
      "Train -  [0.47337962962962965, 0.2978395061728395, 0.7166671826576233, 0.47337962962962965, tensor(1.2502)]\n",
      "Validation -  [0.4378858024691358, 0.2505144032921811, 0.6873983894731495, 0.4378858024691358, tensor(1.2782)]\n",
      "\n",
      "Epoch  812\n"
     ]
    },
    {
     "name": "stderr",
     "output_type": "stream",
     "text": [
      "81it [00:02, 38.21it/s]"
     ]
    },
    {
     "name": "stdout",
     "output_type": "stream",
     "text": [
      "['acc', 'kappa', 'auc', 'fmeasure', 'loss']\n",
      "Training Loss  1.2502052916420832\n"
     ]
    },
    {
     "name": "stderr",
     "output_type": "stream",
     "text": [
      "\n"
     ]
    },
    {
     "name": "stdout",
     "output_type": "stream",
     "text": [
      "Train -  [0.47337962962962965, 0.2978395061728395, 0.7166640073286592, 0.47337962962962965, tensor(1.2502)]\n",
      "Validation -  [0.4378858024691358, 0.2505144032921811, 0.6873968018086674, 0.4378858024691358, tensor(1.2782)]\n",
      "\n",
      "Epoch  813\n"
     ]
    },
    {
     "name": "stderr",
     "output_type": "stream",
     "text": [
      "81it [00:01, 44.12it/s]"
     ]
    },
    {
     "name": "stdout",
     "output_type": "stream",
     "text": [
      "['acc', 'kappa', 'auc', 'fmeasure', 'loss']\n",
      "Training Loss  1.2502079377939672\n"
     ]
    },
    {
     "name": "stderr",
     "output_type": "stream",
     "text": [
      "\n"
     ]
    },
    {
     "name": "stdout",
     "output_type": "stream",
     "text": [
      "Train -  [0.47337962962962965, 0.2978395061728395, 0.7166632134964181, 0.47337962962962965, tensor(1.2502)]\n",
      "Validation -  [0.4378858024691358, 0.2505144032921811, 0.6873940233958238, 0.4378858024691358, tensor(1.2783)]\n",
      "\n",
      "Epoch  814\n"
     ]
    },
    {
     "name": "stderr",
     "output_type": "stream",
     "text": [
      "81it [00:02, 39.87it/s]"
     ]
    },
    {
     "name": "stdout",
     "output_type": "stream",
     "text": [
      "['acc', 'kappa', 'auc', 'fmeasure', 'loss']\n",
      "Training Loss  1.2502070444601554\n"
     ]
    },
    {
     "name": "stderr",
     "output_type": "stream",
     "text": [
      "\n"
     ]
    },
    {
     "name": "stdout",
     "output_type": "stream",
     "text": [
      "Train -  [0.4729938271604938, 0.2973251028806584, 0.7166643050157495, 0.4729938271604938, tensor(1.2502)]\n",
      "Validation -  [0.4378858024691358, 0.2505144032921811, 0.6873966033506071, 0.4378858024691358, tensor(1.2782)]\n",
      "\n",
      "Epoch  815\n"
     ]
    },
    {
     "name": "stderr",
     "output_type": "stream",
     "text": [
      "81it [00:02, 38.74it/s]"
     ]
    },
    {
     "name": "stdout",
     "output_type": "stream",
     "text": [
      "['acc', 'kappa', 'auc', 'fmeasure', 'loss']\n",
      "Training Loss  1.2502072431423046\n"
     ]
    },
    {
     "name": "stderr",
     "output_type": "stream",
     "text": [
      "\n"
     ]
    },
    {
     "name": "stdout",
     "output_type": "stream",
     "text": [
      "Train -  [0.47337962962962965, 0.2978395061728395, 0.7166640073286592, 0.47337962962962965, tensor(1.2502)]\n",
      "Validation -  [0.4378858024691358, 0.2505144032921811, 0.687395015686125, 0.4378858024691358, tensor(1.2782)]\n",
      "\n",
      "Epoch  816\n"
     ]
    },
    {
     "name": "stderr",
     "output_type": "stream",
     "text": [
      "81it [00:02, 39.59it/s]"
     ]
    },
    {
     "name": "stdout",
     "output_type": "stream",
     "text": [
      "['acc', 'kappa', 'auc', 'fmeasure', 'loss']\n",
      "Training Loss  1.250206842834567\n"
     ]
    },
    {
     "name": "stderr",
     "output_type": "stream",
     "text": [
      "\n"
     ]
    },
    {
     "name": "stdout",
     "output_type": "stream",
     "text": [
      "Train -  [0.47337962962962965, 0.2978395061728395, 0.7166655949931413, 0.47337962962962965, tensor(1.2502)]\n",
      "Validation -  [0.4378858024691358, 0.2505144032921811, 0.6873890619443175, 0.4378858024691358, tensor(1.2782)]\n",
      "\n",
      "Epoch  817\n"
     ]
    },
    {
     "name": "stderr",
     "output_type": "stream",
     "text": [
      "81it [00:01, 41.78it/s]"
     ]
    },
    {
     "name": "stdout",
     "output_type": "stream",
     "text": [
      "['acc', 'kappa', 'auc', 'fmeasure', 'loss']\n",
      "Training Loss  1.2502100305792727\n"
     ]
    },
    {
     "name": "stderr",
     "output_type": "stream",
     "text": [
      "\n"
     ]
    },
    {
     "name": "stdout",
     "output_type": "stream",
     "text": [
      "Train -  [0.47337962962962965, 0.2978395061728395, 0.7166612289158156, 0.47337962962962965, tensor(1.2502)]\n",
      "Validation -  [0.4378858024691358, 0.2505144032921811, 0.6873896573184982, 0.4378858024691358, tensor(1.2783)]\n",
      "\n",
      "Epoch  818\n"
     ]
    },
    {
     "name": "stderr",
     "output_type": "stream",
     "text": [
      "81it [00:01, 40.62it/s]"
     ]
    },
    {
     "name": "stdout",
     "output_type": "stream",
     "text": [
      "['acc', 'kappa', 'auc', 'fmeasure', 'loss']\n",
      "Training Loss  1.2502081217589203\n"
     ]
    },
    {
     "name": "stderr",
     "output_type": "stream",
     "text": [
      "\n"
     ]
    },
    {
     "name": "stdout",
     "output_type": "stream",
     "text": [
      "Train -  [0.47337962962962965, 0.2978395061728395, 0.7166659919092617, 0.47337962962962965, tensor(1.2502)]\n",
      "Validation -  [0.4378858024691358, 0.2505144032921811, 0.6873985879312097, 0.4378858024691358, tensor(1.2782)]\n",
      "\n",
      "Epoch  819\n"
     ]
    },
    {
     "name": "stderr",
     "output_type": "stream",
     "text": [
      "81it [00:02, 40.19it/s]"
     ]
    },
    {
     "name": "stdout",
     "output_type": "stream",
     "text": [
      "['acc', 'kappa', 'auc', 'fmeasure', 'loss']\n",
      "Training Loss  1.250208185042864\n"
     ]
    },
    {
     "name": "stderr",
     "output_type": "stream",
     "text": [
      "\n"
     ]
    },
    {
     "name": "stdout",
     "output_type": "stream",
     "text": [
      "Train -  [0.47337962962962965, 0.2978395061728395, 0.7166655949931413, 0.47337962962962965, tensor(1.2502)]\n",
      "Validation -  [0.4378858024691358, 0.2505144032921811, 0.6873940233958238, 0.4378858024691358, tensor(1.2782)]\n",
      "\n",
      "Epoch  820\n"
     ]
    },
    {
     "name": "stderr",
     "output_type": "stream",
     "text": [
      "81it [00:02, 39.01it/s]"
     ]
    },
    {
     "name": "stdout",
     "output_type": "stream",
     "text": [
      "['acc', 'kappa', 'auc', 'fmeasure', 'loss']\n",
      "Training Loss  1.2502074432961734\n"
     ]
    },
    {
     "name": "stderr",
     "output_type": "stream",
     "text": [
      "\n"
     ]
    },
    {
     "name": "stdout",
     "output_type": "stream",
     "text": [
      "Train -  [0.47337962962962965, 0.2978395061728395, 0.7166671826576233, 0.47337962962962965, tensor(1.2502)]\n",
      "Validation -  [0.4378858024691358, 0.2505144032921811, 0.687391840357161, 0.4378858024691358, tensor(1.2782)]\n",
      "\n",
      "Epoch  821\n"
     ]
    },
    {
     "name": "stderr",
     "output_type": "stream",
     "text": [
      "81it [00:02, 37.96it/s]"
     ]
    },
    {
     "name": "stdout",
     "output_type": "stream",
     "text": [
      "['acc', 'kappa', 'auc', 'fmeasure', 'loss']\n",
      "Training Loss  1.2502031090818806\n"
     ]
    },
    {
     "name": "stderr",
     "output_type": "stream",
     "text": [
      "\n"
     ]
    },
    {
     "name": "stdout",
     "output_type": "stream",
     "text": [
      "Train -  [0.47337962962962965, 0.2978395061728395, 0.7166699610704668, 0.47337962962962965, tensor(1.2502)]\n",
      "Validation -  [0.4378858024691358, 0.2505144032921811, 0.6873976948699385, 0.4378858024691358, tensor(1.2782)]\n",
      "\n",
      "Epoch  822\n"
     ]
    },
    {
     "name": "stderr",
     "output_type": "stream",
     "text": [
      "81it [00:02, 40.05it/s]"
     ]
    },
    {
     "name": "stdout",
     "output_type": "stream",
     "text": [
      "['acc', 'kappa', 'auc', 'fmeasure', 'loss']\n",
      "Training Loss  1.2502054932676716\n"
     ]
    },
    {
     "name": "stderr",
     "output_type": "stream",
     "text": [
      "\n"
     ]
    },
    {
     "name": "stdout",
     "output_type": "stream",
     "text": [
      "Train -  [0.47337962962962965, 0.2978395061728395, 0.7166691672382258, 0.47337962962962965, tensor(1.2502)]\n",
      "Validation -  [0.4378858024691358, 0.2505144032921811, 0.6873958095183661, 0.4378858024691358, tensor(1.2782)]\n",
      "\n",
      "Epoch  823\n"
     ]
    },
    {
     "name": "stderr",
     "output_type": "stream",
     "text": [
      "81it [00:02, 39.21it/s]"
     ]
    },
    {
     "name": "stdout",
     "output_type": "stream",
     "text": [
      "['acc', 'kappa', 'auc', 'fmeasure', 'loss']\n",
      "Training Loss  1.2502027543974512\n"
     ]
    },
    {
     "name": "stderr",
     "output_type": "stream",
     "text": [
      "\n"
     ]
    },
    {
     "name": "stdout",
     "output_type": "stream",
     "text": [
      "Train -  [0.47337962962962965, 0.2978395061728395, 0.7166650988479906, 0.47337962962962965, tensor(1.2502)]\n",
      "Validation -  [0.4378858024691358, 0.2505144032921811, 0.68739104652492, 0.4378858024691358, tensor(1.2782)]\n",
      "\n",
      "Epoch  824\n"
     ]
    },
    {
     "name": "stderr",
     "output_type": "stream",
     "text": [
      "81it [00:02, 39.37it/s]"
     ]
    },
    {
     "name": "stdout",
     "output_type": "stream",
     "text": [
      "['acc', 'kappa', 'auc', 'fmeasure', 'loss']\n",
      "Training Loss  1.2502062615053153\n"
     ]
    },
    {
     "name": "stderr",
     "output_type": "stream",
     "text": [
      "\n"
     ]
    },
    {
     "name": "stdout",
     "output_type": "stream",
     "text": [
      "Train -  [0.47337962962962965, 0.2978395061728395, 0.7166634119544785, 0.47337962962962965, tensor(1.2502)]\n",
      "Validation -  [0.4378858024691358, 0.2505144032921811, 0.6873898557765583, 0.4378858024691358, tensor(1.2782)]\n",
      "\n",
      "Epoch  825\n"
     ]
    },
    {
     "name": "stderr",
     "output_type": "stream",
     "text": [
      "81it [00:01, 42.25it/s]"
     ]
    },
    {
     "name": "stdout",
     "output_type": "stream",
     "text": [
      "['acc', 'kappa', 'auc', 'fmeasure', 'loss']\n",
      "Training Loss  1.250208522066658\n"
     ]
    },
    {
     "name": "stderr",
     "output_type": "stream",
     "text": [
      "\n"
     ]
    },
    {
     "name": "stdout",
     "output_type": "stream",
     "text": [
      "Train -  [0.47337962962962965, 0.2978395061728395, 0.7166630150383579, 0.47337962962962965, tensor(1.2502)]\n",
      "Validation -  [0.4378858024691358, 0.2505144032921811, 0.6873870773637147, 0.4378858024691358, tensor(1.2783)]\n",
      "\n",
      "Epoch  826\n"
     ]
    },
    {
     "name": "stderr",
     "output_type": "stream",
     "text": [
      "81it [00:02, 40.09it/s]"
     ]
    },
    {
     "name": "stdout",
     "output_type": "stream",
     "text": [
      "['acc', 'kappa', 'auc', 'fmeasure', 'loss']\n",
      "Training Loss  1.2502057066670171\n"
     ]
    },
    {
     "name": "stderr",
     "output_type": "stream",
     "text": [
      "\n"
     ]
    },
    {
     "name": "stdout",
     "output_type": "stream",
     "text": [
      "Train -  [0.47337962962962965, 0.2978395061728395, 0.7166697626124067, 0.47337962962962965, tensor(1.2502)]\n",
      "Validation -  [0.4378858024691358, 0.2505144032921811, 0.6873960079764263, 0.4378858024691358, tensor(1.2782)]\n",
      "\n",
      "Epoch  827\n"
     ]
    },
    {
     "name": "stderr",
     "output_type": "stream",
     "text": [
      "81it [00:02, 40.02it/s]"
     ]
    },
    {
     "name": "stdout",
     "output_type": "stream",
     "text": [
      "['acc', 'kappa', 'auc', 'fmeasure', 'loss']\n",
      "Training Loss  1.250204466007374\n"
     ]
    },
    {
     "name": "stderr",
     "output_type": "stream",
     "text": [
      "\n"
     ]
    },
    {
     "name": "stdout",
     "output_type": "stream",
     "text": [
      "Train -  [0.47337962962962965, 0.2978395061728395, 0.7166649996189605, 0.47337962962962965, tensor(1.2502)]\n",
      "Validation -  [0.4378858024691358, 0.2505144032921811, 0.6873908480668598, 0.4378858024691358, tensor(1.2782)]\n",
      "\n",
      "Epoch  828\n"
     ]
    },
    {
     "name": "stderr",
     "output_type": "stream",
     "text": [
      "81it [00:02, 39.79it/s]"
     ]
    },
    {
     "name": "stdout",
     "output_type": "stream",
     "text": [
      "['acc', 'kappa', 'auc', 'fmeasure', 'loss']\n",
      "Training Loss  1.2502040200763278\n"
     ]
    },
    {
     "name": "stderr",
     "output_type": "stream",
     "text": [
      "\n"
     ]
    },
    {
     "name": "stdout",
     "output_type": "stream",
     "text": [
      "Train -  [0.47337962962962965, 0.2978395061728395, 0.7166683734059849, 0.47337962962962965, tensor(1.2502)]\n",
      "Validation -  [0.4378858024691358, 0.2505144032921811, 0.68739104652492, 0.4378858024691358, tensor(1.2782)]\n",
      "\n",
      "Epoch  829\n"
     ]
    },
    {
     "name": "stderr",
     "output_type": "stream",
     "text": [
      "81it [00:02, 39.58it/s]"
     ]
    },
    {
     "name": "stdout",
     "output_type": "stream",
     "text": [
      "['acc', 'kappa', 'auc', 'fmeasure', 'loss']\n",
      "Training Loss  1.2502087928630687\n"
     ]
    },
    {
     "name": "stderr",
     "output_type": "stream",
     "text": [
      "\n"
     ]
    },
    {
     "name": "stdout",
     "output_type": "stream",
     "text": [
      "Train -  [0.47337962962962965, 0.2978395061728395, 0.7166679764898642, 0.47337962962962965, tensor(1.2502)]\n",
      "Validation -  [0.4378858024691358, 0.2505144032921811, 0.6873908480668596, 0.4378858024691358, tensor(1.2782)]\n",
      "\n",
      "Epoch  830\n"
     ]
    },
    {
     "name": "stderr",
     "output_type": "stream",
     "text": [
      "81it [00:02, 39.51it/s]"
     ]
    },
    {
     "name": "stdout",
     "output_type": "stream",
     "text": [
      "['acc', 'kappa', 'auc', 'fmeasure', 'loss']\n",
      "Training Loss  1.2502046278965326\n"
     ]
    },
    {
     "name": "stderr",
     "output_type": "stream",
     "text": [
      "\n"
     ]
    },
    {
     "name": "stdout",
     "output_type": "stream",
     "text": [
      "Train -  [0.47337962962962965, 0.2978395061728395, 0.7166659919092617, 0.47337962962962965, tensor(1.2502)]\n",
      "Validation -  [0.4378858024691358, 0.2505144032921811, 0.6874011678859929, 0.4378858024691358, tensor(1.2782)]\n",
      "\n",
      "Epoch  831\n"
     ]
    },
    {
     "name": "stderr",
     "output_type": "stream",
     "text": [
      "81it [00:02, 38.84it/s]"
     ]
    },
    {
     "name": "stdout",
     "output_type": "stream",
     "text": [
      "['acc', 'kappa', 'auc', 'fmeasure', 'loss']\n",
      "Training Loss  1.250205659571989\n"
     ]
    },
    {
     "name": "stderr",
     "output_type": "stream",
     "text": [
      "\n"
     ]
    },
    {
     "name": "stdout",
     "output_type": "stream",
     "text": [
      "Train -  [0.47337962962962965, 0.2978395061728395, 0.7166663888253823, 0.47337962962962965, tensor(1.2502)]\n",
      "Validation -  [0.4378858024691358, 0.2505144032921811, 0.6873976948699385, 0.4378858024691358, tensor(1.2782)]\n",
      "\n",
      "Epoch  832\n"
     ]
    },
    {
     "name": "stderr",
     "output_type": "stream",
     "text": [
      "81it [00:01, 40.95it/s]"
     ]
    },
    {
     "name": "stdout",
     "output_type": "stream",
     "text": [
      "['acc', 'kappa', 'auc', 'fmeasure', 'loss']\n",
      "Training Loss  1.250205793498475\n"
     ]
    },
    {
     "name": "stderr",
     "output_type": "stream",
     "text": [
      "\n"
     ]
    },
    {
     "name": "stdout",
     "output_type": "stream",
     "text": [
      "Train -  [0.47337962962962965, 0.2978395061728395, 0.7166649996189606, 0.47337962962962965, tensor(1.2502)]\n",
      "Validation -  [0.4378858024691358, 0.2505144032921811, 0.68739104652492, 0.4378858024691358, tensor(1.2782)]\n",
      "\n",
      "Epoch  833\n"
     ]
    },
    {
     "name": "stderr",
     "output_type": "stream",
     "text": [
      "81it [00:02, 40.08it/s]"
     ]
    },
    {
     "name": "stdout",
     "output_type": "stream",
     "text": [
      "['acc', 'kappa', 'auc', 'fmeasure', 'loss']\n",
      "Training Loss  1.2502049811092424\n"
     ]
    },
    {
     "name": "stderr",
     "output_type": "stream",
     "text": [
      "\n"
     ]
    },
    {
     "name": "stdout",
     "output_type": "stream",
     "text": [
      "Train -  [0.47337962962962965, 0.2978395061728395, 0.7166667857415029, 0.47337962962962965, tensor(1.2502)]\n",
      "Validation -  [0.4378858024691358, 0.2505144032921811, 0.6873914434410404, 0.4378858024691358, tensor(1.2782)]\n",
      "\n",
      "Epoch  834\n"
     ]
    },
    {
     "name": "stderr",
     "output_type": "stream",
     "text": [
      "81it [00:01, 41.14it/s]"
     ]
    },
    {
     "name": "stdout",
     "output_type": "stream",
     "text": [
      "['acc', 'kappa', 'auc', 'fmeasure', 'loss']\n",
      "Training Loss  1.2502051238660459\n"
     ]
    },
    {
     "name": "stderr",
     "output_type": "stream",
     "text": [
      "\n"
     ]
    },
    {
     "name": "stdout",
     "output_type": "stream",
     "text": [
      "Train -  [0.47337962962962965, 0.2978395061728395, 0.716665396535081, 0.47337962962962965, tensor(1.2502)]\n",
      "Validation -  [0.4378858024691358, 0.2505144032921811, 0.6873997786795711, 0.4378858024691358, tensor(1.2782)]\n",
      "\n",
      "Epoch  835\n"
     ]
    },
    {
     "name": "stderr",
     "output_type": "stream",
     "text": [
      "81it [00:02, 37.87it/s]"
     ]
    },
    {
     "name": "stdout",
     "output_type": "stream",
     "text": [
      "['acc', 'kappa', 'auc', 'fmeasure', 'loss']\n",
      "Training Loss  1.2502051724327936\n"
     ]
    },
    {
     "name": "stderr",
     "output_type": "stream",
     "text": [
      "\n"
     ]
    },
    {
     "name": "stdout",
     "output_type": "stream",
     "text": [
      "Train -  [0.47337962962962965, 0.2978395061728395, 0.7166670834285931, 0.47337962962962965, tensor(1.2502)]\n",
      "Validation -  [0.4378858024691358, 0.2505144032921811, 0.6873918403571609, 0.4378858024691358, tensor(1.2782)]\n",
      "\n",
      "Epoch  836\n"
     ]
    },
    {
     "name": "stderr",
     "output_type": "stream",
     "text": [
      "81it [00:01, 42.18it/s]"
     ]
    },
    {
     "name": "stdout",
     "output_type": "stream",
     "text": [
      "['acc', 'kappa', 'auc', 'fmeasure', 'loss']\n",
      "Training Loss  1.250204039208683\n"
     ]
    },
    {
     "name": "stderr",
     "output_type": "stream",
     "text": [
      "\n"
     ]
    },
    {
     "name": "stdout",
     "output_type": "stream",
     "text": [
      "Train -  [0.47337962962962965, 0.2978395061728395, 0.7166702587575571, 0.47337962962962965, tensor(1.2502)]\n",
      "Validation -  [0.4378858024691358, 0.2505144032921811, 0.6873971987247879, 0.4378858024691358, tensor(1.2782)]\n",
      "\n",
      "Epoch  837\n"
     ]
    },
    {
     "name": "stderr",
     "output_type": "stream",
     "text": [
      "81it [00:01, 42.70it/s]"
     ]
    },
    {
     "name": "stdout",
     "output_type": "stream",
     "text": [
      "['acc', 'kappa', 'auc', 'fmeasure', 'loss']\n",
      "Training Loss  1.2502015946823875\n"
     ]
    },
    {
     "name": "stderr",
     "output_type": "stream",
     "text": [
      "\n"
     ]
    },
    {
     "name": "stdout",
     "output_type": "stream",
     "text": [
      "Train -  [0.47337962962962965, 0.2978395061728395, 0.7166651980770208, 0.47337962962962965, tensor(1.2502)]\n",
      "Validation -  [0.4378858024691358, 0.2505144032921811, 0.6873940233958238, 0.4378858024691358, tensor(1.2782)]\n",
      "\n",
      "Epoch  838\n"
     ]
    },
    {
     "name": "stderr",
     "output_type": "stream",
     "text": [
      "81it [00:01, 42.45it/s]"
     ]
    },
    {
     "name": "stdout",
     "output_type": "stream",
     "text": [
      "['acc', 'kappa', 'auc', 'fmeasure', 'loss']\n",
      "Training Loss  1.2502068590234827\n"
     ]
    },
    {
     "name": "stderr",
     "output_type": "stream",
     "text": [
      "\n"
     ]
    },
    {
     "name": "stdout",
     "output_type": "stream",
     "text": [
      "Train -  [0.47337962962962965, 0.2978395061728395, 0.7166646027028399, 0.47337962962962965, tensor(1.2502)]\n",
      "Validation -  [0.4378858024691358, 0.2505144032921811, 0.6873956110603059, 0.4378858024691358, tensor(1.2782)]\n",
      "\n",
      "Epoch  839\n"
     ]
    },
    {
     "name": "stderr",
     "output_type": "stream",
     "text": [
      "81it [00:01, 42.21it/s]"
     ]
    },
    {
     "name": "stdout",
     "output_type": "stream",
     "text": [
      "['acc', 'kappa', 'auc', 'fmeasure', 'loss']\n",
      "Training Loss  1.2502017433260695\n"
     ]
    },
    {
     "name": "stderr",
     "output_type": "stream",
     "text": [
      "\n"
     ]
    },
    {
     "name": "stdout",
     "output_type": "stream",
     "text": [
      "Train -  [0.47337962962962965, 0.2978395061728395, 0.7166651980770208, 0.47337962962962965, tensor(1.2502)]\n",
      "Validation -  [0.4378858024691358, 0.2505144032921811, 0.6873912449829802, 0.4378858024691358, tensor(1.2782)]\n",
      "\n",
      "Epoch  840\n"
     ]
    },
    {
     "name": "stderr",
     "output_type": "stream",
     "text": [
      "81it [00:02, 40.17it/s]"
     ]
    },
    {
     "name": "stdout",
     "output_type": "stream",
     "text": [
      "['acc', 'kappa', 'auc', 'fmeasure', 'loss']\n",
      "Training Loss  1.2502049928829995\n"
     ]
    },
    {
     "name": "stderr",
     "output_type": "stream",
     "text": [
      "\n"
     ]
    },
    {
     "name": "stdout",
     "output_type": "stream",
     "text": [
      "Train -  [0.47337962962962965, 0.2978395061728395, 0.7166697626124066, 0.47337962962962965, tensor(1.2502)]\n",
      "Validation -  [0.4378858024691358, 0.2505144032921811, 0.6873956110603059, 0.4378858024691358, tensor(1.2782)]\n",
      "\n",
      "Epoch  841\n"
     ]
    },
    {
     "name": "stderr",
     "output_type": "stream",
     "text": [
      "81it [00:02, 38.73it/s]"
     ]
    },
    {
     "name": "stdout",
     "output_type": "stream",
     "text": [
      "['acc', 'kappa', 'auc', 'fmeasure', 'loss']\n",
      "Training Loss  1.2502008293881828\n"
     ]
    },
    {
     "name": "stderr",
     "output_type": "stream",
     "text": [
      "\n"
     ]
    },
    {
     "name": "stdout",
     "output_type": "stream",
     "text": [
      "Train -  [0.47337962962962965, 0.2978395061728395, 0.7166632134964183, 0.47337962962962965, tensor(1.2502)]\n",
      "Validation -  [0.4378858024691358, 0.2505144032921811, 0.6873954126022457, 0.4378858024691358, tensor(1.2782)]\n",
      "\n",
      "Epoch  842\n"
     ]
    },
    {
     "name": "stderr",
     "output_type": "stream",
     "text": [
      "81it [00:02, 36.89it/s]"
     ]
    },
    {
     "name": "stdout",
     "output_type": "stream",
     "text": [
      "['acc', 'kappa', 'auc', 'fmeasure', 'loss']\n",
      "Training Loss  1.2502013915850791\n"
     ]
    },
    {
     "name": "stderr",
     "output_type": "stream",
     "text": [
      "\n"
     ]
    },
    {
     "name": "stdout",
     "output_type": "stream",
     "text": [
      "Train -  [0.47337962962962965, 0.2978395061728395, 0.7166669841995631, 0.47337962962962965, tensor(1.2502)]\n",
      "Validation -  [0.4378858024691358, 0.2505144032921811, 0.687394221853884, 0.4378858024691358, tensor(1.2782)]\n",
      "\n",
      "Epoch  843\n"
     ]
    },
    {
     "name": "stderr",
     "output_type": "stream",
     "text": [
      "81it [00:01, 40.78it/s]"
     ]
    },
    {
     "name": "stdout",
     "output_type": "stream",
     "text": [
      "['acc', 'kappa', 'auc', 'fmeasure', 'loss']\n",
      "Training Loss  1.2502027087741427\n"
     ]
    },
    {
     "name": "stderr",
     "output_type": "stream",
     "text": [
      "\n"
     ]
    },
    {
     "name": "stdout",
     "output_type": "stream",
     "text": [
      "Train -  [0.47337962962962965, 0.2978395061728395, 0.7166683734059848, 0.47337962962962965, tensor(1.2502)]\n",
      "Validation -  [0.4378858024691358, 0.2505144032921811, 0.6873914434410405, 0.4378858024691358, tensor(1.2782)]\n",
      "\n",
      "Epoch  844\n"
     ]
    },
    {
     "name": "stderr",
     "output_type": "stream",
     "text": [
      "81it [00:02, 38.76it/s]"
     ]
    },
    {
     "name": "stdout",
     "output_type": "stream",
     "text": [
      "['acc', 'kappa', 'auc', 'fmeasure', 'loss']\n",
      "Training Loss  1.2502012900364252\n"
     ]
    },
    {
     "name": "stderr",
     "output_type": "stream",
     "text": [
      "\n"
     ]
    },
    {
     "name": "stdout",
     "output_type": "stream",
     "text": [
      "Train -  [0.47337962962962965, 0.2978395061728395, 0.7166700602994971, 0.47337962962962965, tensor(1.2502)]\n",
      "Validation -  [0.4378858024691358, 0.2505144032921811, 0.6873990840763603, 0.4378858024691358, tensor(1.2782)]\n",
      "\n",
      "Epoch  845\n"
     ]
    },
    {
     "name": "stderr",
     "output_type": "stream",
     "text": [
      "81it [00:01, 41.14it/s]"
     ]
    },
    {
     "name": "stdout",
     "output_type": "stream",
     "text": [
      "['acc', 'kappa', 'auc', 'fmeasure', 'loss']\n",
      "Training Loss  1.2502093182669745\n"
     ]
    },
    {
     "name": "stderr",
     "output_type": "stream",
     "text": [
      "\n"
     ]
    },
    {
     "name": "stdout",
     "output_type": "stream",
     "text": [
      "Train -  [0.47337962962962965, 0.2978395061728395, 0.7166722433381598, 0.47337962962962965, tensor(1.2502)]\n",
      "Validation -  [0.4378858024691358, 0.2505144032921811, 0.6873934280216432, 0.4378858024691358, tensor(1.2782)]\n",
      "\n",
      "Epoch  846\n"
     ]
    },
    {
     "name": "stderr",
     "output_type": "stream",
     "text": [
      "81it [00:02, 40.00it/s]"
     ]
    },
    {
     "name": "stdout",
     "output_type": "stream",
     "text": [
      "['acc', 'kappa', 'auc', 'fmeasure', 'loss']\n",
      "Training Loss  1.2502027337933763\n"
     ]
    },
    {
     "name": "stderr",
     "output_type": "stream",
     "text": [
      "\n"
     ]
    },
    {
     "name": "stdout",
     "output_type": "stream",
     "text": [
      "Train -  [0.47337962962962965, 0.2978395061728395, 0.7166657934512015, 0.47337962962962965, tensor(1.2502)]\n",
      "Validation -  [0.4378858024691358, 0.2505144032921811, 0.6873928326474623, 0.4378858024691358, tensor(1.2782)]\n",
      "\n",
      "Epoch  847\n"
     ]
    },
    {
     "name": "stderr",
     "output_type": "stream",
     "text": [
      "81it [00:01, 40.97it/s]"
     ]
    },
    {
     "name": "stdout",
     "output_type": "stream",
     "text": [
      "['acc', 'kappa', 'auc', 'fmeasure', 'loss']\n",
      "Training Loss  1.250200530629099\n"
     ]
    },
    {
     "name": "stderr",
     "output_type": "stream",
     "text": [
      "\n"
     ]
    },
    {
     "name": "stdout",
     "output_type": "stream",
     "text": [
      "Train -  [0.47337962962962965, 0.2978395061728395, 0.716666984199563, 0.47337962962962965, tensor(1.2502)]\n",
      "Validation -  [0.4378858024691358, 0.2505144032921811, 0.6873904511507392, 0.4378858024691358, tensor(1.2782)]\n",
      "\n",
      "Epoch  848\n"
     ]
    },
    {
     "name": "stderr",
     "output_type": "stream",
     "text": [
      "81it [00:01, 40.67it/s]"
     ]
    },
    {
     "name": "stdout",
     "output_type": "stream",
     "text": [
      "['acc', 'kappa', 'auc', 'fmeasure', 'loss']\n",
      "Training Loss  1.2502008897286874\n"
     ]
    },
    {
     "name": "stderr",
     "output_type": "stream",
     "text": [
      "\n"
     ]
    },
    {
     "name": "stdout",
     "output_type": "stream",
     "text": [
      "Train -  [0.47337962962962965, 0.2978395061728395, 0.7166675795737438, 0.47337962962962965, tensor(1.2502)]\n",
      "Validation -  [0.4378858024691358, 0.2505144032921811, 0.6873884665701366, 0.4378858024691358, tensor(1.2782)]\n",
      "\n",
      "Epoch  849\n"
     ]
    },
    {
     "name": "stderr",
     "output_type": "stream",
     "text": [
      "81it [00:01, 42.44it/s]"
     ]
    },
    {
     "name": "stdout",
     "output_type": "stream",
     "text": [
      "['acc', 'kappa', 'auc', 'fmeasure', 'loss']\n",
      "Training Loss  1.2502075919398554\n"
     ]
    },
    {
     "name": "stderr",
     "output_type": "stream",
     "text": [
      "\n"
     ]
    },
    {
     "name": "stdout",
     "output_type": "stream",
     "text": [
      "Train -  [0.47337962962962965, 0.2978395061728395, 0.7166689687801656, 0.47337962962962965, tensor(1.2502)]\n",
      "Validation -  [0.4378858024691358, 0.2505144032921811, 0.6873909472958899, 0.4378858024691358, tensor(1.2782)]\n",
      "\n",
      "Epoch  850\n"
     ]
    },
    {
     "name": "stderr",
     "output_type": "stream",
     "text": [
      "81it [00:02, 34.31it/s]"
     ]
    },
    {
     "name": "stdout",
     "output_type": "stream",
     "text": [
      "['acc', 'kappa', 'auc', 'fmeasure', 'loss']\n",
      "Training Loss  1.2502042025695612\n"
     ]
    },
    {
     "name": "stderr",
     "output_type": "stream",
     "text": [
      "\n"
     ]
    },
    {
     "name": "stdout",
     "output_type": "stream",
     "text": [
      "Train -  [0.47337962962962965, 0.2978395061728395, 0.7166695641543464, 0.47337962962962965, tensor(1.2502)]\n",
      "Validation -  [0.4378858024691358, 0.2505144032921811, 0.6873979925570289, 0.4378858024691358, tensor(1.2782)]\n",
      "\n",
      "Epoch  851\n"
     ]
    },
    {
     "name": "stderr",
     "output_type": "stream",
     "text": [
      "81it [00:02, 35.28it/s]"
     ]
    },
    {
     "name": "stdout",
     "output_type": "stream",
     "text": [
      "['acc', 'kappa', 'auc', 'fmeasure', 'loss']\n",
      "Training Loss  1.2502014430952662\n"
     ]
    },
    {
     "name": "stderr",
     "output_type": "stream",
     "text": [
      "\n"
     ]
    },
    {
     "name": "stdout",
     "output_type": "stream",
     "text": [
      "Train -  [0.47337962962962965, 0.2978395061728395, 0.7166648011609004, 0.47337962962962965, tensor(1.2502)]\n",
      "Validation -  [0.4378858024691358, 0.2505144032921811, 0.687390252692679, 0.4378858024691358, tensor(1.2782)]\n",
      "\n",
      "Epoch  852\n"
     ]
    },
    {
     "name": "stderr",
     "output_type": "stream",
     "text": [
      "81it [00:02, 35.48it/s]"
     ]
    },
    {
     "name": "stdout",
     "output_type": "stream",
     "text": [
      "['acc', 'kappa', 'auc', 'fmeasure', 'loss']\n",
      "Training Loss  1.2502002804367631\n"
     ]
    },
    {
     "name": "stderr",
     "output_type": "stream",
     "text": [
      "\n"
     ]
    },
    {
     "name": "stdout",
     "output_type": "stream",
     "text": [
      "Train -  [0.47337962962962965, 0.2978395061728395, 0.716665396535081, 0.47337962962962965, tensor(1.2502)]\n",
      "Validation -  [0.4378858024691358, 0.2505144032921811, 0.6873928326474622, 0.4378858024691358, tensor(1.2782)]\n",
      "\n",
      "Epoch  853\n"
     ]
    },
    {
     "name": "stderr",
     "output_type": "stream",
     "text": [
      "81it [00:02, 32.38it/s]"
     ]
    },
    {
     "name": "stdout",
     "output_type": "stream",
     "text": [
      "['acc', 'kappa', 'auc', 'fmeasure', 'loss']\n",
      "Training Loss  1.2502019552536954\n"
     ]
    },
    {
     "name": "stderr",
     "output_type": "stream",
     "text": [
      "\n"
     ]
    },
    {
     "name": "stdout",
     "output_type": "stream",
     "text": [
      "Train -  [0.47337962962962965, 0.2978395061728395, 0.7166693656962861, 0.47337962962962965, tensor(1.2502)]\n",
      "Validation -  [0.4378858024691358, 0.2505144032921811, 0.6873983894731495, 0.4378858024691358, tensor(1.2782)]\n",
      "\n",
      "Epoch  854\n"
     ]
    },
    {
     "name": "stderr",
     "output_type": "stream",
     "text": [
      "81it [00:02, 36.69it/s]"
     ]
    },
    {
     "name": "stdout",
     "output_type": "stream",
     "text": [
      "['acc', 'kappa', 'auc', 'fmeasure', 'loss']\n",
      "Training Loss  1.250200872068052\n"
     ]
    },
    {
     "name": "stderr",
     "output_type": "stream",
     "text": [
      "\n"
     ]
    },
    {
     "name": "stdout",
     "output_type": "stream",
     "text": [
      "Train -  [0.47337962962962965, 0.2978395061728395, 0.7166655949931413, 0.47337962962962965, tensor(1.2502)]\n",
      "Validation -  [0.4378858024691358, 0.2505144032921811, 0.6873948172280647, 0.4378858024691358, tensor(1.2782)]\n",
      "\n",
      "Epoch  855\n"
     ]
    },
    {
     "name": "stderr",
     "output_type": "stream",
     "text": [
      "81it [00:01, 41.73it/s]"
     ]
    },
    {
     "name": "stdout",
     "output_type": "stream",
     "text": [
      "['acc', 'kappa', 'auc', 'fmeasure', 'loss']\n",
      "Training Loss  1.2502012753192289\n"
     ]
    },
    {
     "name": "stderr",
     "output_type": "stream",
     "text": [
      "\n"
     ]
    },
    {
     "name": "stdout",
     "output_type": "stream",
     "text": [
      "Train -  [0.47337962962962965, 0.2978395061728395, 0.716666190367322, 0.47337962962962965, tensor(1.2502)]\n",
      "Validation -  [0.4378858024691358, 0.2505144032921811, 0.6873921380442514, 0.4378858024691358, tensor(1.2783)]\n",
      "\n",
      "Epoch  856\n"
     ]
    },
    {
     "name": "stderr",
     "output_type": "stream",
     "text": [
      "81it [00:01, 41.19it/s]"
     ]
    },
    {
     "name": "stdout",
     "output_type": "stream",
     "text": [
      "['acc', 'kappa', 'auc', 'fmeasure', 'loss']\n",
      "Training Loss  1.250200738141566\n"
     ]
    },
    {
     "name": "stderr",
     "output_type": "stream",
     "text": [
      "\n"
     ]
    },
    {
     "name": "stdout",
     "output_type": "stream",
     "text": [
      "Train -  [0.47337962962962965, 0.2978395061728395, 0.7166683734059849, 0.47337962962962965, tensor(1.2502)]\n",
      "Validation -  [0.4378858024691358, 0.2505144032921811, 0.6873919395861912, 0.4378858024691358, tensor(1.2782)]\n",
      "\n",
      "Epoch  857\n"
     ]
    },
    {
     "name": "stderr",
     "output_type": "stream",
     "text": [
      "81it [00:01, 41.55it/s]"
     ]
    },
    {
     "name": "stdout",
     "output_type": "stream",
     "text": [
      "['acc', 'kappa', 'auc', 'fmeasure', 'loss']\n",
      "Training Loss  1.2502079171898923\n"
     ]
    },
    {
     "name": "stderr",
     "output_type": "stream",
     "text": [
      "\n"
     ]
    },
    {
     "name": "stdout",
     "output_type": "stream",
     "text": [
      "Train -  [0.47337962962962965, 0.2978395061728395, 0.7166685718640451, 0.47337962962962965, tensor(1.2502)]\n",
      "Validation -  [0.4378858024691358, 0.2505144032921811, 0.687390351921709, 0.4378858024691358, tensor(1.2782)]\n",
      "\n",
      "Epoch  858\n"
     ]
    },
    {
     "name": "stderr",
     "output_type": "stream",
     "text": [
      "81it [00:02, 38.90it/s]"
     ]
    },
    {
     "name": "stdout",
     "output_type": "stream",
     "text": [
      "['acc', 'kappa', 'auc', 'fmeasure', 'loss']\n",
      "Training Loss  1.2502036138817116\n"
     ]
    },
    {
     "name": "stderr",
     "output_type": "stream",
     "text": [
      "\n"
     ]
    },
    {
     "name": "stdout",
     "output_type": "stream",
     "text": [
      "Train -  [0.47337962962962965, 0.2978395061728395, 0.7166687703221053, 0.47337962962962965, tensor(1.2502)]\n",
      "Validation -  [0.4378858024691358, 0.2505144032921811, 0.6873944203119443, 0.4378858024691358, tensor(1.2782)]\n",
      "\n",
      "Epoch  859\n"
     ]
    },
    {
     "name": "stderr",
     "output_type": "stream",
     "text": [
      "81it [00:01, 41.19it/s]"
     ]
    },
    {
     "name": "stdout",
     "output_type": "stream",
     "text": [
      "['acc', 'kappa', 'auc', 'fmeasure', 'loss']\n",
      "Training Loss  1.2502007322546878\n"
     ]
    },
    {
     "name": "stderr",
     "output_type": "stream",
     "text": [
      "\n"
     ]
    },
    {
     "name": "stdout",
     "output_type": "stream",
     "text": [
      "Train -  [0.47337962962962965, 0.2978395061728395, 0.7166651980770207, 0.47337962962962965, tensor(1.2502)]\n",
      "Validation -  [0.4382716049382716, 0.2510288065843621, 0.6873944203119443, 0.4382716049382716, tensor(1.2783)]\n",
      "\n",
      "Epoch  860\n"
     ]
    },
    {
     "name": "stderr",
     "output_type": "stream",
     "text": [
      "81it [00:02, 39.99it/s]"
     ]
    },
    {
     "name": "stdout",
     "output_type": "stream",
     "text": [
      "['acc', 'kappa', 'auc', 'fmeasure', 'loss']\n",
      "Training Loss  1.2501995225011566\n"
     ]
    },
    {
     "name": "stderr",
     "output_type": "stream",
     "text": [
      "\n"
     ]
    },
    {
     "name": "stdout",
     "output_type": "stream",
     "text": [
      "Train -  [0.47337962962962965, 0.2978395061728395, 0.7166709533607682, 0.47337962962962965, tensor(1.2502)]\n",
      "Validation -  [0.4378858024691358, 0.2505144032921811, 0.6873964048925468, 0.4378858024691358, tensor(1.2782)]\n",
      "\n",
      "Epoch  861\n"
     ]
    },
    {
     "name": "stderr",
     "output_type": "stream",
     "text": [
      "81it [00:02, 40.43it/s]"
     ]
    },
    {
     "name": "stdout",
     "output_type": "stream",
     "text": [
      "['acc', 'kappa', 'auc', 'fmeasure', 'loss']\n",
      "Training Loss  1.2502013312445746\n"
     ]
    },
    {
     "name": "stderr",
     "output_type": "stream",
     "text": [
      "\n"
     ]
    },
    {
     "name": "stdout",
     "output_type": "stream",
     "text": [
      "Train -  [0.47337962962962965, 0.2978395061728395, 0.7166689687801657, 0.47337962962962965, tensor(1.2502)]\n",
      "Validation -  [0.4378858024691358, 0.2505144032921811, 0.6874015648021135, 0.4378858024691358, tensor(1.2782)]\n",
      "\n",
      "Epoch  862\n"
     ]
    },
    {
     "name": "stderr",
     "output_type": "stream",
     "text": [
      "81it [00:02, 38.76it/s]"
     ]
    },
    {
     "name": "stdout",
     "output_type": "stream",
     "text": [
      "['acc', 'kappa', 'auc', 'fmeasure', 'loss']\n",
      "Training Loss  1.2502009692015472\n"
     ]
    },
    {
     "name": "stderr",
     "output_type": "stream",
     "text": [
      "\n"
     ]
    },
    {
     "name": "stdout",
     "output_type": "stream",
     "text": [
      "Train -  [0.47337962962962965, 0.2978395061728395, 0.7166691672382258, 0.47337962962962965, tensor(1.2502)]\n",
      "Validation -  [0.4378858024691358, 0.2505144032921811, 0.6874015648021135, 0.4378858024691358, tensor(1.2782)]\n",
      "\n",
      "Epoch  863\n"
     ]
    },
    {
     "name": "stderr",
     "output_type": "stream",
     "text": [
      "81it [00:01, 41.32it/s]"
     ]
    },
    {
     "name": "stdout",
     "output_type": "stream",
     "text": [
      "['acc', 'kappa', 'auc', 'fmeasure', 'loss']\n",
      "Training Loss  1.2502017168351163\n"
     ]
    },
    {
     "name": "stderr",
     "output_type": "stream",
     "text": [
      "\n"
     ]
    },
    {
     "name": "stdout",
     "output_type": "stream",
     "text": [
      "Train -  [0.47337962962962965, 0.2978395061728395, 0.7166672818866534, 0.47337962962962965, tensor(1.2502)]\n",
      "Validation -  [0.4378858024691358, 0.2505144032921811, 0.6873912449829802, 0.4378858024691358, tensor(1.2782)]\n",
      "\n",
      "Epoch  864\n"
     ]
    },
    {
     "name": "stderr",
     "output_type": "stream",
     "text": [
      "81it [00:01, 42.05it/s]"
     ]
    },
    {
     "name": "stdout",
     "output_type": "stream",
     "text": [
      "['acc', 'kappa', 'auc', 'fmeasure', 'loss']\n",
      "Training Loss  1.250200195077025\n"
     ]
    },
    {
     "name": "stderr",
     "output_type": "stream",
     "text": [
      "\n"
     ]
    },
    {
     "name": "stdout",
     "output_type": "stream",
     "text": [
      "Train -  [0.47337962962962965, 0.2978395061728395, 0.7166682741769548, 0.47337962962962965, tensor(1.2502)]\n",
      "Validation -  [0.4378858024691358, 0.2505144032921811, 0.687395015686125, 0.4378858024691358, tensor(1.2782)]\n",
      "\n",
      "Epoch  865\n"
     ]
    },
    {
     "name": "stderr",
     "output_type": "stream",
     "text": [
      "81it [00:01, 41.72it/s]"
     ]
    },
    {
     "name": "stdout",
     "output_type": "stream",
     "text": [
      "['acc', 'kappa', 'auc', 'fmeasure', 'loss']\n",
      "Training Loss  1.2502020685761064\n"
     ]
    },
    {
     "name": "stderr",
     "output_type": "stream",
     "text": [
      "\n"
     ]
    },
    {
     "name": "stdout",
     "output_type": "stream",
     "text": [
      "Train -  [0.47337962962962965, 0.2978395061728395, 0.7166667857415028, 0.47337962962962965, tensor(1.2502)]\n",
      "Validation -  [0.4378858024691358, 0.2505144032921811, 0.6873916418991008, 0.4378858024691358, tensor(1.2782)]\n",
      "\n",
      "Epoch  866\n"
     ]
    },
    {
     "name": "stderr",
     "output_type": "stream",
     "text": [
      "81it [00:01, 43.59it/s]"
     ]
    },
    {
     "name": "stdout",
     "output_type": "stream",
     "text": [
      "['acc', 'kappa', 'auc', 'fmeasure', 'loss']\n",
      "Training Loss  1.2502028162096754\n"
     ]
    },
    {
     "name": "stderr",
     "output_type": "stream",
     "text": [
      "\n"
     ]
    },
    {
     "name": "stdout",
     "output_type": "stream",
     "text": [
      "Train -  [0.47337962962962965, 0.2978395061728395, 0.7166709533607682, 0.47337962962962965, tensor(1.2502)]\n",
      "Validation -  [0.4378858024691358, 0.2505144032921811, 0.6873966033506071, 0.4378858024691358, tensor(1.2782)]\n",
      "\n",
      "Epoch  867\n"
     ]
    },
    {
     "name": "stderr",
     "output_type": "stream",
     "text": [
      "81it [00:02, 39.43it/s]"
     ]
    },
    {
     "name": "stdout",
     "output_type": "stream",
     "text": [
      "['acc', 'kappa', 'auc', 'fmeasure', 'loss']\n",
      "Training Loss  1.2502027646994884\n"
     ]
    },
    {
     "name": "stderr",
     "output_type": "stream",
     "text": [
      "\n"
     ]
    },
    {
     "name": "stdout",
     "output_type": "stream",
     "text": [
      "Train -  [0.47337962962962965, 0.2978395061728395, 0.7166654957641112, 0.47337962962962965, tensor(1.2502)]\n",
      "Validation -  [0.4378858024691358, 0.2505144032921811, 0.6873960079764263, 0.4378858024691358, tensor(1.2782)]\n",
      "\n",
      "Epoch  868\n"
     ]
    },
    {
     "name": "stderr",
     "output_type": "stream",
     "text": [
      "81it [00:01, 40.96it/s]"
     ]
    },
    {
     "name": "stdout",
     "output_type": "stream",
     "text": [
      "['acc', 'kappa', 'auc', 'fmeasure', 'loss']\n",
      "Training Loss  1.2502013091687803\n"
     ]
    },
    {
     "name": "stderr",
     "output_type": "stream",
     "text": [
      "\n"
     ]
    },
    {
     "name": "stdout",
     "output_type": "stream",
     "text": [
      "Train -  [0.47337962962962965, 0.2978395061728395, 0.7166707549027078, 0.47337962962962965, tensor(1.2502)]\n",
      "Validation -  [0.4378858024691358, 0.2505144032921811, 0.6873997786795711, 0.4378858024691358, tensor(1.2782)]\n",
      "\n",
      "Epoch  869\n"
     ]
    },
    {
     "name": "stderr",
     "output_type": "stream",
     "text": [
      "81it [00:01, 41.87it/s]"
     ]
    },
    {
     "name": "stdout",
     "output_type": "stream",
     "text": [
      "['acc', 'kappa', 'auc', 'fmeasure', 'loss']\n",
      "Training Loss  1.2502011281472665\n"
     ]
    },
    {
     "name": "stderr",
     "output_type": "stream",
     "text": [
      "\n"
     ]
    },
    {
     "name": "stdout",
     "output_type": "stream",
     "text": [
      "Train -  [0.47337962962962965, 0.2978395061728395, 0.7166683734059849, 0.47337962962962965, tensor(1.2502)]\n",
      "Validation -  [0.4378858024691358, 0.2505144032921811, 0.6873959087473962, 0.4378858024691358, tensor(1.2782)]\n",
      "\n",
      "Epoch  870\n"
     ]
    },
    {
     "name": "stderr",
     "output_type": "stream",
     "text": [
      "81it [00:02, 38.50it/s]"
     ]
    },
    {
     "name": "stdout",
     "output_type": "stream",
     "text": [
      "['acc', 'kappa', 'auc', 'fmeasure', 'loss']\n",
      "Training Loss  1.2502008102558277\n"
     ]
    },
    {
     "name": "stderr",
     "output_type": "stream",
     "text": [
      "\n"
     ]
    },
    {
     "name": "stdout",
     "output_type": "stream",
     "text": [
      "Train -  [0.47337962962962965, 0.2978395061728395, 0.7166675795737438, 0.47337962962962965, tensor(1.2502)]\n",
      "Validation -  [0.4378858024691358, 0.2505144032921811, 0.6873940233958238, 0.4378858024691358, tensor(1.2783)]\n",
      "\n",
      "Epoch  871\n"
     ]
    },
    {
     "name": "stderr",
     "output_type": "stream",
     "text": [
      "81it [00:02, 40.42it/s]"
     ]
    },
    {
     "name": "stdout",
     "output_type": "stream",
     "text": [
      "['acc', 'kappa', 'auc', 'fmeasure', 'loss']\n",
      "Training Loss  1.250200421721847\n"
     ]
    },
    {
     "name": "stderr",
     "output_type": "stream",
     "text": [
      "\n"
     ]
    },
    {
     "name": "stdout",
     "output_type": "stream",
     "text": [
      "Train -  [0.47337962962962965, 0.2978395061728395, 0.7166690680091958, 0.47337962962962965, tensor(1.2502)]\n",
      "Validation -  [0.4378858024691358, 0.2505144032921811, 0.6873946187700046, 0.4378858024691358, tensor(1.2782)]\n",
      "\n",
      "Epoch  872\n"
     ]
    },
    {
     "name": "stderr",
     "output_type": "stream",
     "text": [
      "81it [00:01, 40.77it/s]"
     ]
    },
    {
     "name": "stdout",
     "output_type": "stream",
     "text": [
      "['acc', 'kappa', 'auc', 'fmeasure', 'loss']\n",
      "Training Loss  1.250200891200407\n"
     ]
    },
    {
     "name": "stderr",
     "output_type": "stream",
     "text": [
      "\n"
     ]
    },
    {
     "name": "stdout",
     "output_type": "stream",
     "text": [
      "Train -  [0.47337962962962965, 0.2978395061728395, 0.7166643050157496, 0.47337962962962965, tensor(1.2502)]\n",
      "Validation -  [0.4378858024691358, 0.2505144032921811, 0.6873936264797033, 0.4378858024691358, tensor(1.2783)]\n",
      "\n",
      "Epoch  873\n"
     ]
    },
    {
     "name": "stderr",
     "output_type": "stream",
     "text": [
      "81it [00:01, 41.43it/s]"
     ]
    },
    {
     "name": "stdout",
     "output_type": "stream",
     "text": [
      "['acc', 'kappa', 'auc', 'fmeasure', 'loss']\n",
      "Training Loss  1.2502083542906208\n"
     ]
    },
    {
     "name": "stderr",
     "output_type": "stream",
     "text": [
      "\n"
     ]
    },
    {
     "name": "stdout",
     "output_type": "stream",
     "text": [
      "Train -  [0.47337962962962965, 0.2978395061728395, 0.7166675795737438, 0.47337962962962965, tensor(1.2502)]\n",
      "Validation -  [0.4378858024691358, 0.2505144032921811, 0.6873989848473301, 0.4378858024691358, tensor(1.2782)]\n",
      "\n",
      "Epoch  874\n"
     ]
    },
    {
     "name": "stderr",
     "output_type": "stream",
     "text": [
      "81it [00:02, 38.40it/s]"
     ]
    },
    {
     "name": "stdout",
     "output_type": "stream",
     "text": [
      "['acc', 'kappa', 'auc', 'fmeasure', 'loss']\n",
      "Training Loss  1.2502004555713984\n"
     ]
    },
    {
     "name": "stderr",
     "output_type": "stream",
     "text": [
      "\n"
     ]
    },
    {
     "name": "stdout",
     "output_type": "stream",
     "text": [
      "Train -  [0.47337962962962965, 0.2978395061728395, 0.7166673811156835, 0.47337962962962965, tensor(1.2502)]\n",
      "Validation -  [0.4378858024691358, 0.2505144032921811, 0.6873946187700045, 0.4378858024691358, tensor(1.2782)]\n",
      "\n",
      "Epoch  875\n"
     ]
    },
    {
     "name": "stderr",
     "output_type": "stream",
     "text": [
      "81it [00:01, 42.68it/s]"
     ]
    },
    {
     "name": "stdout",
     "output_type": "stream",
     "text": [
      "['acc', 'kappa', 'auc', 'fmeasure', 'loss']\n",
      "Training Loss  1.2502012782626681\n"
     ]
    },
    {
     "name": "stderr",
     "output_type": "stream",
     "text": [
      "\n"
     ]
    },
    {
     "name": "stdout",
     "output_type": "stream",
     "text": [
      "Train -  [0.47337962962962965, 0.2978395061728395, 0.7166670834285932, 0.47337962962962965, tensor(1.2502)]\n",
      "Validation -  [0.4378858024691358, 0.2505144032921811, 0.6873971987247879, 0.4378858024691358, tensor(1.2782)]\n",
      "\n",
      "Epoch  876\n"
     ]
    },
    {
     "name": "stderr",
     "output_type": "stream",
     "text": [
      "81it [00:02, 39.75it/s]"
     ]
    },
    {
     "name": "stdout",
     "output_type": "stream",
     "text": [
      "['acc', 'kappa', 'auc', 'fmeasure', 'loss']\n",
      "Training Loss  1.250201056033005\n"
     ]
    },
    {
     "name": "stderr",
     "output_type": "stream",
     "text": [
      "\n"
     ]
    },
    {
     "name": "stdout",
     "output_type": "stream",
     "text": [
      "Train -  [0.47337962962962965, 0.2978395061728395, 0.7166689687801655, 0.47337962962962965, tensor(1.2502)]\n",
      "Validation -  [0.4378858024691358, 0.2505144032921811, 0.6873926341894019, 0.4378858024691358, tensor(1.2782)]\n",
      "\n",
      "Epoch  877\n"
     ]
    },
    {
     "name": "stderr",
     "output_type": "stream",
     "text": [
      "81it [00:02, 40.04it/s]"
     ]
    },
    {
     "name": "stdout",
     "output_type": "stream",
     "text": [
      "['acc', 'kappa', 'auc', 'fmeasure', 'loss']\n",
      "Training Loss  1.2502056669305872\n"
     ]
    },
    {
     "name": "stderr",
     "output_type": "stream",
     "text": [
      "\n"
     ]
    },
    {
     "name": "stdout",
     "output_type": "stream",
     "text": [
      "Train -  [0.47337962962962965, 0.2978395061728395, 0.7166669841995632, 0.47337962962962965, tensor(1.2502)]\n",
      "Validation -  [0.4378858024691358, 0.2505144032921811, 0.6873948172280648, 0.4378858024691358, tensor(1.2782)]\n",
      "\n",
      "Epoch  878\n"
     ]
    },
    {
     "name": "stderr",
     "output_type": "stream",
     "text": [
      "81it [00:02, 40.18it/s]"
     ]
    },
    {
     "name": "stdout",
     "output_type": "stream",
     "text": [
      "['acc', 'kappa', 'auc', 'fmeasure', 'loss']\n",
      "Training Loss  1.2502013253576962\n"
     ]
    },
    {
     "name": "stderr",
     "output_type": "stream",
     "text": [
      "\n"
     ]
    },
    {
     "name": "stdout",
     "output_type": "stream",
     "text": [
      "Train -  [0.47337962962962965, 0.2978395061728395, 0.7166667857415028, 0.47337962962962965, tensor(1.2502)]\n",
      "Validation -  [0.4378858024691358, 0.2505144032921811, 0.6873948172280648, 0.4378858024691358, tensor(1.2783)]\n",
      "\n",
      "Epoch  879\n"
     ]
    },
    {
     "name": "stderr",
     "output_type": "stream",
     "text": [
      "81it [00:01, 40.82it/s]"
     ]
    },
    {
     "name": "stdout",
     "output_type": "stream",
     "text": [
      "['acc', 'kappa', 'auc', 'fmeasure', 'loss']\n",
      "Training Loss  1.2501988690576435\n"
     ]
    },
    {
     "name": "stderr",
     "output_type": "stream",
     "text": [
      "\n"
     ]
    },
    {
     "name": "stdout",
     "output_type": "stream",
     "text": [
      "Train -  [0.47337962962962965, 0.2978395061728395, 0.7166725410252502, 0.47337962962962965, tensor(1.2502)]\n",
      "Validation -  [0.4378858024691358, 0.2505144032921811, 0.6873970002667276, 0.4378858024691358, tensor(1.2782)]\n",
      "\n",
      "Epoch  880\n"
     ]
    },
    {
     "name": "stderr",
     "output_type": "stream",
     "text": [
      "81it [00:01, 41.58it/s]"
     ]
    },
    {
     "name": "stdout",
     "output_type": "stream",
     "text": [
      "['acc', 'kappa', 'auc', 'fmeasure', 'loss']\n",
      "Training Loss  1.2502031900264599\n"
     ]
    },
    {
     "name": "stderr",
     "output_type": "stream",
     "text": [
      "\n"
     ]
    },
    {
     "name": "stdout",
     "output_type": "stream",
     "text": [
      "Train -  [0.47337962962962965, 0.2978395061728395, 0.7166759148122746, 0.47337962962962965, tensor(1.2502)]\n",
      "Validation -  [0.4382716049382716, 0.2510288065843621, 0.6873988856183001, 0.4382716049382716, tensor(1.2782)]\n",
      "\n",
      "Epoch  881\n"
     ]
    },
    {
     "name": "stderr",
     "output_type": "stream",
     "text": [
      "81it [00:02, 37.72it/s]"
     ]
    },
    {
     "name": "stdout",
     "output_type": "stream",
     "text": [
      "['acc', 'kappa', 'auc', 'fmeasure', 'loss']\n",
      "Training Loss  1.2501983922204853\n"
     ]
    },
    {
     "name": "stderr",
     "output_type": "stream",
     "text": [
      "\n"
     ]
    },
    {
     "name": "stdout",
     "output_type": "stream",
     "text": [
      "Train -  [0.47337962962962965, 0.2978395061728395, 0.7166687703221054, 0.47337962962962965, tensor(1.2502)]\n",
      "Validation -  [0.4378858024691358, 0.2505144032921811, 0.6873944203119443, 0.4378858024691358, tensor(1.2782)]\n",
      "\n",
      "Epoch  882\n"
     ]
    },
    {
     "name": "stderr",
     "output_type": "stream",
     "text": [
      "81it [00:01, 42.13it/s]"
     ]
    },
    {
     "name": "stdout",
     "output_type": "stream",
     "text": [
      "['acc', 'kappa', 'auc', 'fmeasure', 'loss']\n",
      "Training Loss  1.2501995225011566\n"
     ]
    },
    {
     "name": "stderr",
     "output_type": "stream",
     "text": [
      "\n"
     ]
    },
    {
     "name": "stdout",
     "output_type": "stream",
     "text": [
      "Train -  [0.47337962962962965, 0.2978395061728395, 0.7166695641543464, 0.47337962962962965, tensor(1.2502)]\n",
      "Validation -  [0.4378858024691358, 0.2505144032921811, 0.6873991833053904, 0.4378858024691358, tensor(1.2782)]\n",
      "\n",
      "Epoch  883\n"
     ]
    },
    {
     "name": "stderr",
     "output_type": "stream",
     "text": [
      "81it [00:02, 39.90it/s]"
     ]
    },
    {
     "name": "stdout",
     "output_type": "stream",
     "text": [
      "['acc', 'kappa', 'auc', 'fmeasure', 'loss']\n",
      "Training Loss  1.2502001877184268\n"
     ]
    },
    {
     "name": "stderr",
     "output_type": "stream",
     "text": [
      "\n"
     ]
    },
    {
     "name": "stdout",
     "output_type": "stream",
     "text": [
      "Train -  [0.47337962962962965, 0.2978395061728395, 0.7166717471930092, 0.47337962962962965, tensor(1.2502)]\n",
      "Validation -  [0.4378858024691358, 0.2505144032921811, 0.687401961718234, 0.4378858024691358, tensor(1.2782)]\n",
      "\n",
      "Epoch  884\n"
     ]
    },
    {
     "name": "stderr",
     "output_type": "stream",
     "text": [
      "81it [00:02, 39.82it/s]"
     ]
    },
    {
     "name": "stdout",
     "output_type": "stream",
     "text": [
      "['acc', 'kappa', 'auc', 'fmeasure', 'loss']\n",
      "Training Loss  1.2502022451824613\n"
     ]
    },
    {
     "name": "stderr",
     "output_type": "stream",
     "text": [
      "\n"
     ]
    },
    {
     "name": "stdout",
     "output_type": "stream",
     "text": [
      "Train -  [0.47337962962962965, 0.2978395061728395, 0.7166671826576234, 0.47337962962962965, tensor(1.2502)]\n",
      "Validation -  [0.4378858024691358, 0.2505144032921811, 0.6873987863892699, 0.4378858024691358, tensor(1.2782)]\n",
      "\n",
      "Epoch  885\n"
     ]
    },
    {
     "name": "stderr",
     "output_type": "stream",
     "text": [
      "81it [00:01, 42.16it/s]"
     ]
    },
    {
     "name": "stdout",
     "output_type": "stream",
     "text": [
      "['acc', 'kappa', 'auc', 'fmeasure', 'loss']\n",
      "Training Loss  1.250200766104239\n"
     ]
    },
    {
     "name": "stderr",
     "output_type": "stream",
     "text": [
      "\n"
     ]
    },
    {
     "name": "stdout",
     "output_type": "stream",
     "text": [
      "Train -  [0.47337962962962965, 0.2978395061728395, 0.7166709533607681, 0.47337962962962965, tensor(1.2502)]\n",
      "Validation -  [0.4378858024691358, 0.2505144032921811, 0.6873999771376316, 0.4378858024691358, tensor(1.2782)]\n",
      "\n",
      "Epoch  886\n"
     ]
    },
    {
     "name": "stderr",
     "output_type": "stream",
     "text": [
      "81it [00:01, 41.50it/s]"
     ]
    },
    {
     "name": "stdout",
     "output_type": "stream",
     "text": [
      "['acc', 'kappa', 'auc', 'fmeasure', 'loss']\n",
      "Training Loss  1.2501993032149326\n"
     ]
    },
    {
     "name": "stderr",
     "output_type": "stream",
     "text": [
      "\n"
     ]
    },
    {
     "name": "stdout",
     "output_type": "stream",
     "text": [
      "Train -  [0.47337962962962965, 0.2978395061728395, 0.7166660911382918, 0.47337962962962965, tensor(1.2502)]\n",
      "Validation -  [0.4378858024691358, 0.2505144032921811, 0.6873956110603058, 0.4378858024691358, tensor(1.2782)]\n",
      "\n",
      "Epoch  887\n"
     ]
    },
    {
     "name": "stderr",
     "output_type": "stream",
     "text": [
      "81it [00:01, 40.75it/s]"
     ]
    },
    {
     "name": "stdout",
     "output_type": "stream",
     "text": [
      "['acc', 'kappa', 'auc', 'fmeasure', 'loss']\n",
      "Training Loss  1.2502016520794528\n"
     ]
    },
    {
     "name": "stderr",
     "output_type": "stream",
     "text": [
      "\n"
     ]
    },
    {
     "name": "stdout",
     "output_type": "stream",
     "text": [
      "Train -  [0.47337962962962965, 0.2978395061728395, 0.7166757163542143, 0.47337962962962965, tensor(1.2502)]\n",
      "Validation -  [0.4378858024691358, 0.2505144032921811, 0.6873981910150891, 0.4378858024691358, tensor(1.2782)]\n",
      "\n",
      "Epoch  888\n"
     ]
    },
    {
     "name": "stderr",
     "output_type": "stream",
     "text": [
      "81it [00:02, 38.49it/s]"
     ]
    },
    {
     "name": "stdout",
     "output_type": "stream",
     "text": [
      "['acc', 'kappa', 'auc', 'fmeasure', 'loss']\n",
      "Training Loss  1.2501982244444483\n"
     ]
    },
    {
     "name": "stderr",
     "output_type": "stream",
     "text": [
      "\n"
     ]
    },
    {
     "name": "stdout",
     "output_type": "stream",
     "text": [
      "Train -  [0.47337962962962965, 0.2978395061728395, 0.716669961070467, 0.47337962962962965, tensor(1.2502)]\n",
      "Validation -  [0.4378858024691358, 0.2505144032921811, 0.6873944203119443, 0.4378858024691358, tensor(1.2782)]\n",
      "\n",
      "Epoch  889\n"
     ]
    },
    {
     "name": "stderr",
     "output_type": "stream",
     "text": [
      "81it [00:02, 38.35it/s]"
     ]
    },
    {
     "name": "stdout",
     "output_type": "stream",
     "text": [
      "['acc', 'kappa', 'auc', 'fmeasure', 'loss']\n",
      "Training Loss  1.2502024188453769\n"
     ]
    },
    {
     "name": "stderr",
     "output_type": "stream",
     "text": [
      "\n"
     ]
    },
    {
     "name": "stdout",
     "output_type": "stream",
     "text": [
      "Train -  [0.47337962962962965, 0.2978395061728395, 0.7166677780318041, 0.47337962962962965, tensor(1.2502)]\n",
      "Validation -  [0.4378858024691358, 0.2505144032921811, 0.6873956110603058, 0.4378858024691358, tensor(1.2782)]\n",
      "\n",
      "Epoch  890\n"
     ]
    },
    {
     "name": "stderr",
     "output_type": "stream",
     "text": [
      "81it [00:02, 38.41it/s]"
     ]
    },
    {
     "name": "stdout",
     "output_type": "stream",
     "text": [
      "['acc', 'kappa', 'auc', 'fmeasure', 'loss']\n",
      "Training Loss  1.2502007808214353\n"
     ]
    },
    {
     "name": "stderr",
     "output_type": "stream",
     "text": [
      "\n"
     ]
    },
    {
     "name": "stdout",
     "output_type": "stream",
     "text": [
      "Train -  [0.47337962962962965, 0.2978395061728395, 0.7166707549027078, 0.47337962962962965, tensor(1.2502)]\n",
      "Validation -  [0.4378858024691358, 0.2505144032921811, 0.6874017632601738, 0.4378858024691358, tensor(1.2782)]\n",
      "\n",
      "Epoch  891\n"
     ]
    },
    {
     "name": "stderr",
     "output_type": "stream",
     "text": [
      "81it [00:01, 40.99it/s]"
     ]
    },
    {
     "name": "stdout",
     "output_type": "stream",
     "text": [
      "['acc', 'kappa', 'auc', 'fmeasure', 'loss']\n",
      "Training Loss  1.2502017977796955\n"
     ]
    },
    {
     "name": "stderr",
     "output_type": "stream",
     "text": [
      "\n"
     ]
    },
    {
     "name": "stdout",
     "output_type": "stream",
     "text": [
      "Train -  [0.47337962962962965, 0.2978395061728395, 0.7166669841995631, 0.47337962962962965, tensor(1.2502)]\n",
      "Validation -  [0.4378858024691358, 0.2505144032921811, 0.687395015686125, 0.4378858024691358, tensor(1.2782)]\n",
      "\n",
      "Epoch  892\n"
     ]
    },
    {
     "name": "stderr",
     "output_type": "stream",
     "text": [
      "81it [00:01, 41.24it/s]"
     ]
    },
    {
     "name": "stdout",
     "output_type": "stream",
     "text": [
      "['acc', 'kappa', 'auc', 'fmeasure', 'loss']\n",
      "Training Loss  1.2501994165373438\n"
     ]
    },
    {
     "name": "stderr",
     "output_type": "stream",
     "text": [
      "\n"
     ]
    },
    {
     "name": "stdout",
     "output_type": "stream",
     "text": [
      "Train -  [0.47337962962962965, 0.2978395061728395, 0.7166648011609003, 0.47337962962962965, tensor(1.2502)]\n",
      "Validation -  [0.4378858024691358, 0.2505144032921811, 0.6873936264797034, 0.4378858024691358, tensor(1.2782)]\n",
      "\n",
      "Epoch  893\n"
     ]
    },
    {
     "name": "stderr",
     "output_type": "stream",
     "text": [
      "81it [00:02, 39.54it/s]"
     ]
    },
    {
     "name": "stdout",
     "output_type": "stream",
     "text": [
      "['acc', 'kappa', 'auc', 'fmeasure', 'loss']\n",
      "Training Loss  1.250198108178598\n"
     ]
    },
    {
     "name": "stderr",
     "output_type": "stream",
     "text": [
      "\n"
     ]
    },
    {
     "name": "stdout",
     "output_type": "stream",
     "text": [
      "Train -  [0.47337962962962965, 0.2978395061728395, 0.7166721441091297, 0.47337962962962965, tensor(1.2502)]\n",
      "Validation -  [0.4378858024691358, 0.2505144032921811, 0.687402755550475, 0.4378858024691358, tensor(1.2782)]\n",
      "\n",
      "Epoch  894\n"
     ]
    },
    {
     "name": "stderr",
     "output_type": "stream",
     "text": [
      "81it [00:01, 41.82it/s]"
     ]
    },
    {
     "name": "stdout",
     "output_type": "stream",
     "text": [
      "['acc', 'kappa', 'auc', 'fmeasure', 'loss']\n",
      "Training Loss  1.25019825682228\n"
     ]
    },
    {
     "name": "stderr",
     "output_type": "stream",
     "text": [
      "\n"
     ]
    },
    {
     "name": "stdout",
     "output_type": "stream",
     "text": [
      "Train -  [0.47337962962962965, 0.2978395061728395, 0.7166703579865875, 0.47337962962962965, tensor(1.2502)]\n",
      "Validation -  [0.4378858024691358, 0.2505144032921811, 0.6874036486117461, 0.4378858024691358, tensor(1.2782)]\n",
      "\n",
      "Epoch  895\n"
     ]
    },
    {
     "name": "stderr",
     "output_type": "stream",
     "text": [
      "81it [00:02, 39.43it/s]"
     ]
    },
    {
     "name": "stdout",
     "output_type": "stream",
     "text": [
      "['acc', 'kappa', 'auc', 'fmeasure', 'loss']\n",
      "Training Loss  1.2501982494636819\n"
     ]
    },
    {
     "name": "stderr",
     "output_type": "stream",
     "text": [
      "\n"
     ]
    },
    {
     "name": "stdout",
     "output_type": "stream",
     "text": [
      "Train -  [0.47337962962962965, 0.2978395061728395, 0.7166691672382258, 0.47337962962962965, tensor(1.2502)]\n",
      "Validation -  [0.4378858024691358, 0.2505144032921811, 0.6873998779086014, 0.4378858024691358, tensor(1.2782)]\n",
      "\n",
      "Epoch  896\n"
     ]
    },
    {
     "name": "stderr",
     "output_type": "stream",
     "text": [
      "81it [00:01, 42.39it/s]"
     ]
    },
    {
     "name": "stdout",
     "output_type": "stream",
     "text": [
      "['acc', 'kappa', 'auc', 'fmeasure', 'loss']\n",
      "Training Loss  1.2501984864105413\n"
     ]
    },
    {
     "name": "stderr",
     "output_type": "stream",
     "text": [
      "\n"
     ]
    },
    {
     "name": "stdout",
     "output_type": "stream",
     "text": [
      "Train -  [0.47337962962962965, 0.2978395061728395, 0.7166743271477926, 0.47337962962962965, tensor(1.2502)]\n",
      "Validation -  [0.4378858024691358, 0.2505144032921811, 0.6873993817634507, 0.4378858024691358, tensor(1.2782)]\n",
      "\n",
      "Epoch  897\n"
     ]
    },
    {
     "name": "stderr",
     "output_type": "stream",
     "text": [
      "81it [00:02, 39.24it/s]"
     ]
    },
    {
     "name": "stdout",
     "output_type": "stream",
     "text": [
      "['acc', 'kappa', 'auc', 'fmeasure', 'loss']\n",
      "Training Loss  1.2501973384692344\n"
     ]
    },
    {
     "name": "stderr",
     "output_type": "stream",
     "text": [
      "\n"
     ]
    },
    {
     "name": "stdout",
     "output_type": "stream",
     "text": [
      "Train -  [0.47337962962962965, 0.2978395061728395, 0.7166682741769547, 0.47337962962962965, tensor(1.2502)]\n",
      "Validation -  [0.4378858024691358, 0.2505144032921811, 0.6873962064344866, 0.4378858024691358, tensor(1.2782)]\n",
      "\n",
      "Epoch  898\n"
     ]
    },
    {
     "name": "stderr",
     "output_type": "stream",
     "text": [
      "81it [00:01, 40.66it/s]"
     ]
    },
    {
     "name": "stdout",
     "output_type": "stream",
     "text": [
      "['acc', 'kappa', 'auc', 'fmeasure', 'loss']\n",
      "Training Loss  1.250201721250275\n"
     ]
    },
    {
     "name": "stderr",
     "output_type": "stream",
     "text": [
      "\n"
     ]
    },
    {
     "name": "stdout",
     "output_type": "stream",
     "text": [
      "Train -  [0.47337962962962965, 0.2978395061728395, 0.7166713502768888, 0.47337962962962965, tensor(1.2502)]\n",
      "Validation -  [0.4378858024691358, 0.2505144032921811, 0.6874009694279328, 0.4378858024691358, tensor(1.2782)]\n",
      "\n",
      "Epoch  899\n"
     ]
    },
    {
     "name": "stderr",
     "output_type": "stream",
     "text": [
      "81it [00:02, 40.20it/s]"
     ]
    },
    {
     "name": "stdout",
     "output_type": "stream",
     "text": [
      "['acc', 'kappa', 'auc', 'fmeasure', 'loss']\n",
      "Training Loss  1.2501981405564297\n"
     ]
    },
    {
     "name": "stderr",
     "output_type": "stream",
     "text": [
      "\n"
     ]
    },
    {
     "name": "stdout",
     "output_type": "stream",
     "text": [
      "Train -  [0.47337962962962965, 0.2978395061728395, 0.7166747240639131, 0.47337962962962965, tensor(1.2502)]\n",
      "Validation -  [0.4378858024691358, 0.2505144032921811, 0.6873989848473302, 0.4378858024691358, tensor(1.2782)]\n",
      "\n",
      "Epoch  900\n"
     ]
    },
    {
     "name": "stderr",
     "output_type": "stream",
     "text": [
      "81it [00:02, 39.20it/s]"
     ]
    },
    {
     "name": "stdout",
     "output_type": "stream",
     "text": [
      "['acc', 'kappa', 'auc', 'fmeasure', 'loss']\n",
      "Training Loss  1.2501991795904843\n"
     ]
    },
    {
     "name": "stderr",
     "output_type": "stream",
     "text": [
      "\n"
     ]
    },
    {
     "name": "stdout",
     "output_type": "stream",
     "text": [
      "Train -  [0.47337962962962965, 0.2978395061728395, 0.7166743271477924, 0.47337962962962965, tensor(1.2502)]\n",
      "Validation -  [0.4378858024691358, 0.2505144032921811, 0.6874005725118122, 0.4378858024691358, tensor(1.2782)]\n",
      "\n",
      "Epoch  901\n"
     ]
    },
    {
     "name": "stderr",
     "output_type": "stream",
     "text": [
      "81it [00:02, 39.27it/s]"
     ]
    },
    {
     "name": "stdout",
     "output_type": "stream",
     "text": [
      "['acc', 'kappa', 'auc', 'fmeasure', 'loss']\n",
      "Training Loss  1.2501965319668804\n"
     ]
    },
    {
     "name": "stderr",
     "output_type": "stream",
     "text": [
      "\n"
     ]
    },
    {
     "name": "stdout",
     "output_type": "stream",
     "text": [
      "Train -  [0.47337962962962965, 0.2978395061728395, 0.7166711518188285, 0.47337962962962965, tensor(1.2502)]\n",
      "Validation -  [0.4378858024691358, 0.2505144032921811, 0.6874007709698725, 0.4378858024691358, tensor(1.2782)]\n",
      "\n",
      "Epoch  902\n"
     ]
    },
    {
     "name": "stderr",
     "output_type": "stream",
     "text": [
      "81it [00:01, 41.52it/s]"
     ]
    },
    {
     "name": "stdout",
     "output_type": "stream",
     "text": [
      "['acc', 'kappa', 'auc', 'fmeasure', 'loss']\n",
      "Training Loss  1.250200367268221\n"
     ]
    },
    {
     "name": "stderr",
     "output_type": "stream",
     "text": [
      "\n"
     ]
    },
    {
     "name": "stdout",
     "output_type": "stream",
     "text": [
      "Train -  [0.47337962962962965, 0.2978395061728395, 0.7166757163542143, 0.47337962962962965, tensor(1.2502)]\n",
      "Validation -  [0.4378858024691358, 0.2505144032921811, 0.6873997786795711, 0.4378858024691358, tensor(1.2782)]\n",
      "\n",
      "Epoch  903\n"
     ]
    },
    {
     "name": "stderr",
     "output_type": "stream",
     "text": [
      "81it [00:02, 39.47it/s]"
     ]
    },
    {
     "name": "stdout",
     "output_type": "stream",
     "text": [
      "['acc', 'kappa', 'auc', 'fmeasure', 'loss']\n",
      "Training Loss  1.2501995622375865\n"
     ]
    },
    {
     "name": "stderr",
     "output_type": "stream",
     "text": [
      "\n"
     ]
    },
    {
     "name": "stdout",
     "output_type": "stream",
     "text": [
      "Train -  [0.47337962962962965, 0.2978395061728395, 0.7166735333155516, 0.47337962962962965, tensor(1.2502)]\n",
      "Validation -  [0.4378858024691358, 0.2505144032921811, 0.6874053355052584, 0.4378858024691358, tensor(1.2782)]\n",
      "\n",
      "Epoch  904\n"
     ]
    },
    {
     "name": "stderr",
     "output_type": "stream",
     "text": [
      "81it [00:02, 40.08it/s]"
     ]
    },
    {
     "name": "stdout",
     "output_type": "stream",
     "text": [
      "['acc', 'kappa', 'auc', 'fmeasure', 'loss']\n",
      "Training Loss  1.250197955119757\n"
     ]
    },
    {
     "name": "stderr",
     "output_type": "stream",
     "text": [
      "\n"
     ]
    },
    {
     "name": "stdout",
     "output_type": "stream",
     "text": [
      "Train -  [0.47337962962962965, 0.2978395061728395, 0.716669961070467, 0.47337962962962965, tensor(1.2502)]\n",
      "Validation -  [0.4378858024691358, 0.2505144032921811, 0.687401267115023, 0.4378858024691358, tensor(1.2782)]\n",
      "\n",
      "Epoch  905\n"
     ]
    },
    {
     "name": "stderr",
     "output_type": "stream",
     "text": [
      "81it [00:02, 39.14it/s]"
     ]
    },
    {
     "name": "stdout",
     "output_type": "stream",
     "text": [
      "['acc', 'kappa', 'auc', 'fmeasure', 'loss']\n",
      "Training Loss  1.2501973046196833\n"
     ]
    },
    {
     "name": "stderr",
     "output_type": "stream",
     "text": [
      "\n"
     ]
    },
    {
     "name": "stdout",
     "output_type": "stream",
     "text": [
      "Train -  [0.47337962962962965, 0.2978395061728395, 0.7166701595285272, 0.47337962962962965, tensor(1.2502)]\n",
      "Validation -  [0.4378858024691358, 0.2505144032921811, 0.6874009694279326, 0.4378858024691358, tensor(1.2782)]\n",
      "\n",
      "Epoch  906\n"
     ]
    },
    {
     "name": "stderr",
     "output_type": "stream",
     "text": [
      "81it [00:02, 40.46it/s]"
     ]
    },
    {
     "name": "stdout",
     "output_type": "stream",
     "text": [
      "['acc', 'kappa', 'auc', 'fmeasure', 'loss']\n",
      "Training Loss  1.2501974429613278\n"
     ]
    },
    {
     "name": "stderr",
     "output_type": "stream",
     "text": [
      "\n"
     ]
    },
    {
     "name": "stdout",
     "output_type": "stream",
     "text": [
      "Train -  [0.47337962962962965, 0.2978395061728395, 0.7166729379413708, 0.47337962962962965, tensor(1.2502)]\n",
      "Validation -  [0.4378858024691358, 0.2505144032921811, 0.6874015648021136, 0.4378858024691358, tensor(1.2782)]\n",
      "\n",
      "Epoch  907\n"
     ]
    },
    {
     "name": "stderr",
     "output_type": "stream",
     "text": [
      "81it [00:02, 39.76it/s]"
     ]
    },
    {
     "name": "stdout",
     "output_type": "stream",
     "text": [
      "['acc', 'kappa', 'auc', 'fmeasure', 'loss']\n",
      "Training Loss  1.2501963391716098\n"
     ]
    },
    {
     "name": "stderr",
     "output_type": "stream",
     "text": [
      "\n"
     ]
    },
    {
     "name": "stdout",
     "output_type": "stream",
     "text": [
      "Train -  [0.47337962962962965, 0.2978395061728395, 0.7166675795737438, 0.47337962962962965, tensor(1.2502)]\n",
      "Validation -  [0.4378858024691358, 0.2505144032921811, 0.6873985879312097, 0.4378858024691358, tensor(1.2782)]\n",
      "\n",
      "Epoch  908\n"
     ]
    },
    {
     "name": "stderr",
     "output_type": "stream",
     "text": [
      "81it [00:02, 40.29it/s]"
     ]
    },
    {
     "name": "stdout",
     "output_type": "stream",
     "text": [
      "['acc', 'kappa', 'auc', 'fmeasure', 'loss']\n",
      "Training Loss  1.2501991854773626\n"
     ]
    },
    {
     "name": "stderr",
     "output_type": "stream",
     "text": [
      "\n"
     ]
    },
    {
     "name": "stdout",
     "output_type": "stream",
     "text": [
      "Train -  [0.47337962962962965, 0.2978395061728395, 0.716670754902708, 0.47337962962962965, tensor(1.2502)]\n",
      "Validation -  [0.4378858024691358, 0.2505144032921811, 0.6873970002667276, 0.4378858024691358, tensor(1.2782)]\n",
      "\n",
      "Epoch  909\n"
     ]
    },
    {
     "name": "stderr",
     "output_type": "stream",
     "text": [
      "81it [00:02, 40.19it/s]"
     ]
    },
    {
     "name": "stdout",
     "output_type": "stream",
     "text": [
      "['acc', 'kappa', 'auc', 'fmeasure', 'loss']\n",
      "Training Loss  1.2501976166242434\n"
     ]
    },
    {
     "name": "stderr",
     "output_type": "stream",
     "text": [
      "\n"
     ]
    },
    {
     "name": "stdout",
     "output_type": "stream",
     "text": [
      "Train -  [0.47337962962962965, 0.2978395061728395, 0.7166701595285272, 0.47337962962962965, tensor(1.2502)]\n",
      "Validation -  [0.4378858024691358, 0.2505144032921811, 0.6873977940989686, 0.4378858024691358, tensor(1.2782)]\n",
      "\n",
      "Epoch  910\n"
     ]
    },
    {
     "name": "stderr",
     "output_type": "stream",
     "text": [
      "81it [00:02, 38.40it/s]\n"
     ]
    },
    {
     "name": "stdout",
     "output_type": "stream",
     "text": [
      "['acc', 'kappa', 'auc', 'fmeasure', 'loss']\n",
      "Training Loss  1.2501975798312528\n",
      "Train -  [0.47337962962962965, 0.2978395061728395, 0.7166709533607682, 0.47337962962962965, tensor(1.2502)]\n",
      "Validation -  [0.4378858024691358, 0.2505144032921811, 0.6873966033506073, 0.4378858024691358, tensor(1.2782)]\n",
      "\n",
      "Epoch  911\n"
     ]
    },
    {
     "name": "stderr",
     "output_type": "stream",
     "text": [
      "81it [00:02, 39.60it/s]"
     ]
    },
    {
     "name": "stdout",
     "output_type": "stream",
     "text": [
      "['acc', 'kappa', 'auc', 'fmeasure', 'loss']\n",
      "Training Loss  1.2501979874975888\n"
     ]
    },
    {
     "name": "stderr",
     "output_type": "stream",
     "text": [
      "\n"
     ]
    },
    {
     "name": "stdout",
     "output_type": "stream",
     "text": [
      "Train -  [0.47337962962962965, 0.2978395061728395, 0.7166699610704669, 0.47337962962962965, tensor(1.2502)]\n",
      "Validation -  [0.4378858024691358, 0.2505144032921811, 0.687401167885993, 0.4378858024691358, tensor(1.2782)]\n",
      "\n",
      "Epoch  912\n"
     ]
    },
    {
     "name": "stderr",
     "output_type": "stream",
     "text": [
      "81it [00:02, 39.73it/s]"
     ]
    },
    {
     "name": "stdout",
     "output_type": "stream",
     "text": [
      "['acc', 'kappa', 'auc', 'fmeasure', 'loss']\n",
      "Training Loss  1.2501964451354226\n"
     ]
    },
    {
     "name": "stderr",
     "output_type": "stream",
     "text": [
      "\n"
     ]
    },
    {
     "name": "stdout",
     "output_type": "stream",
     "text": [
      "Train -  [0.47337962962962965, 0.2978395061728395, 0.7166703579865874, 0.47337962962962965, tensor(1.2502)]\n",
      "Validation -  [0.4378858024691358, 0.2505144032921811, 0.6873973971828482, 0.4378858024691358, tensor(1.2782)]\n",
      "\n",
      "Epoch  913\n"
     ]
    },
    {
     "name": "stderr",
     "output_type": "stream",
     "text": [
      "81it [00:02, 40.18it/s]"
     ]
    },
    {
     "name": "stdout",
     "output_type": "stream",
     "text": [
      "['acc', 'kappa', 'auc', 'fmeasure', 'loss']\n",
      "Training Loss  1.2501965525709553\n"
     ]
    },
    {
     "name": "stderr",
     "output_type": "stream",
     "text": [
      "\n"
     ]
    },
    {
     "name": "stdout",
     "output_type": "stream",
     "text": [
      "Train -  [0.47337962962962965, 0.2978395061728395, 0.7166759148122746, 0.47337962962962965, tensor(1.2502)]\n",
      "Validation -  [0.4378858024691358, 0.2505144032921811, 0.6874014655730833, 0.4378858024691358, tensor(1.2782)]\n",
      "\n",
      "Epoch  914\n"
     ]
    },
    {
     "name": "stderr",
     "output_type": "stream",
     "text": [
      "81it [00:01, 42.47it/s]"
     ]
    },
    {
     "name": "stdout",
     "output_type": "stream",
     "text": [
      "['acc', 'kappa', 'auc', 'fmeasure', 'loss']\n",
      "Training Loss  1.2501983657295321\n"
     ]
    },
    {
     "name": "stderr",
     "output_type": "stream",
     "text": [
      "\n"
     ]
    },
    {
     "name": "stdout",
     "output_type": "stream",
     "text": [
      "Train -  [0.47337962962962965, 0.2978395061728395, 0.7166765101864554, 0.47337962962962965, tensor(1.2502)]\n",
      "Validation -  [0.4378858024691358, 0.2505144032921811, 0.6874091062084032, 0.4378858024691358, tensor(1.2782)]\n",
      "\n",
      "Epoch  915\n"
     ]
    },
    {
     "name": "stderr",
     "output_type": "stream",
     "text": [
      "81it [00:02, 39.53it/s]"
     ]
    },
    {
     "name": "stdout",
     "output_type": "stream",
     "text": [
      "['acc', 'kappa', 'auc', 'fmeasure', 'loss']\n",
      "Training Loss  1.2501975974918884\n"
     ]
    },
    {
     "name": "stderr",
     "output_type": "stream",
     "text": [
      "\n"
     ]
    },
    {
     "name": "stdout",
     "output_type": "stream",
     "text": [
      "Train -  [0.47337962962962965, 0.2978395061728395, 0.716675517896154, 0.47337962962962965, tensor(1.2502)]\n",
      "Validation -  [0.4378858024691358, 0.2505144032921811, 0.6874035493827161, 0.4378858024691358, tensor(1.2782)]\n",
      "\n",
      "Epoch  916\n"
     ]
    },
    {
     "name": "stderr",
     "output_type": "stream",
     "text": [
      "81it [00:02, 38.92it/s]"
     ]
    },
    {
     "name": "stdout",
     "output_type": "stream",
     "text": [
      "['acc', 'kappa', 'auc', 'fmeasure', 'loss']\n",
      "Training Loss  1.250197195712431\n"
     ]
    },
    {
     "name": "stderr",
     "output_type": "stream",
     "text": [
      "\n"
     ]
    },
    {
     "name": "stdout",
     "output_type": "stream",
     "text": [
      "Train -  [0.47337962962962965, 0.2978395061728395, 0.7166761132703348, 0.47337962962962965, tensor(1.2502)]\n",
      "Validation -  [0.4382716049382716, 0.2510288065843621, 0.6874045416730173, 0.4382716049382716, tensor(1.2782)]\n",
      "\n",
      "Epoch  917\n"
     ]
    },
    {
     "name": "stderr",
     "output_type": "stream",
     "text": [
      "81it [00:01, 41.30it/s]"
     ]
    },
    {
     "name": "stdout",
     "output_type": "stream",
     "text": [
      "['acc', 'kappa', 'auc', 'fmeasure', 'loss']\n",
      "Training Loss  1.250194396501706\n"
     ]
    },
    {
     "name": "stderr",
     "output_type": "stream",
     "text": [
      "\n"
     ]
    },
    {
     "name": "stdout",
     "output_type": "stream",
     "text": [
      "Train -  [0.47337962962962965, 0.2978395061728395, 0.7166718464220394, 0.47337962962962965, tensor(1.2502)]\n",
      "Validation -  [0.4378858024691358, 0.2505144032921811, 0.6874039462988364, 0.4378858024691358, tensor(1.2782)]\n",
      "\n",
      "Epoch  918\n"
     ]
    },
    {
     "name": "stderr",
     "output_type": "stream",
     "text": [
      "81it [00:02, 39.87it/s]"
     ]
    },
    {
     "name": "stdout",
     "output_type": "stream",
     "text": [
      "['acc', 'kappa', 'auc', 'fmeasure', 'loss']\n",
      "Training Loss  1.250197195712431\n"
     ]
    },
    {
     "name": "stderr",
     "output_type": "stream",
     "text": [
      "\n"
     ]
    },
    {
     "name": "stdout",
     "output_type": "stream",
     "text": [
      "Train -  [0.47337962962962965, 0.2978395061728395, 0.7166719456510694, 0.47337962962962965, tensor(1.2502)]\n",
      "Validation -  [0.4378858024691358, 0.2505144032921811, 0.6873964048925468, 0.4378858024691358, tensor(1.2782)]\n",
      "\n",
      "Epoch  919\n"
     ]
    },
    {
     "name": "stderr",
     "output_type": "stream",
     "text": [
      "81it [00:01, 42.26it/s]"
     ]
    },
    {
     "name": "stdout",
     "output_type": "stream",
     "text": [
      "['acc', 'kappa', 'auc', 'fmeasure', 'loss']\n",
      "Training Loss  1.2501983848618872\n"
     ]
    },
    {
     "name": "stderr",
     "output_type": "stream",
     "text": [
      "\n"
     ]
    },
    {
     "name": "stdout",
     "output_type": "stream",
     "text": [
      "Train -  [0.47337962962962965, 0.2978395061728395, 0.7166713502768887, 0.47337962962962965, tensor(1.2502)]\n",
      "Validation -  [0.4378858024691358, 0.2505144032921811, 0.6874037478407764, 0.4378858024691358, tensor(1.2782)]\n",
      "\n",
      "Epoch  920\n"
     ]
    },
    {
     "name": "stderr",
     "output_type": "stream",
     "text": [
      "81it [00:02, 40.41it/s]"
     ]
    },
    {
     "name": "stdout",
     "output_type": "stream",
     "text": [
      "['acc', 'kappa', 'auc', 'fmeasure', 'loss']\n",
      "Training Loss  1.2501959476941897\n"
     ]
    },
    {
     "name": "stderr",
     "output_type": "stream",
     "text": [
      "\n"
     ]
    },
    {
     "name": "stdout",
     "output_type": "stream",
     "text": [
      "Train -  [0.47337962962962965, 0.2978395061728395, 0.7166749225219733, 0.47337962962962965, tensor(1.2502)]\n",
      "Validation -  [0.4378858024691358, 0.2505144032921811, 0.687403549382716, 0.4378858024691358, tensor(1.2782)]\n",
      "\n",
      "Epoch  921\n"
     ]
    },
    {
     "name": "stderr",
     "output_type": "stream",
     "text": [
      "81it [00:02, 39.38it/s]"
     ]
    },
    {
     "name": "stdout",
     "output_type": "stream",
     "text": [
      "['acc', 'kappa', 'auc', 'fmeasure', 'loss']\n",
      "Training Loss  1.2501962008299652\n"
     ]
    },
    {
     "name": "stderr",
     "output_type": "stream",
     "text": [
      "\n"
     ]
    },
    {
     "name": "stdout",
     "output_type": "stream",
     "text": [
      "Train -  [0.47337962962962965, 0.2978395061728395, 0.7166755178961539, 0.47337962962962965, tensor(1.2502)]\n",
      "Validation -  [0.4378858024691358, 0.2505144032921811, 0.6874013663440532, 0.4378858024691358, tensor(1.2782)]\n",
      "\n",
      "Epoch  922\n"
     ]
    },
    {
     "name": "stderr",
     "output_type": "stream",
     "text": [
      "81it [00:01, 41.21it/s]"
     ]
    },
    {
     "name": "stdout",
     "output_type": "stream",
     "text": [
      "['acc', 'kappa', 'auc', 'fmeasure', 'loss']\n",
      "Training Loss  1.2501946099010515\n"
     ]
    },
    {
     "name": "stderr",
     "output_type": "stream",
     "text": [
      "\n"
     ]
    },
    {
     "name": "stdout",
     "output_type": "stream",
     "text": [
      "Train -  [0.47337962962962965, 0.2978395061728395, 0.7166765101864553, 0.47337962962962965, tensor(1.2502)]\n",
      "Validation -  [0.4378858024691358, 0.2505144032921811, 0.6874051370471981, 0.4378858024691358, tensor(1.2782)]\n",
      "\n",
      "Epoch  923\n"
     ]
    },
    {
     "name": "stderr",
     "output_type": "stream",
     "text": [
      "81it [00:01, 41.49it/s]"
     ]
    },
    {
     "name": "stdout",
     "output_type": "stream",
     "text": [
      "['acc', 'kappa', 'auc', 'fmeasure', 'loss']\n",
      "Training Loss  1.250196233207797\n"
     ]
    },
    {
     "name": "stderr",
     "output_type": "stream",
     "text": [
      "\n"
     ]
    },
    {
     "name": "stdout",
     "output_type": "stream",
     "text": [
      "Train -  [0.47337962962962965, 0.2978395061728395, 0.7166753194380938, 0.47337962962962965, tensor(1.2502)]\n",
      "Validation -  [0.4378858024691358, 0.2505144032921811, 0.6874077170019814, 0.4378858024691358, tensor(1.2782)]\n",
      "\n",
      "Epoch  924\n"
     ]
    },
    {
     "name": "stderr",
     "output_type": "stream",
     "text": [
      "81it [00:01, 41.28it/s]"
     ]
    },
    {
     "name": "stdout",
     "output_type": "stream",
     "text": [
      "['acc', 'kappa', 'auc', 'fmeasure', 'loss']\n",
      "Training Loss  1.250196682082282\n"
     ]
    },
    {
     "name": "stderr",
     "output_type": "stream",
     "text": [
      "\n"
     ]
    },
    {
     "name": "stdout",
     "output_type": "stream",
     "text": [
      "Train -  [0.47337962962962965, 0.2978395061728395, 0.7166725410252502, 0.47337962962962965, tensor(1.2502)]\n",
      "Validation -  [0.4378858024691358, 0.2505144032921811, 0.6874033509246558, 0.4378858024691358, tensor(1.2782)]\n",
      "\n",
      "Epoch  925\n"
     ]
    },
    {
     "name": "stderr",
     "output_type": "stream",
     "text": [
      "81it [00:01, 41.79it/s]"
     ]
    },
    {
     "name": "stdout",
     "output_type": "stream",
     "text": [
      "['acc', 'kappa', 'auc', 'fmeasure', 'loss']\n",
      "Training Loss  1.250195445837798\n"
     ]
    },
    {
     "name": "stderr",
     "output_type": "stream",
     "text": [
      "\n"
     ]
    },
    {
     "name": "stdout",
     "output_type": "stream",
     "text": [
      "Train -  [0.47337962962962965, 0.2978395061728395, 0.7166718464220394, 0.47337962962962965, tensor(1.2502)]\n",
      "Validation -  [0.4378858024691358, 0.2505144032921811, 0.6874009694279327, 0.4378858024691358, tensor(1.2782)]\n",
      "\n",
      "Epoch  926\n"
     ]
    },
    {
     "name": "stderr",
     "output_type": "stream",
     "text": [
      "81it [00:01, 43.44it/s]"
     ]
    },
    {
     "name": "stdout",
     "output_type": "stream",
     "text": [
      "['acc', 'kappa', 'auc', 'fmeasure', 'loss']\n",
      "Training Loss  1.2501942140084725\n"
     ]
    },
    {
     "name": "stderr",
     "output_type": "stream",
     "text": [
      "\n"
     ]
    },
    {
     "name": "stdout",
     "output_type": "stream",
     "text": [
      "Train -  [0.47337962962962965, 0.2978395061728395, 0.7166711518188285, 0.47337962962962965, tensor(1.2502)]\n",
      "Validation -  [0.4378858024691358, 0.2505144032921811, 0.6874001755956918, 0.4378858024691358, tensor(1.2782)]\n",
      "\n",
      "Epoch  927\n"
     ]
    },
    {
     "name": "stderr",
     "output_type": "stream",
     "text": [
      "81it [00:02, 40.19it/s]"
     ]
    },
    {
     "name": "stdout",
     "output_type": "stream",
     "text": [
      "['acc', 'kappa', 'auc', 'fmeasure', 'loss']\n",
      "Training Loss  1.2501953016092748\n"
     ]
    },
    {
     "name": "stderr",
     "output_type": "stream",
     "text": [
      "\n"
     ]
    },
    {
     "name": "stdout",
     "output_type": "stream",
     "text": [
      "Train -  [0.47337962962962965, 0.2978395061728395, 0.7166765101864553, 0.47337962962962965, tensor(1.2502)]\n",
      "Validation -  [0.4378858024691358, 0.2505144032921811, 0.687405930879439, 0.4378858024691358, tensor(1.2782)]\n",
      "\n",
      "Epoch  928\n"
     ]
    },
    {
     "name": "stderr",
     "output_type": "stream",
     "text": [
      "81it [00:01, 41.99it/s]"
     ]
    },
    {
     "name": "stdout",
     "output_type": "stream",
     "text": [
      "['acc', 'kappa', 'auc', 'fmeasure', 'loss']\n",
      "Training Loss  1.2502022937492088\n"
     ]
    },
    {
     "name": "stderr",
     "output_type": "stream",
     "text": [
      "\n"
     ]
    },
    {
     "name": "stdout",
     "output_type": "stream",
     "text": [
      "Train -  [0.47337962962962965, 0.2978395061728395, 0.7166767086445156, 0.47337962962962965, tensor(1.2502)]\n",
      "Validation -  [0.4378858024691358, 0.2505144032921811, 0.6874009694279327, 0.4378858024691358, tensor(1.2782)]\n",
      "\n",
      "Epoch  929\n"
     ]
    },
    {
     "name": "stderr",
     "output_type": "stream",
     "text": [
      "81it [00:02, 38.77it/s]"
     ]
    },
    {
     "name": "stdout",
     "output_type": "stream",
     "text": [
      "['acc', 'kappa', 'auc', 'fmeasure', 'loss']\n",
      "Training Loss  1.2501968601603566\n"
     ]
    },
    {
     "name": "stderr",
     "output_type": "stream",
     "text": [
      "\n"
     ]
    },
    {
     "name": "stdout",
     "output_type": "stream",
     "text": [
      "Train -  [0.47337962962962965, 0.2978395061728395, 0.7166758155832444, 0.47337962962962965, tensor(1.2502)]\n",
      "Validation -  [0.4378858024691358, 0.2505144032921811, 0.6874059308794391, 0.4378858024691358, tensor(1.2782)]\n",
      "\n",
      "Epoch  930\n"
     ]
    },
    {
     "name": "stderr",
     "output_type": "stream",
     "text": [
      "81it [00:02, 39.19it/s]"
     ]
    },
    {
     "name": "stdout",
     "output_type": "stream",
     "text": [
      "['acc', 'kappa', 'auc', 'fmeasure', 'loss']\n",
      "Training Loss  1.2501937886815013\n"
     ]
    },
    {
     "name": "stderr",
     "output_type": "stream",
     "text": [
      "\n"
     ]
    },
    {
     "name": "stdout",
     "output_type": "stream",
     "text": [
      "Train -  [0.47337962962962965, 0.2978395061728395, 0.716673930231672, 0.47337962962962965, tensor(1.2502)]\n",
      "Validation -  [0.4382716049382716, 0.2510288065843621, 0.6874061293374992, 0.4382716049382716, tensor(1.2782)]\n",
      "\n",
      "Epoch  931\n"
     ]
    },
    {
     "name": "stderr",
     "output_type": "stream",
     "text": [
      "81it [00:01, 41.29it/s]"
     ]
    },
    {
     "name": "stdout",
     "output_type": "stream",
     "text": [
      "['acc', 'kappa', 'auc', 'fmeasure', 'loss']\n",
      "Training Loss  1.250197176580076\n"
     ]
    },
    {
     "name": "stderr",
     "output_type": "stream",
     "text": [
      "\n"
     ]
    },
    {
     "name": "stdout",
     "output_type": "stream",
     "text": [
      "Train -  [0.47337962962962965, 0.2978395061728395, 0.7166717471930093, 0.47337962962962965, tensor(1.2502)]\n",
      "Validation -  [0.4378858024691358, 0.2505144032921811, 0.6874047401310776, 0.4378858024691358, tensor(1.2782)]\n",
      "\n",
      "Epoch  932\n"
     ]
    },
    {
     "name": "stderr",
     "output_type": "stream",
     "text": [
      "81it [00:01, 43.29it/s]"
     ]
    },
    {
     "name": "stdout",
     "output_type": "stream",
     "text": [
      "['acc', 'kappa', 'auc', 'fmeasure', 'loss']\n",
      "Training Loss  1.2501938769846788\n"
     ]
    },
    {
     "name": "stderr",
     "output_type": "stream",
     "text": [
      "\n"
     ]
    },
    {
     "name": "stdout",
     "output_type": "stream",
     "text": [
      "Train -  [0.47337962962962965, 0.2978395061728395, 0.7166765101864553, 0.47337962962962965, tensor(1.2502)]\n",
      "Validation -  [0.4378858024691358, 0.2505144032921811, 0.687403549382716, 0.4378858024691358, tensor(1.2782)]\n",
      "\n",
      "Epoch  933\n"
     ]
    },
    {
     "name": "stderr",
     "output_type": "stream",
     "text": [
      "81it [00:02, 40.21it/s]"
     ]
    },
    {
     "name": "stdout",
     "output_type": "stream",
     "text": [
      "['acc', 'kappa', 'auc', 'fmeasure', 'loss']\n",
      "Training Loss  1.2501999890362774\n"
     ]
    },
    {
     "name": "stderr",
     "output_type": "stream",
     "text": [
      "\n"
     ]
    },
    {
     "name": "stdout",
     "output_type": "stream",
     "text": [
      "Train -  [0.47337962962962965, 0.2978395061728395, 0.716677105560636, 0.47337962962962965, tensor(1.2502)]\n",
      "Validation -  [0.4378858024691358, 0.2505144032921811, 0.6874013663440532, 0.4378858024691358, tensor(1.2782)]\n",
      "\n",
      "Epoch  934\n"
     ]
    },
    {
     "name": "stderr",
     "output_type": "stream",
     "text": [
      "81it [00:02, 38.47it/s]"
     ]
    },
    {
     "name": "stdout",
     "output_type": "stream",
     "text": [
      "['acc', 'kappa', 'auc', 'fmeasure', 'loss']\n",
      "Training Loss  1.2501940697799494\n"
     ]
    },
    {
     "name": "stderr",
     "output_type": "stream",
     "text": [
      "\n"
     ]
    },
    {
     "name": "stdout",
     "output_type": "stream",
     "text": [
      "Train -  [0.47337962962962965, 0.2978395061728395, 0.7166730371704008, 0.47337962962962965, tensor(1.2502)]\n",
      "Validation -  [0.4378858024691358, 0.2505144032921811, 0.6874005725118123, 0.4378858024691358, tensor(1.2782)]\n",
      "\n",
      "Epoch  935\n"
     ]
    },
    {
     "name": "stderr",
     "output_type": "stream",
     "text": [
      "81it [00:02, 40.34it/s]"
     ]
    },
    {
     "name": "stdout",
     "output_type": "stream",
     "text": [
      "['acc', 'kappa', 'auc', 'fmeasure', 'loss']\n",
      "Training Loss  1.2501943435197995\n"
     ]
    },
    {
     "name": "stderr",
     "output_type": "stream",
     "text": [
      "\n"
     ]
    },
    {
     "name": "stdout",
     "output_type": "stream",
     "text": [
      "Train -  [0.47337962962962965, 0.2978395061728395, 0.7166727394833103, 0.47337962962962965, tensor(1.2502)]\n",
      "Validation -  [0.4378858024691358, 0.2505144032921811, 0.6874037478407764, 0.4378858024691358, tensor(1.2782)]\n",
      "\n",
      "Epoch  936\n"
     ]
    },
    {
     "name": "stderr",
     "output_type": "stream",
     "text": [
      "81it [00:01, 40.66it/s]"
     ]
    },
    {
     "name": "stdout",
     "output_type": "stream",
     "text": [
      "['acc', 'kappa', 'auc', 'fmeasure', 'loss']\n",
      "Training Loss  1.2501969072553847\n"
     ]
    },
    {
     "name": "stderr",
     "output_type": "stream",
     "text": [
      "\n"
     ]
    },
    {
     "name": "stdout",
     "output_type": "stream",
     "text": [
      "Train -  [0.47337962962962965, 0.2978395061728395, 0.7166733348574912, 0.47337962962962965, tensor(1.2502)]\n",
      "Validation -  [0.4378858024691358, 0.2505144032921811, 0.6874013663440532, 0.4378858024691358, tensor(1.2782)]\n",
      "\n",
      "Epoch  937\n"
     ]
    },
    {
     "name": "stderr",
     "output_type": "stream",
     "text": [
      "81it [00:02, 38.69it/s]"
     ]
    },
    {
     "name": "stdout",
     "output_type": "stream",
     "text": [
      "['acc', 'kappa', 'auc', 'fmeasure', 'loss']\n",
      "Training Loss  1.2501944229926591\n"
     ]
    },
    {
     "name": "stderr",
     "output_type": "stream",
     "text": [
      "\n"
     ]
    },
    {
     "name": "stdout",
     "output_type": "stream",
     "text": [
      "Train -  [0.47337962962962965, 0.2978395061728395, 0.7166729379413707, 0.47337962962962965, tensor(1.2502)]\n",
      "Validation -  [0.4378858024691358, 0.2505144032921811, 0.6874061293374993, 0.4378858024691358, tensor(1.2782)]\n",
      "\n",
      "Epoch  938\n"
     ]
    },
    {
     "name": "stderr",
     "output_type": "stream",
     "text": [
      "81it [00:01, 41.89it/s]"
     ]
    },
    {
     "name": "stdout",
     "output_type": "stream",
     "text": [
      "['acc', 'kappa', 'auc', 'fmeasure', 'loss']\n",
      "Training Loss  1.2502002789650435\n"
     ]
    },
    {
     "name": "stderr",
     "output_type": "stream",
     "text": [
      "\n"
     ]
    },
    {
     "name": "stdout",
     "output_type": "stream",
     "text": [
      "Train -  [0.47337962962962965, 0.2978395061728395, 0.7166754186671239, 0.47337962962962965, tensor(1.2502)]\n",
      "Validation -  [0.4378858024691358, 0.2505144032921811, 0.6874015648021135, 0.4378858024691358, tensor(1.2782)]\n",
      "\n",
      "Epoch  939\n"
     ]
    },
    {
     "name": "stderr",
     "output_type": "stream",
     "text": [
      "81it [00:02, 39.41it/s]"
     ]
    },
    {
     "name": "stdout",
     "output_type": "stream",
     "text": [
      "['acc', 'kappa', 'auc', 'fmeasure', 'loss']\n",
      "Training Loss  1.2501951706262282\n"
     ]
    },
    {
     "name": "stderr",
     "output_type": "stream",
     "text": [
      "\n"
     ]
    },
    {
     "name": "stdout",
     "output_type": "stream",
     "text": [
      "Train -  [0.47337962962962965, 0.2978395061728395, 0.7166769071025759, 0.47337962962962965, tensor(1.2502)]\n",
      "Validation -  [0.4378858024691358, 0.2505144032921811, 0.687405831650409, 0.4378858024691358, tensor(1.2782)]\n",
      "\n",
      "Epoch  940\n"
     ]
    },
    {
     "name": "stderr",
     "output_type": "stream",
     "text": [
      "81it [00:02, 40.30it/s]"
     ]
    },
    {
     "name": "stdout",
     "output_type": "stream",
     "text": [
      "['acc', 'kappa', 'auc', 'fmeasure', 'loss']\n",
      "Training Loss  1.2501957813898723\n"
     ]
    },
    {
     "name": "stderr",
     "output_type": "stream",
     "text": [
      "\n"
     ]
    },
    {
     "name": "stdout",
     "output_type": "stream",
     "text": [
      "Train -  [0.47337962962962965, 0.2978395061728395, 0.716676212499365, 0.47337962962962965, tensor(1.2502)]\n",
      "Validation -  [0.4378858024691358, 0.2505144032921811, 0.6874065262536199, 0.4378858024691358, tensor(1.2782)]\n",
      "\n",
      "Epoch  941\n"
     ]
    },
    {
     "name": "stderr",
     "output_type": "stream",
     "text": [
      "81it [00:01, 40.90it/s]"
     ]
    },
    {
     "name": "stdout",
     "output_type": "stream",
     "text": [
      "['acc', 'kappa', 'auc', 'fmeasure', 'loss']\n",
      "Training Loss  1.2501985953177934\n"
     ]
    },
    {
     "name": "stderr",
     "output_type": "stream",
     "text": [
      "\n"
     ]
    },
    {
     "name": "stdout",
     "output_type": "stream",
     "text": [
      "Train -  [0.47337962962962965, 0.2978395061728395, 0.716673930231672, 0.47337962962962965, tensor(1.2502)]\n",
      "Validation -  [0.4378858024691358, 0.2505144032921811, 0.6874061293374994, 0.4378858024691358, tensor(1.2782)]\n",
      "\n",
      "Epoch  942\n"
     ]
    },
    {
     "name": "stderr",
     "output_type": "stream",
     "text": [
      "81it [00:02, 39.89it/s]"
     ]
    },
    {
     "name": "stdout",
     "output_type": "stream",
     "text": [
      "['acc', 'kappa', 'auc', 'fmeasure', 'loss']\n",
      "Training Loss  1.25019806108357\n"
     ]
    },
    {
     "name": "stderr",
     "output_type": "stream",
     "text": [
      "\n"
     ]
    },
    {
     "name": "stdout",
     "output_type": "stream",
     "text": [
      "Train -  [0.47337962962962965, 0.2978395061728395, 0.716673930231672, 0.47337962962962965, tensor(1.2502)]\n",
      "Validation -  [0.4378858024691358, 0.2505144032921811, 0.6874005725118123, 0.4378858024691358, tensor(1.2782)]\n",
      "\n",
      "Epoch  943\n"
     ]
    },
    {
     "name": "stderr",
     "output_type": "stream",
     "text": [
      "81it [00:02, 37.32it/s]"
     ]
    },
    {
     "name": "stdout",
     "output_type": "stream",
     "text": [
      "['acc', 'kappa', 'auc', 'fmeasure', 'loss']\n",
      "Training Loss  1.2501948085832006\n"
     ]
    },
    {
     "name": "stderr",
     "output_type": "stream",
     "text": [
      "\n"
     ]
    },
    {
     "name": "stdout",
     "output_type": "stream",
     "text": [
      "Train -  [0.47337962962962965, 0.2978395061728395, 0.7166777009348168, 0.47337962962962965, tensor(1.2502)]\n",
      "Validation -  [0.4378858024691358, 0.2505144032921811, 0.6874043432149571, 0.4378858024691358, tensor(1.2782)]\n",
      "\n",
      "Epoch  944\n"
     ]
    },
    {
     "name": "stderr",
     "output_type": "stream",
     "text": [
      "81it [00:02, 39.53it/s]"
     ]
    },
    {
     "name": "stdout",
     "output_type": "stream",
     "text": [
      "['acc', 'kappa', 'auc', 'fmeasure', 'loss']\n",
      "Training Loss  1.2501966747236841\n"
     ]
    },
    {
     "name": "stderr",
     "output_type": "stream",
     "text": [
      "\n"
     ]
    },
    {
     "name": "stdout",
     "output_type": "stream",
     "text": [
      "Train -  [0.47337962962962965, 0.2978395061728395, 0.7166707549027078, 0.47337962962962965, tensor(1.2502)]\n",
      "Validation -  [0.4378858024691358, 0.2505144032921811, 0.6874007709698725, 0.4378858024691358, tensor(1.2782)]\n",
      "\n",
      "Epoch  945\n"
     ]
    },
    {
     "name": "stderr",
     "output_type": "stream",
     "text": [
      "81it [00:02, 40.09it/s]"
     ]
    },
    {
     "name": "stdout",
     "output_type": "stream",
     "text": [
      "['acc', 'kappa', 'auc', 'fmeasure', 'loss']\n",
      "Training Loss  1.2501944656725283\n"
     ]
    },
    {
     "name": "stderr",
     "output_type": "stream",
     "text": [
      "\n"
     ]
    },
    {
     "name": "stdout",
     "output_type": "stream",
     "text": [
      "Train -  [0.47337962962962965, 0.2978395061728395, 0.7166717471930092, 0.47337962962962965, tensor(1.2502)]\n",
      "Validation -  [0.4378858024691358, 0.2505144032921811, 0.6874031524665956, 0.4378858024691358, tensor(1.2782)]\n",
      "\n",
      "Epoch  946\n"
     ]
    },
    {
     "name": "stderr",
     "output_type": "stream",
     "text": [
      "81it [00:01, 41.16it/s]"
     ]
    },
    {
     "name": "stdout",
     "output_type": "stream",
     "text": [
      "['acc', 'kappa', 'auc', 'fmeasure', 'loss']\n",
      "Training Loss  1.2501967865743755\n"
     ]
    },
    {
     "name": "stderr",
     "output_type": "stream",
     "text": [
      "\n"
     ]
    },
    {
     "name": "stdout",
     "output_type": "stream",
     "text": [
      "Train -  [0.47337962962962965, 0.2978395061728395, 0.7166707549027078, 0.47337962962962965, tensor(1.2502)]\n",
      "Validation -  [0.4378858024691358, 0.2505144032921811, 0.6874026563214448, 0.4378858024691358, tensor(1.2782)]\n",
      "\n",
      "Epoch  947\n"
     ]
    },
    {
     "name": "stderr",
     "output_type": "stream",
     "text": [
      "81it [00:02, 39.59it/s]"
     ]
    },
    {
     "name": "stdout",
     "output_type": "stream",
     "text": [
      "['acc', 'kappa', 'auc', 'fmeasure', 'loss']\n",
      "Training Loss  1.2501948674519856\n"
     ]
    },
    {
     "name": "stderr",
     "output_type": "stream",
     "text": [
      "\n"
     ]
    },
    {
     "name": "stdout",
     "output_type": "stream",
     "text": [
      "Train -  [0.47337962962962965, 0.2978395061728395, 0.7166757163542143, 0.47337962962962965, tensor(1.2502)]\n",
      "Validation -  [0.4378858024691358, 0.2505144032921811, 0.6874077170019814, 0.4378858024691358, tensor(1.2782)]\n",
      "\n",
      "Epoch  948\n"
     ]
    },
    {
     "name": "stderr",
     "output_type": "stream",
     "text": [
      "81it [00:01, 41.24it/s]"
     ]
    },
    {
     "name": "stdout",
     "output_type": "stream",
     "text": [
      "['acc', 'kappa', 'auc', 'fmeasure', 'loss']\n",
      "Training Loss  1.2501922772254472\n"
     ]
    },
    {
     "name": "stderr",
     "output_type": "stream",
     "text": [
      "\n"
     ]
    },
    {
     "name": "stdout",
     "output_type": "stream",
     "text": [
      "Train -  [0.47337962962962965, 0.2978395061728395, 0.7166786932251181, 0.47337962962962965, tensor(1.2502)]\n",
      "Validation -  [0.4378858024691358, 0.2505144032921811, 0.6874047401310777, 0.4378858024691358, tensor(1.2782)]\n",
      "\n",
      "Epoch  949\n"
     ]
    },
    {
     "name": "stderr",
     "output_type": "stream",
     "text": [
      "81it [00:02, 37.78it/s]"
     ]
    },
    {
     "name": "stdout",
     "output_type": "stream",
     "text": [
      "['acc', 'kappa', 'auc', 'fmeasure', 'loss']\n",
      "Training Loss  1.2501949042449763\n"
     ]
    },
    {
     "name": "stderr",
     "output_type": "stream",
     "text": [
      "\n"
     ]
    },
    {
     "name": "stdout",
     "output_type": "stream",
     "text": [
      "Train -  [0.47337962962962965, 0.2978395061728395, 0.7166761132703348, 0.47337962962962965, tensor(1.2502)]\n",
      "Validation -  [0.4378858024691358, 0.2505144032921811, 0.6874081139181019, 0.4378858024691358, tensor(1.2782)]\n",
      "\n",
      "Epoch  950\n"
     ]
    },
    {
     "name": "stderr",
     "output_type": "stream",
     "text": [
      "81it [00:02, 40.49it/s]"
     ]
    },
    {
     "name": "stdout",
     "output_type": "stream",
     "text": [
      "['acc', 'kappa', 'auc', 'fmeasure', 'loss']\n",
      "Training Loss  1.2501948100549203\n"
     ]
    },
    {
     "name": "stderr",
     "output_type": "stream",
     "text": [
      "\n"
     ]
    },
    {
     "name": "stdout",
     "output_type": "stream",
     "text": [
      "Train -  [0.47337962962962965, 0.2978395061728395, 0.7166727394833106, 0.47337962962962965, tensor(1.2502)]\n",
      "Validation -  [0.4378858024691358, 0.2505144032921811, 0.6874031524665956, 0.4378858024691358, tensor(1.2782)]\n",
      "\n",
      "Epoch  951\n"
     ]
    },
    {
     "name": "stderr",
     "output_type": "stream",
     "text": [
      "81it [00:02, 38.43it/s]"
     ]
    },
    {
     "name": "stdout",
     "output_type": "stream",
     "text": [
      "['acc', 'kappa', 'auc', 'fmeasure', 'loss']\n",
      "Training Loss  1.2501939432120617\n"
     ]
    },
    {
     "name": "stderr",
     "output_type": "stream",
     "text": [
      "\n"
     ]
    },
    {
     "name": "stdout",
     "output_type": "stream",
     "text": [
      "Train -  [0.47337962962962965, 0.2978395061728395, 0.7166778993928772, 0.47337962962962965, tensor(1.2502)]\n",
      "Validation -  [0.4378858024691358, 0.2505144032921811, 0.6874077170019814, 0.4378858024691358, tensor(1.2782)]\n",
      "\n",
      "Epoch  952\n"
     ]
    },
    {
     "name": "stderr",
     "output_type": "stream",
     "text": [
      "81it [00:01, 40.57it/s]"
     ]
    },
    {
     "name": "stdout",
     "output_type": "stream",
     "text": [
      "['acc', 'kappa', 'auc', 'fmeasure', 'loss']\n",
      "Training Loss  1.250196330341292\n"
     ]
    },
    {
     "name": "stderr",
     "output_type": "stream",
     "text": [
      "\n"
     ]
    },
    {
     "name": "stdout",
     "output_type": "stream",
     "text": [
      "Train -  [0.47337962962962965, 0.2978395061728395, 0.716677700934817, 0.47337962962962965, tensor(1.2502)]\n",
      "Validation -  [0.4378858024691358, 0.2505144032921811, 0.6874023586343545, 0.4378858024691358, tensor(1.2782)]\n",
      "\n",
      "Epoch  953\n"
     ]
    },
    {
     "name": "stderr",
     "output_type": "stream",
     "text": [
      "81it [00:02, 39.67it/s]"
     ]
    },
    {
     "name": "stdout",
     "output_type": "stream",
     "text": [
      "['acc', 'kappa', 'auc', 'fmeasure', 'loss']\n",
      "Training Loss  1.2501969396332164\n"
     ]
    },
    {
     "name": "stderr",
     "output_type": "stream",
     "text": [
      "\n"
     ]
    },
    {
     "name": "stdout",
     "output_type": "stream",
     "text": [
      "Train -  [0.47337962962962965, 0.2978395061728395, 0.7166705564446476, 0.47337962962962965, tensor(1.2502)]\n",
      "Validation -  [0.4378858024691358, 0.2505144032921811, 0.6874043432149572, 0.4378858024691358, tensor(1.2782)]\n",
      "\n",
      "Epoch  954\n"
     ]
    },
    {
     "name": "stderr",
     "output_type": "stream",
     "text": [
      "81it [00:02, 39.25it/s]"
     ]
    },
    {
     "name": "stdout",
     "output_type": "stream",
     "text": [
      "['acc', 'kappa', 'auc', 'fmeasure', 'loss']\n",
      "Training Loss  1.2501916237819342\n"
     ]
    },
    {
     "name": "stderr",
     "output_type": "stream",
     "text": [
      "\n"
     ]
    },
    {
     "name": "stdout",
     "output_type": "stream",
     "text": [
      "Train -  [0.47337962962962965, 0.2978395061728395, 0.7166749225219733, 0.47337962962962965, tensor(1.2502)]\n",
      "Validation -  [0.4378858024691358, 0.2505144032921811, 0.6874077170019814, 0.4378858024691358, tensor(1.2782)]\n",
      "\n",
      "Epoch  955\n"
     ]
    },
    {
     "name": "stderr",
     "output_type": "stream",
     "text": [
      "81it [00:02, 38.81it/s]"
     ]
    },
    {
     "name": "stdout",
     "output_type": "stream",
     "text": [
      "['acc', 'kappa', 'auc', 'fmeasure', 'loss']\n",
      "Training Loss  1.2501942758206968\n"
     ]
    },
    {
     "name": "stderr",
     "output_type": "stream",
     "text": [
      "\n"
     ]
    },
    {
     "name": "stdout",
     "output_type": "stream",
     "text": [
      "Train -  [0.47337962962962965, 0.2978395061728395, 0.7166721441091297, 0.47337962962962965, tensor(1.2502)]\n",
      "Validation -  [0.4378858024691358, 0.2505144032921811, 0.6874023586343545, 0.4378858024691358, tensor(1.2782)]\n",
      "\n",
      "Epoch  956\n"
     ]
    },
    {
     "name": "stderr",
     "output_type": "stream",
     "text": [
      "81it [00:01, 41.73it/s]"
     ]
    },
    {
     "name": "stdout",
     "output_type": "stream",
     "text": [
      "['acc', 'kappa', 'auc', 'fmeasure', 'loss']\n",
      "Training Loss  1.2501927275716522\n"
     ]
    },
    {
     "name": "stderr",
     "output_type": "stream",
     "text": [
      "\n"
     ]
    },
    {
     "name": "stdout",
     "output_type": "stream",
     "text": [
      "Train -  [0.47337962962962965, 0.2978395061728395, 0.7166737317736117, 0.47337962962962965, tensor(1.2502)]\n",
      "Validation -  [0.4378858024691358, 0.2505144032921811, 0.6874069231697404, 0.4378858024691358, tensor(1.2782)]\n",
      "\n",
      "Epoch  957\n"
     ]
    },
    {
     "name": "stderr",
     "output_type": "stream",
     "text": [
      "81it [00:02, 39.63it/s]"
     ]
    },
    {
     "name": "stdout",
     "output_type": "stream",
     "text": [
      "['acc', 'kappa', 'auc', 'fmeasure', 'loss']\n",
      "Training Loss  1.2501936047165483\n"
     ]
    },
    {
     "name": "stderr",
     "output_type": "stream",
     "text": [
      "\n"
     ]
    },
    {
     "name": "stdout",
     "output_type": "stream",
     "text": [
      "Train -  [0.47337962962962965, 0.2978395061728395, 0.7166806778057208, 0.47337962962962965, tensor(1.2502)]\n",
      "Validation -  [0.4382716049382716, 0.2510288065843621, 0.6874114877051263, 0.4382716049382716, tensor(1.2782)]\n",
      "\n",
      "Epoch  958\n"
     ]
    },
    {
     "name": "stderr",
     "output_type": "stream",
     "text": [
      "81it [00:01, 40.50it/s]"
     ]
    },
    {
     "name": "stdout",
     "output_type": "stream",
     "text": [
      "['acc', 'kappa', 'auc', 'fmeasure', 'loss']\n",
      "Training Loss  1.2501937062652022\n"
     ]
    },
    {
     "name": "stderr",
     "output_type": "stream",
     "text": [
      "\n"
     ]
    },
    {
     "name": "stdout",
     "output_type": "stream",
     "text": [
      "Train -  [0.47337962962962965, 0.2978395061728395, 0.7166747240639131, 0.47337962962962965, tensor(1.2502)]\n",
      "Validation -  [0.4378858024691358, 0.2505144032921811, 0.6874104954148249, 0.4378858024691358, tensor(1.2782)]\n",
      "\n",
      "Epoch  959\n"
     ]
    },
    {
     "name": "stderr",
     "output_type": "stream",
     "text": [
      "81it [00:02, 40.39it/s]"
     ]
    },
    {
     "name": "stdout",
     "output_type": "stream",
     "text": [
      "['acc', 'kappa', 'auc', 'fmeasure', 'loss']\n",
      "Training Loss  1.2501938240027721\n"
     ]
    },
    {
     "name": "stderr",
     "output_type": "stream",
     "text": [
      "\n"
     ]
    },
    {
     "name": "stdout",
     "output_type": "stream",
     "text": [
      "Train -  [0.47337962962962965, 0.2978395061728395, 0.7166765101864553, 0.47337962962962965, tensor(1.2502)]\n",
      "Validation -  [0.4378858024691358, 0.2505144032921811, 0.6874101977277345, 0.4378858024691358, tensor(1.2782)]\n",
      "\n",
      "Epoch  960\n"
     ]
    },
    {
     "name": "stderr",
     "output_type": "stream",
     "text": [
      "81it [00:01, 41.89it/s]"
     ]
    },
    {
     "name": "stdout",
     "output_type": "stream",
     "text": [
      "['acc', 'kappa', 'auc', 'fmeasure', 'loss']\n",
      "Training Loss  1.250194443596734\n"
     ]
    },
    {
     "name": "stderr",
     "output_type": "stream",
     "text": [
      "\n"
     ]
    },
    {
     "name": "stdout",
     "output_type": "stream",
     "text": [
      "Train -  [0.47337962962962965, 0.2978395061728395, 0.7166751209800335, 0.47337962962962965, tensor(1.2502)]\n",
      "Validation -  [0.4378858024691358, 0.2505144032921811, 0.6874069231697404, 0.4378858024691358, tensor(1.2782)]\n",
      "\n",
      "Epoch  961\n"
     ]
    },
    {
     "name": "stderr",
     "output_type": "stream",
     "text": [
      "81it [00:01, 40.58it/s]"
     ]
    },
    {
     "name": "stdout",
     "output_type": "stream",
     "text": [
      "['acc', 'kappa', 'auc', 'fmeasure', 'loss']\n",
      "Training Loss  1.2501955429712932\n"
     ]
    },
    {
     "name": "stderr",
     "output_type": "stream",
     "text": [
      "\n"
     ]
    },
    {
     "name": "stdout",
     "output_type": "stream",
     "text": [
      "Train -  [0.47337962962962965, 0.2978395061728395, 0.7166759148122746, 0.47337962962962965, tensor(1.2502)]\n",
      "Validation -  [0.4378858024691358, 0.2505144032921811, 0.687410495414825, 0.4378858024691358, tensor(1.2782)]\n",
      "\n",
      "Epoch  962\n"
     ]
    },
    {
     "name": "stderr",
     "output_type": "stream",
     "text": [
      "81it [00:01, 41.15it/s]"
     ]
    },
    {
     "name": "stdout",
     "output_type": "stream",
     "text": [
      "['acc', 'kappa', 'auc', 'fmeasure', 'loss']\n",
      "Training Loss  1.2501914633644953\n"
     ]
    },
    {
     "name": "stderr",
     "output_type": "stream",
     "text": [
      "\n"
     ]
    },
    {
     "name": "stdout",
     "output_type": "stream",
     "text": [
      "Train -  [0.47337962962962965, 0.2978395061728395, 0.7166759148122746, 0.47337962962962965, tensor(1.2502)]\n",
      "Validation -  [0.4378858024691358, 0.2505144032921811, 0.6874094038954937, 0.4378858024691358, tensor(1.2782)]\n",
      "\n",
      "Epoch  963\n"
     ]
    },
    {
     "name": "stderr",
     "output_type": "stream",
     "text": [
      "81it [00:01, 40.91it/s]"
     ]
    },
    {
     "name": "stdout",
     "output_type": "stream",
     "text": [
      "['acc', 'kappa', 'auc', 'fmeasure', 'loss']\n",
      "Training Loss  1.2501916973679155\n"
     ]
    },
    {
     "name": "stderr",
     "output_type": "stream",
     "text": [
      "\n"
     ]
    },
    {
     "name": "stdout",
     "output_type": "stream",
     "text": [
      "Train -  [0.47337962962962965, 0.2978395061728395, 0.7166721441091297, 0.47337962962962965, tensor(1.2502)]\n",
      "Validation -  [0.4378858024691358, 0.2505144032921811, 0.687403549382716, 0.4378858024691358, tensor(1.2782)]\n",
      "\n",
      "Epoch  964\n"
     ]
    },
    {
     "name": "stderr",
     "output_type": "stream",
     "text": [
      "81it [00:01, 42.22it/s]"
     ]
    },
    {
     "name": "stdout",
     "output_type": "stream",
     "text": [
      "['acc', 'kappa', 'auc', 'fmeasure', 'loss']\n",
      "Training Loss  1.2501908776200847\n"
     ]
    },
    {
     "name": "stderr",
     "output_type": "stream",
     "text": [
      "\n"
     ]
    },
    {
     "name": "stdout",
     "output_type": "stream",
     "text": [
      "Train -  [0.47337962962962965, 0.2978395061728395, 0.7166723425671899, 0.47337962962962965, tensor(1.2502)]\n",
      "Validation -  [0.4378858024691358, 0.2505144032921811, 0.6874095031245236, 0.4378858024691358, tensor(1.2782)]\n",
      "\n",
      "Epoch  965\n"
     ]
    },
    {
     "name": "stderr",
     "output_type": "stream",
     "text": [
      "81it [00:02, 39.30it/s]"
     ]
    },
    {
     "name": "stdout",
     "output_type": "stream",
     "text": [
      "['acc', 'kappa', 'auc', 'fmeasure', 'loss']\n",
      "Training Loss  1.2501950205108265\n"
     ]
    },
    {
     "name": "stderr",
     "output_type": "stream",
     "text": [
      "\n"
     ]
    },
    {
     "name": "stdout",
     "output_type": "stream",
     "text": [
      "Train -  [0.47337962962962965, 0.2978395061728395, 0.7166780978509374, 0.47337962962962965, tensor(1.2502)]\n",
      "Validation -  [0.4382716049382716, 0.2510288065843621, 0.6874053355052584, 0.4382716049382716, tensor(1.2782)]\n",
      "\n",
      "Epoch  966\n"
     ]
    },
    {
     "name": "stderr",
     "output_type": "stream",
     "text": [
      "81it [00:01, 42.20it/s]"
     ]
    },
    {
     "name": "stdout",
     "output_type": "stream",
     "text": [
      "['acc', 'kappa', 'auc', 'fmeasure', 'loss']\n",
      "Training Loss  1.250192924782082\n"
     ]
    },
    {
     "name": "stderr",
     "output_type": "stream",
     "text": [
      "\n"
     ]
    },
    {
     "name": "stdout",
     "output_type": "stream",
     "text": [
      "Train -  [0.47337962962962965, 0.2978395061728395, 0.7166749225219733, 0.47337962962962965, tensor(1.2502)]\n",
      "Validation -  [0.4378858024691358, 0.2505144032921811, 0.6874099000406442, 0.4378858024691358, tensor(1.2782)]\n",
      "\n",
      "Epoch  967\n"
     ]
    },
    {
     "name": "stderr",
     "output_type": "stream",
     "text": [
      "81it [00:01, 40.83it/s]"
     ]
    },
    {
     "name": "stdout",
     "output_type": "stream",
     "text": [
      "['acc', 'kappa', 'auc', 'fmeasure', 'loss']\n",
      "Training Loss  1.2501934825638195\n"
     ]
    },
    {
     "name": "stderr",
     "output_type": "stream",
     "text": [
      "\n"
     ]
    },
    {
     "name": "stdout",
     "output_type": "stream",
     "text": [
      "Train -  [0.47337962962962965, 0.2978395061728395, 0.716682463928263, 0.47337962962962965, tensor(1.2502)]\n",
      "Validation -  [0.4378858024691358, 0.2505144032921811, 0.6874144645760301, 0.4378858024691358, tensor(1.2782)]\n",
      "\n",
      "Epoch  968\n"
     ]
    },
    {
     "name": "stderr",
     "output_type": "stream",
     "text": [
      "81it [00:01, 40.84it/s]"
     ]
    },
    {
     "name": "stdout",
     "output_type": "stream",
     "text": [
      "['acc', 'kappa', 'auc', 'fmeasure', 'loss']\n",
      "Training Loss  1.2501910660001967\n"
     ]
    },
    {
     "name": "stderr",
     "output_type": "stream",
     "text": [
      "\n"
     ]
    },
    {
     "name": "stdout",
     "output_type": "stream",
     "text": [
      "Train -  [0.47337962962962965, 0.2978395061728395, 0.7166753194380937, 0.47337962962962965, tensor(1.2502)]\n",
      "Validation -  [0.4378858024691358, 0.2505144032921811, 0.6874065262536199, 0.4378858024691358, tensor(1.2782)]\n",
      "\n",
      "Epoch  969\n"
     ]
    },
    {
     "name": "stderr",
     "output_type": "stream",
     "text": [
      "81it [00:01, 40.91it/s]\n"
     ]
    },
    {
     "name": "stdout",
     "output_type": "stream",
     "text": [
      "['acc', 'kappa', 'auc', 'fmeasure', 'loss']\n",
      "Training Loss  1.2501902491958052\n",
      "Train -  [0.47337962962962965, 0.2978395061728395, 0.716675517896154, 0.47337962962962965, tensor(1.2502)]\n",
      "Validation -  [0.4378858024691358, 0.2505144032921811, 0.6874069231697404, 0.4378858024691358, tensor(1.2782)]\n",
      "\n",
      "Epoch  970\n"
     ]
    },
    {
     "name": "stderr",
     "output_type": "stream",
     "text": [
      "81it [00:01, 43.63it/s]"
     ]
    },
    {
     "name": "stdout",
     "output_type": "stream",
     "text": [
      "['acc', 'kappa', 'auc', 'fmeasure', 'loss']\n",
      "Training Loss  1.2501952427404899\n"
     ]
    },
    {
     "name": "stderr",
     "output_type": "stream",
     "text": [
      "\n"
     ]
    },
    {
     "name": "stdout",
     "output_type": "stream",
     "text": [
      "Train -  [0.47337962962962965, 0.2978395061728395, 0.7166785939960879, 0.47337962962962965, tensor(1.2502)]\n",
      "Validation -  [0.4378858024691358, 0.2505144032921811, 0.6874077170019814, 0.4378858024691358, tensor(1.2782)]\n",
      "\n",
      "Epoch  971\n"
     ]
    },
    {
     "name": "stderr",
     "output_type": "stream",
     "text": [
      "81it [00:02, 40.18it/s]"
     ]
    },
    {
     "name": "stdout",
     "output_type": "stream",
     "text": [
      "['acc', 'kappa', 'auc', 'fmeasure', 'loss']\n",
      "Training Loss  1.2501939373251834\n"
     ]
    },
    {
     "name": "stderr",
     "output_type": "stream",
     "text": [
      "\n"
     ]
    },
    {
     "name": "stdout",
     "output_type": "stream",
     "text": [
      "Train -  [0.47337962962962965, 0.2978395061728395, 0.716679487057359, 0.47337962962962965, tensor(1.2502)]\n",
      "Validation -  [0.4378858024691358, 0.2505144032921811, 0.6874099000406442, 0.4378858024691358, tensor(1.2782)]\n",
      "\n",
      "Epoch  972\n"
     ]
    },
    {
     "name": "stderr",
     "output_type": "stream",
     "text": [
      "81it [00:02, 38.24it/s]"
     ]
    },
    {
     "name": "stdout",
     "output_type": "stream",
     "text": [
      "['acc', 'kappa', 'auc', 'fmeasure', 'loss']\n",
      "Training Loss  1.2501907539956363\n"
     ]
    },
    {
     "name": "stderr",
     "output_type": "stream",
     "text": [
      "\n"
     ]
    },
    {
     "name": "stdout",
     "output_type": "stream",
     "text": [
      "Train -  [0.47337962962962965, 0.2978395061728395, 0.7166721441091297, 0.47337962962962965, tensor(1.2502)]\n",
      "Validation -  [0.4378858024691358, 0.2505144032921811, 0.6874017632601738, 0.4378858024691358, tensor(1.2782)]\n",
      "\n",
      "Epoch  973\n"
     ]
    },
    {
     "name": "stderr",
     "output_type": "stream",
     "text": [
      "81it [00:01, 41.48it/s]"
     ]
    },
    {
     "name": "stdout",
     "output_type": "stream",
     "text": [
      "['acc', 'kappa', 'auc', 'fmeasure', 'loss']\n",
      "Training Loss  1.2501913559289626\n"
     ]
    },
    {
     "name": "stderr",
     "output_type": "stream",
     "text": [
      "\n"
     ]
    },
    {
     "name": "stdout",
     "output_type": "stream",
     "text": [
      "Train -  [0.47337962962962965, 0.2978395061728395, 0.7166788916831783, 0.47337962962962965, tensor(1.2502)]\n",
      "Validation -  [0.4378858024691358, 0.2505144032921811, 0.6874100984987045, 0.4378858024691358, tensor(1.2782)]\n",
      "\n",
      "Epoch  974\n"
     ]
    },
    {
     "name": "stderr",
     "output_type": "stream",
     "text": [
      "81it [00:01, 41.46it/s]"
     ]
    },
    {
     "name": "stdout",
     "output_type": "stream",
     "text": [
      "['acc', 'kappa', 'auc', 'fmeasure', 'loss']\n",
      "Training Loss  1.2501904493496743\n"
     ]
    },
    {
     "name": "stderr",
     "output_type": "stream",
     "text": [
      "\n"
     ]
    },
    {
     "name": "stdout",
     "output_type": "stream",
     "text": [
      "Train -  [0.47337962962962965, 0.2978395061728395, 0.7166795862863893, 0.47337962962962965, tensor(1.2502)]\n",
      "Validation -  [0.4378858024691358, 0.2505144032921811, 0.6874108923309455, 0.4378858024691358, tensor(1.2782)]\n",
      "\n",
      "Epoch  975\n"
     ]
    },
    {
     "name": "stderr",
     "output_type": "stream",
     "text": [
      "81it [00:01, 43.87it/s]"
     ]
    },
    {
     "name": "stdout",
     "output_type": "stream",
     "text": [
      "['acc', 'kappa', 'auc', 'fmeasure', 'loss']\n",
      "Training Loss  1.250196087507554\n"
     ]
    },
    {
     "name": "stderr",
     "output_type": "stream",
     "text": [
      "\n"
     ]
    },
    {
     "name": "stdout",
     "output_type": "stream",
     "text": [
      "Train -  [0.47337962962962965, 0.2978395061728395, 0.7166779986219073, 0.47337962962962965, tensor(1.2502)]\n",
      "Validation -  [0.4382716049382716, 0.2510288065843621, 0.6874079154600417, 0.4382716049382716, tensor(1.2782)]\n",
      "\n",
      "Epoch  976\n"
     ]
    },
    {
     "name": "stderr",
     "output_type": "stream",
     "text": [
      "81it [00:01, 41.91it/s]"
     ]
    },
    {
     "name": "stdout",
     "output_type": "stream",
     "text": [
      "['acc', 'kappa', 'auc', 'fmeasure', 'loss']\n",
      "Training Loss  1.2501924023216153\n"
     ]
    },
    {
     "name": "stderr",
     "output_type": "stream",
     "text": [
      "\n"
     ]
    },
    {
     "name": "stdout",
     "output_type": "stream",
     "text": [
      "Train -  [0.47337962962962965, 0.2978395061728395, 0.7166765101864553, 0.47337962962962965, tensor(1.2502)]\n",
      "Validation -  [0.4378858024691358, 0.2505144032921811, 0.6874083123761621, 0.4378858024691358, tensor(1.2782)]\n",
      "\n",
      "Epoch  977\n"
     ]
    },
    {
     "name": "stderr",
     "output_type": "stream",
     "text": [
      "81it [00:01, 42.47it/s]"
     ]
    },
    {
     "name": "stdout",
     "output_type": "stream",
     "text": [
      "['acc', 'kappa', 'auc', 'fmeasure', 'loss']\n",
      "Training Loss  1.250188848118723\n"
     ]
    },
    {
     "name": "stderr",
     "output_type": "stream",
     "text": [
      "\n"
     ]
    },
    {
     "name": "stdout",
     "output_type": "stream",
     "text": [
      "Train -  [0.47337962962962965, 0.2978395061728395, 0.7166786932251181, 0.47337962962962965, tensor(1.2502)]\n",
      "Validation -  [0.4378858024691358, 0.2505144032921811, 0.687409701582584, 0.4378858024691358, tensor(1.2782)]\n",
      "\n",
      "Epoch  978\n"
     ]
    },
    {
     "name": "stderr",
     "output_type": "stream",
     "text": [
      "81it [00:02, 39.24it/s]"
     ]
    },
    {
     "name": "stdout",
     "output_type": "stream",
     "text": [
      "['acc', 'kappa', 'auc', 'fmeasure', 'loss']\n",
      "Training Loss  1.2501901579491885\n"
     ]
    },
    {
     "name": "stderr",
     "output_type": "stream",
     "text": [
      "\n"
     ]
    },
    {
     "name": "stdout",
     "output_type": "stream",
     "text": [
      "Train -  [0.47337962962962965, 0.2978395061728395, 0.716680876263781, 0.47337962962962965, tensor(1.2502)]\n",
      "Validation -  [0.4378858024691358, 0.2505144032921811, 0.6874091062084031, 0.4378858024691358, tensor(1.2782)]\n",
      "\n",
      "Epoch  979\n"
     ]
    },
    {
     "name": "stderr",
     "output_type": "stream",
     "text": [
      "81it [00:02, 40.02it/s]"
     ]
    },
    {
     "name": "stdout",
     "output_type": "stream",
     "text": [
      "['acc', 'kappa', 'auc', 'fmeasure', 'loss']\n",
      "Training Loss  1.250189991644871\n"
     ]
    },
    {
     "name": "stderr",
     "output_type": "stream",
     "text": [
      "\n"
     ]
    },
    {
     "name": "stdout",
     "output_type": "stream",
     "text": [
      "Train -  [0.47337962962962965, 0.2978395061728395, 0.7166739302316721, 0.47337962962962965, tensor(1.2502)]\n",
      "Validation -  [0.4378858024691358, 0.2505144032921811, 0.6874085108342225, 0.4378858024691358, tensor(1.2782)]\n",
      "\n",
      "Epoch  980\n"
     ]
    },
    {
     "name": "stderr",
     "output_type": "stream",
     "text": [
      "81it [00:02, 39.72it/s]"
     ]
    },
    {
     "name": "stdout",
     "output_type": "stream",
     "text": [
      "['acc', 'kappa', 'auc', 'fmeasure', 'loss']\n",
      "Training Loss  1.2501912514368694\n"
     ]
    },
    {
     "name": "stderr",
     "output_type": "stream",
     "text": [
      "\n"
     ]
    },
    {
     "name": "stdout",
     "output_type": "stream",
     "text": [
      "Train -  [0.47337962962962965, 0.2978395061728395, 0.7166790901412388, 0.47337962962962965, tensor(1.2502)]\n",
      "Validation -  [0.4378858024691358, 0.2505144032921811, 0.6874140676599095, 0.4378858024691358, tensor(1.2782)]\n",
      "\n",
      "Epoch  981\n"
     ]
    },
    {
     "name": "stderr",
     "output_type": "stream",
     "text": [
      "81it [00:02, 40.50it/s]"
     ]
    },
    {
     "name": "stdout",
     "output_type": "stream",
     "text": [
      "['acc', 'kappa', 'auc', 'fmeasure', 'loss']\n",
      "Training Loss  1.25019187544599\n"
     ]
    },
    {
     "name": "stderr",
     "output_type": "stream",
     "text": [
      "\n"
     ]
    },
    {
     "name": "stdout",
     "output_type": "stream",
     "text": [
      "Train -  [0.47337962962962965, 0.2978395061728395, 0.7166753194380937, 0.47337962962962965, tensor(1.2502)]\n",
      "Validation -  [0.4378858024691358, 0.2505144032921811, 0.6874057324213789, 0.4378858024691358, tensor(1.2782)]\n",
      "\n",
      "Epoch  982\n"
     ]
    },
    {
     "name": "stderr",
     "output_type": "stream",
     "text": [
      "81it [00:01, 41.85it/s]"
     ]
    },
    {
     "name": "stdout",
     "output_type": "stream",
     "text": [
      "['acc', 'kappa', 'auc', 'fmeasure', 'loss']\n",
      "Training Loss  1.2501920770715784\n"
     ]
    },
    {
     "name": "stderr",
     "output_type": "stream",
     "text": [
      "\n"
     ]
    },
    {
     "name": "stdout",
     "output_type": "stream",
     "text": [
      "Train -  [0.47337962962962965, 0.2978395061728395, 0.7166782963089975, 0.47337962962962965, tensor(1.2502)]\n",
      "Validation -  [0.4378858024691358, 0.2505144032921811, 0.6874100984987045, 0.4378858024691358, tensor(1.2782)]\n",
      "\n",
      "Epoch  983\n"
     ]
    },
    {
     "name": "stderr",
     "output_type": "stream",
     "text": [
      "81it [00:02, 39.10it/s]"
     ]
    },
    {
     "name": "stdout",
     "output_type": "stream",
     "text": [
      "['acc', 'kappa', 'auc', 'fmeasure', 'loss']\n",
      "Training Loss  1.2501898945113759\n"
     ]
    },
    {
     "name": "stderr",
     "output_type": "stream",
     "text": [
      "\n"
     ]
    },
    {
     "name": "stdout",
     "output_type": "stream",
     "text": [
      "Train -  [0.47337962962962965, 0.2978395061728395, 0.7166780978509373, 0.47337962962962965, tensor(1.2502)]\n",
      "Validation -  [0.4378858024691358, 0.2505144032921811, 0.6874089077503429, 0.4378858024691358, tensor(1.2782)]\n",
      "\n",
      "Epoch  984\n"
     ]
    },
    {
     "name": "stderr",
     "output_type": "stream",
     "text": [
      "81it [00:01, 42.27it/s]"
     ]
    },
    {
     "name": "stdout",
     "output_type": "stream",
     "text": [
      "['acc', 'kappa', 'auc', 'fmeasure', 'loss']\n",
      "Training Loss  1.250191236719673\n"
     ]
    },
    {
     "name": "stderr",
     "output_type": "stream",
     "text": [
      "\n"
     ]
    },
    {
     "name": "stdout",
     "output_type": "stream",
     "text": [
      "Train -  [0.47337962962962965, 0.2978395061728395, 0.7166782963089977, 0.47337962962962965, tensor(1.2502)]\n",
      "Validation -  [0.4378858024691358, 0.2505144032921811, 0.6874081139181019, 0.4378858024691358, tensor(1.2782)]\n",
      "\n",
      "Epoch  985\n"
     ]
    },
    {
     "name": "stderr",
     "output_type": "stream",
     "text": [
      "81it [00:01, 41.06it/s]"
     ]
    },
    {
     "name": "stdout",
     "output_type": "stream",
     "text": [
      "['acc', 'kappa', 'auc', 'fmeasure', 'loss']\n",
      "Training Loss  1.2501895383552268\n"
     ]
    },
    {
     "name": "stderr",
     "output_type": "stream",
     "text": [
      "\n"
     ]
    },
    {
     "name": "stdout",
     "output_type": "stream",
     "text": [
      "Train -  [0.47337962962962965, 0.2978395061728395, 0.7166795862863893, 0.47337962962962965, tensor(1.2502)]\n",
      "Validation -  [0.4378858024691358, 0.2505144032921811, 0.6874075185439211, 0.4378858024691358, tensor(1.2782)]\n",
      "\n",
      "Epoch  986\n"
     ]
    },
    {
     "name": "stderr",
     "output_type": "stream",
     "text": [
      "81it [00:02, 38.33it/s]"
     ]
    },
    {
     "name": "stdout",
     "output_type": "stream",
     "text": [
      "['acc', 'kappa', 'auc', 'fmeasure', 'loss']\n",
      "Training Loss  1.250192712854456\n"
     ]
    },
    {
     "name": "stderr",
     "output_type": "stream",
     "text": [
      "\n"
     ]
    },
    {
     "name": "stdout",
     "output_type": "stream",
     "text": [
      "Train -  [0.47337962962962965, 0.2978395061728395, 0.7166755178961541, 0.47337962962962965, tensor(1.2502)]\n",
      "Validation -  [0.4378858024691358, 0.2505144032921811, 0.6874083123761622, 0.4378858024691358, tensor(1.2782)]\n",
      "\n",
      "Epoch  987\n"
     ]
    },
    {
     "name": "stderr",
     "output_type": "stream",
     "text": [
      "81it [00:02, 39.55it/s]"
     ]
    },
    {
     "name": "stdout",
     "output_type": "stream",
     "text": [
      "['acc', 'kappa', 'auc', 'fmeasure', 'loss']\n",
      "Training Loss  1.250192575984531\n"
     ]
    },
    {
     "name": "stderr",
     "output_type": "stream",
     "text": [
      "\n"
     ]
    },
    {
     "name": "stdout",
     "output_type": "stream",
     "text": [
      "Train -  [0.47337962962962965, 0.2978395061728395, 0.7166778993928772, 0.47337962962962965, tensor(1.2502)]\n",
      "Validation -  [0.4378858024691358, 0.2505144032921811, 0.6874073200858609, 0.4378858024691358, tensor(1.2782)]\n",
      "\n",
      "Epoch  988\n"
     ]
    },
    {
     "name": "stderr",
     "output_type": "stream",
     "text": [
      "81it [00:01, 41.44it/s]"
     ]
    },
    {
     "name": "stdout",
     "output_type": "stream",
     "text": [
      "['acc', 'kappa', 'auc', 'fmeasure', 'loss']\n",
      "Training Loss  1.2501904670103097\n"
     ]
    },
    {
     "name": "stderr",
     "output_type": "stream",
     "text": [
      "\n"
     ]
    },
    {
     "name": "stdout",
     "output_type": "stream",
     "text": [
      "Train -  [0.47337962962962965, 0.2978395061728395, 0.7166805785766905, 0.47337962962962965, tensor(1.2502)]\n",
      "Validation -  [0.4378858024691358, 0.2505144032921811, 0.6874102969567648, 0.4378858024691358, tensor(1.2782)]\n",
      "\n",
      "Epoch  989\n"
     ]
    },
    {
     "name": "stderr",
     "output_type": "stream",
     "text": [
      "81it [00:02, 39.16it/s]"
     ]
    },
    {
     "name": "stdout",
     "output_type": "stream",
     "text": [
      "['acc', 'kappa', 'auc', 'fmeasure', 'loss']\n",
      "Training Loss  1.2501883845270416\n"
     ]
    },
    {
     "name": "stderr",
     "output_type": "stream",
     "text": [
      "\n"
     ]
    },
    {
     "name": "stdout",
     "output_type": "stream",
     "text": [
      "Train -  [0.47337962962962965, 0.2978395061728395, 0.7166775024767567, 0.47337962962962965, tensor(1.2502)]\n",
      "Validation -  [0.4378858024691358, 0.2505144032921811, 0.6874094038954938, 0.4378858024691358, tensor(1.2782)]\n",
      "\n",
      "Epoch  990\n"
     ]
    },
    {
     "name": "stderr",
     "output_type": "stream",
     "text": [
      "81it [00:01, 43.20it/s]"
     ]
    },
    {
     "name": "stdout",
     "output_type": "stream",
     "text": [
      "['acc', 'kappa', 'auc', 'fmeasure', 'loss']\n",
      "Training Loss  1.2501953060244337\n"
     ]
    },
    {
     "name": "stderr",
     "output_type": "stream",
     "text": [
      "\n"
     ]
    },
    {
     "name": "stdout",
     "output_type": "stream",
     "text": [
      "Train -  [0.47337962962962965, 0.2978395061728395, 0.7166778993928771, 0.47337962962962965, tensor(1.2502)]\n",
      "Validation -  [0.4378858024691358, 0.2505144032921811, 0.6874075185439212, 0.4378858024691358, tensor(1.2782)]\n",
      "\n",
      "Epoch  991\n"
     ]
    },
    {
     "name": "stderr",
     "output_type": "stream",
     "text": [
      "81it [00:02, 37.88it/s]"
     ]
    },
    {
     "name": "stdout",
     "output_type": "stream",
     "text": [
      "['acc', 'kappa', 'auc', 'fmeasure', 'loss']\n",
      "Training Loss  1.250192564210774\n"
     ]
    },
    {
     "name": "stderr",
     "output_type": "stream",
     "text": [
      "\n"
     ]
    },
    {
     "name": "stdout",
     "output_type": "stream",
     "text": [
      "Train -  [0.47337962962962965, 0.2978395061728395, 0.7166808762637809, 0.47337962962962965, tensor(1.2502)]\n",
      "Validation -  [0.4378858024691358, 0.2505144032921811, 0.6874075185439211, 0.4378858024691358, tensor(1.2782)]\n",
      "\n",
      "Epoch  992\n"
     ]
    },
    {
     "name": "stderr",
     "output_type": "stream",
     "text": [
      "81it [00:02, 40.33it/s]"
     ]
    },
    {
     "name": "stdout",
     "output_type": "stream",
     "text": [
      "['acc', 'kappa', 'auc', 'fmeasure', 'loss']\n",
      "Training Loss  1.2501953339871066\n"
     ]
    },
    {
     "name": "stderr",
     "output_type": "stream",
     "text": [
      "\n"
     ]
    },
    {
     "name": "stdout",
     "output_type": "stream",
     "text": [
      "Train -  [0.47337962962962965, 0.2978395061728395, 0.7166749225219733, 0.47337962962962965, tensor(1.2502)]\n",
      "Validation -  [0.4378858024691358, 0.2505144032921811, 0.6873973971828481, 0.4378858024691358, tensor(1.2782)]\n",
      "\n",
      "Epoch  993\n"
     ]
    },
    {
     "name": "stderr",
     "output_type": "stream",
     "text": [
      "81it [00:02, 37.88it/s]"
     ]
    },
    {
     "name": "stdout",
     "output_type": "stream",
     "text": [
      "['acc', 'kappa', 'auc', 'fmeasure', 'loss']\n",
      "Training Loss  1.2501888348732466\n"
     ]
    },
    {
     "name": "stderr",
     "output_type": "stream",
     "text": [
      "\n"
     ]
    },
    {
     "name": "stdout",
     "output_type": "stream",
     "text": [
      "Train -  [0.47337962962962965, 0.2978395061728395, 0.7166816700960219, 0.47337962962962965, tensor(1.2502)]\n",
      "Validation -  [0.4378858024691358, 0.2505144032921811, 0.6874087092922827, 0.4378858024691358, tensor(1.2782)]\n",
      "\n",
      "Epoch  994\n"
     ]
    },
    {
     "name": "stderr",
     "output_type": "stream",
     "text": [
      "81it [00:01, 41.78it/s]"
     ]
    },
    {
     "name": "stdout",
     "output_type": "stream",
     "text": [
      "['acc', 'kappa', 'auc', 'fmeasure', 'loss']\n",
      "Training Loss  1.250189322012442\n"
     ]
    },
    {
     "name": "stderr",
     "output_type": "stream",
     "text": [
      "\n"
     ]
    },
    {
     "name": "stdout",
     "output_type": "stream",
     "text": [
      "Train -  [0.47337962962962965, 0.2978395061728395, 0.7166830593024437, 0.47337962962962965, tensor(1.2502)]\n",
      "Validation -  [0.4378858024691358, 0.2505144032921811, 0.6874150599502108, 0.4378858024691358, tensor(1.2782)]\n",
      "\n",
      "Epoch  995\n"
     ]
    },
    {
     "name": "stderr",
     "output_type": "stream",
     "text": [
      "81it [00:02, 38.89it/s]\n"
     ]
    },
    {
     "name": "stdout",
     "output_type": "stream",
     "text": [
      "['acc', 'kappa', 'auc', 'fmeasure', 'loss']\n",
      "Training Loss  1.2501888893268727\n",
      "Train -  [0.47337962962962965, 0.2978395061728395, 0.7166796855154194, 0.47337962962962965, tensor(1.2502)]\n",
      "Validation -  [0.4378858024691358, 0.2505144032921811, 0.6874116861631866, 0.4378858024691358, tensor(1.2782)]\n",
      "\n",
      "Epoch  996\n"
     ]
    },
    {
     "name": "stderr",
     "output_type": "stream",
     "text": [
      "81it [00:01, 42.16it/s]"
     ]
    },
    {
     "name": "stdout",
     "output_type": "stream",
     "text": [
      "['acc', 'kappa', 'auc', 'fmeasure', 'loss']\n",
      "Training Loss  1.2501918430681582\n"
     ]
    },
    {
     "name": "stderr",
     "output_type": "stream",
     "text": [
      "\n"
     ]
    },
    {
     "name": "stdout",
     "output_type": "stream",
     "text": [
      "Train -  [0.47337962962962965, 0.2978395061728395, 0.7166775024767565, 0.47337962962962965, tensor(1.2502)]\n",
      "Validation -  [0.4378858024691358, 0.2505144032921811, 0.687408907750343, 0.4378858024691358, tensor(1.2782)]\n",
      "\n",
      "Epoch  997\n"
     ]
    },
    {
     "name": "stderr",
     "output_type": "stream",
     "text": [
      "81it [00:02, 40.26it/s]"
     ]
    },
    {
     "name": "stdout",
     "output_type": "stream",
     "text": [
      "['acc', 'kappa', 'auc', 'fmeasure', 'loss']\n",
      "Training Loss  1.2501940977426222\n"
     ]
    },
    {
     "name": "stderr",
     "output_type": "stream",
     "text": [
      "\n"
     ]
    },
    {
     "name": "stdout",
     "output_type": "stream",
     "text": [
      "Train -  [0.47337962962962965, 0.2978395061728395, 0.7166792885992987, 0.47337962962962965, tensor(1.2502)]\n",
      "Validation -  [0.4378858024691358, 0.2505144032921811, 0.6874130753696083, 0.4378858024691358, tensor(1.2782)]\n",
      "\n",
      "Epoch  998\n"
     ]
    },
    {
     "name": "stderr",
     "output_type": "stream",
     "text": [
      "81it [00:01, 43.05it/s]"
     ]
    },
    {
     "name": "stdout",
     "output_type": "stream",
     "text": [
      "['acc', 'kappa', 'auc', 'fmeasure', 'loss']\n",
      "Training Loss  1.2501901520623102\n"
     ]
    },
    {
     "name": "stderr",
     "output_type": "stream",
     "text": [
      "\n"
     ]
    },
    {
     "name": "stdout",
     "output_type": "stream",
     "text": [
      "Train -  [0.47337962962962965, 0.2978395061728395, 0.7166828608443835, 0.47337962962962965, tensor(1.2502)]\n",
      "Validation -  [0.4378858024691358, 0.2505144032921811, 0.6874148614921506, 0.4378858024691358, tensor(1.2782)]\n",
      "\n",
      "Epoch  999\n"
     ]
    },
    {
     "name": "stderr",
     "output_type": "stream",
     "text": [
      "81it [00:01, 41.63it/s]"
     ]
    },
    {
     "name": "stdout",
     "output_type": "stream",
     "text": [
      "['acc', 'kappa', 'auc', 'fmeasure', 'loss']\n",
      "Training Loss  1.2501889158178259\n"
     ]
    },
    {
     "name": "stderr",
     "output_type": "stream",
     "text": [
      "\n"
     ]
    },
    {
     "name": "stdout",
     "output_type": "stream",
     "text": [
      "Train -  [0.47337962962962965, 0.2978395061728395, 0.7166790901412387, 0.47337962962962965, tensor(1.2502)]\n",
      "Validation -  [0.4378858024691358, 0.2505144032921811, 0.687408113918102, 0.4378858024691358, tensor(1.2782)]\n"
     ]
    }
   ],
   "source": [
    "history = {\n",
    "    \"train_loss\": [],\n",
    "    \"test_loss\": [],\n",
    "    \"train_acc\": [],\n",
    "    \"test_acc\": [],\n",
    "    \"lr\": [],\n",
    "    \"train_kappa\": [],\n",
    "    \"test_kappa\": [],\n",
    "}\n",
    "batch_size = 32\n",
    "alpha = 0.5\n",
    "\n",
    "for epoch in range(1000):  # loop over the dataset multiple times\n",
    "    print(\"\\nEpoch \", epoch)\n",
    "\n",
    "    net.train()\n",
    "    running_loss = 0.0\n",
    "    for i, batch in tqdm(enumerate(train_dataloader)):\n",
    "        # print(i)\n",
    "        inputs, labels = batch\n",
    "        # inputs = torch.permute(\n",
    "        #     torch.vstack(list(map(lambda a: a.unsqueeze(0), inputs.values()))),\n",
    "        #     (1, 2, 3, 0),\n",
    "        # )\n",
    "\n",
    "        # wrap them in Variable\n",
    "        # inputs, labels = inputs.cuda(0), labels.type(torch.LongTensor).cuda(0)\n",
    "\n",
    "        # zero the parameter gradients\n",
    "        optimizer.zero_grad()\n",
    "\n",
    "        # forward + backward + optimize\n",
    "        outputs, csp_out = net(inputs.float().cuda(0))\n",
    "        cls_loss = cls_criterion(\n",
    "            outputs, labels[\"label\"].type(torch.LongTensor).cuda(0)\n",
    "        )\n",
    "        # reg_loss = reg_criterion(csp, labels[\"csp\"].cuda(0))\n",
    "        # loss = cls_loss + (alpha * reg_loss)\n",
    "        loss = cls_loss\n",
    "        loss.backward()\n",
    "\n",
    "        optimizer.step()\n",
    "\n",
    "        running_loss += loss.item()\n",
    "\n",
    "    history[\"lr\"].append(optimizer.param_groups[0][\"lr\"])\n",
    "    # print(optimizer.param_groups[0][\"lr\"])\n",
    "    lr_scheduler.step()\n",
    "\n",
    "    # Validation accuracy\n",
    "    params = [\"acc\", \"kappa\", \"auc\", \"fmeasure\", \"loss\"]\n",
    "    print(params)\n",
    "    print(\"Training Loss \", running_loss / len(train_dataloader))\n",
    "    tr = evaluate(net, train_dataloader, params)\n",
    "    print(\"Train - \", tr)\n",
    "    ev = evaluate(net, val_dataloader, params)\n",
    "    print(\"Validation - \", ev)\n",
    "    history[\"train_loss\"].append(tr[-1])\n",
    "    history[\"train_acc\"].append(tr[0])\n",
    "    history[\"train_kappa\"].append(tr[1])\n",
    "\n",
    "    history[\"test_loss\"].append(ev[-1])\n",
    "    history[\"test_acc\"].append(ev[0])\n",
    "    history[\"test_kappa\"].append(ev[1])"
   ]
  },
  {
   "cell_type": "code",
   "execution_count": null,
   "id": "9f8190fb-6f62-4f3f-8377-acedc4cc27b4",
   "metadata": {},
   "outputs": [],
   "source": [
    "{k: history[k][-1] for k in history.keys()}"
   ]
  },
  {
   "cell_type": "code",
   "execution_count": 23,
   "id": "e9b93063-2fe0-44db-b159-8fdf5e5e8bff",
   "metadata": {},
   "outputs": [
    {
     "data": {
      "text/plain": [
       "{'train_loss': tensor(1.2604),\n",
       " 'test_loss': tensor(1.2831),\n",
       " 'train_acc': 0.4556327160493827,\n",
       " 'test_acc': 0.44058641975308643,\n",
       " 'lr': 0.0001,\n",
       " 'train_kappa': 0.27417695473251025,\n",
       " 'test_kappa': 0.25411522633744854}"
      ]
     },
     "execution_count": 23,
     "metadata": {},
     "output_type": "execute_result"
    }
   ],
   "source": [
    "idx = np.argmax(history[\"test_acc\"])\n",
    "{k: history[k][idx] for k in history.keys()}"
   ]
  },
  {
   "cell_type": "code",
   "execution_count": 32,
   "id": "c59bb8f8-f97e-4339-a2e8-99d0948b3935",
   "metadata": {},
   "outputs": [
    {
     "data": {
      "text/plain": [
       "{'train_loss': tensor(1.2596),\n",
       " 'test_loss': tensor(1.2690),\n",
       " 'train_acc': 0.47183641975308643,\n",
       " 'test_acc': 0.4548611111111111,\n",
       " 'lr': 0.0001,\n",
       " 'train_kappa': 0.2957818930041153,\n",
       " 'test_kappa': 0.27314814814814814}"
      ]
     },
     "execution_count": 32,
     "metadata": {},
     "output_type": "execute_result"
    }
   ],
   "source": [
    "idx = np.argmax(history[\"test_acc\"])\n",
    "{k: history[k][idx] for k in history.keys()}"
   ]
  },
  {
   "cell_type": "code",
   "execution_count": 25,
   "id": "504a9078-81aa-4aba-a8bf-627b4dc4b37c",
   "metadata": {},
   "outputs": [],
   "source": [
    "import matplotlib.pyplot as plt"
   ]
  },
  {
   "cell_type": "code",
   "execution_count": null,
   "id": "53e086b3-85de-49fc-a064-8f9e275b52d5",
   "metadata": {},
   "outputs": [],
   "source": [
    "plt.plot([i for i in range(len(history[\"lr\"]))], history[\"lr\"])"
   ]
  },
  {
   "cell_type": "code",
   "execution_count": 35,
   "id": "ddb4504e-69d5-4165-a017-09300f213648",
   "metadata": {},
   "outputs": [
    {
     "data": {
      "image/png": "[encoded data removed]",
      "text/plain": [
       "<Figure size 1200x600 with 6 Axes>"
      ]
     },
     "metadata": {},
     "output_type": "display_data"
    }
   ],
   "source": [
    "fig, axs = plt.subplots(2, 3, figsize=(12, 6))\n",
    "\n",
    "for i, title in enumerate(\n",
    "    [\n",
    "        \"train_loss\",\n",
    "        \"train_acc\",\n",
    "        \"train_kappa\",\n",
    "        \"test_loss\",\n",
    "        \"test_acc\",\n",
    "        \"test_kappa\",\n",
    "    ]\n",
    "):\n",
    "    axs[i // 3, i % 3].plot([i for i in range(len(history[title]))], history[title])\n",
    "    axs[i // 3, i % 3].set_title(title)\n",
    "\n",
    "for ax in axs.flat:\n",
    "    ax.set(xlabel=\"epochs\", ylabel=\"\")\n",
    "\n",
    "# Hide x labels and tick labels for top plots and y ticks for right plots.\n",
    "for ax in axs.flat:\n",
    "    ax.label_outer()"
   ]
  },
  {
   "cell_type": "code",
   "execution_count": 26,
   "id": "cae33957-2e1b-4422-98c0-211fc407b0c8",
   "metadata": {},
   "outputs": [
    {
     "data": {
      "image/png": "[encoded data removed]",
      "text/plain": [
       "<Figure size 1200x600 with 6 Axes>"
      ]
     },
     "metadata": {},
     "output_type": "display_data"
    }
   ],
   "source": [
    "fig, axs = plt.subplots(2, 3, figsize=(12, 6))\n",
    "\n",
    "for i, title in enumerate(\n",
    "    [\n",
    "        \"train_loss\",\n",
    "        \"train_acc\",\n",
    "        \"train_kappa\",\n",
    "        \"test_loss\",\n",
    "        \"test_acc\",\n",
    "        \"test_kappa\",\n",
    "    ]\n",
    "):\n",
    "    axs[i // 3, i % 3].plot([i for i in range(len(history[title]))], history[title])\n",
    "    axs[i // 3, i % 3].set_title(title)\n",
    "\n",
    "for ax in axs.flat:\n",
    "    ax.set(xlabel=\"epochs\", ylabel=\"\")\n",
    "\n",
    "# Hide x labels and tick labels for top plots and y ticks for right plots.\n",
    "for ax in axs.flat:\n",
    "    ax.label_outer()"
   ]
  }
 ],
 "metadata": {
  "kernelspec": {
   "display_name": "Python 3 (ipykernel)",
   "language": "python",
   "name": "python3"
  },
  "language_info": {
   "codemirror_mode": {
    "name": "ipython",
    "version": 3
   },
   "file_extension": ".py",
   "mimetype": "text/x-python",
   "name": "python",
   "nbconvert_exporter": "python",
   "pygments_lexer": "ipython3",
   "version": "3.8.10"
  }
 },
 "nbformat": 4,
 "nbformat_minor": 5
}
